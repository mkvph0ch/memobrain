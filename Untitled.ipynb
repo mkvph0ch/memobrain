{
 "cells": [
  {
   "cell_type": "code",
   "execution_count": 1,
   "id": "5afce3f4",
   "metadata": {},
   "outputs": [],
   "source": [
    "import pandas as pd\n",
    "import cv2\n",
    "import glob\n",
    "import numpy as np\n",
    "import nibabel as nib\n",
    "import tensorflow as tf\n",
    "import matplotlib.pyplot as plt\n",
    "# from wand.image import Image\n",
    "import pickle"
   ]
  },
  {
   "cell_type": "code",
   "execution_count": 2,
   "id": "216c7f2e",
   "metadata": {},
   "outputs": [],
   "source": [
    "oas1 = 'raw_data/OASIS1/oas1_concat_df'\n",
    "oas2 = 'raw_data/OASIS2/oas2_concat.pkl'"
   ]
  },
  {
   "cell_type": "code",
   "execution_count": 3,
   "id": "0302c4fb",
   "metadata": {},
   "outputs": [],
   "source": [
    "with open(oas1, 'rb') as oas1_file:\n",
    "    oas1_df = pickle.load(oas1_file)\n",
    "# oas2_df = pickle.load(oas2)"
   ]
  },
  {
   "cell_type": "code",
   "execution_count": 4,
   "id": "cfc3d361",
   "metadata": {},
   "outputs": [],
   "source": [
    "with open(oas2, 'rb') as oas2_file:\n",
    "    oas2_df = pickle.load(oas2_file)"
   ]
  },
  {
   "cell_type": "code",
   "execution_count": 5,
   "id": "4dcd950b",
   "metadata": {},
   "outputs": [],
   "source": [
    "oas12_df = pd.concat((oas1_df, oas2_df), join = 'outer')#"
   ]
  },
  {
   "cell_type": "code",
   "execution_count": 6,
   "id": "e9635265",
   "metadata": {},
   "outputs": [],
   "source": [
    "oas12_df.reset_index(drop = True, inplace = True)"
   ]
  },
  {
   "cell_type": "code",
   "execution_count": 35,
   "id": "73ceab93",
   "metadata": {},
   "outputs": [],
   "source": [
    "from sklearn.model_selection import train_test_split\n",
    "\n",
    "from tensorflow.keras.callbacks import EarlyStopping\n",
    "from tensorflow.keras.models import Sequential\n",
    "from tensorflow.keras.layers import Conv2D, Dense, Activation, Flatten, MaxPooling2D, Dropout\n",
    "from tensorflow.keras.metrics import Recall, Precision\n",
    "\n"
   ]
  },
  {
   "cell_type": "code",
   "execution_count": 10,
   "id": "d3d1878e",
   "metadata": {},
   "outputs": [],
   "source": [
    "X = np.array([x for x in oas12_df.concated])\n",
    "y = np.array(oas12_df.CDR)"
   ]
  },
  {
   "cell_type": "code",
   "execution_count": 16,
   "id": "bf50c202",
   "metadata": {},
   "outputs": [],
   "source": [
    "fileX = open('OAS12_X.txt', mode='wb')\n",
    "filey = open('OAS12_y.txt', mode='wb')"
   ]
  },
  {
   "cell_type": "code",
   "execution_count": 17,
   "id": "2861d292",
   "metadata": {},
   "outputs": [],
   "source": [
    "X.tofile(fileX)"
   ]
  },
  {
   "cell_type": "code",
   "execution_count": 18,
   "id": "1245d509",
   "metadata": {},
   "outputs": [],
   "source": [
    "y.tofile(filey)\n"
   ]
  },
  {
   "cell_type": "code",
   "execution_count": 37,
   "id": "507820cf",
   "metadata": {},
   "outputs": [
    {
     "data": {
      "text/plain": [
       "0    1280\n",
       "1    1001\n",
       "dtype: int64"
      ]
     },
     "execution_count": 37,
     "metadata": {},
     "output_type": "execute_result"
    }
   ],
   "source": [
    "pd.DataFrame(y).value_counts()"
   ]
  },
  {
   "cell_type": "code",
   "execution_count": 32,
   "id": "3b49e0c7",
   "metadata": {},
   "outputs": [
    {
     "name": "stdout",
     "output_type": "stream",
     "text": [
      "/Users/guehojang/code/Gueho/mkvph0ch/memobrain\r\n"
     ]
    }
   ],
   "source": [
    "! pwd"
   ]
  },
  {
   "cell_type": "code",
   "execution_count": 36,
   "id": "2f336c00",
   "metadata": {},
   "outputs": [
    {
     "ename": "FileNotFoundError",
     "evalue": "[Errno 2] No such file or directory: '/Users/guehojang/code/Gueho/mkvph0ch/memobrain/raw_data/OAS12_y'",
     "output_type": "error",
     "traceback": [
      "\u001b[0;31m---------------------------------------------------------------------------\u001b[0m",
      "\u001b[0;31mFileNotFoundError\u001b[0m                         Traceback (most recent call last)",
      "Input \u001b[0;32mIn [36]\u001b[0m, in \u001b[0;36m<cell line: 2>\u001b[0;34m()\u001b[0m\n\u001b[1;32m      1\u001b[0m y_file \u001b[38;5;241m=\u001b[39m \u001b[38;5;124m\"\u001b[39m\u001b[38;5;124m/Users/guehojang/code/Gueho/mkvph0ch/memobrain/raw_data/OAS12_y\u001b[39m\u001b[38;5;124m\"\u001b[39m\n\u001b[0;32m----> 2\u001b[0m \u001b[38;5;28;01mwith\u001b[39;00m \u001b[38;5;28;43mopen\u001b[39;49m\u001b[43m(\u001b[49m\u001b[43my_file\u001b[49m\u001b[43m,\u001b[49m\u001b[43m \u001b[49m\u001b[38;5;124;43m'\u001b[39;49m\u001b[38;5;124;43mrb\u001b[39;49m\u001b[38;5;124;43m'\u001b[39;49m\u001b[43m)\u001b[49m \u001b[38;5;28;01mas\u001b[39;00m file_y:\n\u001b[1;32m      3\u001b[0m     yy \u001b[38;5;241m=\u001b[39m np\u001b[38;5;241m.\u001b[39mfromfile(file_y)\n",
      "\u001b[0;31mFileNotFoundError\u001b[0m: [Errno 2] No such file or directory: '/Users/guehojang/code/Gueho/mkvph0ch/memobrain/raw_data/OAS12_y'"
     ]
    }
   ],
   "source": [
    "y_file = \"/Users/guehojang/code/Gueho/mkvph0ch/memobrain/raw_data/OAS12_y\"\n",
    "with open(y_file, 'rb') as file_y:\n",
    "    yy = np.fromfile(file_y)"
   ]
  },
  {
   "cell_type": "code",
   "execution_count": 22,
   "id": "2c3ae33b",
   "metadata": {},
   "outputs": [
    {
     "ename": "FileNotFoundError",
     "evalue": "[Errno 2] No such file or directory: 'OAS12_X'",
     "output_type": "error",
     "traceback": [
      "\u001b[0;31m---------------------------------------------------------------------------\u001b[0m",
      "\u001b[0;31mFileNotFoundError\u001b[0m                         Traceback (most recent call last)",
      "Input \u001b[0;32mIn [22]\u001b[0m, in \u001b[0;36m<cell line: 1>\u001b[0;34m()\u001b[0m\n\u001b[0;32m----> 1\u001b[0m XXX \u001b[38;5;241m=\u001b[39m \u001b[43mnp\u001b[49m\u001b[38;5;241;43m.\u001b[39;49m\u001b[43mfromfile\u001b[49m\u001b[43m(\u001b[49m\u001b[38;5;124;43m'\u001b[39;49m\u001b[38;5;124;43mOAS12_X\u001b[39;49m\u001b[38;5;124;43m'\u001b[39;49m\u001b[43m)\u001b[49m\n",
      "\u001b[0;31mFileNotFoundError\u001b[0m: [Errno 2] No such file or directory: 'OAS12_X'"
     ]
    }
   ],
   "source": [
    "XXX = np.fromfile('OAS12_X')"
   ]
  },
  {
   "cell_type": "code",
   "execution_count": 38,
   "id": "9f380297",
   "metadata": {},
   "outputs": [
    {
     "data": {
      "text/plain": [
       "((2281, 256, 572, 1), (2281,))"
      ]
     },
     "execution_count": 38,
     "metadata": {},
     "output_type": "execute_result"
    }
   ],
   "source": [
    "X.shape, y.shape"
   ]
  },
  {
   "cell_type": "code",
   "execution_count": 29,
   "id": "c4afbec4",
   "metadata": {},
   "outputs": [],
   "source": [
    "X_train, X_test, y_train, y_test = train_test_split(X, y)"
   ]
  },
  {
   "cell_type": "code",
   "execution_count": 40,
   "id": "2428d638",
   "metadata": {},
   "outputs": [],
   "source": [
    "#input_shape = (256,256,1) #(208,176,1)\n",
    "\n",
    "model = Sequential()\n",
    "model.add(Conv2D(64, kernel_size=(3, 3), strides=(10,10),\n",
    "                 activation='sigmoid', padding ='same',\n",
    "                 input_shape=X.shape[1:]))\n",
    "model.add(MaxPooling2D(pool_size=(2, 2), padding='valid'))\n",
    "model.add(Conv2D(32, (3, 3), activation='sigmoid', strides=(5,5), padding ='same'))\n",
    "model.add(MaxPooling2D(pool_size=(2, 2), padding='valid'))\n",
    "model.add(Conv2D(16, kernel_size=(3,3), activation='sigmoid', strides = (1,1), padding ='same'))\n",
    "model.add(MaxPooling2D(pool_size=(1, 1), padding='valid'))\n",
    "model.add(Flatten())\n",
    "model.add(Dense(1, activation='sigmoid'))\n",
    "\n",
    "es = EarlyStopping(monitor='loss',\n",
    "                   min_delta=0,\n",
    "                   patience=10,\n",
    "                   verbose=0,\n",
    "                   mode='auto') # stop when loss no longer improving\n",
    "\n",
    "model.compile(loss='binary_crossentropy', \n",
    "              optimizer='adam', \n",
    "              metrics=['accuracy', 'recall', 'precision'])"
   ]
  },
  {
   "cell_type": "code",
   "execution_count": 41,
   "id": "1b578aea",
   "metadata": {},
   "outputs": [
    {
     "name": "stdout",
     "output_type": "stream",
     "text": [
      "Model: \"sequential_7\"\n",
      "_________________________________________________________________\n",
      " Layer (type)                Output Shape              Param #   \n",
      "=================================================================\n",
      " conv2d_18 (Conv2D)          (None, 26, 58, 64)        640       \n",
      "                                                                 \n",
      " max_pooling2d_18 (MaxPoolin  (None, 13, 29, 64)       0         \n",
      " g2D)                                                            \n",
      "                                                                 \n",
      " conv2d_19 (Conv2D)          (None, 3, 6, 32)          18464     \n",
      "                                                                 \n",
      " max_pooling2d_19 (MaxPoolin  (None, 1, 3, 32)         0         \n",
      " g2D)                                                            \n",
      "                                                                 \n",
      " conv2d_20 (Conv2D)          (None, 1, 3, 16)          4624      \n",
      "                                                                 \n",
      " max_pooling2d_20 (MaxPoolin  (None, 1, 3, 16)         0         \n",
      " g2D)                                                            \n",
      "                                                                 \n",
      " flatten_6 (Flatten)         (None, 48)                0         \n",
      "                                                                 \n",
      " dense_6 (Dense)             (None, 1)                 49        \n",
      "                                                                 \n",
      "=================================================================\n",
      "Total params: 23,777\n",
      "Trainable params: 23,777\n",
      "Non-trainable params: 0\n",
      "_________________________________________________________________\n"
     ]
    }
   ],
   "source": [
    "model.summary()"
   ]
  },
  {
   "cell_type": "code",
   "execution_count": null,
   "id": "06cede21",
   "metadata": {},
   "outputs": [],
   "source": [
    "model.fit(X_train, y_train, \n",
    "          epochs=50, \n",
    "          batch_size=16)"
   ]
  },
  {
   "cell_type": "code",
   "execution_count": null,
   "id": "b2fe271a",
   "metadata": {},
   "outputs": [],
   "source": []
  }
 ],
 "metadata": {
  "kernelspec": {
   "display_name": "Python 3 (ipykernel)",
   "language": "python",
   "name": "python3"
  },
  "language_info": {
   "codemirror_mode": {
    "name": "ipython",
    "version": 3
   },
   "file_extension": ".py",
   "mimetype": "text/x-python",
   "name": "python",
   "nbconvert_exporter": "python",
   "pygments_lexer": "ipython3",
   "version": "3.8.12"
  },
  "toc": {
   "base_numbering": 1,
   "nav_menu": {},
   "number_sections": true,
   "sideBar": true,
   "skip_h1_title": false,
   "title_cell": "Table of Contents",
   "title_sidebar": "Contents",
   "toc_cell": false,
   "toc_position": {},
   "toc_section_display": true,
   "toc_window_display": false
  }
 },
 "nbformat": 4,
 "nbformat_minor": 5
}
