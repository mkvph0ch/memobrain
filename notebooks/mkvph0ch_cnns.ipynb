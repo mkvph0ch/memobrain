{
 "cells": [
  {
   "cell_type": "markdown",
   "id": "2bb6a9f5-05f1-4475-921a-be19cdb4c6cd",
   "metadata": {
    "tags": []
   },
   "source": [
    "# Import Packages"
   ]
  },
  {
   "cell_type": "code",
   "execution_count": 3,
   "id": "bd3560a3-2378-4c61-8dd3-545d9b8fc243",
   "metadata": {},
   "outputs": [],
   "source": [
    "from tensorflow.keras.applications.vgg16 import VGG16"
   ]
  },
  {
   "cell_type": "code",
   "execution_count": 6,
   "id": "da995092-5ebd-486f-9b09-e3795fe68415",
   "metadata": {},
   "outputs": [],
   "source": [
    "import numpy as np\n",
    "import pandas as pd\n",
    "import matplotlib.pyplot as plt\n",
    "import seaborn as sns\n",
    "from tensorflow.keras.callbacks import EarlyStopping"
   ]
  },
  {
   "cell_type": "code",
   "execution_count": 2,
   "id": "747aab47-e24e-44e5-8953-8e9759cc8d80",
   "metadata": {},
   "outputs": [],
   "source": [
    "%matplotlib inline"
   ]
  },
  {
   "cell_type": "markdown",
   "id": "f403a0b4-8860-4dfc-a5a3-16540cf45473",
   "metadata": {},
   "source": [
    "# Introduction"
   ]
  },
  {
   "cell_type": "markdown",
   "id": "5b0a99e3-65c9-4796-9c46-7dc6e0212923",
   "metadata": {},
   "source": [
    "Clinical Dementia Ratings (CDR) are provided in the dataset with the following attributions:\n",
    "\n",
    "    0 = no dementia, 0.5 = very mild AD, 1 = mild AD, 2 = moderate AD\n",
    "\n",
    "For the purpose of analysis, all patients with a CDR of 0 are giving a diagnosis of 0, denoting cognitively healthy. CDR ratings above 0 are converted to 1, for an AD diagnosis, and binary classification.\n",
    "\n",
    "diagnosis_qual={0.:'normal', 0.5:'AD', 1.:'AD', 2.:'AD' }\n"
   ]
  },
  {
   "cell_type": "markdown",
   "id": "84427666-7bbb-4d66-9204-a1e107d4a3ea",
   "metadata": {},
   "source": [
    "# Load Diagnosis"
   ]
  },
  {
   "cell_type": "code",
   "execution_count": null,
   "id": "5cc31296-bd20-47bb-b696-5f2a239eaf6e",
   "metadata": {},
   "outputs": [],
   "source": []
  },
  {
   "cell_type": "markdown",
   "id": "e64f6470-2fc7-40ff-bd8b-4b0175850b85",
   "metadata": {},
   "source": [
    "# Load MRI Images"
   ]
  },
  {
   "cell_type": "code",
   "execution_count": 3,
   "id": "7d3ef4a8-dd69-4668-9320-dc8a2e4e8b57",
   "metadata": {},
   "outputs": [],
   "source": [
    "# find all Data, e.g. in OASIS 1"
   ]
  },
  {
   "cell_type": "markdown",
   "id": "a2d86302-963d-48a1-986d-ecad49b33ca6",
   "metadata": {},
   "source": [
    "# Plot Images"
   ]
  },
  {
   "cell_type": "code",
   "execution_count": null,
   "id": "e0ca566f-49d3-44c9-af21-726c95ae4ec4",
   "metadata": {},
   "outputs": [],
   "source": []
  },
  {
   "cell_type": "markdown",
   "id": "2d69e5b3-e3c7-4338-9c37-61b760f8f75c",
   "metadata": {},
   "source": [
    "# Preprocess MRI Images"
   ]
  },
  {
   "cell_type": "code",
   "execution_count": 5,
   "id": "57ac0050-e2d3-47ce-9b85-a027ab429585",
   "metadata": {},
   "outputs": [],
   "source": [
    "# grayscale\n",
    "# reshape\n",
    "# test_train_split"
   ]
  },
  {
   "cell_type": "markdown",
   "id": "919a063f-9066-4a6a-8c47-1957cf9d174f",
   "metadata": {},
   "source": [
    "# Convolutional neural network"
   ]
  },
  {
   "cell_type": "code",
   "execution_count": null,
   "id": "066f6e7f-f468-499a-8e47-ea264a00a33a",
   "metadata": {},
   "outputs": [],
   "source": [
    "#input_shape = (256,256,1) #(208,176,1)\n",
    "\n",
    "model = Sequential()\n",
    "model.add(Conv2D(100, kernel_size=(3, 3), strides=(10,10),\n",
    "                 activation='sigmoid', padding ='same',\n",
    "                 input_shape=input_shape))\n",
    "model.add(MaxPooling2D(pool_size=(2, 2), padding='valid'))\n",
    "model.add(Conv2D(50, (3, 3), activation='sigmoid', strides=(5,5), padding ='same'))\n",
    "model.add(MaxPooling2D(pool_size=(2, 2), padding='valid'))\n",
    "model.add(Conv2D(25, kernel_size=(3,3), activation='sigmoid', strides = (1,1), padding ='same'))\n",
    "model.add(MaxPooling2D(pool_size=(1, 1), padding='valid'))\n",
    "model.add(Flatten())\n",
    "model.add(Dense(1, activation='sigmoid'))\n",
    "\n",
    "EarlyStopping = EarlyStopping(monitor='loss', \n",
    "                              min_delta=0, \n",
    "                              patience=10, \n",
    "                              verbose=0, \n",
    "                              mode='auto') # stop when loss no longer improving\n",
    "\n",
    "model.compile(loss='binary_crossentropy', \n",
    "              optimizer='adam', \n",
    "              metrics=['accuracy', 'recall', 'precision'])\n",
    "\n",
    "model.fit(x_train, y_train, \n",
    "          epochs=600, \n",
    "          batch_size=32, \n",
    "          callbacks=[EarlyStopping])\n"
   ]
  }
 ],
 "metadata": {
  "kernelspec": {
   "display_name": "Python 3 (ipykernel)",
   "language": "python",
   "name": "python3"
  },
  "language_info": {
   "codemirror_mode": {
    "name": "ipython",
    "version": 3
   },
   "file_extension": ".py",
   "mimetype": "text/x-python",
   "name": "python",
   "nbconvert_exporter": "python",
   "pygments_lexer": "ipython3",
   "version": "3.8.12"
  },
  "toc": {
   "base_numbering": 1,
   "nav_menu": {},
   "number_sections": true,
   "sideBar": true,
   "skip_h1_title": false,
   "title_cell": "Table of Contents",
   "title_sidebar": "Contents",
   "toc_cell": false,
   "toc_position": {},
   "toc_section_display": true,
   "toc_window_display": false
  }
 },
 "nbformat": 4,
 "nbformat_minor": 5
}
