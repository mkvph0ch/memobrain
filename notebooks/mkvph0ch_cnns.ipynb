{
 "cells": [
  {
   "cell_type": "code",
   "execution_count": 3,
   "id": "bd3560a3-2378-4c61-8dd3-545d9b8fc243",
   "metadata": {},
   "outputs": [],
   "source": [
    "from tensorflow.keras.applications.vgg16 import VGG16"
   ]
  },
  {
   "cell_type": "code",
   "execution_count": 2,
   "id": "9bbbed3d-c35c-4bc2-8a46-0e7d3b264139",
   "metadata": {},
   "outputs": [],
   "source": [
    "import ipywidgets as widgets\n",
    "%matplotlib widget"
   ]
  },
  {
   "cell_type": "code",
   "execution_count": 12,
   "id": "ceb8e222-d1ce-485b-89a5-27ee0f52f473",
   "metadata": {
    "collapsed": true,
    "jupyter": {
     "outputs_hidden": true
    },
    "tags": []
   },
   "outputs": [
    {
     "name": "stdout",
     "output_type": "stream",
     "text": [
      "Collecting ipympl\n",
      "  Downloading ipympl-0.8.8-py2.py3-none-any.whl (507 kB)\n",
      "\u001b[2K     \u001b[90m━━━━━━━━━━━━━━━━━━━━━━━━━━━━━━━━━━━━━━━\u001b[0m \u001b[32m507.8/507.8 KB\u001b[0m \u001b[31m3.5 MB/s\u001b[0m eta \u001b[36m0:00:00\u001b[0m00:01\u001b[0m00:01\u001b[0m\n",
      "\u001b[?25hRequirement already satisfied: matplotlib<4,>=2.0.0 in /Users/mkv/.pyenv/versions/3.8.12/envs/memobrain/lib/python3.8/site-packages (from ipympl) (3.5.1)\n",
      "Requirement already satisfied: ipython<9 in /Users/mkv/.pyenv/versions/3.8.12/envs/memobrain/lib/python3.8/site-packages (from ipympl) (8.1.0)\n",
      "Requirement already satisfied: numpy in /Users/mkv/.pyenv/versions/3.8.12/envs/memobrain/lib/python3.8/site-packages (from ipympl) (1.22.2)\n",
      "Requirement already satisfied: pillow in /Users/mkv/.pyenv/versions/3.8.12/envs/memobrain/lib/python3.8/site-packages (from ipympl) (9.0.1)\n",
      "Requirement already satisfied: traitlets<6 in /Users/mkv/.pyenv/versions/3.8.12/envs/memobrain/lib/python3.8/site-packages (from ipympl) (5.1.1)\n",
      "Requirement already satisfied: ipython-genutils in /Users/mkv/.pyenv/versions/3.8.12/envs/memobrain/lib/python3.8/site-packages (from ipympl) (0.2.0)\n",
      "Requirement already satisfied: ipywidgets<8,>=7.6.0 in /Users/mkv/.pyenv/versions/3.8.12/envs/memobrain/lib/python3.8/site-packages (from ipympl) (7.6.5)\n",
      "Requirement already satisfied: prompt-toolkit!=3.0.0,!=3.0.1,<3.1.0,>=2.0.0 in /Users/mkv/.pyenv/versions/3.8.12/envs/memobrain/lib/python3.8/site-packages (from ipython<9->ipympl) (3.0.28)\n",
      "Requirement already satisfied: pickleshare in /Users/mkv/.pyenv/versions/3.8.12/envs/memobrain/lib/python3.8/site-packages (from ipython<9->ipympl) (0.7.5)\n",
      "Requirement already satisfied: stack-data in /Users/mkv/.pyenv/versions/3.8.12/envs/memobrain/lib/python3.8/site-packages (from ipython<9->ipympl) (0.2.0)\n",
      "Requirement already satisfied: pexpect>4.3 in /Users/mkv/.pyenv/versions/3.8.12/envs/memobrain/lib/python3.8/site-packages (from ipython<9->ipympl) (4.8.0)\n",
      "Requirement already satisfied: jedi>=0.16 in /Users/mkv/.pyenv/versions/3.8.12/envs/memobrain/lib/python3.8/site-packages (from ipython<9->ipympl) (0.18.1)\n",
      "Requirement already satisfied: appnope in /Users/mkv/.pyenv/versions/3.8.12/envs/memobrain/lib/python3.8/site-packages (from ipython<9->ipympl) (0.1.2)\n",
      "Requirement already satisfied: decorator in /Users/mkv/.pyenv/versions/3.8.12/envs/memobrain/lib/python3.8/site-packages (from ipython<9->ipympl) (5.1.1)\n",
      "Requirement already satisfied: setuptools>=18.5 in /Users/mkv/.pyenv/versions/3.8.12/envs/memobrain/lib/python3.8/site-packages (from ipython<9->ipympl) (56.0.0)\n",
      "Requirement already satisfied: matplotlib-inline in /Users/mkv/.pyenv/versions/3.8.12/envs/memobrain/lib/python3.8/site-packages (from ipython<9->ipympl) (0.1.3)\n",
      "Requirement already satisfied: pygments>=2.4.0 in /Users/mkv/.pyenv/versions/3.8.12/envs/memobrain/lib/python3.8/site-packages (from ipython<9->ipympl) (2.11.2)\n",
      "Requirement already satisfied: backcall in /Users/mkv/.pyenv/versions/3.8.12/envs/memobrain/lib/python3.8/site-packages (from ipython<9->ipympl) (0.2.0)\n",
      "Requirement already satisfied: widgetsnbextension~=3.5.0 in /Users/mkv/.pyenv/versions/3.8.12/envs/memobrain/lib/python3.8/site-packages (from ipywidgets<8,>=7.6.0->ipympl) (3.5.2)\n",
      "Requirement already satisfied: jupyterlab-widgets>=1.0.0 in /Users/mkv/.pyenv/versions/3.8.12/envs/memobrain/lib/python3.8/site-packages (from ipywidgets<8,>=7.6.0->ipympl) (1.0.2)\n",
      "Requirement already satisfied: ipykernel>=4.5.1 in /Users/mkv/.pyenv/versions/3.8.12/envs/memobrain/lib/python3.8/site-packages (from ipywidgets<8,>=7.6.0->ipympl) (6.9.1)\n",
      "Requirement already satisfied: nbformat>=4.2.0 in /Users/mkv/.pyenv/versions/3.8.12/envs/memobrain/lib/python3.8/site-packages (from ipywidgets<8,>=7.6.0->ipympl) (5.1.3)\n",
      "Requirement already satisfied: cycler>=0.10 in /Users/mkv/.pyenv/versions/3.8.12/envs/memobrain/lib/python3.8/site-packages (from matplotlib<4,>=2.0.0->ipympl) (0.11.0)\n",
      "Requirement already satisfied: python-dateutil>=2.7 in /Users/mkv/.pyenv/versions/3.8.12/envs/memobrain/lib/python3.8/site-packages (from matplotlib<4,>=2.0.0->ipympl) (2.8.2)\n",
      "Requirement already satisfied: fonttools>=4.22.0 in /Users/mkv/.pyenv/versions/3.8.12/envs/memobrain/lib/python3.8/site-packages (from matplotlib<4,>=2.0.0->ipympl) (4.29.1)\n",
      "Requirement already satisfied: pyparsing>=2.2.1 in /Users/mkv/.pyenv/versions/3.8.12/envs/memobrain/lib/python3.8/site-packages (from matplotlib<4,>=2.0.0->ipympl) (3.0.7)\n",
      "Requirement already satisfied: packaging>=20.0 in /Users/mkv/.pyenv/versions/3.8.12/envs/memobrain/lib/python3.8/site-packages (from matplotlib<4,>=2.0.0->ipympl) (21.3)\n",
      "Requirement already satisfied: kiwisolver>=1.0.1 in /Users/mkv/.pyenv/versions/3.8.12/envs/memobrain/lib/python3.8/site-packages (from matplotlib<4,>=2.0.0->ipympl) (1.3.2)\n",
      "Requirement already satisfied: debugpy<2.0,>=1.0.0 in /Users/mkv/.pyenv/versions/3.8.12/envs/memobrain/lib/python3.8/site-packages (from ipykernel>=4.5.1->ipywidgets<8,>=7.6.0->ipympl) (1.5.1)\n",
      "Requirement already satisfied: nest-asyncio in /Users/mkv/.pyenv/versions/3.8.12/envs/memobrain/lib/python3.8/site-packages (from ipykernel>=4.5.1->ipywidgets<8,>=7.6.0->ipympl) (1.5.4)\n",
      "Requirement already satisfied: tornado<7.0,>=4.2 in /Users/mkv/.pyenv/versions/3.8.12/envs/memobrain/lib/python3.8/site-packages (from ipykernel>=4.5.1->ipywidgets<8,>=7.6.0->ipympl) (6.1)\n",
      "Requirement already satisfied: jupyter-client<8.0 in /Users/mkv/.pyenv/versions/3.8.12/envs/memobrain/lib/python3.8/site-packages (from ipykernel>=4.5.1->ipywidgets<8,>=7.6.0->ipympl) (7.1.2)\n",
      "Requirement already satisfied: parso<0.9.0,>=0.8.0 in /Users/mkv/.pyenv/versions/3.8.12/envs/memobrain/lib/python3.8/site-packages (from jedi>=0.16->ipython<9->ipympl) (0.8.3)\n",
      "Requirement already satisfied: jsonschema!=2.5.0,>=2.4 in /Users/mkv/.pyenv/versions/3.8.12/envs/memobrain/lib/python3.8/site-packages (from nbformat>=4.2.0->ipywidgets<8,>=7.6.0->ipympl) (4.4.0)\n",
      "Requirement already satisfied: jupyter-core in /Users/mkv/.pyenv/versions/3.8.12/envs/memobrain/lib/python3.8/site-packages (from nbformat>=4.2.0->ipywidgets<8,>=7.6.0->ipympl) (4.9.2)\n",
      "Requirement already satisfied: ptyprocess>=0.5 in /Users/mkv/.pyenv/versions/3.8.12/envs/memobrain/lib/python3.8/site-packages (from pexpect>4.3->ipython<9->ipympl) (0.7.0)\n",
      "Requirement already satisfied: wcwidth in /Users/mkv/.pyenv/versions/3.8.12/envs/memobrain/lib/python3.8/site-packages (from prompt-toolkit!=3.0.0,!=3.0.1,<3.1.0,>=2.0.0->ipython<9->ipympl) (0.2.5)\n",
      "Requirement already satisfied: six>=1.5 in /Users/mkv/.pyenv/versions/3.8.12/envs/memobrain/lib/python3.8/site-packages (from python-dateutil>=2.7->matplotlib<4,>=2.0.0->ipympl) (1.16.0)\n",
      "Requirement already satisfied: notebook>=4.4.1 in /Users/mkv/.pyenv/versions/3.8.12/envs/memobrain/lib/python3.8/site-packages (from widgetsnbextension~=3.5.0->ipywidgets<8,>=7.6.0->ipympl) (6.4.8)\n",
      "Requirement already satisfied: pure-eval in /Users/mkv/.pyenv/versions/3.8.12/envs/memobrain/lib/python3.8/site-packages (from stack-data->ipython<9->ipympl) (0.2.2)\n",
      "Requirement already satisfied: asttokens in /Users/mkv/.pyenv/versions/3.8.12/envs/memobrain/lib/python3.8/site-packages (from stack-data->ipython<9->ipympl) (2.0.5)\n",
      "Requirement already satisfied: executing in /Users/mkv/.pyenv/versions/3.8.12/envs/memobrain/lib/python3.8/site-packages (from stack-data->ipython<9->ipympl) (0.8.3)\n",
      "Requirement already satisfied: pyrsistent!=0.17.0,!=0.17.1,!=0.17.2,>=0.14.0 in /Users/mkv/.pyenv/versions/3.8.12/envs/memobrain/lib/python3.8/site-packages (from jsonschema!=2.5.0,>=2.4->nbformat>=4.2.0->ipywidgets<8,>=7.6.0->ipympl) (0.18.1)\n",
      "Requirement already satisfied: attrs>=17.4.0 in /Users/mkv/.pyenv/versions/3.8.12/envs/memobrain/lib/python3.8/site-packages (from jsonschema!=2.5.0,>=2.4->nbformat>=4.2.0->ipywidgets<8,>=7.6.0->ipympl) (21.4.0)\n",
      "Requirement already satisfied: importlib-resources>=1.4.0 in /Users/mkv/.pyenv/versions/3.8.12/envs/memobrain/lib/python3.8/site-packages (from jsonschema!=2.5.0,>=2.4->nbformat>=4.2.0->ipywidgets<8,>=7.6.0->ipympl) (5.4.0)\n",
      "Requirement already satisfied: entrypoints in /Users/mkv/.pyenv/versions/3.8.12/envs/memobrain/lib/python3.8/site-packages (from jupyter-client<8.0->ipykernel>=4.5.1->ipywidgets<8,>=7.6.0->ipympl) (0.4)\n",
      "Requirement already satisfied: pyzmq>=13 in /Users/mkv/.pyenv/versions/3.8.12/envs/memobrain/lib/python3.8/site-packages (from jupyter-client<8.0->ipykernel>=4.5.1->ipywidgets<8,>=7.6.0->ipympl) (22.3.0)\n",
      "Requirement already satisfied: prometheus-client in /Users/mkv/.pyenv/versions/3.8.12/envs/memobrain/lib/python3.8/site-packages (from notebook>=4.4.1->widgetsnbextension~=3.5.0->ipywidgets<8,>=7.6.0->ipympl) (0.13.1)\n",
      "Requirement already satisfied: terminado>=0.8.3 in /Users/mkv/.pyenv/versions/3.8.12/envs/memobrain/lib/python3.8/site-packages (from notebook>=4.4.1->widgetsnbextension~=3.5.0->ipywidgets<8,>=7.6.0->ipympl) (0.13.1)\n",
      "Requirement already satisfied: argon2-cffi in /Users/mkv/.pyenv/versions/3.8.12/envs/memobrain/lib/python3.8/site-packages (from notebook>=4.4.1->widgetsnbextension~=3.5.0->ipywidgets<8,>=7.6.0->ipympl) (21.3.0)\n",
      "Requirement already satisfied: Send2Trash>=1.8.0 in /Users/mkv/.pyenv/versions/3.8.12/envs/memobrain/lib/python3.8/site-packages (from notebook>=4.4.1->widgetsnbextension~=3.5.0->ipywidgets<8,>=7.6.0->ipympl) (1.8.0)\n",
      "Requirement already satisfied: nbconvert in /Users/mkv/.pyenv/versions/3.8.12/envs/memobrain/lib/python3.8/site-packages (from notebook>=4.4.1->widgetsnbextension~=3.5.0->ipywidgets<8,>=7.6.0->ipympl) (6.4.2)\n",
      "Requirement already satisfied: jinja2 in /Users/mkv/.pyenv/versions/3.8.12/envs/memobrain/lib/python3.8/site-packages (from notebook>=4.4.1->widgetsnbextension~=3.5.0->ipywidgets<8,>=7.6.0->ipympl) (3.0.3)\n",
      "Requirement already satisfied: zipp>=3.1.0 in /Users/mkv/.pyenv/versions/3.8.12/envs/memobrain/lib/python3.8/site-packages (from importlib-resources>=1.4.0->jsonschema!=2.5.0,>=2.4->nbformat>=4.2.0->ipywidgets<8,>=7.6.0->ipympl) (3.7.0)\n",
      "Requirement already satisfied: argon2-cffi-bindings in /Users/mkv/.pyenv/versions/3.8.12/envs/memobrain/lib/python3.8/site-packages (from argon2-cffi->notebook>=4.4.1->widgetsnbextension~=3.5.0->ipywidgets<8,>=7.6.0->ipympl) (21.2.0)\n",
      "Requirement already satisfied: MarkupSafe>=2.0 in /Users/mkv/.pyenv/versions/3.8.12/envs/memobrain/lib/python3.8/site-packages (from jinja2->notebook>=4.4.1->widgetsnbextension~=3.5.0->ipywidgets<8,>=7.6.0->ipympl) (2.1.0)\n",
      "Requirement already satisfied: defusedxml in /Users/mkv/.pyenv/versions/3.8.12/envs/memobrain/lib/python3.8/site-packages (from nbconvert->notebook>=4.4.1->widgetsnbextension~=3.5.0->ipywidgets<8,>=7.6.0->ipympl) (0.7.1)\n",
      "Requirement already satisfied: nbclient<0.6.0,>=0.5.0 in /Users/mkv/.pyenv/versions/3.8.12/envs/memobrain/lib/python3.8/site-packages (from nbconvert->notebook>=4.4.1->widgetsnbextension~=3.5.0->ipywidgets<8,>=7.6.0->ipympl) (0.5.11)\n",
      "Requirement already satisfied: testpath in /Users/mkv/.pyenv/versions/3.8.12/envs/memobrain/lib/python3.8/site-packages (from nbconvert->notebook>=4.4.1->widgetsnbextension~=3.5.0->ipywidgets<8,>=7.6.0->ipympl) (0.6.0)\n",
      "Requirement already satisfied: jupyterlab-pygments in /Users/mkv/.pyenv/versions/3.8.12/envs/memobrain/lib/python3.8/site-packages (from nbconvert->notebook>=4.4.1->widgetsnbextension~=3.5.0->ipywidgets<8,>=7.6.0->ipympl) (0.1.2)\n",
      "Requirement already satisfied: bleach in /Users/mkv/.pyenv/versions/3.8.12/envs/memobrain/lib/python3.8/site-packages (from nbconvert->notebook>=4.4.1->widgetsnbextension~=3.5.0->ipywidgets<8,>=7.6.0->ipympl) (4.1.0)\n",
      "Requirement already satisfied: pandocfilters>=1.4.1 in /Users/mkv/.pyenv/versions/3.8.12/envs/memobrain/lib/python3.8/site-packages (from nbconvert->notebook>=4.4.1->widgetsnbextension~=3.5.0->ipywidgets<8,>=7.6.0->ipympl) (1.5.0)\n",
      "Requirement already satisfied: mistune<2,>=0.8.1 in /Users/mkv/.pyenv/versions/3.8.12/envs/memobrain/lib/python3.8/site-packages (from nbconvert->notebook>=4.4.1->widgetsnbextension~=3.5.0->ipywidgets<8,>=7.6.0->ipympl) (0.8.4)\n",
      "Requirement already satisfied: cffi>=1.0.1 in /Users/mkv/.pyenv/versions/3.8.12/envs/memobrain/lib/python3.8/site-packages (from argon2-cffi-bindings->argon2-cffi->notebook>=4.4.1->widgetsnbextension~=3.5.0->ipywidgets<8,>=7.6.0->ipympl) (1.15.0)\n",
      "Requirement already satisfied: webencodings in /Users/mkv/.pyenv/versions/3.8.12/envs/memobrain/lib/python3.8/site-packages (from bleach->nbconvert->notebook>=4.4.1->widgetsnbextension~=3.5.0->ipywidgets<8,>=7.6.0->ipympl) (0.5.1)\n",
      "Requirement already satisfied: pycparser in /Users/mkv/.pyenv/versions/3.8.12/envs/memobrain/lib/python3.8/site-packages (from cffi>=1.0.1->argon2-cffi-bindings->argon2-cffi->notebook>=4.4.1->widgetsnbextension~=3.5.0->ipywidgets<8,>=7.6.0->ipympl) (2.21)\n",
      "Installing collected packages: ipympl\n",
      "Successfully installed ipympl-0.8.8\n"
     ]
    }
   ],
   "source": [
    "!pip install ipympl"
   ]
  },
  {
   "cell_type": "code",
   "execution_count": 15,
   "id": "bb882510-41de-4492-9a7f-9046e66229be",
   "metadata": {
    "collapsed": true,
    "jupyter": {
     "outputs_hidden": true
    },
    "tags": []
   },
   "outputs": [
    {
     "name": "stdout",
     "output_type": "stream",
     "text": [
      "Requirement already satisfied: ipywidgets in /Users/mkv/.pyenv/versions/3.8.12/envs/memobrain/lib/python3.8/site-packages (7.6.5)\n",
      "Requirement already satisfied: widgetsnbextension~=3.5.0 in /Users/mkv/.pyenv/versions/3.8.12/envs/memobrain/lib/python3.8/site-packages (from ipywidgets) (3.5.2)\n",
      "Requirement already satisfied: ipykernel>=4.5.1 in /Users/mkv/.pyenv/versions/3.8.12/envs/memobrain/lib/python3.8/site-packages (from ipywidgets) (6.9.1)\n",
      "Requirement already satisfied: ipython-genutils~=0.2.0 in /Users/mkv/.pyenv/versions/3.8.12/envs/memobrain/lib/python3.8/site-packages (from ipywidgets) (0.2.0)\n",
      "Requirement already satisfied: ipython>=4.0.0 in /Users/mkv/.pyenv/versions/3.8.12/envs/memobrain/lib/python3.8/site-packages (from ipywidgets) (8.1.0)\n",
      "Requirement already satisfied: nbformat>=4.2.0 in /Users/mkv/.pyenv/versions/3.8.12/envs/memobrain/lib/python3.8/site-packages (from ipywidgets) (5.1.3)\n",
      "Requirement already satisfied: jupyterlab-widgets>=1.0.0 in /Users/mkv/.pyenv/versions/3.8.12/envs/memobrain/lib/python3.8/site-packages (from ipywidgets) (1.0.2)\n",
      "Requirement already satisfied: traitlets>=4.3.1 in /Users/mkv/.pyenv/versions/3.8.12/envs/memobrain/lib/python3.8/site-packages (from ipywidgets) (5.1.1)\n",
      "Requirement already satisfied: matplotlib-inline<0.2.0,>=0.1.0 in /Users/mkv/.pyenv/versions/3.8.12/envs/memobrain/lib/python3.8/site-packages (from ipykernel>=4.5.1->ipywidgets) (0.1.3)\n",
      "Requirement already satisfied: debugpy<2.0,>=1.0.0 in /Users/mkv/.pyenv/versions/3.8.12/envs/memobrain/lib/python3.8/site-packages (from ipykernel>=4.5.1->ipywidgets) (1.5.1)\n",
      "Requirement already satisfied: tornado<7.0,>=4.2 in /Users/mkv/.pyenv/versions/3.8.12/envs/memobrain/lib/python3.8/site-packages (from ipykernel>=4.5.1->ipywidgets) (6.1)\n",
      "Requirement already satisfied: nest-asyncio in /Users/mkv/.pyenv/versions/3.8.12/envs/memobrain/lib/python3.8/site-packages (from ipykernel>=4.5.1->ipywidgets) (1.5.4)\n",
      "Requirement already satisfied: jupyter-client<8.0 in /Users/mkv/.pyenv/versions/3.8.12/envs/memobrain/lib/python3.8/site-packages (from ipykernel>=4.5.1->ipywidgets) (7.1.2)\n",
      "Requirement already satisfied: appnope in /Users/mkv/.pyenv/versions/3.8.12/envs/memobrain/lib/python3.8/site-packages (from ipykernel>=4.5.1->ipywidgets) (0.1.2)\n",
      "Requirement already satisfied: pygments>=2.4.0 in /Users/mkv/.pyenv/versions/3.8.12/envs/memobrain/lib/python3.8/site-packages (from ipython>=4.0.0->ipywidgets) (2.11.2)\n",
      "Requirement already satisfied: pickleshare in /Users/mkv/.pyenv/versions/3.8.12/envs/memobrain/lib/python3.8/site-packages (from ipython>=4.0.0->ipywidgets) (0.7.5)\n",
      "Requirement already satisfied: prompt-toolkit!=3.0.0,!=3.0.1,<3.1.0,>=2.0.0 in /Users/mkv/.pyenv/versions/3.8.12/envs/memobrain/lib/python3.8/site-packages (from ipython>=4.0.0->ipywidgets) (3.0.28)\n",
      "Requirement already satisfied: setuptools>=18.5 in /Users/mkv/.pyenv/versions/3.8.12/envs/memobrain/lib/python3.8/site-packages (from ipython>=4.0.0->ipywidgets) (56.0.0)\n",
      "Requirement already satisfied: stack-data in /Users/mkv/.pyenv/versions/3.8.12/envs/memobrain/lib/python3.8/site-packages (from ipython>=4.0.0->ipywidgets) (0.2.0)\n",
      "Requirement already satisfied: jedi>=0.16 in /Users/mkv/.pyenv/versions/3.8.12/envs/memobrain/lib/python3.8/site-packages (from ipython>=4.0.0->ipywidgets) (0.18.1)\n",
      "Requirement already satisfied: decorator in /Users/mkv/.pyenv/versions/3.8.12/envs/memobrain/lib/python3.8/site-packages (from ipython>=4.0.0->ipywidgets) (5.1.1)\n",
      "Requirement already satisfied: backcall in /Users/mkv/.pyenv/versions/3.8.12/envs/memobrain/lib/python3.8/site-packages (from ipython>=4.0.0->ipywidgets) (0.2.0)\n",
      "Requirement already satisfied: pexpect>4.3 in /Users/mkv/.pyenv/versions/3.8.12/envs/memobrain/lib/python3.8/site-packages (from ipython>=4.0.0->ipywidgets) (4.8.0)\n",
      "Requirement already satisfied: jupyter-core in /Users/mkv/.pyenv/versions/3.8.12/envs/memobrain/lib/python3.8/site-packages (from nbformat>=4.2.0->ipywidgets) (4.9.2)\n",
      "Requirement already satisfied: jsonschema!=2.5.0,>=2.4 in /Users/mkv/.pyenv/versions/3.8.12/envs/memobrain/lib/python3.8/site-packages (from nbformat>=4.2.0->ipywidgets) (4.4.0)\n",
      "Requirement already satisfied: notebook>=4.4.1 in /Users/mkv/.pyenv/versions/3.8.12/envs/memobrain/lib/python3.8/site-packages (from widgetsnbextension~=3.5.0->ipywidgets) (6.4.8)\n",
      "Requirement already satisfied: parso<0.9.0,>=0.8.0 in /Users/mkv/.pyenv/versions/3.8.12/envs/memobrain/lib/python3.8/site-packages (from jedi>=0.16->ipython>=4.0.0->ipywidgets) (0.8.3)\n",
      "Requirement already satisfied: attrs>=17.4.0 in /Users/mkv/.pyenv/versions/3.8.12/envs/memobrain/lib/python3.8/site-packages (from jsonschema!=2.5.0,>=2.4->nbformat>=4.2.0->ipywidgets) (21.4.0)\n",
      "Requirement already satisfied: importlib-resources>=1.4.0 in /Users/mkv/.pyenv/versions/3.8.12/envs/memobrain/lib/python3.8/site-packages (from jsonschema!=2.5.0,>=2.4->nbformat>=4.2.0->ipywidgets) (5.4.0)\n",
      "Requirement already satisfied: pyrsistent!=0.17.0,!=0.17.1,!=0.17.2,>=0.14.0 in /Users/mkv/.pyenv/versions/3.8.12/envs/memobrain/lib/python3.8/site-packages (from jsonschema!=2.5.0,>=2.4->nbformat>=4.2.0->ipywidgets) (0.18.1)\n",
      "Requirement already satisfied: python-dateutil>=2.1 in /Users/mkv/.pyenv/versions/3.8.12/envs/memobrain/lib/python3.8/site-packages (from jupyter-client<8.0->ipykernel>=4.5.1->ipywidgets) (2.8.2)\n",
      "Requirement already satisfied: pyzmq>=13 in /Users/mkv/.pyenv/versions/3.8.12/envs/memobrain/lib/python3.8/site-packages (from jupyter-client<8.0->ipykernel>=4.5.1->ipywidgets) (22.3.0)\n",
      "Requirement already satisfied: entrypoints in /Users/mkv/.pyenv/versions/3.8.12/envs/memobrain/lib/python3.8/site-packages (from jupyter-client<8.0->ipykernel>=4.5.1->ipywidgets) (0.4)\n",
      "Requirement already satisfied: prometheus-client in /Users/mkv/.pyenv/versions/3.8.12/envs/memobrain/lib/python3.8/site-packages (from notebook>=4.4.1->widgetsnbextension~=3.5.0->ipywidgets) (0.13.1)\n",
      "Requirement already satisfied: nbconvert in /Users/mkv/.pyenv/versions/3.8.12/envs/memobrain/lib/python3.8/site-packages (from notebook>=4.4.1->widgetsnbextension~=3.5.0->ipywidgets) (6.4.2)\n",
      "Requirement already satisfied: jinja2 in /Users/mkv/.pyenv/versions/3.8.12/envs/memobrain/lib/python3.8/site-packages (from notebook>=4.4.1->widgetsnbextension~=3.5.0->ipywidgets) (3.0.3)\n",
      "Requirement already satisfied: terminado>=0.8.3 in /Users/mkv/.pyenv/versions/3.8.12/envs/memobrain/lib/python3.8/site-packages (from notebook>=4.4.1->widgetsnbextension~=3.5.0->ipywidgets) (0.13.1)\n",
      "Requirement already satisfied: argon2-cffi in /Users/mkv/.pyenv/versions/3.8.12/envs/memobrain/lib/python3.8/site-packages (from notebook>=4.4.1->widgetsnbextension~=3.5.0->ipywidgets) (21.3.0)\n",
      "Requirement already satisfied: Send2Trash>=1.8.0 in /Users/mkv/.pyenv/versions/3.8.12/envs/memobrain/lib/python3.8/site-packages (from notebook>=4.4.1->widgetsnbextension~=3.5.0->ipywidgets) (1.8.0)\n",
      "Requirement already satisfied: ptyprocess>=0.5 in /Users/mkv/.pyenv/versions/3.8.12/envs/memobrain/lib/python3.8/site-packages (from pexpect>4.3->ipython>=4.0.0->ipywidgets) (0.7.0)\n",
      "Requirement already satisfied: wcwidth in /Users/mkv/.pyenv/versions/3.8.12/envs/memobrain/lib/python3.8/site-packages (from prompt-toolkit!=3.0.0,!=3.0.1,<3.1.0,>=2.0.0->ipython>=4.0.0->ipywidgets) (0.2.5)\n",
      "Requirement already satisfied: executing in /Users/mkv/.pyenv/versions/3.8.12/envs/memobrain/lib/python3.8/site-packages (from stack-data->ipython>=4.0.0->ipywidgets) (0.8.3)\n",
      "Requirement already satisfied: asttokens in /Users/mkv/.pyenv/versions/3.8.12/envs/memobrain/lib/python3.8/site-packages (from stack-data->ipython>=4.0.0->ipywidgets) (2.0.5)\n",
      "Requirement already satisfied: pure-eval in /Users/mkv/.pyenv/versions/3.8.12/envs/memobrain/lib/python3.8/site-packages (from stack-data->ipython>=4.0.0->ipywidgets) (0.2.2)\n",
      "Requirement already satisfied: zipp>=3.1.0 in /Users/mkv/.pyenv/versions/3.8.12/envs/memobrain/lib/python3.8/site-packages (from importlib-resources>=1.4.0->jsonschema!=2.5.0,>=2.4->nbformat>=4.2.0->ipywidgets) (3.7.0)\n",
      "Requirement already satisfied: six>=1.5 in /Users/mkv/.pyenv/versions/3.8.12/envs/memobrain/lib/python3.8/site-packages (from python-dateutil>=2.1->jupyter-client<8.0->ipykernel>=4.5.1->ipywidgets) (1.16.0)\n",
      "Requirement already satisfied: argon2-cffi-bindings in /Users/mkv/.pyenv/versions/3.8.12/envs/memobrain/lib/python3.8/site-packages (from argon2-cffi->notebook>=4.4.1->widgetsnbextension~=3.5.0->ipywidgets) (21.2.0)\n",
      "Requirement already satisfied: MarkupSafe>=2.0 in /Users/mkv/.pyenv/versions/3.8.12/envs/memobrain/lib/python3.8/site-packages (from jinja2->notebook>=4.4.1->widgetsnbextension~=3.5.0->ipywidgets) (2.1.0)\n",
      "Requirement already satisfied: defusedxml in /Users/mkv/.pyenv/versions/3.8.12/envs/memobrain/lib/python3.8/site-packages (from nbconvert->notebook>=4.4.1->widgetsnbextension~=3.5.0->ipywidgets) (0.7.1)\n",
      "Requirement already satisfied: mistune<2,>=0.8.1 in /Users/mkv/.pyenv/versions/3.8.12/envs/memobrain/lib/python3.8/site-packages (from nbconvert->notebook>=4.4.1->widgetsnbextension~=3.5.0->ipywidgets) (0.8.4)\n",
      "Requirement already satisfied: testpath in /Users/mkv/.pyenv/versions/3.8.12/envs/memobrain/lib/python3.8/site-packages (from nbconvert->notebook>=4.4.1->widgetsnbextension~=3.5.0->ipywidgets) (0.6.0)\n",
      "Requirement already satisfied: pandocfilters>=1.4.1 in /Users/mkv/.pyenv/versions/3.8.12/envs/memobrain/lib/python3.8/site-packages (from nbconvert->notebook>=4.4.1->widgetsnbextension~=3.5.0->ipywidgets) (1.5.0)\n",
      "Requirement already satisfied: nbclient<0.6.0,>=0.5.0 in /Users/mkv/.pyenv/versions/3.8.12/envs/memobrain/lib/python3.8/site-packages (from nbconvert->notebook>=4.4.1->widgetsnbextension~=3.5.0->ipywidgets) (0.5.11)\n",
      "Requirement already satisfied: jupyterlab-pygments in /Users/mkv/.pyenv/versions/3.8.12/envs/memobrain/lib/python3.8/site-packages (from nbconvert->notebook>=4.4.1->widgetsnbextension~=3.5.0->ipywidgets) (0.1.2)\n",
      "Requirement already satisfied: bleach in /Users/mkv/.pyenv/versions/3.8.12/envs/memobrain/lib/python3.8/site-packages (from nbconvert->notebook>=4.4.1->widgetsnbextension~=3.5.0->ipywidgets) (4.1.0)\n",
      "Requirement already satisfied: cffi>=1.0.1 in /Users/mkv/.pyenv/versions/3.8.12/envs/memobrain/lib/python3.8/site-packages (from argon2-cffi-bindings->argon2-cffi->notebook>=4.4.1->widgetsnbextension~=3.5.0->ipywidgets) (1.15.0)\n",
      "Requirement already satisfied: packaging in /Users/mkv/.pyenv/versions/3.8.12/envs/memobrain/lib/python3.8/site-packages (from bleach->nbconvert->notebook>=4.4.1->widgetsnbextension~=3.5.0->ipywidgets) (21.3)\n",
      "Requirement already satisfied: webencodings in /Users/mkv/.pyenv/versions/3.8.12/envs/memobrain/lib/python3.8/site-packages (from bleach->nbconvert->notebook>=4.4.1->widgetsnbextension~=3.5.0->ipywidgets) (0.5.1)\n",
      "Requirement already satisfied: pycparser in /Users/mkv/.pyenv/versions/3.8.12/envs/memobrain/lib/python3.8/site-packages (from cffi>=1.0.1->argon2-cffi-bindings->argon2-cffi->notebook>=4.4.1->widgetsnbextension~=3.5.0->ipywidgets) (2.21)\n",
      "Requirement already satisfied: pyparsing!=3.0.5,>=2.0.2 in /Users/mkv/.pyenv/versions/3.8.12/envs/memobrain/lib/python3.8/site-packages (from packaging->bleach->nbconvert->notebook>=4.4.1->widgetsnbextension~=3.5.0->ipywidgets) (3.0.7)\n"
     ]
    }
   ],
   "source": [
    "!pip install ipywidgets"
   ]
  },
  {
   "cell_type": "code",
   "execution_count": 3,
   "id": "0ffb20ac-a329-43ee-8a99-22db78772485",
   "metadata": {},
   "outputs": [
    {
     "data": {
      "application/vnd.jupyter.widget-view+json": {
       "model_id": "1d07c21c966a48ea92149ed22473b1b3",
       "version_major": 2,
       "version_minor": 0
      },
      "text/plain": [
       "interactive(children=(Dropdown(description='name', options=('Jim', 'Emma', 'Bond'), value='Jim'), Output()), _…"
      ]
     },
     "metadata": {},
     "output_type": "display_data"
    }
   ],
   "source": [
    "def say_my_name(name):\n",
    "    \"\"\"\n",
    "    Print the current widget value in short sentence\n",
    "    \"\"\"\n",
    "    print(f'My name is {name}')\n",
    "     \n",
    "widgets.interact(say_my_name, name=[\"Jim\", \"Emma\", \"Bond\"]);"
   ]
  },
  {
   "cell_type": "code",
   "execution_count": 6,
   "id": "1399e04b-39ae-45b3-abdc-90ce9f14e600",
   "metadata": {},
   "outputs": [
    {
     "data": {
      "application/vnd.jupyter.widget-view+json": {
       "model_id": "4dd1278e074a4dcf97a659316bec50aa",
       "version_major": 2,
       "version_minor": 0
      },
      "text/plain": [
       "interactive(children=(Dropdown(description='x', options=(0, 1, 2, 3), value=0), Output()), _dom_classes=('widg…"
      ]
     },
     "metadata": {},
     "output_type": "display_data"
    },
    {
     "data": {
      "application/vnd.jupyter.widget-view+json": {
       "model_id": "51d60ecda8a1424e9f14eb9bfaa491a7",
       "version_major": 2,
       "version_minor": 0
      },
      "text/plain": [
       "interactive(children=(IntSlider(value=5, description='x', max=10), Output()), _dom_classes=('widget-interact',…"
      ]
     },
     "metadata": {},
     "output_type": "display_data"
    },
    {
     "data": {
      "application/vnd.jupyter.widget-view+json": {
       "model_id": "4051ff087d714e9ea4328738fa327380",
       "version_major": 2,
       "version_minor": 0
      },
      "text/plain": [
       "interactive(children=(FloatSlider(value=5.0, description='x', max=10.0, step=0.5), Output()), _dom_classes=('w…"
      ]
     },
     "metadata": {},
     "output_type": "display_data"
    },
    {
     "data": {
      "application/vnd.jupyter.widget-view+json": {
       "model_id": "14b1260365494183862d90601a06225f",
       "version_major": 2,
       "version_minor": 0
      },
      "text/plain": [
       "interactive(children=(Checkbox(value=True, description='x'), Output()), _dom_classes=('widget-interact',))"
      ]
     },
     "metadata": {},
     "output_type": "display_data"
    }
   ],
   "source": [
    "def say_something(x):\n",
    "    \"\"\"\n",
    "    Print the current widget value in short sentence\n",
    "    \"\"\"\n",
    "    print(f'Widget says: {x}')\n",
    " \n",
    "widgets.interact(say_something, x=[0, 1, 2, 3])\n",
    "widgets.interact(say_something, x=(0, 10, 1))\n",
    "widgets.interact(say_something, x=(0, 10, .5))\n",
    "_ = widgets.interact(say_something, x=True)"
   ]
  },
  {
   "cell_type": "code",
   "execution_count": 5,
   "id": "d8288aae-1f81-44fb-8cea-ae7cdf9e65b6",
   "metadata": {},
   "outputs": [
    {
     "data": {
      "application/vnd.jupyter.widget-view+json": {
       "model_id": "5003e111b7ff424f8f8c8fcd32b26c3f",
       "version_major": 2,
       "version_minor": 0
      },
      "text/plain": [
       "interactive(children=(FloatSlider(value=5.0, description='freq', max=5.0, min=1.0, step=0.5), Output()), _dom_…"
      ]
     },
     "metadata": {},
     "output_type": "display_data"
    },
    {
     "data": {
      "text/plain": [
       "<function __main__.plot_func(freq)>"
      ]
     },
     "execution_count": 5,
     "metadata": {},
     "output_type": "execute_result"
    }
   ],
   "source": [
    "from ipywidgets import interact, interactive, fixed, interact_manual\n",
    "import ipywidgets as widgets\n",
    "\n",
    "import matplotlib.pyplot as plt\n",
    "%matplotlib inline\n",
    "\n",
    "import numpy as np\n",
    "\n",
    "def plot_func(freq):\n",
    "    x = np.linspace(0, 2*np.pi)\n",
    "    y = np.sin(x * freq)\n",
    "    plt.plot(x, y)\n",
    "\n",
    "interact(plot_func, freq = widgets.FloatSlider(value=7.5,\n",
    "                                               min=1,\n",
    "                                               max=5.0,\n",
    "                                               step=0.5))"
   ]
  },
  {
   "cell_type": "code",
   "execution_count": 4,
   "id": "461cf1ec-3a4c-4334-8fda-d508ea3d57ce",
   "metadata": {},
   "outputs": [
    {
     "name": "stdout",
     "output_type": "stream",
     "text": [
      "Warning: Cannot change to a different GUI toolkit: notebook. Using widget instead.\n"
     ]
    },
    {
     "data": {
      "application/vnd.jupyter.widget-view+json": {
       "model_id": "f25966779d8145a1bce16e209526feaa",
       "version_major": 2,
       "version_minor": 0
      },
      "text/plain": [
       "interactive(children=(FloatSlider(value=1.0, description='w', max=3.0, min=-1.0), Output()), _dom_classes=('wi…"
      ]
     },
     "metadata": {},
     "output_type": "display_data"
    },
    {
     "data": {
      "application/vnd.jupyter.widget-view+json": {
       "model_id": "0ceb68a5223d4020b4c7d5cb6f82e798",
       "version_major": 2,
       "version_minor": 0
      },
      "image/png": "[encoded data removed]",
      "text/html": [
       "\n",
       "            <div style=\"display: inline-block;\">\n",
       "                <div class=\"jupyter-widgets widget-label\" style=\"text-align: center;\">\n",
       "                    Figure\n",
       "                </div>\n",
       "                <img src='data:image/png;base64,iVBORw0KGgoAAAANSUhEUgAAAbAAAAEgCAYAAADVKCZpAAAAOXRFWHRTb2Z0d2FyZQBNYXRwbG90bGliIHZlcnNpb24zLjUuMSwgaHR0cHM6Ly9tYXRwbG90bGliLm9yZy/YYfK9AAAACXBIWXMAAAsTAAALEwEAmpwYAAAwhElEQVR4nO3deXhU5d3G8e8vO5BACIQ1rFlYZBMiiooKgoJasXWpaC1qFXetWqvWtlZrW5e6VKtWXrR1q0ptqSgKIou4IBCUJSyBEEAIW9gChOx53j8yvG9EtkAyZ07m/lzXXJk5c87kjkvuPHOeOY855xAREfGbCK8DiIiIHAsVmIiI+JIKTEREfEkFJiIivqQCExERX1KBiYiIL6nARETEl1RgIiLiSyowERHxJRWYiIj4kgpMRER8SQUmIiK+pAITERFfUoGJiIgvqcBERMSXVGAiIuJLKjAREfElFZiIiPiSCkxERHxJBSYiIr6kAhMREV9SgYmIiC+pwERExJdUYCIi4ksqMBER8SUVmIiI+JIKTEREfEkFJiIivqQCExERX1KBiYiIL6nARETEl1RgIiLiSyowERHxJRWYiIj4UpTXAepLy5YtXefOnb2OISLiKwsWLNjmnEv2OsfRaLAF1rlzZ7KysryOISLiK2a2zusMR0tvIYqIiC+pwERExJdUYCIi4ktBKzAze8XMtppZ9iGeNzN71sxyzWyxmfWv8dwYM1sVuI0JVmYREQldwRyB/QMYcZjnRwLpgdtY4EUAM0sCHgROBgYCD5pZ83pNKiIiIS9oBeacmw3sOMwuo4DXXLWvgEQzawucC0xzzu1wzu0EpnH4IhQRkTAQStPo2wPrazzeENh2qO3ioR1FZSzftBuAZo2iaRoXTbNG0STERRERYR6nE5FwEEoFdtzMbCzVbz/SsWNHj9M0HAV7SlmSv4vs/N1k5xeSnV/IxsKSg+5rBgmxUWS0TmBErzaM6NWGlOaNg5xYRMJBKBVYPtChxuOUwLZ84KwDts862As458YB4wAyMzNdfYQMF8455q/dybjZq/lk+Vagupy6tGxCZuckerVvSs+2zYiKNHYXl1MYuO0uLmdXcTnz1+7kkcnLeWTycvqmNGNEr7aM7NWGzi2bePyTiUhDEUoFNgm41czepnrCRqFzbpOZTQX+WGPixjnA/V6FbOgqqxxTsjcz7rM8Fq3fRfPG0dw2NI0zMpLp0bYp8bFH/5/M2m1FfJS9mSnZm3hsygoem7KCfh0SeeD8HpzUOakefwoRCQfmXHAGKmb2FtUjqZbAFqpnFkYDOOf+ZmYG/JXqCRr7gGucc1mBY68FfhV4qT845/5+pO+XmZnpdCmpo1dSXsk789cz/vM81u8opnOLxlw3uCsX90+hUUzkcb/+hp37mJK9mZc/X8OmwhIu7NuO+0Z2p11iozpILyJ1xcwWOOcyvc5xNIJWYMGmAjt6yzft5udvLyRnyx4GdGrO9YO7MrxnayLrYTLGvrIK/jZrNS/NziPCjJvOSmXsGV2Jiz7+khSR46cCCwEqsCOrqnK88sUaHp+SQ7PG0Tx+cR+GdG8VlO+9fsc+Hv1oBZOXbKJ9YiN+fX4PRvZuG5TvLSKH5qcC06WkwtSmwmKuemUuj0xezpndkplyx+CglRdAh6TGPH9lf966/hQS4qK46c2v+c1/symvrApaBhHxt1CaxCFBMnnxJn41cQllFVU8+qPe/PikDlSfggy+Qakt+OC203liag4vzc5jdcFeXriyP4mNYzzJIyL+oRFYGKmqcvz2vWxu+efXdG7ZhA/vGMzlAzt6Vl77RUVGcP95PfjzpX3JWruTUc9/Qe7WPZ5mEpHQpwILE+WVVdw1YSGvzVnHdad34d0bB9ElxD6TdcmAFN4aewpFpZX88Pkvmbliq9eRRCSEqcDCQEl5JTe/+TX/XbiRe87txq8v6El0ZGj+qx/QqTmTbj2Nji0ac+2r8xk3ezUNdaKRiByf0PwtJnWmqLSCn706n2nLtvDwqBO4ZUia15GOqF1iI/514yBG9mrDHz9cwaMfrVCJicj3aBJHA1ZYXM41f5/HwvW7ePLSvlw8IMXrSEetcUwUfx3dn982yeal2XkkxEVx69B0r2OJSAhRgTVQ2/aWctXL81i9dS8vXDmAEb3aeB2p1iIijIcv7MW+0kr+/PFKmsRGcc1pXbyOJSIhQgXWABUWlzN63Fes37mP8WMyOSMj2etIxywiwnj8kj4UlVXw0PvLaBIbxWWZHY58oIg0eDoH1sCUV1Zx85sLWLu9iFfGnOTr8tovKjKCZ0efyOD0ltz378VMXrzJ60giEgJUYA2Ic45fT8zmi9zt/OlHfTg1raXXkepMbFQkL101gAGdmvPzd77RFHsRUYE1JH/7NI93stZz29A0LvHRhI2j1TgmipevPolubRK48Y0FzFuzw+tIIuIhFVgDMXlx9ZpbP+jbjruGZ3gdp940jYvmtWtPpn3zRtz0xgI27ir2OpKIeEQF1gB8/e1O7pqwkAGdmvPEJX08vzRUfUtqEsO4qzIprajipje/prSi0utIIuIBFZjPrd+xj7GvZdG6aRzjrhoQNutqpbWK58+X9mXR+l089P4yr+OIiAeCVmBmNsLMcsws18zuO8jzT5vZwsBtpZntqvFcZY3nJgUrc6grKq3g2n/Mp6yiileuPokW8bFeRwqqEb3acNNZqfxz7rdMmL/e6zgiEmRB+RyYmUUCzwPDgQ3AfDOb5Jz7vz+dnXN31tj/NuDEGi9R7JzrF4ysfvLgpKXkFuzl9WtPJq1VvNdxPPGLc7qxZEMhv34vm+5tE+iTkuh1JBEJkmCNwAYCuc65POdcGfA2MOow+48G3gpKMp96b2E+7y7YwK1D0jg9veFMl6+tyAjj2dEnkhwfy01vfM2OojKvI4lIkASrwNoDNd/j2RDY9j1m1gnoAsyosTnOzLLM7Cszu6jeUvrEuu1FPDAxm8xOzbnjbF0fMKlJDC/+pD8Fe0u5/a1vqKzShX9FwkEoTuK4HHjXOVdzalkn51wmcAXwjJmlHuxAMxsbKLqsgoKCYGQNurKKKm5/6xsiDJ65vB9RIbosSrD1SUnkkVG9+Dx3G09Ny/E6jogEQbB+++UDNS9glxLYdjCXc8Dbh865/MDXPGAW3z0/VnO/cc65TOdcZnKy/y+hdDBPfpzDog2FPHZxH1KaN/Y6Tki57KQO/DizAy/MWk3WWn3IWaShC1aBzQfSzayLmcVQXVLfm01oZt2B5sCcGtuam1ls4H5L4DQgLOdNf7qygJdm53HFyR0Z2but13FC0m9+0JOU5o24+1+LKCqt8DqOiNSjoBSYc64CuBWYCiwHJjjnlprZw2Z2YY1dLwfedt9dvbAHkGVmi4CZwKM1Zy+Gi4I9pdw9YSEZreP57QU9vY4TsuJjo3jy0n58u2Mff/pouddxRKQeBW05Fefch8CHB2z77QGPf3eQ474EetdruBBXVeW4a8JC9pRU8M/rTwmbDysfq4Fdkrju9C78z2drOKdnmwZxRX4R+T7NAPCBN+au47NV2/jNBT3JaJ3gdRxfuPucbqS1iueX7y6mcF+513FEpB6owEJc/q5iHvtoBYPTW3LlyR29juMbcdGRPHVZXwr2lvLQ+0u9jiMi9UAFFsKq1/daQpWDP/6wd4O/SG9d65OSyC1D0vjPN/lMyd7sdRwRqWMqsBA2adFGZuYU8Itzu9EhSVPmj8VtQ9Po1b4pD0xcwra9pV7HEZE6pAILUTuKynjo/WX065DI1ad29jqOb0VHRvDUZf3YU1LBr/6zhO9OcBURP1OBhajff7CM3cXlPHZxHyIj9Nbh8choncBd52Tw8bItfLxsi9dxRKSOqMBC0KycrUz8Jp+bz0qlWxvNOqwLPzu9C91aJ/DQpKX6gLNIA6ECCzFFpRU8MDGbtFbx3DI0zes4DUZ0ZASP/LAXGwtLeHbGKq/jiEgdUIGFmCem5rCxsJjHLu5NbJQ+sFyXTuqcxKUDUnj5szXkbN7jdRwROU4qsBDy9bc7eXXOWn56SicGdEryOk6DdP95PYiPi+I3/83WhA4Rn1OBhYjKKsdv38umdUIc94zo7nWcBiupSQz3jejOvLU7+PfXh1oQQUT8QAUWIiZkrSc7fze/Or8H8bFBu0RlWLosswP9Oybypw+Xs2ufVnAW8SsVWAgo3FfOE1NzGNg5iR/00TIp9S0iwnjkot7s3FfG41O1+KWIX6nAQsAz01eya18ZD17YU5eLCpKe7Zpy9aldeGvet3zz7U6v44jIMVCBeWzllj28Nmcdowd25IR2zbyOE1buOieDVgmx/Pq/2VRUVnkdR0RqSQXmIeccD72/lPjYKO4+p5vXccJOfGwUv7mgJ0s37mZC1gav44hILQW1wMxshJnlmFmumd13kOevNrMCM1sYuF1X47kxZrYqcBsTzNz1ZerSzXyRu527z8kgqUmM13HC0vm92zKwcxJPTcthT4nWDRPxk6AVmJlFAs8DI4GewGgz63mQXd9xzvUL3MYHjk0CHgROBgYCD5pZ8yBFrxcl5ZU8Mnk53dskcMVArfPlFTPj1xf0YNveMl6ctdrrOCJSC8EcgQ0Ecp1zec65MuBtYNRRHnsuMM05t8M5txOYBoyop5xBMW52Hht2FvPbH/QkKlLv5HqpT0oiPzqxPeM/X8OGnfu8jiMiRymYvznbA+trPN4Q2Hagi81ssZm9a2YdanmsL+TvKuaFWbmc37stp6a29DqOAL84txsRBo9P0bR6Eb8ItT/93wc6O+f6UD3KerU2B5vZWDPLMrOsgoKCeglYFx79aAXOwf3n6YoboaJdYiPGDu7KpEUb+VrT6kV8IZgFlg90qPE4JbDt/zjntjvn9i+bOx4YcLTHBo4f55zLdM5lJicn11nwurRo/S7eX7SR6wd3JaW5VlkOJTecmUpyQiyPfLBM10kU8YFgFth8IN3MuphZDHA5MKnmDmZW8zIUFwLLA/enAueYWfPA5I1zAtt8xTnHox+tIKlJDDec2dXrOHKAJrFR3HNON77+dheTl2zyOo6IHEHQCsw5VwHcSnXxLAcmOOeWmtnDZnZhYLfbzWypmS0CbgeuDhy7A/g91SU4H3g4sM1XZq0sYE7edm4fmkZCXLTXceQgLh6QQo+2TXn0oxWUlFd6HUdEDsMa6lslmZmZLisry+sY/6eyynHeXz6jpKKSaXeeSUxUqJ1+lP2+yN3GlePnct/I7tx4ZqrXcUSCyswWOOcyvc5xNPRbNEj+8/UGcrbs4Z5zu6m8QtxpaS0Z1qMVz8/IZdve0iMfICKe0G/SICgpr+SpaSvpm9KM83vravN+cP95PdhXXslz01d5HUVEDkEFFgT/+HItmwpLuG9kD11t3idSk+O5LLMD/5z3Let36MPNIqFIBVbPdhaV8fzMXIZ2b8Wg1BZex5FauOPsdCLMePqTlV5HEZGDUIHVs+dn5lJUWsG9I/ShZb9p0yyOq0/tzMRv8snZvMfrOCJyABVYPVq/Yx+vzVnHxf1T6NYmwes4cgxuPDOV+Jgo/vyxLjElEmpUYPXoqWkrMateOFH8qXngQ+fTlm1hwTpdYkoklKjA6knO5j38d2E+15zWhbbNGnkdR47DNad1oWV8DI9PWaFLTImEEBVYPXlqWg7xMVHcqEtG+V6T2ChuG5rO3DU7mL1qm9dxRCRABVYPlmwoZOrSLVw3uCuJjbXSckMwemBHUpo34ompK6iq0ihMJBSowOrBk9NySGwczbWnd/Y6itSRmKgI7hqeQXb+bj7M1oV+RUKBCqyOZa3dwaycAm48M1UX7G1gRvVrT0breJ78eCXllVVexxEJeyqwOuSc44mpObSMj2XMoM5ex5E6Fhlh3HNud9ZsK+LdBRu8jiMS9lRgdejL1duZu2YHtw5JpVFMpNdxpB4M69GKEzsm8tz0VZRWaLkVES+pwOrI/tFXu2ZxjD65o9dxpJ6YGXcNz2BjYQkT5q/3Oo5IWFOB1ZEZK7aycP0ubj87ndgojb4astPTWpLZqTnPz1ytRS9FPBS0AjOzEWaWY2a5ZnbfQZ6/y8yWmdliM5tuZp1qPFdpZgsDt0nByny0qqocT368kk4tGnPxgBSv40g92z8K27y7hLfnfet1HJGwFZQCM7NI4HlgJNATGG1mPQ/Y7Rsg0znXB3gXeLzGc8XOuX6B24XByFwbU5ZuZtmm3fx8WDrRkRrUhoNBqS04uUsSz8/SKEzEK8H6bTsQyHXO5TnnyoC3gVE1d3DOzXTO7V946SvAF0OZyirHU9NWkt4qngv7tvc6jgSJmXHn8AwK9pTy5lyNwkS8EKwCaw/UPOO9IbDtUH4GfFTjcZyZZZnZV2Z2UT3kO2YfLN5I7ta93Dk8g8gILVYZTk7p2oJTU1vw4qxc9pVVeB1HJOyE3PtdZvYTIBN4osbmTs65TOAK4BkzSz3EsWMDRZdVUFBQ71krqxx/mb6K7m0SGHFCm3r/fhJ67hyewba9Zbzx1Tqvo4iEnWAVWD7QocbjlMC27zCzYcADwIXOudL9251z+YGvecAs4MSDfRPn3DjnXKZzLjM5Obnu0h/CB4s3kldQVL1yr0ZfYemkzkkMTm/JS5/mUVSqUZhIMAWrwOYD6WbWxcxigMuB78wmNLMTgZeoLq+tNbY3N7PYwP2WwGnAsiDlPqTKKsez01fRrXUC52r0FdZ+PiyD7UVlvDZHozCRYApKgTnnKoBbganAcmCCc26pmT1sZvtnFT4BxAP/OmC6fA8gy8wWATOBR51znhfYB4s3srqgiDuGafQV7gZ0as5Z3ZJ5afZq9moUJhI01lAX6MvMzHRZWVn18tqVVY5znv6UqIgIPrpjsApMWLh+Fxc9/wX3nNuNW4akeR1H5JiZ2YLAnIOQF3KTOPxAoy85UL8OiZzdvRXjZuexp6Tc6zgiYUEFVks1z31p5qHUdMewdAqLy3UuTCRIVGC1tH/0dbtmHsoB+qQkMqRbMuM/04xEkWBQgdXC/tFXRut4RvbS6Eu+7/az09m5r5zX9bkwkXqnAquFyUs2VZ/7OjtDoy85qBM7NueMjGT+Z3aers4hUs9UYEdJoy85Wnecncb2ojLe/ErXSBSpTyqwozR5ySZyt+7VuS85ogGdkjg9rSUvzV5NcZmuVC9SX1RgR6GqyvHXGatIbxXPeb3aeh1HfOD2s9PZtreMN+fqXJhIfVGBHYWpSzezcstebh2aptGXHJWBXZIY1LUFL83O03phIvVEBXYEVYErzndt2YQL+rTzOo74yO1np1Owp5S3tGqzSL1QgR3BJ8u3sGLzHm4Zkqb1vqRWBqW2YGCXJP72qVZtFqkPKrDDcM7x3IxcOiY1ZlQ/jb6k9u44O50tu0uZkLX+yDuLSK2owA5jVk4BS/ILuXVIGlGR+kcltXdqagsyOzXnxVmrKa3QKEykLum38iE4V33uq31iI37Yv73XccSnzIzbz05nU2EJ7y7Y4HUckQZFBXYIn63axsL1u7h5SCrRGn3JcRic3pJ+HRJ5YeZqyiurvI4j0mAE9TezmY0wsxwzyzWz+w7yfKyZvRN4fq6Zda7x3P2B7Tlmdm595nSu+qobbZvFccmAlPr8VhIGqkdhaeTvKmbi1/lexxFpMIJWYGYWCTwPjAR6AqPNrOcBu/0M2OmcSwOeBh4LHNsTuBw4ARgBvBB4vXoxJ287Wet2ctNZqcRG1du3kTAypFsrerVvyvOzcqnQKEykTgRzBDYQyHXO5TnnyoC3gVEH7DMKeDVw/13gbDOzwPa3nXOlzrk1QG7g9erFs9NX0SohlssyO9TXt5AwY2bcNjSdddv3MWnRRq/jiDQIwSyw9kDNucQbAtsOuo9zrgIoBFoc5bF1Yt6aHXyVt4MbzkwlLlqjL6k7w3u0pnubBP46M5fKKud1HGmAKiqreGzKCjbs3Od1lKBoULMTzGysmWWZWVZBQcExvca0ZZtpGR/DFQM71nE6CXcREdWjsLyCIiYv2eR1HGmAJi3ayIuzVrNs426vowRFMAssH6j5nlxKYNtB9zGzKKAZsP0oj8U5N845l+mcy0xOTj6mkL86rwcf3DaYRjEafUndG9mrDemt4vnrjFVUaRQmdaiyyvHXGbn0aNuU4T1bex0nKIJZYPOBdDPrYmYxVE/KmHTAPpOAMYH7lwAznHMusP3ywCzFLkA6MK8+QpoZbZrF1cdLixARYdw6NI2VW/Yydelmr+NIA/LB4o3kbSvi9qFpVE8daPiCVmCBc1q3AlOB5cAE59xSM3vYzC4M7PYy0MLMcoG7gPsCxy4FJgDLgCnALc45XdZAfOmCPu3o2rIJz87IpfrvM5HjUxUYfWW0jufcE8Jnwd2oYH4z59yHwIcHbPttjfslwKWHOPYPwB/qNaBIEERGGDcPSeMX/1rEJ8u3hs3bPVJ/pizdzKqte3l29IlhteRTg5rEIeIXo/q1o2NSY56bsUqjMDkuVVXVF17omtyE83uH14K7KjARD0RHRnDzWaks3lDIrJxjmzErAjAtsOTTbUPDb8knFZiIR37UP4X2iY34y3SNwuTYVC/5tIpOLRrzgzBccFcFJuKRmKgIbh6SysL1u/hs1Tav44gPzczZSnb+bm4J0yWfwu8nFgkhlwxIoW2zOI3CpNaql3zKJaV5I354Yngu+aQCE/FQbFQkN5+VyoJ1O/ly9Xav44iPfLZqG4vW7+KWIWlhu+RTeP7UIiHkspM60KZp9ShM5GjsX3C3XbM4Lu4fvks+qcBEPBYbFcmNZ3Zl3podzNEoTI7CnNXbWRBY8ikmKnx/jYfvTy4SQi4f2JFWCbE8q1GYHIFzjmemr6J101guDfMln1RgIiEgLjqSG85MZU7eduat2eF1HAlh+/8bufmstLBf8kkFJhIirhjYkZbxGoXJoTnneOaT6tHXj08K79EXqMBEQkajmEhuOKMrn+duY8E6jcLk+zT6+i4VmEgIufKUjrRoEsNfpud6HUVCjEZf36cCEwkhjWOiuP6MrsxeWcDX3+70Oo6EEI2+vk8FJhJirjqlE0lNYvjLJzoXJtU0+jo4FZhIiGkSG8UNZ3Tl05UFOhcmwP+Pvm46M1WjrxrqvcDMLMnMppnZqsDX5gfZp5+ZzTGzpWa22Mx+XOO5f5jZGjNbGLj1q+/MIl67alAnWsbH8PQ0jcLC3f7RV6uEWC4f2NHrOCElGCOw+4Dpzrl0YHrg8YH2AT91zp0AjACeMbPEGs/f45zrF7gtrO/AIl5rHBPFjWem8nnuNn0uLMz9/7kvjb4OFIwCGwW8Grj/KnDRgTs451Y651YF7m8EtgLJQcgmErKuPLkTyQmxPD1tpddRxCMafR1eMAqstXNuU+D+ZqD14XY2s4FADLC6xuY/BN5afNrMYuspp0hIaRQTyU2Bq3N8uVrrhYUjjb4Or04KzMw+MbPsg9xG1dzPVS94dMhFj8ysLfA6cI1zriqw+X6gO3ASkATce5jjx5pZlpllFRRomXbxvytO7kjrprE8M03rhYUb5xxPT1up0ddh1EmBOeeGOed6HeT2HrAlUEz7C2rrwV7DzJoCk4EHnHNf1XjtTa5aKfB3YOBhcoxzzmU65zKTk/UOpPhfXHQktwxJY97aHXyRqyvVh5PZq7Yxf+1Obhuqz30dSjDeQpwEjAncHwO8d+AOZhYDTARec869e8Bz+8vPqD5/ll2fYUVCzY9P6kDbZnE8/clKjcLChHOOJz/OoX1iIy7T574OKRgF9igw3MxWAcMCjzGzTDMbH9jnMuAM4OqDTJd/08yWAEuAlsAjQcgsEjJio6pHYQvW7WT2Kp0LCwfTlm1h8YZC7jg7ndgojb4OxRrqX3SZmZkuKyvL6xgidaKsooohf55Fy4RY/nvzqVS/ISENUVWV47xnP6O0ooppd55BVGRwrzdhZgucc5lB/abHSFfiEPGBmKgIbhuaxqL1u5iZc9DTyNJATF6yiRWb9/DzYelBLy+/0T8dEZ+4eEAKHZIa8eTHK6mqapjvnIS7isoqnp62km6tE/hBn3Zexwl5KjARn4iOjODOYRks3bibD7M3HfkA8Z2J3+STt62IO4dnEBGht4mPRAUm4iOj+rUno3U8T368kvLKqiMfIL5RVlHFX6avonf7Zpx7wmGv9yABKjARH4mMMO45tztrthXx7oINXseROjQhaz0bdhZz9zkZmqRzlFRgIj4zrEcr+ndM5C+frKKkvNLrOFIHSsoreW7GKjI7NefMDF2E4WipwER8xsz45YjubN5dwutz1nkdR+rAm3O/ZcvuUu4+p5tGX7WgAhPxoVO6tuCMjGSen5XL7pJyr+PIcdhTUs4LM3M5La0Fg1JbeB3HV1RgIj71y3O7sWtfOeNn53kdRY7DuNl5bC8q494R3b2O4jsqMBGf6tW+Gef3acv4z9ewbW+p13HkGGzZXcL/fJbHD/q2o09KotdxfEcFJuJjdw/PoLSiir/OyPU6ihyDZz5ZSWWV455zunkdxZdUYCI+1jU5nssyU/jn3G/ZsHOf13GkFnK37uGd+eu58uROdGzR2Os4vqQCE/G5289OB4Onp63yOorUwqMf5dAkJorbhqZ5HcW3VGAiPte2WSOuPrUz//lmA8s27vY6jhyF+Wt38MnyLdx4Viot4mO9juNbKjCRBuCWIWkkNormkcnLtOhliHPO8ccPl9O6aSzXntbF6zi+pgITaQCaNYrm58My+HL1dqYv13IroWxK9ma++XYXdw7LoFGMFqs8HkEpMDNLMrNpZrYq8LX5IfarrLEi86Qa27uY2VwzyzWzd8wsJhi5RfzkipM70jW5CX/8cLku9BuiyiureHxqDumt4rlkQIrXcXwvWCOw+4Dpzrl0YHrg8cEUO+f6BW4X1tj+GPC0cy4N2An8rH7jivhPdGQED5zXg7xtRbz5lS4xFYrenr+eNduKuHdEdy1WWQeC9U9wFPBq4P6rwEVHe6BVXxhsKPDusRwvEk6Gdm/FaWkteGb6Kgr36RJToWRPSTl/+WQlAzsncXaPVl7HaRCCVWCtnXP7V+DbDBxqsZs4M8sys6/M7KLAthbALudcReDxBqB9/UUV8S8z44HzelJYXM5zMzStPpQ8NyOXbXvLeOD8Hrpgbx2JqqsXMrNPgDYHeeqBmg+cc87MDjVNqpNzLt/MugIzzGwJUFiLDGOBsQAdO3Y82sNEGpSe7Zpy2YAOvDpnLT85pROdWzbxOlLYW12wl79/sYbLMlPo2yHR6zgNRp2NwJxzw5xzvQ5yew/YYmZtAQJfDzpNyjmXH/iaB8wCTgS2A4lmtr9sU4D8Qxw/zjmX6ZzLTE7WmjoSvu4+J4PoyAge/WiF11HCnnOOh99fRlxUJPecqwv21qVgvYU4CRgTuD8GeO/AHcysuZnFBu63BE4DlrnqD7XMBC453PEi8v9aNY3jpjNTmbJ0M3PztnsdJ6zNWLGVT1cWcMewdJIT9KHluhSsAnsUGG5mq4BhgceYWaaZjQ/s0wPIMrNFVBfWo865ZYHn7gXuMrNcqs+JvRyk3CK+dd3grrRtFscjk5dTVaUPN3uhtKKShz9YRmpyE346qLPXcRqcOjsHdjjOue3A2QfZngVcF7j/JdD7EMfnAQPrM6NIQ9MoJpJ7R3Tn5+8s5O3567niZJ0XDrZXPl/Luu37eO3agcREadp8XdM/UZEGbFS/dpzcJYnHpqxgu9YMC6otu0t4bsYqhvdszRkZOidfH1RgIg2YmfHIRb0oKq3gT5rQEVSPfrSCiirHb87v6XWUBksFJtLApbdO4PozuvLugg3MW7PD6zhhYcG6HUz8Jp/rB3fRWl/1SAUmEgZuG5pG+8RG/Pq/S3SdxHpWWeX43aRltGkax81naa2v+qQCEwkDjWOi+N2FJ7Byy15e+XyN13EatDfnrmNJfiH3n9edJrFBmScXtlRgImFieM/WDOvRimc+WcXGXcVex2mQ8ncV89hHKxic3pIL+7bzOk6DpwITCSMP/uAEHI6H3l/qdZQGxznHrycuocrBH3/YW9c7DAIVmEgY6ZDUmNvPTmfq0i3MWLHF6zgNyqRFG5mZU8Avzu1GhyRN3AgGFZhImLnu9K6ktYrnwUlLKS6r9DpOg7CjqIyH3l9Gvw6JXH1qZ6/jhA0VmEiYiYmK4PejerF+RzFPfpzjdZwG4fcfLGN3cTmPXdyHyAi9dRgsKjCRMDQotQU/OaUjL3+xhq90sd/jMitnKxO/yefms1Lp1ibB6zhhRQUmEqZ+dV4POiY15p53F7G3tOLIB8j37C2t4IGJ2aS1iueWofrMV7CpwETCVOOYKJ68tC8bdhbzh8nLvY7jS3+emsPGwmIeu7g3sVGRXscJOyowkTCW2TmJsYO78ta8b5mZc9B1ZuUQFqzbwatz1nLVKZ0Y0CnJ6zhhSQUmEubuHJ5BRut47n13Mbv2lXkdxxcKi8u54+2FtGvWiF+O0CrLXqn3AjOzJDObZmarAl+bH2SfIWa2sMatxMwuCjz3DzNbU+O5fvWdWSScxEVH8tRl/dhRVMaDk/QB5yNxzvHAxCVsKizh2dEnEq/LRXkmGCOw+4Dpzrl0YHrg8Xc452Y65/o55/oBQ4F9wMc1drln//POuYVByCwSVnq1b8ZtQ9N5b+FGPlyyyes4IW1C1no+WLyJu4ZnMKDT9/4elyAKRoGNAl4N3H8VuOgI+18CfOSc21efoUTku24ekkqflGY8MHEJW/eUeB0nJOVu3cODk5ZyamoLbjwz1es4YS8YBdbaObf/T7rNQOsj7H858NYB2/5gZovN7Gkzi63zhCJCdGQET13Wl31lldz1ziIqq5zXkUJKSXklt/7zGxrHRPH0j/vpA8shoE4KzMw+MbPsg9xG1dzPOeeAQ/5fYWZtgd7A1Bqb7we6AycBScC9hzl+rJllmVlWQUHB8fxIImEprVUCvx/Vi89zt/FnXaXjO/704XJWbN7Dk5f2pXXTOK/jCFAnZx+dc8MO9ZyZbTGzts65TYGCOtxc3cuAic658hqvvX/0Vmpmfwd+cZgc44BxAJmZmfrzUeQYXHZSB75Zv4sXZ62mb0oiI3q18TqS5z5euplX56zj2tO6MKR7K6/jSEAw3kKcBIwJ3B8DvHeYfUdzwNuHgdLDqtcmuAjIrvuIIlLT7y7sSd8OifziX4vI3brX6zie2lRYzC//vZgT2jXl3pHdvI4jNQSjwB4FhpvZKmBY4DFmlmlm4/fvZGadgQ7Apwcc/6aZLQGWAC2BR4KQWSSsxUZF8uKV/YmNiuCG17PC9lJTJeWV3Pzm15RVVPHc6BN1tY0QY9WnpRqezMxMl5WV5XUMEV/7cvU2fjJ+Luee0IYXruwfVos0VlU5bnvrGz7M3sSLV/ZnRK+2XkcKCjNb4JzL9DrH0dCVOETkkE5Nbcl9I7vzUfZmxs3O8zpOUP354xwmL9nEfSO6h015+Y0KTEQO6/rBXTm/d1sem7KCL3K3eR0nKCZkreeFWasZPbAjY8/o6nUcOQQVmIgclpnx+CV9SGsVz41vLCA7v9DrSPXqy9xt/Oo/Sxic3pKHR50QVm+b+o0KTESOqElsFH+/ZiBN46L56SvzyN26x+tI9SJ36x5ueGMBXZOb8PyV/YmO1K/IUKZ/OyJyVNonNuKN604mwoyfjJ/H+h0N62pv2/aWcs0/5hMbFcHLY06iaVy015HkCFRgInLUurRswhvXDaS4vJIrx89ly+6Gcc3Ewn3l/Owf89m6u5TxY06iQ1JjryPJUVCBiUitdG/TlFevHcj2vaX8ZPxcdhT5ew2xgj2l/HjcHJZv2sPzV/SnX4dEryPJUVKBiUit9euQyPgxJ/Htjn2MeWUeu0vKj3xQCMrfVcyPX5rDuu37ePnqTIb1PNK1xiWUqMBE5JgMSm3B334ygOWbdnP1K/N8NxJbs62IS1/8koK9pbz+s4EMTk/2OpLUkgpMRI7ZkO6t+OsVJ5K9cTejnv+cnM3+mJ24fNNuLv3bHEoqqnjr+lPI7JzkdSQ5BiowETkuI3q1ZcINgygtr+JHL3zBtGVbvI50WN98u5PLx31FVIQx4YZB9GrfzOtIcoxUYCJy3Pp1SGTSraeT2iqesa9n8cKsXELtOqvOOd6Z/y1X/M9cEhtH868bB5HWKt7rWHIcVGAiUifaNItjwg2DuKBPOx6fksOd7yykpLzS61gA7Cgq44bXF3Dvv5dwYsdE/nXDIE2VbwDqZEFLERGAuOhInr28H93bJPDE1BzWbCvi8Uv60q1NgmeZPl1ZwC/+tYjCfeU8cF4PfnZ6FyIidHmohkAjMBGpU2bGLUPSeOmqAazdvo/znv2MB9/LZte+4M5SLCmv5HeTljLmlXk0bxzNf285jevP6KryakA0AhORenHuCW04qXMST09byetfreO9RRu5e3gGowd2JKoerzFYVeX4ZPkWnpiaw6qte7nmtM7cO6I7cdFajLKhCcoIzMwuNbOlZlZlZodcKM3MRphZjpnlmtl9NbZ3MbO5ge3vmFlMMHKLyPFJahLD7y/qxeTbB9O9TQK/eW8pFzz3OV+urvtlWUrKK3lz7jqGPfUpY19fQHF5Ja9dO5AHf3CCyquBCsqKzGbWA6gCXgJ+4Zz73lLJZhYJrASGAxuA+cBo59wyM5sA/Mc597aZ/Q1Y5Jx78XDfUysyi4QW5xxTsjfzyOTl5O8qpnubBEb2ast5vduQ3vrYz5HtKCrj9TnreG3OWrYXldG7fTPGntGVkb3a1OtIr6Hy04rMQXkL0Tm3HDjSujoDgVznXF5g37eBUWa2HBgKXBHY71Xgd8BhC0xEQouZMbJ3W4Z0b8Xb877lg8WbeGb6Sp7+ZCWpyU0Y2astI3q1oWfbpoc8T+WcY/2OYrI3FpKdX0j2xt3MW7OdkvIqhnZvxdgzunJylySt4RUmQukcWHtgfY3HG4CTgRbALudcRY3t7YOcTUTqSFx0JFef1oWrT+vC1t0lTF26mY+yN/PCrFz+OjMXM0iIjaJpo2ia1bgVFpeTnV/I7pLqXwVREUZG6wQuHdCBnw7qdFyjOPGnOiswM/sEaHOQpx5wzr1XV9/nCBnGAmMBOnbsGIxvKSLHoVXTOK4a1JmrBnVm+95Spq/YyoadxewuLmd3cTmFgVvu1r00jonkgr7t6NWuGb3aNyWjdYLObYW5Oisw59yw43yJfKBDjccpgW3bgUQziwqMwvZvP1iGccA4qD4Hdpx5RCSIWsTHcllmhyPvKBIQSmc45wPpgRmHMcDlwCRXPctkJnBJYL8xQFBGdCIiErqCNY3+h2a2ARgETDazqYHt7czsQ4DA6OpWYCqwHJjgnFsaeIl7gbvMLJfqc2IvByO3iIiErqBMo/eCptGLiNSen6bRh9JbiCIiIkdNBSYiIr6kAhMREV9SgYmIiC+pwERExJca7CxEMysA1h3j4S2Bur9cdnD5/Wfwe37w/8+g/N7z4mfo5JxLDvL3PCYNtsCOh5ll+WUa6aH4/Wfwe37w/8+g/N5rCD9DfdJbiCIi4ksqMBER8SUV2MGN8zpAHfD7z+D3/OD/n0H5vdcQfoZ6o3NgIiLiSxqBiYiIL6nADmBmI8wsx8xyzew+r/PUlpm9YmZbzSzb6yzHwsw6mNlMM1tmZkvN7A6vM9WGmcWZ2TwzWxTI/5DXmY6FmUWa2Tdm9oHXWY6Fma01syVmttDMfHdVbzNLNLN3zWyFmS03s0FeZwpFeguxBjOLBFYCw4ENVK9RNto5t8zTYLVgZmcAe4HXnHO9vM5TW2bWFmjrnPvazBKABcBFfvl3YGYGNHHO7TWzaOBz4A7n3FceR6sVM7sLyASaOucu8DpPbZnZWiDTOefLz4GZ2avAZ8658YH1ERs753Z5HCvkaAT2XQOBXOdcnnOuDHgbGOVxplpxzs0Gdnid41g55zY5574O3N9D9dpw7b1NdfRctb2Bh9GBm6/+SjSzFOB8YLzXWcKRmTUDziCw7qFzrkzldXAqsO9qD6yv8XgDPvrl2dCYWWfgRGCux1FqJfD220JgKzDNOeer/MAzwC+BKo9zHA8HfGxmC8xsrNdhaqkLUAD8PfA27ngza+J1qFCkApOQZGbxwL+Bnzvndnudpzacc5XOuX5ACjDQzHzzVq6ZXQBsdc4t8DrLcTrdOdcfGAncEnhr3S+igP7Ai865E4EiwHfn44NBBfZd+UCHGo9TAtskiALnjv4NvOmc+4/XeY5V4G2fmcAIj6PUxmnAhYFzSG8DQ83sDW8j1Z5zLj/wdSswkerTA36xAdhQY+T+LtWFJgdQgX3XfCDdzLoETpxeDkzyOFNYCUyCeBlY7px7yus8tWVmyWaWGLjfiOoJQSs8DVULzrn7nXMpzrnOVP/3P8M59xOPY9WKmTUJTAAi8NbbOYBvZuU65zYD682sW2DT2YAvJjEFW5TXAUKJc67CzG4FpgKRwCvOuaUex6oVM3sLOAtoaWYbgAedcy97m6pWTgOuApYEziMB/Mo596F3kWqlLfBqYEZrBDDBOefLqeg+1hqYWP23EFHAP51zU7yNVGu3AW8G/pDOA67xOE9I0jR6ERHxJb2FKCIivqQCExERX1KBiYiIL6nARETEl1RgIiLiSyowERHxJRWYiIj4kgpMRER8SQUmIiK+pAITERFfUoGJiIgvqcBERMSXVGAiIuJLKjAREfElFZiIiPiSCkxERHxJBSYiIr6kAhMREV9SgYmIiC+pwERExJf+F+i/E/8OLld4AAAAAElFTkSuQmCC' width=432.0/>\n",
       "            </div>\n",
       "        "
      ],
      "text/plain": [
       "Canvas(toolbar=Toolbar(toolitems=[('Home', 'Reset original view', 'home', 'home'), ('Back', 'Back to previous …"
      ]
     },
     "metadata": {},
     "output_type": "display_data"
    }
   ],
   "source": [
    "%matplotlib notebook\n",
    "from ipywidgets import *\n",
    "import numpy as np\n",
    "import matplotlib.pyplot as plt\n",
    "\n",
    "x = np.linspace(0, 2 * np.pi)\n",
    "fig = plt.figure()\n",
    "ax = fig.add_subplot(1, 1, 1)\n",
    "line, = ax.plot(x, np.sin(x))\n",
    "\n",
    "def update(w = 1.0):\n",
    "    line.set_ydata(np.sin(w * x))\n",
    "    fig.canvas.draw_idle()\n",
    "\n",
    "interact(update);"
   ]
  },
  {
   "cell_type": "code",
   "execution_count": 20,
   "id": "889cf5c1-908d-49c5-a4d4-4357dd8f3f85",
   "metadata": {},
   "outputs": [
    {
     "data": {
      "application/vnd.jupyter.widget-view+json": {
       "model_id": "6ba4d129663340bcb77942d6f12ef39b",
       "version_major": 2,
       "version_minor": 0
      },
      "text/plain": [
       "IntSlider(value=7, continuous_update=False, description='Test:', max=10)"
      ]
     },
     "metadata": {},
     "output_type": "display_data"
    }
   ],
   "source": [
    "import ipywidgets as widgets\n",
    "widgets.IntSlider(\n",
    "    value=7,\n",
    "    min=0,\n",
    "    max=10,\n",
    "    step=1,\n",
    "    description='Test:',\n",
    "    disabled=False,\n",
    "    continuous_update=False,\n",
    "    orientation='horizontal',\n",
    "    readout=True,\n",
    "    readout_format='d'\n",
    ")"
   ]
  },
  {
   "cell_type": "code",
   "execution_count": 7,
   "id": "3ca8d56e-e7de-472f-b8f8-ae31f804c55b",
   "metadata": {},
   "outputs": [],
   "source": [
    "def addition(x,y,z):\n",
    "    return x + y + z"
   ]
  },
  {
   "cell_type": "code",
   "execution_count": 10,
   "id": "f5731ad0",
   "metadata": {},
   "outputs": [
    {
     "data": {
      "application/vnd.jupyter.widget-view+json": {
       "model_id": "1841113c717e483385e9a8e65f02e70f",
       "version_major": 2,
       "version_minor": 0
      },
      "text/plain": [
       "interactive(children=(IntSlider(value=0, description='x', max=5), IntSlider(value=0, description='y', max=5), …"
      ]
     },
     "metadata": {},
     "output_type": "display_data"
    },
    {
     "data": {
      "text/plain": [
       "<function __main__.addition(x, y, z)>"
      ]
     },
     "execution_count": 10,
     "metadata": {},
     "output_type": "execute_result"
    }
   ],
   "source": [
    "widgets.interact(addition,\n",
    "                 x=widgets.IntSlider(value=0,\n",
    "                                    min=0,\n",
    "                                    max=5,\n",
    "                                    step=1),\n",
    "                 y=widgets.IntSlider(value=0,\n",
    "                                    min=0,\n",
    "                                    max=5,\n",
    "                                    step=1),\n",
    "                 z=widgets.IntSlider(value=0,\n",
    "                                    min=0,\n",
    "                                    max=5,\n",
    "                                    step=1))"
   ]
  },
  {
   "cell_type": "code",
   "execution_count": 1,
   "id": "141fcc32",
   "metadata": {},
   "outputs": [],
   "source": [
    "file = '/Users/mkv/code/mkvph0ch/memobrain/raw_data/OASIS1/OAS1_RAW/OAS1_0001_MR1/PROCESSED/MPRAGE/SUBJ_111/OAS1_0001_MR1_mpr_n4_anon_sbj_111_sag_88.gif'"
   ]
  },
  {
   "cell_type": "code",
   "execution_count": 14,
   "id": "f81f7e52-8fc7-42db-a9cc-d6f02849c0e1",
   "metadata": {},
   "outputs": [],
   "source": [
    "#from PIL import Image\n",
    "import matplotlib.pyplot as plt\n",
    "from matplotlib import image\n",
    "%matplotlib inline"
   ]
  },
  {
   "cell_type": "code",
   "execution_count": 5,
   "id": "899ccf74-e567-4c99-b7a5-6243ee81b6b3",
   "metadata": {},
   "outputs": [],
   "source": [
    "test_gif = Image.open(file)"
   ]
  },
  {
   "cell_type": "code",
   "execution_count": 7,
   "id": "46c554e1-67f4-43a3-935e-8b02487dd2ec",
   "metadata": {},
   "outputs": [
    {
     "data": {
      "text/plain": [
       "PIL.GifImagePlugin.GifImageFile"
      ]
     },
     "execution_count": 7,
     "metadata": {},
     "output_type": "execute_result"
    }
   ],
   "source": [
    "type(test_gif)"
   ]
  },
  {
   "cell_type": "code",
   "execution_count": 8,
   "id": "b6e39588-8dd7-4fce-ba69-d938cf9c532e",
   "metadata": {},
   "outputs": [
    {
     "data": {
      "text/plain": [
       "{'version': b'GIF89a', 'background': 0}"
      ]
     },
     "execution_count": 8,
     "metadata": {},
     "output_type": "execute_result"
    }
   ],
   "source": [
    "test_gif.info"
   ]
  },
  {
   "cell_type": "code",
   "execution_count": 9,
   "id": "cc02a51c-b2d6-4996-ae66-115bdc4e7d8c",
   "metadata": {},
   "outputs": [
    {
     "data": {
      "text/plain": [
       "(256, 256)"
      ]
     },
     "execution_count": 9,
     "metadata": {},
     "output_type": "execute_result"
    }
   ],
   "source": [
    "test_gif.size"
   ]
  },
  {
   "cell_type": "code",
   "execution_count": 10,
   "id": "72f8aa4e-8c2e-4dd5-b5c2-644e8b14cb32",
   "metadata": {},
   "outputs": [
    {
     "data": {
      "text/plain": [
       "'GIF'"
      ]
     },
     "execution_count": 10,
     "metadata": {},
     "output_type": "execute_result"
    }
   ],
   "source": [
    "test_gif.format"
   ]
  },
  {
   "cell_type": "code",
   "execution_count": 17,
   "id": "4f6dad12-f9d0-42d0-850a-ecb119a17bc9",
   "metadata": {},
   "outputs": [
    {
     "data": {
      "text/plain": [
       "(256, 256)"
      ]
     },
     "execution_count": 17,
     "metadata": {},
     "output_type": "execute_result"
    }
   ],
   "source": [
    "image.imread(file).shape"
   ]
  },
  {
   "cell_type": "code",
   "execution_count": 18,
   "id": "6224a5e3-e043-4cba-a578-41ca10f168df",
   "metadata": {},
   "outputs": [
    {
     "data": {
      "text/plain": [
       "array([[0, 0, 0, ..., 0, 0, 0],\n",
       "       [0, 0, 0, ..., 0, 0, 0],\n",
       "       [0, 0, 0, ..., 0, 0, 0],\n",
       "       ...,\n",
       "       [0, 0, 0, ..., 0, 0, 0],\n",
       "       [0, 0, 0, ..., 0, 0, 0],\n",
       "       [0, 0, 0, ..., 0, 0, 0]], dtype=uint8)"
      ]
     },
     "execution_count": 18,
     "metadata": {},
     "output_type": "execute_result"
    }
   ],
   "source": [
    "image.imread(file)"
   ]
  },
  {
   "cell_type": "code",
   "execution_count": 22,
   "id": "612849c7-b61f-4943-a4f2-4c0d7eb45402",
   "metadata": {},
   "outputs": [
    {
     "ename": "AttributeError",
     "evalue": "'numpy.ndarray' object has no attribute 'unique'",
     "output_type": "error",
     "traceback": [
      "\u001b[0;31m---------------------------------------------------------------------------\u001b[0m",
      "\u001b[0;31mAttributeError\u001b[0m                            Traceback (most recent call last)",
      "Input \u001b[0;32mIn [22]\u001b[0m, in \u001b[0;36m<cell line: 1>\u001b[0;34m()\u001b[0m\n\u001b[0;32m----> 1\u001b[0m \u001b[43mimage\u001b[49m\u001b[38;5;241;43m.\u001b[39;49m\u001b[43mimread\u001b[49m\u001b[43m(\u001b[49m\u001b[43mfile\u001b[49m\u001b[43m)\u001b[49m\u001b[38;5;241;43m.\u001b[39;49m\u001b[43munique\u001b[49m\n",
      "\u001b[0;31mAttributeError\u001b[0m: 'numpy.ndarray' object has no attribute 'unique'"
     ]
    }
   ],
   "source": [
    "image.imread(file)"
   ]
  },
  {
   "cell_type": "code",
   "execution_count": 29,
   "id": "befb24a2-8fa5-422d-855b-eb37f5ae4320",
   "metadata": {},
   "outputs": [],
   "source": [
    "import numpy as np"
   ]
  },
  {
   "cell_type": "code",
   "execution_count": 25,
   "id": "7dff0626-af30-4e0d-867f-f092efa688c6",
   "metadata": {},
   "outputs": [],
   "source": [
    "a = plt.imread(file)"
   ]
  },
  {
   "cell_type": "code",
   "execution_count": 27,
   "id": "05c23932-0d1f-4096-b1ed-ceb782649f96",
   "metadata": {},
   "outputs": [
    {
     "data": {
      "text/plain": [
       "(256, 256)"
      ]
     },
     "execution_count": 27,
     "metadata": {},
     "output_type": "execute_result"
    }
   ],
   "source": [
    "a.shape"
   ]
  },
  {
   "cell_type": "code",
   "execution_count": 39,
   "id": "741fbb29-d5ce-431b-8c17-2e37230375cf",
   "metadata": {},
   "outputs": [
    {
     "data": {
      "text/plain": [
       "array([  0,   1,   2,   3,   4,   5,   6,   7,   8,   9,  10,  11,  12,\n",
       "        13,  14,  15,  16,  17,  18,  19,  20,  21,  22,  23,  24,  25,\n",
       "        26,  27,  28,  29,  30,  31,  32,  33,  34,  35,  36,  37,  38,\n",
       "        39,  40,  41,  42,  43,  44,  45,  46,  47,  48,  49,  50,  51,\n",
       "        52,  53,  54,  55,  56,  57,  58,  59,  60,  61,  62,  63,  64,\n",
       "        65,  66,  67,  68,  69,  70,  71,  72,  73,  74,  75,  76,  77,\n",
       "        78,  79,  80,  81,  82,  83,  84,  85,  86,  87,  88,  89,  90,\n",
       "        91,  92,  93,  94,  95,  96,  97,  98,  99, 100, 101, 102, 103,\n",
       "       104, 105, 106, 107, 108, 109, 110, 111, 112, 113, 114, 115, 116,\n",
       "       117, 118, 119, 120, 121, 122, 123, 124, 125, 126, 127, 128, 129,\n",
       "       130, 131, 132, 133, 134, 135, 136, 137, 138, 139, 140, 141, 142,\n",
       "       143, 144, 145, 146, 147, 148, 149, 150, 151, 152, 153, 154, 155,\n",
       "       156, 157, 158, 159, 160, 161, 162, 163, 164, 165, 166, 167, 168,\n",
       "       169, 170, 171, 172, 173, 174, 175, 176, 177, 178, 179, 180, 181,\n",
       "       182, 183, 184, 185, 186, 187, 188, 189, 190, 191, 192, 193, 194,\n",
       "       195, 196, 197, 198, 199, 200, 201, 202, 203, 204, 205, 206, 207,\n",
       "       208, 209, 210, 212, 213, 214, 215, 217], dtype=uint8)"
      ]
     },
     "execution_count": 39,
     "metadata": {},
     "output_type": "execute_result"
    }
   ],
   "source": [
    "np.unique(a)"
   ]
  },
  {
   "cell_type": "code",
   "execution_count": 26,
   "id": "6dbafeb0-bec2-435c-83dd-26a747a4caea",
   "metadata": {},
   "outputs": [
    {
     "data": {
      "text/plain": [
       "<matplotlib.image.AxesImage at 0x13285cd60>"
      ]
     },
     "execution_count": 26,
     "metadata": {},
     "output_type": "execute_result"
    },
    {
     "data": {
      "image/png": "[encoded data removed]",
      "text/plain": [
       "<Figure size 432x288 with 1 Axes>"
      ]
     },
     "metadata": {
      "needs_background": "light"
     },
     "output_type": "display_data"
    }
   ],
   "source": [
    "plt.imshow(a)"
   ]
  },
  {
   "cell_type": "code",
   "execution_count": null,
   "id": "da995092-5ebd-486f-9b09-e3795fe68415",
   "metadata": {},
   "outputs": [],
   "source": []
  }
 ],
 "metadata": {
  "kernelspec": {
   "display_name": "Python 3 (ipykernel)",
   "language": "python",
   "name": "python3"
  },
  "language_info": {
   "codemirror_mode": {
    "name": "ipython",
    "version": 3
   },
   "file_extension": ".py",
   "mimetype": "text/x-python",
   "name": "python",
   "nbconvert_exporter": "python",
   "pygments_lexer": "ipython3",
   "version": "3.8.12"
  },
  "toc": {
   "base_numbering": 1,
   "nav_menu": {},
   "number_sections": true,
   "sideBar": true,
   "skip_h1_title": false,
   "title_cell": "Table of Contents",
   "title_sidebar": "Contents",
   "toc_cell": false,
   "toc_position": {},
   "toc_section_display": true,
   "toc_window_display": false
  }
 },
 "nbformat": 4,
 "nbformat_minor": 5
}
