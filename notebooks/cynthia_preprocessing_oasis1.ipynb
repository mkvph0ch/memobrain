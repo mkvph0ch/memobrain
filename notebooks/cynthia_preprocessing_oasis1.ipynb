{
 "cells": [
  {
   "cell_type": "markdown",
   "id": "268b002b",
   "metadata": {},
   "source": [
    "# Preprocessing OASIS1"
   ]
  },
  {
   "cell_type": "code",
   "execution_count": 1,
   "id": "c1b2a9f2",
   "metadata": {},
   "outputs": [],
   "source": [
    "# IMPORTS\n",
    "# DATA MANIPULATION\n",
    "import pandas as pd\n",
    "import numpy as np\n",
    "\n",
    "# DATA VISUALISATION\n",
    "import matplotlib.pyplot as plt\n",
    "import seaborn as sns\n",
    "sns.set()\n",
    "from sklearn import set_config; set_config(display='diagram') # Visualize pipelines in HTML\n",
    "import graphviz\n",
    "from sklearn.tree import export_graphviz\n",
    "from sklearn import tree\n",
    "\n",
    "# MACHINE LEARNING\n",
    "from sklearn.preprocessing import StandardScaler, RobustScaler, MinMaxScaler\n",
    "from sklearn.preprocessing import OneHotEncoder, LabelEncoder, FunctionTransformer\n",
    "from sklearn.pipeline import Pipeline\n",
    "from sklearn.compose import ColumnTransformer\n",
    "from sklearn.model_selection import train_test_split, GridSearchCV, RandomizedSearchCV\n",
    "from sklearn.tree import DecisionTreeRegressor, DecisionTreeClassifier\n",
    "from sklearn.neighbors import KNeighborsClassifier\n",
    "from sklearn.metrics import recall_score, confusion_matrix, ConfusionMatrixDisplay\n",
    "from sklearn.svm import SVC\n",
    "from sklearn.impute import SimpleImputer\n",
    "from sklearn.base import BaseEstimator, TransformerMixin"
   ]
  },
  {
   "cell_type": "code",
   "execution_count": 2,
   "id": "3c4d731d",
   "metadata": {},
   "outputs": [],
   "source": [
    "# Importing Data\n",
    "oasis1_cs_path = '../raw_data/OASIS1/oasis_cross-sectional.csv'\n",
    "oasis1 = pd.read_csv(oasis1_cs_path)"
   ]
  },
  {
   "cell_type": "code",
   "execution_count": 3,
   "id": "3a526545",
   "metadata": {},
   "outputs": [
    {
     "data": {
      "text/plain": [
       "(436, 12)"
      ]
     },
     "execution_count": 3,
     "metadata": {},
     "output_type": "execute_result"
    }
   ],
   "source": [
    "# Checking shape\n",
    "oasis1.shape"
   ]
  },
  {
   "cell_type": "markdown",
   "id": "9eabf809",
   "metadata": {},
   "source": [
    "📜 <big> Note: </big>\n",
    "\n",
    "\n",
    "**CDR;** Clinical Dementia Rating \n",
    "\n",
    "0= nondemented; 0.5 – very mild dementia; 1 = mild dementia; 2 = moderate dementia\n",
    "\n",
    "\n",
    "**eTIV;** Estimated total intracranial volume (eTIV)\n",
    "\n",
    "**nWBV** Normalized whole brain volume\n",
    "\n",
    "**ASF;** Atlas scaling factor"
   ]
  },
  {
   "cell_type": "code",
   "execution_count": 4,
   "id": "c1cc74a3",
   "metadata": {},
   "outputs": [
    {
     "data": {
      "text/html": [
       "<div>\n",
       "<style scoped>\n",
       "    .dataframe tbody tr th:only-of-type {\n",
       "        vertical-align: middle;\n",
       "    }\n",
       "\n",
       "    .dataframe tbody tr th {\n",
       "        vertical-align: top;\n",
       "    }\n",
       "\n",
       "    .dataframe thead th {\n",
       "        text-align: right;\n",
       "    }\n",
       "</style>\n",
       "<table border=\"1\" class=\"dataframe\">\n",
       "  <thead>\n",
       "    <tr style=\"text-align: right;\">\n",
       "      <th></th>\n",
       "      <th>ID</th>\n",
       "      <th>M/F</th>\n",
       "      <th>Hand</th>\n",
       "      <th>Age</th>\n",
       "      <th>Educ</th>\n",
       "      <th>SES</th>\n",
       "      <th>MMSE</th>\n",
       "      <th>CDR</th>\n",
       "      <th>eTIV</th>\n",
       "      <th>nWBV</th>\n",
       "      <th>ASF</th>\n",
       "      <th>Delay</th>\n",
       "    </tr>\n",
       "  </thead>\n",
       "  <tbody>\n",
       "    <tr>\n",
       "      <th>421</th>\n",
       "      <td>OAS1_0117_MR2</td>\n",
       "      <td>M</td>\n",
       "      <td>R</td>\n",
       "      <td>25</td>\n",
       "      <td>NaN</td>\n",
       "      <td>NaN</td>\n",
       "      <td>NaN</td>\n",
       "      <td>NaN</td>\n",
       "      <td>1753</td>\n",
       "      <td>0.782</td>\n",
       "      <td>1.001</td>\n",
       "      <td>5.0</td>\n",
       "    </tr>\n",
       "    <tr>\n",
       "      <th>82</th>\n",
       "      <td>OAS1_0087_MR1</td>\n",
       "      <td>F</td>\n",
       "      <td>R</td>\n",
       "      <td>21</td>\n",
       "      <td>NaN</td>\n",
       "      <td>NaN</td>\n",
       "      <td>NaN</td>\n",
       "      <td>NaN</td>\n",
       "      <td>1507</td>\n",
       "      <td>0.845</td>\n",
       "      <td>1.165</td>\n",
       "      <td>NaN</td>\n",
       "    </tr>\n",
       "    <tr>\n",
       "      <th>11</th>\n",
       "      <td>OAS1_0013_MR1</td>\n",
       "      <td>F</td>\n",
       "      <td>R</td>\n",
       "      <td>81</td>\n",
       "      <td>5.0</td>\n",
       "      <td>2.0</td>\n",
       "      <td>30.0</td>\n",
       "      <td>0.0</td>\n",
       "      <td>1664</td>\n",
       "      <td>0.679</td>\n",
       "      <td>1.055</td>\n",
       "      <td>NaN</td>\n",
       "    </tr>\n",
       "    <tr>\n",
       "      <th>143</th>\n",
       "      <td>OAS1_0155_MR1</td>\n",
       "      <td>M</td>\n",
       "      <td>R</td>\n",
       "      <td>71</td>\n",
       "      <td>4.0</td>\n",
       "      <td>NaN</td>\n",
       "      <td>28.0</td>\n",
       "      <td>0.5</td>\n",
       "      <td>1359</td>\n",
       "      <td>0.753</td>\n",
       "      <td>1.291</td>\n",
       "      <td>NaN</td>\n",
       "    </tr>\n",
       "    <tr>\n",
       "      <th>184</th>\n",
       "      <td>OAS1_0202_MR1</td>\n",
       "      <td>F</td>\n",
       "      <td>R</td>\n",
       "      <td>23</td>\n",
       "      <td>NaN</td>\n",
       "      <td>NaN</td>\n",
       "      <td>NaN</td>\n",
       "      <td>NaN</td>\n",
       "      <td>1574</td>\n",
       "      <td>0.865</td>\n",
       "      <td>1.115</td>\n",
       "      <td>NaN</td>\n",
       "    </tr>\n",
       "    <tr>\n",
       "      <th>322</th>\n",
       "      <td>OAS1_0356_MR1</td>\n",
       "      <td>F</td>\n",
       "      <td>R</td>\n",
       "      <td>68</td>\n",
       "      <td>3.0</td>\n",
       "      <td>2.0</td>\n",
       "      <td>30.0</td>\n",
       "      <td>0.0</td>\n",
       "      <td>1506</td>\n",
       "      <td>0.740</td>\n",
       "      <td>1.165</td>\n",
       "      <td>NaN</td>\n",
       "    </tr>\n",
       "    <tr>\n",
       "      <th>301</th>\n",
       "      <td>OAS1_0333_MR1</td>\n",
       "      <td>M</td>\n",
       "      <td>R</td>\n",
       "      <td>26</td>\n",
       "      <td>NaN</td>\n",
       "      <td>NaN</td>\n",
       "      <td>NaN</td>\n",
       "      <td>NaN</td>\n",
       "      <td>1607</td>\n",
       "      <td>0.850</td>\n",
       "      <td>1.092</td>\n",
       "      <td>NaN</td>\n",
       "    </tr>\n",
       "    <tr>\n",
       "      <th>270</th>\n",
       "      <td>OAS1_0299_MR1</td>\n",
       "      <td>F</td>\n",
       "      <td>R</td>\n",
       "      <td>90</td>\n",
       "      <td>2.0</td>\n",
       "      <td>3.0</td>\n",
       "      <td>29.0</td>\n",
       "      <td>0.0</td>\n",
       "      <td>1475</td>\n",
       "      <td>0.671</td>\n",
       "      <td>1.190</td>\n",
       "      <td>NaN</td>\n",
       "    </tr>\n",
       "    <tr>\n",
       "      <th>334</th>\n",
       "      <td>OAS1_0370_MR1</td>\n",
       "      <td>M</td>\n",
       "      <td>R</td>\n",
       "      <td>23</td>\n",
       "      <td>NaN</td>\n",
       "      <td>NaN</td>\n",
       "      <td>NaN</td>\n",
       "      <td>NaN</td>\n",
       "      <td>1734</td>\n",
       "      <td>0.847</td>\n",
       "      <td>1.012</td>\n",
       "      <td>NaN</td>\n",
       "    </tr>\n",
       "    <tr>\n",
       "      <th>345</th>\n",
       "      <td>OAS1_0381_MR1</td>\n",
       "      <td>M</td>\n",
       "      <td>R</td>\n",
       "      <td>59</td>\n",
       "      <td>4.0</td>\n",
       "      <td>2.0</td>\n",
       "      <td>29.0</td>\n",
       "      <td>0.0</td>\n",
       "      <td>1795</td>\n",
       "      <td>0.809</td>\n",
       "      <td>0.978</td>\n",
       "      <td>NaN</td>\n",
       "    </tr>\n",
       "    <tr>\n",
       "      <th>408</th>\n",
       "      <td>OAS1_0450_MR1</td>\n",
       "      <td>M</td>\n",
       "      <td>R</td>\n",
       "      <td>19</td>\n",
       "      <td>NaN</td>\n",
       "      <td>NaN</td>\n",
       "      <td>NaN</td>\n",
       "      <td>NaN</td>\n",
       "      <td>1478</td>\n",
       "      <td>0.880</td>\n",
       "      <td>1.188</td>\n",
       "      <td>NaN</td>\n",
       "    </tr>\n",
       "    <tr>\n",
       "      <th>397</th>\n",
       "      <td>OAS1_0439_MR1</td>\n",
       "      <td>M</td>\n",
       "      <td>R</td>\n",
       "      <td>21</td>\n",
       "      <td>NaN</td>\n",
       "      <td>NaN</td>\n",
       "      <td>NaN</td>\n",
       "      <td>NaN</td>\n",
       "      <td>1438</td>\n",
       "      <td>0.844</td>\n",
       "      <td>1.221</td>\n",
       "      <td>NaN</td>\n",
       "    </tr>\n",
       "    <tr>\n",
       "      <th>231</th>\n",
       "      <td>OAS1_0258_MR1</td>\n",
       "      <td>F</td>\n",
       "      <td>R</td>\n",
       "      <td>21</td>\n",
       "      <td>NaN</td>\n",
       "      <td>NaN</td>\n",
       "      <td>NaN</td>\n",
       "      <td>NaN</td>\n",
       "      <td>1516</td>\n",
       "      <td>0.870</td>\n",
       "      <td>1.158</td>\n",
       "      <td>NaN</td>\n",
       "    </tr>\n",
       "    <tr>\n",
       "      <th>46</th>\n",
       "      <td>OAS1_0051_MR1</td>\n",
       "      <td>F</td>\n",
       "      <td>R</td>\n",
       "      <td>24</td>\n",
       "      <td>NaN</td>\n",
       "      <td>NaN</td>\n",
       "      <td>NaN</td>\n",
       "      <td>NaN</td>\n",
       "      <td>1567</td>\n",
       "      <td>0.835</td>\n",
       "      <td>1.120</td>\n",
       "      <td>NaN</td>\n",
       "    </tr>\n",
       "    <tr>\n",
       "      <th>33</th>\n",
       "      <td>OAS1_0037_MR1</td>\n",
       "      <td>M</td>\n",
       "      <td>R</td>\n",
       "      <td>27</td>\n",
       "      <td>NaN</td>\n",
       "      <td>NaN</td>\n",
       "      <td>NaN</td>\n",
       "      <td>NaN</td>\n",
       "      <td>1313</td>\n",
       "      <td>0.842</td>\n",
       "      <td>1.336</td>\n",
       "      <td>NaN</td>\n",
       "    </tr>\n",
       "    <tr>\n",
       "      <th>45</th>\n",
       "      <td>OAS1_0050_MR1</td>\n",
       "      <td>F</td>\n",
       "      <td>R</td>\n",
       "      <td>48</td>\n",
       "      <td>NaN</td>\n",
       "      <td>NaN</td>\n",
       "      <td>NaN</td>\n",
       "      <td>NaN</td>\n",
       "      <td>1358</td>\n",
       "      <td>0.841</td>\n",
       "      <td>1.293</td>\n",
       "      <td>NaN</td>\n",
       "    </tr>\n",
       "    <tr>\n",
       "      <th>365</th>\n",
       "      <td>OAS1_0403_MR1</td>\n",
       "      <td>M</td>\n",
       "      <td>R</td>\n",
       "      <td>19</td>\n",
       "      <td>NaN</td>\n",
       "      <td>NaN</td>\n",
       "      <td>NaN</td>\n",
       "      <td>NaN</td>\n",
       "      <td>1592</td>\n",
       "      <td>0.833</td>\n",
       "      <td>1.102</td>\n",
       "      <td>NaN</td>\n",
       "    </tr>\n",
       "    <tr>\n",
       "      <th>206</th>\n",
       "      <td>OAS1_0227_MR1</td>\n",
       "      <td>F</td>\n",
       "      <td>R</td>\n",
       "      <td>26</td>\n",
       "      <td>NaN</td>\n",
       "      <td>NaN</td>\n",
       "      <td>NaN</td>\n",
       "      <td>NaN</td>\n",
       "      <td>1288</td>\n",
       "      <td>0.777</td>\n",
       "      <td>1.362</td>\n",
       "      <td>NaN</td>\n",
       "    </tr>\n",
       "    <tr>\n",
       "      <th>129</th>\n",
       "      <td>OAS1_0139_MR1</td>\n",
       "      <td>F</td>\n",
       "      <td>R</td>\n",
       "      <td>72</td>\n",
       "      <td>3.0</td>\n",
       "      <td>3.0</td>\n",
       "      <td>28.0</td>\n",
       "      <td>0.0</td>\n",
       "      <td>1512</td>\n",
       "      <td>0.779</td>\n",
       "      <td>1.161</td>\n",
       "      <td>NaN</td>\n",
       "    </tr>\n",
       "    <tr>\n",
       "      <th>373</th>\n",
       "      <td>OAS1_0411_MR1</td>\n",
       "      <td>F</td>\n",
       "      <td>R</td>\n",
       "      <td>71</td>\n",
       "      <td>5.0</td>\n",
       "      <td>1.0</td>\n",
       "      <td>29.0</td>\n",
       "      <td>0.5</td>\n",
       "      <td>1346</td>\n",
       "      <td>0.742</td>\n",
       "      <td>1.304</td>\n",
       "      <td>NaN</td>\n",
       "    </tr>\n",
       "  </tbody>\n",
       "</table>\n",
       "</div>"
      ],
      "text/plain": [
       "                ID M/F Hand  Age  Educ  SES  MMSE  CDR  eTIV   nWBV    ASF  \\\n",
       "421  OAS1_0117_MR2   M    R   25   NaN  NaN   NaN  NaN  1753  0.782  1.001   \n",
       "82   OAS1_0087_MR1   F    R   21   NaN  NaN   NaN  NaN  1507  0.845  1.165   \n",
       "11   OAS1_0013_MR1   F    R   81   5.0  2.0  30.0  0.0  1664  0.679  1.055   \n",
       "143  OAS1_0155_MR1   M    R   71   4.0  NaN  28.0  0.5  1359  0.753  1.291   \n",
       "184  OAS1_0202_MR1   F    R   23   NaN  NaN   NaN  NaN  1574  0.865  1.115   \n",
       "322  OAS1_0356_MR1   F    R   68   3.0  2.0  30.0  0.0  1506  0.740  1.165   \n",
       "301  OAS1_0333_MR1   M    R   26   NaN  NaN   NaN  NaN  1607  0.850  1.092   \n",
       "270  OAS1_0299_MR1   F    R   90   2.0  3.0  29.0  0.0  1475  0.671  1.190   \n",
       "334  OAS1_0370_MR1   M    R   23   NaN  NaN   NaN  NaN  1734  0.847  1.012   \n",
       "345  OAS1_0381_MR1   M    R   59   4.0  2.0  29.0  0.0  1795  0.809  0.978   \n",
       "408  OAS1_0450_MR1   M    R   19   NaN  NaN   NaN  NaN  1478  0.880  1.188   \n",
       "397  OAS1_0439_MR1   M    R   21   NaN  NaN   NaN  NaN  1438  0.844  1.221   \n",
       "231  OAS1_0258_MR1   F    R   21   NaN  NaN   NaN  NaN  1516  0.870  1.158   \n",
       "46   OAS1_0051_MR1   F    R   24   NaN  NaN   NaN  NaN  1567  0.835  1.120   \n",
       "33   OAS1_0037_MR1   M    R   27   NaN  NaN   NaN  NaN  1313  0.842  1.336   \n",
       "45   OAS1_0050_MR1   F    R   48   NaN  NaN   NaN  NaN  1358  0.841  1.293   \n",
       "365  OAS1_0403_MR1   M    R   19   NaN  NaN   NaN  NaN  1592  0.833  1.102   \n",
       "206  OAS1_0227_MR1   F    R   26   NaN  NaN   NaN  NaN  1288  0.777  1.362   \n",
       "129  OAS1_0139_MR1   F    R   72   3.0  3.0  28.0  0.0  1512  0.779  1.161   \n",
       "373  OAS1_0411_MR1   F    R   71   5.0  1.0  29.0  0.5  1346  0.742  1.304   \n",
       "\n",
       "     Delay  \n",
       "421    5.0  \n",
       "82     NaN  \n",
       "11     NaN  \n",
       "143    NaN  \n",
       "184    NaN  \n",
       "322    NaN  \n",
       "301    NaN  \n",
       "270    NaN  \n",
       "334    NaN  \n",
       "345    NaN  \n",
       "408    NaN  \n",
       "397    NaN  \n",
       "231    NaN  \n",
       "46     NaN  \n",
       "33     NaN  \n",
       "45     NaN  \n",
       "365    NaN  \n",
       "206    NaN  \n",
       "129    NaN  \n",
       "373    NaN  "
      ]
     },
     "execution_count": 4,
     "metadata": {},
     "output_type": "execute_result"
    }
   ],
   "source": [
    "oasis1.sample(20)"
   ]
  },
  {
   "cell_type": "markdown",
   "id": "c5227931",
   "metadata": {},
   "source": [
    "## Data Preprocessing"
   ]
  },
  {
   "cell_type": "markdown",
   "id": "a8b684a9",
   "metadata": {},
   "source": [
    "**We want to define a function that:**\n",
    "\n",
    "1. Drops rows that have no values for CDR (prediction)\n",
    "2. Fills empty values for socioeconomic status with a value\n",
    "3. Replaces Male with 1 and Female with 0\n",
    "4. Converts CDR from 4 unique values to 2 unique values so that we now have a binary classification problem\n",
    "5. Drops columns Delay and Handedness"
   ]
  },
  {
   "cell_type": "code",
   "execution_count": 5,
   "id": "1b518097",
   "metadata": {},
   "outputs": [],
   "source": [
    "def preprocess_data(oasis1):\n",
    "    \"\"\"This function removes CDR rows containing NANs, \n",
    "    fills SES missing values with status 3,\n",
    "    encodes Male/Female M/F to 1 and 0,\n",
    "    and drops columns Delay and Hand.\"\"\"\n",
    "    \n",
    "    oasis1.dropna(subset = [\"CDR\"], inplace=True)\n",
    "    oasis1['SES'].fillna(value=3, inplace=True) # Socioeconomic status 3 (median) means that participants went to 'some college'\n",
    "    oasis1['M/F'].replace({'F':0, 'M':1}, inplace = True) # Replaces M with 1 and F with 0\n",
    "    oasis1[\"CDR\"] = oasis1[\"CDR\"].apply(lambda x: 1 if x>0 else 0) # Converts CDR so that we now have a binary classification problem\n",
    "    oasis1.drop('Delay', inplace=True, axis=1)\n",
    "    oasis1.drop('Hand', inplace=True, axis=1)\n",
    "    \n",
    "    return oasis1"
   ]
  },
  {
   "cell_type": "code",
   "execution_count": 6,
   "id": "8ecaae80",
   "metadata": {},
   "outputs": [
    {
     "data": {
      "text/html": [
       "<div>\n",
       "<style scoped>\n",
       "    .dataframe tbody tr th:only-of-type {\n",
       "        vertical-align: middle;\n",
       "    }\n",
       "\n",
       "    .dataframe tbody tr th {\n",
       "        vertical-align: top;\n",
       "    }\n",
       "\n",
       "    .dataframe thead th {\n",
       "        text-align: right;\n",
       "    }\n",
       "</style>\n",
       "<table border=\"1\" class=\"dataframe\">\n",
       "  <thead>\n",
       "    <tr style=\"text-align: right;\">\n",
       "      <th></th>\n",
       "      <th>ID</th>\n",
       "      <th>M/F</th>\n",
       "      <th>Age</th>\n",
       "      <th>Educ</th>\n",
       "      <th>SES</th>\n",
       "      <th>MMSE</th>\n",
       "      <th>CDR</th>\n",
       "      <th>eTIV</th>\n",
       "      <th>nWBV</th>\n",
       "      <th>ASF</th>\n",
       "    </tr>\n",
       "  </thead>\n",
       "  <tbody>\n",
       "    <tr>\n",
       "      <th>0</th>\n",
       "      <td>OAS1_0001_MR1</td>\n",
       "      <td>0</td>\n",
       "      <td>74</td>\n",
       "      <td>2.0</td>\n",
       "      <td>3.0</td>\n",
       "      <td>29.0</td>\n",
       "      <td>0</td>\n",
       "      <td>1344</td>\n",
       "      <td>0.743</td>\n",
       "      <td>1.306</td>\n",
       "    </tr>\n",
       "    <tr>\n",
       "      <th>1</th>\n",
       "      <td>OAS1_0002_MR1</td>\n",
       "      <td>0</td>\n",
       "      <td>55</td>\n",
       "      <td>4.0</td>\n",
       "      <td>1.0</td>\n",
       "      <td>29.0</td>\n",
       "      <td>0</td>\n",
       "      <td>1147</td>\n",
       "      <td>0.810</td>\n",
       "      <td>1.531</td>\n",
       "    </tr>\n",
       "    <tr>\n",
       "      <th>2</th>\n",
       "      <td>OAS1_0003_MR1</td>\n",
       "      <td>0</td>\n",
       "      <td>73</td>\n",
       "      <td>4.0</td>\n",
       "      <td>3.0</td>\n",
       "      <td>27.0</td>\n",
       "      <td>1</td>\n",
       "      <td>1454</td>\n",
       "      <td>0.708</td>\n",
       "      <td>1.207</td>\n",
       "    </tr>\n",
       "    <tr>\n",
       "      <th>8</th>\n",
       "      <td>OAS1_0010_MR1</td>\n",
       "      <td>1</td>\n",
       "      <td>74</td>\n",
       "      <td>5.0</td>\n",
       "      <td>2.0</td>\n",
       "      <td>30.0</td>\n",
       "      <td>0</td>\n",
       "      <td>1636</td>\n",
       "      <td>0.689</td>\n",
       "      <td>1.073</td>\n",
       "    </tr>\n",
       "    <tr>\n",
       "      <th>9</th>\n",
       "      <td>OAS1_0011_MR1</td>\n",
       "      <td>0</td>\n",
       "      <td>52</td>\n",
       "      <td>3.0</td>\n",
       "      <td>2.0</td>\n",
       "      <td>30.0</td>\n",
       "      <td>0</td>\n",
       "      <td>1321</td>\n",
       "      <td>0.827</td>\n",
       "      <td>1.329</td>\n",
       "    </tr>\n",
       "    <tr>\n",
       "      <th>...</th>\n",
       "      <td>...</td>\n",
       "      <td>...</td>\n",
       "      <td>...</td>\n",
       "      <td>...</td>\n",
       "      <td>...</td>\n",
       "      <td>...</td>\n",
       "      <td>...</td>\n",
       "      <td>...</td>\n",
       "      <td>...</td>\n",
       "      <td>...</td>\n",
       "    </tr>\n",
       "    <tr>\n",
       "      <th>411</th>\n",
       "      <td>OAS1_0453_MR1</td>\n",
       "      <td>0</td>\n",
       "      <td>70</td>\n",
       "      <td>1.0</td>\n",
       "      <td>4.0</td>\n",
       "      <td>29.0</td>\n",
       "      <td>1</td>\n",
       "      <td>1295</td>\n",
       "      <td>0.748</td>\n",
       "      <td>1.355</td>\n",
       "    </tr>\n",
       "    <tr>\n",
       "      <th>412</th>\n",
       "      <td>OAS1_0454_MR1</td>\n",
       "      <td>0</td>\n",
       "      <td>73</td>\n",
       "      <td>3.0</td>\n",
       "      <td>2.0</td>\n",
       "      <td>23.0</td>\n",
       "      <td>1</td>\n",
       "      <td>1536</td>\n",
       "      <td>0.730</td>\n",
       "      <td>1.142</td>\n",
       "    </tr>\n",
       "    <tr>\n",
       "      <th>413</th>\n",
       "      <td>OAS1_0455_MR1</td>\n",
       "      <td>0</td>\n",
       "      <td>61</td>\n",
       "      <td>2.0</td>\n",
       "      <td>4.0</td>\n",
       "      <td>28.0</td>\n",
       "      <td>0</td>\n",
       "      <td>1354</td>\n",
       "      <td>0.825</td>\n",
       "      <td>1.297</td>\n",
       "    </tr>\n",
       "    <tr>\n",
       "      <th>414</th>\n",
       "      <td>OAS1_0456_MR1</td>\n",
       "      <td>1</td>\n",
       "      <td>61</td>\n",
       "      <td>5.0</td>\n",
       "      <td>2.0</td>\n",
       "      <td>30.0</td>\n",
       "      <td>0</td>\n",
       "      <td>1637</td>\n",
       "      <td>0.780</td>\n",
       "      <td>1.072</td>\n",
       "    </tr>\n",
       "    <tr>\n",
       "      <th>415</th>\n",
       "      <td>OAS1_0457_MR1</td>\n",
       "      <td>0</td>\n",
       "      <td>62</td>\n",
       "      <td>3.0</td>\n",
       "      <td>3.0</td>\n",
       "      <td>26.0</td>\n",
       "      <td>0</td>\n",
       "      <td>1372</td>\n",
       "      <td>0.766</td>\n",
       "      <td>1.279</td>\n",
       "    </tr>\n",
       "  </tbody>\n",
       "</table>\n",
       "<p>235 rows × 10 columns</p>\n",
       "</div>"
      ],
      "text/plain": [
       "                ID  M/F  Age  Educ  SES  MMSE  CDR  eTIV   nWBV    ASF\n",
       "0    OAS1_0001_MR1    0   74   2.0  3.0  29.0    0  1344  0.743  1.306\n",
       "1    OAS1_0002_MR1    0   55   4.0  1.0  29.0    0  1147  0.810  1.531\n",
       "2    OAS1_0003_MR1    0   73   4.0  3.0  27.0    1  1454  0.708  1.207\n",
       "8    OAS1_0010_MR1    1   74   5.0  2.0  30.0    0  1636  0.689  1.073\n",
       "9    OAS1_0011_MR1    0   52   3.0  2.0  30.0    0  1321  0.827  1.329\n",
       "..             ...  ...  ...   ...  ...   ...  ...   ...    ...    ...\n",
       "411  OAS1_0453_MR1    0   70   1.0  4.0  29.0    1  1295  0.748  1.355\n",
       "412  OAS1_0454_MR1    0   73   3.0  2.0  23.0    1  1536  0.730  1.142\n",
       "413  OAS1_0455_MR1    0   61   2.0  4.0  28.0    0  1354  0.825  1.297\n",
       "414  OAS1_0456_MR1    1   61   5.0  2.0  30.0    0  1637  0.780  1.072\n",
       "415  OAS1_0457_MR1    0   62   3.0  3.0  26.0    0  1372  0.766  1.279\n",
       "\n",
       "[235 rows x 10 columns]"
      ]
     },
     "execution_count": 6,
     "metadata": {},
     "output_type": "execute_result"
    }
   ],
   "source": [
    "clean_oasis1 = preprocess_data(oasis1)\n",
    "clean_oasis1"
   ]
  },
  {
   "cell_type": "markdown",
   "id": "4e5ff483",
   "metadata": {
    "heading_collapsed": true
   },
   "source": [
    "### Testing my code"
   ]
  },
  {
   "cell_type": "code",
   "execution_count": 7,
   "id": "75430f7d",
   "metadata": {
    "hidden": true
   },
   "outputs": [
    {
     "data": {
      "text/plain": [
       "(235, 10)"
      ]
     },
     "execution_count": 7,
     "metadata": {},
     "output_type": "execute_result"
    }
   ],
   "source": [
    "# Check shape again\n",
    "oasis1.shape"
   ]
  },
  {
   "cell_type": "code",
   "execution_count": 8,
   "id": "3a833c5c",
   "metadata": {
    "hidden": true
   },
   "outputs": [
    {
     "data": {
      "image/png": "[encoded data removed]",
      "text/plain": [
       "<Figure size 432x288 with 1 Axes>"
      ]
     },
     "metadata": {},
     "output_type": "display_data"
    }
   ],
   "source": [
    "# Education is not normally distrbuted\n",
    "sns.histplot(oasis1.Educ,kde = True, color = 'c');"
   ]
  },
  {
   "cell_type": "code",
   "execution_count": 9,
   "id": "9299937d",
   "metadata": {
    "hidden": true
   },
   "outputs": [
    {
     "data": {
      "text/plain": [
       "array([0, 1])"
      ]
     },
     "execution_count": 9,
     "metadata": {},
     "output_type": "execute_result"
    }
   ],
   "source": [
    "# Check whether NANs are still here\n",
    "oasis1.CDR.unique()"
   ]
  },
  {
   "cell_type": "code",
   "execution_count": 10,
   "id": "cf163c5a",
   "metadata": {
    "hidden": true
   },
   "outputs": [
    {
     "data": {
      "text/plain": [
       "array([3., 1., 2., 4., 5.])"
      ]
     },
     "execution_count": 10,
     "metadata": {},
     "output_type": "execute_result"
    }
   ],
   "source": [
    "# Check SES column\n",
    "oasis1.SES.unique()"
   ]
  },
  {
   "cell_type": "code",
   "execution_count": 11,
   "id": "26487502",
   "metadata": {
    "hidden": true
   },
   "outputs": [
    {
     "data": {
      "text/plain": [
       "0      0\n",
       "1      0\n",
       "2      0\n",
       "8      1\n",
       "9      0\n",
       "      ..\n",
       "411    0\n",
       "412    0\n",
       "413    0\n",
       "414    1\n",
       "415    0\n",
       "Name: M/F, Length: 235, dtype: int64"
      ]
     },
     "execution_count": 11,
     "metadata": {},
     "output_type": "execute_result"
    }
   ],
   "source": [
    "# Check M/F column\n",
    "oasis1['M/F']"
   ]
  },
  {
   "cell_type": "code",
   "execution_count": 12,
   "id": "25c5d781",
   "metadata": {
    "hidden": true
   },
   "outputs": [],
   "source": [
    "# def gender_encoding(i):\n",
    "#     \"\"\"This function returns 0 for F and 1 for M\"\"\"\n",
    "#     return i.map({'F':0, 'M':1})"
   ]
  },
  {
   "cell_type": "markdown",
   "id": "2ce64475",
   "metadata": {},
   "source": [
    "## Defining variables"
   ]
  },
  {
   "cell_type": "code",
   "execution_count": 13,
   "id": "ae794d60",
   "metadata": {},
   "outputs": [],
   "source": [
    "X = clean_oasis1.drop(columns = ['ID','CDR']).reset_index()\n",
    "y = clean_oasis1['CDR'].reset_index()"
   ]
  },
  {
   "cell_type": "code",
   "execution_count": 14,
   "id": "ddf470c4",
   "metadata": {},
   "outputs": [
    {
     "data": {
      "text/html": [
       "<div>\n",
       "<style scoped>\n",
       "    .dataframe tbody tr th:only-of-type {\n",
       "        vertical-align: middle;\n",
       "    }\n",
       "\n",
       "    .dataframe tbody tr th {\n",
       "        vertical-align: top;\n",
       "    }\n",
       "\n",
       "    .dataframe thead th {\n",
       "        text-align: right;\n",
       "    }\n",
       "</style>\n",
       "<table border=\"1\" class=\"dataframe\">\n",
       "  <thead>\n",
       "    <tr style=\"text-align: right;\">\n",
       "      <th></th>\n",
       "      <th>index</th>\n",
       "      <th>M/F</th>\n",
       "      <th>Age</th>\n",
       "      <th>Educ</th>\n",
       "      <th>SES</th>\n",
       "      <th>MMSE</th>\n",
       "      <th>eTIV</th>\n",
       "      <th>nWBV</th>\n",
       "      <th>ASF</th>\n",
       "    </tr>\n",
       "  </thead>\n",
       "  <tbody>\n",
       "    <tr>\n",
       "      <th>0</th>\n",
       "      <td>0</td>\n",
       "      <td>0</td>\n",
       "      <td>74</td>\n",
       "      <td>2.0</td>\n",
       "      <td>3.0</td>\n",
       "      <td>29.0</td>\n",
       "      <td>1344</td>\n",
       "      <td>0.743</td>\n",
       "      <td>1.306</td>\n",
       "    </tr>\n",
       "    <tr>\n",
       "      <th>1</th>\n",
       "      <td>1</td>\n",
       "      <td>0</td>\n",
       "      <td>55</td>\n",
       "      <td>4.0</td>\n",
       "      <td>1.0</td>\n",
       "      <td>29.0</td>\n",
       "      <td>1147</td>\n",
       "      <td>0.810</td>\n",
       "      <td>1.531</td>\n",
       "    </tr>\n",
       "    <tr>\n",
       "      <th>2</th>\n",
       "      <td>2</td>\n",
       "      <td>0</td>\n",
       "      <td>73</td>\n",
       "      <td>4.0</td>\n",
       "      <td>3.0</td>\n",
       "      <td>27.0</td>\n",
       "      <td>1454</td>\n",
       "      <td>0.708</td>\n",
       "      <td>1.207</td>\n",
       "    </tr>\n",
       "    <tr>\n",
       "      <th>3</th>\n",
       "      <td>8</td>\n",
       "      <td>1</td>\n",
       "      <td>74</td>\n",
       "      <td>5.0</td>\n",
       "      <td>2.0</td>\n",
       "      <td>30.0</td>\n",
       "      <td>1636</td>\n",
       "      <td>0.689</td>\n",
       "      <td>1.073</td>\n",
       "    </tr>\n",
       "    <tr>\n",
       "      <th>4</th>\n",
       "      <td>9</td>\n",
       "      <td>0</td>\n",
       "      <td>52</td>\n",
       "      <td>3.0</td>\n",
       "      <td>2.0</td>\n",
       "      <td>30.0</td>\n",
       "      <td>1321</td>\n",
       "      <td>0.827</td>\n",
       "      <td>1.329</td>\n",
       "    </tr>\n",
       "    <tr>\n",
       "      <th>...</th>\n",
       "      <td>...</td>\n",
       "      <td>...</td>\n",
       "      <td>...</td>\n",
       "      <td>...</td>\n",
       "      <td>...</td>\n",
       "      <td>...</td>\n",
       "      <td>...</td>\n",
       "      <td>...</td>\n",
       "      <td>...</td>\n",
       "    </tr>\n",
       "    <tr>\n",
       "      <th>230</th>\n",
       "      <td>411</td>\n",
       "      <td>0</td>\n",
       "      <td>70</td>\n",
       "      <td>1.0</td>\n",
       "      <td>4.0</td>\n",
       "      <td>29.0</td>\n",
       "      <td>1295</td>\n",
       "      <td>0.748</td>\n",
       "      <td>1.355</td>\n",
       "    </tr>\n",
       "    <tr>\n",
       "      <th>231</th>\n",
       "      <td>412</td>\n",
       "      <td>0</td>\n",
       "      <td>73</td>\n",
       "      <td>3.0</td>\n",
       "      <td>2.0</td>\n",
       "      <td>23.0</td>\n",
       "      <td>1536</td>\n",
       "      <td>0.730</td>\n",
       "      <td>1.142</td>\n",
       "    </tr>\n",
       "    <tr>\n",
       "      <th>232</th>\n",
       "      <td>413</td>\n",
       "      <td>0</td>\n",
       "      <td>61</td>\n",
       "      <td>2.0</td>\n",
       "      <td>4.0</td>\n",
       "      <td>28.0</td>\n",
       "      <td>1354</td>\n",
       "      <td>0.825</td>\n",
       "      <td>1.297</td>\n",
       "    </tr>\n",
       "    <tr>\n",
       "      <th>233</th>\n",
       "      <td>414</td>\n",
       "      <td>1</td>\n",
       "      <td>61</td>\n",
       "      <td>5.0</td>\n",
       "      <td>2.0</td>\n",
       "      <td>30.0</td>\n",
       "      <td>1637</td>\n",
       "      <td>0.780</td>\n",
       "      <td>1.072</td>\n",
       "    </tr>\n",
       "    <tr>\n",
       "      <th>234</th>\n",
       "      <td>415</td>\n",
       "      <td>0</td>\n",
       "      <td>62</td>\n",
       "      <td>3.0</td>\n",
       "      <td>3.0</td>\n",
       "      <td>26.0</td>\n",
       "      <td>1372</td>\n",
       "      <td>0.766</td>\n",
       "      <td>1.279</td>\n",
       "    </tr>\n",
       "  </tbody>\n",
       "</table>\n",
       "<p>235 rows × 9 columns</p>\n",
       "</div>"
      ],
      "text/plain": [
       "     index  M/F  Age  Educ  SES  MMSE  eTIV   nWBV    ASF\n",
       "0        0    0   74   2.0  3.0  29.0  1344  0.743  1.306\n",
       "1        1    0   55   4.0  1.0  29.0  1147  0.810  1.531\n",
       "2        2    0   73   4.0  3.0  27.0  1454  0.708  1.207\n",
       "3        8    1   74   5.0  2.0  30.0  1636  0.689  1.073\n",
       "4        9    0   52   3.0  2.0  30.0  1321  0.827  1.329\n",
       "..     ...  ...  ...   ...  ...   ...   ...    ...    ...\n",
       "230    411    0   70   1.0  4.0  29.0  1295  0.748  1.355\n",
       "231    412    0   73   3.0  2.0  23.0  1536  0.730  1.142\n",
       "232    413    0   61   2.0  4.0  28.0  1354  0.825  1.297\n",
       "233    414    1   61   5.0  2.0  30.0  1637  0.780  1.072\n",
       "234    415    0   62   3.0  3.0  26.0  1372  0.766  1.279\n",
       "\n",
       "[235 rows x 9 columns]"
      ]
     },
     "execution_count": 14,
     "metadata": {},
     "output_type": "execute_result"
    }
   ],
   "source": [
    "X"
   ]
  },
  {
   "cell_type": "code",
   "execution_count": 15,
   "id": "36a083ec",
   "metadata": {},
   "outputs": [],
   "source": [
    "# Holdout\n",
    "X_train, X_test, y_train, y_test = train_test_split(X, y, test_size=0.25, random_state = 42)"
   ]
  },
  {
   "cell_type": "markdown",
   "id": "929025e4",
   "metadata": {},
   "source": [
    "## Preprocessing pipeline"
   ]
  },
  {
   "cell_type": "markdown",
   "id": "091f5cda",
   "metadata": {},
   "source": [
    "📜 Note: columns **nWBV and ASF** already normalized\n",
    " \n",
    " According to visualizations in file 'Demographic_visual.ipynb', we decided to scale as follows:\n",
    " \n",
    "**Columns to scale:**\n",
    "\n",
    "Standard Scale: age\n",
    "\n",
    "Robust Scale: eTIV, MMSE\n",
    "\n",
    "MinMax Scale: Educ"
   ]
  },
  {
   "cell_type": "code",
   "execution_count": 16,
   "id": "7c83a484",
   "metadata": {},
   "outputs": [],
   "source": [
    "class  ColumnNameExtractorAfterImputer(BaseEstimator, TransformerMixin):\n",
    "    def __init__(self, columns):\n",
    "        self.columns = columns\n",
    "        \n",
    "    def fit(self, *_):\n",
    "        return self\n",
    "\n",
    "    def transform(self, X, *_):\n",
    "        return pd.DataFrame(X, columns=self.columns)"
   ]
  },
  {
   "cell_type": "code",
   "execution_count": 30,
   "id": "8cb646c8",
   "metadata": {},
   "outputs": [
    {
     "ename": "ValueError",
     "evalue": "not enough values to unpack (expected 3, got 2)",
     "output_type": "error",
     "traceback": [
      "\u001b[0;31m---------------------------------------------------------------------------\u001b[0m",
      "\u001b[0;31mValueError\u001b[0m                                Traceback (most recent call last)",
      "File \u001b[0;32m~/.pyenv/versions/3.8.12/envs/memobrain/lib/python3.8/site-packages/IPython/core/formatters.py:973\u001b[0m, in \u001b[0;36mMimeBundleFormatter.__call__\u001b[0;34m(self, obj, include, exclude)\u001b[0m\n\u001b[1;32m    970\u001b[0m     method \u001b[38;5;241m=\u001b[39m get_real_method(obj, \u001b[38;5;28mself\u001b[39m\u001b[38;5;241m.\u001b[39mprint_method)\n\u001b[1;32m    972\u001b[0m     \u001b[38;5;28;01mif\u001b[39;00m method \u001b[38;5;129;01mis\u001b[39;00m \u001b[38;5;129;01mnot\u001b[39;00m \u001b[38;5;28;01mNone\u001b[39;00m:\n\u001b[0;32m--> 973\u001b[0m         \u001b[38;5;28;01mreturn\u001b[39;00m \u001b[43mmethod\u001b[49m\u001b[43m(\u001b[49m\u001b[43minclude\u001b[49m\u001b[38;5;241;43m=\u001b[39;49m\u001b[43minclude\u001b[49m\u001b[43m,\u001b[49m\u001b[43m \u001b[49m\u001b[43mexclude\u001b[49m\u001b[38;5;241;43m=\u001b[39;49m\u001b[43mexclude\u001b[49m\u001b[43m)\u001b[49m\n\u001b[1;32m    974\u001b[0m     \u001b[38;5;28;01mreturn\u001b[39;00m \u001b[38;5;28;01mNone\u001b[39;00m\n\u001b[1;32m    975\u001b[0m \u001b[38;5;28;01melse\u001b[39;00m:\n",
      "File \u001b[0;32m~/.pyenv/versions/3.8.12/envs/memobrain/lib/python3.8/site-packages/sklearn/base.py:616\u001b[0m, in \u001b[0;36mBaseEstimator._repr_mimebundle_\u001b[0;34m(self, **kwargs)\u001b[0m\n\u001b[1;32m    614\u001b[0m output \u001b[38;5;241m=\u001b[39m {\u001b[38;5;124m\"\u001b[39m\u001b[38;5;124mtext/plain\u001b[39m\u001b[38;5;124m\"\u001b[39m: \u001b[38;5;28mrepr\u001b[39m(\u001b[38;5;28mself\u001b[39m)}\n\u001b[1;32m    615\u001b[0m \u001b[38;5;28;01mif\u001b[39;00m get_config()[\u001b[38;5;124m\"\u001b[39m\u001b[38;5;124mdisplay\u001b[39m\u001b[38;5;124m\"\u001b[39m] \u001b[38;5;241m==\u001b[39m \u001b[38;5;124m\"\u001b[39m\u001b[38;5;124mdiagram\u001b[39m\u001b[38;5;124m\"\u001b[39m:\n\u001b[0;32m--> 616\u001b[0m     output[\u001b[38;5;124m\"\u001b[39m\u001b[38;5;124mtext/html\u001b[39m\u001b[38;5;124m\"\u001b[39m] \u001b[38;5;241m=\u001b[39m \u001b[43mestimator_html_repr\u001b[49m\u001b[43m(\u001b[49m\u001b[38;5;28;43mself\u001b[39;49m\u001b[43m)\u001b[49m\n\u001b[1;32m    617\u001b[0m \u001b[38;5;28;01mreturn\u001b[39;00m output\n",
      "File \u001b[0;32m~/.pyenv/versions/3.8.12/envs/memobrain/lib/python3.8/site-packages/sklearn/utils/_estimator_html_repr.py:385\u001b[0m, in \u001b[0;36mestimator_html_repr\u001b[0;34m(estimator)\u001b[0m\n\u001b[1;32m    374\u001b[0m fallback_msg \u001b[38;5;241m=\u001b[39m (\n\u001b[1;32m    375\u001b[0m     \u001b[38;5;124m\"\u001b[39m\u001b[38;5;124mPlease rerun this cell to show the HTML repr or trust the notebook.\u001b[39m\u001b[38;5;124m\"\u001b[39m\n\u001b[1;32m    376\u001b[0m )\n\u001b[1;32m    377\u001b[0m out\u001b[38;5;241m.\u001b[39mwrite(\n\u001b[1;32m    378\u001b[0m     \u001b[38;5;124mf\u001b[39m\u001b[38;5;124m\"\u001b[39m\u001b[38;5;124m<style>\u001b[39m\u001b[38;5;132;01m{\u001b[39;00mstyle_with_id\u001b[38;5;132;01m}\u001b[39;00m\u001b[38;5;124m</style>\u001b[39m\u001b[38;5;124m\"\u001b[39m\n\u001b[1;32m    379\u001b[0m     \u001b[38;5;124mf\u001b[39m\u001b[38;5;124m'\u001b[39m\u001b[38;5;124m<div id=\u001b[39m\u001b[38;5;124m\"\u001b[39m\u001b[38;5;132;01m{\u001b[39;00mcontainer_id\u001b[38;5;132;01m}\u001b[39;00m\u001b[38;5;124m\"\u001b[39m\u001b[38;5;124m class=\u001b[39m\u001b[38;5;124m\"\u001b[39m\u001b[38;5;124msk-top-container\u001b[39m\u001b[38;5;124m\"\u001b[39m\u001b[38;5;124m>\u001b[39m\u001b[38;5;124m'\u001b[39m\n\u001b[0;32m   (...)\u001b[0m\n\u001b[1;32m    383\u001b[0m     \u001b[38;5;124m'\u001b[39m\u001b[38;5;124m<div class=\u001b[39m\u001b[38;5;124m\"\u001b[39m\u001b[38;5;124msk-container\u001b[39m\u001b[38;5;124m\"\u001b[39m\u001b[38;5;124m hidden>\u001b[39m\u001b[38;5;124m'\u001b[39m\n\u001b[1;32m    384\u001b[0m )\n\u001b[0;32m--> 385\u001b[0m \u001b[43m_write_estimator_html\u001b[49m\u001b[43m(\u001b[49m\n\u001b[1;32m    386\u001b[0m \u001b[43m    \u001b[49m\u001b[43mout\u001b[49m\u001b[43m,\u001b[49m\n\u001b[1;32m    387\u001b[0m \u001b[43m    \u001b[49m\u001b[43mestimator\u001b[49m\u001b[43m,\u001b[49m\n\u001b[1;32m    388\u001b[0m \u001b[43m    \u001b[49m\u001b[43mestimator\u001b[49m\u001b[38;5;241;43m.\u001b[39;49m\u001b[38;5;18;43m__class__\u001b[39;49m\u001b[38;5;241;43m.\u001b[39;49m\u001b[38;5;18;43m__name__\u001b[39;49m\u001b[43m,\u001b[49m\n\u001b[1;32m    389\u001b[0m \u001b[43m    \u001b[49m\u001b[43mestimator_str\u001b[49m\u001b[43m,\u001b[49m\n\u001b[1;32m    390\u001b[0m \u001b[43m    \u001b[49m\u001b[43mfirst_call\u001b[49m\u001b[38;5;241;43m=\u001b[39;49m\u001b[38;5;28;43;01mTrue\u001b[39;49;00m\u001b[43m,\u001b[49m\n\u001b[1;32m    391\u001b[0m \u001b[43m\u001b[49m\u001b[43m)\u001b[49m\n\u001b[1;32m    392\u001b[0m out\u001b[38;5;241m.\u001b[39mwrite(\u001b[38;5;124m\"\u001b[39m\u001b[38;5;124m</div></div>\u001b[39m\u001b[38;5;124m\"\u001b[39m)\n\u001b[1;32m    394\u001b[0m html_output \u001b[38;5;241m=\u001b[39m out\u001b[38;5;241m.\u001b[39mgetvalue()\n",
      "File \u001b[0;32m~/.pyenv/versions/3.8.12/envs/memobrain/lib/python3.8/site-packages/sklearn/utils/_estimator_html_repr.py:143\u001b[0m, in \u001b[0;36m_write_estimator_html\u001b[0;34m(out, estimator, estimator_label, estimator_label_details, first_call)\u001b[0m\n\u001b[1;32m    141\u001b[0m \u001b[38;5;28;01mfor\u001b[39;00m est, name, name_details \u001b[38;5;129;01min\u001b[39;00m est_infos:\n\u001b[1;32m    142\u001b[0m     \u001b[38;5;28;01mif\u001b[39;00m kind \u001b[38;5;241m==\u001b[39m \u001b[38;5;124m\"\u001b[39m\u001b[38;5;124mserial\u001b[39m\u001b[38;5;124m\"\u001b[39m:\n\u001b[0;32m--> 143\u001b[0m         \u001b[43m_write_estimator_html\u001b[49m\u001b[43m(\u001b[49m\u001b[43mout\u001b[49m\u001b[43m,\u001b[49m\u001b[43m \u001b[49m\u001b[43mest\u001b[49m\u001b[43m,\u001b[49m\u001b[43m \u001b[49m\u001b[43mname\u001b[49m\u001b[43m,\u001b[49m\u001b[43m \u001b[49m\u001b[43mname_details\u001b[49m\u001b[43m)\u001b[49m\n\u001b[1;32m    144\u001b[0m     \u001b[38;5;28;01melse\u001b[39;00m:  \u001b[38;5;66;03m# parallel\u001b[39;00m\n\u001b[1;32m    145\u001b[0m         out\u001b[38;5;241m.\u001b[39mwrite(\u001b[38;5;124m'\u001b[39m\u001b[38;5;124m<div class=\u001b[39m\u001b[38;5;124m\"\u001b[39m\u001b[38;5;124msk-parallel-item\u001b[39m\u001b[38;5;124m\"\u001b[39m\u001b[38;5;124m>\u001b[39m\u001b[38;5;124m'\u001b[39m)\n",
      "File \u001b[0;32m~/.pyenv/versions/3.8.12/envs/memobrain/lib/python3.8/site-packages/sklearn/utils/_estimator_html_repr.py:127\u001b[0m, in \u001b[0;36m_write_estimator_html\u001b[0;34m(out, estimator, estimator_label, estimator_label_details, first_call)\u001b[0m\n\u001b[1;32m    125\u001b[0m \u001b[38;5;28;01melse\u001b[39;00m:\n\u001b[1;32m    126\u001b[0m     \u001b[38;5;28;01mwith\u001b[39;00m config_context(print_changed_only\u001b[38;5;241m=\u001b[39m\u001b[38;5;28;01mTrue\u001b[39;00m):\n\u001b[0;32m--> 127\u001b[0m         est_block \u001b[38;5;241m=\u001b[39m \u001b[43m_get_visual_block\u001b[49m\u001b[43m(\u001b[49m\u001b[43mestimator\u001b[49m\u001b[43m)\u001b[49m\n\u001b[1;32m    129\u001b[0m \u001b[38;5;28;01mif\u001b[39;00m est_block\u001b[38;5;241m.\u001b[39mkind \u001b[38;5;129;01min\u001b[39;00m (\u001b[38;5;124m\"\u001b[39m\u001b[38;5;124mserial\u001b[39m\u001b[38;5;124m\"\u001b[39m, \u001b[38;5;124m\"\u001b[39m\u001b[38;5;124mparallel\u001b[39m\u001b[38;5;124m\"\u001b[39m):\n\u001b[1;32m    130\u001b[0m     dashed_wrapped \u001b[38;5;241m=\u001b[39m first_call \u001b[38;5;129;01mor\u001b[39;00m est_block\u001b[38;5;241m.\u001b[39mdash_wrapped\n",
      "File \u001b[0;32m~/.pyenv/versions/3.8.12/envs/memobrain/lib/python3.8/site-packages/sklearn/utils/_estimator_html_repr.py:92\u001b[0m, in \u001b[0;36m_get_visual_block\u001b[0;34m(estimator)\u001b[0m\n\u001b[1;32m     90\u001b[0m \u001b[38;5;124;03m\"\"\"Generate information about how to display an estimator.\"\"\"\u001b[39;00m\n\u001b[1;32m     91\u001b[0m \u001b[38;5;28;01mwith\u001b[39;00m suppress(\u001b[38;5;167;01mAttributeError\u001b[39;00m):\n\u001b[0;32m---> 92\u001b[0m     \u001b[38;5;28;01mreturn\u001b[39;00m \u001b[43mestimator\u001b[49m\u001b[38;5;241;43m.\u001b[39;49m\u001b[43m_sk_visual_block_\u001b[49m\u001b[43m(\u001b[49m\u001b[43m)\u001b[49m\n\u001b[1;32m     94\u001b[0m \u001b[38;5;28;01mif\u001b[39;00m \u001b[38;5;28misinstance\u001b[39m(estimator, \u001b[38;5;28mstr\u001b[39m):\n\u001b[1;32m     95\u001b[0m     \u001b[38;5;28;01mreturn\u001b[39;00m _VisualBlock(\n\u001b[1;32m     96\u001b[0m         \u001b[38;5;124m\"\u001b[39m\u001b[38;5;124msingle\u001b[39m\u001b[38;5;124m\"\u001b[39m, estimator, names\u001b[38;5;241m=\u001b[39mestimator, name_details\u001b[38;5;241m=\u001b[39mestimator\n\u001b[1;32m     97\u001b[0m     )\n",
      "File \u001b[0;32m~/.pyenv/versions/3.8.12/envs/memobrain/lib/python3.8/site-packages/sklearn/compose/_column_transformer.py:810\u001b[0m, in \u001b[0;36mColumnTransformer._sk_visual_block_\u001b[0;34m(self)\u001b[0m\n\u001b[1;32m    807\u001b[0m \u001b[38;5;28;01melse\u001b[39;00m:\n\u001b[1;32m    808\u001b[0m     transformers \u001b[38;5;241m=\u001b[39m chain(\u001b[38;5;28mself\u001b[39m\u001b[38;5;241m.\u001b[39mtransformers, [(\u001b[38;5;124m\"\u001b[39m\u001b[38;5;124mremainder\u001b[39m\u001b[38;5;124m\"\u001b[39m, \u001b[38;5;28mself\u001b[39m\u001b[38;5;241m.\u001b[39mremainder, \u001b[38;5;124m\"\u001b[39m\u001b[38;5;124m\"\u001b[39m)])\n\u001b[0;32m--> 810\u001b[0m names, transformers, name_details \u001b[38;5;241m=\u001b[39m \u001b[38;5;28mzip\u001b[39m(\u001b[38;5;241m*\u001b[39mtransformers)\n\u001b[1;32m    811\u001b[0m \u001b[38;5;28;01mreturn\u001b[39;00m _VisualBlock(\n\u001b[1;32m    812\u001b[0m     \u001b[38;5;124m\"\u001b[39m\u001b[38;5;124mparallel\u001b[39m\u001b[38;5;124m\"\u001b[39m, transformers, names\u001b[38;5;241m=\u001b[39mnames, name_details\u001b[38;5;241m=\u001b[39mname_details\n\u001b[1;32m    813\u001b[0m )\n",
      "\u001b[0;31mValueError\u001b[0m: not enough values to unpack (expected 3, got 2)"
     ]
    },
    {
     "ename": "ValueError",
     "evalue": "not enough values to unpack (expected 3, got 2)",
     "output_type": "error",
     "traceback": [
      "\u001b[0;31m---------------------------------------------------------------------------\u001b[0m",
      "\u001b[0;31mValueError\u001b[0m                                Traceback (most recent call last)",
      "File \u001b[0;32m~/.pyenv/versions/3.8.12/envs/memobrain/lib/python3.8/site-packages/IPython/core/formatters.py:343\u001b[0m, in \u001b[0;36mBaseFormatter.__call__\u001b[0;34m(self, obj)\u001b[0m\n\u001b[1;32m    341\u001b[0m     method \u001b[38;5;241m=\u001b[39m get_real_method(obj, \u001b[38;5;28mself\u001b[39m\u001b[38;5;241m.\u001b[39mprint_method)\n\u001b[1;32m    342\u001b[0m     \u001b[38;5;28;01mif\u001b[39;00m method \u001b[38;5;129;01mis\u001b[39;00m \u001b[38;5;129;01mnot\u001b[39;00m \u001b[38;5;28;01mNone\u001b[39;00m:\n\u001b[0;32m--> 343\u001b[0m         \u001b[38;5;28;01mreturn\u001b[39;00m \u001b[43mmethod\u001b[49m\u001b[43m(\u001b[49m\u001b[43m)\u001b[49m\n\u001b[1;32m    344\u001b[0m     \u001b[38;5;28;01mreturn\u001b[39;00m \u001b[38;5;28;01mNone\u001b[39;00m\n\u001b[1;32m    345\u001b[0m \u001b[38;5;28;01melse\u001b[39;00m:\n",
      "File \u001b[0;32m~/.pyenv/versions/3.8.12/envs/memobrain/lib/python3.8/site-packages/sklearn/base.py:610\u001b[0m, in \u001b[0;36mBaseEstimator._repr_html_inner\u001b[0;34m(self)\u001b[0m\n\u001b[1;32m    605\u001b[0m \u001b[38;5;28;01mdef\u001b[39;00m \u001b[38;5;21m_repr_html_inner\u001b[39m(\u001b[38;5;28mself\u001b[39m):\n\u001b[1;32m    606\u001b[0m     \u001b[38;5;124;03m\"\"\"This function is returned by the @property `_repr_html_` to make\u001b[39;00m\n\u001b[1;32m    607\u001b[0m \u001b[38;5;124;03m    `hasattr(estimator, \"_repr_html_\") return `True` or `False` depending\u001b[39;00m\n\u001b[1;32m    608\u001b[0m \u001b[38;5;124;03m    on `get_config()[\"display\"]`.\u001b[39;00m\n\u001b[1;32m    609\u001b[0m \u001b[38;5;124;03m    \"\"\"\u001b[39;00m\n\u001b[0;32m--> 610\u001b[0m     \u001b[38;5;28;01mreturn\u001b[39;00m \u001b[43mestimator_html_repr\u001b[49m\u001b[43m(\u001b[49m\u001b[38;5;28;43mself\u001b[39;49m\u001b[43m)\u001b[49m\n",
      "File \u001b[0;32m~/.pyenv/versions/3.8.12/envs/memobrain/lib/python3.8/site-packages/sklearn/utils/_estimator_html_repr.py:385\u001b[0m, in \u001b[0;36mestimator_html_repr\u001b[0;34m(estimator)\u001b[0m\n\u001b[1;32m    374\u001b[0m fallback_msg \u001b[38;5;241m=\u001b[39m (\n\u001b[1;32m    375\u001b[0m     \u001b[38;5;124m\"\u001b[39m\u001b[38;5;124mPlease rerun this cell to show the HTML repr or trust the notebook.\u001b[39m\u001b[38;5;124m\"\u001b[39m\n\u001b[1;32m    376\u001b[0m )\n\u001b[1;32m    377\u001b[0m out\u001b[38;5;241m.\u001b[39mwrite(\n\u001b[1;32m    378\u001b[0m     \u001b[38;5;124mf\u001b[39m\u001b[38;5;124m\"\u001b[39m\u001b[38;5;124m<style>\u001b[39m\u001b[38;5;132;01m{\u001b[39;00mstyle_with_id\u001b[38;5;132;01m}\u001b[39;00m\u001b[38;5;124m</style>\u001b[39m\u001b[38;5;124m\"\u001b[39m\n\u001b[1;32m    379\u001b[0m     \u001b[38;5;124mf\u001b[39m\u001b[38;5;124m'\u001b[39m\u001b[38;5;124m<div id=\u001b[39m\u001b[38;5;124m\"\u001b[39m\u001b[38;5;132;01m{\u001b[39;00mcontainer_id\u001b[38;5;132;01m}\u001b[39;00m\u001b[38;5;124m\"\u001b[39m\u001b[38;5;124m class=\u001b[39m\u001b[38;5;124m\"\u001b[39m\u001b[38;5;124msk-top-container\u001b[39m\u001b[38;5;124m\"\u001b[39m\u001b[38;5;124m>\u001b[39m\u001b[38;5;124m'\u001b[39m\n\u001b[0;32m   (...)\u001b[0m\n\u001b[1;32m    383\u001b[0m     \u001b[38;5;124m'\u001b[39m\u001b[38;5;124m<div class=\u001b[39m\u001b[38;5;124m\"\u001b[39m\u001b[38;5;124msk-container\u001b[39m\u001b[38;5;124m\"\u001b[39m\u001b[38;5;124m hidden>\u001b[39m\u001b[38;5;124m'\u001b[39m\n\u001b[1;32m    384\u001b[0m )\n\u001b[0;32m--> 385\u001b[0m \u001b[43m_write_estimator_html\u001b[49m\u001b[43m(\u001b[49m\n\u001b[1;32m    386\u001b[0m \u001b[43m    \u001b[49m\u001b[43mout\u001b[49m\u001b[43m,\u001b[49m\n\u001b[1;32m    387\u001b[0m \u001b[43m    \u001b[49m\u001b[43mestimator\u001b[49m\u001b[43m,\u001b[49m\n\u001b[1;32m    388\u001b[0m \u001b[43m    \u001b[49m\u001b[43mestimator\u001b[49m\u001b[38;5;241;43m.\u001b[39;49m\u001b[38;5;18;43m__class__\u001b[39;49m\u001b[38;5;241;43m.\u001b[39;49m\u001b[38;5;18;43m__name__\u001b[39;49m\u001b[43m,\u001b[49m\n\u001b[1;32m    389\u001b[0m \u001b[43m    \u001b[49m\u001b[43mestimator_str\u001b[49m\u001b[43m,\u001b[49m\n\u001b[1;32m    390\u001b[0m \u001b[43m    \u001b[49m\u001b[43mfirst_call\u001b[49m\u001b[38;5;241;43m=\u001b[39;49m\u001b[38;5;28;43;01mTrue\u001b[39;49;00m\u001b[43m,\u001b[49m\n\u001b[1;32m    391\u001b[0m \u001b[43m\u001b[49m\u001b[43m)\u001b[49m\n\u001b[1;32m    392\u001b[0m out\u001b[38;5;241m.\u001b[39mwrite(\u001b[38;5;124m\"\u001b[39m\u001b[38;5;124m</div></div>\u001b[39m\u001b[38;5;124m\"\u001b[39m)\n\u001b[1;32m    394\u001b[0m html_output \u001b[38;5;241m=\u001b[39m out\u001b[38;5;241m.\u001b[39mgetvalue()\n",
      "File \u001b[0;32m~/.pyenv/versions/3.8.12/envs/memobrain/lib/python3.8/site-packages/sklearn/utils/_estimator_html_repr.py:143\u001b[0m, in \u001b[0;36m_write_estimator_html\u001b[0;34m(out, estimator, estimator_label, estimator_label_details, first_call)\u001b[0m\n\u001b[1;32m    141\u001b[0m \u001b[38;5;28;01mfor\u001b[39;00m est, name, name_details \u001b[38;5;129;01min\u001b[39;00m est_infos:\n\u001b[1;32m    142\u001b[0m     \u001b[38;5;28;01mif\u001b[39;00m kind \u001b[38;5;241m==\u001b[39m \u001b[38;5;124m\"\u001b[39m\u001b[38;5;124mserial\u001b[39m\u001b[38;5;124m\"\u001b[39m:\n\u001b[0;32m--> 143\u001b[0m         \u001b[43m_write_estimator_html\u001b[49m\u001b[43m(\u001b[49m\u001b[43mout\u001b[49m\u001b[43m,\u001b[49m\u001b[43m \u001b[49m\u001b[43mest\u001b[49m\u001b[43m,\u001b[49m\u001b[43m \u001b[49m\u001b[43mname\u001b[49m\u001b[43m,\u001b[49m\u001b[43m \u001b[49m\u001b[43mname_details\u001b[49m\u001b[43m)\u001b[49m\n\u001b[1;32m    144\u001b[0m     \u001b[38;5;28;01melse\u001b[39;00m:  \u001b[38;5;66;03m# parallel\u001b[39;00m\n\u001b[1;32m    145\u001b[0m         out\u001b[38;5;241m.\u001b[39mwrite(\u001b[38;5;124m'\u001b[39m\u001b[38;5;124m<div class=\u001b[39m\u001b[38;5;124m\"\u001b[39m\u001b[38;5;124msk-parallel-item\u001b[39m\u001b[38;5;124m\"\u001b[39m\u001b[38;5;124m>\u001b[39m\u001b[38;5;124m'\u001b[39m)\n",
      "File \u001b[0;32m~/.pyenv/versions/3.8.12/envs/memobrain/lib/python3.8/site-packages/sklearn/utils/_estimator_html_repr.py:127\u001b[0m, in \u001b[0;36m_write_estimator_html\u001b[0;34m(out, estimator, estimator_label, estimator_label_details, first_call)\u001b[0m\n\u001b[1;32m    125\u001b[0m \u001b[38;5;28;01melse\u001b[39;00m:\n\u001b[1;32m    126\u001b[0m     \u001b[38;5;28;01mwith\u001b[39;00m config_context(print_changed_only\u001b[38;5;241m=\u001b[39m\u001b[38;5;28;01mTrue\u001b[39;00m):\n\u001b[0;32m--> 127\u001b[0m         est_block \u001b[38;5;241m=\u001b[39m \u001b[43m_get_visual_block\u001b[49m\u001b[43m(\u001b[49m\u001b[43mestimator\u001b[49m\u001b[43m)\u001b[49m\n\u001b[1;32m    129\u001b[0m \u001b[38;5;28;01mif\u001b[39;00m est_block\u001b[38;5;241m.\u001b[39mkind \u001b[38;5;129;01min\u001b[39;00m (\u001b[38;5;124m\"\u001b[39m\u001b[38;5;124mserial\u001b[39m\u001b[38;5;124m\"\u001b[39m, \u001b[38;5;124m\"\u001b[39m\u001b[38;5;124mparallel\u001b[39m\u001b[38;5;124m\"\u001b[39m):\n\u001b[1;32m    130\u001b[0m     dashed_wrapped \u001b[38;5;241m=\u001b[39m first_call \u001b[38;5;129;01mor\u001b[39;00m est_block\u001b[38;5;241m.\u001b[39mdash_wrapped\n",
      "File \u001b[0;32m~/.pyenv/versions/3.8.12/envs/memobrain/lib/python3.8/site-packages/sklearn/utils/_estimator_html_repr.py:92\u001b[0m, in \u001b[0;36m_get_visual_block\u001b[0;34m(estimator)\u001b[0m\n\u001b[1;32m     90\u001b[0m \u001b[38;5;124;03m\"\"\"Generate information about how to display an estimator.\"\"\"\u001b[39;00m\n\u001b[1;32m     91\u001b[0m \u001b[38;5;28;01mwith\u001b[39;00m suppress(\u001b[38;5;167;01mAttributeError\u001b[39;00m):\n\u001b[0;32m---> 92\u001b[0m     \u001b[38;5;28;01mreturn\u001b[39;00m \u001b[43mestimator\u001b[49m\u001b[38;5;241;43m.\u001b[39;49m\u001b[43m_sk_visual_block_\u001b[49m\u001b[43m(\u001b[49m\u001b[43m)\u001b[49m\n\u001b[1;32m     94\u001b[0m \u001b[38;5;28;01mif\u001b[39;00m \u001b[38;5;28misinstance\u001b[39m(estimator, \u001b[38;5;28mstr\u001b[39m):\n\u001b[1;32m     95\u001b[0m     \u001b[38;5;28;01mreturn\u001b[39;00m _VisualBlock(\n\u001b[1;32m     96\u001b[0m         \u001b[38;5;124m\"\u001b[39m\u001b[38;5;124msingle\u001b[39m\u001b[38;5;124m\"\u001b[39m, estimator, names\u001b[38;5;241m=\u001b[39mestimator, name_details\u001b[38;5;241m=\u001b[39mestimator\n\u001b[1;32m     97\u001b[0m     )\n",
      "File \u001b[0;32m~/.pyenv/versions/3.8.12/envs/memobrain/lib/python3.8/site-packages/sklearn/compose/_column_transformer.py:810\u001b[0m, in \u001b[0;36mColumnTransformer._sk_visual_block_\u001b[0;34m(self)\u001b[0m\n\u001b[1;32m    807\u001b[0m \u001b[38;5;28;01melse\u001b[39;00m:\n\u001b[1;32m    808\u001b[0m     transformers \u001b[38;5;241m=\u001b[39m chain(\u001b[38;5;28mself\u001b[39m\u001b[38;5;241m.\u001b[39mtransformers, [(\u001b[38;5;124m\"\u001b[39m\u001b[38;5;124mremainder\u001b[39m\u001b[38;5;124m\"\u001b[39m, \u001b[38;5;28mself\u001b[39m\u001b[38;5;241m.\u001b[39mremainder, \u001b[38;5;124m\"\u001b[39m\u001b[38;5;124m\"\u001b[39m)])\n\u001b[0;32m--> 810\u001b[0m names, transformers, name_details \u001b[38;5;241m=\u001b[39m \u001b[38;5;28mzip\u001b[39m(\u001b[38;5;241m*\u001b[39mtransformers)\n\u001b[1;32m    811\u001b[0m \u001b[38;5;28;01mreturn\u001b[39;00m _VisualBlock(\n\u001b[1;32m    812\u001b[0m     \u001b[38;5;124m\"\u001b[39m\u001b[38;5;124mparallel\u001b[39m\u001b[38;5;124m\"\u001b[39m, transformers, names\u001b[38;5;241m=\u001b[39mnames, name_details\u001b[38;5;241m=\u001b[39mname_details\n\u001b[1;32m    813\u001b[0m )\n",
      "\u001b[0;31mValueError\u001b[0m: not enough values to unpack (expected 3, got 2)"
     ]
    },
    {
     "data": {
      "text/plain": [
       "Pipeline(steps=[('num_transformer',\n",
       "                 ColumnTransformer(remainder='passthrough',\n",
       "                                   transformers=[('standard_scaler',\n",
       "                                                  StandardScaler(), ['Age']),\n",
       "                                                 ('robust_scaler',\n",
       "                                                  RobustScaler(),\n",
       "                                                  ['eTIV', 'MMSE']),\n",
       "                                                 ('minmax_scaler',\n",
       "                                                  MinMaxScaler(), ['Educ'])])),\n",
       "                ('imputer',\n",
       "                 ColumnTransformer(transformers=[('imputer',\n",
       "                                                  SimpleImputer(strategy='median'),\n",
       "                                                  ['SES']),\n",
       "                                                 ('column_name_extractor_after_imputer',\n",
       "                                                  ColumnNameExtractorAfterImputer(columns=['SES']))]))])"
      ]
     },
     "execution_count": 30,
     "metadata": {},
     "output_type": "execute_result"
    }
   ],
   "source": [
    "# Transformer for numerical features\n",
    "\n",
    "def numerical_transformer():\n",
    "    \"\"\"This function transforms all numerical features according to their respective scalers\n",
    "    \"\"\"\n",
    "    standard_features = ['Age']\n",
    "    robust_features = ['eTIV', 'MMSE']\n",
    "    minmax_features = ['Educ']\n",
    "    ses = ['SES']\n",
    "    \n",
    "    numeric_transformer = ColumnTransformer([\n",
    "        ('standard_scaler', StandardScaler(), standard_features),\n",
    "        ('robust_scaler', RobustScaler(), robust_features),\n",
    "        ('minmax_scaler', MinMaxScaler(), minmax_features),\n",
    "    ], remainder = 'passthrough')\n",
    "    \n",
    "    imputer = ColumnTransformer([\n",
    "         (\"imputer\", SimpleImputer(strategy = \"median\"), ses),\n",
    "        (\"column_name_extractor_after_imputer\", ColumnNameExtractorAfterImputer(ses))\n",
    "        \n",
    "    ])\n",
    "    \n",
    "    both_transformers = Pipeline([\n",
    "        ('num_transformer', numeric_transformer),\n",
    "        ('imputer', imputer)\n",
    "    ])\n",
    "    \n",
    "    return both_transformers\n",
    "both_transformers = numerical_transformer()\n",
    "both_transformers"
   ]
  },
  {
   "cell_type": "code",
   "execution_count": 18,
   "id": "f4d94452",
   "metadata": {},
   "outputs": [
    {
     "data": {
      "text/html": [
       "<style>#sk-f57b5c6f-fe82-401d-a98c-cf32cb451b48 {color: black;background-color: white;}#sk-f57b5c6f-fe82-401d-a98c-cf32cb451b48 pre{padding: 0;}#sk-f57b5c6f-fe82-401d-a98c-cf32cb451b48 div.sk-toggleable {background-color: white;}#sk-f57b5c6f-fe82-401d-a98c-cf32cb451b48 label.sk-toggleable__label {cursor: pointer;display: block;width: 100%;margin-bottom: 0;padding: 0.3em;box-sizing: border-box;text-align: center;}#sk-f57b5c6f-fe82-401d-a98c-cf32cb451b48 label.sk-toggleable__label-arrow:before {content: \"▸\";float: left;margin-right: 0.25em;color: #696969;}#sk-f57b5c6f-fe82-401d-a98c-cf32cb451b48 label.sk-toggleable__label-arrow:hover:before {color: black;}#sk-f57b5c6f-fe82-401d-a98c-cf32cb451b48 div.sk-estimator:hover label.sk-toggleable__label-arrow:before {color: black;}#sk-f57b5c6f-fe82-401d-a98c-cf32cb451b48 div.sk-toggleable__content {max-height: 0;max-width: 0;overflow: hidden;text-align: left;background-color: #f0f8ff;}#sk-f57b5c6f-fe82-401d-a98c-cf32cb451b48 div.sk-toggleable__content pre {margin: 0.2em;color: black;border-radius: 0.25em;background-color: #f0f8ff;}#sk-f57b5c6f-fe82-401d-a98c-cf32cb451b48 input.sk-toggleable__control:checked~div.sk-toggleable__content {max-height: 200px;max-width: 100%;overflow: auto;}#sk-f57b5c6f-fe82-401d-a98c-cf32cb451b48 input.sk-toggleable__control:checked~label.sk-toggleable__label-arrow:before {content: \"▾\";}#sk-f57b5c6f-fe82-401d-a98c-cf32cb451b48 div.sk-estimator input.sk-toggleable__control:checked~label.sk-toggleable__label {background-color: #d4ebff;}#sk-f57b5c6f-fe82-401d-a98c-cf32cb451b48 div.sk-label input.sk-toggleable__control:checked~label.sk-toggleable__label {background-color: #d4ebff;}#sk-f57b5c6f-fe82-401d-a98c-cf32cb451b48 input.sk-hidden--visually {border: 0;clip: rect(1px 1px 1px 1px);clip: rect(1px, 1px, 1px, 1px);height: 1px;margin: -1px;overflow: hidden;padding: 0;position: absolute;width: 1px;}#sk-f57b5c6f-fe82-401d-a98c-cf32cb451b48 div.sk-estimator {font-family: monospace;background-color: #f0f8ff;border: 1px dotted black;border-radius: 0.25em;box-sizing: border-box;margin-bottom: 0.5em;}#sk-f57b5c6f-fe82-401d-a98c-cf32cb451b48 div.sk-estimator:hover {background-color: #d4ebff;}#sk-f57b5c6f-fe82-401d-a98c-cf32cb451b48 div.sk-parallel-item::after {content: \"\";width: 100%;border-bottom: 1px solid gray;flex-grow: 1;}#sk-f57b5c6f-fe82-401d-a98c-cf32cb451b48 div.sk-label:hover label.sk-toggleable__label {background-color: #d4ebff;}#sk-f57b5c6f-fe82-401d-a98c-cf32cb451b48 div.sk-serial::before {content: \"\";position: absolute;border-left: 1px solid gray;box-sizing: border-box;top: 2em;bottom: 0;left: 50%;}#sk-f57b5c6f-fe82-401d-a98c-cf32cb451b48 div.sk-serial {display: flex;flex-direction: column;align-items: center;background-color: white;padding-right: 0.2em;padding-left: 0.2em;}#sk-f57b5c6f-fe82-401d-a98c-cf32cb451b48 div.sk-item {z-index: 1;}#sk-f57b5c6f-fe82-401d-a98c-cf32cb451b48 div.sk-parallel {display: flex;align-items: stretch;justify-content: center;background-color: white;}#sk-f57b5c6f-fe82-401d-a98c-cf32cb451b48 div.sk-parallel::before {content: \"\";position: absolute;border-left: 1px solid gray;box-sizing: border-box;top: 2em;bottom: 0;left: 50%;}#sk-f57b5c6f-fe82-401d-a98c-cf32cb451b48 div.sk-parallel-item {display: flex;flex-direction: column;position: relative;background-color: white;}#sk-f57b5c6f-fe82-401d-a98c-cf32cb451b48 div.sk-parallel-item:first-child::after {align-self: flex-end;width: 50%;}#sk-f57b5c6f-fe82-401d-a98c-cf32cb451b48 div.sk-parallel-item:last-child::after {align-self: flex-start;width: 50%;}#sk-f57b5c6f-fe82-401d-a98c-cf32cb451b48 div.sk-parallel-item:only-child::after {width: 0;}#sk-f57b5c6f-fe82-401d-a98c-cf32cb451b48 div.sk-dashed-wrapped {border: 1px dashed gray;margin: 0 0.4em 0.5em 0.4em;box-sizing: border-box;padding-bottom: 0.4em;background-color: white;position: relative;}#sk-f57b5c6f-fe82-401d-a98c-cf32cb451b48 div.sk-label label {font-family: monospace;font-weight: bold;background-color: white;display: inline-block;line-height: 1.2em;}#sk-f57b5c6f-fe82-401d-a98c-cf32cb451b48 div.sk-label-container {position: relative;z-index: 2;text-align: center;}#sk-f57b5c6f-fe82-401d-a98c-cf32cb451b48 div.sk-container {/* jupyter's `normalize.less` sets `[hidden] { display: none; }` but bootstrap.min.css set `[hidden] { display: none !important; }` so we also need the `!important` here to be able to override the default hidden behavior on the sphinx rendered scikit-learn.org. See: https://github.com/scikit-learn/scikit-learn/issues/21755 */display: inline-block !important;position: relative;}#sk-f57b5c6f-fe82-401d-a98c-cf32cb451b48 div.sk-text-repr-fallback {display: none;}</style><div id=\"sk-f57b5c6f-fe82-401d-a98c-cf32cb451b48\" class=\"sk-top-container\"><div class=\"sk-text-repr-fallback\"><pre>Pipeline(steps=[(&#x27;numericals&#x27;,\n",
       "                 ColumnTransformer(remainder=&#x27;passthrough&#x27;,\n",
       "                                   transformers=[(&#x27;standard_scaler&#x27;,\n",
       "                                                  StandardScaler(), [&#x27;Age&#x27;]),\n",
       "                                                 (&#x27;robust_scaler&#x27;,\n",
       "                                                  RobustScaler(),\n",
       "                                                  [&#x27;eTIV&#x27;, &#x27;MMSE&#x27;]),\n",
       "                                                 (&#x27;minmax_scaler&#x27;,\n",
       "                                                  MinMaxScaler(),\n",
       "                                                  [&#x27;Educ&#x27;])]))])</pre><b>Please rerun this cell to show the HTML repr or trust the notebook.</b></div><div class=\"sk-container\" hidden><div class=\"sk-item sk-dashed-wrapped\"><div class=\"sk-label-container\"><div class=\"sk-label sk-toggleable\"><input class=\"sk-toggleable__control sk-hidden--visually\" id=\"64c4db5d-b066-4d66-985b-dd090ab3555e\" type=\"checkbox\" ><label for=\"64c4db5d-b066-4d66-985b-dd090ab3555e\" class=\"sk-toggleable__label sk-toggleable__label-arrow\">Pipeline</label><div class=\"sk-toggleable__content\"><pre>Pipeline(steps=[(&#x27;numericals&#x27;,\n",
       "                 ColumnTransformer(remainder=&#x27;passthrough&#x27;,\n",
       "                                   transformers=[(&#x27;standard_scaler&#x27;,\n",
       "                                                  StandardScaler(), [&#x27;Age&#x27;]),\n",
       "                                                 (&#x27;robust_scaler&#x27;,\n",
       "                                                  RobustScaler(),\n",
       "                                                  [&#x27;eTIV&#x27;, &#x27;MMSE&#x27;]),\n",
       "                                                 (&#x27;minmax_scaler&#x27;,\n",
       "                                                  MinMaxScaler(),\n",
       "                                                  [&#x27;Educ&#x27;])]))])</pre></div></div></div><div class=\"sk-serial\"><div class=\"sk-item sk-dashed-wrapped\"><div class=\"sk-label-container\"><div class=\"sk-label sk-toggleable\"><input class=\"sk-toggleable__control sk-hidden--visually\" id=\"03d51129-2fed-4e9d-92d0-4cff9a7d5068\" type=\"checkbox\" ><label for=\"03d51129-2fed-4e9d-92d0-4cff9a7d5068\" class=\"sk-toggleable__label sk-toggleable__label-arrow\">numericals: ColumnTransformer</label><div class=\"sk-toggleable__content\"><pre>ColumnTransformer(remainder=&#x27;passthrough&#x27;,\n",
       "                  transformers=[(&#x27;standard_scaler&#x27;, StandardScaler(), [&#x27;Age&#x27;]),\n",
       "                                (&#x27;robust_scaler&#x27;, RobustScaler(),\n",
       "                                 [&#x27;eTIV&#x27;, &#x27;MMSE&#x27;]),\n",
       "                                (&#x27;minmax_scaler&#x27;, MinMaxScaler(), [&#x27;Educ&#x27;])])</pre></div></div></div><div class=\"sk-parallel\"><div class=\"sk-parallel-item\"><div class=\"sk-item\"><div class=\"sk-label-container\"><div class=\"sk-label sk-toggleable\"><input class=\"sk-toggleable__control sk-hidden--visually\" id=\"428f62f6-9da3-444c-ada5-3de469c43cbf\" type=\"checkbox\" ><label for=\"428f62f6-9da3-444c-ada5-3de469c43cbf\" class=\"sk-toggleable__label sk-toggleable__label-arrow\">standard_scaler</label><div class=\"sk-toggleable__content\"><pre>[&#x27;Age&#x27;]</pre></div></div></div><div class=\"sk-serial\"><div class=\"sk-item\"><div class=\"sk-estimator sk-toggleable\"><input class=\"sk-toggleable__control sk-hidden--visually\" id=\"0e32b7b8-93c4-4152-922f-4155e613ab21\" type=\"checkbox\" ><label for=\"0e32b7b8-93c4-4152-922f-4155e613ab21\" class=\"sk-toggleable__label sk-toggleable__label-arrow\">StandardScaler</label><div class=\"sk-toggleable__content\"><pre>StandardScaler()</pre></div></div></div></div></div></div><div class=\"sk-parallel-item\"><div class=\"sk-item\"><div class=\"sk-label-container\"><div class=\"sk-label sk-toggleable\"><input class=\"sk-toggleable__control sk-hidden--visually\" id=\"0f9b5f60-c009-45f0-b1c6-9d5983d531f3\" type=\"checkbox\" ><label for=\"0f9b5f60-c009-45f0-b1c6-9d5983d531f3\" class=\"sk-toggleable__label sk-toggleable__label-arrow\">robust_scaler</label><div class=\"sk-toggleable__content\"><pre>[&#x27;eTIV&#x27;, &#x27;MMSE&#x27;]</pre></div></div></div><div class=\"sk-serial\"><div class=\"sk-item\"><div class=\"sk-estimator sk-toggleable\"><input class=\"sk-toggleable__control sk-hidden--visually\" id=\"2ab44384-d5b5-4dfe-8b9b-7b5634ed6f03\" type=\"checkbox\" ><label for=\"2ab44384-d5b5-4dfe-8b9b-7b5634ed6f03\" class=\"sk-toggleable__label sk-toggleable__label-arrow\">RobustScaler</label><div class=\"sk-toggleable__content\"><pre>RobustScaler()</pre></div></div></div></div></div></div><div class=\"sk-parallel-item\"><div class=\"sk-item\"><div class=\"sk-label-container\"><div class=\"sk-label sk-toggleable\"><input class=\"sk-toggleable__control sk-hidden--visually\" id=\"96518686-bb7f-4511-807f-a613ce03ca98\" type=\"checkbox\" ><label for=\"96518686-bb7f-4511-807f-a613ce03ca98\" class=\"sk-toggleable__label sk-toggleable__label-arrow\">minmax_scaler</label><div class=\"sk-toggleable__content\"><pre>[&#x27;Educ&#x27;]</pre></div></div></div><div class=\"sk-serial\"><div class=\"sk-item\"><div class=\"sk-estimator sk-toggleable\"><input class=\"sk-toggleable__control sk-hidden--visually\" id=\"3c6a2b37-4c72-4a8d-8449-e8da5c0d3f1c\" type=\"checkbox\" ><label for=\"3c6a2b37-4c72-4a8d-8449-e8da5c0d3f1c\" class=\"sk-toggleable__label sk-toggleable__label-arrow\">MinMaxScaler</label><div class=\"sk-toggleable__content\"><pre>MinMaxScaler()</pre></div></div></div></div></div></div><div class=\"sk-parallel-item\"><div class=\"sk-item\"><div class=\"sk-label-container\"><div class=\"sk-label sk-toggleable\"><input class=\"sk-toggleable__control sk-hidden--visually\" id=\"2b165923-acf8-46c9-b64e-0904d31dea5e\" type=\"checkbox\" ><label for=\"2b165923-acf8-46c9-b64e-0904d31dea5e\" class=\"sk-toggleable__label sk-toggleable__label-arrow\">remainder</label><div class=\"sk-toggleable__content\"><pre></pre></div></div></div><div class=\"sk-serial\"><div class=\"sk-item\"><div class=\"sk-estimator sk-toggleable\"><input class=\"sk-toggleable__control sk-hidden--visually\" id=\"72a3eaa2-68cb-4f88-96f3-f445fef070da\" type=\"checkbox\" ><label for=\"72a3eaa2-68cb-4f88-96f3-f445fef070da\" class=\"sk-toggleable__label sk-toggleable__label-arrow\">passthrough</label><div class=\"sk-toggleable__content\"><pre>passthrough</pre></div></div></div></div></div></div></div></div></div></div></div></div>"
      ],
      "text/plain": [
       "Pipeline(steps=[('numericals',\n",
       "                 ColumnTransformer(remainder='passthrough',\n",
       "                                   transformers=[('standard_scaler',\n",
       "                                                  StandardScaler(), ['Age']),\n",
       "                                                 ('robust_scaler',\n",
       "                                                  RobustScaler(),\n",
       "                                                  ['eTIV', 'MMSE']),\n",
       "                                                 ('minmax_scaler',\n",
       "                                                  MinMaxScaler(),\n",
       "                                                  ['Educ'])]))])"
      ]
     },
     "execution_count": 18,
     "metadata": {},
     "output_type": "execute_result"
    }
   ],
   "source": [
    "def set_pipeline():\n",
    "    \"\"\"This function returns a pipeline\n",
    "    \"\"\"\n",
    "    preproc = Pipeline([('numericals', numeric_transformer)])\n",
    "    return preproc\n",
    "set_pipeline()"
   ]
  },
  {
   "cell_type": "code",
   "execution_count": 19,
   "id": "e43253dd",
   "metadata": {},
   "outputs": [
    {
     "data": {
      "text/html": [
       "<style>#sk-d6bd9415-3f7d-49ac-a07b-15b4c6c5d3c4 {color: black;background-color: white;}#sk-d6bd9415-3f7d-49ac-a07b-15b4c6c5d3c4 pre{padding: 0;}#sk-d6bd9415-3f7d-49ac-a07b-15b4c6c5d3c4 div.sk-toggleable {background-color: white;}#sk-d6bd9415-3f7d-49ac-a07b-15b4c6c5d3c4 label.sk-toggleable__label {cursor: pointer;display: block;width: 100%;margin-bottom: 0;padding: 0.3em;box-sizing: border-box;text-align: center;}#sk-d6bd9415-3f7d-49ac-a07b-15b4c6c5d3c4 label.sk-toggleable__label-arrow:before {content: \"▸\";float: left;margin-right: 0.25em;color: #696969;}#sk-d6bd9415-3f7d-49ac-a07b-15b4c6c5d3c4 label.sk-toggleable__label-arrow:hover:before {color: black;}#sk-d6bd9415-3f7d-49ac-a07b-15b4c6c5d3c4 div.sk-estimator:hover label.sk-toggleable__label-arrow:before {color: black;}#sk-d6bd9415-3f7d-49ac-a07b-15b4c6c5d3c4 div.sk-toggleable__content {max-height: 0;max-width: 0;overflow: hidden;text-align: left;background-color: #f0f8ff;}#sk-d6bd9415-3f7d-49ac-a07b-15b4c6c5d3c4 div.sk-toggleable__content pre {margin: 0.2em;color: black;border-radius: 0.25em;background-color: #f0f8ff;}#sk-d6bd9415-3f7d-49ac-a07b-15b4c6c5d3c4 input.sk-toggleable__control:checked~div.sk-toggleable__content {max-height: 200px;max-width: 100%;overflow: auto;}#sk-d6bd9415-3f7d-49ac-a07b-15b4c6c5d3c4 input.sk-toggleable__control:checked~label.sk-toggleable__label-arrow:before {content: \"▾\";}#sk-d6bd9415-3f7d-49ac-a07b-15b4c6c5d3c4 div.sk-estimator input.sk-toggleable__control:checked~label.sk-toggleable__label {background-color: #d4ebff;}#sk-d6bd9415-3f7d-49ac-a07b-15b4c6c5d3c4 div.sk-label input.sk-toggleable__control:checked~label.sk-toggleable__label {background-color: #d4ebff;}#sk-d6bd9415-3f7d-49ac-a07b-15b4c6c5d3c4 input.sk-hidden--visually {border: 0;clip: rect(1px 1px 1px 1px);clip: rect(1px, 1px, 1px, 1px);height: 1px;margin: -1px;overflow: hidden;padding: 0;position: absolute;width: 1px;}#sk-d6bd9415-3f7d-49ac-a07b-15b4c6c5d3c4 div.sk-estimator {font-family: monospace;background-color: #f0f8ff;border: 1px dotted black;border-radius: 0.25em;box-sizing: border-box;margin-bottom: 0.5em;}#sk-d6bd9415-3f7d-49ac-a07b-15b4c6c5d3c4 div.sk-estimator:hover {background-color: #d4ebff;}#sk-d6bd9415-3f7d-49ac-a07b-15b4c6c5d3c4 div.sk-parallel-item::after {content: \"\";width: 100%;border-bottom: 1px solid gray;flex-grow: 1;}#sk-d6bd9415-3f7d-49ac-a07b-15b4c6c5d3c4 div.sk-label:hover label.sk-toggleable__label {background-color: #d4ebff;}#sk-d6bd9415-3f7d-49ac-a07b-15b4c6c5d3c4 div.sk-serial::before {content: \"\";position: absolute;border-left: 1px solid gray;box-sizing: border-box;top: 2em;bottom: 0;left: 50%;}#sk-d6bd9415-3f7d-49ac-a07b-15b4c6c5d3c4 div.sk-serial {display: flex;flex-direction: column;align-items: center;background-color: white;padding-right: 0.2em;padding-left: 0.2em;}#sk-d6bd9415-3f7d-49ac-a07b-15b4c6c5d3c4 div.sk-item {z-index: 1;}#sk-d6bd9415-3f7d-49ac-a07b-15b4c6c5d3c4 div.sk-parallel {display: flex;align-items: stretch;justify-content: center;background-color: white;}#sk-d6bd9415-3f7d-49ac-a07b-15b4c6c5d3c4 div.sk-parallel::before {content: \"\";position: absolute;border-left: 1px solid gray;box-sizing: border-box;top: 2em;bottom: 0;left: 50%;}#sk-d6bd9415-3f7d-49ac-a07b-15b4c6c5d3c4 div.sk-parallel-item {display: flex;flex-direction: column;position: relative;background-color: white;}#sk-d6bd9415-3f7d-49ac-a07b-15b4c6c5d3c4 div.sk-parallel-item:first-child::after {align-self: flex-end;width: 50%;}#sk-d6bd9415-3f7d-49ac-a07b-15b4c6c5d3c4 div.sk-parallel-item:last-child::after {align-self: flex-start;width: 50%;}#sk-d6bd9415-3f7d-49ac-a07b-15b4c6c5d3c4 div.sk-parallel-item:only-child::after {width: 0;}#sk-d6bd9415-3f7d-49ac-a07b-15b4c6c5d3c4 div.sk-dashed-wrapped {border: 1px dashed gray;margin: 0 0.4em 0.5em 0.4em;box-sizing: border-box;padding-bottom: 0.4em;background-color: white;position: relative;}#sk-d6bd9415-3f7d-49ac-a07b-15b4c6c5d3c4 div.sk-label label {font-family: monospace;font-weight: bold;background-color: white;display: inline-block;line-height: 1.2em;}#sk-d6bd9415-3f7d-49ac-a07b-15b4c6c5d3c4 div.sk-label-container {position: relative;z-index: 2;text-align: center;}#sk-d6bd9415-3f7d-49ac-a07b-15b4c6c5d3c4 div.sk-container {/* jupyter's `normalize.less` sets `[hidden] { display: none; }` but bootstrap.min.css set `[hidden] { display: none !important; }` so we also need the `!important` here to be able to override the default hidden behavior on the sphinx rendered scikit-learn.org. See: https://github.com/scikit-learn/scikit-learn/issues/21755 */display: inline-block !important;position: relative;}#sk-d6bd9415-3f7d-49ac-a07b-15b4c6c5d3c4 div.sk-text-repr-fallback {display: none;}</style><div id=\"sk-d6bd9415-3f7d-49ac-a07b-15b4c6c5d3c4\" class=\"sk-top-container\"><div class=\"sk-text-repr-fallback\"><pre>Pipeline(steps=[(&#x27;numericals&#x27;,\n",
       "                 ColumnTransformer(remainder=&#x27;passthrough&#x27;,\n",
       "                                   transformers=[(&#x27;standard_scaler&#x27;,\n",
       "                                                  StandardScaler(), [&#x27;Age&#x27;]),\n",
       "                                                 (&#x27;robust_scaler&#x27;,\n",
       "                                                  RobustScaler(),\n",
       "                                                  [&#x27;eTIV&#x27;, &#x27;MMSE&#x27;]),\n",
       "                                                 (&#x27;minmax_scaler&#x27;,\n",
       "                                                  MinMaxScaler(),\n",
       "                                                  [&#x27;Educ&#x27;])]))])</pre><b>Please rerun this cell to show the HTML repr or trust the notebook.</b></div><div class=\"sk-container\" hidden><div class=\"sk-item sk-dashed-wrapped\"><div class=\"sk-label-container\"><div class=\"sk-label sk-toggleable\"><input class=\"sk-toggleable__control sk-hidden--visually\" id=\"b505a2d4-8e3b-4b70-9fbb-4d60d4e3c68d\" type=\"checkbox\" ><label for=\"b505a2d4-8e3b-4b70-9fbb-4d60d4e3c68d\" class=\"sk-toggleable__label sk-toggleable__label-arrow\">Pipeline</label><div class=\"sk-toggleable__content\"><pre>Pipeline(steps=[(&#x27;numericals&#x27;,\n",
       "                 ColumnTransformer(remainder=&#x27;passthrough&#x27;,\n",
       "                                   transformers=[(&#x27;standard_scaler&#x27;,\n",
       "                                                  StandardScaler(), [&#x27;Age&#x27;]),\n",
       "                                                 (&#x27;robust_scaler&#x27;,\n",
       "                                                  RobustScaler(),\n",
       "                                                  [&#x27;eTIV&#x27;, &#x27;MMSE&#x27;]),\n",
       "                                                 (&#x27;minmax_scaler&#x27;,\n",
       "                                                  MinMaxScaler(),\n",
       "                                                  [&#x27;Educ&#x27;])]))])</pre></div></div></div><div class=\"sk-serial\"><div class=\"sk-item sk-dashed-wrapped\"><div class=\"sk-label-container\"><div class=\"sk-label sk-toggleable\"><input class=\"sk-toggleable__control sk-hidden--visually\" id=\"93d17fc6-857a-48b1-8b3d-a13af2dcd34a\" type=\"checkbox\" ><label for=\"93d17fc6-857a-48b1-8b3d-a13af2dcd34a\" class=\"sk-toggleable__label sk-toggleable__label-arrow\">numericals: ColumnTransformer</label><div class=\"sk-toggleable__content\"><pre>ColumnTransformer(remainder=&#x27;passthrough&#x27;,\n",
       "                  transformers=[(&#x27;standard_scaler&#x27;, StandardScaler(), [&#x27;Age&#x27;]),\n",
       "                                (&#x27;robust_scaler&#x27;, RobustScaler(),\n",
       "                                 [&#x27;eTIV&#x27;, &#x27;MMSE&#x27;]),\n",
       "                                (&#x27;minmax_scaler&#x27;, MinMaxScaler(), [&#x27;Educ&#x27;])])</pre></div></div></div><div class=\"sk-parallel\"><div class=\"sk-parallel-item\"><div class=\"sk-item\"><div class=\"sk-label-container\"><div class=\"sk-label sk-toggleable\"><input class=\"sk-toggleable__control sk-hidden--visually\" id=\"7ade1a74-9702-42f2-a0a1-9b7aa1b20786\" type=\"checkbox\" ><label for=\"7ade1a74-9702-42f2-a0a1-9b7aa1b20786\" class=\"sk-toggleable__label sk-toggleable__label-arrow\">standard_scaler</label><div class=\"sk-toggleable__content\"><pre>[&#x27;Age&#x27;]</pre></div></div></div><div class=\"sk-serial\"><div class=\"sk-item\"><div class=\"sk-estimator sk-toggleable\"><input class=\"sk-toggleable__control sk-hidden--visually\" id=\"6f8aecf9-a8e6-4f2b-8085-703a2490f27b\" type=\"checkbox\" ><label for=\"6f8aecf9-a8e6-4f2b-8085-703a2490f27b\" class=\"sk-toggleable__label sk-toggleable__label-arrow\">StandardScaler</label><div class=\"sk-toggleable__content\"><pre>StandardScaler()</pre></div></div></div></div></div></div><div class=\"sk-parallel-item\"><div class=\"sk-item\"><div class=\"sk-label-container\"><div class=\"sk-label sk-toggleable\"><input class=\"sk-toggleable__control sk-hidden--visually\" id=\"ac1bd5ea-ba71-4412-a960-741fe6c0f2e2\" type=\"checkbox\" ><label for=\"ac1bd5ea-ba71-4412-a960-741fe6c0f2e2\" class=\"sk-toggleable__label sk-toggleable__label-arrow\">robust_scaler</label><div class=\"sk-toggleable__content\"><pre>[&#x27;eTIV&#x27;, &#x27;MMSE&#x27;]</pre></div></div></div><div class=\"sk-serial\"><div class=\"sk-item\"><div class=\"sk-estimator sk-toggleable\"><input class=\"sk-toggleable__control sk-hidden--visually\" id=\"4a4333d9-242c-4c93-9439-115d702cddb0\" type=\"checkbox\" ><label for=\"4a4333d9-242c-4c93-9439-115d702cddb0\" class=\"sk-toggleable__label sk-toggleable__label-arrow\">RobustScaler</label><div class=\"sk-toggleable__content\"><pre>RobustScaler()</pre></div></div></div></div></div></div><div class=\"sk-parallel-item\"><div class=\"sk-item\"><div class=\"sk-label-container\"><div class=\"sk-label sk-toggleable\"><input class=\"sk-toggleable__control sk-hidden--visually\" id=\"26745630-36fb-46d7-bde8-0065915c4da3\" type=\"checkbox\" ><label for=\"26745630-36fb-46d7-bde8-0065915c4da3\" class=\"sk-toggleable__label sk-toggleable__label-arrow\">minmax_scaler</label><div class=\"sk-toggleable__content\"><pre>[&#x27;Educ&#x27;]</pre></div></div></div><div class=\"sk-serial\"><div class=\"sk-item\"><div class=\"sk-estimator sk-toggleable\"><input class=\"sk-toggleable__control sk-hidden--visually\" id=\"ff7a474a-3e2d-4fe8-9908-57ac2a7400a1\" type=\"checkbox\" ><label for=\"ff7a474a-3e2d-4fe8-9908-57ac2a7400a1\" class=\"sk-toggleable__label sk-toggleable__label-arrow\">MinMaxScaler</label><div class=\"sk-toggleable__content\"><pre>MinMaxScaler()</pre></div></div></div></div></div></div><div class=\"sk-parallel-item\"><div class=\"sk-item\"><div class=\"sk-label-container\"><div class=\"sk-label sk-toggleable\"><input class=\"sk-toggleable__control sk-hidden--visually\" id=\"a80aed83-2c9d-4bf0-bcd4-5f8e546bb6ef\" type=\"checkbox\" ><label for=\"a80aed83-2c9d-4bf0-bcd4-5f8e546bb6ef\" class=\"sk-toggleable__label sk-toggleable__label-arrow\">remainder</label><div class=\"sk-toggleable__content\"><pre>[&#x27;index&#x27;, &#x27;M/F&#x27;, &#x27;SES&#x27;, &#x27;nWBV&#x27;, &#x27;ASF&#x27;]</pre></div></div></div><div class=\"sk-serial\"><div class=\"sk-item\"><div class=\"sk-estimator sk-toggleable\"><input class=\"sk-toggleable__control sk-hidden--visually\" id=\"856baa80-5978-4483-9149-ca763b8987ad\" type=\"checkbox\" ><label for=\"856baa80-5978-4483-9149-ca763b8987ad\" class=\"sk-toggleable__label sk-toggleable__label-arrow\">passthrough</label><div class=\"sk-toggleable__content\"><pre>passthrough</pre></div></div></div></div></div></div></div></div></div></div></div></div>"
      ],
      "text/plain": [
       "Pipeline(steps=[('numericals',\n",
       "                 ColumnTransformer(remainder='passthrough',\n",
       "                                   transformers=[('standard_scaler',\n",
       "                                                  StandardScaler(), ['Age']),\n",
       "                                                 ('robust_scaler',\n",
       "                                                  RobustScaler(),\n",
       "                                                  ['eTIV', 'MMSE']),\n",
       "                                                 ('minmax_scaler',\n",
       "                                                  MinMaxScaler(),\n",
       "                                                  ['Educ'])]))])"
      ]
     },
     "execution_count": 19,
     "metadata": {},
     "output_type": "execute_result"
    }
   ],
   "source": [
    "def fit_pipeline(X_train):\n",
    "    '''This function fits the pipeline to the input data\n",
    "    '''\n",
    "    pipeline = set_pipeline()\n",
    "    return pipeline.fit(X_train)\n",
    "\n",
    "fit_pipeline(X_train)"
   ]
  },
  {
   "cell_type": "code",
   "execution_count": 20,
   "id": "f0b0e222",
   "metadata": {},
   "outputs": [
    {
     "data": {
      "text/html": [
       "<div>\n",
       "<style scoped>\n",
       "    .dataframe tbody tr th:only-of-type {\n",
       "        vertical-align: middle;\n",
       "    }\n",
       "\n",
       "    .dataframe tbody tr th {\n",
       "        vertical-align: top;\n",
       "    }\n",
       "\n",
       "    .dataframe thead th {\n",
       "        text-align: right;\n",
       "    }\n",
       "</style>\n",
       "<table border=\"1\" class=\"dataframe\">\n",
       "  <thead>\n",
       "    <tr style=\"text-align: right;\">\n",
       "      <th></th>\n",
       "      <th>M/F</th>\n",
       "      <th>Age</th>\n",
       "      <th>Educ</th>\n",
       "      <th>SES</th>\n",
       "      <th>MMSE</th>\n",
       "      <th>eTIV</th>\n",
       "      <th>nWBV</th>\n",
       "      <th>ASF</th>\n",
       "    </tr>\n",
       "  </thead>\n",
       "  <tbody>\n",
       "    <tr>\n",
       "      <th>0</th>\n",
       "      <td>0.0</td>\n",
       "      <td>-1.514634</td>\n",
       "      <td>1.00</td>\n",
       "      <td>1.0</td>\n",
       "      <td>0.00</td>\n",
       "      <td>-0.421185</td>\n",
       "      <td>0.823</td>\n",
       "      <td>1.283</td>\n",
       "    </tr>\n",
       "    <tr>\n",
       "      <th>1</th>\n",
       "      <td>1.0</td>\n",
       "      <td>0.704695</td>\n",
       "      <td>0.00</td>\n",
       "      <td>4.0</td>\n",
       "      <td>-0.25</td>\n",
       "      <td>1.505675</td>\n",
       "      <td>0.676</td>\n",
       "      <td>1.003</td>\n",
       "    </tr>\n",
       "    <tr>\n",
       "      <th>2</th>\n",
       "      <td>0.0</td>\n",
       "      <td>0.619336</td>\n",
       "      <td>0.00</td>\n",
       "      <td>4.0</td>\n",
       "      <td>-0.50</td>\n",
       "      <td>1.021438</td>\n",
       "      <td>0.678</td>\n",
       "      <td>1.061</td>\n",
       "    </tr>\n",
       "    <tr>\n",
       "      <th>3</th>\n",
       "      <td>1.0</td>\n",
       "      <td>0.960772</td>\n",
       "      <td>0.25</td>\n",
       "      <td>3.0</td>\n",
       "      <td>-2.25</td>\n",
       "      <td>0.955864</td>\n",
       "      <td>0.703</td>\n",
       "      <td>1.070</td>\n",
       "    </tr>\n",
       "    <tr>\n",
       "      <th>4</th>\n",
       "      <td>1.0</td>\n",
       "      <td>0.704695</td>\n",
       "      <td>1.00</td>\n",
       "      <td>1.0</td>\n",
       "      <td>0.00</td>\n",
       "      <td>0.986129</td>\n",
       "      <td>0.721</td>\n",
       "      <td>1.066</td>\n",
       "    </tr>\n",
       "    <tr>\n",
       "      <th>...</th>\n",
       "      <td>...</td>\n",
       "      <td>...</td>\n",
       "      <td>...</td>\n",
       "      <td>...</td>\n",
       "      <td>...</td>\n",
       "      <td>...</td>\n",
       "      <td>...</td>\n",
       "      <td>...</td>\n",
       "    </tr>\n",
       "    <tr>\n",
       "      <th>171</th>\n",
       "      <td>0.0</td>\n",
       "      <td>0.107184</td>\n",
       "      <td>0.50</td>\n",
       "      <td>3.0</td>\n",
       "      <td>-0.25</td>\n",
       "      <td>0.819672</td>\n",
       "      <td>0.697</td>\n",
       "      <td>1.087</td>\n",
       "    </tr>\n",
       "    <tr>\n",
       "      <th>172</th>\n",
       "      <td>0.0</td>\n",
       "      <td>-1.258558</td>\n",
       "      <td>1.00</td>\n",
       "      <td>1.0</td>\n",
       "      <td>0.25</td>\n",
       "      <td>-1.092055</td>\n",
       "      <td>0.820</td>\n",
       "      <td>1.421</td>\n",
       "    </tr>\n",
       "    <tr>\n",
       "      <th>173</th>\n",
       "      <td>1.0</td>\n",
       "      <td>0.960772</td>\n",
       "      <td>1.00</td>\n",
       "      <td>1.0</td>\n",
       "      <td>0.00</td>\n",
       "      <td>1.288777</td>\n",
       "      <td>0.731</td>\n",
       "      <td>1.028</td>\n",
       "    </tr>\n",
       "    <tr>\n",
       "      <th>174</th>\n",
       "      <td>1.0</td>\n",
       "      <td>1.131489</td>\n",
       "      <td>0.00</td>\n",
       "      <td>4.0</td>\n",
       "      <td>-3.50</td>\n",
       "      <td>0.305170</td>\n",
       "      <td>0.665</td>\n",
       "      <td>1.161</td>\n",
       "    </tr>\n",
       "    <tr>\n",
       "      <th>175</th>\n",
       "      <td>0.0</td>\n",
       "      <td>0.448619</td>\n",
       "      <td>1.00</td>\n",
       "      <td>1.0</td>\n",
       "      <td>0.25</td>\n",
       "      <td>-1.051702</td>\n",
       "      <td>0.747</td>\n",
       "      <td>1.412</td>\n",
       "    </tr>\n",
       "  </tbody>\n",
       "</table>\n",
       "<p>176 rows × 8 columns</p>\n",
       "</div>"
      ],
      "text/plain": [
       "     M/F       Age  Educ  SES  MMSE      eTIV   nWBV    ASF\n",
       "0    0.0 -1.514634  1.00  1.0  0.00 -0.421185  0.823  1.283\n",
       "1    1.0  0.704695  0.00  4.0 -0.25  1.505675  0.676  1.003\n",
       "2    0.0  0.619336  0.00  4.0 -0.50  1.021438  0.678  1.061\n",
       "3    1.0  0.960772  0.25  3.0 -2.25  0.955864  0.703  1.070\n",
       "4    1.0  0.704695  1.00  1.0  0.00  0.986129  0.721  1.066\n",
       "..   ...       ...   ...  ...   ...       ...    ...    ...\n",
       "171  0.0  0.107184  0.50  3.0 -0.25  0.819672  0.697  1.087\n",
       "172  0.0 -1.258558  1.00  1.0  0.25 -1.092055  0.820  1.421\n",
       "173  1.0  0.960772  1.00  1.0  0.00  1.288777  0.731  1.028\n",
       "174  1.0  1.131489  0.00  4.0 -3.50  0.305170  0.665  1.161\n",
       "175  0.0  0.448619  1.00  1.0  0.25 -1.051702  0.747  1.412\n",
       "\n",
       "[176 rows x 8 columns]"
      ]
     },
     "execution_count": 20,
     "metadata": {},
     "output_type": "execute_result"
    }
   ],
   "source": [
    "def preproc_df(X):\n",
    "    \"\"\"This function returns a scaled dataframe ready for processing\n",
    "    \"\"\"\n",
    "    # Instantiating pipeline\n",
    "    pipeline = set_pipeline()\n",
    "    X_scaled = pd.DataFrame(pipeline.transform(X), columns = set_pipeline().get_feature_names_out())\n",
    "    X_scaled.rename(columns={\n",
    "                                 'remainder__M/F': 'M/F',\n",
    "                                 'remainder__SES': 'SES',\n",
    "                                 'remainder__nWBV': 'nWBV',\n",
    "                                 'remainder__ASF': 'ASF',\n",
    "                                 'standard_scaler__Age': 'Age',\n",
    "                                 'robust_scaler__eTIV': 'eTIV',\n",
    "                                 'robust_scaler__MMSE': 'MMSE',\n",
    "                                 'minmax_scaler__Educ': 'Educ'\n",
    "    }, inplace=True)\n",
    "    X_scaled = X_scaled[[\"M/F\", \"Age\", \"Educ\", \"SES\", \"MMSE\", \"eTIV\", \"nWBV\", \"ASF\"]]\n",
    "    return X_scaled\n",
    "X_scaled = preproc_df(X_train)\n",
    "X_test_scaled = preproc_df(X_test)\n",
    "X_scaled"
   ]
  },
  {
   "cell_type": "code",
   "execution_count": 25,
   "id": "b2eb5af5",
   "metadata": {},
   "outputs": [
    {
     "data": {
      "text/html": [
       "<div>\n",
       "<style scoped>\n",
       "    .dataframe tbody tr th:only-of-type {\n",
       "        vertical-align: middle;\n",
       "    }\n",
       "\n",
       "    .dataframe tbody tr th {\n",
       "        vertical-align: top;\n",
       "    }\n",
       "\n",
       "    .dataframe thead th {\n",
       "        text-align: right;\n",
       "    }\n",
       "</style>\n",
       "<table border=\"1\" class=\"dataframe\">\n",
       "  <thead>\n",
       "    <tr style=\"text-align: right;\">\n",
       "      <th></th>\n",
       "      <th>M/F</th>\n",
       "      <th>Age</th>\n",
       "      <th>Educ</th>\n",
       "      <th>SES</th>\n",
       "      <th>MMSE</th>\n",
       "      <th>eTIV</th>\n",
       "      <th>nWBV</th>\n",
       "      <th>ASF</th>\n",
       "    </tr>\n",
       "  </thead>\n",
       "  <tbody>\n",
       "    <tr>\n",
       "      <th>0</th>\n",
       "      <td>0.0</td>\n",
       "      <td>-1.514634</td>\n",
       "      <td>1.00</td>\n",
       "      <td>1.0</td>\n",
       "      <td>0.00</td>\n",
       "      <td>-0.421185</td>\n",
       "      <td>0.823</td>\n",
       "      <td>1.283</td>\n",
       "    </tr>\n",
       "    <tr>\n",
       "      <th>1</th>\n",
       "      <td>1.0</td>\n",
       "      <td>0.704695</td>\n",
       "      <td>0.00</td>\n",
       "      <td>4.0</td>\n",
       "      <td>-0.25</td>\n",
       "      <td>1.505675</td>\n",
       "      <td>0.676</td>\n",
       "      <td>1.003</td>\n",
       "    </tr>\n",
       "    <tr>\n",
       "      <th>2</th>\n",
       "      <td>0.0</td>\n",
       "      <td>0.619336</td>\n",
       "      <td>0.00</td>\n",
       "      <td>4.0</td>\n",
       "      <td>-0.50</td>\n",
       "      <td>1.021438</td>\n",
       "      <td>0.678</td>\n",
       "      <td>1.061</td>\n",
       "    </tr>\n",
       "    <tr>\n",
       "      <th>3</th>\n",
       "      <td>1.0</td>\n",
       "      <td>0.960772</td>\n",
       "      <td>0.25</td>\n",
       "      <td>3.0</td>\n",
       "      <td>-2.25</td>\n",
       "      <td>0.955864</td>\n",
       "      <td>0.703</td>\n",
       "      <td>1.070</td>\n",
       "    </tr>\n",
       "    <tr>\n",
       "      <th>4</th>\n",
       "      <td>1.0</td>\n",
       "      <td>0.704695</td>\n",
       "      <td>1.00</td>\n",
       "      <td>1.0</td>\n",
       "      <td>0.00</td>\n",
       "      <td>0.986129</td>\n",
       "      <td>0.721</td>\n",
       "      <td>1.066</td>\n",
       "    </tr>\n",
       "    <tr>\n",
       "      <th>...</th>\n",
       "      <td>...</td>\n",
       "      <td>...</td>\n",
       "      <td>...</td>\n",
       "      <td>...</td>\n",
       "      <td>...</td>\n",
       "      <td>...</td>\n",
       "      <td>...</td>\n",
       "      <td>...</td>\n",
       "    </tr>\n",
       "    <tr>\n",
       "      <th>171</th>\n",
       "      <td>0.0</td>\n",
       "      <td>0.107184</td>\n",
       "      <td>0.50</td>\n",
       "      <td>3.0</td>\n",
       "      <td>-0.25</td>\n",
       "      <td>0.819672</td>\n",
       "      <td>0.697</td>\n",
       "      <td>1.087</td>\n",
       "    </tr>\n",
       "    <tr>\n",
       "      <th>172</th>\n",
       "      <td>0.0</td>\n",
       "      <td>-1.258558</td>\n",
       "      <td>1.00</td>\n",
       "      <td>1.0</td>\n",
       "      <td>0.25</td>\n",
       "      <td>-1.092055</td>\n",
       "      <td>0.820</td>\n",
       "      <td>1.421</td>\n",
       "    </tr>\n",
       "    <tr>\n",
       "      <th>173</th>\n",
       "      <td>1.0</td>\n",
       "      <td>0.960772</td>\n",
       "      <td>1.00</td>\n",
       "      <td>1.0</td>\n",
       "      <td>0.00</td>\n",
       "      <td>1.288777</td>\n",
       "      <td>0.731</td>\n",
       "      <td>1.028</td>\n",
       "    </tr>\n",
       "    <tr>\n",
       "      <th>174</th>\n",
       "      <td>1.0</td>\n",
       "      <td>1.131489</td>\n",
       "      <td>0.00</td>\n",
       "      <td>4.0</td>\n",
       "      <td>-3.50</td>\n",
       "      <td>0.305170</td>\n",
       "      <td>0.665</td>\n",
       "      <td>1.161</td>\n",
       "    </tr>\n",
       "    <tr>\n",
       "      <th>175</th>\n",
       "      <td>0.0</td>\n",
       "      <td>0.448619</td>\n",
       "      <td>1.00</td>\n",
       "      <td>1.0</td>\n",
       "      <td>0.25</td>\n",
       "      <td>-1.051702</td>\n",
       "      <td>0.747</td>\n",
       "      <td>1.412</td>\n",
       "    </tr>\n",
       "  </tbody>\n",
       "</table>\n",
       "<p>176 rows × 8 columns</p>\n",
       "</div>"
      ],
      "text/plain": [
       "     M/F       Age  Educ  SES  MMSE      eTIV   nWBV    ASF\n",
       "0    0.0 -1.514634  1.00  1.0  0.00 -0.421185  0.823  1.283\n",
       "1    1.0  0.704695  0.00  4.0 -0.25  1.505675  0.676  1.003\n",
       "2    0.0  0.619336  0.00  4.0 -0.50  1.021438  0.678  1.061\n",
       "3    1.0  0.960772  0.25  3.0 -2.25  0.955864  0.703  1.070\n",
       "4    1.0  0.704695  1.00  1.0  0.00  0.986129  0.721  1.066\n",
       "..   ...       ...   ...  ...   ...       ...    ...    ...\n",
       "171  0.0  0.107184  0.50  3.0 -0.25  0.819672  0.697  1.087\n",
       "172  0.0 -1.258558  1.00  1.0  0.25 -1.092055  0.820  1.421\n",
       "173  1.0  0.960772  1.00  1.0  0.00  1.288777  0.731  1.028\n",
       "174  1.0  1.131489  0.00  4.0 -3.50  0.305170  0.665  1.161\n",
       "175  0.0  0.448619  1.00  1.0  0.25 -1.051702  0.747  1.412\n",
       "\n",
       "[176 rows x 8 columns]"
      ]
     },
     "execution_count": 25,
     "metadata": {},
     "output_type": "execute_result"
    }
   ],
   "source": [
    "X_scaled"
   ]
  },
  {
   "cell_type": "code",
   "execution_count": 21,
   "id": "6e14388b",
   "metadata": {},
   "outputs": [
    {
     "data": {
      "text/plain": [
       "59"
      ]
     },
     "execution_count": 21,
     "metadata": {},
     "output_type": "execute_result"
    }
   ],
   "source": [
    "# Length of y_test = 59\n",
    "np.unique(y_test, return_counts = True)\n",
    "\n",
    "# Length of X_test = 59\n",
    "len(X_test)"
   ]
  },
  {
   "cell_type": "code",
   "execution_count": 22,
   "id": "04b2e8e9",
   "metadata": {},
   "outputs": [
    {
     "data": {
      "text/html": [
       "<div>\n",
       "<style scoped>\n",
       "    .dataframe tbody tr th:only-of-type {\n",
       "        vertical-align: middle;\n",
       "    }\n",
       "\n",
       "    .dataframe tbody tr th {\n",
       "        vertical-align: top;\n",
       "    }\n",
       "\n",
       "    .dataframe thead th {\n",
       "        text-align: right;\n",
       "    }\n",
       "</style>\n",
       "<table border=\"1\" class=\"dataframe\">\n",
       "  <thead>\n",
       "    <tr style=\"text-align: right;\">\n",
       "      <th></th>\n",
       "      <th>index</th>\n",
       "      <th>M/F</th>\n",
       "      <th>Age</th>\n",
       "      <th>Educ</th>\n",
       "      <th>SES</th>\n",
       "      <th>MMSE</th>\n",
       "      <th>eTIV</th>\n",
       "      <th>nWBV</th>\n",
       "      <th>ASF</th>\n",
       "    </tr>\n",
       "  </thead>\n",
       "  <tbody>\n",
       "    <tr>\n",
       "      <th>104</th>\n",
       "      <td>190</td>\n",
       "      <td>0</td>\n",
       "      <td>55</td>\n",
       "      <td>5.0</td>\n",
       "      <td>1.0</td>\n",
       "      <td>29.0</td>\n",
       "      <td>1368</td>\n",
       "      <td>0.823</td>\n",
       "      <td>1.283</td>\n",
       "    </tr>\n",
       "    <tr>\n",
       "      <th>172</th>\n",
       "      <td>304</td>\n",
       "      <td>1</td>\n",
       "      <td>81</td>\n",
       "      <td>1.0</td>\n",
       "      <td>4.0</td>\n",
       "      <td>28.0</td>\n",
       "      <td>1750</td>\n",
       "      <td>0.676</td>\n",
       "      <td>1.003</td>\n",
       "    </tr>\n",
       "    <tr>\n",
       "      <th>171</th>\n",
       "      <td>302</td>\n",
       "      <td>0</td>\n",
       "      <td>80</td>\n",
       "      <td>1.0</td>\n",
       "      <td>4.0</td>\n",
       "      <td>27.0</td>\n",
       "      <td>1654</td>\n",
       "      <td>0.678</td>\n",
       "      <td>1.061</td>\n",
       "    </tr>\n",
       "    <tr>\n",
       "      <th>111</th>\n",
       "      <td>203</td>\n",
       "      <td>1</td>\n",
       "      <td>84</td>\n",
       "      <td>2.0</td>\n",
       "      <td>3.0</td>\n",
       "      <td>20.0</td>\n",
       "      <td>1641</td>\n",
       "      <td>0.703</td>\n",
       "      <td>1.070</td>\n",
       "    </tr>\n",
       "    <tr>\n",
       "      <th>222</th>\n",
       "      <td>399</td>\n",
       "      <td>1</td>\n",
       "      <td>81</td>\n",
       "      <td>5.0</td>\n",
       "      <td>1.0</td>\n",
       "      <td>29.0</td>\n",
       "      <td>1647</td>\n",
       "      <td>0.721</td>\n",
       "      <td>1.066</td>\n",
       "    </tr>\n",
       "    <tr>\n",
       "      <th>...</th>\n",
       "      <td>...</td>\n",
       "      <td>...</td>\n",
       "      <td>...</td>\n",
       "      <td>...</td>\n",
       "      <td>...</td>\n",
       "      <td>...</td>\n",
       "      <td>...</td>\n",
       "      <td>...</td>\n",
       "      <td>...</td>\n",
       "    </tr>\n",
       "    <tr>\n",
       "      <th>106</th>\n",
       "      <td>194</td>\n",
       "      <td>0</td>\n",
       "      <td>74</td>\n",
       "      <td>3.0</td>\n",
       "      <td>3.0</td>\n",
       "      <td>28.0</td>\n",
       "      <td>1614</td>\n",
       "      <td>0.697</td>\n",
       "      <td>1.087</td>\n",
       "    </tr>\n",
       "    <tr>\n",
       "      <th>14</th>\n",
       "      <td>23</td>\n",
       "      <td>0</td>\n",
       "      <td>58</td>\n",
       "      <td>5.0</td>\n",
       "      <td>1.0</td>\n",
       "      <td>30.0</td>\n",
       "      <td>1235</td>\n",
       "      <td>0.820</td>\n",
       "      <td>1.421</td>\n",
       "    </tr>\n",
       "    <tr>\n",
       "      <th>92</th>\n",
       "      <td>171</td>\n",
       "      <td>1</td>\n",
       "      <td>84</td>\n",
       "      <td>5.0</td>\n",
       "      <td>1.0</td>\n",
       "      <td>29.0</td>\n",
       "      <td>1707</td>\n",
       "      <td>0.731</td>\n",
       "      <td>1.028</td>\n",
       "    </tr>\n",
       "    <tr>\n",
       "      <th>179</th>\n",
       "      <td>317</td>\n",
       "      <td>1</td>\n",
       "      <td>86</td>\n",
       "      <td>1.0</td>\n",
       "      <td>4.0</td>\n",
       "      <td>15.0</td>\n",
       "      <td>1512</td>\n",
       "      <td>0.665</td>\n",
       "      <td>1.161</td>\n",
       "    </tr>\n",
       "    <tr>\n",
       "      <th>102</th>\n",
       "      <td>188</td>\n",
       "      <td>0</td>\n",
       "      <td>78</td>\n",
       "      <td>5.0</td>\n",
       "      <td>1.0</td>\n",
       "      <td>30.0</td>\n",
       "      <td>1243</td>\n",
       "      <td>0.747</td>\n",
       "      <td>1.412</td>\n",
       "    </tr>\n",
       "  </tbody>\n",
       "</table>\n",
       "<p>176 rows × 9 columns</p>\n",
       "</div>"
      ],
      "text/plain": [
       "     index  M/F  Age  Educ  SES  MMSE  eTIV   nWBV    ASF\n",
       "104    190    0   55   5.0  1.0  29.0  1368  0.823  1.283\n",
       "172    304    1   81   1.0  4.0  28.0  1750  0.676  1.003\n",
       "171    302    0   80   1.0  4.0  27.0  1654  0.678  1.061\n",
       "111    203    1   84   2.0  3.0  20.0  1641  0.703  1.070\n",
       "222    399    1   81   5.0  1.0  29.0  1647  0.721  1.066\n",
       "..     ...  ...  ...   ...  ...   ...   ...    ...    ...\n",
       "106    194    0   74   3.0  3.0  28.0  1614  0.697  1.087\n",
       "14      23    0   58   5.0  1.0  30.0  1235  0.820  1.421\n",
       "92     171    1   84   5.0  1.0  29.0  1707  0.731  1.028\n",
       "179    317    1   86   1.0  4.0  15.0  1512  0.665  1.161\n",
       "102    188    0   78   5.0  1.0  30.0  1243  0.747  1.412\n",
       "\n",
       "[176 rows x 9 columns]"
      ]
     },
     "execution_count": 22,
     "metadata": {},
     "output_type": "execute_result"
    }
   ],
   "source": [
    "# Making a copy of X_scaled\n",
    "X_train_trial = X_train.copy()\n",
    "X_train_trial"
   ]
  },
  {
   "cell_type": "markdown",
   "id": "616cb070",
   "metadata": {},
   "source": [
    "# 🎰SVC"
   ]
  },
  {
   "cell_type": "markdown",
   "id": "d2549b54",
   "metadata": {},
   "source": [
    "## SVC Linear"
   ]
  },
  {
   "cell_type": "markdown",
   "id": "d830a46c",
   "metadata": {},
   "source": [
    "### Just a trial"
   ]
  },
  {
   "cell_type": "code",
   "execution_count": 23,
   "id": "58079611",
   "metadata": {},
   "outputs": [],
   "source": [
    "# Instantiating linear support vector classifier\n",
    "model_svc = SVC(kernel = 'linear')"
   ]
  },
  {
   "cell_type": "code",
   "execution_count": 24,
   "id": "255a284c",
   "metadata": {},
   "outputs": [
    {
     "ename": "ValueError",
     "evalue": "y should be a 1d array, got an array of shape (176, 2) instead.",
     "output_type": "error",
     "traceback": [
      "\u001b[0;31m---------------------------------------------------------------------------\u001b[0m",
      "\u001b[0;31mValueError\u001b[0m                                Traceback (most recent call last)",
      "Input \u001b[0;32mIn [24]\u001b[0m, in \u001b[0;36m<cell line: 2>\u001b[0;34m()\u001b[0m\n\u001b[1;32m      1\u001b[0m \u001b[38;5;66;03m# Fitting LinearSVC\u001b[39;00m\n\u001b[0;32m----> 2\u001b[0m \u001b[43mmodel_svc\u001b[49m\u001b[38;5;241;43m.\u001b[39;49m\u001b[43mfit\u001b[49m\u001b[43m(\u001b[49m\u001b[43mX_train\u001b[49m\u001b[43m,\u001b[49m\u001b[43m \u001b[49m\u001b[43my_train\u001b[49m\u001b[43m)\u001b[49m\n",
      "File \u001b[0;32m~/.pyenv/versions/3.8.12/envs/memobrain/lib/python3.8/site-packages/sklearn/svm/_base.py:190\u001b[0m, in \u001b[0;36mBaseLibSVM.fit\u001b[0;34m(self, X, y, sample_weight)\u001b[0m\n\u001b[1;32m    188\u001b[0m     check_consistent_length(X, y)\n\u001b[1;32m    189\u001b[0m \u001b[38;5;28;01melse\u001b[39;00m:\n\u001b[0;32m--> 190\u001b[0m     X, y \u001b[38;5;241m=\u001b[39m \u001b[38;5;28;43mself\u001b[39;49m\u001b[38;5;241;43m.\u001b[39;49m\u001b[43m_validate_data\u001b[49m\u001b[43m(\u001b[49m\n\u001b[1;32m    191\u001b[0m \u001b[43m        \u001b[49m\u001b[43mX\u001b[49m\u001b[43m,\u001b[49m\n\u001b[1;32m    192\u001b[0m \u001b[43m        \u001b[49m\u001b[43my\u001b[49m\u001b[43m,\u001b[49m\n\u001b[1;32m    193\u001b[0m \u001b[43m        \u001b[49m\u001b[43mdtype\u001b[49m\u001b[38;5;241;43m=\u001b[39;49m\u001b[43mnp\u001b[49m\u001b[38;5;241;43m.\u001b[39;49m\u001b[43mfloat64\u001b[49m\u001b[43m,\u001b[49m\n\u001b[1;32m    194\u001b[0m \u001b[43m        \u001b[49m\u001b[43morder\u001b[49m\u001b[38;5;241;43m=\u001b[39;49m\u001b[38;5;124;43m\"\u001b[39;49m\u001b[38;5;124;43mC\u001b[39;49m\u001b[38;5;124;43m\"\u001b[39;49m\u001b[43m,\u001b[49m\n\u001b[1;32m    195\u001b[0m \u001b[43m        \u001b[49m\u001b[43maccept_sparse\u001b[49m\u001b[38;5;241;43m=\u001b[39;49m\u001b[38;5;124;43m\"\u001b[39;49m\u001b[38;5;124;43mcsr\u001b[39;49m\u001b[38;5;124;43m\"\u001b[39;49m\u001b[43m,\u001b[49m\n\u001b[1;32m    196\u001b[0m \u001b[43m        \u001b[49m\u001b[43maccept_large_sparse\u001b[49m\u001b[38;5;241;43m=\u001b[39;49m\u001b[38;5;28;43;01mFalse\u001b[39;49;00m\u001b[43m,\u001b[49m\n\u001b[1;32m    197\u001b[0m \u001b[43m    \u001b[49m\u001b[43m)\u001b[49m\n\u001b[1;32m    199\u001b[0m y \u001b[38;5;241m=\u001b[39m \u001b[38;5;28mself\u001b[39m\u001b[38;5;241m.\u001b[39m_validate_targets(y)\n\u001b[1;32m    201\u001b[0m sample_weight \u001b[38;5;241m=\u001b[39m np\u001b[38;5;241m.\u001b[39masarray(\n\u001b[1;32m    202\u001b[0m     [] \u001b[38;5;28;01mif\u001b[39;00m sample_weight \u001b[38;5;129;01mis\u001b[39;00m \u001b[38;5;28;01mNone\u001b[39;00m \u001b[38;5;28;01melse\u001b[39;00m sample_weight, dtype\u001b[38;5;241m=\u001b[39mnp\u001b[38;5;241m.\u001b[39mfloat64\n\u001b[1;32m    203\u001b[0m )\n",
      "File \u001b[0;32m~/.pyenv/versions/3.8.12/envs/memobrain/lib/python3.8/site-packages/sklearn/base.py:581\u001b[0m, in \u001b[0;36mBaseEstimator._validate_data\u001b[0;34m(self, X, y, reset, validate_separately, **check_params)\u001b[0m\n\u001b[1;32m    579\u001b[0m         y \u001b[38;5;241m=\u001b[39m check_array(y, \u001b[38;5;241m*\u001b[39m\u001b[38;5;241m*\u001b[39mcheck_y_params)\n\u001b[1;32m    580\u001b[0m     \u001b[38;5;28;01melse\u001b[39;00m:\n\u001b[0;32m--> 581\u001b[0m         X, y \u001b[38;5;241m=\u001b[39m \u001b[43mcheck_X_y\u001b[49m\u001b[43m(\u001b[49m\u001b[43mX\u001b[49m\u001b[43m,\u001b[49m\u001b[43m \u001b[49m\u001b[43my\u001b[49m\u001b[43m,\u001b[49m\u001b[43m \u001b[49m\u001b[38;5;241;43m*\u001b[39;49m\u001b[38;5;241;43m*\u001b[39;49m\u001b[43mcheck_params\u001b[49m\u001b[43m)\u001b[49m\n\u001b[1;32m    582\u001b[0m     out \u001b[38;5;241m=\u001b[39m X, y\n\u001b[1;32m    584\u001b[0m \u001b[38;5;28;01mif\u001b[39;00m \u001b[38;5;129;01mnot\u001b[39;00m no_val_X \u001b[38;5;129;01mand\u001b[39;00m check_params\u001b[38;5;241m.\u001b[39mget(\u001b[38;5;124m\"\u001b[39m\u001b[38;5;124mensure_2d\u001b[39m\u001b[38;5;124m\"\u001b[39m, \u001b[38;5;28;01mTrue\u001b[39;00m):\n",
      "File \u001b[0;32m~/.pyenv/versions/3.8.12/envs/memobrain/lib/python3.8/site-packages/sklearn/utils/validation.py:979\u001b[0m, in \u001b[0;36mcheck_X_y\u001b[0;34m(X, y, accept_sparse, accept_large_sparse, dtype, order, copy, force_all_finite, ensure_2d, allow_nd, multi_output, ensure_min_samples, ensure_min_features, y_numeric, estimator)\u001b[0m\n\u001b[1;32m    962\u001b[0m     \u001b[38;5;28;01mraise\u001b[39;00m \u001b[38;5;167;01mValueError\u001b[39;00m(\u001b[38;5;124m\"\u001b[39m\u001b[38;5;124my cannot be None\u001b[39m\u001b[38;5;124m\"\u001b[39m)\n\u001b[1;32m    964\u001b[0m X \u001b[38;5;241m=\u001b[39m check_array(\n\u001b[1;32m    965\u001b[0m     X,\n\u001b[1;32m    966\u001b[0m     accept_sparse\u001b[38;5;241m=\u001b[39maccept_sparse,\n\u001b[0;32m   (...)\u001b[0m\n\u001b[1;32m    976\u001b[0m     estimator\u001b[38;5;241m=\u001b[39mestimator,\n\u001b[1;32m    977\u001b[0m )\n\u001b[0;32m--> 979\u001b[0m y \u001b[38;5;241m=\u001b[39m \u001b[43m_check_y\u001b[49m\u001b[43m(\u001b[49m\u001b[43my\u001b[49m\u001b[43m,\u001b[49m\u001b[43m \u001b[49m\u001b[43mmulti_output\u001b[49m\u001b[38;5;241;43m=\u001b[39;49m\u001b[43mmulti_output\u001b[49m\u001b[43m,\u001b[49m\u001b[43m \u001b[49m\u001b[43my_numeric\u001b[49m\u001b[38;5;241;43m=\u001b[39;49m\u001b[43my_numeric\u001b[49m\u001b[43m)\u001b[49m\n\u001b[1;32m    981\u001b[0m check_consistent_length(X, y)\n\u001b[1;32m    983\u001b[0m \u001b[38;5;28;01mreturn\u001b[39;00m X, y\n",
      "File \u001b[0;32m~/.pyenv/versions/3.8.12/envs/memobrain/lib/python3.8/site-packages/sklearn/utils/validation.py:993\u001b[0m, in \u001b[0;36m_check_y\u001b[0;34m(y, multi_output, y_numeric)\u001b[0m\n\u001b[1;32m    989\u001b[0m     y \u001b[38;5;241m=\u001b[39m check_array(\n\u001b[1;32m    990\u001b[0m         y, accept_sparse\u001b[38;5;241m=\u001b[39m\u001b[38;5;124m\"\u001b[39m\u001b[38;5;124mcsr\u001b[39m\u001b[38;5;124m\"\u001b[39m, force_all_finite\u001b[38;5;241m=\u001b[39m\u001b[38;5;28;01mTrue\u001b[39;00m, ensure_2d\u001b[38;5;241m=\u001b[39m\u001b[38;5;28;01mFalse\u001b[39;00m, dtype\u001b[38;5;241m=\u001b[39m\u001b[38;5;28;01mNone\u001b[39;00m\n\u001b[1;32m    991\u001b[0m     )\n\u001b[1;32m    992\u001b[0m \u001b[38;5;28;01melse\u001b[39;00m:\n\u001b[0;32m--> 993\u001b[0m     y \u001b[38;5;241m=\u001b[39m \u001b[43mcolumn_or_1d\u001b[49m\u001b[43m(\u001b[49m\u001b[43my\u001b[49m\u001b[43m,\u001b[49m\u001b[43m \u001b[49m\u001b[43mwarn\u001b[49m\u001b[38;5;241;43m=\u001b[39;49m\u001b[38;5;28;43;01mTrue\u001b[39;49;00m\u001b[43m)\u001b[49m\n\u001b[1;32m    994\u001b[0m     _assert_all_finite(y)\n\u001b[1;32m    995\u001b[0m     _ensure_no_complex_data(y)\n",
      "File \u001b[0;32m~/.pyenv/versions/3.8.12/envs/memobrain/lib/python3.8/site-packages/sklearn/utils/validation.py:1038\u001b[0m, in \u001b[0;36mcolumn_or_1d\u001b[0;34m(y, warn)\u001b[0m\n\u001b[1;32m   1029\u001b[0m         warnings\u001b[38;5;241m.\u001b[39mwarn(\n\u001b[1;32m   1030\u001b[0m             \u001b[38;5;124m\"\u001b[39m\u001b[38;5;124mA column-vector y was passed when a 1d array was\u001b[39m\u001b[38;5;124m\"\u001b[39m\n\u001b[1;32m   1031\u001b[0m             \u001b[38;5;124m\"\u001b[39m\u001b[38;5;124m expected. Please change the shape of y to \u001b[39m\u001b[38;5;124m\"\u001b[39m\n\u001b[0;32m   (...)\u001b[0m\n\u001b[1;32m   1034\u001b[0m             stacklevel\u001b[38;5;241m=\u001b[39m\u001b[38;5;241m2\u001b[39m,\n\u001b[1;32m   1035\u001b[0m         )\n\u001b[1;32m   1036\u001b[0m     \u001b[38;5;28;01mreturn\u001b[39;00m np\u001b[38;5;241m.\u001b[39mravel(y)\n\u001b[0;32m-> 1038\u001b[0m \u001b[38;5;28;01mraise\u001b[39;00m \u001b[38;5;167;01mValueError\u001b[39;00m(\n\u001b[1;32m   1039\u001b[0m     \u001b[38;5;124m\"\u001b[39m\u001b[38;5;124my should be a 1d array, got an array of shape \u001b[39m\u001b[38;5;132;01m{}\u001b[39;00m\u001b[38;5;124m instead.\u001b[39m\u001b[38;5;124m\"\u001b[39m\u001b[38;5;241m.\u001b[39mformat(shape)\n\u001b[1;32m   1040\u001b[0m )\n",
      "\u001b[0;31mValueError\u001b[0m: y should be a 1d array, got an array of shape (176, 2) instead."
     ]
    }
   ],
   "source": [
    "# Fitting LinearSVC\n",
    "model_svc.fit(X_train, y_train)"
   ]
  },
  {
   "cell_type": "code",
   "execution_count": null,
   "id": "7156c8ab",
   "metadata": {},
   "outputs": [],
   "source": [
    "# Prediction on X_test\n",
    "y_pred_SVC = model_svc.predict(X_test)"
   ]
  },
  {
   "cell_type": "code",
   "execution_count": null,
   "id": "6cfc9404",
   "metadata": {},
   "outputs": [],
   "source": [
    "cm_svc = confusion_matrix(y_test, y_pred_SVC)\n",
    "cm_svc"
   ]
  },
  {
   "cell_type": "code",
   "execution_count": null,
   "id": "da7c4eec",
   "metadata": {},
   "outputs": [],
   "source": [
    "baseline_recall_svc = recall_score(y_test, y_pred_SVC)\n",
    "baseline_recall_svc"
   ]
  },
  {
   "cell_type": "markdown",
   "id": "e171d792",
   "metadata": {},
   "source": [
    "###   🤖  Grid Searching"
   ]
  },
  {
   "cell_type": "code",
   "execution_count": null,
   "id": "3e06cdd6",
   "metadata": {},
   "outputs": [],
   "source": [
    "# Creating a parameter grid: map the parameter names to the values that should be searched in a dictionary\n",
    "param_grid = {'C':np.arange(700,750,1),\n",
    "              'gamma':[1,0.1,0.001,0.0001]}\n",
    "\n",
    "# GridSearching\n",
    "gridsearch_svc = GridSearchCV(model_svc, \n",
    "                          param_grid, n_jobs = -1, \n",
    "                          scoring = 'recall', cv = 5)\n",
    "\n",
    "# Fitting gridsearch on X and y\n",
    "gridsearch_svc.fit(X_train, y_train)"
   ]
  },
  {
   "cell_type": "code",
   "execution_count": null,
   "id": "090e4a0c",
   "metadata": {},
   "outputs": [],
   "source": [
    "# Best estimator obtained from grid searching\n",
    "best_linear_svc = gridsearch_svc.best_estimator_\n",
    "best_linear_svc"
   ]
  },
  {
   "cell_type": "markdown",
   "id": "c1e3e98a",
   "metadata": {},
   "source": [
    "### Best SVC linear"
   ]
  },
  {
   "cell_type": "code",
   "execution_count": null,
   "id": "cf296553",
   "metadata": {},
   "outputs": [],
   "source": [
    "# Fitting the best estimator onto the train set\n",
    "best_linear_svc.fit(X_train, y_train)"
   ]
  },
  {
   "cell_type": "code",
   "execution_count": null,
   "id": "ba517957",
   "metadata": {},
   "outputs": [],
   "source": [
    "# Predicting X_test\n",
    "best_svc_pred = best_linear_svc.predict(X_test)"
   ]
  },
  {
   "cell_type": "code",
   "execution_count": null,
   "id": "231087c3",
   "metadata": {},
   "outputs": [],
   "source": [
    "# Confusion matrix\n",
    "cm_svc = confusion_matrix(y_test, best_svc_pred)\n",
    "cm_svc\n",
    "\n",
    "disp = ConfusionMatrixDisplay(confusion_matrix=cm_svc,\n",
    "                             display_labels=[\"Nondemented\",\"Demented\"])\n",
    "disp.plot(cmap = 'viridis')\n",
    "plt.grid(visible = None)\n",
    "plt.show()"
   ]
  },
  {
   "cell_type": "code",
   "execution_count": null,
   "id": "f294f603",
   "metadata": {},
   "outputs": [],
   "source": [
    "# Recall score\n",
    "recall_score(y_test, best_svc_pred)"
   ]
  },
  {
   "cell_type": "markdown",
   "id": "ad633bbe",
   "metadata": {},
   "source": [
    "## SVC Poly"
   ]
  },
  {
   "cell_type": "markdown",
   "id": "c414ea8e",
   "metadata": {},
   "source": [
    "###  🤖 Grid Searching"
   ]
  },
  {
   "cell_type": "code",
   "execution_count": null,
   "id": "02c72137",
   "metadata": {},
   "outputs": [],
   "source": [
    "# Creating a parameter grid: map the parameter names to the values that should be searched in a dictionary\n",
    "param_grid = {'C':np.arange(1,50,1),\n",
    "              'gamma':[1,0.1,0.001,0.0001],\n",
    "             'degree': np.arange(1,10,1)}\n",
    "\n",
    "# GridSearching\n",
    "gridsearch_svc = GridSearchCV(SVC(kernel = 'poly'), \n",
    "                          param_grid, n_jobs = -1, \n",
    "                          scoring = 'recall', cv = 5)\n",
    "\n",
    "# Fitting gridsearch on X and y\n",
    "gridsearch_svc.fit(X_train, y_train)"
   ]
  },
  {
   "cell_type": "code",
   "execution_count": null,
   "id": "3c45a4ea",
   "metadata": {},
   "outputs": [],
   "source": [
    "# Best estimator obtained from grid searching\n",
    "best_poly_svc = gridsearch_svc.best_estimator_\n",
    "best_poly_svc"
   ]
  },
  {
   "cell_type": "markdown",
   "id": "36e0ee5b",
   "metadata": {},
   "source": [
    "### Best SVC Poly"
   ]
  },
  {
   "cell_type": "code",
   "execution_count": null,
   "id": "581559d2",
   "metadata": {},
   "outputs": [],
   "source": [
    "# Predicting X_test\n",
    "best_poly_pred = best_poly_svc.predict(X_test)"
   ]
  },
  {
   "cell_type": "code",
   "execution_count": null,
   "id": "1d564bf2",
   "metadata": {},
   "outputs": [],
   "source": [
    "# Confusion matrix\n",
    "cm_poly_svc = confusion_matrix(y_test, best_poly_pred)\n",
    "\n",
    "disp = ConfusionMatrixDisplay(confusion_matrix=cm_poly_svc,\n",
    "                             display_labels=['Demented','Nondemented'])\n",
    "disp.plot(cmap = 'viridis')\n",
    "plt.grid(visible = None)\n",
    "plt.show()"
   ]
  },
  {
   "cell_type": "code",
   "execution_count": null,
   "id": "ee59e4c1",
   "metadata": {},
   "outputs": [],
   "source": [
    "# Recall score\n",
    "recall_score(y_test, best_poly_pred)"
   ]
  },
  {
   "cell_type": "markdown",
   "id": "77f3d05b",
   "metadata": {},
   "source": [
    "## SVC Rbf"
   ]
  },
  {
   "cell_type": "markdown",
   "id": "32d81ea7",
   "metadata": {},
   "source": [
    "### Grid Searching"
   ]
  },
  {
   "cell_type": "code",
   "execution_count": null,
   "id": "cb06ab48",
   "metadata": {},
   "outputs": [],
   "source": [
    "# Creating a parameter grid: map the parameter names to the values that should be searched in a dictionary\n",
    "param_grid = {'C':np.arange(1,200,1),\n",
    "              'gamma':[1,0.1,0.001,0.0001]}\n",
    "\n",
    "# GridSearching\n",
    "gridsearch_svc = GridSearchCV(SVC(kernel = 'rbf'), \n",
    "                          param_grid, n_jobs = -1, \n",
    "                          scoring = 'recall', cv = 5)\n",
    "\n",
    "# Fitting gridsearch on X and y\n",
    "gridsearch_svc.fit(X_train, y_train)"
   ]
  },
  {
   "cell_type": "code",
   "execution_count": null,
   "id": "2c802a87",
   "metadata": {},
   "outputs": [],
   "source": [
    "# Best estimator obtained from grid searching\n",
    "best_rbf_svc = gridsearch_svc.best_estimator_\n",
    "best_rbf_svc"
   ]
  },
  {
   "cell_type": "markdown",
   "id": "bf232484",
   "metadata": {},
   "source": [
    "### Best SVC Rbf"
   ]
  },
  {
   "cell_type": "code",
   "execution_count": null,
   "id": "35e685fa",
   "metadata": {},
   "outputs": [],
   "source": [
    "# Predicting X_test\n",
    "best_rbf_pred = best_rbf_svc.predict(X_test)"
   ]
  },
  {
   "cell_type": "code",
   "execution_count": null,
   "id": "5b45fec4",
   "metadata": {},
   "outputs": [],
   "source": [
    "# Confusion matrix\n",
    "cm_rbf_svc = confusion_matrix(y_test, best_rbf_pred)\n",
    "\n",
    "disp = ConfusionMatrixDisplay(confusion_matrix=cm_rbf_svc,\n",
    "                             display_labels=['Demented','Nondemented'])\n",
    "disp.plot(cmap = 'viridis')\n",
    "plt.grid(visible = None)\n",
    "plt.show()"
   ]
  },
  {
   "cell_type": "code",
   "execution_count": null,
   "id": "16198252",
   "metadata": {},
   "outputs": [],
   "source": [
    "# Recall score\n",
    "recall_score(y_test, best_rbf_pred)"
   ]
  },
  {
   "cell_type": "markdown",
   "id": "7a25fc4e",
   "metadata": {},
   "source": [
    "#  🤹 K Neighbors Classifier"
   ]
  },
  {
   "cell_type": "code",
   "execution_count": null,
   "id": "12fdc448",
   "metadata": {},
   "outputs": [],
   "source": [
    "# Instantiating KNeighborsClassifier\n",
    "neigh = KNeighborsClassifier()"
   ]
  },
  {
   "cell_type": "markdown",
   "id": "0f35a253",
   "metadata": {},
   "source": [
    "###  🤖 Grid Searching"
   ]
  },
  {
   "cell_type": "code",
   "execution_count": null,
   "id": "a0f65c81",
   "metadata": {},
   "outputs": [],
   "source": [
    "# Defining the parameter values that should be searched\n",
    "k_range = list(range(1, 31))\n",
    "\n",
    "# Creating a parameter grid: map the parameter names to the values that should be searched\n",
    "param_grid = dict(n_neighbors=k_range)"
   ]
  },
  {
   "cell_type": "code",
   "execution_count": null,
   "id": "4c498d48",
   "metadata": {},
   "outputs": [],
   "source": [
    "# Performing a grid search\n",
    "grid = GridSearchCV(neigh, \n",
    "                    param_grid, \n",
    "                    cv=10, \n",
    "                    scoring='recall')"
   ]
  },
  {
   "cell_type": "code",
   "execution_count": null,
   "id": "c87533e3",
   "metadata": {},
   "outputs": [],
   "source": [
    "# Fitting grid on train set\n",
    "grid.fit(X_train, y_train)"
   ]
  },
  {
   "cell_type": "code",
   "execution_count": null,
   "id": "58319235",
   "metadata": {},
   "outputs": [],
   "source": [
    "best_neigh = grid.best_estimator_"
   ]
  },
  {
   "cell_type": "markdown",
   "id": "59c2fe1e",
   "metadata": {},
   "source": [
    "### Best Neigh model"
   ]
  },
  {
   "cell_type": "code",
   "execution_count": null,
   "id": "1045e7c2",
   "metadata": {},
   "outputs": [],
   "source": [
    "# Fitting KNeighborsClassifier\n",
    "best_neigh.fit(X_train, y_train)"
   ]
  },
  {
   "cell_type": "code",
   "execution_count": null,
   "id": "b4b5672e",
   "metadata": {},
   "outputs": [],
   "source": [
    "best_neigh_pred = best_neigh.predict(X_test)"
   ]
  },
  {
   "cell_type": "code",
   "execution_count": null,
   "id": "bd0b073f",
   "metadata": {},
   "outputs": [],
   "source": [
    "# Confusion matrix\n",
    "cm_neigh = confusion_matrix(y_test, best_neigh_pred)\n",
    "\n",
    "disp = ConfusionMatrixDisplay(confusion_matrix=cm_neigh,\n",
    "                             display_labels=['Demented','Nondemented'])\n",
    "disp.plot(cmap = 'viridis')\n",
    "plt.grid(visible = None)\n",
    "plt.show()"
   ]
  },
  {
   "cell_type": "code",
   "execution_count": null,
   "id": "43f3a330",
   "metadata": {},
   "outputs": [],
   "source": [
    "recall_score(y_test, best_neigh_pred)"
   ]
  },
  {
   "cell_type": "markdown",
   "id": "7fb88f81",
   "metadata": {},
   "source": [
    "# Ensemble"
   ]
  },
  {
   "cell_type": "markdown",
   "id": "c4f797f8",
   "metadata": {},
   "source": [
    "## 🌳Decision Tree"
   ]
  },
  {
   "cell_type": "markdown",
   "id": "baa89e11",
   "metadata": {
    "heading_collapsed": true
   },
   "source": [
    "### Trial (just to practice)"
   ]
  },
  {
   "cell_type": "code",
   "execution_count": null,
   "id": "712b3483",
   "metadata": {
    "hidden": true
   },
   "outputs": [],
   "source": [
    "np.unique(y_train, return_counts = True)"
   ]
  },
  {
   "cell_type": "code",
   "execution_count": null,
   "id": "cc88c292",
   "metadata": {
    "hidden": true
   },
   "outputs": [],
   "source": [
    "# Instantiating Decision Tree\n",
    "tree_clf = DecisionTreeClassifier(max_depth = 5)"
   ]
  },
  {
   "cell_type": "code",
   "execution_count": null,
   "id": "6677aa45",
   "metadata": {
    "hidden": true
   },
   "outputs": [],
   "source": [
    "# Fitting decision tree\n",
    "tree_clf.fit(X_train_trial,y_train)"
   ]
  },
  {
   "cell_type": "code",
   "execution_count": null,
   "id": "813591ad",
   "metadata": {
    "hidden": true
   },
   "outputs": [],
   "source": [
    "# Predicting X_test\n",
    "prediction = tree_clf.predict(X_test)\n",
    "prediction"
   ]
  },
  {
   "cell_type": "code",
   "execution_count": null,
   "id": "c2ade7aa",
   "metadata": {
    "hidden": true
   },
   "outputs": [],
   "source": [
    "# Accuracy\n",
    "recall_score(y_test, prediction)"
   ]
  },
  {
   "cell_type": "code",
   "execution_count": null,
   "id": "221fca1b",
   "metadata": {
    "hidden": true
   },
   "outputs": [],
   "source": [
    "# Export model graph\n",
    "export_graphviz(tree_clf, out_file=\"oasis1_tree.dot\", \n",
    "                feature_names=X_train_trial.columns,\n",
    "                class_names=['nondemented', 'demented'], \n",
    "                rounded=True,\n",
    "                filled=True,\n",
    "                rotate = True,\n",
    "                fontname = 'futura')\n",
    "\n",
    "# Import model graph\n",
    "with open(\"oasis1_tree.dot\") as f:\n",
    "    dot_graph = f.read()\n",
    "    display(graphviz.Source(dot_graph))"
   ]
  },
  {
   "cell_type": "markdown",
   "id": "5cce3847",
   "metadata": {},
   "source": [
    "### 🤖 Grid Searching "
   ]
  },
  {
   "cell_type": "code",
   "execution_count": null,
   "id": "c890e76e",
   "metadata": {},
   "outputs": [],
   "source": [
    "# Parameters to grid search\n",
    "parameters = {'criterion': ['gini', 'entropy'],\n",
    "              'max_depth': range(1,10),\n",
    "              'min_samples_split': range(2,10),\n",
    "              'min_samples_leaf': range(2,10)\n",
    "             #'max_features': range(0,len(X_train.columns),\n",
    "              }"
   ]
  },
  {
   "cell_type": "code",
   "execution_count": null,
   "id": "dfddaeee",
   "metadata": {},
   "outputs": [],
   "source": [
    "# GridSearching\n",
    "gridsearch = GridSearchCV(DecisionTreeClassifier(), \n",
    "                          parameters, n_jobs = -1, \n",
    "                          scoring = 'recall', cv = 5)\n",
    "\n",
    "# Fitting gridsearch on X and y\n",
    "gridsearch.fit(X_train, y_train)"
   ]
  },
  {
   "cell_type": "code",
   "execution_count": null,
   "id": "63997ab0",
   "metadata": {},
   "outputs": [],
   "source": [
    "# Best score according to gridsearch\n",
    "gridsearch.best_score_"
   ]
  },
  {
   "cell_type": "code",
   "execution_count": null,
   "id": "431ce53d",
   "metadata": {},
   "outputs": [],
   "source": [
    "# Best parameters\n",
    "gridsearch.best_params_"
   ]
  },
  {
   "cell_type": "markdown",
   "id": "d954e85c",
   "metadata": {},
   "source": [
    "### 🌲 Best Tree"
   ]
  },
  {
   "cell_type": "code",
   "execution_count": null,
   "id": "edb02bcb",
   "metadata": {},
   "outputs": [],
   "source": [
    "# Instantiating best tree\n",
    "best_tree = gridsearch.best_estimator_\n",
    "\n",
    "# Fitting best tree\n",
    "best_tree.fit(X_train_trial, y_train)"
   ]
  },
  {
   "cell_type": "code",
   "execution_count": null,
   "id": "459950fa",
   "metadata": {},
   "outputs": [],
   "source": [
    "# Predictions\n",
    "y_pred = best_tree.predict(X_test)\n",
    "y_pred"
   ]
  },
  {
   "cell_type": "code",
   "execution_count": null,
   "id": "efa07a17",
   "metadata": {},
   "outputs": [],
   "source": [
    "# Recall score\n",
    "recall_score(y_test, y_pred)"
   ]
  },
  {
   "cell_type": "code",
   "execution_count": null,
   "id": "3867462c",
   "metadata": {},
   "outputs": [],
   "source": [
    "# Fitting best tree on the train set\n",
    "best_tree.fit(X_train, y_train)"
   ]
  },
  {
   "cell_type": "code",
   "execution_count": null,
   "id": "dfdfe3cc",
   "metadata": {},
   "outputs": [],
   "source": [
    "# Predictions on the test set\n",
    "y_tree_pred = best_tree.predict(X_test)\n",
    "y_tree_pred"
   ]
  },
  {
   "cell_type": "code",
   "execution_count": null,
   "id": "7626da49",
   "metadata": {},
   "outputs": [],
   "source": [
    "# Confusion Matrix\n",
    "tree_cm = confusion_matrix(y_test, y_tree_pred)"
   ]
  },
  {
   "cell_type": "code",
   "execution_count": null,
   "id": "3f5ab5fe",
   "metadata": {},
   "outputs": [],
   "source": [
    "disp = ConfusionMatrixDisplay(confusion_matrix=tree_cm,\n",
    "                             display_labels=[\"nondemented\",\"demented\"])\n",
    "disp.plot(cmap = 'plasma')\n",
    "\n",
    "plt.grid(visible = False)\n",
    "plt.show()"
   ]
  },
  {
   "cell_type": "code",
   "execution_count": null,
   "id": "25e42a10",
   "metadata": {},
   "outputs": [],
   "source": [
    "y_train.value_counts()"
   ]
  },
  {
   "cell_type": "code",
   "execution_count": null,
   "id": "9d1904ab",
   "metadata": {},
   "outputs": [],
   "source": [
    "y_test.value_counts()\n",
    "# We want to capture all 23 people with dementia"
   ]
  },
  {
   "cell_type": "code",
   "execution_count": null,
   "id": "3986b23f",
   "metadata": {},
   "outputs": [],
   "source": [
    "# Export model graph\n",
    "export_graphviz(best_tree, out_file=\"best_tree.dot\", \n",
    "                feature_names=X_train_trial.columns,\n",
    "                class_names=['nondemented', 'demented'], \n",
    "                rounded=True,\n",
    "                filled=True,\n",
    "                rotate = True,\n",
    "                fontname = 'futura')\n",
    "\n",
    "# Import model graph\n",
    "with open(\"best_tree.dot\") as f:\n",
    "    dot_graph = f.read()\n",
    "    display(graphviz.Source(dot_graph))"
   ]
  },
  {
   "cell_type": "markdown",
   "id": "a777e859",
   "metadata": {},
   "source": [
    "<big> Conclusion: </big>\n",
    "\n",
    "y_train = 76 demented, 100 nondemented\n",
    "\n",
    "y_pred = 61 demented, 115 nondemented"
   ]
  },
  {
   "cell_type": "markdown",
   "id": "a16833cb",
   "metadata": {},
   "source": [
    "## Random Forest"
   ]
  },
  {
   "cell_type": "markdown",
   "id": "8ce92f15",
   "metadata": {},
   "source": [
    "### Grid Searching"
   ]
  },
  {
   "cell_type": "code",
   "execution_count": null,
   "id": "14150803",
   "metadata": {},
   "outputs": [],
   "source": [
    "random_grid = {'n_estimators': n_estimators,\n",
    "               'max_features': max_features,\n",
    "               'max_depth': max_depth,\n",
    "               'min_samples_split': min_samples_split,\n",
    "               'min_samples_leaf': min_samples_leaf,\n",
    "               'bootstrap': bootstrap}"
   ]
  },
  {
   "cell_type": "code",
   "execution_count": null,
   "id": "bfd7f565",
   "metadata": {},
   "outputs": [],
   "source": [
    "rf_random = RandomizedSearchCV(estimator = rf, \n",
    "                               param_distributions = random_grid, \n",
    "                               n_iter = 100, \n",
    "                               cv = 5, \n",
    "                               verbose=2, \n",
    "                               random_state=42, \n",
    "                               n_jobs = -1)"
   ]
  },
  {
   "cell_type": "markdown",
   "id": "5769b2cc",
   "metadata": {},
   "source": [
    "# Exporting Data"
   ]
  },
  {
   "cell_type": "code",
   "execution_count": null,
   "id": "6ad84f84",
   "metadata": {},
   "outputs": [],
   "source": [
    "frames=[X_scaled, y]\n",
    "frames"
   ]
  },
  {
   "cell_type": "code",
   "execution_count": null,
   "id": "98981b20",
   "metadata": {},
   "outputs": [],
   "source": [
    "preprocessed_oasis1 = pd.concat(frames, axis =1)"
   ]
  },
  {
   "cell_type": "code",
   "execution_count": null,
   "id": "e9c396a6",
   "metadata": {},
   "outputs": [],
   "source": [
    "preprocessed_oasis1.to_csv(r'~/code/mkvph0ch/memobrain/notebooks/preprocessed_oasis1.csv')"
   ]
  },
  {
   "cell_type": "markdown",
   "id": "59a8756a",
   "metadata": {},
   "source": [
    "# Recall Scores"
   ]
  },
  {
   "cell_type": "markdown",
   "id": "3992216e",
   "metadata": {},
   "source": [
    "<big> <b> Model names </b> </big>\n",
    "\n",
    "<big> <font color = 'steelblue'> SVC </color> </big>\n",
    "\n",
    "Linear: best_linear_svc - 78.2\n",
    "\n",
    "\n",
    "Polynomial: best_poly_svc - 69.6 \n",
    "    \n",
    "\n",
    "Rbf: best_rbf_svc - 82.6  \n",
    "\n",
    "\n",
    "<big> <font color = 'steelblue'> K Neighbors Classifier </color> <big>\n",
    "\n",
    "best_neigh - 65.0\n",
    "\n",
    "<big> <font color = 'steelblue'> Decision Tree </color> </big>\n",
    "    \n",
    "best_tree - 78.3\n"
   ]
  },
  {
   "cell_type": "markdown",
   "id": "ac5d03a3",
   "metadata": {},
   "source": [
    "# Evaluating OASIS2"
   ]
  },
  {
   "cell_type": "markdown",
   "id": "26b37edc",
   "metadata": {},
   "source": [
    "## Importing Data"
   ]
  },
  {
   "cell_type": "code",
   "execution_count": null,
   "id": "73548428",
   "metadata": {},
   "outputs": [],
   "source": [
    "oasis2_cs_path = '../raw_data/OASIS2/preprocessed_oasis2.csv'\n",
    "oasis2 = pd.read_csv(oasis2_cs_path)"
   ]
  },
  {
   "cell_type": "code",
   "execution_count": null,
   "id": "dcb073bd",
   "metadata": {},
   "outputs": [],
   "source": [
    "oasis2"
   ]
  },
  {
   "cell_type": "code",
   "execution_count": null,
   "id": "c4545180",
   "metadata": {},
   "outputs": [],
   "source": [
    "X2 = oasis2.drop(columns = 'CDR')\n",
    "y2 = oasis2['CDR']"
   ]
  },
  {
   "cell_type": "markdown",
   "id": "b5c1fa0a",
   "metadata": {},
   "source": [
    "## Evaluating"
   ]
  },
  {
   "cell_type": "code",
   "execution_count": null,
   "id": "e92146e4",
   "metadata": {},
   "outputs": [],
   "source": [
    "y2"
   ]
  },
  {
   "cell_type": "code",
   "execution_count": null,
   "id": "9c4e9805",
   "metadata": {},
   "outputs": [],
   "source": []
  }
 ],
 "metadata": {
  "kernelspec": {
   "display_name": "Python 3 (ipykernel)",
   "language": "python",
   "name": "python3"
  },
  "language_info": {
   "codemirror_mode": {
    "name": "ipython",
    "version": 3
   },
   "file_extension": ".py",
   "mimetype": "text/x-python",
   "name": "python",
   "nbconvert_exporter": "python",
   "pygments_lexer": "ipython3",
   "version": "3.8.12"
  },
  "toc": {
   "base_numbering": 1,
   "nav_menu": {},
   "number_sections": true,
   "sideBar": true,
   "skip_h1_title": false,
   "title_cell": "Table of Contents",
   "title_sidebar": "Contents",
   "toc_cell": false,
   "toc_position": {
    "height": "calc(100% - 180px)",
    "left": "10px",
    "top": "150px",
    "width": "286.319px"
   },
   "toc_section_display": true,
   "toc_window_display": true
  }
 },
 "nbformat": 4,
 "nbformat_minor": 5
}
