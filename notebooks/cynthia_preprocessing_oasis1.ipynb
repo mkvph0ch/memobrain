{
 "cells": [
  {
   "cell_type": "markdown",
   "id": "268b002b",
   "metadata": {},
   "source": [
    "# Preprocessing OASIS1"
   ]
  },
  {
   "cell_type": "code",
   "execution_count": 1,
   "id": "c1b2a9f2",
   "metadata": {},
   "outputs": [],
   "source": [
    "# IMPORTS\n",
    "# DATA MANIPULATION\n",
    "import pandas as pd\n",
    "import numpy as np\n",
    "\n",
    "# DATA VISUALISATION\n",
    "import matplotlib.pyplot as plt\n",
    "import seaborn as sns\n",
    "sns.set()\n",
    "from sklearn import set_config; set_config(display='diagram') # Visualize pipelines in HTML\n",
    "import graphviz\n",
    "from sklearn.tree import export_graphviz\n",
    "from sklearn import tree\n",
    "\n",
    "# MACHINE LEARNING\n",
    "from sklearn.preprocessing import StandardScaler, RobustScaler, MinMaxScaler\n",
    "from sklearn.preprocessing import OneHotEncoder, LabelEncoder, FunctionTransformer\n",
    "from sklearn.pipeline import Pipeline\n",
    "from sklearn.compose import ColumnTransformer\n",
    "from sklearn.model_selection import train_test_split\n",
    "from sklearn.tree import DecisionTreeRegressor, DecisionTreeClassifier"
   ]
  },
  {
   "cell_type": "code",
   "execution_count": 2,
   "id": "3c4d731d",
   "metadata": {},
   "outputs": [],
   "source": [
    "# Importing Data\n",
    "oasis1_cs_path = '../raw_data/OASIS1/oasis_cross-sectional.csv'\n",
    "oasis1 = pd.read_csv(oasis1_cs_path)"
   ]
  },
  {
   "cell_type": "code",
   "execution_count": 3,
   "id": "3a526545",
   "metadata": {},
   "outputs": [
    {
     "data": {
      "text/plain": [
       "(436, 12)"
      ]
     },
     "execution_count": 3,
     "metadata": {},
     "output_type": "execute_result"
    }
   ],
   "source": [
    "# Check shape\n",
    "oasis1.shape"
   ]
  },
  {
   "cell_type": "markdown",
   "id": "9eabf809",
   "metadata": {},
   "source": [
    "Note to self:\n",
    "\n",
    "\n",
    "**CDR;** 0= nondemented; 0.5 – very mild dementia; 1 = mild dementia; 2 = moderate dementia\n",
    "\n",
    "**eTIV;** Estimated total intracranial volume (eTIV)\n",
    "\n",
    "**nWBV** Normalized whole brain volume\n",
    "\n",
    "**ASF;** Atlas scaling factor"
   ]
  },
  {
   "cell_type": "code",
   "execution_count": 4,
   "id": "c1cc74a3",
   "metadata": {},
   "outputs": [
    {
     "data": {
      "text/html": [
       "<div>\n",
       "<style scoped>\n",
       "    .dataframe tbody tr th:only-of-type {\n",
       "        vertical-align: middle;\n",
       "    }\n",
       "\n",
       "    .dataframe tbody tr th {\n",
       "        vertical-align: top;\n",
       "    }\n",
       "\n",
       "    .dataframe thead th {\n",
       "        text-align: right;\n",
       "    }\n",
       "</style>\n",
       "<table border=\"1\" class=\"dataframe\">\n",
       "  <thead>\n",
       "    <tr style=\"text-align: right;\">\n",
       "      <th></th>\n",
       "      <th>ID</th>\n",
       "      <th>M/F</th>\n",
       "      <th>Hand</th>\n",
       "      <th>Age</th>\n",
       "      <th>Educ</th>\n",
       "      <th>SES</th>\n",
       "      <th>MMSE</th>\n",
       "      <th>CDR</th>\n",
       "      <th>eTIV</th>\n",
       "      <th>nWBV</th>\n",
       "      <th>ASF</th>\n",
       "      <th>Delay</th>\n",
       "    </tr>\n",
       "  </thead>\n",
       "  <tbody>\n",
       "    <tr>\n",
       "      <th>354</th>\n",
       "      <td>OAS1_0390_MR1</td>\n",
       "      <td>M</td>\n",
       "      <td>R</td>\n",
       "      <td>69</td>\n",
       "      <td>2.0</td>\n",
       "      <td>2.0</td>\n",
       "      <td>24.0</td>\n",
       "      <td>0.5</td>\n",
       "      <td>1480</td>\n",
       "      <td>0.794</td>\n",
       "      <td>1.186</td>\n",
       "      <td>NaN</td>\n",
       "    </tr>\n",
       "    <tr>\n",
       "      <th>143</th>\n",
       "      <td>OAS1_0155_MR1</td>\n",
       "      <td>M</td>\n",
       "      <td>R</td>\n",
       "      <td>71</td>\n",
       "      <td>4.0</td>\n",
       "      <td>NaN</td>\n",
       "      <td>28.0</td>\n",
       "      <td>0.5</td>\n",
       "      <td>1359</td>\n",
       "      <td>0.753</td>\n",
       "      <td>1.291</td>\n",
       "      <td>NaN</td>\n",
       "    </tr>\n",
       "    <tr>\n",
       "      <th>287</th>\n",
       "      <td>OAS1_0317_MR1</td>\n",
       "      <td>M</td>\n",
       "      <td>R</td>\n",
       "      <td>86</td>\n",
       "      <td>4.0</td>\n",
       "      <td>1.0</td>\n",
       "      <td>26.0</td>\n",
       "      <td>0.0</td>\n",
       "      <td>1501</td>\n",
       "      <td>0.702</td>\n",
       "      <td>1.169</td>\n",
       "      <td>NaN</td>\n",
       "    </tr>\n",
       "    <tr>\n",
       "      <th>205</th>\n",
       "      <td>OAS1_0226_MR1</td>\n",
       "      <td>M</td>\n",
       "      <td>R</td>\n",
       "      <td>90</td>\n",
       "      <td>1.0</td>\n",
       "      <td>4.0</td>\n",
       "      <td>23.0</td>\n",
       "      <td>0.5</td>\n",
       "      <td>1668</td>\n",
       "      <td>0.644</td>\n",
       "      <td>1.052</td>\n",
       "      <td>NaN</td>\n",
       "    </tr>\n",
       "    <tr>\n",
       "      <th>379</th>\n",
       "      <td>OAS1_0419_MR1</td>\n",
       "      <td>F</td>\n",
       "      <td>R</td>\n",
       "      <td>21</td>\n",
       "      <td>NaN</td>\n",
       "      <td>NaN</td>\n",
       "      <td>NaN</td>\n",
       "      <td>NaN</td>\n",
       "      <td>1473</td>\n",
       "      <td>0.862</td>\n",
       "      <td>1.191</td>\n",
       "      <td>NaN</td>\n",
       "    </tr>\n",
       "    <tr>\n",
       "      <th>1</th>\n",
       "      <td>OAS1_0002_MR1</td>\n",
       "      <td>F</td>\n",
       "      <td>R</td>\n",
       "      <td>55</td>\n",
       "      <td>4.0</td>\n",
       "      <td>1.0</td>\n",
       "      <td>29.0</td>\n",
       "      <td>0.0</td>\n",
       "      <td>1147</td>\n",
       "      <td>0.810</td>\n",
       "      <td>1.531</td>\n",
       "      <td>NaN</td>\n",
       "    </tr>\n",
       "    <tr>\n",
       "      <th>425</th>\n",
       "      <td>OAS1_0191_MR2</td>\n",
       "      <td>F</td>\n",
       "      <td>R</td>\n",
       "      <td>21</td>\n",
       "      <td>NaN</td>\n",
       "      <td>NaN</td>\n",
       "      <td>NaN</td>\n",
       "      <td>NaN</td>\n",
       "      <td>1416</td>\n",
       "      <td>0.837</td>\n",
       "      <td>1.239</td>\n",
       "      <td>28.0</td>\n",
       "    </tr>\n",
       "    <tr>\n",
       "      <th>266</th>\n",
       "      <td>OAS1_0294_MR1</td>\n",
       "      <td>F</td>\n",
       "      <td>R</td>\n",
       "      <td>20</td>\n",
       "      <td>NaN</td>\n",
       "      <td>NaN</td>\n",
       "      <td>NaN</td>\n",
       "      <td>NaN</td>\n",
       "      <td>1439</td>\n",
       "      <td>0.841</td>\n",
       "      <td>1.220</td>\n",
       "      <td>NaN</td>\n",
       "    </tr>\n",
       "    <tr>\n",
       "      <th>24</th>\n",
       "      <td>OAS1_0027_MR1</td>\n",
       "      <td>F</td>\n",
       "      <td>R</td>\n",
       "      <td>43</td>\n",
       "      <td>NaN</td>\n",
       "      <td>NaN</td>\n",
       "      <td>NaN</td>\n",
       "      <td>NaN</td>\n",
       "      <td>1194</td>\n",
       "      <td>0.834</td>\n",
       "      <td>1.470</td>\n",
       "      <td>NaN</td>\n",
       "    </tr>\n",
       "    <tr>\n",
       "      <th>126</th>\n",
       "      <td>OAS1_0136_MR1</td>\n",
       "      <td>F</td>\n",
       "      <td>R</td>\n",
       "      <td>24</td>\n",
       "      <td>NaN</td>\n",
       "      <td>NaN</td>\n",
       "      <td>NaN</td>\n",
       "      <td>NaN</td>\n",
       "      <td>1178</td>\n",
       "      <td>0.873</td>\n",
       "      <td>1.489</td>\n",
       "      <td>NaN</td>\n",
       "    </tr>\n",
       "    <tr>\n",
       "      <th>356</th>\n",
       "      <td>OAS1_0394_MR1</td>\n",
       "      <td>F</td>\n",
       "      <td>R</td>\n",
       "      <td>22</td>\n",
       "      <td>NaN</td>\n",
       "      <td>NaN</td>\n",
       "      <td>NaN</td>\n",
       "      <td>NaN</td>\n",
       "      <td>1343</td>\n",
       "      <td>0.847</td>\n",
       "      <td>1.307</td>\n",
       "      <td>NaN</td>\n",
       "    </tr>\n",
       "    <tr>\n",
       "      <th>184</th>\n",
       "      <td>OAS1_0202_MR1</td>\n",
       "      <td>F</td>\n",
       "      <td>R</td>\n",
       "      <td>23</td>\n",
       "      <td>NaN</td>\n",
       "      <td>NaN</td>\n",
       "      <td>NaN</td>\n",
       "      <td>NaN</td>\n",
       "      <td>1574</td>\n",
       "      <td>0.865</td>\n",
       "      <td>1.115</td>\n",
       "      <td>NaN</td>\n",
       "    </tr>\n",
       "    <tr>\n",
       "      <th>384</th>\n",
       "      <td>OAS1_0424_MR1</td>\n",
       "      <td>M</td>\n",
       "      <td>R</td>\n",
       "      <td>75</td>\n",
       "      <td>4.0</td>\n",
       "      <td>1.0</td>\n",
       "      <td>20.0</td>\n",
       "      <td>1.0</td>\n",
       "      <td>1613</td>\n",
       "      <td>0.715</td>\n",
       "      <td>1.088</td>\n",
       "      <td>NaN</td>\n",
       "    </tr>\n",
       "    <tr>\n",
       "      <th>113</th>\n",
       "      <td>OAS1_0122_MR1</td>\n",
       "      <td>F</td>\n",
       "      <td>R</td>\n",
       "      <td>83</td>\n",
       "      <td>5.0</td>\n",
       "      <td>2.0</td>\n",
       "      <td>22.0</td>\n",
       "      <td>1.0</td>\n",
       "      <td>1377</td>\n",
       "      <td>0.715</td>\n",
       "      <td>1.274</td>\n",
       "      <td>NaN</td>\n",
       "    </tr>\n",
       "    <tr>\n",
       "      <th>109</th>\n",
       "      <td>OAS1_0117_MR1</td>\n",
       "      <td>M</td>\n",
       "      <td>R</td>\n",
       "      <td>25</td>\n",
       "      <td>NaN</td>\n",
       "      <td>NaN</td>\n",
       "      <td>NaN</td>\n",
       "      <td>NaN</td>\n",
       "      <td>1759</td>\n",
       "      <td>0.783</td>\n",
       "      <td>0.998</td>\n",
       "      <td>NaN</td>\n",
       "    </tr>\n",
       "    <tr>\n",
       "      <th>130</th>\n",
       "      <td>OAS1_0140_MR1</td>\n",
       "      <td>F</td>\n",
       "      <td>R</td>\n",
       "      <td>23</td>\n",
       "      <td>NaN</td>\n",
       "      <td>NaN</td>\n",
       "      <td>NaN</td>\n",
       "      <td>NaN</td>\n",
       "      <td>1375</td>\n",
       "      <td>0.872</td>\n",
       "      <td>1.277</td>\n",
       "      <td>NaN</td>\n",
       "    </tr>\n",
       "    <tr>\n",
       "      <th>101</th>\n",
       "      <td>OAS1_0109_MR1</td>\n",
       "      <td>F</td>\n",
       "      <td>R</td>\n",
       "      <td>61</td>\n",
       "      <td>4.0</td>\n",
       "      <td>3.0</td>\n",
       "      <td>30.0</td>\n",
       "      <td>0.0</td>\n",
       "      <td>1313</td>\n",
       "      <td>0.813</td>\n",
       "      <td>1.337</td>\n",
       "      <td>NaN</td>\n",
       "    </tr>\n",
       "    <tr>\n",
       "      <th>158</th>\n",
       "      <td>OAS1_0170_MR1</td>\n",
       "      <td>M</td>\n",
       "      <td>R</td>\n",
       "      <td>71</td>\n",
       "      <td>2.0</td>\n",
       "      <td>4.0</td>\n",
       "      <td>29.0</td>\n",
       "      <td>0.0</td>\n",
       "      <td>1455</td>\n",
       "      <td>0.725</td>\n",
       "      <td>1.206</td>\n",
       "      <td>NaN</td>\n",
       "    </tr>\n",
       "    <tr>\n",
       "      <th>362</th>\n",
       "      <td>OAS1_0400_MR1</td>\n",
       "      <td>F</td>\n",
       "      <td>R</td>\n",
       "      <td>92</td>\n",
       "      <td>5.0</td>\n",
       "      <td>1.0</td>\n",
       "      <td>25.0</td>\n",
       "      <td>0.5</td>\n",
       "      <td>1774</td>\n",
       "      <td>0.644</td>\n",
       "      <td>0.989</td>\n",
       "      <td>NaN</td>\n",
       "    </tr>\n",
       "    <tr>\n",
       "      <th>136</th>\n",
       "      <td>OAS1_0146_MR1</td>\n",
       "      <td>F</td>\n",
       "      <td>R</td>\n",
       "      <td>82</td>\n",
       "      <td>5.0</td>\n",
       "      <td>1.0</td>\n",
       "      <td>28.0</td>\n",
       "      <td>0.0</td>\n",
       "      <td>1513</td>\n",
       "      <td>0.742</td>\n",
       "      <td>1.160</td>\n",
       "      <td>NaN</td>\n",
       "    </tr>\n",
       "  </tbody>\n",
       "</table>\n",
       "</div>"
      ],
      "text/plain": [
       "                ID M/F Hand  Age  Educ  SES  MMSE  CDR  eTIV   nWBV    ASF  \\\n",
       "354  OAS1_0390_MR1   M    R   69   2.0  2.0  24.0  0.5  1480  0.794  1.186   \n",
       "143  OAS1_0155_MR1   M    R   71   4.0  NaN  28.0  0.5  1359  0.753  1.291   \n",
       "287  OAS1_0317_MR1   M    R   86   4.0  1.0  26.0  0.0  1501  0.702  1.169   \n",
       "205  OAS1_0226_MR1   M    R   90   1.0  4.0  23.0  0.5  1668  0.644  1.052   \n",
       "379  OAS1_0419_MR1   F    R   21   NaN  NaN   NaN  NaN  1473  0.862  1.191   \n",
       "1    OAS1_0002_MR1   F    R   55   4.0  1.0  29.0  0.0  1147  0.810  1.531   \n",
       "425  OAS1_0191_MR2   F    R   21   NaN  NaN   NaN  NaN  1416  0.837  1.239   \n",
       "266  OAS1_0294_MR1   F    R   20   NaN  NaN   NaN  NaN  1439  0.841  1.220   \n",
       "24   OAS1_0027_MR1   F    R   43   NaN  NaN   NaN  NaN  1194  0.834  1.470   \n",
       "126  OAS1_0136_MR1   F    R   24   NaN  NaN   NaN  NaN  1178  0.873  1.489   \n",
       "356  OAS1_0394_MR1   F    R   22   NaN  NaN   NaN  NaN  1343  0.847  1.307   \n",
       "184  OAS1_0202_MR1   F    R   23   NaN  NaN   NaN  NaN  1574  0.865  1.115   \n",
       "384  OAS1_0424_MR1   M    R   75   4.0  1.0  20.0  1.0  1613  0.715  1.088   \n",
       "113  OAS1_0122_MR1   F    R   83   5.0  2.0  22.0  1.0  1377  0.715  1.274   \n",
       "109  OAS1_0117_MR1   M    R   25   NaN  NaN   NaN  NaN  1759  0.783  0.998   \n",
       "130  OAS1_0140_MR1   F    R   23   NaN  NaN   NaN  NaN  1375  0.872  1.277   \n",
       "101  OAS1_0109_MR1   F    R   61   4.0  3.0  30.0  0.0  1313  0.813  1.337   \n",
       "158  OAS1_0170_MR1   M    R   71   2.0  4.0  29.0  0.0  1455  0.725  1.206   \n",
       "362  OAS1_0400_MR1   F    R   92   5.0  1.0  25.0  0.5  1774  0.644  0.989   \n",
       "136  OAS1_0146_MR1   F    R   82   5.0  1.0  28.0  0.0  1513  0.742  1.160   \n",
       "\n",
       "     Delay  \n",
       "354    NaN  \n",
       "143    NaN  \n",
       "287    NaN  \n",
       "205    NaN  \n",
       "379    NaN  \n",
       "1      NaN  \n",
       "425   28.0  \n",
       "266    NaN  \n",
       "24     NaN  \n",
       "126    NaN  \n",
       "356    NaN  \n",
       "184    NaN  \n",
       "384    NaN  \n",
       "113    NaN  \n",
       "109    NaN  \n",
       "130    NaN  \n",
       "101    NaN  \n",
       "158    NaN  \n",
       "362    NaN  \n",
       "136    NaN  "
      ]
     },
     "execution_count": 4,
     "metadata": {},
     "output_type": "execute_result"
    }
   ],
   "source": [
    "oasis1.sample(20)"
   ]
  },
  {
   "cell_type": "markdown",
   "id": "c5227931",
   "metadata": {},
   "source": [
    "## Data Cleaning"
   ]
  },
  {
   "cell_type": "code",
   "execution_count": 5,
   "id": "1b518097",
   "metadata": {},
   "outputs": [],
   "source": [
    "def preprocess_data(oasis1):\n",
    "    \"\"\"This function removes CDR rows containing NANs, \n",
    "    fills SES missing values with status 3,\n",
    "    encodes Male/Female M/F to 1 and 0,\n",
    "    and drops columns Delay and Hand.\"\"\"\n",
    "    \n",
    "    oasis1.dropna(subset = [\"CDR\"], inplace=True)\n",
    "    oasis1['SES'].fillna(value=3, inplace=True) # Socioeconomic status 3 means that participants went to 'some college'\n",
    "    oasis1['M/F'].replace({'F':0, 'M':1}, inplace = True) # Replaces M with 1 and Female with 0\n",
    "    oasis1.drop('Delay', inplace=True, axis=1)\n",
    "    oasis1.drop('Hand', inplace=True, axis=1)\n",
    "    \n",
    "    return oasis1"
   ]
  },
  {
   "cell_type": "code",
   "execution_count": 6,
   "id": "8ecaae80",
   "metadata": {},
   "outputs": [
    {
     "data": {
      "text/html": [
       "<div>\n",
       "<style scoped>\n",
       "    .dataframe tbody tr th:only-of-type {\n",
       "        vertical-align: middle;\n",
       "    }\n",
       "\n",
       "    .dataframe tbody tr th {\n",
       "        vertical-align: top;\n",
       "    }\n",
       "\n",
       "    .dataframe thead th {\n",
       "        text-align: right;\n",
       "    }\n",
       "</style>\n",
       "<table border=\"1\" class=\"dataframe\">\n",
       "  <thead>\n",
       "    <tr style=\"text-align: right;\">\n",
       "      <th></th>\n",
       "      <th>ID</th>\n",
       "      <th>M/F</th>\n",
       "      <th>Age</th>\n",
       "      <th>Educ</th>\n",
       "      <th>SES</th>\n",
       "      <th>MMSE</th>\n",
       "      <th>CDR</th>\n",
       "      <th>eTIV</th>\n",
       "      <th>nWBV</th>\n",
       "      <th>ASF</th>\n",
       "    </tr>\n",
       "  </thead>\n",
       "  <tbody>\n",
       "    <tr>\n",
       "      <th>0</th>\n",
       "      <td>OAS1_0001_MR1</td>\n",
       "      <td>0</td>\n",
       "      <td>74</td>\n",
       "      <td>2.0</td>\n",
       "      <td>3.0</td>\n",
       "      <td>29.0</td>\n",
       "      <td>0.0</td>\n",
       "      <td>1344</td>\n",
       "      <td>0.743</td>\n",
       "      <td>1.306</td>\n",
       "    </tr>\n",
       "    <tr>\n",
       "      <th>1</th>\n",
       "      <td>OAS1_0002_MR1</td>\n",
       "      <td>0</td>\n",
       "      <td>55</td>\n",
       "      <td>4.0</td>\n",
       "      <td>1.0</td>\n",
       "      <td>29.0</td>\n",
       "      <td>0.0</td>\n",
       "      <td>1147</td>\n",
       "      <td>0.810</td>\n",
       "      <td>1.531</td>\n",
       "    </tr>\n",
       "    <tr>\n",
       "      <th>2</th>\n",
       "      <td>OAS1_0003_MR1</td>\n",
       "      <td>0</td>\n",
       "      <td>73</td>\n",
       "      <td>4.0</td>\n",
       "      <td>3.0</td>\n",
       "      <td>27.0</td>\n",
       "      <td>0.5</td>\n",
       "      <td>1454</td>\n",
       "      <td>0.708</td>\n",
       "      <td>1.207</td>\n",
       "    </tr>\n",
       "    <tr>\n",
       "      <th>8</th>\n",
       "      <td>OAS1_0010_MR1</td>\n",
       "      <td>1</td>\n",
       "      <td>74</td>\n",
       "      <td>5.0</td>\n",
       "      <td>2.0</td>\n",
       "      <td>30.0</td>\n",
       "      <td>0.0</td>\n",
       "      <td>1636</td>\n",
       "      <td>0.689</td>\n",
       "      <td>1.073</td>\n",
       "    </tr>\n",
       "    <tr>\n",
       "      <th>9</th>\n",
       "      <td>OAS1_0011_MR1</td>\n",
       "      <td>0</td>\n",
       "      <td>52</td>\n",
       "      <td>3.0</td>\n",
       "      <td>2.0</td>\n",
       "      <td>30.0</td>\n",
       "      <td>0.0</td>\n",
       "      <td>1321</td>\n",
       "      <td>0.827</td>\n",
       "      <td>1.329</td>\n",
       "    </tr>\n",
       "    <tr>\n",
       "      <th>...</th>\n",
       "      <td>...</td>\n",
       "      <td>...</td>\n",
       "      <td>...</td>\n",
       "      <td>...</td>\n",
       "      <td>...</td>\n",
       "      <td>...</td>\n",
       "      <td>...</td>\n",
       "      <td>...</td>\n",
       "      <td>...</td>\n",
       "      <td>...</td>\n",
       "    </tr>\n",
       "    <tr>\n",
       "      <th>411</th>\n",
       "      <td>OAS1_0453_MR1</td>\n",
       "      <td>0</td>\n",
       "      <td>70</td>\n",
       "      <td>1.0</td>\n",
       "      <td>4.0</td>\n",
       "      <td>29.0</td>\n",
       "      <td>0.5</td>\n",
       "      <td>1295</td>\n",
       "      <td>0.748</td>\n",
       "      <td>1.355</td>\n",
       "    </tr>\n",
       "    <tr>\n",
       "      <th>412</th>\n",
       "      <td>OAS1_0454_MR1</td>\n",
       "      <td>0</td>\n",
       "      <td>73</td>\n",
       "      <td>3.0</td>\n",
       "      <td>2.0</td>\n",
       "      <td>23.0</td>\n",
       "      <td>0.5</td>\n",
       "      <td>1536</td>\n",
       "      <td>0.730</td>\n",
       "      <td>1.142</td>\n",
       "    </tr>\n",
       "    <tr>\n",
       "      <th>413</th>\n",
       "      <td>OAS1_0455_MR1</td>\n",
       "      <td>0</td>\n",
       "      <td>61</td>\n",
       "      <td>2.0</td>\n",
       "      <td>4.0</td>\n",
       "      <td>28.0</td>\n",
       "      <td>0.0</td>\n",
       "      <td>1354</td>\n",
       "      <td>0.825</td>\n",
       "      <td>1.297</td>\n",
       "    </tr>\n",
       "    <tr>\n",
       "      <th>414</th>\n",
       "      <td>OAS1_0456_MR1</td>\n",
       "      <td>1</td>\n",
       "      <td>61</td>\n",
       "      <td>5.0</td>\n",
       "      <td>2.0</td>\n",
       "      <td>30.0</td>\n",
       "      <td>0.0</td>\n",
       "      <td>1637</td>\n",
       "      <td>0.780</td>\n",
       "      <td>1.072</td>\n",
       "    </tr>\n",
       "    <tr>\n",
       "      <th>415</th>\n",
       "      <td>OAS1_0457_MR1</td>\n",
       "      <td>0</td>\n",
       "      <td>62</td>\n",
       "      <td>3.0</td>\n",
       "      <td>3.0</td>\n",
       "      <td>26.0</td>\n",
       "      <td>0.0</td>\n",
       "      <td>1372</td>\n",
       "      <td>0.766</td>\n",
       "      <td>1.279</td>\n",
       "    </tr>\n",
       "  </tbody>\n",
       "</table>\n",
       "<p>235 rows × 10 columns</p>\n",
       "</div>"
      ],
      "text/plain": [
       "                ID  M/F  Age  Educ  SES  MMSE  CDR  eTIV   nWBV    ASF\n",
       "0    OAS1_0001_MR1    0   74   2.0  3.0  29.0  0.0  1344  0.743  1.306\n",
       "1    OAS1_0002_MR1    0   55   4.0  1.0  29.0  0.0  1147  0.810  1.531\n",
       "2    OAS1_0003_MR1    0   73   4.0  3.0  27.0  0.5  1454  0.708  1.207\n",
       "8    OAS1_0010_MR1    1   74   5.0  2.0  30.0  0.0  1636  0.689  1.073\n",
       "9    OAS1_0011_MR1    0   52   3.0  2.0  30.0  0.0  1321  0.827  1.329\n",
       "..             ...  ...  ...   ...  ...   ...  ...   ...    ...    ...\n",
       "411  OAS1_0453_MR1    0   70   1.0  4.0  29.0  0.5  1295  0.748  1.355\n",
       "412  OAS1_0454_MR1    0   73   3.0  2.0  23.0  0.5  1536  0.730  1.142\n",
       "413  OAS1_0455_MR1    0   61   2.0  4.0  28.0  0.0  1354  0.825  1.297\n",
       "414  OAS1_0456_MR1    1   61   5.0  2.0  30.0  0.0  1637  0.780  1.072\n",
       "415  OAS1_0457_MR1    0   62   3.0  3.0  26.0  0.0  1372  0.766  1.279\n",
       "\n",
       "[235 rows x 10 columns]"
      ]
     },
     "execution_count": 6,
     "metadata": {},
     "output_type": "execute_result"
    }
   ],
   "source": [
    "preprocess_data(oasis1)"
   ]
  },
  {
   "cell_type": "markdown",
   "id": "36bde17d",
   "metadata": {
    "heading_collapsed": true
   },
   "source": [
    "### Testing my code"
   ]
  },
  {
   "cell_type": "code",
   "execution_count": 7,
   "id": "75430f7d",
   "metadata": {
    "hidden": true
   },
   "outputs": [
    {
     "data": {
      "text/plain": [
       "(235, 10)"
      ]
     },
     "execution_count": 7,
     "metadata": {},
     "output_type": "execute_result"
    }
   ],
   "source": [
    "# Check shape again\n",
    "oasis1.shape"
   ]
  },
  {
   "cell_type": "code",
   "execution_count": 8,
   "id": "3a833c5c",
   "metadata": {
    "hidden": true
   },
   "outputs": [
    {
     "data": {
      "image/png": "[encoded data removed]",
      "text/plain": [
       "<Figure size 432x288 with 1 Axes>"
      ]
     },
     "metadata": {},
     "output_type": "display_data"
    }
   ],
   "source": [
    "# Education is not normally distrbuted\n",
    "sns.histplot(oasis1.Educ,kde = True, color = 'c');"
   ]
  },
  {
   "cell_type": "code",
   "execution_count": 9,
   "id": "9299937d",
   "metadata": {
    "hidden": true
   },
   "outputs": [
    {
     "data": {
      "text/plain": [
       "array([0. , 0.5, 1. , 2. ])"
      ]
     },
     "execution_count": 9,
     "metadata": {},
     "output_type": "execute_result"
    }
   ],
   "source": [
    "# Check whether NANs are still here\n",
    "oasis1.CDR.unique()"
   ]
  },
  {
   "cell_type": "code",
   "execution_count": 10,
   "id": "cf163c5a",
   "metadata": {
    "hidden": true
   },
   "outputs": [
    {
     "data": {
      "text/plain": [
       "array([3., 1., 2., 4., 5.])"
      ]
     },
     "execution_count": 10,
     "metadata": {},
     "output_type": "execute_result"
    }
   ],
   "source": [
    "# Check SES column\n",
    "oasis1.SES.unique()"
   ]
  },
  {
   "cell_type": "code",
   "execution_count": 11,
   "id": "26487502",
   "metadata": {
    "hidden": true
   },
   "outputs": [
    {
     "data": {
      "text/plain": [
       "0      0\n",
       "1      0\n",
       "2      0\n",
       "8      1\n",
       "9      0\n",
       "      ..\n",
       "411    0\n",
       "412    0\n",
       "413    0\n",
       "414    1\n",
       "415    0\n",
       "Name: M/F, Length: 235, dtype: int64"
      ]
     },
     "execution_count": 11,
     "metadata": {},
     "output_type": "execute_result"
    }
   ],
   "source": [
    "# Check M/F column\n",
    "oasis1['M/F']"
   ]
  },
  {
   "cell_type": "code",
   "execution_count": 12,
   "id": "25c5d781",
   "metadata": {
    "hidden": true
   },
   "outputs": [],
   "source": [
    "# def gender_encoding(i):\n",
    "#     \"\"\"This function returns 0 for F and 1 for M\"\"\"\n",
    "#     return i.map({'F':0, 'M':1})"
   ]
  },
  {
   "cell_type": "markdown",
   "id": "2ce64475",
   "metadata": {},
   "source": [
    "## Preprocessing data"
   ]
  },
  {
   "cell_type": "code",
   "execution_count": 13,
   "id": "ae794d60",
   "metadata": {},
   "outputs": [],
   "source": [
    "# Defining variables\n",
    "X = oasis1.drop(columns = ['CDR', 'ID'])\n",
    "y = oasis1['CDR']"
   ]
  },
  {
   "cell_type": "code",
   "execution_count": 14,
   "id": "16def471",
   "metadata": {},
   "outputs": [],
   "source": [
    "# Holdout\n",
    "X_train, X_test, y_train, y_test = train_test_split(X, y, test_size=0.25)"
   ]
  },
  {
   "cell_type": "markdown",
   "id": "929025e4",
   "metadata": {},
   "source": [
    "## Preprocessing pipeline"
   ]
  },
  {
   "cell_type": "markdown",
   "id": "091f5cda",
   "metadata": {},
   "source": [
    " Note: columns **nWBV and ASF** already normalized\n",
    " \n",
    "**Columns to scale:**\n",
    "\n",
    "Standard Scale: age\n",
    "\n",
    "Robust Scale: eTIV, MMSE\n",
    "\n",
    "MinMax Scale: Educ"
   ]
  },
  {
   "cell_type": "code",
   "execution_count": 15,
   "id": "8cb646c8",
   "metadata": {},
   "outputs": [
    {
     "data": {
      "text/html": [
       "<style>#sk-73131009-27f6-475e-823c-5039e9c616d9 {color: black;background-color: white;}#sk-73131009-27f6-475e-823c-5039e9c616d9 pre{padding: 0;}#sk-73131009-27f6-475e-823c-5039e9c616d9 div.sk-toggleable {background-color: white;}#sk-73131009-27f6-475e-823c-5039e9c616d9 label.sk-toggleable__label {cursor: pointer;display: block;width: 100%;margin-bottom: 0;padding: 0.3em;box-sizing: border-box;text-align: center;}#sk-73131009-27f6-475e-823c-5039e9c616d9 label.sk-toggleable__label-arrow:before {content: \"▸\";float: left;margin-right: 0.25em;color: #696969;}#sk-73131009-27f6-475e-823c-5039e9c616d9 label.sk-toggleable__label-arrow:hover:before {color: black;}#sk-73131009-27f6-475e-823c-5039e9c616d9 div.sk-estimator:hover label.sk-toggleable__label-arrow:before {color: black;}#sk-73131009-27f6-475e-823c-5039e9c616d9 div.sk-toggleable__content {max-height: 0;max-width: 0;overflow: hidden;text-align: left;background-color: #f0f8ff;}#sk-73131009-27f6-475e-823c-5039e9c616d9 div.sk-toggleable__content pre {margin: 0.2em;color: black;border-radius: 0.25em;background-color: #f0f8ff;}#sk-73131009-27f6-475e-823c-5039e9c616d9 input.sk-toggleable__control:checked~div.sk-toggleable__content {max-height: 200px;max-width: 100%;overflow: auto;}#sk-73131009-27f6-475e-823c-5039e9c616d9 input.sk-toggleable__control:checked~label.sk-toggleable__label-arrow:before {content: \"▾\";}#sk-73131009-27f6-475e-823c-5039e9c616d9 div.sk-estimator input.sk-toggleable__control:checked~label.sk-toggleable__label {background-color: #d4ebff;}#sk-73131009-27f6-475e-823c-5039e9c616d9 div.sk-label input.sk-toggleable__control:checked~label.sk-toggleable__label {background-color: #d4ebff;}#sk-73131009-27f6-475e-823c-5039e9c616d9 input.sk-hidden--visually {border: 0;clip: rect(1px 1px 1px 1px);clip: rect(1px, 1px, 1px, 1px);height: 1px;margin: -1px;overflow: hidden;padding: 0;position: absolute;width: 1px;}#sk-73131009-27f6-475e-823c-5039e9c616d9 div.sk-estimator {font-family: monospace;background-color: #f0f8ff;border: 1px dotted black;border-radius: 0.25em;box-sizing: border-box;margin-bottom: 0.5em;}#sk-73131009-27f6-475e-823c-5039e9c616d9 div.sk-estimator:hover {background-color: #d4ebff;}#sk-73131009-27f6-475e-823c-5039e9c616d9 div.sk-parallel-item::after {content: \"\";width: 100%;border-bottom: 1px solid gray;flex-grow: 1;}#sk-73131009-27f6-475e-823c-5039e9c616d9 div.sk-label:hover label.sk-toggleable__label {background-color: #d4ebff;}#sk-73131009-27f6-475e-823c-5039e9c616d9 div.sk-serial::before {content: \"\";position: absolute;border-left: 1px solid gray;box-sizing: border-box;top: 2em;bottom: 0;left: 50%;}#sk-73131009-27f6-475e-823c-5039e9c616d9 div.sk-serial {display: flex;flex-direction: column;align-items: center;background-color: white;padding-right: 0.2em;padding-left: 0.2em;}#sk-73131009-27f6-475e-823c-5039e9c616d9 div.sk-item {z-index: 1;}#sk-73131009-27f6-475e-823c-5039e9c616d9 div.sk-parallel {display: flex;align-items: stretch;justify-content: center;background-color: white;}#sk-73131009-27f6-475e-823c-5039e9c616d9 div.sk-parallel::before {content: \"\";position: absolute;border-left: 1px solid gray;box-sizing: border-box;top: 2em;bottom: 0;left: 50%;}#sk-73131009-27f6-475e-823c-5039e9c616d9 div.sk-parallel-item {display: flex;flex-direction: column;position: relative;background-color: white;}#sk-73131009-27f6-475e-823c-5039e9c616d9 div.sk-parallel-item:first-child::after {align-self: flex-end;width: 50%;}#sk-73131009-27f6-475e-823c-5039e9c616d9 div.sk-parallel-item:last-child::after {align-self: flex-start;width: 50%;}#sk-73131009-27f6-475e-823c-5039e9c616d9 div.sk-parallel-item:only-child::after {width: 0;}#sk-73131009-27f6-475e-823c-5039e9c616d9 div.sk-dashed-wrapped {border: 1px dashed gray;margin: 0 0.4em 0.5em 0.4em;box-sizing: border-box;padding-bottom: 0.4em;background-color: white;position: relative;}#sk-73131009-27f6-475e-823c-5039e9c616d9 div.sk-label label {font-family: monospace;font-weight: bold;background-color: white;display: inline-block;line-height: 1.2em;}#sk-73131009-27f6-475e-823c-5039e9c616d9 div.sk-label-container {position: relative;z-index: 2;text-align: center;}#sk-73131009-27f6-475e-823c-5039e9c616d9 div.sk-container {/* jupyter's `normalize.less` sets `[hidden] { display: none; }` but bootstrap.min.css set `[hidden] { display: none !important; }` so we also need the `!important` here to be able to override the default hidden behavior on the sphinx rendered scikit-learn.org. See: https://github.com/scikit-learn/scikit-learn/issues/21755 */display: inline-block !important;position: relative;}#sk-73131009-27f6-475e-823c-5039e9c616d9 div.sk-text-repr-fallback {display: none;}</style><div id=\"sk-73131009-27f6-475e-823c-5039e9c616d9\" class=\"sk-top-container\"><div class=\"sk-text-repr-fallback\"><pre>ColumnTransformer(remainder=&#x27;passthrough&#x27;,\n",
       "                  transformers=[(&#x27;standard_scaler&#x27;, StandardScaler(), [&#x27;Age&#x27;]),\n",
       "                                (&#x27;robust_scaler&#x27;, RobustScaler(),\n",
       "                                 [&#x27;eTIV&#x27;, &#x27;MMSE&#x27;]),\n",
       "                                (&#x27;minmax_scaler&#x27;, MinMaxScaler(), [&#x27;Educ&#x27;])])</pre><b>Please rerun this cell to show the HTML repr or trust the notebook.</b></div><div class=\"sk-container\" hidden><div class=\"sk-item sk-dashed-wrapped\"><div class=\"sk-label-container\"><div class=\"sk-label sk-toggleable\"><input class=\"sk-toggleable__control sk-hidden--visually\" id=\"a36a0296-eea1-4fcd-a0ba-ccc36cb80926\" type=\"checkbox\" ><label for=\"a36a0296-eea1-4fcd-a0ba-ccc36cb80926\" class=\"sk-toggleable__label sk-toggleable__label-arrow\">ColumnTransformer</label><div class=\"sk-toggleable__content\"><pre>ColumnTransformer(remainder=&#x27;passthrough&#x27;,\n",
       "                  transformers=[(&#x27;standard_scaler&#x27;, StandardScaler(), [&#x27;Age&#x27;]),\n",
       "                                (&#x27;robust_scaler&#x27;, RobustScaler(),\n",
       "                                 [&#x27;eTIV&#x27;, &#x27;MMSE&#x27;]),\n",
       "                                (&#x27;minmax_scaler&#x27;, MinMaxScaler(), [&#x27;Educ&#x27;])])</pre></div></div></div><div class=\"sk-parallel\"><div class=\"sk-parallel-item\"><div class=\"sk-item\"><div class=\"sk-label-container\"><div class=\"sk-label sk-toggleable\"><input class=\"sk-toggleable__control sk-hidden--visually\" id=\"5e0b2aa5-b78f-4334-b9be-d6214edc1b00\" type=\"checkbox\" ><label for=\"5e0b2aa5-b78f-4334-b9be-d6214edc1b00\" class=\"sk-toggleable__label sk-toggleable__label-arrow\">standard_scaler</label><div class=\"sk-toggleable__content\"><pre>[&#x27;Age&#x27;]</pre></div></div></div><div class=\"sk-serial\"><div class=\"sk-item\"><div class=\"sk-estimator sk-toggleable\"><input class=\"sk-toggleable__control sk-hidden--visually\" id=\"14355bb6-972d-4761-933c-fd07dcc067ac\" type=\"checkbox\" ><label for=\"14355bb6-972d-4761-933c-fd07dcc067ac\" class=\"sk-toggleable__label sk-toggleable__label-arrow\">StandardScaler</label><div class=\"sk-toggleable__content\"><pre>StandardScaler()</pre></div></div></div></div></div></div><div class=\"sk-parallel-item\"><div class=\"sk-item\"><div class=\"sk-label-container\"><div class=\"sk-label sk-toggleable\"><input class=\"sk-toggleable__control sk-hidden--visually\" id=\"ddd8424e-8506-4839-b64c-62bc2d207ccd\" type=\"checkbox\" ><label for=\"ddd8424e-8506-4839-b64c-62bc2d207ccd\" class=\"sk-toggleable__label sk-toggleable__label-arrow\">robust_scaler</label><div class=\"sk-toggleable__content\"><pre>[&#x27;eTIV&#x27;, &#x27;MMSE&#x27;]</pre></div></div></div><div class=\"sk-serial\"><div class=\"sk-item\"><div class=\"sk-estimator sk-toggleable\"><input class=\"sk-toggleable__control sk-hidden--visually\" id=\"9141c703-8411-4fe4-8de7-fac1c7ba201b\" type=\"checkbox\" ><label for=\"9141c703-8411-4fe4-8de7-fac1c7ba201b\" class=\"sk-toggleable__label sk-toggleable__label-arrow\">RobustScaler</label><div class=\"sk-toggleable__content\"><pre>RobustScaler()</pre></div></div></div></div></div></div><div class=\"sk-parallel-item\"><div class=\"sk-item\"><div class=\"sk-label-container\"><div class=\"sk-label sk-toggleable\"><input class=\"sk-toggleable__control sk-hidden--visually\" id=\"7e53e575-9f77-451e-a0b7-cb923b4f6e48\" type=\"checkbox\" ><label for=\"7e53e575-9f77-451e-a0b7-cb923b4f6e48\" class=\"sk-toggleable__label sk-toggleable__label-arrow\">minmax_scaler</label><div class=\"sk-toggleable__content\"><pre>[&#x27;Educ&#x27;]</pre></div></div></div><div class=\"sk-serial\"><div class=\"sk-item\"><div class=\"sk-estimator sk-toggleable\"><input class=\"sk-toggleable__control sk-hidden--visually\" id=\"5258fb50-338f-4282-b968-4bdb8dc0b50f\" type=\"checkbox\" ><label for=\"5258fb50-338f-4282-b968-4bdb8dc0b50f\" class=\"sk-toggleable__label sk-toggleable__label-arrow\">MinMaxScaler</label><div class=\"sk-toggleable__content\"><pre>MinMaxScaler()</pre></div></div></div></div></div></div><div class=\"sk-parallel-item\"><div class=\"sk-item\"><div class=\"sk-label-container\"><div class=\"sk-label sk-toggleable\"><input class=\"sk-toggleable__control sk-hidden--visually\" id=\"8930b98f-9367-47cf-bc4e-a5321d7c03bc\" type=\"checkbox\" ><label for=\"8930b98f-9367-47cf-bc4e-a5321d7c03bc\" class=\"sk-toggleable__label sk-toggleable__label-arrow\">remainder</label><div class=\"sk-toggleable__content\"><pre></pre></div></div></div><div class=\"sk-serial\"><div class=\"sk-item\"><div class=\"sk-estimator sk-toggleable\"><input class=\"sk-toggleable__control sk-hidden--visually\" id=\"a59a0738-950d-4115-a19d-72062ad92a4e\" type=\"checkbox\" ><label for=\"a59a0738-950d-4115-a19d-72062ad92a4e\" class=\"sk-toggleable__label sk-toggleable__label-arrow\">passthrough</label><div class=\"sk-toggleable__content\"><pre>passthrough</pre></div></div></div></div></div></div></div></div></div></div>"
      ],
      "text/plain": [
       "ColumnTransformer(remainder='passthrough',\n",
       "                  transformers=[('standard_scaler', StandardScaler(), ['Age']),\n",
       "                                ('robust_scaler', RobustScaler(),\n",
       "                                 ['eTIV', 'MMSE']),\n",
       "                                ('minmax_scaler', MinMaxScaler(), ['Educ'])])"
      ]
     },
     "execution_count": 15,
     "metadata": {},
     "output_type": "execute_result"
    }
   ],
   "source": [
    "# transformer for numerical features\n",
    "\n",
    "def numerical_transformer():\n",
    "    \"\"\"This function transforms all numerical features according to their respective scalers\n",
    "    \"\"\"\n",
    "    standard_features = ['Age']\n",
    "    robust_features = ['eTIV', 'MMSE']\n",
    "    minmax_features = ['Educ']\n",
    "    numeric_transformer = ColumnTransformer([\n",
    "        ('standard_scaler', StandardScaler(), standard_features),\n",
    "        ('robust_scaler', RobustScaler(), robust_features),\n",
    "        ('minmax_scaler', MinMaxScaler(), minmax_features),\n",
    "         ], remainder = 'passthrough')\n",
    "    \n",
    "    return numeric_transformer\n",
    "numeric_transformer = numerical_transformer()\n",
    "numeric_transformer"
   ]
  },
  {
   "cell_type": "code",
   "execution_count": 16,
   "id": "199401e6",
   "metadata": {},
   "outputs": [],
   "source": [
    "# transformer for categorical features\n",
    "\n",
    "categorical_features = ['M/F']\n",
    "def categorical_transformer():\n",
    "    \"\"\"This function encodes all categorical features according to their respective encoder.\n",
    "    \"\"\"\n",
    "    categorical_transformer = ColumnTransformer([\n",
    "        ('label_encoder', LabelEncoder(), categorical_features)\n",
    "    ])\n",
    "    return categorical_transformer\n",
    "category_transformer = categorical_transformer()"
   ]
  },
  {
   "cell_type": "code",
   "execution_count": 17,
   "id": "f4d94452",
   "metadata": {},
   "outputs": [
    {
     "data": {
      "text/html": [
       "<style>#sk-0154d018-aa3f-46b1-a615-48a039d58ca1 {color: black;background-color: white;}#sk-0154d018-aa3f-46b1-a615-48a039d58ca1 pre{padding: 0;}#sk-0154d018-aa3f-46b1-a615-48a039d58ca1 div.sk-toggleable {background-color: white;}#sk-0154d018-aa3f-46b1-a615-48a039d58ca1 label.sk-toggleable__label {cursor: pointer;display: block;width: 100%;margin-bottom: 0;padding: 0.3em;box-sizing: border-box;text-align: center;}#sk-0154d018-aa3f-46b1-a615-48a039d58ca1 label.sk-toggleable__label-arrow:before {content: \"▸\";float: left;margin-right: 0.25em;color: #696969;}#sk-0154d018-aa3f-46b1-a615-48a039d58ca1 label.sk-toggleable__label-arrow:hover:before {color: black;}#sk-0154d018-aa3f-46b1-a615-48a039d58ca1 div.sk-estimator:hover label.sk-toggleable__label-arrow:before {color: black;}#sk-0154d018-aa3f-46b1-a615-48a039d58ca1 div.sk-toggleable__content {max-height: 0;max-width: 0;overflow: hidden;text-align: left;background-color: #f0f8ff;}#sk-0154d018-aa3f-46b1-a615-48a039d58ca1 div.sk-toggleable__content pre {margin: 0.2em;color: black;border-radius: 0.25em;background-color: #f0f8ff;}#sk-0154d018-aa3f-46b1-a615-48a039d58ca1 input.sk-toggleable__control:checked~div.sk-toggleable__content {max-height: 200px;max-width: 100%;overflow: auto;}#sk-0154d018-aa3f-46b1-a615-48a039d58ca1 input.sk-toggleable__control:checked~label.sk-toggleable__label-arrow:before {content: \"▾\";}#sk-0154d018-aa3f-46b1-a615-48a039d58ca1 div.sk-estimator input.sk-toggleable__control:checked~label.sk-toggleable__label {background-color: #d4ebff;}#sk-0154d018-aa3f-46b1-a615-48a039d58ca1 div.sk-label input.sk-toggleable__control:checked~label.sk-toggleable__label {background-color: #d4ebff;}#sk-0154d018-aa3f-46b1-a615-48a039d58ca1 input.sk-hidden--visually {border: 0;clip: rect(1px 1px 1px 1px);clip: rect(1px, 1px, 1px, 1px);height: 1px;margin: -1px;overflow: hidden;padding: 0;position: absolute;width: 1px;}#sk-0154d018-aa3f-46b1-a615-48a039d58ca1 div.sk-estimator {font-family: monospace;background-color: #f0f8ff;border: 1px dotted black;border-radius: 0.25em;box-sizing: border-box;margin-bottom: 0.5em;}#sk-0154d018-aa3f-46b1-a615-48a039d58ca1 div.sk-estimator:hover {background-color: #d4ebff;}#sk-0154d018-aa3f-46b1-a615-48a039d58ca1 div.sk-parallel-item::after {content: \"\";width: 100%;border-bottom: 1px solid gray;flex-grow: 1;}#sk-0154d018-aa3f-46b1-a615-48a039d58ca1 div.sk-label:hover label.sk-toggleable__label {background-color: #d4ebff;}#sk-0154d018-aa3f-46b1-a615-48a039d58ca1 div.sk-serial::before {content: \"\";position: absolute;border-left: 1px solid gray;box-sizing: border-box;top: 2em;bottom: 0;left: 50%;}#sk-0154d018-aa3f-46b1-a615-48a039d58ca1 div.sk-serial {display: flex;flex-direction: column;align-items: center;background-color: white;padding-right: 0.2em;padding-left: 0.2em;}#sk-0154d018-aa3f-46b1-a615-48a039d58ca1 div.sk-item {z-index: 1;}#sk-0154d018-aa3f-46b1-a615-48a039d58ca1 div.sk-parallel {display: flex;align-items: stretch;justify-content: center;background-color: white;}#sk-0154d018-aa3f-46b1-a615-48a039d58ca1 div.sk-parallel::before {content: \"\";position: absolute;border-left: 1px solid gray;box-sizing: border-box;top: 2em;bottom: 0;left: 50%;}#sk-0154d018-aa3f-46b1-a615-48a039d58ca1 div.sk-parallel-item {display: flex;flex-direction: column;position: relative;background-color: white;}#sk-0154d018-aa3f-46b1-a615-48a039d58ca1 div.sk-parallel-item:first-child::after {align-self: flex-end;width: 50%;}#sk-0154d018-aa3f-46b1-a615-48a039d58ca1 div.sk-parallel-item:last-child::after {align-self: flex-start;width: 50%;}#sk-0154d018-aa3f-46b1-a615-48a039d58ca1 div.sk-parallel-item:only-child::after {width: 0;}#sk-0154d018-aa3f-46b1-a615-48a039d58ca1 div.sk-dashed-wrapped {border: 1px dashed gray;margin: 0 0.4em 0.5em 0.4em;box-sizing: border-box;padding-bottom: 0.4em;background-color: white;position: relative;}#sk-0154d018-aa3f-46b1-a615-48a039d58ca1 div.sk-label label {font-family: monospace;font-weight: bold;background-color: white;display: inline-block;line-height: 1.2em;}#sk-0154d018-aa3f-46b1-a615-48a039d58ca1 div.sk-label-container {position: relative;z-index: 2;text-align: center;}#sk-0154d018-aa3f-46b1-a615-48a039d58ca1 div.sk-container {/* jupyter's `normalize.less` sets `[hidden] { display: none; }` but bootstrap.min.css set `[hidden] { display: none !important; }` so we also need the `!important` here to be able to override the default hidden behavior on the sphinx rendered scikit-learn.org. See: https://github.com/scikit-learn/scikit-learn/issues/21755 */display: inline-block !important;position: relative;}#sk-0154d018-aa3f-46b1-a615-48a039d58ca1 div.sk-text-repr-fallback {display: none;}</style><div id=\"sk-0154d018-aa3f-46b1-a615-48a039d58ca1\" class=\"sk-top-container\"><div class=\"sk-text-repr-fallback\"><pre>Pipeline(steps=[(&#x27;numericals&#x27;,\n",
       "                 ColumnTransformer(remainder=&#x27;passthrough&#x27;,\n",
       "                                   transformers=[(&#x27;standard_scaler&#x27;,\n",
       "                                                  StandardScaler(), [&#x27;Age&#x27;]),\n",
       "                                                 (&#x27;robust_scaler&#x27;,\n",
       "                                                  RobustScaler(),\n",
       "                                                  [&#x27;eTIV&#x27;, &#x27;MMSE&#x27;]),\n",
       "                                                 (&#x27;minmax_scaler&#x27;,\n",
       "                                                  MinMaxScaler(),\n",
       "                                                  [&#x27;Educ&#x27;])]))])</pre><b>Please rerun this cell to show the HTML repr or trust the notebook.</b></div><div class=\"sk-container\" hidden><div class=\"sk-item sk-dashed-wrapped\"><div class=\"sk-label-container\"><div class=\"sk-label sk-toggleable\"><input class=\"sk-toggleable__control sk-hidden--visually\" id=\"3885cb4a-23a5-4b88-829d-cf7a5a9a8821\" type=\"checkbox\" ><label for=\"3885cb4a-23a5-4b88-829d-cf7a5a9a8821\" class=\"sk-toggleable__label sk-toggleable__label-arrow\">Pipeline</label><div class=\"sk-toggleable__content\"><pre>Pipeline(steps=[(&#x27;numericals&#x27;,\n",
       "                 ColumnTransformer(remainder=&#x27;passthrough&#x27;,\n",
       "                                   transformers=[(&#x27;standard_scaler&#x27;,\n",
       "                                                  StandardScaler(), [&#x27;Age&#x27;]),\n",
       "                                                 (&#x27;robust_scaler&#x27;,\n",
       "                                                  RobustScaler(),\n",
       "                                                  [&#x27;eTIV&#x27;, &#x27;MMSE&#x27;]),\n",
       "                                                 (&#x27;minmax_scaler&#x27;,\n",
       "                                                  MinMaxScaler(),\n",
       "                                                  [&#x27;Educ&#x27;])]))])</pre></div></div></div><div class=\"sk-serial\"><div class=\"sk-item sk-dashed-wrapped\"><div class=\"sk-label-container\"><div class=\"sk-label sk-toggleable\"><input class=\"sk-toggleable__control sk-hidden--visually\" id=\"6e4e7603-1dad-45ef-a922-aa66ceaabfcb\" type=\"checkbox\" ><label for=\"6e4e7603-1dad-45ef-a922-aa66ceaabfcb\" class=\"sk-toggleable__label sk-toggleable__label-arrow\">numericals: ColumnTransformer</label><div class=\"sk-toggleable__content\"><pre>ColumnTransformer(remainder=&#x27;passthrough&#x27;,\n",
       "                  transformers=[(&#x27;standard_scaler&#x27;, StandardScaler(), [&#x27;Age&#x27;]),\n",
       "                                (&#x27;robust_scaler&#x27;, RobustScaler(),\n",
       "                                 [&#x27;eTIV&#x27;, &#x27;MMSE&#x27;]),\n",
       "                                (&#x27;minmax_scaler&#x27;, MinMaxScaler(), [&#x27;Educ&#x27;])])</pre></div></div></div><div class=\"sk-parallel\"><div class=\"sk-parallel-item\"><div class=\"sk-item\"><div class=\"sk-label-container\"><div class=\"sk-label sk-toggleable\"><input class=\"sk-toggleable__control sk-hidden--visually\" id=\"3904e495-ba26-4d07-bf94-b5cadbbfbf37\" type=\"checkbox\" ><label for=\"3904e495-ba26-4d07-bf94-b5cadbbfbf37\" class=\"sk-toggleable__label sk-toggleable__label-arrow\">standard_scaler</label><div class=\"sk-toggleable__content\"><pre>[&#x27;Age&#x27;]</pre></div></div></div><div class=\"sk-serial\"><div class=\"sk-item\"><div class=\"sk-estimator sk-toggleable\"><input class=\"sk-toggleable__control sk-hidden--visually\" id=\"cdd7a7b1-ee34-4dbe-9244-957b26f89031\" type=\"checkbox\" ><label for=\"cdd7a7b1-ee34-4dbe-9244-957b26f89031\" class=\"sk-toggleable__label sk-toggleable__label-arrow\">StandardScaler</label><div class=\"sk-toggleable__content\"><pre>StandardScaler()</pre></div></div></div></div></div></div><div class=\"sk-parallel-item\"><div class=\"sk-item\"><div class=\"sk-label-container\"><div class=\"sk-label sk-toggleable\"><input class=\"sk-toggleable__control sk-hidden--visually\" id=\"d3502555-6a8e-42f1-ac05-a2a51dbd5254\" type=\"checkbox\" ><label for=\"d3502555-6a8e-42f1-ac05-a2a51dbd5254\" class=\"sk-toggleable__label sk-toggleable__label-arrow\">robust_scaler</label><div class=\"sk-toggleable__content\"><pre>[&#x27;eTIV&#x27;, &#x27;MMSE&#x27;]</pre></div></div></div><div class=\"sk-serial\"><div class=\"sk-item\"><div class=\"sk-estimator sk-toggleable\"><input class=\"sk-toggleable__control sk-hidden--visually\" id=\"b83e9d74-59c8-4ce3-810e-fa8826760fe9\" type=\"checkbox\" ><label for=\"b83e9d74-59c8-4ce3-810e-fa8826760fe9\" class=\"sk-toggleable__label sk-toggleable__label-arrow\">RobustScaler</label><div class=\"sk-toggleable__content\"><pre>RobustScaler()</pre></div></div></div></div></div></div><div class=\"sk-parallel-item\"><div class=\"sk-item\"><div class=\"sk-label-container\"><div class=\"sk-label sk-toggleable\"><input class=\"sk-toggleable__control sk-hidden--visually\" id=\"d2ef634e-1977-4a3c-9627-85ba588edb9e\" type=\"checkbox\" ><label for=\"d2ef634e-1977-4a3c-9627-85ba588edb9e\" class=\"sk-toggleable__label sk-toggleable__label-arrow\">minmax_scaler</label><div class=\"sk-toggleable__content\"><pre>[&#x27;Educ&#x27;]</pre></div></div></div><div class=\"sk-serial\"><div class=\"sk-item\"><div class=\"sk-estimator sk-toggleable\"><input class=\"sk-toggleable__control sk-hidden--visually\" id=\"54ebf0b6-4a33-4085-a3e4-701ab5dab89a\" type=\"checkbox\" ><label for=\"54ebf0b6-4a33-4085-a3e4-701ab5dab89a\" class=\"sk-toggleable__label sk-toggleable__label-arrow\">MinMaxScaler</label><div class=\"sk-toggleable__content\"><pre>MinMaxScaler()</pre></div></div></div></div></div></div><div class=\"sk-parallel-item\"><div class=\"sk-item\"><div class=\"sk-label-container\"><div class=\"sk-label sk-toggleable\"><input class=\"sk-toggleable__control sk-hidden--visually\" id=\"560065f9-6634-4158-9ab1-958ed2951259\" type=\"checkbox\" ><label for=\"560065f9-6634-4158-9ab1-958ed2951259\" class=\"sk-toggleable__label sk-toggleable__label-arrow\">remainder</label><div class=\"sk-toggleable__content\"><pre></pre></div></div></div><div class=\"sk-serial\"><div class=\"sk-item\"><div class=\"sk-estimator sk-toggleable\"><input class=\"sk-toggleable__control sk-hidden--visually\" id=\"f1f0cef5-70cf-4f54-a0ea-3733fc524076\" type=\"checkbox\" ><label for=\"f1f0cef5-70cf-4f54-a0ea-3733fc524076\" class=\"sk-toggleable__label sk-toggleable__label-arrow\">passthrough</label><div class=\"sk-toggleable__content\"><pre>passthrough</pre></div></div></div></div></div></div></div></div></div></div></div></div>"
      ],
      "text/plain": [
       "Pipeline(steps=[('numericals',\n",
       "                 ColumnTransformer(remainder='passthrough',\n",
       "                                   transformers=[('standard_scaler',\n",
       "                                                  StandardScaler(), ['Age']),\n",
       "                                                 ('robust_scaler',\n",
       "                                                  RobustScaler(),\n",
       "                                                  ['eTIV', 'MMSE']),\n",
       "                                                 ('minmax_scaler',\n",
       "                                                  MinMaxScaler(),\n",
       "                                                  ['Educ'])]))])"
      ]
     },
     "execution_count": 17,
     "metadata": {},
     "output_type": "execute_result"
    }
   ],
   "source": [
    "def set_pipeline():\n",
    "    \"\"\"This function returns a pipeline\n",
    "    \"\"\"\n",
    "    preproc = Pipeline([('numericals', numeric_transformer)])\n",
    "    return preproc\n",
    "set_pipeline()"
   ]
  },
  {
   "cell_type": "code",
   "execution_count": 18,
   "id": "f0b0e222",
   "metadata": {},
   "outputs": [
    {
     "data": {
      "text/html": [
       "<div>\n",
       "<style scoped>\n",
       "    .dataframe tbody tr th:only-of-type {\n",
       "        vertical-align: middle;\n",
       "    }\n",
       "\n",
       "    .dataframe tbody tr th {\n",
       "        vertical-align: top;\n",
       "    }\n",
       "\n",
       "    .dataframe thead th {\n",
       "        text-align: right;\n",
       "    }\n",
       "</style>\n",
       "<table border=\"1\" class=\"dataframe\">\n",
       "  <thead>\n",
       "    <tr style=\"text-align: right;\">\n",
       "      <th></th>\n",
       "      <th>M/F</th>\n",
       "      <th>Age</th>\n",
       "      <th>Educ</th>\n",
       "      <th>SES</th>\n",
       "      <th>MMSE</th>\n",
       "      <th>eTIV</th>\n",
       "      <th>nWBV</th>\n",
       "      <th>ASF</th>\n",
       "    </tr>\n",
       "  </thead>\n",
       "  <tbody>\n",
       "    <tr>\n",
       "      <th>0</th>\n",
       "      <td>0.0</td>\n",
       "      <td>0.781935</td>\n",
       "      <td>1.00</td>\n",
       "      <td>2.0</td>\n",
       "      <td>-0.75</td>\n",
       "      <td>-1.350746</td>\n",
       "      <td>0.743</td>\n",
       "      <td>1.495</td>\n",
       "    </tr>\n",
       "    <tr>\n",
       "      <th>1</th>\n",
       "      <td>0.0</td>\n",
       "      <td>-1.128308</td>\n",
       "      <td>0.25</td>\n",
       "      <td>2.0</td>\n",
       "      <td>0.25</td>\n",
       "      <td>-0.136816</td>\n",
       "      <td>0.821</td>\n",
       "      <td>1.238</td>\n",
       "    </tr>\n",
       "    <tr>\n",
       "      <th>2</th>\n",
       "      <td>0.0</td>\n",
       "      <td>0.034449</td>\n",
       "      <td>0.50</td>\n",
       "      <td>3.0</td>\n",
       "      <td>-0.25</td>\n",
       "      <td>0.330846</td>\n",
       "      <td>0.779</td>\n",
       "      <td>1.161</td>\n",
       "    </tr>\n",
       "    <tr>\n",
       "      <th>3</th>\n",
       "      <td>0.0</td>\n",
       "      <td>0.117503</td>\n",
       "      <td>0.00</td>\n",
       "      <td>4.0</td>\n",
       "      <td>0.25</td>\n",
       "      <td>0.146766</td>\n",
       "      <td>0.721</td>\n",
       "      <td>1.190</td>\n",
       "    </tr>\n",
       "    <tr>\n",
       "      <th>4</th>\n",
       "      <td>1.0</td>\n",
       "      <td>0.781935</td>\n",
       "      <td>0.00</td>\n",
       "      <td>4.0</td>\n",
       "      <td>-0.25</td>\n",
       "      <td>1.514925</td>\n",
       "      <td>0.676</td>\n",
       "      <td>1.003</td>\n",
       "    </tr>\n",
       "    <tr>\n",
       "      <th>...</th>\n",
       "      <td>...</td>\n",
       "      <td>...</td>\n",
       "      <td>...</td>\n",
       "      <td>...</td>\n",
       "      <td>...</td>\n",
       "      <td>...</td>\n",
       "      <td>...</td>\n",
       "      <td>...</td>\n",
       "    </tr>\n",
       "    <tr>\n",
       "      <th>171</th>\n",
       "      <td>1.0</td>\n",
       "      <td>-0.629984</td>\n",
       "      <td>0.25</td>\n",
       "      <td>4.0</td>\n",
       "      <td>0.00</td>\n",
       "      <td>0.574627</td>\n",
       "      <td>0.801</td>\n",
       "      <td>1.124</td>\n",
       "    </tr>\n",
       "    <tr>\n",
       "      <th>172</th>\n",
       "      <td>0.0</td>\n",
       "      <td>0.034449</td>\n",
       "      <td>0.75</td>\n",
       "      <td>3.0</td>\n",
       "      <td>-1.25</td>\n",
       "      <td>-0.455224</td>\n",
       "      <td>0.738</td>\n",
       "      <td>1.296</td>\n",
       "    </tr>\n",
       "    <tr>\n",
       "      <th>173</th>\n",
       "      <td>0.0</td>\n",
       "      <td>0.200557</td>\n",
       "      <td>0.25</td>\n",
       "      <td>3.0</td>\n",
       "      <td>-0.75</td>\n",
       "      <td>-1.365672</td>\n",
       "      <td>0.736</td>\n",
       "      <td>1.499</td>\n",
       "    </tr>\n",
       "    <tr>\n",
       "      <th>174</th>\n",
       "      <td>0.0</td>\n",
       "      <td>-1.460525</td>\n",
       "      <td>0.75</td>\n",
       "      <td>1.0</td>\n",
       "      <td>0.25</td>\n",
       "      <td>0.241294</td>\n",
       "      <td>0.838</td>\n",
       "      <td>1.174</td>\n",
       "    </tr>\n",
       "    <tr>\n",
       "      <th>175</th>\n",
       "      <td>0.0</td>\n",
       "      <td>-0.131660</td>\n",
       "      <td>0.50</td>\n",
       "      <td>4.0</td>\n",
       "      <td>0.25</td>\n",
       "      <td>-0.420398</td>\n",
       "      <td>0.783</td>\n",
       "      <td>1.290</td>\n",
       "    </tr>\n",
       "  </tbody>\n",
       "</table>\n",
       "<p>176 rows × 8 columns</p>\n",
       "</div>"
      ],
      "text/plain": [
       "     M/F       Age  Educ  SES  MMSE      eTIV   nWBV    ASF\n",
       "0    0.0  0.781935  1.00  2.0 -0.75 -1.350746  0.743  1.495\n",
       "1    0.0 -1.128308  0.25  2.0  0.25 -0.136816  0.821  1.238\n",
       "2    0.0  0.034449  0.50  3.0 -0.25  0.330846  0.779  1.161\n",
       "3    0.0  0.117503  0.00  4.0  0.25  0.146766  0.721  1.190\n",
       "4    1.0  0.781935  0.00  4.0 -0.25  1.514925  0.676  1.003\n",
       "..   ...       ...   ...  ...   ...       ...    ...    ...\n",
       "171  1.0 -0.629984  0.25  4.0  0.00  0.574627  0.801  1.124\n",
       "172  0.0  0.034449  0.75  3.0 -1.25 -0.455224  0.738  1.296\n",
       "173  0.0  0.200557  0.25  3.0 -0.75 -1.365672  0.736  1.499\n",
       "174  0.0 -1.460525  0.75  1.0  0.25  0.241294  0.838  1.174\n",
       "175  0.0 -0.131660  0.50  4.0  0.25 -0.420398  0.783  1.290\n",
       "\n",
       "[176 rows x 8 columns]"
      ]
     },
     "execution_count": 18,
     "metadata": {},
     "output_type": "execute_result"
    }
   ],
   "source": [
    "def preproc_df():\n",
    "    \"\"\"This function returns a scaled dataframe ready for processing\n",
    "    \"\"\"\n",
    "    # Instantiating pipeline\n",
    "    pipeline = set_pipeline()\n",
    "    oasis1_scaled = pd.DataFrame(pipeline.fit_transform(X_train, y_train), columns = set_pipeline().get_feature_names_out())\n",
    "    oasis1_scaled.rename(columns={\n",
    "                                 'remainder__M/F': 'M/F',\n",
    "                                 'remainder__SES': 'SES',\n",
    "                                 'remainder__nWBV': 'nWBV',\n",
    "                                 'remainder__ASF': 'ASF',\n",
    "                                 'standard_scaler__Age': 'Age',\n",
    "                                 'robust_scaler__eTIV': 'eTIV',\n",
    "                                 'robust_scaler__MMSE': 'MMSE',\n",
    "                                 'minmax_scaler__Educ': 'Educ'\n",
    "    }, inplace=True)\n",
    "    oasis1_scaled = oasis1_scaled[[\"M/F\", \"Age\", \"Educ\", \"SES\", \"MMSE\", \"eTIV\", \"nWBV\", \"ASF\"]]\n",
    "    return oasis1_scaled\n",
    "preproc_df()"
   ]
  },
  {
   "cell_type": "markdown",
   "id": "7fb88f81",
   "metadata": {},
   "source": [
    "# Decision Tree"
   ]
  },
  {
   "cell_type": "markdown",
   "id": "6771423f",
   "metadata": {},
   "source": [
    "## Trial (just to practice)"
   ]
  },
  {
   "cell_type": "code",
   "execution_count": 19,
   "id": "04b2e8e9",
   "metadata": {},
   "outputs": [],
   "source": [
    "# Defining new X_scaled\n",
    "X_scaled = preproc_df()\n",
    "\n",
    "# Making a copy of X_scaled\n",
    "X_scaled_test = X_scaled.copy()"
   ]
  },
  {
   "cell_type": "code",
   "execution_count": 20,
   "id": "21ba5a61",
   "metadata": {},
   "outputs": [
    {
     "data": {
      "text/plain": [
       "array([0.5, 0. , 1. ])"
      ]
     },
     "execution_count": 20,
     "metadata": {},
     "output_type": "execute_result"
    }
   ],
   "source": [
    "y_train.unique()"
   ]
  },
  {
   "cell_type": "code",
   "execution_count": 21,
   "id": "0657dade",
   "metadata": {},
   "outputs": [
    {
     "data": {
      "text/plain": [
       "(176,)"
      ]
     },
     "execution_count": 21,
     "metadata": {},
     "output_type": "execute_result"
    }
   ],
   "source": [
    "y_train_test = y_train.copy()\n",
    "y_train_test = y_train_test.replace({0.:1, 0.5:2})\n",
    "y_train_test.shape"
   ]
  },
  {
   "cell_type": "code",
   "execution_count": 22,
   "id": "fc245f0f",
   "metadata": {},
   "outputs": [
    {
     "data": {
      "text/plain": [
       "array([0.5, 0. , 1. ])"
      ]
     },
     "execution_count": 22,
     "metadata": {},
     "output_type": "execute_result"
    }
   ],
   "source": [
    "y_train.unique()\n",
    "#y_train.replace({0: 'nondemented', 0.5: 'verymild', 1: 'mild', 2: 'moderate'})"
   ]
  },
  {
   "cell_type": "code",
   "execution_count": 23,
   "id": "cc88c292",
   "metadata": {},
   "outputs": [],
   "source": [
    "# Instantiate Decision Tree\n",
    "tree_clf = DecisionTreeClassifier(max_depth = 3)"
   ]
  },
  {
   "cell_type": "code",
   "execution_count": 24,
   "id": "6677aa45",
   "metadata": {},
   "outputs": [
    {
     "data": {
      "text/html": [
       "<style>#sk-0f5101d9-713b-4246-b2ba-0c7912a7cff9 {color: black;background-color: white;}#sk-0f5101d9-713b-4246-b2ba-0c7912a7cff9 pre{padding: 0;}#sk-0f5101d9-713b-4246-b2ba-0c7912a7cff9 div.sk-toggleable {background-color: white;}#sk-0f5101d9-713b-4246-b2ba-0c7912a7cff9 label.sk-toggleable__label {cursor: pointer;display: block;width: 100%;margin-bottom: 0;padding: 0.3em;box-sizing: border-box;text-align: center;}#sk-0f5101d9-713b-4246-b2ba-0c7912a7cff9 label.sk-toggleable__label-arrow:before {content: \"▸\";float: left;margin-right: 0.25em;color: #696969;}#sk-0f5101d9-713b-4246-b2ba-0c7912a7cff9 label.sk-toggleable__label-arrow:hover:before {color: black;}#sk-0f5101d9-713b-4246-b2ba-0c7912a7cff9 div.sk-estimator:hover label.sk-toggleable__label-arrow:before {color: black;}#sk-0f5101d9-713b-4246-b2ba-0c7912a7cff9 div.sk-toggleable__content {max-height: 0;max-width: 0;overflow: hidden;text-align: left;background-color: #f0f8ff;}#sk-0f5101d9-713b-4246-b2ba-0c7912a7cff9 div.sk-toggleable__content pre {margin: 0.2em;color: black;border-radius: 0.25em;background-color: #f0f8ff;}#sk-0f5101d9-713b-4246-b2ba-0c7912a7cff9 input.sk-toggleable__control:checked~div.sk-toggleable__content {max-height: 200px;max-width: 100%;overflow: auto;}#sk-0f5101d9-713b-4246-b2ba-0c7912a7cff9 input.sk-toggleable__control:checked~label.sk-toggleable__label-arrow:before {content: \"▾\";}#sk-0f5101d9-713b-4246-b2ba-0c7912a7cff9 div.sk-estimator input.sk-toggleable__control:checked~label.sk-toggleable__label {background-color: #d4ebff;}#sk-0f5101d9-713b-4246-b2ba-0c7912a7cff9 div.sk-label input.sk-toggleable__control:checked~label.sk-toggleable__label {background-color: #d4ebff;}#sk-0f5101d9-713b-4246-b2ba-0c7912a7cff9 input.sk-hidden--visually {border: 0;clip: rect(1px 1px 1px 1px);clip: rect(1px, 1px, 1px, 1px);height: 1px;margin: -1px;overflow: hidden;padding: 0;position: absolute;width: 1px;}#sk-0f5101d9-713b-4246-b2ba-0c7912a7cff9 div.sk-estimator {font-family: monospace;background-color: #f0f8ff;border: 1px dotted black;border-radius: 0.25em;box-sizing: border-box;margin-bottom: 0.5em;}#sk-0f5101d9-713b-4246-b2ba-0c7912a7cff9 div.sk-estimator:hover {background-color: #d4ebff;}#sk-0f5101d9-713b-4246-b2ba-0c7912a7cff9 div.sk-parallel-item::after {content: \"\";width: 100%;border-bottom: 1px solid gray;flex-grow: 1;}#sk-0f5101d9-713b-4246-b2ba-0c7912a7cff9 div.sk-label:hover label.sk-toggleable__label {background-color: #d4ebff;}#sk-0f5101d9-713b-4246-b2ba-0c7912a7cff9 div.sk-serial::before {content: \"\";position: absolute;border-left: 1px solid gray;box-sizing: border-box;top: 2em;bottom: 0;left: 50%;}#sk-0f5101d9-713b-4246-b2ba-0c7912a7cff9 div.sk-serial {display: flex;flex-direction: column;align-items: center;background-color: white;padding-right: 0.2em;padding-left: 0.2em;}#sk-0f5101d9-713b-4246-b2ba-0c7912a7cff9 div.sk-item {z-index: 1;}#sk-0f5101d9-713b-4246-b2ba-0c7912a7cff9 div.sk-parallel {display: flex;align-items: stretch;justify-content: center;background-color: white;}#sk-0f5101d9-713b-4246-b2ba-0c7912a7cff9 div.sk-parallel::before {content: \"\";position: absolute;border-left: 1px solid gray;box-sizing: border-box;top: 2em;bottom: 0;left: 50%;}#sk-0f5101d9-713b-4246-b2ba-0c7912a7cff9 div.sk-parallel-item {display: flex;flex-direction: column;position: relative;background-color: white;}#sk-0f5101d9-713b-4246-b2ba-0c7912a7cff9 div.sk-parallel-item:first-child::after {align-self: flex-end;width: 50%;}#sk-0f5101d9-713b-4246-b2ba-0c7912a7cff9 div.sk-parallel-item:last-child::after {align-self: flex-start;width: 50%;}#sk-0f5101d9-713b-4246-b2ba-0c7912a7cff9 div.sk-parallel-item:only-child::after {width: 0;}#sk-0f5101d9-713b-4246-b2ba-0c7912a7cff9 div.sk-dashed-wrapped {border: 1px dashed gray;margin: 0 0.4em 0.5em 0.4em;box-sizing: border-box;padding-bottom: 0.4em;background-color: white;position: relative;}#sk-0f5101d9-713b-4246-b2ba-0c7912a7cff9 div.sk-label label {font-family: monospace;font-weight: bold;background-color: white;display: inline-block;line-height: 1.2em;}#sk-0f5101d9-713b-4246-b2ba-0c7912a7cff9 div.sk-label-container {position: relative;z-index: 2;text-align: center;}#sk-0f5101d9-713b-4246-b2ba-0c7912a7cff9 div.sk-container {/* jupyter's `normalize.less` sets `[hidden] { display: none; }` but bootstrap.min.css set `[hidden] { display: none !important; }` so we also need the `!important` here to be able to override the default hidden behavior on the sphinx rendered scikit-learn.org. See: https://github.com/scikit-learn/scikit-learn/issues/21755 */display: inline-block !important;position: relative;}#sk-0f5101d9-713b-4246-b2ba-0c7912a7cff9 div.sk-text-repr-fallback {display: none;}</style><div id=\"sk-0f5101d9-713b-4246-b2ba-0c7912a7cff9\" class=\"sk-top-container\"><div class=\"sk-text-repr-fallback\"><pre>DecisionTreeClassifier(max_depth=3)</pre><b>Please rerun this cell to show the HTML repr or trust the notebook.</b></div><div class=\"sk-container\" hidden><div class=\"sk-item\"><div class=\"sk-estimator sk-toggleable\"><input class=\"sk-toggleable__control sk-hidden--visually\" id=\"eecd3b80-fef5-401e-b219-c5f2f6e73fad\" type=\"checkbox\" checked><label for=\"eecd3b80-fef5-401e-b219-c5f2f6e73fad\" class=\"sk-toggleable__label sk-toggleable__label-arrow\">DecisionTreeClassifier</label><div class=\"sk-toggleable__content\"><pre>DecisionTreeClassifier(max_depth=3)</pre></div></div></div></div></div>"
      ],
      "text/plain": [
       "DecisionTreeClassifier(max_depth=3)"
      ]
     },
     "execution_count": 24,
     "metadata": {},
     "output_type": "execute_result"
    }
   ],
   "source": [
    "tree_clf.fit(X_scaled_test,y_train_test)"
   ]
  },
  {
   "cell_type": "code",
   "execution_count": 25,
   "id": "6af52683",
   "metadata": {},
   "outputs": [
    {
     "data": {
      "text/plain": [
       "array([2., 2., 2., 2., 2., 2., 2., 2., 2., 2., 2., 2., 2., 2., 2., 2., 2.,\n",
       "       2., 2., 2., 2., 2., 2., 2., 2., 2., 2., 2., 2., 2., 2., 2., 2., 2.,\n",
       "       2., 2., 2., 2., 2., 2., 2., 2., 2., 2., 2., 2., 2., 2., 2., 2., 2.,\n",
       "       2., 2., 2., 2., 2., 2., 2., 2.])"
      ]
     },
     "execution_count": 25,
     "metadata": {},
     "output_type": "execute_result"
    }
   ],
   "source": [
    "prediction = tree_clf.predict(X_test)\n",
    "prediction"
   ]
  },
  {
   "cell_type": "code",
   "execution_count": 26,
   "id": "841d4494",
   "metadata": {},
   "outputs": [],
   "source": [
    "y_test = y_test.replace({0.:1, 0.5:2})"
   ]
  },
  {
   "cell_type": "code",
   "execution_count": 27,
   "id": "6ff74957",
   "metadata": {},
   "outputs": [
    {
     "data": {
      "text/plain": [
       "0.4067796610169492"
      ]
     },
     "execution_count": 27,
     "metadata": {},
     "output_type": "execute_result"
    }
   ],
   "source": [
    "from sklearn.metrics import accuracy_score\n",
    "accuracy_score(y_test, prediction)"
   ]
  },
  {
   "cell_type": "code",
   "execution_count": 28,
   "id": "89e7d485",
   "metadata": {},
   "outputs": [
    {
     "data": {
      "text/plain": [
       "(59, 8)"
      ]
     },
     "execution_count": 28,
     "metadata": {},
     "output_type": "execute_result"
    }
   ],
   "source": [
    "X_test.shape"
   ]
  },
  {
   "cell_type": "code",
   "execution_count": 29,
   "id": "d7a74ae7",
   "metadata": {},
   "outputs": [
    {
     "data": {
      "text/plain": [
       "(176, 8)"
      ]
     },
     "execution_count": 29,
     "metadata": {},
     "output_type": "execute_result"
    }
   ],
   "source": [
    "X_scaled_test.shape"
   ]
  },
  {
   "cell_type": "code",
   "execution_count": 30,
   "id": "be2df53b",
   "metadata": {},
   "outputs": [
    {
     "data": {
      "image/png": "[encoded data removed]",
      "text/plain": [
       "<Figure size 432x288 with 1 Axes>"
      ]
     },
     "metadata": {},
     "output_type": "display_data"
    },
    {
     "data": {
      "text/plain": [
       "<Figure size 1440x1872 with 0 Axes>"
      ]
     },
     "metadata": {},
     "output_type": "display_data"
    }
   ],
   "source": [
    "from sklearn import tree\n",
    "tree.plot_tree(tree_clf,\n",
    "              feature_names = X_train.columns)\n",
    "plt.figure(figsize = (20, 26));"
   ]
  },
  {
   "cell_type": "code",
   "execution_count": 31,
   "id": "87c1dfff",
   "metadata": {},
   "outputs": [
    {
     "data": {
      "image/svg+xml": [
       "<?xml version=\"1.0\" encoding=\"UTF-8\" standalone=\"no\"?>\n",
       "<!DOCTYPE svg PUBLIC \"-//W3C//DTD SVG 1.1//EN\"\n",
       " \"http://www.w3.org/Graphics/SVG/1.1/DTD/svg11.dtd\">\n",
       "<!-- Generated by graphviz version 2.43.0 (0)\n",
       " -->\n",
       "<!-- Title: Tree Pages: 1 -->\n",
       "<svg width=\"665pt\" height=\"404pt\"\n",
       " viewBox=\"0.00 0.00 665.00 404.00\" xmlns=\"http://www.w3.org/2000/svg\" xmlns:xlink=\"http://www.w3.org/1999/xlink\">\n",
       "<g id=\"graph0\" class=\"graph\" transform=\"scale(1 1) rotate(0) translate(4 400)\">\n",
       "<title>Tree</title>\n",
       "<polygon fill=\"white\" stroke=\"transparent\" points=\"-4,4 -4,-400 661,-400 661,4 -4,4\"/>\n",
       "<!-- 0 -->\n",
       "<g id=\"node1\" class=\"node\">\n",
       "<title>0</title>\n",
       "<path fill=\"#efb083\" stroke=\"black\" d=\"M128,-217.5C128,-217.5 12,-217.5 12,-217.5 6,-217.5 0,-211.5 0,-205.5 0,-205.5 0,-146.5 0,-146.5 0,-140.5 6,-134.5 12,-134.5 12,-134.5 128,-134.5 128,-134.5 134,-134.5 140,-140.5 140,-146.5 140,-146.5 140,-205.5 140,-205.5 140,-211.5 134,-217.5 128,-217.5\"/>\n",
       "<text text-anchor=\"middle\" x=\"70\" y=\"-202.3\" font-family=\"futura\" font-size=\"14.00\">MMSE &lt;= &#45;0.125</text>\n",
       "<text text-anchor=\"middle\" x=\"70\" y=\"-187.3\" font-family=\"futura\" font-size=\"14.00\">gini = 0.397</text>\n",
       "<text text-anchor=\"middle\" x=\"70\" y=\"-172.3\" font-family=\"futura\" font-size=\"14.00\">samples = 176</text>\n",
       "<text text-anchor=\"middle\" x=\"70\" y=\"-157.3\" font-family=\"futura\" font-size=\"14.00\">value = [128, 48]</text>\n",
       "<text text-anchor=\"middle\" x=\"70\" y=\"-142.3\" font-family=\"futura\" font-size=\"14.00\">class = mild</text>\n",
       "</g>\n",
       "<!-- 1 -->\n",
       "<g id=\"node2\" class=\"node\">\n",
       "<title>1</title>\n",
       "<path fill=\"#fbeee4\" stroke=\"black\" d=\"M295,-268.5C295,-268.5 188,-268.5 188,-268.5 182,-268.5 176,-262.5 176,-256.5 176,-256.5 176,-197.5 176,-197.5 176,-191.5 182,-185.5 188,-185.5 188,-185.5 295,-185.5 295,-185.5 301,-185.5 307,-191.5 307,-197.5 307,-197.5 307,-256.5 307,-256.5 307,-262.5 301,-268.5 295,-268.5\"/>\n",
       "<text text-anchor=\"middle\" x=\"241.5\" y=\"-253.3\" font-family=\"futura\" font-size=\"14.00\">ASF &lt;= 1.391</text>\n",
       "<text text-anchor=\"middle\" x=\"241.5\" y=\"-238.3\" font-family=\"futura\" font-size=\"14.00\">gini = 0.497</text>\n",
       "<text text-anchor=\"middle\" x=\"241.5\" y=\"-223.3\" font-family=\"futura\" font-size=\"14.00\">samples = 82</text>\n",
       "<text text-anchor=\"middle\" x=\"241.5\" y=\"-208.3\" font-family=\"futura\" font-size=\"14.00\">value = [44, 38]</text>\n",
       "<text text-anchor=\"middle\" x=\"241.5\" y=\"-193.3\" font-family=\"futura\" font-size=\"14.00\">class = mild</text>\n",
       "</g>\n",
       "<!-- 0&#45;&gt;1 -->\n",
       "<g id=\"edge1\" class=\"edge\">\n",
       "<title>0&#45;&gt;1</title>\n",
       "<path fill=\"none\" stroke=\"black\" d=\"M140.43,-196.89C148.93,-199.45 157.65,-202.07 166.22,-204.65\"/>\n",
       "<polygon fill=\"black\" stroke=\"black\" points=\"165.23,-208.01 175.81,-207.54 167.25,-201.3 165.23,-208.01\"/>\n",
       "<text text-anchor=\"middle\" x=\"153.79\" y=\"-215.67\" font-family=\"futura\" font-size=\"14.00\">True</text>\n",
       "</g>\n",
       "<!-- 6 -->\n",
       "<g id=\"node7\" class=\"node\">\n",
       "<title>6</title>\n",
       "<path fill=\"#e89051\" stroke=\"black\" d=\"M295,-167.5C295,-167.5 188,-167.5 188,-167.5 182,-167.5 176,-161.5 176,-155.5 176,-155.5 176,-96.5 176,-96.5 176,-90.5 182,-84.5 188,-84.5 188,-84.5 295,-84.5 295,-84.5 301,-84.5 307,-90.5 307,-96.5 307,-96.5 307,-155.5 307,-155.5 307,-161.5 301,-167.5 295,-167.5\"/>\n",
       "<text text-anchor=\"middle\" x=\"241.5\" y=\"-152.3\" font-family=\"futura\" font-size=\"14.00\">eTIV &lt;= 1.943</text>\n",
       "<text text-anchor=\"middle\" x=\"241.5\" y=\"-137.3\" font-family=\"futura\" font-size=\"14.00\">gini = 0.19</text>\n",
       "<text text-anchor=\"middle\" x=\"241.5\" y=\"-122.3\" font-family=\"futura\" font-size=\"14.00\">samples = 94</text>\n",
       "<text text-anchor=\"middle\" x=\"241.5\" y=\"-107.3\" font-family=\"futura\" font-size=\"14.00\">value = [84, 10]</text>\n",
       "<text text-anchor=\"middle\" x=\"241.5\" y=\"-92.3\" font-family=\"futura\" font-size=\"14.00\">class = mild</text>\n",
       "</g>\n",
       "<!-- 0&#45;&gt;6 -->\n",
       "<g id=\"edge6\" class=\"edge\">\n",
       "<title>0&#45;&gt;6</title>\n",
       "<path fill=\"none\" stroke=\"black\" d=\"M140.43,-155.52C148.93,-153.01 157.65,-150.44 166.22,-147.91\"/>\n",
       "<polygon fill=\"black\" stroke=\"black\" points=\"167.21,-151.27 175.81,-145.08 165.23,-144.55 167.21,-151.27\"/>\n",
       "<text text-anchor=\"middle\" x=\"153.86\" y=\"-129.43\" font-family=\"futura\" font-size=\"14.00\">False</text>\n",
       "</g>\n",
       "<!-- 2 -->\n",
       "<g id=\"node3\" class=\"node\">\n",
       "<title>2</title>\n",
       "<path fill=\"#f8e0ce\" stroke=\"black\" d=\"M466,-360.5C466,-360.5 359,-360.5 359,-360.5 353,-360.5 347,-354.5 347,-348.5 347,-348.5 347,-289.5 347,-289.5 347,-283.5 353,-277.5 359,-277.5 359,-277.5 466,-277.5 466,-277.5 472,-277.5 478,-283.5 478,-289.5 478,-289.5 478,-348.5 478,-348.5 478,-354.5 472,-360.5 466,-360.5\"/>\n",
       "<text text-anchor=\"middle\" x=\"412.5\" y=\"-345.3\" font-family=\"futura\" font-size=\"14.00\">ASF &lt;= 1.066</text>\n",
       "<text text-anchor=\"middle\" x=\"412.5\" y=\"-330.3\" font-family=\"futura\" font-size=\"14.00\">gini = 0.49</text>\n",
       "<text text-anchor=\"middle\" x=\"412.5\" y=\"-315.3\" font-family=\"futura\" font-size=\"14.00\">samples = 77</text>\n",
       "<text text-anchor=\"middle\" x=\"412.5\" y=\"-300.3\" font-family=\"futura\" font-size=\"14.00\">value = [44, 33]</text>\n",
       "<text text-anchor=\"middle\" x=\"412.5\" y=\"-285.3\" font-family=\"futura\" font-size=\"14.00\">class = mild</text>\n",
       "</g>\n",
       "<!-- 1&#45;&gt;2 -->\n",
       "<g id=\"edge2\" class=\"edge\">\n",
       "<title>1&#45;&gt;2</title>\n",
       "<path fill=\"none\" stroke=\"black\" d=\"M307.36,-262.31C317.36,-267.75 327.76,-273.41 337.94,-278.96\"/>\n",
       "<polygon fill=\"black\" stroke=\"black\" points=\"336.36,-282.08 346.82,-283.79 339.71,-275.93 336.36,-282.08\"/>\n",
       "</g>\n",
       "<!-- 5 -->\n",
       "<g id=\"node6\" class=\"node\">\n",
       "<title>5</title>\n",
       "<path fill=\"#399de5\" stroke=\"black\" d=\"M470,-259C470,-259 355,-259 355,-259 349,-259 343,-253 343,-247 343,-247 343,-203 343,-203 343,-197 349,-191 355,-191 355,-191 470,-191 470,-191 476,-191 482,-197 482,-203 482,-203 482,-247 482,-247 482,-253 476,-259 470,-259\"/>\n",
       "<text text-anchor=\"middle\" x=\"412.5\" y=\"-243.8\" font-family=\"futura\" font-size=\"14.00\">gini = 0.0</text>\n",
       "<text text-anchor=\"middle\" x=\"412.5\" y=\"-228.8\" font-family=\"futura\" font-size=\"14.00\">samples = 5</text>\n",
       "<text text-anchor=\"middle\" x=\"412.5\" y=\"-213.8\" font-family=\"futura\" font-size=\"14.00\">value = [0, 5]</text>\n",
       "<text text-anchor=\"middle\" x=\"412.5\" y=\"-198.8\" font-family=\"futura\" font-size=\"14.00\">class = moderate</text>\n",
       "</g>\n",
       "<!-- 1&#45;&gt;5 -->\n",
       "<g id=\"edge5\" class=\"edge\">\n",
       "<title>1&#45;&gt;5</title>\n",
       "<path fill=\"none\" stroke=\"black\" d=\"M307.36,-226.23C315.63,-226.13 324.17,-226.03 332.63,-225.93\"/>\n",
       "<polygon fill=\"black\" stroke=\"black\" points=\"332.93,-229.43 342.89,-225.81 332.85,-222.43 332.93,-229.43\"/>\n",
       "</g>\n",
       "<!-- 3 -->\n",
       "<g id=\"node4\" class=\"node\">\n",
       "<title>3</title>\n",
       "<path fill=\"#88c4ef\" stroke=\"black\" d=\"M645,-396C645,-396 530,-396 530,-396 524,-396 518,-390 518,-384 518,-384 518,-340 518,-340 518,-334 524,-328 530,-328 530,-328 645,-328 645,-328 651,-328 657,-334 657,-340 657,-340 657,-384 657,-384 657,-390 651,-396 645,-396\"/>\n",
       "<text text-anchor=\"middle\" x=\"587.5\" y=\"-380.8\" font-family=\"futura\" font-size=\"14.00\">gini = 0.408</text>\n",
       "<text text-anchor=\"middle\" x=\"587.5\" y=\"-365.8\" font-family=\"futura\" font-size=\"14.00\">samples = 14</text>\n",
       "<text text-anchor=\"middle\" x=\"587.5\" y=\"-350.8\" font-family=\"futura\" font-size=\"14.00\">value = [4, 10]</text>\n",
       "<text text-anchor=\"middle\" x=\"587.5\" y=\"-335.8\" font-family=\"futura\" font-size=\"14.00\">class = moderate</text>\n",
       "</g>\n",
       "<!-- 2&#45;&gt;3 -->\n",
       "<g id=\"edge3\" class=\"edge\">\n",
       "<title>2&#45;&gt;3</title>\n",
       "<path fill=\"none\" stroke=\"black\" d=\"M478.41,-335.13C488.05,-337.53 498.06,-340.02 507.94,-342.47\"/>\n",
       "<polygon fill=\"black\" stroke=\"black\" points=\"507.21,-345.9 517.75,-344.91 508.89,-339.1 507.21,-345.9\"/>\n",
       "</g>\n",
       "<!-- 4 -->\n",
       "<g id=\"node5\" class=\"node\">\n",
       "<title>4</title>\n",
       "<path fill=\"#f4c9ab\" stroke=\"black\" d=\"M641,-310C641,-310 534,-310 534,-310 528,-310 522,-304 522,-298 522,-298 522,-254 522,-254 522,-248 528,-242 534,-242 534,-242 641,-242 641,-242 647,-242 653,-248 653,-254 653,-254 653,-298 653,-298 653,-304 647,-310 641,-310\"/>\n",
       "<text text-anchor=\"middle\" x=\"587.5\" y=\"-294.8\" font-family=\"futura\" font-size=\"14.00\">gini = 0.464</text>\n",
       "<text text-anchor=\"middle\" x=\"587.5\" y=\"-279.8\" font-family=\"futura\" font-size=\"14.00\">samples = 63</text>\n",
       "<text text-anchor=\"middle\" x=\"587.5\" y=\"-264.8\" font-family=\"futura\" font-size=\"14.00\">value = [40, 23]</text>\n",
       "<text text-anchor=\"middle\" x=\"587.5\" y=\"-249.8\" font-family=\"futura\" font-size=\"14.00\">class = mild</text>\n",
       "</g>\n",
       "<!-- 2&#45;&gt;4 -->\n",
       "<g id=\"edge4\" class=\"edge\">\n",
       "<title>2&#45;&gt;4</title>\n",
       "<path fill=\"none\" stroke=\"black\" d=\"M478.41,-302.87C489.39,-300.14 500.86,-297.29 512.05,-294.5\"/>\n",
       "<polygon fill=\"black\" stroke=\"black\" points=\"512.94,-297.89 521.8,-292.08 511.25,-291.1 512.94,-297.89\"/>\n",
       "</g>\n",
       "<!-- 7 -->\n",
       "<g id=\"node8\" class=\"node\">\n",
       "<title>7</title>\n",
       "<path fill=\"#e78d4c\" stroke=\"black\" d=\"M461.5,-169.5C461.5,-169.5 363.5,-169.5 363.5,-169.5 357.5,-169.5 351.5,-163.5 351.5,-157.5 351.5,-157.5 351.5,-98.5 351.5,-98.5 351.5,-92.5 357.5,-86.5 363.5,-86.5 363.5,-86.5 461.5,-86.5 461.5,-86.5 467.5,-86.5 473.5,-92.5 473.5,-98.5 473.5,-98.5 473.5,-157.5 473.5,-157.5 473.5,-163.5 467.5,-169.5 461.5,-169.5\"/>\n",
       "<text text-anchor=\"middle\" x=\"412.5\" y=\"-154.3\" font-family=\"futura\" font-size=\"14.00\">M/F &lt;= 0.5</text>\n",
       "<text text-anchor=\"middle\" x=\"412.5\" y=\"-139.3\" font-family=\"futura\" font-size=\"14.00\">gini = 0.159</text>\n",
       "<text text-anchor=\"middle\" x=\"412.5\" y=\"-124.3\" font-family=\"futura\" font-size=\"14.00\">samples = 92</text>\n",
       "<text text-anchor=\"middle\" x=\"412.5\" y=\"-109.3\" font-family=\"futura\" font-size=\"14.00\">value = [84, 8]</text>\n",
       "<text text-anchor=\"middle\" x=\"412.5\" y=\"-94.3\" font-family=\"futura\" font-size=\"14.00\">class = mild</text>\n",
       "</g>\n",
       "<!-- 6&#45;&gt;7 -->\n",
       "<g id=\"edge7\" class=\"edge\">\n",
       "<title>6&#45;&gt;7</title>\n",
       "<path fill=\"none\" stroke=\"black\" d=\"M307.36,-126.77C318.4,-126.9 329.92,-127.03 341.1,-127.17\"/>\n",
       "<polygon fill=\"black\" stroke=\"black\" points=\"341.21,-130.67 351.25,-127.29 341.3,-123.67 341.21,-130.67\"/>\n",
       "</g>\n",
       "<!-- 10 -->\n",
       "<g id=\"node11\" class=\"node\">\n",
       "<title>10</title>\n",
       "<path fill=\"#399de5\" stroke=\"black\" d=\"M470,-68C470,-68 355,-68 355,-68 349,-68 343,-62 343,-56 343,-56 343,-12 343,-12 343,-6 349,0 355,0 355,0 470,0 470,0 476,0 482,-6 482,-12 482,-12 482,-56 482,-56 482,-62 476,-68 470,-68\"/>\n",
       "<text text-anchor=\"middle\" x=\"412.5\" y=\"-52.8\" font-family=\"futura\" font-size=\"14.00\">gini = 0.0</text>\n",
       "<text text-anchor=\"middle\" x=\"412.5\" y=\"-37.8\" font-family=\"futura\" font-size=\"14.00\">samples = 2</text>\n",
       "<text text-anchor=\"middle\" x=\"412.5\" y=\"-22.8\" font-family=\"futura\" font-size=\"14.00\">value = [0, 2]</text>\n",
       "<text text-anchor=\"middle\" x=\"412.5\" y=\"-7.8\" font-family=\"futura\" font-size=\"14.00\">class = moderate</text>\n",
       "</g>\n",
       "<!-- 6&#45;&gt;10 -->\n",
       "<g id=\"edge10\" class=\"edge\">\n",
       "<title>6&#45;&gt;10</title>\n",
       "<path fill=\"none\" stroke=\"black\" d=\"M307.36,-90.69C318.05,-84.87 329.18,-78.81 340.02,-72.91\"/>\n",
       "<polygon fill=\"black\" stroke=\"black\" points=\"341.93,-75.86 349.04,-68 338.59,-69.71 341.93,-75.86\"/>\n",
       "</g>\n",
       "<!-- 8 -->\n",
       "<g id=\"node9\" class=\"node\">\n",
       "<title>8</title>\n",
       "<path fill=\"#e6853f\" stroke=\"black\" d=\"M636.5,-171C636.5,-171 538.5,-171 538.5,-171 532.5,-171 526.5,-165 526.5,-159 526.5,-159 526.5,-115 526.5,-115 526.5,-109 532.5,-103 538.5,-103 538.5,-103 636.5,-103 636.5,-103 642.5,-103 648.5,-109 648.5,-115 648.5,-115 648.5,-159 648.5,-159 648.5,-165 642.5,-171 636.5,-171\"/>\n",
       "<text text-anchor=\"middle\" x=\"587.5\" y=\"-155.8\" font-family=\"futura\" font-size=\"14.00\">gini = 0.061</text>\n",
       "<text text-anchor=\"middle\" x=\"587.5\" y=\"-140.8\" font-family=\"futura\" font-size=\"14.00\">samples = 63</text>\n",
       "<text text-anchor=\"middle\" x=\"587.5\" y=\"-125.8\" font-family=\"futura\" font-size=\"14.00\">value = [61, 2]</text>\n",
       "<text text-anchor=\"middle\" x=\"587.5\" y=\"-110.8\" font-family=\"futura\" font-size=\"14.00\">class = mild</text>\n",
       "</g>\n",
       "<!-- 7&#45;&gt;8 -->\n",
       "<g id=\"edge8\" class=\"edge\">\n",
       "<title>7&#45;&gt;8</title>\n",
       "<path fill=\"none\" stroke=\"black\" d=\"M473.52,-131.12C487.26,-131.84 501.99,-132.6 516.13,-133.34\"/>\n",
       "<polygon fill=\"black\" stroke=\"black\" points=\"516.12,-136.84 526.29,-133.87 516.49,-129.85 516.12,-136.84\"/>\n",
       "</g>\n",
       "<!-- 9 -->\n",
       "<g id=\"node10\" class=\"node\">\n",
       "<title>9</title>\n",
       "<path fill=\"#eca26d\" stroke=\"black\" d=\"M636.5,-85C636.5,-85 538.5,-85 538.5,-85 532.5,-85 526.5,-79 526.5,-73 526.5,-73 526.5,-29 526.5,-29 526.5,-23 532.5,-17 538.5,-17 538.5,-17 636.5,-17 636.5,-17 642.5,-17 648.5,-23 648.5,-29 648.5,-29 648.5,-73 648.5,-73 648.5,-79 642.5,-85 636.5,-85\"/>\n",
       "<text text-anchor=\"middle\" x=\"587.5\" y=\"-69.8\" font-family=\"futura\" font-size=\"14.00\">gini = 0.328</text>\n",
       "<text text-anchor=\"middle\" x=\"587.5\" y=\"-54.8\" font-family=\"futura\" font-size=\"14.00\">samples = 29</text>\n",
       "<text text-anchor=\"middle\" x=\"587.5\" y=\"-39.8\" font-family=\"futura\" font-size=\"14.00\">value = [23, 6]</text>\n",
       "<text text-anchor=\"middle\" x=\"587.5\" y=\"-24.8\" font-family=\"futura\" font-size=\"14.00\">class = mild</text>\n",
       "</g>\n",
       "<!-- 7&#45;&gt;9 -->\n",
       "<g id=\"edge9\" class=\"edge\">\n",
       "<title>7&#45;&gt;9</title>\n",
       "<path fill=\"none\" stroke=\"black\" d=\"M473.52,-101.29C487.53,-95.05 502.57,-88.36 516.95,-81.96\"/>\n",
       "<polygon fill=\"black\" stroke=\"black\" points=\"518.58,-85.06 526.29,-77.8 515.73,-78.67 518.58,-85.06\"/>\n",
       "</g>\n",
       "</g>\n",
       "</svg>\n"
      ],
      "text/plain": [
       "<graphviz.sources.Source at 0x7f5989276760>"
      ]
     },
     "metadata": {},
     "output_type": "display_data"
    }
   ],
   "source": [
    "# Export model graph\n",
    "export_graphviz(tree_clf, out_file=\"oasis1_tree.dot\", \n",
    "                feature_names=X_scaled_test.columns,\n",
    "                class_names=['mild', 'moderate'], \n",
    "                rounded=True, filled=True, rotate = True, fontname = 'futura')\n",
    "\n",
    "# Import model graph\n",
    "with open(\"oasis1_tree.dot\") as f:\n",
    "    dot_graph = f.read()\n",
    "    display(graphviz.Source(dot_graph))"
   ]
  },
  {
   "cell_type": "code",
   "execution_count": null,
   "id": "cd4b1971",
   "metadata": {},
   "outputs": [],
   "source": []
  }
 ],
 "metadata": {
  "kernelspec": {
   "display_name": "Python 3 (ipykernel)",
   "language": "python",
   "name": "python3"
  },
  "language_info": {
   "codemirror_mode": {
    "name": "ipython",
    "version": 3
   },
   "file_extension": ".py",
   "mimetype": "text/x-python",
   "name": "python",
   "nbconvert_exporter": "python",
   "pygments_lexer": "ipython3",
   "version": "3.8.12"
  },
  "toc": {
   "base_numbering": 1,
   "nav_menu": {},
   "number_sections": true,
   "sideBar": true,
   "skip_h1_title": false,
   "title_cell": "Table of Contents",
   "title_sidebar": "Contents",
   "toc_cell": false,
   "toc_position": {},
   "toc_section_display": true,
   "toc_window_display": false
  }
 },
 "nbformat": 4,
 "nbformat_minor": 5
}
