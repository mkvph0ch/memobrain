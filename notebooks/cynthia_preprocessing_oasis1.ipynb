{
 "cells": [
  {
   "cell_type": "markdown",
   "id": "268b002b",
   "metadata": {},
   "source": [
    "# Preprocessing OASIS1"
   ]
  },
  {
   "cell_type": "code",
   "execution_count": 1,
   "id": "c1b2a9f2",
   "metadata": {},
   "outputs": [],
   "source": [
    "# IMPORTS\n",
    "# DATA MANIPULATION\n",
    "import pandas as pd\n",
    "import numpy as np\n",
    "\n",
    "# DATA VISUALISATION\n",
    "import matplotlib.pyplot as plt\n",
    "import seaborn as sns\n",
    "sns.set()\n",
    "from sklearn import set_config; set_config(display='diagram') # Visualize pipelines in HTML\n",
    "import graphviz\n",
    "from sklearn.tree import export_graphviz\n",
    "from sklearn import tree\n",
    "\n",
    "# MACHINE LEARNING\n",
    "from sklearn.preprocessing import StandardScaler, RobustScaler, MinMaxScaler\n",
    "from sklearn.preprocessing import OneHotEncoder, LabelEncoder, FunctionTransformer\n",
    "from sklearn.pipeline import Pipeline\n",
    "from sklearn.compose import ColumnTransformer\n",
    "from sklearn.model_selection import train_test_split, GridSearchCV\n",
    "from sklearn.tree import DecisionTreeRegressor, DecisionTreeClassifier\n",
    "from sklearn.neighbors import KNeighborsClassifier\n",
    "from sklearn.metrics import recall_score, confusion_matrix, ConfusionMatrixDisplay\n",
    "from sklearn.svm import SVC"
   ]
  },
  {
   "cell_type": "code",
   "execution_count": 2,
   "id": "3c4d731d",
   "metadata": {},
   "outputs": [],
   "source": [
    "# Importing Data\n",
    "oasis1_cs_path = '../raw_data/OASIS1/oasis_cross-sectional.csv'\n",
    "oasis1 = pd.read_csv(oasis1_cs_path)"
   ]
  },
  {
   "cell_type": "code",
   "execution_count": 3,
   "id": "3a526545",
   "metadata": {},
   "outputs": [
    {
     "data": {
      "text/plain": [
       "(436, 12)"
      ]
     },
     "execution_count": 3,
     "metadata": {},
     "output_type": "execute_result"
    }
   ],
   "source": [
    "# Checking shape\n",
    "oasis1.shape"
   ]
  },
  {
   "cell_type": "markdown",
   "id": "9eabf809",
   "metadata": {},
   "source": [
    "📜 <big> Note: </big>\n",
    "\n",
    "\n",
    "**CDR;** 0= nondemented; 0.5 – very mild dementia; 1 = mild dementia; 2 = moderate dementia\n",
    "\n",
    "**eTIV;** Estimated total intracranial volume (eTIV)\n",
    "\n",
    "**nWBV** Normalized whole brain volume\n",
    "\n",
    "**ASF;** Atlas scaling factor"
   ]
  },
  {
   "cell_type": "code",
   "execution_count": 4,
   "id": "c1cc74a3",
   "metadata": {},
   "outputs": [
    {
     "data": {
      "text/html": [
       "<div>\n",
       "<style scoped>\n",
       "    .dataframe tbody tr th:only-of-type {\n",
       "        vertical-align: middle;\n",
       "    }\n",
       "\n",
       "    .dataframe tbody tr th {\n",
       "        vertical-align: top;\n",
       "    }\n",
       "\n",
       "    .dataframe thead th {\n",
       "        text-align: right;\n",
       "    }\n",
       "</style>\n",
       "<table border=\"1\" class=\"dataframe\">\n",
       "  <thead>\n",
       "    <tr style=\"text-align: right;\">\n",
       "      <th></th>\n",
       "      <th>ID</th>\n",
       "      <th>M/F</th>\n",
       "      <th>Hand</th>\n",
       "      <th>Age</th>\n",
       "      <th>Educ</th>\n",
       "      <th>SES</th>\n",
       "      <th>MMSE</th>\n",
       "      <th>CDR</th>\n",
       "      <th>eTIV</th>\n",
       "      <th>nWBV</th>\n",
       "      <th>ASF</th>\n",
       "      <th>Delay</th>\n",
       "    </tr>\n",
       "  </thead>\n",
       "  <tbody>\n",
       "    <tr>\n",
       "      <th>119</th>\n",
       "      <td>OAS1_0129_MR1</td>\n",
       "      <td>M</td>\n",
       "      <td>R</td>\n",
       "      <td>18</td>\n",
       "      <td>NaN</td>\n",
       "      <td>NaN</td>\n",
       "      <td>NaN</td>\n",
       "      <td>NaN</td>\n",
       "      <td>1514</td>\n",
       "      <td>0.846</td>\n",
       "      <td>1.159</td>\n",
       "      <td>NaN</td>\n",
       "    </tr>\n",
       "    <tr>\n",
       "      <th>7</th>\n",
       "      <td>OAS1_0009_MR1</td>\n",
       "      <td>F</td>\n",
       "      <td>R</td>\n",
       "      <td>20</td>\n",
       "      <td>NaN</td>\n",
       "      <td>NaN</td>\n",
       "      <td>NaN</td>\n",
       "      <td>NaN</td>\n",
       "      <td>1505</td>\n",
       "      <td>0.843</td>\n",
       "      <td>1.166</td>\n",
       "      <td>NaN</td>\n",
       "    </tr>\n",
       "    <tr>\n",
       "      <th>69</th>\n",
       "      <td>OAS1_0074_MR1</td>\n",
       "      <td>M</td>\n",
       "      <td>R</td>\n",
       "      <td>43</td>\n",
       "      <td>4.0</td>\n",
       "      <td>NaN</td>\n",
       "      <td>30.0</td>\n",
       "      <td>0.0</td>\n",
       "      <td>1547</td>\n",
       "      <td>0.847</td>\n",
       "      <td>1.134</td>\n",
       "      <td>NaN</td>\n",
       "    </tr>\n",
       "    <tr>\n",
       "      <th>369</th>\n",
       "      <td>OAS1_0407_MR1</td>\n",
       "      <td>F</td>\n",
       "      <td>R</td>\n",
       "      <td>55</td>\n",
       "      <td>NaN</td>\n",
       "      <td>NaN</td>\n",
       "      <td>NaN</td>\n",
       "      <td>NaN</td>\n",
       "      <td>1434</td>\n",
       "      <td>0.807</td>\n",
       "      <td>1.224</td>\n",
       "      <td>NaN</td>\n",
       "    </tr>\n",
       "    <tr>\n",
       "      <th>73</th>\n",
       "      <td>OAS1_0078_MR1</td>\n",
       "      <td>F</td>\n",
       "      <td>R</td>\n",
       "      <td>64</td>\n",
       "      <td>3.0</td>\n",
       "      <td>2.0</td>\n",
       "      <td>30.0</td>\n",
       "      <td>0.0</td>\n",
       "      <td>1395</td>\n",
       "      <td>0.809</td>\n",
       "      <td>1.258</td>\n",
       "      <td>NaN</td>\n",
       "    </tr>\n",
       "    <tr>\n",
       "      <th>72</th>\n",
       "      <td>OAS1_0077_MR1</td>\n",
       "      <td>F</td>\n",
       "      <td>R</td>\n",
       "      <td>20</td>\n",
       "      <td>NaN</td>\n",
       "      <td>NaN</td>\n",
       "      <td>NaN</td>\n",
       "      <td>NaN</td>\n",
       "      <td>1537</td>\n",
       "      <td>0.852</td>\n",
       "      <td>1.142</td>\n",
       "      <td>NaN</td>\n",
       "    </tr>\n",
       "    <tr>\n",
       "      <th>87</th>\n",
       "      <td>OAS1_0094_MR1</td>\n",
       "      <td>F</td>\n",
       "      <td>R</td>\n",
       "      <td>66</td>\n",
       "      <td>2.0</td>\n",
       "      <td>3.0</td>\n",
       "      <td>30.0</td>\n",
       "      <td>0.5</td>\n",
       "      <td>1447</td>\n",
       "      <td>0.772</td>\n",
       "      <td>1.213</td>\n",
       "      <td>NaN</td>\n",
       "    </tr>\n",
       "    <tr>\n",
       "      <th>382</th>\n",
       "      <td>OAS1_0422_MR1</td>\n",
       "      <td>F</td>\n",
       "      <td>R</td>\n",
       "      <td>69</td>\n",
       "      <td>4.0</td>\n",
       "      <td>3.0</td>\n",
       "      <td>29.0</td>\n",
       "      <td>0.0</td>\n",
       "      <td>1380</td>\n",
       "      <td>0.809</td>\n",
       "      <td>1.272</td>\n",
       "      <td>NaN</td>\n",
       "    </tr>\n",
       "    <tr>\n",
       "      <th>159</th>\n",
       "      <td>OAS1_0173_MR1</td>\n",
       "      <td>M</td>\n",
       "      <td>R</td>\n",
       "      <td>35</td>\n",
       "      <td>NaN</td>\n",
       "      <td>NaN</td>\n",
       "      <td>NaN</td>\n",
       "      <td>NaN</td>\n",
       "      <td>1475</td>\n",
       "      <td>0.829</td>\n",
       "      <td>1.190</td>\n",
       "      <td>NaN</td>\n",
       "    </tr>\n",
       "    <tr>\n",
       "      <th>391</th>\n",
       "      <td>OAS1_0432_MR1</td>\n",
       "      <td>F</td>\n",
       "      <td>R</td>\n",
       "      <td>72</td>\n",
       "      <td>2.0</td>\n",
       "      <td>4.0</td>\n",
       "      <td>26.0</td>\n",
       "      <td>0.5</td>\n",
       "      <td>1453</td>\n",
       "      <td>0.773</td>\n",
       "      <td>1.208</td>\n",
       "      <td>NaN</td>\n",
       "    </tr>\n",
       "    <tr>\n",
       "      <th>116</th>\n",
       "      <td>OAS1_0125_MR1</td>\n",
       "      <td>F</td>\n",
       "      <td>R</td>\n",
       "      <td>22</td>\n",
       "      <td>NaN</td>\n",
       "      <td>NaN</td>\n",
       "      <td>NaN</td>\n",
       "      <td>NaN</td>\n",
       "      <td>1537</td>\n",
       "      <td>0.832</td>\n",
       "      <td>1.142</td>\n",
       "      <td>NaN</td>\n",
       "    </tr>\n",
       "    <tr>\n",
       "      <th>392</th>\n",
       "      <td>OAS1_0433_MR1</td>\n",
       "      <td>M</td>\n",
       "      <td>R</td>\n",
       "      <td>58</td>\n",
       "      <td>4.0</td>\n",
       "      <td>1.0</td>\n",
       "      <td>27.0</td>\n",
       "      <td>0.0</td>\n",
       "      <td>1606</td>\n",
       "      <td>0.779</td>\n",
       "      <td>1.093</td>\n",
       "      <td>NaN</td>\n",
       "    </tr>\n",
       "    <tr>\n",
       "      <th>177</th>\n",
       "      <td>OAS1_0193_MR1</td>\n",
       "      <td>F</td>\n",
       "      <td>R</td>\n",
       "      <td>23</td>\n",
       "      <td>NaN</td>\n",
       "      <td>NaN</td>\n",
       "      <td>NaN</td>\n",
       "      <td>NaN</td>\n",
       "      <td>1546</td>\n",
       "      <td>0.831</td>\n",
       "      <td>1.135</td>\n",
       "      <td>NaN</td>\n",
       "    </tr>\n",
       "    <tr>\n",
       "      <th>150</th>\n",
       "      <td>OAS1_0162_MR1</td>\n",
       "      <td>F</td>\n",
       "      <td>R</td>\n",
       "      <td>20</td>\n",
       "      <td>NaN</td>\n",
       "      <td>NaN</td>\n",
       "      <td>NaN</td>\n",
       "      <td>NaN</td>\n",
       "      <td>1219</td>\n",
       "      <td>0.872</td>\n",
       "      <td>1.440</td>\n",
       "      <td>NaN</td>\n",
       "    </tr>\n",
       "    <tr>\n",
       "      <th>105</th>\n",
       "      <td>OAS1_0113_MR1</td>\n",
       "      <td>F</td>\n",
       "      <td>R</td>\n",
       "      <td>83</td>\n",
       "      <td>2.0</td>\n",
       "      <td>2.0</td>\n",
       "      <td>29.0</td>\n",
       "      <td>0.0</td>\n",
       "      <td>1569</td>\n",
       "      <td>0.768</td>\n",
       "      <td>1.118</td>\n",
       "      <td>NaN</td>\n",
       "    </tr>\n",
       "    <tr>\n",
       "      <th>428</th>\n",
       "      <td>OAS1_0236_MR2</td>\n",
       "      <td>F</td>\n",
       "      <td>R</td>\n",
       "      <td>20</td>\n",
       "      <td>NaN</td>\n",
       "      <td>NaN</td>\n",
       "      <td>NaN</td>\n",
       "      <td>NaN</td>\n",
       "      <td>1222</td>\n",
       "      <td>0.872</td>\n",
       "      <td>1.436</td>\n",
       "      <td>3.0</td>\n",
       "    </tr>\n",
       "    <tr>\n",
       "      <th>0</th>\n",
       "      <td>OAS1_0001_MR1</td>\n",
       "      <td>F</td>\n",
       "      <td>R</td>\n",
       "      <td>74</td>\n",
       "      <td>2.0</td>\n",
       "      <td>3.0</td>\n",
       "      <td>29.0</td>\n",
       "      <td>0.0</td>\n",
       "      <td>1344</td>\n",
       "      <td>0.743</td>\n",
       "      <td>1.306</td>\n",
       "      <td>NaN</td>\n",
       "    </tr>\n",
       "    <tr>\n",
       "      <th>288</th>\n",
       "      <td>OAS1_0318_MR1</td>\n",
       "      <td>M</td>\n",
       "      <td>R</td>\n",
       "      <td>33</td>\n",
       "      <td>NaN</td>\n",
       "      <td>NaN</td>\n",
       "      <td>NaN</td>\n",
       "      <td>NaN</td>\n",
       "      <td>1634</td>\n",
       "      <td>0.836</td>\n",
       "      <td>1.074</td>\n",
       "      <td>NaN</td>\n",
       "    </tr>\n",
       "    <tr>\n",
       "      <th>193</th>\n",
       "      <td>OAS1_0211_MR1</td>\n",
       "      <td>M</td>\n",
       "      <td>R</td>\n",
       "      <td>20</td>\n",
       "      <td>NaN</td>\n",
       "      <td>NaN</td>\n",
       "      <td>NaN</td>\n",
       "      <td>NaN</td>\n",
       "      <td>1657</td>\n",
       "      <td>0.849</td>\n",
       "      <td>1.059</td>\n",
       "      <td>NaN</td>\n",
       "    </tr>\n",
       "    <tr>\n",
       "      <th>322</th>\n",
       "      <td>OAS1_0356_MR1</td>\n",
       "      <td>F</td>\n",
       "      <td>R</td>\n",
       "      <td>68</td>\n",
       "      <td>3.0</td>\n",
       "      <td>2.0</td>\n",
       "      <td>30.0</td>\n",
       "      <td>0.0</td>\n",
       "      <td>1506</td>\n",
       "      <td>0.740</td>\n",
       "      <td>1.165</td>\n",
       "      <td>NaN</td>\n",
       "    </tr>\n",
       "  </tbody>\n",
       "</table>\n",
       "</div>"
      ],
      "text/plain": [
       "                ID M/F Hand  Age  Educ  SES  MMSE  CDR  eTIV   nWBV    ASF  \\\n",
       "119  OAS1_0129_MR1   M    R   18   NaN  NaN   NaN  NaN  1514  0.846  1.159   \n",
       "7    OAS1_0009_MR1   F    R   20   NaN  NaN   NaN  NaN  1505  0.843  1.166   \n",
       "69   OAS1_0074_MR1   M    R   43   4.0  NaN  30.0  0.0  1547  0.847  1.134   \n",
       "369  OAS1_0407_MR1   F    R   55   NaN  NaN   NaN  NaN  1434  0.807  1.224   \n",
       "73   OAS1_0078_MR1   F    R   64   3.0  2.0  30.0  0.0  1395  0.809  1.258   \n",
       "72   OAS1_0077_MR1   F    R   20   NaN  NaN   NaN  NaN  1537  0.852  1.142   \n",
       "87   OAS1_0094_MR1   F    R   66   2.0  3.0  30.0  0.5  1447  0.772  1.213   \n",
       "382  OAS1_0422_MR1   F    R   69   4.0  3.0  29.0  0.0  1380  0.809  1.272   \n",
       "159  OAS1_0173_MR1   M    R   35   NaN  NaN   NaN  NaN  1475  0.829  1.190   \n",
       "391  OAS1_0432_MR1   F    R   72   2.0  4.0  26.0  0.5  1453  0.773  1.208   \n",
       "116  OAS1_0125_MR1   F    R   22   NaN  NaN   NaN  NaN  1537  0.832  1.142   \n",
       "392  OAS1_0433_MR1   M    R   58   4.0  1.0  27.0  0.0  1606  0.779  1.093   \n",
       "177  OAS1_0193_MR1   F    R   23   NaN  NaN   NaN  NaN  1546  0.831  1.135   \n",
       "150  OAS1_0162_MR1   F    R   20   NaN  NaN   NaN  NaN  1219  0.872  1.440   \n",
       "105  OAS1_0113_MR1   F    R   83   2.0  2.0  29.0  0.0  1569  0.768  1.118   \n",
       "428  OAS1_0236_MR2   F    R   20   NaN  NaN   NaN  NaN  1222  0.872  1.436   \n",
       "0    OAS1_0001_MR1   F    R   74   2.0  3.0  29.0  0.0  1344  0.743  1.306   \n",
       "288  OAS1_0318_MR1   M    R   33   NaN  NaN   NaN  NaN  1634  0.836  1.074   \n",
       "193  OAS1_0211_MR1   M    R   20   NaN  NaN   NaN  NaN  1657  0.849  1.059   \n",
       "322  OAS1_0356_MR1   F    R   68   3.0  2.0  30.0  0.0  1506  0.740  1.165   \n",
       "\n",
       "     Delay  \n",
       "119    NaN  \n",
       "7      NaN  \n",
       "69     NaN  \n",
       "369    NaN  \n",
       "73     NaN  \n",
       "72     NaN  \n",
       "87     NaN  \n",
       "382    NaN  \n",
       "159    NaN  \n",
       "391    NaN  \n",
       "116    NaN  \n",
       "392    NaN  \n",
       "177    NaN  \n",
       "150    NaN  \n",
       "105    NaN  \n",
       "428    3.0  \n",
       "0      NaN  \n",
       "288    NaN  \n",
       "193    NaN  \n",
       "322    NaN  "
      ]
     },
     "execution_count": 4,
     "metadata": {},
     "output_type": "execute_result"
    }
   ],
   "source": [
    "oasis1.sample(20)"
   ]
  },
  {
   "cell_type": "markdown",
   "id": "c5227931",
   "metadata": {},
   "source": [
    "## Data Preprocessing"
   ]
  },
  {
   "cell_type": "markdown",
   "id": "37b43d3a",
   "metadata": {},
   "source": [
    "**We want to define a function that:**\n",
    "\n",
    "1. Drops rows that have no values for CDR (prediction)\n",
    "2. Fills empty values for socioeconomic status with a value\n",
    "3. Replaces Male with 1 and Female with 0\n",
    "4. Converts CDR from 4 unique values to 2 unique values so that we now have a binary classification problem\n",
    "5. Drops columns Delay and Handedness"
   ]
  },
  {
   "cell_type": "code",
   "execution_count": 5,
   "id": "1b518097",
   "metadata": {},
   "outputs": [],
   "source": [
    "def preprocess_data(oasis1):\n",
    "    \"\"\"This function removes CDR rows containing NANs, \n",
    "    fills SES missing values with status 3,\n",
    "    encodes Male/Female M/F to 1 and 0,\n",
    "    and drops columns Delay and Hand.\"\"\"\n",
    "    \n",
    "    oasis1.dropna(subset = [\"CDR\"], inplace=True)\n",
    "    oasis1['SES'].fillna(value=3, inplace=True) # Socioeconomic status 3 means that participants went to 'some college'\n",
    "    oasis1['M/F'].replace({'F':0, 'M':1}, inplace = True) # Replaces M with 1 and F with 0\n",
    "    oasis1[\"CDR\"] = oasis1[\"CDR\"].apply(lambda x: 1 if x>0 else 0) # Converts CDR so that we now have a binary classification problem\n",
    "    oasis1.drop('Delay', inplace=True, axis=1)\n",
    "    oasis1.drop('Hand', inplace=True, axis=1)\n",
    "    \n",
    "    return oasis1"
   ]
  },
  {
   "cell_type": "code",
   "execution_count": 6,
   "id": "8ecaae80",
   "metadata": {},
   "outputs": [
    {
     "data": {
      "text/html": [
       "<div>\n",
       "<style scoped>\n",
       "    .dataframe tbody tr th:only-of-type {\n",
       "        vertical-align: middle;\n",
       "    }\n",
       "\n",
       "    .dataframe tbody tr th {\n",
       "        vertical-align: top;\n",
       "    }\n",
       "\n",
       "    .dataframe thead th {\n",
       "        text-align: right;\n",
       "    }\n",
       "</style>\n",
       "<table border=\"1\" class=\"dataframe\">\n",
       "  <thead>\n",
       "    <tr style=\"text-align: right;\">\n",
       "      <th></th>\n",
       "      <th>ID</th>\n",
       "      <th>M/F</th>\n",
       "      <th>Age</th>\n",
       "      <th>Educ</th>\n",
       "      <th>SES</th>\n",
       "      <th>MMSE</th>\n",
       "      <th>CDR</th>\n",
       "      <th>eTIV</th>\n",
       "      <th>nWBV</th>\n",
       "      <th>ASF</th>\n",
       "    </tr>\n",
       "  </thead>\n",
       "  <tbody>\n",
       "    <tr>\n",
       "      <th>0</th>\n",
       "      <td>OAS1_0001_MR1</td>\n",
       "      <td>0</td>\n",
       "      <td>74</td>\n",
       "      <td>2.0</td>\n",
       "      <td>3.0</td>\n",
       "      <td>29.0</td>\n",
       "      <td>0</td>\n",
       "      <td>1344</td>\n",
       "      <td>0.743</td>\n",
       "      <td>1.306</td>\n",
       "    </tr>\n",
       "    <tr>\n",
       "      <th>1</th>\n",
       "      <td>OAS1_0002_MR1</td>\n",
       "      <td>0</td>\n",
       "      <td>55</td>\n",
       "      <td>4.0</td>\n",
       "      <td>1.0</td>\n",
       "      <td>29.0</td>\n",
       "      <td>0</td>\n",
       "      <td>1147</td>\n",
       "      <td>0.810</td>\n",
       "      <td>1.531</td>\n",
       "    </tr>\n",
       "    <tr>\n",
       "      <th>2</th>\n",
       "      <td>OAS1_0003_MR1</td>\n",
       "      <td>0</td>\n",
       "      <td>73</td>\n",
       "      <td>4.0</td>\n",
       "      <td>3.0</td>\n",
       "      <td>27.0</td>\n",
       "      <td>1</td>\n",
       "      <td>1454</td>\n",
       "      <td>0.708</td>\n",
       "      <td>1.207</td>\n",
       "    </tr>\n",
       "    <tr>\n",
       "      <th>8</th>\n",
       "      <td>OAS1_0010_MR1</td>\n",
       "      <td>1</td>\n",
       "      <td>74</td>\n",
       "      <td>5.0</td>\n",
       "      <td>2.0</td>\n",
       "      <td>30.0</td>\n",
       "      <td>0</td>\n",
       "      <td>1636</td>\n",
       "      <td>0.689</td>\n",
       "      <td>1.073</td>\n",
       "    </tr>\n",
       "    <tr>\n",
       "      <th>9</th>\n",
       "      <td>OAS1_0011_MR1</td>\n",
       "      <td>0</td>\n",
       "      <td>52</td>\n",
       "      <td>3.0</td>\n",
       "      <td>2.0</td>\n",
       "      <td>30.0</td>\n",
       "      <td>0</td>\n",
       "      <td>1321</td>\n",
       "      <td>0.827</td>\n",
       "      <td>1.329</td>\n",
       "    </tr>\n",
       "    <tr>\n",
       "      <th>...</th>\n",
       "      <td>...</td>\n",
       "      <td>...</td>\n",
       "      <td>...</td>\n",
       "      <td>...</td>\n",
       "      <td>...</td>\n",
       "      <td>...</td>\n",
       "      <td>...</td>\n",
       "      <td>...</td>\n",
       "      <td>...</td>\n",
       "      <td>...</td>\n",
       "    </tr>\n",
       "    <tr>\n",
       "      <th>411</th>\n",
       "      <td>OAS1_0453_MR1</td>\n",
       "      <td>0</td>\n",
       "      <td>70</td>\n",
       "      <td>1.0</td>\n",
       "      <td>4.0</td>\n",
       "      <td>29.0</td>\n",
       "      <td>1</td>\n",
       "      <td>1295</td>\n",
       "      <td>0.748</td>\n",
       "      <td>1.355</td>\n",
       "    </tr>\n",
       "    <tr>\n",
       "      <th>412</th>\n",
       "      <td>OAS1_0454_MR1</td>\n",
       "      <td>0</td>\n",
       "      <td>73</td>\n",
       "      <td>3.0</td>\n",
       "      <td>2.0</td>\n",
       "      <td>23.0</td>\n",
       "      <td>1</td>\n",
       "      <td>1536</td>\n",
       "      <td>0.730</td>\n",
       "      <td>1.142</td>\n",
       "    </tr>\n",
       "    <tr>\n",
       "      <th>413</th>\n",
       "      <td>OAS1_0455_MR1</td>\n",
       "      <td>0</td>\n",
       "      <td>61</td>\n",
       "      <td>2.0</td>\n",
       "      <td>4.0</td>\n",
       "      <td>28.0</td>\n",
       "      <td>0</td>\n",
       "      <td>1354</td>\n",
       "      <td>0.825</td>\n",
       "      <td>1.297</td>\n",
       "    </tr>\n",
       "    <tr>\n",
       "      <th>414</th>\n",
       "      <td>OAS1_0456_MR1</td>\n",
       "      <td>1</td>\n",
       "      <td>61</td>\n",
       "      <td>5.0</td>\n",
       "      <td>2.0</td>\n",
       "      <td>30.0</td>\n",
       "      <td>0</td>\n",
       "      <td>1637</td>\n",
       "      <td>0.780</td>\n",
       "      <td>1.072</td>\n",
       "    </tr>\n",
       "    <tr>\n",
       "      <th>415</th>\n",
       "      <td>OAS1_0457_MR1</td>\n",
       "      <td>0</td>\n",
       "      <td>62</td>\n",
       "      <td>3.0</td>\n",
       "      <td>3.0</td>\n",
       "      <td>26.0</td>\n",
       "      <td>0</td>\n",
       "      <td>1372</td>\n",
       "      <td>0.766</td>\n",
       "      <td>1.279</td>\n",
       "    </tr>\n",
       "  </tbody>\n",
       "</table>\n",
       "<p>235 rows × 10 columns</p>\n",
       "</div>"
      ],
      "text/plain": [
       "                ID  M/F  Age  Educ  SES  MMSE  CDR  eTIV   nWBV    ASF\n",
       "0    OAS1_0001_MR1    0   74   2.0  3.0  29.0    0  1344  0.743  1.306\n",
       "1    OAS1_0002_MR1    0   55   4.0  1.0  29.0    0  1147  0.810  1.531\n",
       "2    OAS1_0003_MR1    0   73   4.0  3.0  27.0    1  1454  0.708  1.207\n",
       "8    OAS1_0010_MR1    1   74   5.0  2.0  30.0    0  1636  0.689  1.073\n",
       "9    OAS1_0011_MR1    0   52   3.0  2.0  30.0    0  1321  0.827  1.329\n",
       "..             ...  ...  ...   ...  ...   ...  ...   ...    ...    ...\n",
       "411  OAS1_0453_MR1    0   70   1.0  4.0  29.0    1  1295  0.748  1.355\n",
       "412  OAS1_0454_MR1    0   73   3.0  2.0  23.0    1  1536  0.730  1.142\n",
       "413  OAS1_0455_MR1    0   61   2.0  4.0  28.0    0  1354  0.825  1.297\n",
       "414  OAS1_0456_MR1    1   61   5.0  2.0  30.0    0  1637  0.780  1.072\n",
       "415  OAS1_0457_MR1    0   62   3.0  3.0  26.0    0  1372  0.766  1.279\n",
       "\n",
       "[235 rows x 10 columns]"
      ]
     },
     "execution_count": 6,
     "metadata": {},
     "output_type": "execute_result"
    }
   ],
   "source": [
    "preprocess_data(oasis1)"
   ]
  },
  {
   "cell_type": "markdown",
   "id": "4e5ff483",
   "metadata": {
    "heading_collapsed": true
   },
   "source": [
    "### Testing my code"
   ]
  },
  {
   "cell_type": "code",
   "execution_count": 7,
   "id": "75430f7d",
   "metadata": {
    "hidden": true
   },
   "outputs": [
    {
     "data": {
      "text/plain": [
       "(235, 10)"
      ]
     },
     "execution_count": 7,
     "metadata": {},
     "output_type": "execute_result"
    }
   ],
   "source": [
    "# Check shape again\n",
    "oasis1.shape"
   ]
  },
  {
   "cell_type": "code",
   "execution_count": 8,
   "id": "3a833c5c",
   "metadata": {
    "hidden": true
   },
   "outputs": [
    {
     "data": {
      "image/png": "[encoded data removed]",
      "text/plain": [
       "<Figure size 432x288 with 1 Axes>"
      ]
     },
     "metadata": {},
     "output_type": "display_data"
    }
   ],
   "source": [
    "# Education is not normally distrbuted\n",
    "sns.histplot(oasis1.Educ,kde = True, color = 'c');"
   ]
  },
  {
   "cell_type": "code",
   "execution_count": 9,
   "id": "9299937d",
   "metadata": {
    "hidden": true
   },
   "outputs": [
    {
     "data": {
      "text/plain": [
       "array([0, 1])"
      ]
     },
     "execution_count": 9,
     "metadata": {},
     "output_type": "execute_result"
    }
   ],
   "source": [
    "# Check whether NANs are still here\n",
    "oasis1.CDR.unique()"
   ]
  },
  {
   "cell_type": "code",
   "execution_count": 10,
   "id": "cf163c5a",
   "metadata": {
    "hidden": true
   },
   "outputs": [
    {
     "data": {
      "text/plain": [
       "array([3., 1., 2., 4., 5.])"
      ]
     },
     "execution_count": 10,
     "metadata": {},
     "output_type": "execute_result"
    }
   ],
   "source": [
    "# Check SES column\n",
    "oasis1.SES.unique()"
   ]
  },
  {
   "cell_type": "code",
   "execution_count": 11,
   "id": "26487502",
   "metadata": {
    "hidden": true
   },
   "outputs": [
    {
     "data": {
      "text/plain": [
       "0      0\n",
       "1      0\n",
       "2      0\n",
       "8      1\n",
       "9      0\n",
       "      ..\n",
       "411    0\n",
       "412    0\n",
       "413    0\n",
       "414    1\n",
       "415    0\n",
       "Name: M/F, Length: 235, dtype: int64"
      ]
     },
     "execution_count": 11,
     "metadata": {},
     "output_type": "execute_result"
    }
   ],
   "source": [
    "# Check M/F column\n",
    "oasis1['M/F']"
   ]
  },
  {
   "cell_type": "code",
   "execution_count": 12,
   "id": "25c5d781",
   "metadata": {
    "hidden": true
   },
   "outputs": [],
   "source": [
    "# def gender_encoding(i):\n",
    "#     \"\"\"This function returns 0 for F and 1 for M\"\"\"\n",
    "#     return i.map({'F':0, 'M':1})"
   ]
  },
  {
   "cell_type": "markdown",
   "id": "2ce64475",
   "metadata": {},
   "source": [
    "## Defining variables"
   ]
  },
  {
   "cell_type": "code",
   "execution_count": 13,
   "id": "ae794d60",
   "metadata": {},
   "outputs": [],
   "source": [
    "X = oasis1.drop(columns = ['CDR', 'ID'])\n",
    "y = oasis1['CDR']"
   ]
  },
  {
   "cell_type": "markdown",
   "id": "929025e4",
   "metadata": {},
   "source": [
    "## Preprocessing pipeline"
   ]
  },
  {
   "cell_type": "markdown",
   "id": "091f5cda",
   "metadata": {},
   "source": [
    "📜 Note: columns **nWBV and ASF** already normalized\n",
    " \n",
    " According to visualizations in file 'Demographic_visual.ipynb', we decided to scale as follows:\n",
    " \n",
    "**Columns to scale:**\n",
    "\n",
    "Standard Scale: age\n",
    "\n",
    "Robust Scale: eTIV, MMSE\n",
    "\n",
    "MinMax Scale: Educ"
   ]
  },
  {
   "cell_type": "code",
   "execution_count": 14,
   "id": "8cb646c8",
   "metadata": {},
   "outputs": [
    {
     "data": {
      "text/html": [
       "<style>#sk-5170cb2f-5290-4849-bf6d-7a2b51c3d154 {color: black;background-color: white;}#sk-5170cb2f-5290-4849-bf6d-7a2b51c3d154 pre{padding: 0;}#sk-5170cb2f-5290-4849-bf6d-7a2b51c3d154 div.sk-toggleable {background-color: white;}#sk-5170cb2f-5290-4849-bf6d-7a2b51c3d154 label.sk-toggleable__label {cursor: pointer;display: block;width: 100%;margin-bottom: 0;padding: 0.3em;box-sizing: border-box;text-align: center;}#sk-5170cb2f-5290-4849-bf6d-7a2b51c3d154 label.sk-toggleable__label-arrow:before {content: \"▸\";float: left;margin-right: 0.25em;color: #696969;}#sk-5170cb2f-5290-4849-bf6d-7a2b51c3d154 label.sk-toggleable__label-arrow:hover:before {color: black;}#sk-5170cb2f-5290-4849-bf6d-7a2b51c3d154 div.sk-estimator:hover label.sk-toggleable__label-arrow:before {color: black;}#sk-5170cb2f-5290-4849-bf6d-7a2b51c3d154 div.sk-toggleable__content {max-height: 0;max-width: 0;overflow: hidden;text-align: left;background-color: #f0f8ff;}#sk-5170cb2f-5290-4849-bf6d-7a2b51c3d154 div.sk-toggleable__content pre {margin: 0.2em;color: black;border-radius: 0.25em;background-color: #f0f8ff;}#sk-5170cb2f-5290-4849-bf6d-7a2b51c3d154 input.sk-toggleable__control:checked~div.sk-toggleable__content {max-height: 200px;max-width: 100%;overflow: auto;}#sk-5170cb2f-5290-4849-bf6d-7a2b51c3d154 input.sk-toggleable__control:checked~label.sk-toggleable__label-arrow:before {content: \"▾\";}#sk-5170cb2f-5290-4849-bf6d-7a2b51c3d154 div.sk-estimator input.sk-toggleable__control:checked~label.sk-toggleable__label {background-color: #d4ebff;}#sk-5170cb2f-5290-4849-bf6d-7a2b51c3d154 div.sk-label input.sk-toggleable__control:checked~label.sk-toggleable__label {background-color: #d4ebff;}#sk-5170cb2f-5290-4849-bf6d-7a2b51c3d154 input.sk-hidden--visually {border: 0;clip: rect(1px 1px 1px 1px);clip: rect(1px, 1px, 1px, 1px);height: 1px;margin: -1px;overflow: hidden;padding: 0;position: absolute;width: 1px;}#sk-5170cb2f-5290-4849-bf6d-7a2b51c3d154 div.sk-estimator {font-family: monospace;background-color: #f0f8ff;border: 1px dotted black;border-radius: 0.25em;box-sizing: border-box;margin-bottom: 0.5em;}#sk-5170cb2f-5290-4849-bf6d-7a2b51c3d154 div.sk-estimator:hover {background-color: #d4ebff;}#sk-5170cb2f-5290-4849-bf6d-7a2b51c3d154 div.sk-parallel-item::after {content: \"\";width: 100%;border-bottom: 1px solid gray;flex-grow: 1;}#sk-5170cb2f-5290-4849-bf6d-7a2b51c3d154 div.sk-label:hover label.sk-toggleable__label {background-color: #d4ebff;}#sk-5170cb2f-5290-4849-bf6d-7a2b51c3d154 div.sk-serial::before {content: \"\";position: absolute;border-left: 1px solid gray;box-sizing: border-box;top: 2em;bottom: 0;left: 50%;}#sk-5170cb2f-5290-4849-bf6d-7a2b51c3d154 div.sk-serial {display: flex;flex-direction: column;align-items: center;background-color: white;padding-right: 0.2em;padding-left: 0.2em;}#sk-5170cb2f-5290-4849-bf6d-7a2b51c3d154 div.sk-item {z-index: 1;}#sk-5170cb2f-5290-4849-bf6d-7a2b51c3d154 div.sk-parallel {display: flex;align-items: stretch;justify-content: center;background-color: white;}#sk-5170cb2f-5290-4849-bf6d-7a2b51c3d154 div.sk-parallel::before {content: \"\";position: absolute;border-left: 1px solid gray;box-sizing: border-box;top: 2em;bottom: 0;left: 50%;}#sk-5170cb2f-5290-4849-bf6d-7a2b51c3d154 div.sk-parallel-item {display: flex;flex-direction: column;position: relative;background-color: white;}#sk-5170cb2f-5290-4849-bf6d-7a2b51c3d154 div.sk-parallel-item:first-child::after {align-self: flex-end;width: 50%;}#sk-5170cb2f-5290-4849-bf6d-7a2b51c3d154 div.sk-parallel-item:last-child::after {align-self: flex-start;width: 50%;}#sk-5170cb2f-5290-4849-bf6d-7a2b51c3d154 div.sk-parallel-item:only-child::after {width: 0;}#sk-5170cb2f-5290-4849-bf6d-7a2b51c3d154 div.sk-dashed-wrapped {border: 1px dashed gray;margin: 0 0.4em 0.5em 0.4em;box-sizing: border-box;padding-bottom: 0.4em;background-color: white;position: relative;}#sk-5170cb2f-5290-4849-bf6d-7a2b51c3d154 div.sk-label label {font-family: monospace;font-weight: bold;background-color: white;display: inline-block;line-height: 1.2em;}#sk-5170cb2f-5290-4849-bf6d-7a2b51c3d154 div.sk-label-container {position: relative;z-index: 2;text-align: center;}#sk-5170cb2f-5290-4849-bf6d-7a2b51c3d154 div.sk-container {/* jupyter's `normalize.less` sets `[hidden] { display: none; }` but bootstrap.min.css set `[hidden] { display: none !important; }` so we also need the `!important` here to be able to override the default hidden behavior on the sphinx rendered scikit-learn.org. See: https://github.com/scikit-learn/scikit-learn/issues/21755 */display: inline-block !important;position: relative;}#sk-5170cb2f-5290-4849-bf6d-7a2b51c3d154 div.sk-text-repr-fallback {display: none;}</style><div id=\"sk-5170cb2f-5290-4849-bf6d-7a2b51c3d154\" class=\"sk-top-container\"><div class=\"sk-text-repr-fallback\"><pre>ColumnTransformer(remainder=&#x27;passthrough&#x27;,\n",
       "                  transformers=[(&#x27;standard_scaler&#x27;, StandardScaler(), [&#x27;Age&#x27;]),\n",
       "                                (&#x27;robust_scaler&#x27;, RobustScaler(),\n",
       "                                 [&#x27;eTIV&#x27;, &#x27;MMSE&#x27;]),\n",
       "                                (&#x27;minmax_scaler&#x27;, MinMaxScaler(), [&#x27;Educ&#x27;])])</pre><b>Please rerun this cell to show the HTML repr or trust the notebook.</b></div><div class=\"sk-container\" hidden><div class=\"sk-item sk-dashed-wrapped\"><div class=\"sk-label-container\"><div class=\"sk-label sk-toggleable\"><input class=\"sk-toggleable__control sk-hidden--visually\" id=\"34d205c0-37ee-412d-a901-3889ef4d39fe\" type=\"checkbox\" ><label for=\"34d205c0-37ee-412d-a901-3889ef4d39fe\" class=\"sk-toggleable__label sk-toggleable__label-arrow\">ColumnTransformer</label><div class=\"sk-toggleable__content\"><pre>ColumnTransformer(remainder=&#x27;passthrough&#x27;,\n",
       "                  transformers=[(&#x27;standard_scaler&#x27;, StandardScaler(), [&#x27;Age&#x27;]),\n",
       "                                (&#x27;robust_scaler&#x27;, RobustScaler(),\n",
       "                                 [&#x27;eTIV&#x27;, &#x27;MMSE&#x27;]),\n",
       "                                (&#x27;minmax_scaler&#x27;, MinMaxScaler(), [&#x27;Educ&#x27;])])</pre></div></div></div><div class=\"sk-parallel\"><div class=\"sk-parallel-item\"><div class=\"sk-item\"><div class=\"sk-label-container\"><div class=\"sk-label sk-toggleable\"><input class=\"sk-toggleable__control sk-hidden--visually\" id=\"a81a05b6-c540-4732-ac09-078647e98b4e\" type=\"checkbox\" ><label for=\"a81a05b6-c540-4732-ac09-078647e98b4e\" class=\"sk-toggleable__label sk-toggleable__label-arrow\">standard_scaler</label><div class=\"sk-toggleable__content\"><pre>[&#x27;Age&#x27;]</pre></div></div></div><div class=\"sk-serial\"><div class=\"sk-item\"><div class=\"sk-estimator sk-toggleable\"><input class=\"sk-toggleable__control sk-hidden--visually\" id=\"1c7df9a5-24e8-4b9b-82a1-927dbb9336db\" type=\"checkbox\" ><label for=\"1c7df9a5-24e8-4b9b-82a1-927dbb9336db\" class=\"sk-toggleable__label sk-toggleable__label-arrow\">StandardScaler</label><div class=\"sk-toggleable__content\"><pre>StandardScaler()</pre></div></div></div></div></div></div><div class=\"sk-parallel-item\"><div class=\"sk-item\"><div class=\"sk-label-container\"><div class=\"sk-label sk-toggleable\"><input class=\"sk-toggleable__control sk-hidden--visually\" id=\"79ea280a-7a0a-4981-a101-aa3e5a272c8e\" type=\"checkbox\" ><label for=\"79ea280a-7a0a-4981-a101-aa3e5a272c8e\" class=\"sk-toggleable__label sk-toggleable__label-arrow\">robust_scaler</label><div class=\"sk-toggleable__content\"><pre>[&#x27;eTIV&#x27;, &#x27;MMSE&#x27;]</pre></div></div></div><div class=\"sk-serial\"><div class=\"sk-item\"><div class=\"sk-estimator sk-toggleable\"><input class=\"sk-toggleable__control sk-hidden--visually\" id=\"f30430d1-a775-4e66-b6e1-0cbb4334450f\" type=\"checkbox\" ><label for=\"f30430d1-a775-4e66-b6e1-0cbb4334450f\" class=\"sk-toggleable__label sk-toggleable__label-arrow\">RobustScaler</label><div class=\"sk-toggleable__content\"><pre>RobustScaler()</pre></div></div></div></div></div></div><div class=\"sk-parallel-item\"><div class=\"sk-item\"><div class=\"sk-label-container\"><div class=\"sk-label sk-toggleable\"><input class=\"sk-toggleable__control sk-hidden--visually\" id=\"4c5e22e7-6f58-4c8a-9b12-ea3f3404fdd9\" type=\"checkbox\" ><label for=\"4c5e22e7-6f58-4c8a-9b12-ea3f3404fdd9\" class=\"sk-toggleable__label sk-toggleable__label-arrow\">minmax_scaler</label><div class=\"sk-toggleable__content\"><pre>[&#x27;Educ&#x27;]</pre></div></div></div><div class=\"sk-serial\"><div class=\"sk-item\"><div class=\"sk-estimator sk-toggleable\"><input class=\"sk-toggleable__control sk-hidden--visually\" id=\"bbf519a8-74e9-4404-80de-3faa936d6a87\" type=\"checkbox\" ><label for=\"bbf519a8-74e9-4404-80de-3faa936d6a87\" class=\"sk-toggleable__label sk-toggleable__label-arrow\">MinMaxScaler</label><div class=\"sk-toggleable__content\"><pre>MinMaxScaler()</pre></div></div></div></div></div></div><div class=\"sk-parallel-item\"><div class=\"sk-item\"><div class=\"sk-label-container\"><div class=\"sk-label sk-toggleable\"><input class=\"sk-toggleable__control sk-hidden--visually\" id=\"f1936432-7d90-425a-8b58-d71bd14ee751\" type=\"checkbox\" ><label for=\"f1936432-7d90-425a-8b58-d71bd14ee751\" class=\"sk-toggleable__label sk-toggleable__label-arrow\">remainder</label><div class=\"sk-toggleable__content\"><pre></pre></div></div></div><div class=\"sk-serial\"><div class=\"sk-item\"><div class=\"sk-estimator sk-toggleable\"><input class=\"sk-toggleable__control sk-hidden--visually\" id=\"1167bf4c-6e71-482d-8448-6f752dfda4b2\" type=\"checkbox\" ><label for=\"1167bf4c-6e71-482d-8448-6f752dfda4b2\" class=\"sk-toggleable__label sk-toggleable__label-arrow\">passthrough</label><div class=\"sk-toggleable__content\"><pre>passthrough</pre></div></div></div></div></div></div></div></div></div></div>"
      ],
      "text/plain": [
       "ColumnTransformer(remainder='passthrough',\n",
       "                  transformers=[('standard_scaler', StandardScaler(), ['Age']),\n",
       "                                ('robust_scaler', RobustScaler(),\n",
       "                                 ['eTIV', 'MMSE']),\n",
       "                                ('minmax_scaler', MinMaxScaler(), ['Educ'])])"
      ]
     },
     "execution_count": 14,
     "metadata": {},
     "output_type": "execute_result"
    }
   ],
   "source": [
    "# Transformer for numerical features\n",
    "\n",
    "def numerical_transformer():\n",
    "    \"\"\"This function transforms all numerical features according to their respective scalers\n",
    "    \"\"\"\n",
    "    standard_features = ['Age']\n",
    "    robust_features = ['eTIV', 'MMSE']\n",
    "    minmax_features = ['Educ']\n",
    "    numeric_transformer = ColumnTransformer([\n",
    "        ('standard_scaler', StandardScaler(), standard_features),\n",
    "        ('robust_scaler', RobustScaler(), robust_features),\n",
    "        ('minmax_scaler', MinMaxScaler(), minmax_features),\n",
    "         ], remainder = 'passthrough')\n",
    "    \n",
    "    return numeric_transformer\n",
    "numeric_transformer = numerical_transformer()\n",
    "numeric_transformer"
   ]
  },
  {
   "cell_type": "code",
   "execution_count": 15,
   "id": "f4d94452",
   "metadata": {},
   "outputs": [
    {
     "data": {
      "text/html": [
       "<style>#sk-d03f86d3-7c7d-47c8-ad06-6944d41bd049 {color: black;background-color: white;}#sk-d03f86d3-7c7d-47c8-ad06-6944d41bd049 pre{padding: 0;}#sk-d03f86d3-7c7d-47c8-ad06-6944d41bd049 div.sk-toggleable {background-color: white;}#sk-d03f86d3-7c7d-47c8-ad06-6944d41bd049 label.sk-toggleable__label {cursor: pointer;display: block;width: 100%;margin-bottom: 0;padding: 0.3em;box-sizing: border-box;text-align: center;}#sk-d03f86d3-7c7d-47c8-ad06-6944d41bd049 label.sk-toggleable__label-arrow:before {content: \"▸\";float: left;margin-right: 0.25em;color: #696969;}#sk-d03f86d3-7c7d-47c8-ad06-6944d41bd049 label.sk-toggleable__label-arrow:hover:before {color: black;}#sk-d03f86d3-7c7d-47c8-ad06-6944d41bd049 div.sk-estimator:hover label.sk-toggleable__label-arrow:before {color: black;}#sk-d03f86d3-7c7d-47c8-ad06-6944d41bd049 div.sk-toggleable__content {max-height: 0;max-width: 0;overflow: hidden;text-align: left;background-color: #f0f8ff;}#sk-d03f86d3-7c7d-47c8-ad06-6944d41bd049 div.sk-toggleable__content pre {margin: 0.2em;color: black;border-radius: 0.25em;background-color: #f0f8ff;}#sk-d03f86d3-7c7d-47c8-ad06-6944d41bd049 input.sk-toggleable__control:checked~div.sk-toggleable__content {max-height: 200px;max-width: 100%;overflow: auto;}#sk-d03f86d3-7c7d-47c8-ad06-6944d41bd049 input.sk-toggleable__control:checked~label.sk-toggleable__label-arrow:before {content: \"▾\";}#sk-d03f86d3-7c7d-47c8-ad06-6944d41bd049 div.sk-estimator input.sk-toggleable__control:checked~label.sk-toggleable__label {background-color: #d4ebff;}#sk-d03f86d3-7c7d-47c8-ad06-6944d41bd049 div.sk-label input.sk-toggleable__control:checked~label.sk-toggleable__label {background-color: #d4ebff;}#sk-d03f86d3-7c7d-47c8-ad06-6944d41bd049 input.sk-hidden--visually {border: 0;clip: rect(1px 1px 1px 1px);clip: rect(1px, 1px, 1px, 1px);height: 1px;margin: -1px;overflow: hidden;padding: 0;position: absolute;width: 1px;}#sk-d03f86d3-7c7d-47c8-ad06-6944d41bd049 div.sk-estimator {font-family: monospace;background-color: #f0f8ff;border: 1px dotted black;border-radius: 0.25em;box-sizing: border-box;margin-bottom: 0.5em;}#sk-d03f86d3-7c7d-47c8-ad06-6944d41bd049 div.sk-estimator:hover {background-color: #d4ebff;}#sk-d03f86d3-7c7d-47c8-ad06-6944d41bd049 div.sk-parallel-item::after {content: \"\";width: 100%;border-bottom: 1px solid gray;flex-grow: 1;}#sk-d03f86d3-7c7d-47c8-ad06-6944d41bd049 div.sk-label:hover label.sk-toggleable__label {background-color: #d4ebff;}#sk-d03f86d3-7c7d-47c8-ad06-6944d41bd049 div.sk-serial::before {content: \"\";position: absolute;border-left: 1px solid gray;box-sizing: border-box;top: 2em;bottom: 0;left: 50%;}#sk-d03f86d3-7c7d-47c8-ad06-6944d41bd049 div.sk-serial {display: flex;flex-direction: column;align-items: center;background-color: white;padding-right: 0.2em;padding-left: 0.2em;}#sk-d03f86d3-7c7d-47c8-ad06-6944d41bd049 div.sk-item {z-index: 1;}#sk-d03f86d3-7c7d-47c8-ad06-6944d41bd049 div.sk-parallel {display: flex;align-items: stretch;justify-content: center;background-color: white;}#sk-d03f86d3-7c7d-47c8-ad06-6944d41bd049 div.sk-parallel::before {content: \"\";position: absolute;border-left: 1px solid gray;box-sizing: border-box;top: 2em;bottom: 0;left: 50%;}#sk-d03f86d3-7c7d-47c8-ad06-6944d41bd049 div.sk-parallel-item {display: flex;flex-direction: column;position: relative;background-color: white;}#sk-d03f86d3-7c7d-47c8-ad06-6944d41bd049 div.sk-parallel-item:first-child::after {align-self: flex-end;width: 50%;}#sk-d03f86d3-7c7d-47c8-ad06-6944d41bd049 div.sk-parallel-item:last-child::after {align-self: flex-start;width: 50%;}#sk-d03f86d3-7c7d-47c8-ad06-6944d41bd049 div.sk-parallel-item:only-child::after {width: 0;}#sk-d03f86d3-7c7d-47c8-ad06-6944d41bd049 div.sk-dashed-wrapped {border: 1px dashed gray;margin: 0 0.4em 0.5em 0.4em;box-sizing: border-box;padding-bottom: 0.4em;background-color: white;position: relative;}#sk-d03f86d3-7c7d-47c8-ad06-6944d41bd049 div.sk-label label {font-family: monospace;font-weight: bold;background-color: white;display: inline-block;line-height: 1.2em;}#sk-d03f86d3-7c7d-47c8-ad06-6944d41bd049 div.sk-label-container {position: relative;z-index: 2;text-align: center;}#sk-d03f86d3-7c7d-47c8-ad06-6944d41bd049 div.sk-container {/* jupyter's `normalize.less` sets `[hidden] { display: none; }` but bootstrap.min.css set `[hidden] { display: none !important; }` so we also need the `!important` here to be able to override the default hidden behavior on the sphinx rendered scikit-learn.org. See: https://github.com/scikit-learn/scikit-learn/issues/21755 */display: inline-block !important;position: relative;}#sk-d03f86d3-7c7d-47c8-ad06-6944d41bd049 div.sk-text-repr-fallback {display: none;}</style><div id=\"sk-d03f86d3-7c7d-47c8-ad06-6944d41bd049\" class=\"sk-top-container\"><div class=\"sk-text-repr-fallback\"><pre>Pipeline(steps=[(&#x27;numericals&#x27;,\n",
       "                 ColumnTransformer(remainder=&#x27;passthrough&#x27;,\n",
       "                                   transformers=[(&#x27;standard_scaler&#x27;,\n",
       "                                                  StandardScaler(), [&#x27;Age&#x27;]),\n",
       "                                                 (&#x27;robust_scaler&#x27;,\n",
       "                                                  RobustScaler(),\n",
       "                                                  [&#x27;eTIV&#x27;, &#x27;MMSE&#x27;]),\n",
       "                                                 (&#x27;minmax_scaler&#x27;,\n",
       "                                                  MinMaxScaler(),\n",
       "                                                  [&#x27;Educ&#x27;])]))])</pre><b>Please rerun this cell to show the HTML repr or trust the notebook.</b></div><div class=\"sk-container\" hidden><div class=\"sk-item sk-dashed-wrapped\"><div class=\"sk-label-container\"><div class=\"sk-label sk-toggleable\"><input class=\"sk-toggleable__control sk-hidden--visually\" id=\"fdb8e8ae-f0a8-47ab-8117-4c737bd6a1d9\" type=\"checkbox\" ><label for=\"fdb8e8ae-f0a8-47ab-8117-4c737bd6a1d9\" class=\"sk-toggleable__label sk-toggleable__label-arrow\">Pipeline</label><div class=\"sk-toggleable__content\"><pre>Pipeline(steps=[(&#x27;numericals&#x27;,\n",
       "                 ColumnTransformer(remainder=&#x27;passthrough&#x27;,\n",
       "                                   transformers=[(&#x27;standard_scaler&#x27;,\n",
       "                                                  StandardScaler(), [&#x27;Age&#x27;]),\n",
       "                                                 (&#x27;robust_scaler&#x27;,\n",
       "                                                  RobustScaler(),\n",
       "                                                  [&#x27;eTIV&#x27;, &#x27;MMSE&#x27;]),\n",
       "                                                 (&#x27;minmax_scaler&#x27;,\n",
       "                                                  MinMaxScaler(),\n",
       "                                                  [&#x27;Educ&#x27;])]))])</pre></div></div></div><div class=\"sk-serial\"><div class=\"sk-item sk-dashed-wrapped\"><div class=\"sk-label-container\"><div class=\"sk-label sk-toggleable\"><input class=\"sk-toggleable__control sk-hidden--visually\" id=\"26c2985d-6aad-42c3-8d78-bd6b367a7857\" type=\"checkbox\" ><label for=\"26c2985d-6aad-42c3-8d78-bd6b367a7857\" class=\"sk-toggleable__label sk-toggleable__label-arrow\">numericals: ColumnTransformer</label><div class=\"sk-toggleable__content\"><pre>ColumnTransformer(remainder=&#x27;passthrough&#x27;,\n",
       "                  transformers=[(&#x27;standard_scaler&#x27;, StandardScaler(), [&#x27;Age&#x27;]),\n",
       "                                (&#x27;robust_scaler&#x27;, RobustScaler(),\n",
       "                                 [&#x27;eTIV&#x27;, &#x27;MMSE&#x27;]),\n",
       "                                (&#x27;minmax_scaler&#x27;, MinMaxScaler(), [&#x27;Educ&#x27;])])</pre></div></div></div><div class=\"sk-parallel\"><div class=\"sk-parallel-item\"><div class=\"sk-item\"><div class=\"sk-label-container\"><div class=\"sk-label sk-toggleable\"><input class=\"sk-toggleable__control sk-hidden--visually\" id=\"6783a92d-0b43-4b33-b886-d0c922495877\" type=\"checkbox\" ><label for=\"6783a92d-0b43-4b33-b886-d0c922495877\" class=\"sk-toggleable__label sk-toggleable__label-arrow\">standard_scaler</label><div class=\"sk-toggleable__content\"><pre>[&#x27;Age&#x27;]</pre></div></div></div><div class=\"sk-serial\"><div class=\"sk-item\"><div class=\"sk-estimator sk-toggleable\"><input class=\"sk-toggleable__control sk-hidden--visually\" id=\"f27e4b28-ae5c-4639-aa55-ab958c7bbb5d\" type=\"checkbox\" ><label for=\"f27e4b28-ae5c-4639-aa55-ab958c7bbb5d\" class=\"sk-toggleable__label sk-toggleable__label-arrow\">StandardScaler</label><div class=\"sk-toggleable__content\"><pre>StandardScaler()</pre></div></div></div></div></div></div><div class=\"sk-parallel-item\"><div class=\"sk-item\"><div class=\"sk-label-container\"><div class=\"sk-label sk-toggleable\"><input class=\"sk-toggleable__control sk-hidden--visually\" id=\"8e696365-1911-46cb-a7bf-2729e926b595\" type=\"checkbox\" ><label for=\"8e696365-1911-46cb-a7bf-2729e926b595\" class=\"sk-toggleable__label sk-toggleable__label-arrow\">robust_scaler</label><div class=\"sk-toggleable__content\"><pre>[&#x27;eTIV&#x27;, &#x27;MMSE&#x27;]</pre></div></div></div><div class=\"sk-serial\"><div class=\"sk-item\"><div class=\"sk-estimator sk-toggleable\"><input class=\"sk-toggleable__control sk-hidden--visually\" id=\"3c59ad57-f4f1-4c00-a571-d12b04e8b759\" type=\"checkbox\" ><label for=\"3c59ad57-f4f1-4c00-a571-d12b04e8b759\" class=\"sk-toggleable__label sk-toggleable__label-arrow\">RobustScaler</label><div class=\"sk-toggleable__content\"><pre>RobustScaler()</pre></div></div></div></div></div></div><div class=\"sk-parallel-item\"><div class=\"sk-item\"><div class=\"sk-label-container\"><div class=\"sk-label sk-toggleable\"><input class=\"sk-toggleable__control sk-hidden--visually\" id=\"66242bbd-7335-4359-95f7-03fb13988828\" type=\"checkbox\" ><label for=\"66242bbd-7335-4359-95f7-03fb13988828\" class=\"sk-toggleable__label sk-toggleable__label-arrow\">minmax_scaler</label><div class=\"sk-toggleable__content\"><pre>[&#x27;Educ&#x27;]</pre></div></div></div><div class=\"sk-serial\"><div class=\"sk-item\"><div class=\"sk-estimator sk-toggleable\"><input class=\"sk-toggleable__control sk-hidden--visually\" id=\"408bee5a-4c06-40fe-836a-4232ad98d99b\" type=\"checkbox\" ><label for=\"408bee5a-4c06-40fe-836a-4232ad98d99b\" class=\"sk-toggleable__label sk-toggleable__label-arrow\">MinMaxScaler</label><div class=\"sk-toggleable__content\"><pre>MinMaxScaler()</pre></div></div></div></div></div></div><div class=\"sk-parallel-item\"><div class=\"sk-item\"><div class=\"sk-label-container\"><div class=\"sk-label sk-toggleable\"><input class=\"sk-toggleable__control sk-hidden--visually\" id=\"6bbbf60c-e4c0-4cb4-83e8-22f9f53cbb2b\" type=\"checkbox\" ><label for=\"6bbbf60c-e4c0-4cb4-83e8-22f9f53cbb2b\" class=\"sk-toggleable__label sk-toggleable__label-arrow\">remainder</label><div class=\"sk-toggleable__content\"><pre></pre></div></div></div><div class=\"sk-serial\"><div class=\"sk-item\"><div class=\"sk-estimator sk-toggleable\"><input class=\"sk-toggleable__control sk-hidden--visually\" id=\"b45447fe-cfa5-41a4-8ab2-31b3ff9ddc15\" type=\"checkbox\" ><label for=\"b45447fe-cfa5-41a4-8ab2-31b3ff9ddc15\" class=\"sk-toggleable__label sk-toggleable__label-arrow\">passthrough</label><div class=\"sk-toggleable__content\"><pre>passthrough</pre></div></div></div></div></div></div></div></div></div></div></div></div>"
      ],
      "text/plain": [
       "Pipeline(steps=[('numericals',\n",
       "                 ColumnTransformer(remainder='passthrough',\n",
       "                                   transformers=[('standard_scaler',\n",
       "                                                  StandardScaler(), ['Age']),\n",
       "                                                 ('robust_scaler',\n",
       "                                                  RobustScaler(),\n",
       "                                                  ['eTIV', 'MMSE']),\n",
       "                                                 ('minmax_scaler',\n",
       "                                                  MinMaxScaler(),\n",
       "                                                  ['Educ'])]))])"
      ]
     },
     "execution_count": 15,
     "metadata": {},
     "output_type": "execute_result"
    }
   ],
   "source": [
    "def set_pipeline():\n",
    "    \"\"\"This function returns a pipeline\n",
    "    \"\"\"\n",
    "    preproc = Pipeline([('numericals', numeric_transformer)])\n",
    "    return preproc\n",
    "set_pipeline()"
   ]
  },
  {
   "cell_type": "code",
   "execution_count": 16,
   "id": "f0b0e222",
   "metadata": {},
   "outputs": [],
   "source": [
    "def preproc_df():\n",
    "    \"\"\"This function returns a scaled dataframe ready for processing\n",
    "    \"\"\"\n",
    "    # Instantiating pipeline\n",
    "    pipeline = set_pipeline()\n",
    "    X_scaled = pd.DataFrame(pipeline.fit_transform(X), columns = set_pipeline().get_feature_names_out())\n",
    "    X_scaled.rename(columns={\n",
    "                                 'remainder__M/F': 'M/F',\n",
    "                                 'remainder__SES': 'SES',\n",
    "                                 'remainder__nWBV': 'nWBV',\n",
    "                                 'remainder__ASF': 'ASF',\n",
    "                                 'standard_scaler__Age': 'Age',\n",
    "                                 'robust_scaler__eTIV': 'eTIV',\n",
    "                                 'robust_scaler__MMSE': 'MMSE',\n",
    "                                 'minmax_scaler__Educ': 'Educ'\n",
    "    }, inplace=True)\n",
    "    X_scaled = X_scaled[[\"M/F\", \"Age\", \"Educ\", \"SES\", \"MMSE\", \"eTIV\", \"nWBV\", \"ASF\"]]\n",
    "    return X_scaled\n",
    "X_scaled = preproc_df()"
   ]
  },
  {
   "cell_type": "code",
   "execution_count": 17,
   "id": "2e555d1d",
   "metadata": {},
   "outputs": [],
   "source": [
    "# Holdout\n",
    "X_train, X_test, y_train, y_test = train_test_split(X_scaled, y, test_size=0.25, random_state = 42)"
   ]
  },
  {
   "cell_type": "code",
   "execution_count": 18,
   "id": "04b0c9f7",
   "metadata": {},
   "outputs": [
    {
     "data": {
      "text/plain": [
       "59"
      ]
     },
     "execution_count": 18,
     "metadata": {},
     "output_type": "execute_result"
    }
   ],
   "source": [
    "# Length of y_test = 59\n",
    "np.unique(y_test, return_counts = True)\n",
    "\n",
    "# Length of X_test = 59\n",
    "len(X_test)"
   ]
  },
  {
   "cell_type": "markdown",
   "id": "76f1b1d8",
   "metadata": {},
   "source": [
    "# 🎰SVC"
   ]
  },
  {
   "cell_type": "code",
   "execution_count": 19,
   "id": "11361ade",
   "metadata": {},
   "outputs": [],
   "source": [
    "# Instantiating linear support vector classifier\n",
    "model_svc = SVC(kernel = 'linear')"
   ]
  },
  {
   "cell_type": "code",
   "execution_count": 20,
   "id": "edba4002",
   "metadata": {},
   "outputs": [
    {
     "data": {
      "text/html": [
       "<style>#sk-fff052a3-8fb7-4e4b-ab10-ec895b1687d2 {color: black;background-color: white;}#sk-fff052a3-8fb7-4e4b-ab10-ec895b1687d2 pre{padding: 0;}#sk-fff052a3-8fb7-4e4b-ab10-ec895b1687d2 div.sk-toggleable {background-color: white;}#sk-fff052a3-8fb7-4e4b-ab10-ec895b1687d2 label.sk-toggleable__label {cursor: pointer;display: block;width: 100%;margin-bottom: 0;padding: 0.3em;box-sizing: border-box;text-align: center;}#sk-fff052a3-8fb7-4e4b-ab10-ec895b1687d2 label.sk-toggleable__label-arrow:before {content: \"▸\";float: left;margin-right: 0.25em;color: #696969;}#sk-fff052a3-8fb7-4e4b-ab10-ec895b1687d2 label.sk-toggleable__label-arrow:hover:before {color: black;}#sk-fff052a3-8fb7-4e4b-ab10-ec895b1687d2 div.sk-estimator:hover label.sk-toggleable__label-arrow:before {color: black;}#sk-fff052a3-8fb7-4e4b-ab10-ec895b1687d2 div.sk-toggleable__content {max-height: 0;max-width: 0;overflow: hidden;text-align: left;background-color: #f0f8ff;}#sk-fff052a3-8fb7-4e4b-ab10-ec895b1687d2 div.sk-toggleable__content pre {margin: 0.2em;color: black;border-radius: 0.25em;background-color: #f0f8ff;}#sk-fff052a3-8fb7-4e4b-ab10-ec895b1687d2 input.sk-toggleable__control:checked~div.sk-toggleable__content {max-height: 200px;max-width: 100%;overflow: auto;}#sk-fff052a3-8fb7-4e4b-ab10-ec895b1687d2 input.sk-toggleable__control:checked~label.sk-toggleable__label-arrow:before {content: \"▾\";}#sk-fff052a3-8fb7-4e4b-ab10-ec895b1687d2 div.sk-estimator input.sk-toggleable__control:checked~label.sk-toggleable__label {background-color: #d4ebff;}#sk-fff052a3-8fb7-4e4b-ab10-ec895b1687d2 div.sk-label input.sk-toggleable__control:checked~label.sk-toggleable__label {background-color: #d4ebff;}#sk-fff052a3-8fb7-4e4b-ab10-ec895b1687d2 input.sk-hidden--visually {border: 0;clip: rect(1px 1px 1px 1px);clip: rect(1px, 1px, 1px, 1px);height: 1px;margin: -1px;overflow: hidden;padding: 0;position: absolute;width: 1px;}#sk-fff052a3-8fb7-4e4b-ab10-ec895b1687d2 div.sk-estimator {font-family: monospace;background-color: #f0f8ff;border: 1px dotted black;border-radius: 0.25em;box-sizing: border-box;margin-bottom: 0.5em;}#sk-fff052a3-8fb7-4e4b-ab10-ec895b1687d2 div.sk-estimator:hover {background-color: #d4ebff;}#sk-fff052a3-8fb7-4e4b-ab10-ec895b1687d2 div.sk-parallel-item::after {content: \"\";width: 100%;border-bottom: 1px solid gray;flex-grow: 1;}#sk-fff052a3-8fb7-4e4b-ab10-ec895b1687d2 div.sk-label:hover label.sk-toggleable__label {background-color: #d4ebff;}#sk-fff052a3-8fb7-4e4b-ab10-ec895b1687d2 div.sk-serial::before {content: \"\";position: absolute;border-left: 1px solid gray;box-sizing: border-box;top: 2em;bottom: 0;left: 50%;}#sk-fff052a3-8fb7-4e4b-ab10-ec895b1687d2 div.sk-serial {display: flex;flex-direction: column;align-items: center;background-color: white;padding-right: 0.2em;padding-left: 0.2em;}#sk-fff052a3-8fb7-4e4b-ab10-ec895b1687d2 div.sk-item {z-index: 1;}#sk-fff052a3-8fb7-4e4b-ab10-ec895b1687d2 div.sk-parallel {display: flex;align-items: stretch;justify-content: center;background-color: white;}#sk-fff052a3-8fb7-4e4b-ab10-ec895b1687d2 div.sk-parallel::before {content: \"\";position: absolute;border-left: 1px solid gray;box-sizing: border-box;top: 2em;bottom: 0;left: 50%;}#sk-fff052a3-8fb7-4e4b-ab10-ec895b1687d2 div.sk-parallel-item {display: flex;flex-direction: column;position: relative;background-color: white;}#sk-fff052a3-8fb7-4e4b-ab10-ec895b1687d2 div.sk-parallel-item:first-child::after {align-self: flex-end;width: 50%;}#sk-fff052a3-8fb7-4e4b-ab10-ec895b1687d2 div.sk-parallel-item:last-child::after {align-self: flex-start;width: 50%;}#sk-fff052a3-8fb7-4e4b-ab10-ec895b1687d2 div.sk-parallel-item:only-child::after {width: 0;}#sk-fff052a3-8fb7-4e4b-ab10-ec895b1687d2 div.sk-dashed-wrapped {border: 1px dashed gray;margin: 0 0.4em 0.5em 0.4em;box-sizing: border-box;padding-bottom: 0.4em;background-color: white;position: relative;}#sk-fff052a3-8fb7-4e4b-ab10-ec895b1687d2 div.sk-label label {font-family: monospace;font-weight: bold;background-color: white;display: inline-block;line-height: 1.2em;}#sk-fff052a3-8fb7-4e4b-ab10-ec895b1687d2 div.sk-label-container {position: relative;z-index: 2;text-align: center;}#sk-fff052a3-8fb7-4e4b-ab10-ec895b1687d2 div.sk-container {/* jupyter's `normalize.less` sets `[hidden] { display: none; }` but bootstrap.min.css set `[hidden] { display: none !important; }` so we also need the `!important` here to be able to override the default hidden behavior on the sphinx rendered scikit-learn.org. See: https://github.com/scikit-learn/scikit-learn/issues/21755 */display: inline-block !important;position: relative;}#sk-fff052a3-8fb7-4e4b-ab10-ec895b1687d2 div.sk-text-repr-fallback {display: none;}</style><div id=\"sk-fff052a3-8fb7-4e4b-ab10-ec895b1687d2\" class=\"sk-top-container\"><div class=\"sk-text-repr-fallback\"><pre>SVC(kernel=&#x27;linear&#x27;)</pre><b>Please rerun this cell to show the HTML repr or trust the notebook.</b></div><div class=\"sk-container\" hidden><div class=\"sk-item\"><div class=\"sk-estimator sk-toggleable\"><input class=\"sk-toggleable__control sk-hidden--visually\" id=\"499af59b-6e79-4cf1-bcf7-a6e02ed32583\" type=\"checkbox\" checked><label for=\"499af59b-6e79-4cf1-bcf7-a6e02ed32583\" class=\"sk-toggleable__label sk-toggleable__label-arrow\">SVC</label><div class=\"sk-toggleable__content\"><pre>SVC(kernel=&#x27;linear&#x27;)</pre></div></div></div></div></div>"
      ],
      "text/plain": [
       "SVC(kernel='linear')"
      ]
     },
     "execution_count": 20,
     "metadata": {},
     "output_type": "execute_result"
    }
   ],
   "source": [
    "# Fitting LinearSVC\n",
    "model_svc.fit(X_train, y_train)"
   ]
  },
  {
   "cell_type": "code",
   "execution_count": 21,
   "id": "1915fef1",
   "metadata": {},
   "outputs": [],
   "source": [
    "y_pred_SVC = model_svc.predict(X_test)"
   ]
  },
  {
   "cell_type": "code",
   "execution_count": 22,
   "id": "4700e8a7",
   "metadata": {},
   "outputs": [
    {
     "data": {
      "text/plain": [
       "array([[34,  2],\n",
       "       [ 7, 16]])"
      ]
     },
     "execution_count": 22,
     "metadata": {},
     "output_type": "execute_result"
    }
   ],
   "source": [
    "cm_svc = confusion_matrix(y_test, y_pred_SVC)\n",
    "cm_svc"
   ]
  },
  {
   "cell_type": "code",
   "execution_count": 23,
   "id": "821fbdaf",
   "metadata": {},
   "outputs": [
    {
     "data": {
      "text/plain": [
       "0.6956521739130435"
      ]
     },
     "execution_count": 23,
     "metadata": {},
     "output_type": "execute_result"
    }
   ],
   "source": [
    "baseline_recall_svc = recall_score(y_test, y_pred_SVC)\n",
    "baseline_recall_svc"
   ]
  },
  {
   "cell_type": "markdown",
   "id": "a5837d0f",
   "metadata": {},
   "source": [
    "###   🤖  Grid Searching"
   ]
  },
  {
   "cell_type": "code",
   "execution_count": 24,
   "id": "e7ab12bb",
   "metadata": {},
   "outputs": [
    {
     "data": {
      "text/html": [
       "<style>#sk-e2005754-053b-4124-81e4-2756849f2ed5 {color: black;background-color: white;}#sk-e2005754-053b-4124-81e4-2756849f2ed5 pre{padding: 0;}#sk-e2005754-053b-4124-81e4-2756849f2ed5 div.sk-toggleable {background-color: white;}#sk-e2005754-053b-4124-81e4-2756849f2ed5 label.sk-toggleable__label {cursor: pointer;display: block;width: 100%;margin-bottom: 0;padding: 0.3em;box-sizing: border-box;text-align: center;}#sk-e2005754-053b-4124-81e4-2756849f2ed5 label.sk-toggleable__label-arrow:before {content: \"▸\";float: left;margin-right: 0.25em;color: #696969;}#sk-e2005754-053b-4124-81e4-2756849f2ed5 label.sk-toggleable__label-arrow:hover:before {color: black;}#sk-e2005754-053b-4124-81e4-2756849f2ed5 div.sk-estimator:hover label.sk-toggleable__label-arrow:before {color: black;}#sk-e2005754-053b-4124-81e4-2756849f2ed5 div.sk-toggleable__content {max-height: 0;max-width: 0;overflow: hidden;text-align: left;background-color: #f0f8ff;}#sk-e2005754-053b-4124-81e4-2756849f2ed5 div.sk-toggleable__content pre {margin: 0.2em;color: black;border-radius: 0.25em;background-color: #f0f8ff;}#sk-e2005754-053b-4124-81e4-2756849f2ed5 input.sk-toggleable__control:checked~div.sk-toggleable__content {max-height: 200px;max-width: 100%;overflow: auto;}#sk-e2005754-053b-4124-81e4-2756849f2ed5 input.sk-toggleable__control:checked~label.sk-toggleable__label-arrow:before {content: \"▾\";}#sk-e2005754-053b-4124-81e4-2756849f2ed5 div.sk-estimator input.sk-toggleable__control:checked~label.sk-toggleable__label {background-color: #d4ebff;}#sk-e2005754-053b-4124-81e4-2756849f2ed5 div.sk-label input.sk-toggleable__control:checked~label.sk-toggleable__label {background-color: #d4ebff;}#sk-e2005754-053b-4124-81e4-2756849f2ed5 input.sk-hidden--visually {border: 0;clip: rect(1px 1px 1px 1px);clip: rect(1px, 1px, 1px, 1px);height: 1px;margin: -1px;overflow: hidden;padding: 0;position: absolute;width: 1px;}#sk-e2005754-053b-4124-81e4-2756849f2ed5 div.sk-estimator {font-family: monospace;background-color: #f0f8ff;border: 1px dotted black;border-radius: 0.25em;box-sizing: border-box;margin-bottom: 0.5em;}#sk-e2005754-053b-4124-81e4-2756849f2ed5 div.sk-estimator:hover {background-color: #d4ebff;}#sk-e2005754-053b-4124-81e4-2756849f2ed5 div.sk-parallel-item::after {content: \"\";width: 100%;border-bottom: 1px solid gray;flex-grow: 1;}#sk-e2005754-053b-4124-81e4-2756849f2ed5 div.sk-label:hover label.sk-toggleable__label {background-color: #d4ebff;}#sk-e2005754-053b-4124-81e4-2756849f2ed5 div.sk-serial::before {content: \"\";position: absolute;border-left: 1px solid gray;box-sizing: border-box;top: 2em;bottom: 0;left: 50%;}#sk-e2005754-053b-4124-81e4-2756849f2ed5 div.sk-serial {display: flex;flex-direction: column;align-items: center;background-color: white;padding-right: 0.2em;padding-left: 0.2em;}#sk-e2005754-053b-4124-81e4-2756849f2ed5 div.sk-item {z-index: 1;}#sk-e2005754-053b-4124-81e4-2756849f2ed5 div.sk-parallel {display: flex;align-items: stretch;justify-content: center;background-color: white;}#sk-e2005754-053b-4124-81e4-2756849f2ed5 div.sk-parallel::before {content: \"\";position: absolute;border-left: 1px solid gray;box-sizing: border-box;top: 2em;bottom: 0;left: 50%;}#sk-e2005754-053b-4124-81e4-2756849f2ed5 div.sk-parallel-item {display: flex;flex-direction: column;position: relative;background-color: white;}#sk-e2005754-053b-4124-81e4-2756849f2ed5 div.sk-parallel-item:first-child::after {align-self: flex-end;width: 50%;}#sk-e2005754-053b-4124-81e4-2756849f2ed5 div.sk-parallel-item:last-child::after {align-self: flex-start;width: 50%;}#sk-e2005754-053b-4124-81e4-2756849f2ed5 div.sk-parallel-item:only-child::after {width: 0;}#sk-e2005754-053b-4124-81e4-2756849f2ed5 div.sk-dashed-wrapped {border: 1px dashed gray;margin: 0 0.4em 0.5em 0.4em;box-sizing: border-box;padding-bottom: 0.4em;background-color: white;position: relative;}#sk-e2005754-053b-4124-81e4-2756849f2ed5 div.sk-label label {font-family: monospace;font-weight: bold;background-color: white;display: inline-block;line-height: 1.2em;}#sk-e2005754-053b-4124-81e4-2756849f2ed5 div.sk-label-container {position: relative;z-index: 2;text-align: center;}#sk-e2005754-053b-4124-81e4-2756849f2ed5 div.sk-container {/* jupyter's `normalize.less` sets `[hidden] { display: none; }` but bootstrap.min.css set `[hidden] { display: none !important; }` so we also need the `!important` here to be able to override the default hidden behavior on the sphinx rendered scikit-learn.org. See: https://github.com/scikit-learn/scikit-learn/issues/21755 */display: inline-block !important;position: relative;}#sk-e2005754-053b-4124-81e4-2756849f2ed5 div.sk-text-repr-fallback {display: none;}</style><div id=\"sk-e2005754-053b-4124-81e4-2756849f2ed5\" class=\"sk-top-container\"><div class=\"sk-text-repr-fallback\"><pre>GridSearchCV(cv=5, estimator=SVC(kernel=&#x27;linear&#x27;), n_jobs=-1,\n",
       "             param_grid={&#x27;C&#x27;: array([700, 701, 702, 703, 704, 705, 706, 707, 708, 709, 710, 711, 712,\n",
       "       713, 714, 715, 716, 717, 718, 719, 720, 721, 722, 723, 724, 725,\n",
       "       726, 727, 728, 729, 730, 731, 732, 733, 734, 735, 736, 737, 738,\n",
       "       739, 740, 741, 742, 743, 744, 745, 746, 747, 748, 749]),\n",
       "                         &#x27;gamma&#x27;: [1, 0.1, 0.001, 0.0001]},\n",
       "             scoring=&#x27;recall&#x27;)</pre><b>Please rerun this cell to show the HTML repr or trust the notebook.</b></div><div class=\"sk-container\" hidden><div class=\"sk-item sk-dashed-wrapped\"><div class=\"sk-label-container\"><div class=\"sk-label sk-toggleable\"><input class=\"sk-toggleable__control sk-hidden--visually\" id=\"16ea3aa7-5ed3-4896-812e-dfa383a0144b\" type=\"checkbox\" ><label for=\"16ea3aa7-5ed3-4896-812e-dfa383a0144b\" class=\"sk-toggleable__label sk-toggleable__label-arrow\">GridSearchCV</label><div class=\"sk-toggleable__content\"><pre>GridSearchCV(cv=5, estimator=SVC(kernel=&#x27;linear&#x27;), n_jobs=-1,\n",
       "             param_grid={&#x27;C&#x27;: array([700, 701, 702, 703, 704, 705, 706, 707, 708, 709, 710, 711, 712,\n",
       "       713, 714, 715, 716, 717, 718, 719, 720, 721, 722, 723, 724, 725,\n",
       "       726, 727, 728, 729, 730, 731, 732, 733, 734, 735, 736, 737, 738,\n",
       "       739, 740, 741, 742, 743, 744, 745, 746, 747, 748, 749]),\n",
       "                         &#x27;gamma&#x27;: [1, 0.1, 0.001, 0.0001]},\n",
       "             scoring=&#x27;recall&#x27;)</pre></div></div></div><div class=\"sk-parallel\"><div class=\"sk-parallel-item\"><div class=\"sk-item\"><div class=\"sk-serial\"><div class=\"sk-item\"><div class=\"sk-estimator sk-toggleable\"><input class=\"sk-toggleable__control sk-hidden--visually\" id=\"1d9257d9-d01f-4d53-b1d4-33f5e48b8ec4\" type=\"checkbox\" ><label for=\"1d9257d9-d01f-4d53-b1d4-33f5e48b8ec4\" class=\"sk-toggleable__label sk-toggleable__label-arrow\">SVC</label><div class=\"sk-toggleable__content\"><pre>SVC(kernel=&#x27;linear&#x27;)</pre></div></div></div></div></div></div></div></div></div></div>"
      ],
      "text/plain": [
       "GridSearchCV(cv=5, estimator=SVC(kernel='linear'), n_jobs=-1,\n",
       "             param_grid={'C': array([700, 701, 702, 703, 704, 705, 706, 707, 708, 709, 710, 711, 712,\n",
       "       713, 714, 715, 716, 717, 718, 719, 720, 721, 722, 723, 724, 725,\n",
       "       726, 727, 728, 729, 730, 731, 732, 733, 734, 735, 736, 737, 738,\n",
       "       739, 740, 741, 742, 743, 744, 745, 746, 747, 748, 749]),\n",
       "                         'gamma': [1, 0.1, 0.001, 0.0001]},\n",
       "             scoring='recall')"
      ]
     },
     "execution_count": 24,
     "metadata": {},
     "output_type": "execute_result"
    }
   ],
   "source": [
    "# Creating a parameter grid: map the parameter names to the values that should be searched in a dictionary\n",
    "param_grid = {'C':np.arange(700,750,1),'gamma':[1,0.1,0.001,0.0001]}\n",
    "\n",
    "# GridSearching\n",
    "gridsearch_svc = GridSearchCV(model_svc, \n",
    "                          param_grid, n_jobs = -1, \n",
    "                          scoring = 'recall', cv = 5)\n",
    "\n",
    "# Fitting gridsearch on X and y\n",
    "gridsearch_svc.fit(X_train, y_train)"
   ]
  },
  {
   "cell_type": "code",
   "execution_count": 25,
   "id": "98e31be5",
   "metadata": {},
   "outputs": [
    {
     "data": {
      "text/html": [
       "<style>#sk-c9ad17b0-c4b6-4865-9b28-4e18d7a7b91b {color: black;background-color: white;}#sk-c9ad17b0-c4b6-4865-9b28-4e18d7a7b91b pre{padding: 0;}#sk-c9ad17b0-c4b6-4865-9b28-4e18d7a7b91b div.sk-toggleable {background-color: white;}#sk-c9ad17b0-c4b6-4865-9b28-4e18d7a7b91b label.sk-toggleable__label {cursor: pointer;display: block;width: 100%;margin-bottom: 0;padding: 0.3em;box-sizing: border-box;text-align: center;}#sk-c9ad17b0-c4b6-4865-9b28-4e18d7a7b91b label.sk-toggleable__label-arrow:before {content: \"▸\";float: left;margin-right: 0.25em;color: #696969;}#sk-c9ad17b0-c4b6-4865-9b28-4e18d7a7b91b label.sk-toggleable__label-arrow:hover:before {color: black;}#sk-c9ad17b0-c4b6-4865-9b28-4e18d7a7b91b div.sk-estimator:hover label.sk-toggleable__label-arrow:before {color: black;}#sk-c9ad17b0-c4b6-4865-9b28-4e18d7a7b91b div.sk-toggleable__content {max-height: 0;max-width: 0;overflow: hidden;text-align: left;background-color: #f0f8ff;}#sk-c9ad17b0-c4b6-4865-9b28-4e18d7a7b91b div.sk-toggleable__content pre {margin: 0.2em;color: black;border-radius: 0.25em;background-color: #f0f8ff;}#sk-c9ad17b0-c4b6-4865-9b28-4e18d7a7b91b input.sk-toggleable__control:checked~div.sk-toggleable__content {max-height: 200px;max-width: 100%;overflow: auto;}#sk-c9ad17b0-c4b6-4865-9b28-4e18d7a7b91b input.sk-toggleable__control:checked~label.sk-toggleable__label-arrow:before {content: \"▾\";}#sk-c9ad17b0-c4b6-4865-9b28-4e18d7a7b91b div.sk-estimator input.sk-toggleable__control:checked~label.sk-toggleable__label {background-color: #d4ebff;}#sk-c9ad17b0-c4b6-4865-9b28-4e18d7a7b91b div.sk-label input.sk-toggleable__control:checked~label.sk-toggleable__label {background-color: #d4ebff;}#sk-c9ad17b0-c4b6-4865-9b28-4e18d7a7b91b input.sk-hidden--visually {border: 0;clip: rect(1px 1px 1px 1px);clip: rect(1px, 1px, 1px, 1px);height: 1px;margin: -1px;overflow: hidden;padding: 0;position: absolute;width: 1px;}#sk-c9ad17b0-c4b6-4865-9b28-4e18d7a7b91b div.sk-estimator {font-family: monospace;background-color: #f0f8ff;border: 1px dotted black;border-radius: 0.25em;box-sizing: border-box;margin-bottom: 0.5em;}#sk-c9ad17b0-c4b6-4865-9b28-4e18d7a7b91b div.sk-estimator:hover {background-color: #d4ebff;}#sk-c9ad17b0-c4b6-4865-9b28-4e18d7a7b91b div.sk-parallel-item::after {content: \"\";width: 100%;border-bottom: 1px solid gray;flex-grow: 1;}#sk-c9ad17b0-c4b6-4865-9b28-4e18d7a7b91b div.sk-label:hover label.sk-toggleable__label {background-color: #d4ebff;}#sk-c9ad17b0-c4b6-4865-9b28-4e18d7a7b91b div.sk-serial::before {content: \"\";position: absolute;border-left: 1px solid gray;box-sizing: border-box;top: 2em;bottom: 0;left: 50%;}#sk-c9ad17b0-c4b6-4865-9b28-4e18d7a7b91b div.sk-serial {display: flex;flex-direction: column;align-items: center;background-color: white;padding-right: 0.2em;padding-left: 0.2em;}#sk-c9ad17b0-c4b6-4865-9b28-4e18d7a7b91b div.sk-item {z-index: 1;}#sk-c9ad17b0-c4b6-4865-9b28-4e18d7a7b91b div.sk-parallel {display: flex;align-items: stretch;justify-content: center;background-color: white;}#sk-c9ad17b0-c4b6-4865-9b28-4e18d7a7b91b div.sk-parallel::before {content: \"\";position: absolute;border-left: 1px solid gray;box-sizing: border-box;top: 2em;bottom: 0;left: 50%;}#sk-c9ad17b0-c4b6-4865-9b28-4e18d7a7b91b div.sk-parallel-item {display: flex;flex-direction: column;position: relative;background-color: white;}#sk-c9ad17b0-c4b6-4865-9b28-4e18d7a7b91b div.sk-parallel-item:first-child::after {align-self: flex-end;width: 50%;}#sk-c9ad17b0-c4b6-4865-9b28-4e18d7a7b91b div.sk-parallel-item:last-child::after {align-self: flex-start;width: 50%;}#sk-c9ad17b0-c4b6-4865-9b28-4e18d7a7b91b div.sk-parallel-item:only-child::after {width: 0;}#sk-c9ad17b0-c4b6-4865-9b28-4e18d7a7b91b div.sk-dashed-wrapped {border: 1px dashed gray;margin: 0 0.4em 0.5em 0.4em;box-sizing: border-box;padding-bottom: 0.4em;background-color: white;position: relative;}#sk-c9ad17b0-c4b6-4865-9b28-4e18d7a7b91b div.sk-label label {font-family: monospace;font-weight: bold;background-color: white;display: inline-block;line-height: 1.2em;}#sk-c9ad17b0-c4b6-4865-9b28-4e18d7a7b91b div.sk-label-container {position: relative;z-index: 2;text-align: center;}#sk-c9ad17b0-c4b6-4865-9b28-4e18d7a7b91b div.sk-container {/* jupyter's `normalize.less` sets `[hidden] { display: none; }` but bootstrap.min.css set `[hidden] { display: none !important; }` so we also need the `!important` here to be able to override the default hidden behavior on the sphinx rendered scikit-learn.org. See: https://github.com/scikit-learn/scikit-learn/issues/21755 */display: inline-block !important;position: relative;}#sk-c9ad17b0-c4b6-4865-9b28-4e18d7a7b91b div.sk-text-repr-fallback {display: none;}</style><div id=\"sk-c9ad17b0-c4b6-4865-9b28-4e18d7a7b91b\" class=\"sk-top-container\"><div class=\"sk-text-repr-fallback\"><pre>SVC(C=717, gamma=1, kernel=&#x27;linear&#x27;)</pre><b>Please rerun this cell to show the HTML repr or trust the notebook.</b></div><div class=\"sk-container\" hidden><div class=\"sk-item\"><div class=\"sk-estimator sk-toggleable\"><input class=\"sk-toggleable__control sk-hidden--visually\" id=\"c709906d-4386-48ae-941c-24491c6e7084\" type=\"checkbox\" checked><label for=\"c709906d-4386-48ae-941c-24491c6e7084\" class=\"sk-toggleable__label sk-toggleable__label-arrow\">SVC</label><div class=\"sk-toggleable__content\"><pre>SVC(C=717, gamma=1, kernel=&#x27;linear&#x27;)</pre></div></div></div></div></div>"
      ],
      "text/plain": [
       "SVC(C=717, gamma=1, kernel='linear')"
      ]
     },
     "execution_count": 25,
     "metadata": {},
     "output_type": "execute_result"
    }
   ],
   "source": [
    "gridsearch_svc.best_estimator_"
   ]
  },
  {
   "cell_type": "markdown",
   "id": "ad945127",
   "metadata": {},
   "source": [
    "### Best SVC"
   ]
  },
  {
   "cell_type": "code",
   "execution_count": 26,
   "id": "1ef498b8",
   "metadata": {},
   "outputs": [],
   "source": [
    "best_svc = gridsearch_svc.best_estimator_"
   ]
  },
  {
   "cell_type": "code",
   "execution_count": 27,
   "id": "37a8dd97",
   "metadata": {},
   "outputs": [
    {
     "data": {
      "text/html": [
       "<style>#sk-7a047ad9-d68f-42a0-9611-061bb77aaa6e {color: black;background-color: white;}#sk-7a047ad9-d68f-42a0-9611-061bb77aaa6e pre{padding: 0;}#sk-7a047ad9-d68f-42a0-9611-061bb77aaa6e div.sk-toggleable {background-color: white;}#sk-7a047ad9-d68f-42a0-9611-061bb77aaa6e label.sk-toggleable__label {cursor: pointer;display: block;width: 100%;margin-bottom: 0;padding: 0.3em;box-sizing: border-box;text-align: center;}#sk-7a047ad9-d68f-42a0-9611-061bb77aaa6e label.sk-toggleable__label-arrow:before {content: \"▸\";float: left;margin-right: 0.25em;color: #696969;}#sk-7a047ad9-d68f-42a0-9611-061bb77aaa6e label.sk-toggleable__label-arrow:hover:before {color: black;}#sk-7a047ad9-d68f-42a0-9611-061bb77aaa6e div.sk-estimator:hover label.sk-toggleable__label-arrow:before {color: black;}#sk-7a047ad9-d68f-42a0-9611-061bb77aaa6e div.sk-toggleable__content {max-height: 0;max-width: 0;overflow: hidden;text-align: left;background-color: #f0f8ff;}#sk-7a047ad9-d68f-42a0-9611-061bb77aaa6e div.sk-toggleable__content pre {margin: 0.2em;color: black;border-radius: 0.25em;background-color: #f0f8ff;}#sk-7a047ad9-d68f-42a0-9611-061bb77aaa6e input.sk-toggleable__control:checked~div.sk-toggleable__content {max-height: 200px;max-width: 100%;overflow: auto;}#sk-7a047ad9-d68f-42a0-9611-061bb77aaa6e input.sk-toggleable__control:checked~label.sk-toggleable__label-arrow:before {content: \"▾\";}#sk-7a047ad9-d68f-42a0-9611-061bb77aaa6e div.sk-estimator input.sk-toggleable__control:checked~label.sk-toggleable__label {background-color: #d4ebff;}#sk-7a047ad9-d68f-42a0-9611-061bb77aaa6e div.sk-label input.sk-toggleable__control:checked~label.sk-toggleable__label {background-color: #d4ebff;}#sk-7a047ad9-d68f-42a0-9611-061bb77aaa6e input.sk-hidden--visually {border: 0;clip: rect(1px 1px 1px 1px);clip: rect(1px, 1px, 1px, 1px);height: 1px;margin: -1px;overflow: hidden;padding: 0;position: absolute;width: 1px;}#sk-7a047ad9-d68f-42a0-9611-061bb77aaa6e div.sk-estimator {font-family: monospace;background-color: #f0f8ff;border: 1px dotted black;border-radius: 0.25em;box-sizing: border-box;margin-bottom: 0.5em;}#sk-7a047ad9-d68f-42a0-9611-061bb77aaa6e div.sk-estimator:hover {background-color: #d4ebff;}#sk-7a047ad9-d68f-42a0-9611-061bb77aaa6e div.sk-parallel-item::after {content: \"\";width: 100%;border-bottom: 1px solid gray;flex-grow: 1;}#sk-7a047ad9-d68f-42a0-9611-061bb77aaa6e div.sk-label:hover label.sk-toggleable__label {background-color: #d4ebff;}#sk-7a047ad9-d68f-42a0-9611-061bb77aaa6e div.sk-serial::before {content: \"\";position: absolute;border-left: 1px solid gray;box-sizing: border-box;top: 2em;bottom: 0;left: 50%;}#sk-7a047ad9-d68f-42a0-9611-061bb77aaa6e div.sk-serial {display: flex;flex-direction: column;align-items: center;background-color: white;padding-right: 0.2em;padding-left: 0.2em;}#sk-7a047ad9-d68f-42a0-9611-061bb77aaa6e div.sk-item {z-index: 1;}#sk-7a047ad9-d68f-42a0-9611-061bb77aaa6e div.sk-parallel {display: flex;align-items: stretch;justify-content: center;background-color: white;}#sk-7a047ad9-d68f-42a0-9611-061bb77aaa6e div.sk-parallel::before {content: \"\";position: absolute;border-left: 1px solid gray;box-sizing: border-box;top: 2em;bottom: 0;left: 50%;}#sk-7a047ad9-d68f-42a0-9611-061bb77aaa6e div.sk-parallel-item {display: flex;flex-direction: column;position: relative;background-color: white;}#sk-7a047ad9-d68f-42a0-9611-061bb77aaa6e div.sk-parallel-item:first-child::after {align-self: flex-end;width: 50%;}#sk-7a047ad9-d68f-42a0-9611-061bb77aaa6e div.sk-parallel-item:last-child::after {align-self: flex-start;width: 50%;}#sk-7a047ad9-d68f-42a0-9611-061bb77aaa6e div.sk-parallel-item:only-child::after {width: 0;}#sk-7a047ad9-d68f-42a0-9611-061bb77aaa6e div.sk-dashed-wrapped {border: 1px dashed gray;margin: 0 0.4em 0.5em 0.4em;box-sizing: border-box;padding-bottom: 0.4em;background-color: white;position: relative;}#sk-7a047ad9-d68f-42a0-9611-061bb77aaa6e div.sk-label label {font-family: monospace;font-weight: bold;background-color: white;display: inline-block;line-height: 1.2em;}#sk-7a047ad9-d68f-42a0-9611-061bb77aaa6e div.sk-label-container {position: relative;z-index: 2;text-align: center;}#sk-7a047ad9-d68f-42a0-9611-061bb77aaa6e div.sk-container {/* jupyter's `normalize.less` sets `[hidden] { display: none; }` but bootstrap.min.css set `[hidden] { display: none !important; }` so we also need the `!important` here to be able to override the default hidden behavior on the sphinx rendered scikit-learn.org. See: https://github.com/scikit-learn/scikit-learn/issues/21755 */display: inline-block !important;position: relative;}#sk-7a047ad9-d68f-42a0-9611-061bb77aaa6e div.sk-text-repr-fallback {display: none;}</style><div id=\"sk-7a047ad9-d68f-42a0-9611-061bb77aaa6e\" class=\"sk-top-container\"><div class=\"sk-text-repr-fallback\"><pre>SVC(C=717, gamma=1, kernel=&#x27;linear&#x27;)</pre><b>Please rerun this cell to show the HTML repr or trust the notebook.</b></div><div class=\"sk-container\" hidden><div class=\"sk-item\"><div class=\"sk-estimator sk-toggleable\"><input class=\"sk-toggleable__control sk-hidden--visually\" id=\"9157875d-1916-49fe-a87a-0b0995ee0e57\" type=\"checkbox\" checked><label for=\"9157875d-1916-49fe-a87a-0b0995ee0e57\" class=\"sk-toggleable__label sk-toggleable__label-arrow\">SVC</label><div class=\"sk-toggleable__content\"><pre>SVC(C=717, gamma=1, kernel=&#x27;linear&#x27;)</pre></div></div></div></div></div>"
      ],
      "text/plain": [
       "SVC(C=717, gamma=1, kernel='linear')"
      ]
     },
     "execution_count": 27,
     "metadata": {},
     "output_type": "execute_result"
    }
   ],
   "source": [
    "best_svc.fit(X_train, y_train)"
   ]
  },
  {
   "cell_type": "code",
   "execution_count": 28,
   "id": "c149f8e8",
   "metadata": {},
   "outputs": [],
   "source": [
    "best_svc_pred = best_svc.predict(X_test)"
   ]
  },
  {
   "cell_type": "code",
   "execution_count": 29,
   "id": "707a59f1",
   "metadata": {},
   "outputs": [
    {
     "data": {
      "text/plain": [
       "0.782608695652174"
      ]
     },
     "execution_count": 29,
     "metadata": {},
     "output_type": "execute_result"
    }
   ],
   "source": [
    "recall_score(y_test, best_svc_pred)"
   ]
  },
  {
   "cell_type": "code",
   "execution_count": null,
   "id": "a6531026",
   "metadata": {},
   "outputs": [],
   "source": []
  },
  {
   "cell_type": "markdown",
   "id": "c2b11ebe",
   "metadata": {},
   "source": [
    "#  🤹 K Neighbors Classifier"
   ]
  },
  {
   "cell_type": "code",
   "execution_count": 30,
   "id": "c189416d",
   "metadata": {},
   "outputs": [],
   "source": [
    "# Instantiating KNeighborsClassifier\n",
    "neigh = KNeighborsClassifier()"
   ]
  },
  {
   "cell_type": "markdown",
   "id": "4523644f",
   "metadata": {},
   "source": [
    "### Grid Searching"
   ]
  },
  {
   "cell_type": "code",
   "execution_count": 31,
   "id": "40b7dab7",
   "metadata": {},
   "outputs": [],
   "source": [
    "# Defining the parameter values that should be searched\n",
    "k_range = list(range(1, 31))\n",
    "\n",
    "# Creating a parameter grid: map the parameter names to the values that should be searched\n",
    "param_grid = dict(n_neighbors=k_range)"
   ]
  },
  {
   "cell_type": "code",
   "execution_count": 32,
   "id": "bb8aa0e3",
   "metadata": {},
   "outputs": [],
   "source": [
    "# Performing a grid search\n",
    "grid = GridSearchCV(neigh, \n",
    "                    param_grid, \n",
    "                    cv=10, \n",
    "                    scoring='recall')"
   ]
  },
  {
   "cell_type": "code",
   "execution_count": 33,
   "id": "22892d4b",
   "metadata": {},
   "outputs": [
    {
     "data": {
      "text/html": [
       "<style>#sk-e70fcf47-f664-4d09-ae40-0de5f671e9d6 {color: black;background-color: white;}#sk-e70fcf47-f664-4d09-ae40-0de5f671e9d6 pre{padding: 0;}#sk-e70fcf47-f664-4d09-ae40-0de5f671e9d6 div.sk-toggleable {background-color: white;}#sk-e70fcf47-f664-4d09-ae40-0de5f671e9d6 label.sk-toggleable__label {cursor: pointer;display: block;width: 100%;margin-bottom: 0;padding: 0.3em;box-sizing: border-box;text-align: center;}#sk-e70fcf47-f664-4d09-ae40-0de5f671e9d6 label.sk-toggleable__label-arrow:before {content: \"▸\";float: left;margin-right: 0.25em;color: #696969;}#sk-e70fcf47-f664-4d09-ae40-0de5f671e9d6 label.sk-toggleable__label-arrow:hover:before {color: black;}#sk-e70fcf47-f664-4d09-ae40-0de5f671e9d6 div.sk-estimator:hover label.sk-toggleable__label-arrow:before {color: black;}#sk-e70fcf47-f664-4d09-ae40-0de5f671e9d6 div.sk-toggleable__content {max-height: 0;max-width: 0;overflow: hidden;text-align: left;background-color: #f0f8ff;}#sk-e70fcf47-f664-4d09-ae40-0de5f671e9d6 div.sk-toggleable__content pre {margin: 0.2em;color: black;border-radius: 0.25em;background-color: #f0f8ff;}#sk-e70fcf47-f664-4d09-ae40-0de5f671e9d6 input.sk-toggleable__control:checked~div.sk-toggleable__content {max-height: 200px;max-width: 100%;overflow: auto;}#sk-e70fcf47-f664-4d09-ae40-0de5f671e9d6 input.sk-toggleable__control:checked~label.sk-toggleable__label-arrow:before {content: \"▾\";}#sk-e70fcf47-f664-4d09-ae40-0de5f671e9d6 div.sk-estimator input.sk-toggleable__control:checked~label.sk-toggleable__label {background-color: #d4ebff;}#sk-e70fcf47-f664-4d09-ae40-0de5f671e9d6 div.sk-label input.sk-toggleable__control:checked~label.sk-toggleable__label {background-color: #d4ebff;}#sk-e70fcf47-f664-4d09-ae40-0de5f671e9d6 input.sk-hidden--visually {border: 0;clip: rect(1px 1px 1px 1px);clip: rect(1px, 1px, 1px, 1px);height: 1px;margin: -1px;overflow: hidden;padding: 0;position: absolute;width: 1px;}#sk-e70fcf47-f664-4d09-ae40-0de5f671e9d6 div.sk-estimator {font-family: monospace;background-color: #f0f8ff;border: 1px dotted black;border-radius: 0.25em;box-sizing: border-box;margin-bottom: 0.5em;}#sk-e70fcf47-f664-4d09-ae40-0de5f671e9d6 div.sk-estimator:hover {background-color: #d4ebff;}#sk-e70fcf47-f664-4d09-ae40-0de5f671e9d6 div.sk-parallel-item::after {content: \"\";width: 100%;border-bottom: 1px solid gray;flex-grow: 1;}#sk-e70fcf47-f664-4d09-ae40-0de5f671e9d6 div.sk-label:hover label.sk-toggleable__label {background-color: #d4ebff;}#sk-e70fcf47-f664-4d09-ae40-0de5f671e9d6 div.sk-serial::before {content: \"\";position: absolute;border-left: 1px solid gray;box-sizing: border-box;top: 2em;bottom: 0;left: 50%;}#sk-e70fcf47-f664-4d09-ae40-0de5f671e9d6 div.sk-serial {display: flex;flex-direction: column;align-items: center;background-color: white;padding-right: 0.2em;padding-left: 0.2em;}#sk-e70fcf47-f664-4d09-ae40-0de5f671e9d6 div.sk-item {z-index: 1;}#sk-e70fcf47-f664-4d09-ae40-0de5f671e9d6 div.sk-parallel {display: flex;align-items: stretch;justify-content: center;background-color: white;}#sk-e70fcf47-f664-4d09-ae40-0de5f671e9d6 div.sk-parallel::before {content: \"\";position: absolute;border-left: 1px solid gray;box-sizing: border-box;top: 2em;bottom: 0;left: 50%;}#sk-e70fcf47-f664-4d09-ae40-0de5f671e9d6 div.sk-parallel-item {display: flex;flex-direction: column;position: relative;background-color: white;}#sk-e70fcf47-f664-4d09-ae40-0de5f671e9d6 div.sk-parallel-item:first-child::after {align-self: flex-end;width: 50%;}#sk-e70fcf47-f664-4d09-ae40-0de5f671e9d6 div.sk-parallel-item:last-child::after {align-self: flex-start;width: 50%;}#sk-e70fcf47-f664-4d09-ae40-0de5f671e9d6 div.sk-parallel-item:only-child::after {width: 0;}#sk-e70fcf47-f664-4d09-ae40-0de5f671e9d6 div.sk-dashed-wrapped {border: 1px dashed gray;margin: 0 0.4em 0.5em 0.4em;box-sizing: border-box;padding-bottom: 0.4em;background-color: white;position: relative;}#sk-e70fcf47-f664-4d09-ae40-0de5f671e9d6 div.sk-label label {font-family: monospace;font-weight: bold;background-color: white;display: inline-block;line-height: 1.2em;}#sk-e70fcf47-f664-4d09-ae40-0de5f671e9d6 div.sk-label-container {position: relative;z-index: 2;text-align: center;}#sk-e70fcf47-f664-4d09-ae40-0de5f671e9d6 div.sk-container {/* jupyter's `normalize.less` sets `[hidden] { display: none; }` but bootstrap.min.css set `[hidden] { display: none !important; }` so we also need the `!important` here to be able to override the default hidden behavior on the sphinx rendered scikit-learn.org. See: https://github.com/scikit-learn/scikit-learn/issues/21755 */display: inline-block !important;position: relative;}#sk-e70fcf47-f664-4d09-ae40-0de5f671e9d6 div.sk-text-repr-fallback {display: none;}</style><div id=\"sk-e70fcf47-f664-4d09-ae40-0de5f671e9d6\" class=\"sk-top-container\"><div class=\"sk-text-repr-fallback\"><pre>GridSearchCV(cv=10, estimator=KNeighborsClassifier(),\n",
       "             param_grid={&#x27;n_neighbors&#x27;: [1, 2, 3, 4, 5, 6, 7, 8, 9, 10, 11, 12,\n",
       "                                         13, 14, 15, 16, 17, 18, 19, 20, 21, 22,\n",
       "                                         23, 24, 25, 26, 27, 28, 29, 30]},\n",
       "             scoring=&#x27;recall&#x27;)</pre><b>Please rerun this cell to show the HTML repr or trust the notebook.</b></div><div class=\"sk-container\" hidden><div class=\"sk-item sk-dashed-wrapped\"><div class=\"sk-label-container\"><div class=\"sk-label sk-toggleable\"><input class=\"sk-toggleable__control sk-hidden--visually\" id=\"bb1cee61-1fe9-4b8f-920e-820bbbdf907e\" type=\"checkbox\" ><label for=\"bb1cee61-1fe9-4b8f-920e-820bbbdf907e\" class=\"sk-toggleable__label sk-toggleable__label-arrow\">GridSearchCV</label><div class=\"sk-toggleable__content\"><pre>GridSearchCV(cv=10, estimator=KNeighborsClassifier(),\n",
       "             param_grid={&#x27;n_neighbors&#x27;: [1, 2, 3, 4, 5, 6, 7, 8, 9, 10, 11, 12,\n",
       "                                         13, 14, 15, 16, 17, 18, 19, 20, 21, 22,\n",
       "                                         23, 24, 25, 26, 27, 28, 29, 30]},\n",
       "             scoring=&#x27;recall&#x27;)</pre></div></div></div><div class=\"sk-parallel\"><div class=\"sk-parallel-item\"><div class=\"sk-item\"><div class=\"sk-serial\"><div class=\"sk-item\"><div class=\"sk-estimator sk-toggleable\"><input class=\"sk-toggleable__control sk-hidden--visually\" id=\"0435ae26-f681-4905-8657-bedaa765df3d\" type=\"checkbox\" ><label for=\"0435ae26-f681-4905-8657-bedaa765df3d\" class=\"sk-toggleable__label sk-toggleable__label-arrow\">KNeighborsClassifier</label><div class=\"sk-toggleable__content\"><pre>KNeighborsClassifier()</pre></div></div></div></div></div></div></div></div></div></div>"
      ],
      "text/plain": [
       "GridSearchCV(cv=10, estimator=KNeighborsClassifier(),\n",
       "             param_grid={'n_neighbors': [1, 2, 3, 4, 5, 6, 7, 8, 9, 10, 11, 12,\n",
       "                                         13, 14, 15, 16, 17, 18, 19, 20, 21, 22,\n",
       "                                         23, 24, 25, 26, 27, 28, 29, 30]},\n",
       "             scoring='recall')"
      ]
     },
     "execution_count": 33,
     "metadata": {},
     "output_type": "execute_result"
    }
   ],
   "source": [
    "# Fitting grid on train set\n",
    "grid.fit(X_train, y_train)"
   ]
  },
  {
   "cell_type": "code",
   "execution_count": 34,
   "id": "9833d1f0",
   "metadata": {},
   "outputs": [],
   "source": [
    "best_neigh = grid.best_estimator_"
   ]
  },
  {
   "cell_type": "markdown",
   "id": "01f6e87f",
   "metadata": {},
   "source": [
    "### Best Neigh model"
   ]
  },
  {
   "cell_type": "code",
   "execution_count": 35,
   "id": "b5952635",
   "metadata": {},
   "outputs": [
    {
     "data": {
      "text/html": [
       "<style>#sk-d5285ee6-f530-4efb-936d-472733c3fb12 {color: black;background-color: white;}#sk-d5285ee6-f530-4efb-936d-472733c3fb12 pre{padding: 0;}#sk-d5285ee6-f530-4efb-936d-472733c3fb12 div.sk-toggleable {background-color: white;}#sk-d5285ee6-f530-4efb-936d-472733c3fb12 label.sk-toggleable__label {cursor: pointer;display: block;width: 100%;margin-bottom: 0;padding: 0.3em;box-sizing: border-box;text-align: center;}#sk-d5285ee6-f530-4efb-936d-472733c3fb12 label.sk-toggleable__label-arrow:before {content: \"▸\";float: left;margin-right: 0.25em;color: #696969;}#sk-d5285ee6-f530-4efb-936d-472733c3fb12 label.sk-toggleable__label-arrow:hover:before {color: black;}#sk-d5285ee6-f530-4efb-936d-472733c3fb12 div.sk-estimator:hover label.sk-toggleable__label-arrow:before {color: black;}#sk-d5285ee6-f530-4efb-936d-472733c3fb12 div.sk-toggleable__content {max-height: 0;max-width: 0;overflow: hidden;text-align: left;background-color: #f0f8ff;}#sk-d5285ee6-f530-4efb-936d-472733c3fb12 div.sk-toggleable__content pre {margin: 0.2em;color: black;border-radius: 0.25em;background-color: #f0f8ff;}#sk-d5285ee6-f530-4efb-936d-472733c3fb12 input.sk-toggleable__control:checked~div.sk-toggleable__content {max-height: 200px;max-width: 100%;overflow: auto;}#sk-d5285ee6-f530-4efb-936d-472733c3fb12 input.sk-toggleable__control:checked~label.sk-toggleable__label-arrow:before {content: \"▾\";}#sk-d5285ee6-f530-4efb-936d-472733c3fb12 div.sk-estimator input.sk-toggleable__control:checked~label.sk-toggleable__label {background-color: #d4ebff;}#sk-d5285ee6-f530-4efb-936d-472733c3fb12 div.sk-label input.sk-toggleable__control:checked~label.sk-toggleable__label {background-color: #d4ebff;}#sk-d5285ee6-f530-4efb-936d-472733c3fb12 input.sk-hidden--visually {border: 0;clip: rect(1px 1px 1px 1px);clip: rect(1px, 1px, 1px, 1px);height: 1px;margin: -1px;overflow: hidden;padding: 0;position: absolute;width: 1px;}#sk-d5285ee6-f530-4efb-936d-472733c3fb12 div.sk-estimator {font-family: monospace;background-color: #f0f8ff;border: 1px dotted black;border-radius: 0.25em;box-sizing: border-box;margin-bottom: 0.5em;}#sk-d5285ee6-f530-4efb-936d-472733c3fb12 div.sk-estimator:hover {background-color: #d4ebff;}#sk-d5285ee6-f530-4efb-936d-472733c3fb12 div.sk-parallel-item::after {content: \"\";width: 100%;border-bottom: 1px solid gray;flex-grow: 1;}#sk-d5285ee6-f530-4efb-936d-472733c3fb12 div.sk-label:hover label.sk-toggleable__label {background-color: #d4ebff;}#sk-d5285ee6-f530-4efb-936d-472733c3fb12 div.sk-serial::before {content: \"\";position: absolute;border-left: 1px solid gray;box-sizing: border-box;top: 2em;bottom: 0;left: 50%;}#sk-d5285ee6-f530-4efb-936d-472733c3fb12 div.sk-serial {display: flex;flex-direction: column;align-items: center;background-color: white;padding-right: 0.2em;padding-left: 0.2em;}#sk-d5285ee6-f530-4efb-936d-472733c3fb12 div.sk-item {z-index: 1;}#sk-d5285ee6-f530-4efb-936d-472733c3fb12 div.sk-parallel {display: flex;align-items: stretch;justify-content: center;background-color: white;}#sk-d5285ee6-f530-4efb-936d-472733c3fb12 div.sk-parallel::before {content: \"\";position: absolute;border-left: 1px solid gray;box-sizing: border-box;top: 2em;bottom: 0;left: 50%;}#sk-d5285ee6-f530-4efb-936d-472733c3fb12 div.sk-parallel-item {display: flex;flex-direction: column;position: relative;background-color: white;}#sk-d5285ee6-f530-4efb-936d-472733c3fb12 div.sk-parallel-item:first-child::after {align-self: flex-end;width: 50%;}#sk-d5285ee6-f530-4efb-936d-472733c3fb12 div.sk-parallel-item:last-child::after {align-self: flex-start;width: 50%;}#sk-d5285ee6-f530-4efb-936d-472733c3fb12 div.sk-parallel-item:only-child::after {width: 0;}#sk-d5285ee6-f530-4efb-936d-472733c3fb12 div.sk-dashed-wrapped {border: 1px dashed gray;margin: 0 0.4em 0.5em 0.4em;box-sizing: border-box;padding-bottom: 0.4em;background-color: white;position: relative;}#sk-d5285ee6-f530-4efb-936d-472733c3fb12 div.sk-label label {font-family: monospace;font-weight: bold;background-color: white;display: inline-block;line-height: 1.2em;}#sk-d5285ee6-f530-4efb-936d-472733c3fb12 div.sk-label-container {position: relative;z-index: 2;text-align: center;}#sk-d5285ee6-f530-4efb-936d-472733c3fb12 div.sk-container {/* jupyter's `normalize.less` sets `[hidden] { display: none; }` but bootstrap.min.css set `[hidden] { display: none !important; }` so we also need the `!important` here to be able to override the default hidden behavior on the sphinx rendered scikit-learn.org. See: https://github.com/scikit-learn/scikit-learn/issues/21755 */display: inline-block !important;position: relative;}#sk-d5285ee6-f530-4efb-936d-472733c3fb12 div.sk-text-repr-fallback {display: none;}</style><div id=\"sk-d5285ee6-f530-4efb-936d-472733c3fb12\" class=\"sk-top-container\"><div class=\"sk-text-repr-fallback\"><pre>KNeighborsClassifier(n_neighbors=1)</pre><b>Please rerun this cell to show the HTML repr or trust the notebook.</b></div><div class=\"sk-container\" hidden><div class=\"sk-item\"><div class=\"sk-estimator sk-toggleable\"><input class=\"sk-toggleable__control sk-hidden--visually\" id=\"bf8fa498-1a53-46ef-ad76-37764fb6d052\" type=\"checkbox\" checked><label for=\"bf8fa498-1a53-46ef-ad76-37764fb6d052\" class=\"sk-toggleable__label sk-toggleable__label-arrow\">KNeighborsClassifier</label><div class=\"sk-toggleable__content\"><pre>KNeighborsClassifier(n_neighbors=1)</pre></div></div></div></div></div>"
      ],
      "text/plain": [
       "KNeighborsClassifier(n_neighbors=1)"
      ]
     },
     "execution_count": 35,
     "metadata": {},
     "output_type": "execute_result"
    }
   ],
   "source": [
    "# Fitting KNeighborsClassifier\n",
    "best_neigh.fit(X_train, y_train)"
   ]
  },
  {
   "cell_type": "code",
   "execution_count": 36,
   "id": "86991c0f",
   "metadata": {},
   "outputs": [],
   "source": [
    "best_neigh_pred = best_neigh.predict(X_test)"
   ]
  },
  {
   "cell_type": "code",
   "execution_count": 37,
   "id": "bda63df9",
   "metadata": {},
   "outputs": [
    {
     "data": {
      "text/plain": [
       "0.6521739130434783"
      ]
     },
     "execution_count": 37,
     "metadata": {},
     "output_type": "execute_result"
    }
   ],
   "source": [
    "recall_score(y_test, best_neigh_pred)"
   ]
  },
  {
   "cell_type": "markdown",
   "id": "7fb88f81",
   "metadata": {},
   "source": [
    "# 🌳Decision Tree"
   ]
  },
  {
   "cell_type": "markdown",
   "id": "baa89e11",
   "metadata": {},
   "source": [
    "## Trial (just to practice)"
   ]
  },
  {
   "cell_type": "code",
   "execution_count": 38,
   "id": "04b2e8e9",
   "metadata": {},
   "outputs": [
    {
     "data": {
      "text/html": [
       "<div>\n",
       "<style scoped>\n",
       "    .dataframe tbody tr th:only-of-type {\n",
       "        vertical-align: middle;\n",
       "    }\n",
       "\n",
       "    .dataframe tbody tr th {\n",
       "        vertical-align: top;\n",
       "    }\n",
       "\n",
       "    .dataframe thead th {\n",
       "        text-align: right;\n",
       "    }\n",
       "</style>\n",
       "<table border=\"1\" class=\"dataframe\">\n",
       "  <thead>\n",
       "    <tr style=\"text-align: right;\">\n",
       "      <th></th>\n",
       "      <th>M/F</th>\n",
       "      <th>Age</th>\n",
       "      <th>Educ</th>\n",
       "      <th>SES</th>\n",
       "      <th>MMSE</th>\n",
       "      <th>eTIV</th>\n",
       "      <th>nWBV</th>\n",
       "      <th>ASF</th>\n",
       "    </tr>\n",
       "  </thead>\n",
       "  <tbody>\n",
       "    <tr>\n",
       "      <th>104</th>\n",
       "      <td>0.0</td>\n",
       "      <td>-1.437530</td>\n",
       "      <td>1.00</td>\n",
       "      <td>1.0</td>\n",
       "      <td>0.00</td>\n",
       "      <td>-0.395</td>\n",
       "      <td>0.823</td>\n",
       "      <td>1.283</td>\n",
       "    </tr>\n",
       "    <tr>\n",
       "      <th>172</th>\n",
       "      <td>1.0</td>\n",
       "      <td>0.717354</td>\n",
       "      <td>0.00</td>\n",
       "      <td>4.0</td>\n",
       "      <td>-0.25</td>\n",
       "      <td>1.515</td>\n",
       "      <td>0.676</td>\n",
       "      <td>1.003</td>\n",
       "    </tr>\n",
       "    <tr>\n",
       "      <th>171</th>\n",
       "      <td>0.0</td>\n",
       "      <td>0.634474</td>\n",
       "      <td>0.00</td>\n",
       "      <td>4.0</td>\n",
       "      <td>-0.50</td>\n",
       "      <td>1.035</td>\n",
       "      <td>0.678</td>\n",
       "      <td>1.061</td>\n",
       "    </tr>\n",
       "    <tr>\n",
       "      <th>111</th>\n",
       "      <td>1.0</td>\n",
       "      <td>0.965995</td>\n",
       "      <td>0.25</td>\n",
       "      <td>3.0</td>\n",
       "      <td>-2.25</td>\n",
       "      <td>0.970</td>\n",
       "      <td>0.703</td>\n",
       "      <td>1.070</td>\n",
       "    </tr>\n",
       "    <tr>\n",
       "      <th>222</th>\n",
       "      <td>1.0</td>\n",
       "      <td>0.717354</td>\n",
       "      <td>1.00</td>\n",
       "      <td>1.0</td>\n",
       "      <td>0.00</td>\n",
       "      <td>1.000</td>\n",
       "      <td>0.721</td>\n",
       "      <td>1.066</td>\n",
       "    </tr>\n",
       "    <tr>\n",
       "      <th>...</th>\n",
       "      <td>...</td>\n",
       "      <td>...</td>\n",
       "      <td>...</td>\n",
       "      <td>...</td>\n",
       "      <td>...</td>\n",
       "      <td>...</td>\n",
       "      <td>...</td>\n",
       "      <td>...</td>\n",
       "    </tr>\n",
       "    <tr>\n",
       "      <th>106</th>\n",
       "      <td>0.0</td>\n",
       "      <td>0.137193</td>\n",
       "      <td>0.50</td>\n",
       "      <td>3.0</td>\n",
       "      <td>-0.25</td>\n",
       "      <td>0.835</td>\n",
       "      <td>0.697</td>\n",
       "      <td>1.087</td>\n",
       "    </tr>\n",
       "    <tr>\n",
       "      <th>14</th>\n",
       "      <td>0.0</td>\n",
       "      <td>-1.188889</td>\n",
       "      <td>1.00</td>\n",
       "      <td>1.0</td>\n",
       "      <td>0.25</td>\n",
       "      <td>-1.060</td>\n",
       "      <td>0.820</td>\n",
       "      <td>1.421</td>\n",
       "    </tr>\n",
       "    <tr>\n",
       "      <th>92</th>\n",
       "      <td>1.0</td>\n",
       "      <td>0.965995</td>\n",
       "      <td>1.00</td>\n",
       "      <td>1.0</td>\n",
       "      <td>0.00</td>\n",
       "      <td>1.300</td>\n",
       "      <td>0.731</td>\n",
       "      <td>1.028</td>\n",
       "    </tr>\n",
       "    <tr>\n",
       "      <th>179</th>\n",
       "      <td>1.0</td>\n",
       "      <td>1.131755</td>\n",
       "      <td>0.00</td>\n",
       "      <td>4.0</td>\n",
       "      <td>-3.50</td>\n",
       "      <td>0.325</td>\n",
       "      <td>0.665</td>\n",
       "      <td>1.161</td>\n",
       "    </tr>\n",
       "    <tr>\n",
       "      <th>102</th>\n",
       "      <td>0.0</td>\n",
       "      <td>0.468714</td>\n",
       "      <td>1.00</td>\n",
       "      <td>1.0</td>\n",
       "      <td>0.25</td>\n",
       "      <td>-1.020</td>\n",
       "      <td>0.747</td>\n",
       "      <td>1.412</td>\n",
       "    </tr>\n",
       "  </tbody>\n",
       "</table>\n",
       "<p>176 rows × 8 columns</p>\n",
       "</div>"
      ],
      "text/plain": [
       "     M/F       Age  Educ  SES  MMSE   eTIV   nWBV    ASF\n",
       "104  0.0 -1.437530  1.00  1.0  0.00 -0.395  0.823  1.283\n",
       "172  1.0  0.717354  0.00  4.0 -0.25  1.515  0.676  1.003\n",
       "171  0.0  0.634474  0.00  4.0 -0.50  1.035  0.678  1.061\n",
       "111  1.0  0.965995  0.25  3.0 -2.25  0.970  0.703  1.070\n",
       "222  1.0  0.717354  1.00  1.0  0.00  1.000  0.721  1.066\n",
       "..   ...       ...   ...  ...   ...    ...    ...    ...\n",
       "106  0.0  0.137193  0.50  3.0 -0.25  0.835  0.697  1.087\n",
       "14   0.0 -1.188889  1.00  1.0  0.25 -1.060  0.820  1.421\n",
       "92   1.0  0.965995  1.00  1.0  0.00  1.300  0.731  1.028\n",
       "179  1.0  1.131755  0.00  4.0 -3.50  0.325  0.665  1.161\n",
       "102  0.0  0.468714  1.00  1.0  0.25 -1.020  0.747  1.412\n",
       "\n",
       "[176 rows x 8 columns]"
      ]
     },
     "execution_count": 38,
     "metadata": {},
     "output_type": "execute_result"
    }
   ],
   "source": [
    "# Making a copy of X_scaled\n",
    "X_train_trial = X_train.copy()\n",
    "X_train_trial"
   ]
  },
  {
   "cell_type": "code",
   "execution_count": 39,
   "id": "712b3483",
   "metadata": {},
   "outputs": [
    {
     "data": {
      "text/plain": [
       "(array([0, 1]), array([99, 77]))"
      ]
     },
     "execution_count": 39,
     "metadata": {},
     "output_type": "execute_result"
    }
   ],
   "source": [
    "np.unique(y_train, return_counts = True)"
   ]
  },
  {
   "cell_type": "code",
   "execution_count": 40,
   "id": "cc88c292",
   "metadata": {},
   "outputs": [],
   "source": [
    "# Instantiating Decision Tree\n",
    "tree_clf = DecisionTreeClassifier(max_depth = 5)"
   ]
  },
  {
   "cell_type": "code",
   "execution_count": 41,
   "id": "6677aa45",
   "metadata": {},
   "outputs": [
    {
     "data": {
      "text/html": [
       "<style>#sk-50f137e9-4a61-40d8-8d11-76353a22c96e {color: black;background-color: white;}#sk-50f137e9-4a61-40d8-8d11-76353a22c96e pre{padding: 0;}#sk-50f137e9-4a61-40d8-8d11-76353a22c96e div.sk-toggleable {background-color: white;}#sk-50f137e9-4a61-40d8-8d11-76353a22c96e label.sk-toggleable__label {cursor: pointer;display: block;width: 100%;margin-bottom: 0;padding: 0.3em;box-sizing: border-box;text-align: center;}#sk-50f137e9-4a61-40d8-8d11-76353a22c96e label.sk-toggleable__label-arrow:before {content: \"▸\";float: left;margin-right: 0.25em;color: #696969;}#sk-50f137e9-4a61-40d8-8d11-76353a22c96e label.sk-toggleable__label-arrow:hover:before {color: black;}#sk-50f137e9-4a61-40d8-8d11-76353a22c96e div.sk-estimator:hover label.sk-toggleable__label-arrow:before {color: black;}#sk-50f137e9-4a61-40d8-8d11-76353a22c96e div.sk-toggleable__content {max-height: 0;max-width: 0;overflow: hidden;text-align: left;background-color: #f0f8ff;}#sk-50f137e9-4a61-40d8-8d11-76353a22c96e div.sk-toggleable__content pre {margin: 0.2em;color: black;border-radius: 0.25em;background-color: #f0f8ff;}#sk-50f137e9-4a61-40d8-8d11-76353a22c96e input.sk-toggleable__control:checked~div.sk-toggleable__content {max-height: 200px;max-width: 100%;overflow: auto;}#sk-50f137e9-4a61-40d8-8d11-76353a22c96e input.sk-toggleable__control:checked~label.sk-toggleable__label-arrow:before {content: \"▾\";}#sk-50f137e9-4a61-40d8-8d11-76353a22c96e div.sk-estimator input.sk-toggleable__control:checked~label.sk-toggleable__label {background-color: #d4ebff;}#sk-50f137e9-4a61-40d8-8d11-76353a22c96e div.sk-label input.sk-toggleable__control:checked~label.sk-toggleable__label {background-color: #d4ebff;}#sk-50f137e9-4a61-40d8-8d11-76353a22c96e input.sk-hidden--visually {border: 0;clip: rect(1px 1px 1px 1px);clip: rect(1px, 1px, 1px, 1px);height: 1px;margin: -1px;overflow: hidden;padding: 0;position: absolute;width: 1px;}#sk-50f137e9-4a61-40d8-8d11-76353a22c96e div.sk-estimator {font-family: monospace;background-color: #f0f8ff;border: 1px dotted black;border-radius: 0.25em;box-sizing: border-box;margin-bottom: 0.5em;}#sk-50f137e9-4a61-40d8-8d11-76353a22c96e div.sk-estimator:hover {background-color: #d4ebff;}#sk-50f137e9-4a61-40d8-8d11-76353a22c96e div.sk-parallel-item::after {content: \"\";width: 100%;border-bottom: 1px solid gray;flex-grow: 1;}#sk-50f137e9-4a61-40d8-8d11-76353a22c96e div.sk-label:hover label.sk-toggleable__label {background-color: #d4ebff;}#sk-50f137e9-4a61-40d8-8d11-76353a22c96e div.sk-serial::before {content: \"\";position: absolute;border-left: 1px solid gray;box-sizing: border-box;top: 2em;bottom: 0;left: 50%;}#sk-50f137e9-4a61-40d8-8d11-76353a22c96e div.sk-serial {display: flex;flex-direction: column;align-items: center;background-color: white;padding-right: 0.2em;padding-left: 0.2em;}#sk-50f137e9-4a61-40d8-8d11-76353a22c96e div.sk-item {z-index: 1;}#sk-50f137e9-4a61-40d8-8d11-76353a22c96e div.sk-parallel {display: flex;align-items: stretch;justify-content: center;background-color: white;}#sk-50f137e9-4a61-40d8-8d11-76353a22c96e div.sk-parallel::before {content: \"\";position: absolute;border-left: 1px solid gray;box-sizing: border-box;top: 2em;bottom: 0;left: 50%;}#sk-50f137e9-4a61-40d8-8d11-76353a22c96e div.sk-parallel-item {display: flex;flex-direction: column;position: relative;background-color: white;}#sk-50f137e9-4a61-40d8-8d11-76353a22c96e div.sk-parallel-item:first-child::after {align-self: flex-end;width: 50%;}#sk-50f137e9-4a61-40d8-8d11-76353a22c96e div.sk-parallel-item:last-child::after {align-self: flex-start;width: 50%;}#sk-50f137e9-4a61-40d8-8d11-76353a22c96e div.sk-parallel-item:only-child::after {width: 0;}#sk-50f137e9-4a61-40d8-8d11-76353a22c96e div.sk-dashed-wrapped {border: 1px dashed gray;margin: 0 0.4em 0.5em 0.4em;box-sizing: border-box;padding-bottom: 0.4em;background-color: white;position: relative;}#sk-50f137e9-4a61-40d8-8d11-76353a22c96e div.sk-label label {font-family: monospace;font-weight: bold;background-color: white;display: inline-block;line-height: 1.2em;}#sk-50f137e9-4a61-40d8-8d11-76353a22c96e div.sk-label-container {position: relative;z-index: 2;text-align: center;}#sk-50f137e9-4a61-40d8-8d11-76353a22c96e div.sk-container {/* jupyter's `normalize.less` sets `[hidden] { display: none; }` but bootstrap.min.css set `[hidden] { display: none !important; }` so we also need the `!important` here to be able to override the default hidden behavior on the sphinx rendered scikit-learn.org. See: https://github.com/scikit-learn/scikit-learn/issues/21755 */display: inline-block !important;position: relative;}#sk-50f137e9-4a61-40d8-8d11-76353a22c96e div.sk-text-repr-fallback {display: none;}</style><div id=\"sk-50f137e9-4a61-40d8-8d11-76353a22c96e\" class=\"sk-top-container\"><div class=\"sk-text-repr-fallback\"><pre>DecisionTreeClassifier(max_depth=5)</pre><b>Please rerun this cell to show the HTML repr or trust the notebook.</b></div><div class=\"sk-container\" hidden><div class=\"sk-item\"><div class=\"sk-estimator sk-toggleable\"><input class=\"sk-toggleable__control sk-hidden--visually\" id=\"dcd27d4d-faf7-43ca-9bb8-683ae6a2ce49\" type=\"checkbox\" checked><label for=\"dcd27d4d-faf7-43ca-9bb8-683ae6a2ce49\" class=\"sk-toggleable__label sk-toggleable__label-arrow\">DecisionTreeClassifier</label><div class=\"sk-toggleable__content\"><pre>DecisionTreeClassifier(max_depth=5)</pre></div></div></div></div></div>"
      ],
      "text/plain": [
       "DecisionTreeClassifier(max_depth=5)"
      ]
     },
     "execution_count": 41,
     "metadata": {},
     "output_type": "execute_result"
    }
   ],
   "source": [
    "# Fitting decision tree\n",
    "tree_clf.fit(X_train_trial,y_train)"
   ]
  },
  {
   "cell_type": "code",
   "execution_count": 42,
   "id": "813591ad",
   "metadata": {},
   "outputs": [
    {
     "data": {
      "text/plain": [
       "array([0, 1, 1, 0, 1, 0, 0, 0, 0, 1, 0, 0, 1, 0, 1, 1, 1, 1, 1, 1, 1, 1,\n",
       "       0, 1, 0, 0, 0, 0, 0, 0, 1, 1, 0, 0, 0, 1, 1, 1, 0, 0, 0, 1, 1, 1,\n",
       "       1, 0, 0, 0, 0, 1, 1, 0, 0, 0, 1, 0, 1, 1, 0])"
      ]
     },
     "execution_count": 42,
     "metadata": {},
     "output_type": "execute_result"
    }
   ],
   "source": [
    "# Predicting X_test\n",
    "prediction = tree_clf.predict(X_test)\n",
    "prediction"
   ]
  },
  {
   "cell_type": "code",
   "execution_count": 43,
   "id": "c2ade7aa",
   "metadata": {},
   "outputs": [
    {
     "data": {
      "text/plain": [
       "0.782608695652174"
      ]
     },
     "execution_count": 43,
     "metadata": {},
     "output_type": "execute_result"
    }
   ],
   "source": [
    "# Accuracy\n",
    "recall_score(y_test, prediction)"
   ]
  },
  {
   "cell_type": "code",
   "execution_count": 44,
   "id": "221fca1b",
   "metadata": {},
   "outputs": [
    {
     "data": {
      "image/svg+xml": [
       "<?xml version=\"1.0\" encoding=\"UTF-8\" standalone=\"no\"?>\n",
       "<!DOCTYPE svg PUBLIC \"-//W3C//DTD SVG 1.1//EN\"\n",
       " \"http://www.w3.org/Graphics/SVG/1.1/DTD/svg11.dtd\">\n",
       "<!-- Generated by graphviz version 2.43.0 (0)\n",
       " -->\n",
       "<!-- Title: Tree Pages: 1 -->\n",
       "<svg width=\"1202pt\" height=\"686pt\"\n",
       " viewBox=\"0.00 0.00 1202.00 686.00\" xmlns=\"http://www.w3.org/2000/svg\" xmlns:xlink=\"http://www.w3.org/1999/xlink\">\n",
       "<g id=\"graph0\" class=\"graph\" transform=\"scale(1 1) rotate(0) translate(4 682)\">\n",
       "<title>Tree</title>\n",
       "<polygon fill=\"white\" stroke=\"transparent\" points=\"-4,4 -4,-682 1198,-682 1198,4 -4,4\"/>\n",
       "<!-- 0 -->\n",
       "<g id=\"node1\" class=\"node\">\n",
       "<title>0</title>\n",
       "<path fill=\"#f9e3d3\" stroke=\"black\" d=\"M157,-328.5C157,-328.5 12,-328.5 12,-328.5 6,-328.5 0,-322.5 0,-316.5 0,-316.5 0,-257.5 0,-257.5 0,-251.5 6,-245.5 12,-245.5 12,-245.5 157,-245.5 157,-245.5 163,-245.5 169,-251.5 169,-257.5 169,-257.5 169,-316.5 169,-316.5 169,-322.5 163,-328.5 157,-328.5\"/>\n",
       "<text text-anchor=\"middle\" x=\"84.5\" y=\"-313.3\" font-family=\"futura\" font-size=\"14.00\">MMSE &lt;= &#45;0.375</text>\n",
       "<text text-anchor=\"middle\" x=\"84.5\" y=\"-298.3\" font-family=\"futura\" font-size=\"14.00\">gini = 0.492</text>\n",
       "<text text-anchor=\"middle\" x=\"84.5\" y=\"-283.3\" font-family=\"futura\" font-size=\"14.00\">samples = 176</text>\n",
       "<text text-anchor=\"middle\" x=\"84.5\" y=\"-268.3\" font-family=\"futura\" font-size=\"14.00\">value = [99, 77]</text>\n",
       "<text text-anchor=\"middle\" x=\"84.5\" y=\"-253.3\" font-family=\"futura\" font-size=\"14.00\">class = nondemented</text>\n",
       "</g>\n",
       "<!-- 1 -->\n",
       "<g id=\"node2\" class=\"node\">\n",
       "<title>1</title>\n",
       "<path fill=\"#56ace9\" stroke=\"black\" d=\"M349,-387.5C349,-387.5 230,-387.5 230,-387.5 224,-387.5 218,-381.5 218,-375.5 218,-375.5 218,-316.5 218,-316.5 218,-310.5 224,-304.5 230,-304.5 230,-304.5 349,-304.5 349,-304.5 355,-304.5 361,-310.5 361,-316.5 361,-316.5 361,-375.5 361,-375.5 361,-381.5 355,-387.5 349,-387.5\"/>\n",
       "<text text-anchor=\"middle\" x=\"289.5\" y=\"-372.3\" font-family=\"futura\" font-size=\"14.00\">MMSE &lt;= &#45;1.125</text>\n",
       "<text text-anchor=\"middle\" x=\"289.5\" y=\"-357.3\" font-family=\"futura\" font-size=\"14.00\">gini = 0.225</text>\n",
       "<text text-anchor=\"middle\" x=\"289.5\" y=\"-342.3\" font-family=\"futura\" font-size=\"14.00\">samples = 62</text>\n",
       "<text text-anchor=\"middle\" x=\"289.5\" y=\"-327.3\" font-family=\"futura\" font-size=\"14.00\">value = [8, 54]</text>\n",
       "<text text-anchor=\"middle\" x=\"289.5\" y=\"-312.3\" font-family=\"futura\" font-size=\"14.00\">class = demented</text>\n",
       "</g>\n",
       "<!-- 0&#45;&gt;1 -->\n",
       "<g id=\"edge1\" class=\"edge\">\n",
       "<title>0&#45;&gt;1</title>\n",
       "<path fill=\"none\" stroke=\"black\" d=\"M169.24,-311.34C182.12,-315.08 195.4,-318.94 208.2,-322.66\"/>\n",
       "<polygon fill=\"black\" stroke=\"black\" points=\"207.3,-326.05 217.88,-325.48 209.26,-319.32 207.3,-326.05\"/>\n",
       "<text text-anchor=\"middle\" x=\"195.97\" y=\"-333.82\" font-family=\"futura\" font-size=\"14.00\">True</text>\n",
       "</g>\n",
       "<!-- 14 -->\n",
       "<g id=\"node15\" class=\"node\">\n",
       "<title>14</title>\n",
       "<path fill=\"#eca16b\" stroke=\"black\" d=\"M362,-278.5C362,-278.5 217,-278.5 217,-278.5 211,-278.5 205,-272.5 205,-266.5 205,-266.5 205,-207.5 205,-207.5 205,-201.5 211,-195.5 217,-195.5 217,-195.5 362,-195.5 362,-195.5 368,-195.5 374,-201.5 374,-207.5 374,-207.5 374,-266.5 374,-266.5 374,-272.5 368,-278.5 362,-278.5\"/>\n",
       "<text text-anchor=\"middle\" x=\"289.5\" y=\"-263.3\" font-family=\"futura\" font-size=\"14.00\">nWBV &lt;= 0.787</text>\n",
       "<text text-anchor=\"middle\" x=\"289.5\" y=\"-248.3\" font-family=\"futura\" font-size=\"14.00\">gini = 0.322</text>\n",
       "<text text-anchor=\"middle\" x=\"289.5\" y=\"-233.3\" font-family=\"futura\" font-size=\"14.00\">samples = 114</text>\n",
       "<text text-anchor=\"middle\" x=\"289.5\" y=\"-218.3\" font-family=\"futura\" font-size=\"14.00\">value = [91, 23]</text>\n",
       "<text text-anchor=\"middle\" x=\"289.5\" y=\"-203.3\" font-family=\"futura\" font-size=\"14.00\">class = nondemented</text>\n",
       "</g>\n",
       "<!-- 0&#45;&gt;14 -->\n",
       "<g id=\"edge14\" class=\"edge\">\n",
       "<title>0&#45;&gt;14</title>\n",
       "<path fill=\"none\" stroke=\"black\" d=\"M169.24,-266.37C177.81,-264.26 186.55,-262.11 195.22,-259.98\"/>\n",
       "<polygon fill=\"black\" stroke=\"black\" points=\"196.08,-263.37 204.95,-257.58 194.41,-256.57 196.08,-263.37\"/>\n",
       "<text text-anchor=\"middle\" x=\"183.56\" y=\"-240.94\" font-family=\"futura\" font-size=\"14.00\">False</text>\n",
       "</g>\n",
       "<!-- 2 -->\n",
       "<g id=\"node3\" class=\"node\">\n",
       "<title>2</title>\n",
       "<path fill=\"#399de5\" stroke=\"black\" d=\"M554,-474C554,-474 435,-474 435,-474 429,-474 423,-468 423,-462 423,-462 423,-418 423,-418 423,-412 429,-406 435,-406 435,-406 554,-406 554,-406 560,-406 566,-412 566,-418 566,-418 566,-462 566,-462 566,-468 560,-474 554,-474\"/>\n",
       "<text text-anchor=\"middle\" x=\"494.5\" y=\"-458.8\" font-family=\"futura\" font-size=\"14.00\">gini = 0.0</text>\n",
       "<text text-anchor=\"middle\" x=\"494.5\" y=\"-443.8\" font-family=\"futura\" font-size=\"14.00\">samples = 40</text>\n",
       "<text text-anchor=\"middle\" x=\"494.5\" y=\"-428.8\" font-family=\"futura\" font-size=\"14.00\">value = [0, 40]</text>\n",
       "<text text-anchor=\"middle\" x=\"494.5\" y=\"-413.8\" font-family=\"futura\" font-size=\"14.00\">class = demented</text>\n",
       "</g>\n",
       "<!-- 1&#45;&gt;2 -->\n",
       "<g id=\"edge2\" class=\"edge\">\n",
       "<title>1&#45;&gt;2</title>\n",
       "<path fill=\"none\" stroke=\"black\" d=\"M361.21,-378.74C378.01,-386.52 396.06,-394.88 413.25,-402.84\"/>\n",
       "<polygon fill=\"black\" stroke=\"black\" points=\"412.15,-406.19 422.7,-407.21 415.09,-399.84 412.15,-406.19\"/>\n",
       "</g>\n",
       "<!-- 3 -->\n",
       "<g id=\"node4\" class=\"node\">\n",
       "<title>3</title>\n",
       "<path fill=\"#aad5f4\" stroke=\"black\" d=\"M554,-387.5C554,-387.5 435,-387.5 435,-387.5 429,-387.5 423,-381.5 423,-375.5 423,-375.5 423,-316.5 423,-316.5 423,-310.5 429,-304.5 435,-304.5 435,-304.5 554,-304.5 554,-304.5 560,-304.5 566,-310.5 566,-316.5 566,-316.5 566,-375.5 566,-375.5 566,-381.5 560,-387.5 554,-387.5\"/>\n",
       "<text text-anchor=\"middle\" x=\"494.5\" y=\"-372.3\" font-family=\"futura\" font-size=\"14.00\">ASF &lt;= 1.266</text>\n",
       "<text text-anchor=\"middle\" x=\"494.5\" y=\"-357.3\" font-family=\"futura\" font-size=\"14.00\">gini = 0.463</text>\n",
       "<text text-anchor=\"middle\" x=\"494.5\" y=\"-342.3\" font-family=\"futura\" font-size=\"14.00\">samples = 22</text>\n",
       "<text text-anchor=\"middle\" x=\"494.5\" y=\"-327.3\" font-family=\"futura\" font-size=\"14.00\">value = [8, 14]</text>\n",
       "<text text-anchor=\"middle\" x=\"494.5\" y=\"-312.3\" font-family=\"futura\" font-size=\"14.00\">class = demented</text>\n",
       "</g>\n",
       "<!-- 1&#45;&gt;3 -->\n",
       "<g id=\"edge3\" class=\"edge\">\n",
       "<title>1&#45;&gt;3</title>\n",
       "<path fill=\"none\" stroke=\"black\" d=\"M361.21,-346C377.7,-346 395.39,-346 412.29,-346\"/>\n",
       "<polygon fill=\"black\" stroke=\"black\" points=\"412.7,-349.5 422.7,-346 412.7,-342.5 412.7,-349.5\"/>\n",
       "</g>\n",
       "<!-- 4 -->\n",
       "<g id=\"node5\" class=\"node\">\n",
       "<title>4</title>\n",
       "<path fill=\"#49a5e7\" stroke=\"black\" d=\"M759,-591.5C759,-591.5 640,-591.5 640,-591.5 634,-591.5 628,-585.5 628,-579.5 628,-579.5 628,-520.5 628,-520.5 628,-514.5 634,-508.5 640,-508.5 640,-508.5 759,-508.5 759,-508.5 765,-508.5 771,-514.5 771,-520.5 771,-520.5 771,-579.5 771,-579.5 771,-585.5 765,-591.5 759,-591.5\"/>\n",
       "<text text-anchor=\"middle\" x=\"699.5\" y=\"-576.3\" font-family=\"futura\" font-size=\"14.00\">nWBV &lt;= 0.747</text>\n",
       "<text text-anchor=\"middle\" x=\"699.5\" y=\"-561.3\" font-family=\"futura\" font-size=\"14.00\">gini = 0.142</text>\n",
       "<text text-anchor=\"middle\" x=\"699.5\" y=\"-546.3\" font-family=\"futura\" font-size=\"14.00\">samples = 13</text>\n",
       "<text text-anchor=\"middle\" x=\"699.5\" y=\"-531.3\" font-family=\"futura\" font-size=\"14.00\">value = [1, 12]</text>\n",
       "<text text-anchor=\"middle\" x=\"699.5\" y=\"-516.3\" font-family=\"futura\" font-size=\"14.00\">class = demented</text>\n",
       "</g>\n",
       "<!-- 3&#45;&gt;4 -->\n",
       "<g id=\"edge4\" class=\"edge\">\n",
       "<title>3&#45;&gt;4</title>\n",
       "<path fill=\"none\" stroke=\"black\" d=\"M566.09,-386.5C570.59,-389.87 574.94,-393.38 579,-397 612.95,-427.26 644.31,-468.13 666.38,-500.02\"/>\n",
       "<polygon fill=\"black\" stroke=\"black\" points=\"663.54,-502.06 672.07,-508.34 669.32,-498.11 663.54,-502.06\"/>\n",
       "</g>\n",
       "<!-- 9 -->\n",
       "<g id=\"node10\" class=\"node\">\n",
       "<title>9</title>\n",
       "<path fill=\"#eca572\" stroke=\"black\" d=\"M772,-387.5C772,-387.5 627,-387.5 627,-387.5 621,-387.5 615,-381.5 615,-375.5 615,-375.5 615,-316.5 615,-316.5 615,-310.5 621,-304.5 627,-304.5 627,-304.5 772,-304.5 772,-304.5 778,-304.5 784,-310.5 784,-316.5 784,-316.5 784,-375.5 784,-375.5 784,-381.5 778,-387.5 772,-387.5\"/>\n",
       "<text text-anchor=\"middle\" x=\"699.5\" y=\"-372.3\" font-family=\"futura\" font-size=\"14.00\">ASF &lt;= 1.48</text>\n",
       "<text text-anchor=\"middle\" x=\"699.5\" y=\"-357.3\" font-family=\"futura\" font-size=\"14.00\">gini = 0.346</text>\n",
       "<text text-anchor=\"middle\" x=\"699.5\" y=\"-342.3\" font-family=\"futura\" font-size=\"14.00\">samples = 9</text>\n",
       "<text text-anchor=\"middle\" x=\"699.5\" y=\"-327.3\" font-family=\"futura\" font-size=\"14.00\">value = [7, 2]</text>\n",
       "<text text-anchor=\"middle\" x=\"699.5\" y=\"-312.3\" font-family=\"futura\" font-size=\"14.00\">class = nondemented</text>\n",
       "</g>\n",
       "<!-- 3&#45;&gt;9 -->\n",
       "<g id=\"edge9\" class=\"edge\">\n",
       "<title>3&#45;&gt;9</title>\n",
       "<path fill=\"none\" stroke=\"black\" d=\"M566.21,-346C578.58,-346 591.63,-346 604.51,-346\"/>\n",
       "<polygon fill=\"black\" stroke=\"black\" points=\"604.79,-349.5 614.79,-346 604.79,-342.5 604.79,-349.5\"/>\n",
       "</g>\n",
       "<!-- 5 -->\n",
       "<g id=\"node6\" class=\"node\">\n",
       "<title>5</title>\n",
       "<path fill=\"#399de5\" stroke=\"black\" d=\"M964,-678C964,-678 845,-678 845,-678 839,-678 833,-672 833,-666 833,-666 833,-622 833,-622 833,-616 839,-610 845,-610 845,-610 964,-610 964,-610 970,-610 976,-616 976,-622 976,-622 976,-666 976,-666 976,-672 970,-678 964,-678\"/>\n",
       "<text text-anchor=\"middle\" x=\"904.5\" y=\"-662.8\" font-family=\"futura\" font-size=\"14.00\">gini = 0.0</text>\n",
       "<text text-anchor=\"middle\" x=\"904.5\" y=\"-647.8\" font-family=\"futura\" font-size=\"14.00\">samples = 11</text>\n",
       "<text text-anchor=\"middle\" x=\"904.5\" y=\"-632.8\" font-family=\"futura\" font-size=\"14.00\">value = [0, 11]</text>\n",
       "<text text-anchor=\"middle\" x=\"904.5\" y=\"-617.8\" font-family=\"futura\" font-size=\"14.00\">class = demented</text>\n",
       "</g>\n",
       "<!-- 4&#45;&gt;5 -->\n",
       "<g id=\"edge5\" class=\"edge\">\n",
       "<title>4&#45;&gt;5</title>\n",
       "<path fill=\"none\" stroke=\"black\" d=\"M771.21,-582.74C788.01,-590.52 806.06,-598.88 823.25,-606.84\"/>\n",
       "<polygon fill=\"black\" stroke=\"black\" points=\"822.15,-610.19 832.7,-611.21 825.09,-603.84 822.15,-610.19\"/>\n",
       "</g>\n",
       "<!-- 6 -->\n",
       "<g id=\"node7\" class=\"node\">\n",
       "<title>6</title>\n",
       "<path fill=\"#ffffff\" stroke=\"black\" d=\"M977,-591.5C977,-591.5 832,-591.5 832,-591.5 826,-591.5 820,-585.5 820,-579.5 820,-579.5 820,-520.5 820,-520.5 820,-514.5 826,-508.5 832,-508.5 832,-508.5 977,-508.5 977,-508.5 983,-508.5 989,-514.5 989,-520.5 989,-520.5 989,-579.5 989,-579.5 989,-585.5 983,-591.5 977,-591.5\"/>\n",
       "<text text-anchor=\"middle\" x=\"904.5\" y=\"-576.3\" font-family=\"futura\" font-size=\"14.00\">eTIV &lt;= 0.047</text>\n",
       "<text text-anchor=\"middle\" x=\"904.5\" y=\"-561.3\" font-family=\"futura\" font-size=\"14.00\">gini = 0.5</text>\n",
       "<text text-anchor=\"middle\" x=\"904.5\" y=\"-546.3\" font-family=\"futura\" font-size=\"14.00\">samples = 2</text>\n",
       "<text text-anchor=\"middle\" x=\"904.5\" y=\"-531.3\" font-family=\"futura\" font-size=\"14.00\">value = [1, 1]</text>\n",
       "<text text-anchor=\"middle\" x=\"904.5\" y=\"-516.3\" font-family=\"futura\" font-size=\"14.00\">class = nondemented</text>\n",
       "</g>\n",
       "<!-- 4&#45;&gt;6 -->\n",
       "<g id=\"edge6\" class=\"edge\">\n",
       "<title>4&#45;&gt;6</title>\n",
       "<path fill=\"none\" stroke=\"black\" d=\"M771.21,-550C783.58,-550 796.63,-550 809.51,-550\"/>\n",
       "<polygon fill=\"black\" stroke=\"black\" points=\"809.79,-553.5 819.79,-550 809.79,-546.5 809.79,-553.5\"/>\n",
       "</g>\n",
       "<!-- 7 -->\n",
       "<g id=\"node8\" class=\"node\">\n",
       "<title>7</title>\n",
       "<path fill=\"#399de5\" stroke=\"black\" d=\"M1169,-670C1169,-670 1050,-670 1050,-670 1044,-670 1038,-664 1038,-658 1038,-658 1038,-614 1038,-614 1038,-608 1044,-602 1050,-602 1050,-602 1169,-602 1169,-602 1175,-602 1181,-608 1181,-614 1181,-614 1181,-658 1181,-658 1181,-664 1175,-670 1169,-670\"/>\n",
       "<text text-anchor=\"middle\" x=\"1109.5\" y=\"-654.8\" font-family=\"futura\" font-size=\"14.00\">gini = 0.0</text>\n",
       "<text text-anchor=\"middle\" x=\"1109.5\" y=\"-639.8\" font-family=\"futura\" font-size=\"14.00\">samples = 1</text>\n",
       "<text text-anchor=\"middle\" x=\"1109.5\" y=\"-624.8\" font-family=\"futura\" font-size=\"14.00\">value = [0, 1]</text>\n",
       "<text text-anchor=\"middle\" x=\"1109.5\" y=\"-609.8\" font-family=\"futura\" font-size=\"14.00\">class = demented</text>\n",
       "</g>\n",
       "<!-- 6&#45;&gt;7 -->\n",
       "<g id=\"edge7\" class=\"edge\">\n",
       "<title>6&#45;&gt;7</title>\n",
       "<path fill=\"none\" stroke=\"black\" d=\"M989.24,-585.48C1002.25,-590.99 1015.66,-596.67 1028.58,-602.14\"/>\n",
       "<polygon fill=\"black\" stroke=\"black\" points=\"1027.31,-605.41 1037.88,-606.08 1030.04,-598.96 1027.31,-605.41\"/>\n",
       "</g>\n",
       "<!-- 8 -->\n",
       "<g id=\"node9\" class=\"node\">\n",
       "<title>8</title>\n",
       "<path fill=\"#e58139\" stroke=\"black\" d=\"M1182,-584C1182,-584 1037,-584 1037,-584 1031,-584 1025,-578 1025,-572 1025,-572 1025,-528 1025,-528 1025,-522 1031,-516 1037,-516 1037,-516 1182,-516 1182,-516 1188,-516 1194,-522 1194,-528 1194,-528 1194,-572 1194,-572 1194,-578 1188,-584 1182,-584\"/>\n",
       "<text text-anchor=\"middle\" x=\"1109.5\" y=\"-568.8\" font-family=\"futura\" font-size=\"14.00\">gini = 0.0</text>\n",
       "<text text-anchor=\"middle\" x=\"1109.5\" y=\"-553.8\" font-family=\"futura\" font-size=\"14.00\">samples = 1</text>\n",
       "<text text-anchor=\"middle\" x=\"1109.5\" y=\"-538.8\" font-family=\"futura\" font-size=\"14.00\">value = [1, 0]</text>\n",
       "<text text-anchor=\"middle\" x=\"1109.5\" y=\"-523.8\" font-family=\"futura\" font-size=\"14.00\">class = nondemented</text>\n",
       "</g>\n",
       "<!-- 6&#45;&gt;8 -->\n",
       "<g id=\"edge8\" class=\"edge\">\n",
       "<title>6&#45;&gt;8</title>\n",
       "<path fill=\"none\" stroke=\"black\" d=\"M989.24,-550C997.72,-550 1006.37,-550 1014.94,-550\"/>\n",
       "<polygon fill=\"black\" stroke=\"black\" points=\"1014.95,-553.5 1024.95,-550 1014.95,-546.5 1014.95,-553.5\"/>\n",
       "</g>\n",
       "<!-- 10 -->\n",
       "<g id=\"node11\" class=\"node\">\n",
       "<title>10</title>\n",
       "<path fill=\"#e99355\" stroke=\"black\" d=\"M977,-474.5C977,-474.5 832,-474.5 832,-474.5 826,-474.5 820,-468.5 820,-462.5 820,-462.5 820,-403.5 820,-403.5 820,-397.5 826,-391.5 832,-391.5 832,-391.5 977,-391.5 977,-391.5 983,-391.5 989,-397.5 989,-403.5 989,-403.5 989,-462.5 989,-462.5 989,-468.5 983,-474.5 977,-474.5\"/>\n",
       "<text text-anchor=\"middle\" x=\"904.5\" y=\"-459.3\" font-family=\"futura\" font-size=\"14.00\">SES &lt;= 2.5</text>\n",
       "<text text-anchor=\"middle\" x=\"904.5\" y=\"-444.3\" font-family=\"futura\" font-size=\"14.00\">gini = 0.219</text>\n",
       "<text text-anchor=\"middle\" x=\"904.5\" y=\"-429.3\" font-family=\"futura\" font-size=\"14.00\">samples = 8</text>\n",
       "<text text-anchor=\"middle\" x=\"904.5\" y=\"-414.3\" font-family=\"futura\" font-size=\"14.00\">value = [7, 1]</text>\n",
       "<text text-anchor=\"middle\" x=\"904.5\" y=\"-399.3\" font-family=\"futura\" font-size=\"14.00\">class = nondemented</text>\n",
       "</g>\n",
       "<!-- 9&#45;&gt;10 -->\n",
       "<g id=\"edge10\" class=\"edge\">\n",
       "<title>9&#45;&gt;10</title>\n",
       "<path fill=\"none\" stroke=\"black\" d=\"M784.24,-381.89C792.9,-385.6 801.74,-389.39 810.5,-393.14\"/>\n",
       "<polygon fill=\"black\" stroke=\"black\" points=\"809.38,-396.47 819.95,-397.19 812.14,-390.04 809.38,-396.47\"/>\n",
       "</g>\n",
       "<!-- 13 -->\n",
       "<g id=\"node14\" class=\"node\">\n",
       "<title>13</title>\n",
       "<path fill=\"#399de5\" stroke=\"black\" d=\"M964,-373C964,-373 845,-373 845,-373 839,-373 833,-367 833,-361 833,-361 833,-317 833,-317 833,-311 839,-305 845,-305 845,-305 964,-305 964,-305 970,-305 976,-311 976,-317 976,-317 976,-361 976,-361 976,-367 970,-373 964,-373\"/>\n",
       "<text text-anchor=\"middle\" x=\"904.5\" y=\"-357.8\" font-family=\"futura\" font-size=\"14.00\">gini = 0.0</text>\n",
       "<text text-anchor=\"middle\" x=\"904.5\" y=\"-342.8\" font-family=\"futura\" font-size=\"14.00\">samples = 1</text>\n",
       "<text text-anchor=\"middle\" x=\"904.5\" y=\"-327.8\" font-family=\"futura\" font-size=\"14.00\">value = [0, 1]</text>\n",
       "<text text-anchor=\"middle\" x=\"904.5\" y=\"-312.8\" font-family=\"futura\" font-size=\"14.00\">class = demented</text>\n",
       "</g>\n",
       "<!-- 9&#45;&gt;13 -->\n",
       "<g id=\"edge13\" class=\"edge\">\n",
       "<title>9&#45;&gt;13</title>\n",
       "<path fill=\"none\" stroke=\"black\" d=\"M784.24,-343.11C796.99,-342.67 810.13,-342.22 822.82,-341.78\"/>\n",
       "<polygon fill=\"black\" stroke=\"black\" points=\"823.01,-345.28 832.88,-341.44 822.77,-338.28 823.01,-345.28\"/>\n",
       "</g>\n",
       "<!-- 11 -->\n",
       "<g id=\"node12\" class=\"node\">\n",
       "<title>11</title>\n",
       "<path fill=\"#ffffff\" stroke=\"black\" d=\"M1182,-498C1182,-498 1037,-498 1037,-498 1031,-498 1025,-492 1025,-486 1025,-486 1025,-442 1025,-442 1025,-436 1031,-430 1037,-430 1037,-430 1182,-430 1182,-430 1188,-430 1194,-436 1194,-442 1194,-442 1194,-486 1194,-486 1194,-492 1188,-498 1182,-498\"/>\n",
       "<text text-anchor=\"middle\" x=\"1109.5\" y=\"-482.8\" font-family=\"futura\" font-size=\"14.00\">gini = 0.5</text>\n",
       "<text text-anchor=\"middle\" x=\"1109.5\" y=\"-467.8\" font-family=\"futura\" font-size=\"14.00\">samples = 2</text>\n",
       "<text text-anchor=\"middle\" x=\"1109.5\" y=\"-452.8\" font-family=\"futura\" font-size=\"14.00\">value = [1, 1]</text>\n",
       "<text text-anchor=\"middle\" x=\"1109.5\" y=\"-437.8\" font-family=\"futura\" font-size=\"14.00\">class = nondemented</text>\n",
       "</g>\n",
       "<!-- 10&#45;&gt;11 -->\n",
       "<g id=\"edge11\" class=\"edge\">\n",
       "<title>10&#45;&gt;11</title>\n",
       "<path fill=\"none\" stroke=\"black\" d=\"M989.24,-445.79C997.72,-447.08 1006.37,-448.4 1014.94,-449.71\"/>\n",
       "<polygon fill=\"black\" stroke=\"black\" points=\"1014.54,-453.19 1024.95,-451.24 1015.6,-446.27 1014.54,-453.19\"/>\n",
       "</g>\n",
       "<!-- 12 -->\n",
       "<g id=\"node13\" class=\"node\">\n",
       "<title>12</title>\n",
       "<path fill=\"#e58139\" stroke=\"black\" d=\"M1182,-412C1182,-412 1037,-412 1037,-412 1031,-412 1025,-406 1025,-400 1025,-400 1025,-356 1025,-356 1025,-350 1031,-344 1037,-344 1037,-344 1182,-344 1182,-344 1188,-344 1194,-350 1194,-356 1194,-356 1194,-400 1194,-400 1194,-406 1188,-412 1182,-412\"/>\n",
       "<text text-anchor=\"middle\" x=\"1109.5\" y=\"-396.8\" font-family=\"futura\" font-size=\"14.00\">gini = 0.0</text>\n",
       "<text text-anchor=\"middle\" x=\"1109.5\" y=\"-381.8\" font-family=\"futura\" font-size=\"14.00\">samples = 6</text>\n",
       "<text text-anchor=\"middle\" x=\"1109.5\" y=\"-366.8\" font-family=\"futura\" font-size=\"14.00\">value = [6, 0]</text>\n",
       "<text text-anchor=\"middle\" x=\"1109.5\" y=\"-351.8\" font-family=\"futura\" font-size=\"14.00\">class = nondemented</text>\n",
       "</g>\n",
       "<!-- 10&#45;&gt;12 -->\n",
       "<g id=\"edge12\" class=\"edge\">\n",
       "<title>10&#45;&gt;12</title>\n",
       "<path fill=\"none\" stroke=\"black\" d=\"M989.24,-410.31C997.81,-407.99 1006.55,-405.62 1015.22,-403.27\"/>\n",
       "<polygon fill=\"black\" stroke=\"black\" points=\"1016.22,-406.63 1024.95,-400.64 1014.39,-399.87 1016.22,-406.63\"/>\n",
       "</g>\n",
       "<!-- 15 -->\n",
       "<g id=\"node16\" class=\"node\">\n",
       "<title>15</title>\n",
       "<path fill=\"#f0b78d\" stroke=\"black\" d=\"M567,-278.5C567,-278.5 422,-278.5 422,-278.5 416,-278.5 410,-272.5 410,-266.5 410,-266.5 410,-207.5 410,-207.5 410,-201.5 416,-195.5 422,-195.5 422,-195.5 567,-195.5 567,-195.5 573,-195.5 579,-201.5 579,-207.5 579,-207.5 579,-266.5 579,-266.5 579,-272.5 573,-278.5 567,-278.5\"/>\n",
       "<text text-anchor=\"middle\" x=\"494.5\" y=\"-263.3\" font-family=\"futura\" font-size=\"14.00\">Age &lt;= 1.049</text>\n",
       "<text text-anchor=\"middle\" x=\"494.5\" y=\"-248.3\" font-family=\"futura\" font-size=\"14.00\">gini = 0.419</text>\n",
       "<text text-anchor=\"middle\" x=\"494.5\" y=\"-233.3\" font-family=\"futura\" font-size=\"14.00\">samples = 77</text>\n",
       "<text text-anchor=\"middle\" x=\"494.5\" y=\"-218.3\" font-family=\"futura\" font-size=\"14.00\">value = [54, 23]</text>\n",
       "<text text-anchor=\"middle\" x=\"494.5\" y=\"-203.3\" font-family=\"futura\" font-size=\"14.00\">class = nondemented</text>\n",
       "</g>\n",
       "<!-- 14&#45;&gt;15 -->\n",
       "<g id=\"edge15\" class=\"edge\">\n",
       "<title>14&#45;&gt;15</title>\n",
       "<path fill=\"none\" stroke=\"black\" d=\"M374.24,-237C382.72,-237 391.37,-237 399.94,-237\"/>\n",
       "<polygon fill=\"black\" stroke=\"black\" points=\"399.95,-240.5 409.95,-237 399.95,-233.5 399.95,-240.5\"/>\n",
       "</g>\n",
       "<!-- 24 -->\n",
       "<g id=\"node25\" class=\"node\">\n",
       "<title>24</title>\n",
       "<path fill=\"#e58139\" stroke=\"black\" d=\"M567,-177C567,-177 422,-177 422,-177 416,-177 410,-171 410,-165 410,-165 410,-121 410,-121 410,-115 416,-109 422,-109 422,-109 567,-109 567,-109 573,-109 579,-115 579,-121 579,-121 579,-165 579,-165 579,-171 573,-177 567,-177\"/>\n",
       "<text text-anchor=\"middle\" x=\"494.5\" y=\"-161.8\" font-family=\"futura\" font-size=\"14.00\">gini = 0.0</text>\n",
       "<text text-anchor=\"middle\" x=\"494.5\" y=\"-146.8\" font-family=\"futura\" font-size=\"14.00\">samples = 37</text>\n",
       "<text text-anchor=\"middle\" x=\"494.5\" y=\"-131.8\" font-family=\"futura\" font-size=\"14.00\">value = [37, 0]</text>\n",
       "<text text-anchor=\"middle\" x=\"494.5\" y=\"-116.8\" font-family=\"futura\" font-size=\"14.00\">class = nondemented</text>\n",
       "</g>\n",
       "<!-- 14&#45;&gt;24 -->\n",
       "<g id=\"edge24\" class=\"edge\">\n",
       "<title>14&#45;&gt;24</title>\n",
       "<path fill=\"none\" stroke=\"black\" d=\"M374.24,-198.22C386.34,-192.62 398.78,-186.86 410.86,-181.27\"/>\n",
       "<polygon fill=\"black\" stroke=\"black\" points=\"412.4,-184.41 420.01,-177.03 409.46,-178.06 412.4,-184.41\"/>\n",
       "</g>\n",
       "<!-- 16 -->\n",
       "<g id=\"node17\" class=\"node\">\n",
       "<title>16</title>\n",
       "<path fill=\"#f3c4a3\" stroke=\"black\" d=\"M772,-278.5C772,-278.5 627,-278.5 627,-278.5 621,-278.5 615,-272.5 615,-266.5 615,-266.5 615,-207.5 615,-207.5 615,-201.5 621,-195.5 627,-195.5 627,-195.5 772,-195.5 772,-195.5 778,-195.5 784,-201.5 784,-207.5 784,-207.5 784,-266.5 784,-266.5 784,-272.5 778,-278.5 772,-278.5\"/>\n",
       "<text text-anchor=\"middle\" x=\"699.5\" y=\"-263.3\" font-family=\"futura\" font-size=\"14.00\">MMSE &lt;= 0.125</text>\n",
       "<text text-anchor=\"middle\" x=\"699.5\" y=\"-248.3\" font-family=\"futura\" font-size=\"14.00\">gini = 0.454</text>\n",
       "<text text-anchor=\"middle\" x=\"699.5\" y=\"-233.3\" font-family=\"futura\" font-size=\"14.00\">samples = 66</text>\n",
       "<text text-anchor=\"middle\" x=\"699.5\" y=\"-218.3\" font-family=\"futura\" font-size=\"14.00\">value = [43, 23]</text>\n",
       "<text text-anchor=\"middle\" x=\"699.5\" y=\"-203.3\" font-family=\"futura\" font-size=\"14.00\">class = nondemented</text>\n",
       "</g>\n",
       "<!-- 15&#45;&gt;16 -->\n",
       "<g id=\"edge16\" class=\"edge\">\n",
       "<title>15&#45;&gt;16</title>\n",
       "<path fill=\"none\" stroke=\"black\" d=\"M579.24,-237C587.72,-237 596.37,-237 604.94,-237\"/>\n",
       "<polygon fill=\"black\" stroke=\"black\" points=\"604.95,-240.5 614.95,-237 604.95,-233.5 604.95,-240.5\"/>\n",
       "</g>\n",
       "<!-- 23 -->\n",
       "<g id=\"node24\" class=\"node\">\n",
       "<title>23</title>\n",
       "<path fill=\"#e58139\" stroke=\"black\" d=\"M772,-177C772,-177 627,-177 627,-177 621,-177 615,-171 615,-165 615,-165 615,-121 615,-121 615,-115 621,-109 627,-109 627,-109 772,-109 772,-109 778,-109 784,-115 784,-121 784,-121 784,-165 784,-165 784,-171 778,-177 772,-177\"/>\n",
       "<text text-anchor=\"middle\" x=\"699.5\" y=\"-161.8\" font-family=\"futura\" font-size=\"14.00\">gini = 0.0</text>\n",
       "<text text-anchor=\"middle\" x=\"699.5\" y=\"-146.8\" font-family=\"futura\" font-size=\"14.00\">samples = 11</text>\n",
       "<text text-anchor=\"middle\" x=\"699.5\" y=\"-131.8\" font-family=\"futura\" font-size=\"14.00\">value = [11, 0]</text>\n",
       "<text text-anchor=\"middle\" x=\"699.5\" y=\"-116.8\" font-family=\"futura\" font-size=\"14.00\">class = nondemented</text>\n",
       "</g>\n",
       "<!-- 15&#45;&gt;23 -->\n",
       "<g id=\"edge23\" class=\"edge\">\n",
       "<title>15&#45;&gt;23</title>\n",
       "<path fill=\"none\" stroke=\"black\" d=\"M579.24,-198.22C591.34,-192.62 603.78,-186.86 615.86,-181.27\"/>\n",
       "<polygon fill=\"black\" stroke=\"black\" points=\"617.4,-184.41 625.01,-177.03 614.46,-178.06 617.4,-184.41\"/>\n",
       "</g>\n",
       "<!-- 17 -->\n",
       "<g id=\"node18\" class=\"node\">\n",
       "<title>17</title>\n",
       "<path fill=\"#fae7d9\" stroke=\"black\" d=\"M977,-278.5C977,-278.5 832,-278.5 832,-278.5 826,-278.5 820,-272.5 820,-266.5 820,-266.5 820,-207.5 820,-207.5 820,-201.5 826,-195.5 832,-195.5 832,-195.5 977,-195.5 977,-195.5 983,-195.5 989,-201.5 989,-207.5 989,-207.5 989,-266.5 989,-266.5 989,-272.5 983,-278.5 977,-278.5\"/>\n",
       "<text text-anchor=\"middle\" x=\"904.5\" y=\"-263.3\" font-family=\"futura\" font-size=\"14.00\">SES &lt;= 3.5</text>\n",
       "<text text-anchor=\"middle\" x=\"904.5\" y=\"-248.3\" font-family=\"futura\" font-size=\"14.00\">gini = 0.494</text>\n",
       "<text text-anchor=\"middle\" x=\"904.5\" y=\"-233.3\" font-family=\"futura\" font-size=\"14.00\">samples = 38</text>\n",
       "<text text-anchor=\"middle\" x=\"904.5\" y=\"-218.3\" font-family=\"futura\" font-size=\"14.00\">value = [21, 17]</text>\n",
       "<text text-anchor=\"middle\" x=\"904.5\" y=\"-203.3\" font-family=\"futura\" font-size=\"14.00\">class = nondemented</text>\n",
       "</g>\n",
       "<!-- 16&#45;&gt;17 -->\n",
       "<g id=\"edge17\" class=\"edge\">\n",
       "<title>16&#45;&gt;17</title>\n",
       "<path fill=\"none\" stroke=\"black\" d=\"M784.24,-237C792.72,-237 801.37,-237 809.94,-237\"/>\n",
       "<polygon fill=\"black\" stroke=\"black\" points=\"809.95,-240.5 819.95,-237 809.95,-233.5 809.95,-240.5\"/>\n",
       "</g>\n",
       "<!-- 20 -->\n",
       "<g id=\"node21\" class=\"node\">\n",
       "<title>20</title>\n",
       "<path fill=\"#eca36f\" stroke=\"black\" d=\"M977,-161.5C977,-161.5 832,-161.5 832,-161.5 826,-161.5 820,-155.5 820,-149.5 820,-149.5 820,-90.5 820,-90.5 820,-84.5 826,-78.5 832,-78.5 832,-78.5 977,-78.5 977,-78.5 983,-78.5 989,-84.5 989,-90.5 989,-90.5 989,-149.5 989,-149.5 989,-155.5 983,-161.5 977,-161.5\"/>\n",
       "<text text-anchor=\"middle\" x=\"904.5\" y=\"-146.3\" font-family=\"futura\" font-size=\"14.00\">Educ &lt;= 0.875</text>\n",
       "<text text-anchor=\"middle\" x=\"904.5\" y=\"-131.3\" font-family=\"futura\" font-size=\"14.00\">gini = 0.337</text>\n",
       "<text text-anchor=\"middle\" x=\"904.5\" y=\"-116.3\" font-family=\"futura\" font-size=\"14.00\">samples = 28</text>\n",
       "<text text-anchor=\"middle\" x=\"904.5\" y=\"-101.3\" font-family=\"futura\" font-size=\"14.00\">value = [22, 6]</text>\n",
       "<text text-anchor=\"middle\" x=\"904.5\" y=\"-86.3\" font-family=\"futura\" font-size=\"14.00\">class = nondemented</text>\n",
       "</g>\n",
       "<!-- 16&#45;&gt;20 -->\n",
       "<g id=\"edge20\" class=\"edge\">\n",
       "<title>16&#45;&gt;20</title>\n",
       "<path fill=\"none\" stroke=\"black\" d=\"M772.64,-195.42C788.7,-186.17 805.83,-176.29 822.23,-166.84\"/>\n",
       "<polygon fill=\"black\" stroke=\"black\" points=\"824.33,-169.67 831.25,-161.64 820.84,-163.6 824.33,-169.67\"/>\n",
       "</g>\n",
       "<!-- 18 -->\n",
       "<g id=\"node19\" class=\"node\">\n",
       "<title>18</title>\n",
       "<path fill=\"#e6f3fc\" stroke=\"black\" d=\"M1169,-326C1169,-326 1050,-326 1050,-326 1044,-326 1038,-320 1038,-314 1038,-314 1038,-270 1038,-270 1038,-264 1044,-258 1050,-258 1050,-258 1169,-258 1169,-258 1175,-258 1181,-264 1181,-270 1181,-270 1181,-314 1181,-314 1181,-320 1175,-326 1169,-326\"/>\n",
       "<text text-anchor=\"middle\" x=\"1109.5\" y=\"-310.8\" font-family=\"futura\" font-size=\"14.00\">gini = 0.498</text>\n",
       "<text text-anchor=\"middle\" x=\"1109.5\" y=\"-295.8\" font-family=\"futura\" font-size=\"14.00\">samples = 30</text>\n",
       "<text text-anchor=\"middle\" x=\"1109.5\" y=\"-280.8\" font-family=\"futura\" font-size=\"14.00\">value = [14, 16]</text>\n",
       "<text text-anchor=\"middle\" x=\"1109.5\" y=\"-265.8\" font-family=\"futura\" font-size=\"14.00\">class = demented</text>\n",
       "</g>\n",
       "<!-- 17&#45;&gt;18 -->\n",
       "<g id=\"edge18\" class=\"edge\">\n",
       "<title>17&#45;&gt;18</title>\n",
       "<path fill=\"none\" stroke=\"black\" d=\"M989.24,-259.69C1002.12,-263.18 1015.4,-266.77 1028.2,-270.24\"/>\n",
       "<polygon fill=\"black\" stroke=\"black\" points=\"1027.32,-273.63 1037.88,-272.87 1029.15,-266.87 1027.32,-273.63\"/>\n",
       "</g>\n",
       "<!-- 19 -->\n",
       "<g id=\"node20\" class=\"node\">\n",
       "<title>19</title>\n",
       "<path fill=\"#e99355\" stroke=\"black\" d=\"M1182,-240C1182,-240 1037,-240 1037,-240 1031,-240 1025,-234 1025,-228 1025,-228 1025,-184 1025,-184 1025,-178 1031,-172 1037,-172 1037,-172 1182,-172 1182,-172 1188,-172 1194,-178 1194,-184 1194,-184 1194,-228 1194,-228 1194,-234 1188,-240 1182,-240\"/>\n",
       "<text text-anchor=\"middle\" x=\"1109.5\" y=\"-224.8\" font-family=\"futura\" font-size=\"14.00\">gini = 0.219</text>\n",
       "<text text-anchor=\"middle\" x=\"1109.5\" y=\"-209.8\" font-family=\"futura\" font-size=\"14.00\">samples = 8</text>\n",
       "<text text-anchor=\"middle\" x=\"1109.5\" y=\"-194.8\" font-family=\"futura\" font-size=\"14.00\">value = [7, 1]</text>\n",
       "<text text-anchor=\"middle\" x=\"1109.5\" y=\"-179.8\" font-family=\"futura\" font-size=\"14.00\">class = nondemented</text>\n",
       "</g>\n",
       "<!-- 17&#45;&gt;19 -->\n",
       "<g id=\"edge19\" class=\"edge\">\n",
       "<title>17&#45;&gt;19</title>\n",
       "<path fill=\"none\" stroke=\"black\" d=\"M989.24,-224.21C997.72,-222.92 1006.37,-221.6 1014.94,-220.29\"/>\n",
       "<polygon fill=\"black\" stroke=\"black\" points=\"1015.6,-223.73 1024.95,-218.76 1014.54,-216.81 1015.6,-223.73\"/>\n",
       "</g>\n",
       "<!-- 21 -->\n",
       "<g id=\"node22\" class=\"node\">\n",
       "<title>21</title>\n",
       "<path fill=\"#f3c6a5\" stroke=\"black\" d=\"M1182,-154C1182,-154 1037,-154 1037,-154 1031,-154 1025,-148 1025,-142 1025,-142 1025,-98 1025,-98 1025,-92 1031,-86 1037,-86 1037,-86 1182,-86 1182,-86 1188,-86 1194,-92 1194,-98 1194,-98 1194,-142 1194,-142 1194,-148 1188,-154 1182,-154\"/>\n",
       "<text text-anchor=\"middle\" x=\"1109.5\" y=\"-138.8\" font-family=\"futura\" font-size=\"14.00\">gini = 0.457</text>\n",
       "<text text-anchor=\"middle\" x=\"1109.5\" y=\"-123.8\" font-family=\"futura\" font-size=\"14.00\">samples = 17</text>\n",
       "<text text-anchor=\"middle\" x=\"1109.5\" y=\"-108.8\" font-family=\"futura\" font-size=\"14.00\">value = [11, 6]</text>\n",
       "<text text-anchor=\"middle\" x=\"1109.5\" y=\"-93.8\" font-family=\"futura\" font-size=\"14.00\">class = nondemented</text>\n",
       "</g>\n",
       "<!-- 20&#45;&gt;21 -->\n",
       "<g id=\"edge21\" class=\"edge\">\n",
       "<title>20&#45;&gt;21</title>\n",
       "<path fill=\"none\" stroke=\"black\" d=\"M989.24,-120C997.72,-120 1006.37,-120 1014.94,-120\"/>\n",
       "<polygon fill=\"black\" stroke=\"black\" points=\"1014.95,-123.5 1024.95,-120 1014.95,-116.5 1014.95,-123.5\"/>\n",
       "</g>\n",
       "<!-- 22 -->\n",
       "<g id=\"node23\" class=\"node\">\n",
       "<title>22</title>\n",
       "<path fill=\"#e58139\" stroke=\"black\" d=\"M1182,-68C1182,-68 1037,-68 1037,-68 1031,-68 1025,-62 1025,-56 1025,-56 1025,-12 1025,-12 1025,-6 1031,0 1037,0 1037,0 1182,0 1182,0 1188,0 1194,-6 1194,-12 1194,-12 1194,-56 1194,-56 1194,-62 1188,-68 1182,-68\"/>\n",
       "<text text-anchor=\"middle\" x=\"1109.5\" y=\"-52.8\" font-family=\"futura\" font-size=\"14.00\">gini = 0.0</text>\n",
       "<text text-anchor=\"middle\" x=\"1109.5\" y=\"-37.8\" font-family=\"futura\" font-size=\"14.00\">samples = 11</text>\n",
       "<text text-anchor=\"middle\" x=\"1109.5\" y=\"-22.8\" font-family=\"futura\" font-size=\"14.00\">value = [11, 0]</text>\n",
       "<text text-anchor=\"middle\" x=\"1109.5\" y=\"-7.8\" font-family=\"futura\" font-size=\"14.00\">class = nondemented</text>\n",
       "</g>\n",
       "<!-- 20&#45;&gt;22 -->\n",
       "<g id=\"edge22\" class=\"edge\">\n",
       "<title>20&#45;&gt;22</title>\n",
       "<path fill=\"none\" stroke=\"black\" d=\"M989.24,-84.52C999.01,-80.39 1009,-76.15 1018.84,-71.98\"/>\n",
       "<polygon fill=\"black\" stroke=\"black\" points=\"1020.38,-75.13 1028.22,-68.01 1017.65,-68.69 1020.38,-75.13\"/>\n",
       "</g>\n",
       "</g>\n",
       "</svg>\n"
      ],
      "text/plain": [
       "<graphviz.sources.Source at 0x7f7371971880>"
      ]
     },
     "metadata": {},
     "output_type": "display_data"
    }
   ],
   "source": [
    "# Export model graph\n",
    "export_graphviz(tree_clf, out_file=\"oasis1_tree.dot\", \n",
    "                feature_names=X_train_trial.columns,\n",
    "                class_names=['nondemented', 'demented'], \n",
    "                rounded=True,\n",
    "                filled=True,\n",
    "                rotate = True,\n",
    "                fontname = 'futura')\n",
    "\n",
    "# Import model graph\n",
    "with open(\"oasis1_tree.dot\") as f:\n",
    "    dot_graph = f.read()\n",
    "    display(graphviz.Source(dot_graph))"
   ]
  },
  {
   "cell_type": "markdown",
   "id": "de262900",
   "metadata": {},
   "source": [
    "### 🤖 Grid Searching"
   ]
  },
  {
   "cell_type": "code",
   "execution_count": 45,
   "id": "4a3a90be",
   "metadata": {},
   "outputs": [],
   "source": [
    "# Parameters to grid search\n",
    "parameters = {'criterion': ['gini', 'entropy'],\n",
    "              'max_depth': range(1,10),\n",
    "              'min_samples_split': range(2,10),\n",
    "              'min_samples_leaf': range(2,10)\n",
    "             #'max_features': range(0,len(X_train.columns),\n",
    "              }"
   ]
  },
  {
   "cell_type": "code",
   "execution_count": 46,
   "id": "2ead331e",
   "metadata": {},
   "outputs": [
    {
     "data": {
      "text/html": [
       "<style>#sk-919084fb-6adf-42c1-8df7-f0b5f714d6d5 {color: black;background-color: white;}#sk-919084fb-6adf-42c1-8df7-f0b5f714d6d5 pre{padding: 0;}#sk-919084fb-6adf-42c1-8df7-f0b5f714d6d5 div.sk-toggleable {background-color: white;}#sk-919084fb-6adf-42c1-8df7-f0b5f714d6d5 label.sk-toggleable__label {cursor: pointer;display: block;width: 100%;margin-bottom: 0;padding: 0.3em;box-sizing: border-box;text-align: center;}#sk-919084fb-6adf-42c1-8df7-f0b5f714d6d5 label.sk-toggleable__label-arrow:before {content: \"▸\";float: left;margin-right: 0.25em;color: #696969;}#sk-919084fb-6adf-42c1-8df7-f0b5f714d6d5 label.sk-toggleable__label-arrow:hover:before {color: black;}#sk-919084fb-6adf-42c1-8df7-f0b5f714d6d5 div.sk-estimator:hover label.sk-toggleable__label-arrow:before {color: black;}#sk-919084fb-6adf-42c1-8df7-f0b5f714d6d5 div.sk-toggleable__content {max-height: 0;max-width: 0;overflow: hidden;text-align: left;background-color: #f0f8ff;}#sk-919084fb-6adf-42c1-8df7-f0b5f714d6d5 div.sk-toggleable__content pre {margin: 0.2em;color: black;border-radius: 0.25em;background-color: #f0f8ff;}#sk-919084fb-6adf-42c1-8df7-f0b5f714d6d5 input.sk-toggleable__control:checked~div.sk-toggleable__content {max-height: 200px;max-width: 100%;overflow: auto;}#sk-919084fb-6adf-42c1-8df7-f0b5f714d6d5 input.sk-toggleable__control:checked~label.sk-toggleable__label-arrow:before {content: \"▾\";}#sk-919084fb-6adf-42c1-8df7-f0b5f714d6d5 div.sk-estimator input.sk-toggleable__control:checked~label.sk-toggleable__label {background-color: #d4ebff;}#sk-919084fb-6adf-42c1-8df7-f0b5f714d6d5 div.sk-label input.sk-toggleable__control:checked~label.sk-toggleable__label {background-color: #d4ebff;}#sk-919084fb-6adf-42c1-8df7-f0b5f714d6d5 input.sk-hidden--visually {border: 0;clip: rect(1px 1px 1px 1px);clip: rect(1px, 1px, 1px, 1px);height: 1px;margin: -1px;overflow: hidden;padding: 0;position: absolute;width: 1px;}#sk-919084fb-6adf-42c1-8df7-f0b5f714d6d5 div.sk-estimator {font-family: monospace;background-color: #f0f8ff;border: 1px dotted black;border-radius: 0.25em;box-sizing: border-box;margin-bottom: 0.5em;}#sk-919084fb-6adf-42c1-8df7-f0b5f714d6d5 div.sk-estimator:hover {background-color: #d4ebff;}#sk-919084fb-6adf-42c1-8df7-f0b5f714d6d5 div.sk-parallel-item::after {content: \"\";width: 100%;border-bottom: 1px solid gray;flex-grow: 1;}#sk-919084fb-6adf-42c1-8df7-f0b5f714d6d5 div.sk-label:hover label.sk-toggleable__label {background-color: #d4ebff;}#sk-919084fb-6adf-42c1-8df7-f0b5f714d6d5 div.sk-serial::before {content: \"\";position: absolute;border-left: 1px solid gray;box-sizing: border-box;top: 2em;bottom: 0;left: 50%;}#sk-919084fb-6adf-42c1-8df7-f0b5f714d6d5 div.sk-serial {display: flex;flex-direction: column;align-items: center;background-color: white;padding-right: 0.2em;padding-left: 0.2em;}#sk-919084fb-6adf-42c1-8df7-f0b5f714d6d5 div.sk-item {z-index: 1;}#sk-919084fb-6adf-42c1-8df7-f0b5f714d6d5 div.sk-parallel {display: flex;align-items: stretch;justify-content: center;background-color: white;}#sk-919084fb-6adf-42c1-8df7-f0b5f714d6d5 div.sk-parallel::before {content: \"\";position: absolute;border-left: 1px solid gray;box-sizing: border-box;top: 2em;bottom: 0;left: 50%;}#sk-919084fb-6adf-42c1-8df7-f0b5f714d6d5 div.sk-parallel-item {display: flex;flex-direction: column;position: relative;background-color: white;}#sk-919084fb-6adf-42c1-8df7-f0b5f714d6d5 div.sk-parallel-item:first-child::after {align-self: flex-end;width: 50%;}#sk-919084fb-6adf-42c1-8df7-f0b5f714d6d5 div.sk-parallel-item:last-child::after {align-self: flex-start;width: 50%;}#sk-919084fb-6adf-42c1-8df7-f0b5f714d6d5 div.sk-parallel-item:only-child::after {width: 0;}#sk-919084fb-6adf-42c1-8df7-f0b5f714d6d5 div.sk-dashed-wrapped {border: 1px dashed gray;margin: 0 0.4em 0.5em 0.4em;box-sizing: border-box;padding-bottom: 0.4em;background-color: white;position: relative;}#sk-919084fb-6adf-42c1-8df7-f0b5f714d6d5 div.sk-label label {font-family: monospace;font-weight: bold;background-color: white;display: inline-block;line-height: 1.2em;}#sk-919084fb-6adf-42c1-8df7-f0b5f714d6d5 div.sk-label-container {position: relative;z-index: 2;text-align: center;}#sk-919084fb-6adf-42c1-8df7-f0b5f714d6d5 div.sk-container {/* jupyter's `normalize.less` sets `[hidden] { display: none; }` but bootstrap.min.css set `[hidden] { display: none !important; }` so we also need the `!important` here to be able to override the default hidden behavior on the sphinx rendered scikit-learn.org. See: https://github.com/scikit-learn/scikit-learn/issues/21755 */display: inline-block !important;position: relative;}#sk-919084fb-6adf-42c1-8df7-f0b5f714d6d5 div.sk-text-repr-fallback {display: none;}</style><div id=\"sk-919084fb-6adf-42c1-8df7-f0b5f714d6d5\" class=\"sk-top-container\"><div class=\"sk-text-repr-fallback\"><pre>GridSearchCV(cv=5, estimator=DecisionTreeClassifier(), n_jobs=-1,\n",
       "             param_grid={&#x27;criterion&#x27;: [&#x27;gini&#x27;, &#x27;entropy&#x27;],\n",
       "                         &#x27;max_depth&#x27;: range(1, 10),\n",
       "                         &#x27;min_samples_leaf&#x27;: range(2, 10),\n",
       "                         &#x27;min_samples_split&#x27;: range(2, 10)},\n",
       "             scoring=&#x27;recall&#x27;)</pre><b>Please rerun this cell to show the HTML repr or trust the notebook.</b></div><div class=\"sk-container\" hidden><div class=\"sk-item sk-dashed-wrapped\"><div class=\"sk-label-container\"><div class=\"sk-label sk-toggleable\"><input class=\"sk-toggleable__control sk-hidden--visually\" id=\"6436aaf2-25fe-40cb-959b-bb4f94034476\" type=\"checkbox\" ><label for=\"6436aaf2-25fe-40cb-959b-bb4f94034476\" class=\"sk-toggleable__label sk-toggleable__label-arrow\">GridSearchCV</label><div class=\"sk-toggleable__content\"><pre>GridSearchCV(cv=5, estimator=DecisionTreeClassifier(), n_jobs=-1,\n",
       "             param_grid={&#x27;criterion&#x27;: [&#x27;gini&#x27;, &#x27;entropy&#x27;],\n",
       "                         &#x27;max_depth&#x27;: range(1, 10),\n",
       "                         &#x27;min_samples_leaf&#x27;: range(2, 10),\n",
       "                         &#x27;min_samples_split&#x27;: range(2, 10)},\n",
       "             scoring=&#x27;recall&#x27;)</pre></div></div></div><div class=\"sk-parallel\"><div class=\"sk-parallel-item\"><div class=\"sk-item\"><div class=\"sk-serial\"><div class=\"sk-item\"><div class=\"sk-estimator sk-toggleable\"><input class=\"sk-toggleable__control sk-hidden--visually\" id=\"822e8d99-f02a-498e-8c59-ef099c19dfe9\" type=\"checkbox\" ><label for=\"822e8d99-f02a-498e-8c59-ef099c19dfe9\" class=\"sk-toggleable__label sk-toggleable__label-arrow\">DecisionTreeClassifier</label><div class=\"sk-toggleable__content\"><pre>DecisionTreeClassifier()</pre></div></div></div></div></div></div></div></div></div></div>"
      ],
      "text/plain": [
       "GridSearchCV(cv=5, estimator=DecisionTreeClassifier(), n_jobs=-1,\n",
       "             param_grid={'criterion': ['gini', 'entropy'],\n",
       "                         'max_depth': range(1, 10),\n",
       "                         'min_samples_leaf': range(2, 10),\n",
       "                         'min_samples_split': range(2, 10)},\n",
       "             scoring='recall')"
      ]
     },
     "execution_count": 46,
     "metadata": {},
     "output_type": "execute_result"
    }
   ],
   "source": [
    "# GridSearching\n",
    "gridsearch = GridSearchCV(DecisionTreeClassifier(), \n",
    "                          parameters, n_jobs = -1, \n",
    "                          scoring = 'recall', cv = 5)\n",
    "\n",
    "# Fitting gridsearch on X and y\n",
    "gridsearch.fit(X_train, y_train)"
   ]
  },
  {
   "cell_type": "code",
   "execution_count": 47,
   "id": "4d3c2ef5",
   "metadata": {},
   "outputs": [
    {
     "data": {
      "text/plain": [
       "{'criterion': 'gini',\n",
       " 'max_depth': 8,\n",
       " 'min_samples_leaf': 2,\n",
       " 'min_samples_split': 3}"
      ]
     },
     "execution_count": 47,
     "metadata": {},
     "output_type": "execute_result"
    }
   ],
   "source": [
    "# Best parameters\n",
    "gridsearch.best_params_"
   ]
  },
  {
   "cell_type": "markdown",
   "id": "77f5e114",
   "metadata": {},
   "source": [
    "### 🌲 Best Tree"
   ]
  },
  {
   "cell_type": "code",
   "execution_count": 48,
   "id": "b4070f05",
   "metadata": {},
   "outputs": [
    {
     "data": {
      "text/html": [
       "<style>#sk-a6e4d38c-527f-488a-88ad-27756d87bc0e {color: black;background-color: white;}#sk-a6e4d38c-527f-488a-88ad-27756d87bc0e pre{padding: 0;}#sk-a6e4d38c-527f-488a-88ad-27756d87bc0e div.sk-toggleable {background-color: white;}#sk-a6e4d38c-527f-488a-88ad-27756d87bc0e label.sk-toggleable__label {cursor: pointer;display: block;width: 100%;margin-bottom: 0;padding: 0.3em;box-sizing: border-box;text-align: center;}#sk-a6e4d38c-527f-488a-88ad-27756d87bc0e label.sk-toggleable__label-arrow:before {content: \"▸\";float: left;margin-right: 0.25em;color: #696969;}#sk-a6e4d38c-527f-488a-88ad-27756d87bc0e label.sk-toggleable__label-arrow:hover:before {color: black;}#sk-a6e4d38c-527f-488a-88ad-27756d87bc0e div.sk-estimator:hover label.sk-toggleable__label-arrow:before {color: black;}#sk-a6e4d38c-527f-488a-88ad-27756d87bc0e div.sk-toggleable__content {max-height: 0;max-width: 0;overflow: hidden;text-align: left;background-color: #f0f8ff;}#sk-a6e4d38c-527f-488a-88ad-27756d87bc0e div.sk-toggleable__content pre {margin: 0.2em;color: black;border-radius: 0.25em;background-color: #f0f8ff;}#sk-a6e4d38c-527f-488a-88ad-27756d87bc0e input.sk-toggleable__control:checked~div.sk-toggleable__content {max-height: 200px;max-width: 100%;overflow: auto;}#sk-a6e4d38c-527f-488a-88ad-27756d87bc0e input.sk-toggleable__control:checked~label.sk-toggleable__label-arrow:before {content: \"▾\";}#sk-a6e4d38c-527f-488a-88ad-27756d87bc0e div.sk-estimator input.sk-toggleable__control:checked~label.sk-toggleable__label {background-color: #d4ebff;}#sk-a6e4d38c-527f-488a-88ad-27756d87bc0e div.sk-label input.sk-toggleable__control:checked~label.sk-toggleable__label {background-color: #d4ebff;}#sk-a6e4d38c-527f-488a-88ad-27756d87bc0e input.sk-hidden--visually {border: 0;clip: rect(1px 1px 1px 1px);clip: rect(1px, 1px, 1px, 1px);height: 1px;margin: -1px;overflow: hidden;padding: 0;position: absolute;width: 1px;}#sk-a6e4d38c-527f-488a-88ad-27756d87bc0e div.sk-estimator {font-family: monospace;background-color: #f0f8ff;border: 1px dotted black;border-radius: 0.25em;box-sizing: border-box;margin-bottom: 0.5em;}#sk-a6e4d38c-527f-488a-88ad-27756d87bc0e div.sk-estimator:hover {background-color: #d4ebff;}#sk-a6e4d38c-527f-488a-88ad-27756d87bc0e div.sk-parallel-item::after {content: \"\";width: 100%;border-bottom: 1px solid gray;flex-grow: 1;}#sk-a6e4d38c-527f-488a-88ad-27756d87bc0e div.sk-label:hover label.sk-toggleable__label {background-color: #d4ebff;}#sk-a6e4d38c-527f-488a-88ad-27756d87bc0e div.sk-serial::before {content: \"\";position: absolute;border-left: 1px solid gray;box-sizing: border-box;top: 2em;bottom: 0;left: 50%;}#sk-a6e4d38c-527f-488a-88ad-27756d87bc0e div.sk-serial {display: flex;flex-direction: column;align-items: center;background-color: white;padding-right: 0.2em;padding-left: 0.2em;}#sk-a6e4d38c-527f-488a-88ad-27756d87bc0e div.sk-item {z-index: 1;}#sk-a6e4d38c-527f-488a-88ad-27756d87bc0e div.sk-parallel {display: flex;align-items: stretch;justify-content: center;background-color: white;}#sk-a6e4d38c-527f-488a-88ad-27756d87bc0e div.sk-parallel::before {content: \"\";position: absolute;border-left: 1px solid gray;box-sizing: border-box;top: 2em;bottom: 0;left: 50%;}#sk-a6e4d38c-527f-488a-88ad-27756d87bc0e div.sk-parallel-item {display: flex;flex-direction: column;position: relative;background-color: white;}#sk-a6e4d38c-527f-488a-88ad-27756d87bc0e div.sk-parallel-item:first-child::after {align-self: flex-end;width: 50%;}#sk-a6e4d38c-527f-488a-88ad-27756d87bc0e div.sk-parallel-item:last-child::after {align-self: flex-start;width: 50%;}#sk-a6e4d38c-527f-488a-88ad-27756d87bc0e div.sk-parallel-item:only-child::after {width: 0;}#sk-a6e4d38c-527f-488a-88ad-27756d87bc0e div.sk-dashed-wrapped {border: 1px dashed gray;margin: 0 0.4em 0.5em 0.4em;box-sizing: border-box;padding-bottom: 0.4em;background-color: white;position: relative;}#sk-a6e4d38c-527f-488a-88ad-27756d87bc0e div.sk-label label {font-family: monospace;font-weight: bold;background-color: white;display: inline-block;line-height: 1.2em;}#sk-a6e4d38c-527f-488a-88ad-27756d87bc0e div.sk-label-container {position: relative;z-index: 2;text-align: center;}#sk-a6e4d38c-527f-488a-88ad-27756d87bc0e div.sk-container {/* jupyter's `normalize.less` sets `[hidden] { display: none; }` but bootstrap.min.css set `[hidden] { display: none !important; }` so we also need the `!important` here to be able to override the default hidden behavior on the sphinx rendered scikit-learn.org. See: https://github.com/scikit-learn/scikit-learn/issues/21755 */display: inline-block !important;position: relative;}#sk-a6e4d38c-527f-488a-88ad-27756d87bc0e div.sk-text-repr-fallback {display: none;}</style><div id=\"sk-a6e4d38c-527f-488a-88ad-27756d87bc0e\" class=\"sk-top-container\"><div class=\"sk-text-repr-fallback\"><pre>DecisionTreeClassifier(max_depth=8, min_samples_leaf=2, min_samples_split=3)</pre><b>Please rerun this cell to show the HTML repr or trust the notebook.</b></div><div class=\"sk-container\" hidden><div class=\"sk-item\"><div class=\"sk-estimator sk-toggleable\"><input class=\"sk-toggleable__control sk-hidden--visually\" id=\"ee77f3e2-6970-4748-a966-b057643b7ae2\" type=\"checkbox\" checked><label for=\"ee77f3e2-6970-4748-a966-b057643b7ae2\" class=\"sk-toggleable__label sk-toggleable__label-arrow\">DecisionTreeClassifier</label><div class=\"sk-toggleable__content\"><pre>DecisionTreeClassifier(max_depth=8, min_samples_leaf=2, min_samples_split=3)</pre></div></div></div></div></div>"
      ],
      "text/plain": [
       "DecisionTreeClassifier(max_depth=8, min_samples_leaf=2, min_samples_split=3)"
      ]
     },
     "execution_count": 48,
     "metadata": {},
     "output_type": "execute_result"
    }
   ],
   "source": [
    "# Instantiating best tree\n",
    "best_tree = gridsearch.best_estimator_\n",
    "\n",
    "# Fitting best tree\n",
    "best_tree.fit(X_train_trial, y_train)"
   ]
  },
  {
   "cell_type": "code",
   "execution_count": 49,
   "id": "5aabd56c",
   "metadata": {},
   "outputs": [
    {
     "data": {
      "text/plain": [
       "array([0, 0, 1, 0, 0, 0, 0, 0, 0, 1, 0, 0, 1, 0, 1, 0, 0, 1, 1, 1, 0, 0,\n",
       "       0, 1, 0, 0, 0, 0, 0, 0, 1, 0, 0, 0, 0, 1, 1, 1, 0, 0, 1, 1, 1, 1,\n",
       "       1, 0, 0, 1, 0, 1, 1, 0, 0, 0, 1, 0, 1, 1, 1])"
      ]
     },
     "execution_count": 49,
     "metadata": {},
     "output_type": "execute_result"
    }
   ],
   "source": [
    "# Predictions\n",
    "y_pred = best_tree.predict(X_test)\n",
    "y_pred"
   ]
  },
  {
   "cell_type": "code",
   "execution_count": 50,
   "id": "717950f3",
   "metadata": {},
   "outputs": [
    {
     "data": {
      "text/plain": [
       "(array([0, 1]), array([35, 24]))"
      ]
     },
     "execution_count": 50,
     "metadata": {},
     "output_type": "execute_result"
    }
   ],
   "source": [
    "np.unique(y_pred, return_counts = True)"
   ]
  },
  {
   "cell_type": "code",
   "execution_count": 51,
   "id": "cdb29cdd",
   "metadata": {},
   "outputs": [
    {
     "data": {
      "text/plain": [
       "0.782608695652174"
      ]
     },
     "execution_count": 51,
     "metadata": {},
     "output_type": "execute_result"
    }
   ],
   "source": [
    "# Recall score\n",
    "recall_score(y_test, y_pred)"
   ]
  },
  {
   "cell_type": "code",
   "execution_count": 52,
   "id": "0a1bc978",
   "metadata": {},
   "outputs": [
    {
     "data": {
      "text/plain": [
       "0.8058333333333334"
      ]
     },
     "execution_count": 52,
     "metadata": {},
     "output_type": "execute_result"
    }
   ],
   "source": [
    "# Best score according to gridsearch\n",
    "gridsearch.best_score_"
   ]
  },
  {
   "cell_type": "code",
   "execution_count": 53,
   "id": "cdcf6a5f",
   "metadata": {},
   "outputs": [],
   "source": [
    "best_tree_2 = gridsearch.best_estimator_"
   ]
  },
  {
   "cell_type": "code",
   "execution_count": 54,
   "id": "7416599f",
   "metadata": {},
   "outputs": [
    {
     "data": {
      "text/html": [
       "<style>#sk-e4e18f1f-1297-49ca-ab05-53a653c29f7c {color: black;background-color: white;}#sk-e4e18f1f-1297-49ca-ab05-53a653c29f7c pre{padding: 0;}#sk-e4e18f1f-1297-49ca-ab05-53a653c29f7c div.sk-toggleable {background-color: white;}#sk-e4e18f1f-1297-49ca-ab05-53a653c29f7c label.sk-toggleable__label {cursor: pointer;display: block;width: 100%;margin-bottom: 0;padding: 0.3em;box-sizing: border-box;text-align: center;}#sk-e4e18f1f-1297-49ca-ab05-53a653c29f7c label.sk-toggleable__label-arrow:before {content: \"▸\";float: left;margin-right: 0.25em;color: #696969;}#sk-e4e18f1f-1297-49ca-ab05-53a653c29f7c label.sk-toggleable__label-arrow:hover:before {color: black;}#sk-e4e18f1f-1297-49ca-ab05-53a653c29f7c div.sk-estimator:hover label.sk-toggleable__label-arrow:before {color: black;}#sk-e4e18f1f-1297-49ca-ab05-53a653c29f7c div.sk-toggleable__content {max-height: 0;max-width: 0;overflow: hidden;text-align: left;background-color: #f0f8ff;}#sk-e4e18f1f-1297-49ca-ab05-53a653c29f7c div.sk-toggleable__content pre {margin: 0.2em;color: black;border-radius: 0.25em;background-color: #f0f8ff;}#sk-e4e18f1f-1297-49ca-ab05-53a653c29f7c input.sk-toggleable__control:checked~div.sk-toggleable__content {max-height: 200px;max-width: 100%;overflow: auto;}#sk-e4e18f1f-1297-49ca-ab05-53a653c29f7c input.sk-toggleable__control:checked~label.sk-toggleable__label-arrow:before {content: \"▾\";}#sk-e4e18f1f-1297-49ca-ab05-53a653c29f7c div.sk-estimator input.sk-toggleable__control:checked~label.sk-toggleable__label {background-color: #d4ebff;}#sk-e4e18f1f-1297-49ca-ab05-53a653c29f7c div.sk-label input.sk-toggleable__control:checked~label.sk-toggleable__label {background-color: #d4ebff;}#sk-e4e18f1f-1297-49ca-ab05-53a653c29f7c input.sk-hidden--visually {border: 0;clip: rect(1px 1px 1px 1px);clip: rect(1px, 1px, 1px, 1px);height: 1px;margin: -1px;overflow: hidden;padding: 0;position: absolute;width: 1px;}#sk-e4e18f1f-1297-49ca-ab05-53a653c29f7c div.sk-estimator {font-family: monospace;background-color: #f0f8ff;border: 1px dotted black;border-radius: 0.25em;box-sizing: border-box;margin-bottom: 0.5em;}#sk-e4e18f1f-1297-49ca-ab05-53a653c29f7c div.sk-estimator:hover {background-color: #d4ebff;}#sk-e4e18f1f-1297-49ca-ab05-53a653c29f7c div.sk-parallel-item::after {content: \"\";width: 100%;border-bottom: 1px solid gray;flex-grow: 1;}#sk-e4e18f1f-1297-49ca-ab05-53a653c29f7c div.sk-label:hover label.sk-toggleable__label {background-color: #d4ebff;}#sk-e4e18f1f-1297-49ca-ab05-53a653c29f7c div.sk-serial::before {content: \"\";position: absolute;border-left: 1px solid gray;box-sizing: border-box;top: 2em;bottom: 0;left: 50%;}#sk-e4e18f1f-1297-49ca-ab05-53a653c29f7c div.sk-serial {display: flex;flex-direction: column;align-items: center;background-color: white;padding-right: 0.2em;padding-left: 0.2em;}#sk-e4e18f1f-1297-49ca-ab05-53a653c29f7c div.sk-item {z-index: 1;}#sk-e4e18f1f-1297-49ca-ab05-53a653c29f7c div.sk-parallel {display: flex;align-items: stretch;justify-content: center;background-color: white;}#sk-e4e18f1f-1297-49ca-ab05-53a653c29f7c div.sk-parallel::before {content: \"\";position: absolute;border-left: 1px solid gray;box-sizing: border-box;top: 2em;bottom: 0;left: 50%;}#sk-e4e18f1f-1297-49ca-ab05-53a653c29f7c div.sk-parallel-item {display: flex;flex-direction: column;position: relative;background-color: white;}#sk-e4e18f1f-1297-49ca-ab05-53a653c29f7c div.sk-parallel-item:first-child::after {align-self: flex-end;width: 50%;}#sk-e4e18f1f-1297-49ca-ab05-53a653c29f7c div.sk-parallel-item:last-child::after {align-self: flex-start;width: 50%;}#sk-e4e18f1f-1297-49ca-ab05-53a653c29f7c div.sk-parallel-item:only-child::after {width: 0;}#sk-e4e18f1f-1297-49ca-ab05-53a653c29f7c div.sk-dashed-wrapped {border: 1px dashed gray;margin: 0 0.4em 0.5em 0.4em;box-sizing: border-box;padding-bottom: 0.4em;background-color: white;position: relative;}#sk-e4e18f1f-1297-49ca-ab05-53a653c29f7c div.sk-label label {font-family: monospace;font-weight: bold;background-color: white;display: inline-block;line-height: 1.2em;}#sk-e4e18f1f-1297-49ca-ab05-53a653c29f7c div.sk-label-container {position: relative;z-index: 2;text-align: center;}#sk-e4e18f1f-1297-49ca-ab05-53a653c29f7c div.sk-container {/* jupyter's `normalize.less` sets `[hidden] { display: none; }` but bootstrap.min.css set `[hidden] { display: none !important; }` so we also need the `!important` here to be able to override the default hidden behavior on the sphinx rendered scikit-learn.org. See: https://github.com/scikit-learn/scikit-learn/issues/21755 */display: inline-block !important;position: relative;}#sk-e4e18f1f-1297-49ca-ab05-53a653c29f7c div.sk-text-repr-fallback {display: none;}</style><div id=\"sk-e4e18f1f-1297-49ca-ab05-53a653c29f7c\" class=\"sk-top-container\"><div class=\"sk-text-repr-fallback\"><pre>DecisionTreeClassifier(max_depth=8, min_samples_leaf=2, min_samples_split=3)</pre><b>Please rerun this cell to show the HTML repr or trust the notebook.</b></div><div class=\"sk-container\" hidden><div class=\"sk-item\"><div class=\"sk-estimator sk-toggleable\"><input class=\"sk-toggleable__control sk-hidden--visually\" id=\"b255b47b-7041-46b7-8b05-fdf61dcf0e9d\" type=\"checkbox\" checked><label for=\"b255b47b-7041-46b7-8b05-fdf61dcf0e9d\" class=\"sk-toggleable__label sk-toggleable__label-arrow\">DecisionTreeClassifier</label><div class=\"sk-toggleable__content\"><pre>DecisionTreeClassifier(max_depth=8, min_samples_leaf=2, min_samples_split=3)</pre></div></div></div></div></div>"
      ],
      "text/plain": [
       "DecisionTreeClassifier(max_depth=8, min_samples_leaf=2, min_samples_split=3)"
      ]
     },
     "execution_count": 54,
     "metadata": {},
     "output_type": "execute_result"
    }
   ],
   "source": [
    "best_tree_2.fit(X_train, y_train)"
   ]
  },
  {
   "cell_type": "code",
   "execution_count": 55,
   "id": "67a6d818",
   "metadata": {},
   "outputs": [],
   "source": [
    "predictions2 = best_tree_2.predict(X_test)"
   ]
  },
  {
   "cell_type": "code",
   "execution_count": 56,
   "id": "d1d81bd2",
   "metadata": {},
   "outputs": [
    {
     "data": {
      "text/plain": [
       "array([[32,  4],\n",
       "       [ 6, 17]])"
      ]
     },
     "execution_count": 56,
     "metadata": {},
     "output_type": "execute_result"
    }
   ],
   "source": [
    "cm = confusion_matrix(y_test, predictions2)\n",
    "cm"
   ]
  },
  {
   "cell_type": "code",
   "execution_count": 57,
   "id": "a67eb211",
   "metadata": {},
   "outputs": [
    {
     "data": {
      "image/png": "[encoded data removed]",
      "text/plain": [
       "<Figure size 432x288 with 2 Axes>"
      ]
     },
     "metadata": {},
     "output_type": "display_data"
    }
   ],
   "source": [
    "disp = ConfusionMatrixDisplay(confusion_matrix=cm,\n",
    "                             display_labels=[0,1])\n",
    "disp.plot()\n",
    "\n",
    "plt.show()"
   ]
  },
  {
   "cell_type": "code",
   "execution_count": 58,
   "id": "994aefee",
   "metadata": {},
   "outputs": [
    {
     "data": {
      "text/plain": [
       "0    99\n",
       "1    77\n",
       "Name: CDR, dtype: int64"
      ]
     },
     "execution_count": 58,
     "metadata": {},
     "output_type": "execute_result"
    }
   ],
   "source": [
    "y_train.value_counts()"
   ]
  },
  {
   "cell_type": "code",
   "execution_count": 59,
   "id": "4c48807c",
   "metadata": {},
   "outputs": [
    {
     "data": {
      "text/plain": [
       "0    36\n",
       "1    23\n",
       "Name: CDR, dtype: int64"
      ]
     },
     "execution_count": 59,
     "metadata": {},
     "output_type": "execute_result"
    }
   ],
   "source": [
    "y_test.value_counts()\n",
    "# We want to capture all 23 people with dementia"
   ]
  },
  {
   "cell_type": "code",
   "execution_count": 60,
   "id": "9b3f029e",
   "metadata": {},
   "outputs": [
    {
     "data": {
      "image/svg+xml": [
       "<?xml version=\"1.0\" encoding=\"UTF-8\" standalone=\"no\"?>\n",
       "<!DOCTYPE svg PUBLIC \"-//W3C//DTD SVG 1.1//EN\"\n",
       " \"http://www.w3.org/Graphics/SVG/1.1/DTD/svg11.dtd\">\n",
       "<!-- Generated by graphviz version 2.43.0 (0)\n",
       " -->\n",
       "<!-- Title: Tree Pages: 1 -->\n",
       "<svg width=\"1817pt\" height=\"812pt\"\n",
       " viewBox=\"0.00 0.00 1817.00 812.00\" xmlns=\"http://www.w3.org/2000/svg\" xmlns:xlink=\"http://www.w3.org/1999/xlink\">\n",
       "<g id=\"graph0\" class=\"graph\" transform=\"scale(1 1) rotate(0) translate(4 808)\">\n",
       "<title>Tree</title>\n",
       "<polygon fill=\"white\" stroke=\"transparent\" points=\"-4,4 -4,-808 1813,-808 1813,4 -4,4\"/>\n",
       "<!-- 0 -->\n",
       "<g id=\"node1\" class=\"node\">\n",
       "<title>0</title>\n",
       "<path fill=\"#f9e3d3\" stroke=\"black\" d=\"M157,-490.5C157,-490.5 12,-490.5 12,-490.5 6,-490.5 0,-484.5 0,-478.5 0,-478.5 0,-419.5 0,-419.5 0,-413.5 6,-407.5 12,-407.5 12,-407.5 157,-407.5 157,-407.5 163,-407.5 169,-413.5 169,-419.5 169,-419.5 169,-478.5 169,-478.5 169,-484.5 163,-490.5 157,-490.5\"/>\n",
       "<text text-anchor=\"middle\" x=\"84.5\" y=\"-475.3\" font-family=\"futura\" font-size=\"14.00\">MMSE &lt;= &#45;0.375</text>\n",
       "<text text-anchor=\"middle\" x=\"84.5\" y=\"-460.3\" font-family=\"futura\" font-size=\"14.00\">gini = 0.492</text>\n",
       "<text text-anchor=\"middle\" x=\"84.5\" y=\"-445.3\" font-family=\"futura\" font-size=\"14.00\">samples = 176</text>\n",
       "<text text-anchor=\"middle\" x=\"84.5\" y=\"-430.3\" font-family=\"futura\" font-size=\"14.00\">value = [99, 77]</text>\n",
       "<text text-anchor=\"middle\" x=\"84.5\" y=\"-415.3\" font-family=\"futura\" font-size=\"14.00\">class = nondemented</text>\n",
       "</g>\n",
       "<!-- 1 -->\n",
       "<g id=\"node2\" class=\"node\">\n",
       "<title>1</title>\n",
       "<path fill=\"#56ace9\" stroke=\"black\" d=\"M349,-582.5C349,-582.5 230,-582.5 230,-582.5 224,-582.5 218,-576.5 218,-570.5 218,-570.5 218,-511.5 218,-511.5 218,-505.5 224,-499.5 230,-499.5 230,-499.5 349,-499.5 349,-499.5 355,-499.5 361,-505.5 361,-511.5 361,-511.5 361,-570.5 361,-570.5 361,-576.5 355,-582.5 349,-582.5\"/>\n",
       "<text text-anchor=\"middle\" x=\"289.5\" y=\"-567.3\" font-family=\"futura\" font-size=\"14.00\">MMSE &lt;= &#45;1.125</text>\n",
       "<text text-anchor=\"middle\" x=\"289.5\" y=\"-552.3\" font-family=\"futura\" font-size=\"14.00\">gini = 0.225</text>\n",
       "<text text-anchor=\"middle\" x=\"289.5\" y=\"-537.3\" font-family=\"futura\" font-size=\"14.00\">samples = 62</text>\n",
       "<text text-anchor=\"middle\" x=\"289.5\" y=\"-522.3\" font-family=\"futura\" font-size=\"14.00\">value = [8, 54]</text>\n",
       "<text text-anchor=\"middle\" x=\"289.5\" y=\"-507.3\" font-family=\"futura\" font-size=\"14.00\">class = demented</text>\n",
       "</g>\n",
       "<!-- 0&#45;&gt;1 -->\n",
       "<g id=\"edge1\" class=\"edge\">\n",
       "<title>0&#45;&gt;1</title>\n",
       "<path fill=\"none\" stroke=\"black\" d=\"M169.24,-486.95C182.25,-492.85 195.66,-498.92 208.58,-504.78\"/>\n",
       "<polygon fill=\"black\" stroke=\"black\" points=\"207.33,-508.06 217.88,-509 210.22,-501.68 207.33,-508.06\"/>\n",
       "<text text-anchor=\"middle\" x=\"194.48\" y=\"-514.1\" font-family=\"futura\" font-size=\"14.00\">True</text>\n",
       "</g>\n",
       "<!-- 12 -->\n",
       "<g id=\"node13\" class=\"node\">\n",
       "<title>12</title>\n",
       "<path fill=\"#eca16b\" stroke=\"black\" d=\"M362,-440.5C362,-440.5 217,-440.5 217,-440.5 211,-440.5 205,-434.5 205,-428.5 205,-428.5 205,-369.5 205,-369.5 205,-363.5 211,-357.5 217,-357.5 217,-357.5 362,-357.5 362,-357.5 368,-357.5 374,-363.5 374,-369.5 374,-369.5 374,-428.5 374,-428.5 374,-434.5 368,-440.5 362,-440.5\"/>\n",
       "<text text-anchor=\"middle\" x=\"289.5\" y=\"-425.3\" font-family=\"futura\" font-size=\"14.00\">nWBV &lt;= 0.787</text>\n",
       "<text text-anchor=\"middle\" x=\"289.5\" y=\"-410.3\" font-family=\"futura\" font-size=\"14.00\">gini = 0.322</text>\n",
       "<text text-anchor=\"middle\" x=\"289.5\" y=\"-395.3\" font-family=\"futura\" font-size=\"14.00\">samples = 114</text>\n",
       "<text text-anchor=\"middle\" x=\"289.5\" y=\"-380.3\" font-family=\"futura\" font-size=\"14.00\">value = [91, 23]</text>\n",
       "<text text-anchor=\"middle\" x=\"289.5\" y=\"-365.3\" font-family=\"futura\" font-size=\"14.00\">class = nondemented</text>\n",
       "</g>\n",
       "<!-- 0&#45;&gt;12 -->\n",
       "<g id=\"edge12\" class=\"edge\">\n",
       "<title>0&#45;&gt;12</title>\n",
       "<path fill=\"none\" stroke=\"black\" d=\"M169.24,-428.37C177.81,-426.26 186.55,-424.11 195.22,-421.98\"/>\n",
       "<polygon fill=\"black\" stroke=\"black\" points=\"196.08,-425.37 204.95,-419.58 194.41,-418.57 196.08,-425.37\"/>\n",
       "<text text-anchor=\"middle\" x=\"183.56\" y=\"-402.94\" font-family=\"futura\" font-size=\"14.00\">False</text>\n",
       "</g>\n",
       "<!-- 2 -->\n",
       "<g id=\"node3\" class=\"node\">\n",
       "<title>2</title>\n",
       "<path fill=\"#399de5\" stroke=\"black\" d=\"M554,-669C554,-669 435,-669 435,-669 429,-669 423,-663 423,-657 423,-657 423,-613 423,-613 423,-607 429,-601 435,-601 435,-601 554,-601 554,-601 560,-601 566,-607 566,-613 566,-613 566,-657 566,-657 566,-663 560,-669 554,-669\"/>\n",
       "<text text-anchor=\"middle\" x=\"494.5\" y=\"-653.8\" font-family=\"futura\" font-size=\"14.00\">gini = 0.0</text>\n",
       "<text text-anchor=\"middle\" x=\"494.5\" y=\"-638.8\" font-family=\"futura\" font-size=\"14.00\">samples = 40</text>\n",
       "<text text-anchor=\"middle\" x=\"494.5\" y=\"-623.8\" font-family=\"futura\" font-size=\"14.00\">value = [0, 40]</text>\n",
       "<text text-anchor=\"middle\" x=\"494.5\" y=\"-608.8\" font-family=\"futura\" font-size=\"14.00\">class = demented</text>\n",
       "</g>\n",
       "<!-- 1&#45;&gt;2 -->\n",
       "<g id=\"edge2\" class=\"edge\">\n",
       "<title>1&#45;&gt;2</title>\n",
       "<path fill=\"none\" stroke=\"black\" d=\"M361.21,-573.74C378.01,-581.52 396.06,-589.88 413.25,-597.84\"/>\n",
       "<polygon fill=\"black\" stroke=\"black\" points=\"412.15,-601.19 422.7,-602.21 415.09,-594.84 412.15,-601.19\"/>\n",
       "</g>\n",
       "<!-- 3 -->\n",
       "<g id=\"node4\" class=\"node\">\n",
       "<title>3</title>\n",
       "<path fill=\"#aad5f4\" stroke=\"black\" d=\"M554,-582.5C554,-582.5 435,-582.5 435,-582.5 429,-582.5 423,-576.5 423,-570.5 423,-570.5 423,-511.5 423,-511.5 423,-505.5 429,-499.5 435,-499.5 435,-499.5 554,-499.5 554,-499.5 560,-499.5 566,-505.5 566,-511.5 566,-511.5 566,-570.5 566,-570.5 566,-576.5 560,-582.5 554,-582.5\"/>\n",
       "<text text-anchor=\"middle\" x=\"494.5\" y=\"-567.3\" font-family=\"futura\" font-size=\"14.00\">ASF &lt;= 1.266</text>\n",
       "<text text-anchor=\"middle\" x=\"494.5\" y=\"-552.3\" font-family=\"futura\" font-size=\"14.00\">gini = 0.463</text>\n",
       "<text text-anchor=\"middle\" x=\"494.5\" y=\"-537.3\" font-family=\"futura\" font-size=\"14.00\">samples = 22</text>\n",
       "<text text-anchor=\"middle\" x=\"494.5\" y=\"-522.3\" font-family=\"futura\" font-size=\"14.00\">value = [8, 14]</text>\n",
       "<text text-anchor=\"middle\" x=\"494.5\" y=\"-507.3\" font-family=\"futura\" font-size=\"14.00\">class = demented</text>\n",
       "</g>\n",
       "<!-- 1&#45;&gt;3 -->\n",
       "<g id=\"edge3\" class=\"edge\">\n",
       "<title>1&#45;&gt;3</title>\n",
       "<path fill=\"none\" stroke=\"black\" d=\"M361.21,-541C377.7,-541 395.39,-541 412.29,-541\"/>\n",
       "<polygon fill=\"black\" stroke=\"black\" points=\"412.7,-544.5 422.7,-541 412.7,-537.5 412.7,-544.5\"/>\n",
       "</g>\n",
       "<!-- 4 -->\n",
       "<g id=\"node5\" class=\"node\">\n",
       "<title>4</title>\n",
       "<path fill=\"#49a5e7\" stroke=\"black\" d=\"M759,-725.5C759,-725.5 640,-725.5 640,-725.5 634,-725.5 628,-719.5 628,-713.5 628,-713.5 628,-654.5 628,-654.5 628,-648.5 634,-642.5 640,-642.5 640,-642.5 759,-642.5 759,-642.5 765,-642.5 771,-648.5 771,-654.5 771,-654.5 771,-713.5 771,-713.5 771,-719.5 765,-725.5 759,-725.5\"/>\n",
       "<text text-anchor=\"middle\" x=\"699.5\" y=\"-710.3\" font-family=\"futura\" font-size=\"14.00\">nWBV &lt;= 0.747</text>\n",
       "<text text-anchor=\"middle\" x=\"699.5\" y=\"-695.3\" font-family=\"futura\" font-size=\"14.00\">gini = 0.142</text>\n",
       "<text text-anchor=\"middle\" x=\"699.5\" y=\"-680.3\" font-family=\"futura\" font-size=\"14.00\">samples = 13</text>\n",
       "<text text-anchor=\"middle\" x=\"699.5\" y=\"-665.3\" font-family=\"futura\" font-size=\"14.00\">value = [1, 12]</text>\n",
       "<text text-anchor=\"middle\" x=\"699.5\" y=\"-650.3\" font-family=\"futura\" font-size=\"14.00\">class = demented</text>\n",
       "</g>\n",
       "<!-- 3&#45;&gt;4 -->\n",
       "<g id=\"edge4\" class=\"edge\">\n",
       "<title>3&#45;&gt;4</title>\n",
       "<path fill=\"none\" stroke=\"black\" d=\"M565.12,-582.74C569.86,-585.81 574.52,-588.92 579,-592 599.01,-605.76 620.21,-621.62 639.11,-636.26\"/>\n",
       "<polygon fill=\"black\" stroke=\"black\" points=\"637.01,-639.07 647.05,-642.45 641.32,-633.54 637.01,-639.07\"/>\n",
       "</g>\n",
       "<!-- 7 -->\n",
       "<g id=\"node8\" class=\"node\">\n",
       "<title>7</title>\n",
       "<path fill=\"#eca572\" stroke=\"black\" d=\"M772,-582.5C772,-582.5 627,-582.5 627,-582.5 621,-582.5 615,-576.5 615,-570.5 615,-570.5 615,-511.5 615,-511.5 615,-505.5 621,-499.5 627,-499.5 627,-499.5 772,-499.5 772,-499.5 778,-499.5 784,-505.5 784,-511.5 784,-511.5 784,-570.5 784,-570.5 784,-576.5 778,-582.5 772,-582.5\"/>\n",
       "<text text-anchor=\"middle\" x=\"699.5\" y=\"-567.3\" font-family=\"futura\" font-size=\"14.00\">Age &lt;= 0.427</text>\n",
       "<text text-anchor=\"middle\" x=\"699.5\" y=\"-552.3\" font-family=\"futura\" font-size=\"14.00\">gini = 0.346</text>\n",
       "<text text-anchor=\"middle\" x=\"699.5\" y=\"-537.3\" font-family=\"futura\" font-size=\"14.00\">samples = 9</text>\n",
       "<text text-anchor=\"middle\" x=\"699.5\" y=\"-522.3\" font-family=\"futura\" font-size=\"14.00\">value = [7, 2]</text>\n",
       "<text text-anchor=\"middle\" x=\"699.5\" y=\"-507.3\" font-family=\"futura\" font-size=\"14.00\">class = nondemented</text>\n",
       "</g>\n",
       "<!-- 3&#45;&gt;7 -->\n",
       "<g id=\"edge7\" class=\"edge\">\n",
       "<title>3&#45;&gt;7</title>\n",
       "<path fill=\"none\" stroke=\"black\" d=\"M566.21,-541C578.58,-541 591.63,-541 604.51,-541\"/>\n",
       "<polygon fill=\"black\" stroke=\"black\" points=\"604.79,-544.5 614.79,-541 604.79,-537.5 604.79,-544.5\"/>\n",
       "</g>\n",
       "<!-- 5 -->\n",
       "<g id=\"node6\" class=\"node\">\n",
       "<title>5</title>\n",
       "<path fill=\"#399de5\" stroke=\"black\" d=\"M964,-804C964,-804 845,-804 845,-804 839,-804 833,-798 833,-792 833,-792 833,-748 833,-748 833,-742 839,-736 845,-736 845,-736 964,-736 964,-736 970,-736 976,-742 976,-748 976,-748 976,-792 976,-792 976,-798 970,-804 964,-804\"/>\n",
       "<text text-anchor=\"middle\" x=\"904.5\" y=\"-788.8\" font-family=\"futura\" font-size=\"14.00\">gini = 0.0</text>\n",
       "<text text-anchor=\"middle\" x=\"904.5\" y=\"-773.8\" font-family=\"futura\" font-size=\"14.00\">samples = 11</text>\n",
       "<text text-anchor=\"middle\" x=\"904.5\" y=\"-758.8\" font-family=\"futura\" font-size=\"14.00\">value = [0, 11]</text>\n",
       "<text text-anchor=\"middle\" x=\"904.5\" y=\"-743.8\" font-family=\"futura\" font-size=\"14.00\">class = demented</text>\n",
       "</g>\n",
       "<!-- 4&#45;&gt;5 -->\n",
       "<g id=\"edge5\" class=\"edge\">\n",
       "<title>4&#45;&gt;5</title>\n",
       "<path fill=\"none\" stroke=\"black\" d=\"M771.21,-713.96C788.01,-721.07 806.06,-728.72 823.25,-736\"/>\n",
       "<polygon fill=\"black\" stroke=\"black\" points=\"822.12,-739.33 832.7,-740 824.85,-732.88 822.12,-739.33\"/>\n",
       "</g>\n",
       "<!-- 6 -->\n",
       "<g id=\"node7\" class=\"node\">\n",
       "<title>6</title>\n",
       "<path fill=\"#ffffff\" stroke=\"black\" d=\"M977,-718C977,-718 832,-718 832,-718 826,-718 820,-712 820,-706 820,-706 820,-662 820,-662 820,-656 826,-650 832,-650 832,-650 977,-650 977,-650 983,-650 989,-656 989,-662 989,-662 989,-706 989,-706 989,-712 983,-718 977,-718\"/>\n",
       "<text text-anchor=\"middle\" x=\"904.5\" y=\"-702.8\" font-family=\"futura\" font-size=\"14.00\">gini = 0.5</text>\n",
       "<text text-anchor=\"middle\" x=\"904.5\" y=\"-687.8\" font-family=\"futura\" font-size=\"14.00\">samples = 2</text>\n",
       "<text text-anchor=\"middle\" x=\"904.5\" y=\"-672.8\" font-family=\"futura\" font-size=\"14.00\">value = [1, 1]</text>\n",
       "<text text-anchor=\"middle\" x=\"904.5\" y=\"-657.8\" font-family=\"futura\" font-size=\"14.00\">class = nondemented</text>\n",
       "</g>\n",
       "<!-- 4&#45;&gt;6 -->\n",
       "<g id=\"edge6\" class=\"edge\">\n",
       "<title>4&#45;&gt;6</title>\n",
       "<path fill=\"none\" stroke=\"black\" d=\"M771.21,-684C783.58,-684 796.63,-684 809.51,-684\"/>\n",
       "<polygon fill=\"black\" stroke=\"black\" points=\"809.79,-687.5 819.79,-684 809.79,-680.5 809.79,-687.5\"/>\n",
       "</g>\n",
       "<!-- 8 -->\n",
       "<g id=\"node9\" class=\"node\">\n",
       "<title>8</title>\n",
       "<path fill=\"#f6d5bd\" stroke=\"black\" d=\"M977,-631.5C977,-631.5 832,-631.5 832,-631.5 826,-631.5 820,-625.5 820,-619.5 820,-619.5 820,-560.5 820,-560.5 820,-554.5 826,-548.5 832,-548.5 832,-548.5 977,-548.5 977,-548.5 983,-548.5 989,-554.5 989,-560.5 989,-560.5 989,-619.5 989,-619.5 989,-625.5 983,-631.5 977,-631.5\"/>\n",
       "<text text-anchor=\"middle\" x=\"904.5\" y=\"-616.3\" font-family=\"futura\" font-size=\"14.00\">ASF &lt;= 1.29</text>\n",
       "<text text-anchor=\"middle\" x=\"904.5\" y=\"-601.3\" font-family=\"futura\" font-size=\"14.00\">gini = 0.48</text>\n",
       "<text text-anchor=\"middle\" x=\"904.5\" y=\"-586.3\" font-family=\"futura\" font-size=\"14.00\">samples = 5</text>\n",
       "<text text-anchor=\"middle\" x=\"904.5\" y=\"-571.3\" font-family=\"futura\" font-size=\"14.00\">value = [3, 2]</text>\n",
       "<text text-anchor=\"middle\" x=\"904.5\" y=\"-556.3\" font-family=\"futura\" font-size=\"14.00\">class = nondemented</text>\n",
       "</g>\n",
       "<!-- 7&#45;&gt;8 -->\n",
       "<g id=\"edge8\" class=\"edge\">\n",
       "<title>7&#45;&gt;8</title>\n",
       "<path fill=\"none\" stroke=\"black\" d=\"M784.24,-561.21C792.81,-563.28 801.55,-565.39 810.22,-567.48\"/>\n",
       "<polygon fill=\"black\" stroke=\"black\" points=\"809.41,-570.89 819.95,-569.83 811.05,-564.08 809.41,-570.89\"/>\n",
       "</g>\n",
       "<!-- 11 -->\n",
       "<g id=\"node12\" class=\"node\">\n",
       "<title>11</title>\n",
       "<path fill=\"#e58139\" stroke=\"black\" d=\"M977,-530C977,-530 832,-530 832,-530 826,-530 820,-524 820,-518 820,-518 820,-474 820,-474 820,-468 826,-462 832,-462 832,-462 977,-462 977,-462 983,-462 989,-468 989,-474 989,-474 989,-518 989,-518 989,-524 983,-530 977,-530\"/>\n",
       "<text text-anchor=\"middle\" x=\"904.5\" y=\"-514.8\" font-family=\"futura\" font-size=\"14.00\">gini = 0.0</text>\n",
       "<text text-anchor=\"middle\" x=\"904.5\" y=\"-499.8\" font-family=\"futura\" font-size=\"14.00\">samples = 4</text>\n",
       "<text text-anchor=\"middle\" x=\"904.5\" y=\"-484.8\" font-family=\"futura\" font-size=\"14.00\">value = [4, 0]</text>\n",
       "<text text-anchor=\"middle\" x=\"904.5\" y=\"-469.8\" font-family=\"futura\" font-size=\"14.00\">class = nondemented</text>\n",
       "</g>\n",
       "<!-- 7&#45;&gt;11 -->\n",
       "<g id=\"edge11\" class=\"edge\">\n",
       "<title>7&#45;&gt;11</title>\n",
       "<path fill=\"none\" stroke=\"black\" d=\"M784.24,-522.44C792.72,-520.56 801.37,-518.64 809.94,-516.74\"/>\n",
       "<polygon fill=\"black\" stroke=\"black\" points=\"810.95,-520.1 819.95,-514.52 809.43,-513.27 810.95,-520.1\"/>\n",
       "</g>\n",
       "<!-- 9 -->\n",
       "<g id=\"node10\" class=\"node\">\n",
       "<title>9</title>\n",
       "<path fill=\"#e58139\" stroke=\"black\" d=\"M1182,-710C1182,-710 1037,-710 1037,-710 1031,-710 1025,-704 1025,-698 1025,-698 1025,-654 1025,-654 1025,-648 1031,-642 1037,-642 1037,-642 1182,-642 1182,-642 1188,-642 1194,-648 1194,-654 1194,-654 1194,-698 1194,-698 1194,-704 1188,-710 1182,-710\"/>\n",
       "<text text-anchor=\"middle\" x=\"1109.5\" y=\"-694.8\" font-family=\"futura\" font-size=\"14.00\">gini = 0.0</text>\n",
       "<text text-anchor=\"middle\" x=\"1109.5\" y=\"-679.8\" font-family=\"futura\" font-size=\"14.00\">samples = 3</text>\n",
       "<text text-anchor=\"middle\" x=\"1109.5\" y=\"-664.8\" font-family=\"futura\" font-size=\"14.00\">value = [3, 0]</text>\n",
       "<text text-anchor=\"middle\" x=\"1109.5\" y=\"-649.8\" font-family=\"futura\" font-size=\"14.00\">class = nondemented</text>\n",
       "</g>\n",
       "<!-- 8&#45;&gt;9 -->\n",
       "<g id=\"edge9\" class=\"edge\">\n",
       "<title>8&#45;&gt;9</title>\n",
       "<path fill=\"none\" stroke=\"black\" d=\"M989.24,-625.48C999.01,-629.61 1009,-633.85 1018.84,-638.02\"/>\n",
       "<polygon fill=\"black\" stroke=\"black\" points=\"1017.65,-641.31 1028.22,-641.99 1020.38,-634.87 1017.65,-641.31\"/>\n",
       "</g>\n",
       "<!-- 10 -->\n",
       "<g id=\"node11\" class=\"node\">\n",
       "<title>10</title>\n",
       "<path fill=\"#399de5\" stroke=\"black\" d=\"M1169,-624C1169,-624 1050,-624 1050,-624 1044,-624 1038,-618 1038,-612 1038,-612 1038,-568 1038,-568 1038,-562 1044,-556 1050,-556 1050,-556 1169,-556 1169,-556 1175,-556 1181,-562 1181,-568 1181,-568 1181,-612 1181,-612 1181,-618 1175,-624 1169,-624\"/>\n",
       "<text text-anchor=\"middle\" x=\"1109.5\" y=\"-608.8\" font-family=\"futura\" font-size=\"14.00\">gini = 0.0</text>\n",
       "<text text-anchor=\"middle\" x=\"1109.5\" y=\"-593.8\" font-family=\"futura\" font-size=\"14.00\">samples = 2</text>\n",
       "<text text-anchor=\"middle\" x=\"1109.5\" y=\"-578.8\" font-family=\"futura\" font-size=\"14.00\">value = [0, 2]</text>\n",
       "<text text-anchor=\"middle\" x=\"1109.5\" y=\"-563.8\" font-family=\"futura\" font-size=\"14.00\">class = demented</text>\n",
       "</g>\n",
       "<!-- 8&#45;&gt;10 -->\n",
       "<g id=\"edge10\" class=\"edge\">\n",
       "<title>8&#45;&gt;10</title>\n",
       "<path fill=\"none\" stroke=\"black\" d=\"M989.24,-590C1001.99,-590 1015.13,-590 1027.82,-590\"/>\n",
       "<polygon fill=\"black\" stroke=\"black\" points=\"1027.88,-593.5 1037.88,-590 1027.88,-586.5 1027.88,-593.5\"/>\n",
       "</g>\n",
       "<!-- 13 -->\n",
       "<g id=\"node14\" class=\"node\">\n",
       "<title>13</title>\n",
       "<path fill=\"#f0b78d\" stroke=\"black\" d=\"M567,-440.5C567,-440.5 422,-440.5 422,-440.5 416,-440.5 410,-434.5 410,-428.5 410,-428.5 410,-369.5 410,-369.5 410,-363.5 416,-357.5 422,-357.5 422,-357.5 567,-357.5 567,-357.5 573,-357.5 579,-363.5 579,-369.5 579,-369.5 579,-428.5 579,-428.5 579,-434.5 573,-440.5 567,-440.5\"/>\n",
       "<text text-anchor=\"middle\" x=\"494.5\" y=\"-425.3\" font-family=\"futura\" font-size=\"14.00\">Age &lt;= 1.049</text>\n",
       "<text text-anchor=\"middle\" x=\"494.5\" y=\"-410.3\" font-family=\"futura\" font-size=\"14.00\">gini = 0.419</text>\n",
       "<text text-anchor=\"middle\" x=\"494.5\" y=\"-395.3\" font-family=\"futura\" font-size=\"14.00\">samples = 77</text>\n",
       "<text text-anchor=\"middle\" x=\"494.5\" y=\"-380.3\" font-family=\"futura\" font-size=\"14.00\">value = [54, 23]</text>\n",
       "<text text-anchor=\"middle\" x=\"494.5\" y=\"-365.3\" font-family=\"futura\" font-size=\"14.00\">class = nondemented</text>\n",
       "</g>\n",
       "<!-- 12&#45;&gt;13 -->\n",
       "<g id=\"edge13\" class=\"edge\">\n",
       "<title>12&#45;&gt;13</title>\n",
       "<path fill=\"none\" stroke=\"black\" d=\"M374.24,-399C382.72,-399 391.37,-399 399.94,-399\"/>\n",
       "<polygon fill=\"black\" stroke=\"black\" points=\"399.95,-402.5 409.95,-399 399.95,-395.5 399.95,-402.5\"/>\n",
       "</g>\n",
       "<!-- 42 -->\n",
       "<g id=\"node43\" class=\"node\">\n",
       "<title>42</title>\n",
       "<path fill=\"#e58139\" stroke=\"black\" d=\"M567,-339C567,-339 422,-339 422,-339 416,-339 410,-333 410,-327 410,-327 410,-283 410,-283 410,-277 416,-271 422,-271 422,-271 567,-271 567,-271 573,-271 579,-277 579,-283 579,-283 579,-327 579,-327 579,-333 573,-339 567,-339\"/>\n",
       "<text text-anchor=\"middle\" x=\"494.5\" y=\"-323.8\" font-family=\"futura\" font-size=\"14.00\">gini = 0.0</text>\n",
       "<text text-anchor=\"middle\" x=\"494.5\" y=\"-308.8\" font-family=\"futura\" font-size=\"14.00\">samples = 37</text>\n",
       "<text text-anchor=\"middle\" x=\"494.5\" y=\"-293.8\" font-family=\"futura\" font-size=\"14.00\">value = [37, 0]</text>\n",
       "<text text-anchor=\"middle\" x=\"494.5\" y=\"-278.8\" font-family=\"futura\" font-size=\"14.00\">class = nondemented</text>\n",
       "</g>\n",
       "<!-- 12&#45;&gt;42 -->\n",
       "<g id=\"edge42\" class=\"edge\">\n",
       "<title>12&#45;&gt;42</title>\n",
       "<path fill=\"none\" stroke=\"black\" d=\"M374.24,-360.22C386.34,-354.62 398.78,-348.86 410.86,-343.27\"/>\n",
       "<polygon fill=\"black\" stroke=\"black\" points=\"412.4,-346.41 420.01,-339.03 409.46,-340.06 412.4,-346.41\"/>\n",
       "</g>\n",
       "<!-- 14 -->\n",
       "<g id=\"node15\" class=\"node\">\n",
       "<title>14</title>\n",
       "<path fill=\"#f3c4a3\" stroke=\"black\" d=\"M772,-440.5C772,-440.5 627,-440.5 627,-440.5 621,-440.5 615,-434.5 615,-428.5 615,-428.5 615,-369.5 615,-369.5 615,-363.5 621,-357.5 627,-357.5 627,-357.5 772,-357.5 772,-357.5 778,-357.5 784,-363.5 784,-369.5 784,-369.5 784,-428.5 784,-428.5 784,-434.5 778,-440.5 772,-440.5\"/>\n",
       "<text text-anchor=\"middle\" x=\"699.5\" y=\"-425.3\" font-family=\"futura\" font-size=\"14.00\">MMSE &lt;= 0.125</text>\n",
       "<text text-anchor=\"middle\" x=\"699.5\" y=\"-410.3\" font-family=\"futura\" font-size=\"14.00\">gini = 0.454</text>\n",
       "<text text-anchor=\"middle\" x=\"699.5\" y=\"-395.3\" font-family=\"futura\" font-size=\"14.00\">samples = 66</text>\n",
       "<text text-anchor=\"middle\" x=\"699.5\" y=\"-380.3\" font-family=\"futura\" font-size=\"14.00\">value = [43, 23]</text>\n",
       "<text text-anchor=\"middle\" x=\"699.5\" y=\"-365.3\" font-family=\"futura\" font-size=\"14.00\">class = nondemented</text>\n",
       "</g>\n",
       "<!-- 13&#45;&gt;14 -->\n",
       "<g id=\"edge14\" class=\"edge\">\n",
       "<title>13&#45;&gt;14</title>\n",
       "<path fill=\"none\" stroke=\"black\" d=\"M579.24,-399C587.72,-399 596.37,-399 604.94,-399\"/>\n",
       "<polygon fill=\"black\" stroke=\"black\" points=\"604.95,-402.5 614.95,-399 604.95,-395.5 604.95,-402.5\"/>\n",
       "</g>\n",
       "<!-- 41 -->\n",
       "<g id=\"node42\" class=\"node\">\n",
       "<title>41</title>\n",
       "<path fill=\"#e58139\" stroke=\"black\" d=\"M772,-339C772,-339 627,-339 627,-339 621,-339 615,-333 615,-327 615,-327 615,-283 615,-283 615,-277 621,-271 627,-271 627,-271 772,-271 772,-271 778,-271 784,-277 784,-283 784,-283 784,-327 784,-327 784,-333 778,-339 772,-339\"/>\n",
       "<text text-anchor=\"middle\" x=\"699.5\" y=\"-323.8\" font-family=\"futura\" font-size=\"14.00\">gini = 0.0</text>\n",
       "<text text-anchor=\"middle\" x=\"699.5\" y=\"-308.8\" font-family=\"futura\" font-size=\"14.00\">samples = 11</text>\n",
       "<text text-anchor=\"middle\" x=\"699.5\" y=\"-293.8\" font-family=\"futura\" font-size=\"14.00\">value = [11, 0]</text>\n",
       "<text text-anchor=\"middle\" x=\"699.5\" y=\"-278.8\" font-family=\"futura\" font-size=\"14.00\">class = nondemented</text>\n",
       "</g>\n",
       "<!-- 13&#45;&gt;41 -->\n",
       "<g id=\"edge41\" class=\"edge\">\n",
       "<title>13&#45;&gt;41</title>\n",
       "<path fill=\"none\" stroke=\"black\" d=\"M579.24,-360.22C591.34,-354.62 603.78,-348.86 615.86,-343.27\"/>\n",
       "<polygon fill=\"black\" stroke=\"black\" points=\"617.4,-346.41 625.01,-339.03 614.46,-340.06 617.4,-346.41\"/>\n",
       "</g>\n",
       "<!-- 15 -->\n",
       "<g id=\"node16\" class=\"node\">\n",
       "<title>15</title>\n",
       "<path fill=\"#fae7d9\" stroke=\"black\" d=\"M977,-440.5C977,-440.5 832,-440.5 832,-440.5 826,-440.5 820,-434.5 820,-428.5 820,-428.5 820,-369.5 820,-369.5 820,-363.5 826,-357.5 832,-357.5 832,-357.5 977,-357.5 977,-357.5 983,-357.5 989,-363.5 989,-369.5 989,-369.5 989,-428.5 989,-428.5 989,-434.5 983,-440.5 977,-440.5\"/>\n",
       "<text text-anchor=\"middle\" x=\"904.5\" y=\"-425.3\" font-family=\"futura\" font-size=\"14.00\">SES &lt;= 3.5</text>\n",
       "<text text-anchor=\"middle\" x=\"904.5\" y=\"-410.3\" font-family=\"futura\" font-size=\"14.00\">gini = 0.494</text>\n",
       "<text text-anchor=\"middle\" x=\"904.5\" y=\"-395.3\" font-family=\"futura\" font-size=\"14.00\">samples = 38</text>\n",
       "<text text-anchor=\"middle\" x=\"904.5\" y=\"-380.3\" font-family=\"futura\" font-size=\"14.00\">value = [21, 17]</text>\n",
       "<text text-anchor=\"middle\" x=\"904.5\" y=\"-365.3\" font-family=\"futura\" font-size=\"14.00\">class = nondemented</text>\n",
       "</g>\n",
       "<!-- 14&#45;&gt;15 -->\n",
       "<g id=\"edge15\" class=\"edge\">\n",
       "<title>14&#45;&gt;15</title>\n",
       "<path fill=\"none\" stroke=\"black\" d=\"M784.24,-399C792.72,-399 801.37,-399 809.94,-399\"/>\n",
       "<polygon fill=\"black\" stroke=\"black\" points=\"809.95,-402.5 819.95,-399 809.95,-395.5 809.95,-402.5\"/>\n",
       "</g>\n",
       "<!-- 30 -->\n",
       "<g id=\"node31\" class=\"node\">\n",
       "<title>30</title>\n",
       "<path fill=\"#eca36f\" stroke=\"black\" d=\"M977,-263.5C977,-263.5 832,-263.5 832,-263.5 826,-263.5 820,-257.5 820,-251.5 820,-251.5 820,-192.5 820,-192.5 820,-186.5 826,-180.5 832,-180.5 832,-180.5 977,-180.5 977,-180.5 983,-180.5 989,-186.5 989,-192.5 989,-192.5 989,-251.5 989,-251.5 989,-257.5 983,-263.5 977,-263.5\"/>\n",
       "<text text-anchor=\"middle\" x=\"904.5\" y=\"-248.3\" font-family=\"futura\" font-size=\"14.00\">Educ &lt;= 0.875</text>\n",
       "<text text-anchor=\"middle\" x=\"904.5\" y=\"-233.3\" font-family=\"futura\" font-size=\"14.00\">gini = 0.337</text>\n",
       "<text text-anchor=\"middle\" x=\"904.5\" y=\"-218.3\" font-family=\"futura\" font-size=\"14.00\">samples = 28</text>\n",
       "<text text-anchor=\"middle\" x=\"904.5\" y=\"-203.3\" font-family=\"futura\" font-size=\"14.00\">value = [22, 6]</text>\n",
       "<text text-anchor=\"middle\" x=\"904.5\" y=\"-188.3\" font-family=\"futura\" font-size=\"14.00\">class = nondemented</text>\n",
       "</g>\n",
       "<!-- 14&#45;&gt;30 -->\n",
       "<g id=\"edge30\" class=\"edge\">\n",
       "<title>14&#45;&gt;30</title>\n",
       "<path fill=\"none\" stroke=\"black\" d=\"M771.56,-357.43C775.86,-354.36 780.04,-351.2 784,-348 812.24,-325.16 840.36,-295.92 862.22,-271.35\"/>\n",
       "<polygon fill=\"black\" stroke=\"black\" points=\"865.11,-273.37 869.1,-263.56 859.86,-268.74 865.11,-273.37\"/>\n",
       "</g>\n",
       "<!-- 16 -->\n",
       "<g id=\"node17\" class=\"node\">\n",
       "<title>16</title>\n",
       "<path fill=\"#e6f3fc\" stroke=\"black\" d=\"M1169,-537.5C1169,-537.5 1050,-537.5 1050,-537.5 1044,-537.5 1038,-531.5 1038,-525.5 1038,-525.5 1038,-466.5 1038,-466.5 1038,-460.5 1044,-454.5 1050,-454.5 1050,-454.5 1169,-454.5 1169,-454.5 1175,-454.5 1181,-460.5 1181,-466.5 1181,-466.5 1181,-525.5 1181,-525.5 1181,-531.5 1175,-537.5 1169,-537.5\"/>\n",
       "<text text-anchor=\"middle\" x=\"1109.5\" y=\"-522.3\" font-family=\"futura\" font-size=\"14.00\">nWBV &lt;= 0.727</text>\n",
       "<text text-anchor=\"middle\" x=\"1109.5\" y=\"-507.3\" font-family=\"futura\" font-size=\"14.00\">gini = 0.498</text>\n",
       "<text text-anchor=\"middle\" x=\"1109.5\" y=\"-492.3\" font-family=\"futura\" font-size=\"14.00\">samples = 30</text>\n",
       "<text text-anchor=\"middle\" x=\"1109.5\" y=\"-477.3\" font-family=\"futura\" font-size=\"14.00\">value = [14, 16]</text>\n",
       "<text text-anchor=\"middle\" x=\"1109.5\" y=\"-462.3\" font-family=\"futura\" font-size=\"14.00\">class = demented</text>\n",
       "</g>\n",
       "<!-- 15&#45;&gt;16 -->\n",
       "<g id=\"edge16\" class=\"edge\">\n",
       "<title>15&#45;&gt;16</title>\n",
       "<path fill=\"none\" stroke=\"black\" d=\"M989.24,-439.01C1002.25,-445.23 1015.66,-451.64 1028.58,-457.81\"/>\n",
       "<polygon fill=\"black\" stroke=\"black\" points=\"1027.35,-461.1 1037.88,-462.26 1030.37,-454.79 1027.35,-461.1\"/>\n",
       "</g>\n",
       "<!-- 27 -->\n",
       "<g id=\"node28\" class=\"node\">\n",
       "<title>27</title>\n",
       "<path fill=\"#e99355\" stroke=\"black\" d=\"M1182,-436.5C1182,-436.5 1037,-436.5 1037,-436.5 1031,-436.5 1025,-430.5 1025,-424.5 1025,-424.5 1025,-365.5 1025,-365.5 1025,-359.5 1031,-353.5 1037,-353.5 1037,-353.5 1182,-353.5 1182,-353.5 1188,-353.5 1194,-359.5 1194,-365.5 1194,-365.5 1194,-424.5 1194,-424.5 1194,-430.5 1188,-436.5 1182,-436.5\"/>\n",
       "<text text-anchor=\"middle\" x=\"1109.5\" y=\"-421.3\" font-family=\"futura\" font-size=\"14.00\">ASF &lt;= 1.328</text>\n",
       "<text text-anchor=\"middle\" x=\"1109.5\" y=\"-406.3\" font-family=\"futura\" font-size=\"14.00\">gini = 0.219</text>\n",
       "<text text-anchor=\"middle\" x=\"1109.5\" y=\"-391.3\" font-family=\"futura\" font-size=\"14.00\">samples = 8</text>\n",
       "<text text-anchor=\"middle\" x=\"1109.5\" y=\"-376.3\" font-family=\"futura\" font-size=\"14.00\">value = [7, 1]</text>\n",
       "<text text-anchor=\"middle\" x=\"1109.5\" y=\"-361.3\" font-family=\"futura\" font-size=\"14.00\">class = nondemented</text>\n",
       "</g>\n",
       "<!-- 15&#45;&gt;27 -->\n",
       "<g id=\"edge27\" class=\"edge\">\n",
       "<title>15&#45;&gt;27</title>\n",
       "<path fill=\"none\" stroke=\"black\" d=\"M989.24,-397.35C997.72,-397.18 1006.37,-397.01 1014.94,-396.84\"/>\n",
       "<polygon fill=\"black\" stroke=\"black\" points=\"1015.02,-400.34 1024.95,-396.65 1014.89,-393.34 1015.02,-400.34\"/>\n",
       "</g>\n",
       "<!-- 17 -->\n",
       "<g id=\"node18\" class=\"node\">\n",
       "<title>17</title>\n",
       "<path fill=\"#52a9e8\" stroke=\"black\" d=\"M1374,-638.5C1374,-638.5 1255,-638.5 1255,-638.5 1249,-638.5 1243,-632.5 1243,-626.5 1243,-626.5 1243,-567.5 1243,-567.5 1243,-561.5 1249,-555.5 1255,-555.5 1255,-555.5 1374,-555.5 1374,-555.5 1380,-555.5 1386,-561.5 1386,-567.5 1386,-567.5 1386,-626.5 1386,-626.5 1386,-632.5 1380,-638.5 1374,-638.5\"/>\n",
       "<text text-anchor=\"middle\" x=\"1314.5\" y=\"-623.3\" font-family=\"futura\" font-size=\"14.00\">Age &lt;= 0.22</text>\n",
       "<text text-anchor=\"middle\" x=\"1314.5\" y=\"-608.3\" font-family=\"futura\" font-size=\"14.00\">gini = 0.198</text>\n",
       "<text text-anchor=\"middle\" x=\"1314.5\" y=\"-593.3\" font-family=\"futura\" font-size=\"14.00\">samples = 9</text>\n",
       "<text text-anchor=\"middle\" x=\"1314.5\" y=\"-578.3\" font-family=\"futura\" font-size=\"14.00\">value = [1, 8]</text>\n",
       "<text text-anchor=\"middle\" x=\"1314.5\" y=\"-563.3\" font-family=\"futura\" font-size=\"14.00\">class = demented</text>\n",
       "</g>\n",
       "<!-- 16&#45;&gt;17 -->\n",
       "<g id=\"edge17\" class=\"edge\">\n",
       "<title>16&#45;&gt;17</title>\n",
       "<path fill=\"none\" stroke=\"black\" d=\"M1181.21,-531.18C1198.17,-539.62 1216.39,-548.68 1233.72,-557.31\"/>\n",
       "<polygon fill=\"black\" stroke=\"black\" points=\"1232.18,-560.45 1242.7,-561.77 1235.3,-554.18 1232.18,-560.45\"/>\n",
       "</g>\n",
       "<!-- 20 -->\n",
       "<g id=\"node21\" class=\"node\">\n",
       "<title>20</title>\n",
       "<path fill=\"#f5cfb3\" stroke=\"black\" d=\"M1387,-537.5C1387,-537.5 1242,-537.5 1242,-537.5 1236,-537.5 1230,-531.5 1230,-525.5 1230,-525.5 1230,-466.5 1230,-466.5 1230,-460.5 1236,-454.5 1242,-454.5 1242,-454.5 1387,-454.5 1387,-454.5 1393,-454.5 1399,-460.5 1399,-466.5 1399,-466.5 1399,-525.5 1399,-525.5 1399,-531.5 1393,-537.5 1387,-537.5\"/>\n",
       "<text text-anchor=\"middle\" x=\"1314.5\" y=\"-522.3\" font-family=\"futura\" font-size=\"14.00\">SES &lt;= 2.5</text>\n",
       "<text text-anchor=\"middle\" x=\"1314.5\" y=\"-507.3\" font-family=\"futura\" font-size=\"14.00\">gini = 0.472</text>\n",
       "<text text-anchor=\"middle\" x=\"1314.5\" y=\"-492.3\" font-family=\"futura\" font-size=\"14.00\">samples = 21</text>\n",
       "<text text-anchor=\"middle\" x=\"1314.5\" y=\"-477.3\" font-family=\"futura\" font-size=\"14.00\">value = [13, 8]</text>\n",
       "<text text-anchor=\"middle\" x=\"1314.5\" y=\"-462.3\" font-family=\"futura\" font-size=\"14.00\">class = nondemented</text>\n",
       "</g>\n",
       "<!-- 16&#45;&gt;20 -->\n",
       "<g id=\"edge20\" class=\"edge\">\n",
       "<title>16&#45;&gt;20</title>\n",
       "<path fill=\"none\" stroke=\"black\" d=\"M1181.21,-496C1193.58,-496 1206.63,-496 1219.51,-496\"/>\n",
       "<polygon fill=\"black\" stroke=\"black\" points=\"1219.79,-499.5 1229.79,-496 1219.79,-492.5 1219.79,-499.5\"/>\n",
       "</g>\n",
       "<!-- 18 -->\n",
       "<g id=\"node19\" class=\"node\">\n",
       "<title>18</title>\n",
       "<path fill=\"#ffffff\" stroke=\"black\" d=\"M1592,-717C1592,-717 1447,-717 1447,-717 1441,-717 1435,-711 1435,-705 1435,-705 1435,-661 1435,-661 1435,-655 1441,-649 1447,-649 1447,-649 1592,-649 1592,-649 1598,-649 1604,-655 1604,-661 1604,-661 1604,-705 1604,-705 1604,-711 1598,-717 1592,-717\"/>\n",
       "<text text-anchor=\"middle\" x=\"1519.5\" y=\"-701.8\" font-family=\"futura\" font-size=\"14.00\">gini = 0.5</text>\n",
       "<text text-anchor=\"middle\" x=\"1519.5\" y=\"-686.8\" font-family=\"futura\" font-size=\"14.00\">samples = 2</text>\n",
       "<text text-anchor=\"middle\" x=\"1519.5\" y=\"-671.8\" font-family=\"futura\" font-size=\"14.00\">value = [1, 1]</text>\n",
       "<text text-anchor=\"middle\" x=\"1519.5\" y=\"-656.8\" font-family=\"futura\" font-size=\"14.00\">class = nondemented</text>\n",
       "</g>\n",
       "<!-- 17&#45;&gt;18 -->\n",
       "<g id=\"edge18\" class=\"edge\">\n",
       "<title>17&#45;&gt;18</title>\n",
       "<path fill=\"none\" stroke=\"black\" d=\"M1386.21,-626.96C1399.92,-632.76 1414.45,-638.92 1428.67,-644.94\"/>\n",
       "<polygon fill=\"black\" stroke=\"black\" points=\"1427.39,-648.2 1437.96,-648.88 1430.12,-641.76 1427.39,-648.2\"/>\n",
       "</g>\n",
       "<!-- 19 -->\n",
       "<g id=\"node20\" class=\"node\">\n",
       "<title>19</title>\n",
       "<path fill=\"#399de5\" stroke=\"black\" d=\"M1579,-631C1579,-631 1460,-631 1460,-631 1454,-631 1448,-625 1448,-619 1448,-619 1448,-575 1448,-575 1448,-569 1454,-563 1460,-563 1460,-563 1579,-563 1579,-563 1585,-563 1591,-569 1591,-575 1591,-575 1591,-619 1591,-619 1591,-625 1585,-631 1579,-631\"/>\n",
       "<text text-anchor=\"middle\" x=\"1519.5\" y=\"-615.8\" font-family=\"futura\" font-size=\"14.00\">gini = 0.0</text>\n",
       "<text text-anchor=\"middle\" x=\"1519.5\" y=\"-600.8\" font-family=\"futura\" font-size=\"14.00\">samples = 7</text>\n",
       "<text text-anchor=\"middle\" x=\"1519.5\" y=\"-585.8\" font-family=\"futura\" font-size=\"14.00\">value = [0, 7]</text>\n",
       "<text text-anchor=\"middle\" x=\"1519.5\" y=\"-570.8\" font-family=\"futura\" font-size=\"14.00\">class = demented</text>\n",
       "</g>\n",
       "<!-- 17&#45;&gt;19 -->\n",
       "<g id=\"edge19\" class=\"edge\">\n",
       "<title>17&#45;&gt;19</title>\n",
       "<path fill=\"none\" stroke=\"black\" d=\"M1386.21,-597C1402.7,-597 1420.39,-597 1437.29,-597\"/>\n",
       "<polygon fill=\"black\" stroke=\"black\" points=\"1437.7,-600.5 1447.7,-597 1437.7,-593.5 1437.7,-600.5\"/>\n",
       "</g>\n",
       "<!-- 21 -->\n",
       "<g id=\"node22\" class=\"node\">\n",
       "<title>21</title>\n",
       "<path fill=\"#e88e4d\" stroke=\"black\" d=\"M1592,-544.5C1592,-544.5 1447,-544.5 1447,-544.5 1441,-544.5 1435,-538.5 1435,-532.5 1435,-532.5 1435,-473.5 1435,-473.5 1435,-467.5 1441,-461.5 1447,-461.5 1447,-461.5 1592,-461.5 1592,-461.5 1598,-461.5 1604,-467.5 1604,-473.5 1604,-473.5 1604,-532.5 1604,-532.5 1604,-538.5 1598,-544.5 1592,-544.5\"/>\n",
       "<text text-anchor=\"middle\" x=\"1519.5\" y=\"-529.3\" font-family=\"futura\" font-size=\"14.00\">eTIV &lt;= 0.835</text>\n",
       "<text text-anchor=\"middle\" x=\"1519.5\" y=\"-514.3\" font-family=\"futura\" font-size=\"14.00\">gini = 0.165</text>\n",
       "<text text-anchor=\"middle\" x=\"1519.5\" y=\"-499.3\" font-family=\"futura\" font-size=\"14.00\">samples = 11</text>\n",
       "<text text-anchor=\"middle\" x=\"1519.5\" y=\"-484.3\" font-family=\"futura\" font-size=\"14.00\">value = [10, 1]</text>\n",
       "<text text-anchor=\"middle\" x=\"1519.5\" y=\"-469.3\" font-family=\"futura\" font-size=\"14.00\">class = nondemented</text>\n",
       "</g>\n",
       "<!-- 20&#45;&gt;21 -->\n",
       "<g id=\"edge21\" class=\"edge\">\n",
       "<title>20&#45;&gt;21</title>\n",
       "<path fill=\"none\" stroke=\"black\" d=\"M1399.24,-498.89C1407.72,-499.18 1416.37,-499.48 1424.94,-499.77\"/>\n",
       "<polygon fill=\"black\" stroke=\"black\" points=\"1424.84,-503.27 1434.95,-500.12 1425.08,-496.28 1424.84,-503.27\"/>\n",
       "</g>\n",
       "<!-- 24 -->\n",
       "<g id=\"node25\" class=\"node\">\n",
       "<title>24</title>\n",
       "<path fill=\"#8ec7f0\" stroke=\"black\" d=\"M1579,-443.5C1579,-443.5 1460,-443.5 1460,-443.5 1454,-443.5 1448,-437.5 1448,-431.5 1448,-431.5 1448,-372.5 1448,-372.5 1448,-366.5 1454,-360.5 1460,-360.5 1460,-360.5 1579,-360.5 1579,-360.5 1585,-360.5 1591,-366.5 1591,-372.5 1591,-372.5 1591,-431.5 1591,-431.5 1591,-437.5 1585,-443.5 1579,-443.5\"/>\n",
       "<text text-anchor=\"middle\" x=\"1519.5\" y=\"-428.3\" font-family=\"futura\" font-size=\"14.00\">eTIV &lt;= 0.225</text>\n",
       "<text text-anchor=\"middle\" x=\"1519.5\" y=\"-413.3\" font-family=\"futura\" font-size=\"14.00\">gini = 0.42</text>\n",
       "<text text-anchor=\"middle\" x=\"1519.5\" y=\"-398.3\" font-family=\"futura\" font-size=\"14.00\">samples = 10</text>\n",
       "<text text-anchor=\"middle\" x=\"1519.5\" y=\"-383.3\" font-family=\"futura\" font-size=\"14.00\">value = [3, 7]</text>\n",
       "<text text-anchor=\"middle\" x=\"1519.5\" y=\"-368.3\" font-family=\"futura\" font-size=\"14.00\">class = demented</text>\n",
       "</g>\n",
       "<!-- 20&#45;&gt;24 -->\n",
       "<g id=\"edge24\" class=\"edge\">\n",
       "<title>20&#45;&gt;24</title>\n",
       "<path fill=\"none\" stroke=\"black\" d=\"M1399.24,-457.22C1412.25,-451.2 1425.66,-444.99 1438.58,-439.01\"/>\n",
       "<polygon fill=\"black\" stroke=\"black\" points=\"1440.28,-442.08 1447.88,-434.7 1437.34,-435.73 1440.28,-442.08\"/>\n",
       "</g>\n",
       "<!-- 22 -->\n",
       "<g id=\"node23\" class=\"node\">\n",
       "<title>22</title>\n",
       "<path fill=\"#e58139\" stroke=\"black\" d=\"M1797,-619C1797,-619 1652,-619 1652,-619 1646,-619 1640,-613 1640,-607 1640,-607 1640,-563 1640,-563 1640,-557 1646,-551 1652,-551 1652,-551 1797,-551 1797,-551 1803,-551 1809,-557 1809,-563 1809,-563 1809,-607 1809,-607 1809,-613 1803,-619 1797,-619\"/>\n",
       "<text text-anchor=\"middle\" x=\"1724.5\" y=\"-603.8\" font-family=\"futura\" font-size=\"14.00\">gini = 0.0</text>\n",
       "<text text-anchor=\"middle\" x=\"1724.5\" y=\"-588.8\" font-family=\"futura\" font-size=\"14.00\">samples = 8</text>\n",
       "<text text-anchor=\"middle\" x=\"1724.5\" y=\"-573.8\" font-family=\"futura\" font-size=\"14.00\">value = [8, 0]</text>\n",
       "<text text-anchor=\"middle\" x=\"1724.5\" y=\"-558.8\" font-family=\"futura\" font-size=\"14.00\">class = nondemented</text>\n",
       "</g>\n",
       "<!-- 21&#45;&gt;22 -->\n",
       "<g id=\"edge22\" class=\"edge\">\n",
       "<title>21&#45;&gt;22</title>\n",
       "<path fill=\"none\" stroke=\"black\" d=\"M1604.24,-536.83C1612.9,-540.32 1621.74,-543.9 1630.5,-547.43\"/>\n",
       "<polygon fill=\"black\" stroke=\"black\" points=\"1629.37,-550.75 1639.95,-551.25 1631.99,-544.26 1629.37,-550.75\"/>\n",
       "</g>\n",
       "<!-- 23 -->\n",
       "<g id=\"node24\" class=\"node\">\n",
       "<title>23</title>\n",
       "<path fill=\"#f2c09c\" stroke=\"black\" d=\"M1797,-533C1797,-533 1652,-533 1652,-533 1646,-533 1640,-527 1640,-521 1640,-521 1640,-477 1640,-477 1640,-471 1646,-465 1652,-465 1652,-465 1797,-465 1797,-465 1803,-465 1809,-471 1809,-477 1809,-477 1809,-521 1809,-521 1809,-527 1803,-533 1797,-533\"/>\n",
       "<text text-anchor=\"middle\" x=\"1724.5\" y=\"-517.8\" font-family=\"futura\" font-size=\"14.00\">gini = 0.444</text>\n",
       "<text text-anchor=\"middle\" x=\"1724.5\" y=\"-502.8\" font-family=\"futura\" font-size=\"14.00\">samples = 3</text>\n",
       "<text text-anchor=\"middle\" x=\"1724.5\" y=\"-487.8\" font-family=\"futura\" font-size=\"14.00\">value = [2, 1]</text>\n",
       "<text text-anchor=\"middle\" x=\"1724.5\" y=\"-472.8\" font-family=\"futura\" font-size=\"14.00\">class = nondemented</text>\n",
       "</g>\n",
       "<!-- 21&#45;&gt;23 -->\n",
       "<g id=\"edge23\" class=\"edge\">\n",
       "<title>21&#45;&gt;23</title>\n",
       "<path fill=\"none\" stroke=\"black\" d=\"M1604.24,-501.35C1612.72,-501.18 1621.37,-501.01 1629.94,-500.84\"/>\n",
       "<polygon fill=\"black\" stroke=\"black\" points=\"1630.02,-504.34 1639.95,-500.65 1629.89,-497.34 1630.02,-504.34\"/>\n",
       "</g>\n",
       "<!-- 25 -->\n",
       "<g id=\"node26\" class=\"node\">\n",
       "<title>25</title>\n",
       "<path fill=\"#5aade9\" stroke=\"black\" d=\"M1784,-440C1784,-440 1665,-440 1665,-440 1659,-440 1653,-434 1653,-428 1653,-428 1653,-384 1653,-384 1653,-378 1659,-372 1665,-372 1665,-372 1784,-372 1784,-372 1790,-372 1796,-378 1796,-384 1796,-384 1796,-428 1796,-428 1796,-434 1790,-440 1784,-440\"/>\n",
       "<text text-anchor=\"middle\" x=\"1724.5\" y=\"-424.8\" font-family=\"futura\" font-size=\"14.00\">gini = 0.245</text>\n",
       "<text text-anchor=\"middle\" x=\"1724.5\" y=\"-409.8\" font-family=\"futura\" font-size=\"14.00\">samples = 7</text>\n",
       "<text text-anchor=\"middle\" x=\"1724.5\" y=\"-394.8\" font-family=\"futura\" font-size=\"14.00\">value = [1, 6]</text>\n",
       "<text text-anchor=\"middle\" x=\"1724.5\" y=\"-379.8\" font-family=\"futura\" font-size=\"14.00\">class = demented</text>\n",
       "</g>\n",
       "<!-- 24&#45;&gt;25 -->\n",
       "<g id=\"edge25\" class=\"edge\">\n",
       "<title>24&#45;&gt;25</title>\n",
       "<path fill=\"none\" stroke=\"black\" d=\"M1591.21,-403.39C1607.7,-403.72 1625.39,-404.07 1642.29,-404.4\"/>\n",
       "<polygon fill=\"black\" stroke=\"black\" points=\"1642.63,-407.91 1652.7,-404.6 1642.77,-400.91 1642.63,-407.91\"/>\n",
       "</g>\n",
       "<!-- 26 -->\n",
       "<g id=\"node27\" class=\"node\">\n",
       "<title>26</title>\n",
       "<path fill=\"#f2c09c\" stroke=\"black\" d=\"M1797,-354C1797,-354 1652,-354 1652,-354 1646,-354 1640,-348 1640,-342 1640,-342 1640,-298 1640,-298 1640,-292 1646,-286 1652,-286 1652,-286 1797,-286 1797,-286 1803,-286 1809,-292 1809,-298 1809,-298 1809,-342 1809,-342 1809,-348 1803,-354 1797,-354\"/>\n",
       "<text text-anchor=\"middle\" x=\"1724.5\" y=\"-338.8\" font-family=\"futura\" font-size=\"14.00\">gini = 0.444</text>\n",
       "<text text-anchor=\"middle\" x=\"1724.5\" y=\"-323.8\" font-family=\"futura\" font-size=\"14.00\">samples = 3</text>\n",
       "<text text-anchor=\"middle\" x=\"1724.5\" y=\"-308.8\" font-family=\"futura\" font-size=\"14.00\">value = [2, 1]</text>\n",
       "<text text-anchor=\"middle\" x=\"1724.5\" y=\"-293.8\" font-family=\"futura\" font-size=\"14.00\">class = nondemented</text>\n",
       "</g>\n",
       "<!-- 24&#45;&gt;26 -->\n",
       "<g id=\"edge26\" class=\"edge\">\n",
       "<title>24&#45;&gt;26</title>\n",
       "<path fill=\"none\" stroke=\"black\" d=\"M1591.21,-373.44C1603.83,-368.34 1617.14,-362.96 1630.27,-357.66\"/>\n",
       "<polygon fill=\"black\" stroke=\"black\" points=\"1631.83,-360.81 1639.79,-353.81 1629.21,-354.31 1631.83,-360.81\"/>\n",
       "</g>\n",
       "<!-- 28 -->\n",
       "<g id=\"node29\" class=\"node\">\n",
       "<title>28</title>\n",
       "<path fill=\"#e58139\" stroke=\"black\" d=\"M1387,-436C1387,-436 1242,-436 1242,-436 1236,-436 1230,-430 1230,-424 1230,-424 1230,-380 1230,-380 1230,-374 1236,-368 1242,-368 1242,-368 1387,-368 1387,-368 1393,-368 1399,-374 1399,-380 1399,-380 1399,-424 1399,-424 1399,-430 1393,-436 1387,-436\"/>\n",
       "<text text-anchor=\"middle\" x=\"1314.5\" y=\"-420.8\" font-family=\"futura\" font-size=\"14.00\">gini = 0.0</text>\n",
       "<text text-anchor=\"middle\" x=\"1314.5\" y=\"-405.8\" font-family=\"futura\" font-size=\"14.00\">samples = 6</text>\n",
       "<text text-anchor=\"middle\" x=\"1314.5\" y=\"-390.8\" font-family=\"futura\" font-size=\"14.00\">value = [6, 0]</text>\n",
       "<text text-anchor=\"middle\" x=\"1314.5\" y=\"-375.8\" font-family=\"futura\" font-size=\"14.00\">class = nondemented</text>\n",
       "</g>\n",
       "<!-- 27&#45;&gt;28 -->\n",
       "<g id=\"edge28\" class=\"edge\">\n",
       "<title>27&#45;&gt;28</title>\n",
       "<path fill=\"none\" stroke=\"black\" d=\"M1194.24,-397.89C1202.72,-398.18 1211.37,-398.48 1219.94,-398.77\"/>\n",
       "<polygon fill=\"black\" stroke=\"black\" points=\"1219.84,-402.27 1229.95,-399.12 1220.08,-395.28 1219.84,-402.27\"/>\n",
       "</g>\n",
       "<!-- 29 -->\n",
       "<g id=\"node30\" class=\"node\">\n",
       "<title>29</title>\n",
       "<path fill=\"#ffffff\" stroke=\"black\" d=\"M1387,-350C1387,-350 1242,-350 1242,-350 1236,-350 1230,-344 1230,-338 1230,-338 1230,-294 1230,-294 1230,-288 1236,-282 1242,-282 1242,-282 1387,-282 1387,-282 1393,-282 1399,-288 1399,-294 1399,-294 1399,-338 1399,-338 1399,-344 1393,-350 1387,-350\"/>\n",
       "<text text-anchor=\"middle\" x=\"1314.5\" y=\"-334.8\" font-family=\"futura\" font-size=\"14.00\">gini = 0.5</text>\n",
       "<text text-anchor=\"middle\" x=\"1314.5\" y=\"-319.8\" font-family=\"futura\" font-size=\"14.00\">samples = 2</text>\n",
       "<text text-anchor=\"middle\" x=\"1314.5\" y=\"-304.8\" font-family=\"futura\" font-size=\"14.00\">value = [1, 1]</text>\n",
       "<text text-anchor=\"middle\" x=\"1314.5\" y=\"-289.8\" font-family=\"futura\" font-size=\"14.00\">class = nondemented</text>\n",
       "</g>\n",
       "<!-- 27&#45;&gt;29 -->\n",
       "<g id=\"edge29\" class=\"edge\">\n",
       "<title>27&#45;&gt;29</title>\n",
       "<path fill=\"none\" stroke=\"black\" d=\"M1194.24,-362.41C1202.9,-359.04 1211.74,-355.6 1220.5,-352.19\"/>\n",
       "<polygon fill=\"black\" stroke=\"black\" points=\"1221.9,-355.4 1229.95,-348.51 1219.36,-348.88 1221.9,-355.4\"/>\n",
       "</g>\n",
       "<!-- 31 -->\n",
       "<g id=\"node32\" class=\"node\">\n",
       "<title>31</title>\n",
       "<path fill=\"#f3c6a5\" stroke=\"black\" d=\"M1182,-263.5C1182,-263.5 1037,-263.5 1037,-263.5 1031,-263.5 1025,-257.5 1025,-251.5 1025,-251.5 1025,-192.5 1025,-192.5 1025,-186.5 1031,-180.5 1037,-180.5 1037,-180.5 1182,-180.5 1182,-180.5 1188,-180.5 1194,-186.5 1194,-192.5 1194,-192.5 1194,-251.5 1194,-251.5 1194,-257.5 1188,-263.5 1182,-263.5\"/>\n",
       "<text text-anchor=\"middle\" x=\"1109.5\" y=\"-248.3\" font-family=\"futura\" font-size=\"14.00\">M/F &lt;= 0.5</text>\n",
       "<text text-anchor=\"middle\" x=\"1109.5\" y=\"-233.3\" font-family=\"futura\" font-size=\"14.00\">gini = 0.457</text>\n",
       "<text text-anchor=\"middle\" x=\"1109.5\" y=\"-218.3\" font-family=\"futura\" font-size=\"14.00\">samples = 17</text>\n",
       "<text text-anchor=\"middle\" x=\"1109.5\" y=\"-203.3\" font-family=\"futura\" font-size=\"14.00\">value = [11, 6]</text>\n",
       "<text text-anchor=\"middle\" x=\"1109.5\" y=\"-188.3\" font-family=\"futura\" font-size=\"14.00\">class = nondemented</text>\n",
       "</g>\n",
       "<!-- 30&#45;&gt;31 -->\n",
       "<g id=\"edge31\" class=\"edge\">\n",
       "<title>30&#45;&gt;31</title>\n",
       "<path fill=\"none\" stroke=\"black\" d=\"M989.24,-222C997.72,-222 1006.37,-222 1014.94,-222\"/>\n",
       "<polygon fill=\"black\" stroke=\"black\" points=\"1014.95,-225.5 1024.95,-222 1014.95,-218.5 1014.95,-225.5\"/>\n",
       "</g>\n",
       "<!-- 40 -->\n",
       "<g id=\"node41\" class=\"node\">\n",
       "<title>40</title>\n",
       "<path fill=\"#e58139\" stroke=\"black\" d=\"M1182,-162C1182,-162 1037,-162 1037,-162 1031,-162 1025,-156 1025,-150 1025,-150 1025,-106 1025,-106 1025,-100 1031,-94 1037,-94 1037,-94 1182,-94 1182,-94 1188,-94 1194,-100 1194,-106 1194,-106 1194,-150 1194,-150 1194,-156 1188,-162 1182,-162\"/>\n",
       "<text text-anchor=\"middle\" x=\"1109.5\" y=\"-146.8\" font-family=\"futura\" font-size=\"14.00\">gini = 0.0</text>\n",
       "<text text-anchor=\"middle\" x=\"1109.5\" y=\"-131.8\" font-family=\"futura\" font-size=\"14.00\">samples = 11</text>\n",
       "<text text-anchor=\"middle\" x=\"1109.5\" y=\"-116.8\" font-family=\"futura\" font-size=\"14.00\">value = [11, 0]</text>\n",
       "<text text-anchor=\"middle\" x=\"1109.5\" y=\"-101.8\" font-family=\"futura\" font-size=\"14.00\">class = nondemented</text>\n",
       "</g>\n",
       "<!-- 30&#45;&gt;40 -->\n",
       "<g id=\"edge40\" class=\"edge\">\n",
       "<title>30&#45;&gt;40</title>\n",
       "<path fill=\"none\" stroke=\"black\" d=\"M989.24,-183.22C1001.34,-177.62 1013.78,-171.86 1025.86,-166.27\"/>\n",
       "<polygon fill=\"black\" stroke=\"black\" points=\"1027.4,-169.41 1035.01,-162.03 1024.46,-163.06 1027.4,-169.41\"/>\n",
       "</g>\n",
       "<!-- 32 -->\n",
       "<g id=\"node33\" class=\"node\">\n",
       "<title>32</title>\n",
       "<path fill=\"#ea9a61\" stroke=\"black\" d=\"M1387,-263.5C1387,-263.5 1242,-263.5 1242,-263.5 1236,-263.5 1230,-257.5 1230,-251.5 1230,-251.5 1230,-192.5 1230,-192.5 1230,-186.5 1236,-180.5 1242,-180.5 1242,-180.5 1387,-180.5 1387,-180.5 1393,-180.5 1399,-186.5 1399,-192.5 1399,-192.5 1399,-251.5 1399,-251.5 1399,-257.5 1393,-263.5 1387,-263.5\"/>\n",
       "<text text-anchor=\"middle\" x=\"1314.5\" y=\"-248.3\" font-family=\"futura\" font-size=\"14.00\">nWBV &lt;= 0.759</text>\n",
       "<text text-anchor=\"middle\" x=\"1314.5\" y=\"-233.3\" font-family=\"futura\" font-size=\"14.00\">gini = 0.278</text>\n",
       "<text text-anchor=\"middle\" x=\"1314.5\" y=\"-218.3\" font-family=\"futura\" font-size=\"14.00\">samples = 12</text>\n",
       "<text text-anchor=\"middle\" x=\"1314.5\" y=\"-203.3\" font-family=\"futura\" font-size=\"14.00\">value = [10, 2]</text>\n",
       "<text text-anchor=\"middle\" x=\"1314.5\" y=\"-188.3\" font-family=\"futura\" font-size=\"14.00\">class = nondemented</text>\n",
       "</g>\n",
       "<!-- 31&#45;&gt;32 -->\n",
       "<g id=\"edge32\" class=\"edge\">\n",
       "<title>31&#45;&gt;32</title>\n",
       "<path fill=\"none\" stroke=\"black\" d=\"M1194.24,-222C1202.72,-222 1211.37,-222 1219.94,-222\"/>\n",
       "<polygon fill=\"black\" stroke=\"black\" points=\"1219.95,-225.5 1229.95,-222 1219.95,-218.5 1219.95,-225.5\"/>\n",
       "</g>\n",
       "<!-- 37 -->\n",
       "<g id=\"node38\" class=\"node\">\n",
       "<title>37</title>\n",
       "<path fill=\"#6ab6ec\" stroke=\"black\" d=\"M1374,-161.5C1374,-161.5 1255,-161.5 1255,-161.5 1249,-161.5 1243,-155.5 1243,-149.5 1243,-149.5 1243,-90.5 1243,-90.5 1243,-84.5 1249,-78.5 1255,-78.5 1255,-78.5 1374,-78.5 1374,-78.5 1380,-78.5 1386,-84.5 1386,-90.5 1386,-90.5 1386,-149.5 1386,-149.5 1386,-155.5 1380,-161.5 1374,-161.5\"/>\n",
       "<text text-anchor=\"middle\" x=\"1314.5\" y=\"-146.3\" font-family=\"futura\" font-size=\"14.00\">nWBV &lt;= 0.753</text>\n",
       "<text text-anchor=\"middle\" x=\"1314.5\" y=\"-131.3\" font-family=\"futura\" font-size=\"14.00\">gini = 0.32</text>\n",
       "<text text-anchor=\"middle\" x=\"1314.5\" y=\"-116.3\" font-family=\"futura\" font-size=\"14.00\">samples = 5</text>\n",
       "<text text-anchor=\"middle\" x=\"1314.5\" y=\"-101.3\" font-family=\"futura\" font-size=\"14.00\">value = [1, 4]</text>\n",
       "<text text-anchor=\"middle\" x=\"1314.5\" y=\"-86.3\" font-family=\"futura\" font-size=\"14.00\">class = demented</text>\n",
       "</g>\n",
       "<!-- 31&#45;&gt;37 -->\n",
       "<g id=\"edge37\" class=\"edge\">\n",
       "<title>31&#45;&gt;37</title>\n",
       "<path fill=\"none\" stroke=\"black\" d=\"M1193.36,-180.37C1206.72,-173.65 1220.53,-166.71 1233.81,-160.04\"/>\n",
       "<polygon fill=\"black\" stroke=\"black\" points=\"1235.55,-163.08 1242.92,-155.47 1232.41,-156.83 1235.55,-163.08\"/>\n",
       "</g>\n",
       "<!-- 33 -->\n",
       "<g id=\"node34\" class=\"node\">\n",
       "<title>33</title>\n",
       "<path fill=\"#e58139\" stroke=\"black\" d=\"M1592,-342C1592,-342 1447,-342 1447,-342 1441,-342 1435,-336 1435,-330 1435,-330 1435,-286 1435,-286 1435,-280 1441,-274 1447,-274 1447,-274 1592,-274 1592,-274 1598,-274 1604,-280 1604,-286 1604,-286 1604,-330 1604,-330 1604,-336 1598,-342 1592,-342\"/>\n",
       "<text text-anchor=\"middle\" x=\"1519.5\" y=\"-326.8\" font-family=\"futura\" font-size=\"14.00\">gini = 0.0</text>\n",
       "<text text-anchor=\"middle\" x=\"1519.5\" y=\"-311.8\" font-family=\"futura\" font-size=\"14.00\">samples = 5</text>\n",
       "<text text-anchor=\"middle\" x=\"1519.5\" y=\"-296.8\" font-family=\"futura\" font-size=\"14.00\">value = [5, 0]</text>\n",
       "<text text-anchor=\"middle\" x=\"1519.5\" y=\"-281.8\" font-family=\"futura\" font-size=\"14.00\">class = nondemented</text>\n",
       "</g>\n",
       "<!-- 32&#45;&gt;33 -->\n",
       "<g id=\"edge33\" class=\"edge\">\n",
       "<title>32&#45;&gt;33</title>\n",
       "<path fill=\"none\" stroke=\"black\" d=\"M1399.24,-257.48C1409.01,-261.61 1419,-265.85 1428.84,-270.02\"/>\n",
       "<polygon fill=\"black\" stroke=\"black\" points=\"1427.65,-273.31 1438.22,-273.99 1430.38,-266.87 1427.65,-273.31\"/>\n",
       "</g>\n",
       "<!-- 34 -->\n",
       "<g id=\"node35\" class=\"node\">\n",
       "<title>34</title>\n",
       "<path fill=\"#efb388\" stroke=\"black\" d=\"M1592,-255.5C1592,-255.5 1447,-255.5 1447,-255.5 1441,-255.5 1435,-249.5 1435,-243.5 1435,-243.5 1435,-184.5 1435,-184.5 1435,-178.5 1441,-172.5 1447,-172.5 1447,-172.5 1592,-172.5 1592,-172.5 1598,-172.5 1604,-178.5 1604,-184.5 1604,-184.5 1604,-243.5 1604,-243.5 1604,-249.5 1598,-255.5 1592,-255.5\"/>\n",
       "<text text-anchor=\"middle\" x=\"1519.5\" y=\"-240.3\" font-family=\"futura\" font-size=\"14.00\">nWBV &lt;= 0.775</text>\n",
       "<text text-anchor=\"middle\" x=\"1519.5\" y=\"-225.3\" font-family=\"futura\" font-size=\"14.00\">gini = 0.408</text>\n",
       "<text text-anchor=\"middle\" x=\"1519.5\" y=\"-210.3\" font-family=\"futura\" font-size=\"14.00\">samples = 7</text>\n",
       "<text text-anchor=\"middle\" x=\"1519.5\" y=\"-195.3\" font-family=\"futura\" font-size=\"14.00\">value = [5, 2]</text>\n",
       "<text text-anchor=\"middle\" x=\"1519.5\" y=\"-180.3\" font-family=\"futura\" font-size=\"14.00\">class = nondemented</text>\n",
       "</g>\n",
       "<!-- 32&#45;&gt;34 -->\n",
       "<g id=\"edge34\" class=\"edge\">\n",
       "<title>32&#45;&gt;34</title>\n",
       "<path fill=\"none\" stroke=\"black\" d=\"M1399.24,-218.7C1407.72,-218.37 1416.37,-218.02 1424.94,-217.69\"/>\n",
       "<polygon fill=\"black\" stroke=\"black\" points=\"1425.1,-221.18 1434.95,-217.29 1424.82,-214.19 1425.1,-221.18\"/>\n",
       "</g>\n",
       "<!-- 35 -->\n",
       "<g id=\"node36\" class=\"node\">\n",
       "<title>35</title>\n",
       "<path fill=\"#ffffff\" stroke=\"black\" d=\"M1797,-256C1797,-256 1652,-256 1652,-256 1646,-256 1640,-250 1640,-244 1640,-244 1640,-200 1640,-200 1640,-194 1646,-188 1652,-188 1652,-188 1797,-188 1797,-188 1803,-188 1809,-194 1809,-200 1809,-200 1809,-244 1809,-244 1809,-250 1803,-256 1797,-256\"/>\n",
       "<text text-anchor=\"middle\" x=\"1724.5\" y=\"-240.8\" font-family=\"futura\" font-size=\"14.00\">gini = 0.5</text>\n",
       "<text text-anchor=\"middle\" x=\"1724.5\" y=\"-225.8\" font-family=\"futura\" font-size=\"14.00\">samples = 4</text>\n",
       "<text text-anchor=\"middle\" x=\"1724.5\" y=\"-210.8\" font-family=\"futura\" font-size=\"14.00\">value = [2, 2]</text>\n",
       "<text text-anchor=\"middle\" x=\"1724.5\" y=\"-195.8\" font-family=\"futura\" font-size=\"14.00\">class = nondemented</text>\n",
       "</g>\n",
       "<!-- 34&#45;&gt;35 -->\n",
       "<g id=\"edge35\" class=\"edge\">\n",
       "<title>34&#45;&gt;35</title>\n",
       "<path fill=\"none\" stroke=\"black\" d=\"M1604.24,-217.3C1612.72,-217.63 1621.37,-217.98 1629.94,-218.31\"/>\n",
       "<polygon fill=\"black\" stroke=\"black\" points=\"1629.82,-221.81 1639.95,-218.71 1630.1,-214.82 1629.82,-221.81\"/>\n",
       "</g>\n",
       "<!-- 36 -->\n",
       "<g id=\"node37\" class=\"node\">\n",
       "<title>36</title>\n",
       "<path fill=\"#e58139\" stroke=\"black\" d=\"M1797,-170C1797,-170 1652,-170 1652,-170 1646,-170 1640,-164 1640,-158 1640,-158 1640,-114 1640,-114 1640,-108 1646,-102 1652,-102 1652,-102 1797,-102 1797,-102 1803,-102 1809,-108 1809,-114 1809,-114 1809,-158 1809,-158 1809,-164 1803,-170 1797,-170\"/>\n",
       "<text text-anchor=\"middle\" x=\"1724.5\" y=\"-154.8\" font-family=\"futura\" font-size=\"14.00\">gini = 0.0</text>\n",
       "<text text-anchor=\"middle\" x=\"1724.5\" y=\"-139.8\" font-family=\"futura\" font-size=\"14.00\">samples = 3</text>\n",
       "<text text-anchor=\"middle\" x=\"1724.5\" y=\"-124.8\" font-family=\"futura\" font-size=\"14.00\">value = [3, 0]</text>\n",
       "<text text-anchor=\"middle\" x=\"1724.5\" y=\"-109.8\" font-family=\"futura\" font-size=\"14.00\">class = nondemented</text>\n",
       "</g>\n",
       "<!-- 34&#45;&gt;36 -->\n",
       "<g id=\"edge36\" class=\"edge\">\n",
       "<title>34&#45;&gt;36</title>\n",
       "<path fill=\"none\" stroke=\"black\" d=\"M1604.24,-181.82C1612.9,-178.5 1621.74,-175.1 1630.5,-171.73\"/>\n",
       "<polygon fill=\"black\" stroke=\"black\" points=\"1631.87,-174.96 1639.95,-168.1 1629.36,-168.42 1631.87,-174.96\"/>\n",
       "</g>\n",
       "<!-- 38 -->\n",
       "<g id=\"node39\" class=\"node\">\n",
       "<title>38</title>\n",
       "<path fill=\"#399de5\" stroke=\"black\" d=\"M1579,-154C1579,-154 1460,-154 1460,-154 1454,-154 1448,-148 1448,-142 1448,-142 1448,-98 1448,-98 1448,-92 1454,-86 1460,-86 1460,-86 1579,-86 1579,-86 1585,-86 1591,-92 1591,-98 1591,-98 1591,-142 1591,-142 1591,-148 1585,-154 1579,-154\"/>\n",
       "<text text-anchor=\"middle\" x=\"1519.5\" y=\"-138.8\" font-family=\"futura\" font-size=\"14.00\">gini = 0.0</text>\n",
       "<text text-anchor=\"middle\" x=\"1519.5\" y=\"-123.8\" font-family=\"futura\" font-size=\"14.00\">samples = 3</text>\n",
       "<text text-anchor=\"middle\" x=\"1519.5\" y=\"-108.8\" font-family=\"futura\" font-size=\"14.00\">value = [0, 3]</text>\n",
       "<text text-anchor=\"middle\" x=\"1519.5\" y=\"-93.8\" font-family=\"futura\" font-size=\"14.00\">class = demented</text>\n",
       "</g>\n",
       "<!-- 37&#45;&gt;38 -->\n",
       "<g id=\"edge38\" class=\"edge\">\n",
       "<title>37&#45;&gt;38</title>\n",
       "<path fill=\"none\" stroke=\"black\" d=\"M1386.21,-120C1402.7,-120 1420.39,-120 1437.29,-120\"/>\n",
       "<polygon fill=\"black\" stroke=\"black\" points=\"1437.7,-123.5 1447.7,-120 1437.7,-116.5 1437.7,-123.5\"/>\n",
       "</g>\n",
       "<!-- 39 -->\n",
       "<g id=\"node40\" class=\"node\">\n",
       "<title>39</title>\n",
       "<path fill=\"#ffffff\" stroke=\"black\" d=\"M1592,-68C1592,-68 1447,-68 1447,-68 1441,-68 1435,-62 1435,-56 1435,-56 1435,-12 1435,-12 1435,-6 1441,0 1447,0 1447,0 1592,0 1592,0 1598,0 1604,-6 1604,-12 1604,-12 1604,-56 1604,-56 1604,-62 1598,-68 1592,-68\"/>\n",
       "<text text-anchor=\"middle\" x=\"1519.5\" y=\"-52.8\" font-family=\"futura\" font-size=\"14.00\">gini = 0.5</text>\n",
       "<text text-anchor=\"middle\" x=\"1519.5\" y=\"-37.8\" font-family=\"futura\" font-size=\"14.00\">samples = 2</text>\n",
       "<text text-anchor=\"middle\" x=\"1519.5\" y=\"-22.8\" font-family=\"futura\" font-size=\"14.00\">value = [1, 1]</text>\n",
       "<text text-anchor=\"middle\" x=\"1519.5\" y=\"-7.8\" font-family=\"futura\" font-size=\"14.00\">class = nondemented</text>\n",
       "</g>\n",
       "<!-- 37&#45;&gt;39 -->\n",
       "<g id=\"edge39\" class=\"edge\">\n",
       "<title>37&#45;&gt;39</title>\n",
       "<path fill=\"none\" stroke=\"black\" d=\"M1386.21,-90.04C1399.92,-84.24 1414.45,-78.08 1428.67,-72.06\"/>\n",
       "<polygon fill=\"black\" stroke=\"black\" points=\"1430.12,-75.24 1437.96,-68.12 1427.39,-68.8 1430.12,-75.24\"/>\n",
       "</g>\n",
       "</g>\n",
       "</svg>\n"
      ],
      "text/plain": [
       "<graphviz.sources.Source at 0x7f7371886d90>"
      ]
     },
     "metadata": {},
     "output_type": "display_data"
    }
   ],
   "source": [
    "# Export model graph\n",
    "export_graphviz(best_tree, out_file=\"best_tree.dot\", \n",
    "                feature_names=X_train_trial.columns,\n",
    "                class_names=['nondemented', 'demented'], \n",
    "                rounded=True,\n",
    "                filled=True,\n",
    "                rotate = True,\n",
    "                fontname = 'futura')\n",
    "\n",
    "# Import model graph\n",
    "with open(\"best_tree.dot\") as f:\n",
    "    dot_graph = f.read()\n",
    "    display(graphviz.Source(dot_graph))"
   ]
  },
  {
   "cell_type": "markdown",
   "id": "86f86f49",
   "metadata": {},
   "source": [
    "<big> Conclusion: </big>\n",
    "\n",
    "y_train = 76 demented, 100 nondemented\n",
    "\n",
    "y_pred = 61 demented, 115 nondemented"
   ]
  },
  {
   "cell_type": "code",
   "execution_count": null,
   "id": "9a3aea27",
   "metadata": {},
   "outputs": [],
   "source": []
  }
 ],
 "metadata": {
  "kernelspec": {
   "display_name": "Python 3 (ipykernel)",
   "language": "python",
   "name": "python3"
  },
  "language_info": {
   "codemirror_mode": {
    "name": "ipython",
    "version": 3
   },
   "file_extension": ".py",
   "mimetype": "text/x-python",
   "name": "python",
   "nbconvert_exporter": "python",
   "pygments_lexer": "ipython3",
   "version": "3.8.12"
  },
  "toc": {
   "base_numbering": 1,
   "nav_menu": {},
   "number_sections": true,
   "sideBar": true,
   "skip_h1_title": false,
   "title_cell": "Table of Contents",
   "title_sidebar": "Contents",
   "toc_cell": false,
   "toc_position": {},
   "toc_section_display": true,
   "toc_window_display": true
  }
 },
 "nbformat": 4,
 "nbformat_minor": 5
}
