{
 "cells": [
  {
   "cell_type": "markdown",
   "id": "268b002b",
   "metadata": {},
   "source": [
    "# Preprocessing OASIS1"
   ]
  },
  {
   "cell_type": "code",
   "execution_count": 1,
   "id": "c1b2a9f2",
   "metadata": {},
   "outputs": [],
   "source": [
    "# IMPORTS\n",
    "# DATA MANIPULATION\n",
    "import pandas as pd\n",
    "import numpy as np\n",
    "\n",
    "# DATA VISUALISATION\n",
    "import matplotlib.pyplot as plt\n",
    "import seaborn as sns\n",
    "sns.set()\n",
    "from sklearn import set_config; set_config(display='diagram') # Visualize pipelines in HTML\n",
    "import graphviz\n",
    "from sklearn.tree import export_graphviz\n",
    "from sklearn import tree\n",
    "\n",
    "# MACHINE LEARNING\n",
    "from sklearn.preprocessing import StandardScaler, RobustScaler, MinMaxScaler\n",
    "from sklearn.preprocessing import OneHotEncoder, LabelEncoder, FunctionTransformer\n",
    "from sklearn.pipeline import Pipeline\n",
    "from sklearn.compose import ColumnTransformer\n",
    "from sklearn.model_selection import train_test_split\n",
    "from sklearn.tree import DecisionTreeRegressor, DecisionTreeClassifier"
   ]
  },
  {
   "cell_type": "code",
   "execution_count": 2,
   "id": "3c4d731d",
   "metadata": {},
   "outputs": [],
   "source": [
    "# Importing Data\n",
    "oasis1_cs_path = '../raw_data/OASIS1/oasis_cross-sectional.csv'\n",
    "oasis1 = pd.read_csv(oasis1_cs_path)"
   ]
  },
  {
   "cell_type": "code",
   "execution_count": 3,
   "id": "3a526545",
   "metadata": {},
   "outputs": [
    {
     "data": {
      "text/plain": [
       "(436, 12)"
      ]
     },
     "execution_count": 3,
     "metadata": {},
     "output_type": "execute_result"
    }
   ],
   "source": [
    "# Check shape\n",
    "oasis1.shape"
   ]
  },
  {
   "cell_type": "markdown",
   "id": "9eabf809",
   "metadata": {},
   "source": [
    "Note to self:\n",
    "\n",
    "\n",
    "**CDR;** 0= nondemented; 0.5 – very mild dementia; 1 = mild dementia; 2 = moderate dementia\n",
    "\n",
    "**eTIV;** Estimated total intracranial volume (eTIV)\n",
    "\n",
    "**nWBV** Normalized whole brain volume\n",
    "\n",
    "**ASF;** Atlas scaling factor"
   ]
  },
  {
   "cell_type": "code",
   "execution_count": 4,
   "id": "c1cc74a3",
   "metadata": {},
   "outputs": [
    {
     "data": {
      "text/html": [
       "<div>\n",
       "<style scoped>\n",
       "    .dataframe tbody tr th:only-of-type {\n",
       "        vertical-align: middle;\n",
       "    }\n",
       "\n",
       "    .dataframe tbody tr th {\n",
       "        vertical-align: top;\n",
       "    }\n",
       "\n",
       "    .dataframe thead th {\n",
       "        text-align: right;\n",
       "    }\n",
       "</style>\n",
       "<table border=\"1\" class=\"dataframe\">\n",
       "  <thead>\n",
       "    <tr style=\"text-align: right;\">\n",
       "      <th></th>\n",
       "      <th>ID</th>\n",
       "      <th>M/F</th>\n",
       "      <th>Hand</th>\n",
       "      <th>Age</th>\n",
       "      <th>Educ</th>\n",
       "      <th>SES</th>\n",
       "      <th>MMSE</th>\n",
       "      <th>CDR</th>\n",
       "      <th>eTIV</th>\n",
       "      <th>nWBV</th>\n",
       "      <th>ASF</th>\n",
       "      <th>Delay</th>\n",
       "    </tr>\n",
       "  </thead>\n",
       "  <tbody>\n",
       "    <tr>\n",
       "      <th>187</th>\n",
       "      <td>OAS1_0205_MR1</td>\n",
       "      <td>M</td>\n",
       "      <td>R</td>\n",
       "      <td>75</td>\n",
       "      <td>4.0</td>\n",
       "      <td>1.0</td>\n",
       "      <td>30.0</td>\n",
       "      <td>0.5</td>\n",
       "      <td>1891</td>\n",
       "      <td>0.716</td>\n",
       "      <td>0.928</td>\n",
       "      <td>NaN</td>\n",
       "    </tr>\n",
       "    <tr>\n",
       "      <th>80</th>\n",
       "      <td>OAS1_0085_MR1</td>\n",
       "      <td>F</td>\n",
       "      <td>R</td>\n",
       "      <td>70</td>\n",
       "      <td>2.0</td>\n",
       "      <td>3.0</td>\n",
       "      <td>29.0</td>\n",
       "      <td>0.0</td>\n",
       "      <td>1283</td>\n",
       "      <td>0.791</td>\n",
       "      <td>1.368</td>\n",
       "      <td>NaN</td>\n",
       "    </tr>\n",
       "    <tr>\n",
       "      <th>113</th>\n",
       "      <td>OAS1_0122_MR1</td>\n",
       "      <td>F</td>\n",
       "      <td>R</td>\n",
       "      <td>83</td>\n",
       "      <td>5.0</td>\n",
       "      <td>2.0</td>\n",
       "      <td>22.0</td>\n",
       "      <td>1.0</td>\n",
       "      <td>1377</td>\n",
       "      <td>0.715</td>\n",
       "      <td>1.274</td>\n",
       "      <td>NaN</td>\n",
       "    </tr>\n",
       "    <tr>\n",
       "      <th>278</th>\n",
       "      <td>OAS1_0308_MR1</td>\n",
       "      <td>F</td>\n",
       "      <td>R</td>\n",
       "      <td>78</td>\n",
       "      <td>3.0</td>\n",
       "      <td>3.0</td>\n",
       "      <td>15.0</td>\n",
       "      <td>2.0</td>\n",
       "      <td>1401</td>\n",
       "      <td>0.703</td>\n",
       "      <td>1.253</td>\n",
       "      <td>NaN</td>\n",
       "    </tr>\n",
       "    <tr>\n",
       "      <th>345</th>\n",
       "      <td>OAS1_0381_MR1</td>\n",
       "      <td>M</td>\n",
       "      <td>R</td>\n",
       "      <td>59</td>\n",
       "      <td>4.0</td>\n",
       "      <td>2.0</td>\n",
       "      <td>29.0</td>\n",
       "      <td>0.0</td>\n",
       "      <td>1795</td>\n",
       "      <td>0.809</td>\n",
       "      <td>0.978</td>\n",
       "      <td>NaN</td>\n",
       "    </tr>\n",
       "    <tr>\n",
       "      <th>185</th>\n",
       "      <td>OAS1_0203_MR1</td>\n",
       "      <td>F</td>\n",
       "      <td>R</td>\n",
       "      <td>71</td>\n",
       "      <td>2.0</td>\n",
       "      <td>3.0</td>\n",
       "      <td>30.0</td>\n",
       "      <td>0.0</td>\n",
       "      <td>1360</td>\n",
       "      <td>0.779</td>\n",
       "      <td>1.291</td>\n",
       "      <td>NaN</td>\n",
       "    </tr>\n",
       "    <tr>\n",
       "      <th>207</th>\n",
       "      <td>OAS1_0228_MR1</td>\n",
       "      <td>F</td>\n",
       "      <td>R</td>\n",
       "      <td>81</td>\n",
       "      <td>3.0</td>\n",
       "      <td>2.0</td>\n",
       "      <td>28.0</td>\n",
       "      <td>0.0</td>\n",
       "      <td>1486</td>\n",
       "      <td>0.759</td>\n",
       "      <td>1.181</td>\n",
       "      <td>NaN</td>\n",
       "    </tr>\n",
       "    <tr>\n",
       "      <th>204</th>\n",
       "      <td>OAS1_0224_MR1</td>\n",
       "      <td>F</td>\n",
       "      <td>R</td>\n",
       "      <td>22</td>\n",
       "      <td>NaN</td>\n",
       "      <td>NaN</td>\n",
       "      <td>NaN</td>\n",
       "      <td>NaN</td>\n",
       "      <td>1378</td>\n",
       "      <td>0.852</td>\n",
       "      <td>1.274</td>\n",
       "      <td>NaN</td>\n",
       "    </tr>\n",
       "    <tr>\n",
       "      <th>174</th>\n",
       "      <td>OAS1_0190_MR1</td>\n",
       "      <td>M</td>\n",
       "      <td>R</td>\n",
       "      <td>43</td>\n",
       "      <td>NaN</td>\n",
       "      <td>NaN</td>\n",
       "      <td>NaN</td>\n",
       "      <td>NaN</td>\n",
       "      <td>1561</td>\n",
       "      <td>0.813</td>\n",
       "      <td>1.124</td>\n",
       "      <td>NaN</td>\n",
       "    </tr>\n",
       "    <tr>\n",
       "      <th>236</th>\n",
       "      <td>OAS1_0263_MR1</td>\n",
       "      <td>M</td>\n",
       "      <td>R</td>\n",
       "      <td>79</td>\n",
       "      <td>4.0</td>\n",
       "      <td>1.0</td>\n",
       "      <td>30.0</td>\n",
       "      <td>0.5</td>\n",
       "      <td>1722</td>\n",
       "      <td>0.709</td>\n",
       "      <td>1.019</td>\n",
       "      <td>NaN</td>\n",
       "    </tr>\n",
       "    <tr>\n",
       "      <th>38</th>\n",
       "      <td>OAS1_0042_MR1</td>\n",
       "      <td>M</td>\n",
       "      <td>R</td>\n",
       "      <td>80</td>\n",
       "      <td>4.0</td>\n",
       "      <td>2.0</td>\n",
       "      <td>29.0</td>\n",
       "      <td>0.5</td>\n",
       "      <td>1854</td>\n",
       "      <td>0.709</td>\n",
       "      <td>0.947</td>\n",
       "      <td>NaN</td>\n",
       "    </tr>\n",
       "    <tr>\n",
       "      <th>202</th>\n",
       "      <td>OAS1_0222_MR1</td>\n",
       "      <td>F</td>\n",
       "      <td>R</td>\n",
       "      <td>49</td>\n",
       "      <td>NaN</td>\n",
       "      <td>NaN</td>\n",
       "      <td>NaN</td>\n",
       "      <td>NaN</td>\n",
       "      <td>1164</td>\n",
       "      <td>0.805</td>\n",
       "      <td>1.508</td>\n",
       "      <td>NaN</td>\n",
       "    </tr>\n",
       "    <tr>\n",
       "      <th>298</th>\n",
       "      <td>OAS1_0330_MR1</td>\n",
       "      <td>F</td>\n",
       "      <td>R</td>\n",
       "      <td>80</td>\n",
       "      <td>1.0</td>\n",
       "      <td>5.0</td>\n",
       "      <td>27.0</td>\n",
       "      <td>0.0</td>\n",
       "      <td>1381</td>\n",
       "      <td>0.752</td>\n",
       "      <td>1.270</td>\n",
       "      <td>NaN</td>\n",
       "    </tr>\n",
       "    <tr>\n",
       "      <th>259</th>\n",
       "      <td>OAS1_0287_MR1</td>\n",
       "      <td>F</td>\n",
       "      <td>R</td>\n",
       "      <td>78</td>\n",
       "      <td>3.0</td>\n",
       "      <td>3.0</td>\n",
       "      <td>21.0</td>\n",
       "      <td>0.5</td>\n",
       "      <td>1194</td>\n",
       "      <td>0.694</td>\n",
       "      <td>1.470</td>\n",
       "      <td>NaN</td>\n",
       "    </tr>\n",
       "    <tr>\n",
       "      <th>228</th>\n",
       "      <td>OAS1_0254_MR1</td>\n",
       "      <td>F</td>\n",
       "      <td>R</td>\n",
       "      <td>85</td>\n",
       "      <td>5.0</td>\n",
       "      <td>1.0</td>\n",
       "      <td>29.0</td>\n",
       "      <td>0.0</td>\n",
       "      <td>1264</td>\n",
       "      <td>0.705</td>\n",
       "      <td>1.388</td>\n",
       "      <td>NaN</td>\n",
       "    </tr>\n",
       "    <tr>\n",
       "      <th>208</th>\n",
       "      <td>OAS1_0229_MR1</td>\n",
       "      <td>F</td>\n",
       "      <td>R</td>\n",
       "      <td>55</td>\n",
       "      <td>3.0</td>\n",
       "      <td>3.0</td>\n",
       "      <td>30.0</td>\n",
       "      <td>0.0</td>\n",
       "      <td>1327</td>\n",
       "      <td>0.832</td>\n",
       "      <td>1.323</td>\n",
       "      <td>NaN</td>\n",
       "    </tr>\n",
       "    <tr>\n",
       "      <th>116</th>\n",
       "      <td>OAS1_0125_MR1</td>\n",
       "      <td>F</td>\n",
       "      <td>R</td>\n",
       "      <td>22</td>\n",
       "      <td>NaN</td>\n",
       "      <td>NaN</td>\n",
       "      <td>NaN</td>\n",
       "      <td>NaN</td>\n",
       "      <td>1537</td>\n",
       "      <td>0.832</td>\n",
       "      <td>1.142</td>\n",
       "      <td>NaN</td>\n",
       "    </tr>\n",
       "    <tr>\n",
       "      <th>152</th>\n",
       "      <td>OAS1_0164_MR1</td>\n",
       "      <td>F</td>\n",
       "      <td>R</td>\n",
       "      <td>81</td>\n",
       "      <td>2.0</td>\n",
       "      <td>3.0</td>\n",
       "      <td>28.0</td>\n",
       "      <td>0.5</td>\n",
       "      <td>1495</td>\n",
       "      <td>0.687</td>\n",
       "      <td>1.174</td>\n",
       "      <td>NaN</td>\n",
       "    </tr>\n",
       "    <tr>\n",
       "      <th>160</th>\n",
       "      <td>OAS1_0174_MR1</td>\n",
       "      <td>M</td>\n",
       "      <td>R</td>\n",
       "      <td>23</td>\n",
       "      <td>NaN</td>\n",
       "      <td>NaN</td>\n",
       "      <td>NaN</td>\n",
       "      <td>NaN</td>\n",
       "      <td>1415</td>\n",
       "      <td>0.865</td>\n",
       "      <td>1.241</td>\n",
       "      <td>NaN</td>\n",
       "    </tr>\n",
       "    <tr>\n",
       "      <th>106</th>\n",
       "      <td>OAS1_0114_MR1</td>\n",
       "      <td>M</td>\n",
       "      <td>R</td>\n",
       "      <td>62</td>\n",
       "      <td>2.0</td>\n",
       "      <td>4.0</td>\n",
       "      <td>30.0</td>\n",
       "      <td>0.0</td>\n",
       "      <td>1378</td>\n",
       "      <td>0.804</td>\n",
       "      <td>1.274</td>\n",
       "      <td>NaN</td>\n",
       "    </tr>\n",
       "  </tbody>\n",
       "</table>\n",
       "</div>"
      ],
      "text/plain": [
       "                ID M/F Hand  Age  Educ  SES  MMSE  CDR  eTIV   nWBV    ASF  \\\n",
       "187  OAS1_0205_MR1   M    R   75   4.0  1.0  30.0  0.5  1891  0.716  0.928   \n",
       "80   OAS1_0085_MR1   F    R   70   2.0  3.0  29.0  0.0  1283  0.791  1.368   \n",
       "113  OAS1_0122_MR1   F    R   83   5.0  2.0  22.0  1.0  1377  0.715  1.274   \n",
       "278  OAS1_0308_MR1   F    R   78   3.0  3.0  15.0  2.0  1401  0.703  1.253   \n",
       "345  OAS1_0381_MR1   M    R   59   4.0  2.0  29.0  0.0  1795  0.809  0.978   \n",
       "185  OAS1_0203_MR1   F    R   71   2.0  3.0  30.0  0.0  1360  0.779  1.291   \n",
       "207  OAS1_0228_MR1   F    R   81   3.0  2.0  28.0  0.0  1486  0.759  1.181   \n",
       "204  OAS1_0224_MR1   F    R   22   NaN  NaN   NaN  NaN  1378  0.852  1.274   \n",
       "174  OAS1_0190_MR1   M    R   43   NaN  NaN   NaN  NaN  1561  0.813  1.124   \n",
       "236  OAS1_0263_MR1   M    R   79   4.0  1.0  30.0  0.5  1722  0.709  1.019   \n",
       "38   OAS1_0042_MR1   M    R   80   4.0  2.0  29.0  0.5  1854  0.709  0.947   \n",
       "202  OAS1_0222_MR1   F    R   49   NaN  NaN   NaN  NaN  1164  0.805  1.508   \n",
       "298  OAS1_0330_MR1   F    R   80   1.0  5.0  27.0  0.0  1381  0.752  1.270   \n",
       "259  OAS1_0287_MR1   F    R   78   3.0  3.0  21.0  0.5  1194  0.694  1.470   \n",
       "228  OAS1_0254_MR1   F    R   85   5.0  1.0  29.0  0.0  1264  0.705  1.388   \n",
       "208  OAS1_0229_MR1   F    R   55   3.0  3.0  30.0  0.0  1327  0.832  1.323   \n",
       "116  OAS1_0125_MR1   F    R   22   NaN  NaN   NaN  NaN  1537  0.832  1.142   \n",
       "152  OAS1_0164_MR1   F    R   81   2.0  3.0  28.0  0.5  1495  0.687  1.174   \n",
       "160  OAS1_0174_MR1   M    R   23   NaN  NaN   NaN  NaN  1415  0.865  1.241   \n",
       "106  OAS1_0114_MR1   M    R   62   2.0  4.0  30.0  0.0  1378  0.804  1.274   \n",
       "\n",
       "     Delay  \n",
       "187    NaN  \n",
       "80     NaN  \n",
       "113    NaN  \n",
       "278    NaN  \n",
       "345    NaN  \n",
       "185    NaN  \n",
       "207    NaN  \n",
       "204    NaN  \n",
       "174    NaN  \n",
       "236    NaN  \n",
       "38     NaN  \n",
       "202    NaN  \n",
       "298    NaN  \n",
       "259    NaN  \n",
       "228    NaN  \n",
       "208    NaN  \n",
       "116    NaN  \n",
       "152    NaN  \n",
       "160    NaN  \n",
       "106    NaN  "
      ]
     },
     "execution_count": 4,
     "metadata": {},
     "output_type": "execute_result"
    }
   ],
   "source": [
    "oasis1.sample(20)"
   ]
  },
  {
   "cell_type": "markdown",
   "id": "c5227931",
   "metadata": {},
   "source": [
    "## Data Cleaning"
   ]
  },
  {
   "cell_type": "code",
   "execution_count": 5,
   "id": "1b518097",
   "metadata": {},
   "outputs": [],
   "source": [
    "def preprocess_data(oasis1):\n",
    "    \"\"\"This function removes CDR rows containing NANs, \n",
    "    fills SES missing values with status 3,\n",
    "    encodes Male/Female M/F to 1 and 0,\n",
    "    and drops columns Delay and Hand.\"\"\"\n",
    "    \n",
    "    oasis1.dropna(subset = [\"CDR\"], inplace=True)\n",
    "    oasis1['SES'].fillna(value=3, inplace=True) # Socioeconomic status 3 means that participants went to 'some college'\n",
    "    oasis1['M/F'].replace({'F':0, 'M':1}, inplace = True) # Replaces M with 1 and Female with 0\n",
    "    oasis1.drop('Delay', inplace=True, axis=1)\n",
    "    oasis1.drop('Hand', inplace=True, axis=1)\n",
    "    \n",
    "    return oasis1"
   ]
  },
  {
   "cell_type": "code",
   "execution_count": 6,
   "id": "8ecaae80",
   "metadata": {},
   "outputs": [
    {
     "data": {
      "text/html": [
       "<div>\n",
       "<style scoped>\n",
       "    .dataframe tbody tr th:only-of-type {\n",
       "        vertical-align: middle;\n",
       "    }\n",
       "\n",
       "    .dataframe tbody tr th {\n",
       "        vertical-align: top;\n",
       "    }\n",
       "\n",
       "    .dataframe thead th {\n",
       "        text-align: right;\n",
       "    }\n",
       "</style>\n",
       "<table border=\"1\" class=\"dataframe\">\n",
       "  <thead>\n",
       "    <tr style=\"text-align: right;\">\n",
       "      <th></th>\n",
       "      <th>ID</th>\n",
       "      <th>M/F</th>\n",
       "      <th>Age</th>\n",
       "      <th>Educ</th>\n",
       "      <th>SES</th>\n",
       "      <th>MMSE</th>\n",
       "      <th>CDR</th>\n",
       "      <th>eTIV</th>\n",
       "      <th>nWBV</th>\n",
       "      <th>ASF</th>\n",
       "    </tr>\n",
       "  </thead>\n",
       "  <tbody>\n",
       "    <tr>\n",
       "      <th>0</th>\n",
       "      <td>OAS1_0001_MR1</td>\n",
       "      <td>0</td>\n",
       "      <td>74</td>\n",
       "      <td>2.0</td>\n",
       "      <td>3.0</td>\n",
       "      <td>29.0</td>\n",
       "      <td>0.0</td>\n",
       "      <td>1344</td>\n",
       "      <td>0.743</td>\n",
       "      <td>1.306</td>\n",
       "    </tr>\n",
       "    <tr>\n",
       "      <th>1</th>\n",
       "      <td>OAS1_0002_MR1</td>\n",
       "      <td>0</td>\n",
       "      <td>55</td>\n",
       "      <td>4.0</td>\n",
       "      <td>1.0</td>\n",
       "      <td>29.0</td>\n",
       "      <td>0.0</td>\n",
       "      <td>1147</td>\n",
       "      <td>0.810</td>\n",
       "      <td>1.531</td>\n",
       "    </tr>\n",
       "    <tr>\n",
       "      <th>2</th>\n",
       "      <td>OAS1_0003_MR1</td>\n",
       "      <td>0</td>\n",
       "      <td>73</td>\n",
       "      <td>4.0</td>\n",
       "      <td>3.0</td>\n",
       "      <td>27.0</td>\n",
       "      <td>0.5</td>\n",
       "      <td>1454</td>\n",
       "      <td>0.708</td>\n",
       "      <td>1.207</td>\n",
       "    </tr>\n",
       "    <tr>\n",
       "      <th>8</th>\n",
       "      <td>OAS1_0010_MR1</td>\n",
       "      <td>1</td>\n",
       "      <td>74</td>\n",
       "      <td>5.0</td>\n",
       "      <td>2.0</td>\n",
       "      <td>30.0</td>\n",
       "      <td>0.0</td>\n",
       "      <td>1636</td>\n",
       "      <td>0.689</td>\n",
       "      <td>1.073</td>\n",
       "    </tr>\n",
       "    <tr>\n",
       "      <th>9</th>\n",
       "      <td>OAS1_0011_MR1</td>\n",
       "      <td>0</td>\n",
       "      <td>52</td>\n",
       "      <td>3.0</td>\n",
       "      <td>2.0</td>\n",
       "      <td>30.0</td>\n",
       "      <td>0.0</td>\n",
       "      <td>1321</td>\n",
       "      <td>0.827</td>\n",
       "      <td>1.329</td>\n",
       "    </tr>\n",
       "    <tr>\n",
       "      <th>...</th>\n",
       "      <td>...</td>\n",
       "      <td>...</td>\n",
       "      <td>...</td>\n",
       "      <td>...</td>\n",
       "      <td>...</td>\n",
       "      <td>...</td>\n",
       "      <td>...</td>\n",
       "      <td>...</td>\n",
       "      <td>...</td>\n",
       "      <td>...</td>\n",
       "    </tr>\n",
       "    <tr>\n",
       "      <th>411</th>\n",
       "      <td>OAS1_0453_MR1</td>\n",
       "      <td>0</td>\n",
       "      <td>70</td>\n",
       "      <td>1.0</td>\n",
       "      <td>4.0</td>\n",
       "      <td>29.0</td>\n",
       "      <td>0.5</td>\n",
       "      <td>1295</td>\n",
       "      <td>0.748</td>\n",
       "      <td>1.355</td>\n",
       "    </tr>\n",
       "    <tr>\n",
       "      <th>412</th>\n",
       "      <td>OAS1_0454_MR1</td>\n",
       "      <td>0</td>\n",
       "      <td>73</td>\n",
       "      <td>3.0</td>\n",
       "      <td>2.0</td>\n",
       "      <td>23.0</td>\n",
       "      <td>0.5</td>\n",
       "      <td>1536</td>\n",
       "      <td>0.730</td>\n",
       "      <td>1.142</td>\n",
       "    </tr>\n",
       "    <tr>\n",
       "      <th>413</th>\n",
       "      <td>OAS1_0455_MR1</td>\n",
       "      <td>0</td>\n",
       "      <td>61</td>\n",
       "      <td>2.0</td>\n",
       "      <td>4.0</td>\n",
       "      <td>28.0</td>\n",
       "      <td>0.0</td>\n",
       "      <td>1354</td>\n",
       "      <td>0.825</td>\n",
       "      <td>1.297</td>\n",
       "    </tr>\n",
       "    <tr>\n",
       "      <th>414</th>\n",
       "      <td>OAS1_0456_MR1</td>\n",
       "      <td>1</td>\n",
       "      <td>61</td>\n",
       "      <td>5.0</td>\n",
       "      <td>2.0</td>\n",
       "      <td>30.0</td>\n",
       "      <td>0.0</td>\n",
       "      <td>1637</td>\n",
       "      <td>0.780</td>\n",
       "      <td>1.072</td>\n",
       "    </tr>\n",
       "    <tr>\n",
       "      <th>415</th>\n",
       "      <td>OAS1_0457_MR1</td>\n",
       "      <td>0</td>\n",
       "      <td>62</td>\n",
       "      <td>3.0</td>\n",
       "      <td>3.0</td>\n",
       "      <td>26.0</td>\n",
       "      <td>0.0</td>\n",
       "      <td>1372</td>\n",
       "      <td>0.766</td>\n",
       "      <td>1.279</td>\n",
       "    </tr>\n",
       "  </tbody>\n",
       "</table>\n",
       "<p>235 rows × 10 columns</p>\n",
       "</div>"
      ],
      "text/plain": [
       "                ID  M/F  Age  Educ  SES  MMSE  CDR  eTIV   nWBV    ASF\n",
       "0    OAS1_0001_MR1    0   74   2.0  3.0  29.0  0.0  1344  0.743  1.306\n",
       "1    OAS1_0002_MR1    0   55   4.0  1.0  29.0  0.0  1147  0.810  1.531\n",
       "2    OAS1_0003_MR1    0   73   4.0  3.0  27.0  0.5  1454  0.708  1.207\n",
       "8    OAS1_0010_MR1    1   74   5.0  2.0  30.0  0.0  1636  0.689  1.073\n",
       "9    OAS1_0011_MR1    0   52   3.0  2.0  30.0  0.0  1321  0.827  1.329\n",
       "..             ...  ...  ...   ...  ...   ...  ...   ...    ...    ...\n",
       "411  OAS1_0453_MR1    0   70   1.0  4.0  29.0  0.5  1295  0.748  1.355\n",
       "412  OAS1_0454_MR1    0   73   3.0  2.0  23.0  0.5  1536  0.730  1.142\n",
       "413  OAS1_0455_MR1    0   61   2.0  4.0  28.0  0.0  1354  0.825  1.297\n",
       "414  OAS1_0456_MR1    1   61   5.0  2.0  30.0  0.0  1637  0.780  1.072\n",
       "415  OAS1_0457_MR1    0   62   3.0  3.0  26.0  0.0  1372  0.766  1.279\n",
       "\n",
       "[235 rows x 10 columns]"
      ]
     },
     "execution_count": 6,
     "metadata": {},
     "output_type": "execute_result"
    }
   ],
   "source": [
    "preprocess_data(oasis1)"
   ]
  },
  {
   "cell_type": "markdown",
   "id": "4e5ff483",
   "metadata": {
    "heading_collapsed": true
   },
   "source": [
    "### Testing my code"
   ]
  },
  {
   "cell_type": "code",
   "execution_count": 7,
   "id": "75430f7d",
   "metadata": {
    "hidden": true
   },
   "outputs": [
    {
     "data": {
      "text/plain": [
       "(235, 10)"
      ]
     },
     "execution_count": 7,
     "metadata": {},
     "output_type": "execute_result"
    }
   ],
   "source": [
    "# Check shape again\n",
    "oasis1.shape"
   ]
  },
  {
   "cell_type": "code",
   "execution_count": 8,
   "id": "3a833c5c",
   "metadata": {
    "hidden": true
   },
   "outputs": [
    {
     "data": {
      "image/png": "[encoded data removed]",
      "text/plain": [
       "<Figure size 432x288 with 1 Axes>"
      ]
     },
     "metadata": {},
     "output_type": "display_data"
    }
   ],
   "source": [
    "# Education is not normally distrbuted\n",
    "sns.histplot(oasis1.Educ,kde = True, color = 'c');"
   ]
  },
  {
   "cell_type": "code",
   "execution_count": 9,
   "id": "9299937d",
   "metadata": {
    "hidden": true
   },
   "outputs": [
    {
     "data": {
      "text/plain": [
       "array([0. , 0.5, 1. , 2. ])"
      ]
     },
     "execution_count": 9,
     "metadata": {},
     "output_type": "execute_result"
    }
   ],
   "source": [
    "# Check whether NANs are still here\n",
    "oasis1.CDR.unique()"
   ]
  },
  {
   "cell_type": "code",
   "execution_count": 10,
   "id": "cf163c5a",
   "metadata": {
    "hidden": true
   },
   "outputs": [
    {
     "data": {
      "text/plain": [
       "array([3., 1., 2., 4., 5.])"
      ]
     },
     "execution_count": 10,
     "metadata": {},
     "output_type": "execute_result"
    }
   ],
   "source": [
    "# Check SES column\n",
    "oasis1.SES.unique()"
   ]
  },
  {
   "cell_type": "code",
   "execution_count": 11,
   "id": "26487502",
   "metadata": {
    "hidden": true
   },
   "outputs": [
    {
     "data": {
      "text/plain": [
       "0      0\n",
       "1      0\n",
       "2      0\n",
       "8      1\n",
       "9      0\n",
       "      ..\n",
       "411    0\n",
       "412    0\n",
       "413    0\n",
       "414    1\n",
       "415    0\n",
       "Name: M/F, Length: 235, dtype: int64"
      ]
     },
     "execution_count": 11,
     "metadata": {},
     "output_type": "execute_result"
    }
   ],
   "source": [
    "# Check M/F column\n",
    "oasis1['M/F']"
   ]
  },
  {
   "cell_type": "code",
   "execution_count": 12,
   "id": "25c5d781",
   "metadata": {
    "hidden": true
   },
   "outputs": [],
   "source": [
    "# def gender_encoding(i):\n",
    "#     \"\"\"This function returns 0 for F and 1 for M\"\"\"\n",
    "#     return i.map({'F':0, 'M':1})"
   ]
  },
  {
   "cell_type": "markdown",
   "id": "2ce64475",
   "metadata": {},
   "source": [
    "## Preprocessing data"
   ]
  },
  {
   "cell_type": "code",
   "execution_count": 13,
   "id": "ae794d60",
   "metadata": {},
   "outputs": [],
   "source": [
    "# Defining variables\n",
    "X = oasis1.drop(columns = ['CDR', 'ID'])\n",
    "y = oasis1['CDR']"
   ]
  },
  {
   "cell_type": "code",
   "execution_count": 14,
   "id": "16def471",
   "metadata": {},
   "outputs": [],
   "source": [
    "# Holdout\n",
    "X_train, X_test, y_train, y_test = train_test_split(X, y, test_size=0.25)"
   ]
  },
  {
   "cell_type": "markdown",
   "id": "929025e4",
   "metadata": {},
   "source": [
    "## Preprocessing pipeline"
   ]
  },
  {
   "cell_type": "markdown",
   "id": "091f5cda",
   "metadata": {},
   "source": [
    " Note: columns **nWBV and ASF** already normalized\n",
    " \n",
    "**Columns to scale:**\n",
    "\n",
    "Standard Scale: age\n",
    "\n",
    "Robust Scale: eTIV, MMSE\n",
    "\n",
    "MinMax Scale: Educ"
   ]
  },
  {
   "cell_type": "code",
   "execution_count": 15,
   "id": "8cb646c8",
   "metadata": {},
   "outputs": [
    {
     "data": {
      "text/html": [
       "<style>#sk-c034b55a-250a-4c68-81c6-dd652e1aa518 {color: black;background-color: white;}#sk-c034b55a-250a-4c68-81c6-dd652e1aa518 pre{padding: 0;}#sk-c034b55a-250a-4c68-81c6-dd652e1aa518 div.sk-toggleable {background-color: white;}#sk-c034b55a-250a-4c68-81c6-dd652e1aa518 label.sk-toggleable__label {cursor: pointer;display: block;width: 100%;margin-bottom: 0;padding: 0.3em;box-sizing: border-box;text-align: center;}#sk-c034b55a-250a-4c68-81c6-dd652e1aa518 label.sk-toggleable__label-arrow:before {content: \"▸\";float: left;margin-right: 0.25em;color: #696969;}#sk-c034b55a-250a-4c68-81c6-dd652e1aa518 label.sk-toggleable__label-arrow:hover:before {color: black;}#sk-c034b55a-250a-4c68-81c6-dd652e1aa518 div.sk-estimator:hover label.sk-toggleable__label-arrow:before {color: black;}#sk-c034b55a-250a-4c68-81c6-dd652e1aa518 div.sk-toggleable__content {max-height: 0;max-width: 0;overflow: hidden;text-align: left;background-color: #f0f8ff;}#sk-c034b55a-250a-4c68-81c6-dd652e1aa518 div.sk-toggleable__content pre {margin: 0.2em;color: black;border-radius: 0.25em;background-color: #f0f8ff;}#sk-c034b55a-250a-4c68-81c6-dd652e1aa518 input.sk-toggleable__control:checked~div.sk-toggleable__content {max-height: 200px;max-width: 100%;overflow: auto;}#sk-c034b55a-250a-4c68-81c6-dd652e1aa518 input.sk-toggleable__control:checked~label.sk-toggleable__label-arrow:before {content: \"▾\";}#sk-c034b55a-250a-4c68-81c6-dd652e1aa518 div.sk-estimator input.sk-toggleable__control:checked~label.sk-toggleable__label {background-color: #d4ebff;}#sk-c034b55a-250a-4c68-81c6-dd652e1aa518 div.sk-label input.sk-toggleable__control:checked~label.sk-toggleable__label {background-color: #d4ebff;}#sk-c034b55a-250a-4c68-81c6-dd652e1aa518 input.sk-hidden--visually {border: 0;clip: rect(1px 1px 1px 1px);clip: rect(1px, 1px, 1px, 1px);height: 1px;margin: -1px;overflow: hidden;padding: 0;position: absolute;width: 1px;}#sk-c034b55a-250a-4c68-81c6-dd652e1aa518 div.sk-estimator {font-family: monospace;background-color: #f0f8ff;border: 1px dotted black;border-radius: 0.25em;box-sizing: border-box;margin-bottom: 0.5em;}#sk-c034b55a-250a-4c68-81c6-dd652e1aa518 div.sk-estimator:hover {background-color: #d4ebff;}#sk-c034b55a-250a-4c68-81c6-dd652e1aa518 div.sk-parallel-item::after {content: \"\";width: 100%;border-bottom: 1px solid gray;flex-grow: 1;}#sk-c034b55a-250a-4c68-81c6-dd652e1aa518 div.sk-label:hover label.sk-toggleable__label {background-color: #d4ebff;}#sk-c034b55a-250a-4c68-81c6-dd652e1aa518 div.sk-serial::before {content: \"\";position: absolute;border-left: 1px solid gray;box-sizing: border-box;top: 2em;bottom: 0;left: 50%;}#sk-c034b55a-250a-4c68-81c6-dd652e1aa518 div.sk-serial {display: flex;flex-direction: column;align-items: center;background-color: white;padding-right: 0.2em;padding-left: 0.2em;}#sk-c034b55a-250a-4c68-81c6-dd652e1aa518 div.sk-item {z-index: 1;}#sk-c034b55a-250a-4c68-81c6-dd652e1aa518 div.sk-parallel {display: flex;align-items: stretch;justify-content: center;background-color: white;}#sk-c034b55a-250a-4c68-81c6-dd652e1aa518 div.sk-parallel::before {content: \"\";position: absolute;border-left: 1px solid gray;box-sizing: border-box;top: 2em;bottom: 0;left: 50%;}#sk-c034b55a-250a-4c68-81c6-dd652e1aa518 div.sk-parallel-item {display: flex;flex-direction: column;position: relative;background-color: white;}#sk-c034b55a-250a-4c68-81c6-dd652e1aa518 div.sk-parallel-item:first-child::after {align-self: flex-end;width: 50%;}#sk-c034b55a-250a-4c68-81c6-dd652e1aa518 div.sk-parallel-item:last-child::after {align-self: flex-start;width: 50%;}#sk-c034b55a-250a-4c68-81c6-dd652e1aa518 div.sk-parallel-item:only-child::after {width: 0;}#sk-c034b55a-250a-4c68-81c6-dd652e1aa518 div.sk-dashed-wrapped {border: 1px dashed gray;margin: 0 0.4em 0.5em 0.4em;box-sizing: border-box;padding-bottom: 0.4em;background-color: white;position: relative;}#sk-c034b55a-250a-4c68-81c6-dd652e1aa518 div.sk-label label {font-family: monospace;font-weight: bold;background-color: white;display: inline-block;line-height: 1.2em;}#sk-c034b55a-250a-4c68-81c6-dd652e1aa518 div.sk-label-container {position: relative;z-index: 2;text-align: center;}#sk-c034b55a-250a-4c68-81c6-dd652e1aa518 div.sk-container {/* jupyter's `normalize.less` sets `[hidden] { display: none; }` but bootstrap.min.css set `[hidden] { display: none !important; }` so we also need the `!important` here to be able to override the default hidden behavior on the sphinx rendered scikit-learn.org. See: https://github.com/scikit-learn/scikit-learn/issues/21755 */display: inline-block !important;position: relative;}#sk-c034b55a-250a-4c68-81c6-dd652e1aa518 div.sk-text-repr-fallback {display: none;}</style><div id=\"sk-c034b55a-250a-4c68-81c6-dd652e1aa518\" class=\"sk-top-container\"><div class=\"sk-text-repr-fallback\"><pre>ColumnTransformer(remainder=&#x27;passthrough&#x27;,\n",
       "                  transformers=[(&#x27;standard_scaler&#x27;, StandardScaler(), [&#x27;Age&#x27;]),\n",
       "                                (&#x27;robust_scaler&#x27;, RobustScaler(),\n",
       "                                 [&#x27;eTIV&#x27;, &#x27;MMSE&#x27;]),\n",
       "                                (&#x27;minmax_scaler&#x27;, MinMaxScaler(), [&#x27;Educ&#x27;])])</pre><b>Please rerun this cell to show the HTML repr or trust the notebook.</b></div><div class=\"sk-container\" hidden><div class=\"sk-item sk-dashed-wrapped\"><div class=\"sk-label-container\"><div class=\"sk-label sk-toggleable\"><input class=\"sk-toggleable__control sk-hidden--visually\" id=\"24f768e0-be6e-418e-8c46-4fee300a363e\" type=\"checkbox\" ><label for=\"24f768e0-be6e-418e-8c46-4fee300a363e\" class=\"sk-toggleable__label sk-toggleable__label-arrow\">ColumnTransformer</label><div class=\"sk-toggleable__content\"><pre>ColumnTransformer(remainder=&#x27;passthrough&#x27;,\n",
       "                  transformers=[(&#x27;standard_scaler&#x27;, StandardScaler(), [&#x27;Age&#x27;]),\n",
       "                                (&#x27;robust_scaler&#x27;, RobustScaler(),\n",
       "                                 [&#x27;eTIV&#x27;, &#x27;MMSE&#x27;]),\n",
       "                                (&#x27;minmax_scaler&#x27;, MinMaxScaler(), [&#x27;Educ&#x27;])])</pre></div></div></div><div class=\"sk-parallel\"><div class=\"sk-parallel-item\"><div class=\"sk-item\"><div class=\"sk-label-container\"><div class=\"sk-label sk-toggleable\"><input class=\"sk-toggleable__control sk-hidden--visually\" id=\"e58622ac-2e99-44a5-aea2-bc054a2d6818\" type=\"checkbox\" ><label for=\"e58622ac-2e99-44a5-aea2-bc054a2d6818\" class=\"sk-toggleable__label sk-toggleable__label-arrow\">standard_scaler</label><div class=\"sk-toggleable__content\"><pre>[&#x27;Age&#x27;]</pre></div></div></div><div class=\"sk-serial\"><div class=\"sk-item\"><div class=\"sk-estimator sk-toggleable\"><input class=\"sk-toggleable__control sk-hidden--visually\" id=\"c50b9608-4f97-4287-868b-21e3130c70f5\" type=\"checkbox\" ><label for=\"c50b9608-4f97-4287-868b-21e3130c70f5\" class=\"sk-toggleable__label sk-toggleable__label-arrow\">StandardScaler</label><div class=\"sk-toggleable__content\"><pre>StandardScaler()</pre></div></div></div></div></div></div><div class=\"sk-parallel-item\"><div class=\"sk-item\"><div class=\"sk-label-container\"><div class=\"sk-label sk-toggleable\"><input class=\"sk-toggleable__control sk-hidden--visually\" id=\"fedc1f82-196b-4dc4-b14c-3101054a9026\" type=\"checkbox\" ><label for=\"fedc1f82-196b-4dc4-b14c-3101054a9026\" class=\"sk-toggleable__label sk-toggleable__label-arrow\">robust_scaler</label><div class=\"sk-toggleable__content\"><pre>[&#x27;eTIV&#x27;, &#x27;MMSE&#x27;]</pre></div></div></div><div class=\"sk-serial\"><div class=\"sk-item\"><div class=\"sk-estimator sk-toggleable\"><input class=\"sk-toggleable__control sk-hidden--visually\" id=\"aa027647-8bff-44e2-a6a3-9c4a635deb25\" type=\"checkbox\" ><label for=\"aa027647-8bff-44e2-a6a3-9c4a635deb25\" class=\"sk-toggleable__label sk-toggleable__label-arrow\">RobustScaler</label><div class=\"sk-toggleable__content\"><pre>RobustScaler()</pre></div></div></div></div></div></div><div class=\"sk-parallel-item\"><div class=\"sk-item\"><div class=\"sk-label-container\"><div class=\"sk-label sk-toggleable\"><input class=\"sk-toggleable__control sk-hidden--visually\" id=\"70f7a4a3-e821-4956-83dc-ae74a29481c2\" type=\"checkbox\" ><label for=\"70f7a4a3-e821-4956-83dc-ae74a29481c2\" class=\"sk-toggleable__label sk-toggleable__label-arrow\">minmax_scaler</label><div class=\"sk-toggleable__content\"><pre>[&#x27;Educ&#x27;]</pre></div></div></div><div class=\"sk-serial\"><div class=\"sk-item\"><div class=\"sk-estimator sk-toggleable\"><input class=\"sk-toggleable__control sk-hidden--visually\" id=\"f7e0c514-706e-48b2-86dc-00d81fd417b1\" type=\"checkbox\" ><label for=\"f7e0c514-706e-48b2-86dc-00d81fd417b1\" class=\"sk-toggleable__label sk-toggleable__label-arrow\">MinMaxScaler</label><div class=\"sk-toggleable__content\"><pre>MinMaxScaler()</pre></div></div></div></div></div></div><div class=\"sk-parallel-item\"><div class=\"sk-item\"><div class=\"sk-label-container\"><div class=\"sk-label sk-toggleable\"><input class=\"sk-toggleable__control sk-hidden--visually\" id=\"987e9929-4a9b-4a40-a69f-c8e73a46838b\" type=\"checkbox\" ><label for=\"987e9929-4a9b-4a40-a69f-c8e73a46838b\" class=\"sk-toggleable__label sk-toggleable__label-arrow\">remainder</label><div class=\"sk-toggleable__content\"><pre></pre></div></div></div><div class=\"sk-serial\"><div class=\"sk-item\"><div class=\"sk-estimator sk-toggleable\"><input class=\"sk-toggleable__control sk-hidden--visually\" id=\"24c53a00-0cee-4f60-bd7a-cc5b08191ab5\" type=\"checkbox\" ><label for=\"24c53a00-0cee-4f60-bd7a-cc5b08191ab5\" class=\"sk-toggleable__label sk-toggleable__label-arrow\">passthrough</label><div class=\"sk-toggleable__content\"><pre>passthrough</pre></div></div></div></div></div></div></div></div></div></div>"
      ],
      "text/plain": [
       "ColumnTransformer(remainder='passthrough',\n",
       "                  transformers=[('standard_scaler', StandardScaler(), ['Age']),\n",
       "                                ('robust_scaler', RobustScaler(),\n",
       "                                 ['eTIV', 'MMSE']),\n",
       "                                ('minmax_scaler', MinMaxScaler(), ['Educ'])])"
      ]
     },
     "execution_count": 15,
     "metadata": {},
     "output_type": "execute_result"
    }
   ],
   "source": [
    "# transformer for numerical features\n",
    "\n",
    "def numerical_transformer():\n",
    "    \"\"\"This function transforms all numerical features according to their respective scalers\n",
    "    \"\"\"\n",
    "    standard_features = ['Age']\n",
    "    robust_features = ['eTIV', 'MMSE']\n",
    "    minmax_features = ['Educ']\n",
    "    numeric_transformer = ColumnTransformer([\n",
    "        ('standard_scaler', StandardScaler(), standard_features),\n",
    "        ('robust_scaler', RobustScaler(), robust_features),\n",
    "        ('minmax_scaler', MinMaxScaler(), minmax_features),\n",
    "         ], remainder = 'passthrough')\n",
    "    \n",
    "    return numeric_transformer\n",
    "numeric_transformer = numerical_transformer()\n",
    "numeric_transformer"
   ]
  },
  {
   "cell_type": "code",
   "execution_count": 16,
   "id": "199401e6",
   "metadata": {},
   "outputs": [],
   "source": [
    "# transformer for categorical features\n",
    "\n",
    "categorical_features = ['M/F']\n",
    "def categorical_transformer():\n",
    "    \"\"\"This function encodes all categorical features according to their respective encoder.\n",
    "    \"\"\"\n",
    "    categorical_transformer = ColumnTransformer([\n",
    "        ('label_encoder', LabelEncoder(), categorical_features)\n",
    "    ])\n",
    "    return categorical_transformer\n",
    "category_transformer = categorical_transformer()"
   ]
  },
  {
   "cell_type": "code",
   "execution_count": 17,
   "id": "f4d94452",
   "metadata": {},
   "outputs": [
    {
     "data": {
      "text/html": [
       "<style>#sk-a916a079-3b41-42f1-8c1d-bf5636124f33 {color: black;background-color: white;}#sk-a916a079-3b41-42f1-8c1d-bf5636124f33 pre{padding: 0;}#sk-a916a079-3b41-42f1-8c1d-bf5636124f33 div.sk-toggleable {background-color: white;}#sk-a916a079-3b41-42f1-8c1d-bf5636124f33 label.sk-toggleable__label {cursor: pointer;display: block;width: 100%;margin-bottom: 0;padding: 0.3em;box-sizing: border-box;text-align: center;}#sk-a916a079-3b41-42f1-8c1d-bf5636124f33 label.sk-toggleable__label-arrow:before {content: \"▸\";float: left;margin-right: 0.25em;color: #696969;}#sk-a916a079-3b41-42f1-8c1d-bf5636124f33 label.sk-toggleable__label-arrow:hover:before {color: black;}#sk-a916a079-3b41-42f1-8c1d-bf5636124f33 div.sk-estimator:hover label.sk-toggleable__label-arrow:before {color: black;}#sk-a916a079-3b41-42f1-8c1d-bf5636124f33 div.sk-toggleable__content {max-height: 0;max-width: 0;overflow: hidden;text-align: left;background-color: #f0f8ff;}#sk-a916a079-3b41-42f1-8c1d-bf5636124f33 div.sk-toggleable__content pre {margin: 0.2em;color: black;border-radius: 0.25em;background-color: #f0f8ff;}#sk-a916a079-3b41-42f1-8c1d-bf5636124f33 input.sk-toggleable__control:checked~div.sk-toggleable__content {max-height: 200px;max-width: 100%;overflow: auto;}#sk-a916a079-3b41-42f1-8c1d-bf5636124f33 input.sk-toggleable__control:checked~label.sk-toggleable__label-arrow:before {content: \"▾\";}#sk-a916a079-3b41-42f1-8c1d-bf5636124f33 div.sk-estimator input.sk-toggleable__control:checked~label.sk-toggleable__label {background-color: #d4ebff;}#sk-a916a079-3b41-42f1-8c1d-bf5636124f33 div.sk-label input.sk-toggleable__control:checked~label.sk-toggleable__label {background-color: #d4ebff;}#sk-a916a079-3b41-42f1-8c1d-bf5636124f33 input.sk-hidden--visually {border: 0;clip: rect(1px 1px 1px 1px);clip: rect(1px, 1px, 1px, 1px);height: 1px;margin: -1px;overflow: hidden;padding: 0;position: absolute;width: 1px;}#sk-a916a079-3b41-42f1-8c1d-bf5636124f33 div.sk-estimator {font-family: monospace;background-color: #f0f8ff;border: 1px dotted black;border-radius: 0.25em;box-sizing: border-box;margin-bottom: 0.5em;}#sk-a916a079-3b41-42f1-8c1d-bf5636124f33 div.sk-estimator:hover {background-color: #d4ebff;}#sk-a916a079-3b41-42f1-8c1d-bf5636124f33 div.sk-parallel-item::after {content: \"\";width: 100%;border-bottom: 1px solid gray;flex-grow: 1;}#sk-a916a079-3b41-42f1-8c1d-bf5636124f33 div.sk-label:hover label.sk-toggleable__label {background-color: #d4ebff;}#sk-a916a079-3b41-42f1-8c1d-bf5636124f33 div.sk-serial::before {content: \"\";position: absolute;border-left: 1px solid gray;box-sizing: border-box;top: 2em;bottom: 0;left: 50%;}#sk-a916a079-3b41-42f1-8c1d-bf5636124f33 div.sk-serial {display: flex;flex-direction: column;align-items: center;background-color: white;padding-right: 0.2em;padding-left: 0.2em;}#sk-a916a079-3b41-42f1-8c1d-bf5636124f33 div.sk-item {z-index: 1;}#sk-a916a079-3b41-42f1-8c1d-bf5636124f33 div.sk-parallel {display: flex;align-items: stretch;justify-content: center;background-color: white;}#sk-a916a079-3b41-42f1-8c1d-bf5636124f33 div.sk-parallel::before {content: \"\";position: absolute;border-left: 1px solid gray;box-sizing: border-box;top: 2em;bottom: 0;left: 50%;}#sk-a916a079-3b41-42f1-8c1d-bf5636124f33 div.sk-parallel-item {display: flex;flex-direction: column;position: relative;background-color: white;}#sk-a916a079-3b41-42f1-8c1d-bf5636124f33 div.sk-parallel-item:first-child::after {align-self: flex-end;width: 50%;}#sk-a916a079-3b41-42f1-8c1d-bf5636124f33 div.sk-parallel-item:last-child::after {align-self: flex-start;width: 50%;}#sk-a916a079-3b41-42f1-8c1d-bf5636124f33 div.sk-parallel-item:only-child::after {width: 0;}#sk-a916a079-3b41-42f1-8c1d-bf5636124f33 div.sk-dashed-wrapped {border: 1px dashed gray;margin: 0 0.4em 0.5em 0.4em;box-sizing: border-box;padding-bottom: 0.4em;background-color: white;position: relative;}#sk-a916a079-3b41-42f1-8c1d-bf5636124f33 div.sk-label label {font-family: monospace;font-weight: bold;background-color: white;display: inline-block;line-height: 1.2em;}#sk-a916a079-3b41-42f1-8c1d-bf5636124f33 div.sk-label-container {position: relative;z-index: 2;text-align: center;}#sk-a916a079-3b41-42f1-8c1d-bf5636124f33 div.sk-container {/* jupyter's `normalize.less` sets `[hidden] { display: none; }` but bootstrap.min.css set `[hidden] { display: none !important; }` so we also need the `!important` here to be able to override the default hidden behavior on the sphinx rendered scikit-learn.org. See: https://github.com/scikit-learn/scikit-learn/issues/21755 */display: inline-block !important;position: relative;}#sk-a916a079-3b41-42f1-8c1d-bf5636124f33 div.sk-text-repr-fallback {display: none;}</style><div id=\"sk-a916a079-3b41-42f1-8c1d-bf5636124f33\" class=\"sk-top-container\"><div class=\"sk-text-repr-fallback\"><pre>Pipeline(steps=[(&#x27;numericals&#x27;,\n",
       "                 ColumnTransformer(remainder=&#x27;passthrough&#x27;,\n",
       "                                   transformers=[(&#x27;standard_scaler&#x27;,\n",
       "                                                  StandardScaler(), [&#x27;Age&#x27;]),\n",
       "                                                 (&#x27;robust_scaler&#x27;,\n",
       "                                                  RobustScaler(),\n",
       "                                                  [&#x27;eTIV&#x27;, &#x27;MMSE&#x27;]),\n",
       "                                                 (&#x27;minmax_scaler&#x27;,\n",
       "                                                  MinMaxScaler(),\n",
       "                                                  [&#x27;Educ&#x27;])]))])</pre><b>Please rerun this cell to show the HTML repr or trust the notebook.</b></div><div class=\"sk-container\" hidden><div class=\"sk-item sk-dashed-wrapped\"><div class=\"sk-label-container\"><div class=\"sk-label sk-toggleable\"><input class=\"sk-toggleable__control sk-hidden--visually\" id=\"e32987cb-9a4d-4b8c-bce0-4d819aaa2f85\" type=\"checkbox\" ><label for=\"e32987cb-9a4d-4b8c-bce0-4d819aaa2f85\" class=\"sk-toggleable__label sk-toggleable__label-arrow\">Pipeline</label><div class=\"sk-toggleable__content\"><pre>Pipeline(steps=[(&#x27;numericals&#x27;,\n",
       "                 ColumnTransformer(remainder=&#x27;passthrough&#x27;,\n",
       "                                   transformers=[(&#x27;standard_scaler&#x27;,\n",
       "                                                  StandardScaler(), [&#x27;Age&#x27;]),\n",
       "                                                 (&#x27;robust_scaler&#x27;,\n",
       "                                                  RobustScaler(),\n",
       "                                                  [&#x27;eTIV&#x27;, &#x27;MMSE&#x27;]),\n",
       "                                                 (&#x27;minmax_scaler&#x27;,\n",
       "                                                  MinMaxScaler(),\n",
       "                                                  [&#x27;Educ&#x27;])]))])</pre></div></div></div><div class=\"sk-serial\"><div class=\"sk-item sk-dashed-wrapped\"><div class=\"sk-label-container\"><div class=\"sk-label sk-toggleable\"><input class=\"sk-toggleable__control sk-hidden--visually\" id=\"7a3abf15-d5b5-49cf-9282-c2f6d39cb002\" type=\"checkbox\" ><label for=\"7a3abf15-d5b5-49cf-9282-c2f6d39cb002\" class=\"sk-toggleable__label sk-toggleable__label-arrow\">numericals: ColumnTransformer</label><div class=\"sk-toggleable__content\"><pre>ColumnTransformer(remainder=&#x27;passthrough&#x27;,\n",
       "                  transformers=[(&#x27;standard_scaler&#x27;, StandardScaler(), [&#x27;Age&#x27;]),\n",
       "                                (&#x27;robust_scaler&#x27;, RobustScaler(),\n",
       "                                 [&#x27;eTIV&#x27;, &#x27;MMSE&#x27;]),\n",
       "                                (&#x27;minmax_scaler&#x27;, MinMaxScaler(), [&#x27;Educ&#x27;])])</pre></div></div></div><div class=\"sk-parallel\"><div class=\"sk-parallel-item\"><div class=\"sk-item\"><div class=\"sk-label-container\"><div class=\"sk-label sk-toggleable\"><input class=\"sk-toggleable__control sk-hidden--visually\" id=\"6ea47814-bfd3-4f2d-a9d8-24c55e956e88\" type=\"checkbox\" ><label for=\"6ea47814-bfd3-4f2d-a9d8-24c55e956e88\" class=\"sk-toggleable__label sk-toggleable__label-arrow\">standard_scaler</label><div class=\"sk-toggleable__content\"><pre>[&#x27;Age&#x27;]</pre></div></div></div><div class=\"sk-serial\"><div class=\"sk-item\"><div class=\"sk-estimator sk-toggleable\"><input class=\"sk-toggleable__control sk-hidden--visually\" id=\"e2785a50-f2e2-49db-b0ee-a22855d25359\" type=\"checkbox\" ><label for=\"e2785a50-f2e2-49db-b0ee-a22855d25359\" class=\"sk-toggleable__label sk-toggleable__label-arrow\">StandardScaler</label><div class=\"sk-toggleable__content\"><pre>StandardScaler()</pre></div></div></div></div></div></div><div class=\"sk-parallel-item\"><div class=\"sk-item\"><div class=\"sk-label-container\"><div class=\"sk-label sk-toggleable\"><input class=\"sk-toggleable__control sk-hidden--visually\" id=\"59143123-02ce-491f-9673-be1a00edc7a2\" type=\"checkbox\" ><label for=\"59143123-02ce-491f-9673-be1a00edc7a2\" class=\"sk-toggleable__label sk-toggleable__label-arrow\">robust_scaler</label><div class=\"sk-toggleable__content\"><pre>[&#x27;eTIV&#x27;, &#x27;MMSE&#x27;]</pre></div></div></div><div class=\"sk-serial\"><div class=\"sk-item\"><div class=\"sk-estimator sk-toggleable\"><input class=\"sk-toggleable__control sk-hidden--visually\" id=\"4d41d2d3-af34-441d-9cae-c9b72206a565\" type=\"checkbox\" ><label for=\"4d41d2d3-af34-441d-9cae-c9b72206a565\" class=\"sk-toggleable__label sk-toggleable__label-arrow\">RobustScaler</label><div class=\"sk-toggleable__content\"><pre>RobustScaler()</pre></div></div></div></div></div></div><div class=\"sk-parallel-item\"><div class=\"sk-item\"><div class=\"sk-label-container\"><div class=\"sk-label sk-toggleable\"><input class=\"sk-toggleable__control sk-hidden--visually\" id=\"70be55ab-3608-4443-b262-1930a277fd02\" type=\"checkbox\" ><label for=\"70be55ab-3608-4443-b262-1930a277fd02\" class=\"sk-toggleable__label sk-toggleable__label-arrow\">minmax_scaler</label><div class=\"sk-toggleable__content\"><pre>[&#x27;Educ&#x27;]</pre></div></div></div><div class=\"sk-serial\"><div class=\"sk-item\"><div class=\"sk-estimator sk-toggleable\"><input class=\"sk-toggleable__control sk-hidden--visually\" id=\"a16d224b-76df-4d40-84ad-37a277e8d7fb\" type=\"checkbox\" ><label for=\"a16d224b-76df-4d40-84ad-37a277e8d7fb\" class=\"sk-toggleable__label sk-toggleable__label-arrow\">MinMaxScaler</label><div class=\"sk-toggleable__content\"><pre>MinMaxScaler()</pre></div></div></div></div></div></div><div class=\"sk-parallel-item\"><div class=\"sk-item\"><div class=\"sk-label-container\"><div class=\"sk-label sk-toggleable\"><input class=\"sk-toggleable__control sk-hidden--visually\" id=\"9288b4ad-1ebc-422f-bc8b-29d449993143\" type=\"checkbox\" ><label for=\"9288b4ad-1ebc-422f-bc8b-29d449993143\" class=\"sk-toggleable__label sk-toggleable__label-arrow\">remainder</label><div class=\"sk-toggleable__content\"><pre></pre></div></div></div><div class=\"sk-serial\"><div class=\"sk-item\"><div class=\"sk-estimator sk-toggleable\"><input class=\"sk-toggleable__control sk-hidden--visually\" id=\"af83b5da-fba3-4725-86da-53ae92fbcb24\" type=\"checkbox\" ><label for=\"af83b5da-fba3-4725-86da-53ae92fbcb24\" class=\"sk-toggleable__label sk-toggleable__label-arrow\">passthrough</label><div class=\"sk-toggleable__content\"><pre>passthrough</pre></div></div></div></div></div></div></div></div></div></div></div></div>"
      ],
      "text/plain": [
       "Pipeline(steps=[('numericals',\n",
       "                 ColumnTransformer(remainder='passthrough',\n",
       "                                   transformers=[('standard_scaler',\n",
       "                                                  StandardScaler(), ['Age']),\n",
       "                                                 ('robust_scaler',\n",
       "                                                  RobustScaler(),\n",
       "                                                  ['eTIV', 'MMSE']),\n",
       "                                                 ('minmax_scaler',\n",
       "                                                  MinMaxScaler(),\n",
       "                                                  ['Educ'])]))])"
      ]
     },
     "execution_count": 17,
     "metadata": {},
     "output_type": "execute_result"
    }
   ],
   "source": [
    "def set_pipeline():\n",
    "    \"\"\"This function returns a pipeline\n",
    "    \"\"\"\n",
    "    preproc = Pipeline([('numericals', numeric_transformer)])\n",
    "    return preproc\n",
    "set_pipeline()"
   ]
  },
  {
   "cell_type": "code",
   "execution_count": 18,
   "id": "f0b0e222",
   "metadata": {},
   "outputs": [
    {
     "data": {
      "text/html": [
       "<div>\n",
       "<style scoped>\n",
       "    .dataframe tbody tr th:only-of-type {\n",
       "        vertical-align: middle;\n",
       "    }\n",
       "\n",
       "    .dataframe tbody tr th {\n",
       "        vertical-align: top;\n",
       "    }\n",
       "\n",
       "    .dataframe thead th {\n",
       "        text-align: right;\n",
       "    }\n",
       "</style>\n",
       "<table border=\"1\" class=\"dataframe\">\n",
       "  <thead>\n",
       "    <tr style=\"text-align: right;\">\n",
       "      <th></th>\n",
       "      <th>M/F</th>\n",
       "      <th>Age</th>\n",
       "      <th>Educ</th>\n",
       "      <th>SES</th>\n",
       "      <th>MMSE</th>\n",
       "      <th>eTIV</th>\n",
       "      <th>nWBV</th>\n",
       "      <th>ASF</th>\n",
       "    </tr>\n",
       "  </thead>\n",
       "  <tbody>\n",
       "    <tr>\n",
       "      <th>0</th>\n",
       "      <td>0.0</td>\n",
       "      <td>0.905857</td>\n",
       "      <td>1.00</td>\n",
       "      <td>2.0</td>\n",
       "      <td>-1.75</td>\n",
       "      <td>-0.368700</td>\n",
       "      <td>0.715</td>\n",
       "      <td>1.274</td>\n",
       "    </tr>\n",
       "    <tr>\n",
       "      <th>1</th>\n",
       "      <td>1.0</td>\n",
       "      <td>-0.042110</td>\n",
       "      <td>1.00</td>\n",
       "      <td>1.0</td>\n",
       "      <td>-0.75</td>\n",
       "      <td>2.464191</td>\n",
       "      <td>0.726</td>\n",
       "      <td>0.919</td>\n",
       "    </tr>\n",
       "    <tr>\n",
       "      <th>2</th>\n",
       "      <td>1.0</td>\n",
       "      <td>0.733500</td>\n",
       "      <td>1.00</td>\n",
       "      <td>1.0</td>\n",
       "      <td>0.00</td>\n",
       "      <td>1.063660</td>\n",
       "      <td>0.721</td>\n",
       "      <td>1.066</td>\n",
       "    </tr>\n",
       "    <tr>\n",
       "      <th>3</th>\n",
       "      <td>1.0</td>\n",
       "      <td>0.044069</td>\n",
       "      <td>0.25</td>\n",
       "      <td>3.0</td>\n",
       "      <td>-1.50</td>\n",
       "      <td>1.137931</td>\n",
       "      <td>0.709</td>\n",
       "      <td>1.056</td>\n",
       "    </tr>\n",
       "    <tr>\n",
       "      <th>4</th>\n",
       "      <td>0.0</td>\n",
       "      <td>-0.903899</td>\n",
       "      <td>0.50</td>\n",
       "      <td>3.0</td>\n",
       "      <td>-0.75</td>\n",
       "      <td>-0.395225</td>\n",
       "      <td>0.766</td>\n",
       "      <td>1.279</td>\n",
       "    </tr>\n",
       "    <tr>\n",
       "      <th>...</th>\n",
       "      <td>...</td>\n",
       "      <td>...</td>\n",
       "      <td>...</td>\n",
       "      <td>...</td>\n",
       "      <td>...</td>\n",
       "      <td>...</td>\n",
       "      <td>...</td>\n",
       "      <td>...</td>\n",
       "    </tr>\n",
       "    <tr>\n",
       "      <th>171</th>\n",
       "      <td>1.0</td>\n",
       "      <td>-0.128289</td>\n",
       "      <td>0.75</td>\n",
       "      <td>1.0</td>\n",
       "      <td>-3.00</td>\n",
       "      <td>0.612732</td>\n",
       "      <td>0.687</td>\n",
       "      <td>1.123</td>\n",
       "    </tr>\n",
       "    <tr>\n",
       "      <th>172</th>\n",
       "      <td>0.0</td>\n",
       "      <td>0.905857</td>\n",
       "      <td>0.50</td>\n",
       "      <td>4.0</td>\n",
       "      <td>-1.25</td>\n",
       "      <td>-0.872679</td>\n",
       "      <td>0.797</td>\n",
       "      <td>1.369</td>\n",
       "    </tr>\n",
       "    <tr>\n",
       "      <th>173</th>\n",
       "      <td>1.0</td>\n",
       "      <td>-0.559183</td>\n",
       "      <td>0.25</td>\n",
       "      <td>4.0</td>\n",
       "      <td>0.25</td>\n",
       "      <td>-0.002653</td>\n",
       "      <td>0.784</td>\n",
       "      <td>1.214</td>\n",
       "    </tr>\n",
       "    <tr>\n",
       "      <th>174</th>\n",
       "      <td>0.0</td>\n",
       "      <td>0.044069</td>\n",
       "      <td>0.00</td>\n",
       "      <td>4.0</td>\n",
       "      <td>0.25</td>\n",
       "      <td>0.151194</td>\n",
       "      <td>0.721</td>\n",
       "      <td>1.190</td>\n",
       "    </tr>\n",
       "    <tr>\n",
       "      <th>175</th>\n",
       "      <td>1.0</td>\n",
       "      <td>0.992036</td>\n",
       "      <td>0.50</td>\n",
       "      <td>3.0</td>\n",
       "      <td>0.00</td>\n",
       "      <td>0.267905</td>\n",
       "      <td>0.693</td>\n",
       "      <td>1.172</td>\n",
       "    </tr>\n",
       "  </tbody>\n",
       "</table>\n",
       "<p>176 rows × 8 columns</p>\n",
       "</div>"
      ],
      "text/plain": [
       "     M/F       Age  Educ  SES  MMSE      eTIV   nWBV    ASF\n",
       "0    0.0  0.905857  1.00  2.0 -1.75 -0.368700  0.715  1.274\n",
       "1    1.0 -0.042110  1.00  1.0 -0.75  2.464191  0.726  0.919\n",
       "2    1.0  0.733500  1.00  1.0  0.00  1.063660  0.721  1.066\n",
       "3    1.0  0.044069  0.25  3.0 -1.50  1.137931  0.709  1.056\n",
       "4    0.0 -0.903899  0.50  3.0 -0.75 -0.395225  0.766  1.279\n",
       "..   ...       ...   ...  ...   ...       ...    ...    ...\n",
       "171  1.0 -0.128289  0.75  1.0 -3.00  0.612732  0.687  1.123\n",
       "172  0.0  0.905857  0.50  4.0 -1.25 -0.872679  0.797  1.369\n",
       "173  1.0 -0.559183  0.25  4.0  0.25 -0.002653  0.784  1.214\n",
       "174  0.0  0.044069  0.00  4.0  0.25  0.151194  0.721  1.190\n",
       "175  1.0  0.992036  0.50  3.0  0.00  0.267905  0.693  1.172\n",
       "\n",
       "[176 rows x 8 columns]"
      ]
     },
     "execution_count": 18,
     "metadata": {},
     "output_type": "execute_result"
    }
   ],
   "source": [
    "def preproc_df():\n",
    "    \"\"\"This function returns a scaled dataframe ready for processing\n",
    "    \"\"\"\n",
    "    # Instantiating pipeline\n",
    "    pipeline = set_pipeline()\n",
    "    oasis1_scaled = pd.DataFrame(pipeline.fit_transform(X_train, y_train), columns = set_pipeline().get_feature_names_out())\n",
    "    oasis1_scaled.rename(columns={\n",
    "                                 'remainder__M/F': 'M/F',\n",
    "                                 'remainder__SES': 'SES',\n",
    "                                 'remainder__nWBV': 'nWBV',\n",
    "                                 'remainder__ASF': 'ASF',\n",
    "                                 'standard_scaler__Age': 'Age',\n",
    "                                 'robust_scaler__eTIV': 'eTIV',\n",
    "                                 'robust_scaler__MMSE': 'MMSE',\n",
    "                                 'minmax_scaler__Educ': 'Educ'\n",
    "    }, inplace=True)\n",
    "    oasis1_scaled = oasis1_scaled[[\"M/F\", \"Age\", \"Educ\", \"SES\", \"MMSE\", \"eTIV\", \"nWBV\", \"ASF\"]]\n",
    "    return oasis1_scaled\n",
    "preproc_df()"
   ]
  },
  {
   "cell_type": "markdown",
   "id": "7fb88f81",
   "metadata": {},
   "source": [
    "# Decision Tree"
   ]
  },
  {
   "cell_type": "markdown",
   "id": "baa89e11",
   "metadata": {},
   "source": [
    "## Trial (just to practice)"
   ]
  },
  {
   "cell_type": "code",
   "execution_count": 19,
   "id": "04b2e8e9",
   "metadata": {},
   "outputs": [],
   "source": [
    "# Defining new X_scaled\n",
    "X_scaled = preproc_df()\n",
    "\n",
    "# Making a copy of X_scaled\n",
    "X_scaled_test = X_scaled.copy()"
   ]
  },
  {
   "cell_type": "code",
   "execution_count": 20,
   "id": "51a22948",
   "metadata": {},
   "outputs": [
    {
     "data": {
      "text/plain": [
       "(176,)"
      ]
     },
     "execution_count": 20,
     "metadata": {},
     "output_type": "execute_result"
    }
   ],
   "source": [
    "y_train_test = y_train.copy()\n",
    "y_train_test = y_train_test.replace({0.:1, 0.5:2})\n",
    "y_train_test.shape"
   ]
  },
  {
   "cell_type": "code",
   "execution_count": 21,
   "id": "fc245f0f",
   "metadata": {},
   "outputs": [
    {
     "data": {
      "text/plain": [
       "array([1. , 0.5, 0. , 2. ])"
      ]
     },
     "execution_count": 21,
     "metadata": {},
     "output_type": "execute_result"
    }
   ],
   "source": [
    "y_train.unique()\n",
    "#y_train.replace({0: 'nondemented', 0.5: 'verymild', 1: 'mild', 2: 'moderate'})"
   ]
  },
  {
   "cell_type": "code",
   "execution_count": 22,
   "id": "cc88c292",
   "metadata": {},
   "outputs": [],
   "source": [
    "# Instantiating Decision Tree\n",
    "tree_clf = DecisionTreeClassifier(max_depth = 3)"
   ]
  },
  {
   "cell_type": "code",
   "execution_count": 23,
   "id": "6677aa45",
   "metadata": {},
   "outputs": [
    {
     "data": {
      "text/html": [
       "<style>#sk-aa1c21bd-3824-451d-af9a-be0ded5f9089 {color: black;background-color: white;}#sk-aa1c21bd-3824-451d-af9a-be0ded5f9089 pre{padding: 0;}#sk-aa1c21bd-3824-451d-af9a-be0ded5f9089 div.sk-toggleable {background-color: white;}#sk-aa1c21bd-3824-451d-af9a-be0ded5f9089 label.sk-toggleable__label {cursor: pointer;display: block;width: 100%;margin-bottom: 0;padding: 0.3em;box-sizing: border-box;text-align: center;}#sk-aa1c21bd-3824-451d-af9a-be0ded5f9089 label.sk-toggleable__label-arrow:before {content: \"▸\";float: left;margin-right: 0.25em;color: #696969;}#sk-aa1c21bd-3824-451d-af9a-be0ded5f9089 label.sk-toggleable__label-arrow:hover:before {color: black;}#sk-aa1c21bd-3824-451d-af9a-be0ded5f9089 div.sk-estimator:hover label.sk-toggleable__label-arrow:before {color: black;}#sk-aa1c21bd-3824-451d-af9a-be0ded5f9089 div.sk-toggleable__content {max-height: 0;max-width: 0;overflow: hidden;text-align: left;background-color: #f0f8ff;}#sk-aa1c21bd-3824-451d-af9a-be0ded5f9089 div.sk-toggleable__content pre {margin: 0.2em;color: black;border-radius: 0.25em;background-color: #f0f8ff;}#sk-aa1c21bd-3824-451d-af9a-be0ded5f9089 input.sk-toggleable__control:checked~div.sk-toggleable__content {max-height: 200px;max-width: 100%;overflow: auto;}#sk-aa1c21bd-3824-451d-af9a-be0ded5f9089 input.sk-toggleable__control:checked~label.sk-toggleable__label-arrow:before {content: \"▾\";}#sk-aa1c21bd-3824-451d-af9a-be0ded5f9089 div.sk-estimator input.sk-toggleable__control:checked~label.sk-toggleable__label {background-color: #d4ebff;}#sk-aa1c21bd-3824-451d-af9a-be0ded5f9089 div.sk-label input.sk-toggleable__control:checked~label.sk-toggleable__label {background-color: #d4ebff;}#sk-aa1c21bd-3824-451d-af9a-be0ded5f9089 input.sk-hidden--visually {border: 0;clip: rect(1px 1px 1px 1px);clip: rect(1px, 1px, 1px, 1px);height: 1px;margin: -1px;overflow: hidden;padding: 0;position: absolute;width: 1px;}#sk-aa1c21bd-3824-451d-af9a-be0ded5f9089 div.sk-estimator {font-family: monospace;background-color: #f0f8ff;border: 1px dotted black;border-radius: 0.25em;box-sizing: border-box;margin-bottom: 0.5em;}#sk-aa1c21bd-3824-451d-af9a-be0ded5f9089 div.sk-estimator:hover {background-color: #d4ebff;}#sk-aa1c21bd-3824-451d-af9a-be0ded5f9089 div.sk-parallel-item::after {content: \"\";width: 100%;border-bottom: 1px solid gray;flex-grow: 1;}#sk-aa1c21bd-3824-451d-af9a-be0ded5f9089 div.sk-label:hover label.sk-toggleable__label {background-color: #d4ebff;}#sk-aa1c21bd-3824-451d-af9a-be0ded5f9089 div.sk-serial::before {content: \"\";position: absolute;border-left: 1px solid gray;box-sizing: border-box;top: 2em;bottom: 0;left: 50%;}#sk-aa1c21bd-3824-451d-af9a-be0ded5f9089 div.sk-serial {display: flex;flex-direction: column;align-items: center;background-color: white;padding-right: 0.2em;padding-left: 0.2em;}#sk-aa1c21bd-3824-451d-af9a-be0ded5f9089 div.sk-item {z-index: 1;}#sk-aa1c21bd-3824-451d-af9a-be0ded5f9089 div.sk-parallel {display: flex;align-items: stretch;justify-content: center;background-color: white;}#sk-aa1c21bd-3824-451d-af9a-be0ded5f9089 div.sk-parallel::before {content: \"\";position: absolute;border-left: 1px solid gray;box-sizing: border-box;top: 2em;bottom: 0;left: 50%;}#sk-aa1c21bd-3824-451d-af9a-be0ded5f9089 div.sk-parallel-item {display: flex;flex-direction: column;position: relative;background-color: white;}#sk-aa1c21bd-3824-451d-af9a-be0ded5f9089 div.sk-parallel-item:first-child::after {align-self: flex-end;width: 50%;}#sk-aa1c21bd-3824-451d-af9a-be0ded5f9089 div.sk-parallel-item:last-child::after {align-self: flex-start;width: 50%;}#sk-aa1c21bd-3824-451d-af9a-be0ded5f9089 div.sk-parallel-item:only-child::after {width: 0;}#sk-aa1c21bd-3824-451d-af9a-be0ded5f9089 div.sk-dashed-wrapped {border: 1px dashed gray;margin: 0 0.4em 0.5em 0.4em;box-sizing: border-box;padding-bottom: 0.4em;background-color: white;position: relative;}#sk-aa1c21bd-3824-451d-af9a-be0ded5f9089 div.sk-label label {font-family: monospace;font-weight: bold;background-color: white;display: inline-block;line-height: 1.2em;}#sk-aa1c21bd-3824-451d-af9a-be0ded5f9089 div.sk-label-container {position: relative;z-index: 2;text-align: center;}#sk-aa1c21bd-3824-451d-af9a-be0ded5f9089 div.sk-container {/* jupyter's `normalize.less` sets `[hidden] { display: none; }` but bootstrap.min.css set `[hidden] { display: none !important; }` so we also need the `!important` here to be able to override the default hidden behavior on the sphinx rendered scikit-learn.org. See: https://github.com/scikit-learn/scikit-learn/issues/21755 */display: inline-block !important;position: relative;}#sk-aa1c21bd-3824-451d-af9a-be0ded5f9089 div.sk-text-repr-fallback {display: none;}</style><div id=\"sk-aa1c21bd-3824-451d-af9a-be0ded5f9089\" class=\"sk-top-container\"><div class=\"sk-text-repr-fallback\"><pre>DecisionTreeClassifier(max_depth=3)</pre><b>Please rerun this cell to show the HTML repr or trust the notebook.</b></div><div class=\"sk-container\" hidden><div class=\"sk-item\"><div class=\"sk-estimator sk-toggleable\"><input class=\"sk-toggleable__control sk-hidden--visually\" id=\"76c51099-cf73-494c-bf2a-d170289e9e23\" type=\"checkbox\" checked><label for=\"76c51099-cf73-494c-bf2a-d170289e9e23\" class=\"sk-toggleable__label sk-toggleable__label-arrow\">DecisionTreeClassifier</label><div class=\"sk-toggleable__content\"><pre>DecisionTreeClassifier(max_depth=3)</pre></div></div></div></div></div>"
      ],
      "text/plain": [
       "DecisionTreeClassifier(max_depth=3)"
      ]
     },
     "execution_count": 23,
     "metadata": {},
     "output_type": "execute_result"
    }
   ],
   "source": [
    "# Fitting decision tree\n",
    "tree_clf.fit(X_scaled_test,y_train_test)"
   ]
  },
  {
   "cell_type": "code",
   "execution_count": 24,
   "id": "813591ad",
   "metadata": {},
   "outputs": [
    {
     "data": {
      "text/plain": [
       "array([1., 1., 1., 1., 1., 1., 1., 1., 1., 1., 1., 1., 1., 2., 1., 1., 1.,\n",
       "       1., 1., 1., 1., 1., 2., 1., 1., 1., 1., 1., 1., 1., 1., 1., 1., 1.,\n",
       "       1., 1., 1., 1., 1., 1., 1., 1., 1., 1., 1., 1., 1., 1., 1., 1., 1.,\n",
       "       1., 1., 1., 1., 1., 1., 1., 1.])"
      ]
     },
     "execution_count": 24,
     "metadata": {},
     "output_type": "execute_result"
    }
   ],
   "source": [
    "prediction = tree_clf.predict(X_test)\n",
    "prediction"
   ]
  },
  {
   "cell_type": "code",
   "execution_count": 25,
   "id": "bbdff925",
   "metadata": {},
   "outputs": [],
   "source": [
    "y_test = y_test.replace({0.:1, 0.5:2})"
   ]
  },
  {
   "cell_type": "code",
   "execution_count": 26,
   "id": "c2ade7aa",
   "metadata": {},
   "outputs": [
    {
     "data": {
      "text/plain": [
       "0.7966101694915254"
      ]
     },
     "execution_count": 26,
     "metadata": {},
     "output_type": "execute_result"
    }
   ],
   "source": [
    "# Accuracy\n",
    "from sklearn.metrics import accuracy_score\n",
    "accuracy_score(y_test, prediction)"
   ]
  },
  {
   "cell_type": "code",
   "execution_count": 27,
   "id": "67d7a94f",
   "metadata": {},
   "outputs": [
    {
     "data": {
      "text/plain": [
       "(59, 8)"
      ]
     },
     "execution_count": 27,
     "metadata": {},
     "output_type": "execute_result"
    }
   ],
   "source": [
    "X_test.shape"
   ]
  },
  {
   "cell_type": "code",
   "execution_count": 28,
   "id": "8af92660",
   "metadata": {},
   "outputs": [
    {
     "data": {
      "text/plain": [
       "(176, 8)"
      ]
     },
     "execution_count": 28,
     "metadata": {},
     "output_type": "execute_result"
    }
   ],
   "source": [
    "X_scaled_test.shape"
   ]
  },
  {
   "cell_type": "code",
   "execution_count": 29,
   "id": "be2df53b",
   "metadata": {},
   "outputs": [
    {
     "data": {
      "image/png": "[encoded data removed]",
      "text/plain": [
       "<Figure size 432x288 with 1 Axes>"
      ]
     },
     "metadata": {},
     "output_type": "display_data"
    },
    {
     "data": {
      "text/plain": [
       "<Figure size 1440x1872 with 0 Axes>"
      ]
     },
     "metadata": {},
     "output_type": "display_data"
    }
   ],
   "source": [
    "from sklearn import tree\n",
    "tree.plot_tree(tree_clf,\n",
    "              feature_names = X_train.columns)\n",
    "plt.figure(figsize = (20, 26));"
   ]
  },
  {
   "cell_type": "code",
   "execution_count": 30,
   "id": "221fca1b",
   "metadata": {},
   "outputs": [
    {
     "data": {
      "image/svg+xml": [
       "<?xml version=\"1.0\" encoding=\"UTF-8\" standalone=\"no\"?>\n",
       "<!DOCTYPE svg PUBLIC \"-//W3C//DTD SVG 1.1//EN\"\n",
       " \"http://www.w3.org/Graphics/SVG/1.1/DTD/svg11.dtd\">\n",
       "<!-- Generated by graphviz version 2.43.0 (0)\n",
       " -->\n",
       "<!-- Title: Tree Pages: 1 -->\n",
       "<svg width=\"673pt\" height=\"514pt\"\n",
       " viewBox=\"0.00 0.00 673.00 514.00\" xmlns=\"http://www.w3.org/2000/svg\" xmlns:xlink=\"http://www.w3.org/1999/xlink\">\n",
       "<g id=\"graph0\" class=\"graph\" transform=\"scale(1 1) rotate(0) translate(4 510)\">\n",
       "<title>Tree</title>\n",
       "<polygon fill=\"white\" stroke=\"transparent\" points=\"-4,4 -4,-510 669,-510 669,4 -4,4\"/>\n",
       "<!-- 0 -->\n",
       "<g id=\"node1\" class=\"node\">\n",
       "<title>0</title>\n",
       "<path fill=\"#f2bf9a\" stroke=\"black\" d=\"M128,-247.5C128,-247.5 12,-247.5 12,-247.5 6,-247.5 0,-241.5 0,-235.5 0,-235.5 0,-176.5 0,-176.5 0,-170.5 6,-164.5 12,-164.5 12,-164.5 128,-164.5 128,-164.5 134,-164.5 140,-170.5 140,-176.5 140,-176.5 140,-235.5 140,-235.5 140,-241.5 134,-247.5 128,-247.5\"/>\n",
       "<text text-anchor=\"middle\" x=\"70\" y=\"-232.3\" font-family=\"futura\" font-size=\"14.00\">MMSE &lt;= &#45;0.125</text>\n",
       "<text text-anchor=\"middle\" x=\"70\" y=\"-217.3\" font-family=\"futura\" font-size=\"14.00\">gini = 0.442</text>\n",
       "<text text-anchor=\"middle\" x=\"70\" y=\"-202.3\" font-family=\"futura\" font-size=\"14.00\">samples = 176</text>\n",
       "<text text-anchor=\"middle\" x=\"70\" y=\"-187.3\" font-family=\"futura\" font-size=\"14.00\">value = [118, 58]</text>\n",
       "<text text-anchor=\"middle\" x=\"70\" y=\"-172.3\" font-family=\"futura\" font-size=\"14.00\">class = mild</text>\n",
       "</g>\n",
       "<!-- 1 -->\n",
       "<g id=\"node2\" class=\"node\">\n",
       "<title>1</title>\n",
       "<path fill=\"#ddeefb\" stroke=\"black\" d=\"M303,-298.5C303,-298.5 188,-298.5 188,-298.5 182,-298.5 176,-292.5 176,-286.5 176,-286.5 176,-227.5 176,-227.5 176,-221.5 182,-215.5 188,-215.5 188,-215.5 303,-215.5 303,-215.5 309,-215.5 315,-221.5 315,-227.5 315,-227.5 315,-286.5 315,-286.5 315,-292.5 309,-298.5 303,-298.5\"/>\n",
       "<text text-anchor=\"middle\" x=\"245.5\" y=\"-283.3\" font-family=\"futura\" font-size=\"14.00\">nWBV &lt;= 0.759</text>\n",
       "<text text-anchor=\"middle\" x=\"245.5\" y=\"-268.3\" font-family=\"futura\" font-size=\"14.00\">gini = 0.496</text>\n",
       "<text text-anchor=\"middle\" x=\"245.5\" y=\"-253.3\" font-family=\"futura\" font-size=\"14.00\">samples = 86</text>\n",
       "<text text-anchor=\"middle\" x=\"245.5\" y=\"-238.3\" font-family=\"futura\" font-size=\"14.00\">value = [39, 47]</text>\n",
       "<text text-anchor=\"middle\" x=\"245.5\" y=\"-223.3\" font-family=\"futura\" font-size=\"14.00\">class = moderate</text>\n",
       "</g>\n",
       "<!-- 0&#45;&gt;1 -->\n",
       "<g id=\"edge1\" class=\"edge\">\n",
       "<title>0&#45;&gt;1</title>\n",
       "<path fill=\"none\" stroke=\"black\" d=\"M140.07,-226.3C148.65,-228.83 157.48,-231.42 166.19,-233.98\"/>\n",
       "<polygon fill=\"black\" stroke=\"black\" points=\"165.37,-237.39 175.95,-236.85 167.34,-230.67 165.37,-237.39\"/>\n",
       "<text text-anchor=\"middle\" x=\"154.01\" y=\"-245.12\" font-family=\"futura\" font-size=\"14.00\">True</text>\n",
       "</g>\n",
       "<!-- 8 -->\n",
       "<g id=\"node9\" class=\"node\">\n",
       "<title>8</title>\n",
       "<path fill=\"#e99355\" stroke=\"black\" d=\"M299,-169.5C299,-169.5 192,-169.5 192,-169.5 186,-169.5 180,-163.5 180,-157.5 180,-157.5 180,-98.5 180,-98.5 180,-92.5 186,-86.5 192,-86.5 192,-86.5 299,-86.5 299,-86.5 305,-86.5 311,-92.5 311,-98.5 311,-98.5 311,-157.5 311,-157.5 311,-163.5 305,-169.5 299,-169.5\"/>\n",
       "<text text-anchor=\"middle\" x=\"245.5\" y=\"-154.3\" font-family=\"futura\" font-size=\"14.00\">nWBV &lt;= 0.785</text>\n",
       "<text text-anchor=\"middle\" x=\"245.5\" y=\"-139.3\" font-family=\"futura\" font-size=\"14.00\">gini = 0.215</text>\n",
       "<text text-anchor=\"middle\" x=\"245.5\" y=\"-124.3\" font-family=\"futura\" font-size=\"14.00\">samples = 90</text>\n",
       "<text text-anchor=\"middle\" x=\"245.5\" y=\"-109.3\" font-family=\"futura\" font-size=\"14.00\">value = [79, 11]</text>\n",
       "<text text-anchor=\"middle\" x=\"245.5\" y=\"-94.3\" font-family=\"futura\" font-size=\"14.00\">class = mild</text>\n",
       "</g>\n",
       "<!-- 0&#45;&gt;8 -->\n",
       "<g id=\"edge8\" class=\"edge\">\n",
       "<title>0&#45;&gt;8</title>\n",
       "<path fill=\"none\" stroke=\"black\" d=\"M140.07,-174.95C150.13,-170.43 160.51,-165.76 170.66,-161.2\"/>\n",
       "<polygon fill=\"black\" stroke=\"black\" points=\"172.21,-164.34 179.9,-157.04 169.34,-157.95 172.21,-164.34\"/>\n",
       "<text text-anchor=\"middle\" x=\"156.52\" y=\"-144.47\" font-family=\"futura\" font-size=\"14.00\">False</text>\n",
       "</g>\n",
       "<!-- 2 -->\n",
       "<g id=\"node3\" class=\"node\">\n",
       "<title>2</title>\n",
       "<path fill=\"#baddf6\" stroke=\"black\" d=\"M478,-427.5C478,-427.5 363,-427.5 363,-427.5 357,-427.5 351,-421.5 351,-415.5 351,-415.5 351,-356.5 351,-356.5 351,-350.5 357,-344.5 363,-344.5 363,-344.5 478,-344.5 478,-344.5 484,-344.5 490,-350.5 490,-356.5 490,-356.5 490,-415.5 490,-415.5 490,-421.5 484,-427.5 478,-427.5\"/>\n",
       "<text text-anchor=\"middle\" x=\"420.5\" y=\"-412.3\" font-family=\"futura\" font-size=\"14.00\">eTIV &lt;= 1.064</text>\n",
       "<text text-anchor=\"middle\" x=\"420.5\" y=\"-397.3\" font-family=\"futura\" font-size=\"14.00\">gini = 0.478</text>\n",
       "<text text-anchor=\"middle\" x=\"420.5\" y=\"-382.3\" font-family=\"futura\" font-size=\"14.00\">samples = 66</text>\n",
       "<text text-anchor=\"middle\" x=\"420.5\" y=\"-367.3\" font-family=\"futura\" font-size=\"14.00\">value = [26, 40]</text>\n",
       "<text text-anchor=\"middle\" x=\"420.5\" y=\"-352.3\" font-family=\"futura\" font-size=\"14.00\">class = moderate</text>\n",
       "</g>\n",
       "<!-- 1&#45;&gt;2 -->\n",
       "<g id=\"edge2\" class=\"edge\">\n",
       "<title>1&#45;&gt;2</title>\n",
       "<path fill=\"none\" stroke=\"black\" d=\"M302.19,-298.53C319.08,-311.12 337.78,-325.06 355.19,-338.04\"/>\n",
       "<polygon fill=\"black\" stroke=\"black\" points=\"353.51,-341.16 363.62,-344.33 357.69,-335.55 353.51,-341.16\"/>\n",
       "</g>\n",
       "<!-- 5 -->\n",
       "<g id=\"node6\" class=\"node\">\n",
       "<title>5</title>\n",
       "<path fill=\"#f3c5a4\" stroke=\"black\" d=\"M474,-298.5C474,-298.5 367,-298.5 367,-298.5 361,-298.5 355,-292.5 355,-286.5 355,-286.5 355,-227.5 355,-227.5 355,-221.5 361,-215.5 367,-215.5 367,-215.5 474,-215.5 474,-215.5 480,-215.5 486,-221.5 486,-227.5 486,-227.5 486,-286.5 486,-286.5 486,-292.5 480,-298.5 474,-298.5\"/>\n",
       "<text text-anchor=\"middle\" x=\"420.5\" y=\"-283.3\" font-family=\"futura\" font-size=\"14.00\">nWBV &lt;= 0.764</text>\n",
       "<text text-anchor=\"middle\" x=\"420.5\" y=\"-268.3\" font-family=\"futura\" font-size=\"14.00\">gini = 0.455</text>\n",
       "<text text-anchor=\"middle\" x=\"420.5\" y=\"-253.3\" font-family=\"futura\" font-size=\"14.00\">samples = 20</text>\n",
       "<text text-anchor=\"middle\" x=\"420.5\" y=\"-238.3\" font-family=\"futura\" font-size=\"14.00\">value = [13, 7]</text>\n",
       "<text text-anchor=\"middle\" x=\"420.5\" y=\"-223.3\" font-family=\"futura\" font-size=\"14.00\">class = mild</text>\n",
       "</g>\n",
       "<!-- 1&#45;&gt;5 -->\n",
       "<g id=\"edge5\" class=\"edge\">\n",
       "<title>1&#45;&gt;5</title>\n",
       "<path fill=\"none\" stroke=\"black\" d=\"M315.37,-257C325.02,-257 334.98,-257 344.73,-257\"/>\n",
       "<polygon fill=\"black\" stroke=\"black\" points=\"344.8,-260.5 354.8,-257 344.8,-253.5 344.8,-260.5\"/>\n",
       "</g>\n",
       "<!-- 3 -->\n",
       "<g id=\"node4\" class=\"node\">\n",
       "<title>3</title>\n",
       "<path fill=\"#dfeffb\" stroke=\"black\" d=\"M653,-506C653,-506 538,-506 538,-506 532,-506 526,-500 526,-494 526,-494 526,-450 526,-450 526,-444 532,-438 538,-438 538,-438 653,-438 653,-438 659,-438 665,-444 665,-450 665,-450 665,-494 665,-494 665,-500 659,-506 653,-506\"/>\n",
       "<text text-anchor=\"middle\" x=\"595.5\" y=\"-490.8\" font-family=\"futura\" font-size=\"14.00\">gini = 0.496</text>\n",
       "<text text-anchor=\"middle\" x=\"595.5\" y=\"-475.8\" font-family=\"futura\" font-size=\"14.00\">samples = 57</text>\n",
       "<text text-anchor=\"middle\" x=\"595.5\" y=\"-460.8\" font-family=\"futura\" font-size=\"14.00\">value = [26, 31]</text>\n",
       "<text text-anchor=\"middle\" x=\"595.5\" y=\"-445.8\" font-family=\"futura\" font-size=\"14.00\">class = moderate</text>\n",
       "</g>\n",
       "<!-- 2&#45;&gt;3 -->\n",
       "<g id=\"edge3\" class=\"edge\">\n",
       "<title>2&#45;&gt;3</title>\n",
       "<path fill=\"none\" stroke=\"black\" d=\"M490.37,-420.24C499.04,-424.55 507.96,-428.98 516.76,-433.35\"/>\n",
       "<polygon fill=\"black\" stroke=\"black\" points=\"515.35,-436.56 525.87,-437.88 518.47,-430.3 515.35,-436.56\"/>\n",
       "</g>\n",
       "<!-- 4 -->\n",
       "<g id=\"node5\" class=\"node\">\n",
       "<title>4</title>\n",
       "<path fill=\"#399de5\" stroke=\"black\" d=\"M653,-420C653,-420 538,-420 538,-420 532,-420 526,-414 526,-408 526,-408 526,-364 526,-364 526,-358 532,-352 538,-352 538,-352 653,-352 653,-352 659,-352 665,-358 665,-364 665,-364 665,-408 665,-408 665,-414 659,-420 653,-420\"/>\n",
       "<text text-anchor=\"middle\" x=\"595.5\" y=\"-404.8\" font-family=\"futura\" font-size=\"14.00\">gini = 0.0</text>\n",
       "<text text-anchor=\"middle\" x=\"595.5\" y=\"-389.8\" font-family=\"futura\" font-size=\"14.00\">samples = 9</text>\n",
       "<text text-anchor=\"middle\" x=\"595.5\" y=\"-374.8\" font-family=\"futura\" font-size=\"14.00\">value = [0, 9]</text>\n",
       "<text text-anchor=\"middle\" x=\"595.5\" y=\"-359.8\" font-family=\"futura\" font-size=\"14.00\">class = moderate</text>\n",
       "</g>\n",
       "<!-- 2&#45;&gt;4 -->\n",
       "<g id=\"edge4\" class=\"edge\">\n",
       "<title>2&#45;&gt;4</title>\n",
       "<path fill=\"none\" stroke=\"black\" d=\"M490.37,-386C498.68,-386 507.21,-386 515.65,-386\"/>\n",
       "<polygon fill=\"black\" stroke=\"black\" points=\"515.87,-389.5 525.87,-386 515.87,-382.5 515.87,-389.5\"/>\n",
       "</g>\n",
       "<!-- 6 -->\n",
       "<g id=\"node7\" class=\"node\">\n",
       "<title>6</title>\n",
       "<path fill=\"#e58139\" stroke=\"black\" d=\"M640,-334C640,-334 551,-334 551,-334 545,-334 539,-328 539,-322 539,-322 539,-278 539,-278 539,-272 545,-266 551,-266 551,-266 640,-266 640,-266 646,-266 652,-272 652,-278 652,-278 652,-322 652,-322 652,-328 646,-334 640,-334\"/>\n",
       "<text text-anchor=\"middle\" x=\"595.5\" y=\"-318.8\" font-family=\"futura\" font-size=\"14.00\">gini = 0.0</text>\n",
       "<text text-anchor=\"middle\" x=\"595.5\" y=\"-303.8\" font-family=\"futura\" font-size=\"14.00\">samples = 6</text>\n",
       "<text text-anchor=\"middle\" x=\"595.5\" y=\"-288.8\" font-family=\"futura\" font-size=\"14.00\">value = [6, 0]</text>\n",
       "<text text-anchor=\"middle\" x=\"595.5\" y=\"-273.8\" font-family=\"futura\" font-size=\"14.00\">class = mild</text>\n",
       "</g>\n",
       "<!-- 5&#45;&gt;6 -->\n",
       "<g id=\"edge6\" class=\"edge\">\n",
       "<title>5&#45;&gt;6</title>\n",
       "<path fill=\"none\" stroke=\"black\" d=\"M486.41,-273.13C500.3,-276.59 514.98,-280.23 528.89,-283.69\"/>\n",
       "<polygon fill=\"black\" stroke=\"black\" points=\"528.32,-287.16 538.87,-286.17 530,-280.36 528.32,-287.16\"/>\n",
       "</g>\n",
       "<!-- 7 -->\n",
       "<g id=\"node8\" class=\"node\">\n",
       "<title>7</title>\n",
       "<path fill=\"#ffffff\" stroke=\"black\" d=\"M640,-248C640,-248 551,-248 551,-248 545,-248 539,-242 539,-236 539,-236 539,-192 539,-192 539,-186 545,-180 551,-180 551,-180 640,-180 640,-180 646,-180 652,-186 652,-192 652,-192 652,-236 652,-236 652,-242 646,-248 640,-248\"/>\n",
       "<text text-anchor=\"middle\" x=\"595.5\" y=\"-232.8\" font-family=\"futura\" font-size=\"14.00\">gini = 0.5</text>\n",
       "<text text-anchor=\"middle\" x=\"595.5\" y=\"-217.8\" font-family=\"futura\" font-size=\"14.00\">samples = 14</text>\n",
       "<text text-anchor=\"middle\" x=\"595.5\" y=\"-202.8\" font-family=\"futura\" font-size=\"14.00\">value = [7, 7]</text>\n",
       "<text text-anchor=\"middle\" x=\"595.5\" y=\"-187.8\" font-family=\"futura\" font-size=\"14.00\">class = mild</text>\n",
       "</g>\n",
       "<!-- 5&#45;&gt;7 -->\n",
       "<g id=\"edge7\" class=\"edge\">\n",
       "<title>5&#45;&gt;7</title>\n",
       "<path fill=\"none\" stroke=\"black\" d=\"M486.41,-240.87C500.3,-237.41 514.98,-233.77 528.89,-230.31\"/>\n",
       "<polygon fill=\"black\" stroke=\"black\" points=\"530,-233.64 538.87,-227.83 528.32,-226.84 530,-233.64\"/>\n",
       "</g>\n",
       "<!-- 9 -->\n",
       "<g id=\"node10\" class=\"node\">\n",
       "<title>9</title>\n",
       "<path fill=\"#eca36e\" stroke=\"black\" d=\"M474,-169.5C474,-169.5 367,-169.5 367,-169.5 361,-169.5 355,-163.5 355,-157.5 355,-157.5 355,-98.5 355,-98.5 355,-92.5 361,-86.5 367,-86.5 367,-86.5 474,-86.5 474,-86.5 480,-86.5 486,-92.5 486,-98.5 486,-98.5 486,-157.5 486,-157.5 486,-163.5 480,-169.5 474,-169.5\"/>\n",
       "<text text-anchor=\"middle\" x=\"420.5\" y=\"-154.3\" font-family=\"futura\" font-size=\"14.00\">ASF &lt;= 0.956</text>\n",
       "<text text-anchor=\"middle\" x=\"420.5\" y=\"-139.3\" font-family=\"futura\" font-size=\"14.00\">gini = 0.334</text>\n",
       "<text text-anchor=\"middle\" x=\"420.5\" y=\"-124.3\" font-family=\"futura\" font-size=\"14.00\">samples = 52</text>\n",
       "<text text-anchor=\"middle\" x=\"420.5\" y=\"-109.3\" font-family=\"futura\" font-size=\"14.00\">value = [41, 11]</text>\n",
       "<text text-anchor=\"middle\" x=\"420.5\" y=\"-94.3\" font-family=\"futura\" font-size=\"14.00\">class = mild</text>\n",
       "</g>\n",
       "<!-- 8&#45;&gt;9 -->\n",
       "<g id=\"edge9\" class=\"edge\">\n",
       "<title>8&#45;&gt;9</title>\n",
       "<path fill=\"none\" stroke=\"black\" d=\"M311.41,-128C322.28,-128 333.62,-128 344.71,-128\"/>\n",
       "<polygon fill=\"black\" stroke=\"black\" points=\"344.8,-131.5 354.8,-128 344.8,-124.5 344.8,-131.5\"/>\n",
       "</g>\n",
       "<!-- 12 -->\n",
       "<g id=\"node13\" class=\"node\">\n",
       "<title>12</title>\n",
       "<path fill=\"#e58139\" stroke=\"black\" d=\"M469.5,-68C469.5,-68 371.5,-68 371.5,-68 365.5,-68 359.5,-62 359.5,-56 359.5,-56 359.5,-12 359.5,-12 359.5,-6 365.5,0 371.5,0 371.5,0 469.5,0 469.5,0 475.5,0 481.5,-6 481.5,-12 481.5,-12 481.5,-56 481.5,-56 481.5,-62 475.5,-68 469.5,-68\"/>\n",
       "<text text-anchor=\"middle\" x=\"420.5\" y=\"-52.8\" font-family=\"futura\" font-size=\"14.00\">gini = 0.0</text>\n",
       "<text text-anchor=\"middle\" x=\"420.5\" y=\"-37.8\" font-family=\"futura\" font-size=\"14.00\">samples = 38</text>\n",
       "<text text-anchor=\"middle\" x=\"420.5\" y=\"-22.8\" font-family=\"futura\" font-size=\"14.00\">value = [38, 0]</text>\n",
       "<text text-anchor=\"middle\" x=\"420.5\" y=\"-7.8\" font-family=\"futura\" font-size=\"14.00\">class = mild</text>\n",
       "</g>\n",
       "<!-- 8&#45;&gt;12 -->\n",
       "<g id=\"edge12\" class=\"edge\">\n",
       "<title>8&#45;&gt;12</title>\n",
       "<path fill=\"none\" stroke=\"black\" d=\"M311.41,-92.73C324.19,-85.79 337.63,-78.48 350.54,-71.47\"/>\n",
       "<polygon fill=\"black\" stroke=\"black\" points=\"352.25,-74.52 359.37,-66.67 348.91,-68.37 352.25,-74.52\"/>\n",
       "</g>\n",
       "<!-- 10 -->\n",
       "<g id=\"node11\" class=\"node\">\n",
       "<title>10</title>\n",
       "<path fill=\"#399de5\" stroke=\"black\" d=\"M653,-162C653,-162 538,-162 538,-162 532,-162 526,-156 526,-150 526,-150 526,-106 526,-106 526,-100 532,-94 538,-94 538,-94 653,-94 653,-94 659,-94 665,-100 665,-106 665,-106 665,-150 665,-150 665,-156 659,-162 653,-162\"/>\n",
       "<text text-anchor=\"middle\" x=\"595.5\" y=\"-146.8\" font-family=\"futura\" font-size=\"14.00\">gini = 0.0</text>\n",
       "<text text-anchor=\"middle\" x=\"595.5\" y=\"-131.8\" font-family=\"futura\" font-size=\"14.00\">samples = 1</text>\n",
       "<text text-anchor=\"middle\" x=\"595.5\" y=\"-116.8\" font-family=\"futura\" font-size=\"14.00\">value = [0, 1]</text>\n",
       "<text text-anchor=\"middle\" x=\"595.5\" y=\"-101.8\" font-family=\"futura\" font-size=\"14.00\">class = moderate</text>\n",
       "</g>\n",
       "<!-- 9&#45;&gt;10 -->\n",
       "<g id=\"edge10\" class=\"edge\">\n",
       "<title>9&#45;&gt;10</title>\n",
       "<path fill=\"none\" stroke=\"black\" d=\"M486.41,-128C495.95,-128 505.86,-128 515.63,-128\"/>\n",
       "<polygon fill=\"black\" stroke=\"black\" points=\"515.76,-131.5 525.75,-128 515.75,-124.5 515.76,-131.5\"/>\n",
       "</g>\n",
       "<!-- 11 -->\n",
       "<g id=\"node12\" class=\"node\">\n",
       "<title>11</title>\n",
       "<path fill=\"#eba069\" stroke=\"black\" d=\"M649,-76C649,-76 542,-76 542,-76 536,-76 530,-70 530,-64 530,-64 530,-20 530,-20 530,-14 536,-8 542,-8 542,-8 649,-8 649,-8 655,-8 661,-14 661,-20 661,-20 661,-64 661,-64 661,-70 655,-76 649,-76\"/>\n",
       "<text text-anchor=\"middle\" x=\"595.5\" y=\"-60.8\" font-family=\"futura\" font-size=\"14.00\">gini = 0.315</text>\n",
       "<text text-anchor=\"middle\" x=\"595.5\" y=\"-45.8\" font-family=\"futura\" font-size=\"14.00\">samples = 51</text>\n",
       "<text text-anchor=\"middle\" x=\"595.5\" y=\"-30.8\" font-family=\"futura\" font-size=\"14.00\">value = [41, 10]</text>\n",
       "<text text-anchor=\"middle\" x=\"595.5\" y=\"-15.8\" font-family=\"futura\" font-size=\"14.00\">class = mild</text>\n",
       "</g>\n",
       "<!-- 9&#45;&gt;11 -->\n",
       "<g id=\"edge11\" class=\"edge\">\n",
       "<title>9&#45;&gt;11</title>\n",
       "<path fill=\"none\" stroke=\"black\" d=\"M486.41,-95.73C497.61,-90.17 509.32,-84.34 520.73,-78.67\"/>\n",
       "<polygon fill=\"black\" stroke=\"black\" points=\"522.4,-81.75 529.8,-74.16 519.29,-75.48 522.4,-81.75\"/>\n",
       "</g>\n",
       "</g>\n",
       "</svg>\n"
      ],
      "text/plain": [
       "<graphviz.sources.Source at 0x7f38b1e04ac0>"
      ]
     },
     "metadata": {},
     "output_type": "display_data"
    }
   ],
   "source": [
    "# Export model graph\n",
    "export_graphviz(tree_clf, out_file=\"oasis1_tree.dot\", \n",
    "                feature_names=X_scaled_test.columns,\n",
    "                class_names=['mild', 'moderate'], \n",
    "                rounded=True, filled=True, rotate = True, fontname = 'futura')\n",
    "\n",
    "# Import model graph\n",
    "with open(\"oasis1_tree.dot\") as f:\n",
    "    dot_graph = f.read()\n",
    "    display(graphviz.Source(dot_graph))"
   ]
  },
  {
   "cell_type": "code",
   "execution_count": 31,
   "id": "cd4b1971",
   "metadata": {},
   "outputs": [],
   "source": [
    "# Grid Searching"
   ]
  }
 ],
 "metadata": {
  "kernelspec": {
   "display_name": "Python 3 (ipykernel)",
   "language": "python",
   "name": "python3"
  },
  "language_info": {
   "codemirror_mode": {
    "name": "ipython",
    "version": 3
   },
   "file_extension": ".py",
   "mimetype": "text/x-python",
   "name": "python",
   "nbconvert_exporter": "python",
   "pygments_lexer": "ipython3",
   "version": "3.8.12"
  },
  "toc": {
   "base_numbering": 1,
   "nav_menu": {},
   "number_sections": true,
   "sideBar": true,
   "skip_h1_title": false,
   "title_cell": "Table of Contents",
   "title_sidebar": "Contents",
   "toc_cell": false,
   "toc_position": {},
   "toc_section_display": true,
   "toc_window_display": false
  }
 },
 "nbformat": 4,
 "nbformat_minor": 5
}
