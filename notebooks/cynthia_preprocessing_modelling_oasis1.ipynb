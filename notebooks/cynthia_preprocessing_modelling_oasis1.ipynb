{
 "cells": [
  {
   "cell_type": "markdown",
   "id": "268b002b",
   "metadata": {},
   "source": [
    "# Preprocessing OASIS1"
   ]
  },
  {
   "cell_type": "code",
   "execution_count": 1,
   "id": "c1b2a9f2",
   "metadata": {},
   "outputs": [
    {
     "name": "stderr",
     "output_type": "stream",
     "text": [
      "/home/cynthias13w/.pyenv/versions/3.8.12/envs/memobrain/lib/python3.8/site-packages/xgboost/compat.py:36: FutureWarning: pandas.Int64Index is deprecated and will be removed from pandas in a future version. Use pandas.Index with the appropriate dtype instead.\n",
      "  from pandas import MultiIndex, Int64Index\n"
     ]
    }
   ],
   "source": [
    "# IMPORTS\n",
    "# DATA MANIPULATION\n",
    "import pandas as pd\n",
    "import numpy as np\n",
    "\n",
    "# DATA VISUALISATION\n",
    "import matplotlib.pyplot as plt\n",
    "import seaborn as sns\n",
    "sns.set()\n",
    "from sklearn import set_config; set_config(display='diagram') # Visualize pipelines in HTML\n",
    "import graphviz\n",
    "from sklearn.tree import export_graphviz\n",
    "from sklearn import tree\n",
    "\n",
    "# MACHINE LEARNING\n",
    "from sklearn.preprocessing import StandardScaler, RobustScaler, MinMaxScaler\n",
    "from sklearn.preprocessing import OneHotEncoder, LabelEncoder, FunctionTransformer\n",
    "from sklearn.pipeline import Pipeline\n",
    "from sklearn.compose import ColumnTransformer\n",
    "from sklearn.model_selection import train_test_split, GridSearchCV, RandomizedSearchCV\n",
    "from sklearn.tree import DecisionTreeRegressor, DecisionTreeClassifier\n",
    "from sklearn.ensemble import RandomForestClassifier, AdaBoostClassifier\n",
    "from sklearn.neighbors import KNeighborsClassifier\n",
    "from sklearn.metrics import recall_score, accuracy_score, precision_score, confusion_matrix, ConfusionMatrixDisplay\n",
    "from sklearn.svm import SVC\n",
    "from sklearn.impute import SimpleImputer\n",
    "from sklearn.base import BaseEstimator, TransformerMixin\n",
    "import xgboost as xgb"
   ]
  },
  {
   "cell_type": "code",
   "execution_count": 2,
   "id": "3c4d731d",
   "metadata": {},
   "outputs": [],
   "source": [
    "# Importing Data\n",
    "oasis1_cs_path = '../raw_data/OASIS1/oasis_cross-sectional.csv'\n",
    "oasis1 = pd.read_csv(oasis1_cs_path)"
   ]
  },
  {
   "cell_type": "code",
   "execution_count": 3,
   "id": "3a526545",
   "metadata": {},
   "outputs": [
    {
     "data": {
      "text/plain": [
       "(436, 12)"
      ]
     },
     "execution_count": 3,
     "metadata": {},
     "output_type": "execute_result"
    }
   ],
   "source": [
    "# Checking shape\n",
    "oasis1.shape"
   ]
  },
  {
   "cell_type": "markdown",
   "id": "9eabf809",
   "metadata": {},
   "source": [
    "📜 <big> Note: </big>\n",
    "\n",
    "\n",
    "* **`CDR`**  Clinical Dementia Rating \n",
    "    * 0= nondemented;\n",
    "    * 0.5 – very mild dementia;\n",
    "    * 1 = mild dementia;\n",
    "    * 2 = moderate dementia\n",
    "\n",
    "* **`eTIV`** Estimated total intracranial volume (eTIV)\n",
    "\n",
    "* **`nWBV`** Normalized whole brain volume\n",
    "\n",
    "* **`ASF`** Atlas scaling factor"
   ]
  },
  {
   "cell_type": "code",
   "execution_count": 4,
   "id": "c1cc74a3",
   "metadata": {},
   "outputs": [
    {
     "data": {
      "text/html": [
       "<div>\n",
       "<style scoped>\n",
       "    .dataframe tbody tr th:only-of-type {\n",
       "        vertical-align: middle;\n",
       "    }\n",
       "\n",
       "    .dataframe tbody tr th {\n",
       "        vertical-align: top;\n",
       "    }\n",
       "\n",
       "    .dataframe thead th {\n",
       "        text-align: right;\n",
       "    }\n",
       "</style>\n",
       "<table border=\"1\" class=\"dataframe\">\n",
       "  <thead>\n",
       "    <tr style=\"text-align: right;\">\n",
       "      <th></th>\n",
       "      <th>ID</th>\n",
       "      <th>M/F</th>\n",
       "      <th>Hand</th>\n",
       "      <th>Age</th>\n",
       "      <th>Educ</th>\n",
       "      <th>SES</th>\n",
       "      <th>MMSE</th>\n",
       "      <th>CDR</th>\n",
       "      <th>eTIV</th>\n",
       "      <th>nWBV</th>\n",
       "      <th>ASF</th>\n",
       "      <th>Delay</th>\n",
       "    </tr>\n",
       "  </thead>\n",
       "  <tbody>\n",
       "    <tr>\n",
       "      <th>37</th>\n",
       "      <td>OAS1_0041_MR1</td>\n",
       "      <td>F</td>\n",
       "      <td>R</td>\n",
       "      <td>62</td>\n",
       "      <td>2.0</td>\n",
       "      <td>NaN</td>\n",
       "      <td>28.0</td>\n",
       "      <td>0.5</td>\n",
       "      <td>1350</td>\n",
       "      <td>0.758</td>\n",
       "      <td>1.300</td>\n",
       "      <td>NaN</td>\n",
       "    </tr>\n",
       "    <tr>\n",
       "      <th>76</th>\n",
       "      <td>OAS1_0081_MR1</td>\n",
       "      <td>F</td>\n",
       "      <td>R</td>\n",
       "      <td>18</td>\n",
       "      <td>NaN</td>\n",
       "      <td>NaN</td>\n",
       "      <td>NaN</td>\n",
       "      <td>NaN</td>\n",
       "      <td>1309</td>\n",
       "      <td>0.857</td>\n",
       "      <td>1.341</td>\n",
       "      <td>NaN</td>\n",
       "    </tr>\n",
       "    <tr>\n",
       "      <th>326</th>\n",
       "      <td>OAS1_0361_MR1</td>\n",
       "      <td>M</td>\n",
       "      <td>R</td>\n",
       "      <td>20</td>\n",
       "      <td>NaN</td>\n",
       "      <td>NaN</td>\n",
       "      <td>NaN</td>\n",
       "      <td>NaN</td>\n",
       "      <td>1485</td>\n",
       "      <td>0.842</td>\n",
       "      <td>1.182</td>\n",
       "      <td>NaN</td>\n",
       "    </tr>\n",
       "    <tr>\n",
       "      <th>203</th>\n",
       "      <td>OAS1_0223_MR1</td>\n",
       "      <td>M</td>\n",
       "      <td>R</td>\n",
       "      <td>84</td>\n",
       "      <td>2.0</td>\n",
       "      <td>NaN</td>\n",
       "      <td>20.0</td>\n",
       "      <td>1.0</td>\n",
       "      <td>1641</td>\n",
       "      <td>0.703</td>\n",
       "      <td>1.070</td>\n",
       "      <td>NaN</td>\n",
       "    </tr>\n",
       "    <tr>\n",
       "      <th>4</th>\n",
       "      <td>OAS1_0005_MR1</td>\n",
       "      <td>M</td>\n",
       "      <td>R</td>\n",
       "      <td>18</td>\n",
       "      <td>NaN</td>\n",
       "      <td>NaN</td>\n",
       "      <td>NaN</td>\n",
       "      <td>NaN</td>\n",
       "      <td>1737</td>\n",
       "      <td>0.848</td>\n",
       "      <td>1.010</td>\n",
       "      <td>NaN</td>\n",
       "    </tr>\n",
       "    <tr>\n",
       "      <th>353</th>\n",
       "      <td>OAS1_0389_MR1</td>\n",
       "      <td>M</td>\n",
       "      <td>R</td>\n",
       "      <td>55</td>\n",
       "      <td>NaN</td>\n",
       "      <td>NaN</td>\n",
       "      <td>NaN</td>\n",
       "      <td>NaN</td>\n",
       "      <td>1678</td>\n",
       "      <td>0.782</td>\n",
       "      <td>1.046</td>\n",
       "      <td>NaN</td>\n",
       "    </tr>\n",
       "    <tr>\n",
       "      <th>364</th>\n",
       "      <td>OAS1_0402_MR1</td>\n",
       "      <td>F</td>\n",
       "      <td>R</td>\n",
       "      <td>76</td>\n",
       "      <td>3.0</td>\n",
       "      <td>2.0</td>\n",
       "      <td>30.0</td>\n",
       "      <td>0.5</td>\n",
       "      <td>1350</td>\n",
       "      <td>0.763</td>\n",
       "      <td>1.300</td>\n",
       "      <td>NaN</td>\n",
       "    </tr>\n",
       "    <tr>\n",
       "      <th>340</th>\n",
       "      <td>OAS1_0376_MR1</td>\n",
       "      <td>M</td>\n",
       "      <td>R</td>\n",
       "      <td>31</td>\n",
       "      <td>NaN</td>\n",
       "      <td>NaN</td>\n",
       "      <td>NaN</td>\n",
       "      <td>NaN</td>\n",
       "      <td>1579</td>\n",
       "      <td>0.817</td>\n",
       "      <td>1.111</td>\n",
       "      <td>NaN</td>\n",
       "    </tr>\n",
       "    <tr>\n",
       "      <th>244</th>\n",
       "      <td>OAS1_0271_MR1</td>\n",
       "      <td>F</td>\n",
       "      <td>R</td>\n",
       "      <td>89</td>\n",
       "      <td>2.0</td>\n",
       "      <td>4.0</td>\n",
       "      <td>27.0</td>\n",
       "      <td>0.0</td>\n",
       "      <td>1329</td>\n",
       "      <td>0.740</td>\n",
       "      <td>1.320</td>\n",
       "      <td>NaN</td>\n",
       "    </tr>\n",
       "    <tr>\n",
       "      <th>249</th>\n",
       "      <td>OAS1_0277_MR1</td>\n",
       "      <td>M</td>\n",
       "      <td>R</td>\n",
       "      <td>22</td>\n",
       "      <td>NaN</td>\n",
       "      <td>NaN</td>\n",
       "      <td>NaN</td>\n",
       "      <td>NaN</td>\n",
       "      <td>1913</td>\n",
       "      <td>0.841</td>\n",
       "      <td>0.917</td>\n",
       "      <td>NaN</td>\n",
       "    </tr>\n",
       "    <tr>\n",
       "      <th>200</th>\n",
       "      <td>OAS1_0220_MR1</td>\n",
       "      <td>F</td>\n",
       "      <td>R</td>\n",
       "      <td>75</td>\n",
       "      <td>5.0</td>\n",
       "      <td>1.0</td>\n",
       "      <td>30.0</td>\n",
       "      <td>0.0</td>\n",
       "      <td>1317</td>\n",
       "      <td>0.742</td>\n",
       "      <td>1.332</td>\n",
       "      <td>NaN</td>\n",
       "    </tr>\n",
       "    <tr>\n",
       "      <th>366</th>\n",
       "      <td>OAS1_0404_MR1</td>\n",
       "      <td>F</td>\n",
       "      <td>R</td>\n",
       "      <td>73</td>\n",
       "      <td>2.0</td>\n",
       "      <td>2.0</td>\n",
       "      <td>29.0</td>\n",
       "      <td>0.0</td>\n",
       "      <td>1465</td>\n",
       "      <td>0.776</td>\n",
       "      <td>1.198</td>\n",
       "      <td>NaN</td>\n",
       "    </tr>\n",
       "    <tr>\n",
       "      <th>253</th>\n",
       "      <td>OAS1_0281_MR1</td>\n",
       "      <td>M</td>\n",
       "      <td>R</td>\n",
       "      <td>28</td>\n",
       "      <td>NaN</td>\n",
       "      <td>NaN</td>\n",
       "      <td>NaN</td>\n",
       "      <td>NaN</td>\n",
       "      <td>1538</td>\n",
       "      <td>0.835</td>\n",
       "      <td>1.141</td>\n",
       "      <td>NaN</td>\n",
       "    </tr>\n",
       "    <tr>\n",
       "      <th>317</th>\n",
       "      <td>OAS1_0351_MR1</td>\n",
       "      <td>M</td>\n",
       "      <td>R</td>\n",
       "      <td>86</td>\n",
       "      <td>1.0</td>\n",
       "      <td>4.0</td>\n",
       "      <td>15.0</td>\n",
       "      <td>2.0</td>\n",
       "      <td>1512</td>\n",
       "      <td>0.665</td>\n",
       "      <td>1.161</td>\n",
       "      <td>NaN</td>\n",
       "    </tr>\n",
       "    <tr>\n",
       "      <th>390</th>\n",
       "      <td>OAS1_0431_MR1</td>\n",
       "      <td>F</td>\n",
       "      <td>R</td>\n",
       "      <td>22</td>\n",
       "      <td>NaN</td>\n",
       "      <td>NaN</td>\n",
       "      <td>NaN</td>\n",
       "      <td>NaN</td>\n",
       "      <td>1405</td>\n",
       "      <td>0.822</td>\n",
       "      <td>1.249</td>\n",
       "      <td>NaN</td>\n",
       "    </tr>\n",
       "    <tr>\n",
       "      <th>425</th>\n",
       "      <td>OAS1_0191_MR2</td>\n",
       "      <td>F</td>\n",
       "      <td>R</td>\n",
       "      <td>21</td>\n",
       "      <td>NaN</td>\n",
       "      <td>NaN</td>\n",
       "      <td>NaN</td>\n",
       "      <td>NaN</td>\n",
       "      <td>1416</td>\n",
       "      <td>0.837</td>\n",
       "      <td>1.239</td>\n",
       "      <td>28.0</td>\n",
       "    </tr>\n",
       "    <tr>\n",
       "      <th>213</th>\n",
       "      <td>OAS1_0234_MR1</td>\n",
       "      <td>M</td>\n",
       "      <td>R</td>\n",
       "      <td>75</td>\n",
       "      <td>5.0</td>\n",
       "      <td>2.0</td>\n",
       "      <td>29.0</td>\n",
       "      <td>0.0</td>\n",
       "      <td>1534</td>\n",
       "      <td>0.771</td>\n",
       "      <td>1.144</td>\n",
       "      <td>NaN</td>\n",
       "    </tr>\n",
       "    <tr>\n",
       "      <th>399</th>\n",
       "      <td>OAS1_0441_MR1</td>\n",
       "      <td>M</td>\n",
       "      <td>R</td>\n",
       "      <td>81</td>\n",
       "      <td>5.0</td>\n",
       "      <td>1.0</td>\n",
       "      <td>29.0</td>\n",
       "      <td>0.5</td>\n",
       "      <td>1647</td>\n",
       "      <td>0.721</td>\n",
       "      <td>1.066</td>\n",
       "      <td>NaN</td>\n",
       "    </tr>\n",
       "    <tr>\n",
       "      <th>404</th>\n",
       "      <td>OAS1_0446_MR1</td>\n",
       "      <td>F</td>\n",
       "      <td>R</td>\n",
       "      <td>80</td>\n",
       "      <td>2.0</td>\n",
       "      <td>4.0</td>\n",
       "      <td>30.0</td>\n",
       "      <td>0.0</td>\n",
       "      <td>1390</td>\n",
       "      <td>0.748</td>\n",
       "      <td>1.263</td>\n",
       "      <td>NaN</td>\n",
       "    </tr>\n",
       "    <tr>\n",
       "      <th>394</th>\n",
       "      <td>OAS1_0435_MR1</td>\n",
       "      <td>M</td>\n",
       "      <td>R</td>\n",
       "      <td>23</td>\n",
       "      <td>NaN</td>\n",
       "      <td>NaN</td>\n",
       "      <td>NaN</td>\n",
       "      <td>NaN</td>\n",
       "      <td>1766</td>\n",
       "      <td>0.820</td>\n",
       "      <td>0.994</td>\n",
       "      <td>NaN</td>\n",
       "    </tr>\n",
       "  </tbody>\n",
       "</table>\n",
       "</div>"
      ],
      "text/plain": [
       "                ID M/F Hand  Age  Educ  SES  MMSE  CDR  eTIV   nWBV    ASF  \\\n",
       "37   OAS1_0041_MR1   F    R   62   2.0  NaN  28.0  0.5  1350  0.758  1.300   \n",
       "76   OAS1_0081_MR1   F    R   18   NaN  NaN   NaN  NaN  1309  0.857  1.341   \n",
       "326  OAS1_0361_MR1   M    R   20   NaN  NaN   NaN  NaN  1485  0.842  1.182   \n",
       "203  OAS1_0223_MR1   M    R   84   2.0  NaN  20.0  1.0  1641  0.703  1.070   \n",
       "4    OAS1_0005_MR1   M    R   18   NaN  NaN   NaN  NaN  1737  0.848  1.010   \n",
       "353  OAS1_0389_MR1   M    R   55   NaN  NaN   NaN  NaN  1678  0.782  1.046   \n",
       "364  OAS1_0402_MR1   F    R   76   3.0  2.0  30.0  0.5  1350  0.763  1.300   \n",
       "340  OAS1_0376_MR1   M    R   31   NaN  NaN   NaN  NaN  1579  0.817  1.111   \n",
       "244  OAS1_0271_MR1   F    R   89   2.0  4.0  27.0  0.0  1329  0.740  1.320   \n",
       "249  OAS1_0277_MR1   M    R   22   NaN  NaN   NaN  NaN  1913  0.841  0.917   \n",
       "200  OAS1_0220_MR1   F    R   75   5.0  1.0  30.0  0.0  1317  0.742  1.332   \n",
       "366  OAS1_0404_MR1   F    R   73   2.0  2.0  29.0  0.0  1465  0.776  1.198   \n",
       "253  OAS1_0281_MR1   M    R   28   NaN  NaN   NaN  NaN  1538  0.835  1.141   \n",
       "317  OAS1_0351_MR1   M    R   86   1.0  4.0  15.0  2.0  1512  0.665  1.161   \n",
       "390  OAS1_0431_MR1   F    R   22   NaN  NaN   NaN  NaN  1405  0.822  1.249   \n",
       "425  OAS1_0191_MR2   F    R   21   NaN  NaN   NaN  NaN  1416  0.837  1.239   \n",
       "213  OAS1_0234_MR1   M    R   75   5.0  2.0  29.0  0.0  1534  0.771  1.144   \n",
       "399  OAS1_0441_MR1   M    R   81   5.0  1.0  29.0  0.5  1647  0.721  1.066   \n",
       "404  OAS1_0446_MR1   F    R   80   2.0  4.0  30.0  0.0  1390  0.748  1.263   \n",
       "394  OAS1_0435_MR1   M    R   23   NaN  NaN   NaN  NaN  1766  0.820  0.994   \n",
       "\n",
       "     Delay  \n",
       "37     NaN  \n",
       "76     NaN  \n",
       "326    NaN  \n",
       "203    NaN  \n",
       "4      NaN  \n",
       "353    NaN  \n",
       "364    NaN  \n",
       "340    NaN  \n",
       "244    NaN  \n",
       "249    NaN  \n",
       "200    NaN  \n",
       "366    NaN  \n",
       "253    NaN  \n",
       "317    NaN  \n",
       "390    NaN  \n",
       "425   28.0  \n",
       "213    NaN  \n",
       "399    NaN  \n",
       "404    NaN  \n",
       "394    NaN  "
      ]
     },
     "execution_count": 4,
     "metadata": {},
     "output_type": "execute_result"
    }
   ],
   "source": [
    "oasis1.sample(20)"
   ]
  },
  {
   "cell_type": "code",
   "execution_count": 5,
   "id": "895ea66f",
   "metadata": {},
   "outputs": [
    {
     "data": {
      "text/plain": [
       "ID         0\n",
       "M/F        0\n",
       "Hand       0\n",
       "Age        0\n",
       "Educ     201\n",
       "SES      220\n",
       "MMSE     201\n",
       "CDR      201\n",
       "eTIV       0\n",
       "nWBV       0\n",
       "ASF        0\n",
       "Delay    416\n",
       "dtype: int64"
      ]
     },
     "execution_count": 5,
     "metadata": {},
     "output_type": "execute_result"
    }
   ],
   "source": [
    "oasis1.isnull().sum()"
   ]
  },
  {
   "cell_type": "markdown",
   "id": "c5227931",
   "metadata": {},
   "source": [
    "## Data Cleaning"
   ]
  },
  {
   "cell_type": "markdown",
   "id": "6f5222a1",
   "metadata": {},
   "source": [
    "**We want to define a function that:**\n",
    "\n",
    "1. Drops rows that have no values for CDR (prediction)\n",
    "2. Fills empty values for socioeconomic status with a value\n",
    "3. Replaces Male with 1 and Female with 0\n",
    "4. Converts CDR from 4 unique values to 2 unique values so that we now have a binary classification problem\n",
    "5. Drops columns Delay and Handedness"
   ]
  },
  {
   "cell_type": "code",
   "execution_count": 6,
   "id": "1b518097",
   "metadata": {},
   "outputs": [],
   "source": [
    "def clean_data(df):\n",
    "    \"\"\"This function removes CDR rows containing NANs, \n",
    "    fills SES missing values with status 3,\n",
    "    and drops columns ID, Delay and Hand.\"\"\"\n",
    "    \n",
    "    # Imputing with the median value \n",
    "    df['SES'].fillna(value=3, inplace=True) \n",
    "    \n",
    "    # DROPPING ROWS WITHOUT TARGET\n",
    "    df.dropna(subset = [\"CDR\"], inplace = True)\n",
    "    \n",
    "    \n",
    "    # TARGET\n",
    "    df[\"CDR\"] = df[\"CDR\"].map({0:0, \n",
    "                               0.5:1, \n",
    "                               1:1, \n",
    "                               2:1})\n",
    "    \n",
    "    # DROPPING USELESS FEATURES\n",
    "    df.drop(['Delay', 'Hand', 'ID'], inplace = True, axis=1)\n",
    "\n",
    "    return df.reset_index(drop = True)"
   ]
  },
  {
   "cell_type": "code",
   "execution_count": 7,
   "id": "8ecaae80",
   "metadata": {},
   "outputs": [
    {
     "data": {
      "text/html": [
       "<div>\n",
       "<style scoped>\n",
       "    .dataframe tbody tr th:only-of-type {\n",
       "        vertical-align: middle;\n",
       "    }\n",
       "\n",
       "    .dataframe tbody tr th {\n",
       "        vertical-align: top;\n",
       "    }\n",
       "\n",
       "    .dataframe thead th {\n",
       "        text-align: right;\n",
       "    }\n",
       "</style>\n",
       "<table border=\"1\" class=\"dataframe\">\n",
       "  <thead>\n",
       "    <tr style=\"text-align: right;\">\n",
       "      <th></th>\n",
       "      <th>M/F</th>\n",
       "      <th>Age</th>\n",
       "      <th>Educ</th>\n",
       "      <th>SES</th>\n",
       "      <th>MMSE</th>\n",
       "      <th>CDR</th>\n",
       "      <th>eTIV</th>\n",
       "      <th>nWBV</th>\n",
       "      <th>ASF</th>\n",
       "    </tr>\n",
       "  </thead>\n",
       "  <tbody>\n",
       "    <tr>\n",
       "      <th>0</th>\n",
       "      <td>F</td>\n",
       "      <td>74</td>\n",
       "      <td>2.0</td>\n",
       "      <td>3.0</td>\n",
       "      <td>29.0</td>\n",
       "      <td>0</td>\n",
       "      <td>1344</td>\n",
       "      <td>0.743</td>\n",
       "      <td>1.306</td>\n",
       "    </tr>\n",
       "    <tr>\n",
       "      <th>1</th>\n",
       "      <td>F</td>\n",
       "      <td>55</td>\n",
       "      <td>4.0</td>\n",
       "      <td>1.0</td>\n",
       "      <td>29.0</td>\n",
       "      <td>0</td>\n",
       "      <td>1147</td>\n",
       "      <td>0.810</td>\n",
       "      <td>1.531</td>\n",
       "    </tr>\n",
       "    <tr>\n",
       "      <th>2</th>\n",
       "      <td>F</td>\n",
       "      <td>73</td>\n",
       "      <td>4.0</td>\n",
       "      <td>3.0</td>\n",
       "      <td>27.0</td>\n",
       "      <td>1</td>\n",
       "      <td>1454</td>\n",
       "      <td>0.708</td>\n",
       "      <td>1.207</td>\n",
       "    </tr>\n",
       "    <tr>\n",
       "      <th>3</th>\n",
       "      <td>M</td>\n",
       "      <td>74</td>\n",
       "      <td>5.0</td>\n",
       "      <td>2.0</td>\n",
       "      <td>30.0</td>\n",
       "      <td>0</td>\n",
       "      <td>1636</td>\n",
       "      <td>0.689</td>\n",
       "      <td>1.073</td>\n",
       "    </tr>\n",
       "    <tr>\n",
       "      <th>4</th>\n",
       "      <td>F</td>\n",
       "      <td>52</td>\n",
       "      <td>3.0</td>\n",
       "      <td>2.0</td>\n",
       "      <td>30.0</td>\n",
       "      <td>0</td>\n",
       "      <td>1321</td>\n",
       "      <td>0.827</td>\n",
       "      <td>1.329</td>\n",
       "    </tr>\n",
       "    <tr>\n",
       "      <th>...</th>\n",
       "      <td>...</td>\n",
       "      <td>...</td>\n",
       "      <td>...</td>\n",
       "      <td>...</td>\n",
       "      <td>...</td>\n",
       "      <td>...</td>\n",
       "      <td>...</td>\n",
       "      <td>...</td>\n",
       "      <td>...</td>\n",
       "    </tr>\n",
       "    <tr>\n",
       "      <th>230</th>\n",
       "      <td>F</td>\n",
       "      <td>70</td>\n",
       "      <td>1.0</td>\n",
       "      <td>4.0</td>\n",
       "      <td>29.0</td>\n",
       "      <td>1</td>\n",
       "      <td>1295</td>\n",
       "      <td>0.748</td>\n",
       "      <td>1.355</td>\n",
       "    </tr>\n",
       "    <tr>\n",
       "      <th>231</th>\n",
       "      <td>F</td>\n",
       "      <td>73</td>\n",
       "      <td>3.0</td>\n",
       "      <td>2.0</td>\n",
       "      <td>23.0</td>\n",
       "      <td>1</td>\n",
       "      <td>1536</td>\n",
       "      <td>0.730</td>\n",
       "      <td>1.142</td>\n",
       "    </tr>\n",
       "    <tr>\n",
       "      <th>232</th>\n",
       "      <td>F</td>\n",
       "      <td>61</td>\n",
       "      <td>2.0</td>\n",
       "      <td>4.0</td>\n",
       "      <td>28.0</td>\n",
       "      <td>0</td>\n",
       "      <td>1354</td>\n",
       "      <td>0.825</td>\n",
       "      <td>1.297</td>\n",
       "    </tr>\n",
       "    <tr>\n",
       "      <th>233</th>\n",
       "      <td>M</td>\n",
       "      <td>61</td>\n",
       "      <td>5.0</td>\n",
       "      <td>2.0</td>\n",
       "      <td>30.0</td>\n",
       "      <td>0</td>\n",
       "      <td>1637</td>\n",
       "      <td>0.780</td>\n",
       "      <td>1.072</td>\n",
       "    </tr>\n",
       "    <tr>\n",
       "      <th>234</th>\n",
       "      <td>F</td>\n",
       "      <td>62</td>\n",
       "      <td>3.0</td>\n",
       "      <td>3.0</td>\n",
       "      <td>26.0</td>\n",
       "      <td>0</td>\n",
       "      <td>1372</td>\n",
       "      <td>0.766</td>\n",
       "      <td>1.279</td>\n",
       "    </tr>\n",
       "  </tbody>\n",
       "</table>\n",
       "<p>235 rows × 9 columns</p>\n",
       "</div>"
      ],
      "text/plain": [
       "    M/F  Age  Educ  SES  MMSE  CDR  eTIV   nWBV    ASF\n",
       "0     F   74   2.0  3.0  29.0    0  1344  0.743  1.306\n",
       "1     F   55   4.0  1.0  29.0    0  1147  0.810  1.531\n",
       "2     F   73   4.0  3.0  27.0    1  1454  0.708  1.207\n",
       "3     M   74   5.0  2.0  30.0    0  1636  0.689  1.073\n",
       "4     F   52   3.0  2.0  30.0    0  1321  0.827  1.329\n",
       "..   ..  ...   ...  ...   ...  ...   ...    ...    ...\n",
       "230   F   70   1.0  4.0  29.0    1  1295  0.748  1.355\n",
       "231   F   73   3.0  2.0  23.0    1  1536  0.730  1.142\n",
       "232   F   61   2.0  4.0  28.0    0  1354  0.825  1.297\n",
       "233   M   61   5.0  2.0  30.0    0  1637  0.780  1.072\n",
       "234   F   62   3.0  3.0  26.0    0  1372  0.766  1.279\n",
       "\n",
       "[235 rows x 9 columns]"
      ]
     },
     "execution_count": 7,
     "metadata": {},
     "output_type": "execute_result"
    }
   ],
   "source": [
    "oasis1 = clean_data(oasis1)\n",
    "oasis1"
   ]
  },
  {
   "cell_type": "code",
   "execution_count": 9,
   "id": "3ba53665",
   "metadata": {},
   "outputs": [
    {
     "data": {
      "text/plain": [
       "0      74\n",
       "1      55\n",
       "2      73\n",
       "3      74\n",
       "4      52\n",
       "       ..\n",
       "230    70\n",
       "231    73\n",
       "232    61\n",
       "233    61\n",
       "234    62\n",
       "Name: Age, Length: 235, dtype: int64"
      ]
     },
     "execution_count": 9,
     "metadata": {},
     "output_type": "execute_result"
    }
   ],
   "source": [
    "oasis1.Age"
   ]
  },
  {
   "cell_type": "code",
   "execution_count": null,
   "id": "bcbb50ea",
   "metadata": {},
   "outputs": [],
   "source": [
    "stop"
   ]
  },
  {
   "cell_type": "markdown",
   "id": "4e5ff483",
   "metadata": {
    "heading_collapsed": true
   },
   "source": [
    "### Testing my code"
   ]
  },
  {
   "cell_type": "code",
   "execution_count": null,
   "id": "75430f7d",
   "metadata": {
    "hidden": true
   },
   "outputs": [],
   "source": [
    "# Check shape again\n",
    "oasis1.shape"
   ]
  },
  {
   "cell_type": "code",
   "execution_count": null,
   "id": "3a833c5c",
   "metadata": {
    "hidden": true
   },
   "outputs": [],
   "source": [
    "# Education is not normally distrbuted\n",
    "sns.histplot(oasis1.Educ,kde = True, color = 'c');"
   ]
  },
  {
   "cell_type": "code",
   "execution_count": null,
   "id": "80da22fa",
   "metadata": {
    "hidden": true
   },
   "outputs": [],
   "source": [
    "sns.histplot(oasis1.SES, kde = True, color = 'c');"
   ]
  },
  {
   "cell_type": "code",
   "execution_count": null,
   "id": "9299937d",
   "metadata": {
    "hidden": true
   },
   "outputs": [],
   "source": [
    "# Check whether NANs are still here\n",
    "oasis1.CDR.unique()"
   ]
  },
  {
   "cell_type": "code",
   "execution_count": null,
   "id": "cf163c5a",
   "metadata": {
    "hidden": true
   },
   "outputs": [],
   "source": [
    "# Check SES column\n",
    "oasis1.SES.unique()"
   ]
  },
  {
   "cell_type": "code",
   "execution_count": null,
   "id": "26487502",
   "metadata": {
    "hidden": true
   },
   "outputs": [],
   "source": [
    "# Check M/F column\n",
    "oasis1['M/F']"
   ]
  },
  {
   "cell_type": "markdown",
   "id": "2ce64475",
   "metadata": {},
   "source": [
    "## Defining variables"
   ]
  },
  {
   "cell_type": "code",
   "execution_count": null,
   "id": "ae794d60",
   "metadata": {},
   "outputs": [],
   "source": [
    "# Defining variables\n",
    "X = oasis1.drop(columns = ['CDR'])\n",
    "y = oasis1['CDR']"
   ]
  },
  {
   "cell_type": "code",
   "execution_count": null,
   "id": "fa39c761",
   "metadata": {},
   "outputs": [],
   "source": [
    "X"
   ]
  },
  {
   "cell_type": "code",
   "execution_count": null,
   "id": "96c655f1",
   "metadata": {},
   "outputs": [],
   "source": [
    "# Holdout\n",
    "X_train, X_test, y_train, y_test = train_test_split(X, y, test_size=0.30, random_state = 42)"
   ]
  },
  {
   "cell_type": "code",
   "execution_count": null,
   "id": "3fe0f81d",
   "metadata": {},
   "outputs": [],
   "source": [
    "X_train"
   ]
  },
  {
   "cell_type": "code",
   "execution_count": null,
   "id": "05bc84fc",
   "metadata": {},
   "outputs": [],
   "source": [
    "oasis1.isnull().sum()"
   ]
  },
  {
   "cell_type": "markdown",
   "id": "929025e4",
   "metadata": {},
   "source": [
    "## Preprocessing pipeline"
   ]
  },
  {
   "cell_type": "markdown",
   "id": "091f5cda",
   "metadata": {},
   "source": [
    "📜 Note: columns **nWBV and ASF** already normalized\n",
    " \n",
    " According to visualizations in file 'Demographic_visual.ipynb', we decided to scale as follows:\n",
    " \n",
    "**Columns to scale:**\n",
    "\n",
    "Standard Scale: age\n",
    "\n",
    "Robust Scale: eTIV, MMSE\n",
    "\n",
    "MinMax Scale: Educ"
   ]
  },
  {
   "cell_type": "code",
   "execution_count": null,
   "id": "387af631",
   "metadata": {},
   "outputs": [],
   "source": [
    "standard_features = ['Age']\n",
    "robust_features = ['eTIV', 'MMSE']\n",
    "minmax_features = ['Educ', 'SES']\n",
    "nothing_to_scale = ['nWBV','ASF']\n",
    "binary_categorical_features = ['M/F']\n",
    "\n",
    "numerical_features = standard_features + robust_features + minmax_features + nothing_to_scale"
   ]
  },
  {
   "cell_type": "code",
   "execution_count": null,
   "id": "647a35ac",
   "metadata": {},
   "outputs": [],
   "source": [
    "class CustomColumnTransformer(ColumnTransformer):\n",
    "    def transform(self, *args, **kwargs):\n",
    "        return pd.DataFrame(super().transform(*args, **kwargs), columns=self.get_feature_names_out())\n",
    "    def fit_transform(self, *args, **kwargs):\n",
    "        return pd.DataFrame(super().fit_transform(*args, **kwargs), columns=self.get_feature_names_out())"
   ]
  },
  {
   "cell_type": "code",
   "execution_count": null,
   "id": "8cb646c8",
   "metadata": {},
   "outputs": [],
   "source": [
    "# Transformer for numerical features\n",
    "\n",
    "def numerical_pipeline():\n",
    "    \"\"\"This function transforms all numerical features according to their respective scalers\n",
    "    \"\"\"\n",
    "    \n",
    "    # Simple Imputer\n",
    "    # simple_imputer_frequent = SimpleImputer(strategy = \"most_frequent\")\n",
    "    \n",
    "    # Scalers\n",
    "    standard_features = ['Age']\n",
    "    robust_features = ['eTIV', 'MMSE']\n",
    "    minmax_features = ['Educ', 'SES']\n",
    "    nothing_to_scale = ['nWBV','ASF']\n",
    "    \n",
    "    features_in_this_order = standard_features + robust_features + minmax_features + nothing_to_scale\n",
    "    \n",
    "    numerical_transformer = CustomColumnTransformer([\n",
    "        ('standard_scaler', StandardScaler(), standard_features),\n",
    "        ('robust_scaler', RobustScaler(), robust_features),\n",
    "        ('minmax_scaler', MinMaxScaler(), minmax_features),\n",
    "         ], remainder = 'passthrough')\n",
    "    \n",
    "    \n",
    "    # Pipeline\n",
    "    numerical_pipeline = Pipeline([\n",
    "        #(\"simple_imputer_most_frequent\", simple_imputer_frequent),\n",
    "        #(\"keeping_column_names\", ColumnNameExtractorAfterImputer(features_in_this_order)),\n",
    "        (\"numerical_transformer\", numerical_transformer)\n",
    "    ])\n",
    "    \n",
    "    return numerical_pipeline\n",
    "\n",
    "numerical_pipeline = numerical_pipeline()\n",
    "numerical_pipeline"
   ]
  },
  {
   "cell_type": "code",
   "execution_count": null,
   "id": "11d3920a",
   "metadata": {},
   "outputs": [],
   "source": [
    "# Transformer for categorical features\n",
    "\n",
    "def binary_categorical_transformer():\n",
    "    \"\"\"This function encodes all categorical features according to their respective encoder.\n",
    "    \"\"\"\n",
    "    categorical_transformer = CustomColumnTransformer([\n",
    "       (\"ohe_binary\", \n",
    "         OneHotEncoder(sparse = False,\n",
    "                       drop = \"if_binary\", \n",
    "                       handle_unknown = \"error\"), \n",
    "         binary_categorical_features)\n",
    "    ])\n",
    "    return categorical_transformer\n",
    "\n",
    "binary_category_transformer = binary_categorical_transformer()\n",
    "binary_category_transformer"
   ]
  },
  {
   "cell_type": "markdown",
   "id": "4b657f90",
   "metadata": {},
   "source": [
    "## Parellel Transformation: Numerical + Categorical"
   ]
  },
  {
   "cell_type": "code",
   "execution_count": null,
   "id": "8b433ba4",
   "metadata": {},
   "outputs": [],
   "source": [
    "preprocessor = CustomColumnTransformer([\n",
    "            (\"num_transformer\", numerical_pipeline, numerical_features ),\n",
    "            (\"cat_transformer\", binary_category_transformer, binary_categorical_features)\n",
    "            ])\n",
    "\n",
    "preprocessor"
   ]
  },
  {
   "cell_type": "code",
   "execution_count": null,
   "id": "23c2668b",
   "metadata": {},
   "outputs": [],
   "source": [
    "X_train = preprocessor.fit_transform(X_train)\n",
    "X_train"
   ]
  },
  {
   "cell_type": "code",
   "execution_count": null,
   "id": "92a71d50",
   "metadata": {},
   "outputs": [],
   "source": [
    "X_test = preprocessor.transform(X_test)\n",
    "X_test"
   ]
  },
  {
   "cell_type": "code",
   "execution_count": null,
   "id": "be04f2db",
   "metadata": {},
   "outputs": [],
   "source": [
    "# Length of y_test = 59\n",
    "np.unique(y_test, return_counts = True)\n",
    "\n",
    "# Length of X_test = 59\n",
    "len(X_test)"
   ]
  },
  {
   "cell_type": "code",
   "execution_count": null,
   "id": "04b2e8e9",
   "metadata": {},
   "outputs": [],
   "source": [
    "# Making a copy of X_scaled\n",
    "X_train_trial = X_train.copy()\n",
    "X_train_trial"
   ]
  },
  {
   "cell_type": "markdown",
   "id": "5a423d24",
   "metadata": {},
   "source": [
    "# 🎰SVC"
   ]
  },
  {
   "cell_type": "markdown",
   "id": "e48f7336",
   "metadata": {},
   "source": [
    "## SVC Linear"
   ]
  },
  {
   "cell_type": "markdown",
   "id": "9293f4db",
   "metadata": {},
   "source": [
    "### Just a trial"
   ]
  },
  {
   "cell_type": "code",
   "execution_count": null,
   "id": "2f08767d",
   "metadata": {},
   "outputs": [],
   "source": [
    "# Instantiating linear support vector classifier\n",
    "model_svc = SVC(kernel = 'linear')"
   ]
  },
  {
   "cell_type": "code",
   "execution_count": null,
   "id": "39acc01c",
   "metadata": {},
   "outputs": [],
   "source": [
    "# Fitting LinearSVC\n",
    "model_svc.fit(X_train, y_train)"
   ]
  },
  {
   "cell_type": "code",
   "execution_count": null,
   "id": "1142e921",
   "metadata": {},
   "outputs": [],
   "source": [
    "# Prediction on X_test\n",
    "y_pred_SVC = model_svc.predict(X_test)"
   ]
  },
  {
   "cell_type": "code",
   "execution_count": null,
   "id": "c9e72293",
   "metadata": {},
   "outputs": [],
   "source": [
    "cm_svc = confusion_matrix(y_test, y_pred_SVC)\n",
    "cm_svc"
   ]
  },
  {
   "cell_type": "code",
   "execution_count": null,
   "id": "b2a556f5",
   "metadata": {},
   "outputs": [],
   "source": [
    "baseline_recall_svc = recall_score(y_test, y_pred_SVC)\n",
    "baseline_recall_svc"
   ]
  },
  {
   "cell_type": "markdown",
   "id": "ff3d68a6",
   "metadata": {},
   "source": [
    "###   🤖  Grid Searching"
   ]
  },
  {
   "cell_type": "code",
   "execution_count": null,
   "id": "44c8dfc0",
   "metadata": {},
   "outputs": [],
   "source": [
    "# Creating a parameter grid: map the parameter names to the values that should be searched in a dictionary\n",
    "param_grid = {'C':np.arange(700,750,1),\n",
    "              'gamma':[1,0.1,0.001,0.0001]}\n",
    "\n",
    "# GridSearching\n",
    "gridsearch_linear = GridSearchCV(model_svc, \n",
    "                          param_grid, n_jobs = -1, \n",
    "                          scoring = 'recall', cv = 5)\n",
    "\n",
    "# Fitting gridsearch on X and y\n",
    "gridsearch_linear.fit(X_train, y_train)"
   ]
  },
  {
   "cell_type": "code",
   "execution_count": null,
   "id": "d0ff2695",
   "metadata": {},
   "outputs": [],
   "source": [
    "# Best estimator obtained from grid searching\n",
    "best_linear_svc = gridsearch_linear.best_estimator_\n",
    "best_linear_svc"
   ]
  },
  {
   "cell_type": "markdown",
   "id": "99e01787",
   "metadata": {},
   "source": [
    "### Best SVC linear"
   ]
  },
  {
   "cell_type": "code",
   "execution_count": null,
   "id": "592b6ddf",
   "metadata": {},
   "outputs": [],
   "source": [
    "# Fitting the best estimator onto the train set\n",
    "best_linear_svc.fit(X_train, y_train)"
   ]
  },
  {
   "cell_type": "code",
   "execution_count": null,
   "id": "bd8cb926",
   "metadata": {},
   "outputs": [],
   "source": [
    "# Predicting X_test\n",
    "best_svc_pred = best_linear_svc.predict(X_test)"
   ]
  },
  {
   "cell_type": "code",
   "execution_count": null,
   "id": "b584394a",
   "metadata": {
    "scrolled": true
   },
   "outputs": [],
   "source": [
    "# Confusion matrix\n",
    "cm_svc = confusion_matrix(y_test, best_svc_pred)\n",
    "cm_svc\n",
    "\n",
    "disp = ConfusionMatrixDisplay(confusion_matrix=cm_svc,\n",
    "                             display_labels=[\"Nondemented\",\"Demented\"])\n",
    "disp.plot(cmap = 'viridis')\n",
    "plt.grid(visible = None)\n",
    "plt.show()"
   ]
  },
  {
   "cell_type": "code",
   "execution_count": null,
   "id": "ea7229bc",
   "metadata": {},
   "outputs": [],
   "source": [
    "# Scores\n",
    "SVC_linear_score = recall_score(y_test, best_svc_pred), precision_score(y_test, best_svc_pred), accuracy_score(y_test, best_svc_pred)"
   ]
  },
  {
   "cell_type": "markdown",
   "id": "722e6a51",
   "metadata": {},
   "source": [
    "## SVC Poly"
   ]
  },
  {
   "cell_type": "markdown",
   "id": "739bc003",
   "metadata": {},
   "source": [
    "###  🤖 Grid Searching"
   ]
  },
  {
   "cell_type": "code",
   "execution_count": null,
   "id": "0e1752c7",
   "metadata": {},
   "outputs": [],
   "source": [
    "# Creating a parameter grid: map the parameter names to the values that should be searched in a dictionary\n",
    "param_grid = {'C':np.arange(1,50,1),\n",
    "              'gamma':[1,0.1,0.001,0.0001],\n",
    "             'degree': np.arange(1,10,1)}\n",
    "\n",
    "# GridSearching\n",
    "gridsearch_poly = GridSearchCV(SVC(kernel = 'poly'), \n",
    "                          param_grid, n_jobs = -1, \n",
    "                          scoring = 'recall', cv = 5)\n",
    "\n",
    "# Fitting gridsearch on X and y\n",
    "gridsearch_poly.fit(X_train, y_train)"
   ]
  },
  {
   "cell_type": "code",
   "execution_count": null,
   "id": "fd1e8c5a",
   "metadata": {},
   "outputs": [],
   "source": [
    "# Best estimator obtained from grid searching\n",
    "best_poly_svc = gridsearch_poly.best_estimator_\n",
    "best_poly_svc"
   ]
  },
  {
   "cell_type": "markdown",
   "id": "ec5b12a9",
   "metadata": {},
   "source": [
    "### Best SVC Poly"
   ]
  },
  {
   "cell_type": "code",
   "execution_count": null,
   "id": "c9ccf2be",
   "metadata": {},
   "outputs": [],
   "source": [
    "# Predicting X_test\n",
    "best_poly_pred = best_poly_svc.predict(X_test)"
   ]
  },
  {
   "cell_type": "code",
   "execution_count": null,
   "id": "79603691",
   "metadata": {},
   "outputs": [],
   "source": [
    "# Confusion matrix\n",
    "cm_poly_svc = confusion_matrix(y_test, best_poly_pred)\n",
    "\n",
    "disp = ConfusionMatrixDisplay(confusion_matrix=cm_poly_svc,\n",
    "                             display_labels=['Demented','Nondemented'])\n",
    "disp.plot(cmap = 'viridis')\n",
    "plt.grid(visible = None)\n",
    "plt.show()"
   ]
  },
  {
   "cell_type": "code",
   "execution_count": null,
   "id": "151995ef",
   "metadata": {},
   "outputs": [],
   "source": [
    "# Scores\n",
    "SVC_poly_score = recall_score(y_test, best_poly_pred), precision_score(y_test, best_poly_pred), accuracy_score(y_test, best_poly_pred)"
   ]
  },
  {
   "cell_type": "markdown",
   "id": "a1b3ec78",
   "metadata": {},
   "source": [
    "## SVC Rbf"
   ]
  },
  {
   "cell_type": "markdown",
   "id": "436edc34",
   "metadata": {},
   "source": [
    "### Grid Searching"
   ]
  },
  {
   "cell_type": "code",
   "execution_count": null,
   "id": "ea66cf4b",
   "metadata": {},
   "outputs": [],
   "source": [
    "# Creating a parameter grid: map the parameter names to the values that should be searched in a dictionary\n",
    "param_grid = {'C':np.arange(1,200,1),\n",
    "              'gamma':[1,0.1,0.5, 0.8, 0.001,0.0001]}\n",
    "\n",
    "# GridSearching\n",
    "gridsearch_rbf = GridSearchCV(SVC(kernel = 'rbf'), \n",
    "                          param_grid, n_jobs = -1, \n",
    "                          scoring = 'recall', cv = 5)\n",
    "\n",
    "# Fitting gridsearch on X and y\n",
    "gridsearch_rbf.fit(X_train, y_train)"
   ]
  },
  {
   "cell_type": "code",
   "execution_count": null,
   "id": "ad1054a3",
   "metadata": {},
   "outputs": [],
   "source": [
    "# Best estimator obtained from grid searching\n",
    "best_rbf_svc = gridsearch_rbf.best_estimator_\n",
    "best_rbf_svc"
   ]
  },
  {
   "cell_type": "markdown",
   "id": "3562381d",
   "metadata": {},
   "source": [
    "### Best SVC Rbf"
   ]
  },
  {
   "cell_type": "code",
   "execution_count": null,
   "id": "791a767a",
   "metadata": {},
   "outputs": [],
   "source": [
    "# Predicting X_test\n",
    "best_rbf_pred = best_rbf_svc.predict(X_test)"
   ]
  },
  {
   "cell_type": "code",
   "execution_count": null,
   "id": "5f2c914c",
   "metadata": {},
   "outputs": [],
   "source": [
    "# Confusion matrix\n",
    "cm_rbf_svc = confusion_matrix(y_test, best_rbf_pred)\n",
    "\n",
    "disp = ConfusionMatrixDisplay(confusion_matrix=cm_rbf_svc,\n",
    "                             display_labels=['Demented','Nondemented'])\n",
    "disp.plot(cmap = 'viridis')\n",
    "plt.grid(visible = None)\n",
    "plt.show()"
   ]
  },
  {
   "cell_type": "code",
   "execution_count": null,
   "id": "35a8f649",
   "metadata": {},
   "outputs": [],
   "source": [
    "# Scores\n",
    "SVC_rbf_score = recall_score(y_test, best_rbf_pred), precision_score(y_test, best_rbf_pred), accuracy_score(y_test, best_rbf_pred)"
   ]
  },
  {
   "cell_type": "markdown",
   "id": "725ceb5e",
   "metadata": {},
   "source": [
    "#  🤹 K Neighbors Classifier"
   ]
  },
  {
   "cell_type": "markdown",
   "id": "1b419098",
   "metadata": {},
   "source": [
    "###  💪🏻 Elbow Method"
   ]
  },
  {
   "cell_type": "code",
   "execution_count": null,
   "id": "86c69a07",
   "metadata": {},
   "outputs": [],
   "source": [
    "# Instantiating KNeighborsClassifier\n",
    "neigh = KNeighborsClassifier()"
   ]
  },
  {
   "cell_type": "code",
   "execution_count": null,
   "id": "d6961be8",
   "metadata": {},
   "outputs": [],
   "source": [
    "# Elbow method\n",
    "error_rate = []\n",
    "for i in range(1,40):\n",
    " \n",
    " knn = KNeighborsClassifier(n_neighbors=i)\n",
    " knn.fit(X_train,y_train)\n",
    " pred_i = knn.predict(X_test)\n",
    " error_rate.append(np.mean(pred_i != y_test))"
   ]
  },
  {
   "cell_type": "code",
   "execution_count": null,
   "id": "88a94409",
   "metadata": {},
   "outputs": [],
   "source": [
    "plt.figure(figsize=(10,6))\n",
    "plt.plot(range(1,40),error_rate,color= 'steelblue', linestyle= 'dashed', marker= 'o',\n",
    " markerfacecolor='red', markersize=10)\n",
    "plt.title('Error Rate vs. K Value')\n",
    "plt.xlabel('Number of K Neighbors', color = 'steelblue')\n",
    "plt.ylabel('Error Rate', color = 'steelblue');"
   ]
  },
  {
   "cell_type": "markdown",
   "id": "0a1bc81f",
   "metadata": {},
   "source": [
    "### Best Neigh model"
   ]
  },
  {
   "cell_type": "code",
   "execution_count": null,
   "id": "01ca169e",
   "metadata": {},
   "outputs": [],
   "source": [
    "best_neigh = KNeighborsClassifier(n_neighbors = 5)\n",
    "best_neigh"
   ]
  },
  {
   "cell_type": "code",
   "execution_count": null,
   "id": "e0d9adc4",
   "metadata": {},
   "outputs": [],
   "source": [
    "# Fitting KNeighborsClassifier\n",
    "best_neigh.fit(X_train, y_train)"
   ]
  },
  {
   "cell_type": "code",
   "execution_count": null,
   "id": "b5b02609",
   "metadata": {},
   "outputs": [],
   "source": [
    "best_neigh_pred = best_neigh.predict(X_test)"
   ]
  },
  {
   "cell_type": "code",
   "execution_count": null,
   "id": "120091ea",
   "metadata": {},
   "outputs": [],
   "source": [
    "# Confusion matrix\n",
    "cm_neigh = confusion_matrix(y_test, best_neigh_pred)\n",
    "\n",
    "disp = ConfusionMatrixDisplay(confusion_matrix=cm_neigh,\n",
    "                             display_labels=['Demented','Nondemented'])\n",
    "disp.plot(cmap = 'viridis')\n",
    "plt.grid(visible = None)\n",
    "plt.show()"
   ]
  },
  {
   "cell_type": "code",
   "execution_count": null,
   "id": "afc1a9c5",
   "metadata": {},
   "outputs": [],
   "source": [
    "# Scores\n",
    "neigh_score = recall_score(y_test, best_neigh_pred), precision_score(y_test, best_neigh_pred), accuracy_score(y_test, best_neigh_pred)"
   ]
  },
  {
   "cell_type": "markdown",
   "id": "7fb88f81",
   "metadata": {},
   "source": [
    "# Ensemble"
   ]
  },
  {
   "cell_type": "markdown",
   "id": "36da8315",
   "metadata": {},
   "source": [
    "## 🌳Decision Tree"
   ]
  },
  {
   "cell_type": "markdown",
   "id": "baa89e11",
   "metadata": {
    "heading_collapsed": true
   },
   "source": [
    "### Trial (just to practice)"
   ]
  },
  {
   "cell_type": "code",
   "execution_count": null,
   "id": "712b3483",
   "metadata": {
    "hidden": true
   },
   "outputs": [],
   "source": [
    "np.unique(y_train, return_counts = True)"
   ]
  },
  {
   "cell_type": "code",
   "execution_count": null,
   "id": "cc88c292",
   "metadata": {
    "hidden": true
   },
   "outputs": [],
   "source": [
    "# Instantiating Decision Tree\n",
    "tree_clf = DecisionTreeClassifier(max_depth = 5)"
   ]
  },
  {
   "cell_type": "code",
   "execution_count": null,
   "id": "6677aa45",
   "metadata": {
    "hidden": true
   },
   "outputs": [],
   "source": [
    "# Fitting decision tree\n",
    "tree_clf.fit(X_train_trial,y_train)"
   ]
  },
  {
   "cell_type": "code",
   "execution_count": null,
   "id": "813591ad",
   "metadata": {
    "hidden": true
   },
   "outputs": [],
   "source": [
    "# Predicting X_test\n",
    "prediction = tree_clf.predict(X_test)\n",
    "prediction"
   ]
  },
  {
   "cell_type": "code",
   "execution_count": null,
   "id": "c2ade7aa",
   "metadata": {
    "hidden": true
   },
   "outputs": [],
   "source": [
    "# Accuracy\n",
    "recall_score(y_test, prediction)"
   ]
  },
  {
   "cell_type": "code",
   "execution_count": null,
   "id": "221fca1b",
   "metadata": {
    "hidden": true
   },
   "outputs": [],
   "source": [
    "# Export model graph\n",
    "export_graphviz(tree_clf, out_file=\"oasis1_tree.dot\", \n",
    "                feature_names=X_train_trial.columns,\n",
    "                class_names=['nondemented', 'demented'], \n",
    "                rounded=True,\n",
    "                filled=True,\n",
    "                rotate = True,\n",
    "                fontname = 'futura')\n",
    "\n",
    "# Import model graph\n",
    "with open(\"oasis1_tree.dot\") as f:\n",
    "    dot_graph = f.read()\n",
    "    display(graphviz.Source(dot_graph))"
   ]
  },
  {
   "cell_type": "markdown",
   "id": "d9c14311",
   "metadata": {},
   "source": [
    "### 🤖 Grid Searching "
   ]
  },
  {
   "cell_type": "code",
   "execution_count": null,
   "id": "928d7d05",
   "metadata": {},
   "outputs": [],
   "source": [
    "# Parameters to grid search\n",
    "parameters = {'criterion': ['gini', 'entropy'],\n",
    "              'max_depth': range(1,10),\n",
    "              'min_samples_split': range(2,10),\n",
    "              'min_samples_leaf': range(2,10)\n",
    "             #'max_features': range(0,len(X_train.columns),\n",
    "              }"
   ]
  },
  {
   "cell_type": "code",
   "execution_count": null,
   "id": "6cb5b770",
   "metadata": {},
   "outputs": [],
   "source": [
    "# GridSearching\n",
    "gridsearch_tree = GridSearchCV(DecisionTreeClassifier(), \n",
    "                          parameters, n_jobs = -1, \n",
    "                          scoring = 'recall', cv = 5)\n",
    "\n",
    "# Fitting gridsearch on X and y\n",
    "gridsearch_tree.fit(X_train, y_train)"
   ]
  },
  {
   "cell_type": "code",
   "execution_count": null,
   "id": "e3d08de1",
   "metadata": {},
   "outputs": [],
   "source": [
    "# Best score according to gridsearch\n",
    "gridsearch_tree.best_score_"
   ]
  },
  {
   "cell_type": "code",
   "execution_count": null,
   "id": "e9ee485f",
   "metadata": {},
   "outputs": [],
   "source": [
    "# Best parameters\n",
    "gridsearch_tree.best_params_"
   ]
  },
  {
   "cell_type": "markdown",
   "id": "79e2471c",
   "metadata": {},
   "source": [
    "### 🌲 Best Tree"
   ]
  },
  {
   "cell_type": "code",
   "execution_count": null,
   "id": "10db7a40",
   "metadata": {},
   "outputs": [],
   "source": [
    "# Instantiating best tree\n",
    "best_tree = gridsearch_tree.best_estimator_\n",
    "\n",
    "# Fitting best tree\n",
    "best_tree.fit(X_train, y_train)"
   ]
  },
  {
   "cell_type": "code",
   "execution_count": null,
   "id": "16bc3e0b",
   "metadata": {},
   "outputs": [],
   "source": [
    "# Predictions\n",
    "y_tree_pred = best_tree.predict(X_test)\n",
    "y_tree_pred"
   ]
  },
  {
   "cell_type": "code",
   "execution_count": null,
   "id": "e579bf60",
   "metadata": {},
   "outputs": [],
   "source": [
    "# Scores\n",
    "tree_score = recall_score(y_test, y_tree_pred), precision_score(y_test, y_tree_pred), accuracy_score(y_test, y_tree_pred)"
   ]
  },
  {
   "cell_type": "code",
   "execution_count": null,
   "id": "bb3c4eca",
   "metadata": {},
   "outputs": [],
   "source": [
    "# Predictions on the test set\n",
    "y_tree_pred = best_tree.predict(X_test)\n",
    "y_tree_pred"
   ]
  },
  {
   "cell_type": "code",
   "execution_count": null,
   "id": "38b0f321",
   "metadata": {},
   "outputs": [],
   "source": [
    "# Confusion Matrix\n",
    "tree_cm = confusion_matrix(y_test, y_tree_pred)"
   ]
  },
  {
   "cell_type": "code",
   "execution_count": null,
   "id": "07a24457",
   "metadata": {},
   "outputs": [],
   "source": [
    "disp = ConfusionMatrixDisplay(confusion_matrix=tree_cm,\n",
    "                             display_labels=[\"nondemented\",\"demented\"])\n",
    "disp.plot(cmap = 'plasma')\n",
    "\n",
    "plt.grid(visible = False)\n",
    "plt.show()"
   ]
  },
  {
   "cell_type": "code",
   "execution_count": null,
   "id": "19087335",
   "metadata": {},
   "outputs": [],
   "source": [
    "y_train.value_counts()"
   ]
  },
  {
   "cell_type": "code",
   "execution_count": null,
   "id": "7debd9e1",
   "metadata": {},
   "outputs": [],
   "source": [
    "y_test.value_counts()\n",
    "# We want to capture all 29 people with dementia"
   ]
  },
  {
   "cell_type": "code",
   "execution_count": null,
   "id": "effc7f6d",
   "metadata": {},
   "outputs": [],
   "source": [
    "# Export model graph\n",
    "export_graphviz(best_tree, out_file=\"best_tree.dot\", \n",
    "                feature_names=X_train_trial.columns,\n",
    "                class_names=['nondemented', 'demented'], \n",
    "                rounded=True,\n",
    "                filled=True,\n",
    "                rotate = True,\n",
    "                fontname = 'futura')\n",
    "\n",
    "# Import model graph\n",
    "with open(\"best_tree.dot\") as f:\n",
    "    dot_graph = f.read()\n",
    "    display(graphviz.Source(dot_graph))"
   ]
  },
  {
   "cell_type": "markdown",
   "id": "c17f8869",
   "metadata": {},
   "source": [
    "<big> Conclusion: </big>\n",
    "\n",
    "y_train = 76 demented, 100 nondemented\n",
    "\n",
    "y_pred = 61 demented, 115 nondemented"
   ]
  },
  {
   "cell_type": "markdown",
   "id": "b3cf05df",
   "metadata": {},
   "source": [
    "## Random Forest"
   ]
  },
  {
   "cell_type": "markdown",
   "id": "eaea8058",
   "metadata": {},
   "source": [
    "### Grid Searching"
   ]
  },
  {
   "cell_type": "code",
   "execution_count": null,
   "id": "b8a05ea9",
   "metadata": {},
   "outputs": [],
   "source": [
    "# CREATING  RANDOM GRID\n",
    "# Number of trees in random forest\n",
    "n_estimators = [int(x) for x in np.linspace(start = 200, stop = 2000, num = 10)]\n",
    "# Number of features to consider at every split\n",
    "max_features = ['auto', 'sqrt']\n",
    "# Maximum number of levels in tree\n",
    "max_depth = [int(x) for x in np.linspace(10, 110, num = 11)]\n",
    "max_depth.append(None)\n",
    "# Minimum number of samples required to split a node\n",
    "min_samples_split = [2, 5, 10]\n",
    "# Minimum number of samples required at each leaf node\n",
    "min_samples_leaf = [1, 2, 4]\n",
    "# Method of selecting samples for training each tree\n",
    "bootstrap = [True, False]\n",
    "\n",
    "random_grid = {'n_estimators': n_estimators,\n",
    "               'max_features': max_features,\n",
    "               'max_depth': max_depth,\n",
    "               'min_samples_split': min_samples_split,\n",
    "               'min_samples_leaf': min_samples_leaf,\n",
    "               'bootstrap': bootstrap}"
   ]
  },
  {
   "cell_type": "code",
   "execution_count": null,
   "id": "86fda036",
   "metadata": {},
   "outputs": [],
   "source": [
    "rf = RandomForestClassifier()\n",
    "rf_random = RandomizedSearchCV(estimator = rf, \n",
    "                               param_distributions = random_grid, \n",
    "                               n_iter = 20, \n",
    "                               cv = 5, \n",
    "                               verbose=2, \n",
    "                               random_state=42, \n",
    "                               n_jobs = -1)\n",
    "rf_random.fit(X_train, y_train)"
   ]
  },
  {
   "cell_type": "markdown",
   "id": "5ff03707",
   "metadata": {},
   "source": [
    "### Best Forest"
   ]
  },
  {
   "cell_type": "code",
   "execution_count": null,
   "id": "60049088",
   "metadata": {},
   "outputs": [],
   "source": [
    "# Defining best estimator for random forest\n",
    "best_rf = rf_random.best_estimator_\n",
    "\n",
    "# Fitting best random forest\n",
    "best_rf.fit(X_train, y_train)"
   ]
  },
  {
   "cell_type": "code",
   "execution_count": null,
   "id": "e0c8c8b6",
   "metadata": {},
   "outputs": [],
   "source": [
    "# Predictions on the test set\n",
    "y_forest_pred = best_rf.predict(X_test)\n",
    "y_forest_pred"
   ]
  },
  {
   "cell_type": "code",
   "execution_count": null,
   "id": "530480d5",
   "metadata": {},
   "outputs": [],
   "source": [
    "# Scores\n",
    "forest_score = recall_score(y_test, y_forest_pred), precision_score(y_test, y_forest_pred), accuracy_score(y_test, y_forest_pred)"
   ]
  },
  {
   "cell_type": "code",
   "execution_count": null,
   "id": "5a6a849d",
   "metadata": {},
   "outputs": [],
   "source": [
    "# Confusion Matrix\n",
    "rf_cm = confusion_matrix(y_test, y_forest_pred)\n",
    "\n",
    "disp = ConfusionMatrixDisplay(confusion_matrix=rf_cm,\n",
    "                             display_labels=[\"nondemented\",\"demented\"])\n",
    "disp.plot(cmap = 'plasma')\n",
    "\n",
    "plt.grid(visible = False)\n",
    "plt.show()"
   ]
  },
  {
   "cell_type": "markdown",
   "id": "5ae738d4",
   "metadata": {},
   "source": [
    "# AdaBoost Classifier"
   ]
  },
  {
   "cell_type": "code",
   "execution_count": null,
   "id": "3c98cc6d",
   "metadata": {},
   "outputs": [],
   "source": [
    "adaboost = AdaBoostClassifier()"
   ]
  },
  {
   "cell_type": "code",
   "execution_count": null,
   "id": "37802ccb",
   "metadata": {},
   "outputs": [],
   "source": [
    "hyperparameter_space = {'n_estimators':list(range(10, 100, 10)), \n",
    "                        'learning_rate':[0.01, 0.1, 0.2, 0.3, 0.4, 0.5, 0.6]}\n",
    "\n",
    "gridsearch_ada = GridSearchCV(AdaBoostClassifier(base_estimator = adaboost,\n",
    "                                     algorithm='SAMME.R',\n",
    "                                     random_state=1),\n",
    "                  param_grid=hyperparameter_space, \n",
    "                  scoring=\"recall\", n_jobs=-1, cv=5)\n",
    "\n",
    "gridsearch_ada.fit(X_train, y_train)\n",
    "print(\"Optimal hyperparameter combination:\", gridsearch_ada.best_params_)"
   ]
  },
  {
   "cell_type": "code",
   "execution_count": null,
   "id": "03d012dc",
   "metadata": {},
   "outputs": [],
   "source": [
    "best_ada = AdaBoostClassifier(base_estimator = adaboost, n_estimators = 10, learning_rate = 0.6)"
   ]
  },
  {
   "cell_type": "code",
   "execution_count": null,
   "id": "f9965fc9",
   "metadata": {},
   "outputs": [],
   "source": [
    "best_ada.fit(X_train, y_train)"
   ]
  },
  {
   "cell_type": "code",
   "execution_count": null,
   "id": "103abea9",
   "metadata": {},
   "outputs": [],
   "source": [
    "# Predictions on the test set\n",
    "y_ada_pred = best_ada.predict(X_test)\n",
    "y_ada_pred"
   ]
  },
  {
   "cell_type": "code",
   "execution_count": null,
   "id": "4e03e289",
   "metadata": {},
   "outputs": [],
   "source": [
    "# Scores\n",
    "ada_score = recall_score(y_test, y_ada_pred), precision_score(y_test, y_ada_pred), accuracy_score(y_test, y_ada_pred)\n",
    "ada_score"
   ]
  },
  {
   "cell_type": "markdown",
   "id": "5d1ed483",
   "metadata": {},
   "source": [
    "# XGBoost\n",
    "\n",
    "- Sequential method\n",
    "- Reduce bias\n",
    "- Best weak learners given more weight"
   ]
  },
  {
   "cell_type": "code",
   "execution_count": null,
   "id": "5d03fbb9",
   "metadata": {},
   "outputs": [],
   "source": [
    "# # Instantiating classifier\n",
    "# xgb_cl = xgb.XGBClassifier(objective=\"binary:logistic\", eval_metric = 'error')\n",
    "\n",
    "# # Fit\n",
    "# xgb_cl.fit(X_train, y_train)\n",
    "\n",
    "# # Predict\n",
    "# preds = xgb_cl.predict(X_test)\n",
    "\n",
    "# # Score\n",
    "# recall_score(y_test, preds)"
   ]
  },
  {
   "cell_type": "markdown",
   "id": "31b5245f",
   "metadata": {},
   "source": [
    "### Grid Searching"
   ]
  },
  {
   "cell_type": "code",
   "execution_count": null,
   "id": "5a84f4f1",
   "metadata": {},
   "outputs": [],
   "source": [
    "# param_grid = {\n",
    "#     \"max_depth\": [3, 4, 5, 7],\n",
    "#     \"learning_rate\": [0.1, 0.01, 0.05],\n",
    "#     \"gamma\": [0, 0.25, 1],\n",
    "#     \"reg_lambda\": [0, 1, 10],\n",
    "#     \"scale_pos_weight\": [1, 3, 5],\n",
    "#     \"subsample\": [0.8],\n",
    "#     \"colsample_bytree\": [0.5],\n",
    "# }"
   ]
  },
  {
   "cell_type": "code",
   "execution_count": null,
   "id": "d1b2476e",
   "metadata": {},
   "outputs": [],
   "source": [
    "# grid_cv = GridSearchCV(xgb_cl, \n",
    "#                        param_grid, \n",
    "#                        n_jobs=-1, \n",
    "#                        cv=3, \n",
    "#                        scoring=\"recall\")"
   ]
  },
  {
   "cell_type": "code",
   "execution_count": null,
   "id": "420565de",
   "metadata": {},
   "outputs": [],
   "source": [
    "# best_xgb = grid_cv.best_estimator_"
   ]
  },
  {
   "cell_type": "code",
   "execution_count": null,
   "id": "d0432580",
   "metadata": {},
   "outputs": [],
   "source": [
    "# best_xgb.fit(X_train, y_train)"
   ]
  },
  {
   "cell_type": "code",
   "execution_count": null,
   "id": "85c9a2e9",
   "metadata": {},
   "outputs": [],
   "source": [
    "# # Predict\n",
    "# best_xgb_pred = best_xgb.predict(X_test)\n",
    "\n",
    "# # Score\n",
    "# recall_score(y_test, best_xgb_pred)"
   ]
  },
  {
   "cell_type": "markdown",
   "id": "c03028a9",
   "metadata": {},
   "source": [
    "# Exporting Data"
   ]
  },
  {
   "cell_type": "code",
   "execution_count": null,
   "id": "c3ac7ebf",
   "metadata": {},
   "outputs": [],
   "source": [
    "X_scaled = preprocessor.fit_transform(X).reset_index(drop=True)\n",
    "X_scaled"
   ]
  },
  {
   "cell_type": "code",
   "execution_count": null,
   "id": "c3b2d0d3",
   "metadata": {},
   "outputs": [],
   "source": [
    "frames = [X_scaled, y]\n",
    "preprocessed_oasis1 = pd.concat(frames, axis =1)"
   ]
  },
  {
   "cell_type": "code",
   "execution_count": null,
   "id": "765293d6",
   "metadata": {},
   "outputs": [],
   "source": [
    "#preprocessed_oasis1.to_csv(r'~/code/mkvph0ch/memobrain/notebooks/preprocessed_oasis1.csv')"
   ]
  },
  {
   "cell_type": "markdown",
   "id": "afeac347",
   "metadata": {},
   "source": [
    "# Recall Scores"
   ]
  },
  {
   "cell_type": "code",
   "execution_count": null,
   "id": "0f4cf7b3",
   "metadata": {},
   "outputs": [],
   "source": [
    "print(\"RECALL, PRECISION, ACCURACY\")\n",
    "(SVC_linear_score, SVC_poly_score, SVC_rbf_score, neigh_score, tree_score, forest_score, ada_score)"
   ]
  },
  {
   "cell_type": "markdown",
   "id": "a36d41ea",
   "metadata": {},
   "source": [
    "<big> <b> Model names </b> </big>\n",
    "\n",
    "<big> <font color = 'steelblue'> SVC </color> </big>\n",
    "\n",
    "Linear: best_linear_svc - 78.2\n",
    "\n",
    "\n",
    "Polynomial: best_poly_svc - 69.6 \n",
    "    \n",
    "\n",
    "Rbf: best_rbf_svc - 82.6  \n",
    "\n",
    "\n",
    "<big> <font color = 'steelblue'> K Neighbors Classifier </color> <big>\n",
    "\n",
    "best_neigh - 65.0\n",
    "\n",
    "<big> <font color = 'steelblue'> Decision Tree </color> </big>\n",
    "    \n",
    "best_tree - 78.3\n"
   ]
  },
  {
   "cell_type": "markdown",
   "id": "aca04f15",
   "metadata": {},
   "source": [
    "# Evaluating OASIS2"
   ]
  },
  {
   "cell_type": "markdown",
   "id": "bf5b9c02",
   "metadata": {},
   "source": [
    "## Importing Data"
   ]
  },
  {
   "cell_type": "code",
   "execution_count": null,
   "id": "8866a6b8",
   "metadata": {},
   "outputs": [],
   "source": [
    "oasis2_cs_path = '../raw_data/OASIS2/preprocessed_oasis2.csv'\n",
    "oasis2 = pd.read_csv(oasis2_cs_path)"
   ]
  },
  {
   "cell_type": "code",
   "execution_count": null,
   "id": "109c2fc8",
   "metadata": {},
   "outputs": [],
   "source": [
    "oasis2"
   ]
  },
  {
   "cell_type": "code",
   "execution_count": null,
   "id": "11570d3f",
   "metadata": {},
   "outputs": [],
   "source": [
    "X2 = oasis2.drop(columns = 'CDR')\n",
    "y2 = oasis2['CDR']"
   ]
  },
  {
   "cell_type": "code",
   "execution_count": null,
   "id": "c5bf4678",
   "metadata": {},
   "outputs": [],
   "source": [
    "X_train2, X_test2, ytrain2, y_test2 = train_test_split(X2, y2, test_size=0.30, random_state=42)"
   ]
  },
  {
   "cell_type": "markdown",
   "id": "53cefcf2",
   "metadata": {},
   "source": [
    "## Evaluating"
   ]
  },
  {
   "cell_type": "code",
   "execution_count": null,
   "id": "103e7cf4",
   "metadata": {},
   "outputs": [],
   "source": [
    "best_pred = best_rf.predict(X2)\n",
    "best_pred"
   ]
  },
  {
   "cell_type": "code",
   "execution_count": null,
   "id": "2fcfe320",
   "metadata": {},
   "outputs": [],
   "source": [
    "recall_score(y2, best_pred)"
   ]
  },
  {
   "cell_type": "code",
   "execution_count": null,
   "id": "0c3a3808",
   "metadata": {},
   "outputs": [],
   "source": []
  }
 ],
 "metadata": {
  "kernelspec": {
   "display_name": "Python 3 (ipykernel)",
   "language": "python",
   "name": "python3"
  },
  "language_info": {
   "codemirror_mode": {
    "name": "ipython",
    "version": 3
   },
   "file_extension": ".py",
   "mimetype": "text/x-python",
   "name": "python",
   "nbconvert_exporter": "python",
   "pygments_lexer": "ipython3",
   "version": "3.8.12"
  },
  "toc": {
   "base_numbering": 1,
   "nav_menu": {},
   "number_sections": true,
   "sideBar": true,
   "skip_h1_title": false,
   "title_cell": "Table of Contents",
   "title_sidebar": "Contents",
   "toc_cell": false,
   "toc_position": {
    "height": "calc(100% - 180px)",
    "left": "10px",
    "top": "150px",
    "width": "286.306px"
   },
   "toc_section_display": true,
   "toc_window_display": true
  }
 },
 "nbformat": 4,
 "nbformat_minor": 5
}
