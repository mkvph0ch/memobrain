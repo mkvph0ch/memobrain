{
 "cells": [
  {
   "cell_type": "markdown",
   "id": "268b002b",
   "metadata": {},
   "source": [
    "# Preprocessing OASIS1"
   ]
  },
  {
   "cell_type": "code",
   "execution_count": 1,
   "id": "c1b2a9f2",
   "metadata": {},
   "outputs": [
    {
     "name": "stderr",
     "output_type": "stream",
     "text": [
      "/home/cynthias13w/.pyenv/versions/3.8.12/envs/memobrain/lib/python3.8/site-packages/xgboost/compat.py:36: FutureWarning: pandas.Int64Index is deprecated and will be removed from pandas in a future version. Use pandas.Index with the appropriate dtype instead.\n",
      "  from pandas import MultiIndex, Int64Index\n"
     ]
    }
   ],
   "source": [
    "# IMPORTS\n",
    "# DATA MANIPULATION\n",
    "import pandas as pd\n",
    "import numpy as np\n",
    "\n",
    "# DATA VISUALISATION\n",
    "import matplotlib.pyplot as plt\n",
    "import seaborn as sns\n",
    "sns.set()\n",
    "from sklearn import set_config; set_config(display='diagram') # Visualize pipelines in HTML\n",
    "import graphviz\n",
    "from sklearn.tree import export_graphviz\n",
    "from sklearn import tree\n",
    "\n",
    "# MACHINE LEARNING\n",
    "from sklearn.preprocessing import StandardScaler, RobustScaler, MinMaxScaler\n",
    "from sklearn.preprocessing import OneHotEncoder, LabelEncoder, FunctionTransformer\n",
    "from sklearn.pipeline import Pipeline\n",
    "from sklearn.compose import ColumnTransformer\n",
    "from sklearn.model_selection import train_test_split, GridSearchCV, RandomizedSearchCV\n",
    "from sklearn.tree import DecisionTreeRegressor, DecisionTreeClassifier\n",
    "from sklearn.ensemble import RandomForestClassifier, AdaBoostClassifier\n",
    "from sklearn.neighbors import KNeighborsClassifier\n",
    "from sklearn.metrics import recall_score, accuracy_score, precision_score, confusion_matrix, ConfusionMatrixDisplay\n",
    "from sklearn.svm import SVC\n",
    "from sklearn.impute import SimpleImputer\n",
    "from sklearn.base import BaseEstimator, TransformerMixin\n",
    "import xgboost as xgb"
   ]
  },
  {
   "cell_type": "code",
   "execution_count": 2,
   "id": "3c4d731d",
   "metadata": {},
   "outputs": [],
   "source": [
    "# Importing Data\n",
    "oasis1_cs_path = '../raw_data/OASIS1/oasis_cross-sectional.csv'\n",
    "oasis1 = pd.read_csv(oasis1_cs_path)"
   ]
  },
  {
   "cell_type": "code",
   "execution_count": 3,
   "id": "3a526545",
   "metadata": {},
   "outputs": [
    {
     "data": {
      "text/plain": [
       "(436, 12)"
      ]
     },
     "execution_count": 3,
     "metadata": {},
     "output_type": "execute_result"
    }
   ],
   "source": [
    "# Checking shape\n",
    "oasis1.shape"
   ]
  },
  {
   "cell_type": "markdown",
   "id": "9eabf809",
   "metadata": {},
   "source": [
    "📜 <big> Note: </big>\n",
    "\n",
    "\n",
    "* **`CDR`**  Clinical Dementia Rating \n",
    "    * 0= nondemented;\n",
    "    * 0.5 – very mild dementia;\n",
    "    * 1 = mild dementia;\n",
    "    * 2 = moderate dementia\n",
    "\n",
    "* **`eTIV`** Estimated total intracranial volume (eTIV)\n",
    "\n",
    "* **`nWBV`** Normalized whole brain volume\n",
    "\n",
    "* **`ASF`** Atlas scaling factor"
   ]
  },
  {
   "cell_type": "code",
   "execution_count": 4,
   "id": "c1cc74a3",
   "metadata": {},
   "outputs": [
    {
     "data": {
      "text/html": [
       "<div>\n",
       "<style scoped>\n",
       "    .dataframe tbody tr th:only-of-type {\n",
       "        vertical-align: middle;\n",
       "    }\n",
       "\n",
       "    .dataframe tbody tr th {\n",
       "        vertical-align: top;\n",
       "    }\n",
       "\n",
       "    .dataframe thead th {\n",
       "        text-align: right;\n",
       "    }\n",
       "</style>\n",
       "<table border=\"1\" class=\"dataframe\">\n",
       "  <thead>\n",
       "    <tr style=\"text-align: right;\">\n",
       "      <th></th>\n",
       "      <th>ID</th>\n",
       "      <th>M/F</th>\n",
       "      <th>Hand</th>\n",
       "      <th>Age</th>\n",
       "      <th>Educ</th>\n",
       "      <th>SES</th>\n",
       "      <th>MMSE</th>\n",
       "      <th>CDR</th>\n",
       "      <th>eTIV</th>\n",
       "      <th>nWBV</th>\n",
       "      <th>ASF</th>\n",
       "      <th>Delay</th>\n",
       "    </tr>\n",
       "  </thead>\n",
       "  <tbody>\n",
       "    <tr>\n",
       "      <th>222</th>\n",
       "      <td>OAS1_0244_MR1</td>\n",
       "      <td>F</td>\n",
       "      <td>R</td>\n",
       "      <td>80</td>\n",
       "      <td>4.0</td>\n",
       "      <td>2.0</td>\n",
       "      <td>29.0</td>\n",
       "      <td>0.0</td>\n",
       "      <td>1341</td>\n",
       "      <td>0.737</td>\n",
       "      <td>1.309</td>\n",
       "      <td>NaN</td>\n",
       "    </tr>\n",
       "    <tr>\n",
       "      <th>322</th>\n",
       "      <td>OAS1_0356_MR1</td>\n",
       "      <td>F</td>\n",
       "      <td>R</td>\n",
       "      <td>68</td>\n",
       "      <td>3.0</td>\n",
       "      <td>2.0</td>\n",
       "      <td>30.0</td>\n",
       "      <td>0.0</td>\n",
       "      <td>1506</td>\n",
       "      <td>0.740</td>\n",
       "      <td>1.165</td>\n",
       "      <td>NaN</td>\n",
       "    </tr>\n",
       "    <tr>\n",
       "      <th>356</th>\n",
       "      <td>OAS1_0394_MR1</td>\n",
       "      <td>F</td>\n",
       "      <td>R</td>\n",
       "      <td>22</td>\n",
       "      <td>NaN</td>\n",
       "      <td>NaN</td>\n",
       "      <td>NaN</td>\n",
       "      <td>NaN</td>\n",
       "      <td>1343</td>\n",
       "      <td>0.847</td>\n",
       "      <td>1.307</td>\n",
       "      <td>NaN</td>\n",
       "    </tr>\n",
       "    <tr>\n",
       "      <th>269</th>\n",
       "      <td>OAS1_0298_MR1</td>\n",
       "      <td>F</td>\n",
       "      <td>R</td>\n",
       "      <td>72</td>\n",
       "      <td>4.0</td>\n",
       "      <td>3.0</td>\n",
       "      <td>24.0</td>\n",
       "      <td>0.5</td>\n",
       "      <td>1354</td>\n",
       "      <td>0.738</td>\n",
       "      <td>1.296</td>\n",
       "      <td>NaN</td>\n",
       "    </tr>\n",
       "    <tr>\n",
       "      <th>62</th>\n",
       "      <td>OAS1_0067_MR1</td>\n",
       "      <td>F</td>\n",
       "      <td>R</td>\n",
       "      <td>71</td>\n",
       "      <td>4.0</td>\n",
       "      <td>1.0</td>\n",
       "      <td>27.0</td>\n",
       "      <td>1.0</td>\n",
       "      <td>1549</td>\n",
       "      <td>0.730</td>\n",
       "      <td>1.133</td>\n",
       "      <td>NaN</td>\n",
       "    </tr>\n",
       "    <tr>\n",
       "      <th>420</th>\n",
       "      <td>OAS1_0111_MR2</td>\n",
       "      <td>M</td>\n",
       "      <td>R</td>\n",
       "      <td>23</td>\n",
       "      <td>NaN</td>\n",
       "      <td>NaN</td>\n",
       "      <td>NaN</td>\n",
       "      <td>NaN</td>\n",
       "      <td>1714</td>\n",
       "      <td>0.861</td>\n",
       "      <td>1.024</td>\n",
       "      <td>2.0</td>\n",
       "    </tr>\n",
       "    <tr>\n",
       "      <th>298</th>\n",
       "      <td>OAS1_0330_MR1</td>\n",
       "      <td>F</td>\n",
       "      <td>R</td>\n",
       "      <td>80</td>\n",
       "      <td>1.0</td>\n",
       "      <td>5.0</td>\n",
       "      <td>27.0</td>\n",
       "      <td>0.0</td>\n",
       "      <td>1381</td>\n",
       "      <td>0.752</td>\n",
       "      <td>1.270</td>\n",
       "      <td>NaN</td>\n",
       "    </tr>\n",
       "    <tr>\n",
       "      <th>178</th>\n",
       "      <td>OAS1_0195_MR1</td>\n",
       "      <td>F</td>\n",
       "      <td>R</td>\n",
       "      <td>76</td>\n",
       "      <td>4.0</td>\n",
       "      <td>1.0</td>\n",
       "      <td>28.0</td>\n",
       "      <td>0.0</td>\n",
       "      <td>1346</td>\n",
       "      <td>0.766</td>\n",
       "      <td>1.304</td>\n",
       "      <td>NaN</td>\n",
       "    </tr>\n",
       "    <tr>\n",
       "      <th>60</th>\n",
       "      <td>OAS1_0065_MR1</td>\n",
       "      <td>M</td>\n",
       "      <td>R</td>\n",
       "      <td>90</td>\n",
       "      <td>2.0</td>\n",
       "      <td>3.0</td>\n",
       "      <td>25.0</td>\n",
       "      <td>0.0</td>\n",
       "      <td>1301</td>\n",
       "      <td>0.645</td>\n",
       "      <td>1.349</td>\n",
       "      <td>NaN</td>\n",
       "    </tr>\n",
       "    <tr>\n",
       "      <th>392</th>\n",
       "      <td>OAS1_0433_MR1</td>\n",
       "      <td>M</td>\n",
       "      <td>R</td>\n",
       "      <td>58</td>\n",
       "      <td>4.0</td>\n",
       "      <td>1.0</td>\n",
       "      <td>27.0</td>\n",
       "      <td>0.0</td>\n",
       "      <td>1606</td>\n",
       "      <td>0.779</td>\n",
       "      <td>1.093</td>\n",
       "      <td>NaN</td>\n",
       "    </tr>\n",
       "    <tr>\n",
       "      <th>365</th>\n",
       "      <td>OAS1_0403_MR1</td>\n",
       "      <td>M</td>\n",
       "      <td>R</td>\n",
       "      <td>19</td>\n",
       "      <td>NaN</td>\n",
       "      <td>NaN</td>\n",
       "      <td>NaN</td>\n",
       "      <td>NaN</td>\n",
       "      <td>1592</td>\n",
       "      <td>0.833</td>\n",
       "      <td>1.102</td>\n",
       "      <td>NaN</td>\n",
       "    </tr>\n",
       "    <tr>\n",
       "      <th>313</th>\n",
       "      <td>OAS1_0346_MR1</td>\n",
       "      <td>M</td>\n",
       "      <td>R</td>\n",
       "      <td>23</td>\n",
       "      <td>NaN</td>\n",
       "      <td>NaN</td>\n",
       "      <td>NaN</td>\n",
       "      <td>NaN</td>\n",
       "      <td>1485</td>\n",
       "      <td>0.843</td>\n",
       "      <td>1.181</td>\n",
       "      <td>NaN</td>\n",
       "    </tr>\n",
       "    <tr>\n",
       "      <th>57</th>\n",
       "      <td>OAS1_0062_MR1</td>\n",
       "      <td>F</td>\n",
       "      <td>R</td>\n",
       "      <td>73</td>\n",
       "      <td>3.0</td>\n",
       "      <td>2.0</td>\n",
       "      <td>30.0</td>\n",
       "      <td>0.0</td>\n",
       "      <td>1456</td>\n",
       "      <td>0.754</td>\n",
       "      <td>1.205</td>\n",
       "      <td>NaN</td>\n",
       "    </tr>\n",
       "    <tr>\n",
       "      <th>348</th>\n",
       "      <td>OAS1_0384_MR1</td>\n",
       "      <td>F</td>\n",
       "      <td>R</td>\n",
       "      <td>38</td>\n",
       "      <td>NaN</td>\n",
       "      <td>NaN</td>\n",
       "      <td>NaN</td>\n",
       "      <td>NaN</td>\n",
       "      <td>1562</td>\n",
       "      <td>0.844</td>\n",
       "      <td>1.123</td>\n",
       "      <td>NaN</td>\n",
       "    </tr>\n",
       "    <tr>\n",
       "      <th>44</th>\n",
       "      <td>OAS1_0049_MR1</td>\n",
       "      <td>F</td>\n",
       "      <td>R</td>\n",
       "      <td>20</td>\n",
       "      <td>NaN</td>\n",
       "      <td>NaN</td>\n",
       "      <td>NaN</td>\n",
       "      <td>NaN</td>\n",
       "      <td>1329</td>\n",
       "      <td>0.887</td>\n",
       "      <td>1.321</td>\n",
       "      <td>NaN</td>\n",
       "    </tr>\n",
       "    <tr>\n",
       "      <th>149</th>\n",
       "      <td>OAS1_0161_MR1</td>\n",
       "      <td>F</td>\n",
       "      <td>R</td>\n",
       "      <td>84</td>\n",
       "      <td>2.0</td>\n",
       "      <td>2.0</td>\n",
       "      <td>27.0</td>\n",
       "      <td>0.5</td>\n",
       "      <td>1390</td>\n",
       "      <td>0.727</td>\n",
       "      <td>1.263</td>\n",
       "      <td>NaN</td>\n",
       "    </tr>\n",
       "    <tr>\n",
       "      <th>133</th>\n",
       "      <td>OAS1_0143_MR1</td>\n",
       "      <td>M</td>\n",
       "      <td>R</td>\n",
       "      <td>66</td>\n",
       "      <td>2.0</td>\n",
       "      <td>4.0</td>\n",
       "      <td>30.0</td>\n",
       "      <td>0.5</td>\n",
       "      <td>1446</td>\n",
       "      <td>0.784</td>\n",
       "      <td>1.214</td>\n",
       "      <td>NaN</td>\n",
       "    </tr>\n",
       "    <tr>\n",
       "      <th>291</th>\n",
       "      <td>OAS1_0322_MR1</td>\n",
       "      <td>F</td>\n",
       "      <td>R</td>\n",
       "      <td>65</td>\n",
       "      <td>3.0</td>\n",
       "      <td>4.0</td>\n",
       "      <td>29.0</td>\n",
       "      <td>0.0</td>\n",
       "      <td>1335</td>\n",
       "      <td>0.776</td>\n",
       "      <td>1.315</td>\n",
       "      <td>NaN</td>\n",
       "    </tr>\n",
       "    <tr>\n",
       "      <th>413</th>\n",
       "      <td>OAS1_0455_MR1</td>\n",
       "      <td>F</td>\n",
       "      <td>R</td>\n",
       "      <td>61</td>\n",
       "      <td>2.0</td>\n",
       "      <td>4.0</td>\n",
       "      <td>28.0</td>\n",
       "      <td>0.0</td>\n",
       "      <td>1354</td>\n",
       "      <td>0.825</td>\n",
       "      <td>1.297</td>\n",
       "      <td>NaN</td>\n",
       "    </tr>\n",
       "    <tr>\n",
       "      <th>28</th>\n",
       "      <td>OAS1_0031_MR1</td>\n",
       "      <td>M</td>\n",
       "      <td>R</td>\n",
       "      <td>88</td>\n",
       "      <td>1.0</td>\n",
       "      <td>4.0</td>\n",
       "      <td>26.0</td>\n",
       "      <td>1.0</td>\n",
       "      <td>1419</td>\n",
       "      <td>0.674</td>\n",
       "      <td>1.236</td>\n",
       "      <td>NaN</td>\n",
       "    </tr>\n",
       "  </tbody>\n",
       "</table>\n",
       "</div>"
      ],
      "text/plain": [
       "                ID M/F Hand  Age  Educ  SES  MMSE  CDR  eTIV   nWBV    ASF  \\\n",
       "222  OAS1_0244_MR1   F    R   80   4.0  2.0  29.0  0.0  1341  0.737  1.309   \n",
       "322  OAS1_0356_MR1   F    R   68   3.0  2.0  30.0  0.0  1506  0.740  1.165   \n",
       "356  OAS1_0394_MR1   F    R   22   NaN  NaN   NaN  NaN  1343  0.847  1.307   \n",
       "269  OAS1_0298_MR1   F    R   72   4.0  3.0  24.0  0.5  1354  0.738  1.296   \n",
       "62   OAS1_0067_MR1   F    R   71   4.0  1.0  27.0  1.0  1549  0.730  1.133   \n",
       "420  OAS1_0111_MR2   M    R   23   NaN  NaN   NaN  NaN  1714  0.861  1.024   \n",
       "298  OAS1_0330_MR1   F    R   80   1.0  5.0  27.0  0.0  1381  0.752  1.270   \n",
       "178  OAS1_0195_MR1   F    R   76   4.0  1.0  28.0  0.0  1346  0.766  1.304   \n",
       "60   OAS1_0065_MR1   M    R   90   2.0  3.0  25.0  0.0  1301  0.645  1.349   \n",
       "392  OAS1_0433_MR1   M    R   58   4.0  1.0  27.0  0.0  1606  0.779  1.093   \n",
       "365  OAS1_0403_MR1   M    R   19   NaN  NaN   NaN  NaN  1592  0.833  1.102   \n",
       "313  OAS1_0346_MR1   M    R   23   NaN  NaN   NaN  NaN  1485  0.843  1.181   \n",
       "57   OAS1_0062_MR1   F    R   73   3.0  2.0  30.0  0.0  1456  0.754  1.205   \n",
       "348  OAS1_0384_MR1   F    R   38   NaN  NaN   NaN  NaN  1562  0.844  1.123   \n",
       "44   OAS1_0049_MR1   F    R   20   NaN  NaN   NaN  NaN  1329  0.887  1.321   \n",
       "149  OAS1_0161_MR1   F    R   84   2.0  2.0  27.0  0.5  1390  0.727  1.263   \n",
       "133  OAS1_0143_MR1   M    R   66   2.0  4.0  30.0  0.5  1446  0.784  1.214   \n",
       "291  OAS1_0322_MR1   F    R   65   3.0  4.0  29.0  0.0  1335  0.776  1.315   \n",
       "413  OAS1_0455_MR1   F    R   61   2.0  4.0  28.0  0.0  1354  0.825  1.297   \n",
       "28   OAS1_0031_MR1   M    R   88   1.0  4.0  26.0  1.0  1419  0.674  1.236   \n",
       "\n",
       "     Delay  \n",
       "222    NaN  \n",
       "322    NaN  \n",
       "356    NaN  \n",
       "269    NaN  \n",
       "62     NaN  \n",
       "420    2.0  \n",
       "298    NaN  \n",
       "178    NaN  \n",
       "60     NaN  \n",
       "392    NaN  \n",
       "365    NaN  \n",
       "313    NaN  \n",
       "57     NaN  \n",
       "348    NaN  \n",
       "44     NaN  \n",
       "149    NaN  \n",
       "133    NaN  \n",
       "291    NaN  \n",
       "413    NaN  \n",
       "28     NaN  "
      ]
     },
     "execution_count": 4,
     "metadata": {},
     "output_type": "execute_result"
    }
   ],
   "source": [
    "oasis1.sample(20)"
   ]
  },
  {
   "cell_type": "code",
   "execution_count": 5,
   "id": "895ea66f",
   "metadata": {},
   "outputs": [
    {
     "data": {
      "text/plain": [
       "ID         0\n",
       "M/F        0\n",
       "Hand       0\n",
       "Age        0\n",
       "Educ     201\n",
       "SES      220\n",
       "MMSE     201\n",
       "CDR      201\n",
       "eTIV       0\n",
       "nWBV       0\n",
       "ASF        0\n",
       "Delay    416\n",
       "dtype: int64"
      ]
     },
     "execution_count": 5,
     "metadata": {},
     "output_type": "execute_result"
    }
   ],
   "source": [
    "oasis1.isnull().sum()"
   ]
  },
  {
   "cell_type": "markdown",
   "id": "c5227931",
   "metadata": {},
   "source": [
    "## Data Cleaning"
   ]
  },
  {
   "cell_type": "markdown",
   "id": "6f5222a1",
   "metadata": {},
   "source": [
    "**We want to define a function that:**\n",
    "\n",
    "1. Drops rows that have no values for CDR (prediction)\n",
    "2. Fills empty values for socioeconomic status with a value\n",
    "3. Replaces Male with 1 and Female with 0\n",
    "4. Converts CDR from 4 unique values to 2 unique values so that we now have a binary classification problem\n",
    "5. Drops columns Delay and Handedness"
   ]
  },
  {
   "cell_type": "code",
   "execution_count": 6,
   "id": "1b518097",
   "metadata": {},
   "outputs": [],
   "source": [
    "def clean_data(df):\n",
    "    \"\"\"This function removes CDR rows containing NANs, \n",
    "    fills SES missing values with status 3,\n",
    "    and drops columns ID, Delay and Hand.\"\"\"\n",
    "    \n",
    "    # Imputing with the median value \n",
    "    df['SES'].fillna(value=3, inplace=True) \n",
    "    \n",
    "    # DROPPING ROWS WITHOUT TARGET\n",
    "    df.dropna(subset = [\"CDR\"], inplace = True)\n",
    "    \n",
    "    \n",
    "    # TARGET\n",
    "    df[\"CDR\"] = df[\"CDR\"].map({0:0, \n",
    "                               0.5:1, \n",
    "                               1:1, \n",
    "                               2:1})\n",
    "    \n",
    "    # DROPPING USELESS FEATURES\n",
    "    df.drop(['Delay', 'Hand', 'ID'], inplace = True, axis=1)\n",
    "\n",
    "    return df.reset_index(drop = True)"
   ]
  },
  {
   "cell_type": "code",
   "execution_count": 7,
   "id": "8ecaae80",
   "metadata": {},
   "outputs": [
    {
     "data": {
      "text/html": [
       "<div>\n",
       "<style scoped>\n",
       "    .dataframe tbody tr th:only-of-type {\n",
       "        vertical-align: middle;\n",
       "    }\n",
       "\n",
       "    .dataframe tbody tr th {\n",
       "        vertical-align: top;\n",
       "    }\n",
       "\n",
       "    .dataframe thead th {\n",
       "        text-align: right;\n",
       "    }\n",
       "</style>\n",
       "<table border=\"1\" class=\"dataframe\">\n",
       "  <thead>\n",
       "    <tr style=\"text-align: right;\">\n",
       "      <th></th>\n",
       "      <th>M/F</th>\n",
       "      <th>Age</th>\n",
       "      <th>Educ</th>\n",
       "      <th>SES</th>\n",
       "      <th>MMSE</th>\n",
       "      <th>CDR</th>\n",
       "      <th>eTIV</th>\n",
       "      <th>nWBV</th>\n",
       "      <th>ASF</th>\n",
       "    </tr>\n",
       "  </thead>\n",
       "  <tbody>\n",
       "    <tr>\n",
       "      <th>0</th>\n",
       "      <td>F</td>\n",
       "      <td>74</td>\n",
       "      <td>2.0</td>\n",
       "      <td>3.0</td>\n",
       "      <td>29.0</td>\n",
       "      <td>0</td>\n",
       "      <td>1344</td>\n",
       "      <td>0.743</td>\n",
       "      <td>1.306</td>\n",
       "    </tr>\n",
       "    <tr>\n",
       "      <th>1</th>\n",
       "      <td>F</td>\n",
       "      <td>55</td>\n",
       "      <td>4.0</td>\n",
       "      <td>1.0</td>\n",
       "      <td>29.0</td>\n",
       "      <td>0</td>\n",
       "      <td>1147</td>\n",
       "      <td>0.810</td>\n",
       "      <td>1.531</td>\n",
       "    </tr>\n",
       "    <tr>\n",
       "      <th>2</th>\n",
       "      <td>F</td>\n",
       "      <td>73</td>\n",
       "      <td>4.0</td>\n",
       "      <td>3.0</td>\n",
       "      <td>27.0</td>\n",
       "      <td>1</td>\n",
       "      <td>1454</td>\n",
       "      <td>0.708</td>\n",
       "      <td>1.207</td>\n",
       "    </tr>\n",
       "    <tr>\n",
       "      <th>3</th>\n",
       "      <td>M</td>\n",
       "      <td>74</td>\n",
       "      <td>5.0</td>\n",
       "      <td>2.0</td>\n",
       "      <td>30.0</td>\n",
       "      <td>0</td>\n",
       "      <td>1636</td>\n",
       "      <td>0.689</td>\n",
       "      <td>1.073</td>\n",
       "    </tr>\n",
       "    <tr>\n",
       "      <th>4</th>\n",
       "      <td>F</td>\n",
       "      <td>52</td>\n",
       "      <td>3.0</td>\n",
       "      <td>2.0</td>\n",
       "      <td>30.0</td>\n",
       "      <td>0</td>\n",
       "      <td>1321</td>\n",
       "      <td>0.827</td>\n",
       "      <td>1.329</td>\n",
       "    </tr>\n",
       "    <tr>\n",
       "      <th>...</th>\n",
       "      <td>...</td>\n",
       "      <td>...</td>\n",
       "      <td>...</td>\n",
       "      <td>...</td>\n",
       "      <td>...</td>\n",
       "      <td>...</td>\n",
       "      <td>...</td>\n",
       "      <td>...</td>\n",
       "      <td>...</td>\n",
       "    </tr>\n",
       "    <tr>\n",
       "      <th>230</th>\n",
       "      <td>F</td>\n",
       "      <td>70</td>\n",
       "      <td>1.0</td>\n",
       "      <td>4.0</td>\n",
       "      <td>29.0</td>\n",
       "      <td>1</td>\n",
       "      <td>1295</td>\n",
       "      <td>0.748</td>\n",
       "      <td>1.355</td>\n",
       "    </tr>\n",
       "    <tr>\n",
       "      <th>231</th>\n",
       "      <td>F</td>\n",
       "      <td>73</td>\n",
       "      <td>3.0</td>\n",
       "      <td>2.0</td>\n",
       "      <td>23.0</td>\n",
       "      <td>1</td>\n",
       "      <td>1536</td>\n",
       "      <td>0.730</td>\n",
       "      <td>1.142</td>\n",
       "    </tr>\n",
       "    <tr>\n",
       "      <th>232</th>\n",
       "      <td>F</td>\n",
       "      <td>61</td>\n",
       "      <td>2.0</td>\n",
       "      <td>4.0</td>\n",
       "      <td>28.0</td>\n",
       "      <td>0</td>\n",
       "      <td>1354</td>\n",
       "      <td>0.825</td>\n",
       "      <td>1.297</td>\n",
       "    </tr>\n",
       "    <tr>\n",
       "      <th>233</th>\n",
       "      <td>M</td>\n",
       "      <td>61</td>\n",
       "      <td>5.0</td>\n",
       "      <td>2.0</td>\n",
       "      <td>30.0</td>\n",
       "      <td>0</td>\n",
       "      <td>1637</td>\n",
       "      <td>0.780</td>\n",
       "      <td>1.072</td>\n",
       "    </tr>\n",
       "    <tr>\n",
       "      <th>234</th>\n",
       "      <td>F</td>\n",
       "      <td>62</td>\n",
       "      <td>3.0</td>\n",
       "      <td>3.0</td>\n",
       "      <td>26.0</td>\n",
       "      <td>0</td>\n",
       "      <td>1372</td>\n",
       "      <td>0.766</td>\n",
       "      <td>1.279</td>\n",
       "    </tr>\n",
       "  </tbody>\n",
       "</table>\n",
       "<p>235 rows × 9 columns</p>\n",
       "</div>"
      ],
      "text/plain": [
       "    M/F  Age  Educ  SES  MMSE  CDR  eTIV   nWBV    ASF\n",
       "0     F   74   2.0  3.0  29.0    0  1344  0.743  1.306\n",
       "1     F   55   4.0  1.0  29.0    0  1147  0.810  1.531\n",
       "2     F   73   4.0  3.0  27.0    1  1454  0.708  1.207\n",
       "3     M   74   5.0  2.0  30.0    0  1636  0.689  1.073\n",
       "4     F   52   3.0  2.0  30.0    0  1321  0.827  1.329\n",
       "..   ..  ...   ...  ...   ...  ...   ...    ...    ...\n",
       "230   F   70   1.0  4.0  29.0    1  1295  0.748  1.355\n",
       "231   F   73   3.0  2.0  23.0    1  1536  0.730  1.142\n",
       "232   F   61   2.0  4.0  28.0    0  1354  0.825  1.297\n",
       "233   M   61   5.0  2.0  30.0    0  1637  0.780  1.072\n",
       "234   F   62   3.0  3.0  26.0    0  1372  0.766  1.279\n",
       "\n",
       "[235 rows x 9 columns]"
      ]
     },
     "execution_count": 7,
     "metadata": {},
     "output_type": "execute_result"
    }
   ],
   "source": [
    "oasis1 = clean_data(oasis1)\n",
    "oasis1"
   ]
  },
  {
   "cell_type": "markdown",
   "id": "4e5ff483",
   "metadata": {
    "heading_collapsed": true
   },
   "source": [
    "### Testing my code"
   ]
  },
  {
   "cell_type": "code",
   "execution_count": 8,
   "id": "75430f7d",
   "metadata": {
    "hidden": true
   },
   "outputs": [
    {
     "data": {
      "text/plain": [
       "(235, 9)"
      ]
     },
     "execution_count": 8,
     "metadata": {},
     "output_type": "execute_result"
    }
   ],
   "source": [
    "# Check shape again\n",
    "oasis1.shape"
   ]
  },
  {
   "cell_type": "code",
   "execution_count": 9,
   "id": "3a833c5c",
   "metadata": {
    "hidden": true
   },
   "outputs": [
    {
     "data": {
      "image/png": "[encoded data removed]",
      "text/plain": [
       "<Figure size 432x288 with 1 Axes>"
      ]
     },
     "metadata": {},
     "output_type": "display_data"
    }
   ],
   "source": [
    "# Education is not normally distrbuted\n",
    "sns.histplot(oasis1.Educ,kde = True, color = 'c');"
   ]
  },
  {
   "cell_type": "code",
   "execution_count": 10,
   "id": "80da22fa",
   "metadata": {
    "hidden": true
   },
   "outputs": [
    {
     "data": {
      "image/png": "[encoded data removed]",
      "text/plain": [
       "<Figure size 432x288 with 1 Axes>"
      ]
     },
     "metadata": {},
     "output_type": "display_data"
    }
   ],
   "source": [
    "sns.histplot(oasis1.SES, kde = True, color = 'c');"
   ]
  },
  {
   "cell_type": "code",
   "execution_count": 11,
   "id": "9299937d",
   "metadata": {
    "hidden": true
   },
   "outputs": [
    {
     "data": {
      "text/plain": [
       "array([0, 1])"
      ]
     },
     "execution_count": 11,
     "metadata": {},
     "output_type": "execute_result"
    }
   ],
   "source": [
    "# Check whether NANs are still here\n",
    "oasis1.CDR.unique()"
   ]
  },
  {
   "cell_type": "code",
   "execution_count": 12,
   "id": "cf163c5a",
   "metadata": {
    "hidden": true
   },
   "outputs": [
    {
     "data": {
      "text/plain": [
       "array([3., 1., 2., 4., 5.])"
      ]
     },
     "execution_count": 12,
     "metadata": {},
     "output_type": "execute_result"
    }
   ],
   "source": [
    "# Check SES column\n",
    "oasis1.SES.unique()"
   ]
  },
  {
   "cell_type": "code",
   "execution_count": 13,
   "id": "26487502",
   "metadata": {
    "hidden": true
   },
   "outputs": [
    {
     "data": {
      "text/plain": [
       "0      F\n",
       "1      F\n",
       "2      F\n",
       "3      M\n",
       "4      F\n",
       "      ..\n",
       "230    F\n",
       "231    F\n",
       "232    F\n",
       "233    M\n",
       "234    F\n",
       "Name: M/F, Length: 235, dtype: object"
      ]
     },
     "execution_count": 13,
     "metadata": {},
     "output_type": "execute_result"
    }
   ],
   "source": [
    "# Check M/F column\n",
    "oasis1['M/F']"
   ]
  },
  {
   "cell_type": "markdown",
   "id": "2ce64475",
   "metadata": {},
   "source": [
    "## Defining variables"
   ]
  },
  {
   "cell_type": "code",
   "execution_count": 14,
   "id": "ae794d60",
   "metadata": {},
   "outputs": [],
   "source": [
    "# Defining variables\n",
    "X = oasis1.drop(columns = ['CDR'])\n",
    "y = oasis1['CDR']"
   ]
  },
  {
   "cell_type": "code",
   "execution_count": 15,
   "id": "fa39c761",
   "metadata": {},
   "outputs": [
    {
     "data": {
      "text/html": [
       "<div>\n",
       "<style scoped>\n",
       "    .dataframe tbody tr th:only-of-type {\n",
       "        vertical-align: middle;\n",
       "    }\n",
       "\n",
       "    .dataframe tbody tr th {\n",
       "        vertical-align: top;\n",
       "    }\n",
       "\n",
       "    .dataframe thead th {\n",
       "        text-align: right;\n",
       "    }\n",
       "</style>\n",
       "<table border=\"1\" class=\"dataframe\">\n",
       "  <thead>\n",
       "    <tr style=\"text-align: right;\">\n",
       "      <th></th>\n",
       "      <th>M/F</th>\n",
       "      <th>Age</th>\n",
       "      <th>Educ</th>\n",
       "      <th>SES</th>\n",
       "      <th>MMSE</th>\n",
       "      <th>eTIV</th>\n",
       "      <th>nWBV</th>\n",
       "      <th>ASF</th>\n",
       "    </tr>\n",
       "  </thead>\n",
       "  <tbody>\n",
       "    <tr>\n",
       "      <th>0</th>\n",
       "      <td>F</td>\n",
       "      <td>74</td>\n",
       "      <td>2.0</td>\n",
       "      <td>3.0</td>\n",
       "      <td>29.0</td>\n",
       "      <td>1344</td>\n",
       "      <td>0.743</td>\n",
       "      <td>1.306</td>\n",
       "    </tr>\n",
       "    <tr>\n",
       "      <th>1</th>\n",
       "      <td>F</td>\n",
       "      <td>55</td>\n",
       "      <td>4.0</td>\n",
       "      <td>1.0</td>\n",
       "      <td>29.0</td>\n",
       "      <td>1147</td>\n",
       "      <td>0.810</td>\n",
       "      <td>1.531</td>\n",
       "    </tr>\n",
       "    <tr>\n",
       "      <th>2</th>\n",
       "      <td>F</td>\n",
       "      <td>73</td>\n",
       "      <td>4.0</td>\n",
       "      <td>3.0</td>\n",
       "      <td>27.0</td>\n",
       "      <td>1454</td>\n",
       "      <td>0.708</td>\n",
       "      <td>1.207</td>\n",
       "    </tr>\n",
       "    <tr>\n",
       "      <th>3</th>\n",
       "      <td>M</td>\n",
       "      <td>74</td>\n",
       "      <td>5.0</td>\n",
       "      <td>2.0</td>\n",
       "      <td>30.0</td>\n",
       "      <td>1636</td>\n",
       "      <td>0.689</td>\n",
       "      <td>1.073</td>\n",
       "    </tr>\n",
       "    <tr>\n",
       "      <th>4</th>\n",
       "      <td>F</td>\n",
       "      <td>52</td>\n",
       "      <td>3.0</td>\n",
       "      <td>2.0</td>\n",
       "      <td>30.0</td>\n",
       "      <td>1321</td>\n",
       "      <td>0.827</td>\n",
       "      <td>1.329</td>\n",
       "    </tr>\n",
       "    <tr>\n",
       "      <th>...</th>\n",
       "      <td>...</td>\n",
       "      <td>...</td>\n",
       "      <td>...</td>\n",
       "      <td>...</td>\n",
       "      <td>...</td>\n",
       "      <td>...</td>\n",
       "      <td>...</td>\n",
       "      <td>...</td>\n",
       "    </tr>\n",
       "    <tr>\n",
       "      <th>230</th>\n",
       "      <td>F</td>\n",
       "      <td>70</td>\n",
       "      <td>1.0</td>\n",
       "      <td>4.0</td>\n",
       "      <td>29.0</td>\n",
       "      <td>1295</td>\n",
       "      <td>0.748</td>\n",
       "      <td>1.355</td>\n",
       "    </tr>\n",
       "    <tr>\n",
       "      <th>231</th>\n",
       "      <td>F</td>\n",
       "      <td>73</td>\n",
       "      <td>3.0</td>\n",
       "      <td>2.0</td>\n",
       "      <td>23.0</td>\n",
       "      <td>1536</td>\n",
       "      <td>0.730</td>\n",
       "      <td>1.142</td>\n",
       "    </tr>\n",
       "    <tr>\n",
       "      <th>232</th>\n",
       "      <td>F</td>\n",
       "      <td>61</td>\n",
       "      <td>2.0</td>\n",
       "      <td>4.0</td>\n",
       "      <td>28.0</td>\n",
       "      <td>1354</td>\n",
       "      <td>0.825</td>\n",
       "      <td>1.297</td>\n",
       "    </tr>\n",
       "    <tr>\n",
       "      <th>233</th>\n",
       "      <td>M</td>\n",
       "      <td>61</td>\n",
       "      <td>5.0</td>\n",
       "      <td>2.0</td>\n",
       "      <td>30.0</td>\n",
       "      <td>1637</td>\n",
       "      <td>0.780</td>\n",
       "      <td>1.072</td>\n",
       "    </tr>\n",
       "    <tr>\n",
       "      <th>234</th>\n",
       "      <td>F</td>\n",
       "      <td>62</td>\n",
       "      <td>3.0</td>\n",
       "      <td>3.0</td>\n",
       "      <td>26.0</td>\n",
       "      <td>1372</td>\n",
       "      <td>0.766</td>\n",
       "      <td>1.279</td>\n",
       "    </tr>\n",
       "  </tbody>\n",
       "</table>\n",
       "<p>235 rows × 8 columns</p>\n",
       "</div>"
      ],
      "text/plain": [
       "    M/F  Age  Educ  SES  MMSE  eTIV   nWBV    ASF\n",
       "0     F   74   2.0  3.0  29.0  1344  0.743  1.306\n",
       "1     F   55   4.0  1.0  29.0  1147  0.810  1.531\n",
       "2     F   73   4.0  3.0  27.0  1454  0.708  1.207\n",
       "3     M   74   5.0  2.0  30.0  1636  0.689  1.073\n",
       "4     F   52   3.0  2.0  30.0  1321  0.827  1.329\n",
       "..   ..  ...   ...  ...   ...   ...    ...    ...\n",
       "230   F   70   1.0  4.0  29.0  1295  0.748  1.355\n",
       "231   F   73   3.0  2.0  23.0  1536  0.730  1.142\n",
       "232   F   61   2.0  4.0  28.0  1354  0.825  1.297\n",
       "233   M   61   5.0  2.0  30.0  1637  0.780  1.072\n",
       "234   F   62   3.0  3.0  26.0  1372  0.766  1.279\n",
       "\n",
       "[235 rows x 8 columns]"
      ]
     },
     "execution_count": 15,
     "metadata": {},
     "output_type": "execute_result"
    }
   ],
   "source": [
    "X"
   ]
  },
  {
   "cell_type": "code",
   "execution_count": 16,
   "id": "96c655f1",
   "metadata": {},
   "outputs": [],
   "source": [
    "# Holdout\n",
    "X_train, X_test, y_train, y_test = train_test_split(X, y, test_size=0.30, random_state = 42)"
   ]
  },
  {
   "cell_type": "code",
   "execution_count": 17,
   "id": "3fe0f81d",
   "metadata": {},
   "outputs": [
    {
     "data": {
      "text/html": [
       "<div>\n",
       "<style scoped>\n",
       "    .dataframe tbody tr th:only-of-type {\n",
       "        vertical-align: middle;\n",
       "    }\n",
       "\n",
       "    .dataframe tbody tr th {\n",
       "        vertical-align: top;\n",
       "    }\n",
       "\n",
       "    .dataframe thead th {\n",
       "        text-align: right;\n",
       "    }\n",
       "</style>\n",
       "<table border=\"1\" class=\"dataframe\">\n",
       "  <thead>\n",
       "    <tr style=\"text-align: right;\">\n",
       "      <th></th>\n",
       "      <th>M/F</th>\n",
       "      <th>Age</th>\n",
       "      <th>Educ</th>\n",
       "      <th>SES</th>\n",
       "      <th>MMSE</th>\n",
       "      <th>eTIV</th>\n",
       "      <th>nWBV</th>\n",
       "      <th>ASF</th>\n",
       "    </tr>\n",
       "  </thead>\n",
       "  <tbody>\n",
       "    <tr>\n",
       "      <th>126</th>\n",
       "      <td>M</td>\n",
       "      <td>70</td>\n",
       "      <td>5.0</td>\n",
       "      <td>1.0</td>\n",
       "      <td>30.0</td>\n",
       "      <td>1660</td>\n",
       "      <td>0.739</td>\n",
       "      <td>1.057</td>\n",
       "    </tr>\n",
       "    <tr>\n",
       "      <th>79</th>\n",
       "      <td>F</td>\n",
       "      <td>84</td>\n",
       "      <td>2.0</td>\n",
       "      <td>2.0</td>\n",
       "      <td>27.0</td>\n",
       "      <td>1390</td>\n",
       "      <td>0.727</td>\n",
       "      <td>1.263</td>\n",
       "    </tr>\n",
       "    <tr>\n",
       "      <th>5</th>\n",
       "      <td>F</td>\n",
       "      <td>81</td>\n",
       "      <td>5.0</td>\n",
       "      <td>2.0</td>\n",
       "      <td>30.0</td>\n",
       "      <td>1664</td>\n",
       "      <td>0.679</td>\n",
       "      <td>1.055</td>\n",
       "    </tr>\n",
       "    <tr>\n",
       "      <th>56</th>\n",
       "      <td>M</td>\n",
       "      <td>84</td>\n",
       "      <td>3.0</td>\n",
       "      <td>4.0</td>\n",
       "      <td>28.0</td>\n",
       "      <td>1483</td>\n",
       "      <td>0.697</td>\n",
       "      <td>1.183</td>\n",
       "    </tr>\n",
       "    <tr>\n",
       "      <th>120</th>\n",
       "      <td>F</td>\n",
       "      <td>74</td>\n",
       "      <td>5.0</td>\n",
       "      <td>2.0</td>\n",
       "      <td>30.0</td>\n",
       "      <td>1400</td>\n",
       "      <td>0.754</td>\n",
       "      <td>1.254</td>\n",
       "    </tr>\n",
       "    <tr>\n",
       "      <th>...</th>\n",
       "      <td>...</td>\n",
       "      <td>...</td>\n",
       "      <td>...</td>\n",
       "      <td>...</td>\n",
       "      <td>...</td>\n",
       "      <td>...</td>\n",
       "      <td>...</td>\n",
       "      <td>...</td>\n",
       "    </tr>\n",
       "    <tr>\n",
       "      <th>106</th>\n",
       "      <td>F</td>\n",
       "      <td>74</td>\n",
       "      <td>3.0</td>\n",
       "      <td>3.0</td>\n",
       "      <td>28.0</td>\n",
       "      <td>1614</td>\n",
       "      <td>0.697</td>\n",
       "      <td>1.087</td>\n",
       "    </tr>\n",
       "    <tr>\n",
       "      <th>14</th>\n",
       "      <td>F</td>\n",
       "      <td>58</td>\n",
       "      <td>5.0</td>\n",
       "      <td>1.0</td>\n",
       "      <td>30.0</td>\n",
       "      <td>1235</td>\n",
       "      <td>0.820</td>\n",
       "      <td>1.421</td>\n",
       "    </tr>\n",
       "    <tr>\n",
       "      <th>92</th>\n",
       "      <td>M</td>\n",
       "      <td>84</td>\n",
       "      <td>5.0</td>\n",
       "      <td>1.0</td>\n",
       "      <td>29.0</td>\n",
       "      <td>1707</td>\n",
       "      <td>0.731</td>\n",
       "      <td>1.028</td>\n",
       "    </tr>\n",
       "    <tr>\n",
       "      <th>179</th>\n",
       "      <td>M</td>\n",
       "      <td>86</td>\n",
       "      <td>1.0</td>\n",
       "      <td>4.0</td>\n",
       "      <td>15.0</td>\n",
       "      <td>1512</td>\n",
       "      <td>0.665</td>\n",
       "      <td>1.161</td>\n",
       "    </tr>\n",
       "    <tr>\n",
       "      <th>102</th>\n",
       "      <td>F</td>\n",
       "      <td>78</td>\n",
       "      <td>5.0</td>\n",
       "      <td>1.0</td>\n",
       "      <td>30.0</td>\n",
       "      <td>1243</td>\n",
       "      <td>0.747</td>\n",
       "      <td>1.412</td>\n",
       "    </tr>\n",
       "  </tbody>\n",
       "</table>\n",
       "<p>164 rows × 8 columns</p>\n",
       "</div>"
      ],
      "text/plain": [
       "    M/F  Age  Educ  SES  MMSE  eTIV   nWBV    ASF\n",
       "126   M   70   5.0  1.0  30.0  1660  0.739  1.057\n",
       "79    F   84   2.0  2.0  27.0  1390  0.727  1.263\n",
       "5     F   81   5.0  2.0  30.0  1664  0.679  1.055\n",
       "56    M   84   3.0  4.0  28.0  1483  0.697  1.183\n",
       "120   F   74   5.0  2.0  30.0  1400  0.754  1.254\n",
       "..   ..  ...   ...  ...   ...   ...    ...    ...\n",
       "106   F   74   3.0  3.0  28.0  1614  0.697  1.087\n",
       "14    F   58   5.0  1.0  30.0  1235  0.820  1.421\n",
       "92    M   84   5.0  1.0  29.0  1707  0.731  1.028\n",
       "179   M   86   1.0  4.0  15.0  1512  0.665  1.161\n",
       "102   F   78   5.0  1.0  30.0  1243  0.747  1.412\n",
       "\n",
       "[164 rows x 8 columns]"
      ]
     },
     "execution_count": 17,
     "metadata": {},
     "output_type": "execute_result"
    }
   ],
   "source": [
    "X_train"
   ]
  },
  {
   "cell_type": "code",
   "execution_count": 18,
   "id": "05bc84fc",
   "metadata": {},
   "outputs": [
    {
     "data": {
      "text/plain": [
       "M/F     0\n",
       "Age     0\n",
       "Educ    0\n",
       "SES     0\n",
       "MMSE    0\n",
       "CDR     0\n",
       "eTIV    0\n",
       "nWBV    0\n",
       "ASF     0\n",
       "dtype: int64"
      ]
     },
     "execution_count": 18,
     "metadata": {},
     "output_type": "execute_result"
    }
   ],
   "source": [
    "oasis1.isnull().sum()"
   ]
  },
  {
   "cell_type": "markdown",
   "id": "929025e4",
   "metadata": {},
   "source": [
    "## Preprocessing pipeline"
   ]
  },
  {
   "cell_type": "markdown",
   "id": "091f5cda",
   "metadata": {},
   "source": [
    "📜 Note: columns **nWBV and ASF** already normalized\n",
    " \n",
    " According to visualizations in file 'Demographic_visual.ipynb', we decided to scale as follows:\n",
    " \n",
    "**Columns to scale:**\n",
    "\n",
    "Standard Scale: age\n",
    "\n",
    "Robust Scale: eTIV, MMSE\n",
    "\n",
    "MinMax Scale: Educ"
   ]
  },
  {
   "cell_type": "code",
   "execution_count": 19,
   "id": "387af631",
   "metadata": {},
   "outputs": [],
   "source": [
    "standard_features = ['Age']\n",
    "robust_features = ['eTIV', 'MMSE']\n",
    "minmax_features = ['Educ', 'SES']\n",
    "nothing_to_scale = ['nWBV','ASF']\n",
    "binary_categorical_features = ['M/F']\n",
    "\n",
    "numerical_features = standard_features + robust_features + minmax_features + nothing_to_scale"
   ]
  },
  {
   "cell_type": "code",
   "execution_count": 20,
   "id": "647a35ac",
   "metadata": {},
   "outputs": [],
   "source": [
    "class CustomColumnTransformer(ColumnTransformer):\n",
    "    def transform(self, *args, **kwargs):\n",
    "        return pd.DataFrame(super().transform(*args, **kwargs), columns=self.get_feature_names_out())\n",
    "    def fit_transform(self, *args, **kwargs):\n",
    "        return pd.DataFrame(super().fit_transform(*args, **kwargs), columns=self.get_feature_names_out())"
   ]
  },
  {
   "cell_type": "code",
   "execution_count": 21,
   "id": "8cb646c8",
   "metadata": {},
   "outputs": [
    {
     "data": {
      "text/html": [
       "<style>#sk-153eef79-5d4b-4149-9e8c-513b8e8cc9f5 {color: black;background-color: white;}#sk-153eef79-5d4b-4149-9e8c-513b8e8cc9f5 pre{padding: 0;}#sk-153eef79-5d4b-4149-9e8c-513b8e8cc9f5 div.sk-toggleable {background-color: white;}#sk-153eef79-5d4b-4149-9e8c-513b8e8cc9f5 label.sk-toggleable__label {cursor: pointer;display: block;width: 100%;margin-bottom: 0;padding: 0.3em;box-sizing: border-box;text-align: center;}#sk-153eef79-5d4b-4149-9e8c-513b8e8cc9f5 label.sk-toggleable__label-arrow:before {content: \"▸\";float: left;margin-right: 0.25em;color: #696969;}#sk-153eef79-5d4b-4149-9e8c-513b8e8cc9f5 label.sk-toggleable__label-arrow:hover:before {color: black;}#sk-153eef79-5d4b-4149-9e8c-513b8e8cc9f5 div.sk-estimator:hover label.sk-toggleable__label-arrow:before {color: black;}#sk-153eef79-5d4b-4149-9e8c-513b8e8cc9f5 div.sk-toggleable__content {max-height: 0;max-width: 0;overflow: hidden;text-align: left;background-color: #f0f8ff;}#sk-153eef79-5d4b-4149-9e8c-513b8e8cc9f5 div.sk-toggleable__content pre {margin: 0.2em;color: black;border-radius: 0.25em;background-color: #f0f8ff;}#sk-153eef79-5d4b-4149-9e8c-513b8e8cc9f5 input.sk-toggleable__control:checked~div.sk-toggleable__content {max-height: 200px;max-width: 100%;overflow: auto;}#sk-153eef79-5d4b-4149-9e8c-513b8e8cc9f5 input.sk-toggleable__control:checked~label.sk-toggleable__label-arrow:before {content: \"▾\";}#sk-153eef79-5d4b-4149-9e8c-513b8e8cc9f5 div.sk-estimator input.sk-toggleable__control:checked~label.sk-toggleable__label {background-color: #d4ebff;}#sk-153eef79-5d4b-4149-9e8c-513b8e8cc9f5 div.sk-label input.sk-toggleable__control:checked~label.sk-toggleable__label {background-color: #d4ebff;}#sk-153eef79-5d4b-4149-9e8c-513b8e8cc9f5 input.sk-hidden--visually {border: 0;clip: rect(1px 1px 1px 1px);clip: rect(1px, 1px, 1px, 1px);height: 1px;margin: -1px;overflow: hidden;padding: 0;position: absolute;width: 1px;}#sk-153eef79-5d4b-4149-9e8c-513b8e8cc9f5 div.sk-estimator {font-family: monospace;background-color: #f0f8ff;border: 1px dotted black;border-radius: 0.25em;box-sizing: border-box;margin-bottom: 0.5em;}#sk-153eef79-5d4b-4149-9e8c-513b8e8cc9f5 div.sk-estimator:hover {background-color: #d4ebff;}#sk-153eef79-5d4b-4149-9e8c-513b8e8cc9f5 div.sk-parallel-item::after {content: \"\";width: 100%;border-bottom: 1px solid gray;flex-grow: 1;}#sk-153eef79-5d4b-4149-9e8c-513b8e8cc9f5 div.sk-label:hover label.sk-toggleable__label {background-color: #d4ebff;}#sk-153eef79-5d4b-4149-9e8c-513b8e8cc9f5 div.sk-serial::before {content: \"\";position: absolute;border-left: 1px solid gray;box-sizing: border-box;top: 2em;bottom: 0;left: 50%;}#sk-153eef79-5d4b-4149-9e8c-513b8e8cc9f5 div.sk-serial {display: flex;flex-direction: column;align-items: center;background-color: white;padding-right: 0.2em;padding-left: 0.2em;}#sk-153eef79-5d4b-4149-9e8c-513b8e8cc9f5 div.sk-item {z-index: 1;}#sk-153eef79-5d4b-4149-9e8c-513b8e8cc9f5 div.sk-parallel {display: flex;align-items: stretch;justify-content: center;background-color: white;}#sk-153eef79-5d4b-4149-9e8c-513b8e8cc9f5 div.sk-parallel::before {content: \"\";position: absolute;border-left: 1px solid gray;box-sizing: border-box;top: 2em;bottom: 0;left: 50%;}#sk-153eef79-5d4b-4149-9e8c-513b8e8cc9f5 div.sk-parallel-item {display: flex;flex-direction: column;position: relative;background-color: white;}#sk-153eef79-5d4b-4149-9e8c-513b8e8cc9f5 div.sk-parallel-item:first-child::after {align-self: flex-end;width: 50%;}#sk-153eef79-5d4b-4149-9e8c-513b8e8cc9f5 div.sk-parallel-item:last-child::after {align-self: flex-start;width: 50%;}#sk-153eef79-5d4b-4149-9e8c-513b8e8cc9f5 div.sk-parallel-item:only-child::after {width: 0;}#sk-153eef79-5d4b-4149-9e8c-513b8e8cc9f5 div.sk-dashed-wrapped {border: 1px dashed gray;margin: 0 0.4em 0.5em 0.4em;box-sizing: border-box;padding-bottom: 0.4em;background-color: white;position: relative;}#sk-153eef79-5d4b-4149-9e8c-513b8e8cc9f5 div.sk-label label {font-family: monospace;font-weight: bold;background-color: white;display: inline-block;line-height: 1.2em;}#sk-153eef79-5d4b-4149-9e8c-513b8e8cc9f5 div.sk-label-container {position: relative;z-index: 2;text-align: center;}#sk-153eef79-5d4b-4149-9e8c-513b8e8cc9f5 div.sk-container {/* jupyter's `normalize.less` sets `[hidden] { display: none; }` but bootstrap.min.css set `[hidden] { display: none !important; }` so we also need the `!important` here to be able to override the default hidden behavior on the sphinx rendered scikit-learn.org. See: https://github.com/scikit-learn/scikit-learn/issues/21755 */display: inline-block !important;position: relative;}#sk-153eef79-5d4b-4149-9e8c-513b8e8cc9f5 div.sk-text-repr-fallback {display: none;}</style><div id=\"sk-153eef79-5d4b-4149-9e8c-513b8e8cc9f5\" class=\"sk-top-container\"><div class=\"sk-text-repr-fallback\"><pre>Pipeline(steps=[(&#x27;numerical_transformer&#x27;,\n",
       "                 CustomColumnTransformer(remainder=&#x27;passthrough&#x27;,\n",
       "                                         transformers=[(&#x27;standard_scaler&#x27;,\n",
       "                                                        StandardScaler(),\n",
       "                                                        [&#x27;Age&#x27;]),\n",
       "                                                       (&#x27;robust_scaler&#x27;,\n",
       "                                                        RobustScaler(),\n",
       "                                                        [&#x27;eTIV&#x27;, &#x27;MMSE&#x27;]),\n",
       "                                                       (&#x27;minmax_scaler&#x27;,\n",
       "                                                        MinMaxScaler(),\n",
       "                                                        [&#x27;Educ&#x27;, &#x27;SES&#x27;])]))])</pre><b>Please rerun this cell to show the HTML repr or trust the notebook.</b></div><div class=\"sk-container\" hidden><div class=\"sk-item sk-dashed-wrapped\"><div class=\"sk-label-container\"><div class=\"sk-label sk-toggleable\"><input class=\"sk-toggleable__control sk-hidden--visually\" id=\"39d2d78b-f69f-40a3-b21c-0ddef6cf3b30\" type=\"checkbox\" ><label for=\"39d2d78b-f69f-40a3-b21c-0ddef6cf3b30\" class=\"sk-toggleable__label sk-toggleable__label-arrow\">Pipeline</label><div class=\"sk-toggleable__content\"><pre>Pipeline(steps=[(&#x27;numerical_transformer&#x27;,\n",
       "                 CustomColumnTransformer(remainder=&#x27;passthrough&#x27;,\n",
       "                                         transformers=[(&#x27;standard_scaler&#x27;,\n",
       "                                                        StandardScaler(),\n",
       "                                                        [&#x27;Age&#x27;]),\n",
       "                                                       (&#x27;robust_scaler&#x27;,\n",
       "                                                        RobustScaler(),\n",
       "                                                        [&#x27;eTIV&#x27;, &#x27;MMSE&#x27;]),\n",
       "                                                       (&#x27;minmax_scaler&#x27;,\n",
       "                                                        MinMaxScaler(),\n",
       "                                                        [&#x27;Educ&#x27;, &#x27;SES&#x27;])]))])</pre></div></div></div><div class=\"sk-serial\"><div class=\"sk-item sk-dashed-wrapped\"><div class=\"sk-label-container\"><div class=\"sk-label sk-toggleable\"><input class=\"sk-toggleable__control sk-hidden--visually\" id=\"ffcd395f-5567-4013-8143-d763ceaff064\" type=\"checkbox\" ><label for=\"ffcd395f-5567-4013-8143-d763ceaff064\" class=\"sk-toggleable__label sk-toggleable__label-arrow\">numerical_transformer: CustomColumnTransformer</label><div class=\"sk-toggleable__content\"><pre>CustomColumnTransformer(remainder=&#x27;passthrough&#x27;,\n",
       "                        transformers=[(&#x27;standard_scaler&#x27;, StandardScaler(),\n",
       "                                       [&#x27;Age&#x27;]),\n",
       "                                      (&#x27;robust_scaler&#x27;, RobustScaler(),\n",
       "                                       [&#x27;eTIV&#x27;, &#x27;MMSE&#x27;]),\n",
       "                                      (&#x27;minmax_scaler&#x27;, MinMaxScaler(),\n",
       "                                       [&#x27;Educ&#x27;, &#x27;SES&#x27;])])</pre></div></div></div><div class=\"sk-parallel\"><div class=\"sk-parallel-item\"><div class=\"sk-item\"><div class=\"sk-label-container\"><div class=\"sk-label sk-toggleable\"><input class=\"sk-toggleable__control sk-hidden--visually\" id=\"9c47d94f-aa97-4e64-bded-619e6221d6bf\" type=\"checkbox\" ><label for=\"9c47d94f-aa97-4e64-bded-619e6221d6bf\" class=\"sk-toggleable__label sk-toggleable__label-arrow\">standard_scaler</label><div class=\"sk-toggleable__content\"><pre>[&#x27;Age&#x27;]</pre></div></div></div><div class=\"sk-serial\"><div class=\"sk-item\"><div class=\"sk-estimator sk-toggleable\"><input class=\"sk-toggleable__control sk-hidden--visually\" id=\"922e0d00-e6cd-46b6-ab58-eb283778cc9b\" type=\"checkbox\" ><label for=\"922e0d00-e6cd-46b6-ab58-eb283778cc9b\" class=\"sk-toggleable__label sk-toggleable__label-arrow\">StandardScaler</label><div class=\"sk-toggleable__content\"><pre>StandardScaler()</pre></div></div></div></div></div></div><div class=\"sk-parallel-item\"><div class=\"sk-item\"><div class=\"sk-label-container\"><div class=\"sk-label sk-toggleable\"><input class=\"sk-toggleable__control sk-hidden--visually\" id=\"23c94feb-99e4-4cd2-8d46-69a01e8138e5\" type=\"checkbox\" ><label for=\"23c94feb-99e4-4cd2-8d46-69a01e8138e5\" class=\"sk-toggleable__label sk-toggleable__label-arrow\">robust_scaler</label><div class=\"sk-toggleable__content\"><pre>[&#x27;eTIV&#x27;, &#x27;MMSE&#x27;]</pre></div></div></div><div class=\"sk-serial\"><div class=\"sk-item\"><div class=\"sk-estimator sk-toggleable\"><input class=\"sk-toggleable__control sk-hidden--visually\" id=\"7cfb4768-0cf7-4508-99e4-30f242116c1c\" type=\"checkbox\" ><label for=\"7cfb4768-0cf7-4508-99e4-30f242116c1c\" class=\"sk-toggleable__label sk-toggleable__label-arrow\">RobustScaler</label><div class=\"sk-toggleable__content\"><pre>RobustScaler()</pre></div></div></div></div></div></div><div class=\"sk-parallel-item\"><div class=\"sk-item\"><div class=\"sk-label-container\"><div class=\"sk-label sk-toggleable\"><input class=\"sk-toggleable__control sk-hidden--visually\" id=\"37fa2ddb-a0fa-4c04-bd5e-530c1224d3fc\" type=\"checkbox\" ><label for=\"37fa2ddb-a0fa-4c04-bd5e-530c1224d3fc\" class=\"sk-toggleable__label sk-toggleable__label-arrow\">minmax_scaler</label><div class=\"sk-toggleable__content\"><pre>[&#x27;Educ&#x27;, &#x27;SES&#x27;]</pre></div></div></div><div class=\"sk-serial\"><div class=\"sk-item\"><div class=\"sk-estimator sk-toggleable\"><input class=\"sk-toggleable__control sk-hidden--visually\" id=\"17450d21-f082-42ab-b2c5-806ad9f0f8a8\" type=\"checkbox\" ><label for=\"17450d21-f082-42ab-b2c5-806ad9f0f8a8\" class=\"sk-toggleable__label sk-toggleable__label-arrow\">MinMaxScaler</label><div class=\"sk-toggleable__content\"><pre>MinMaxScaler()</pre></div></div></div></div></div></div><div class=\"sk-parallel-item\"><div class=\"sk-item\"><div class=\"sk-label-container\"><div class=\"sk-label sk-toggleable\"><input class=\"sk-toggleable__control sk-hidden--visually\" id=\"2ca9b42a-c21f-446f-a960-9b7e8a14eb02\" type=\"checkbox\" ><label for=\"2ca9b42a-c21f-446f-a960-9b7e8a14eb02\" class=\"sk-toggleable__label sk-toggleable__label-arrow\">remainder</label><div class=\"sk-toggleable__content\"><pre></pre></div></div></div><div class=\"sk-serial\"><div class=\"sk-item\"><div class=\"sk-estimator sk-toggleable\"><input class=\"sk-toggleable__control sk-hidden--visually\" id=\"358d7813-f13e-435d-bbd4-03790c2c022d\" type=\"checkbox\" ><label for=\"358d7813-f13e-435d-bbd4-03790c2c022d\" class=\"sk-toggleable__label sk-toggleable__label-arrow\">passthrough</label><div class=\"sk-toggleable__content\"><pre>passthrough</pre></div></div></div></div></div></div></div></div></div></div></div></div>"
      ],
      "text/plain": [
       "Pipeline(steps=[('numerical_transformer',\n",
       "                 CustomColumnTransformer(remainder='passthrough',\n",
       "                                         transformers=[('standard_scaler',\n",
       "                                                        StandardScaler(),\n",
       "                                                        ['Age']),\n",
       "                                                       ('robust_scaler',\n",
       "                                                        RobustScaler(),\n",
       "                                                        ['eTIV', 'MMSE']),\n",
       "                                                       ('minmax_scaler',\n",
       "                                                        MinMaxScaler(),\n",
       "                                                        ['Educ', 'SES'])]))])"
      ]
     },
     "execution_count": 21,
     "metadata": {},
     "output_type": "execute_result"
    }
   ],
   "source": [
    "# Transformer for numerical features\n",
    "\n",
    "def numerical_pipeline():\n",
    "    \"\"\"This function transforms all numerical features according to their respective scalers\n",
    "    \"\"\"\n",
    "    \n",
    "    # Simple Imputer\n",
    "    # simple_imputer_frequent = SimpleImputer(strategy = \"most_frequent\")\n",
    "    \n",
    "    # Scalers\n",
    "    standard_features = ['Age']\n",
    "    robust_features = ['eTIV', 'MMSE']\n",
    "    minmax_features = ['Educ', 'SES']\n",
    "    nothing_to_scale = ['nWBV','ASF']\n",
    "    \n",
    "    features_in_this_order = standard_features + robust_features + minmax_features + nothing_to_scale\n",
    "    \n",
    "    numerical_transformer = CustomColumnTransformer([\n",
    "        ('standard_scaler', StandardScaler(), standard_features),\n",
    "        ('robust_scaler', RobustScaler(), robust_features),\n",
    "        ('minmax_scaler', MinMaxScaler(), minmax_features),\n",
    "         ], remainder = 'passthrough')\n",
    "    \n",
    "    \n",
    "    # Pipeline\n",
    "    numerical_pipeline = Pipeline([\n",
    "        #(\"simple_imputer_most_frequent\", simple_imputer_frequent),\n",
    "        #(\"keeping_column_names\", ColumnNameExtractorAfterImputer(features_in_this_order)),\n",
    "        (\"numerical_transformer\", numerical_transformer)\n",
    "    ])\n",
    "    \n",
    "    return numerical_pipeline\n",
    "\n",
    "numerical_pipeline = numerical_pipeline()\n",
    "numerical_pipeline"
   ]
  },
  {
   "cell_type": "code",
   "execution_count": 22,
   "id": "11d3920a",
   "metadata": {},
   "outputs": [
    {
     "data": {
      "text/html": [
       "<style>#sk-b5c88449-dab5-40d6-9900-f35ff330f95f {color: black;background-color: white;}#sk-b5c88449-dab5-40d6-9900-f35ff330f95f pre{padding: 0;}#sk-b5c88449-dab5-40d6-9900-f35ff330f95f div.sk-toggleable {background-color: white;}#sk-b5c88449-dab5-40d6-9900-f35ff330f95f label.sk-toggleable__label {cursor: pointer;display: block;width: 100%;margin-bottom: 0;padding: 0.3em;box-sizing: border-box;text-align: center;}#sk-b5c88449-dab5-40d6-9900-f35ff330f95f label.sk-toggleable__label-arrow:before {content: \"▸\";float: left;margin-right: 0.25em;color: #696969;}#sk-b5c88449-dab5-40d6-9900-f35ff330f95f label.sk-toggleable__label-arrow:hover:before {color: black;}#sk-b5c88449-dab5-40d6-9900-f35ff330f95f div.sk-estimator:hover label.sk-toggleable__label-arrow:before {color: black;}#sk-b5c88449-dab5-40d6-9900-f35ff330f95f div.sk-toggleable__content {max-height: 0;max-width: 0;overflow: hidden;text-align: left;background-color: #f0f8ff;}#sk-b5c88449-dab5-40d6-9900-f35ff330f95f div.sk-toggleable__content pre {margin: 0.2em;color: black;border-radius: 0.25em;background-color: #f0f8ff;}#sk-b5c88449-dab5-40d6-9900-f35ff330f95f input.sk-toggleable__control:checked~div.sk-toggleable__content {max-height: 200px;max-width: 100%;overflow: auto;}#sk-b5c88449-dab5-40d6-9900-f35ff330f95f input.sk-toggleable__control:checked~label.sk-toggleable__label-arrow:before {content: \"▾\";}#sk-b5c88449-dab5-40d6-9900-f35ff330f95f div.sk-estimator input.sk-toggleable__control:checked~label.sk-toggleable__label {background-color: #d4ebff;}#sk-b5c88449-dab5-40d6-9900-f35ff330f95f div.sk-label input.sk-toggleable__control:checked~label.sk-toggleable__label {background-color: #d4ebff;}#sk-b5c88449-dab5-40d6-9900-f35ff330f95f input.sk-hidden--visually {border: 0;clip: rect(1px 1px 1px 1px);clip: rect(1px, 1px, 1px, 1px);height: 1px;margin: -1px;overflow: hidden;padding: 0;position: absolute;width: 1px;}#sk-b5c88449-dab5-40d6-9900-f35ff330f95f div.sk-estimator {font-family: monospace;background-color: #f0f8ff;border: 1px dotted black;border-radius: 0.25em;box-sizing: border-box;margin-bottom: 0.5em;}#sk-b5c88449-dab5-40d6-9900-f35ff330f95f div.sk-estimator:hover {background-color: #d4ebff;}#sk-b5c88449-dab5-40d6-9900-f35ff330f95f div.sk-parallel-item::after {content: \"\";width: 100%;border-bottom: 1px solid gray;flex-grow: 1;}#sk-b5c88449-dab5-40d6-9900-f35ff330f95f div.sk-label:hover label.sk-toggleable__label {background-color: #d4ebff;}#sk-b5c88449-dab5-40d6-9900-f35ff330f95f div.sk-serial::before {content: \"\";position: absolute;border-left: 1px solid gray;box-sizing: border-box;top: 2em;bottom: 0;left: 50%;}#sk-b5c88449-dab5-40d6-9900-f35ff330f95f div.sk-serial {display: flex;flex-direction: column;align-items: center;background-color: white;padding-right: 0.2em;padding-left: 0.2em;}#sk-b5c88449-dab5-40d6-9900-f35ff330f95f div.sk-item {z-index: 1;}#sk-b5c88449-dab5-40d6-9900-f35ff330f95f div.sk-parallel {display: flex;align-items: stretch;justify-content: center;background-color: white;}#sk-b5c88449-dab5-40d6-9900-f35ff330f95f div.sk-parallel::before {content: \"\";position: absolute;border-left: 1px solid gray;box-sizing: border-box;top: 2em;bottom: 0;left: 50%;}#sk-b5c88449-dab5-40d6-9900-f35ff330f95f div.sk-parallel-item {display: flex;flex-direction: column;position: relative;background-color: white;}#sk-b5c88449-dab5-40d6-9900-f35ff330f95f div.sk-parallel-item:first-child::after {align-self: flex-end;width: 50%;}#sk-b5c88449-dab5-40d6-9900-f35ff330f95f div.sk-parallel-item:last-child::after {align-self: flex-start;width: 50%;}#sk-b5c88449-dab5-40d6-9900-f35ff330f95f div.sk-parallel-item:only-child::after {width: 0;}#sk-b5c88449-dab5-40d6-9900-f35ff330f95f div.sk-dashed-wrapped {border: 1px dashed gray;margin: 0 0.4em 0.5em 0.4em;box-sizing: border-box;padding-bottom: 0.4em;background-color: white;position: relative;}#sk-b5c88449-dab5-40d6-9900-f35ff330f95f div.sk-label label {font-family: monospace;font-weight: bold;background-color: white;display: inline-block;line-height: 1.2em;}#sk-b5c88449-dab5-40d6-9900-f35ff330f95f div.sk-label-container {position: relative;z-index: 2;text-align: center;}#sk-b5c88449-dab5-40d6-9900-f35ff330f95f div.sk-container {/* jupyter's `normalize.less` sets `[hidden] { display: none; }` but bootstrap.min.css set `[hidden] { display: none !important; }` so we also need the `!important` here to be able to override the default hidden behavior on the sphinx rendered scikit-learn.org. See: https://github.com/scikit-learn/scikit-learn/issues/21755 */display: inline-block !important;position: relative;}#sk-b5c88449-dab5-40d6-9900-f35ff330f95f div.sk-text-repr-fallback {display: none;}</style><div id=\"sk-b5c88449-dab5-40d6-9900-f35ff330f95f\" class=\"sk-top-container\"><div class=\"sk-text-repr-fallback\"><pre>CustomColumnTransformer(transformers=[(&#x27;ohe_binary&#x27;,\n",
       "                                       OneHotEncoder(drop=&#x27;if_binary&#x27;,\n",
       "                                                     sparse=False),\n",
       "                                       [&#x27;M/F&#x27;])])</pre><b>Please rerun this cell to show the HTML repr or trust the notebook.</b></div><div class=\"sk-container\" hidden><div class=\"sk-item sk-dashed-wrapped\"><div class=\"sk-label-container\"><div class=\"sk-label sk-toggleable\"><input class=\"sk-toggleable__control sk-hidden--visually\" id=\"fbfc3d59-d3cc-4d3c-9f27-adc76bb56a63\" type=\"checkbox\" ><label for=\"fbfc3d59-d3cc-4d3c-9f27-adc76bb56a63\" class=\"sk-toggleable__label sk-toggleable__label-arrow\">CustomColumnTransformer</label><div class=\"sk-toggleable__content\"><pre>CustomColumnTransformer(transformers=[(&#x27;ohe_binary&#x27;,\n",
       "                                       OneHotEncoder(drop=&#x27;if_binary&#x27;,\n",
       "                                                     sparse=False),\n",
       "                                       [&#x27;M/F&#x27;])])</pre></div></div></div><div class=\"sk-parallel\"><div class=\"sk-parallel-item\"><div class=\"sk-item\"><div class=\"sk-label-container\"><div class=\"sk-label sk-toggleable\"><input class=\"sk-toggleable__control sk-hidden--visually\" id=\"d522b06f-f48d-42f3-afc6-6f538de8d319\" type=\"checkbox\" ><label for=\"d522b06f-f48d-42f3-afc6-6f538de8d319\" class=\"sk-toggleable__label sk-toggleable__label-arrow\">ohe_binary</label><div class=\"sk-toggleable__content\"><pre>[&#x27;M/F&#x27;]</pre></div></div></div><div class=\"sk-serial\"><div class=\"sk-item\"><div class=\"sk-estimator sk-toggleable\"><input class=\"sk-toggleable__control sk-hidden--visually\" id=\"2f1020ff-42f8-4308-a1e6-59db64af2e99\" type=\"checkbox\" ><label for=\"2f1020ff-42f8-4308-a1e6-59db64af2e99\" class=\"sk-toggleable__label sk-toggleable__label-arrow\">OneHotEncoder</label><div class=\"sk-toggleable__content\"><pre>OneHotEncoder(drop=&#x27;if_binary&#x27;, sparse=False)</pre></div></div></div></div></div></div></div></div></div></div>"
      ],
      "text/plain": [
       "CustomColumnTransformer(transformers=[('ohe_binary',\n",
       "                                       OneHotEncoder(drop='if_binary',\n",
       "                                                     sparse=False),\n",
       "                                       ['M/F'])])"
      ]
     },
     "execution_count": 22,
     "metadata": {},
     "output_type": "execute_result"
    }
   ],
   "source": [
    "# Transformer for categorical features\n",
    "\n",
    "def binary_categorical_transformer():\n",
    "    \"\"\"This function encodes all categorical features according to their respective encoder.\n",
    "    \"\"\"\n",
    "    categorical_transformer = CustomColumnTransformer([\n",
    "       (\"ohe_binary\", \n",
    "         OneHotEncoder(sparse = False,\n",
    "                       drop = \"if_binary\", \n",
    "                       handle_unknown = \"error\"), \n",
    "         binary_categorical_features)\n",
    "    ])\n",
    "    return categorical_transformer\n",
    "\n",
    "binary_category_transformer = binary_categorical_transformer()\n",
    "binary_category_transformer"
   ]
  },
  {
   "cell_type": "markdown",
   "id": "4b657f90",
   "metadata": {},
   "source": [
    "## Parellel Transformation: Numerical + Categorical"
   ]
  },
  {
   "cell_type": "code",
   "execution_count": 23,
   "id": "8b433ba4",
   "metadata": {},
   "outputs": [
    {
     "data": {
      "text/html": [
       "<style>#sk-46fc84e0-298f-435c-b64d-00bc6091f956 {color: black;background-color: white;}#sk-46fc84e0-298f-435c-b64d-00bc6091f956 pre{padding: 0;}#sk-46fc84e0-298f-435c-b64d-00bc6091f956 div.sk-toggleable {background-color: white;}#sk-46fc84e0-298f-435c-b64d-00bc6091f956 label.sk-toggleable__label {cursor: pointer;display: block;width: 100%;margin-bottom: 0;padding: 0.3em;box-sizing: border-box;text-align: center;}#sk-46fc84e0-298f-435c-b64d-00bc6091f956 label.sk-toggleable__label-arrow:before {content: \"▸\";float: left;margin-right: 0.25em;color: #696969;}#sk-46fc84e0-298f-435c-b64d-00bc6091f956 label.sk-toggleable__label-arrow:hover:before {color: black;}#sk-46fc84e0-298f-435c-b64d-00bc6091f956 div.sk-estimator:hover label.sk-toggleable__label-arrow:before {color: black;}#sk-46fc84e0-298f-435c-b64d-00bc6091f956 div.sk-toggleable__content {max-height: 0;max-width: 0;overflow: hidden;text-align: left;background-color: #f0f8ff;}#sk-46fc84e0-298f-435c-b64d-00bc6091f956 div.sk-toggleable__content pre {margin: 0.2em;color: black;border-radius: 0.25em;background-color: #f0f8ff;}#sk-46fc84e0-298f-435c-b64d-00bc6091f956 input.sk-toggleable__control:checked~div.sk-toggleable__content {max-height: 200px;max-width: 100%;overflow: auto;}#sk-46fc84e0-298f-435c-b64d-00bc6091f956 input.sk-toggleable__control:checked~label.sk-toggleable__label-arrow:before {content: \"▾\";}#sk-46fc84e0-298f-435c-b64d-00bc6091f956 div.sk-estimator input.sk-toggleable__control:checked~label.sk-toggleable__label {background-color: #d4ebff;}#sk-46fc84e0-298f-435c-b64d-00bc6091f956 div.sk-label input.sk-toggleable__control:checked~label.sk-toggleable__label {background-color: #d4ebff;}#sk-46fc84e0-298f-435c-b64d-00bc6091f956 input.sk-hidden--visually {border: 0;clip: rect(1px 1px 1px 1px);clip: rect(1px, 1px, 1px, 1px);height: 1px;margin: -1px;overflow: hidden;padding: 0;position: absolute;width: 1px;}#sk-46fc84e0-298f-435c-b64d-00bc6091f956 div.sk-estimator {font-family: monospace;background-color: #f0f8ff;border: 1px dotted black;border-radius: 0.25em;box-sizing: border-box;margin-bottom: 0.5em;}#sk-46fc84e0-298f-435c-b64d-00bc6091f956 div.sk-estimator:hover {background-color: #d4ebff;}#sk-46fc84e0-298f-435c-b64d-00bc6091f956 div.sk-parallel-item::after {content: \"\";width: 100%;border-bottom: 1px solid gray;flex-grow: 1;}#sk-46fc84e0-298f-435c-b64d-00bc6091f956 div.sk-label:hover label.sk-toggleable__label {background-color: #d4ebff;}#sk-46fc84e0-298f-435c-b64d-00bc6091f956 div.sk-serial::before {content: \"\";position: absolute;border-left: 1px solid gray;box-sizing: border-box;top: 2em;bottom: 0;left: 50%;}#sk-46fc84e0-298f-435c-b64d-00bc6091f956 div.sk-serial {display: flex;flex-direction: column;align-items: center;background-color: white;padding-right: 0.2em;padding-left: 0.2em;}#sk-46fc84e0-298f-435c-b64d-00bc6091f956 div.sk-item {z-index: 1;}#sk-46fc84e0-298f-435c-b64d-00bc6091f956 div.sk-parallel {display: flex;align-items: stretch;justify-content: center;background-color: white;}#sk-46fc84e0-298f-435c-b64d-00bc6091f956 div.sk-parallel::before {content: \"\";position: absolute;border-left: 1px solid gray;box-sizing: border-box;top: 2em;bottom: 0;left: 50%;}#sk-46fc84e0-298f-435c-b64d-00bc6091f956 div.sk-parallel-item {display: flex;flex-direction: column;position: relative;background-color: white;}#sk-46fc84e0-298f-435c-b64d-00bc6091f956 div.sk-parallel-item:first-child::after {align-self: flex-end;width: 50%;}#sk-46fc84e0-298f-435c-b64d-00bc6091f956 div.sk-parallel-item:last-child::after {align-self: flex-start;width: 50%;}#sk-46fc84e0-298f-435c-b64d-00bc6091f956 div.sk-parallel-item:only-child::after {width: 0;}#sk-46fc84e0-298f-435c-b64d-00bc6091f956 div.sk-dashed-wrapped {border: 1px dashed gray;margin: 0 0.4em 0.5em 0.4em;box-sizing: border-box;padding-bottom: 0.4em;background-color: white;position: relative;}#sk-46fc84e0-298f-435c-b64d-00bc6091f956 div.sk-label label {font-family: monospace;font-weight: bold;background-color: white;display: inline-block;line-height: 1.2em;}#sk-46fc84e0-298f-435c-b64d-00bc6091f956 div.sk-label-container {position: relative;z-index: 2;text-align: center;}#sk-46fc84e0-298f-435c-b64d-00bc6091f956 div.sk-container {/* jupyter's `normalize.less` sets `[hidden] { display: none; }` but bootstrap.min.css set `[hidden] { display: none !important; }` so we also need the `!important` here to be able to override the default hidden behavior on the sphinx rendered scikit-learn.org. See: https://github.com/scikit-learn/scikit-learn/issues/21755 */display: inline-block !important;position: relative;}#sk-46fc84e0-298f-435c-b64d-00bc6091f956 div.sk-text-repr-fallback {display: none;}</style><div id=\"sk-46fc84e0-298f-435c-b64d-00bc6091f956\" class=\"sk-top-container\"><div class=\"sk-text-repr-fallback\"><pre>CustomColumnTransformer(transformers=[(&#x27;num_transformer&#x27;,\n",
       "                                       Pipeline(steps=[(&#x27;numerical_transformer&#x27;,\n",
       "                                                        CustomColumnTransformer(remainder=&#x27;passthrough&#x27;,\n",
       "                                                                                transformers=[(&#x27;standard_scaler&#x27;,\n",
       "                                                                                               StandardScaler(),\n",
       "                                                                                               [&#x27;Age&#x27;]),\n",
       "                                                                                              (&#x27;robust_scaler&#x27;,\n",
       "                                                                                               RobustScaler(),\n",
       "                                                                                               [&#x27;eTIV&#x27;,\n",
       "                                                                                                &#x27;MMSE&#x27;]),\n",
       "                                                                                              (&#x27;minmax_scaler&#x27;,\n",
       "                                                                                               MinMaxScaler(),\n",
       "                                                                                               [&#x27;Educ&#x27;,\n",
       "                                                                                                &#x27;SES&#x27;])]))]),\n",
       "                                       [&#x27;Age&#x27;, &#x27;eTIV&#x27;, &#x27;MMSE&#x27;, &#x27;Educ&#x27;, &#x27;SES&#x27;,\n",
       "                                        &#x27;nWBV&#x27;, &#x27;ASF&#x27;]),\n",
       "                                      (&#x27;cat_transformer&#x27;,\n",
       "                                       CustomColumnTransformer(transformers=[(&#x27;ohe_binary&#x27;,\n",
       "                                                                              OneHotEncoder(drop=&#x27;if_binary&#x27;,\n",
       "                                                                                            sparse=False),\n",
       "                                                                              [&#x27;M/F&#x27;])]),\n",
       "                                       [&#x27;M/F&#x27;])])</pre><b>Please rerun this cell to show the HTML repr or trust the notebook.</b></div><div class=\"sk-container\" hidden><div class=\"sk-item sk-dashed-wrapped\"><div class=\"sk-label-container\"><div class=\"sk-label sk-toggleable\"><input class=\"sk-toggleable__control sk-hidden--visually\" id=\"65d3d504-97bb-4d71-84cf-95b71001a8d7\" type=\"checkbox\" ><label for=\"65d3d504-97bb-4d71-84cf-95b71001a8d7\" class=\"sk-toggleable__label sk-toggleable__label-arrow\">CustomColumnTransformer</label><div class=\"sk-toggleable__content\"><pre>CustomColumnTransformer(transformers=[(&#x27;num_transformer&#x27;,\n",
       "                                       Pipeline(steps=[(&#x27;numerical_transformer&#x27;,\n",
       "                                                        CustomColumnTransformer(remainder=&#x27;passthrough&#x27;,\n",
       "                                                                                transformers=[(&#x27;standard_scaler&#x27;,\n",
       "                                                                                               StandardScaler(),\n",
       "                                                                                               [&#x27;Age&#x27;]),\n",
       "                                                                                              (&#x27;robust_scaler&#x27;,\n",
       "                                                                                               RobustScaler(),\n",
       "                                                                                               [&#x27;eTIV&#x27;,\n",
       "                                                                                                &#x27;MMSE&#x27;]),\n",
       "                                                                                              (&#x27;minmax_scaler&#x27;,\n",
       "                                                                                               MinMaxScaler(),\n",
       "                                                                                               [&#x27;Educ&#x27;,\n",
       "                                                                                                &#x27;SES&#x27;])]))]),\n",
       "                                       [&#x27;Age&#x27;, &#x27;eTIV&#x27;, &#x27;MMSE&#x27;, &#x27;Educ&#x27;, &#x27;SES&#x27;,\n",
       "                                        &#x27;nWBV&#x27;, &#x27;ASF&#x27;]),\n",
       "                                      (&#x27;cat_transformer&#x27;,\n",
       "                                       CustomColumnTransformer(transformers=[(&#x27;ohe_binary&#x27;,\n",
       "                                                                              OneHotEncoder(drop=&#x27;if_binary&#x27;,\n",
       "                                                                                            sparse=False),\n",
       "                                                                              [&#x27;M/F&#x27;])]),\n",
       "                                       [&#x27;M/F&#x27;])])</pre></div></div></div><div class=\"sk-parallel\"><div class=\"sk-parallel-item\"><div class=\"sk-item\"><div class=\"sk-label-container\"><div class=\"sk-label sk-toggleable\"><input class=\"sk-toggleable__control sk-hidden--visually\" id=\"a2466259-ddc7-4553-8b22-ce4abe77a9b7\" type=\"checkbox\" ><label for=\"a2466259-ddc7-4553-8b22-ce4abe77a9b7\" class=\"sk-toggleable__label sk-toggleable__label-arrow\">num_transformer</label><div class=\"sk-toggleable__content\"><pre>[&#x27;Age&#x27;, &#x27;eTIV&#x27;, &#x27;MMSE&#x27;, &#x27;Educ&#x27;, &#x27;SES&#x27;, &#x27;nWBV&#x27;, &#x27;ASF&#x27;]</pre></div></div></div><div class=\"sk-serial\"><div class=\"sk-item\"><div class=\"sk-serial\"><div class=\"sk-item sk-dashed-wrapped\"><div class=\"sk-label-container\"><div class=\"sk-label sk-toggleable\"><input class=\"sk-toggleable__control sk-hidden--visually\" id=\"c1ca4e49-576c-4022-a029-078c9d8cac06\" type=\"checkbox\" ><label for=\"c1ca4e49-576c-4022-a029-078c9d8cac06\" class=\"sk-toggleable__label sk-toggleable__label-arrow\">numerical_transformer: CustomColumnTransformer</label><div class=\"sk-toggleable__content\"><pre>CustomColumnTransformer(remainder=&#x27;passthrough&#x27;,\n",
       "                        transformers=[(&#x27;standard_scaler&#x27;, StandardScaler(),\n",
       "                                       [&#x27;Age&#x27;]),\n",
       "                                      (&#x27;robust_scaler&#x27;, RobustScaler(),\n",
       "                                       [&#x27;eTIV&#x27;, &#x27;MMSE&#x27;]),\n",
       "                                      (&#x27;minmax_scaler&#x27;, MinMaxScaler(),\n",
       "                                       [&#x27;Educ&#x27;, &#x27;SES&#x27;])])</pre></div></div></div><div class=\"sk-parallel\"><div class=\"sk-parallel-item\"><div class=\"sk-item\"><div class=\"sk-label-container\"><div class=\"sk-label sk-toggleable\"><input class=\"sk-toggleable__control sk-hidden--visually\" id=\"9718f273-9195-4786-bc3b-3c815d788227\" type=\"checkbox\" ><label for=\"9718f273-9195-4786-bc3b-3c815d788227\" class=\"sk-toggleable__label sk-toggleable__label-arrow\">standard_scaler</label><div class=\"sk-toggleable__content\"><pre>[&#x27;Age&#x27;]</pre></div></div></div><div class=\"sk-serial\"><div class=\"sk-item\"><div class=\"sk-estimator sk-toggleable\"><input class=\"sk-toggleable__control sk-hidden--visually\" id=\"3625d97e-a1fb-4d14-85a8-bc3146a7e7af\" type=\"checkbox\" ><label for=\"3625d97e-a1fb-4d14-85a8-bc3146a7e7af\" class=\"sk-toggleable__label sk-toggleable__label-arrow\">StandardScaler</label><div class=\"sk-toggleable__content\"><pre>StandardScaler()</pre></div></div></div></div></div></div><div class=\"sk-parallel-item\"><div class=\"sk-item\"><div class=\"sk-label-container\"><div class=\"sk-label sk-toggleable\"><input class=\"sk-toggleable__control sk-hidden--visually\" id=\"2deb1cc8-59de-46e2-b852-66008741a21d\" type=\"checkbox\" ><label for=\"2deb1cc8-59de-46e2-b852-66008741a21d\" class=\"sk-toggleable__label sk-toggleable__label-arrow\">robust_scaler</label><div class=\"sk-toggleable__content\"><pre>[&#x27;eTIV&#x27;, &#x27;MMSE&#x27;]</pre></div></div></div><div class=\"sk-serial\"><div class=\"sk-item\"><div class=\"sk-estimator sk-toggleable\"><input class=\"sk-toggleable__control sk-hidden--visually\" id=\"8ebe309e-bce8-4540-bed8-9443f4cf3305\" type=\"checkbox\" ><label for=\"8ebe309e-bce8-4540-bed8-9443f4cf3305\" class=\"sk-toggleable__label sk-toggleable__label-arrow\">RobustScaler</label><div class=\"sk-toggleable__content\"><pre>RobustScaler()</pre></div></div></div></div></div></div><div class=\"sk-parallel-item\"><div class=\"sk-item\"><div class=\"sk-label-container\"><div class=\"sk-label sk-toggleable\"><input class=\"sk-toggleable__control sk-hidden--visually\" id=\"6152d095-19ee-43ac-891d-f7a64ce3457b\" type=\"checkbox\" ><label for=\"6152d095-19ee-43ac-891d-f7a64ce3457b\" class=\"sk-toggleable__label sk-toggleable__label-arrow\">minmax_scaler</label><div class=\"sk-toggleable__content\"><pre>[&#x27;Educ&#x27;, &#x27;SES&#x27;]</pre></div></div></div><div class=\"sk-serial\"><div class=\"sk-item\"><div class=\"sk-estimator sk-toggleable\"><input class=\"sk-toggleable__control sk-hidden--visually\" id=\"1011a246-a2b5-42e3-b593-1c8ff3246e50\" type=\"checkbox\" ><label for=\"1011a246-a2b5-42e3-b593-1c8ff3246e50\" class=\"sk-toggleable__label sk-toggleable__label-arrow\">MinMaxScaler</label><div class=\"sk-toggleable__content\"><pre>MinMaxScaler()</pre></div></div></div></div></div></div><div class=\"sk-parallel-item\"><div class=\"sk-item\"><div class=\"sk-label-container\"><div class=\"sk-label sk-toggleable\"><input class=\"sk-toggleable__control sk-hidden--visually\" id=\"f599769f-46c9-43a5-89ea-5194afe22c18\" type=\"checkbox\" ><label for=\"f599769f-46c9-43a5-89ea-5194afe22c18\" class=\"sk-toggleable__label sk-toggleable__label-arrow\">remainder</label><div class=\"sk-toggleable__content\"><pre></pre></div></div></div><div class=\"sk-serial\"><div class=\"sk-item\"><div class=\"sk-estimator sk-toggleable\"><input class=\"sk-toggleable__control sk-hidden--visually\" id=\"80831876-2853-42c5-ba36-2c57328991d0\" type=\"checkbox\" ><label for=\"80831876-2853-42c5-ba36-2c57328991d0\" class=\"sk-toggleable__label sk-toggleable__label-arrow\">passthrough</label><div class=\"sk-toggleable__content\"><pre>passthrough</pre></div></div></div></div></div></div></div></div></div></div></div></div></div><div class=\"sk-parallel-item\"><div class=\"sk-item\"><div class=\"sk-label-container\"><div class=\"sk-label sk-toggleable\"><input class=\"sk-toggleable__control sk-hidden--visually\" id=\"65602129-3782-42ec-b250-d99b98f66348\" type=\"checkbox\" ><label for=\"65602129-3782-42ec-b250-d99b98f66348\" class=\"sk-toggleable__label sk-toggleable__label-arrow\">cat_transformer</label><div class=\"sk-toggleable__content\"><pre>[&#x27;M/F&#x27;]</pre></div></div></div><div class=\"sk-serial\"><div class=\"sk-item sk-dashed-wrapped\"><div class=\"sk-parallel\"><div class=\"sk-parallel-item\"><div class=\"sk-item\"><div class=\"sk-label-container\"><div class=\"sk-label sk-toggleable\"><input class=\"sk-toggleable__control sk-hidden--visually\" id=\"054c0a43-e5e8-4535-a8af-815ccd34edea\" type=\"checkbox\" ><label for=\"054c0a43-e5e8-4535-a8af-815ccd34edea\" class=\"sk-toggleable__label sk-toggleable__label-arrow\">ohe_binary</label><div class=\"sk-toggleable__content\"><pre>[&#x27;M/F&#x27;]</pre></div></div></div><div class=\"sk-serial\"><div class=\"sk-item\"><div class=\"sk-estimator sk-toggleable\"><input class=\"sk-toggleable__control sk-hidden--visually\" id=\"f0a811de-b1d7-4903-ae3f-27f473eac869\" type=\"checkbox\" ><label for=\"f0a811de-b1d7-4903-ae3f-27f473eac869\" class=\"sk-toggleable__label sk-toggleable__label-arrow\">OneHotEncoder</label><div class=\"sk-toggleable__content\"><pre>OneHotEncoder(drop=&#x27;if_binary&#x27;, sparse=False)</pre></div></div></div></div></div></div></div></div></div></div></div></div></div></div></div>"
      ],
      "text/plain": [
       "CustomColumnTransformer(transformers=[('num_transformer',\n",
       "                                       Pipeline(steps=[('numerical_transformer',\n",
       "                                                        CustomColumnTransformer(remainder='passthrough',\n",
       "                                                                                transformers=[('standard_scaler',\n",
       "                                                                                               StandardScaler(),\n",
       "                                                                                               ['Age']),\n",
       "                                                                                              ('robust_scaler',\n",
       "                                                                                               RobustScaler(),\n",
       "                                                                                               ['eTIV',\n",
       "                                                                                                'MMSE']),\n",
       "                                                                                              ('minmax_scaler',\n",
       "                                                                                               MinMaxScaler(),\n",
       "                                                                                               ['Educ',\n",
       "                                                                                                'SES'])]))]),\n",
       "                                       ['Age', 'eTIV', 'MMSE', 'Educ', 'SES',\n",
       "                                        'nWBV', 'ASF']),\n",
       "                                      ('cat_transformer',\n",
       "                                       CustomColumnTransformer(transformers=[('ohe_binary',\n",
       "                                                                              OneHotEncoder(drop='if_binary',\n",
       "                                                                                            sparse=False),\n",
       "                                                                              ['M/F'])]),\n",
       "                                       ['M/F'])])"
      ]
     },
     "execution_count": 23,
     "metadata": {},
     "output_type": "execute_result"
    }
   ],
   "source": [
    "preprocessor = CustomColumnTransformer([\n",
    "            (\"num_transformer\", numerical_pipeline, numerical_features ),\n",
    "            (\"cat_transformer\", binary_category_transformer, binary_categorical_features)\n",
    "            ])\n",
    "\n",
    "preprocessor"
   ]
  },
  {
   "cell_type": "code",
   "execution_count": 24,
   "id": "23c2668b",
   "metadata": {},
   "outputs": [
    {
     "data": {
      "text/html": [
       "<div>\n",
       "<style scoped>\n",
       "    .dataframe tbody tr th:only-of-type {\n",
       "        vertical-align: middle;\n",
       "    }\n",
       "\n",
       "    .dataframe tbody tr th {\n",
       "        vertical-align: top;\n",
       "    }\n",
       "\n",
       "    .dataframe thead th {\n",
       "        text-align: right;\n",
       "    }\n",
       "</style>\n",
       "<table border=\"1\" class=\"dataframe\">\n",
       "  <thead>\n",
       "    <tr style=\"text-align: right;\">\n",
       "      <th></th>\n",
       "      <th>num_transformer__standard_scaler__Age</th>\n",
       "      <th>num_transformer__robust_scaler__eTIV</th>\n",
       "      <th>num_transformer__robust_scaler__MMSE</th>\n",
       "      <th>num_transformer__minmax_scaler__Educ</th>\n",
       "      <th>num_transformer__minmax_scaler__SES</th>\n",
       "      <th>num_transformer__remainder__nWBV</th>\n",
       "      <th>num_transformer__remainder__ASF</th>\n",
       "      <th>cat_transformer__ohe_binary__M/F_M</th>\n",
       "    </tr>\n",
       "  </thead>\n",
       "  <tbody>\n",
       "    <tr>\n",
       "      <th>0</th>\n",
       "      <td>-0.224264</td>\n",
       "      <td>1.082592</td>\n",
       "      <td>0.25</td>\n",
       "      <td>1.00</td>\n",
       "      <td>0.00</td>\n",
       "      <td>0.739</td>\n",
       "      <td>1.057</td>\n",
       "      <td>1.0</td>\n",
       "    </tr>\n",
       "    <tr>\n",
       "      <th>1</th>\n",
       "      <td>0.959437</td>\n",
       "      <td>-0.289708</td>\n",
       "      <td>-0.50</td>\n",
       "      <td>0.25</td>\n",
       "      <td>0.25</td>\n",
       "      <td>0.727</td>\n",
       "      <td>1.263</td>\n",
       "      <td>0.0</td>\n",
       "    </tr>\n",
       "    <tr>\n",
       "      <th>2</th>\n",
       "      <td>0.705787</td>\n",
       "      <td>1.102922</td>\n",
       "      <td>0.25</td>\n",
       "      <td>1.00</td>\n",
       "      <td>0.25</td>\n",
       "      <td>0.679</td>\n",
       "      <td>1.055</td>\n",
       "      <td>0.0</td>\n",
       "    </tr>\n",
       "    <tr>\n",
       "      <th>3</th>\n",
       "      <td>0.959437</td>\n",
       "      <td>0.182973</td>\n",
       "      <td>-0.25</td>\n",
       "      <td>0.50</td>\n",
       "      <td>0.75</td>\n",
       "      <td>0.697</td>\n",
       "      <td>1.183</td>\n",
       "      <td>1.0</td>\n",
       "    </tr>\n",
       "    <tr>\n",
       "      <th>4</th>\n",
       "      <td>0.113936</td>\n",
       "      <td>-0.238882</td>\n",
       "      <td>0.25</td>\n",
       "      <td>1.00</td>\n",
       "      <td>0.25</td>\n",
       "      <td>0.754</td>\n",
       "      <td>1.254</td>\n",
       "      <td>0.0</td>\n",
       "    </tr>\n",
       "    <tr>\n",
       "      <th>...</th>\n",
       "      <td>...</td>\n",
       "      <td>...</td>\n",
       "      <td>...</td>\n",
       "      <td>...</td>\n",
       "      <td>...</td>\n",
       "      <td>...</td>\n",
       "      <td>...</td>\n",
       "      <td>...</td>\n",
       "    </tr>\n",
       "    <tr>\n",
       "      <th>159</th>\n",
       "      <td>0.113936</td>\n",
       "      <td>0.848793</td>\n",
       "      <td>-0.25</td>\n",
       "      <td>0.50</td>\n",
       "      <td>0.50</td>\n",
       "      <td>0.697</td>\n",
       "      <td>1.087</td>\n",
       "      <td>0.0</td>\n",
       "    </tr>\n",
       "    <tr>\n",
       "      <th>160</th>\n",
       "      <td>-1.238865</td>\n",
       "      <td>-1.077510</td>\n",
       "      <td>0.25</td>\n",
       "      <td>1.00</td>\n",
       "      <td>0.00</td>\n",
       "      <td>0.820</td>\n",
       "      <td>1.421</td>\n",
       "      <td>0.0</td>\n",
       "    </tr>\n",
       "    <tr>\n",
       "      <th>161</th>\n",
       "      <td>0.959437</td>\n",
       "      <td>1.321474</td>\n",
       "      <td>0.00</td>\n",
       "      <td>1.00</td>\n",
       "      <td>0.00</td>\n",
       "      <td>0.731</td>\n",
       "      <td>1.028</td>\n",
       "      <td>1.0</td>\n",
       "    </tr>\n",
       "    <tr>\n",
       "      <th>162</th>\n",
       "      <td>1.128537</td>\n",
       "      <td>0.330368</td>\n",
       "      <td>-3.50</td>\n",
       "      <td>0.00</td>\n",
       "      <td>0.75</td>\n",
       "      <td>0.665</td>\n",
       "      <td>1.161</td>\n",
       "      <td>1.0</td>\n",
       "    </tr>\n",
       "    <tr>\n",
       "      <th>163</th>\n",
       "      <td>0.452137</td>\n",
       "      <td>-1.036849</td>\n",
       "      <td>0.25</td>\n",
       "      <td>1.00</td>\n",
       "      <td>0.00</td>\n",
       "      <td>0.747</td>\n",
       "      <td>1.412</td>\n",
       "      <td>0.0</td>\n",
       "    </tr>\n",
       "  </tbody>\n",
       "</table>\n",
       "<p>164 rows × 8 columns</p>\n",
       "</div>"
      ],
      "text/plain": [
       "     num_transformer__standard_scaler__Age  \\\n",
       "0                                -0.224264   \n",
       "1                                 0.959437   \n",
       "2                                 0.705787   \n",
       "3                                 0.959437   \n",
       "4                                 0.113936   \n",
       "..                                     ...   \n",
       "159                               0.113936   \n",
       "160                              -1.238865   \n",
       "161                               0.959437   \n",
       "162                               1.128537   \n",
       "163                               0.452137   \n",
       "\n",
       "     num_transformer__robust_scaler__eTIV  \\\n",
       "0                                1.082592   \n",
       "1                               -0.289708   \n",
       "2                                1.102922   \n",
       "3                                0.182973   \n",
       "4                               -0.238882   \n",
       "..                                    ...   \n",
       "159                              0.848793   \n",
       "160                             -1.077510   \n",
       "161                              1.321474   \n",
       "162                              0.330368   \n",
       "163                             -1.036849   \n",
       "\n",
       "     num_transformer__robust_scaler__MMSE  \\\n",
       "0                                    0.25   \n",
       "1                                   -0.50   \n",
       "2                                    0.25   \n",
       "3                                   -0.25   \n",
       "4                                    0.25   \n",
       "..                                    ...   \n",
       "159                                 -0.25   \n",
       "160                                  0.25   \n",
       "161                                  0.00   \n",
       "162                                 -3.50   \n",
       "163                                  0.25   \n",
       "\n",
       "     num_transformer__minmax_scaler__Educ  \\\n",
       "0                                    1.00   \n",
       "1                                    0.25   \n",
       "2                                    1.00   \n",
       "3                                    0.50   \n",
       "4                                    1.00   \n",
       "..                                    ...   \n",
       "159                                  0.50   \n",
       "160                                  1.00   \n",
       "161                                  1.00   \n",
       "162                                  0.00   \n",
       "163                                  1.00   \n",
       "\n",
       "     num_transformer__minmax_scaler__SES  num_transformer__remainder__nWBV  \\\n",
       "0                                   0.00                             0.739   \n",
       "1                                   0.25                             0.727   \n",
       "2                                   0.25                             0.679   \n",
       "3                                   0.75                             0.697   \n",
       "4                                   0.25                             0.754   \n",
       "..                                   ...                               ...   \n",
       "159                                 0.50                             0.697   \n",
       "160                                 0.00                             0.820   \n",
       "161                                 0.00                             0.731   \n",
       "162                                 0.75                             0.665   \n",
       "163                                 0.00                             0.747   \n",
       "\n",
       "     num_transformer__remainder__ASF  cat_transformer__ohe_binary__M/F_M  \n",
       "0                              1.057                                 1.0  \n",
       "1                              1.263                                 0.0  \n",
       "2                              1.055                                 0.0  \n",
       "3                              1.183                                 1.0  \n",
       "4                              1.254                                 0.0  \n",
       "..                               ...                                 ...  \n",
       "159                            1.087                                 0.0  \n",
       "160                            1.421                                 0.0  \n",
       "161                            1.028                                 1.0  \n",
       "162                            1.161                                 1.0  \n",
       "163                            1.412                                 0.0  \n",
       "\n",
       "[164 rows x 8 columns]"
      ]
     },
     "execution_count": 24,
     "metadata": {},
     "output_type": "execute_result"
    }
   ],
   "source": [
    "X_train = preprocessor.fit_transform(X_train)\n",
    "X_train"
   ]
  },
  {
   "cell_type": "code",
   "execution_count": 25,
   "id": "92a71d50",
   "metadata": {},
   "outputs": [
    {
     "data": {
      "text/html": [
       "<div>\n",
       "<style scoped>\n",
       "    .dataframe tbody tr th:only-of-type {\n",
       "        vertical-align: middle;\n",
       "    }\n",
       "\n",
       "    .dataframe tbody tr th {\n",
       "        vertical-align: top;\n",
       "    }\n",
       "\n",
       "    .dataframe thead th {\n",
       "        text-align: right;\n",
       "    }\n",
       "</style>\n",
       "<table border=\"1\" class=\"dataframe\">\n",
       "  <thead>\n",
       "    <tr style=\"text-align: right;\">\n",
       "      <th></th>\n",
       "      <th>num_transformer__standard_scaler__Age</th>\n",
       "      <th>num_transformer__robust_scaler__eTIV</th>\n",
       "      <th>num_transformer__robust_scaler__MMSE</th>\n",
       "      <th>num_transformer__minmax_scaler__Educ</th>\n",
       "      <th>num_transformer__minmax_scaler__SES</th>\n",
       "      <th>num_transformer__remainder__nWBV</th>\n",
       "      <th>num_transformer__remainder__ASF</th>\n",
       "      <th>cat_transformer__ohe_binary__M/F_M</th>\n",
       "    </tr>\n",
       "  </thead>\n",
       "  <tbody>\n",
       "    <tr>\n",
       "      <th>0</th>\n",
       "      <td>-0.731564</td>\n",
       "      <td>0.579416</td>\n",
       "      <td>0.00</td>\n",
       "      <td>0.25</td>\n",
       "      <td>0.75</td>\n",
       "      <td>0.801</td>\n",
       "      <td>1.124</td>\n",
       "      <td>1.0</td>\n",
       "    </tr>\n",
       "    <tr>\n",
       "      <th>1</th>\n",
       "      <td>0.029386</td>\n",
       "      <td>0.091487</td>\n",
       "      <td>0.00</td>\n",
       "      <td>0.25</td>\n",
       "      <td>0.25</td>\n",
       "      <td>0.776</td>\n",
       "      <td>1.198</td>\n",
       "      <td>0.0</td>\n",
       "    </tr>\n",
       "    <tr>\n",
       "      <th>2</th>\n",
       "      <td>0.705787</td>\n",
       "      <td>-1.387548</td>\n",
       "      <td>-0.75</td>\n",
       "      <td>1.00</td>\n",
       "      <td>0.25</td>\n",
       "      <td>0.743</td>\n",
       "      <td>1.495</td>\n",
       "      <td>0.0</td>\n",
       "    </tr>\n",
       "    <tr>\n",
       "      <th>3</th>\n",
       "      <td>1.382187</td>\n",
       "      <td>0.452351</td>\n",
       "      <td>0.25</td>\n",
       "      <td>1.00</td>\n",
       "      <td>0.00</td>\n",
       "      <td>0.715</td>\n",
       "      <td>1.142</td>\n",
       "      <td>0.0</td>\n",
       "    </tr>\n",
       "    <tr>\n",
       "      <th>4</th>\n",
       "      <td>0.452137</td>\n",
       "      <td>-0.574333</td>\n",
       "      <td>0.00</td>\n",
       "      <td>0.50</td>\n",
       "      <td>0.25</td>\n",
       "      <td>0.773</td>\n",
       "      <td>1.316</td>\n",
       "      <td>0.0</td>\n",
       "    </tr>\n",
       "    <tr>\n",
       "      <th>...</th>\n",
       "      <td>...</td>\n",
       "      <td>...</td>\n",
       "      <td>...</td>\n",
       "      <td>...</td>\n",
       "      <td>...</td>\n",
       "      <td>...</td>\n",
       "      <td>...</td>\n",
       "      <td>...</td>\n",
       "    </tr>\n",
       "    <tr>\n",
       "      <th>66</th>\n",
       "      <td>0.705787</td>\n",
       "      <td>0.198221</td>\n",
       "      <td>-0.25</td>\n",
       "      <td>0.50</td>\n",
       "      <td>0.25</td>\n",
       "      <td>0.759</td>\n",
       "      <td>1.181</td>\n",
       "      <td>0.0</td>\n",
       "    </tr>\n",
       "    <tr>\n",
       "      <th>67</th>\n",
       "      <td>0.621237</td>\n",
       "      <td>0.238882</td>\n",
       "      <td>-2.25</td>\n",
       "      <td>0.25</td>\n",
       "      <td>0.75</td>\n",
       "      <td>0.665</td>\n",
       "      <td>1.175</td>\n",
       "      <td>1.0</td>\n",
       "    </tr>\n",
       "    <tr>\n",
       "      <th>68</th>\n",
       "      <td>0.790337</td>\n",
       "      <td>0.335451</td>\n",
       "      <td>-0.25</td>\n",
       "      <td>1.00</td>\n",
       "      <td>0.00</td>\n",
       "      <td>0.742</td>\n",
       "      <td>1.160</td>\n",
       "      <td>0.0</td>\n",
       "    </tr>\n",
       "    <tr>\n",
       "      <th>69</th>\n",
       "      <td>-0.055164</td>\n",
       "      <td>-0.625159</td>\n",
       "      <td>-3.50</td>\n",
       "      <td>0.50</td>\n",
       "      <td>0.50</td>\n",
       "      <td>0.668</td>\n",
       "      <td>1.325</td>\n",
       "      <td>0.0</td>\n",
       "    </tr>\n",
       "    <tr>\n",
       "      <th>70</th>\n",
       "      <td>-1.492515</td>\n",
       "      <td>-0.609911</td>\n",
       "      <td>0.25</td>\n",
       "      <td>0.50</td>\n",
       "      <td>0.50</td>\n",
       "      <td>0.832</td>\n",
       "      <td>1.323</td>\n",
       "      <td>0.0</td>\n",
       "    </tr>\n",
       "  </tbody>\n",
       "</table>\n",
       "<p>71 rows × 8 columns</p>\n",
       "</div>"
      ],
      "text/plain": [
       "    num_transformer__standard_scaler__Age  \\\n",
       "0                               -0.731564   \n",
       "1                                0.029386   \n",
       "2                                0.705787   \n",
       "3                                1.382187   \n",
       "4                                0.452137   \n",
       "..                                    ...   \n",
       "66                               0.705787   \n",
       "67                               0.621237   \n",
       "68                               0.790337   \n",
       "69                              -0.055164   \n",
       "70                              -1.492515   \n",
       "\n",
       "    num_transformer__robust_scaler__eTIV  \\\n",
       "0                               0.579416   \n",
       "1                               0.091487   \n",
       "2                              -1.387548   \n",
       "3                               0.452351   \n",
       "4                              -0.574333   \n",
       "..                                   ...   \n",
       "66                              0.198221   \n",
       "67                              0.238882   \n",
       "68                              0.335451   \n",
       "69                             -0.625159   \n",
       "70                             -0.609911   \n",
       "\n",
       "    num_transformer__robust_scaler__MMSE  \\\n",
       "0                                   0.00   \n",
       "1                                   0.00   \n",
       "2                                  -0.75   \n",
       "3                                   0.25   \n",
       "4                                   0.00   \n",
       "..                                   ...   \n",
       "66                                 -0.25   \n",
       "67                                 -2.25   \n",
       "68                                 -0.25   \n",
       "69                                 -3.50   \n",
       "70                                  0.25   \n",
       "\n",
       "    num_transformer__minmax_scaler__Educ  num_transformer__minmax_scaler__SES  \\\n",
       "0                                   0.25                                 0.75   \n",
       "1                                   0.25                                 0.25   \n",
       "2                                   1.00                                 0.25   \n",
       "3                                   1.00                                 0.00   \n",
       "4                                   0.50                                 0.25   \n",
       "..                                   ...                                  ...   \n",
       "66                                  0.50                                 0.25   \n",
       "67                                  0.25                                 0.75   \n",
       "68                                  1.00                                 0.00   \n",
       "69                                  0.50                                 0.50   \n",
       "70                                  0.50                                 0.50   \n",
       "\n",
       "    num_transformer__remainder__nWBV  num_transformer__remainder__ASF  \\\n",
       "0                              0.801                            1.124   \n",
       "1                              0.776                            1.198   \n",
       "2                              0.743                            1.495   \n",
       "3                              0.715                            1.142   \n",
       "4                              0.773                            1.316   \n",
       "..                               ...                              ...   \n",
       "66                             0.759                            1.181   \n",
       "67                             0.665                            1.175   \n",
       "68                             0.742                            1.160   \n",
       "69                             0.668                            1.325   \n",
       "70                             0.832                            1.323   \n",
       "\n",
       "    cat_transformer__ohe_binary__M/F_M  \n",
       "0                                  1.0  \n",
       "1                                  0.0  \n",
       "2                                  0.0  \n",
       "3                                  0.0  \n",
       "4                                  0.0  \n",
       "..                                 ...  \n",
       "66                                 0.0  \n",
       "67                                 1.0  \n",
       "68                                 0.0  \n",
       "69                                 0.0  \n",
       "70                                 0.0  \n",
       "\n",
       "[71 rows x 8 columns]"
      ]
     },
     "execution_count": 25,
     "metadata": {},
     "output_type": "execute_result"
    }
   ],
   "source": [
    "X_test = preprocessor.transform(X_test)\n",
    "X_test"
   ]
  },
  {
   "cell_type": "code",
   "execution_count": 26,
   "id": "be04f2db",
   "metadata": {},
   "outputs": [
    {
     "data": {
      "text/plain": [
       "71"
      ]
     },
     "execution_count": 26,
     "metadata": {},
     "output_type": "execute_result"
    }
   ],
   "source": [
    "# Length of y_test = 59\n",
    "np.unique(y_test, return_counts = True)\n",
    "\n",
    "# Length of X_test = 59\n",
    "len(X_test)"
   ]
  },
  {
   "cell_type": "code",
   "execution_count": 27,
   "id": "04b2e8e9",
   "metadata": {},
   "outputs": [
    {
     "data": {
      "text/html": [
       "<div>\n",
       "<style scoped>\n",
       "    .dataframe tbody tr th:only-of-type {\n",
       "        vertical-align: middle;\n",
       "    }\n",
       "\n",
       "    .dataframe tbody tr th {\n",
       "        vertical-align: top;\n",
       "    }\n",
       "\n",
       "    .dataframe thead th {\n",
       "        text-align: right;\n",
       "    }\n",
       "</style>\n",
       "<table border=\"1\" class=\"dataframe\">\n",
       "  <thead>\n",
       "    <tr style=\"text-align: right;\">\n",
       "      <th></th>\n",
       "      <th>num_transformer__standard_scaler__Age</th>\n",
       "      <th>num_transformer__robust_scaler__eTIV</th>\n",
       "      <th>num_transformer__robust_scaler__MMSE</th>\n",
       "      <th>num_transformer__minmax_scaler__Educ</th>\n",
       "      <th>num_transformer__minmax_scaler__SES</th>\n",
       "      <th>num_transformer__remainder__nWBV</th>\n",
       "      <th>num_transformer__remainder__ASF</th>\n",
       "      <th>cat_transformer__ohe_binary__M/F_M</th>\n",
       "    </tr>\n",
       "  </thead>\n",
       "  <tbody>\n",
       "    <tr>\n",
       "      <th>0</th>\n",
       "      <td>-0.224264</td>\n",
       "      <td>1.082592</td>\n",
       "      <td>0.25</td>\n",
       "      <td>1.00</td>\n",
       "      <td>0.00</td>\n",
       "      <td>0.739</td>\n",
       "      <td>1.057</td>\n",
       "      <td>1.0</td>\n",
       "    </tr>\n",
       "    <tr>\n",
       "      <th>1</th>\n",
       "      <td>0.959437</td>\n",
       "      <td>-0.289708</td>\n",
       "      <td>-0.50</td>\n",
       "      <td>0.25</td>\n",
       "      <td>0.25</td>\n",
       "      <td>0.727</td>\n",
       "      <td>1.263</td>\n",
       "      <td>0.0</td>\n",
       "    </tr>\n",
       "    <tr>\n",
       "      <th>2</th>\n",
       "      <td>0.705787</td>\n",
       "      <td>1.102922</td>\n",
       "      <td>0.25</td>\n",
       "      <td>1.00</td>\n",
       "      <td>0.25</td>\n",
       "      <td>0.679</td>\n",
       "      <td>1.055</td>\n",
       "      <td>0.0</td>\n",
       "    </tr>\n",
       "    <tr>\n",
       "      <th>3</th>\n",
       "      <td>0.959437</td>\n",
       "      <td>0.182973</td>\n",
       "      <td>-0.25</td>\n",
       "      <td>0.50</td>\n",
       "      <td>0.75</td>\n",
       "      <td>0.697</td>\n",
       "      <td>1.183</td>\n",
       "      <td>1.0</td>\n",
       "    </tr>\n",
       "    <tr>\n",
       "      <th>4</th>\n",
       "      <td>0.113936</td>\n",
       "      <td>-0.238882</td>\n",
       "      <td>0.25</td>\n",
       "      <td>1.00</td>\n",
       "      <td>0.25</td>\n",
       "      <td>0.754</td>\n",
       "      <td>1.254</td>\n",
       "      <td>0.0</td>\n",
       "    </tr>\n",
       "    <tr>\n",
       "      <th>...</th>\n",
       "      <td>...</td>\n",
       "      <td>...</td>\n",
       "      <td>...</td>\n",
       "      <td>...</td>\n",
       "      <td>...</td>\n",
       "      <td>...</td>\n",
       "      <td>...</td>\n",
       "      <td>...</td>\n",
       "    </tr>\n",
       "    <tr>\n",
       "      <th>159</th>\n",
       "      <td>0.113936</td>\n",
       "      <td>0.848793</td>\n",
       "      <td>-0.25</td>\n",
       "      <td>0.50</td>\n",
       "      <td>0.50</td>\n",
       "      <td>0.697</td>\n",
       "      <td>1.087</td>\n",
       "      <td>0.0</td>\n",
       "    </tr>\n",
       "    <tr>\n",
       "      <th>160</th>\n",
       "      <td>-1.238865</td>\n",
       "      <td>-1.077510</td>\n",
       "      <td>0.25</td>\n",
       "      <td>1.00</td>\n",
       "      <td>0.00</td>\n",
       "      <td>0.820</td>\n",
       "      <td>1.421</td>\n",
       "      <td>0.0</td>\n",
       "    </tr>\n",
       "    <tr>\n",
       "      <th>161</th>\n",
       "      <td>0.959437</td>\n",
       "      <td>1.321474</td>\n",
       "      <td>0.00</td>\n",
       "      <td>1.00</td>\n",
       "      <td>0.00</td>\n",
       "      <td>0.731</td>\n",
       "      <td>1.028</td>\n",
       "      <td>1.0</td>\n",
       "    </tr>\n",
       "    <tr>\n",
       "      <th>162</th>\n",
       "      <td>1.128537</td>\n",
       "      <td>0.330368</td>\n",
       "      <td>-3.50</td>\n",
       "      <td>0.00</td>\n",
       "      <td>0.75</td>\n",
       "      <td>0.665</td>\n",
       "      <td>1.161</td>\n",
       "      <td>1.0</td>\n",
       "    </tr>\n",
       "    <tr>\n",
       "      <th>163</th>\n",
       "      <td>0.452137</td>\n",
       "      <td>-1.036849</td>\n",
       "      <td>0.25</td>\n",
       "      <td>1.00</td>\n",
       "      <td>0.00</td>\n",
       "      <td>0.747</td>\n",
       "      <td>1.412</td>\n",
       "      <td>0.0</td>\n",
       "    </tr>\n",
       "  </tbody>\n",
       "</table>\n",
       "<p>164 rows × 8 columns</p>\n",
       "</div>"
      ],
      "text/plain": [
       "     num_transformer__standard_scaler__Age  \\\n",
       "0                                -0.224264   \n",
       "1                                 0.959437   \n",
       "2                                 0.705787   \n",
       "3                                 0.959437   \n",
       "4                                 0.113936   \n",
       "..                                     ...   \n",
       "159                               0.113936   \n",
       "160                              -1.238865   \n",
       "161                               0.959437   \n",
       "162                               1.128537   \n",
       "163                               0.452137   \n",
       "\n",
       "     num_transformer__robust_scaler__eTIV  \\\n",
       "0                                1.082592   \n",
       "1                               -0.289708   \n",
       "2                                1.102922   \n",
       "3                                0.182973   \n",
       "4                               -0.238882   \n",
       "..                                    ...   \n",
       "159                              0.848793   \n",
       "160                             -1.077510   \n",
       "161                              1.321474   \n",
       "162                              0.330368   \n",
       "163                             -1.036849   \n",
       "\n",
       "     num_transformer__robust_scaler__MMSE  \\\n",
       "0                                    0.25   \n",
       "1                                   -0.50   \n",
       "2                                    0.25   \n",
       "3                                   -0.25   \n",
       "4                                    0.25   \n",
       "..                                    ...   \n",
       "159                                 -0.25   \n",
       "160                                  0.25   \n",
       "161                                  0.00   \n",
       "162                                 -3.50   \n",
       "163                                  0.25   \n",
       "\n",
       "     num_transformer__minmax_scaler__Educ  \\\n",
       "0                                    1.00   \n",
       "1                                    0.25   \n",
       "2                                    1.00   \n",
       "3                                    0.50   \n",
       "4                                    1.00   \n",
       "..                                    ...   \n",
       "159                                  0.50   \n",
       "160                                  1.00   \n",
       "161                                  1.00   \n",
       "162                                  0.00   \n",
       "163                                  1.00   \n",
       "\n",
       "     num_transformer__minmax_scaler__SES  num_transformer__remainder__nWBV  \\\n",
       "0                                   0.00                             0.739   \n",
       "1                                   0.25                             0.727   \n",
       "2                                   0.25                             0.679   \n",
       "3                                   0.75                             0.697   \n",
       "4                                   0.25                             0.754   \n",
       "..                                   ...                               ...   \n",
       "159                                 0.50                             0.697   \n",
       "160                                 0.00                             0.820   \n",
       "161                                 0.00                             0.731   \n",
       "162                                 0.75                             0.665   \n",
       "163                                 0.00                             0.747   \n",
       "\n",
       "     num_transformer__remainder__ASF  cat_transformer__ohe_binary__M/F_M  \n",
       "0                              1.057                                 1.0  \n",
       "1                              1.263                                 0.0  \n",
       "2                              1.055                                 0.0  \n",
       "3                              1.183                                 1.0  \n",
       "4                              1.254                                 0.0  \n",
       "..                               ...                                 ...  \n",
       "159                            1.087                                 0.0  \n",
       "160                            1.421                                 0.0  \n",
       "161                            1.028                                 1.0  \n",
       "162                            1.161                                 1.0  \n",
       "163                            1.412                                 0.0  \n",
       "\n",
       "[164 rows x 8 columns]"
      ]
     },
     "execution_count": 27,
     "metadata": {},
     "output_type": "execute_result"
    }
   ],
   "source": [
    "# Making a copy of X_scaled\n",
    "X_train_trial = X_train.copy()\n",
    "X_train_trial"
   ]
  },
  {
   "cell_type": "markdown",
   "id": "5a423d24",
   "metadata": {},
   "source": [
    "# 🎰SVC"
   ]
  },
  {
   "cell_type": "markdown",
   "id": "e48f7336",
   "metadata": {},
   "source": [
    "## SVC Linear"
   ]
  },
  {
   "cell_type": "markdown",
   "id": "9293f4db",
   "metadata": {},
   "source": [
    "### Just a trial"
   ]
  },
  {
   "cell_type": "code",
   "execution_count": 28,
   "id": "2f08767d",
   "metadata": {},
   "outputs": [],
   "source": [
    "# Instantiating linear support vector classifier\n",
    "model_svc = SVC(kernel = 'linear')"
   ]
  },
  {
   "cell_type": "code",
   "execution_count": 29,
   "id": "39acc01c",
   "metadata": {},
   "outputs": [
    {
     "data": {
      "text/html": [
       "<style>#sk-adc9923f-76e1-4362-ba7e-dcffede9e347 {color: black;background-color: white;}#sk-adc9923f-76e1-4362-ba7e-dcffede9e347 pre{padding: 0;}#sk-adc9923f-76e1-4362-ba7e-dcffede9e347 div.sk-toggleable {background-color: white;}#sk-adc9923f-76e1-4362-ba7e-dcffede9e347 label.sk-toggleable__label {cursor: pointer;display: block;width: 100%;margin-bottom: 0;padding: 0.3em;box-sizing: border-box;text-align: center;}#sk-adc9923f-76e1-4362-ba7e-dcffede9e347 label.sk-toggleable__label-arrow:before {content: \"▸\";float: left;margin-right: 0.25em;color: #696969;}#sk-adc9923f-76e1-4362-ba7e-dcffede9e347 label.sk-toggleable__label-arrow:hover:before {color: black;}#sk-adc9923f-76e1-4362-ba7e-dcffede9e347 div.sk-estimator:hover label.sk-toggleable__label-arrow:before {color: black;}#sk-adc9923f-76e1-4362-ba7e-dcffede9e347 div.sk-toggleable__content {max-height: 0;max-width: 0;overflow: hidden;text-align: left;background-color: #f0f8ff;}#sk-adc9923f-76e1-4362-ba7e-dcffede9e347 div.sk-toggleable__content pre {margin: 0.2em;color: black;border-radius: 0.25em;background-color: #f0f8ff;}#sk-adc9923f-76e1-4362-ba7e-dcffede9e347 input.sk-toggleable__control:checked~div.sk-toggleable__content {max-height: 200px;max-width: 100%;overflow: auto;}#sk-adc9923f-76e1-4362-ba7e-dcffede9e347 input.sk-toggleable__control:checked~label.sk-toggleable__label-arrow:before {content: \"▾\";}#sk-adc9923f-76e1-4362-ba7e-dcffede9e347 div.sk-estimator input.sk-toggleable__control:checked~label.sk-toggleable__label {background-color: #d4ebff;}#sk-adc9923f-76e1-4362-ba7e-dcffede9e347 div.sk-label input.sk-toggleable__control:checked~label.sk-toggleable__label {background-color: #d4ebff;}#sk-adc9923f-76e1-4362-ba7e-dcffede9e347 input.sk-hidden--visually {border: 0;clip: rect(1px 1px 1px 1px);clip: rect(1px, 1px, 1px, 1px);height: 1px;margin: -1px;overflow: hidden;padding: 0;position: absolute;width: 1px;}#sk-adc9923f-76e1-4362-ba7e-dcffede9e347 div.sk-estimator {font-family: monospace;background-color: #f0f8ff;border: 1px dotted black;border-radius: 0.25em;box-sizing: border-box;margin-bottom: 0.5em;}#sk-adc9923f-76e1-4362-ba7e-dcffede9e347 div.sk-estimator:hover {background-color: #d4ebff;}#sk-adc9923f-76e1-4362-ba7e-dcffede9e347 div.sk-parallel-item::after {content: \"\";width: 100%;border-bottom: 1px solid gray;flex-grow: 1;}#sk-adc9923f-76e1-4362-ba7e-dcffede9e347 div.sk-label:hover label.sk-toggleable__label {background-color: #d4ebff;}#sk-adc9923f-76e1-4362-ba7e-dcffede9e347 div.sk-serial::before {content: \"\";position: absolute;border-left: 1px solid gray;box-sizing: border-box;top: 2em;bottom: 0;left: 50%;}#sk-adc9923f-76e1-4362-ba7e-dcffede9e347 div.sk-serial {display: flex;flex-direction: column;align-items: center;background-color: white;padding-right: 0.2em;padding-left: 0.2em;}#sk-adc9923f-76e1-4362-ba7e-dcffede9e347 div.sk-item {z-index: 1;}#sk-adc9923f-76e1-4362-ba7e-dcffede9e347 div.sk-parallel {display: flex;align-items: stretch;justify-content: center;background-color: white;}#sk-adc9923f-76e1-4362-ba7e-dcffede9e347 div.sk-parallel::before {content: \"\";position: absolute;border-left: 1px solid gray;box-sizing: border-box;top: 2em;bottom: 0;left: 50%;}#sk-adc9923f-76e1-4362-ba7e-dcffede9e347 div.sk-parallel-item {display: flex;flex-direction: column;position: relative;background-color: white;}#sk-adc9923f-76e1-4362-ba7e-dcffede9e347 div.sk-parallel-item:first-child::after {align-self: flex-end;width: 50%;}#sk-adc9923f-76e1-4362-ba7e-dcffede9e347 div.sk-parallel-item:last-child::after {align-self: flex-start;width: 50%;}#sk-adc9923f-76e1-4362-ba7e-dcffede9e347 div.sk-parallel-item:only-child::after {width: 0;}#sk-adc9923f-76e1-4362-ba7e-dcffede9e347 div.sk-dashed-wrapped {border: 1px dashed gray;margin: 0 0.4em 0.5em 0.4em;box-sizing: border-box;padding-bottom: 0.4em;background-color: white;position: relative;}#sk-adc9923f-76e1-4362-ba7e-dcffede9e347 div.sk-label label {font-family: monospace;font-weight: bold;background-color: white;display: inline-block;line-height: 1.2em;}#sk-adc9923f-76e1-4362-ba7e-dcffede9e347 div.sk-label-container {position: relative;z-index: 2;text-align: center;}#sk-adc9923f-76e1-4362-ba7e-dcffede9e347 div.sk-container {/* jupyter's `normalize.less` sets `[hidden] { display: none; }` but bootstrap.min.css set `[hidden] { display: none !important; }` so we also need the `!important` here to be able to override the default hidden behavior on the sphinx rendered scikit-learn.org. See: https://github.com/scikit-learn/scikit-learn/issues/21755 */display: inline-block !important;position: relative;}#sk-adc9923f-76e1-4362-ba7e-dcffede9e347 div.sk-text-repr-fallback {display: none;}</style><div id=\"sk-adc9923f-76e1-4362-ba7e-dcffede9e347\" class=\"sk-top-container\"><div class=\"sk-text-repr-fallback\"><pre>SVC(kernel=&#x27;linear&#x27;)</pre><b>Please rerun this cell to show the HTML repr or trust the notebook.</b></div><div class=\"sk-container\" hidden><div class=\"sk-item\"><div class=\"sk-estimator sk-toggleable\"><input class=\"sk-toggleable__control sk-hidden--visually\" id=\"6c382d05-a210-4171-9990-46aa1070b235\" type=\"checkbox\" checked><label for=\"6c382d05-a210-4171-9990-46aa1070b235\" class=\"sk-toggleable__label sk-toggleable__label-arrow\">SVC</label><div class=\"sk-toggleable__content\"><pre>SVC(kernel=&#x27;linear&#x27;)</pre></div></div></div></div></div>"
      ],
      "text/plain": [
       "SVC(kernel='linear')"
      ]
     },
     "execution_count": 29,
     "metadata": {},
     "output_type": "execute_result"
    }
   ],
   "source": [
    "# Fitting LinearSVC\n",
    "model_svc.fit(X_train, y_train)"
   ]
  },
  {
   "cell_type": "code",
   "execution_count": 30,
   "id": "1142e921",
   "metadata": {},
   "outputs": [],
   "source": [
    "# Prediction on X_test\n",
    "y_pred_SVC = model_svc.predict(X_test)"
   ]
  },
  {
   "cell_type": "code",
   "execution_count": 31,
   "id": "c9e72293",
   "metadata": {},
   "outputs": [
    {
     "data": {
      "text/plain": [
       "array([[39,  3],\n",
       "       [ 9, 20]])"
      ]
     },
     "execution_count": 31,
     "metadata": {},
     "output_type": "execute_result"
    }
   ],
   "source": [
    "cm_svc = confusion_matrix(y_test, y_pred_SVC)\n",
    "cm_svc"
   ]
  },
  {
   "cell_type": "code",
   "execution_count": 32,
   "id": "b2a556f5",
   "metadata": {},
   "outputs": [
    {
     "data": {
      "text/plain": [
       "0.6896551724137931"
      ]
     },
     "execution_count": 32,
     "metadata": {},
     "output_type": "execute_result"
    }
   ],
   "source": [
    "baseline_recall_svc = recall_score(y_test, y_pred_SVC)\n",
    "baseline_recall_svc"
   ]
  },
  {
   "cell_type": "markdown",
   "id": "ff3d68a6",
   "metadata": {},
   "source": [
    "###   🤖  Grid Searching"
   ]
  },
  {
   "cell_type": "code",
   "execution_count": 33,
   "id": "44c8dfc0",
   "metadata": {},
   "outputs": [
    {
     "data": {
      "text/html": [
       "<style>#sk-609971de-eb11-4d67-aa4e-a8c10c8de549 {color: black;background-color: white;}#sk-609971de-eb11-4d67-aa4e-a8c10c8de549 pre{padding: 0;}#sk-609971de-eb11-4d67-aa4e-a8c10c8de549 div.sk-toggleable {background-color: white;}#sk-609971de-eb11-4d67-aa4e-a8c10c8de549 label.sk-toggleable__label {cursor: pointer;display: block;width: 100%;margin-bottom: 0;padding: 0.3em;box-sizing: border-box;text-align: center;}#sk-609971de-eb11-4d67-aa4e-a8c10c8de549 label.sk-toggleable__label-arrow:before {content: \"▸\";float: left;margin-right: 0.25em;color: #696969;}#sk-609971de-eb11-4d67-aa4e-a8c10c8de549 label.sk-toggleable__label-arrow:hover:before {color: black;}#sk-609971de-eb11-4d67-aa4e-a8c10c8de549 div.sk-estimator:hover label.sk-toggleable__label-arrow:before {color: black;}#sk-609971de-eb11-4d67-aa4e-a8c10c8de549 div.sk-toggleable__content {max-height: 0;max-width: 0;overflow: hidden;text-align: left;background-color: #f0f8ff;}#sk-609971de-eb11-4d67-aa4e-a8c10c8de549 div.sk-toggleable__content pre {margin: 0.2em;color: black;border-radius: 0.25em;background-color: #f0f8ff;}#sk-609971de-eb11-4d67-aa4e-a8c10c8de549 input.sk-toggleable__control:checked~div.sk-toggleable__content {max-height: 200px;max-width: 100%;overflow: auto;}#sk-609971de-eb11-4d67-aa4e-a8c10c8de549 input.sk-toggleable__control:checked~label.sk-toggleable__label-arrow:before {content: \"▾\";}#sk-609971de-eb11-4d67-aa4e-a8c10c8de549 div.sk-estimator input.sk-toggleable__control:checked~label.sk-toggleable__label {background-color: #d4ebff;}#sk-609971de-eb11-4d67-aa4e-a8c10c8de549 div.sk-label input.sk-toggleable__control:checked~label.sk-toggleable__label {background-color: #d4ebff;}#sk-609971de-eb11-4d67-aa4e-a8c10c8de549 input.sk-hidden--visually {border: 0;clip: rect(1px 1px 1px 1px);clip: rect(1px, 1px, 1px, 1px);height: 1px;margin: -1px;overflow: hidden;padding: 0;position: absolute;width: 1px;}#sk-609971de-eb11-4d67-aa4e-a8c10c8de549 div.sk-estimator {font-family: monospace;background-color: #f0f8ff;border: 1px dotted black;border-radius: 0.25em;box-sizing: border-box;margin-bottom: 0.5em;}#sk-609971de-eb11-4d67-aa4e-a8c10c8de549 div.sk-estimator:hover {background-color: #d4ebff;}#sk-609971de-eb11-4d67-aa4e-a8c10c8de549 div.sk-parallel-item::after {content: \"\";width: 100%;border-bottom: 1px solid gray;flex-grow: 1;}#sk-609971de-eb11-4d67-aa4e-a8c10c8de549 div.sk-label:hover label.sk-toggleable__label {background-color: #d4ebff;}#sk-609971de-eb11-4d67-aa4e-a8c10c8de549 div.sk-serial::before {content: \"\";position: absolute;border-left: 1px solid gray;box-sizing: border-box;top: 2em;bottom: 0;left: 50%;}#sk-609971de-eb11-4d67-aa4e-a8c10c8de549 div.sk-serial {display: flex;flex-direction: column;align-items: center;background-color: white;padding-right: 0.2em;padding-left: 0.2em;}#sk-609971de-eb11-4d67-aa4e-a8c10c8de549 div.sk-item {z-index: 1;}#sk-609971de-eb11-4d67-aa4e-a8c10c8de549 div.sk-parallel {display: flex;align-items: stretch;justify-content: center;background-color: white;}#sk-609971de-eb11-4d67-aa4e-a8c10c8de549 div.sk-parallel::before {content: \"\";position: absolute;border-left: 1px solid gray;box-sizing: border-box;top: 2em;bottom: 0;left: 50%;}#sk-609971de-eb11-4d67-aa4e-a8c10c8de549 div.sk-parallel-item {display: flex;flex-direction: column;position: relative;background-color: white;}#sk-609971de-eb11-4d67-aa4e-a8c10c8de549 div.sk-parallel-item:first-child::after {align-self: flex-end;width: 50%;}#sk-609971de-eb11-4d67-aa4e-a8c10c8de549 div.sk-parallel-item:last-child::after {align-self: flex-start;width: 50%;}#sk-609971de-eb11-4d67-aa4e-a8c10c8de549 div.sk-parallel-item:only-child::after {width: 0;}#sk-609971de-eb11-4d67-aa4e-a8c10c8de549 div.sk-dashed-wrapped {border: 1px dashed gray;margin: 0 0.4em 0.5em 0.4em;box-sizing: border-box;padding-bottom: 0.4em;background-color: white;position: relative;}#sk-609971de-eb11-4d67-aa4e-a8c10c8de549 div.sk-label label {font-family: monospace;font-weight: bold;background-color: white;display: inline-block;line-height: 1.2em;}#sk-609971de-eb11-4d67-aa4e-a8c10c8de549 div.sk-label-container {position: relative;z-index: 2;text-align: center;}#sk-609971de-eb11-4d67-aa4e-a8c10c8de549 div.sk-container {/* jupyter's `normalize.less` sets `[hidden] { display: none; }` but bootstrap.min.css set `[hidden] { display: none !important; }` so we also need the `!important` here to be able to override the default hidden behavior on the sphinx rendered scikit-learn.org. See: https://github.com/scikit-learn/scikit-learn/issues/21755 */display: inline-block !important;position: relative;}#sk-609971de-eb11-4d67-aa4e-a8c10c8de549 div.sk-text-repr-fallback {display: none;}</style><div id=\"sk-609971de-eb11-4d67-aa4e-a8c10c8de549\" class=\"sk-top-container\"><div class=\"sk-text-repr-fallback\"><pre>GridSearchCV(cv=5, estimator=SVC(kernel=&#x27;linear&#x27;), n_jobs=-1,\n",
       "             param_grid={&#x27;C&#x27;: array([700, 701, 702, 703, 704, 705, 706, 707, 708, 709, 710, 711, 712,\n",
       "       713, 714, 715, 716, 717, 718, 719, 720, 721, 722, 723, 724, 725,\n",
       "       726, 727, 728, 729, 730, 731, 732, 733, 734, 735, 736, 737, 738,\n",
       "       739, 740, 741, 742, 743, 744, 745, 746, 747, 748, 749]),\n",
       "                         &#x27;gamma&#x27;: [1, 0.1, 0.001, 0.0001]},\n",
       "             scoring=&#x27;recall&#x27;)</pre><b>Please rerun this cell to show the HTML repr or trust the notebook.</b></div><div class=\"sk-container\" hidden><div class=\"sk-item sk-dashed-wrapped\"><div class=\"sk-label-container\"><div class=\"sk-label sk-toggleable\"><input class=\"sk-toggleable__control sk-hidden--visually\" id=\"c6008d8e-0812-46f6-a82a-e3b14b828285\" type=\"checkbox\" ><label for=\"c6008d8e-0812-46f6-a82a-e3b14b828285\" class=\"sk-toggleable__label sk-toggleable__label-arrow\">GridSearchCV</label><div class=\"sk-toggleable__content\"><pre>GridSearchCV(cv=5, estimator=SVC(kernel=&#x27;linear&#x27;), n_jobs=-1,\n",
       "             param_grid={&#x27;C&#x27;: array([700, 701, 702, 703, 704, 705, 706, 707, 708, 709, 710, 711, 712,\n",
       "       713, 714, 715, 716, 717, 718, 719, 720, 721, 722, 723, 724, 725,\n",
       "       726, 727, 728, 729, 730, 731, 732, 733, 734, 735, 736, 737, 738,\n",
       "       739, 740, 741, 742, 743, 744, 745, 746, 747, 748, 749]),\n",
       "                         &#x27;gamma&#x27;: [1, 0.1, 0.001, 0.0001]},\n",
       "             scoring=&#x27;recall&#x27;)</pre></div></div></div><div class=\"sk-parallel\"><div class=\"sk-parallel-item\"><div class=\"sk-item\"><div class=\"sk-serial\"><div class=\"sk-item\"><div class=\"sk-estimator sk-toggleable\"><input class=\"sk-toggleable__control sk-hidden--visually\" id=\"f770e93d-09c4-46ac-82c7-9335664def82\" type=\"checkbox\" ><label for=\"f770e93d-09c4-46ac-82c7-9335664def82\" class=\"sk-toggleable__label sk-toggleable__label-arrow\">SVC</label><div class=\"sk-toggleable__content\"><pre>SVC(kernel=&#x27;linear&#x27;)</pre></div></div></div></div></div></div></div></div></div></div>"
      ],
      "text/plain": [
       "GridSearchCV(cv=5, estimator=SVC(kernel='linear'), n_jobs=-1,\n",
       "             param_grid={'C': array([700, 701, 702, 703, 704, 705, 706, 707, 708, 709, 710, 711, 712,\n",
       "       713, 714, 715, 716, 717, 718, 719, 720, 721, 722, 723, 724, 725,\n",
       "       726, 727, 728, 729, 730, 731, 732, 733, 734, 735, 736, 737, 738,\n",
       "       739, 740, 741, 742, 743, 744, 745, 746, 747, 748, 749]),\n",
       "                         'gamma': [1, 0.1, 0.001, 0.0001]},\n",
       "             scoring='recall')"
      ]
     },
     "execution_count": 33,
     "metadata": {},
     "output_type": "execute_result"
    }
   ],
   "source": [
    "# Creating a parameter grid: map the parameter names to the values that should be searched in a dictionary\n",
    "param_grid = {'C':np.arange(700,750,1),\n",
    "              'gamma':[1,0.1,0.001,0.0001]}\n",
    "\n",
    "# GridSearching\n",
    "gridsearch_linear = GridSearchCV(model_svc, \n",
    "                          param_grid, n_jobs = -1, \n",
    "                          scoring = 'recall', cv = 5)\n",
    "\n",
    "# Fitting gridsearch on X and y\n",
    "gridsearch_linear.fit(X_train, y_train)"
   ]
  },
  {
   "cell_type": "code",
   "execution_count": 34,
   "id": "d0ff2695",
   "metadata": {},
   "outputs": [
    {
     "data": {
      "text/html": [
       "<style>#sk-5700a703-332b-4df7-aa61-530a88f2fc0b {color: black;background-color: white;}#sk-5700a703-332b-4df7-aa61-530a88f2fc0b pre{padding: 0;}#sk-5700a703-332b-4df7-aa61-530a88f2fc0b div.sk-toggleable {background-color: white;}#sk-5700a703-332b-4df7-aa61-530a88f2fc0b label.sk-toggleable__label {cursor: pointer;display: block;width: 100%;margin-bottom: 0;padding: 0.3em;box-sizing: border-box;text-align: center;}#sk-5700a703-332b-4df7-aa61-530a88f2fc0b label.sk-toggleable__label-arrow:before {content: \"▸\";float: left;margin-right: 0.25em;color: #696969;}#sk-5700a703-332b-4df7-aa61-530a88f2fc0b label.sk-toggleable__label-arrow:hover:before {color: black;}#sk-5700a703-332b-4df7-aa61-530a88f2fc0b div.sk-estimator:hover label.sk-toggleable__label-arrow:before {color: black;}#sk-5700a703-332b-4df7-aa61-530a88f2fc0b div.sk-toggleable__content {max-height: 0;max-width: 0;overflow: hidden;text-align: left;background-color: #f0f8ff;}#sk-5700a703-332b-4df7-aa61-530a88f2fc0b div.sk-toggleable__content pre {margin: 0.2em;color: black;border-radius: 0.25em;background-color: #f0f8ff;}#sk-5700a703-332b-4df7-aa61-530a88f2fc0b input.sk-toggleable__control:checked~div.sk-toggleable__content {max-height: 200px;max-width: 100%;overflow: auto;}#sk-5700a703-332b-4df7-aa61-530a88f2fc0b input.sk-toggleable__control:checked~label.sk-toggleable__label-arrow:before {content: \"▾\";}#sk-5700a703-332b-4df7-aa61-530a88f2fc0b div.sk-estimator input.sk-toggleable__control:checked~label.sk-toggleable__label {background-color: #d4ebff;}#sk-5700a703-332b-4df7-aa61-530a88f2fc0b div.sk-label input.sk-toggleable__control:checked~label.sk-toggleable__label {background-color: #d4ebff;}#sk-5700a703-332b-4df7-aa61-530a88f2fc0b input.sk-hidden--visually {border: 0;clip: rect(1px 1px 1px 1px);clip: rect(1px, 1px, 1px, 1px);height: 1px;margin: -1px;overflow: hidden;padding: 0;position: absolute;width: 1px;}#sk-5700a703-332b-4df7-aa61-530a88f2fc0b div.sk-estimator {font-family: monospace;background-color: #f0f8ff;border: 1px dotted black;border-radius: 0.25em;box-sizing: border-box;margin-bottom: 0.5em;}#sk-5700a703-332b-4df7-aa61-530a88f2fc0b div.sk-estimator:hover {background-color: #d4ebff;}#sk-5700a703-332b-4df7-aa61-530a88f2fc0b div.sk-parallel-item::after {content: \"\";width: 100%;border-bottom: 1px solid gray;flex-grow: 1;}#sk-5700a703-332b-4df7-aa61-530a88f2fc0b div.sk-label:hover label.sk-toggleable__label {background-color: #d4ebff;}#sk-5700a703-332b-4df7-aa61-530a88f2fc0b div.sk-serial::before {content: \"\";position: absolute;border-left: 1px solid gray;box-sizing: border-box;top: 2em;bottom: 0;left: 50%;}#sk-5700a703-332b-4df7-aa61-530a88f2fc0b div.sk-serial {display: flex;flex-direction: column;align-items: center;background-color: white;padding-right: 0.2em;padding-left: 0.2em;}#sk-5700a703-332b-4df7-aa61-530a88f2fc0b div.sk-item {z-index: 1;}#sk-5700a703-332b-4df7-aa61-530a88f2fc0b div.sk-parallel {display: flex;align-items: stretch;justify-content: center;background-color: white;}#sk-5700a703-332b-4df7-aa61-530a88f2fc0b div.sk-parallel::before {content: \"\";position: absolute;border-left: 1px solid gray;box-sizing: border-box;top: 2em;bottom: 0;left: 50%;}#sk-5700a703-332b-4df7-aa61-530a88f2fc0b div.sk-parallel-item {display: flex;flex-direction: column;position: relative;background-color: white;}#sk-5700a703-332b-4df7-aa61-530a88f2fc0b div.sk-parallel-item:first-child::after {align-self: flex-end;width: 50%;}#sk-5700a703-332b-4df7-aa61-530a88f2fc0b div.sk-parallel-item:last-child::after {align-self: flex-start;width: 50%;}#sk-5700a703-332b-4df7-aa61-530a88f2fc0b div.sk-parallel-item:only-child::after {width: 0;}#sk-5700a703-332b-4df7-aa61-530a88f2fc0b div.sk-dashed-wrapped {border: 1px dashed gray;margin: 0 0.4em 0.5em 0.4em;box-sizing: border-box;padding-bottom: 0.4em;background-color: white;position: relative;}#sk-5700a703-332b-4df7-aa61-530a88f2fc0b div.sk-label label {font-family: monospace;font-weight: bold;background-color: white;display: inline-block;line-height: 1.2em;}#sk-5700a703-332b-4df7-aa61-530a88f2fc0b div.sk-label-container {position: relative;z-index: 2;text-align: center;}#sk-5700a703-332b-4df7-aa61-530a88f2fc0b div.sk-container {/* jupyter's `normalize.less` sets `[hidden] { display: none; }` but bootstrap.min.css set `[hidden] { display: none !important; }` so we also need the `!important` here to be able to override the default hidden behavior on the sphinx rendered scikit-learn.org. See: https://github.com/scikit-learn/scikit-learn/issues/21755 */display: inline-block !important;position: relative;}#sk-5700a703-332b-4df7-aa61-530a88f2fc0b div.sk-text-repr-fallback {display: none;}</style><div id=\"sk-5700a703-332b-4df7-aa61-530a88f2fc0b\" class=\"sk-top-container\"><div class=\"sk-text-repr-fallback\"><pre>SVC(C=700, gamma=1, kernel=&#x27;linear&#x27;)</pre><b>Please rerun this cell to show the HTML repr or trust the notebook.</b></div><div class=\"sk-container\" hidden><div class=\"sk-item\"><div class=\"sk-estimator sk-toggleable\"><input class=\"sk-toggleable__control sk-hidden--visually\" id=\"1764362e-f559-48d1-bdeb-98cd359be38c\" type=\"checkbox\" checked><label for=\"1764362e-f559-48d1-bdeb-98cd359be38c\" class=\"sk-toggleable__label sk-toggleable__label-arrow\">SVC</label><div class=\"sk-toggleable__content\"><pre>SVC(C=700, gamma=1, kernel=&#x27;linear&#x27;)</pre></div></div></div></div></div>"
      ],
      "text/plain": [
       "SVC(C=700, gamma=1, kernel='linear')"
      ]
     },
     "execution_count": 34,
     "metadata": {},
     "output_type": "execute_result"
    }
   ],
   "source": [
    "# Best estimator obtained from grid searching\n",
    "best_linear_svc = gridsearch_linear.best_estimator_\n",
    "best_linear_svc"
   ]
  },
  {
   "cell_type": "markdown",
   "id": "99e01787",
   "metadata": {},
   "source": [
    "### Best SVC linear"
   ]
  },
  {
   "cell_type": "code",
   "execution_count": 35,
   "id": "592b6ddf",
   "metadata": {},
   "outputs": [
    {
     "data": {
      "text/html": [
       "<style>#sk-74897c41-fd32-4286-b1e2-a65a52114bfe {color: black;background-color: white;}#sk-74897c41-fd32-4286-b1e2-a65a52114bfe pre{padding: 0;}#sk-74897c41-fd32-4286-b1e2-a65a52114bfe div.sk-toggleable {background-color: white;}#sk-74897c41-fd32-4286-b1e2-a65a52114bfe label.sk-toggleable__label {cursor: pointer;display: block;width: 100%;margin-bottom: 0;padding: 0.3em;box-sizing: border-box;text-align: center;}#sk-74897c41-fd32-4286-b1e2-a65a52114bfe label.sk-toggleable__label-arrow:before {content: \"▸\";float: left;margin-right: 0.25em;color: #696969;}#sk-74897c41-fd32-4286-b1e2-a65a52114bfe label.sk-toggleable__label-arrow:hover:before {color: black;}#sk-74897c41-fd32-4286-b1e2-a65a52114bfe div.sk-estimator:hover label.sk-toggleable__label-arrow:before {color: black;}#sk-74897c41-fd32-4286-b1e2-a65a52114bfe div.sk-toggleable__content {max-height: 0;max-width: 0;overflow: hidden;text-align: left;background-color: #f0f8ff;}#sk-74897c41-fd32-4286-b1e2-a65a52114bfe div.sk-toggleable__content pre {margin: 0.2em;color: black;border-radius: 0.25em;background-color: #f0f8ff;}#sk-74897c41-fd32-4286-b1e2-a65a52114bfe input.sk-toggleable__control:checked~div.sk-toggleable__content {max-height: 200px;max-width: 100%;overflow: auto;}#sk-74897c41-fd32-4286-b1e2-a65a52114bfe input.sk-toggleable__control:checked~label.sk-toggleable__label-arrow:before {content: \"▾\";}#sk-74897c41-fd32-4286-b1e2-a65a52114bfe div.sk-estimator input.sk-toggleable__control:checked~label.sk-toggleable__label {background-color: #d4ebff;}#sk-74897c41-fd32-4286-b1e2-a65a52114bfe div.sk-label input.sk-toggleable__control:checked~label.sk-toggleable__label {background-color: #d4ebff;}#sk-74897c41-fd32-4286-b1e2-a65a52114bfe input.sk-hidden--visually {border: 0;clip: rect(1px 1px 1px 1px);clip: rect(1px, 1px, 1px, 1px);height: 1px;margin: -1px;overflow: hidden;padding: 0;position: absolute;width: 1px;}#sk-74897c41-fd32-4286-b1e2-a65a52114bfe div.sk-estimator {font-family: monospace;background-color: #f0f8ff;border: 1px dotted black;border-radius: 0.25em;box-sizing: border-box;margin-bottom: 0.5em;}#sk-74897c41-fd32-4286-b1e2-a65a52114bfe div.sk-estimator:hover {background-color: #d4ebff;}#sk-74897c41-fd32-4286-b1e2-a65a52114bfe div.sk-parallel-item::after {content: \"\";width: 100%;border-bottom: 1px solid gray;flex-grow: 1;}#sk-74897c41-fd32-4286-b1e2-a65a52114bfe div.sk-label:hover label.sk-toggleable__label {background-color: #d4ebff;}#sk-74897c41-fd32-4286-b1e2-a65a52114bfe div.sk-serial::before {content: \"\";position: absolute;border-left: 1px solid gray;box-sizing: border-box;top: 2em;bottom: 0;left: 50%;}#sk-74897c41-fd32-4286-b1e2-a65a52114bfe div.sk-serial {display: flex;flex-direction: column;align-items: center;background-color: white;padding-right: 0.2em;padding-left: 0.2em;}#sk-74897c41-fd32-4286-b1e2-a65a52114bfe div.sk-item {z-index: 1;}#sk-74897c41-fd32-4286-b1e2-a65a52114bfe div.sk-parallel {display: flex;align-items: stretch;justify-content: center;background-color: white;}#sk-74897c41-fd32-4286-b1e2-a65a52114bfe div.sk-parallel::before {content: \"\";position: absolute;border-left: 1px solid gray;box-sizing: border-box;top: 2em;bottom: 0;left: 50%;}#sk-74897c41-fd32-4286-b1e2-a65a52114bfe div.sk-parallel-item {display: flex;flex-direction: column;position: relative;background-color: white;}#sk-74897c41-fd32-4286-b1e2-a65a52114bfe div.sk-parallel-item:first-child::after {align-self: flex-end;width: 50%;}#sk-74897c41-fd32-4286-b1e2-a65a52114bfe div.sk-parallel-item:last-child::after {align-self: flex-start;width: 50%;}#sk-74897c41-fd32-4286-b1e2-a65a52114bfe div.sk-parallel-item:only-child::after {width: 0;}#sk-74897c41-fd32-4286-b1e2-a65a52114bfe div.sk-dashed-wrapped {border: 1px dashed gray;margin: 0 0.4em 0.5em 0.4em;box-sizing: border-box;padding-bottom: 0.4em;background-color: white;position: relative;}#sk-74897c41-fd32-4286-b1e2-a65a52114bfe div.sk-label label {font-family: monospace;font-weight: bold;background-color: white;display: inline-block;line-height: 1.2em;}#sk-74897c41-fd32-4286-b1e2-a65a52114bfe div.sk-label-container {position: relative;z-index: 2;text-align: center;}#sk-74897c41-fd32-4286-b1e2-a65a52114bfe div.sk-container {/* jupyter's `normalize.less` sets `[hidden] { display: none; }` but bootstrap.min.css set `[hidden] { display: none !important; }` so we also need the `!important` here to be able to override the default hidden behavior on the sphinx rendered scikit-learn.org. See: https://github.com/scikit-learn/scikit-learn/issues/21755 */display: inline-block !important;position: relative;}#sk-74897c41-fd32-4286-b1e2-a65a52114bfe div.sk-text-repr-fallback {display: none;}</style><div id=\"sk-74897c41-fd32-4286-b1e2-a65a52114bfe\" class=\"sk-top-container\"><div class=\"sk-text-repr-fallback\"><pre>SVC(C=700, gamma=1, kernel=&#x27;linear&#x27;)</pre><b>Please rerun this cell to show the HTML repr or trust the notebook.</b></div><div class=\"sk-container\" hidden><div class=\"sk-item\"><div class=\"sk-estimator sk-toggleable\"><input class=\"sk-toggleable__control sk-hidden--visually\" id=\"0fe3d498-8962-49b8-8220-c6f92fc4c77a\" type=\"checkbox\" checked><label for=\"0fe3d498-8962-49b8-8220-c6f92fc4c77a\" class=\"sk-toggleable__label sk-toggleable__label-arrow\">SVC</label><div class=\"sk-toggleable__content\"><pre>SVC(C=700, gamma=1, kernel=&#x27;linear&#x27;)</pre></div></div></div></div></div>"
      ],
      "text/plain": [
       "SVC(C=700, gamma=1, kernel='linear')"
      ]
     },
     "execution_count": 35,
     "metadata": {},
     "output_type": "execute_result"
    }
   ],
   "source": [
    "# Fitting the best estimator onto the train set\n",
    "best_linear_svc.fit(X_train, y_train)"
   ]
  },
  {
   "cell_type": "code",
   "execution_count": 36,
   "id": "bd8cb926",
   "metadata": {},
   "outputs": [],
   "source": [
    "# Predicting X_test\n",
    "best_svc_pred = best_linear_svc.predict(X_test)"
   ]
  },
  {
   "cell_type": "code",
   "execution_count": 37,
   "id": "b584394a",
   "metadata": {
    "scrolled": true
   },
   "outputs": [
    {
     "data": {
      "image/png": "[encoded data removed]",
      "text/plain": [
       "<Figure size 432x288 with 2 Axes>"
      ]
     },
     "metadata": {},
     "output_type": "display_data"
    }
   ],
   "source": [
    "# Confusion matrix\n",
    "cm_svc = confusion_matrix(y_test, best_svc_pred)\n",
    "cm_svc\n",
    "\n",
    "disp = ConfusionMatrixDisplay(confusion_matrix=cm_svc,\n",
    "                             display_labels=[\"Nondemented\",\"Demented\"])\n",
    "disp.plot(cmap = 'viridis')\n",
    "plt.grid(visible = None)\n",
    "plt.show()"
   ]
  },
  {
   "cell_type": "code",
   "execution_count": 38,
   "id": "ea7229bc",
   "metadata": {},
   "outputs": [],
   "source": [
    "# Scores\n",
    "SVC_linear_score = recall_score(y_test, best_svc_pred), precision_score(y_test, best_svc_pred), accuracy_score(y_test, best_svc_pred)"
   ]
  },
  {
   "cell_type": "markdown",
   "id": "722e6a51",
   "metadata": {},
   "source": [
    "## SVC Poly"
   ]
  },
  {
   "cell_type": "markdown",
   "id": "739bc003",
   "metadata": {},
   "source": [
    "###  🤖 Grid Searching"
   ]
  },
  {
   "cell_type": "code",
   "execution_count": 39,
   "id": "0e1752c7",
   "metadata": {},
   "outputs": [
    {
     "data": {
      "text/html": [
       "<style>#sk-4380b39e-2439-468f-8dfe-01b3c5aae056 {color: black;background-color: white;}#sk-4380b39e-2439-468f-8dfe-01b3c5aae056 pre{padding: 0;}#sk-4380b39e-2439-468f-8dfe-01b3c5aae056 div.sk-toggleable {background-color: white;}#sk-4380b39e-2439-468f-8dfe-01b3c5aae056 label.sk-toggleable__label {cursor: pointer;display: block;width: 100%;margin-bottom: 0;padding: 0.3em;box-sizing: border-box;text-align: center;}#sk-4380b39e-2439-468f-8dfe-01b3c5aae056 label.sk-toggleable__label-arrow:before {content: \"▸\";float: left;margin-right: 0.25em;color: #696969;}#sk-4380b39e-2439-468f-8dfe-01b3c5aae056 label.sk-toggleable__label-arrow:hover:before {color: black;}#sk-4380b39e-2439-468f-8dfe-01b3c5aae056 div.sk-estimator:hover label.sk-toggleable__label-arrow:before {color: black;}#sk-4380b39e-2439-468f-8dfe-01b3c5aae056 div.sk-toggleable__content {max-height: 0;max-width: 0;overflow: hidden;text-align: left;background-color: #f0f8ff;}#sk-4380b39e-2439-468f-8dfe-01b3c5aae056 div.sk-toggleable__content pre {margin: 0.2em;color: black;border-radius: 0.25em;background-color: #f0f8ff;}#sk-4380b39e-2439-468f-8dfe-01b3c5aae056 input.sk-toggleable__control:checked~div.sk-toggleable__content {max-height: 200px;max-width: 100%;overflow: auto;}#sk-4380b39e-2439-468f-8dfe-01b3c5aae056 input.sk-toggleable__control:checked~label.sk-toggleable__label-arrow:before {content: \"▾\";}#sk-4380b39e-2439-468f-8dfe-01b3c5aae056 div.sk-estimator input.sk-toggleable__control:checked~label.sk-toggleable__label {background-color: #d4ebff;}#sk-4380b39e-2439-468f-8dfe-01b3c5aae056 div.sk-label input.sk-toggleable__control:checked~label.sk-toggleable__label {background-color: #d4ebff;}#sk-4380b39e-2439-468f-8dfe-01b3c5aae056 input.sk-hidden--visually {border: 0;clip: rect(1px 1px 1px 1px);clip: rect(1px, 1px, 1px, 1px);height: 1px;margin: -1px;overflow: hidden;padding: 0;position: absolute;width: 1px;}#sk-4380b39e-2439-468f-8dfe-01b3c5aae056 div.sk-estimator {font-family: monospace;background-color: #f0f8ff;border: 1px dotted black;border-radius: 0.25em;box-sizing: border-box;margin-bottom: 0.5em;}#sk-4380b39e-2439-468f-8dfe-01b3c5aae056 div.sk-estimator:hover {background-color: #d4ebff;}#sk-4380b39e-2439-468f-8dfe-01b3c5aae056 div.sk-parallel-item::after {content: \"\";width: 100%;border-bottom: 1px solid gray;flex-grow: 1;}#sk-4380b39e-2439-468f-8dfe-01b3c5aae056 div.sk-label:hover label.sk-toggleable__label {background-color: #d4ebff;}#sk-4380b39e-2439-468f-8dfe-01b3c5aae056 div.sk-serial::before {content: \"\";position: absolute;border-left: 1px solid gray;box-sizing: border-box;top: 2em;bottom: 0;left: 50%;}#sk-4380b39e-2439-468f-8dfe-01b3c5aae056 div.sk-serial {display: flex;flex-direction: column;align-items: center;background-color: white;padding-right: 0.2em;padding-left: 0.2em;}#sk-4380b39e-2439-468f-8dfe-01b3c5aae056 div.sk-item {z-index: 1;}#sk-4380b39e-2439-468f-8dfe-01b3c5aae056 div.sk-parallel {display: flex;align-items: stretch;justify-content: center;background-color: white;}#sk-4380b39e-2439-468f-8dfe-01b3c5aae056 div.sk-parallel::before {content: \"\";position: absolute;border-left: 1px solid gray;box-sizing: border-box;top: 2em;bottom: 0;left: 50%;}#sk-4380b39e-2439-468f-8dfe-01b3c5aae056 div.sk-parallel-item {display: flex;flex-direction: column;position: relative;background-color: white;}#sk-4380b39e-2439-468f-8dfe-01b3c5aae056 div.sk-parallel-item:first-child::after {align-self: flex-end;width: 50%;}#sk-4380b39e-2439-468f-8dfe-01b3c5aae056 div.sk-parallel-item:last-child::after {align-self: flex-start;width: 50%;}#sk-4380b39e-2439-468f-8dfe-01b3c5aae056 div.sk-parallel-item:only-child::after {width: 0;}#sk-4380b39e-2439-468f-8dfe-01b3c5aae056 div.sk-dashed-wrapped {border: 1px dashed gray;margin: 0 0.4em 0.5em 0.4em;box-sizing: border-box;padding-bottom: 0.4em;background-color: white;position: relative;}#sk-4380b39e-2439-468f-8dfe-01b3c5aae056 div.sk-label label {font-family: monospace;font-weight: bold;background-color: white;display: inline-block;line-height: 1.2em;}#sk-4380b39e-2439-468f-8dfe-01b3c5aae056 div.sk-label-container {position: relative;z-index: 2;text-align: center;}#sk-4380b39e-2439-468f-8dfe-01b3c5aae056 div.sk-container {/* jupyter's `normalize.less` sets `[hidden] { display: none; }` but bootstrap.min.css set `[hidden] { display: none !important; }` so we also need the `!important` here to be able to override the default hidden behavior on the sphinx rendered scikit-learn.org. See: https://github.com/scikit-learn/scikit-learn/issues/21755 */display: inline-block !important;position: relative;}#sk-4380b39e-2439-468f-8dfe-01b3c5aae056 div.sk-text-repr-fallback {display: none;}</style><div id=\"sk-4380b39e-2439-468f-8dfe-01b3c5aae056\" class=\"sk-top-container\"><div class=\"sk-text-repr-fallback\"><pre>GridSearchCV(cv=5, estimator=SVC(kernel=&#x27;poly&#x27;), n_jobs=-1,\n",
       "             param_grid={&#x27;C&#x27;: array([ 1,  2,  3,  4,  5,  6,  7,  8,  9, 10, 11, 12, 13, 14, 15, 16, 17,\n",
       "       18, 19, 20, 21, 22, 23, 24, 25, 26, 27, 28, 29, 30, 31, 32, 33, 34,\n",
       "       35, 36, 37, 38, 39, 40, 41, 42, 43, 44, 45, 46, 47, 48, 49]),\n",
       "                         &#x27;degree&#x27;: array([1, 2, 3, 4, 5, 6, 7, 8, 9]),\n",
       "                         &#x27;gamma&#x27;: [1, 0.1, 0.001, 0.0001]},\n",
       "             scoring=&#x27;recall&#x27;)</pre><b>Please rerun this cell to show the HTML repr or trust the notebook.</b></div><div class=\"sk-container\" hidden><div class=\"sk-item sk-dashed-wrapped\"><div class=\"sk-label-container\"><div class=\"sk-label sk-toggleable\"><input class=\"sk-toggleable__control sk-hidden--visually\" id=\"5b4edd81-767a-4607-8f83-851a44000c9d\" type=\"checkbox\" ><label for=\"5b4edd81-767a-4607-8f83-851a44000c9d\" class=\"sk-toggleable__label sk-toggleable__label-arrow\">GridSearchCV</label><div class=\"sk-toggleable__content\"><pre>GridSearchCV(cv=5, estimator=SVC(kernel=&#x27;poly&#x27;), n_jobs=-1,\n",
       "             param_grid={&#x27;C&#x27;: array([ 1,  2,  3,  4,  5,  6,  7,  8,  9, 10, 11, 12, 13, 14, 15, 16, 17,\n",
       "       18, 19, 20, 21, 22, 23, 24, 25, 26, 27, 28, 29, 30, 31, 32, 33, 34,\n",
       "       35, 36, 37, 38, 39, 40, 41, 42, 43, 44, 45, 46, 47, 48, 49]),\n",
       "                         &#x27;degree&#x27;: array([1, 2, 3, 4, 5, 6, 7, 8, 9]),\n",
       "                         &#x27;gamma&#x27;: [1, 0.1, 0.001, 0.0001]},\n",
       "             scoring=&#x27;recall&#x27;)</pre></div></div></div><div class=\"sk-parallel\"><div class=\"sk-parallel-item\"><div class=\"sk-item\"><div class=\"sk-serial\"><div class=\"sk-item\"><div class=\"sk-estimator sk-toggleable\"><input class=\"sk-toggleable__control sk-hidden--visually\" id=\"77f7cdf9-27af-4d1e-aa73-343f8e05d1ae\" type=\"checkbox\" ><label for=\"77f7cdf9-27af-4d1e-aa73-343f8e05d1ae\" class=\"sk-toggleable__label sk-toggleable__label-arrow\">SVC</label><div class=\"sk-toggleable__content\"><pre>SVC(kernel=&#x27;poly&#x27;)</pre></div></div></div></div></div></div></div></div></div></div>"
      ],
      "text/plain": [
       "GridSearchCV(cv=5, estimator=SVC(kernel='poly'), n_jobs=-1,\n",
       "             param_grid={'C': array([ 1,  2,  3,  4,  5,  6,  7,  8,  9, 10, 11, 12, 13, 14, 15, 16, 17,\n",
       "       18, 19, 20, 21, 22, 23, 24, 25, 26, 27, 28, 29, 30, 31, 32, 33, 34,\n",
       "       35, 36, 37, 38, 39, 40, 41, 42, 43, 44, 45, 46, 47, 48, 49]),\n",
       "                         'degree': array([1, 2, 3, 4, 5, 6, 7, 8, 9]),\n",
       "                         'gamma': [1, 0.1, 0.001, 0.0001]},\n",
       "             scoring='recall')"
      ]
     },
     "execution_count": 39,
     "metadata": {},
     "output_type": "execute_result"
    }
   ],
   "source": [
    "# Creating a parameter grid: map the parameter names to the values that should be searched in a dictionary\n",
    "param_grid = {'C':np.arange(1,50,1),\n",
    "              'gamma':[1,0.1,0.001,0.0001],\n",
    "             'degree': np.arange(1,10,1)}\n",
    "\n",
    "# GridSearching\n",
    "gridsearch_poly = GridSearchCV(SVC(kernel = 'poly'), \n",
    "                          param_grid, n_jobs = -1, \n",
    "                          scoring = 'recall', cv = 5)\n",
    "\n",
    "# Fitting gridsearch on X and y\n",
    "gridsearch_poly.fit(X_train, y_train)"
   ]
  },
  {
   "cell_type": "code",
   "execution_count": 40,
   "id": "fd1e8c5a",
   "metadata": {},
   "outputs": [
    {
     "data": {
      "text/html": [
       "<style>#sk-b138e6aa-8365-4558-b7ca-aec10eaeb88d {color: black;background-color: white;}#sk-b138e6aa-8365-4558-b7ca-aec10eaeb88d pre{padding: 0;}#sk-b138e6aa-8365-4558-b7ca-aec10eaeb88d div.sk-toggleable {background-color: white;}#sk-b138e6aa-8365-4558-b7ca-aec10eaeb88d label.sk-toggleable__label {cursor: pointer;display: block;width: 100%;margin-bottom: 0;padding: 0.3em;box-sizing: border-box;text-align: center;}#sk-b138e6aa-8365-4558-b7ca-aec10eaeb88d label.sk-toggleable__label-arrow:before {content: \"▸\";float: left;margin-right: 0.25em;color: #696969;}#sk-b138e6aa-8365-4558-b7ca-aec10eaeb88d label.sk-toggleable__label-arrow:hover:before {color: black;}#sk-b138e6aa-8365-4558-b7ca-aec10eaeb88d div.sk-estimator:hover label.sk-toggleable__label-arrow:before {color: black;}#sk-b138e6aa-8365-4558-b7ca-aec10eaeb88d div.sk-toggleable__content {max-height: 0;max-width: 0;overflow: hidden;text-align: left;background-color: #f0f8ff;}#sk-b138e6aa-8365-4558-b7ca-aec10eaeb88d div.sk-toggleable__content pre {margin: 0.2em;color: black;border-radius: 0.25em;background-color: #f0f8ff;}#sk-b138e6aa-8365-4558-b7ca-aec10eaeb88d input.sk-toggleable__control:checked~div.sk-toggleable__content {max-height: 200px;max-width: 100%;overflow: auto;}#sk-b138e6aa-8365-4558-b7ca-aec10eaeb88d input.sk-toggleable__control:checked~label.sk-toggleable__label-arrow:before {content: \"▾\";}#sk-b138e6aa-8365-4558-b7ca-aec10eaeb88d div.sk-estimator input.sk-toggleable__control:checked~label.sk-toggleable__label {background-color: #d4ebff;}#sk-b138e6aa-8365-4558-b7ca-aec10eaeb88d div.sk-label input.sk-toggleable__control:checked~label.sk-toggleable__label {background-color: #d4ebff;}#sk-b138e6aa-8365-4558-b7ca-aec10eaeb88d input.sk-hidden--visually {border: 0;clip: rect(1px 1px 1px 1px);clip: rect(1px, 1px, 1px, 1px);height: 1px;margin: -1px;overflow: hidden;padding: 0;position: absolute;width: 1px;}#sk-b138e6aa-8365-4558-b7ca-aec10eaeb88d div.sk-estimator {font-family: monospace;background-color: #f0f8ff;border: 1px dotted black;border-radius: 0.25em;box-sizing: border-box;margin-bottom: 0.5em;}#sk-b138e6aa-8365-4558-b7ca-aec10eaeb88d div.sk-estimator:hover {background-color: #d4ebff;}#sk-b138e6aa-8365-4558-b7ca-aec10eaeb88d div.sk-parallel-item::after {content: \"\";width: 100%;border-bottom: 1px solid gray;flex-grow: 1;}#sk-b138e6aa-8365-4558-b7ca-aec10eaeb88d div.sk-label:hover label.sk-toggleable__label {background-color: #d4ebff;}#sk-b138e6aa-8365-4558-b7ca-aec10eaeb88d div.sk-serial::before {content: \"\";position: absolute;border-left: 1px solid gray;box-sizing: border-box;top: 2em;bottom: 0;left: 50%;}#sk-b138e6aa-8365-4558-b7ca-aec10eaeb88d div.sk-serial {display: flex;flex-direction: column;align-items: center;background-color: white;padding-right: 0.2em;padding-left: 0.2em;}#sk-b138e6aa-8365-4558-b7ca-aec10eaeb88d div.sk-item {z-index: 1;}#sk-b138e6aa-8365-4558-b7ca-aec10eaeb88d div.sk-parallel {display: flex;align-items: stretch;justify-content: center;background-color: white;}#sk-b138e6aa-8365-4558-b7ca-aec10eaeb88d div.sk-parallel::before {content: \"\";position: absolute;border-left: 1px solid gray;box-sizing: border-box;top: 2em;bottom: 0;left: 50%;}#sk-b138e6aa-8365-4558-b7ca-aec10eaeb88d div.sk-parallel-item {display: flex;flex-direction: column;position: relative;background-color: white;}#sk-b138e6aa-8365-4558-b7ca-aec10eaeb88d div.sk-parallel-item:first-child::after {align-self: flex-end;width: 50%;}#sk-b138e6aa-8365-4558-b7ca-aec10eaeb88d div.sk-parallel-item:last-child::after {align-self: flex-start;width: 50%;}#sk-b138e6aa-8365-4558-b7ca-aec10eaeb88d div.sk-parallel-item:only-child::after {width: 0;}#sk-b138e6aa-8365-4558-b7ca-aec10eaeb88d div.sk-dashed-wrapped {border: 1px dashed gray;margin: 0 0.4em 0.5em 0.4em;box-sizing: border-box;padding-bottom: 0.4em;background-color: white;position: relative;}#sk-b138e6aa-8365-4558-b7ca-aec10eaeb88d div.sk-label label {font-family: monospace;font-weight: bold;background-color: white;display: inline-block;line-height: 1.2em;}#sk-b138e6aa-8365-4558-b7ca-aec10eaeb88d div.sk-label-container {position: relative;z-index: 2;text-align: center;}#sk-b138e6aa-8365-4558-b7ca-aec10eaeb88d div.sk-container {/* jupyter's `normalize.less` sets `[hidden] { display: none; }` but bootstrap.min.css set `[hidden] { display: none !important; }` so we also need the `!important` here to be able to override the default hidden behavior on the sphinx rendered scikit-learn.org. See: https://github.com/scikit-learn/scikit-learn/issues/21755 */display: inline-block !important;position: relative;}#sk-b138e6aa-8365-4558-b7ca-aec10eaeb88d div.sk-text-repr-fallback {display: none;}</style><div id=\"sk-b138e6aa-8365-4558-b7ca-aec10eaeb88d\" class=\"sk-top-container\"><div class=\"sk-text-repr-fallback\"><pre>SVC(C=7, degree=2, gamma=1, kernel=&#x27;poly&#x27;)</pre><b>Please rerun this cell to show the HTML repr or trust the notebook.</b></div><div class=\"sk-container\" hidden><div class=\"sk-item\"><div class=\"sk-estimator sk-toggleable\"><input class=\"sk-toggleable__control sk-hidden--visually\" id=\"ae6f8189-f91f-4310-871c-f729607440b8\" type=\"checkbox\" checked><label for=\"ae6f8189-f91f-4310-871c-f729607440b8\" class=\"sk-toggleable__label sk-toggleable__label-arrow\">SVC</label><div class=\"sk-toggleable__content\"><pre>SVC(C=7, degree=2, gamma=1, kernel=&#x27;poly&#x27;)</pre></div></div></div></div></div>"
      ],
      "text/plain": [
       "SVC(C=7, degree=2, gamma=1, kernel='poly')"
      ]
     },
     "execution_count": 40,
     "metadata": {},
     "output_type": "execute_result"
    }
   ],
   "source": [
    "# Best estimator obtained from grid searching\n",
    "best_poly_svc = gridsearch_poly.best_estimator_\n",
    "best_poly_svc"
   ]
  },
  {
   "cell_type": "markdown",
   "id": "ec5b12a9",
   "metadata": {},
   "source": [
    "### Best SVC Poly"
   ]
  },
  {
   "cell_type": "code",
   "execution_count": 41,
   "id": "c9ccf2be",
   "metadata": {},
   "outputs": [],
   "source": [
    "# Predicting X_test\n",
    "best_poly_pred = best_poly_svc.predict(X_test)"
   ]
  },
  {
   "cell_type": "code",
   "execution_count": 42,
   "id": "79603691",
   "metadata": {},
   "outputs": [
    {
     "data": {
      "image/png": "[encoded data removed]",
      "text/plain": [
       "<Figure size 432x288 with 2 Axes>"
      ]
     },
     "metadata": {},
     "output_type": "display_data"
    }
   ],
   "source": [
    "# Confusion matrix\n",
    "cm_poly_svc = confusion_matrix(y_test, best_poly_pred)\n",
    "\n",
    "disp = ConfusionMatrixDisplay(confusion_matrix=cm_poly_svc,\n",
    "                             display_labels=['Demented','Nondemented'])\n",
    "disp.plot(cmap = 'viridis')\n",
    "plt.grid(visible = None)\n",
    "plt.show()"
   ]
  },
  {
   "cell_type": "code",
   "execution_count": 43,
   "id": "151995ef",
   "metadata": {},
   "outputs": [],
   "source": [
    "# Scores\n",
    "SVC_poly_score = recall_score(y_test, best_poly_pred), precision_score(y_test, best_poly_pred), accuracy_score(y_test, best_poly_pred)"
   ]
  },
  {
   "cell_type": "markdown",
   "id": "a1b3ec78",
   "metadata": {},
   "source": [
    "## SVC Rbf"
   ]
  },
  {
   "cell_type": "markdown",
   "id": "436edc34",
   "metadata": {},
   "source": [
    "### Grid Searching"
   ]
  },
  {
   "cell_type": "code",
   "execution_count": 44,
   "id": "ea66cf4b",
   "metadata": {},
   "outputs": [
    {
     "data": {
      "text/html": [
       "<style>#sk-7cf3853b-2d06-4002-8a78-79d10275e85d {color: black;background-color: white;}#sk-7cf3853b-2d06-4002-8a78-79d10275e85d pre{padding: 0;}#sk-7cf3853b-2d06-4002-8a78-79d10275e85d div.sk-toggleable {background-color: white;}#sk-7cf3853b-2d06-4002-8a78-79d10275e85d label.sk-toggleable__label {cursor: pointer;display: block;width: 100%;margin-bottom: 0;padding: 0.3em;box-sizing: border-box;text-align: center;}#sk-7cf3853b-2d06-4002-8a78-79d10275e85d label.sk-toggleable__label-arrow:before {content: \"▸\";float: left;margin-right: 0.25em;color: #696969;}#sk-7cf3853b-2d06-4002-8a78-79d10275e85d label.sk-toggleable__label-arrow:hover:before {color: black;}#sk-7cf3853b-2d06-4002-8a78-79d10275e85d div.sk-estimator:hover label.sk-toggleable__label-arrow:before {color: black;}#sk-7cf3853b-2d06-4002-8a78-79d10275e85d div.sk-toggleable__content {max-height: 0;max-width: 0;overflow: hidden;text-align: left;background-color: #f0f8ff;}#sk-7cf3853b-2d06-4002-8a78-79d10275e85d div.sk-toggleable__content pre {margin: 0.2em;color: black;border-radius: 0.25em;background-color: #f0f8ff;}#sk-7cf3853b-2d06-4002-8a78-79d10275e85d input.sk-toggleable__control:checked~div.sk-toggleable__content {max-height: 200px;max-width: 100%;overflow: auto;}#sk-7cf3853b-2d06-4002-8a78-79d10275e85d input.sk-toggleable__control:checked~label.sk-toggleable__label-arrow:before {content: \"▾\";}#sk-7cf3853b-2d06-4002-8a78-79d10275e85d div.sk-estimator input.sk-toggleable__control:checked~label.sk-toggleable__label {background-color: #d4ebff;}#sk-7cf3853b-2d06-4002-8a78-79d10275e85d div.sk-label input.sk-toggleable__control:checked~label.sk-toggleable__label {background-color: #d4ebff;}#sk-7cf3853b-2d06-4002-8a78-79d10275e85d input.sk-hidden--visually {border: 0;clip: rect(1px 1px 1px 1px);clip: rect(1px, 1px, 1px, 1px);height: 1px;margin: -1px;overflow: hidden;padding: 0;position: absolute;width: 1px;}#sk-7cf3853b-2d06-4002-8a78-79d10275e85d div.sk-estimator {font-family: monospace;background-color: #f0f8ff;border: 1px dotted black;border-radius: 0.25em;box-sizing: border-box;margin-bottom: 0.5em;}#sk-7cf3853b-2d06-4002-8a78-79d10275e85d div.sk-estimator:hover {background-color: #d4ebff;}#sk-7cf3853b-2d06-4002-8a78-79d10275e85d div.sk-parallel-item::after {content: \"\";width: 100%;border-bottom: 1px solid gray;flex-grow: 1;}#sk-7cf3853b-2d06-4002-8a78-79d10275e85d div.sk-label:hover label.sk-toggleable__label {background-color: #d4ebff;}#sk-7cf3853b-2d06-4002-8a78-79d10275e85d div.sk-serial::before {content: \"\";position: absolute;border-left: 1px solid gray;box-sizing: border-box;top: 2em;bottom: 0;left: 50%;}#sk-7cf3853b-2d06-4002-8a78-79d10275e85d div.sk-serial {display: flex;flex-direction: column;align-items: center;background-color: white;padding-right: 0.2em;padding-left: 0.2em;}#sk-7cf3853b-2d06-4002-8a78-79d10275e85d div.sk-item {z-index: 1;}#sk-7cf3853b-2d06-4002-8a78-79d10275e85d div.sk-parallel {display: flex;align-items: stretch;justify-content: center;background-color: white;}#sk-7cf3853b-2d06-4002-8a78-79d10275e85d div.sk-parallel::before {content: \"\";position: absolute;border-left: 1px solid gray;box-sizing: border-box;top: 2em;bottom: 0;left: 50%;}#sk-7cf3853b-2d06-4002-8a78-79d10275e85d div.sk-parallel-item {display: flex;flex-direction: column;position: relative;background-color: white;}#sk-7cf3853b-2d06-4002-8a78-79d10275e85d div.sk-parallel-item:first-child::after {align-self: flex-end;width: 50%;}#sk-7cf3853b-2d06-4002-8a78-79d10275e85d div.sk-parallel-item:last-child::after {align-self: flex-start;width: 50%;}#sk-7cf3853b-2d06-4002-8a78-79d10275e85d div.sk-parallel-item:only-child::after {width: 0;}#sk-7cf3853b-2d06-4002-8a78-79d10275e85d div.sk-dashed-wrapped {border: 1px dashed gray;margin: 0 0.4em 0.5em 0.4em;box-sizing: border-box;padding-bottom: 0.4em;background-color: white;position: relative;}#sk-7cf3853b-2d06-4002-8a78-79d10275e85d div.sk-label label {font-family: monospace;font-weight: bold;background-color: white;display: inline-block;line-height: 1.2em;}#sk-7cf3853b-2d06-4002-8a78-79d10275e85d div.sk-label-container {position: relative;z-index: 2;text-align: center;}#sk-7cf3853b-2d06-4002-8a78-79d10275e85d div.sk-container {/* jupyter's `normalize.less` sets `[hidden] { display: none; }` but bootstrap.min.css set `[hidden] { display: none !important; }` so we also need the `!important` here to be able to override the default hidden behavior on the sphinx rendered scikit-learn.org. See: https://github.com/scikit-learn/scikit-learn/issues/21755 */display: inline-block !important;position: relative;}#sk-7cf3853b-2d06-4002-8a78-79d10275e85d div.sk-text-repr-fallback {display: none;}</style><div id=\"sk-7cf3853b-2d06-4002-8a78-79d10275e85d\" class=\"sk-top-container\"><div class=\"sk-text-repr-fallback\"><pre>GridSearchCV(cv=5, estimator=SVC(), n_jobs=-1,\n",
       "             param_grid={&#x27;C&#x27;: array([  1,   2,   3,   4,   5,   6,   7,   8,   9,  10,  11,  12,  13,\n",
       "        14,  15,  16,  17,  18,  19,  20,  21,  22,  23,  24,  25,  26,\n",
       "        27,  28,  29,  30,  31,  32,  33,  34,  35,  36,  37,  38,  39,\n",
       "        40,  41,  42,  43,  44,  45,  46,  47,  48,  49,  50,  51,  52,\n",
       "        53,  54,  55,  56,  57,  58,  59,  60,  61,  62,  63,  64,  65,\n",
       "        66,  67,  68,  69,  70,  71,  72,  73,  74,  75,  76,  77,  78,\n",
       "        79,  80,  81,  82,  83,  84,  85,  86,  87,  88,  89,  90,  91,\n",
       "        92,  93,  94,  95,  96,  97,  9...\n",
       "       118, 119, 120, 121, 122, 123, 124, 125, 126, 127, 128, 129, 130,\n",
       "       131, 132, 133, 134, 135, 136, 137, 138, 139, 140, 141, 142, 143,\n",
       "       144, 145, 146, 147, 148, 149, 150, 151, 152, 153, 154, 155, 156,\n",
       "       157, 158, 159, 160, 161, 162, 163, 164, 165, 166, 167, 168, 169,\n",
       "       170, 171, 172, 173, 174, 175, 176, 177, 178, 179, 180, 181, 182,\n",
       "       183, 184, 185, 186, 187, 188, 189, 190, 191, 192, 193, 194, 195,\n",
       "       196, 197, 198, 199]),\n",
       "                         &#x27;gamma&#x27;: [1, 0.1, 0.5, 0.8, 0.001, 0.0001]},\n",
       "             scoring=&#x27;recall&#x27;)</pre><b>Please rerun this cell to show the HTML repr or trust the notebook.</b></div><div class=\"sk-container\" hidden><div class=\"sk-item sk-dashed-wrapped\"><div class=\"sk-label-container\"><div class=\"sk-label sk-toggleable\"><input class=\"sk-toggleable__control sk-hidden--visually\" id=\"1d88f9dc-ce8a-4112-bdb0-3f7dfa9df473\" type=\"checkbox\" ><label for=\"1d88f9dc-ce8a-4112-bdb0-3f7dfa9df473\" class=\"sk-toggleable__label sk-toggleable__label-arrow\">GridSearchCV</label><div class=\"sk-toggleable__content\"><pre>GridSearchCV(cv=5, estimator=SVC(), n_jobs=-1,\n",
       "             param_grid={&#x27;C&#x27;: array([  1,   2,   3,   4,   5,   6,   7,   8,   9,  10,  11,  12,  13,\n",
       "        14,  15,  16,  17,  18,  19,  20,  21,  22,  23,  24,  25,  26,\n",
       "        27,  28,  29,  30,  31,  32,  33,  34,  35,  36,  37,  38,  39,\n",
       "        40,  41,  42,  43,  44,  45,  46,  47,  48,  49,  50,  51,  52,\n",
       "        53,  54,  55,  56,  57,  58,  59,  60,  61,  62,  63,  64,  65,\n",
       "        66,  67,  68,  69,  70,  71,  72,  73,  74,  75,  76,  77,  78,\n",
       "        79,  80,  81,  82,  83,  84,  85,  86,  87,  88,  89,  90,  91,\n",
       "        92,  93,  94,  95,  96,  97,  9...\n",
       "       118, 119, 120, 121, 122, 123, 124, 125, 126, 127, 128, 129, 130,\n",
       "       131, 132, 133, 134, 135, 136, 137, 138, 139, 140, 141, 142, 143,\n",
       "       144, 145, 146, 147, 148, 149, 150, 151, 152, 153, 154, 155, 156,\n",
       "       157, 158, 159, 160, 161, 162, 163, 164, 165, 166, 167, 168, 169,\n",
       "       170, 171, 172, 173, 174, 175, 176, 177, 178, 179, 180, 181, 182,\n",
       "       183, 184, 185, 186, 187, 188, 189, 190, 191, 192, 193, 194, 195,\n",
       "       196, 197, 198, 199]),\n",
       "                         &#x27;gamma&#x27;: [1, 0.1, 0.5, 0.8, 0.001, 0.0001]},\n",
       "             scoring=&#x27;recall&#x27;)</pre></div></div></div><div class=\"sk-parallel\"><div class=\"sk-parallel-item\"><div class=\"sk-item\"><div class=\"sk-serial\"><div class=\"sk-item\"><div class=\"sk-estimator sk-toggleable\"><input class=\"sk-toggleable__control sk-hidden--visually\" id=\"66b67d82-3aaf-465a-90fb-539612661411\" type=\"checkbox\" ><label for=\"66b67d82-3aaf-465a-90fb-539612661411\" class=\"sk-toggleable__label sk-toggleable__label-arrow\">SVC</label><div class=\"sk-toggleable__content\"><pre>SVC()</pre></div></div></div></div></div></div></div></div></div></div>"
      ],
      "text/plain": [
       "GridSearchCV(cv=5, estimator=SVC(), n_jobs=-1,\n",
       "             param_grid={'C': array([  1,   2,   3,   4,   5,   6,   7,   8,   9,  10,  11,  12,  13,\n",
       "        14,  15,  16,  17,  18,  19,  20,  21,  22,  23,  24,  25,  26,\n",
       "        27,  28,  29,  30,  31,  32,  33,  34,  35,  36,  37,  38,  39,\n",
       "        40,  41,  42,  43,  44,  45,  46,  47,  48,  49,  50,  51,  52,\n",
       "        53,  54,  55,  56,  57,  58,  59,  60,  61,  62,  63,  64,  65,\n",
       "        66,  67,  68,  69,  70,  71,  72,  73,  74,  75,  76,  77,  78,\n",
       "        79,  80,  81,  82,  83,  84,  85,  86,  87,  88,  89,  90,  91,\n",
       "        92,  93,  94,  95,  96,  97,  9...\n",
       "       118, 119, 120, 121, 122, 123, 124, 125, 126, 127, 128, 129, 130,\n",
       "       131, 132, 133, 134, 135, 136, 137, 138, 139, 140, 141, 142, 143,\n",
       "       144, 145, 146, 147, 148, 149, 150, 151, 152, 153, 154, 155, 156,\n",
       "       157, 158, 159, 160, 161, 162, 163, 164, 165, 166, 167, 168, 169,\n",
       "       170, 171, 172, 173, 174, 175, 176, 177, 178, 179, 180, 181, 182,\n",
       "       183, 184, 185, 186, 187, 188, 189, 190, 191, 192, 193, 194, 195,\n",
       "       196, 197, 198, 199]),\n",
       "                         'gamma': [1, 0.1, 0.5, 0.8, 0.001, 0.0001]},\n",
       "             scoring='recall')"
      ]
     },
     "execution_count": 44,
     "metadata": {},
     "output_type": "execute_result"
    }
   ],
   "source": [
    "# Creating a parameter grid: map the parameter names to the values that should be searched in a dictionary\n",
    "param_grid = {'C':np.arange(1,200,1),\n",
    "              'gamma':[1,0.1,0.5, 0.8, 0.001,0.0001]}\n",
    "\n",
    "# GridSearching\n",
    "gridsearch_rbf = GridSearchCV(SVC(kernel = 'rbf'), \n",
    "                          param_grid, n_jobs = -1, \n",
    "                          scoring = 'recall', cv = 5)\n",
    "\n",
    "# Fitting gridsearch on X and y\n",
    "gridsearch_rbf.fit(X_train, y_train)"
   ]
  },
  {
   "cell_type": "code",
   "execution_count": 45,
   "id": "ad1054a3",
   "metadata": {},
   "outputs": [
    {
     "data": {
      "text/html": [
       "<style>#sk-f3666954-e984-4a22-93d5-73ba814a0674 {color: black;background-color: white;}#sk-f3666954-e984-4a22-93d5-73ba814a0674 pre{padding: 0;}#sk-f3666954-e984-4a22-93d5-73ba814a0674 div.sk-toggleable {background-color: white;}#sk-f3666954-e984-4a22-93d5-73ba814a0674 label.sk-toggleable__label {cursor: pointer;display: block;width: 100%;margin-bottom: 0;padding: 0.3em;box-sizing: border-box;text-align: center;}#sk-f3666954-e984-4a22-93d5-73ba814a0674 label.sk-toggleable__label-arrow:before {content: \"▸\";float: left;margin-right: 0.25em;color: #696969;}#sk-f3666954-e984-4a22-93d5-73ba814a0674 label.sk-toggleable__label-arrow:hover:before {color: black;}#sk-f3666954-e984-4a22-93d5-73ba814a0674 div.sk-estimator:hover label.sk-toggleable__label-arrow:before {color: black;}#sk-f3666954-e984-4a22-93d5-73ba814a0674 div.sk-toggleable__content {max-height: 0;max-width: 0;overflow: hidden;text-align: left;background-color: #f0f8ff;}#sk-f3666954-e984-4a22-93d5-73ba814a0674 div.sk-toggleable__content pre {margin: 0.2em;color: black;border-radius: 0.25em;background-color: #f0f8ff;}#sk-f3666954-e984-4a22-93d5-73ba814a0674 input.sk-toggleable__control:checked~div.sk-toggleable__content {max-height: 200px;max-width: 100%;overflow: auto;}#sk-f3666954-e984-4a22-93d5-73ba814a0674 input.sk-toggleable__control:checked~label.sk-toggleable__label-arrow:before {content: \"▾\";}#sk-f3666954-e984-4a22-93d5-73ba814a0674 div.sk-estimator input.sk-toggleable__control:checked~label.sk-toggleable__label {background-color: #d4ebff;}#sk-f3666954-e984-4a22-93d5-73ba814a0674 div.sk-label input.sk-toggleable__control:checked~label.sk-toggleable__label {background-color: #d4ebff;}#sk-f3666954-e984-4a22-93d5-73ba814a0674 input.sk-hidden--visually {border: 0;clip: rect(1px 1px 1px 1px);clip: rect(1px, 1px, 1px, 1px);height: 1px;margin: -1px;overflow: hidden;padding: 0;position: absolute;width: 1px;}#sk-f3666954-e984-4a22-93d5-73ba814a0674 div.sk-estimator {font-family: monospace;background-color: #f0f8ff;border: 1px dotted black;border-radius: 0.25em;box-sizing: border-box;margin-bottom: 0.5em;}#sk-f3666954-e984-4a22-93d5-73ba814a0674 div.sk-estimator:hover {background-color: #d4ebff;}#sk-f3666954-e984-4a22-93d5-73ba814a0674 div.sk-parallel-item::after {content: \"\";width: 100%;border-bottom: 1px solid gray;flex-grow: 1;}#sk-f3666954-e984-4a22-93d5-73ba814a0674 div.sk-label:hover label.sk-toggleable__label {background-color: #d4ebff;}#sk-f3666954-e984-4a22-93d5-73ba814a0674 div.sk-serial::before {content: \"\";position: absolute;border-left: 1px solid gray;box-sizing: border-box;top: 2em;bottom: 0;left: 50%;}#sk-f3666954-e984-4a22-93d5-73ba814a0674 div.sk-serial {display: flex;flex-direction: column;align-items: center;background-color: white;padding-right: 0.2em;padding-left: 0.2em;}#sk-f3666954-e984-4a22-93d5-73ba814a0674 div.sk-item {z-index: 1;}#sk-f3666954-e984-4a22-93d5-73ba814a0674 div.sk-parallel {display: flex;align-items: stretch;justify-content: center;background-color: white;}#sk-f3666954-e984-4a22-93d5-73ba814a0674 div.sk-parallel::before {content: \"\";position: absolute;border-left: 1px solid gray;box-sizing: border-box;top: 2em;bottom: 0;left: 50%;}#sk-f3666954-e984-4a22-93d5-73ba814a0674 div.sk-parallel-item {display: flex;flex-direction: column;position: relative;background-color: white;}#sk-f3666954-e984-4a22-93d5-73ba814a0674 div.sk-parallel-item:first-child::after {align-self: flex-end;width: 50%;}#sk-f3666954-e984-4a22-93d5-73ba814a0674 div.sk-parallel-item:last-child::after {align-self: flex-start;width: 50%;}#sk-f3666954-e984-4a22-93d5-73ba814a0674 div.sk-parallel-item:only-child::after {width: 0;}#sk-f3666954-e984-4a22-93d5-73ba814a0674 div.sk-dashed-wrapped {border: 1px dashed gray;margin: 0 0.4em 0.5em 0.4em;box-sizing: border-box;padding-bottom: 0.4em;background-color: white;position: relative;}#sk-f3666954-e984-4a22-93d5-73ba814a0674 div.sk-label label {font-family: monospace;font-weight: bold;background-color: white;display: inline-block;line-height: 1.2em;}#sk-f3666954-e984-4a22-93d5-73ba814a0674 div.sk-label-container {position: relative;z-index: 2;text-align: center;}#sk-f3666954-e984-4a22-93d5-73ba814a0674 div.sk-container {/* jupyter's `normalize.less` sets `[hidden] { display: none; }` but bootstrap.min.css set `[hidden] { display: none !important; }` so we also need the `!important` here to be able to override the default hidden behavior on the sphinx rendered scikit-learn.org. See: https://github.com/scikit-learn/scikit-learn/issues/21755 */display: inline-block !important;position: relative;}#sk-f3666954-e984-4a22-93d5-73ba814a0674 div.sk-text-repr-fallback {display: none;}</style><div id=\"sk-f3666954-e984-4a22-93d5-73ba814a0674\" class=\"sk-top-container\"><div class=\"sk-text-repr-fallback\"><pre>SVC(C=128, gamma=0.1)</pre><b>Please rerun this cell to show the HTML repr or trust the notebook.</b></div><div class=\"sk-container\" hidden><div class=\"sk-item\"><div class=\"sk-estimator sk-toggleable\"><input class=\"sk-toggleable__control sk-hidden--visually\" id=\"1b574ab7-aed7-4af1-8a68-626dbdff975f\" type=\"checkbox\" checked><label for=\"1b574ab7-aed7-4af1-8a68-626dbdff975f\" class=\"sk-toggleable__label sk-toggleable__label-arrow\">SVC</label><div class=\"sk-toggleable__content\"><pre>SVC(C=128, gamma=0.1)</pre></div></div></div></div></div>"
      ],
      "text/plain": [
       "SVC(C=128, gamma=0.1)"
      ]
     },
     "execution_count": 45,
     "metadata": {},
     "output_type": "execute_result"
    }
   ],
   "source": [
    "# Best estimator obtained from grid searching\n",
    "best_rbf_svc = gridsearch_rbf.best_estimator_\n",
    "best_rbf_svc"
   ]
  },
  {
   "cell_type": "markdown",
   "id": "3562381d",
   "metadata": {},
   "source": [
    "### Best SVC Rbf"
   ]
  },
  {
   "cell_type": "code",
   "execution_count": 46,
   "id": "791a767a",
   "metadata": {},
   "outputs": [],
   "source": [
    "# Predicting X_test\n",
    "best_rbf_pred = best_rbf_svc.predict(X_test)"
   ]
  },
  {
   "cell_type": "code",
   "execution_count": 47,
   "id": "5f2c914c",
   "metadata": {},
   "outputs": [
    {
     "data": {
      "image/png": "[encoded data removed]",
      "text/plain": [
       "<Figure size 432x288 with 2 Axes>"
      ]
     },
     "metadata": {},
     "output_type": "display_data"
    }
   ],
   "source": [
    "# Confusion matrix\n",
    "cm_rbf_svc = confusion_matrix(y_test, best_rbf_pred)\n",
    "\n",
    "disp = ConfusionMatrixDisplay(confusion_matrix=cm_rbf_svc,\n",
    "                             display_labels=['Demented','Nondemented'])\n",
    "disp.plot(cmap = 'viridis')\n",
    "plt.grid(visible = None)\n",
    "plt.show()"
   ]
  },
  {
   "cell_type": "code",
   "execution_count": 48,
   "id": "35a8f649",
   "metadata": {},
   "outputs": [],
   "source": [
    "# Scores\n",
    "SVC_rbf_score = recall_score(y_test, best_rbf_pred), precision_score(y_test, best_rbf_pred), accuracy_score(y_test, best_rbf_pred)"
   ]
  },
  {
   "cell_type": "markdown",
   "id": "725ceb5e",
   "metadata": {},
   "source": [
    "#  🤹 K Neighbors Classifier"
   ]
  },
  {
   "cell_type": "markdown",
   "id": "1b419098",
   "metadata": {},
   "source": [
    "###  💪🏻 Elbow Method"
   ]
  },
  {
   "cell_type": "code",
   "execution_count": 49,
   "id": "86c69a07",
   "metadata": {},
   "outputs": [],
   "source": [
    "# Instantiating KNeighborsClassifier\n",
    "neigh = KNeighborsClassifier()"
   ]
  },
  {
   "cell_type": "code",
   "execution_count": 50,
   "id": "d6961be8",
   "metadata": {},
   "outputs": [],
   "source": [
    "# Elbow method\n",
    "error_rate = []\n",
    "for i in range(1,40):\n",
    " \n",
    " knn = KNeighborsClassifier(n_neighbors=i)\n",
    " knn.fit(X_train,y_train)\n",
    " pred_i = knn.predict(X_test)\n",
    " error_rate.append(np.mean(pred_i != y_test))"
   ]
  },
  {
   "cell_type": "code",
   "execution_count": 51,
   "id": "88a94409",
   "metadata": {},
   "outputs": [
    {
     "data": {
      "image/png": "[encoded data removed]",
      "text/plain": [
       "<Figure size 720x432 with 1 Axes>"
      ]
     },
     "metadata": {},
     "output_type": "display_data"
    }
   ],
   "source": [
    "plt.figure(figsize=(10,6))\n",
    "plt.plot(range(1,40),error_rate,color= 'steelblue', linestyle= 'dashed', marker= 'o',\n",
    " markerfacecolor='red', markersize=10)\n",
    "plt.title('Error Rate vs. K Value')\n",
    "plt.xlabel('Number of K Neighbors', color = 'steelblue')\n",
    "plt.ylabel('Error Rate', color = 'steelblue');"
   ]
  },
  {
   "cell_type": "markdown",
   "id": "0a1bc81f",
   "metadata": {},
   "source": [
    "### Best Neigh model"
   ]
  },
  {
   "cell_type": "code",
   "execution_count": 52,
   "id": "01ca169e",
   "metadata": {},
   "outputs": [
    {
     "data": {
      "text/html": [
       "<style>#sk-47d93986-c209-43ae-b8dd-fe8844cc4483 {color: black;background-color: white;}#sk-47d93986-c209-43ae-b8dd-fe8844cc4483 pre{padding: 0;}#sk-47d93986-c209-43ae-b8dd-fe8844cc4483 div.sk-toggleable {background-color: white;}#sk-47d93986-c209-43ae-b8dd-fe8844cc4483 label.sk-toggleable__label {cursor: pointer;display: block;width: 100%;margin-bottom: 0;padding: 0.3em;box-sizing: border-box;text-align: center;}#sk-47d93986-c209-43ae-b8dd-fe8844cc4483 label.sk-toggleable__label-arrow:before {content: \"▸\";float: left;margin-right: 0.25em;color: #696969;}#sk-47d93986-c209-43ae-b8dd-fe8844cc4483 label.sk-toggleable__label-arrow:hover:before {color: black;}#sk-47d93986-c209-43ae-b8dd-fe8844cc4483 div.sk-estimator:hover label.sk-toggleable__label-arrow:before {color: black;}#sk-47d93986-c209-43ae-b8dd-fe8844cc4483 div.sk-toggleable__content {max-height: 0;max-width: 0;overflow: hidden;text-align: left;background-color: #f0f8ff;}#sk-47d93986-c209-43ae-b8dd-fe8844cc4483 div.sk-toggleable__content pre {margin: 0.2em;color: black;border-radius: 0.25em;background-color: #f0f8ff;}#sk-47d93986-c209-43ae-b8dd-fe8844cc4483 input.sk-toggleable__control:checked~div.sk-toggleable__content {max-height: 200px;max-width: 100%;overflow: auto;}#sk-47d93986-c209-43ae-b8dd-fe8844cc4483 input.sk-toggleable__control:checked~label.sk-toggleable__label-arrow:before {content: \"▾\";}#sk-47d93986-c209-43ae-b8dd-fe8844cc4483 div.sk-estimator input.sk-toggleable__control:checked~label.sk-toggleable__label {background-color: #d4ebff;}#sk-47d93986-c209-43ae-b8dd-fe8844cc4483 div.sk-label input.sk-toggleable__control:checked~label.sk-toggleable__label {background-color: #d4ebff;}#sk-47d93986-c209-43ae-b8dd-fe8844cc4483 input.sk-hidden--visually {border: 0;clip: rect(1px 1px 1px 1px);clip: rect(1px, 1px, 1px, 1px);height: 1px;margin: -1px;overflow: hidden;padding: 0;position: absolute;width: 1px;}#sk-47d93986-c209-43ae-b8dd-fe8844cc4483 div.sk-estimator {font-family: monospace;background-color: #f0f8ff;border: 1px dotted black;border-radius: 0.25em;box-sizing: border-box;margin-bottom: 0.5em;}#sk-47d93986-c209-43ae-b8dd-fe8844cc4483 div.sk-estimator:hover {background-color: #d4ebff;}#sk-47d93986-c209-43ae-b8dd-fe8844cc4483 div.sk-parallel-item::after {content: \"\";width: 100%;border-bottom: 1px solid gray;flex-grow: 1;}#sk-47d93986-c209-43ae-b8dd-fe8844cc4483 div.sk-label:hover label.sk-toggleable__label {background-color: #d4ebff;}#sk-47d93986-c209-43ae-b8dd-fe8844cc4483 div.sk-serial::before {content: \"\";position: absolute;border-left: 1px solid gray;box-sizing: border-box;top: 2em;bottom: 0;left: 50%;}#sk-47d93986-c209-43ae-b8dd-fe8844cc4483 div.sk-serial {display: flex;flex-direction: column;align-items: center;background-color: white;padding-right: 0.2em;padding-left: 0.2em;}#sk-47d93986-c209-43ae-b8dd-fe8844cc4483 div.sk-item {z-index: 1;}#sk-47d93986-c209-43ae-b8dd-fe8844cc4483 div.sk-parallel {display: flex;align-items: stretch;justify-content: center;background-color: white;}#sk-47d93986-c209-43ae-b8dd-fe8844cc4483 div.sk-parallel::before {content: \"\";position: absolute;border-left: 1px solid gray;box-sizing: border-box;top: 2em;bottom: 0;left: 50%;}#sk-47d93986-c209-43ae-b8dd-fe8844cc4483 div.sk-parallel-item {display: flex;flex-direction: column;position: relative;background-color: white;}#sk-47d93986-c209-43ae-b8dd-fe8844cc4483 div.sk-parallel-item:first-child::after {align-self: flex-end;width: 50%;}#sk-47d93986-c209-43ae-b8dd-fe8844cc4483 div.sk-parallel-item:last-child::after {align-self: flex-start;width: 50%;}#sk-47d93986-c209-43ae-b8dd-fe8844cc4483 div.sk-parallel-item:only-child::after {width: 0;}#sk-47d93986-c209-43ae-b8dd-fe8844cc4483 div.sk-dashed-wrapped {border: 1px dashed gray;margin: 0 0.4em 0.5em 0.4em;box-sizing: border-box;padding-bottom: 0.4em;background-color: white;position: relative;}#sk-47d93986-c209-43ae-b8dd-fe8844cc4483 div.sk-label label {font-family: monospace;font-weight: bold;background-color: white;display: inline-block;line-height: 1.2em;}#sk-47d93986-c209-43ae-b8dd-fe8844cc4483 div.sk-label-container {position: relative;z-index: 2;text-align: center;}#sk-47d93986-c209-43ae-b8dd-fe8844cc4483 div.sk-container {/* jupyter's `normalize.less` sets `[hidden] { display: none; }` but bootstrap.min.css set `[hidden] { display: none !important; }` so we also need the `!important` here to be able to override the default hidden behavior on the sphinx rendered scikit-learn.org. See: https://github.com/scikit-learn/scikit-learn/issues/21755 */display: inline-block !important;position: relative;}#sk-47d93986-c209-43ae-b8dd-fe8844cc4483 div.sk-text-repr-fallback {display: none;}</style><div id=\"sk-47d93986-c209-43ae-b8dd-fe8844cc4483\" class=\"sk-top-container\"><div class=\"sk-text-repr-fallback\"><pre>KNeighborsClassifier()</pre><b>Please rerun this cell to show the HTML repr or trust the notebook.</b></div><div class=\"sk-container\" hidden><div class=\"sk-item\"><div class=\"sk-estimator sk-toggleable\"><input class=\"sk-toggleable__control sk-hidden--visually\" id=\"399399e9-cc8e-40b9-b5e9-0ef94d513f84\" type=\"checkbox\" checked><label for=\"399399e9-cc8e-40b9-b5e9-0ef94d513f84\" class=\"sk-toggleable__label sk-toggleable__label-arrow\">KNeighborsClassifier</label><div class=\"sk-toggleable__content\"><pre>KNeighborsClassifier()</pre></div></div></div></div></div>"
      ],
      "text/plain": [
       "KNeighborsClassifier()"
      ]
     },
     "execution_count": 52,
     "metadata": {},
     "output_type": "execute_result"
    }
   ],
   "source": [
    "best_neigh = KNeighborsClassifier(n_neighbors = 5)\n",
    "best_neigh"
   ]
  },
  {
   "cell_type": "code",
   "execution_count": 53,
   "id": "e0d9adc4",
   "metadata": {},
   "outputs": [
    {
     "data": {
      "text/html": [
       "<style>#sk-5e30df66-a823-487d-9e77-be7666949652 {color: black;background-color: white;}#sk-5e30df66-a823-487d-9e77-be7666949652 pre{padding: 0;}#sk-5e30df66-a823-487d-9e77-be7666949652 div.sk-toggleable {background-color: white;}#sk-5e30df66-a823-487d-9e77-be7666949652 label.sk-toggleable__label {cursor: pointer;display: block;width: 100%;margin-bottom: 0;padding: 0.3em;box-sizing: border-box;text-align: center;}#sk-5e30df66-a823-487d-9e77-be7666949652 label.sk-toggleable__label-arrow:before {content: \"▸\";float: left;margin-right: 0.25em;color: #696969;}#sk-5e30df66-a823-487d-9e77-be7666949652 label.sk-toggleable__label-arrow:hover:before {color: black;}#sk-5e30df66-a823-487d-9e77-be7666949652 div.sk-estimator:hover label.sk-toggleable__label-arrow:before {color: black;}#sk-5e30df66-a823-487d-9e77-be7666949652 div.sk-toggleable__content {max-height: 0;max-width: 0;overflow: hidden;text-align: left;background-color: #f0f8ff;}#sk-5e30df66-a823-487d-9e77-be7666949652 div.sk-toggleable__content pre {margin: 0.2em;color: black;border-radius: 0.25em;background-color: #f0f8ff;}#sk-5e30df66-a823-487d-9e77-be7666949652 input.sk-toggleable__control:checked~div.sk-toggleable__content {max-height: 200px;max-width: 100%;overflow: auto;}#sk-5e30df66-a823-487d-9e77-be7666949652 input.sk-toggleable__control:checked~label.sk-toggleable__label-arrow:before {content: \"▾\";}#sk-5e30df66-a823-487d-9e77-be7666949652 div.sk-estimator input.sk-toggleable__control:checked~label.sk-toggleable__label {background-color: #d4ebff;}#sk-5e30df66-a823-487d-9e77-be7666949652 div.sk-label input.sk-toggleable__control:checked~label.sk-toggleable__label {background-color: #d4ebff;}#sk-5e30df66-a823-487d-9e77-be7666949652 input.sk-hidden--visually {border: 0;clip: rect(1px 1px 1px 1px);clip: rect(1px, 1px, 1px, 1px);height: 1px;margin: -1px;overflow: hidden;padding: 0;position: absolute;width: 1px;}#sk-5e30df66-a823-487d-9e77-be7666949652 div.sk-estimator {font-family: monospace;background-color: #f0f8ff;border: 1px dotted black;border-radius: 0.25em;box-sizing: border-box;margin-bottom: 0.5em;}#sk-5e30df66-a823-487d-9e77-be7666949652 div.sk-estimator:hover {background-color: #d4ebff;}#sk-5e30df66-a823-487d-9e77-be7666949652 div.sk-parallel-item::after {content: \"\";width: 100%;border-bottom: 1px solid gray;flex-grow: 1;}#sk-5e30df66-a823-487d-9e77-be7666949652 div.sk-label:hover label.sk-toggleable__label {background-color: #d4ebff;}#sk-5e30df66-a823-487d-9e77-be7666949652 div.sk-serial::before {content: \"\";position: absolute;border-left: 1px solid gray;box-sizing: border-box;top: 2em;bottom: 0;left: 50%;}#sk-5e30df66-a823-487d-9e77-be7666949652 div.sk-serial {display: flex;flex-direction: column;align-items: center;background-color: white;padding-right: 0.2em;padding-left: 0.2em;}#sk-5e30df66-a823-487d-9e77-be7666949652 div.sk-item {z-index: 1;}#sk-5e30df66-a823-487d-9e77-be7666949652 div.sk-parallel {display: flex;align-items: stretch;justify-content: center;background-color: white;}#sk-5e30df66-a823-487d-9e77-be7666949652 div.sk-parallel::before {content: \"\";position: absolute;border-left: 1px solid gray;box-sizing: border-box;top: 2em;bottom: 0;left: 50%;}#sk-5e30df66-a823-487d-9e77-be7666949652 div.sk-parallel-item {display: flex;flex-direction: column;position: relative;background-color: white;}#sk-5e30df66-a823-487d-9e77-be7666949652 div.sk-parallel-item:first-child::after {align-self: flex-end;width: 50%;}#sk-5e30df66-a823-487d-9e77-be7666949652 div.sk-parallel-item:last-child::after {align-self: flex-start;width: 50%;}#sk-5e30df66-a823-487d-9e77-be7666949652 div.sk-parallel-item:only-child::after {width: 0;}#sk-5e30df66-a823-487d-9e77-be7666949652 div.sk-dashed-wrapped {border: 1px dashed gray;margin: 0 0.4em 0.5em 0.4em;box-sizing: border-box;padding-bottom: 0.4em;background-color: white;position: relative;}#sk-5e30df66-a823-487d-9e77-be7666949652 div.sk-label label {font-family: monospace;font-weight: bold;background-color: white;display: inline-block;line-height: 1.2em;}#sk-5e30df66-a823-487d-9e77-be7666949652 div.sk-label-container {position: relative;z-index: 2;text-align: center;}#sk-5e30df66-a823-487d-9e77-be7666949652 div.sk-container {/* jupyter's `normalize.less` sets `[hidden] { display: none; }` but bootstrap.min.css set `[hidden] { display: none !important; }` so we also need the `!important` here to be able to override the default hidden behavior on the sphinx rendered scikit-learn.org. See: https://github.com/scikit-learn/scikit-learn/issues/21755 */display: inline-block !important;position: relative;}#sk-5e30df66-a823-487d-9e77-be7666949652 div.sk-text-repr-fallback {display: none;}</style><div id=\"sk-5e30df66-a823-487d-9e77-be7666949652\" class=\"sk-top-container\"><div class=\"sk-text-repr-fallback\"><pre>KNeighborsClassifier()</pre><b>Please rerun this cell to show the HTML repr or trust the notebook.</b></div><div class=\"sk-container\" hidden><div class=\"sk-item\"><div class=\"sk-estimator sk-toggleable\"><input class=\"sk-toggleable__control sk-hidden--visually\" id=\"e01494dd-68f8-4489-a4e8-bd661522b46b\" type=\"checkbox\" checked><label for=\"e01494dd-68f8-4489-a4e8-bd661522b46b\" class=\"sk-toggleable__label sk-toggleable__label-arrow\">KNeighborsClassifier</label><div class=\"sk-toggleable__content\"><pre>KNeighborsClassifier()</pre></div></div></div></div></div>"
      ],
      "text/plain": [
       "KNeighborsClassifier()"
      ]
     },
     "execution_count": 53,
     "metadata": {},
     "output_type": "execute_result"
    }
   ],
   "source": [
    "# Fitting KNeighborsClassifier\n",
    "best_neigh.fit(X_train, y_train)"
   ]
  },
  {
   "cell_type": "code",
   "execution_count": 54,
   "id": "b5b02609",
   "metadata": {},
   "outputs": [],
   "source": [
    "best_neigh_pred = best_neigh.predict(X_test)"
   ]
  },
  {
   "cell_type": "code",
   "execution_count": 55,
   "id": "120091ea",
   "metadata": {},
   "outputs": [
    {
     "data": {
      "image/png": "[encoded data removed]",
      "text/plain": [
       "<Figure size 432x288 with 2 Axes>"
      ]
     },
     "metadata": {},
     "output_type": "display_data"
    }
   ],
   "source": [
    "# Confusion matrix\n",
    "cm_neigh = confusion_matrix(y_test, best_neigh_pred)\n",
    "\n",
    "disp = ConfusionMatrixDisplay(confusion_matrix=cm_neigh,\n",
    "                             display_labels=['Demented','Nondemented'])\n",
    "disp.plot(cmap = 'viridis')\n",
    "plt.grid(visible = None)\n",
    "plt.show()"
   ]
  },
  {
   "cell_type": "code",
   "execution_count": 56,
   "id": "afc1a9c5",
   "metadata": {},
   "outputs": [],
   "source": [
    "# Scores\n",
    "neigh_score = recall_score(y_test, best_neigh_pred), precision_score(y_test, best_neigh_pred), accuracy_score(y_test, best_neigh_pred)"
   ]
  },
  {
   "cell_type": "markdown",
   "id": "7fb88f81",
   "metadata": {},
   "source": [
    "# Ensemble"
   ]
  },
  {
   "cell_type": "markdown",
   "id": "36da8315",
   "metadata": {},
   "source": [
    "## 🌳Decision Tree"
   ]
  },
  {
   "cell_type": "markdown",
   "id": "baa89e11",
   "metadata": {
    "heading_collapsed": true
   },
   "source": [
    "### Trial (just to practice)"
   ]
  },
  {
   "cell_type": "code",
   "execution_count": 57,
   "id": "712b3483",
   "metadata": {
    "hidden": true
   },
   "outputs": [
    {
     "data": {
      "text/plain": [
       "(array([0, 1]), array([93, 71]))"
      ]
     },
     "execution_count": 57,
     "metadata": {},
     "output_type": "execute_result"
    }
   ],
   "source": [
    "np.unique(y_train, return_counts = True)"
   ]
  },
  {
   "cell_type": "code",
   "execution_count": 58,
   "id": "cc88c292",
   "metadata": {
    "hidden": true
   },
   "outputs": [],
   "source": [
    "# Instantiating Decision Tree\n",
    "tree_clf = DecisionTreeClassifier(max_depth = 5)"
   ]
  },
  {
   "cell_type": "code",
   "execution_count": 59,
   "id": "6677aa45",
   "metadata": {
    "hidden": true
   },
   "outputs": [
    {
     "data": {
      "text/html": [
       "<style>#sk-e1fe2d51-09bf-4b55-b6ce-e5cebd6a6a28 {color: black;background-color: white;}#sk-e1fe2d51-09bf-4b55-b6ce-e5cebd6a6a28 pre{padding: 0;}#sk-e1fe2d51-09bf-4b55-b6ce-e5cebd6a6a28 div.sk-toggleable {background-color: white;}#sk-e1fe2d51-09bf-4b55-b6ce-e5cebd6a6a28 label.sk-toggleable__label {cursor: pointer;display: block;width: 100%;margin-bottom: 0;padding: 0.3em;box-sizing: border-box;text-align: center;}#sk-e1fe2d51-09bf-4b55-b6ce-e5cebd6a6a28 label.sk-toggleable__label-arrow:before {content: \"▸\";float: left;margin-right: 0.25em;color: #696969;}#sk-e1fe2d51-09bf-4b55-b6ce-e5cebd6a6a28 label.sk-toggleable__label-arrow:hover:before {color: black;}#sk-e1fe2d51-09bf-4b55-b6ce-e5cebd6a6a28 div.sk-estimator:hover label.sk-toggleable__label-arrow:before {color: black;}#sk-e1fe2d51-09bf-4b55-b6ce-e5cebd6a6a28 div.sk-toggleable__content {max-height: 0;max-width: 0;overflow: hidden;text-align: left;background-color: #f0f8ff;}#sk-e1fe2d51-09bf-4b55-b6ce-e5cebd6a6a28 div.sk-toggleable__content pre {margin: 0.2em;color: black;border-radius: 0.25em;background-color: #f0f8ff;}#sk-e1fe2d51-09bf-4b55-b6ce-e5cebd6a6a28 input.sk-toggleable__control:checked~div.sk-toggleable__content {max-height: 200px;max-width: 100%;overflow: auto;}#sk-e1fe2d51-09bf-4b55-b6ce-e5cebd6a6a28 input.sk-toggleable__control:checked~label.sk-toggleable__label-arrow:before {content: \"▾\";}#sk-e1fe2d51-09bf-4b55-b6ce-e5cebd6a6a28 div.sk-estimator input.sk-toggleable__control:checked~label.sk-toggleable__label {background-color: #d4ebff;}#sk-e1fe2d51-09bf-4b55-b6ce-e5cebd6a6a28 div.sk-label input.sk-toggleable__control:checked~label.sk-toggleable__label {background-color: #d4ebff;}#sk-e1fe2d51-09bf-4b55-b6ce-e5cebd6a6a28 input.sk-hidden--visually {border: 0;clip: rect(1px 1px 1px 1px);clip: rect(1px, 1px, 1px, 1px);height: 1px;margin: -1px;overflow: hidden;padding: 0;position: absolute;width: 1px;}#sk-e1fe2d51-09bf-4b55-b6ce-e5cebd6a6a28 div.sk-estimator {font-family: monospace;background-color: #f0f8ff;border: 1px dotted black;border-radius: 0.25em;box-sizing: border-box;margin-bottom: 0.5em;}#sk-e1fe2d51-09bf-4b55-b6ce-e5cebd6a6a28 div.sk-estimator:hover {background-color: #d4ebff;}#sk-e1fe2d51-09bf-4b55-b6ce-e5cebd6a6a28 div.sk-parallel-item::after {content: \"\";width: 100%;border-bottom: 1px solid gray;flex-grow: 1;}#sk-e1fe2d51-09bf-4b55-b6ce-e5cebd6a6a28 div.sk-label:hover label.sk-toggleable__label {background-color: #d4ebff;}#sk-e1fe2d51-09bf-4b55-b6ce-e5cebd6a6a28 div.sk-serial::before {content: \"\";position: absolute;border-left: 1px solid gray;box-sizing: border-box;top: 2em;bottom: 0;left: 50%;}#sk-e1fe2d51-09bf-4b55-b6ce-e5cebd6a6a28 div.sk-serial {display: flex;flex-direction: column;align-items: center;background-color: white;padding-right: 0.2em;padding-left: 0.2em;}#sk-e1fe2d51-09bf-4b55-b6ce-e5cebd6a6a28 div.sk-item {z-index: 1;}#sk-e1fe2d51-09bf-4b55-b6ce-e5cebd6a6a28 div.sk-parallel {display: flex;align-items: stretch;justify-content: center;background-color: white;}#sk-e1fe2d51-09bf-4b55-b6ce-e5cebd6a6a28 div.sk-parallel::before {content: \"\";position: absolute;border-left: 1px solid gray;box-sizing: border-box;top: 2em;bottom: 0;left: 50%;}#sk-e1fe2d51-09bf-4b55-b6ce-e5cebd6a6a28 div.sk-parallel-item {display: flex;flex-direction: column;position: relative;background-color: white;}#sk-e1fe2d51-09bf-4b55-b6ce-e5cebd6a6a28 div.sk-parallel-item:first-child::after {align-self: flex-end;width: 50%;}#sk-e1fe2d51-09bf-4b55-b6ce-e5cebd6a6a28 div.sk-parallel-item:last-child::after {align-self: flex-start;width: 50%;}#sk-e1fe2d51-09bf-4b55-b6ce-e5cebd6a6a28 div.sk-parallel-item:only-child::after {width: 0;}#sk-e1fe2d51-09bf-4b55-b6ce-e5cebd6a6a28 div.sk-dashed-wrapped {border: 1px dashed gray;margin: 0 0.4em 0.5em 0.4em;box-sizing: border-box;padding-bottom: 0.4em;background-color: white;position: relative;}#sk-e1fe2d51-09bf-4b55-b6ce-e5cebd6a6a28 div.sk-label label {font-family: monospace;font-weight: bold;background-color: white;display: inline-block;line-height: 1.2em;}#sk-e1fe2d51-09bf-4b55-b6ce-e5cebd6a6a28 div.sk-label-container {position: relative;z-index: 2;text-align: center;}#sk-e1fe2d51-09bf-4b55-b6ce-e5cebd6a6a28 div.sk-container {/* jupyter's `normalize.less` sets `[hidden] { display: none; }` but bootstrap.min.css set `[hidden] { display: none !important; }` so we also need the `!important` here to be able to override the default hidden behavior on the sphinx rendered scikit-learn.org. See: https://github.com/scikit-learn/scikit-learn/issues/21755 */display: inline-block !important;position: relative;}#sk-e1fe2d51-09bf-4b55-b6ce-e5cebd6a6a28 div.sk-text-repr-fallback {display: none;}</style><div id=\"sk-e1fe2d51-09bf-4b55-b6ce-e5cebd6a6a28\" class=\"sk-top-container\"><div class=\"sk-text-repr-fallback\"><pre>DecisionTreeClassifier(max_depth=5)</pre><b>Please rerun this cell to show the HTML repr or trust the notebook.</b></div><div class=\"sk-container\" hidden><div class=\"sk-item\"><div class=\"sk-estimator sk-toggleable\"><input class=\"sk-toggleable__control sk-hidden--visually\" id=\"dbe578fa-48d9-47e7-b6d8-1c87bd4ba37c\" type=\"checkbox\" checked><label for=\"dbe578fa-48d9-47e7-b6d8-1c87bd4ba37c\" class=\"sk-toggleable__label sk-toggleable__label-arrow\">DecisionTreeClassifier</label><div class=\"sk-toggleable__content\"><pre>DecisionTreeClassifier(max_depth=5)</pre></div></div></div></div></div>"
      ],
      "text/plain": [
       "DecisionTreeClassifier(max_depth=5)"
      ]
     },
     "execution_count": 59,
     "metadata": {},
     "output_type": "execute_result"
    }
   ],
   "source": [
    "# Fitting decision tree\n",
    "tree_clf.fit(X_train_trial,y_train)"
   ]
  },
  {
   "cell_type": "code",
   "execution_count": 60,
   "id": "813591ad",
   "metadata": {
    "hidden": true
   },
   "outputs": [
    {
     "data": {
      "text/plain": [
       "array([0, 0, 1, 0, 0, 0, 0, 0, 0, 1, 0, 0, 1, 0, 1, 1, 0, 1, 1, 1, 0, 0,\n",
       "       1, 1, 1, 0, 0, 0, 1, 1, 1, 0, 0, 0, 0, 1, 1, 0, 0, 1, 0, 1, 0, 1,\n",
       "       1, 0, 0, 0, 0, 1, 1, 1, 0, 0, 1, 0, 1, 1, 0, 0, 1, 1, 1, 0, 0, 0,\n",
       "       1, 1, 1, 1, 0])"
      ]
     },
     "execution_count": 60,
     "metadata": {},
     "output_type": "execute_result"
    }
   ],
   "source": [
    "# Predicting X_test\n",
    "prediction = tree_clf.predict(X_test)\n",
    "prediction"
   ]
  },
  {
   "cell_type": "code",
   "execution_count": 61,
   "id": "c2ade7aa",
   "metadata": {
    "hidden": true
   },
   "outputs": [
    {
     "data": {
      "text/plain": [
       "0.7586206896551724"
      ]
     },
     "execution_count": 61,
     "metadata": {},
     "output_type": "execute_result"
    }
   ],
   "source": [
    "# Accuracy\n",
    "recall_score(y_test, prediction)"
   ]
  },
  {
   "cell_type": "code",
   "execution_count": 62,
   "id": "221fca1b",
   "metadata": {
    "hidden": true
   },
   "outputs": [
    {
     "data": {
      "image/svg+xml": [
       "<?xml version=\"1.0\" encoding=\"UTF-8\" standalone=\"no\"?>\n",
       "<!DOCTYPE svg PUBLIC \"-//W3C//DTD SVG 1.1//EN\"\n",
       " \"http://www.w3.org/Graphics/SVG/1.1/DTD/svg11.dtd\">\n",
       "<!-- Generated by graphviz version 2.43.0 (0)\n",
       " -->\n",
       "<!-- Title: Tree Pages: 1 -->\n",
       "<svg width=\"2242pt\" height=\"1030pt\"\n",
       " viewBox=\"0.00 0.00 2242.00 1030.00\" xmlns=\"http://www.w3.org/2000/svg\" xmlns:xlink=\"http://www.w3.org/1999/xlink\">\n",
       "<g id=\"graph0\" class=\"graph\" transform=\"scale(1 1) rotate(0) translate(4 1026)\">\n",
       "<title>Tree</title>\n",
       "<polygon fill=\"white\" stroke=\"transparent\" points=\"-4,4 -4,-1026 2238,-1026 2238,4 -4,4\"/>\n",
       "<!-- 0 -->\n",
       "<g id=\"node1\" class=\"node\">\n",
       "<title>0</title>\n",
       "<path fill=\"#f9e1d0\" stroke=\"black\" d=\"M365,-539.5C365,-539.5 12,-539.5 12,-539.5 6,-539.5 0,-533.5 0,-527.5 0,-527.5 0,-468.5 0,-468.5 0,-462.5 6,-456.5 12,-456.5 12,-456.5 365,-456.5 365,-456.5 371,-456.5 377,-462.5 377,-468.5 377,-468.5 377,-527.5 377,-527.5 377,-533.5 371,-539.5 365,-539.5\"/>\n",
       "<text text-anchor=\"middle\" x=\"188.5\" y=\"-524.3\" font-family=\"futura\" font-size=\"14.00\">num_transformer__robust_scaler__MMSE &lt;= &#45;0.125</text>\n",
       "<text text-anchor=\"middle\" x=\"188.5\" y=\"-509.3\" font-family=\"futura\" font-size=\"14.00\">gini = 0.491</text>\n",
       "<text text-anchor=\"middle\" x=\"188.5\" y=\"-494.3\" font-family=\"futura\" font-size=\"14.00\">samples = 164</text>\n",
       "<text text-anchor=\"middle\" x=\"188.5\" y=\"-479.3\" font-family=\"futura\" font-size=\"14.00\">value = [93, 71]</text>\n",
       "<text text-anchor=\"middle\" x=\"188.5\" y=\"-464.3\" font-family=\"futura\" font-size=\"14.00\">class = nondemented</text>\n",
       "</g>\n",
       "<!-- 1 -->\n",
       "<g id=\"node2\" class=\"node\">\n",
       "<title>1</title>\n",
       "<path fill=\"#78bced\" stroke=\"black\" d=\"M778,-656.5C778,-656.5 425,-656.5 425,-656.5 419,-656.5 413,-650.5 413,-644.5 413,-644.5 413,-585.5 413,-585.5 413,-579.5 419,-573.5 425,-573.5 425,-573.5 778,-573.5 778,-573.5 784,-573.5 790,-579.5 790,-585.5 790,-585.5 790,-644.5 790,-644.5 790,-650.5 784,-656.5 778,-656.5\"/>\n",
       "<text text-anchor=\"middle\" x=\"601.5\" y=\"-641.3\" font-family=\"futura\" font-size=\"14.00\">num_transformer__robust_scaler__MMSE &lt;= &#45;1.125</text>\n",
       "<text text-anchor=\"middle\" x=\"601.5\" y=\"-626.3\" font-family=\"futura\" font-size=\"14.00\">gini = 0.365</text>\n",
       "<text text-anchor=\"middle\" x=\"601.5\" y=\"-611.3\" font-family=\"futura\" font-size=\"14.00\">samples = 79</text>\n",
       "<text text-anchor=\"middle\" x=\"601.5\" y=\"-596.3\" font-family=\"futura\" font-size=\"14.00\">value = [19, 60]</text>\n",
       "<text text-anchor=\"middle\" x=\"601.5\" y=\"-581.3\" font-family=\"futura\" font-size=\"14.00\">class = demented</text>\n",
       "</g>\n",
       "<!-- 0&#45;&gt;1 -->\n",
       "<g id=\"edge1\" class=\"edge\">\n",
       "<title>0&#45;&gt;1</title>\n",
       "<path fill=\"none\" stroke=\"black\" d=\"M335.56,-539.58C370.89,-549.64 408.78,-560.42 444.54,-570.6\"/>\n",
       "<polygon fill=\"black\" stroke=\"black\" points=\"443.99,-574.08 454.56,-573.46 445.9,-567.35 443.99,-574.08\"/>\n",
       "<text text-anchor=\"middle\" x=\"432.72\" y=\"-581.92\" font-family=\"futura\" font-size=\"14.00\">True</text>\n",
       "</g>\n",
       "<!-- 16 -->\n",
       "<g id=\"node17\" class=\"node\">\n",
       "<title>16</title>\n",
       "<path fill=\"#e99456\" stroke=\"black\" d=\"M754,-392.5C754,-392.5 449,-392.5 449,-392.5 443,-392.5 437,-386.5 437,-380.5 437,-380.5 437,-321.5 437,-321.5 437,-315.5 443,-309.5 449,-309.5 449,-309.5 754,-309.5 754,-309.5 760,-309.5 766,-315.5 766,-321.5 766,-321.5 766,-380.5 766,-380.5 766,-386.5 760,-392.5 754,-392.5\"/>\n",
       "<text text-anchor=\"middle\" x=\"601.5\" y=\"-377.3\" font-family=\"futura\" font-size=\"14.00\">cat_transformer__ohe_binary__M/F_M &lt;= 0.5</text>\n",
       "<text text-anchor=\"middle\" x=\"601.5\" y=\"-362.3\" font-family=\"futura\" font-size=\"14.00\">gini = 0.225</text>\n",
       "<text text-anchor=\"middle\" x=\"601.5\" y=\"-347.3\" font-family=\"futura\" font-size=\"14.00\">samples = 85</text>\n",
       "<text text-anchor=\"middle\" x=\"601.5\" y=\"-332.3\" font-family=\"futura\" font-size=\"14.00\">value = [74, 11]</text>\n",
       "<text text-anchor=\"middle\" x=\"601.5\" y=\"-317.3\" font-family=\"futura\" font-size=\"14.00\">class = nondemented</text>\n",
       "</g>\n",
       "<!-- 0&#45;&gt;16 -->\n",
       "<g id=\"edge16\" class=\"edge\">\n",
       "<title>0&#45;&gt;16</title>\n",
       "<path fill=\"none\" stroke=\"black\" d=\"M305.63,-456.47C358.36,-437.6 420.85,-415.25 474.7,-395.99\"/>\n",
       "<polygon fill=\"black\" stroke=\"black\" points=\"476.07,-399.22 484.3,-392.56 473.71,-392.63 476.07,-399.22\"/>\n",
       "<text text-anchor=\"middle\" x=\"461.7\" y=\"-378.17\" font-family=\"futura\" font-size=\"14.00\">False</text>\n",
       "</g>\n",
       "<!-- 2 -->\n",
       "<g id=\"node3\" class=\"node\">\n",
       "<title>2</title>\n",
       "<path fill=\"#399de5\" stroke=\"black\" d=\"M1074,-743C1074,-743 955,-743 955,-743 949,-743 943,-737 943,-731 943,-731 943,-687 943,-687 943,-681 949,-675 955,-675 955,-675 1074,-675 1074,-675 1080,-675 1086,-681 1086,-687 1086,-687 1086,-731 1086,-731 1086,-737 1080,-743 1074,-743\"/>\n",
       "<text text-anchor=\"middle\" x=\"1014.5\" y=\"-727.8\" font-family=\"futura\" font-size=\"14.00\">gini = 0.0</text>\n",
       "<text text-anchor=\"middle\" x=\"1014.5\" y=\"-712.8\" font-family=\"futura\" font-size=\"14.00\">samples = 37</text>\n",
       "<text text-anchor=\"middle\" x=\"1014.5\" y=\"-697.8\" font-family=\"futura\" font-size=\"14.00\">value = [0, 37]</text>\n",
       "<text text-anchor=\"middle\" x=\"1014.5\" y=\"-682.8\" font-family=\"futura\" font-size=\"14.00\">class = demented</text>\n",
       "</g>\n",
       "<!-- 1&#45;&gt;2 -->\n",
       "<g id=\"edge2\" class=\"edge\">\n",
       "<title>1&#45;&gt;2</title>\n",
       "<path fill=\"none\" stroke=\"black\" d=\"M783.97,-656.5C836.14,-668.44 890.4,-680.85 933.06,-690.6\"/>\n",
       "<polygon fill=\"black\" stroke=\"black\" points=\"932.29,-694.02 942.81,-692.83 933.85,-687.19 932.29,-694.02\"/>\n",
       "</g>\n",
       "<!-- 3 -->\n",
       "<g id=\"node4\" class=\"node\">\n",
       "<title>3</title>\n",
       "<path fill=\"#ddeefa\" stroke=\"black\" d=\"M1177.5,-656.5C1177.5,-656.5 851.5,-656.5 851.5,-656.5 845.5,-656.5 839.5,-650.5 839.5,-644.5 839.5,-644.5 839.5,-585.5 839.5,-585.5 839.5,-579.5 845.5,-573.5 851.5,-573.5 851.5,-573.5 1177.5,-573.5 1177.5,-573.5 1183.5,-573.5 1189.5,-579.5 1189.5,-585.5 1189.5,-585.5 1189.5,-644.5 1189.5,-644.5 1189.5,-650.5 1183.5,-656.5 1177.5,-656.5\"/>\n",
       "<text text-anchor=\"middle\" x=\"1014.5\" y=\"-641.3\" font-family=\"futura\" font-size=\"14.00\">num_transformer__remainder__nWBV &lt;= 0.748</text>\n",
       "<text text-anchor=\"middle\" x=\"1014.5\" y=\"-626.3\" font-family=\"futura\" font-size=\"14.00\">gini = 0.495</text>\n",
       "<text text-anchor=\"middle\" x=\"1014.5\" y=\"-611.3\" font-family=\"futura\" font-size=\"14.00\">samples = 42</text>\n",
       "<text text-anchor=\"middle\" x=\"1014.5\" y=\"-596.3\" font-family=\"futura\" font-size=\"14.00\">value = [19, 23]</text>\n",
       "<text text-anchor=\"middle\" x=\"1014.5\" y=\"-581.3\" font-family=\"futura\" font-size=\"14.00\">class = demented</text>\n",
       "</g>\n",
       "<!-- 1&#45;&gt;3 -->\n",
       "<g id=\"edge3\" class=\"edge\">\n",
       "<title>1&#45;&gt;3</title>\n",
       "<path fill=\"none\" stroke=\"black\" d=\"M790.26,-615C803.2,-615 816.23,-615 829.14,-615\"/>\n",
       "<polygon fill=\"black\" stroke=\"black\" points=\"829.48,-618.5 839.48,-615 829.48,-611.5 829.48,-618.5\"/>\n",
       "</g>\n",
       "<!-- 4 -->\n",
       "<g id=\"node5\" class=\"node\">\n",
       "<title>4</title>\n",
       "<path fill=\"#7bbeee\" stroke=\"black\" d=\"M1599.5,-828.5C1599.5,-828.5 1258.5,-828.5 1258.5,-828.5 1252.5,-828.5 1246.5,-822.5 1246.5,-816.5 1246.5,-816.5 1246.5,-757.5 1246.5,-757.5 1246.5,-751.5 1252.5,-745.5 1258.5,-745.5 1258.5,-745.5 1599.5,-745.5 1599.5,-745.5 1605.5,-745.5 1611.5,-751.5 1611.5,-757.5 1611.5,-757.5 1611.5,-816.5 1611.5,-816.5 1611.5,-822.5 1605.5,-828.5 1599.5,-828.5\"/>\n",
       "<text text-anchor=\"middle\" x=\"1429\" y=\"-813.3\" font-family=\"futura\" font-size=\"14.00\">num_transformer__standard_scaler__Age &lt;= 1.34</text>\n",
       "<text text-anchor=\"middle\" x=\"1429\" y=\"-798.3\" font-family=\"futura\" font-size=\"14.00\">gini = 0.375</text>\n",
       "<text text-anchor=\"middle\" x=\"1429\" y=\"-783.3\" font-family=\"futura\" font-size=\"14.00\">samples = 24</text>\n",
       "<text text-anchor=\"middle\" x=\"1429\" y=\"-768.3\" font-family=\"futura\" font-size=\"14.00\">value = [6, 18]</text>\n",
       "<text text-anchor=\"middle\" x=\"1429\" y=\"-753.3\" font-family=\"futura\" font-size=\"14.00\">class = demented</text>\n",
       "</g>\n",
       "<!-- 3&#45;&gt;4 -->\n",
       "<g id=\"edge4\" class=\"edge\">\n",
       "<title>3&#45;&gt;4</title>\n",
       "<path fill=\"none\" stroke=\"black\" d=\"M1177.86,-656.66C1186.43,-659.64 1194.85,-662.75 1203,-666 1254.35,-686.48 1309.03,-715.7 1351.63,-740.29\"/>\n",
       "<polygon fill=\"black\" stroke=\"black\" points=\"1350.12,-743.47 1360.53,-745.46 1353.64,-737.41 1350.12,-743.47\"/>\n",
       "</g>\n",
       "<!-- 11 -->\n",
       "<g id=\"node12\" class=\"node\">\n",
       "<title>11</title>\n",
       "<path fill=\"#efb185\" stroke=\"black\" d=\"M1605.5,-656.5C1605.5,-656.5 1252.5,-656.5 1252.5,-656.5 1246.5,-656.5 1240.5,-650.5 1240.5,-644.5 1240.5,-644.5 1240.5,-585.5 1240.5,-585.5 1240.5,-579.5 1246.5,-573.5 1252.5,-573.5 1252.5,-573.5 1605.5,-573.5 1605.5,-573.5 1611.5,-573.5 1617.5,-579.5 1617.5,-585.5 1617.5,-585.5 1617.5,-644.5 1617.5,-644.5 1617.5,-650.5 1611.5,-656.5 1605.5,-656.5\"/>\n",
       "<text text-anchor=\"middle\" x=\"1429\" y=\"-641.3\" font-family=\"futura\" font-size=\"14.00\">num_transformer__robust_scaler__MMSE &lt;= &#45;0.375</text>\n",
       "<text text-anchor=\"middle\" x=\"1429\" y=\"-626.3\" font-family=\"futura\" font-size=\"14.00\">gini = 0.401</text>\n",
       "<text text-anchor=\"middle\" x=\"1429\" y=\"-611.3\" font-family=\"futura\" font-size=\"14.00\">samples = 18</text>\n",
       "<text text-anchor=\"middle\" x=\"1429\" y=\"-596.3\" font-family=\"futura\" font-size=\"14.00\">value = [13, 5]</text>\n",
       "<text text-anchor=\"middle\" x=\"1429\" y=\"-581.3\" font-family=\"futura\" font-size=\"14.00\">class = nondemented</text>\n",
       "</g>\n",
       "<!-- 3&#45;&gt;11 -->\n",
       "<g id=\"edge11\" class=\"edge\">\n",
       "<title>3&#45;&gt;11</title>\n",
       "<path fill=\"none\" stroke=\"black\" d=\"M1189.54,-615C1202.95,-615 1216.55,-615 1230.11,-615\"/>\n",
       "<polygon fill=\"black\" stroke=\"black\" points=\"1230.46,-618.5 1240.45,-615 1230.45,-611.5 1230.46,-618.5\"/>\n",
       "</g>\n",
       "<!-- 5 -->\n",
       "<g id=\"node6\" class=\"node\">\n",
       "<title>5</title>\n",
       "<path fill=\"#5caeea\" stroke=\"black\" d=\"M2005,-943.5C2005,-943.5 1679,-943.5 1679,-943.5 1673,-943.5 1667,-937.5 1667,-931.5 1667,-931.5 1667,-872.5 1667,-872.5 1667,-866.5 1673,-860.5 1679,-860.5 1679,-860.5 2005,-860.5 2005,-860.5 2011,-860.5 2017,-866.5 2017,-872.5 2017,-872.5 2017,-931.5 2017,-931.5 2017,-937.5 2011,-943.5 2005,-943.5\"/>\n",
       "<text text-anchor=\"middle\" x=\"1842\" y=\"-928.3\" font-family=\"futura\" font-size=\"14.00\">num_transformer__remainder__nWBV &lt;= 0.707</text>\n",
       "<text text-anchor=\"middle\" x=\"1842\" y=\"-913.3\" font-family=\"futura\" font-size=\"14.00\">gini = 0.255</text>\n",
       "<text text-anchor=\"middle\" x=\"1842\" y=\"-898.3\" font-family=\"futura\" font-size=\"14.00\">samples = 20</text>\n",
       "<text text-anchor=\"middle\" x=\"1842\" y=\"-883.3\" font-family=\"futura\" font-size=\"14.00\">value = [3, 17]</text>\n",
       "<text text-anchor=\"middle\" x=\"1842\" y=\"-868.3\" font-family=\"futura\" font-size=\"14.00\">class = demented</text>\n",
       "</g>\n",
       "<!-- 4&#45;&gt;5 -->\n",
       "<g id=\"edge5\" class=\"edge\">\n",
       "<title>4&#45;&gt;5</title>\n",
       "<path fill=\"none\" stroke=\"black\" d=\"M1578.38,-828.52C1612.32,-838.02 1648.52,-848.14 1682.86,-857.75\"/>\n",
       "<polygon fill=\"black\" stroke=\"black\" points=\"1681.92,-861.12 1692.49,-860.45 1683.81,-854.38 1681.92,-861.12\"/>\n",
       "</g>\n",
       "<!-- 8 -->\n",
       "<g id=\"node9\" class=\"node\">\n",
       "<title>8</title>\n",
       "<path fill=\"#eeab7b\" stroke=\"black\" d=\"M2013,-828.5C2013,-828.5 1671,-828.5 1671,-828.5 1665,-828.5 1659,-822.5 1659,-816.5 1659,-816.5 1659,-757.5 1659,-757.5 1659,-751.5 1665,-745.5 1671,-745.5 1671,-745.5 2013,-745.5 2013,-745.5 2019,-745.5 2025,-751.5 2025,-757.5 2025,-757.5 2025,-816.5 2025,-816.5 2025,-822.5 2019,-828.5 2013,-828.5\"/>\n",
       "<text text-anchor=\"middle\" x=\"1842\" y=\"-813.3\" font-family=\"futura\" font-size=\"14.00\">num_transformer__robust_scaler__eTIV &lt;= &#45;0.254</text>\n",
       "<text text-anchor=\"middle\" x=\"1842\" y=\"-798.3\" font-family=\"futura\" font-size=\"14.00\">gini = 0.375</text>\n",
       "<text text-anchor=\"middle\" x=\"1842\" y=\"-783.3\" font-family=\"futura\" font-size=\"14.00\">samples = 4</text>\n",
       "<text text-anchor=\"middle\" x=\"1842\" y=\"-768.3\" font-family=\"futura\" font-size=\"14.00\">value = [3, 1]</text>\n",
       "<text text-anchor=\"middle\" x=\"1842\" y=\"-753.3\" font-family=\"futura\" font-size=\"14.00\">class = nondemented</text>\n",
       "</g>\n",
       "<!-- 4&#45;&gt;8 -->\n",
       "<g id=\"edge8\" class=\"edge\">\n",
       "<title>4&#45;&gt;8</title>\n",
       "<path fill=\"none\" stroke=\"black\" d=\"M1611.77,-787C1623.94,-787 1636.22,-787 1648.44,-787\"/>\n",
       "<polygon fill=\"black\" stroke=\"black\" points=\"1648.69,-790.5 1658.69,-787 1648.69,-783.5 1648.69,-790.5\"/>\n",
       "</g>\n",
       "<!-- 6 -->\n",
       "<g id=\"node7\" class=\"node\">\n",
       "<title>6</title>\n",
       "<path fill=\"#b0d8f5\" stroke=\"black\" d=\"M2209,-1022C2209,-1022 2090,-1022 2090,-1022 2084,-1022 2078,-1016 2078,-1010 2078,-1010 2078,-966 2078,-966 2078,-960 2084,-954 2090,-954 2090,-954 2209,-954 2209,-954 2215,-954 2221,-960 2221,-966 2221,-966 2221,-1010 2221,-1010 2221,-1016 2215,-1022 2209,-1022\"/>\n",
       "<text text-anchor=\"middle\" x=\"2149.5\" y=\"-1006.8\" font-family=\"futura\" font-size=\"14.00\">gini = 0.469</text>\n",
       "<text text-anchor=\"middle\" x=\"2149.5\" y=\"-991.8\" font-family=\"futura\" font-size=\"14.00\">samples = 8</text>\n",
       "<text text-anchor=\"middle\" x=\"2149.5\" y=\"-976.8\" font-family=\"futura\" font-size=\"14.00\">value = [3, 5]</text>\n",
       "<text text-anchor=\"middle\" x=\"2149.5\" y=\"-961.8\" font-family=\"futura\" font-size=\"14.00\">class = demented</text>\n",
       "</g>\n",
       "<!-- 5&#45;&gt;6 -->\n",
       "<g id=\"edge6\" class=\"edge\">\n",
       "<title>5&#45;&gt;6</title>\n",
       "<path fill=\"none\" stroke=\"black\" d=\"M1990.83,-943.61C2017.47,-951.11 2044.3,-958.67 2068.1,-965.37\"/>\n",
       "<polygon fill=\"black\" stroke=\"black\" points=\"2067.18,-968.74 2077.75,-968.08 2069.07,-962 2067.18,-968.74\"/>\n",
       "</g>\n",
       "<!-- 7 -->\n",
       "<g id=\"node8\" class=\"node\">\n",
       "<title>7</title>\n",
       "<path fill=\"#399de5\" stroke=\"black\" d=\"M2209,-936C2209,-936 2090,-936 2090,-936 2084,-936 2078,-930 2078,-924 2078,-924 2078,-880 2078,-880 2078,-874 2084,-868 2090,-868 2090,-868 2209,-868 2209,-868 2215,-868 2221,-874 2221,-880 2221,-880 2221,-924 2221,-924 2221,-930 2215,-936 2209,-936\"/>\n",
       "<text text-anchor=\"middle\" x=\"2149.5\" y=\"-920.8\" font-family=\"futura\" font-size=\"14.00\">gini = 0.0</text>\n",
       "<text text-anchor=\"middle\" x=\"2149.5\" y=\"-905.8\" font-family=\"futura\" font-size=\"14.00\">samples = 12</text>\n",
       "<text text-anchor=\"middle\" x=\"2149.5\" y=\"-890.8\" font-family=\"futura\" font-size=\"14.00\">value = [0, 12]</text>\n",
       "<text text-anchor=\"middle\" x=\"2149.5\" y=\"-875.8\" font-family=\"futura\" font-size=\"14.00\">class = demented</text>\n",
       "</g>\n",
       "<!-- 5&#45;&gt;7 -->\n",
       "<g id=\"edge7\" class=\"edge\">\n",
       "<title>5&#45;&gt;7</title>\n",
       "<path fill=\"none\" stroke=\"black\" d=\"M2017.17,-902C2034.64,-902 2051.74,-902 2067.51,-902\"/>\n",
       "<polygon fill=\"black\" stroke=\"black\" points=\"2067.68,-905.5 2077.68,-902 2067.68,-898.5 2067.68,-905.5\"/>\n",
       "</g>\n",
       "<!-- 9 -->\n",
       "<g id=\"node10\" class=\"node\">\n",
       "<title>9</title>\n",
       "<path fill=\"#e58139\" stroke=\"black\" d=\"M2222,-850C2222,-850 2077,-850 2077,-850 2071,-850 2065,-844 2065,-838 2065,-838 2065,-794 2065,-794 2065,-788 2071,-782 2077,-782 2077,-782 2222,-782 2222,-782 2228,-782 2234,-788 2234,-794 2234,-794 2234,-838 2234,-838 2234,-844 2228,-850 2222,-850\"/>\n",
       "<text text-anchor=\"middle\" x=\"2149.5\" y=\"-834.8\" font-family=\"futura\" font-size=\"14.00\">gini = 0.0</text>\n",
       "<text text-anchor=\"middle\" x=\"2149.5\" y=\"-819.8\" font-family=\"futura\" font-size=\"14.00\">samples = 3</text>\n",
       "<text text-anchor=\"middle\" x=\"2149.5\" y=\"-804.8\" font-family=\"futura\" font-size=\"14.00\">value = [3, 0]</text>\n",
       "<text text-anchor=\"middle\" x=\"2149.5\" y=\"-789.8\" font-family=\"futura\" font-size=\"14.00\">class = nondemented</text>\n",
       "</g>\n",
       "<!-- 8&#45;&gt;9 -->\n",
       "<g id=\"edge9\" class=\"edge\">\n",
       "<title>8&#45;&gt;9</title>\n",
       "<path fill=\"none\" stroke=\"black\" d=\"M2025.12,-804.29C2035.16,-805.24 2045.03,-806.18 2054.53,-807.08\"/>\n",
       "<polygon fill=\"black\" stroke=\"black\" points=\"2054.41,-810.58 2064.7,-808.05 2055.08,-803.62 2054.41,-810.58\"/>\n",
       "</g>\n",
       "<!-- 10 -->\n",
       "<g id=\"node11\" class=\"node\">\n",
       "<title>10</title>\n",
       "<path fill=\"#399de5\" stroke=\"black\" d=\"M2209,-764C2209,-764 2090,-764 2090,-764 2084,-764 2078,-758 2078,-752 2078,-752 2078,-708 2078,-708 2078,-702 2084,-696 2090,-696 2090,-696 2209,-696 2209,-696 2215,-696 2221,-702 2221,-708 2221,-708 2221,-752 2221,-752 2221,-758 2215,-764 2209,-764\"/>\n",
       "<text text-anchor=\"middle\" x=\"2149.5\" y=\"-748.8\" font-family=\"futura\" font-size=\"14.00\">gini = 0.0</text>\n",
       "<text text-anchor=\"middle\" x=\"2149.5\" y=\"-733.8\" font-family=\"futura\" font-size=\"14.00\">samples = 1</text>\n",
       "<text text-anchor=\"middle\" x=\"2149.5\" y=\"-718.8\" font-family=\"futura\" font-size=\"14.00\">value = [0, 1]</text>\n",
       "<text text-anchor=\"middle\" x=\"2149.5\" y=\"-703.8\" font-family=\"futura\" font-size=\"14.00\">class = demented</text>\n",
       "</g>\n",
       "<!-- 8&#45;&gt;10 -->\n",
       "<g id=\"edge10\" class=\"edge\">\n",
       "<title>8&#45;&gt;10</title>\n",
       "<path fill=\"none\" stroke=\"black\" d=\"M2025.12,-753.02C2039.89,-750.26 2054.27,-747.58 2067.69,-745.08\"/>\n",
       "<polygon fill=\"black\" stroke=\"black\" points=\"2068.57,-748.47 2077.76,-743.2 2067.29,-741.59 2068.57,-748.47\"/>\n",
       "</g>\n",
       "<!-- 12 -->\n",
       "<g id=\"node13\" class=\"node\">\n",
       "<title>12</title>\n",
       "<path fill=\"#e58139\" stroke=\"black\" d=\"M1914.5,-700C1914.5,-700 1769.5,-700 1769.5,-700 1763.5,-700 1757.5,-694 1757.5,-688 1757.5,-688 1757.5,-644 1757.5,-644 1757.5,-638 1763.5,-632 1769.5,-632 1769.5,-632 1914.5,-632 1914.5,-632 1920.5,-632 1926.5,-638 1926.5,-644 1926.5,-644 1926.5,-688 1926.5,-688 1926.5,-694 1920.5,-700 1914.5,-700\"/>\n",
       "<text text-anchor=\"middle\" x=\"1842\" y=\"-684.8\" font-family=\"futura\" font-size=\"14.00\">gini = 0.0</text>\n",
       "<text text-anchor=\"middle\" x=\"1842\" y=\"-669.8\" font-family=\"futura\" font-size=\"14.00\">samples = 5</text>\n",
       "<text text-anchor=\"middle\" x=\"1842\" y=\"-654.8\" font-family=\"futura\" font-size=\"14.00\">value = [5, 0]</text>\n",
       "<text text-anchor=\"middle\" x=\"1842\" y=\"-639.8\" font-family=\"futura\" font-size=\"14.00\">class = nondemented</text>\n",
       "</g>\n",
       "<!-- 11&#45;&gt;12 -->\n",
       "<g id=\"edge12\" class=\"edge\">\n",
       "<title>11&#45;&gt;12</title>\n",
       "<path fill=\"none\" stroke=\"black\" d=\"M1617.76,-638.3C1662.62,-643.86 1708.61,-649.57 1747.1,-654.35\"/>\n",
       "<polygon fill=\"black\" stroke=\"black\" points=\"1746.88,-657.85 1757.24,-655.61 1747.75,-650.9 1746.88,-657.85\"/>\n",
       "</g>\n",
       "<!-- 13 -->\n",
       "<g id=\"node14\" class=\"node\">\n",
       "<title>13</title>\n",
       "<path fill=\"#f5d0b5\" stroke=\"black\" d=\"M2010.5,-613.5C2010.5,-613.5 1673.5,-613.5 1673.5,-613.5 1667.5,-613.5 1661.5,-607.5 1661.5,-601.5 1661.5,-601.5 1661.5,-542.5 1661.5,-542.5 1661.5,-536.5 1667.5,-530.5 1673.5,-530.5 1673.5,-530.5 2010.5,-530.5 2010.5,-530.5 2016.5,-530.5 2022.5,-536.5 2022.5,-542.5 2022.5,-542.5 2022.5,-601.5 2022.5,-601.5 2022.5,-607.5 2016.5,-613.5 2010.5,-613.5\"/>\n",
       "<text text-anchor=\"middle\" x=\"1842\" y=\"-598.3\" font-family=\"futura\" font-size=\"14.00\">num_transformer__robust_scaler__eTIV &lt;= 0.229</text>\n",
       "<text text-anchor=\"middle\" x=\"1842\" y=\"-583.3\" font-family=\"futura\" font-size=\"14.00\">gini = 0.473</text>\n",
       "<text text-anchor=\"middle\" x=\"1842\" y=\"-568.3\" font-family=\"futura\" font-size=\"14.00\">samples = 13</text>\n",
       "<text text-anchor=\"middle\" x=\"1842\" y=\"-553.3\" font-family=\"futura\" font-size=\"14.00\">value = [8, 5]</text>\n",
       "<text text-anchor=\"middle\" x=\"1842\" y=\"-538.3\" font-family=\"futura\" font-size=\"14.00\">class = nondemented</text>\n",
       "</g>\n",
       "<!-- 11&#45;&gt;13 -->\n",
       "<g id=\"edge13\" class=\"edge\">\n",
       "<title>11&#45;&gt;13</title>\n",
       "<path fill=\"none\" stroke=\"black\" d=\"M1617.76,-595.36C1628.85,-594.2 1640.02,-593.03 1651.12,-591.87\"/>\n",
       "<polygon fill=\"black\" stroke=\"black\" points=\"1651.71,-595.32 1661.3,-590.8 1650.99,-588.36 1651.71,-595.32\"/>\n",
       "</g>\n",
       "<!-- 14 -->\n",
       "<g id=\"node15\" class=\"node\">\n",
       "<title>14</title>\n",
       "<path fill=\"#d7ebfa\" stroke=\"black\" d=\"M2209,-678C2209,-678 2090,-678 2090,-678 2084,-678 2078,-672 2078,-666 2078,-666 2078,-622 2078,-622 2078,-616 2084,-610 2090,-610 2090,-610 2209,-610 2209,-610 2215,-610 2221,-616 2221,-622 2221,-622 2221,-666 2221,-666 2221,-672 2215,-678 2209,-678\"/>\n",
       "<text text-anchor=\"middle\" x=\"2149.5\" y=\"-662.8\" font-family=\"futura\" font-size=\"14.00\">gini = 0.494</text>\n",
       "<text text-anchor=\"middle\" x=\"2149.5\" y=\"-647.8\" font-family=\"futura\" font-size=\"14.00\">samples = 9</text>\n",
       "<text text-anchor=\"middle\" x=\"2149.5\" y=\"-632.8\" font-family=\"futura\" font-size=\"14.00\">value = [4, 5]</text>\n",
       "<text text-anchor=\"middle\" x=\"2149.5\" y=\"-617.8\" font-family=\"futura\" font-size=\"14.00\">class = demented</text>\n",
       "</g>\n",
       "<!-- 13&#45;&gt;14 -->\n",
       "<g id=\"edge14\" class=\"edge\">\n",
       "<title>13&#45;&gt;14</title>\n",
       "<path fill=\"none\" stroke=\"black\" d=\"M2019.38,-613.57C2036.31,-617.56 2052.85,-621.46 2068.12,-625.06\"/>\n",
       "<polygon fill=\"black\" stroke=\"black\" points=\"2067.44,-628.49 2077.97,-627.38 2069.04,-621.68 2067.44,-628.49\"/>\n",
       "</g>\n",
       "<!-- 15 -->\n",
       "<g id=\"node16\" class=\"node\">\n",
       "<title>15</title>\n",
       "<path fill=\"#e58139\" stroke=\"black\" d=\"M2222,-592C2222,-592 2077,-592 2077,-592 2071,-592 2065,-586 2065,-580 2065,-580 2065,-536 2065,-536 2065,-530 2071,-524 2077,-524 2077,-524 2222,-524 2222,-524 2228,-524 2234,-530 2234,-536 2234,-536 2234,-580 2234,-580 2234,-586 2228,-592 2222,-592\"/>\n",
       "<text text-anchor=\"middle\" x=\"2149.5\" y=\"-576.8\" font-family=\"futura\" font-size=\"14.00\">gini = 0.0</text>\n",
       "<text text-anchor=\"middle\" x=\"2149.5\" y=\"-561.8\" font-family=\"futura\" font-size=\"14.00\">samples = 4</text>\n",
       "<text text-anchor=\"middle\" x=\"2149.5\" y=\"-546.8\" font-family=\"futura\" font-size=\"14.00\">value = [4, 0]</text>\n",
       "<text text-anchor=\"middle\" x=\"2149.5\" y=\"-531.8\" font-family=\"futura\" font-size=\"14.00\">class = nondemented</text>\n",
       "</g>\n",
       "<!-- 13&#45;&gt;15 -->\n",
       "<g id=\"edge15\" class=\"edge\">\n",
       "<title>13&#45;&gt;15</title>\n",
       "<path fill=\"none\" stroke=\"black\" d=\"M2022.92,-563.75C2033.8,-563.26 2044.49,-562.77 2054.76,-562.3\"/>\n",
       "<polygon fill=\"black\" stroke=\"black\" points=\"2055.05,-565.79 2064.88,-561.83 2054.73,-558.79 2055.05,-565.79\"/>\n",
       "</g>\n",
       "<!-- 17 -->\n",
       "<g id=\"node18\" class=\"node\">\n",
       "<title>17</title>\n",
       "<path fill=\"#e68844\" stroke=\"black\" d=\"M1191,-392.5C1191,-392.5 838,-392.5 838,-392.5 832,-392.5 826,-386.5 826,-380.5 826,-380.5 826,-321.5 826,-321.5 826,-315.5 832,-309.5 838,-309.5 838,-309.5 1191,-309.5 1191,-309.5 1197,-309.5 1203,-315.5 1203,-321.5 1203,-321.5 1203,-380.5 1203,-380.5 1203,-386.5 1197,-392.5 1191,-392.5\"/>\n",
       "<text text-anchor=\"middle\" x=\"1014.5\" y=\"-377.3\" font-family=\"futura\" font-size=\"14.00\">num_transformer__minmax_scaler__Educ &lt;= 0.625</text>\n",
       "<text text-anchor=\"middle\" x=\"1014.5\" y=\"-362.3\" font-family=\"futura\" font-size=\"14.00\">gini = 0.101</text>\n",
       "<text text-anchor=\"middle\" x=\"1014.5\" y=\"-347.3\" font-family=\"futura\" font-size=\"14.00\">samples = 56</text>\n",
       "<text text-anchor=\"middle\" x=\"1014.5\" y=\"-332.3\" font-family=\"futura\" font-size=\"14.00\">value = [53, 3]</text>\n",
       "<text text-anchor=\"middle\" x=\"1014.5\" y=\"-317.3\" font-family=\"futura\" font-size=\"14.00\">class = nondemented</text>\n",
       "</g>\n",
       "<!-- 16&#45;&gt;17 -->\n",
       "<g id=\"edge17\" class=\"edge\">\n",
       "<title>16&#45;&gt;17</title>\n",
       "<path fill=\"none\" stroke=\"black\" d=\"M766.12,-351C782.34,-351 798.92,-351 815.44,-351\"/>\n",
       "<polygon fill=\"black\" stroke=\"black\" points=\"815.72,-354.5 825.72,-351 815.72,-347.5 815.72,-354.5\"/>\n",
       "</g>\n",
       "<!-- 26 -->\n",
       "<g id=\"node27\" class=\"node\">\n",
       "<title>26</title>\n",
       "<path fill=\"#efb184\" stroke=\"black\" d=\"M1191,-247.5C1191,-247.5 838,-247.5 838,-247.5 832,-247.5 826,-241.5 826,-235.5 826,-235.5 826,-176.5 826,-176.5 826,-170.5 832,-164.5 838,-164.5 838,-164.5 1191,-164.5 1191,-164.5 1197,-164.5 1203,-170.5 1203,-176.5 1203,-176.5 1203,-235.5 1203,-235.5 1203,-241.5 1197,-247.5 1191,-247.5\"/>\n",
       "<text text-anchor=\"middle\" x=\"1014.5\" y=\"-232.3\" font-family=\"futura\" font-size=\"14.00\">num_transformer__minmax_scaler__Educ &lt;= 0.875</text>\n",
       "<text text-anchor=\"middle\" x=\"1014.5\" y=\"-217.3\" font-family=\"futura\" font-size=\"14.00\">gini = 0.4</text>\n",
       "<text text-anchor=\"middle\" x=\"1014.5\" y=\"-202.3\" font-family=\"futura\" font-size=\"14.00\">samples = 29</text>\n",
       "<text text-anchor=\"middle\" x=\"1014.5\" y=\"-187.3\" font-family=\"futura\" font-size=\"14.00\">value = [21, 8]</text>\n",
       "<text text-anchor=\"middle\" x=\"1014.5\" y=\"-172.3\" font-family=\"futura\" font-size=\"14.00\">class = nondemented</text>\n",
       "</g>\n",
       "<!-- 16&#45;&gt;26 -->\n",
       "<g id=\"edge26\" class=\"edge\">\n",
       "<title>16&#45;&gt;26</title>\n",
       "<path fill=\"none\" stroke=\"black\" d=\"M720.28,-309.45C772.19,-291.13 833.3,-269.57 886.26,-250.89\"/>\n",
       "<polygon fill=\"black\" stroke=\"black\" points=\"887.44,-254.18 895.71,-247.56 885.11,-247.58 887.44,-254.18\"/>\n",
       "</g>\n",
       "<!-- 18 -->\n",
       "<g id=\"node19\" class=\"node\">\n",
       "<title>18</title>\n",
       "<path fill=\"#e89152\" stroke=\"black\" d=\"M1600,-439.5C1600,-439.5 1258,-439.5 1258,-439.5 1252,-439.5 1246,-433.5 1246,-427.5 1246,-427.5 1246,-368.5 1246,-368.5 1246,-362.5 1252,-356.5 1258,-356.5 1258,-356.5 1600,-356.5 1600,-356.5 1606,-356.5 1612,-362.5 1612,-368.5 1612,-368.5 1612,-427.5 1612,-427.5 1612,-433.5 1606,-439.5 1600,-439.5\"/>\n",
       "<text text-anchor=\"middle\" x=\"1429\" y=\"-424.3\" font-family=\"futura\" font-size=\"14.00\">num_transformer__robust_scaler__eTIV &lt;= &#45;0.996</text>\n",
       "<text text-anchor=\"middle\" x=\"1429\" y=\"-409.3\" font-family=\"futura\" font-size=\"14.00\">gini = 0.198</text>\n",
       "<text text-anchor=\"middle\" x=\"1429\" y=\"-394.3\" font-family=\"futura\" font-size=\"14.00\">samples = 27</text>\n",
       "<text text-anchor=\"middle\" x=\"1429\" y=\"-379.3\" font-family=\"futura\" font-size=\"14.00\">value = [24, 3]</text>\n",
       "<text text-anchor=\"middle\" x=\"1429\" y=\"-364.3\" font-family=\"futura\" font-size=\"14.00\">class = nondemented</text>\n",
       "</g>\n",
       "<!-- 17&#45;&gt;18 -->\n",
       "<g id=\"edge18\" class=\"edge\">\n",
       "<title>17&#45;&gt;18</title>\n",
       "<path fill=\"none\" stroke=\"black\" d=\"M1203.04,-372.37C1213.96,-373.61 1224.95,-374.86 1235.88,-376.11\"/>\n",
       "<polygon fill=\"black\" stroke=\"black\" points=\"1235.57,-379.6 1245.9,-377.25 1236.37,-372.64 1235.57,-379.6\"/>\n",
       "</g>\n",
       "<!-- 25 -->\n",
       "<g id=\"node26\" class=\"node\">\n",
       "<title>25</title>\n",
       "<path fill=\"#e58139\" stroke=\"black\" d=\"M1501.5,-338C1501.5,-338 1356.5,-338 1356.5,-338 1350.5,-338 1344.5,-332 1344.5,-326 1344.5,-326 1344.5,-282 1344.5,-282 1344.5,-276 1350.5,-270 1356.5,-270 1356.5,-270 1501.5,-270 1501.5,-270 1507.5,-270 1513.5,-276 1513.5,-282 1513.5,-282 1513.5,-326 1513.5,-326 1513.5,-332 1507.5,-338 1501.5,-338\"/>\n",
       "<text text-anchor=\"middle\" x=\"1429\" y=\"-322.8\" font-family=\"futura\" font-size=\"14.00\">gini = 0.0</text>\n",
       "<text text-anchor=\"middle\" x=\"1429\" y=\"-307.8\" font-family=\"futura\" font-size=\"14.00\">samples = 29</text>\n",
       "<text text-anchor=\"middle\" x=\"1429\" y=\"-292.8\" font-family=\"futura\" font-size=\"14.00\">value = [29, 0]</text>\n",
       "<text text-anchor=\"middle\" x=\"1429\" y=\"-277.8\" font-family=\"futura\" font-size=\"14.00\">class = nondemented</text>\n",
       "</g>\n",
       "<!-- 17&#45;&gt;25 -->\n",
       "<g id=\"edge25\" class=\"edge\">\n",
       "<title>17&#45;&gt;25</title>\n",
       "<path fill=\"none\" stroke=\"black\" d=\"M1203.04,-329.63C1248.46,-324.46 1295.11,-319.14 1334.06,-314.7\"/>\n",
       "<polygon fill=\"black\" stroke=\"black\" points=\"1334.77,-318.14 1344.31,-313.54 1333.98,-311.19 1334.77,-318.14\"/>\n",
       "</g>\n",
       "<!-- 19 -->\n",
       "<g id=\"node20\" class=\"node\">\n",
       "<title>19</title>\n",
       "<path fill=\"#ffffff\" stroke=\"black\" d=\"M2016,-442.5C2016,-442.5 1668,-442.5 1668,-442.5 1662,-442.5 1656,-436.5 1656,-430.5 1656,-430.5 1656,-371.5 1656,-371.5 1656,-365.5 1662,-359.5 1668,-359.5 1668,-359.5 2016,-359.5 2016,-359.5 2022,-359.5 2028,-365.5 2028,-371.5 2028,-371.5 2028,-430.5 2028,-430.5 2028,-436.5 2022,-442.5 2016,-442.5\"/>\n",
       "<text text-anchor=\"middle\" x=\"1842\" y=\"-427.3\" font-family=\"futura\" font-size=\"14.00\">num_transformer__robust_scaler__MMSE &lt;= 0.125</text>\n",
       "<text text-anchor=\"middle\" x=\"1842\" y=\"-412.3\" font-family=\"futura\" font-size=\"14.00\">gini = 0.5</text>\n",
       "<text text-anchor=\"middle\" x=\"1842\" y=\"-397.3\" font-family=\"futura\" font-size=\"14.00\">samples = 2</text>\n",
       "<text text-anchor=\"middle\" x=\"1842\" y=\"-382.3\" font-family=\"futura\" font-size=\"14.00\">value = [1, 1]</text>\n",
       "<text text-anchor=\"middle\" x=\"1842\" y=\"-367.3\" font-family=\"futura\" font-size=\"14.00\">class = nondemented</text>\n",
       "</g>\n",
       "<!-- 18&#45;&gt;19 -->\n",
       "<g id=\"edge19\" class=\"edge\">\n",
       "<title>18&#45;&gt;19</title>\n",
       "<path fill=\"none\" stroke=\"black\" d=\"M1612.07,-399.33C1623.16,-399.41 1634.35,-399.49 1645.5,-399.57\"/>\n",
       "<polygon fill=\"black\" stroke=\"black\" points=\"1645.7,-403.07 1655.72,-399.65 1645.75,-396.07 1645.7,-403.07\"/>\n",
       "</g>\n",
       "<!-- 22 -->\n",
       "<g id=\"node23\" class=\"node\">\n",
       "<title>22</title>\n",
       "<path fill=\"#e78c4a\" stroke=\"black\" d=\"M2016,-341.5C2016,-341.5 1668,-341.5 1668,-341.5 1662,-341.5 1656,-335.5 1656,-329.5 1656,-329.5 1656,-270.5 1656,-270.5 1656,-264.5 1662,-258.5 1668,-258.5 1668,-258.5 2016,-258.5 2016,-258.5 2022,-258.5 2028,-264.5 2028,-270.5 2028,-270.5 2028,-329.5 2028,-329.5 2028,-335.5 2022,-341.5 2016,-341.5\"/>\n",
       "<text text-anchor=\"middle\" x=\"1842\" y=\"-326.3\" font-family=\"futura\" font-size=\"14.00\">num_transformer__robust_scaler__MMSE &lt;= 0.125</text>\n",
       "<text text-anchor=\"middle\" x=\"1842\" y=\"-311.3\" font-family=\"futura\" font-size=\"14.00\">gini = 0.147</text>\n",
       "<text text-anchor=\"middle\" x=\"1842\" y=\"-296.3\" font-family=\"futura\" font-size=\"14.00\">samples = 25</text>\n",
       "<text text-anchor=\"middle\" x=\"1842\" y=\"-281.3\" font-family=\"futura\" font-size=\"14.00\">value = [23, 2]</text>\n",
       "<text text-anchor=\"middle\" x=\"1842\" y=\"-266.3\" font-family=\"futura\" font-size=\"14.00\">class = nondemented</text>\n",
       "</g>\n",
       "<!-- 18&#45;&gt;22 -->\n",
       "<g id=\"edge22\" class=\"edge\">\n",
       "<title>18&#45;&gt;22</title>\n",
       "<path fill=\"none\" stroke=\"black\" d=\"M1604.3,-356.44C1621.58,-352.32 1639.17,-348.13 1656.55,-343.98\"/>\n",
       "<polygon fill=\"black\" stroke=\"black\" points=\"1657.84,-347.27 1666.76,-341.55 1656.22,-340.46 1657.84,-347.27\"/>\n",
       "</g>\n",
       "<!-- 20 -->\n",
       "<g id=\"node21\" class=\"node\">\n",
       "<title>20</title>\n",
       "<path fill=\"#399de5\" stroke=\"black\" d=\"M2209,-506C2209,-506 2090,-506 2090,-506 2084,-506 2078,-500 2078,-494 2078,-494 2078,-450 2078,-450 2078,-444 2084,-438 2090,-438 2090,-438 2209,-438 2209,-438 2215,-438 2221,-444 2221,-450 2221,-450 2221,-494 2221,-494 2221,-500 2215,-506 2209,-506\"/>\n",
       "<text text-anchor=\"middle\" x=\"2149.5\" y=\"-490.8\" font-family=\"futura\" font-size=\"14.00\">gini = 0.0</text>\n",
       "<text text-anchor=\"middle\" x=\"2149.5\" y=\"-475.8\" font-family=\"futura\" font-size=\"14.00\">samples = 1</text>\n",
       "<text text-anchor=\"middle\" x=\"2149.5\" y=\"-460.8\" font-family=\"futura\" font-size=\"14.00\">value = [0, 1]</text>\n",
       "<text text-anchor=\"middle\" x=\"2149.5\" y=\"-445.8\" font-family=\"futura\" font-size=\"14.00\">class = demented</text>\n",
       "</g>\n",
       "<!-- 19&#45;&gt;20 -->\n",
       "<g id=\"edge20\" class=\"edge\">\n",
       "<title>19&#45;&gt;20</title>\n",
       "<path fill=\"none\" stroke=\"black\" d=\"M2021.59,-442.51C2037.72,-446.25 2053.45,-449.91 2068.04,-453.3\"/>\n",
       "<polygon fill=\"black\" stroke=\"black\" points=\"2067.41,-456.75 2077.94,-455.6 2069,-449.93 2067.41,-456.75\"/>\n",
       "</g>\n",
       "<!-- 21 -->\n",
       "<g id=\"node22\" class=\"node\">\n",
       "<title>21</title>\n",
       "<path fill=\"#e58139\" stroke=\"black\" d=\"M2222,-420C2222,-420 2077,-420 2077,-420 2071,-420 2065,-414 2065,-408 2065,-408 2065,-364 2065,-364 2065,-358 2071,-352 2077,-352 2077,-352 2222,-352 2222,-352 2228,-352 2234,-358 2234,-364 2234,-364 2234,-408 2234,-408 2234,-414 2228,-420 2222,-420\"/>\n",
       "<text text-anchor=\"middle\" x=\"2149.5\" y=\"-404.8\" font-family=\"futura\" font-size=\"14.00\">gini = 0.0</text>\n",
       "<text text-anchor=\"middle\" x=\"2149.5\" y=\"-389.8\" font-family=\"futura\" font-size=\"14.00\">samples = 1</text>\n",
       "<text text-anchor=\"middle\" x=\"2149.5\" y=\"-374.8\" font-family=\"futura\" font-size=\"14.00\">value = [1, 0]</text>\n",
       "<text text-anchor=\"middle\" x=\"2149.5\" y=\"-359.8\" font-family=\"futura\" font-size=\"14.00\">class = nondemented</text>\n",
       "</g>\n",
       "<!-- 19&#45;&gt;21 -->\n",
       "<g id=\"edge21\" class=\"edge\">\n",
       "<title>19&#45;&gt;21</title>\n",
       "<path fill=\"none\" stroke=\"black\" d=\"M2028.2,-391.91C2037.29,-391.46 2046.23,-391.02 2054.87,-390.6\"/>\n",
       "<polygon fill=\"black\" stroke=\"black\" points=\"2055.04,-394.09 2064.86,-390.11 2054.7,-387.1 2055.04,-394.09\"/>\n",
       "</g>\n",
       "<!-- 23 -->\n",
       "<g id=\"node24\" class=\"node\">\n",
       "<title>23</title>\n",
       "<path fill=\"#e58139\" stroke=\"black\" d=\"M2222,-334C2222,-334 2077,-334 2077,-334 2071,-334 2065,-328 2065,-322 2065,-322 2065,-278 2065,-278 2065,-272 2071,-266 2077,-266 2077,-266 2222,-266 2222,-266 2228,-266 2234,-272 2234,-278 2234,-278 2234,-322 2234,-322 2234,-328 2228,-334 2222,-334\"/>\n",
       "<text text-anchor=\"middle\" x=\"2149.5\" y=\"-318.8\" font-family=\"futura\" font-size=\"14.00\">gini = 0.0</text>\n",
       "<text text-anchor=\"middle\" x=\"2149.5\" y=\"-303.8\" font-family=\"futura\" font-size=\"14.00\">samples = 11</text>\n",
       "<text text-anchor=\"middle\" x=\"2149.5\" y=\"-288.8\" font-family=\"futura\" font-size=\"14.00\">value = [11, 0]</text>\n",
       "<text text-anchor=\"middle\" x=\"2149.5\" y=\"-273.8\" font-family=\"futura\" font-size=\"14.00\">class = nondemented</text>\n",
       "</g>\n",
       "<!-- 22&#45;&gt;23 -->\n",
       "<g id=\"edge23\" class=\"edge\">\n",
       "<title>22&#45;&gt;23</title>\n",
       "<path fill=\"none\" stroke=\"black\" d=\"M2028.2,-300C2037.19,-300 2046.03,-300 2054.58,-300\"/>\n",
       "<polygon fill=\"black\" stroke=\"black\" points=\"2054.86,-303.5 2064.86,-300 2054.86,-296.5 2054.86,-303.5\"/>\n",
       "</g>\n",
       "<!-- 24 -->\n",
       "<g id=\"node25\" class=\"node\">\n",
       "<title>24</title>\n",
       "<path fill=\"#e9965a\" stroke=\"black\" d=\"M2222,-248C2222,-248 2077,-248 2077,-248 2071,-248 2065,-242 2065,-236 2065,-236 2065,-192 2065,-192 2065,-186 2071,-180 2077,-180 2077,-180 2222,-180 2222,-180 2228,-180 2234,-186 2234,-192 2234,-192 2234,-236 2234,-236 2234,-242 2228,-248 2222,-248\"/>\n",
       "<text text-anchor=\"middle\" x=\"2149.5\" y=\"-232.8\" font-family=\"futura\" font-size=\"14.00\">gini = 0.245</text>\n",
       "<text text-anchor=\"middle\" x=\"2149.5\" y=\"-217.8\" font-family=\"futura\" font-size=\"14.00\">samples = 14</text>\n",
       "<text text-anchor=\"middle\" x=\"2149.5\" y=\"-202.8\" font-family=\"futura\" font-size=\"14.00\">value = [12, 2]</text>\n",
       "<text text-anchor=\"middle\" x=\"2149.5\" y=\"-187.8\" font-family=\"futura\" font-size=\"14.00\">class = nondemented</text>\n",
       "</g>\n",
       "<!-- 22&#45;&gt;24 -->\n",
       "<g id=\"edge24\" class=\"edge\">\n",
       "<title>22&#45;&gt;24</title>\n",
       "<path fill=\"none\" stroke=\"black\" d=\"M1995.32,-258.47C2006.72,-255.29 2018.05,-252.11 2029,-249 2037.55,-246.57 2046.44,-244.03 2055.34,-241.46\"/>\n",
       "<polygon fill=\"black\" stroke=\"black\" points=\"2056.35,-244.81 2064.98,-238.66 2054.4,-238.08 2056.35,-244.81\"/>\n",
       "</g>\n",
       "<!-- 27 -->\n",
       "<g id=\"node28\" class=\"node\">\n",
       "<title>27</title>\n",
       "<path fill=\"#fae6d7\" stroke=\"black\" d=\"M1607,-247.5C1607,-247.5 1251,-247.5 1251,-247.5 1245,-247.5 1239,-241.5 1239,-235.5 1239,-235.5 1239,-176.5 1239,-176.5 1239,-170.5 1245,-164.5 1251,-164.5 1251,-164.5 1607,-164.5 1607,-164.5 1613,-164.5 1619,-170.5 1619,-176.5 1619,-176.5 1619,-235.5 1619,-235.5 1619,-241.5 1613,-247.5 1607,-247.5\"/>\n",
       "<text text-anchor=\"middle\" x=\"1429\" y=\"-232.3\" font-family=\"futura\" font-size=\"14.00\">num_transformer__standard_scaler__Age &lt;= &#45;0.605</text>\n",
       "<text text-anchor=\"middle\" x=\"1429\" y=\"-217.3\" font-family=\"futura\" font-size=\"14.00\">gini = 0.494</text>\n",
       "<text text-anchor=\"middle\" x=\"1429\" y=\"-202.3\" font-family=\"futura\" font-size=\"14.00\">samples = 18</text>\n",
       "<text text-anchor=\"middle\" x=\"1429\" y=\"-187.3\" font-family=\"futura\" font-size=\"14.00\">value = [10, 8]</text>\n",
       "<text text-anchor=\"middle\" x=\"1429\" y=\"-172.3\" font-family=\"futura\" font-size=\"14.00\">class = nondemented</text>\n",
       "</g>\n",
       "<!-- 26&#45;&gt;27 -->\n",
       "<g id=\"edge27\" class=\"edge\">\n",
       "<title>26&#45;&gt;27</title>\n",
       "<path fill=\"none\" stroke=\"black\" d=\"M1203.04,-206C1211.61,-206 1220.22,-206 1228.81,-206\"/>\n",
       "<polygon fill=\"black\" stroke=\"black\" points=\"1228.89,-209.5 1238.89,-206 1228.89,-202.5 1228.89,-209.5\"/>\n",
       "</g>\n",
       "<!-- 32 -->\n",
       "<g id=\"node33\" class=\"node\">\n",
       "<title>32</title>\n",
       "<path fill=\"#e58139\" stroke=\"black\" d=\"M1501.5,-146C1501.5,-146 1356.5,-146 1356.5,-146 1350.5,-146 1344.5,-140 1344.5,-134 1344.5,-134 1344.5,-90 1344.5,-90 1344.5,-84 1350.5,-78 1356.5,-78 1356.5,-78 1501.5,-78 1501.5,-78 1507.5,-78 1513.5,-84 1513.5,-90 1513.5,-90 1513.5,-134 1513.5,-134 1513.5,-140 1507.5,-146 1501.5,-146\"/>\n",
       "<text text-anchor=\"middle\" x=\"1429\" y=\"-130.8\" font-family=\"futura\" font-size=\"14.00\">gini = 0.0</text>\n",
       "<text text-anchor=\"middle\" x=\"1429\" y=\"-115.8\" font-family=\"futura\" font-size=\"14.00\">samples = 11</text>\n",
       "<text text-anchor=\"middle\" x=\"1429\" y=\"-100.8\" font-family=\"futura\" font-size=\"14.00\">value = [11, 0]</text>\n",
       "<text text-anchor=\"middle\" x=\"1429\" y=\"-85.8\" font-family=\"futura\" font-size=\"14.00\">class = nondemented</text>\n",
       "</g>\n",
       "<!-- 26&#45;&gt;32 -->\n",
       "<g id=\"edge32\" class=\"edge\">\n",
       "<title>26&#45;&gt;32</title>\n",
       "<path fill=\"none\" stroke=\"black\" d=\"M1197.63,-164.5C1244.88,-153.73 1293.85,-142.57 1334.42,-133.32\"/>\n",
       "<polygon fill=\"black\" stroke=\"black\" points=\"1335.31,-136.71 1344.28,-131.08 1333.76,-129.89 1335.31,-136.71\"/>\n",
       "</g>\n",
       "<!-- 28 -->\n",
       "<g id=\"node29\" class=\"node\">\n",
       "<title>28</title>\n",
       "<path fill=\"#e58139\" stroke=\"black\" d=\"M1914.5,-240C1914.5,-240 1769.5,-240 1769.5,-240 1763.5,-240 1757.5,-234 1757.5,-228 1757.5,-228 1757.5,-184 1757.5,-184 1757.5,-178 1763.5,-172 1769.5,-172 1769.5,-172 1914.5,-172 1914.5,-172 1920.5,-172 1926.5,-178 1926.5,-184 1926.5,-184 1926.5,-228 1926.5,-228 1926.5,-234 1920.5,-240 1914.5,-240\"/>\n",
       "<text text-anchor=\"middle\" x=\"1842\" y=\"-224.8\" font-family=\"futura\" font-size=\"14.00\">gini = 0.0</text>\n",
       "<text text-anchor=\"middle\" x=\"1842\" y=\"-209.8\" font-family=\"futura\" font-size=\"14.00\">samples = 7</text>\n",
       "<text text-anchor=\"middle\" x=\"1842\" y=\"-194.8\" font-family=\"futura\" font-size=\"14.00\">value = [7, 0]</text>\n",
       "<text text-anchor=\"middle\" x=\"1842\" y=\"-179.8\" font-family=\"futura\" font-size=\"14.00\">class = nondemented</text>\n",
       "</g>\n",
       "<!-- 27&#45;&gt;28 -->\n",
       "<g id=\"edge28\" class=\"edge\">\n",
       "<title>27&#45;&gt;28</title>\n",
       "<path fill=\"none\" stroke=\"black\" d=\"M1619.26,-206C1663.74,-206 1709.24,-206 1747.36,-206\"/>\n",
       "<polygon fill=\"black\" stroke=\"black\" points=\"1747.4,-209.5 1757.4,-206 1747.4,-202.5 1747.4,-209.5\"/>\n",
       "</g>\n",
       "<!-- 29 -->\n",
       "<g id=\"node30\" class=\"node\">\n",
       "<title>29</title>\n",
       "<path fill=\"#83c2ef\" stroke=\"black\" d=\"M2017,-153.5C2017,-153.5 1667,-153.5 1667,-153.5 1661,-153.5 1655,-147.5 1655,-141.5 1655,-141.5 1655,-82.5 1655,-82.5 1655,-76.5 1661,-70.5 1667,-70.5 1667,-70.5 2017,-70.5 2017,-70.5 2023,-70.5 2029,-76.5 2029,-82.5 2029,-82.5 2029,-141.5 2029,-141.5 2029,-147.5 2023,-153.5 2017,-153.5\"/>\n",
       "<text text-anchor=\"middle\" x=\"1842\" y=\"-138.3\" font-family=\"futura\" font-size=\"14.00\">num_transformer__standard_scaler__Age &lt;= 1.086</text>\n",
       "<text text-anchor=\"middle\" x=\"1842\" y=\"-123.3\" font-family=\"futura\" font-size=\"14.00\">gini = 0.397</text>\n",
       "<text text-anchor=\"middle\" x=\"1842\" y=\"-108.3\" font-family=\"futura\" font-size=\"14.00\">samples = 11</text>\n",
       "<text text-anchor=\"middle\" x=\"1842\" y=\"-93.3\" font-family=\"futura\" font-size=\"14.00\">value = [3, 8]</text>\n",
       "<text text-anchor=\"middle\" x=\"1842\" y=\"-78.3\" font-family=\"futura\" font-size=\"14.00\">class = demented</text>\n",
       "</g>\n",
       "<!-- 27&#45;&gt;29 -->\n",
       "<g id=\"edge29\" class=\"edge\">\n",
       "<title>27&#45;&gt;29</title>\n",
       "<path fill=\"none\" stroke=\"black\" d=\"M1611.47,-164.5C1624.02,-161.62 1636.7,-158.73 1649.31,-155.84\"/>\n",
       "<polygon fill=\"black\" stroke=\"black\" points=\"1650.43,-159.17 1659.4,-153.53 1648.87,-152.35 1650.43,-159.17\"/>\n",
       "</g>\n",
       "<!-- 30 -->\n",
       "<g id=\"node31\" class=\"node\">\n",
       "<title>30</title>\n",
       "<path fill=\"#52a9e8\" stroke=\"black\" d=\"M2209,-154C2209,-154 2090,-154 2090,-154 2084,-154 2078,-148 2078,-142 2078,-142 2078,-98 2078,-98 2078,-92 2084,-86 2090,-86 2090,-86 2209,-86 2209,-86 2215,-86 2221,-92 2221,-98 2221,-98 2221,-142 2221,-142 2221,-148 2215,-154 2209,-154\"/>\n",
       "<text text-anchor=\"middle\" x=\"2149.5\" y=\"-138.8\" font-family=\"futura\" font-size=\"14.00\">gini = 0.198</text>\n",
       "<text text-anchor=\"middle\" x=\"2149.5\" y=\"-123.8\" font-family=\"futura\" font-size=\"14.00\">samples = 9</text>\n",
       "<text text-anchor=\"middle\" x=\"2149.5\" y=\"-108.8\" font-family=\"futura\" font-size=\"14.00\">value = [1, 8]</text>\n",
       "<text text-anchor=\"middle\" x=\"2149.5\" y=\"-93.8\" font-family=\"futura\" font-size=\"14.00\">class = demented</text>\n",
       "</g>\n",
       "<!-- 29&#45;&gt;30 -->\n",
       "<g id=\"edge30\" class=\"edge\">\n",
       "<title>29&#45;&gt;30</title>\n",
       "<path fill=\"none\" stroke=\"black\" d=\"M2029.07,-116.87C2042.51,-117.22 2055.58,-117.57 2067.84,-117.89\"/>\n",
       "<polygon fill=\"black\" stroke=\"black\" points=\"2067.86,-121.39 2077.95,-118.15 2068.04,-114.39 2067.86,-121.39\"/>\n",
       "</g>\n",
       "<!-- 31 -->\n",
       "<g id=\"node32\" class=\"node\">\n",
       "<title>31</title>\n",
       "<path fill=\"#e58139\" stroke=\"black\" d=\"M2222,-68C2222,-68 2077,-68 2077,-68 2071,-68 2065,-62 2065,-56 2065,-56 2065,-12 2065,-12 2065,-6 2071,0 2077,0 2077,0 2222,0 2222,0 2228,0 2234,-6 2234,-12 2234,-12 2234,-56 2234,-56 2234,-62 2228,-68 2222,-68\"/>\n",
       "<text text-anchor=\"middle\" x=\"2149.5\" y=\"-52.8\" font-family=\"futura\" font-size=\"14.00\">gini = 0.0</text>\n",
       "<text text-anchor=\"middle\" x=\"2149.5\" y=\"-37.8\" font-family=\"futura\" font-size=\"14.00\">samples = 2</text>\n",
       "<text text-anchor=\"middle\" x=\"2149.5\" y=\"-22.8\" font-family=\"futura\" font-size=\"14.00\">value = [2, 0]</text>\n",
       "<text text-anchor=\"middle\" x=\"2149.5\" y=\"-7.8\" font-family=\"futura\" font-size=\"14.00\">class = nondemented</text>\n",
       "</g>\n",
       "<!-- 29&#45;&gt;31 -->\n",
       "<g id=\"edge31\" class=\"edge\">\n",
       "<title>29&#45;&gt;31</title>\n",
       "<path fill=\"none\" stroke=\"black\" d=\"M2005.59,-70.49C2022.58,-66.15 2039.41,-61.85 2055.23,-57.81\"/>\n",
       "<polygon fill=\"black\" stroke=\"black\" points=\"2056.12,-61.2 2064.95,-55.33 2054.39,-54.42 2056.12,-61.2\"/>\n",
       "</g>\n",
       "</g>\n",
       "</svg>\n"
      ],
      "text/plain": [
       "<graphviz.sources.Source at 0x7f340a1b4e80>"
      ]
     },
     "metadata": {},
     "output_type": "display_data"
    }
   ],
   "source": [
    "# Export model graph\n",
    "export_graphviz(tree_clf, out_file=\"oasis1_tree.dot\", \n",
    "                feature_names=X_train_trial.columns,\n",
    "                class_names=['nondemented', 'demented'], \n",
    "                rounded=True,\n",
    "                filled=True,\n",
    "                rotate = True,\n",
    "                fontname = 'futura')\n",
    "\n",
    "# Import model graph\n",
    "with open(\"oasis1_tree.dot\") as f:\n",
    "    dot_graph = f.read()\n",
    "    display(graphviz.Source(dot_graph))"
   ]
  },
  {
   "cell_type": "markdown",
   "id": "d9c14311",
   "metadata": {},
   "source": [
    "### 🤖 Grid Searching "
   ]
  },
  {
   "cell_type": "code",
   "execution_count": 63,
   "id": "928d7d05",
   "metadata": {},
   "outputs": [],
   "source": [
    "# Parameters to grid search\n",
    "parameters = {'criterion': ['gini', 'entropy'],\n",
    "              'max_depth': range(1,10),\n",
    "              'min_samples_split': range(2,10),\n",
    "              'min_samples_leaf': range(2,10)\n",
    "             #'max_features': range(0,len(X_train.columns),\n",
    "              }"
   ]
  },
  {
   "cell_type": "code",
   "execution_count": 64,
   "id": "6cb5b770",
   "metadata": {},
   "outputs": [
    {
     "data": {
      "text/html": [
       "<style>#sk-c85a233f-74d2-4b63-986b-3d40b3a706c7 {color: black;background-color: white;}#sk-c85a233f-74d2-4b63-986b-3d40b3a706c7 pre{padding: 0;}#sk-c85a233f-74d2-4b63-986b-3d40b3a706c7 div.sk-toggleable {background-color: white;}#sk-c85a233f-74d2-4b63-986b-3d40b3a706c7 label.sk-toggleable__label {cursor: pointer;display: block;width: 100%;margin-bottom: 0;padding: 0.3em;box-sizing: border-box;text-align: center;}#sk-c85a233f-74d2-4b63-986b-3d40b3a706c7 label.sk-toggleable__label-arrow:before {content: \"▸\";float: left;margin-right: 0.25em;color: #696969;}#sk-c85a233f-74d2-4b63-986b-3d40b3a706c7 label.sk-toggleable__label-arrow:hover:before {color: black;}#sk-c85a233f-74d2-4b63-986b-3d40b3a706c7 div.sk-estimator:hover label.sk-toggleable__label-arrow:before {color: black;}#sk-c85a233f-74d2-4b63-986b-3d40b3a706c7 div.sk-toggleable__content {max-height: 0;max-width: 0;overflow: hidden;text-align: left;background-color: #f0f8ff;}#sk-c85a233f-74d2-4b63-986b-3d40b3a706c7 div.sk-toggleable__content pre {margin: 0.2em;color: black;border-radius: 0.25em;background-color: #f0f8ff;}#sk-c85a233f-74d2-4b63-986b-3d40b3a706c7 input.sk-toggleable__control:checked~div.sk-toggleable__content {max-height: 200px;max-width: 100%;overflow: auto;}#sk-c85a233f-74d2-4b63-986b-3d40b3a706c7 input.sk-toggleable__control:checked~label.sk-toggleable__label-arrow:before {content: \"▾\";}#sk-c85a233f-74d2-4b63-986b-3d40b3a706c7 div.sk-estimator input.sk-toggleable__control:checked~label.sk-toggleable__label {background-color: #d4ebff;}#sk-c85a233f-74d2-4b63-986b-3d40b3a706c7 div.sk-label input.sk-toggleable__control:checked~label.sk-toggleable__label {background-color: #d4ebff;}#sk-c85a233f-74d2-4b63-986b-3d40b3a706c7 input.sk-hidden--visually {border: 0;clip: rect(1px 1px 1px 1px);clip: rect(1px, 1px, 1px, 1px);height: 1px;margin: -1px;overflow: hidden;padding: 0;position: absolute;width: 1px;}#sk-c85a233f-74d2-4b63-986b-3d40b3a706c7 div.sk-estimator {font-family: monospace;background-color: #f0f8ff;border: 1px dotted black;border-radius: 0.25em;box-sizing: border-box;margin-bottom: 0.5em;}#sk-c85a233f-74d2-4b63-986b-3d40b3a706c7 div.sk-estimator:hover {background-color: #d4ebff;}#sk-c85a233f-74d2-4b63-986b-3d40b3a706c7 div.sk-parallel-item::after {content: \"\";width: 100%;border-bottom: 1px solid gray;flex-grow: 1;}#sk-c85a233f-74d2-4b63-986b-3d40b3a706c7 div.sk-label:hover label.sk-toggleable__label {background-color: #d4ebff;}#sk-c85a233f-74d2-4b63-986b-3d40b3a706c7 div.sk-serial::before {content: \"\";position: absolute;border-left: 1px solid gray;box-sizing: border-box;top: 2em;bottom: 0;left: 50%;}#sk-c85a233f-74d2-4b63-986b-3d40b3a706c7 div.sk-serial {display: flex;flex-direction: column;align-items: center;background-color: white;padding-right: 0.2em;padding-left: 0.2em;}#sk-c85a233f-74d2-4b63-986b-3d40b3a706c7 div.sk-item {z-index: 1;}#sk-c85a233f-74d2-4b63-986b-3d40b3a706c7 div.sk-parallel {display: flex;align-items: stretch;justify-content: center;background-color: white;}#sk-c85a233f-74d2-4b63-986b-3d40b3a706c7 div.sk-parallel::before {content: \"\";position: absolute;border-left: 1px solid gray;box-sizing: border-box;top: 2em;bottom: 0;left: 50%;}#sk-c85a233f-74d2-4b63-986b-3d40b3a706c7 div.sk-parallel-item {display: flex;flex-direction: column;position: relative;background-color: white;}#sk-c85a233f-74d2-4b63-986b-3d40b3a706c7 div.sk-parallel-item:first-child::after {align-self: flex-end;width: 50%;}#sk-c85a233f-74d2-4b63-986b-3d40b3a706c7 div.sk-parallel-item:last-child::after {align-self: flex-start;width: 50%;}#sk-c85a233f-74d2-4b63-986b-3d40b3a706c7 div.sk-parallel-item:only-child::after {width: 0;}#sk-c85a233f-74d2-4b63-986b-3d40b3a706c7 div.sk-dashed-wrapped {border: 1px dashed gray;margin: 0 0.4em 0.5em 0.4em;box-sizing: border-box;padding-bottom: 0.4em;background-color: white;position: relative;}#sk-c85a233f-74d2-4b63-986b-3d40b3a706c7 div.sk-label label {font-family: monospace;font-weight: bold;background-color: white;display: inline-block;line-height: 1.2em;}#sk-c85a233f-74d2-4b63-986b-3d40b3a706c7 div.sk-label-container {position: relative;z-index: 2;text-align: center;}#sk-c85a233f-74d2-4b63-986b-3d40b3a706c7 div.sk-container {/* jupyter's `normalize.less` sets `[hidden] { display: none; }` but bootstrap.min.css set `[hidden] { display: none !important; }` so we also need the `!important` here to be able to override the default hidden behavior on the sphinx rendered scikit-learn.org. See: https://github.com/scikit-learn/scikit-learn/issues/21755 */display: inline-block !important;position: relative;}#sk-c85a233f-74d2-4b63-986b-3d40b3a706c7 div.sk-text-repr-fallback {display: none;}</style><div id=\"sk-c85a233f-74d2-4b63-986b-3d40b3a706c7\" class=\"sk-top-container\"><div class=\"sk-text-repr-fallback\"><pre>GridSearchCV(cv=5, estimator=DecisionTreeClassifier(), n_jobs=-1,\n",
       "             param_grid={&#x27;criterion&#x27;: [&#x27;gini&#x27;, &#x27;entropy&#x27;],\n",
       "                         &#x27;max_depth&#x27;: range(1, 10),\n",
       "                         &#x27;min_samples_leaf&#x27;: range(2, 10),\n",
       "                         &#x27;min_samples_split&#x27;: range(2, 10)},\n",
       "             scoring=&#x27;recall&#x27;)</pre><b>Please rerun this cell to show the HTML repr or trust the notebook.</b></div><div class=\"sk-container\" hidden><div class=\"sk-item sk-dashed-wrapped\"><div class=\"sk-label-container\"><div class=\"sk-label sk-toggleable\"><input class=\"sk-toggleable__control sk-hidden--visually\" id=\"06653f3c-0918-4f0b-b282-f6f2a609324f\" type=\"checkbox\" ><label for=\"06653f3c-0918-4f0b-b282-f6f2a609324f\" class=\"sk-toggleable__label sk-toggleable__label-arrow\">GridSearchCV</label><div class=\"sk-toggleable__content\"><pre>GridSearchCV(cv=5, estimator=DecisionTreeClassifier(), n_jobs=-1,\n",
       "             param_grid={&#x27;criterion&#x27;: [&#x27;gini&#x27;, &#x27;entropy&#x27;],\n",
       "                         &#x27;max_depth&#x27;: range(1, 10),\n",
       "                         &#x27;min_samples_leaf&#x27;: range(2, 10),\n",
       "                         &#x27;min_samples_split&#x27;: range(2, 10)},\n",
       "             scoring=&#x27;recall&#x27;)</pre></div></div></div><div class=\"sk-parallel\"><div class=\"sk-parallel-item\"><div class=\"sk-item\"><div class=\"sk-serial\"><div class=\"sk-item\"><div class=\"sk-estimator sk-toggleable\"><input class=\"sk-toggleable__control sk-hidden--visually\" id=\"77c20e2f-47a9-499c-a6ba-628301d658b0\" type=\"checkbox\" ><label for=\"77c20e2f-47a9-499c-a6ba-628301d658b0\" class=\"sk-toggleable__label sk-toggleable__label-arrow\">DecisionTreeClassifier</label><div class=\"sk-toggleable__content\"><pre>DecisionTreeClassifier()</pre></div></div></div></div></div></div></div></div></div></div>"
      ],
      "text/plain": [
       "GridSearchCV(cv=5, estimator=DecisionTreeClassifier(), n_jobs=-1,\n",
       "             param_grid={'criterion': ['gini', 'entropy'],\n",
       "                         'max_depth': range(1, 10),\n",
       "                         'min_samples_leaf': range(2, 10),\n",
       "                         'min_samples_split': range(2, 10)},\n",
       "             scoring='recall')"
      ]
     },
     "execution_count": 64,
     "metadata": {},
     "output_type": "execute_result"
    }
   ],
   "source": [
    "# GridSearching\n",
    "gridsearch_tree = GridSearchCV(DecisionTreeClassifier(), \n",
    "                          parameters, n_jobs = -1, \n",
    "                          scoring = 'recall', cv = 5)\n",
    "\n",
    "# Fitting gridsearch on X and y\n",
    "gridsearch_tree.fit(X_train, y_train)"
   ]
  },
  {
   "cell_type": "code",
   "execution_count": 65,
   "id": "e3d08de1",
   "metadata": {},
   "outputs": [
    {
     "data": {
      "text/plain": [
       "0.8152380952380952"
      ]
     },
     "execution_count": 65,
     "metadata": {},
     "output_type": "execute_result"
    }
   ],
   "source": [
    "# Best score according to gridsearch\n",
    "gridsearch_tree.best_score_"
   ]
  },
  {
   "cell_type": "code",
   "execution_count": 66,
   "id": "e9ee485f",
   "metadata": {},
   "outputs": [
    {
     "data": {
      "text/plain": [
       "{'criterion': 'entropy',\n",
       " 'max_depth': 9,\n",
       " 'min_samples_leaf': 3,\n",
       " 'min_samples_split': 2}"
      ]
     },
     "execution_count": 66,
     "metadata": {},
     "output_type": "execute_result"
    }
   ],
   "source": [
    "# Best parameters\n",
    "gridsearch_tree.best_params_"
   ]
  },
  {
   "cell_type": "markdown",
   "id": "79e2471c",
   "metadata": {},
   "source": [
    "### 🌲 Best Tree"
   ]
  },
  {
   "cell_type": "code",
   "execution_count": 67,
   "id": "10db7a40",
   "metadata": {},
   "outputs": [
    {
     "data": {
      "text/html": [
       "<style>#sk-91ac9279-994f-4744-b9fb-704b2ac19c53 {color: black;background-color: white;}#sk-91ac9279-994f-4744-b9fb-704b2ac19c53 pre{padding: 0;}#sk-91ac9279-994f-4744-b9fb-704b2ac19c53 div.sk-toggleable {background-color: white;}#sk-91ac9279-994f-4744-b9fb-704b2ac19c53 label.sk-toggleable__label {cursor: pointer;display: block;width: 100%;margin-bottom: 0;padding: 0.3em;box-sizing: border-box;text-align: center;}#sk-91ac9279-994f-4744-b9fb-704b2ac19c53 label.sk-toggleable__label-arrow:before {content: \"▸\";float: left;margin-right: 0.25em;color: #696969;}#sk-91ac9279-994f-4744-b9fb-704b2ac19c53 label.sk-toggleable__label-arrow:hover:before {color: black;}#sk-91ac9279-994f-4744-b9fb-704b2ac19c53 div.sk-estimator:hover label.sk-toggleable__label-arrow:before {color: black;}#sk-91ac9279-994f-4744-b9fb-704b2ac19c53 div.sk-toggleable__content {max-height: 0;max-width: 0;overflow: hidden;text-align: left;background-color: #f0f8ff;}#sk-91ac9279-994f-4744-b9fb-704b2ac19c53 div.sk-toggleable__content pre {margin: 0.2em;color: black;border-radius: 0.25em;background-color: #f0f8ff;}#sk-91ac9279-994f-4744-b9fb-704b2ac19c53 input.sk-toggleable__control:checked~div.sk-toggleable__content {max-height: 200px;max-width: 100%;overflow: auto;}#sk-91ac9279-994f-4744-b9fb-704b2ac19c53 input.sk-toggleable__control:checked~label.sk-toggleable__label-arrow:before {content: \"▾\";}#sk-91ac9279-994f-4744-b9fb-704b2ac19c53 div.sk-estimator input.sk-toggleable__control:checked~label.sk-toggleable__label {background-color: #d4ebff;}#sk-91ac9279-994f-4744-b9fb-704b2ac19c53 div.sk-label input.sk-toggleable__control:checked~label.sk-toggleable__label {background-color: #d4ebff;}#sk-91ac9279-994f-4744-b9fb-704b2ac19c53 input.sk-hidden--visually {border: 0;clip: rect(1px 1px 1px 1px);clip: rect(1px, 1px, 1px, 1px);height: 1px;margin: -1px;overflow: hidden;padding: 0;position: absolute;width: 1px;}#sk-91ac9279-994f-4744-b9fb-704b2ac19c53 div.sk-estimator {font-family: monospace;background-color: #f0f8ff;border: 1px dotted black;border-radius: 0.25em;box-sizing: border-box;margin-bottom: 0.5em;}#sk-91ac9279-994f-4744-b9fb-704b2ac19c53 div.sk-estimator:hover {background-color: #d4ebff;}#sk-91ac9279-994f-4744-b9fb-704b2ac19c53 div.sk-parallel-item::after {content: \"\";width: 100%;border-bottom: 1px solid gray;flex-grow: 1;}#sk-91ac9279-994f-4744-b9fb-704b2ac19c53 div.sk-label:hover label.sk-toggleable__label {background-color: #d4ebff;}#sk-91ac9279-994f-4744-b9fb-704b2ac19c53 div.sk-serial::before {content: \"\";position: absolute;border-left: 1px solid gray;box-sizing: border-box;top: 2em;bottom: 0;left: 50%;}#sk-91ac9279-994f-4744-b9fb-704b2ac19c53 div.sk-serial {display: flex;flex-direction: column;align-items: center;background-color: white;padding-right: 0.2em;padding-left: 0.2em;}#sk-91ac9279-994f-4744-b9fb-704b2ac19c53 div.sk-item {z-index: 1;}#sk-91ac9279-994f-4744-b9fb-704b2ac19c53 div.sk-parallel {display: flex;align-items: stretch;justify-content: center;background-color: white;}#sk-91ac9279-994f-4744-b9fb-704b2ac19c53 div.sk-parallel::before {content: \"\";position: absolute;border-left: 1px solid gray;box-sizing: border-box;top: 2em;bottom: 0;left: 50%;}#sk-91ac9279-994f-4744-b9fb-704b2ac19c53 div.sk-parallel-item {display: flex;flex-direction: column;position: relative;background-color: white;}#sk-91ac9279-994f-4744-b9fb-704b2ac19c53 div.sk-parallel-item:first-child::after {align-self: flex-end;width: 50%;}#sk-91ac9279-994f-4744-b9fb-704b2ac19c53 div.sk-parallel-item:last-child::after {align-self: flex-start;width: 50%;}#sk-91ac9279-994f-4744-b9fb-704b2ac19c53 div.sk-parallel-item:only-child::after {width: 0;}#sk-91ac9279-994f-4744-b9fb-704b2ac19c53 div.sk-dashed-wrapped {border: 1px dashed gray;margin: 0 0.4em 0.5em 0.4em;box-sizing: border-box;padding-bottom: 0.4em;background-color: white;position: relative;}#sk-91ac9279-994f-4744-b9fb-704b2ac19c53 div.sk-label label {font-family: monospace;font-weight: bold;background-color: white;display: inline-block;line-height: 1.2em;}#sk-91ac9279-994f-4744-b9fb-704b2ac19c53 div.sk-label-container {position: relative;z-index: 2;text-align: center;}#sk-91ac9279-994f-4744-b9fb-704b2ac19c53 div.sk-container {/* jupyter's `normalize.less` sets `[hidden] { display: none; }` but bootstrap.min.css set `[hidden] { display: none !important; }` so we also need the `!important` here to be able to override the default hidden behavior on the sphinx rendered scikit-learn.org. See: https://github.com/scikit-learn/scikit-learn/issues/21755 */display: inline-block !important;position: relative;}#sk-91ac9279-994f-4744-b9fb-704b2ac19c53 div.sk-text-repr-fallback {display: none;}</style><div id=\"sk-91ac9279-994f-4744-b9fb-704b2ac19c53\" class=\"sk-top-container\"><div class=\"sk-text-repr-fallback\"><pre>DecisionTreeClassifier(criterion=&#x27;entropy&#x27;, max_depth=9, min_samples_leaf=3)</pre><b>Please rerun this cell to show the HTML repr or trust the notebook.</b></div><div class=\"sk-container\" hidden><div class=\"sk-item\"><div class=\"sk-estimator sk-toggleable\"><input class=\"sk-toggleable__control sk-hidden--visually\" id=\"86f1a868-1227-4d44-81ad-31d00cbedf49\" type=\"checkbox\" checked><label for=\"86f1a868-1227-4d44-81ad-31d00cbedf49\" class=\"sk-toggleable__label sk-toggleable__label-arrow\">DecisionTreeClassifier</label><div class=\"sk-toggleable__content\"><pre>DecisionTreeClassifier(criterion=&#x27;entropy&#x27;, max_depth=9, min_samples_leaf=3)</pre></div></div></div></div></div>"
      ],
      "text/plain": [
       "DecisionTreeClassifier(criterion='entropy', max_depth=9, min_samples_leaf=3)"
      ]
     },
     "execution_count": 67,
     "metadata": {},
     "output_type": "execute_result"
    }
   ],
   "source": [
    "# Instantiating best tree\n",
    "best_tree = gridsearch_tree.best_estimator_\n",
    "\n",
    "# Fitting best tree\n",
    "best_tree.fit(X_train, y_train)"
   ]
  },
  {
   "cell_type": "code",
   "execution_count": 68,
   "id": "16bc3e0b",
   "metadata": {},
   "outputs": [
    {
     "data": {
      "text/plain": [
       "array([0, 0, 1, 0, 1, 0, 0, 0, 0, 1, 0, 0, 1, 0, 1, 1, 0, 1, 1, 0, 0, 0,\n",
       "       0, 1, 1, 0, 0, 0, 1, 1, 1, 0, 0, 0, 0, 0, 1, 1, 0, 0, 0, 1, 0, 1,\n",
       "       1, 0, 0, 0, 0, 1, 1, 0, 0, 0, 1, 0, 1, 1, 0, 0, 0, 1, 1, 0, 0, 0,\n",
       "       0, 1, 1, 1, 0])"
      ]
     },
     "execution_count": 68,
     "metadata": {},
     "output_type": "execute_result"
    }
   ],
   "source": [
    "# Predictions\n",
    "y_tree_pred = best_tree.predict(X_test)\n",
    "y_tree_pred"
   ]
  },
  {
   "cell_type": "code",
   "execution_count": 69,
   "id": "e579bf60",
   "metadata": {},
   "outputs": [],
   "source": [
    "# Scores\n",
    "tree_score = recall_score(y_test, y_tree_pred), precision_score(y_test, y_tree_pred), accuracy_score(y_test, y_tree_pred)"
   ]
  },
  {
   "cell_type": "code",
   "execution_count": 70,
   "id": "bb3c4eca",
   "metadata": {},
   "outputs": [
    {
     "data": {
      "text/plain": [
       "array([0, 0, 1, 0, 1, 0, 0, 0, 0, 1, 0, 0, 1, 0, 1, 1, 0, 1, 1, 0, 0, 0,\n",
       "       0, 1, 1, 0, 0, 0, 1, 1, 1, 0, 0, 0, 0, 0, 1, 1, 0, 0, 0, 1, 0, 1,\n",
       "       1, 0, 0, 0, 0, 1, 1, 0, 0, 0, 1, 0, 1, 1, 0, 0, 0, 1, 1, 0, 0, 0,\n",
       "       0, 1, 1, 1, 0])"
      ]
     },
     "execution_count": 70,
     "metadata": {},
     "output_type": "execute_result"
    }
   ],
   "source": [
    "# Predictions on the test set\n",
    "y_tree_pred = best_tree.predict(X_test)\n",
    "y_tree_pred"
   ]
  },
  {
   "cell_type": "code",
   "execution_count": 71,
   "id": "38b0f321",
   "metadata": {},
   "outputs": [],
   "source": [
    "# Confusion Matrix\n",
    "tree_cm = confusion_matrix(y_test, y_tree_pred)"
   ]
  },
  {
   "cell_type": "code",
   "execution_count": 72,
   "id": "07a24457",
   "metadata": {},
   "outputs": [
    {
     "data": {
      "image/png": "[encoded data removed]",
      "text/plain": [
       "<Figure size 432x288 with 2 Axes>"
      ]
     },
     "metadata": {},
     "output_type": "display_data"
    }
   ],
   "source": [
    "disp = ConfusionMatrixDisplay(confusion_matrix=tree_cm,\n",
    "                             display_labels=[\"nondemented\",\"demented\"])\n",
    "disp.plot(cmap = 'plasma')\n",
    "\n",
    "plt.grid(visible = False)\n",
    "plt.show()"
   ]
  },
  {
   "cell_type": "code",
   "execution_count": 73,
   "id": "19087335",
   "metadata": {},
   "outputs": [
    {
     "data": {
      "text/plain": [
       "0    93\n",
       "1    71\n",
       "Name: CDR, dtype: int64"
      ]
     },
     "execution_count": 73,
     "metadata": {},
     "output_type": "execute_result"
    }
   ],
   "source": [
    "y_train.value_counts()"
   ]
  },
  {
   "cell_type": "code",
   "execution_count": 74,
   "id": "7debd9e1",
   "metadata": {},
   "outputs": [
    {
     "data": {
      "text/plain": [
       "0    42\n",
       "1    29\n",
       "Name: CDR, dtype: int64"
      ]
     },
     "execution_count": 74,
     "metadata": {},
     "output_type": "execute_result"
    }
   ],
   "source": [
    "y_test.value_counts()\n",
    "# We want to capture all 29 people with dementia"
   ]
  },
  {
   "cell_type": "code",
   "execution_count": 75,
   "id": "effc7f6d",
   "metadata": {},
   "outputs": [
    {
     "data": {
      "image/svg+xml": [
       "<?xml version=\"1.0\" encoding=\"UTF-8\" standalone=\"no\"?>\n",
       "<!DOCTYPE svg PUBLIC \"-//W3C//DTD SVG 1.1//EN\"\n",
       " \"http://www.w3.org/Graphics/SVG/1.1/DTD/svg11.dtd\">\n",
       "<!-- Generated by graphviz version 2.43.0 (0)\n",
       " -->\n",
       "<!-- Title: Tree Pages: 1 -->\n",
       "<svg width=\"3398pt\" height=\"780pt\"\n",
       " viewBox=\"0.00 0.00 3398.00 780.00\" xmlns=\"http://www.w3.org/2000/svg\" xmlns:xlink=\"http://www.w3.org/1999/xlink\">\n",
       "<g id=\"graph0\" class=\"graph\" transform=\"scale(1 1) rotate(0) translate(4 776)\">\n",
       "<title>Tree</title>\n",
       "<polygon fill=\"white\" stroke=\"transparent\" points=\"-4,4 -4,-776 3394,-776 3394,4 -4,4\"/>\n",
       "<!-- 0 -->\n",
       "<g id=\"node1\" class=\"node\">\n",
       "<title>0</title>\n",
       "<path fill=\"#f9e1d0\" stroke=\"black\" d=\"M365,-407.5C365,-407.5 12,-407.5 12,-407.5 6,-407.5 0,-401.5 0,-395.5 0,-395.5 0,-336.5 0,-336.5 0,-330.5 6,-324.5 12,-324.5 12,-324.5 365,-324.5 365,-324.5 371,-324.5 377,-330.5 377,-336.5 377,-336.5 377,-395.5 377,-395.5 377,-401.5 371,-407.5 365,-407.5\"/>\n",
       "<text text-anchor=\"middle\" x=\"188.5\" y=\"-392.3\" font-family=\"futura\" font-size=\"14.00\">num_transformer__robust_scaler__MMSE &lt;= &#45;1.125</text>\n",
       "<text text-anchor=\"middle\" x=\"188.5\" y=\"-377.3\" font-family=\"futura\" font-size=\"14.00\">entropy = 0.987</text>\n",
       "<text text-anchor=\"middle\" x=\"188.5\" y=\"-362.3\" font-family=\"futura\" font-size=\"14.00\">samples = 164</text>\n",
       "<text text-anchor=\"middle\" x=\"188.5\" y=\"-347.3\" font-family=\"futura\" font-size=\"14.00\">value = [93, 71]</text>\n",
       "<text text-anchor=\"middle\" x=\"188.5\" y=\"-332.3\" font-family=\"futura\" font-size=\"14.00\">class = nondemented</text>\n",
       "</g>\n",
       "<!-- 1 -->\n",
       "<g id=\"node2\" class=\"node\">\n",
       "<title>1</title>\n",
       "<path fill=\"#399de5\" stroke=\"black\" d=\"M647.5,-447C647.5,-447 528.5,-447 528.5,-447 522.5,-447 516.5,-441 516.5,-435 516.5,-435 516.5,-391 516.5,-391 516.5,-385 522.5,-379 528.5,-379 528.5,-379 647.5,-379 647.5,-379 653.5,-379 659.5,-385 659.5,-391 659.5,-391 659.5,-435 659.5,-435 659.5,-441 653.5,-447 647.5,-447\"/>\n",
       "<text text-anchor=\"middle\" x=\"588\" y=\"-431.8\" font-family=\"futura\" font-size=\"14.00\">entropy = 0.0</text>\n",
       "<text text-anchor=\"middle\" x=\"588\" y=\"-416.8\" font-family=\"futura\" font-size=\"14.00\">samples = 37</text>\n",
       "<text text-anchor=\"middle\" x=\"588\" y=\"-401.8\" font-family=\"futura\" font-size=\"14.00\">value = [0, 37]</text>\n",
       "<text text-anchor=\"middle\" x=\"588\" y=\"-386.8\" font-family=\"futura\" font-size=\"14.00\">class = demented</text>\n",
       "</g>\n",
       "<!-- 0&#45;&gt;1 -->\n",
       "<g id=\"edge1\" class=\"edge\">\n",
       "<title>0&#45;&gt;1</title>\n",
       "<path fill=\"none\" stroke=\"black\" d=\"M377.19,-388.19C422.58,-393.56 468.73,-399.02 506.15,-403.44\"/>\n",
       "<polygon fill=\"black\" stroke=\"black\" points=\"506.13,-406.96 516.47,-404.66 506.95,-400.01 506.13,-406.96\"/>\n",
       "<text text-anchor=\"middle\" x=\"496.84\" y=\"-416.44\" font-family=\"futura\" font-size=\"14.00\">True</text>\n",
       "</g>\n",
       "<!-- 2 -->\n",
       "<g id=\"node3\" class=\"node\">\n",
       "<title>2</title>\n",
       "<path fill=\"#efaf81\" stroke=\"black\" d=\"M751,-360.5C751,-360.5 425,-360.5 425,-360.5 419,-360.5 413,-354.5 413,-348.5 413,-348.5 413,-289.5 413,-289.5 413,-283.5 419,-277.5 425,-277.5 425,-277.5 751,-277.5 751,-277.5 757,-277.5 763,-283.5 763,-289.5 763,-289.5 763,-348.5 763,-348.5 763,-354.5 757,-360.5 751,-360.5\"/>\n",
       "<text text-anchor=\"middle\" x=\"588\" y=\"-345.3\" font-family=\"futura\" font-size=\"14.00\">num_transformer__remainder__nWBV &lt;= 0.787</text>\n",
       "<text text-anchor=\"middle\" x=\"588\" y=\"-330.3\" font-family=\"futura\" font-size=\"14.00\">entropy = 0.838</text>\n",
       "<text text-anchor=\"middle\" x=\"588\" y=\"-315.3\" font-family=\"futura\" font-size=\"14.00\">samples = 127</text>\n",
       "<text text-anchor=\"middle\" x=\"588\" y=\"-300.3\" font-family=\"futura\" font-size=\"14.00\">value = [93, 34]</text>\n",
       "<text text-anchor=\"middle\" x=\"588\" y=\"-285.3\" font-family=\"futura\" font-size=\"14.00\">class = nondemented</text>\n",
       "</g>\n",
       "<!-- 0&#45;&gt;2 -->\n",
       "<g id=\"edge2\" class=\"edge\">\n",
       "<title>0&#45;&gt;2</title>\n",
       "<path fill=\"none\" stroke=\"black\" d=\"M377.19,-343.81C385.72,-342.8 394.27,-341.79 402.78,-340.78\"/>\n",
       "<polygon fill=\"black\" stroke=\"black\" points=\"403.24,-344.25 412.76,-339.6 402.42,-337.3 403.24,-344.25\"/>\n",
       "<text text-anchor=\"middle\" x=\"393.13\" y=\"-320.42\" font-family=\"futura\" font-size=\"14.00\">False</text>\n",
       "</g>\n",
       "<!-- 3 -->\n",
       "<g id=\"node4\" class=\"node\">\n",
       "<title>3</title>\n",
       "<path fill=\"#f4caab\" stroke=\"black\" d=\"M1164,-407.5C1164,-407.5 811,-407.5 811,-407.5 805,-407.5 799,-401.5 799,-395.5 799,-395.5 799,-336.5 799,-336.5 799,-330.5 805,-324.5 811,-324.5 811,-324.5 1164,-324.5 1164,-324.5 1170,-324.5 1176,-330.5 1176,-336.5 1176,-336.5 1176,-395.5 1176,-395.5 1176,-401.5 1170,-407.5 1164,-407.5\"/>\n",
       "<text text-anchor=\"middle\" x=\"987.5\" y=\"-392.3\" font-family=\"futura\" font-size=\"14.00\">num_transformer__robust_scaler__MMSE &lt;= &#45;0.125</text>\n",
       "<text text-anchor=\"middle\" x=\"987.5\" y=\"-377.3\" font-family=\"futura\" font-size=\"14.00\">entropy = 0.947</text>\n",
       "<text text-anchor=\"middle\" x=\"987.5\" y=\"-362.3\" font-family=\"futura\" font-size=\"14.00\">samples = 93</text>\n",
       "<text text-anchor=\"middle\" x=\"987.5\" y=\"-347.3\" font-family=\"futura\" font-size=\"14.00\">value = [59, 34]</text>\n",
       "<text text-anchor=\"middle\" x=\"987.5\" y=\"-332.3\" font-family=\"futura\" font-size=\"14.00\">class = nondemented</text>\n",
       "</g>\n",
       "<!-- 2&#45;&gt;3 -->\n",
       "<g id=\"edge3\" class=\"edge\">\n",
       "<title>2&#45;&gt;3</title>\n",
       "<path fill=\"none\" stroke=\"black\" d=\"M763.06,-339.58C771.61,-340.59 780.23,-341.61 788.84,-342.63\"/>\n",
       "<polygon fill=\"black\" stroke=\"black\" points=\"788.6,-346.12 798.94,-343.82 789.42,-339.17 788.6,-346.12\"/>\n",
       "</g>\n",
       "<!-- 34 -->\n",
       "<g id=\"node35\" class=\"node\">\n",
       "<title>34</title>\n",
       "<path fill=\"#e58139\" stroke=\"black\" d=\"M1060,-306C1060,-306 915,-306 915,-306 909,-306 903,-300 903,-294 903,-294 903,-250 903,-250 903,-244 909,-238 915,-238 915,-238 1060,-238 1060,-238 1066,-238 1072,-244 1072,-250 1072,-250 1072,-294 1072,-294 1072,-300 1066,-306 1060,-306\"/>\n",
       "<text text-anchor=\"middle\" x=\"987.5\" y=\"-290.8\" font-family=\"futura\" font-size=\"14.00\">entropy = 0.0</text>\n",
       "<text text-anchor=\"middle\" x=\"987.5\" y=\"-275.8\" font-family=\"futura\" font-size=\"14.00\">samples = 34</text>\n",
       "<text text-anchor=\"middle\" x=\"987.5\" y=\"-260.8\" font-family=\"futura\" font-size=\"14.00\">value = [34, 0]</text>\n",
       "<text text-anchor=\"middle\" x=\"987.5\" y=\"-245.8\" font-family=\"futura\" font-size=\"14.00\">class = nondemented</text>\n",
       "</g>\n",
       "<!-- 2&#45;&gt;34 -->\n",
       "<g id=\"edge34\" class=\"edge\">\n",
       "<title>2&#45;&gt;34</title>\n",
       "<path fill=\"none\" stroke=\"black\" d=\"M763.06,-298.42C807.61,-293.15 853.85,-287.68 892.62,-283.1\"/>\n",
       "<polygon fill=\"black\" stroke=\"black\" points=\"893.31,-286.54 902.83,-281.89 892.49,-279.59 893.31,-286.54\"/>\n",
       "</g>\n",
       "<!-- 4 -->\n",
       "<g id=\"node5\" class=\"node\">\n",
       "<title>4</title>\n",
       "<path fill=\"#cbe5f8\" stroke=\"black\" d=\"M1563.5,-479.5C1563.5,-479.5 1237.5,-479.5 1237.5,-479.5 1231.5,-479.5 1225.5,-473.5 1225.5,-467.5 1225.5,-467.5 1225.5,-408.5 1225.5,-408.5 1225.5,-402.5 1231.5,-396.5 1237.5,-396.5 1237.5,-396.5 1563.5,-396.5 1563.5,-396.5 1569.5,-396.5 1575.5,-402.5 1575.5,-408.5 1575.5,-408.5 1575.5,-467.5 1575.5,-467.5 1575.5,-473.5 1569.5,-479.5 1563.5,-479.5\"/>\n",
       "<text text-anchor=\"middle\" x=\"1400.5\" y=\"-464.3\" font-family=\"futura\" font-size=\"14.00\">num_transformer__remainder__nWBV &lt;= 0.748</text>\n",
       "<text text-anchor=\"middle\" x=\"1400.5\" y=\"-449.3\" font-family=\"futura\" font-size=\"14.00\">entropy = 0.984</text>\n",
       "<text text-anchor=\"middle\" x=\"1400.5\" y=\"-434.3\" font-family=\"futura\" font-size=\"14.00\">samples = 40</text>\n",
       "<text text-anchor=\"middle\" x=\"1400.5\" y=\"-419.3\" font-family=\"futura\" font-size=\"14.00\">value = [17, 23]</text>\n",
       "<text text-anchor=\"middle\" x=\"1400.5\" y=\"-404.3\" font-family=\"futura\" font-size=\"14.00\">class = demented</text>\n",
       "</g>\n",
       "<!-- 3&#45;&gt;4 -->\n",
       "<g id=\"edge4\" class=\"edge\">\n",
       "<title>3&#45;&gt;4</title>\n",
       "<path fill=\"none\" stroke=\"black\" d=\"M1176.26,-398.89C1189.32,-401.18 1202.48,-403.49 1215.53,-405.77\"/>\n",
       "<polygon fill=\"black\" stroke=\"black\" points=\"1215.02,-409.24 1225.48,-407.51 1216.23,-402.34 1215.02,-409.24\"/>\n",
       "</g>\n",
       "<!-- 19 -->\n",
       "<g id=\"node20\" class=\"node\">\n",
       "<title>19</title>\n",
       "<path fill=\"#eca26d\" stroke=\"black\" d=\"M1577,-335.5C1577,-335.5 1224,-335.5 1224,-335.5 1218,-335.5 1212,-329.5 1212,-323.5 1212,-323.5 1212,-264.5 1212,-264.5 1212,-258.5 1218,-252.5 1224,-252.5 1224,-252.5 1577,-252.5 1577,-252.5 1583,-252.5 1589,-258.5 1589,-264.5 1589,-264.5 1589,-323.5 1589,-323.5 1589,-329.5 1583,-335.5 1577,-335.5\"/>\n",
       "<text text-anchor=\"middle\" x=\"1400.5\" y=\"-320.3\" font-family=\"futura\" font-size=\"14.00\">num_transformer__minmax_scaler__Educ &lt;= 0.875</text>\n",
       "<text text-anchor=\"middle\" x=\"1400.5\" y=\"-305.3\" font-family=\"futura\" font-size=\"14.00\">entropy = 0.737</text>\n",
       "<text text-anchor=\"middle\" x=\"1400.5\" y=\"-290.3\" font-family=\"futura\" font-size=\"14.00\">samples = 53</text>\n",
       "<text text-anchor=\"middle\" x=\"1400.5\" y=\"-275.3\" font-family=\"futura\" font-size=\"14.00\">value = [42, 11]</text>\n",
       "<text text-anchor=\"middle\" x=\"1400.5\" y=\"-260.3\" font-family=\"futura\" font-size=\"14.00\">class = nondemented</text>\n",
       "</g>\n",
       "<!-- 3&#45;&gt;19 -->\n",
       "<g id=\"edge19\" class=\"edge\">\n",
       "<title>3&#45;&gt;19</title>\n",
       "<path fill=\"none\" stroke=\"black\" d=\"M1176.26,-333.11C1184.77,-331.62 1193.33,-330.12 1201.87,-328.62\"/>\n",
       "<polygon fill=\"black\" stroke=\"black\" points=\"1202.63,-332.04 1211.88,-326.87 1201.42,-325.15 1202.63,-332.04\"/>\n",
       "</g>\n",
       "<!-- 5 -->\n",
       "<g id=\"node6\" class=\"node\">\n",
       "<title>5</title>\n",
       "<path fill=\"#7bbeee\" stroke=\"black\" d=\"M1986,-646.5C1986,-646.5 1641,-646.5 1641,-646.5 1635,-646.5 1629,-640.5 1629,-634.5 1629,-634.5 1629,-575.5 1629,-575.5 1629,-569.5 1635,-563.5 1641,-563.5 1641,-563.5 1986,-563.5 1986,-563.5 1992,-563.5 1998,-569.5 1998,-575.5 1998,-575.5 1998,-634.5 1998,-634.5 1998,-640.5 1992,-646.5 1986,-646.5\"/>\n",
       "<text text-anchor=\"middle\" x=\"1813.5\" y=\"-631.3\" font-family=\"futura\" font-size=\"14.00\">num_transformer__minmax_scaler__SES &lt;= 0.375</text>\n",
       "<text text-anchor=\"middle\" x=\"1813.5\" y=\"-616.3\" font-family=\"futura\" font-size=\"14.00\">entropy = 0.811</text>\n",
       "<text text-anchor=\"middle\" x=\"1813.5\" y=\"-601.3\" font-family=\"futura\" font-size=\"14.00\">samples = 24</text>\n",
       "<text text-anchor=\"middle\" x=\"1813.5\" y=\"-586.3\" font-family=\"futura\" font-size=\"14.00\">value = [6, 18]</text>\n",
       "<text text-anchor=\"middle\" x=\"1813.5\" y=\"-571.3\" font-family=\"futura\" font-size=\"14.00\">class = demented</text>\n",
       "</g>\n",
       "<!-- 4&#45;&gt;5 -->\n",
       "<g id=\"edge5\" class=\"edge\">\n",
       "<title>4&#45;&gt;5</title>\n",
       "<path fill=\"none\" stroke=\"black\" d=\"M1503.89,-479.6C1563.82,-503.95 1639.53,-534.72 1700.97,-559.68\"/>\n",
       "<polygon fill=\"black\" stroke=\"black\" points=\"1699.74,-562.96 1710.32,-563.48 1702.37,-556.47 1699.74,-562.96\"/>\n",
       "</g>\n",
       "<!-- 12 -->\n",
       "<g id=\"node13\" class=\"node\">\n",
       "<title>12</title>\n",
       "<path fill=\"#f1ba93\" stroke=\"black\" d=\"M1990,-479.5C1990,-479.5 1637,-479.5 1637,-479.5 1631,-479.5 1625,-473.5 1625,-467.5 1625,-467.5 1625,-408.5 1625,-408.5 1625,-402.5 1631,-396.5 1637,-396.5 1637,-396.5 1990,-396.5 1990,-396.5 1996,-396.5 2002,-402.5 2002,-408.5 2002,-408.5 2002,-467.5 2002,-467.5 2002,-473.5 1996,-479.5 1990,-479.5\"/>\n",
       "<text text-anchor=\"middle\" x=\"1813.5\" y=\"-464.3\" font-family=\"futura\" font-size=\"14.00\">num_transformer__robust_scaler__MMSE &lt;= &#45;0.375</text>\n",
       "<text text-anchor=\"middle\" x=\"1813.5\" y=\"-449.3\" font-family=\"futura\" font-size=\"14.00\">entropy = 0.896</text>\n",
       "<text text-anchor=\"middle\" x=\"1813.5\" y=\"-434.3\" font-family=\"futura\" font-size=\"14.00\">samples = 16</text>\n",
       "<text text-anchor=\"middle\" x=\"1813.5\" y=\"-419.3\" font-family=\"futura\" font-size=\"14.00\">value = [11, 5]</text>\n",
       "<text text-anchor=\"middle\" x=\"1813.5\" y=\"-404.3\" font-family=\"futura\" font-size=\"14.00\">class = nondemented</text>\n",
       "</g>\n",
       "<!-- 4&#45;&gt;12 -->\n",
       "<g id=\"edge12\" class=\"edge\">\n",
       "<title>4&#45;&gt;12</title>\n",
       "<path fill=\"none\" stroke=\"black\" d=\"M1575.5,-438C1588.5,-438 1601.67,-438 1614.8,-438\"/>\n",
       "<polygon fill=\"black\" stroke=\"black\" points=\"1614.82,-441.5 1624.82,-438 1614.82,-434.5 1614.82,-441.5\"/>\n",
       "</g>\n",
       "<!-- 6 -->\n",
       "<g id=\"node7\" class=\"node\">\n",
       "<title>6</title>\n",
       "<path fill=\"#399de5\" stroke=\"black\" d=\"M2287.5,-733C2287.5,-733 2168.5,-733 2168.5,-733 2162.5,-733 2156.5,-727 2156.5,-721 2156.5,-721 2156.5,-677 2156.5,-677 2156.5,-671 2162.5,-665 2168.5,-665 2168.5,-665 2287.5,-665 2287.5,-665 2293.5,-665 2299.5,-671 2299.5,-677 2299.5,-677 2299.5,-721 2299.5,-721 2299.5,-727 2293.5,-733 2287.5,-733\"/>\n",
       "<text text-anchor=\"middle\" x=\"2228\" y=\"-717.8\" font-family=\"futura\" font-size=\"14.00\">entropy = 0.0</text>\n",
       "<text text-anchor=\"middle\" x=\"2228\" y=\"-702.8\" font-family=\"futura\" font-size=\"14.00\">samples = 9</text>\n",
       "<text text-anchor=\"middle\" x=\"2228\" y=\"-687.8\" font-family=\"futura\" font-size=\"14.00\">value = [0, 9]</text>\n",
       "<text text-anchor=\"middle\" x=\"2228\" y=\"-672.8\" font-family=\"futura\" font-size=\"14.00\">class = demented</text>\n",
       "</g>\n",
       "<!-- 5&#45;&gt;6 -->\n",
       "<g id=\"edge6\" class=\"edge\">\n",
       "<title>5&#45;&gt;6</title>\n",
       "<path fill=\"none\" stroke=\"black\" d=\"M1996.55,-646.55C2010.57,-649.75 2024.52,-652.93 2038,-656 2073.38,-664.06 2112.5,-672.96 2145.92,-680.56\"/>\n",
       "<polygon fill=\"black\" stroke=\"black\" points=\"2145.57,-684.07 2156.1,-682.88 2147.12,-677.25 2145.57,-684.07\"/>\n",
       "</g>\n",
       "<!-- 7 -->\n",
       "<g id=\"node8\" class=\"node\">\n",
       "<title>7</title>\n",
       "<path fill=\"#bddef6\" stroke=\"black\" d=\"M2398.5,-646.5C2398.5,-646.5 2057.5,-646.5 2057.5,-646.5 2051.5,-646.5 2045.5,-640.5 2045.5,-634.5 2045.5,-634.5 2045.5,-575.5 2045.5,-575.5 2045.5,-569.5 2051.5,-563.5 2057.5,-563.5 2057.5,-563.5 2398.5,-563.5 2398.5,-563.5 2404.5,-563.5 2410.5,-569.5 2410.5,-575.5 2410.5,-575.5 2410.5,-634.5 2410.5,-634.5 2410.5,-640.5 2404.5,-646.5 2398.5,-646.5\"/>\n",
       "<text text-anchor=\"middle\" x=\"2228\" y=\"-631.3\" font-family=\"futura\" font-size=\"14.00\">num_transformer__standard_scaler__Age &lt;= 1.34</text>\n",
       "<text text-anchor=\"middle\" x=\"2228\" y=\"-616.3\" font-family=\"futura\" font-size=\"14.00\">entropy = 0.971</text>\n",
       "<text text-anchor=\"middle\" x=\"2228\" y=\"-601.3\" font-family=\"futura\" font-size=\"14.00\">samples = 15</text>\n",
       "<text text-anchor=\"middle\" x=\"2228\" y=\"-586.3\" font-family=\"futura\" font-size=\"14.00\">value = [6, 9]</text>\n",
       "<text text-anchor=\"middle\" x=\"2228\" y=\"-571.3\" font-family=\"futura\" font-size=\"14.00\">class = demented</text>\n",
       "</g>\n",
       "<!-- 5&#45;&gt;7 -->\n",
       "<g id=\"edge7\" class=\"edge\">\n",
       "<title>5&#45;&gt;7</title>\n",
       "<path fill=\"none\" stroke=\"black\" d=\"M1998.13,-605C2010.39,-605 2022.76,-605 2035.07,-605\"/>\n",
       "<polygon fill=\"black\" stroke=\"black\" points=\"2035.38,-608.5 2045.38,-605 2035.38,-601.5 2035.38,-608.5\"/>\n",
       "</g>\n",
       "<!-- 8 -->\n",
       "<g id=\"node9\" class=\"node\">\n",
       "<title>8</title>\n",
       "<path fill=\"#7bbeee\" stroke=\"black\" d=\"M2819,-736.5C2819,-736.5 2466,-736.5 2466,-736.5 2460,-736.5 2454,-730.5 2454,-724.5 2454,-724.5 2454,-665.5 2454,-665.5 2454,-659.5 2460,-653.5 2466,-653.5 2466,-653.5 2819,-653.5 2819,-653.5 2825,-653.5 2831,-659.5 2831,-665.5 2831,-665.5 2831,-724.5 2831,-724.5 2831,-730.5 2825,-736.5 2819,-736.5\"/>\n",
       "<text text-anchor=\"middle\" x=\"2642.5\" y=\"-721.3\" font-family=\"futura\" font-size=\"14.00\">num_transformer__robust_scaler__MMSE &lt;= &#45;0.375</text>\n",
       "<text text-anchor=\"middle\" x=\"2642.5\" y=\"-706.3\" font-family=\"futura\" font-size=\"14.00\">entropy = 0.811</text>\n",
       "<text text-anchor=\"middle\" x=\"2642.5\" y=\"-691.3\" font-family=\"futura\" font-size=\"14.00\">samples = 12</text>\n",
       "<text text-anchor=\"middle\" x=\"2642.5\" y=\"-676.3\" font-family=\"futura\" font-size=\"14.00\">value = [3, 9]</text>\n",
       "<text text-anchor=\"middle\" x=\"2642.5\" y=\"-661.3\" font-family=\"futura\" font-size=\"14.00\">class = demented</text>\n",
       "</g>\n",
       "<!-- 7&#45;&gt;8 -->\n",
       "<g id=\"edge8\" class=\"edge\">\n",
       "<title>7&#45;&gt;8</title>\n",
       "<path fill=\"none\" stroke=\"black\" d=\"M2410.53,-644.61C2421.65,-647.03 2432.86,-649.48 2444.04,-651.92\"/>\n",
       "<polygon fill=\"black\" stroke=\"black\" points=\"2443.34,-655.35 2453.85,-654.06 2444.83,-648.51 2443.34,-655.35\"/>\n",
       "</g>\n",
       "<!-- 11 -->\n",
       "<g id=\"node12\" class=\"node\">\n",
       "<title>11</title>\n",
       "<path fill=\"#e58139\" stroke=\"black\" d=\"M2715,-635C2715,-635 2570,-635 2570,-635 2564,-635 2558,-629 2558,-623 2558,-623 2558,-579 2558,-579 2558,-573 2564,-567 2570,-567 2570,-567 2715,-567 2715,-567 2721,-567 2727,-573 2727,-579 2727,-579 2727,-623 2727,-623 2727,-629 2721,-635 2715,-635\"/>\n",
       "<text text-anchor=\"middle\" x=\"2642.5\" y=\"-619.8\" font-family=\"futura\" font-size=\"14.00\">entropy = 0.0</text>\n",
       "<text text-anchor=\"middle\" x=\"2642.5\" y=\"-604.8\" font-family=\"futura\" font-size=\"14.00\">samples = 3</text>\n",
       "<text text-anchor=\"middle\" x=\"2642.5\" y=\"-589.8\" font-family=\"futura\" font-size=\"14.00\">value = [3, 0]</text>\n",
       "<text text-anchor=\"middle\" x=\"2642.5\" y=\"-574.8\" font-family=\"futura\" font-size=\"14.00\">class = nondemented</text>\n",
       "</g>\n",
       "<!-- 7&#45;&gt;11 -->\n",
       "<g id=\"edge11\" class=\"edge\">\n",
       "<title>7&#45;&gt;11</title>\n",
       "<path fill=\"none\" stroke=\"black\" d=\"M2410.53,-603.24C2457.85,-602.78 2506.94,-602.3 2547.63,-601.91\"/>\n",
       "<polygon fill=\"black\" stroke=\"black\" points=\"2547.82,-605.41 2557.79,-601.81 2547.75,-598.41 2547.82,-605.41\"/>\n",
       "</g>\n",
       "<!-- 9 -->\n",
       "<g id=\"node10\" class=\"node\">\n",
       "<title>9</title>\n",
       "<path fill=\"#399de5\" stroke=\"black\" d=\"M3085.5,-772C3085.5,-772 2966.5,-772 2966.5,-772 2960.5,-772 2954.5,-766 2954.5,-760 2954.5,-760 2954.5,-716 2954.5,-716 2954.5,-710 2960.5,-704 2966.5,-704 2966.5,-704 3085.5,-704 3085.5,-704 3091.5,-704 3097.5,-710 3097.5,-716 3097.5,-716 3097.5,-760 3097.5,-760 3097.5,-766 3091.5,-772 3085.5,-772\"/>\n",
       "<text text-anchor=\"middle\" x=\"3026\" y=\"-756.8\" font-family=\"futura\" font-size=\"14.00\">entropy = 0.0</text>\n",
       "<text text-anchor=\"middle\" x=\"3026\" y=\"-741.8\" font-family=\"futura\" font-size=\"14.00\">samples = 7</text>\n",
       "<text text-anchor=\"middle\" x=\"3026\" y=\"-726.8\" font-family=\"futura\" font-size=\"14.00\">value = [0, 7]</text>\n",
       "<text text-anchor=\"middle\" x=\"3026\" y=\"-711.8\" font-family=\"futura\" font-size=\"14.00\">class = demented</text>\n",
       "</g>\n",
       "<!-- 8&#45;&gt;9 -->\n",
       "<g id=\"edge9\" class=\"edge\">\n",
       "<title>8&#45;&gt;9</title>\n",
       "<path fill=\"none\" stroke=\"black\" d=\"M2831.18,-716.15C2870.93,-720.63 2910.86,-725.13 2944.06,-728.88\"/>\n",
       "<polygon fill=\"black\" stroke=\"black\" points=\"2943.81,-732.37 2954.14,-730.01 2944.59,-725.41 2943.81,-732.37\"/>\n",
       "</g>\n",
       "<!-- 10 -->\n",
       "<g id=\"node11\" class=\"node\">\n",
       "<title>10</title>\n",
       "<path fill=\"#f6d5bd\" stroke=\"black\" d=\"M3098.5,-686C3098.5,-686 2953.5,-686 2953.5,-686 2947.5,-686 2941.5,-680 2941.5,-674 2941.5,-674 2941.5,-630 2941.5,-630 2941.5,-624 2947.5,-618 2953.5,-618 2953.5,-618 3098.5,-618 3098.5,-618 3104.5,-618 3110.5,-624 3110.5,-630 3110.5,-630 3110.5,-674 3110.5,-674 3110.5,-680 3104.5,-686 3098.5,-686\"/>\n",
       "<text text-anchor=\"middle\" x=\"3026\" y=\"-670.8\" font-family=\"futura\" font-size=\"14.00\">entropy = 0.971</text>\n",
       "<text text-anchor=\"middle\" x=\"3026\" y=\"-655.8\" font-family=\"futura\" font-size=\"14.00\">samples = 5</text>\n",
       "<text text-anchor=\"middle\" x=\"3026\" y=\"-640.8\" font-family=\"futura\" font-size=\"14.00\">value = [3, 2]</text>\n",
       "<text text-anchor=\"middle\" x=\"3026\" y=\"-625.8\" font-family=\"futura\" font-size=\"14.00\">class = nondemented</text>\n",
       "</g>\n",
       "<!-- 8&#45;&gt;10 -->\n",
       "<g id=\"edge10\" class=\"edge\">\n",
       "<title>8&#45;&gt;10</title>\n",
       "<path fill=\"none\" stroke=\"black\" d=\"M2831.18,-673.85C2865.85,-669.94 2900.66,-666.01 2931.02,-662.59\"/>\n",
       "<polygon fill=\"black\" stroke=\"black\" points=\"2931.59,-666.05 2941.14,-661.45 2930.81,-659.09 2931.59,-666.05\"/>\n",
       "</g>\n",
       "<!-- 13 -->\n",
       "<g id=\"node14\" class=\"node\">\n",
       "<title>13</title>\n",
       "<path fill=\"#e58139\" stroke=\"black\" d=\"M2300.5,-545C2300.5,-545 2155.5,-545 2155.5,-545 2149.5,-545 2143.5,-539 2143.5,-533 2143.5,-533 2143.5,-489 2143.5,-489 2143.5,-483 2149.5,-477 2155.5,-477 2155.5,-477 2300.5,-477 2300.5,-477 2306.5,-477 2312.5,-483 2312.5,-489 2312.5,-489 2312.5,-533 2312.5,-533 2312.5,-539 2306.5,-545 2300.5,-545\"/>\n",
       "<text text-anchor=\"middle\" x=\"2228\" y=\"-529.8\" font-family=\"futura\" font-size=\"14.00\">entropy = 0.0</text>\n",
       "<text text-anchor=\"middle\" x=\"2228\" y=\"-514.8\" font-family=\"futura\" font-size=\"14.00\">samples = 5</text>\n",
       "<text text-anchor=\"middle\" x=\"2228\" y=\"-499.8\" font-family=\"futura\" font-size=\"14.00\">value = [5, 0]</text>\n",
       "<text text-anchor=\"middle\" x=\"2228\" y=\"-484.8\" font-family=\"futura\" font-size=\"14.00\">class = nondemented</text>\n",
       "</g>\n",
       "<!-- 12&#45;&gt;13 -->\n",
       "<g id=\"edge13\" class=\"edge\">\n",
       "<title>12&#45;&gt;13</title>\n",
       "<path fill=\"none\" stroke=\"black\" d=\"M2002.04,-471.19C2047.46,-479.23 2094.11,-487.48 2133.06,-494.38\"/>\n",
       "<polygon fill=\"black\" stroke=\"black\" points=\"2132.86,-497.89 2143.31,-496.19 2134.08,-491 2132.86,-497.89\"/>\n",
       "</g>\n",
       "<!-- 14 -->\n",
       "<g id=\"node15\" class=\"node\">\n",
       "<title>14</title>\n",
       "<path fill=\"#fbeade\" stroke=\"black\" d=\"M2406,-458.5C2406,-458.5 2050,-458.5 2050,-458.5 2044,-458.5 2038,-452.5 2038,-446.5 2038,-446.5 2038,-387.5 2038,-387.5 2038,-381.5 2044,-375.5 2050,-375.5 2050,-375.5 2406,-375.5 2406,-375.5 2412,-375.5 2418,-381.5 2418,-387.5 2418,-387.5 2418,-446.5 2418,-446.5 2418,-452.5 2412,-458.5 2406,-458.5\"/>\n",
       "<text text-anchor=\"middle\" x=\"2228\" y=\"-443.3\" font-family=\"futura\" font-size=\"14.00\">num_transformer__standard_scaler__Age &lt;= &#45;0.097</text>\n",
       "<text text-anchor=\"middle\" x=\"2228\" y=\"-428.3\" font-family=\"futura\" font-size=\"14.00\">entropy = 0.994</text>\n",
       "<text text-anchor=\"middle\" x=\"2228\" y=\"-413.3\" font-family=\"futura\" font-size=\"14.00\">samples = 11</text>\n",
       "<text text-anchor=\"middle\" x=\"2228\" y=\"-398.3\" font-family=\"futura\" font-size=\"14.00\">value = [6, 5]</text>\n",
       "<text text-anchor=\"middle\" x=\"2228\" y=\"-383.3\" font-family=\"futura\" font-size=\"14.00\">class = nondemented</text>\n",
       "</g>\n",
       "<!-- 12&#45;&gt;14 -->\n",
       "<g id=\"edge14\" class=\"edge\">\n",
       "<title>12&#45;&gt;14</title>\n",
       "<path fill=\"none\" stroke=\"black\" d=\"M2002.04,-428.45C2010.61,-428.02 2019.22,-427.58 2027.81,-427.14\"/>\n",
       "<polygon fill=\"black\" stroke=\"black\" points=\"2028.08,-430.63 2037.89,-426.63 2027.72,-423.64 2028.08,-430.63\"/>\n",
       "</g>\n",
       "<!-- 15 -->\n",
       "<g id=\"node16\" class=\"node\">\n",
       "<title>15</title>\n",
       "<path fill=\"#399de5\" stroke=\"black\" d=\"M2702,-545C2702,-545 2583,-545 2583,-545 2577,-545 2571,-539 2571,-533 2571,-533 2571,-489 2571,-489 2571,-483 2577,-477 2583,-477 2583,-477 2702,-477 2702,-477 2708,-477 2714,-483 2714,-489 2714,-489 2714,-533 2714,-533 2714,-539 2708,-545 2702,-545\"/>\n",
       "<text text-anchor=\"middle\" x=\"2642.5\" y=\"-529.8\" font-family=\"futura\" font-size=\"14.00\">entropy = 0.0</text>\n",
       "<text text-anchor=\"middle\" x=\"2642.5\" y=\"-514.8\" font-family=\"futura\" font-size=\"14.00\">samples = 3</text>\n",
       "<text text-anchor=\"middle\" x=\"2642.5\" y=\"-499.8\" font-family=\"futura\" font-size=\"14.00\">value = [0, 3]</text>\n",
       "<text text-anchor=\"middle\" x=\"2642.5\" y=\"-484.8\" font-family=\"futura\" font-size=\"14.00\">class = demented</text>\n",
       "</g>\n",
       "<!-- 14&#45;&gt;15 -->\n",
       "<g id=\"edge15\" class=\"edge\">\n",
       "<title>14&#45;&gt;15</title>\n",
       "<path fill=\"none\" stroke=\"black\" d=\"M2411.13,-458.5C2463.59,-470.46 2518.16,-482.89 2561.01,-492.66\"/>\n",
       "<polygon fill=\"black\" stroke=\"black\" points=\"2560.28,-496.08 2570.81,-494.89 2561.84,-489.26 2560.28,-496.08\"/>\n",
       "</g>\n",
       "<!-- 16 -->\n",
       "<g id=\"node17\" class=\"node\">\n",
       "<title>16</title>\n",
       "<path fill=\"#eeab7b\" stroke=\"black\" d=\"M2805.5,-458.5C2805.5,-458.5 2479.5,-458.5 2479.5,-458.5 2473.5,-458.5 2467.5,-452.5 2467.5,-446.5 2467.5,-446.5 2467.5,-387.5 2467.5,-387.5 2467.5,-381.5 2473.5,-375.5 2479.5,-375.5 2479.5,-375.5 2805.5,-375.5 2805.5,-375.5 2811.5,-375.5 2817.5,-381.5 2817.5,-387.5 2817.5,-387.5 2817.5,-446.5 2817.5,-446.5 2817.5,-452.5 2811.5,-458.5 2805.5,-458.5\"/>\n",
       "<text text-anchor=\"middle\" x=\"2642.5\" y=\"-443.3\" font-family=\"futura\" font-size=\"14.00\">num_transformer__remainder__nWBV &lt;= 0.774</text>\n",
       "<text text-anchor=\"middle\" x=\"2642.5\" y=\"-428.3\" font-family=\"futura\" font-size=\"14.00\">entropy = 0.811</text>\n",
       "<text text-anchor=\"middle\" x=\"2642.5\" y=\"-413.3\" font-family=\"futura\" font-size=\"14.00\">samples = 8</text>\n",
       "<text text-anchor=\"middle\" x=\"2642.5\" y=\"-398.3\" font-family=\"futura\" font-size=\"14.00\">value = [6, 2]</text>\n",
       "<text text-anchor=\"middle\" x=\"2642.5\" y=\"-383.3\" font-family=\"futura\" font-size=\"14.00\">class = nondemented</text>\n",
       "</g>\n",
       "<!-- 14&#45;&gt;16 -->\n",
       "<g id=\"edge16\" class=\"edge\">\n",
       "<title>14&#45;&gt;16</title>\n",
       "<path fill=\"none\" stroke=\"black\" d=\"M2418.05,-417C2431.01,-417 2444.06,-417 2457,-417\"/>\n",
       "<polygon fill=\"black\" stroke=\"black\" points=\"2457.35,-420.5 2467.35,-417 2457.35,-413.5 2457.35,-420.5\"/>\n",
       "</g>\n",
       "<!-- 17 -->\n",
       "<g id=\"node18\" class=\"node\">\n",
       "<title>17</title>\n",
       "<path fill=\"#e58139\" stroke=\"black\" d=\"M3098.5,-530C3098.5,-530 2953.5,-530 2953.5,-530 2947.5,-530 2941.5,-524 2941.5,-518 2941.5,-518 2941.5,-474 2941.5,-474 2941.5,-468 2947.5,-462 2953.5,-462 2953.5,-462 3098.5,-462 3098.5,-462 3104.5,-462 3110.5,-468 3110.5,-474 3110.5,-474 3110.5,-518 3110.5,-518 3110.5,-524 3104.5,-530 3098.5,-530\"/>\n",
       "<text text-anchor=\"middle\" x=\"3026\" y=\"-514.8\" font-family=\"futura\" font-size=\"14.00\">entropy = 0.0</text>\n",
       "<text text-anchor=\"middle\" x=\"3026\" y=\"-499.8\" font-family=\"futura\" font-size=\"14.00\">samples = 5</text>\n",
       "<text text-anchor=\"middle\" x=\"3026\" y=\"-484.8\" font-family=\"futura\" font-size=\"14.00\">value = [5, 0]</text>\n",
       "<text text-anchor=\"middle\" x=\"3026\" y=\"-469.8\" font-family=\"futura\" font-size=\"14.00\">class = nondemented</text>\n",
       "</g>\n",
       "<!-- 16&#45;&gt;17 -->\n",
       "<g id=\"edge17\" class=\"edge\">\n",
       "<title>16&#45;&gt;17</title>\n",
       "<path fill=\"none\" stroke=\"black\" d=\"M2817.5,-453.03C2856.76,-461.16 2896.98,-469.49 2931.42,-476.62\"/>\n",
       "<polygon fill=\"black\" stroke=\"black\" points=\"2930.95,-480.1 2941.45,-478.7 2932.37,-473.24 2930.95,-480.1\"/>\n",
       "</g>\n",
       "<!-- 18 -->\n",
       "<g id=\"node19\" class=\"node\">\n",
       "<title>18</title>\n",
       "<path fill=\"#9ccef2\" stroke=\"black\" d=\"M3085.5,-444C3085.5,-444 2966.5,-444 2966.5,-444 2960.5,-444 2954.5,-438 2954.5,-432 2954.5,-432 2954.5,-388 2954.5,-388 2954.5,-382 2960.5,-376 2966.5,-376 2966.5,-376 3085.5,-376 3085.5,-376 3091.5,-376 3097.5,-382 3097.5,-388 3097.5,-388 3097.5,-432 3097.5,-432 3097.5,-438 3091.5,-444 3085.5,-444\"/>\n",
       "<text text-anchor=\"middle\" x=\"3026\" y=\"-428.8\" font-family=\"futura\" font-size=\"14.00\">entropy = 0.918</text>\n",
       "<text text-anchor=\"middle\" x=\"3026\" y=\"-413.8\" font-family=\"futura\" font-size=\"14.00\">samples = 3</text>\n",
       "<text text-anchor=\"middle\" x=\"3026\" y=\"-398.8\" font-family=\"futura\" font-size=\"14.00\">value = [1, 2]</text>\n",
       "<text text-anchor=\"middle\" x=\"3026\" y=\"-383.8\" font-family=\"futura\" font-size=\"14.00\">class = demented</text>\n",
       "</g>\n",
       "<!-- 16&#45;&gt;18 -->\n",
       "<g id=\"edge18\" class=\"edge\">\n",
       "<title>16&#45;&gt;18</title>\n",
       "<path fill=\"none\" stroke=\"black\" d=\"M2817.5,-413.81C2861.69,-413 2907.09,-412.16 2944.11,-411.48\"/>\n",
       "<polygon fill=\"black\" stroke=\"black\" points=\"2944.39,-414.98 2954.32,-411.3 2944.26,-407.98 2944.39,-414.98\"/>\n",
       "</g>\n",
       "<!-- 20 -->\n",
       "<g id=\"node21\" class=\"node\">\n",
       "<title>20</title>\n",
       "<path fill=\"#f0b68d\" stroke=\"black\" d=\"M1966,-335.5C1966,-335.5 1661,-335.5 1661,-335.5 1655,-335.5 1649,-329.5 1649,-323.5 1649,-323.5 1649,-264.5 1649,-264.5 1649,-258.5 1655,-252.5 1661,-252.5 1661,-252.5 1966,-252.5 1966,-252.5 1972,-252.5 1978,-258.5 1978,-264.5 1978,-264.5 1978,-323.5 1978,-323.5 1978,-329.5 1972,-335.5 1966,-335.5\"/>\n",
       "<text text-anchor=\"middle\" x=\"1813.5\" y=\"-320.3\" font-family=\"futura\" font-size=\"14.00\">cat_transformer__ohe_binary__M/F_M &lt;= 0.5</text>\n",
       "<text text-anchor=\"middle\" x=\"1813.5\" y=\"-305.3\" font-family=\"futura\" font-size=\"14.00\">entropy = 0.878</text>\n",
       "<text text-anchor=\"middle\" x=\"1813.5\" y=\"-290.3\" font-family=\"futura\" font-size=\"14.00\">samples = 37</text>\n",
       "<text text-anchor=\"middle\" x=\"1813.5\" y=\"-275.3\" font-family=\"futura\" font-size=\"14.00\">value = [26, 11]</text>\n",
       "<text text-anchor=\"middle\" x=\"1813.5\" y=\"-260.3\" font-family=\"futura\" font-size=\"14.00\">class = nondemented</text>\n",
       "</g>\n",
       "<!-- 19&#45;&gt;20 -->\n",
       "<g id=\"edge20\" class=\"edge\">\n",
       "<title>19&#45;&gt;20</title>\n",
       "<path fill=\"none\" stroke=\"black\" d=\"M1589.26,-294C1605.73,-294 1622.35,-294 1638.69,-294\"/>\n",
       "<polygon fill=\"black\" stroke=\"black\" points=\"1638.83,-297.5 1648.83,-294 1638.83,-290.5 1638.83,-297.5\"/>\n",
       "</g>\n",
       "<!-- 33 -->\n",
       "<g id=\"node34\" class=\"node\">\n",
       "<title>33</title>\n",
       "<path fill=\"#e58139\" stroke=\"black\" d=\"M1886,-234C1886,-234 1741,-234 1741,-234 1735,-234 1729,-228 1729,-222 1729,-222 1729,-178 1729,-178 1729,-172 1735,-166 1741,-166 1741,-166 1886,-166 1886,-166 1892,-166 1898,-172 1898,-178 1898,-178 1898,-222 1898,-222 1898,-228 1892,-234 1886,-234\"/>\n",
       "<text text-anchor=\"middle\" x=\"1813.5\" y=\"-218.8\" font-family=\"futura\" font-size=\"14.00\">entropy = 0.0</text>\n",
       "<text text-anchor=\"middle\" x=\"1813.5\" y=\"-203.8\" font-family=\"futura\" font-size=\"14.00\">samples = 16</text>\n",
       "<text text-anchor=\"middle\" x=\"1813.5\" y=\"-188.8\" font-family=\"futura\" font-size=\"14.00\">value = [16, 0]</text>\n",
       "<text text-anchor=\"middle\" x=\"1813.5\" y=\"-173.8\" font-family=\"futura\" font-size=\"14.00\">class = nondemented</text>\n",
       "</g>\n",
       "<!-- 19&#45;&gt;33 -->\n",
       "<g id=\"edge33\" class=\"edge\">\n",
       "<title>19&#45;&gt;33</title>\n",
       "<path fill=\"none\" stroke=\"black\" d=\"M1582.97,-252.5C1629.95,-241.75 1678.63,-230.62 1719.01,-221.38\"/>\n",
       "<polygon fill=\"black\" stroke=\"black\" points=\"1719.85,-224.78 1728.82,-219.14 1718.29,-217.96 1719.85,-224.78\"/>\n",
       "</g>\n",
       "<!-- 21 -->\n",
       "<g id=\"node22\" class=\"node\">\n",
       "<title>21</title>\n",
       "<path fill=\"#e99254\" stroke=\"black\" d=\"M2391,-335.5C2391,-335.5 2065,-335.5 2065,-335.5 2059,-335.5 2053,-329.5 2053,-323.5 2053,-323.5 2053,-264.5 2053,-264.5 2053,-258.5 2059,-252.5 2065,-252.5 2065,-252.5 2391,-252.5 2391,-252.5 2397,-252.5 2403,-258.5 2403,-264.5 2403,-264.5 2403,-323.5 2403,-323.5 2403,-329.5 2397,-335.5 2391,-335.5\"/>\n",
       "<text text-anchor=\"middle\" x=\"2228\" y=\"-320.3\" font-family=\"futura\" font-size=\"14.00\">num_transformer__remainder__nWBV &lt;= 0.758</text>\n",
       "<text text-anchor=\"middle\" x=\"2228\" y=\"-305.3\" font-family=\"futura\" font-size=\"14.00\">entropy = 0.529</text>\n",
       "<text text-anchor=\"middle\" x=\"2228\" y=\"-290.3\" font-family=\"futura\" font-size=\"14.00\">samples = 25</text>\n",
       "<text text-anchor=\"middle\" x=\"2228\" y=\"-275.3\" font-family=\"futura\" font-size=\"14.00\">value = [22, 3]</text>\n",
       "<text text-anchor=\"middle\" x=\"2228\" y=\"-260.3\" font-family=\"futura\" font-size=\"14.00\">class = nondemented</text>\n",
       "</g>\n",
       "<!-- 20&#45;&gt;21 -->\n",
       "<g id=\"edge21\" class=\"edge\">\n",
       "<title>20&#45;&gt;21</title>\n",
       "<path fill=\"none\" stroke=\"black\" d=\"M1978.12,-294C1999.29,-294 2021.08,-294 2042.56,-294\"/>\n",
       "<polygon fill=\"black\" stroke=\"black\" points=\"2042.73,-297.5 2052.73,-294 2042.73,-290.5 2042.73,-297.5\"/>\n",
       "</g>\n",
       "<!-- 28 -->\n",
       "<g id=\"node29\" class=\"node\">\n",
       "<title>28</title>\n",
       "<path fill=\"#9ccef2\" stroke=\"black\" d=\"M2396.5,-169.5C2396.5,-169.5 2059.5,-169.5 2059.5,-169.5 2053.5,-169.5 2047.5,-163.5 2047.5,-157.5 2047.5,-157.5 2047.5,-98.5 2047.5,-98.5 2047.5,-92.5 2053.5,-86.5 2059.5,-86.5 2059.5,-86.5 2396.5,-86.5 2396.5,-86.5 2402.5,-86.5 2408.5,-92.5 2408.5,-98.5 2408.5,-98.5 2408.5,-157.5 2408.5,-157.5 2408.5,-163.5 2402.5,-169.5 2396.5,-169.5\"/>\n",
       "<text text-anchor=\"middle\" x=\"2228\" y=\"-154.3\" font-family=\"futura\" font-size=\"14.00\">num_transformer__robust_scaler__eTIV &lt;= 0.709</text>\n",
       "<text text-anchor=\"middle\" x=\"2228\" y=\"-139.3\" font-family=\"futura\" font-size=\"14.00\">entropy = 0.918</text>\n",
       "<text text-anchor=\"middle\" x=\"2228\" y=\"-124.3\" font-family=\"futura\" font-size=\"14.00\">samples = 12</text>\n",
       "<text text-anchor=\"middle\" x=\"2228\" y=\"-109.3\" font-family=\"futura\" font-size=\"14.00\">value = [4, 8]</text>\n",
       "<text text-anchor=\"middle\" x=\"2228\" y=\"-94.3\" font-family=\"futura\" font-size=\"14.00\">class = demented</text>\n",
       "</g>\n",
       "<!-- 20&#45;&gt;28 -->\n",
       "<g id=\"edge28\" class=\"edge\">\n",
       "<title>20&#45;&gt;28</title>\n",
       "<path fill=\"none\" stroke=\"black\" d=\"M1975.79,-252.47C1984.72,-249.45 1993.5,-246.29 2002,-243 2051.37,-223.91 2104.19,-197.26 2146.24,-174.43\"/>\n",
       "<polygon fill=\"black\" stroke=\"black\" points=\"2147.94,-177.48 2155.04,-169.62 2144.59,-171.34 2147.94,-177.48\"/>\n",
       "</g>\n",
       "<!-- 22 -->\n",
       "<g id=\"node23\" class=\"node\">\n",
       "<title>22</title>\n",
       "<path fill=\"#e58139\" stroke=\"black\" d=\"M2715,-357C2715,-357 2570,-357 2570,-357 2564,-357 2558,-351 2558,-345 2558,-345 2558,-301 2558,-301 2558,-295 2564,-289 2570,-289 2570,-289 2715,-289 2715,-289 2721,-289 2727,-295 2727,-301 2727,-301 2727,-345 2727,-345 2727,-351 2721,-357 2715,-357\"/>\n",
       "<text text-anchor=\"middle\" x=\"2642.5\" y=\"-341.8\" font-family=\"futura\" font-size=\"14.00\">entropy = 0.0</text>\n",
       "<text text-anchor=\"middle\" x=\"2642.5\" y=\"-326.8\" font-family=\"futura\" font-size=\"14.00\">samples = 14</text>\n",
       "<text text-anchor=\"middle\" x=\"2642.5\" y=\"-311.8\" font-family=\"futura\" font-size=\"14.00\">value = [14, 0]</text>\n",
       "<text text-anchor=\"middle\" x=\"2642.5\" y=\"-296.8\" font-family=\"futura\" font-size=\"14.00\">class = nondemented</text>\n",
       "</g>\n",
       "<!-- 21&#45;&gt;22 -->\n",
       "<g id=\"edge22\" class=\"edge\">\n",
       "<title>21&#45;&gt;22</title>\n",
       "<path fill=\"none\" stroke=\"black\" d=\"M2403.04,-306.24C2452.64,-309.72 2504.79,-313.39 2547.63,-316.4\"/>\n",
       "<polygon fill=\"black\" stroke=\"black\" points=\"2547.53,-319.9 2557.75,-317.11 2548.02,-312.92 2547.53,-319.9\"/>\n",
       "</g>\n",
       "<!-- 23 -->\n",
       "<g id=\"node24\" class=\"node\">\n",
       "<title>23</title>\n",
       "<path fill=\"#efb083\" stroke=\"black\" d=\"M2805.5,-270.5C2805.5,-270.5 2479.5,-270.5 2479.5,-270.5 2473.5,-270.5 2467.5,-264.5 2467.5,-258.5 2467.5,-258.5 2467.5,-199.5 2467.5,-199.5 2467.5,-193.5 2473.5,-187.5 2479.5,-187.5 2479.5,-187.5 2805.5,-187.5 2805.5,-187.5 2811.5,-187.5 2817.5,-193.5 2817.5,-199.5 2817.5,-199.5 2817.5,-258.5 2817.5,-258.5 2817.5,-264.5 2811.5,-270.5 2805.5,-270.5\"/>\n",
       "<text text-anchor=\"middle\" x=\"2642.5\" y=\"-255.3\" font-family=\"futura\" font-size=\"14.00\">num_transformer__remainder__nWBV &lt;= 0.774</text>\n",
       "<text text-anchor=\"middle\" x=\"2642.5\" y=\"-240.3\" font-family=\"futura\" font-size=\"14.00\">entropy = 0.845</text>\n",
       "<text text-anchor=\"middle\" x=\"2642.5\" y=\"-225.3\" font-family=\"futura\" font-size=\"14.00\">samples = 11</text>\n",
       "<text text-anchor=\"middle\" x=\"2642.5\" y=\"-210.3\" font-family=\"futura\" font-size=\"14.00\">value = [8, 3]</text>\n",
       "<text text-anchor=\"middle\" x=\"2642.5\" y=\"-195.3\" font-family=\"futura\" font-size=\"14.00\">class = nondemented</text>\n",
       "</g>\n",
       "<!-- 21&#45;&gt;23 -->\n",
       "<g id=\"edge23\" class=\"edge\">\n",
       "<title>21&#45;&gt;23</title>\n",
       "<path fill=\"none\" stroke=\"black\" d=\"M2403.04,-266.58C2420.96,-263.75 2439.2,-260.88 2457.23,-258.04\"/>\n",
       "<polygon fill=\"black\" stroke=\"black\" points=\"2457.88,-261.48 2467.21,-256.46 2456.79,-254.56 2457.88,-261.48\"/>\n",
       "</g>\n",
       "<!-- 24 -->\n",
       "<g id=\"node25\" class=\"node\">\n",
       "<title>24</title>\n",
       "<path fill=\"#f8e0ce\" stroke=\"black\" d=\"M3173,-353.5C3173,-353.5 2879,-353.5 2879,-353.5 2873,-353.5 2867,-347.5 2867,-341.5 2867,-341.5 2867,-282.5 2867,-282.5 2867,-276.5 2873,-270.5 2879,-270.5 2879,-270.5 3173,-270.5 3173,-270.5 3179,-270.5 3185,-276.5 3185,-282.5 3185,-282.5 3185,-341.5 3185,-341.5 3185,-347.5 3179,-353.5 3173,-353.5\"/>\n",
       "<text text-anchor=\"middle\" x=\"3026\" y=\"-338.3\" font-family=\"futura\" font-size=\"14.00\">num_transformer__remainder__ASF &lt;= 1.2</text>\n",
       "<text text-anchor=\"middle\" x=\"3026\" y=\"-323.3\" font-family=\"futura\" font-size=\"14.00\">entropy = 0.985</text>\n",
       "<text text-anchor=\"middle\" x=\"3026\" y=\"-308.3\" font-family=\"futura\" font-size=\"14.00\">samples = 7</text>\n",
       "<text text-anchor=\"middle\" x=\"3026\" y=\"-293.3\" font-family=\"futura\" font-size=\"14.00\">value = [4, 3]</text>\n",
       "<text text-anchor=\"middle\" x=\"3026\" y=\"-278.3\" font-family=\"futura\" font-size=\"14.00\">class = nondemented</text>\n",
       "</g>\n",
       "<!-- 23&#45;&gt;24 -->\n",
       "<g id=\"edge24\" class=\"edge\">\n",
       "<title>23&#45;&gt;24</title>\n",
       "<path fill=\"none\" stroke=\"black\" d=\"M2817.5,-266.86C2830.58,-269.7 2843.76,-272.57 2856.8,-275.41\"/>\n",
       "<polygon fill=\"black\" stroke=\"black\" points=\"2856.22,-278.86 2866.74,-277.57 2857.71,-272.02 2856.22,-278.86\"/>\n",
       "</g>\n",
       "<!-- 27 -->\n",
       "<g id=\"node28\" class=\"node\">\n",
       "<title>27</title>\n",
       "<path fill=\"#e58139\" stroke=\"black\" d=\"M3098.5,-252C3098.5,-252 2953.5,-252 2953.5,-252 2947.5,-252 2941.5,-246 2941.5,-240 2941.5,-240 2941.5,-196 2941.5,-196 2941.5,-190 2947.5,-184 2953.5,-184 2953.5,-184 3098.5,-184 3098.5,-184 3104.5,-184 3110.5,-190 3110.5,-196 3110.5,-196 3110.5,-240 3110.5,-240 3110.5,-246 3104.5,-252 3098.5,-252\"/>\n",
       "<text text-anchor=\"middle\" x=\"3026\" y=\"-236.8\" font-family=\"futura\" font-size=\"14.00\">entropy = 0.0</text>\n",
       "<text text-anchor=\"middle\" x=\"3026\" y=\"-221.8\" font-family=\"futura\" font-size=\"14.00\">samples = 4</text>\n",
       "<text text-anchor=\"middle\" x=\"3026\" y=\"-206.8\" font-family=\"futura\" font-size=\"14.00\">value = [4, 0]</text>\n",
       "<text text-anchor=\"middle\" x=\"3026\" y=\"-191.8\" font-family=\"futura\" font-size=\"14.00\">class = nondemented</text>\n",
       "</g>\n",
       "<!-- 23&#45;&gt;27 -->\n",
       "<g id=\"edge27\" class=\"edge\">\n",
       "<title>23&#45;&gt;27</title>\n",
       "<path fill=\"none\" stroke=\"black\" d=\"M2817.5,-223.98C2856.76,-222.85 2896.98,-221.69 2931.42,-220.7\"/>\n",
       "<polygon fill=\"black\" stroke=\"black\" points=\"2931.55,-224.2 2941.45,-220.41 2931.35,-217.2 2931.55,-224.2\"/>\n",
       "</g>\n",
       "<!-- 25 -->\n",
       "<g id=\"node26\" class=\"node\">\n",
       "<title>25</title>\n",
       "<path fill=\"#e58139\" stroke=\"black\" d=\"M3378,-389C3378,-389 3233,-389 3233,-389 3227,-389 3221,-383 3221,-377 3221,-377 3221,-333 3221,-333 3221,-327 3227,-321 3233,-321 3233,-321 3378,-321 3378,-321 3384,-321 3390,-327 3390,-333 3390,-333 3390,-377 3390,-377 3390,-383 3384,-389 3378,-389\"/>\n",
       "<text text-anchor=\"middle\" x=\"3305.5\" y=\"-373.8\" font-family=\"futura\" font-size=\"14.00\">entropy = 0.0</text>\n",
       "<text text-anchor=\"middle\" x=\"3305.5\" y=\"-358.8\" font-family=\"futura\" font-size=\"14.00\">samples = 3</text>\n",
       "<text text-anchor=\"middle\" x=\"3305.5\" y=\"-343.8\" font-family=\"futura\" font-size=\"14.00\">value = [3, 0]</text>\n",
       "<text text-anchor=\"middle\" x=\"3305.5\" y=\"-328.8\" font-family=\"futura\" font-size=\"14.00\">class = nondemented</text>\n",
       "</g>\n",
       "<!-- 24&#45;&gt;25 -->\n",
       "<g id=\"edge25\" class=\"edge\">\n",
       "<title>24&#45;&gt;25</title>\n",
       "<path fill=\"none\" stroke=\"black\" d=\"M3185.2,-336.51C3193.86,-337.86 3202.41,-339.18 3210.72,-340.47\"/>\n",
       "<polygon fill=\"black\" stroke=\"black\" points=\"3210.31,-343.95 3220.72,-342.02 3211.38,-337.03 3210.31,-343.95\"/>\n",
       "</g>\n",
       "<!-- 26 -->\n",
       "<g id=\"node27\" class=\"node\">\n",
       "<title>26</title>\n",
       "<path fill=\"#7bbeee\" stroke=\"black\" d=\"M3365,-303C3365,-303 3246,-303 3246,-303 3240,-303 3234,-297 3234,-291 3234,-291 3234,-247 3234,-247 3234,-241 3240,-235 3246,-235 3246,-235 3365,-235 3365,-235 3371,-235 3377,-241 3377,-247 3377,-247 3377,-291 3377,-291 3377,-297 3371,-303 3365,-303\"/>\n",
       "<text text-anchor=\"middle\" x=\"3305.5\" y=\"-287.8\" font-family=\"futura\" font-size=\"14.00\">entropy = 0.811</text>\n",
       "<text text-anchor=\"middle\" x=\"3305.5\" y=\"-272.8\" font-family=\"futura\" font-size=\"14.00\">samples = 4</text>\n",
       "<text text-anchor=\"middle\" x=\"3305.5\" y=\"-257.8\" font-family=\"futura\" font-size=\"14.00\">value = [1, 3]</text>\n",
       "<text text-anchor=\"middle\" x=\"3305.5\" y=\"-242.8\" font-family=\"futura\" font-size=\"14.00\">class = demented</text>\n",
       "</g>\n",
       "<!-- 24&#45;&gt;26 -->\n",
       "<g id=\"edge26\" class=\"edge\">\n",
       "<title>24&#45;&gt;26</title>\n",
       "<path fill=\"none\" stroke=\"black\" d=\"M3185.2,-287.49C3198.42,-285.44 3211.4,-283.43 3223.64,-281.53\"/>\n",
       "<polygon fill=\"black\" stroke=\"black\" points=\"3224.4,-284.95 3233.75,-279.96 3223.33,-278.04 3224.4,-284.95\"/>\n",
       "</g>\n",
       "<!-- 29 -->\n",
       "<g id=\"node30\" class=\"node\">\n",
       "<title>29</title>\n",
       "<path fill=\"#5aade9\" stroke=\"black\" d=\"M2817.5,-169.5C2817.5,-169.5 2467.5,-169.5 2467.5,-169.5 2461.5,-169.5 2455.5,-163.5 2455.5,-157.5 2455.5,-157.5 2455.5,-98.5 2455.5,-98.5 2455.5,-92.5 2461.5,-86.5 2467.5,-86.5 2467.5,-86.5 2817.5,-86.5 2817.5,-86.5 2823.5,-86.5 2829.5,-92.5 2829.5,-98.5 2829.5,-98.5 2829.5,-157.5 2829.5,-157.5 2829.5,-163.5 2823.5,-169.5 2817.5,-169.5\"/>\n",
       "<text text-anchor=\"middle\" x=\"2642.5\" y=\"-154.3\" font-family=\"futura\" font-size=\"14.00\">num_transformer__standard_scaler__Age &lt;= 0.494</text>\n",
       "<text text-anchor=\"middle\" x=\"2642.5\" y=\"-139.3\" font-family=\"futura\" font-size=\"14.00\">entropy = 0.592</text>\n",
       "<text text-anchor=\"middle\" x=\"2642.5\" y=\"-124.3\" font-family=\"futura\" font-size=\"14.00\">samples = 7</text>\n",
       "<text text-anchor=\"middle\" x=\"2642.5\" y=\"-109.3\" font-family=\"futura\" font-size=\"14.00\">value = [1, 6]</text>\n",
       "<text text-anchor=\"middle\" x=\"2642.5\" y=\"-94.3\" font-family=\"futura\" font-size=\"14.00\">class = demented</text>\n",
       "</g>\n",
       "<!-- 28&#45;&gt;29 -->\n",
       "<g id=\"edge29\" class=\"edge\">\n",
       "<title>28&#45;&gt;29</title>\n",
       "<path fill=\"none\" stroke=\"black\" d=\"M2408.73,-128C2420.77,-128 2432.94,-128 2445.06,-128\"/>\n",
       "<polygon fill=\"black\" stroke=\"black\" points=\"2445.22,-131.5 2455.22,-128 2445.22,-124.5 2445.22,-131.5\"/>\n",
       "</g>\n",
       "<!-- 32 -->\n",
       "<g id=\"node33\" class=\"node\">\n",
       "<title>32</title>\n",
       "<path fill=\"#f6d5bd\" stroke=\"black\" d=\"M2715,-68C2715,-68 2570,-68 2570,-68 2564,-68 2558,-62 2558,-56 2558,-56 2558,-12 2558,-12 2558,-6 2564,0 2570,0 2570,0 2715,0 2715,0 2721,0 2727,-6 2727,-12 2727,-12 2727,-56 2727,-56 2727,-62 2721,-68 2715,-68\"/>\n",
       "<text text-anchor=\"middle\" x=\"2642.5\" y=\"-52.8\" font-family=\"futura\" font-size=\"14.00\">entropy = 0.971</text>\n",
       "<text text-anchor=\"middle\" x=\"2642.5\" y=\"-37.8\" font-family=\"futura\" font-size=\"14.00\">samples = 5</text>\n",
       "<text text-anchor=\"middle\" x=\"2642.5\" y=\"-22.8\" font-family=\"futura\" font-size=\"14.00\">value = [3, 2]</text>\n",
       "<text text-anchor=\"middle\" x=\"2642.5\" y=\"-7.8\" font-family=\"futura\" font-size=\"14.00\">class = nondemented</text>\n",
       "</g>\n",
       "<!-- 28&#45;&gt;32 -->\n",
       "<g id=\"edge32\" class=\"edge\">\n",
       "<title>28&#45;&gt;32</title>\n",
       "<path fill=\"none\" stroke=\"black\" d=\"M2408.73,-87.04C2456.77,-76.1 2506.76,-64.71 2548.04,-55.3\"/>\n",
       "<polygon fill=\"black\" stroke=\"black\" points=\"2548.82,-58.71 2557.8,-53.07 2547.27,-51.88 2548.82,-58.71\"/>\n",
       "</g>\n",
       "<!-- 30 -->\n",
       "<g id=\"node31\" class=\"node\">\n",
       "<title>30</title>\n",
       "<path fill=\"#399de5\" stroke=\"black\" d=\"M3085.5,-164C3085.5,-164 2966.5,-164 2966.5,-164 2960.5,-164 2954.5,-158 2954.5,-152 2954.5,-152 2954.5,-108 2954.5,-108 2954.5,-102 2960.5,-96 2966.5,-96 2966.5,-96 3085.5,-96 3085.5,-96 3091.5,-96 3097.5,-102 3097.5,-108 3097.5,-108 3097.5,-152 3097.5,-152 3097.5,-158 3091.5,-164 3085.5,-164\"/>\n",
       "<text text-anchor=\"middle\" x=\"3026\" y=\"-148.8\" font-family=\"futura\" font-size=\"14.00\">entropy = 0.0</text>\n",
       "<text text-anchor=\"middle\" x=\"3026\" y=\"-133.8\" font-family=\"futura\" font-size=\"14.00\">samples = 4</text>\n",
       "<text text-anchor=\"middle\" x=\"3026\" y=\"-118.8\" font-family=\"futura\" font-size=\"14.00\">value = [0, 4]</text>\n",
       "<text text-anchor=\"middle\" x=\"3026\" y=\"-103.8\" font-family=\"futura\" font-size=\"14.00\">class = demented</text>\n",
       "</g>\n",
       "<!-- 29&#45;&gt;30 -->\n",
       "<g id=\"edge30\" class=\"edge\">\n",
       "<title>29&#45;&gt;30</title>\n",
       "<path fill=\"none\" stroke=\"black\" d=\"M2829.5,-128.98C2869.82,-129.19 2910.42,-129.4 2944.1,-129.58\"/>\n",
       "<polygon fill=\"black\" stroke=\"black\" points=\"2944.3,-133.08 2954.32,-129.63 2944.33,-126.08 2944.3,-133.08\"/>\n",
       "</g>\n",
       "<!-- 31 -->\n",
       "<g id=\"node32\" class=\"node\">\n",
       "<title>31</title>\n",
       "<path fill=\"#9ccef2\" stroke=\"black\" d=\"M3085.5,-78C3085.5,-78 2966.5,-78 2966.5,-78 2960.5,-78 2954.5,-72 2954.5,-66 2954.5,-66 2954.5,-22 2954.5,-22 2954.5,-16 2960.5,-10 2966.5,-10 2966.5,-10 3085.5,-10 3085.5,-10 3091.5,-10 3097.5,-16 3097.5,-22 3097.5,-22 3097.5,-66 3097.5,-66 3097.5,-72 3091.5,-78 3085.5,-78\"/>\n",
       "<text text-anchor=\"middle\" x=\"3026\" y=\"-62.8\" font-family=\"futura\" font-size=\"14.00\">entropy = 0.918</text>\n",
       "<text text-anchor=\"middle\" x=\"3026\" y=\"-47.8\" font-family=\"futura\" font-size=\"14.00\">samples = 3</text>\n",
       "<text text-anchor=\"middle\" x=\"3026\" y=\"-32.8\" font-family=\"futura\" font-size=\"14.00\">value = [1, 2]</text>\n",
       "<text text-anchor=\"middle\" x=\"3026\" y=\"-17.8\" font-family=\"futura\" font-size=\"14.00\">class = demented</text>\n",
       "</g>\n",
       "<!-- 29&#45;&gt;31 -->\n",
       "<g id=\"edge31\" class=\"edge\">\n",
       "<title>29&#45;&gt;31</title>\n",
       "<path fill=\"none\" stroke=\"black\" d=\"M2829.5,-87.05C2869.99,-78.13 2910.77,-69.15 2944.53,-61.72\"/>\n",
       "<polygon fill=\"black\" stroke=\"black\" points=\"2945.3,-65.13 2954.32,-59.56 2943.8,-58.3 2945.3,-65.13\"/>\n",
       "</g>\n",
       "</g>\n",
       "</svg>\n"
      ],
      "text/plain": [
       "<graphviz.sources.Source at 0x7f340a101fd0>"
      ]
     },
     "metadata": {},
     "output_type": "display_data"
    }
   ],
   "source": [
    "# Export model graph\n",
    "export_graphviz(best_tree, out_file=\"best_tree.dot\", \n",
    "                feature_names=X_train_trial.columns,\n",
    "                class_names=['nondemented', 'demented'], \n",
    "                rounded=True,\n",
    "                filled=True,\n",
    "                rotate = True,\n",
    "                fontname = 'futura')\n",
    "\n",
    "# Import model graph\n",
    "with open(\"best_tree.dot\") as f:\n",
    "    dot_graph = f.read()\n",
    "    display(graphviz.Source(dot_graph))"
   ]
  },
  {
   "cell_type": "markdown",
   "id": "c17f8869",
   "metadata": {},
   "source": [
    "<big> Conclusion: </big>\n",
    "\n",
    "y_train = 76 demented, 100 nondemented\n",
    "\n",
    "y_pred = 61 demented, 115 nondemented"
   ]
  },
  {
   "cell_type": "markdown",
   "id": "b3cf05df",
   "metadata": {},
   "source": [
    "## Random Forest"
   ]
  },
  {
   "cell_type": "markdown",
   "id": "eaea8058",
   "metadata": {},
   "source": [
    "### Grid Searching"
   ]
  },
  {
   "cell_type": "code",
   "execution_count": 76,
   "id": "b8a05ea9",
   "metadata": {},
   "outputs": [],
   "source": [
    "# CREATING  RANDOM GRID\n",
    "# Number of trees in random forest\n",
    "n_estimators = [int(x) for x in np.linspace(start = 200, stop = 2000, num = 10)]\n",
    "# Number of features to consider at every split\n",
    "max_features = ['auto', 'sqrt']\n",
    "# Maximum number of levels in tree\n",
    "max_depth = [int(x) for x in np.linspace(10, 110, num = 11)]\n",
    "max_depth.append(None)\n",
    "# Minimum number of samples required to split a node\n",
    "min_samples_split = [2, 5, 10]\n",
    "# Minimum number of samples required at each leaf node\n",
    "min_samples_leaf = [1, 2, 4]\n",
    "# Method of selecting samples for training each tree\n",
    "bootstrap = [True, False]\n",
    "\n",
    "random_grid = {'n_estimators': n_estimators,\n",
    "               'max_features': max_features,\n",
    "               'max_depth': max_depth,\n",
    "               'min_samples_split': min_samples_split,\n",
    "               'min_samples_leaf': min_samples_leaf,\n",
    "               'bootstrap': bootstrap}"
   ]
  },
  {
   "cell_type": "code",
   "execution_count": 77,
   "id": "86fda036",
   "metadata": {},
   "outputs": [
    {
     "name": "stdout",
     "output_type": "stream",
     "text": [
      "Fitting 5 folds for each of 20 candidates, totalling 100 fits\n"
     ]
    },
    {
     "data": {
      "text/html": [
       "<style>#sk-8a596e19-d722-4b47-a006-1233c16a5133 {color: black;background-color: white;}#sk-8a596e19-d722-4b47-a006-1233c16a5133 pre{padding: 0;}#sk-8a596e19-d722-4b47-a006-1233c16a5133 div.sk-toggleable {background-color: white;}#sk-8a596e19-d722-4b47-a006-1233c16a5133 label.sk-toggleable__label {cursor: pointer;display: block;width: 100%;margin-bottom: 0;padding: 0.3em;box-sizing: border-box;text-align: center;}#sk-8a596e19-d722-4b47-a006-1233c16a5133 label.sk-toggleable__label-arrow:before {content: \"▸\";float: left;margin-right: 0.25em;color: #696969;}#sk-8a596e19-d722-4b47-a006-1233c16a5133 label.sk-toggleable__label-arrow:hover:before {color: black;}#sk-8a596e19-d722-4b47-a006-1233c16a5133 div.sk-estimator:hover label.sk-toggleable__label-arrow:before {color: black;}#sk-8a596e19-d722-4b47-a006-1233c16a5133 div.sk-toggleable__content {max-height: 0;max-width: 0;overflow: hidden;text-align: left;background-color: #f0f8ff;}#sk-8a596e19-d722-4b47-a006-1233c16a5133 div.sk-toggleable__content pre {margin: 0.2em;color: black;border-radius: 0.25em;background-color: #f0f8ff;}#sk-8a596e19-d722-4b47-a006-1233c16a5133 input.sk-toggleable__control:checked~div.sk-toggleable__content {max-height: 200px;max-width: 100%;overflow: auto;}#sk-8a596e19-d722-4b47-a006-1233c16a5133 input.sk-toggleable__control:checked~label.sk-toggleable__label-arrow:before {content: \"▾\";}#sk-8a596e19-d722-4b47-a006-1233c16a5133 div.sk-estimator input.sk-toggleable__control:checked~label.sk-toggleable__label {background-color: #d4ebff;}#sk-8a596e19-d722-4b47-a006-1233c16a5133 div.sk-label input.sk-toggleable__control:checked~label.sk-toggleable__label {background-color: #d4ebff;}#sk-8a596e19-d722-4b47-a006-1233c16a5133 input.sk-hidden--visually {border: 0;clip: rect(1px 1px 1px 1px);clip: rect(1px, 1px, 1px, 1px);height: 1px;margin: -1px;overflow: hidden;padding: 0;position: absolute;width: 1px;}#sk-8a596e19-d722-4b47-a006-1233c16a5133 div.sk-estimator {font-family: monospace;background-color: #f0f8ff;border: 1px dotted black;border-radius: 0.25em;box-sizing: border-box;margin-bottom: 0.5em;}#sk-8a596e19-d722-4b47-a006-1233c16a5133 div.sk-estimator:hover {background-color: #d4ebff;}#sk-8a596e19-d722-4b47-a006-1233c16a5133 div.sk-parallel-item::after {content: \"\";width: 100%;border-bottom: 1px solid gray;flex-grow: 1;}#sk-8a596e19-d722-4b47-a006-1233c16a5133 div.sk-label:hover label.sk-toggleable__label {background-color: #d4ebff;}#sk-8a596e19-d722-4b47-a006-1233c16a5133 div.sk-serial::before {content: \"\";position: absolute;border-left: 1px solid gray;box-sizing: border-box;top: 2em;bottom: 0;left: 50%;}#sk-8a596e19-d722-4b47-a006-1233c16a5133 div.sk-serial {display: flex;flex-direction: column;align-items: center;background-color: white;padding-right: 0.2em;padding-left: 0.2em;}#sk-8a596e19-d722-4b47-a006-1233c16a5133 div.sk-item {z-index: 1;}#sk-8a596e19-d722-4b47-a006-1233c16a5133 div.sk-parallel {display: flex;align-items: stretch;justify-content: center;background-color: white;}#sk-8a596e19-d722-4b47-a006-1233c16a5133 div.sk-parallel::before {content: \"\";position: absolute;border-left: 1px solid gray;box-sizing: border-box;top: 2em;bottom: 0;left: 50%;}#sk-8a596e19-d722-4b47-a006-1233c16a5133 div.sk-parallel-item {display: flex;flex-direction: column;position: relative;background-color: white;}#sk-8a596e19-d722-4b47-a006-1233c16a5133 div.sk-parallel-item:first-child::after {align-self: flex-end;width: 50%;}#sk-8a596e19-d722-4b47-a006-1233c16a5133 div.sk-parallel-item:last-child::after {align-self: flex-start;width: 50%;}#sk-8a596e19-d722-4b47-a006-1233c16a5133 div.sk-parallel-item:only-child::after {width: 0;}#sk-8a596e19-d722-4b47-a006-1233c16a5133 div.sk-dashed-wrapped {border: 1px dashed gray;margin: 0 0.4em 0.5em 0.4em;box-sizing: border-box;padding-bottom: 0.4em;background-color: white;position: relative;}#sk-8a596e19-d722-4b47-a006-1233c16a5133 div.sk-label label {font-family: monospace;font-weight: bold;background-color: white;display: inline-block;line-height: 1.2em;}#sk-8a596e19-d722-4b47-a006-1233c16a5133 div.sk-label-container {position: relative;z-index: 2;text-align: center;}#sk-8a596e19-d722-4b47-a006-1233c16a5133 div.sk-container {/* jupyter's `normalize.less` sets `[hidden] { display: none; }` but bootstrap.min.css set `[hidden] { display: none !important; }` so we also need the `!important` here to be able to override the default hidden behavior on the sphinx rendered scikit-learn.org. See: https://github.com/scikit-learn/scikit-learn/issues/21755 */display: inline-block !important;position: relative;}#sk-8a596e19-d722-4b47-a006-1233c16a5133 div.sk-text-repr-fallback {display: none;}</style><div id=\"sk-8a596e19-d722-4b47-a006-1233c16a5133\" class=\"sk-top-container\"><div class=\"sk-text-repr-fallback\"><pre>RandomizedSearchCV(cv=5, estimator=RandomForestClassifier(), n_iter=20,\n",
       "                   n_jobs=-1,\n",
       "                   param_distributions={&#x27;bootstrap&#x27;: [True, False],\n",
       "                                        &#x27;max_depth&#x27;: [10, 20, 30, 40, 50, 60,\n",
       "                                                      70, 80, 90, 100, 110,\n",
       "                                                      None],\n",
       "                                        &#x27;max_features&#x27;: [&#x27;auto&#x27;, &#x27;sqrt&#x27;],\n",
       "                                        &#x27;min_samples_leaf&#x27;: [1, 2, 4],\n",
       "                                        &#x27;min_samples_split&#x27;: [2, 5, 10],\n",
       "                                        &#x27;n_estimators&#x27;: [200, 400, 600, 800,\n",
       "                                                         1000, 1200, 1400, 1600,\n",
       "                                                         1800, 2000]},\n",
       "                   random_state=42, verbose=2)</pre><b>Please rerun this cell to show the HTML repr or trust the notebook.</b></div><div class=\"sk-container\" hidden><div class=\"sk-item sk-dashed-wrapped\"><div class=\"sk-label-container\"><div class=\"sk-label sk-toggleable\"><input class=\"sk-toggleable__control sk-hidden--visually\" id=\"5c3ea2d2-bd1a-4904-b23a-70fb9c068d42\" type=\"checkbox\" ><label for=\"5c3ea2d2-bd1a-4904-b23a-70fb9c068d42\" class=\"sk-toggleable__label sk-toggleable__label-arrow\">RandomizedSearchCV</label><div class=\"sk-toggleable__content\"><pre>RandomizedSearchCV(cv=5, estimator=RandomForestClassifier(), n_iter=20,\n",
       "                   n_jobs=-1,\n",
       "                   param_distributions={&#x27;bootstrap&#x27;: [True, False],\n",
       "                                        &#x27;max_depth&#x27;: [10, 20, 30, 40, 50, 60,\n",
       "                                                      70, 80, 90, 100, 110,\n",
       "                                                      None],\n",
       "                                        &#x27;max_features&#x27;: [&#x27;auto&#x27;, &#x27;sqrt&#x27;],\n",
       "                                        &#x27;min_samples_leaf&#x27;: [1, 2, 4],\n",
       "                                        &#x27;min_samples_split&#x27;: [2, 5, 10],\n",
       "                                        &#x27;n_estimators&#x27;: [200, 400, 600, 800,\n",
       "                                                         1000, 1200, 1400, 1600,\n",
       "                                                         1800, 2000]},\n",
       "                   random_state=42, verbose=2)</pre></div></div></div><div class=\"sk-parallel\"><div class=\"sk-parallel-item\"><div class=\"sk-item\"><div class=\"sk-serial\"><div class=\"sk-item\"><div class=\"sk-estimator sk-toggleable\"><input class=\"sk-toggleable__control sk-hidden--visually\" id=\"3e93c134-a379-40ec-a7f8-fdccd747cee7\" type=\"checkbox\" ><label for=\"3e93c134-a379-40ec-a7f8-fdccd747cee7\" class=\"sk-toggleable__label sk-toggleable__label-arrow\">RandomForestClassifier</label><div class=\"sk-toggleable__content\"><pre>RandomForestClassifier()</pre></div></div></div></div></div></div></div></div></div></div>"
      ],
      "text/plain": [
       "RandomizedSearchCV(cv=5, estimator=RandomForestClassifier(), n_iter=20,\n",
       "                   n_jobs=-1,\n",
       "                   param_distributions={'bootstrap': [True, False],\n",
       "                                        'max_depth': [10, 20, 30, 40, 50, 60,\n",
       "                                                      70, 80, 90, 100, 110,\n",
       "                                                      None],\n",
       "                                        'max_features': ['auto', 'sqrt'],\n",
       "                                        'min_samples_leaf': [1, 2, 4],\n",
       "                                        'min_samples_split': [2, 5, 10],\n",
       "                                        'n_estimators': [200, 400, 600, 800,\n",
       "                                                         1000, 1200, 1400, 1600,\n",
       "                                                         1800, 2000]},\n",
       "                   random_state=42, verbose=2)"
      ]
     },
     "execution_count": 77,
     "metadata": {},
     "output_type": "execute_result"
    }
   ],
   "source": [
    "rf = RandomForestClassifier()\n",
    "rf_random = RandomizedSearchCV(estimator = rf, \n",
    "                               param_distributions = random_grid, \n",
    "                               n_iter = 20, \n",
    "                               cv = 5, \n",
    "                               verbose=2, \n",
    "                               random_state=42, \n",
    "                               n_jobs = -1)\n",
    "rf_random.fit(X_train, y_train)"
   ]
  },
  {
   "cell_type": "markdown",
   "id": "5ff03707",
   "metadata": {},
   "source": [
    "### Best Forest"
   ]
  },
  {
   "cell_type": "code",
   "execution_count": 78,
   "id": "60049088",
   "metadata": {},
   "outputs": [
    {
     "data": {
      "text/html": [
       "<style>#sk-9e7b5b9f-d999-4bcd-b6be-50ad90d56acf {color: black;background-color: white;}#sk-9e7b5b9f-d999-4bcd-b6be-50ad90d56acf pre{padding: 0;}#sk-9e7b5b9f-d999-4bcd-b6be-50ad90d56acf div.sk-toggleable {background-color: white;}#sk-9e7b5b9f-d999-4bcd-b6be-50ad90d56acf label.sk-toggleable__label {cursor: pointer;display: block;width: 100%;margin-bottom: 0;padding: 0.3em;box-sizing: border-box;text-align: center;}#sk-9e7b5b9f-d999-4bcd-b6be-50ad90d56acf label.sk-toggleable__label-arrow:before {content: \"▸\";float: left;margin-right: 0.25em;color: #696969;}#sk-9e7b5b9f-d999-4bcd-b6be-50ad90d56acf label.sk-toggleable__label-arrow:hover:before {color: black;}#sk-9e7b5b9f-d999-4bcd-b6be-50ad90d56acf div.sk-estimator:hover label.sk-toggleable__label-arrow:before {color: black;}#sk-9e7b5b9f-d999-4bcd-b6be-50ad90d56acf div.sk-toggleable__content {max-height: 0;max-width: 0;overflow: hidden;text-align: left;background-color: #f0f8ff;}#sk-9e7b5b9f-d999-4bcd-b6be-50ad90d56acf div.sk-toggleable__content pre {margin: 0.2em;color: black;border-radius: 0.25em;background-color: #f0f8ff;}#sk-9e7b5b9f-d999-4bcd-b6be-50ad90d56acf input.sk-toggleable__control:checked~div.sk-toggleable__content {max-height: 200px;max-width: 100%;overflow: auto;}#sk-9e7b5b9f-d999-4bcd-b6be-50ad90d56acf input.sk-toggleable__control:checked~label.sk-toggleable__label-arrow:before {content: \"▾\";}#sk-9e7b5b9f-d999-4bcd-b6be-50ad90d56acf div.sk-estimator input.sk-toggleable__control:checked~label.sk-toggleable__label {background-color: #d4ebff;}#sk-9e7b5b9f-d999-4bcd-b6be-50ad90d56acf div.sk-label input.sk-toggleable__control:checked~label.sk-toggleable__label {background-color: #d4ebff;}#sk-9e7b5b9f-d999-4bcd-b6be-50ad90d56acf input.sk-hidden--visually {border: 0;clip: rect(1px 1px 1px 1px);clip: rect(1px, 1px, 1px, 1px);height: 1px;margin: -1px;overflow: hidden;padding: 0;position: absolute;width: 1px;}#sk-9e7b5b9f-d999-4bcd-b6be-50ad90d56acf div.sk-estimator {font-family: monospace;background-color: #f0f8ff;border: 1px dotted black;border-radius: 0.25em;box-sizing: border-box;margin-bottom: 0.5em;}#sk-9e7b5b9f-d999-4bcd-b6be-50ad90d56acf div.sk-estimator:hover {background-color: #d4ebff;}#sk-9e7b5b9f-d999-4bcd-b6be-50ad90d56acf div.sk-parallel-item::after {content: \"\";width: 100%;border-bottom: 1px solid gray;flex-grow: 1;}#sk-9e7b5b9f-d999-4bcd-b6be-50ad90d56acf div.sk-label:hover label.sk-toggleable__label {background-color: #d4ebff;}#sk-9e7b5b9f-d999-4bcd-b6be-50ad90d56acf div.sk-serial::before {content: \"\";position: absolute;border-left: 1px solid gray;box-sizing: border-box;top: 2em;bottom: 0;left: 50%;}#sk-9e7b5b9f-d999-4bcd-b6be-50ad90d56acf div.sk-serial {display: flex;flex-direction: column;align-items: center;background-color: white;padding-right: 0.2em;padding-left: 0.2em;}#sk-9e7b5b9f-d999-4bcd-b6be-50ad90d56acf div.sk-item {z-index: 1;}#sk-9e7b5b9f-d999-4bcd-b6be-50ad90d56acf div.sk-parallel {display: flex;align-items: stretch;justify-content: center;background-color: white;}#sk-9e7b5b9f-d999-4bcd-b6be-50ad90d56acf div.sk-parallel::before {content: \"\";position: absolute;border-left: 1px solid gray;box-sizing: border-box;top: 2em;bottom: 0;left: 50%;}#sk-9e7b5b9f-d999-4bcd-b6be-50ad90d56acf div.sk-parallel-item {display: flex;flex-direction: column;position: relative;background-color: white;}#sk-9e7b5b9f-d999-4bcd-b6be-50ad90d56acf div.sk-parallel-item:first-child::after {align-self: flex-end;width: 50%;}#sk-9e7b5b9f-d999-4bcd-b6be-50ad90d56acf div.sk-parallel-item:last-child::after {align-self: flex-start;width: 50%;}#sk-9e7b5b9f-d999-4bcd-b6be-50ad90d56acf div.sk-parallel-item:only-child::after {width: 0;}#sk-9e7b5b9f-d999-4bcd-b6be-50ad90d56acf div.sk-dashed-wrapped {border: 1px dashed gray;margin: 0 0.4em 0.5em 0.4em;box-sizing: border-box;padding-bottom: 0.4em;background-color: white;position: relative;}#sk-9e7b5b9f-d999-4bcd-b6be-50ad90d56acf div.sk-label label {font-family: monospace;font-weight: bold;background-color: white;display: inline-block;line-height: 1.2em;}#sk-9e7b5b9f-d999-4bcd-b6be-50ad90d56acf div.sk-label-container {position: relative;z-index: 2;text-align: center;}#sk-9e7b5b9f-d999-4bcd-b6be-50ad90d56acf div.sk-container {/* jupyter's `normalize.less` sets `[hidden] { display: none; }` but bootstrap.min.css set `[hidden] { display: none !important; }` so we also need the `!important` here to be able to override the default hidden behavior on the sphinx rendered scikit-learn.org. See: https://github.com/scikit-learn/scikit-learn/issues/21755 */display: inline-block !important;position: relative;}#sk-9e7b5b9f-d999-4bcd-b6be-50ad90d56acf div.sk-text-repr-fallback {display: none;}</style><div id=\"sk-9e7b5b9f-d999-4bcd-b6be-50ad90d56acf\" class=\"sk-top-container\"><div class=\"sk-text-repr-fallback\"><pre>RandomForestClassifier(bootstrap=False, max_depth=20, max_features=&#x27;sqrt&#x27;,\n",
       "                       n_estimators=800)</pre><b>Please rerun this cell to show the HTML repr or trust the notebook.</b></div><div class=\"sk-container\" hidden><div class=\"sk-item\"><div class=\"sk-estimator sk-toggleable\"><input class=\"sk-toggleable__control sk-hidden--visually\" id=\"960e296e-1bc6-4ccf-a668-6a97e4a9976b\" type=\"checkbox\" checked><label for=\"960e296e-1bc6-4ccf-a668-6a97e4a9976b\" class=\"sk-toggleable__label sk-toggleable__label-arrow\">RandomForestClassifier</label><div class=\"sk-toggleable__content\"><pre>RandomForestClassifier(bootstrap=False, max_depth=20, max_features=&#x27;sqrt&#x27;,\n",
       "                       n_estimators=800)</pre></div></div></div></div></div>"
      ],
      "text/plain": [
       "RandomForestClassifier(bootstrap=False, max_depth=20, max_features='sqrt',\n",
       "                       n_estimators=800)"
      ]
     },
     "execution_count": 78,
     "metadata": {},
     "output_type": "execute_result"
    }
   ],
   "source": [
    "# Defining best estimator for random forest\n",
    "best_rf = rf_random.best_estimator_\n",
    "\n",
    "# Fitting best random forest\n",
    "best_rf.fit(X_train, y_train)"
   ]
  },
  {
   "cell_type": "code",
   "execution_count": 79,
   "id": "e0c8c8b6",
   "metadata": {},
   "outputs": [
    {
     "data": {
      "text/plain": [
       "array([0, 0, 1, 0, 0, 0, 0, 0, 0, 1, 0, 0, 1, 0, 1, 0, 0, 1, 1, 1, 0, 0,\n",
       "       0, 1, 0, 0, 0, 0, 1, 1, 1, 1, 0, 0, 0, 0, 1, 0, 0, 0, 1, 1, 0, 1,\n",
       "       1, 0, 1, 1, 0, 1, 1, 0, 1, 0, 1, 0, 0, 1, 0, 0, 0, 1, 1, 0, 0, 1,\n",
       "       0, 1, 1, 1, 0])"
      ]
     },
     "execution_count": 79,
     "metadata": {},
     "output_type": "execute_result"
    }
   ],
   "source": [
    "# Predictions on the test set\n",
    "y_forest_pred = best_rf.predict(X_test)\n",
    "y_forest_pred"
   ]
  },
  {
   "cell_type": "code",
   "execution_count": 80,
   "id": "530480d5",
   "metadata": {},
   "outputs": [],
   "source": [
    "# Scores\n",
    "forest_score = recall_score(y_test, y_forest_pred), precision_score(y_test, y_forest_pred), accuracy_score(y_test, y_forest_pred)"
   ]
  },
  {
   "cell_type": "code",
   "execution_count": 81,
   "id": "5a6a849d",
   "metadata": {},
   "outputs": [
    {
     "data": {
      "image/png": "[encoded data removed]",
      "text/plain": [
       "<Figure size 432x288 with 2 Axes>"
      ]
     },
     "metadata": {},
     "output_type": "display_data"
    }
   ],
   "source": [
    "# Confusion Matrix\n",
    "rf_cm = confusion_matrix(y_test, y_forest_pred)\n",
    "\n",
    "disp = ConfusionMatrixDisplay(confusion_matrix=rf_cm,\n",
    "                             display_labels=[\"nondemented\",\"demented\"])\n",
    "disp.plot(cmap = 'plasma')\n",
    "\n",
    "plt.grid(visible = False)\n",
    "plt.show()"
   ]
  },
  {
   "cell_type": "markdown",
   "id": "5ae738d4",
   "metadata": {},
   "source": [
    "# AdaBoost Classifier"
   ]
  },
  {
   "cell_type": "code",
   "execution_count": 82,
   "id": "3c98cc6d",
   "metadata": {},
   "outputs": [],
   "source": [
    "adaboost = AdaBoostClassifier()"
   ]
  },
  {
   "cell_type": "code",
   "execution_count": 84,
   "id": "37802ccb",
   "metadata": {},
   "outputs": [
    {
     "name": "stdout",
     "output_type": "stream",
     "text": [
      "Optimal hyperparameter combination: {'learning_rate': 0.6, 'n_estimators': 10}\n"
     ]
    }
   ],
   "source": [
    "hyperparameter_space = {'n_estimators':list(range(10, 100, 10)), \n",
    "                        'learning_rate':[0.01, 0.1, 0.2, 0.3, 0.4, 0.5, 0.6]}\n",
    "\n",
    "gridsearch_ada = GridSearchCV(AdaBoostClassifier(base_estimator = adaboost,\n",
    "                                     algorithm='SAMME.R',\n",
    "                                     random_state=1),\n",
    "                  param_grid=hyperparameter_space, \n",
    "                  scoring=\"recall\", n_jobs=-1, cv=5)\n",
    "\n",
    "gridsearch_ada.fit(X_train, y_train)\n",
    "print(\"Optimal hyperparameter combination:\", gridsearch_ada.best_params_)"
   ]
  },
  {
   "cell_type": "code",
   "execution_count": 85,
   "id": "03d012dc",
   "metadata": {},
   "outputs": [],
   "source": [
    "best_ada = AdaBoostClassifier(base_estimator = adaboost, n_estimators = 10, learning_rate = 0.6)"
   ]
  },
  {
   "cell_type": "code",
   "execution_count": 86,
   "id": "f9965fc9",
   "metadata": {},
   "outputs": [
    {
     "data": {
      "text/html": [
       "<style>#sk-f04c13d9-a99f-42df-ab3b-cc7e1b008deb {color: black;background-color: white;}#sk-f04c13d9-a99f-42df-ab3b-cc7e1b008deb pre{padding: 0;}#sk-f04c13d9-a99f-42df-ab3b-cc7e1b008deb div.sk-toggleable {background-color: white;}#sk-f04c13d9-a99f-42df-ab3b-cc7e1b008deb label.sk-toggleable__label {cursor: pointer;display: block;width: 100%;margin-bottom: 0;padding: 0.3em;box-sizing: border-box;text-align: center;}#sk-f04c13d9-a99f-42df-ab3b-cc7e1b008deb label.sk-toggleable__label-arrow:before {content: \"▸\";float: left;margin-right: 0.25em;color: #696969;}#sk-f04c13d9-a99f-42df-ab3b-cc7e1b008deb label.sk-toggleable__label-arrow:hover:before {color: black;}#sk-f04c13d9-a99f-42df-ab3b-cc7e1b008deb div.sk-estimator:hover label.sk-toggleable__label-arrow:before {color: black;}#sk-f04c13d9-a99f-42df-ab3b-cc7e1b008deb div.sk-toggleable__content {max-height: 0;max-width: 0;overflow: hidden;text-align: left;background-color: #f0f8ff;}#sk-f04c13d9-a99f-42df-ab3b-cc7e1b008deb div.sk-toggleable__content pre {margin: 0.2em;color: black;border-radius: 0.25em;background-color: #f0f8ff;}#sk-f04c13d9-a99f-42df-ab3b-cc7e1b008deb input.sk-toggleable__control:checked~div.sk-toggleable__content {max-height: 200px;max-width: 100%;overflow: auto;}#sk-f04c13d9-a99f-42df-ab3b-cc7e1b008deb input.sk-toggleable__control:checked~label.sk-toggleable__label-arrow:before {content: \"▾\";}#sk-f04c13d9-a99f-42df-ab3b-cc7e1b008deb div.sk-estimator input.sk-toggleable__control:checked~label.sk-toggleable__label {background-color: #d4ebff;}#sk-f04c13d9-a99f-42df-ab3b-cc7e1b008deb div.sk-label input.sk-toggleable__control:checked~label.sk-toggleable__label {background-color: #d4ebff;}#sk-f04c13d9-a99f-42df-ab3b-cc7e1b008deb input.sk-hidden--visually {border: 0;clip: rect(1px 1px 1px 1px);clip: rect(1px, 1px, 1px, 1px);height: 1px;margin: -1px;overflow: hidden;padding: 0;position: absolute;width: 1px;}#sk-f04c13d9-a99f-42df-ab3b-cc7e1b008deb div.sk-estimator {font-family: monospace;background-color: #f0f8ff;border: 1px dotted black;border-radius: 0.25em;box-sizing: border-box;margin-bottom: 0.5em;}#sk-f04c13d9-a99f-42df-ab3b-cc7e1b008deb div.sk-estimator:hover {background-color: #d4ebff;}#sk-f04c13d9-a99f-42df-ab3b-cc7e1b008deb div.sk-parallel-item::after {content: \"\";width: 100%;border-bottom: 1px solid gray;flex-grow: 1;}#sk-f04c13d9-a99f-42df-ab3b-cc7e1b008deb div.sk-label:hover label.sk-toggleable__label {background-color: #d4ebff;}#sk-f04c13d9-a99f-42df-ab3b-cc7e1b008deb div.sk-serial::before {content: \"\";position: absolute;border-left: 1px solid gray;box-sizing: border-box;top: 2em;bottom: 0;left: 50%;}#sk-f04c13d9-a99f-42df-ab3b-cc7e1b008deb div.sk-serial {display: flex;flex-direction: column;align-items: center;background-color: white;padding-right: 0.2em;padding-left: 0.2em;}#sk-f04c13d9-a99f-42df-ab3b-cc7e1b008deb div.sk-item {z-index: 1;}#sk-f04c13d9-a99f-42df-ab3b-cc7e1b008deb div.sk-parallel {display: flex;align-items: stretch;justify-content: center;background-color: white;}#sk-f04c13d9-a99f-42df-ab3b-cc7e1b008deb div.sk-parallel::before {content: \"\";position: absolute;border-left: 1px solid gray;box-sizing: border-box;top: 2em;bottom: 0;left: 50%;}#sk-f04c13d9-a99f-42df-ab3b-cc7e1b008deb div.sk-parallel-item {display: flex;flex-direction: column;position: relative;background-color: white;}#sk-f04c13d9-a99f-42df-ab3b-cc7e1b008deb div.sk-parallel-item:first-child::after {align-self: flex-end;width: 50%;}#sk-f04c13d9-a99f-42df-ab3b-cc7e1b008deb div.sk-parallel-item:last-child::after {align-self: flex-start;width: 50%;}#sk-f04c13d9-a99f-42df-ab3b-cc7e1b008deb div.sk-parallel-item:only-child::after {width: 0;}#sk-f04c13d9-a99f-42df-ab3b-cc7e1b008deb div.sk-dashed-wrapped {border: 1px dashed gray;margin: 0 0.4em 0.5em 0.4em;box-sizing: border-box;padding-bottom: 0.4em;background-color: white;position: relative;}#sk-f04c13d9-a99f-42df-ab3b-cc7e1b008deb div.sk-label label {font-family: monospace;font-weight: bold;background-color: white;display: inline-block;line-height: 1.2em;}#sk-f04c13d9-a99f-42df-ab3b-cc7e1b008deb div.sk-label-container {position: relative;z-index: 2;text-align: center;}#sk-f04c13d9-a99f-42df-ab3b-cc7e1b008deb div.sk-container {/* jupyter's `normalize.less` sets `[hidden] { display: none; }` but bootstrap.min.css set `[hidden] { display: none !important; }` so we also need the `!important` here to be able to override the default hidden behavior on the sphinx rendered scikit-learn.org. See: https://github.com/scikit-learn/scikit-learn/issues/21755 */display: inline-block !important;position: relative;}#sk-f04c13d9-a99f-42df-ab3b-cc7e1b008deb div.sk-text-repr-fallback {display: none;}</style><div id=\"sk-f04c13d9-a99f-42df-ab3b-cc7e1b008deb\" class=\"sk-top-container\"><div class=\"sk-text-repr-fallback\"><pre>AdaBoostClassifier(base_estimator=AdaBoostClassifier(), learning_rate=0.6,\n",
       "                   n_estimators=10)</pre><b>Please rerun this cell to show the HTML repr or trust the notebook.</b></div><div class=\"sk-container\" hidden><div class=\"sk-item sk-dashed-wrapped\"><div class=\"sk-label-container\"><div class=\"sk-label sk-toggleable\"><input class=\"sk-toggleable__control sk-hidden--visually\" id=\"77fb5247-41e3-4ae9-a7ca-3b742fb46a6a\" type=\"checkbox\" ><label for=\"77fb5247-41e3-4ae9-a7ca-3b742fb46a6a\" class=\"sk-toggleable__label sk-toggleable__label-arrow\">AdaBoostClassifier</label><div class=\"sk-toggleable__content\"><pre>AdaBoostClassifier(base_estimator=AdaBoostClassifier(), learning_rate=0.6,\n",
       "                   n_estimators=10)</pre></div></div></div><div class=\"sk-parallel\"><div class=\"sk-parallel-item\"><div class=\"sk-item\"><div class=\"sk-serial\"><div class=\"sk-item\"><div class=\"sk-estimator sk-toggleable\"><input class=\"sk-toggleable__control sk-hidden--visually\" id=\"839e5669-0f66-4b8d-9b3e-6ec260a8dafe\" type=\"checkbox\" ><label for=\"839e5669-0f66-4b8d-9b3e-6ec260a8dafe\" class=\"sk-toggleable__label sk-toggleable__label-arrow\">AdaBoostClassifier</label><div class=\"sk-toggleable__content\"><pre>AdaBoostClassifier()</pre></div></div></div></div></div></div></div></div></div></div>"
      ],
      "text/plain": [
       "AdaBoostClassifier(base_estimator=AdaBoostClassifier(), learning_rate=0.6,\n",
       "                   n_estimators=10)"
      ]
     },
     "execution_count": 86,
     "metadata": {},
     "output_type": "execute_result"
    }
   ],
   "source": [
    "best_ada.fit(X_train, y_train)"
   ]
  },
  {
   "cell_type": "code",
   "execution_count": 87,
   "id": "103abea9",
   "metadata": {},
   "outputs": [
    {
     "data": {
      "text/plain": [
       "array([0, 0, 0, 0, 0, 0, 0, 0, 0, 0, 0, 0, 1, 0, 1, 0, 0, 1, 1, 0, 0, 0,\n",
       "       0, 1, 0, 0, 0, 1, 1, 0, 1, 0, 0, 0, 0, 0, 0, 0, 0, 0, 1, 0, 0, 1,\n",
       "       1, 0, 1, 1, 0, 1, 1, 0, 0, 0, 1, 0, 0, 1, 0, 0, 1, 0, 1, 0, 0, 0,\n",
       "       1, 1, 0, 1, 0])"
      ]
     },
     "execution_count": 87,
     "metadata": {},
     "output_type": "execute_result"
    }
   ],
   "source": [
    "# Predictions on the test set\n",
    "y_ada_pred = best_ada.predict(X_test)\n",
    "y_ada_pred"
   ]
  },
  {
   "cell_type": "code",
   "execution_count": 88,
   "id": "4e03e289",
   "metadata": {},
   "outputs": [
    {
     "data": {
      "text/plain": [
       "(0.5862068965517241, 0.7727272727272727, 0.7605633802816901)"
      ]
     },
     "execution_count": 88,
     "metadata": {},
     "output_type": "execute_result"
    }
   ],
   "source": [
    "# Scores\n",
    "ada_score = recall_score(y_test, y_ada_pred), precision_score(y_test, y_ada_pred), accuracy_score(y_test, y_ada_pred)\n",
    "ada_score"
   ]
  },
  {
   "cell_type": "markdown",
   "id": "5d1ed483",
   "metadata": {},
   "source": [
    "# XGBoost\n",
    "\n",
    "- Sequential method\n",
    "- Reduce bias\n",
    "- Best weak learners given more weight"
   ]
  },
  {
   "cell_type": "code",
   "execution_count": null,
   "id": "5d03fbb9",
   "metadata": {},
   "outputs": [],
   "source": [
    "# # Instantiating classifier\n",
    "# xgb_cl = xgb.XGBClassifier(objective=\"binary:logistic\", eval_metric = 'error')\n",
    "\n",
    "# # Fit\n",
    "# xgb_cl.fit(X_train, y_train)\n",
    "\n",
    "# # Predict\n",
    "# preds = xgb_cl.predict(X_test)\n",
    "\n",
    "# # Score\n",
    "# recall_score(y_test, preds)"
   ]
  },
  {
   "cell_type": "markdown",
   "id": "31b5245f",
   "metadata": {},
   "source": [
    "### Grid Searching"
   ]
  },
  {
   "cell_type": "code",
   "execution_count": null,
   "id": "5a84f4f1",
   "metadata": {},
   "outputs": [],
   "source": [
    "# param_grid = {\n",
    "#     \"max_depth\": [3, 4, 5, 7],\n",
    "#     \"learning_rate\": [0.1, 0.01, 0.05],\n",
    "#     \"gamma\": [0, 0.25, 1],\n",
    "#     \"reg_lambda\": [0, 1, 10],\n",
    "#     \"scale_pos_weight\": [1, 3, 5],\n",
    "#     \"subsample\": [0.8],\n",
    "#     \"colsample_bytree\": [0.5],\n",
    "# }"
   ]
  },
  {
   "cell_type": "code",
   "execution_count": null,
   "id": "d1b2476e",
   "metadata": {},
   "outputs": [],
   "source": [
    "# grid_cv = GridSearchCV(xgb_cl, \n",
    "#                        param_grid, \n",
    "#                        n_jobs=-1, \n",
    "#                        cv=3, \n",
    "#                        scoring=\"recall\")"
   ]
  },
  {
   "cell_type": "code",
   "execution_count": null,
   "id": "420565de",
   "metadata": {},
   "outputs": [],
   "source": [
    "# best_xgb = grid_cv.best_estimator_"
   ]
  },
  {
   "cell_type": "code",
   "execution_count": null,
   "id": "d0432580",
   "metadata": {},
   "outputs": [],
   "source": [
    "# best_xgb.fit(X_train, y_train)"
   ]
  },
  {
   "cell_type": "code",
   "execution_count": null,
   "id": "85c9a2e9",
   "metadata": {},
   "outputs": [],
   "source": [
    "# # Predict\n",
    "# best_xgb_pred = best_xgb.predict(X_test)\n",
    "\n",
    "# # Score\n",
    "# recall_score(y_test, best_xgb_pred)"
   ]
  },
  {
   "cell_type": "markdown",
   "id": "c03028a9",
   "metadata": {},
   "source": [
    "# Exporting Data"
   ]
  },
  {
   "cell_type": "code",
   "execution_count": null,
   "id": "c3ac7ebf",
   "metadata": {},
   "outputs": [],
   "source": [
    "X_scaled = preprocessor.fit_transform(X).reset_index(drop=True)\n",
    "X_scaled"
   ]
  },
  {
   "cell_type": "code",
   "execution_count": null,
   "id": "c3b2d0d3",
   "metadata": {},
   "outputs": [],
   "source": [
    "frames = [X_scaled, y]\n",
    "preprocessed_oasis1 = pd.concat(frames, axis =1)"
   ]
  },
  {
   "cell_type": "code",
   "execution_count": null,
   "id": "765293d6",
   "metadata": {},
   "outputs": [],
   "source": [
    "#preprocessed_oasis1.to_csv(r'~/code/mkvph0ch/memobrain/notebooks/preprocessed_oasis1.csv')"
   ]
  },
  {
   "cell_type": "markdown",
   "id": "afeac347",
   "metadata": {},
   "source": [
    "# Recall Scores"
   ]
  },
  {
   "cell_type": "code",
   "execution_count": 89,
   "id": "0f4cf7b3",
   "metadata": {},
   "outputs": [
    {
     "name": "stdout",
     "output_type": "stream",
     "text": [
      "RECALL, PRECISION, ACCURACY\n"
     ]
    },
    {
     "data": {
      "text/plain": [
       "((0.7586206896551724, 0.7857142857142857, 0.8169014084507042),\n",
       " (0.7241379310344828, 0.7241379310344828, 0.7746478873239436),\n",
       " (0.7241379310344828, 0.75, 0.7887323943661971),\n",
       " (0.7241379310344828, 0.7241379310344828, 0.7746478873239436),\n",
       " (0.7241379310344828, 0.75, 0.7887323943661971),\n",
       " (0.8275862068965517, 0.8, 0.8450704225352113),\n",
       " (0.5862068965517241, 0.7727272727272727, 0.7605633802816901))"
      ]
     },
     "execution_count": 89,
     "metadata": {},
     "output_type": "execute_result"
    },
    {
     "name": "stdout",
     "output_type": "stream",
     "text": [
      "[CV] END bootstrap=True, max_depth=50, max_features=sqrt, min_samples_leaf=2, min_samples_split=10, n_estimators=200; total time=   0.5s\n",
      "[CV] END bootstrap=False, max_depth=60, max_features=auto, min_samples_leaf=2, min_samples_split=2, n_estimators=600; total time=   1.1s\n",
      "[CV] END bootstrap=True, max_depth=30, max_features=sqrt, min_samples_leaf=1, min_samples_split=5, n_estimators=1400; total time=   3.0s\n",
      "[CV] END bootstrap=False, max_depth=60, max_features=sqrt, min_samples_leaf=1, min_samples_split=10, n_estimators=400; total time=   0.7s\n",
      "[CV] END bootstrap=False, max_depth=50, max_features=auto, min_samples_leaf=2, min_samples_split=2, n_estimators=2000; total time=   3.5s\n",
      "[CV] END bootstrap=True, max_depth=50, max_features=auto, min_samples_leaf=2, min_samples_split=5, n_estimators=2000; total time=   4.3s\n",
      "[CV] END bootstrap=True, max_depth=70, max_features=sqrt, min_samples_leaf=1, min_samples_split=5, n_estimators=1000; total time=   2.2s\n",
      "[CV] END bootstrap=False, max_depth=70, max_features=sqrt, min_samples_leaf=2, min_samples_split=10, n_estimators=1200; total time=   2.0s\n",
      "[CV] END bootstrap=False, max_depth=50, max_features=auto, min_samples_leaf=1, min_samples_split=10, n_estimators=1000; total time=   1.7s\n",
      "[CV] END bootstrap=True, max_depth=30, max_features=sqrt, min_samples_leaf=1, min_samples_split=10, n_estimators=1000; total time=   2.1s\n",
      "[CV] END bootstrap=False, max_depth=30, max_features=auto, min_samples_leaf=2, min_samples_split=2, n_estimators=1800; total time=   3.1s\n",
      "[CV] END bootstrap=False, max_depth=90, max_features=sqrt, min_samples_leaf=4, min_samples_split=10, n_estimators=600; total time=   1.0s\n",
      "[CV] END bootstrap=False, max_depth=60, max_features=auto, min_samples_leaf=2, min_samples_split=2, n_estimators=600; total time=   1.1s\n",
      "[CV] END bootstrap=False, max_depth=80, max_features=auto, min_samples_leaf=1, min_samples_split=10, n_estimators=1000; total time=   1.7s\n",
      "[CV] END bootstrap=False, max_depth=60, max_features=sqrt, min_samples_leaf=1, min_samples_split=10, n_estimators=400; total time=   0.7s\n",
      "[CV] END bootstrap=False, max_depth=60, max_features=sqrt, min_samples_leaf=1, min_samples_split=10, n_estimators=400; total time=   0.7s\n",
      "[CV] END bootstrap=False, max_depth=50, max_features=auto, min_samples_leaf=2, min_samples_split=2, n_estimators=2000; total time=   3.5s\n",
      "[CV] END bootstrap=True, max_depth=50, max_features=auto, min_samples_leaf=2, min_samples_split=5, n_estimators=2000; total time=   4.4s\n",
      "[CV] END bootstrap=True, max_depth=70, max_features=sqrt, min_samples_leaf=1, min_samples_split=5, n_estimators=1000; total time=   2.2s\n",
      "[CV] END bootstrap=False, max_depth=110, max_features=sqrt, min_samples_leaf=4, min_samples_split=2, n_estimators=1600; total time=   2.8s\n",
      "[CV] END bootstrap=False, max_depth=50, max_features=auto, min_samples_leaf=1, min_samples_split=10, n_estimators=1000; total time=   1.7s\n",
      "[CV] END bootstrap=True, max_depth=70, max_features=auto, min_samples_leaf=1, min_samples_split=2, n_estimators=600; total time=   1.3s\n",
      "[CV] END bootstrap=False, max_depth=30, max_features=auto, min_samples_leaf=2, min_samples_split=2, n_estimators=1800; total time=   3.1s\n",
      "[CV] END bootstrap=True, max_depth=50, max_features=sqrt, min_samples_leaf=2, min_samples_split=10, n_estimators=200; total time=   0.5s\n",
      "[CV] END bootstrap=False, max_depth=60, max_features=auto, min_samples_leaf=2, min_samples_split=2, n_estimators=600; total time=   1.1s\n",
      "[CV] END bootstrap=True, max_depth=30, max_features=sqrt, min_samples_leaf=1, min_samples_split=5, n_estimators=1400; total time=   3.1s\n",
      "[CV] END bootstrap=False, max_depth=50, max_features=auto, min_samples_leaf=2, min_samples_split=2, n_estimators=2000; total time=   3.5s\n",
      "[CV] END bootstrap=True, max_depth=100, max_features=auto, min_samples_leaf=4, min_samples_split=2, n_estimators=1200; total time=   2.6s\n",
      "[CV] END bootstrap=False, max_depth=20, max_features=auto, min_samples_leaf=2, min_samples_split=10, n_estimators=400; total time=   0.7s\n",
      "[CV] END bootstrap=False, max_depth=20, max_features=sqrt, min_samples_leaf=1, min_samples_split=2, n_estimators=800; total time=   1.4s\n",
      "[CV] END bootstrap=False, max_depth=20, max_features=sqrt, min_samples_leaf=1, min_samples_split=2, n_estimators=800; total time=   1.4s\n",
      "[CV] END bootstrap=False, max_depth=70, max_features=sqrt, min_samples_leaf=2, min_samples_split=10, n_estimators=1200; total time=   2.0s\n",
      "[CV] END bootstrap=False, max_depth=110, max_features=sqrt, min_samples_leaf=4, min_samples_split=2, n_estimators=1600; total time=   2.7s\n",
      "[CV] END bootstrap=True, max_depth=30, max_features=sqrt, min_samples_leaf=1, min_samples_split=10, n_estimators=1000; total time=   2.2s\n",
      "[CV] END bootstrap=False, max_depth=30, max_features=auto, min_samples_leaf=2, min_samples_split=2, n_estimators=1800; total time=   3.1s\n",
      "[CV] END bootstrap=True, max_depth=50, max_features=sqrt, min_samples_leaf=2, min_samples_split=10, n_estimators=200; total time=   0.5s\n",
      "[CV] END bootstrap=False, max_depth=60, max_features=auto, min_samples_leaf=2, min_samples_split=2, n_estimators=600; total time=   1.1s\n",
      "[CV] END bootstrap=False, max_depth=80, max_features=auto, min_samples_leaf=1, min_samples_split=10, n_estimators=1000; total time=   1.8s\n",
      "[CV] END bootstrap=False, max_depth=80, max_features=auto, min_samples_leaf=1, min_samples_split=10, n_estimators=1000; total time=   1.9s\n",
      "[CV] END bootstrap=True, max_depth=10, max_features=sqrt, min_samples_leaf=2, min_samples_split=5, n_estimators=200; total time=   0.5s\n",
      "[CV] END bootstrap=True, max_depth=10, max_features=sqrt, min_samples_leaf=2, min_samples_split=5, n_estimators=200; total time=   0.5s\n",
      "[CV] END bootstrap=True, max_depth=100, max_features=auto, min_samples_leaf=4, min_samples_split=2, n_estimators=1200; total time=   2.8s\n",
      "[CV] END bootstrap=False, max_depth=20, max_features=auto, min_samples_leaf=2, min_samples_split=10, n_estimators=400; total time=   0.7s\n",
      "[CV] END bootstrap=False, max_depth=20, max_features=auto, min_samples_leaf=2, min_samples_split=10, n_estimators=400; total time=   0.7s\n",
      "[CV] END bootstrap=False, max_depth=20, max_features=auto, min_samples_leaf=2, min_samples_split=10, n_estimators=400; total time=   0.7s\n",
      "[CV] END bootstrap=False, max_depth=20, max_features=sqrt, min_samples_leaf=1, min_samples_split=2, n_estimators=800; total time=   1.5s\n",
      "[CV] END bootstrap=False, max_depth=20, max_features=sqrt, min_samples_leaf=1, min_samples_split=2, n_estimators=800; total time=   1.5s\n",
      "[CV] END bootstrap=False, max_depth=70, max_features=sqrt, min_samples_leaf=2, min_samples_split=10, n_estimators=1200; total time=   2.2s\n",
      "[CV] END bootstrap=False, max_depth=50, max_features=auto, min_samples_leaf=1, min_samples_split=10, n_estimators=1000; total time=   1.8s\n",
      "[CV] END bootstrap=True, max_depth=30, max_features=sqrt, min_samples_leaf=1, min_samples_split=10, n_estimators=1000; total time=   2.4s\n",
      "[CV] END bootstrap=False, max_depth=30, max_features=auto, min_samples_leaf=2, min_samples_split=2, n_estimators=1800; total time=   3.3s\n",
      "[CV] END bootstrap=True, max_depth=None, max_features=auto, min_samples_leaf=4, min_samples_split=2, n_estimators=1600; total time=   2.0s\n",
      "[CV] END bootstrap=False, max_depth=90, max_features=sqrt, min_samples_leaf=4, min_samples_split=10, n_estimators=600; total time=   1.1s\n",
      "[CV] END bootstrap=True, max_depth=30, max_features=sqrt, min_samples_leaf=1, min_samples_split=5, n_estimators=1400; total time=   3.4s\n",
      "[CV] END bootstrap=False, max_depth=60, max_features=sqrt, min_samples_leaf=1, min_samples_split=10, n_estimators=400; total time=   0.8s\n",
      "[CV] END bootstrap=False, max_depth=50, max_features=auto, min_samples_leaf=2, min_samples_split=2, n_estimators=2000; total time=   3.7s\n",
      "[CV] END bootstrap=True, max_depth=50, max_features=auto, min_samples_leaf=2, min_samples_split=5, n_estimators=2000; total time=   4.7s\n",
      "[CV] END bootstrap=False, max_depth=70, max_features=sqrt, min_samples_leaf=2, min_samples_split=10, n_estimators=1200; total time=   2.1s\n",
      "[CV] END bootstrap=False, max_depth=110, max_features=sqrt, min_samples_leaf=4, min_samples_split=2, n_estimators=1600; total time=   2.9s\n",
      "[CV] END bootstrap=True, max_depth=30, max_features=sqrt, min_samples_leaf=1, min_samples_split=10, n_estimators=1000; total time=   2.3s\n",
      "[CV] END bootstrap=False, max_depth=30, max_features=auto, min_samples_leaf=2, min_samples_split=2, n_estimators=1800; total time=   3.3s\n",
      "[CV] END bootstrap=True, max_depth=None, max_features=auto, min_samples_leaf=4, min_samples_split=2, n_estimators=1600; total time=   2.0s\n",
      "[CV] END bootstrap=True, max_depth=50, max_features=sqrt, min_samples_leaf=2, min_samples_split=10, n_estimators=200; total time=   0.4s\n",
      "[CV] END bootstrap=False, max_depth=90, max_features=sqrt, min_samples_leaf=4, min_samples_split=10, n_estimators=600; total time=   1.1s\n",
      "[CV] END bootstrap=True, max_depth=30, max_features=sqrt, min_samples_leaf=1, min_samples_split=5, n_estimators=1400; total time=   3.0s\n",
      "[CV] END bootstrap=False, max_depth=60, max_features=sqrt, min_samples_leaf=1, min_samples_split=10, n_estimators=400; total time=   0.7s\n",
      "[CV] END bootstrap=True, max_depth=10, max_features=sqrt, min_samples_leaf=2, min_samples_split=5, n_estimators=200; total time=   0.4s\n",
      "[CV] END bootstrap=True, max_depth=10, max_features=sqrt, min_samples_leaf=2, min_samples_split=5, n_estimators=200; total time=   0.4s\n",
      "[CV] END bootstrap=True, max_depth=100, max_features=auto, min_samples_leaf=4, min_samples_split=2, n_estimators=1200; total time=   2.6s\n",
      "[CV] END bootstrap=True, max_depth=50, max_features=auto, min_samples_leaf=2, min_samples_split=5, n_estimators=2000; total time=   4.4s\n",
      "[CV] END bootstrap=True, max_depth=70, max_features=sqrt, min_samples_leaf=1, min_samples_split=5, n_estimators=1000; total time=   2.2s\n",
      "[CV] END bootstrap=False, max_depth=110, max_features=sqrt, min_samples_leaf=4, min_samples_split=2, n_estimators=1600; total time=   2.8s\n",
      "[CV] END bootstrap=True, max_depth=30, max_features=sqrt, min_samples_leaf=1, min_samples_split=10, n_estimators=1000; total time=   2.1s\n",
      "[CV] END bootstrap=True, max_depth=70, max_features=auto, min_samples_leaf=1, min_samples_split=2, n_estimators=600; total time=   1.3s\n",
      "[CV] END bootstrap=True, max_depth=None, max_features=auto, min_samples_leaf=4, min_samples_split=2, n_estimators=1600; total time=   3.2s\n"
     ]
    },
    {
     "name": "stdout",
     "output_type": "stream",
     "text": [
      "[CV] END bootstrap=True, max_depth=50, max_features=sqrt, min_samples_leaf=2, min_samples_split=10, n_estimators=200; total time=   0.4s\n",
      "[CV] END bootstrap=False, max_depth=90, max_features=sqrt, min_samples_leaf=4, min_samples_split=10, n_estimators=600; total time=   1.1s\n",
      "[CV] END bootstrap=True, max_depth=30, max_features=sqrt, min_samples_leaf=1, min_samples_split=5, n_estimators=1400; total time=   3.2s\n",
      "[CV] END bootstrap=False, max_depth=50, max_features=auto, min_samples_leaf=2, min_samples_split=2, n_estimators=2000; total time=   3.6s\n",
      "[CV] END bootstrap=True, max_depth=100, max_features=auto, min_samples_leaf=4, min_samples_split=2, n_estimators=1200; total time=   2.7s\n",
      "[CV] END bootstrap=False, max_depth=20, max_features=auto, min_samples_leaf=2, min_samples_split=10, n_estimators=400; total time=   0.7s\n",
      "[CV] END bootstrap=False, max_depth=20, max_features=sqrt, min_samples_leaf=1, min_samples_split=2, n_estimators=800; total time=   1.4s\n",
      "[CV] END bootstrap=True, max_depth=70, max_features=sqrt, min_samples_leaf=1, min_samples_split=5, n_estimators=1000; total time=   2.2s\n",
      "[CV] END bootstrap=False, max_depth=110, max_features=sqrt, min_samples_leaf=4, min_samples_split=2, n_estimators=1600; total time=   2.8s\n",
      "[CV] END bootstrap=False, max_depth=50, max_features=auto, min_samples_leaf=1, min_samples_split=10, n_estimators=1000; total time=   1.8s\n",
      "[CV] END bootstrap=True, max_depth=70, max_features=auto, min_samples_leaf=1, min_samples_split=2, n_estimators=600; total time=   1.4s\n",
      "[CV] END bootstrap=True, max_depth=None, max_features=auto, min_samples_leaf=4, min_samples_split=2, n_estimators=1600; total time=   3.4s\n",
      "[CV] END bootstrap=False, max_depth=90, max_features=sqrt, min_samples_leaf=4, min_samples_split=10, n_estimators=600; total time=   1.0s\n",
      "[CV] END bootstrap=False, max_depth=60, max_features=auto, min_samples_leaf=2, min_samples_split=2, n_estimators=600; total time=   1.1s\n",
      "[CV] END bootstrap=False, max_depth=80, max_features=auto, min_samples_leaf=1, min_samples_split=10, n_estimators=1000; total time=   1.7s\n",
      "[CV] END bootstrap=False, max_depth=80, max_features=auto, min_samples_leaf=1, min_samples_split=10, n_estimators=1000; total time=   1.7s\n",
      "[CV] END bootstrap=True, max_depth=10, max_features=sqrt, min_samples_leaf=2, min_samples_split=5, n_estimators=200; total time=   0.4s\n",
      "[CV] END bootstrap=True, max_depth=100, max_features=auto, min_samples_leaf=4, min_samples_split=2, n_estimators=1200; total time=   2.6s\n",
      "[CV] END bootstrap=True, max_depth=50, max_features=auto, min_samples_leaf=2, min_samples_split=5, n_estimators=2000; total time=   4.4s\n",
      "[CV] END bootstrap=True, max_depth=70, max_features=sqrt, min_samples_leaf=1, min_samples_split=5, n_estimators=1000; total time=   2.2s\n",
      "[CV] END bootstrap=False, max_depth=70, max_features=sqrt, min_samples_leaf=2, min_samples_split=10, n_estimators=1200; total time=   2.1s\n",
      "[CV] END bootstrap=False, max_depth=50, max_features=auto, min_samples_leaf=1, min_samples_split=10, n_estimators=1000; total time=   1.7s\n",
      "[CV] END bootstrap=True, max_depth=70, max_features=auto, min_samples_leaf=1, min_samples_split=2, n_estimators=600; total time=   1.3s\n",
      "[CV] END bootstrap=True, max_depth=70, max_features=auto, min_samples_leaf=1, min_samples_split=2, n_estimators=600; total time=   1.3s\n",
      "[CV] END bootstrap=True, max_depth=None, max_features=auto, min_samples_leaf=4, min_samples_split=2, n_estimators=1600; total time=   3.3s\n"
     ]
    }
   ],
   "source": [
    "print(\"RECALL, PRECISION, ACCURACY\")\n",
    "(SVC_linear_score, SVC_poly_score, SVC_rbf_score, neigh_score, tree_score, forest_score, ada_score)"
   ]
  },
  {
   "cell_type": "markdown",
   "id": "a36d41ea",
   "metadata": {},
   "source": [
    "<big> <b> Model names </b> </big>\n",
    "\n",
    "<big> <font color = 'steelblue'> SVC </color> </big>\n",
    "\n",
    "Linear: best_linear_svc - 78.2\n",
    "\n",
    "\n",
    "Polynomial: best_poly_svc - 69.6 \n",
    "    \n",
    "\n",
    "Rbf: best_rbf_svc - 82.6  \n",
    "\n",
    "\n",
    "<big> <font color = 'steelblue'> K Neighbors Classifier </color> <big>\n",
    "\n",
    "best_neigh - 65.0\n",
    "\n",
    "<big> <font color = 'steelblue'> Decision Tree </color> </big>\n",
    "    \n",
    "best_tree - 78.3\n"
   ]
  },
  {
   "cell_type": "markdown",
   "id": "aca04f15",
   "metadata": {},
   "source": [
    "# Evaluating OASIS2"
   ]
  },
  {
   "cell_type": "markdown",
   "id": "bf5b9c02",
   "metadata": {},
   "source": [
    "## Importing Data"
   ]
  },
  {
   "cell_type": "code",
   "execution_count": 90,
   "id": "8866a6b8",
   "metadata": {},
   "outputs": [],
   "source": [
    "oasis2_cs_path = '../raw_data/OASIS2/preprocessed_oasis2.csv'\n",
    "oasis2 = pd.read_csv(oasis2_cs_path)"
   ]
  },
  {
   "cell_type": "code",
   "execution_count": 92,
   "id": "109c2fc8",
   "metadata": {},
   "outputs": [
    {
     "data": {
      "text/html": [
       "<div>\n",
       "<style scoped>\n",
       "    .dataframe tbody tr th:only-of-type {\n",
       "        vertical-align: middle;\n",
       "    }\n",
       "\n",
       "    .dataframe tbody tr th {\n",
       "        vertical-align: top;\n",
       "    }\n",
       "\n",
       "    .dataframe thead th {\n",
       "        text-align: right;\n",
       "    }\n",
       "</style>\n",
       "<table border=\"1\" class=\"dataframe\">\n",
       "  <thead>\n",
       "    <tr style=\"text-align: right;\">\n",
       "      <th></th>\n",
       "      <th>num_transformer__standard_scaler__Age</th>\n",
       "      <th>num_transformer__robust_scaler__eTIV</th>\n",
       "      <th>num_transformer__robust_scaler__MMSE</th>\n",
       "      <th>num_transformer__minmax_scaler__Educ</th>\n",
       "      <th>num_transformer__minmax_scaler__SES</th>\n",
       "      <th>num_transformer__remainder__nWBV</th>\n",
       "      <th>num_transformer__remainder__ASF</th>\n",
       "      <th>cat_transformer__ohe_binary__M/F_M</th>\n",
       "      <th>CDR</th>\n",
       "    </tr>\n",
       "  </thead>\n",
       "  <tbody>\n",
       "    <tr>\n",
       "      <th>0</th>\n",
       "      <td>1.308738</td>\n",
       "      <td>2.154167</td>\n",
       "      <td>-0.666667</td>\n",
       "      <td>0.470588</td>\n",
       "      <td>0.25</td>\n",
       "      <td>0.696</td>\n",
       "      <td>0.883</td>\n",
       "      <td>1</td>\n",
       "      <td>0</td>\n",
       "    </tr>\n",
       "    <tr>\n",
       "      <th>1</th>\n",
       "      <td>1.439787</td>\n",
       "      <td>2.225000</td>\n",
       "      <td>0.333333</td>\n",
       "      <td>0.470588</td>\n",
       "      <td>0.25</td>\n",
       "      <td>0.681</td>\n",
       "      <td>0.876</td>\n",
       "      <td>1</td>\n",
       "      <td>0</td>\n",
       "    </tr>\n",
       "    <tr>\n",
       "      <th>2</th>\n",
       "      <td>-0.263856</td>\n",
       "      <td>0.866667</td>\n",
       "      <td>-2.000000</td>\n",
       "      <td>0.352941</td>\n",
       "      <td>0.25</td>\n",
       "      <td>0.736</td>\n",
       "      <td>1.046</td>\n",
       "      <td>1</td>\n",
       "      <td>1</td>\n",
       "    </tr>\n",
       "    <tr>\n",
       "      <th>3</th>\n",
       "      <td>-0.132806</td>\n",
       "      <td>1.116667</td>\n",
       "      <td>-0.333333</td>\n",
       "      <td>0.352941</td>\n",
       "      <td>0.25</td>\n",
       "      <td>0.713</td>\n",
       "      <td>1.010</td>\n",
       "      <td>1</td>\n",
       "      <td>1</td>\n",
       "    </tr>\n",
       "    <tr>\n",
       "      <th>4</th>\n",
       "      <td>0.391392</td>\n",
       "      <td>0.950000</td>\n",
       "      <td>-2.333333</td>\n",
       "      <td>0.352941</td>\n",
       "      <td>0.25</td>\n",
       "      <td>0.701</td>\n",
       "      <td>1.034</td>\n",
       "      <td>1</td>\n",
       "      <td>1</td>\n",
       "    </tr>\n",
       "    <tr>\n",
       "      <th>...</th>\n",
       "      <td>...</td>\n",
       "      <td>...</td>\n",
       "      <td>...</td>\n",
       "      <td>...</td>\n",
       "      <td>...</td>\n",
       "      <td>...</td>\n",
       "      <td>...</td>\n",
       "      <td>...</td>\n",
       "      <td>...</td>\n",
       "    </tr>\n",
       "    <tr>\n",
       "      <th>368</th>\n",
       "      <td>0.653491</td>\n",
       "      <td>0.929167</td>\n",
       "      <td>-0.333333</td>\n",
       "      <td>0.588235</td>\n",
       "      <td>0.00</td>\n",
       "      <td>0.694</td>\n",
       "      <td>1.037</td>\n",
       "      <td>1</td>\n",
       "      <td>1</td>\n",
       "    </tr>\n",
       "    <tr>\n",
       "      <th>369</th>\n",
       "      <td>1.177688</td>\n",
       "      <td>0.908333</td>\n",
       "      <td>-1.000000</td>\n",
       "      <td>0.588235</td>\n",
       "      <td>0.00</td>\n",
       "      <td>0.675</td>\n",
       "      <td>1.040</td>\n",
       "      <td>1</td>\n",
       "      <td>1</td>\n",
       "    </tr>\n",
       "    <tr>\n",
       "      <th>370</th>\n",
       "      <td>-2.098548</td>\n",
       "      <td>-0.629167</td>\n",
       "      <td>0.333333</td>\n",
       "      <td>0.411765</td>\n",
       "      <td>0.25</td>\n",
       "      <td>0.801</td>\n",
       "      <td>1.331</td>\n",
       "      <td>0</td>\n",
       "      <td>0</td>\n",
       "    </tr>\n",
       "    <tr>\n",
       "      <th>371</th>\n",
       "      <td>-1.836449</td>\n",
       "      <td>-0.595833</td>\n",
       "      <td>0.333333</td>\n",
       "      <td>0.411765</td>\n",
       "      <td>0.25</td>\n",
       "      <td>0.796</td>\n",
       "      <td>1.323</td>\n",
       "      <td>0</td>\n",
       "      <td>0</td>\n",
       "    </tr>\n",
       "    <tr>\n",
       "      <th>372</th>\n",
       "      <td>-1.574350</td>\n",
       "      <td>-0.570833</td>\n",
       "      <td>0.333333</td>\n",
       "      <td>0.411765</td>\n",
       "      <td>0.25</td>\n",
       "      <td>0.801</td>\n",
       "      <td>1.317</td>\n",
       "      <td>0</td>\n",
       "      <td>0</td>\n",
       "    </tr>\n",
       "  </tbody>\n",
       "</table>\n",
       "<p>373 rows × 9 columns</p>\n",
       "</div>"
      ],
      "text/plain": [
       "     num_transformer__standard_scaler__Age  \\\n",
       "0                                 1.308738   \n",
       "1                                 1.439787   \n",
       "2                                -0.263856   \n",
       "3                                -0.132806   \n",
       "4                                 0.391392   \n",
       "..                                     ...   \n",
       "368                               0.653491   \n",
       "369                               1.177688   \n",
       "370                              -2.098548   \n",
       "371                              -1.836449   \n",
       "372                              -1.574350   \n",
       "\n",
       "     num_transformer__robust_scaler__eTIV  \\\n",
       "0                                2.154167   \n",
       "1                                2.225000   \n",
       "2                                0.866667   \n",
       "3                                1.116667   \n",
       "4                                0.950000   \n",
       "..                                    ...   \n",
       "368                              0.929167   \n",
       "369                              0.908333   \n",
       "370                             -0.629167   \n",
       "371                             -0.595833   \n",
       "372                             -0.570833   \n",
       "\n",
       "     num_transformer__robust_scaler__MMSE  \\\n",
       "0                               -0.666667   \n",
       "1                                0.333333   \n",
       "2                               -2.000000   \n",
       "3                               -0.333333   \n",
       "4                               -2.333333   \n",
       "..                                    ...   \n",
       "368                             -0.333333   \n",
       "369                             -1.000000   \n",
       "370                              0.333333   \n",
       "371                              0.333333   \n",
       "372                              0.333333   \n",
       "\n",
       "     num_transformer__minmax_scaler__Educ  \\\n",
       "0                                0.470588   \n",
       "1                                0.470588   \n",
       "2                                0.352941   \n",
       "3                                0.352941   \n",
       "4                                0.352941   \n",
       "..                                    ...   \n",
       "368                              0.588235   \n",
       "369                              0.588235   \n",
       "370                              0.411765   \n",
       "371                              0.411765   \n",
       "372                              0.411765   \n",
       "\n",
       "     num_transformer__minmax_scaler__SES  num_transformer__remainder__nWBV  \\\n",
       "0                                   0.25                             0.696   \n",
       "1                                   0.25                             0.681   \n",
       "2                                   0.25                             0.736   \n",
       "3                                   0.25                             0.713   \n",
       "4                                   0.25                             0.701   \n",
       "..                                   ...                               ...   \n",
       "368                                 0.00                             0.694   \n",
       "369                                 0.00                             0.675   \n",
       "370                                 0.25                             0.801   \n",
       "371                                 0.25                             0.796   \n",
       "372                                 0.25                             0.801   \n",
       "\n",
       "     num_transformer__remainder__ASF  cat_transformer__ohe_binary__M/F_M  CDR  \n",
       "0                              0.883                                   1    0  \n",
       "1                              0.876                                   1    0  \n",
       "2                              1.046                                   1    1  \n",
       "3                              1.010                                   1    1  \n",
       "4                              1.034                                   1    1  \n",
       "..                               ...                                 ...  ...  \n",
       "368                            1.037                                   1    1  \n",
       "369                            1.040                                   1    1  \n",
       "370                            1.331                                   0    0  \n",
       "371                            1.323                                   0    0  \n",
       "372                            1.317                                   0    0  \n",
       "\n",
       "[373 rows x 9 columns]"
      ]
     },
     "execution_count": 92,
     "metadata": {},
     "output_type": "execute_result"
    }
   ],
   "source": [
    "oasis2"
   ]
  },
  {
   "cell_type": "code",
   "execution_count": 93,
   "id": "11570d3f",
   "metadata": {},
   "outputs": [],
   "source": [
    "X2 = oasis2.drop(columns = 'CDR')\n",
    "y2 = oasis2['CDR']"
   ]
  },
  {
   "cell_type": "code",
   "execution_count": 94,
   "id": "c5bf4678",
   "metadata": {},
   "outputs": [],
   "source": [
    "X_train2, X_test2, ytrain2, y_test2 = train_test_split(X2, y2, test_size=0.30, random_state=42)"
   ]
  },
  {
   "cell_type": "markdown",
   "id": "53cefcf2",
   "metadata": {},
   "source": [
    "## Evaluating"
   ]
  },
  {
   "cell_type": "code",
   "execution_count": 95,
   "id": "103e7cf4",
   "metadata": {},
   "outputs": [
    {
     "data": {
      "text/plain": [
       "array([1, 1, 1, 1, 1, 0, 0, 0, 0, 0, 1, 1, 1, 0, 0, 0, 0, 0, 0, 0, 0, 0,\n",
       "       0, 0, 0, 1, 1, 1, 1, 0, 1, 0, 1, 0, 0, 1, 1, 1, 1, 1, 1, 0, 0, 1,\n",
       "       1, 1, 1, 0, 0, 0, 0, 1, 1, 0, 0, 0, 0, 0, 0, 1, 1, 1, 0, 0, 0, 0,\n",
       "       0, 0, 0, 0, 0, 0, 1, 0, 1, 1, 1, 1, 1, 0, 1, 0, 0, 0, 0, 0, 1, 1,\n",
       "       1, 1, 1, 0, 0, 1, 1, 0, 1, 1, 1, 1, 1, 1, 0, 0, 0, 1, 1, 0, 0, 0,\n",
       "       0, 1, 0, 0, 0, 1, 0, 0, 0, 0, 0, 0, 0, 0, 1, 0, 1, 1, 0, 0, 1, 0,\n",
       "       0, 0, 0, 1, 1, 1, 1, 0, 0, 0, 0, 1, 1, 0, 0, 0, 0, 1, 1, 1, 1, 1,\n",
       "       1, 1, 0, 0, 0, 0, 0, 1, 1, 0, 0, 0, 1, 1, 1, 1, 1, 1, 1, 1, 1, 1,\n",
       "       1, 1, 1, 0, 0, 0, 0, 1, 1, 1, 1, 0, 1, 0, 0, 0, 0, 0, 0, 1, 0, 0,\n",
       "       1, 1, 1, 0, 0, 1, 1, 0, 0, 1, 1, 0, 0, 0, 0, 0, 0, 1, 1, 1, 0, 0,\n",
       "       0, 1, 1, 0, 0, 1, 1, 1, 0, 0, 0, 1, 1, 1, 1, 1, 1, 1, 1, 1, 1, 0,\n",
       "       0, 0, 0, 0, 1, 0, 0, 0, 1, 1, 0, 0, 0, 0, 1, 1, 0, 0, 0, 1, 1, 1,\n",
       "       1, 1, 0, 0, 0, 0, 0, 0, 1, 0, 1, 0, 1, 1, 1, 1, 0, 0, 0, 0, 0, 1,\n",
       "       1, 1, 0, 0, 0, 0, 0, 0, 0, 1, 1, 0, 0, 1, 1, 0, 0, 0, 0, 0, 0, 0,\n",
       "       1, 0, 0, 0, 0, 1, 0, 0, 1, 1, 0, 0, 1, 1, 1, 1, 0, 0, 0, 1, 1, 1,\n",
       "       1, 1, 1, 0, 0, 0, 0, 0, 1, 1, 0, 0, 0, 1, 1, 1, 0, 0, 0, 0, 0, 0,\n",
       "       0, 0, 1, 1, 1, 0, 0, 1, 1, 0, 0, 0, 0, 1, 1, 1, 1, 1, 0, 0, 0])"
      ]
     },
     "execution_count": 95,
     "metadata": {},
     "output_type": "execute_result"
    }
   ],
   "source": [
    "best_pred = best_rf.predict(X2)\n",
    "best_pred"
   ]
  },
  {
   "cell_type": "code",
   "execution_count": 96,
   "id": "2fcfe320",
   "metadata": {},
   "outputs": [
    {
     "data": {
      "text/plain": [
       "0.8263473053892215"
      ]
     },
     "execution_count": 96,
     "metadata": {},
     "output_type": "execute_result"
    }
   ],
   "source": [
    "recall_score(y2, best_pred)"
   ]
  },
  {
   "cell_type": "code",
   "execution_count": null,
   "id": "0c3a3808",
   "metadata": {},
   "outputs": [],
   "source": []
  }
 ],
 "metadata": {
  "kernelspec": {
   "display_name": "Python 3 (ipykernel)",
   "language": "python",
   "name": "python3"
  },
  "language_info": {
   "codemirror_mode": {
    "name": "ipython",
    "version": 3
   },
   "file_extension": ".py",
   "mimetype": "text/x-python",
   "name": "python",
   "nbconvert_exporter": "python",
   "pygments_lexer": "ipython3",
   "version": "3.8.12"
  },
  "toc": {
   "base_numbering": 1,
   "nav_menu": {},
   "number_sections": true,
   "sideBar": true,
   "skip_h1_title": false,
   "title_cell": "Table of Contents",
   "title_sidebar": "Contents",
   "toc_cell": false,
   "toc_position": {
    "height": "calc(100% - 180px)",
    "left": "10px",
    "top": "150px",
    "width": "286.306px"
   },
   "toc_section_display": true,
   "toc_window_display": true
  }
 },
 "nbformat": 4,
 "nbformat_minor": 5
}
