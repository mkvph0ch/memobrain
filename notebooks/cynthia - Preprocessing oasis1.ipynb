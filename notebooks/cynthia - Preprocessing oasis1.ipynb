{
 "cells": [
  {
   "cell_type": "markdown",
   "id": "268b002b",
   "metadata": {},
   "source": [
    "# Preprocessing OASIS1"
   ]
  },
  {
   "cell_type": "code",
   "execution_count": 1,
   "id": "c1b2a9f2",
   "metadata": {},
   "outputs": [],
   "source": [
    "# IMPORTS\n",
    "# DATA MANIPULATION\n",
    "import pandas as pd\n",
    "import numpy as np\n",
    "\n",
    "# DATA VISUALISATION\n",
    "import matplotlib.pyplot as plt\n",
    "import seaborn as sns\n",
    "sns.set()\n",
    "from sklearn import set_config; set_config(display='diagram') # Visualize pipelines in HTML\n",
    "import graphviz\n",
    "from sklearn.tree import export_graphviz\n",
    "from sklearn import tree\n",
    "\n",
    "# MACHINE LEARNING\n",
    "from sklearn.preprocessing import StandardScaler, RobustScaler, MinMaxScaler\n",
    "from sklearn.preprocessing import OneHotEncoder, LabelEncoder, FunctionTransformer\n",
    "from sklearn.pipeline import Pipeline\n",
    "from sklearn.compose import ColumnTransformer\n",
    "from sklearn.model_selection import train_test_split\n",
    "from sklearn.tree import DecisionTreeRegressor, DecisionTreeClassifier"
   ]
  },
  {
   "cell_type": "code",
   "execution_count": 2,
   "id": "3c4d731d",
   "metadata": {},
   "outputs": [],
   "source": [
    "# Importing Data\n",
    "oasis1_cs_path = '../raw_data/OASIS1/oasis_cross-sectional.csv'\n",
    "oasis1 = pd.read_csv(oasis1_cs_path)"
   ]
  },
  {
   "cell_type": "code",
   "execution_count": 3,
   "id": "3a526545",
   "metadata": {},
   "outputs": [
    {
     "data": {
      "text/plain": [
       "(436, 12)"
      ]
     },
     "execution_count": 3,
     "metadata": {},
     "output_type": "execute_result"
    }
   ],
   "source": [
    "# Check shape\n",
    "oasis1.shape"
   ]
  },
  {
   "cell_type": "markdown",
   "id": "9eabf809",
   "metadata": {},
   "source": [
    "Note to self:\n",
    "\n",
    "\n",
    "**CDR;** 0= nondemented; 0.5 – very mild dementia; 1 = mild dementia; 2 = moderate dementia\n",
    "\n",
    "**eTIV;** Estimated total intracranial volume (eTIV)\n",
    "\n",
    "**nWBV** Normalized whole brain volume\n",
    "\n",
    "**ASF;** Atlas scaling factor"
   ]
  },
  {
   "cell_type": "code",
   "execution_count": 4,
   "id": "c1cc74a3",
   "metadata": {},
   "outputs": [
    {
     "data": {
      "text/html": [
       "<div>\n",
       "<style scoped>\n",
       "    .dataframe tbody tr th:only-of-type {\n",
       "        vertical-align: middle;\n",
       "    }\n",
       "\n",
       "    .dataframe tbody tr th {\n",
       "        vertical-align: top;\n",
       "    }\n",
       "\n",
       "    .dataframe thead th {\n",
       "        text-align: right;\n",
       "    }\n",
       "</style>\n",
       "<table border=\"1\" class=\"dataframe\">\n",
       "  <thead>\n",
       "    <tr style=\"text-align: right;\">\n",
       "      <th></th>\n",
       "      <th>ID</th>\n",
       "      <th>M/F</th>\n",
       "      <th>Hand</th>\n",
       "      <th>Age</th>\n",
       "      <th>Educ</th>\n",
       "      <th>SES</th>\n",
       "      <th>MMSE</th>\n",
       "      <th>CDR</th>\n",
       "      <th>eTIV</th>\n",
       "      <th>nWBV</th>\n",
       "      <th>ASF</th>\n",
       "      <th>Delay</th>\n",
       "    </tr>\n",
       "  </thead>\n",
       "  <tbody>\n",
       "    <tr>\n",
       "      <th>93</th>\n",
       "      <td>OAS1_0101_MR1</td>\n",
       "      <td>M</td>\n",
       "      <td>R</td>\n",
       "      <td>29</td>\n",
       "      <td>NaN</td>\n",
       "      <td>NaN</td>\n",
       "      <td>NaN</td>\n",
       "      <td>NaN</td>\n",
       "      <td>1486</td>\n",
       "      <td>0.840</td>\n",
       "      <td>1.181</td>\n",
       "      <td>NaN</td>\n",
       "    </tr>\n",
       "    <tr>\n",
       "      <th>194</th>\n",
       "      <td>OAS1_0212_MR1</td>\n",
       "      <td>F</td>\n",
       "      <td>R</td>\n",
       "      <td>74</td>\n",
       "      <td>3.0</td>\n",
       "      <td>NaN</td>\n",
       "      <td>28.0</td>\n",
       "      <td>0.0</td>\n",
       "      <td>1614</td>\n",
       "      <td>0.697</td>\n",
       "      <td>1.087</td>\n",
       "      <td>NaN</td>\n",
       "    </tr>\n",
       "    <tr>\n",
       "      <th>262</th>\n",
       "      <td>OAS1_0290_MR1</td>\n",
       "      <td>M</td>\n",
       "      <td>R</td>\n",
       "      <td>83</td>\n",
       "      <td>3.0</td>\n",
       "      <td>2.0</td>\n",
       "      <td>26.0</td>\n",
       "      <td>0.5</td>\n",
       "      <td>1992</td>\n",
       "      <td>0.706</td>\n",
       "      <td>0.881</td>\n",
       "      <td>NaN</td>\n",
       "    </tr>\n",
       "    <tr>\n",
       "      <th>307</th>\n",
       "      <td>OAS1_0340_MR1</td>\n",
       "      <td>M</td>\n",
       "      <td>R</td>\n",
       "      <td>19</td>\n",
       "      <td>NaN</td>\n",
       "      <td>NaN</td>\n",
       "      <td>NaN</td>\n",
       "      <td>NaN</td>\n",
       "      <td>1650</td>\n",
       "      <td>0.853</td>\n",
       "      <td>1.063</td>\n",
       "      <td>NaN</td>\n",
       "    </tr>\n",
       "    <tr>\n",
       "      <th>222</th>\n",
       "      <td>OAS1_0244_MR1</td>\n",
       "      <td>F</td>\n",
       "      <td>R</td>\n",
       "      <td>80</td>\n",
       "      <td>4.0</td>\n",
       "      <td>2.0</td>\n",
       "      <td>29.0</td>\n",
       "      <td>0.0</td>\n",
       "      <td>1341</td>\n",
       "      <td>0.737</td>\n",
       "      <td>1.309</td>\n",
       "      <td>NaN</td>\n",
       "    </tr>\n",
       "    <tr>\n",
       "      <th>301</th>\n",
       "      <td>OAS1_0333_MR1</td>\n",
       "      <td>M</td>\n",
       "      <td>R</td>\n",
       "      <td>26</td>\n",
       "      <td>NaN</td>\n",
       "      <td>NaN</td>\n",
       "      <td>NaN</td>\n",
       "      <td>NaN</td>\n",
       "      <td>1607</td>\n",
       "      <td>0.850</td>\n",
       "      <td>1.092</td>\n",
       "      <td>NaN</td>\n",
       "    </tr>\n",
       "    <tr>\n",
       "      <th>182</th>\n",
       "      <td>OAS1_0200_MR1</td>\n",
       "      <td>F</td>\n",
       "      <td>R</td>\n",
       "      <td>60</td>\n",
       "      <td>2.0</td>\n",
       "      <td>4.0</td>\n",
       "      <td>30.0</td>\n",
       "      <td>0.0</td>\n",
       "      <td>1366</td>\n",
       "      <td>0.807</td>\n",
       "      <td>1.285</td>\n",
       "      <td>NaN</td>\n",
       "    </tr>\n",
       "    <tr>\n",
       "      <th>363</th>\n",
       "      <td>OAS1_0401_MR1</td>\n",
       "      <td>F</td>\n",
       "      <td>R</td>\n",
       "      <td>54</td>\n",
       "      <td>4.0</td>\n",
       "      <td>3.0</td>\n",
       "      <td>29.0</td>\n",
       "      <td>0.0</td>\n",
       "      <td>1287</td>\n",
       "      <td>0.827</td>\n",
       "      <td>1.364</td>\n",
       "      <td>NaN</td>\n",
       "    </tr>\n",
       "    <tr>\n",
       "      <th>156</th>\n",
       "      <td>OAS1_0168_MR1</td>\n",
       "      <td>F</td>\n",
       "      <td>R</td>\n",
       "      <td>50</td>\n",
       "      <td>NaN</td>\n",
       "      <td>NaN</td>\n",
       "      <td>NaN</td>\n",
       "      <td>NaN</td>\n",
       "      <td>1411</td>\n",
       "      <td>0.846</td>\n",
       "      <td>1.244</td>\n",
       "      <td>NaN</td>\n",
       "    </tr>\n",
       "    <tr>\n",
       "      <th>29</th>\n",
       "      <td>OAS1_0032_MR1</td>\n",
       "      <td>M</td>\n",
       "      <td>R</td>\n",
       "      <td>89</td>\n",
       "      <td>4.0</td>\n",
       "      <td>1.0</td>\n",
       "      <td>28.0</td>\n",
       "      <td>0.0</td>\n",
       "      <td>1631</td>\n",
       "      <td>0.682</td>\n",
       "      <td>1.076</td>\n",
       "      <td>NaN</td>\n",
       "    </tr>\n",
       "    <tr>\n",
       "      <th>122</th>\n",
       "      <td>OAS1_0132_MR1</td>\n",
       "      <td>M</td>\n",
       "      <td>R</td>\n",
       "      <td>22</td>\n",
       "      <td>NaN</td>\n",
       "      <td>NaN</td>\n",
       "      <td>NaN</td>\n",
       "      <td>NaN</td>\n",
       "      <td>1596</td>\n",
       "      <td>0.850</td>\n",
       "      <td>1.099</td>\n",
       "      <td>NaN</td>\n",
       "    </tr>\n",
       "    <tr>\n",
       "      <th>246</th>\n",
       "      <td>OAS1_0273_MR1</td>\n",
       "      <td>F</td>\n",
       "      <td>R</td>\n",
       "      <td>89</td>\n",
       "      <td>1.0</td>\n",
       "      <td>4.0</td>\n",
       "      <td>18.0</td>\n",
       "      <td>0.5</td>\n",
       "      <td>1480</td>\n",
       "      <td>0.676</td>\n",
       "      <td>1.186</td>\n",
       "      <td>NaN</td>\n",
       "    </tr>\n",
       "    <tr>\n",
       "      <th>219</th>\n",
       "      <td>OAS1_0240_MR1</td>\n",
       "      <td>F</td>\n",
       "      <td>R</td>\n",
       "      <td>74</td>\n",
       "      <td>2.0</td>\n",
       "      <td>NaN</td>\n",
       "      <td>26.0</td>\n",
       "      <td>0.5</td>\n",
       "      <td>1171</td>\n",
       "      <td>0.736</td>\n",
       "      <td>1.499</td>\n",
       "      <td>NaN</td>\n",
       "    </tr>\n",
       "    <tr>\n",
       "      <th>403</th>\n",
       "      <td>OAS1_0445_MR1</td>\n",
       "      <td>F</td>\n",
       "      <td>R</td>\n",
       "      <td>90</td>\n",
       "      <td>1.0</td>\n",
       "      <td>2.0</td>\n",
       "      <td>29.0</td>\n",
       "      <td>0.0</td>\n",
       "      <td>1362</td>\n",
       "      <td>0.673</td>\n",
       "      <td>1.289</td>\n",
       "      <td>NaN</td>\n",
       "    </tr>\n",
       "    <tr>\n",
       "      <th>63</th>\n",
       "      <td>OAS1_0068_MR1</td>\n",
       "      <td>F</td>\n",
       "      <td>R</td>\n",
       "      <td>67</td>\n",
       "      <td>3.0</td>\n",
       "      <td>4.0</td>\n",
       "      <td>30.0</td>\n",
       "      <td>0.0</td>\n",
       "      <td>1508</td>\n",
       "      <td>0.805</td>\n",
       "      <td>1.164</td>\n",
       "      <td>NaN</td>\n",
       "    </tr>\n",
       "    <tr>\n",
       "      <th>358</th>\n",
       "      <td>OAS1_0396_MR1</td>\n",
       "      <td>M</td>\n",
       "      <td>R</td>\n",
       "      <td>25</td>\n",
       "      <td>NaN</td>\n",
       "      <td>NaN</td>\n",
       "      <td>NaN</td>\n",
       "      <td>NaN</td>\n",
       "      <td>1674</td>\n",
       "      <td>0.832</td>\n",
       "      <td>1.048</td>\n",
       "      <td>NaN</td>\n",
       "    </tr>\n",
       "    <tr>\n",
       "      <th>303</th>\n",
       "      <td>OAS1_0336_MR1</td>\n",
       "      <td>F</td>\n",
       "      <td>R</td>\n",
       "      <td>41</td>\n",
       "      <td>NaN</td>\n",
       "      <td>NaN</td>\n",
       "      <td>NaN</td>\n",
       "      <td>NaN</td>\n",
       "      <td>1528</td>\n",
       "      <td>0.852</td>\n",
       "      <td>1.149</td>\n",
       "      <td>NaN</td>\n",
       "    </tr>\n",
       "    <tr>\n",
       "      <th>210</th>\n",
       "      <td>OAS1_0231_MR1</td>\n",
       "      <td>F</td>\n",
       "      <td>R</td>\n",
       "      <td>20</td>\n",
       "      <td>NaN</td>\n",
       "      <td>NaN</td>\n",
       "      <td>NaN</td>\n",
       "      <td>NaN</td>\n",
       "      <td>1429</td>\n",
       "      <td>0.852</td>\n",
       "      <td>1.228</td>\n",
       "      <td>NaN</td>\n",
       "    </tr>\n",
       "    <tr>\n",
       "      <th>125</th>\n",
       "      <td>OAS1_0135_MR1</td>\n",
       "      <td>M</td>\n",
       "      <td>R</td>\n",
       "      <td>64</td>\n",
       "      <td>2.0</td>\n",
       "      <td>4.0</td>\n",
       "      <td>29.0</td>\n",
       "      <td>0.0</td>\n",
       "      <td>1561</td>\n",
       "      <td>0.801</td>\n",
       "      <td>1.124</td>\n",
       "      <td>NaN</td>\n",
       "    </tr>\n",
       "    <tr>\n",
       "      <th>323</th>\n",
       "      <td>OAS1_0357_MR1</td>\n",
       "      <td>F</td>\n",
       "      <td>R</td>\n",
       "      <td>55</td>\n",
       "      <td>4.0</td>\n",
       "      <td>3.0</td>\n",
       "      <td>30.0</td>\n",
       "      <td>0.0</td>\n",
       "      <td>1450</td>\n",
       "      <td>0.820</td>\n",
       "      <td>1.210</td>\n",
       "      <td>NaN</td>\n",
       "    </tr>\n",
       "  </tbody>\n",
       "</table>\n",
       "</div>"
      ],
      "text/plain": [
       "                ID M/F Hand  Age  Educ  SES  MMSE  CDR  eTIV   nWBV    ASF  \\\n",
       "93   OAS1_0101_MR1   M    R   29   NaN  NaN   NaN  NaN  1486  0.840  1.181   \n",
       "194  OAS1_0212_MR1   F    R   74   3.0  NaN  28.0  0.0  1614  0.697  1.087   \n",
       "262  OAS1_0290_MR1   M    R   83   3.0  2.0  26.0  0.5  1992  0.706  0.881   \n",
       "307  OAS1_0340_MR1   M    R   19   NaN  NaN   NaN  NaN  1650  0.853  1.063   \n",
       "222  OAS1_0244_MR1   F    R   80   4.0  2.0  29.0  0.0  1341  0.737  1.309   \n",
       "301  OAS1_0333_MR1   M    R   26   NaN  NaN   NaN  NaN  1607  0.850  1.092   \n",
       "182  OAS1_0200_MR1   F    R   60   2.0  4.0  30.0  0.0  1366  0.807  1.285   \n",
       "363  OAS1_0401_MR1   F    R   54   4.0  3.0  29.0  0.0  1287  0.827  1.364   \n",
       "156  OAS1_0168_MR1   F    R   50   NaN  NaN   NaN  NaN  1411  0.846  1.244   \n",
       "29   OAS1_0032_MR1   M    R   89   4.0  1.0  28.0  0.0  1631  0.682  1.076   \n",
       "122  OAS1_0132_MR1   M    R   22   NaN  NaN   NaN  NaN  1596  0.850  1.099   \n",
       "246  OAS1_0273_MR1   F    R   89   1.0  4.0  18.0  0.5  1480  0.676  1.186   \n",
       "219  OAS1_0240_MR1   F    R   74   2.0  NaN  26.0  0.5  1171  0.736  1.499   \n",
       "403  OAS1_0445_MR1   F    R   90   1.0  2.0  29.0  0.0  1362  0.673  1.289   \n",
       "63   OAS1_0068_MR1   F    R   67   3.0  4.0  30.0  0.0  1508  0.805  1.164   \n",
       "358  OAS1_0396_MR1   M    R   25   NaN  NaN   NaN  NaN  1674  0.832  1.048   \n",
       "303  OAS1_0336_MR1   F    R   41   NaN  NaN   NaN  NaN  1528  0.852  1.149   \n",
       "210  OAS1_0231_MR1   F    R   20   NaN  NaN   NaN  NaN  1429  0.852  1.228   \n",
       "125  OAS1_0135_MR1   M    R   64   2.0  4.0  29.0  0.0  1561  0.801  1.124   \n",
       "323  OAS1_0357_MR1   F    R   55   4.0  3.0  30.0  0.0  1450  0.820  1.210   \n",
       "\n",
       "     Delay  \n",
       "93     NaN  \n",
       "194    NaN  \n",
       "262    NaN  \n",
       "307    NaN  \n",
       "222    NaN  \n",
       "301    NaN  \n",
       "182    NaN  \n",
       "363    NaN  \n",
       "156    NaN  \n",
       "29     NaN  \n",
       "122    NaN  \n",
       "246    NaN  \n",
       "219    NaN  \n",
       "403    NaN  \n",
       "63     NaN  \n",
       "358    NaN  \n",
       "303    NaN  \n",
       "210    NaN  \n",
       "125    NaN  \n",
       "323    NaN  "
      ]
     },
     "execution_count": 4,
     "metadata": {},
     "output_type": "execute_result"
    }
   ],
   "source": [
    "oasis1.sample(20)"
   ]
  },
  {
   "cell_type": "markdown",
   "id": "c5227931",
   "metadata": {},
   "source": [
    "## Data Cleaning"
   ]
  },
  {
   "cell_type": "code",
   "execution_count": 5,
   "id": "1b518097",
   "metadata": {},
   "outputs": [],
   "source": [
    "def preprocess_data(oasis1):\n",
    "    \"\"\"This function removes CDR rows containing NANs, \n",
    "    fills SES missing values with status 3,\n",
    "    encodes Male/Female M/F to 1 and 0,\n",
    "    and drops columns Delay and Hand.\"\"\"\n",
    "    \n",
    "    oasis1.dropna(subset = [\"CDR\"], inplace=True)\n",
    "    oasis1['SES'].fillna(value=3, inplace=True) # Socioeconomic status 3 means that participants went to 'some college'\n",
    "    oasis1['M/F'].replace({'F':0, 'M':1}, inplace = True) # Replaces M with 1 and Female with 0\n",
    "    oasis1.drop('Delay', inplace=True, axis=1)\n",
    "    oasis1.drop('Hand', inplace=True, axis=1)\n",
    "    \n",
    "    return oasis1"
   ]
  },
  {
   "cell_type": "code",
   "execution_count": 6,
   "id": "8ecaae80",
   "metadata": {},
   "outputs": [
    {
     "data": {
      "text/html": [
       "<div>\n",
       "<style scoped>\n",
       "    .dataframe tbody tr th:only-of-type {\n",
       "        vertical-align: middle;\n",
       "    }\n",
       "\n",
       "    .dataframe tbody tr th {\n",
       "        vertical-align: top;\n",
       "    }\n",
       "\n",
       "    .dataframe thead th {\n",
       "        text-align: right;\n",
       "    }\n",
       "</style>\n",
       "<table border=\"1\" class=\"dataframe\">\n",
       "  <thead>\n",
       "    <tr style=\"text-align: right;\">\n",
       "      <th></th>\n",
       "      <th>ID</th>\n",
       "      <th>M/F</th>\n",
       "      <th>Age</th>\n",
       "      <th>Educ</th>\n",
       "      <th>SES</th>\n",
       "      <th>MMSE</th>\n",
       "      <th>CDR</th>\n",
       "      <th>eTIV</th>\n",
       "      <th>nWBV</th>\n",
       "      <th>ASF</th>\n",
       "    </tr>\n",
       "  </thead>\n",
       "  <tbody>\n",
       "    <tr>\n",
       "      <th>0</th>\n",
       "      <td>OAS1_0001_MR1</td>\n",
       "      <td>0</td>\n",
       "      <td>74</td>\n",
       "      <td>2.0</td>\n",
       "      <td>3.0</td>\n",
       "      <td>29.0</td>\n",
       "      <td>0.0</td>\n",
       "      <td>1344</td>\n",
       "      <td>0.743</td>\n",
       "      <td>1.306</td>\n",
       "    </tr>\n",
       "    <tr>\n",
       "      <th>1</th>\n",
       "      <td>OAS1_0002_MR1</td>\n",
       "      <td>0</td>\n",
       "      <td>55</td>\n",
       "      <td>4.0</td>\n",
       "      <td>1.0</td>\n",
       "      <td>29.0</td>\n",
       "      <td>0.0</td>\n",
       "      <td>1147</td>\n",
       "      <td>0.810</td>\n",
       "      <td>1.531</td>\n",
       "    </tr>\n",
       "    <tr>\n",
       "      <th>2</th>\n",
       "      <td>OAS1_0003_MR1</td>\n",
       "      <td>0</td>\n",
       "      <td>73</td>\n",
       "      <td>4.0</td>\n",
       "      <td>3.0</td>\n",
       "      <td>27.0</td>\n",
       "      <td>0.5</td>\n",
       "      <td>1454</td>\n",
       "      <td>0.708</td>\n",
       "      <td>1.207</td>\n",
       "    </tr>\n",
       "    <tr>\n",
       "      <th>8</th>\n",
       "      <td>OAS1_0010_MR1</td>\n",
       "      <td>1</td>\n",
       "      <td>74</td>\n",
       "      <td>5.0</td>\n",
       "      <td>2.0</td>\n",
       "      <td>30.0</td>\n",
       "      <td>0.0</td>\n",
       "      <td>1636</td>\n",
       "      <td>0.689</td>\n",
       "      <td>1.073</td>\n",
       "    </tr>\n",
       "    <tr>\n",
       "      <th>9</th>\n",
       "      <td>OAS1_0011_MR1</td>\n",
       "      <td>0</td>\n",
       "      <td>52</td>\n",
       "      <td>3.0</td>\n",
       "      <td>2.0</td>\n",
       "      <td>30.0</td>\n",
       "      <td>0.0</td>\n",
       "      <td>1321</td>\n",
       "      <td>0.827</td>\n",
       "      <td>1.329</td>\n",
       "    </tr>\n",
       "    <tr>\n",
       "      <th>...</th>\n",
       "      <td>...</td>\n",
       "      <td>...</td>\n",
       "      <td>...</td>\n",
       "      <td>...</td>\n",
       "      <td>...</td>\n",
       "      <td>...</td>\n",
       "      <td>...</td>\n",
       "      <td>...</td>\n",
       "      <td>...</td>\n",
       "      <td>...</td>\n",
       "    </tr>\n",
       "    <tr>\n",
       "      <th>411</th>\n",
       "      <td>OAS1_0453_MR1</td>\n",
       "      <td>0</td>\n",
       "      <td>70</td>\n",
       "      <td>1.0</td>\n",
       "      <td>4.0</td>\n",
       "      <td>29.0</td>\n",
       "      <td>0.5</td>\n",
       "      <td>1295</td>\n",
       "      <td>0.748</td>\n",
       "      <td>1.355</td>\n",
       "    </tr>\n",
       "    <tr>\n",
       "      <th>412</th>\n",
       "      <td>OAS1_0454_MR1</td>\n",
       "      <td>0</td>\n",
       "      <td>73</td>\n",
       "      <td>3.0</td>\n",
       "      <td>2.0</td>\n",
       "      <td>23.0</td>\n",
       "      <td>0.5</td>\n",
       "      <td>1536</td>\n",
       "      <td>0.730</td>\n",
       "      <td>1.142</td>\n",
       "    </tr>\n",
       "    <tr>\n",
       "      <th>413</th>\n",
       "      <td>OAS1_0455_MR1</td>\n",
       "      <td>0</td>\n",
       "      <td>61</td>\n",
       "      <td>2.0</td>\n",
       "      <td>4.0</td>\n",
       "      <td>28.0</td>\n",
       "      <td>0.0</td>\n",
       "      <td>1354</td>\n",
       "      <td>0.825</td>\n",
       "      <td>1.297</td>\n",
       "    </tr>\n",
       "    <tr>\n",
       "      <th>414</th>\n",
       "      <td>OAS1_0456_MR1</td>\n",
       "      <td>1</td>\n",
       "      <td>61</td>\n",
       "      <td>5.0</td>\n",
       "      <td>2.0</td>\n",
       "      <td>30.0</td>\n",
       "      <td>0.0</td>\n",
       "      <td>1637</td>\n",
       "      <td>0.780</td>\n",
       "      <td>1.072</td>\n",
       "    </tr>\n",
       "    <tr>\n",
       "      <th>415</th>\n",
       "      <td>OAS1_0457_MR1</td>\n",
       "      <td>0</td>\n",
       "      <td>62</td>\n",
       "      <td>3.0</td>\n",
       "      <td>3.0</td>\n",
       "      <td>26.0</td>\n",
       "      <td>0.0</td>\n",
       "      <td>1372</td>\n",
       "      <td>0.766</td>\n",
       "      <td>1.279</td>\n",
       "    </tr>\n",
       "  </tbody>\n",
       "</table>\n",
       "<p>235 rows × 10 columns</p>\n",
       "</div>"
      ],
      "text/plain": [
       "                ID  M/F  Age  Educ  SES  MMSE  CDR  eTIV   nWBV    ASF\n",
       "0    OAS1_0001_MR1    0   74   2.0  3.0  29.0  0.0  1344  0.743  1.306\n",
       "1    OAS1_0002_MR1    0   55   4.0  1.0  29.0  0.0  1147  0.810  1.531\n",
       "2    OAS1_0003_MR1    0   73   4.0  3.0  27.0  0.5  1454  0.708  1.207\n",
       "8    OAS1_0010_MR1    1   74   5.0  2.0  30.0  0.0  1636  0.689  1.073\n",
       "9    OAS1_0011_MR1    0   52   3.0  2.0  30.0  0.0  1321  0.827  1.329\n",
       "..             ...  ...  ...   ...  ...   ...  ...   ...    ...    ...\n",
       "411  OAS1_0453_MR1    0   70   1.0  4.0  29.0  0.5  1295  0.748  1.355\n",
       "412  OAS1_0454_MR1    0   73   3.0  2.0  23.0  0.5  1536  0.730  1.142\n",
       "413  OAS1_0455_MR1    0   61   2.0  4.0  28.0  0.0  1354  0.825  1.297\n",
       "414  OAS1_0456_MR1    1   61   5.0  2.0  30.0  0.0  1637  0.780  1.072\n",
       "415  OAS1_0457_MR1    0   62   3.0  3.0  26.0  0.0  1372  0.766  1.279\n",
       "\n",
       "[235 rows x 10 columns]"
      ]
     },
     "execution_count": 6,
     "metadata": {},
     "output_type": "execute_result"
    }
   ],
   "source": [
    "preprocess_data(oasis1)"
   ]
  },
  {
   "cell_type": "markdown",
   "id": "b61993ea",
   "metadata": {
    "heading_collapsed": true
   },
   "source": [
    "### Testing my code"
   ]
  },
  {
   "cell_type": "code",
   "execution_count": 7,
   "id": "75430f7d",
   "metadata": {
    "hidden": true
   },
   "outputs": [
    {
     "data": {
      "text/plain": [
       "(235, 10)"
      ]
     },
     "execution_count": 7,
     "metadata": {},
     "output_type": "execute_result"
    }
   ],
   "source": [
    "# Check shape again\n",
    "oasis1.shape"
   ]
  },
  {
   "cell_type": "code",
   "execution_count": 8,
   "id": "3a833c5c",
   "metadata": {
    "hidden": true
   },
   "outputs": [
    {
     "data": {
      "image/png": "[encoded data removed]",
      "text/plain": [
       "<Figure size 432x288 with 1 Axes>"
      ]
     },
     "metadata": {},
     "output_type": "display_data"
    }
   ],
   "source": [
    "# Education is not normally distrbuted\n",
    "sns.histplot(oasis1.Educ,kde = True, color = 'c');"
   ]
  },
  {
   "cell_type": "code",
   "execution_count": 9,
   "id": "9299937d",
   "metadata": {
    "hidden": true
   },
   "outputs": [
    {
     "data": {
      "text/plain": [
       "array([0. , 0.5, 1. , 2. ])"
      ]
     },
     "execution_count": 9,
     "metadata": {},
     "output_type": "execute_result"
    }
   ],
   "source": [
    "# Check whether NANs are still here\n",
    "oasis1.CDR.unique()"
   ]
  },
  {
   "cell_type": "code",
   "execution_count": 10,
   "id": "cf163c5a",
   "metadata": {
    "hidden": true
   },
   "outputs": [
    {
     "data": {
      "text/plain": [
       "array([3., 1., 2., 4., 5.])"
      ]
     },
     "execution_count": 10,
     "metadata": {},
     "output_type": "execute_result"
    }
   ],
   "source": [
    "# Check SES column\n",
    "oasis1.SES.unique()"
   ]
  },
  {
   "cell_type": "code",
   "execution_count": 11,
   "id": "26487502",
   "metadata": {
    "hidden": true
   },
   "outputs": [
    {
     "data": {
      "text/plain": [
       "0      0\n",
       "1      0\n",
       "2      0\n",
       "8      1\n",
       "9      0\n",
       "      ..\n",
       "411    0\n",
       "412    0\n",
       "413    0\n",
       "414    1\n",
       "415    0\n",
       "Name: M/F, Length: 235, dtype: int64"
      ]
     },
     "execution_count": 11,
     "metadata": {},
     "output_type": "execute_result"
    }
   ],
   "source": [
    "# Check M/F column\n",
    "oasis1['M/F']"
   ]
  },
  {
   "cell_type": "code",
   "execution_count": 12,
   "id": "25c5d781",
   "metadata": {
    "hidden": true
   },
   "outputs": [],
   "source": [
    "# def gender_encoding(i):\n",
    "#     \"\"\"This function returns 0 for F and 1 for M\"\"\"\n",
    "#     return i.map({'F':0, 'M':1})"
   ]
  },
  {
   "cell_type": "markdown",
   "id": "2ce64475",
   "metadata": {},
   "source": [
    "## Preprocessing data"
   ]
  },
  {
   "cell_type": "code",
   "execution_count": 13,
   "id": "ae794d60",
   "metadata": {},
   "outputs": [],
   "source": [
    "# Defining variables\n",
    "X = oasis1.drop(columns = ['CDR', 'ID'])\n",
    "y = oasis1['CDR']"
   ]
  },
  {
   "cell_type": "code",
   "execution_count": 14,
   "id": "16def471",
   "metadata": {},
   "outputs": [],
   "source": [
    "# Holdout\n",
    "X_train, X_test, y_train, y_test = train_test_split(X, y, test_size=0.25)"
   ]
  },
  {
   "cell_type": "markdown",
   "id": "929025e4",
   "metadata": {},
   "source": [
    "## Preprocessing pipeline"
   ]
  },
  {
   "cell_type": "markdown",
   "id": "091f5cda",
   "metadata": {},
   "source": [
    " Note: columns **nWBV and ASF** already normalized\n",
    " \n",
    "**Columns to scale:**\n",
    "\n",
    "Standard Scale: age\n",
    "\n",
    "Robust Scale: eTIV, MMSE\n",
    "\n",
    "MinMax Scale: Educ"
   ]
  },
  {
   "cell_type": "code",
   "execution_count": 15,
   "id": "8cb646c8",
   "metadata": {},
   "outputs": [
    {
     "data": {
      "text/html": [
       "<style>#sk-e1b688de-9363-47b9-b8db-0fbdfc81bb1d {color: black;background-color: white;}#sk-e1b688de-9363-47b9-b8db-0fbdfc81bb1d pre{padding: 0;}#sk-e1b688de-9363-47b9-b8db-0fbdfc81bb1d div.sk-toggleable {background-color: white;}#sk-e1b688de-9363-47b9-b8db-0fbdfc81bb1d label.sk-toggleable__label {cursor: pointer;display: block;width: 100%;margin-bottom: 0;padding: 0.3em;box-sizing: border-box;text-align: center;}#sk-e1b688de-9363-47b9-b8db-0fbdfc81bb1d label.sk-toggleable__label-arrow:before {content: \"▸\";float: left;margin-right: 0.25em;color: #696969;}#sk-e1b688de-9363-47b9-b8db-0fbdfc81bb1d label.sk-toggleable__label-arrow:hover:before {color: black;}#sk-e1b688de-9363-47b9-b8db-0fbdfc81bb1d div.sk-estimator:hover label.sk-toggleable__label-arrow:before {color: black;}#sk-e1b688de-9363-47b9-b8db-0fbdfc81bb1d div.sk-toggleable__content {max-height: 0;max-width: 0;overflow: hidden;text-align: left;background-color: #f0f8ff;}#sk-e1b688de-9363-47b9-b8db-0fbdfc81bb1d div.sk-toggleable__content pre {margin: 0.2em;color: black;border-radius: 0.25em;background-color: #f0f8ff;}#sk-e1b688de-9363-47b9-b8db-0fbdfc81bb1d input.sk-toggleable__control:checked~div.sk-toggleable__content {max-height: 200px;max-width: 100%;overflow: auto;}#sk-e1b688de-9363-47b9-b8db-0fbdfc81bb1d input.sk-toggleable__control:checked~label.sk-toggleable__label-arrow:before {content: \"▾\";}#sk-e1b688de-9363-47b9-b8db-0fbdfc81bb1d div.sk-estimator input.sk-toggleable__control:checked~label.sk-toggleable__label {background-color: #d4ebff;}#sk-e1b688de-9363-47b9-b8db-0fbdfc81bb1d div.sk-label input.sk-toggleable__control:checked~label.sk-toggleable__label {background-color: #d4ebff;}#sk-e1b688de-9363-47b9-b8db-0fbdfc81bb1d input.sk-hidden--visually {border: 0;clip: rect(1px 1px 1px 1px);clip: rect(1px, 1px, 1px, 1px);height: 1px;margin: -1px;overflow: hidden;padding: 0;position: absolute;width: 1px;}#sk-e1b688de-9363-47b9-b8db-0fbdfc81bb1d div.sk-estimator {font-family: monospace;background-color: #f0f8ff;border: 1px dotted black;border-radius: 0.25em;box-sizing: border-box;margin-bottom: 0.5em;}#sk-e1b688de-9363-47b9-b8db-0fbdfc81bb1d div.sk-estimator:hover {background-color: #d4ebff;}#sk-e1b688de-9363-47b9-b8db-0fbdfc81bb1d div.sk-parallel-item::after {content: \"\";width: 100%;border-bottom: 1px solid gray;flex-grow: 1;}#sk-e1b688de-9363-47b9-b8db-0fbdfc81bb1d div.sk-label:hover label.sk-toggleable__label {background-color: #d4ebff;}#sk-e1b688de-9363-47b9-b8db-0fbdfc81bb1d div.sk-serial::before {content: \"\";position: absolute;border-left: 1px solid gray;box-sizing: border-box;top: 2em;bottom: 0;left: 50%;}#sk-e1b688de-9363-47b9-b8db-0fbdfc81bb1d div.sk-serial {display: flex;flex-direction: column;align-items: center;background-color: white;padding-right: 0.2em;padding-left: 0.2em;}#sk-e1b688de-9363-47b9-b8db-0fbdfc81bb1d div.sk-item {z-index: 1;}#sk-e1b688de-9363-47b9-b8db-0fbdfc81bb1d div.sk-parallel {display: flex;align-items: stretch;justify-content: center;background-color: white;}#sk-e1b688de-9363-47b9-b8db-0fbdfc81bb1d div.sk-parallel::before {content: \"\";position: absolute;border-left: 1px solid gray;box-sizing: border-box;top: 2em;bottom: 0;left: 50%;}#sk-e1b688de-9363-47b9-b8db-0fbdfc81bb1d div.sk-parallel-item {display: flex;flex-direction: column;position: relative;background-color: white;}#sk-e1b688de-9363-47b9-b8db-0fbdfc81bb1d div.sk-parallel-item:first-child::after {align-self: flex-end;width: 50%;}#sk-e1b688de-9363-47b9-b8db-0fbdfc81bb1d div.sk-parallel-item:last-child::after {align-self: flex-start;width: 50%;}#sk-e1b688de-9363-47b9-b8db-0fbdfc81bb1d div.sk-parallel-item:only-child::after {width: 0;}#sk-e1b688de-9363-47b9-b8db-0fbdfc81bb1d div.sk-dashed-wrapped {border: 1px dashed gray;margin: 0 0.4em 0.5em 0.4em;box-sizing: border-box;padding-bottom: 0.4em;background-color: white;position: relative;}#sk-e1b688de-9363-47b9-b8db-0fbdfc81bb1d div.sk-label label {font-family: monospace;font-weight: bold;background-color: white;display: inline-block;line-height: 1.2em;}#sk-e1b688de-9363-47b9-b8db-0fbdfc81bb1d div.sk-label-container {position: relative;z-index: 2;text-align: center;}#sk-e1b688de-9363-47b9-b8db-0fbdfc81bb1d div.sk-container {/* jupyter's `normalize.less` sets `[hidden] { display: none; }` but bootstrap.min.css set `[hidden] { display: none !important; }` so we also need the `!important` here to be able to override the default hidden behavior on the sphinx rendered scikit-learn.org. See: https://github.com/scikit-learn/scikit-learn/issues/21755 */display: inline-block !important;position: relative;}#sk-e1b688de-9363-47b9-b8db-0fbdfc81bb1d div.sk-text-repr-fallback {display: none;}</style><div id=\"sk-e1b688de-9363-47b9-b8db-0fbdfc81bb1d\" class=\"sk-top-container\"><div class=\"sk-text-repr-fallback\"><pre>ColumnTransformer(remainder=&#x27;passthrough&#x27;,\n",
       "                  transformers=[(&#x27;standard_scaler&#x27;, StandardScaler(), [&#x27;Age&#x27;]),\n",
       "                                (&#x27;robust_scaler&#x27;, RobustScaler(),\n",
       "                                 [&#x27;eTIV&#x27;, &#x27;MMSE&#x27;]),\n",
       "                                (&#x27;minmax_scaler&#x27;, MinMaxScaler(), [&#x27;Educ&#x27;])])</pre><b>Please rerun this cell to show the HTML repr or trust the notebook.</b></div><div class=\"sk-container\" hidden><div class=\"sk-item sk-dashed-wrapped\"><div class=\"sk-label-container\"><div class=\"sk-label sk-toggleable\"><input class=\"sk-toggleable__control sk-hidden--visually\" id=\"7404f506-ab38-4e8d-b778-996d35f16ef3\" type=\"checkbox\" ><label for=\"7404f506-ab38-4e8d-b778-996d35f16ef3\" class=\"sk-toggleable__label sk-toggleable__label-arrow\">ColumnTransformer</label><div class=\"sk-toggleable__content\"><pre>ColumnTransformer(remainder=&#x27;passthrough&#x27;,\n",
       "                  transformers=[(&#x27;standard_scaler&#x27;, StandardScaler(), [&#x27;Age&#x27;]),\n",
       "                                (&#x27;robust_scaler&#x27;, RobustScaler(),\n",
       "                                 [&#x27;eTIV&#x27;, &#x27;MMSE&#x27;]),\n",
       "                                (&#x27;minmax_scaler&#x27;, MinMaxScaler(), [&#x27;Educ&#x27;])])</pre></div></div></div><div class=\"sk-parallel\"><div class=\"sk-parallel-item\"><div class=\"sk-item\"><div class=\"sk-label-container\"><div class=\"sk-label sk-toggleable\"><input class=\"sk-toggleable__control sk-hidden--visually\" id=\"5a0aaf96-1231-4c4d-a567-91d2fa8bf60d\" type=\"checkbox\" ><label for=\"5a0aaf96-1231-4c4d-a567-91d2fa8bf60d\" class=\"sk-toggleable__label sk-toggleable__label-arrow\">standard_scaler</label><div class=\"sk-toggleable__content\"><pre>[&#x27;Age&#x27;]</pre></div></div></div><div class=\"sk-serial\"><div class=\"sk-item\"><div class=\"sk-estimator sk-toggleable\"><input class=\"sk-toggleable__control sk-hidden--visually\" id=\"749b5913-9178-43b4-bec1-48464d63bf5d\" type=\"checkbox\" ><label for=\"749b5913-9178-43b4-bec1-48464d63bf5d\" class=\"sk-toggleable__label sk-toggleable__label-arrow\">StandardScaler</label><div class=\"sk-toggleable__content\"><pre>StandardScaler()</pre></div></div></div></div></div></div><div class=\"sk-parallel-item\"><div class=\"sk-item\"><div class=\"sk-label-container\"><div class=\"sk-label sk-toggleable\"><input class=\"sk-toggleable__control sk-hidden--visually\" id=\"51fcbfca-51d8-4e96-837e-0fe7aabb8386\" type=\"checkbox\" ><label for=\"51fcbfca-51d8-4e96-837e-0fe7aabb8386\" class=\"sk-toggleable__label sk-toggleable__label-arrow\">robust_scaler</label><div class=\"sk-toggleable__content\"><pre>[&#x27;eTIV&#x27;, &#x27;MMSE&#x27;]</pre></div></div></div><div class=\"sk-serial\"><div class=\"sk-item\"><div class=\"sk-estimator sk-toggleable\"><input class=\"sk-toggleable__control sk-hidden--visually\" id=\"4d99e9d4-6c40-48eb-ade9-3de5514e0e25\" type=\"checkbox\" ><label for=\"4d99e9d4-6c40-48eb-ade9-3de5514e0e25\" class=\"sk-toggleable__label sk-toggleable__label-arrow\">RobustScaler</label><div class=\"sk-toggleable__content\"><pre>RobustScaler()</pre></div></div></div></div></div></div><div class=\"sk-parallel-item\"><div class=\"sk-item\"><div class=\"sk-label-container\"><div class=\"sk-label sk-toggleable\"><input class=\"sk-toggleable__control sk-hidden--visually\" id=\"775c5b14-95bc-4aaf-abec-a8ad335ef1c5\" type=\"checkbox\" ><label for=\"775c5b14-95bc-4aaf-abec-a8ad335ef1c5\" class=\"sk-toggleable__label sk-toggleable__label-arrow\">minmax_scaler</label><div class=\"sk-toggleable__content\"><pre>[&#x27;Educ&#x27;]</pre></div></div></div><div class=\"sk-serial\"><div class=\"sk-item\"><div class=\"sk-estimator sk-toggleable\"><input class=\"sk-toggleable__control sk-hidden--visually\" id=\"42cb33ca-4f27-447b-90e7-2e17b722998b\" type=\"checkbox\" ><label for=\"42cb33ca-4f27-447b-90e7-2e17b722998b\" class=\"sk-toggleable__label sk-toggleable__label-arrow\">MinMaxScaler</label><div class=\"sk-toggleable__content\"><pre>MinMaxScaler()</pre></div></div></div></div></div></div><div class=\"sk-parallel-item\"><div class=\"sk-item\"><div class=\"sk-label-container\"><div class=\"sk-label sk-toggleable\"><input class=\"sk-toggleable__control sk-hidden--visually\" id=\"082120e9-6657-43d9-9d38-172649fdd32c\" type=\"checkbox\" ><label for=\"082120e9-6657-43d9-9d38-172649fdd32c\" class=\"sk-toggleable__label sk-toggleable__label-arrow\">remainder</label><div class=\"sk-toggleable__content\"><pre></pre></div></div></div><div class=\"sk-serial\"><div class=\"sk-item\"><div class=\"sk-estimator sk-toggleable\"><input class=\"sk-toggleable__control sk-hidden--visually\" id=\"72060523-1a15-420c-999f-87b37b4fb747\" type=\"checkbox\" ><label for=\"72060523-1a15-420c-999f-87b37b4fb747\" class=\"sk-toggleable__label sk-toggleable__label-arrow\">passthrough</label><div class=\"sk-toggleable__content\"><pre>passthrough</pre></div></div></div></div></div></div></div></div></div></div>"
      ],
      "text/plain": [
       "ColumnTransformer(remainder='passthrough',\n",
       "                  transformers=[('standard_scaler', StandardScaler(), ['Age']),\n",
       "                                ('robust_scaler', RobustScaler(),\n",
       "                                 ['eTIV', 'MMSE']),\n",
       "                                ('minmax_scaler', MinMaxScaler(), ['Educ'])])"
      ]
     },
     "execution_count": 15,
     "metadata": {},
     "output_type": "execute_result"
    }
   ],
   "source": [
    "# transformer for numerical features\n",
    "\n",
    "def numerical_transformer():\n",
    "    \"\"\"This function transforms all numerical features according to their respective scalers\n",
    "    \"\"\"\n",
    "    standard_features = ['Age']\n",
    "    robust_features = ['eTIV', 'MMSE']\n",
    "    minmax_features = ['Educ']\n",
    "    numeric_transformer = ColumnTransformer([\n",
    "        ('standard_scaler', StandardScaler(), standard_features),\n",
    "        ('robust_scaler', RobustScaler(), robust_features),\n",
    "        ('minmax_scaler', MinMaxScaler(), minmax_features),\n",
    "         ], remainder = 'passthrough')\n",
    "    \n",
    "    return numeric_transformer\n",
    "numeric_transformer = numerical_transformer()\n",
    "numeric_transformer"
   ]
  },
  {
   "cell_type": "code",
   "execution_count": 16,
   "id": "199401e6",
   "metadata": {},
   "outputs": [],
   "source": [
    "# transformer for categorical features\n",
    "\n",
    "categorical_features = ['M/F']\n",
    "def categorical_transformer():\n",
    "    \"\"\"This function encodes all categorical features according to their respective encoder.\n",
    "    \"\"\"\n",
    "    categorical_transformer = ColumnTransformer([\n",
    "        ('label_encoder', LabelEncoder(), categorical_features)\n",
    "    ])\n",
    "    return categorical_transformer\n",
    "category_transformer = categorical_transformer()"
   ]
  },
  {
   "cell_type": "code",
   "execution_count": 17,
   "id": "f4d94452",
   "metadata": {},
   "outputs": [
    {
     "data": {
      "text/html": [
       "<style>#sk-4be7f1d8-e6a1-4dac-963b-3ce755d31bc9 {color: black;background-color: white;}#sk-4be7f1d8-e6a1-4dac-963b-3ce755d31bc9 pre{padding: 0;}#sk-4be7f1d8-e6a1-4dac-963b-3ce755d31bc9 div.sk-toggleable {background-color: white;}#sk-4be7f1d8-e6a1-4dac-963b-3ce755d31bc9 label.sk-toggleable__label {cursor: pointer;display: block;width: 100%;margin-bottom: 0;padding: 0.3em;box-sizing: border-box;text-align: center;}#sk-4be7f1d8-e6a1-4dac-963b-3ce755d31bc9 label.sk-toggleable__label-arrow:before {content: \"▸\";float: left;margin-right: 0.25em;color: #696969;}#sk-4be7f1d8-e6a1-4dac-963b-3ce755d31bc9 label.sk-toggleable__label-arrow:hover:before {color: black;}#sk-4be7f1d8-e6a1-4dac-963b-3ce755d31bc9 div.sk-estimator:hover label.sk-toggleable__label-arrow:before {color: black;}#sk-4be7f1d8-e6a1-4dac-963b-3ce755d31bc9 div.sk-toggleable__content {max-height: 0;max-width: 0;overflow: hidden;text-align: left;background-color: #f0f8ff;}#sk-4be7f1d8-e6a1-4dac-963b-3ce755d31bc9 div.sk-toggleable__content pre {margin: 0.2em;color: black;border-radius: 0.25em;background-color: #f0f8ff;}#sk-4be7f1d8-e6a1-4dac-963b-3ce755d31bc9 input.sk-toggleable__control:checked~div.sk-toggleable__content {max-height: 200px;max-width: 100%;overflow: auto;}#sk-4be7f1d8-e6a1-4dac-963b-3ce755d31bc9 input.sk-toggleable__control:checked~label.sk-toggleable__label-arrow:before {content: \"▾\";}#sk-4be7f1d8-e6a1-4dac-963b-3ce755d31bc9 div.sk-estimator input.sk-toggleable__control:checked~label.sk-toggleable__label {background-color: #d4ebff;}#sk-4be7f1d8-e6a1-4dac-963b-3ce755d31bc9 div.sk-label input.sk-toggleable__control:checked~label.sk-toggleable__label {background-color: #d4ebff;}#sk-4be7f1d8-e6a1-4dac-963b-3ce755d31bc9 input.sk-hidden--visually {border: 0;clip: rect(1px 1px 1px 1px);clip: rect(1px, 1px, 1px, 1px);height: 1px;margin: -1px;overflow: hidden;padding: 0;position: absolute;width: 1px;}#sk-4be7f1d8-e6a1-4dac-963b-3ce755d31bc9 div.sk-estimator {font-family: monospace;background-color: #f0f8ff;border: 1px dotted black;border-radius: 0.25em;box-sizing: border-box;margin-bottom: 0.5em;}#sk-4be7f1d8-e6a1-4dac-963b-3ce755d31bc9 div.sk-estimator:hover {background-color: #d4ebff;}#sk-4be7f1d8-e6a1-4dac-963b-3ce755d31bc9 div.sk-parallel-item::after {content: \"\";width: 100%;border-bottom: 1px solid gray;flex-grow: 1;}#sk-4be7f1d8-e6a1-4dac-963b-3ce755d31bc9 div.sk-label:hover label.sk-toggleable__label {background-color: #d4ebff;}#sk-4be7f1d8-e6a1-4dac-963b-3ce755d31bc9 div.sk-serial::before {content: \"\";position: absolute;border-left: 1px solid gray;box-sizing: border-box;top: 2em;bottom: 0;left: 50%;}#sk-4be7f1d8-e6a1-4dac-963b-3ce755d31bc9 div.sk-serial {display: flex;flex-direction: column;align-items: center;background-color: white;padding-right: 0.2em;padding-left: 0.2em;}#sk-4be7f1d8-e6a1-4dac-963b-3ce755d31bc9 div.sk-item {z-index: 1;}#sk-4be7f1d8-e6a1-4dac-963b-3ce755d31bc9 div.sk-parallel {display: flex;align-items: stretch;justify-content: center;background-color: white;}#sk-4be7f1d8-e6a1-4dac-963b-3ce755d31bc9 div.sk-parallel::before {content: \"\";position: absolute;border-left: 1px solid gray;box-sizing: border-box;top: 2em;bottom: 0;left: 50%;}#sk-4be7f1d8-e6a1-4dac-963b-3ce755d31bc9 div.sk-parallel-item {display: flex;flex-direction: column;position: relative;background-color: white;}#sk-4be7f1d8-e6a1-4dac-963b-3ce755d31bc9 div.sk-parallel-item:first-child::after {align-self: flex-end;width: 50%;}#sk-4be7f1d8-e6a1-4dac-963b-3ce755d31bc9 div.sk-parallel-item:last-child::after {align-self: flex-start;width: 50%;}#sk-4be7f1d8-e6a1-4dac-963b-3ce755d31bc9 div.sk-parallel-item:only-child::after {width: 0;}#sk-4be7f1d8-e6a1-4dac-963b-3ce755d31bc9 div.sk-dashed-wrapped {border: 1px dashed gray;margin: 0 0.4em 0.5em 0.4em;box-sizing: border-box;padding-bottom: 0.4em;background-color: white;position: relative;}#sk-4be7f1d8-e6a1-4dac-963b-3ce755d31bc9 div.sk-label label {font-family: monospace;font-weight: bold;background-color: white;display: inline-block;line-height: 1.2em;}#sk-4be7f1d8-e6a1-4dac-963b-3ce755d31bc9 div.sk-label-container {position: relative;z-index: 2;text-align: center;}#sk-4be7f1d8-e6a1-4dac-963b-3ce755d31bc9 div.sk-container {/* jupyter's `normalize.less` sets `[hidden] { display: none; }` but bootstrap.min.css set `[hidden] { display: none !important; }` so we also need the `!important` here to be able to override the default hidden behavior on the sphinx rendered scikit-learn.org. See: https://github.com/scikit-learn/scikit-learn/issues/21755 */display: inline-block !important;position: relative;}#sk-4be7f1d8-e6a1-4dac-963b-3ce755d31bc9 div.sk-text-repr-fallback {display: none;}</style><div id=\"sk-4be7f1d8-e6a1-4dac-963b-3ce755d31bc9\" class=\"sk-top-container\"><div class=\"sk-text-repr-fallback\"><pre>Pipeline(steps=[(&#x27;numericals&#x27;,\n",
       "                 ColumnTransformer(remainder=&#x27;passthrough&#x27;,\n",
       "                                   transformers=[(&#x27;standard_scaler&#x27;,\n",
       "                                                  StandardScaler(), [&#x27;Age&#x27;]),\n",
       "                                                 (&#x27;robust_scaler&#x27;,\n",
       "                                                  RobustScaler(),\n",
       "                                                  [&#x27;eTIV&#x27;, &#x27;MMSE&#x27;]),\n",
       "                                                 (&#x27;minmax_scaler&#x27;,\n",
       "                                                  MinMaxScaler(),\n",
       "                                                  [&#x27;Educ&#x27;])]))])</pre><b>Please rerun this cell to show the HTML repr or trust the notebook.</b></div><div class=\"sk-container\" hidden><div class=\"sk-item sk-dashed-wrapped\"><div class=\"sk-label-container\"><div class=\"sk-label sk-toggleable\"><input class=\"sk-toggleable__control sk-hidden--visually\" id=\"1b9617e5-ecaf-415c-a95e-0afb5ae79e47\" type=\"checkbox\" ><label for=\"1b9617e5-ecaf-415c-a95e-0afb5ae79e47\" class=\"sk-toggleable__label sk-toggleable__label-arrow\">Pipeline</label><div class=\"sk-toggleable__content\"><pre>Pipeline(steps=[(&#x27;numericals&#x27;,\n",
       "                 ColumnTransformer(remainder=&#x27;passthrough&#x27;,\n",
       "                                   transformers=[(&#x27;standard_scaler&#x27;,\n",
       "                                                  StandardScaler(), [&#x27;Age&#x27;]),\n",
       "                                                 (&#x27;robust_scaler&#x27;,\n",
       "                                                  RobustScaler(),\n",
       "                                                  [&#x27;eTIV&#x27;, &#x27;MMSE&#x27;]),\n",
       "                                                 (&#x27;minmax_scaler&#x27;,\n",
       "                                                  MinMaxScaler(),\n",
       "                                                  [&#x27;Educ&#x27;])]))])</pre></div></div></div><div class=\"sk-serial\"><div class=\"sk-item sk-dashed-wrapped\"><div class=\"sk-label-container\"><div class=\"sk-label sk-toggleable\"><input class=\"sk-toggleable__control sk-hidden--visually\" id=\"c92b1224-0c97-40ca-9960-f881c009683f\" type=\"checkbox\" ><label for=\"c92b1224-0c97-40ca-9960-f881c009683f\" class=\"sk-toggleable__label sk-toggleable__label-arrow\">numericals: ColumnTransformer</label><div class=\"sk-toggleable__content\"><pre>ColumnTransformer(remainder=&#x27;passthrough&#x27;,\n",
       "                  transformers=[(&#x27;standard_scaler&#x27;, StandardScaler(), [&#x27;Age&#x27;]),\n",
       "                                (&#x27;robust_scaler&#x27;, RobustScaler(),\n",
       "                                 [&#x27;eTIV&#x27;, &#x27;MMSE&#x27;]),\n",
       "                                (&#x27;minmax_scaler&#x27;, MinMaxScaler(), [&#x27;Educ&#x27;])])</pre></div></div></div><div class=\"sk-parallel\"><div class=\"sk-parallel-item\"><div class=\"sk-item\"><div class=\"sk-label-container\"><div class=\"sk-label sk-toggleable\"><input class=\"sk-toggleable__control sk-hidden--visually\" id=\"3627d955-9ab7-45c9-9a64-837566113f48\" type=\"checkbox\" ><label for=\"3627d955-9ab7-45c9-9a64-837566113f48\" class=\"sk-toggleable__label sk-toggleable__label-arrow\">standard_scaler</label><div class=\"sk-toggleable__content\"><pre>[&#x27;Age&#x27;]</pre></div></div></div><div class=\"sk-serial\"><div class=\"sk-item\"><div class=\"sk-estimator sk-toggleable\"><input class=\"sk-toggleable__control sk-hidden--visually\" id=\"02764a41-bca6-442a-a18b-02a19e82c709\" type=\"checkbox\" ><label for=\"02764a41-bca6-442a-a18b-02a19e82c709\" class=\"sk-toggleable__label sk-toggleable__label-arrow\">StandardScaler</label><div class=\"sk-toggleable__content\"><pre>StandardScaler()</pre></div></div></div></div></div></div><div class=\"sk-parallel-item\"><div class=\"sk-item\"><div class=\"sk-label-container\"><div class=\"sk-label sk-toggleable\"><input class=\"sk-toggleable__control sk-hidden--visually\" id=\"6bd954fa-7624-48f5-aa87-22805ccba63d\" type=\"checkbox\" ><label for=\"6bd954fa-7624-48f5-aa87-22805ccba63d\" class=\"sk-toggleable__label sk-toggleable__label-arrow\">robust_scaler</label><div class=\"sk-toggleable__content\"><pre>[&#x27;eTIV&#x27;, &#x27;MMSE&#x27;]</pre></div></div></div><div class=\"sk-serial\"><div class=\"sk-item\"><div class=\"sk-estimator sk-toggleable\"><input class=\"sk-toggleable__control sk-hidden--visually\" id=\"52c4e8b9-4c3d-4374-80dd-7174148da383\" type=\"checkbox\" ><label for=\"52c4e8b9-4c3d-4374-80dd-7174148da383\" class=\"sk-toggleable__label sk-toggleable__label-arrow\">RobustScaler</label><div class=\"sk-toggleable__content\"><pre>RobustScaler()</pre></div></div></div></div></div></div><div class=\"sk-parallel-item\"><div class=\"sk-item\"><div class=\"sk-label-container\"><div class=\"sk-label sk-toggleable\"><input class=\"sk-toggleable__control sk-hidden--visually\" id=\"56c85b53-cfa4-4c4e-8720-e59b698119a9\" type=\"checkbox\" ><label for=\"56c85b53-cfa4-4c4e-8720-e59b698119a9\" class=\"sk-toggleable__label sk-toggleable__label-arrow\">minmax_scaler</label><div class=\"sk-toggleable__content\"><pre>[&#x27;Educ&#x27;]</pre></div></div></div><div class=\"sk-serial\"><div class=\"sk-item\"><div class=\"sk-estimator sk-toggleable\"><input class=\"sk-toggleable__control sk-hidden--visually\" id=\"f9487a43-2c2f-4ba7-b320-3f7427cf1ca6\" type=\"checkbox\" ><label for=\"f9487a43-2c2f-4ba7-b320-3f7427cf1ca6\" class=\"sk-toggleable__label sk-toggleable__label-arrow\">MinMaxScaler</label><div class=\"sk-toggleable__content\"><pre>MinMaxScaler()</pre></div></div></div></div></div></div><div class=\"sk-parallel-item\"><div class=\"sk-item\"><div class=\"sk-label-container\"><div class=\"sk-label sk-toggleable\"><input class=\"sk-toggleable__control sk-hidden--visually\" id=\"9ae89aea-da35-488c-915a-f168e437c938\" type=\"checkbox\" ><label for=\"9ae89aea-da35-488c-915a-f168e437c938\" class=\"sk-toggleable__label sk-toggleable__label-arrow\">remainder</label><div class=\"sk-toggleable__content\"><pre></pre></div></div></div><div class=\"sk-serial\"><div class=\"sk-item\"><div class=\"sk-estimator sk-toggleable\"><input class=\"sk-toggleable__control sk-hidden--visually\" id=\"9ddb7a8b-d751-4213-928b-0d6219750327\" type=\"checkbox\" ><label for=\"9ddb7a8b-d751-4213-928b-0d6219750327\" class=\"sk-toggleable__label sk-toggleable__label-arrow\">passthrough</label><div class=\"sk-toggleable__content\"><pre>passthrough</pre></div></div></div></div></div></div></div></div></div></div></div></div>"
      ],
      "text/plain": [
       "Pipeline(steps=[('numericals',\n",
       "                 ColumnTransformer(remainder='passthrough',\n",
       "                                   transformers=[('standard_scaler',\n",
       "                                                  StandardScaler(), ['Age']),\n",
       "                                                 ('robust_scaler',\n",
       "                                                  RobustScaler(),\n",
       "                                                  ['eTIV', 'MMSE']),\n",
       "                                                 ('minmax_scaler',\n",
       "                                                  MinMaxScaler(),\n",
       "                                                  ['Educ'])]))])"
      ]
     },
     "execution_count": 17,
     "metadata": {},
     "output_type": "execute_result"
    }
   ],
   "source": [
    "def set_pipeline():\n",
    "    \"\"\"This function returns a pipeline\n",
    "    \"\"\"\n",
    "    preproc = Pipeline([('numericals', numeric_transformer)])\n",
    "    return preproc\n",
    "set_pipeline()"
   ]
  },
  {
   "cell_type": "code",
   "execution_count": 18,
   "id": "f0b0e222",
   "metadata": {},
   "outputs": [
    {
     "data": {
      "text/html": [
       "<div>\n",
       "<style scoped>\n",
       "    .dataframe tbody tr th:only-of-type {\n",
       "        vertical-align: middle;\n",
       "    }\n",
       "\n",
       "    .dataframe tbody tr th {\n",
       "        vertical-align: top;\n",
       "    }\n",
       "\n",
       "    .dataframe thead th {\n",
       "        text-align: right;\n",
       "    }\n",
       "</style>\n",
       "<table border=\"1\" class=\"dataframe\">\n",
       "  <thead>\n",
       "    <tr style=\"text-align: right;\">\n",
       "      <th></th>\n",
       "      <th>M/F</th>\n",
       "      <th>Age</th>\n",
       "      <th>Educ</th>\n",
       "      <th>SES</th>\n",
       "      <th>MMSE</th>\n",
       "      <th>eTIV</th>\n",
       "      <th>nWBV</th>\n",
       "      <th>ASF</th>\n",
       "    </tr>\n",
       "  </thead>\n",
       "  <tbody>\n",
       "    <tr>\n",
       "      <th>0</th>\n",
       "      <td>0.0</td>\n",
       "      <td>0.454078</td>\n",
       "      <td>1.00</td>\n",
       "      <td>1.0</td>\n",
       "      <td>0.25</td>\n",
       "      <td>-0.068878</td>\n",
       "      <td>0.670</td>\n",
       "      <td>1.219</td>\n",
       "    </tr>\n",
       "    <tr>\n",
       "      <th>1</th>\n",
       "      <td>0.0</td>\n",
       "      <td>-0.233386</td>\n",
       "      <td>0.25</td>\n",
       "      <td>3.0</td>\n",
       "      <td>0.00</td>\n",
       "      <td>-0.869898</td>\n",
       "      <td>0.791</td>\n",
       "      <td>1.368</td>\n",
       "    </tr>\n",
       "    <tr>\n",
       "      <th>2</th>\n",
       "      <td>0.0</td>\n",
       "      <td>-0.319319</td>\n",
       "      <td>0.25</td>\n",
       "      <td>4.0</td>\n",
       "      <td>-1.50</td>\n",
       "      <td>-0.033163</td>\n",
       "      <td>0.757</td>\n",
       "      <td>1.213</td>\n",
       "    </tr>\n",
       "    <tr>\n",
       "      <th>3</th>\n",
       "      <td>0.0</td>\n",
       "      <td>0.368145</td>\n",
       "      <td>0.00</td>\n",
       "      <td>4.0</td>\n",
       "      <td>0.00</td>\n",
       "      <td>0.660714</td>\n",
       "      <td>0.767</td>\n",
       "      <td>1.108</td>\n",
       "    </tr>\n",
       "    <tr>\n",
       "      <th>4</th>\n",
       "      <td>1.0</td>\n",
       "      <td>-0.147453</td>\n",
       "      <td>1.00</td>\n",
       "      <td>1.0</td>\n",
       "      <td>0.25</td>\n",
       "      <td>1.609694</td>\n",
       "      <td>0.716</td>\n",
       "      <td>0.992</td>\n",
       "    </tr>\n",
       "    <tr>\n",
       "      <th>...</th>\n",
       "      <td>...</td>\n",
       "      <td>...</td>\n",
       "      <td>...</td>\n",
       "      <td>...</td>\n",
       "      <td>...</td>\n",
       "      <td>...</td>\n",
       "      <td>...</td>\n",
       "      <td>...</td>\n",
       "    </tr>\n",
       "    <tr>\n",
       "      <th>171</th>\n",
       "      <td>0.0</td>\n",
       "      <td>0.883742</td>\n",
       "      <td>0.25</td>\n",
       "      <td>2.0</td>\n",
       "      <td>0.00</td>\n",
       "      <td>0.589286</td>\n",
       "      <td>0.768</td>\n",
       "      <td>1.118</td>\n",
       "    </tr>\n",
       "    <tr>\n",
       "      <th>172</th>\n",
       "      <td>1.0</td>\n",
       "      <td>-0.405252</td>\n",
       "      <td>0.50</td>\n",
       "      <td>3.0</td>\n",
       "      <td>0.25</td>\n",
       "      <td>-0.063776</td>\n",
       "      <td>0.811</td>\n",
       "      <td>1.217</td>\n",
       "    </tr>\n",
       "    <tr>\n",
       "      <th>173</th>\n",
       "      <td>0.0</td>\n",
       "      <td>0.454078</td>\n",
       "      <td>0.75</td>\n",
       "      <td>3.0</td>\n",
       "      <td>-0.50</td>\n",
       "      <td>-0.308673</td>\n",
       "      <td>0.692</td>\n",
       "      <td>1.260</td>\n",
       "    </tr>\n",
       "    <tr>\n",
       "      <th>174</th>\n",
       "      <td>0.0</td>\n",
       "      <td>0.454078</td>\n",
       "      <td>0.25</td>\n",
       "      <td>4.0</td>\n",
       "      <td>-3.00</td>\n",
       "      <td>-0.711735</td>\n",
       "      <td>0.739</td>\n",
       "      <td>1.336</td>\n",
       "    </tr>\n",
       "    <tr>\n",
       "      <th>175</th>\n",
       "      <td>0.0</td>\n",
       "      <td>0.625943</td>\n",
       "      <td>0.25</td>\n",
       "      <td>4.0</td>\n",
       "      <td>0.25</td>\n",
       "      <td>-0.323980</td>\n",
       "      <td>0.748</td>\n",
       "      <td>1.263</td>\n",
       "    </tr>\n",
       "  </tbody>\n",
       "</table>\n",
       "<p>176 rows × 8 columns</p>\n",
       "</div>"
      ],
      "text/plain": [
       "     M/F       Age  Educ  SES  MMSE      eTIV   nWBV    ASF\n",
       "0    0.0  0.454078  1.00  1.0  0.25 -0.068878  0.670  1.219\n",
       "1    0.0 -0.233386  0.25  3.0  0.00 -0.869898  0.791  1.368\n",
       "2    0.0 -0.319319  0.25  4.0 -1.50 -0.033163  0.757  1.213\n",
       "3    0.0  0.368145  0.00  4.0  0.00  0.660714  0.767  1.108\n",
       "4    1.0 -0.147453  1.00  1.0  0.25  1.609694  0.716  0.992\n",
       "..   ...       ...   ...  ...   ...       ...    ...    ...\n",
       "171  0.0  0.883742  0.25  2.0  0.00  0.589286  0.768  1.118\n",
       "172  1.0 -0.405252  0.50  3.0  0.25 -0.063776  0.811  1.217\n",
       "173  0.0  0.454078  0.75  3.0 -0.50 -0.308673  0.692  1.260\n",
       "174  0.0  0.454078  0.25  4.0 -3.00 -0.711735  0.739  1.336\n",
       "175  0.0  0.625943  0.25  4.0  0.25 -0.323980  0.748  1.263\n",
       "\n",
       "[176 rows x 8 columns]"
      ]
     },
     "execution_count": 18,
     "metadata": {},
     "output_type": "execute_result"
    }
   ],
   "source": [
    "def preproc_df():\n",
    "    \"\"\"This function returns a scaled dataframe ready for processing\n",
    "    \"\"\"\n",
    "    # Instantiating pipeline\n",
    "    pipeline = set_pipeline()\n",
    "    oasis1_scaled = pd.DataFrame(pipeline.fit_transform(X_train, y_train), columns = set_pipeline().get_feature_names_out())\n",
    "    oasis1_scaled.rename(columns={\n",
    "                                 'remainder__M/F': 'M/F',\n",
    "                                 'remainder__SES': 'SES',\n",
    "                                 'remainder__nWBV': 'nWBV',\n",
    "                                 'remainder__ASF': 'ASF',\n",
    "                                 'standard_scaler__Age': 'Age',\n",
    "                                 'robust_scaler__eTIV': 'eTIV',\n",
    "                                 'robust_scaler__MMSE': 'MMSE',\n",
    "                                 'minmax_scaler__Educ': 'Educ'\n",
    "    }, inplace=True)\n",
    "    oasis1_scaled = oasis1_scaled[[\"M/F\", \"Age\", \"Educ\", \"SES\", \"MMSE\", \"eTIV\", \"nWBV\", \"ASF\"]]\n",
    "    return oasis1_scaled\n",
    "preproc_df()"
   ]
  },
  {
   "cell_type": "markdown",
   "id": "7fb88f81",
   "metadata": {},
   "source": [
    "# Decision Tree"
   ]
  },
  {
   "cell_type": "code",
   "execution_count": 19,
   "id": "04b2e8e9",
   "metadata": {},
   "outputs": [],
   "source": [
    "# Defining new X_scaled\n",
    "X_scaled = preproc_df()\n",
    "\n",
    "# Making a copy of X_scaled\n",
    "X_scaled_test = X_scaled.copy()"
   ]
  },
  {
   "cell_type": "code",
   "execution_count": 20,
   "id": "7126c8ec",
   "metadata": {},
   "outputs": [
    {
     "data": {
      "text/plain": [
       "array([0. , 0.5, 2. , 1. ])"
      ]
     },
     "execution_count": 20,
     "metadata": {},
     "output_type": "execute_result"
    }
   ],
   "source": [
    "y_train.unique()"
   ]
  },
  {
   "cell_type": "code",
   "execution_count": 21,
   "id": "c632cd37",
   "metadata": {},
   "outputs": [
    {
     "data": {
      "text/plain": [
       "(176,)"
      ]
     },
     "execution_count": 21,
     "metadata": {},
     "output_type": "execute_result"
    }
   ],
   "source": [
    "y_train_test = y_train.copy()\n",
    "y_train_test = y_train_test.replace({0.:1, 0.5:2})\n",
    "y_train_test.shape"
   ]
  },
  {
   "cell_type": "code",
   "execution_count": 22,
   "id": "fc245f0f",
   "metadata": {},
   "outputs": [
    {
     "data": {
      "text/plain": [
       "array([0. , 0.5, 2. , 1. ])"
      ]
     },
     "execution_count": 22,
     "metadata": {},
     "output_type": "execute_result"
    }
   ],
   "source": [
    "y_train.unique()\n",
    "#y_train.replace({0: 'nondemented', 0.5: 'verymild', 1: 'mild', 2: 'moderate'})"
   ]
  },
  {
   "cell_type": "code",
   "execution_count": 23,
   "id": "cc88c292",
   "metadata": {},
   "outputs": [],
   "source": [
    "# Instantiate Decision Tree\n",
    "tree_clf = DecisionTreeClassifier(max_depth = 3)"
   ]
  },
  {
   "cell_type": "code",
   "execution_count": 24,
   "id": "6677aa45",
   "metadata": {},
   "outputs": [
    {
     "data": {
      "text/html": [
       "<style>#sk-088ce7ab-27b2-4b22-87be-9056fcbfe7db {color: black;background-color: white;}#sk-088ce7ab-27b2-4b22-87be-9056fcbfe7db pre{padding: 0;}#sk-088ce7ab-27b2-4b22-87be-9056fcbfe7db div.sk-toggleable {background-color: white;}#sk-088ce7ab-27b2-4b22-87be-9056fcbfe7db label.sk-toggleable__label {cursor: pointer;display: block;width: 100%;margin-bottom: 0;padding: 0.3em;box-sizing: border-box;text-align: center;}#sk-088ce7ab-27b2-4b22-87be-9056fcbfe7db label.sk-toggleable__label-arrow:before {content: \"▸\";float: left;margin-right: 0.25em;color: #696969;}#sk-088ce7ab-27b2-4b22-87be-9056fcbfe7db label.sk-toggleable__label-arrow:hover:before {color: black;}#sk-088ce7ab-27b2-4b22-87be-9056fcbfe7db div.sk-estimator:hover label.sk-toggleable__label-arrow:before {color: black;}#sk-088ce7ab-27b2-4b22-87be-9056fcbfe7db div.sk-toggleable__content {max-height: 0;max-width: 0;overflow: hidden;text-align: left;background-color: #f0f8ff;}#sk-088ce7ab-27b2-4b22-87be-9056fcbfe7db div.sk-toggleable__content pre {margin: 0.2em;color: black;border-radius: 0.25em;background-color: #f0f8ff;}#sk-088ce7ab-27b2-4b22-87be-9056fcbfe7db input.sk-toggleable__control:checked~div.sk-toggleable__content {max-height: 200px;max-width: 100%;overflow: auto;}#sk-088ce7ab-27b2-4b22-87be-9056fcbfe7db input.sk-toggleable__control:checked~label.sk-toggleable__label-arrow:before {content: \"▾\";}#sk-088ce7ab-27b2-4b22-87be-9056fcbfe7db div.sk-estimator input.sk-toggleable__control:checked~label.sk-toggleable__label {background-color: #d4ebff;}#sk-088ce7ab-27b2-4b22-87be-9056fcbfe7db div.sk-label input.sk-toggleable__control:checked~label.sk-toggleable__label {background-color: #d4ebff;}#sk-088ce7ab-27b2-4b22-87be-9056fcbfe7db input.sk-hidden--visually {border: 0;clip: rect(1px 1px 1px 1px);clip: rect(1px, 1px, 1px, 1px);height: 1px;margin: -1px;overflow: hidden;padding: 0;position: absolute;width: 1px;}#sk-088ce7ab-27b2-4b22-87be-9056fcbfe7db div.sk-estimator {font-family: monospace;background-color: #f0f8ff;border: 1px dotted black;border-radius: 0.25em;box-sizing: border-box;margin-bottom: 0.5em;}#sk-088ce7ab-27b2-4b22-87be-9056fcbfe7db div.sk-estimator:hover {background-color: #d4ebff;}#sk-088ce7ab-27b2-4b22-87be-9056fcbfe7db div.sk-parallel-item::after {content: \"\";width: 100%;border-bottom: 1px solid gray;flex-grow: 1;}#sk-088ce7ab-27b2-4b22-87be-9056fcbfe7db div.sk-label:hover label.sk-toggleable__label {background-color: #d4ebff;}#sk-088ce7ab-27b2-4b22-87be-9056fcbfe7db div.sk-serial::before {content: \"\";position: absolute;border-left: 1px solid gray;box-sizing: border-box;top: 2em;bottom: 0;left: 50%;}#sk-088ce7ab-27b2-4b22-87be-9056fcbfe7db div.sk-serial {display: flex;flex-direction: column;align-items: center;background-color: white;padding-right: 0.2em;padding-left: 0.2em;}#sk-088ce7ab-27b2-4b22-87be-9056fcbfe7db div.sk-item {z-index: 1;}#sk-088ce7ab-27b2-4b22-87be-9056fcbfe7db div.sk-parallel {display: flex;align-items: stretch;justify-content: center;background-color: white;}#sk-088ce7ab-27b2-4b22-87be-9056fcbfe7db div.sk-parallel::before {content: \"\";position: absolute;border-left: 1px solid gray;box-sizing: border-box;top: 2em;bottom: 0;left: 50%;}#sk-088ce7ab-27b2-4b22-87be-9056fcbfe7db div.sk-parallel-item {display: flex;flex-direction: column;position: relative;background-color: white;}#sk-088ce7ab-27b2-4b22-87be-9056fcbfe7db div.sk-parallel-item:first-child::after {align-self: flex-end;width: 50%;}#sk-088ce7ab-27b2-4b22-87be-9056fcbfe7db div.sk-parallel-item:last-child::after {align-self: flex-start;width: 50%;}#sk-088ce7ab-27b2-4b22-87be-9056fcbfe7db div.sk-parallel-item:only-child::after {width: 0;}#sk-088ce7ab-27b2-4b22-87be-9056fcbfe7db div.sk-dashed-wrapped {border: 1px dashed gray;margin: 0 0.4em 0.5em 0.4em;box-sizing: border-box;padding-bottom: 0.4em;background-color: white;position: relative;}#sk-088ce7ab-27b2-4b22-87be-9056fcbfe7db div.sk-label label {font-family: monospace;font-weight: bold;background-color: white;display: inline-block;line-height: 1.2em;}#sk-088ce7ab-27b2-4b22-87be-9056fcbfe7db div.sk-label-container {position: relative;z-index: 2;text-align: center;}#sk-088ce7ab-27b2-4b22-87be-9056fcbfe7db div.sk-container {/* jupyter's `normalize.less` sets `[hidden] { display: none; }` but bootstrap.min.css set `[hidden] { display: none !important; }` so we also need the `!important` here to be able to override the default hidden behavior on the sphinx rendered scikit-learn.org. See: https://github.com/scikit-learn/scikit-learn/issues/21755 */display: inline-block !important;position: relative;}#sk-088ce7ab-27b2-4b22-87be-9056fcbfe7db div.sk-text-repr-fallback {display: none;}</style><div id=\"sk-088ce7ab-27b2-4b22-87be-9056fcbfe7db\" class=\"sk-top-container\"><div class=\"sk-text-repr-fallback\"><pre>DecisionTreeClassifier(max_depth=3)</pre><b>Please rerun this cell to show the HTML repr or trust the notebook.</b></div><div class=\"sk-container\" hidden><div class=\"sk-item\"><div class=\"sk-estimator sk-toggleable\"><input class=\"sk-toggleable__control sk-hidden--visually\" id=\"c9040b20-aa86-48df-922e-a3d125171d07\" type=\"checkbox\" checked><label for=\"c9040b20-aa86-48df-922e-a3d125171d07\" class=\"sk-toggleable__label sk-toggleable__label-arrow\">DecisionTreeClassifier</label><div class=\"sk-toggleable__content\"><pre>DecisionTreeClassifier(max_depth=3)</pre></div></div></div></div></div>"
      ],
      "text/plain": [
       "DecisionTreeClassifier(max_depth=3)"
      ]
     },
     "execution_count": 24,
     "metadata": {},
     "output_type": "execute_result"
    }
   ],
   "source": [
    "tree_clf.fit(X_scaled_test,y_train_test)"
   ]
  },
  {
   "cell_type": "code",
   "execution_count": 25,
   "id": "928be4cb",
   "metadata": {},
   "outputs": [
    {
     "data": {
      "text/plain": [
       "array([1., 1., 1., 1., 1., 1., 1., 1., 1., 1., 1., 1., 1., 1., 1., 1., 1.,\n",
       "       1., 1., 1., 1., 1., 1., 1., 1., 1., 1., 1., 1., 1., 1., 1., 1., 1.,\n",
       "       1., 1., 1., 1., 1., 1., 1., 1., 1., 1., 1., 1., 1., 1., 1., 1., 1.,\n",
       "       1., 1., 1., 1., 1., 1., 1., 1.])"
      ]
     },
     "execution_count": 25,
     "metadata": {},
     "output_type": "execute_result"
    }
   ],
   "source": [
    "prediction = tree_clf.predict(X_test)\n",
    "prediction"
   ]
  },
  {
   "cell_type": "code",
   "execution_count": 26,
   "id": "512c8aac",
   "metadata": {},
   "outputs": [],
   "source": [
    "y_test = y_test.replace({0.:1, 0.5:2})"
   ]
  },
  {
   "cell_type": "code",
   "execution_count": 27,
   "id": "c9484435",
   "metadata": {},
   "outputs": [
    {
     "data": {
      "text/plain": [
       "0.7627118644067796"
      ]
     },
     "execution_count": 27,
     "metadata": {},
     "output_type": "execute_result"
    }
   ],
   "source": [
    "from sklearn.metrics import accuracy_score\n",
    "accuracy_score(y_test, prediction)"
   ]
  },
  {
   "cell_type": "code",
   "execution_count": 28,
   "id": "913fae93",
   "metadata": {},
   "outputs": [
    {
     "data": {
      "text/plain": [
       "(59, 8)"
      ]
     },
     "execution_count": 28,
     "metadata": {},
     "output_type": "execute_result"
    }
   ],
   "source": [
    "X_test.shape"
   ]
  },
  {
   "cell_type": "code",
   "execution_count": 29,
   "id": "82036122",
   "metadata": {},
   "outputs": [
    {
     "data": {
      "text/plain": [
       "(176, 8)"
      ]
     },
     "execution_count": 29,
     "metadata": {},
     "output_type": "execute_result"
    }
   ],
   "source": [
    "X_scaled_test.shape"
   ]
  },
  {
   "cell_type": "code",
   "execution_count": 30,
   "id": "be2df53b",
   "metadata": {},
   "outputs": [
    {
     "data": {
      "image/png": "[encoded data removed]",
      "text/plain": [
       "<Figure size 432x288 with 1 Axes>"
      ]
     },
     "metadata": {},
     "output_type": "display_data"
    },
    {
     "data": {
      "text/plain": [
       "<Figure size 1440x1872 with 0 Axes>"
      ]
     },
     "metadata": {},
     "output_type": "display_data"
    }
   ],
   "source": [
    "from sklearn import tree\n",
    "tree.plot_tree(tree_clf,\n",
    "              feature_names = X_train.columns)\n",
    "plt.figure(figsize = (20, 26));"
   ]
  },
  {
   "cell_type": "code",
   "execution_count": 31,
   "id": "67d3786e",
   "metadata": {},
   "outputs": [
    {
     "data": {
      "image/svg+xml": [
       "<?xml version=\"1.0\" encoding=\"UTF-8\" standalone=\"no\"?>\n",
       "<!DOCTYPE svg PUBLIC \"-//W3C//DTD SVG 1.1//EN\"\n",
       " \"http://www.w3.org/Graphics/SVG/1.1/DTD/svg11.dtd\">\n",
       "<!-- Generated by graphviz version 2.43.0 (0)\n",
       " -->\n",
       "<!-- Title: Tree Pages: 1 -->\n",
       "<svg width=\"673pt\" height=\"365pt\"\n",
       " viewBox=\"0.00 0.00 673.00 365.00\" xmlns=\"http://www.w3.org/2000/svg\" xmlns:xlink=\"http://www.w3.org/1999/xlink\">\n",
       "<g id=\"graph0\" class=\"graph\" transform=\"scale(1 1) rotate(0) translate(4 361)\">\n",
       "<title>Tree</title>\n",
       "<polygon fill=\"white\" stroke=\"transparent\" points=\"-4,4 -4,-361 669,-361 669,4 -4,4\"/>\n",
       "<!-- 0 -->\n",
       "<g id=\"node1\" class=\"node\">\n",
       "<title>0</title>\n",
       "<path fill=\"#f2bf9a\" stroke=\"black\" d=\"M128,-219.5C128,-219.5 12,-219.5 12,-219.5 6,-219.5 0,-213.5 0,-207.5 0,-207.5 0,-148.5 0,-148.5 0,-142.5 6,-136.5 12,-136.5 12,-136.5 128,-136.5 128,-136.5 134,-136.5 140,-142.5 140,-148.5 140,-148.5 140,-207.5 140,-207.5 140,-213.5 134,-219.5 128,-219.5\"/>\n",
       "<text text-anchor=\"middle\" x=\"70\" y=\"-204.3\" font-family=\"futura\" font-size=\"14.00\">MMSE &lt;= &#45;0.125</text>\n",
       "<text text-anchor=\"middle\" x=\"70\" y=\"-189.3\" font-family=\"futura\" font-size=\"14.00\">gini = 0.442</text>\n",
       "<text text-anchor=\"middle\" x=\"70\" y=\"-174.3\" font-family=\"futura\" font-size=\"14.00\">samples = 176</text>\n",
       "<text text-anchor=\"middle\" x=\"70\" y=\"-159.3\" font-family=\"futura\" font-size=\"14.00\">value = [118, 58]</text>\n",
       "<text text-anchor=\"middle\" x=\"70\" y=\"-144.3\" font-family=\"futura\" font-size=\"14.00\">class = mild</text>\n",
       "</g>\n",
       "<!-- 1 -->\n",
       "<g id=\"node2\" class=\"node\">\n",
       "<title>1</title>\n",
       "<path fill=\"#d9ecfa\" stroke=\"black\" d=\"M303,-270.5C303,-270.5 188,-270.5 188,-270.5 182,-270.5 176,-264.5 176,-258.5 176,-258.5 176,-199.5 176,-199.5 176,-193.5 182,-187.5 188,-187.5 188,-187.5 303,-187.5 303,-187.5 309,-187.5 315,-193.5 315,-199.5 315,-199.5 315,-258.5 315,-258.5 315,-264.5 309,-270.5 303,-270.5\"/>\n",
       "<text text-anchor=\"middle\" x=\"245.5\" y=\"-255.3\" font-family=\"futura\" font-size=\"14.00\">Age &lt;= &#45;0.921</text>\n",
       "<text text-anchor=\"middle\" x=\"245.5\" y=\"-240.3\" font-family=\"futura\" font-size=\"14.00\">gini = 0.494</text>\n",
       "<text text-anchor=\"middle\" x=\"245.5\" y=\"-225.3\" font-family=\"futura\" font-size=\"14.00\">samples = 85</text>\n",
       "<text text-anchor=\"middle\" x=\"245.5\" y=\"-210.3\" font-family=\"futura\" font-size=\"14.00\">value = [38, 47]</text>\n",
       "<text text-anchor=\"middle\" x=\"245.5\" y=\"-195.3\" font-family=\"futura\" font-size=\"14.00\">class = moderate</text>\n",
       "</g>\n",
       "<!-- 0&#45;&gt;1 -->\n",
       "<g id=\"edge1\" class=\"edge\">\n",
       "<title>0&#45;&gt;1</title>\n",
       "<path fill=\"none\" stroke=\"black\" d=\"M140.07,-198.3C148.65,-200.83 157.48,-203.42 166.19,-205.98\"/>\n",
       "<polygon fill=\"black\" stroke=\"black\" points=\"165.37,-209.39 175.95,-208.85 167.34,-202.67 165.37,-209.39\"/>\n",
       "<text text-anchor=\"middle\" x=\"154.01\" y=\"-217.12\" font-family=\"futura\" font-size=\"14.00\">True</text>\n",
       "</g>\n",
       "<!-- 6 -->\n",
       "<g id=\"node7\" class=\"node\">\n",
       "<title>6</title>\n",
       "<path fill=\"#e99254\" stroke=\"black\" d=\"M299,-169.5C299,-169.5 192,-169.5 192,-169.5 186,-169.5 180,-163.5 180,-157.5 180,-157.5 180,-98.5 180,-98.5 180,-92.5 186,-86.5 192,-86.5 192,-86.5 299,-86.5 299,-86.5 305,-86.5 311,-92.5 311,-98.5 311,-98.5 311,-157.5 311,-157.5 311,-163.5 305,-169.5 299,-169.5\"/>\n",
       "<text text-anchor=\"middle\" x=\"245.5\" y=\"-154.3\" font-family=\"futura\" font-size=\"14.00\">nWBV &lt;= 0.773</text>\n",
       "<text text-anchor=\"middle\" x=\"245.5\" y=\"-139.3\" font-family=\"futura\" font-size=\"14.00\">gini = 0.213</text>\n",
       "<text text-anchor=\"middle\" x=\"245.5\" y=\"-124.3\" font-family=\"futura\" font-size=\"14.00\">samples = 91</text>\n",
       "<text text-anchor=\"middle\" x=\"245.5\" y=\"-109.3\" font-family=\"futura\" font-size=\"14.00\">value = [80, 11]</text>\n",
       "<text text-anchor=\"middle\" x=\"245.5\" y=\"-94.3\" font-family=\"futura\" font-size=\"14.00\">class = mild</text>\n",
       "</g>\n",
       "<!-- 0&#45;&gt;6 -->\n",
       "<g id=\"edge6\" class=\"edge\">\n",
       "<title>0&#45;&gt;6</title>\n",
       "<path fill=\"none\" stroke=\"black\" d=\"M140.07,-158.1C149.92,-155.26 160.09,-152.33 170.04,-149.46\"/>\n",
       "<polygon fill=\"black\" stroke=\"black\" points=\"171.26,-152.75 179.9,-146.62 169.32,-146.02 171.26,-152.75\"/>\n",
       "<text text-anchor=\"middle\" x=\"158.01\" y=\"-130.83\" font-family=\"futura\" font-size=\"14.00\">False</text>\n",
       "</g>\n",
       "<!-- 2 -->\n",
       "<g id=\"node3\" class=\"node\">\n",
       "<title>2</title>\n",
       "<path fill=\"#e58139\" stroke=\"black\" d=\"M465,-357C465,-357 376,-357 376,-357 370,-357 364,-351 364,-345 364,-345 364,-301 364,-301 364,-295 370,-289 376,-289 376,-289 465,-289 465,-289 471,-289 477,-295 477,-301 477,-301 477,-345 477,-345 477,-351 471,-357 465,-357\"/>\n",
       "<text text-anchor=\"middle\" x=\"420.5\" y=\"-341.8\" font-family=\"futura\" font-size=\"14.00\">gini = 0.0</text>\n",
       "<text text-anchor=\"middle\" x=\"420.5\" y=\"-326.8\" font-family=\"futura\" font-size=\"14.00\">samples = 3</text>\n",
       "<text text-anchor=\"middle\" x=\"420.5\" y=\"-311.8\" font-family=\"futura\" font-size=\"14.00\">value = [3, 0]</text>\n",
       "<text text-anchor=\"middle\" x=\"420.5\" y=\"-296.8\" font-family=\"futura\" font-size=\"14.00\">class = mild</text>\n",
       "</g>\n",
       "<!-- 1&#45;&gt;2 -->\n",
       "<g id=\"edge2\" class=\"edge\">\n",
       "<title>1&#45;&gt;2</title>\n",
       "<path fill=\"none\" stroke=\"black\" d=\"M315.37,-266.42C328.46,-273.53 342.12,-280.95 355.06,-287.99\"/>\n",
       "<polygon fill=\"black\" stroke=\"black\" points=\"353.44,-291.09 363.9,-292.79 356.78,-284.94 353.44,-291.09\"/>\n",
       "</g>\n",
       "<!-- 3 -->\n",
       "<g id=\"node4\" class=\"node\">\n",
       "<title>3</title>\n",
       "<path fill=\"#cce6f8\" stroke=\"black\" d=\"M478,-270.5C478,-270.5 363,-270.5 363,-270.5 357,-270.5 351,-264.5 351,-258.5 351,-258.5 351,-199.5 351,-199.5 351,-193.5 357,-187.5 363,-187.5 363,-187.5 478,-187.5 478,-187.5 484,-187.5 490,-193.5 490,-199.5 490,-199.5 490,-258.5 490,-258.5 490,-264.5 484,-270.5 478,-270.5\"/>\n",
       "<text text-anchor=\"middle\" x=\"420.5\" y=\"-255.3\" font-family=\"futura\" font-size=\"14.00\">Age &lt;= 0.841</text>\n",
       "<text text-anchor=\"middle\" x=\"420.5\" y=\"-240.3\" font-family=\"futura\" font-size=\"14.00\">gini = 0.489</text>\n",
       "<text text-anchor=\"middle\" x=\"420.5\" y=\"-225.3\" font-family=\"futura\" font-size=\"14.00\">samples = 82</text>\n",
       "<text text-anchor=\"middle\" x=\"420.5\" y=\"-210.3\" font-family=\"futura\" font-size=\"14.00\">value = [35, 47]</text>\n",
       "<text text-anchor=\"middle\" x=\"420.5\" y=\"-195.3\" font-family=\"futura\" font-size=\"14.00\">class = moderate</text>\n",
       "</g>\n",
       "<!-- 1&#45;&gt;3 -->\n",
       "<g id=\"edge3\" class=\"edge\">\n",
       "<title>1&#45;&gt;3</title>\n",
       "<path fill=\"none\" stroke=\"black\" d=\"M315.37,-229C323.68,-229 332.21,-229 340.65,-229\"/>\n",
       "<polygon fill=\"black\" stroke=\"black\" points=\"340.87,-232.5 350.87,-229 340.87,-225.5 340.87,-232.5\"/>\n",
       "</g>\n",
       "<!-- 4 -->\n",
       "<g id=\"node5\" class=\"node\">\n",
       "<title>4</title>\n",
       "<path fill=\"#a6d3f3\" stroke=\"black\" d=\"M653,-345C653,-345 538,-345 538,-345 532,-345 526,-339 526,-333 526,-333 526,-289 526,-289 526,-283 532,-277 538,-277 538,-277 653,-277 653,-277 659,-277 665,-283 665,-289 665,-289 665,-333 665,-333 665,-339 659,-345 653,-345\"/>\n",
       "<text text-anchor=\"middle\" x=\"595.5\" y=\"-329.8\" font-family=\"futura\" font-size=\"14.00\">gini = 0.458</text>\n",
       "<text text-anchor=\"middle\" x=\"595.5\" y=\"-314.8\" font-family=\"futura\" font-size=\"14.00\">samples = 59</text>\n",
       "<text text-anchor=\"middle\" x=\"595.5\" y=\"-299.8\" font-family=\"futura\" font-size=\"14.00\">value = [21, 38]</text>\n",
       "<text text-anchor=\"middle\" x=\"595.5\" y=\"-284.8\" font-family=\"futura\" font-size=\"14.00\">class = moderate</text>\n",
       "</g>\n",
       "<!-- 3&#45;&gt;4 -->\n",
       "<g id=\"edge4\" class=\"edge\">\n",
       "<title>3&#45;&gt;4</title>\n",
       "<path fill=\"none\" stroke=\"black\" d=\"M490.37,-261.64C499.04,-265.75 507.96,-269.98 516.76,-274.15\"/>\n",
       "<polygon fill=\"black\" stroke=\"black\" points=\"515.33,-277.35 525.87,-278.47 518.33,-271.02 515.33,-277.35\"/>\n",
       "</g>\n",
       "<!-- 5 -->\n",
       "<g id=\"node6\" class=\"node\">\n",
       "<title>5</title>\n",
       "<path fill=\"#f6d2b8\" stroke=\"black\" d=\"M644.5,-259C644.5,-259 546.5,-259 546.5,-259 540.5,-259 534.5,-253 534.5,-247 534.5,-247 534.5,-203 534.5,-203 534.5,-197 540.5,-191 546.5,-191 546.5,-191 644.5,-191 644.5,-191 650.5,-191 656.5,-197 656.5,-203 656.5,-203 656.5,-247 656.5,-247 656.5,-253 650.5,-259 644.5,-259\"/>\n",
       "<text text-anchor=\"middle\" x=\"595.5\" y=\"-243.8\" font-family=\"futura\" font-size=\"14.00\">gini = 0.476</text>\n",
       "<text text-anchor=\"middle\" x=\"595.5\" y=\"-228.8\" font-family=\"futura\" font-size=\"14.00\">samples = 23</text>\n",
       "<text text-anchor=\"middle\" x=\"595.5\" y=\"-213.8\" font-family=\"futura\" font-size=\"14.00\">value = [14, 9]</text>\n",
       "<text text-anchor=\"middle\" x=\"595.5\" y=\"-198.8\" font-family=\"futura\" font-size=\"14.00\">class = mild</text>\n",
       "</g>\n",
       "<!-- 3&#45;&gt;5 -->\n",
       "<g id=\"edge5\" class=\"edge\">\n",
       "<title>3&#45;&gt;5</title>\n",
       "<path fill=\"none\" stroke=\"black\" d=\"M490.37,-227.41C501.48,-227.15 513,-226.88 524.14,-226.63\"/>\n",
       "<polygon fill=\"black\" stroke=\"black\" points=\"524.33,-230.12 534.25,-226.39 524.17,-223.13 524.33,-230.12\"/>\n",
       "</g>\n",
       "<!-- 7 -->\n",
       "<g id=\"node8\" class=\"node\">\n",
       "<title>7</title>\n",
       "<path fill=\"#edaa79\" stroke=\"black\" d=\"M474,-169.5C474,-169.5 367,-169.5 367,-169.5 361,-169.5 355,-163.5 355,-157.5 355,-157.5 355,-98.5 355,-98.5 355,-92.5 361,-86.5 367,-86.5 367,-86.5 474,-86.5 474,-86.5 480,-86.5 486,-92.5 486,-98.5 486,-98.5 486,-157.5 486,-157.5 486,-163.5 480,-169.5 474,-169.5\"/>\n",
       "<text text-anchor=\"middle\" x=\"420.5\" y=\"-154.3\" font-family=\"futura\" font-size=\"14.00\">M/F &lt;= 0.5</text>\n",
       "<text text-anchor=\"middle\" x=\"420.5\" y=\"-139.3\" font-family=\"futura\" font-size=\"14.00\">gini = 0.369</text>\n",
       "<text text-anchor=\"middle\" x=\"420.5\" y=\"-124.3\" font-family=\"futura\" font-size=\"14.00\">samples = 45</text>\n",
       "<text text-anchor=\"middle\" x=\"420.5\" y=\"-109.3\" font-family=\"futura\" font-size=\"14.00\">value = [34, 11]</text>\n",
       "<text text-anchor=\"middle\" x=\"420.5\" y=\"-94.3\" font-family=\"futura\" font-size=\"14.00\">class = mild</text>\n",
       "</g>\n",
       "<!-- 6&#45;&gt;7 -->\n",
       "<g id=\"edge7\" class=\"edge\">\n",
       "<title>6&#45;&gt;7</title>\n",
       "<path fill=\"none\" stroke=\"black\" d=\"M311.41,-128C322.28,-128 333.62,-128 344.71,-128\"/>\n",
       "<polygon fill=\"black\" stroke=\"black\" points=\"344.8,-131.5 354.8,-128 344.8,-124.5 344.8,-131.5\"/>\n",
       "</g>\n",
       "<!-- 10 -->\n",
       "<g id=\"node11\" class=\"node\">\n",
       "<title>10</title>\n",
       "<path fill=\"#e58139\" stroke=\"black\" d=\"M469.5,-68C469.5,-68 371.5,-68 371.5,-68 365.5,-68 359.5,-62 359.5,-56 359.5,-56 359.5,-12 359.5,-12 359.5,-6 365.5,0 371.5,0 371.5,0 469.5,0 469.5,0 475.5,0 481.5,-6 481.5,-12 481.5,-12 481.5,-56 481.5,-56 481.5,-62 475.5,-68 469.5,-68\"/>\n",
       "<text text-anchor=\"middle\" x=\"420.5\" y=\"-52.8\" font-family=\"futura\" font-size=\"14.00\">gini = 0.0</text>\n",
       "<text text-anchor=\"middle\" x=\"420.5\" y=\"-37.8\" font-family=\"futura\" font-size=\"14.00\">samples = 46</text>\n",
       "<text text-anchor=\"middle\" x=\"420.5\" y=\"-22.8\" font-family=\"futura\" font-size=\"14.00\">value = [46, 0]</text>\n",
       "<text text-anchor=\"middle\" x=\"420.5\" y=\"-7.8\" font-family=\"futura\" font-size=\"14.00\">class = mild</text>\n",
       "</g>\n",
       "<!-- 6&#45;&gt;10 -->\n",
       "<g id=\"edge10\" class=\"edge\">\n",
       "<title>6&#45;&gt;10</title>\n",
       "<path fill=\"none\" stroke=\"black\" d=\"M311.41,-92.73C324.19,-85.79 337.63,-78.48 350.54,-71.47\"/>\n",
       "<polygon fill=\"black\" stroke=\"black\" points=\"352.25,-74.52 359.37,-66.67 348.91,-68.37 352.25,-74.52\"/>\n",
       "</g>\n",
       "<!-- 8 -->\n",
       "<g id=\"node9\" class=\"node\">\n",
       "<title>8</title>\n",
       "<path fill=\"#e99457\" stroke=\"black\" d=\"M644.5,-166C644.5,-166 546.5,-166 546.5,-166 540.5,-166 534.5,-160 534.5,-154 534.5,-154 534.5,-110 534.5,-110 534.5,-104 540.5,-98 546.5,-98 546.5,-98 644.5,-98 644.5,-98 650.5,-98 656.5,-104 656.5,-110 656.5,-110 656.5,-154 656.5,-154 656.5,-160 650.5,-166 644.5,-166\"/>\n",
       "<text text-anchor=\"middle\" x=\"595.5\" y=\"-150.8\" font-family=\"futura\" font-size=\"14.00\">gini = 0.231</text>\n",
       "<text text-anchor=\"middle\" x=\"595.5\" y=\"-135.8\" font-family=\"futura\" font-size=\"14.00\">samples = 30</text>\n",
       "<text text-anchor=\"middle\" x=\"595.5\" y=\"-120.8\" font-family=\"futura\" font-size=\"14.00\">value = [26, 4]</text>\n",
       "<text text-anchor=\"middle\" x=\"595.5\" y=\"-105.8\" font-family=\"futura\" font-size=\"14.00\">class = mild</text>\n",
       "</g>\n",
       "<!-- 7&#45;&gt;8 -->\n",
       "<g id=\"edge8\" class=\"edge\">\n",
       "<title>7&#45;&gt;8</title>\n",
       "<path fill=\"none\" stroke=\"black\" d=\"M486.41,-129.5C498.7,-129.78 511.6,-130.08 524.05,-130.37\"/>\n",
       "<polygon fill=\"black\" stroke=\"black\" points=\"524.29,-133.88 534.37,-130.61 524.45,-126.88 524.29,-133.88\"/>\n",
       "</g>\n",
       "<!-- 9 -->\n",
       "<g id=\"node10\" class=\"node\">\n",
       "<title>9</title>\n",
       "<path fill=\"#fcefe6\" stroke=\"black\" d=\"M640,-80C640,-80 551,-80 551,-80 545,-80 539,-74 539,-68 539,-68 539,-24 539,-24 539,-18 545,-12 551,-12 551,-12 640,-12 640,-12 646,-12 652,-18 652,-24 652,-24 652,-68 652,-68 652,-74 646,-80 640,-80\"/>\n",
       "<text text-anchor=\"middle\" x=\"595.5\" y=\"-64.8\" font-family=\"futura\" font-size=\"14.00\">gini = 0.498</text>\n",
       "<text text-anchor=\"middle\" x=\"595.5\" y=\"-49.8\" font-family=\"futura\" font-size=\"14.00\">samples = 15</text>\n",
       "<text text-anchor=\"middle\" x=\"595.5\" y=\"-34.8\" font-family=\"futura\" font-size=\"14.00\">value = [8, 7]</text>\n",
       "<text text-anchor=\"middle\" x=\"595.5\" y=\"-19.8\" font-family=\"futura\" font-size=\"14.00\">class = mild</text>\n",
       "</g>\n",
       "<!-- 7&#45;&gt;9 -->\n",
       "<g id=\"edge9\" class=\"edge\">\n",
       "<title>7&#45;&gt;9</title>\n",
       "<path fill=\"none\" stroke=\"black\" d=\"M486.41,-97.23C500.57,-90.52 515.55,-83.42 529.7,-76.71\"/>\n",
       "<polygon fill=\"black\" stroke=\"black\" points=\"531.33,-79.82 538.87,-72.37 528.33,-73.49 531.33,-79.82\"/>\n",
       "</g>\n",
       "</g>\n",
       "</svg>\n"
      ],
      "text/plain": [
       "<graphviz.sources.Source at 0x7f3bb583f9a0>"
      ]
     },
     "metadata": {},
     "output_type": "display_data"
    }
   ],
   "source": [
    "# Export model graph\n",
    "export_graphviz(tree_clf, out_file=\"oasis1_tree.dot\", \n",
    "                feature_names=X_scaled_test.columns,\n",
    "                class_names=['mild', 'moderate'], \n",
    "                rounded=True, filled=True, rotate = True, fontname = 'futura')\n",
    "\n",
    "# Import model graph\n",
    "with open(\"oasis1_tree.dot\") as f:\n",
    "    dot_graph = f.read()\n",
    "    display(graphviz.Source(dot_graph))"
   ]
  },
  {
   "cell_type": "code",
   "execution_count": null,
   "id": "cd4b1971",
   "metadata": {},
   "outputs": [],
   "source": []
  }
 ],
 "metadata": {
  "kernelspec": {
   "display_name": "Python 3 (ipykernel)",
   "language": "python",
   "name": "python3"
  },
  "language_info": {
   "codemirror_mode": {
    "name": "ipython",
    "version": 3
   },
   "file_extension": ".py",
   "mimetype": "text/x-python",
   "name": "python",
   "nbconvert_exporter": "python",
   "pygments_lexer": "ipython3",
   "version": "3.8.12"
  },
  "toc": {
   "base_numbering": 1,
   "nav_menu": {},
   "number_sections": true,
   "sideBar": true,
   "skip_h1_title": false,
   "title_cell": "Table of Contents",
   "title_sidebar": "Contents",
   "toc_cell": false,
   "toc_position": {},
   "toc_section_display": true,
   "toc_window_display": false
  }
 },
 "nbformat": 4,
 "nbformat_minor": 5
}
