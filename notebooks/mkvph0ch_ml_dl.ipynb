{
 "cells": [
  {
   "cell_type": "markdown",
   "id": "f8c1ecb6-386d-414f-8ecd-2471ca518585",
   "metadata": {},
   "source": [
    "# Import packages"
   ]
  },
  {
   "cell_type": "code",
   "execution_count": 67,
   "id": "61e0c505-047b-46ab-b2f0-57c7850e33e2",
   "metadata": {},
   "outputs": [],
   "source": [
    "import numpy as np\n",
    "import pandas as pd\n",
    "import matplotlib.pyplot as plt\n",
    "import seaborn as sns\n",
    "\n",
    "from sklearn.model_selection import train_test_split, GridSearchCV\n",
    "from sklearn.decomposition import PCA\n",
    "from sklearn.ensemble import RandomForestClassifier\n",
    "from sklearn.impute import SimpleImputer\n",
    "from sklearn.metrics import recall_score, precision_score, accuracy_score, confusion_matrix, plot_confusion_matrix\n",
    "\n",
    "from tensorflow.keras.callbacks import EarlyStopping\n",
    "from tensorflow.keras.models import Sequential\n",
    "from tensorflow.keras.layers import Conv2D, Dense, Activation, Flatten, MaxPooling2D, Dropout\n",
    "from tensorflow.keras.metrics import Recall, Precision\n",
    "\n",
    "import random\n",
    "import os\n",
    "import glob\n",
    "from pathlib import Path\n",
    "\n",
    "%matplotlib inline"
   ]
  },
  {
   "cell_type": "markdown",
   "id": "f712b4e9-c893-479f-aa73-40a8ce69b71b",
   "metadata": {},
   "source": [
    "# Paths"
   ]
  },
  {
   "cell_type": "code",
   "execution_count": 2,
   "id": "abebc486-abeb-4b0c-9378-fea2481e1b21",
   "metadata": {},
   "outputs": [],
   "source": [
    "# local path\n",
    "user_path = Path('/Users/mkv/code/mkvph0ch/memobrain/')\n",
    "# google cloud storage bucket path\n",
    "gcp_path = 'gs://memobrain/raw_data/'"
   ]
  },
  {
   "cell_type": "markdown",
   "id": "dd74d262-5ee8-4bf4-979b-163a5a2b89f9",
   "metadata": {},
   "source": [
    "# Load Metadata"
   ]
  },
  {
   "cell_type": "markdown",
   "id": "847ad9b0-1e87-4614-8320-78867bcec342",
   "metadata": {},
   "source": [
    "## OASIS1"
   ]
  },
  {
   "cell_type": "code",
   "execution_count": 6,
   "id": "c3deff02-c1f3-4148-a71a-f75f8104d35a",
   "metadata": {},
   "outputs": [
    {
     "data": {
      "text/html": [
       "<div>\n",
       "<style scoped>\n",
       "    .dataframe tbody tr th:only-of-type {\n",
       "        vertical-align: middle;\n",
       "    }\n",
       "\n",
       "    .dataframe tbody tr th {\n",
       "        vertical-align: top;\n",
       "    }\n",
       "\n",
       "    .dataframe thead th {\n",
       "        text-align: right;\n",
       "    }\n",
       "</style>\n",
       "<table border=\"1\" class=\"dataframe\">\n",
       "  <thead>\n",
       "    <tr style=\"text-align: right;\">\n",
       "      <th></th>\n",
       "      <th>ID</th>\n",
       "      <th>M/F</th>\n",
       "      <th>Hand</th>\n",
       "      <th>Age</th>\n",
       "      <th>Educ</th>\n",
       "      <th>SES</th>\n",
       "      <th>MMSE</th>\n",
       "      <th>CDR</th>\n",
       "      <th>eTIV</th>\n",
       "      <th>nWBV</th>\n",
       "      <th>ASF</th>\n",
       "      <th>Delay</th>\n",
       "    </tr>\n",
       "  </thead>\n",
       "  <tbody>\n",
       "    <tr>\n",
       "      <th>0</th>\n",
       "      <td>OAS1_0001_MR1</td>\n",
       "      <td>F</td>\n",
       "      <td>R</td>\n",
       "      <td>74</td>\n",
       "      <td>2.0</td>\n",
       "      <td>3.0</td>\n",
       "      <td>29.0</td>\n",
       "      <td>0.0</td>\n",
       "      <td>1344</td>\n",
       "      <td>0.743</td>\n",
       "      <td>1.306</td>\n",
       "      <td>NaN</td>\n",
       "    </tr>\n",
       "    <tr>\n",
       "      <th>1</th>\n",
       "      <td>OAS1_0002_MR1</td>\n",
       "      <td>F</td>\n",
       "      <td>R</td>\n",
       "      <td>55</td>\n",
       "      <td>4.0</td>\n",
       "      <td>1.0</td>\n",
       "      <td>29.0</td>\n",
       "      <td>0.0</td>\n",
       "      <td>1147</td>\n",
       "      <td>0.810</td>\n",
       "      <td>1.531</td>\n",
       "      <td>NaN</td>\n",
       "    </tr>\n",
       "    <tr>\n",
       "      <th>2</th>\n",
       "      <td>OAS1_0003_MR1</td>\n",
       "      <td>F</td>\n",
       "      <td>R</td>\n",
       "      <td>73</td>\n",
       "      <td>4.0</td>\n",
       "      <td>3.0</td>\n",
       "      <td>27.0</td>\n",
       "      <td>0.5</td>\n",
       "      <td>1454</td>\n",
       "      <td>0.708</td>\n",
       "      <td>1.207</td>\n",
       "      <td>NaN</td>\n",
       "    </tr>\n",
       "    <tr>\n",
       "      <th>3</th>\n",
       "      <td>OAS1_0004_MR1</td>\n",
       "      <td>M</td>\n",
       "      <td>R</td>\n",
       "      <td>28</td>\n",
       "      <td>NaN</td>\n",
       "      <td>NaN</td>\n",
       "      <td>NaN</td>\n",
       "      <td>NaN</td>\n",
       "      <td>1588</td>\n",
       "      <td>0.803</td>\n",
       "      <td>1.105</td>\n",
       "      <td>NaN</td>\n",
       "    </tr>\n",
       "    <tr>\n",
       "      <th>4</th>\n",
       "      <td>OAS1_0005_MR1</td>\n",
       "      <td>M</td>\n",
       "      <td>R</td>\n",
       "      <td>18</td>\n",
       "      <td>NaN</td>\n",
       "      <td>NaN</td>\n",
       "      <td>NaN</td>\n",
       "      <td>NaN</td>\n",
       "      <td>1737</td>\n",
       "      <td>0.848</td>\n",
       "      <td>1.010</td>\n",
       "      <td>NaN</td>\n",
       "    </tr>\n",
       "  </tbody>\n",
       "</table>\n",
       "</div>"
      ],
      "text/plain": [
       "              ID M/F Hand  Age  Educ  SES  MMSE  CDR  eTIV   nWBV    ASF  \\\n",
       "0  OAS1_0001_MR1   F    R   74   2.0  3.0  29.0  0.0  1344  0.743  1.306   \n",
       "1  OAS1_0002_MR1   F    R   55   4.0  1.0  29.0  0.0  1147  0.810  1.531   \n",
       "2  OAS1_0003_MR1   F    R   73   4.0  3.0  27.0  0.5  1454  0.708  1.207   \n",
       "3  OAS1_0004_MR1   M    R   28   NaN  NaN   NaN  NaN  1588  0.803  1.105   \n",
       "4  OAS1_0005_MR1   M    R   18   NaN  NaN   NaN  NaN  1737  0.848  1.010   \n",
       "\n",
       "   Delay  \n",
       "0    NaN  \n",
       "1    NaN  \n",
       "2    NaN  \n",
       "3    NaN  \n",
       "4    NaN  "
      ]
     },
     "execution_count": 6,
     "metadata": {},
     "output_type": "execute_result"
    }
   ],
   "source": [
    "# load metadata OASIS1\n",
    "oas1_meta_file = user_path.joinpath('raw_data/OASIS1/oasis_cross-sectional.csv')\n",
    "\n",
    "# load to pandas df, show head\n",
    "oas1_meta_df = pd.read_csv(oas1_meta_file)\n",
    "oas1_meta_df.head()"
   ]
  },
  {
   "cell_type": "code",
   "execution_count": 10,
   "id": "3a82653f-2210-4cda-b028-6bc54cd25f35",
   "metadata": {},
   "outputs": [],
   "source": [
    "oas1_meta = oas1_meta_df.copy().drop(columns=['Hand', 'Educ', 'Delay'])"
   ]
  },
  {
   "cell_type": "code",
   "execution_count": 13,
   "id": "87041705-9e8d-4d30-8e65-2632d9a351f7",
   "metadata": {},
   "outputs": [],
   "source": [
    "oas1_meta.dropna(subset = [\"CDR\"], axis=0, inplace=True)"
   ]
  },
  {
   "cell_type": "code",
   "execution_count": 14,
   "id": "50253741-1aec-43b7-90d8-7b0180376bde",
   "metadata": {},
   "outputs": [
    {
     "data": {
      "text/plain": [
       "ID       0\n",
       "M/F      0\n",
       "Age      0\n",
       "SES     19\n",
       "MMSE     0\n",
       "CDR      0\n",
       "eTIV     0\n",
       "nWBV     0\n",
       "ASF      0\n",
       "dtype: int64"
      ]
     },
     "execution_count": 14,
     "metadata": {},
     "output_type": "execute_result"
    }
   ],
   "source": [
    "oas1_meta.isna().sum()"
   ]
  },
  {
   "cell_type": "code",
   "execution_count": 18,
   "id": "bf4c42fd-0592-4043-965a-815f48f95e4c",
   "metadata": {},
   "outputs": [],
   "source": [
    "oas1_mean = SimpleImputer(missing_values=np.nan, strategy='mean')"
   ]
  },
  {
   "cell_type": "code",
   "execution_count": 24,
   "id": "375c9ddf-c753-47b5-aa95-f35fc314218c",
   "metadata": {},
   "outputs": [],
   "source": [
    "oas1_meta['SES'] = oas1_mean.fit_transform(oas1_meta['SES'].values.reshape(-1, 1))"
   ]
  },
  {
   "cell_type": "code",
   "execution_count": 26,
   "id": "50b34c03-dccb-479c-b09e-228dd198c6eb",
   "metadata": {},
   "outputs": [
    {
     "data": {
      "text/plain": [
       "ID      0\n",
       "M/F     0\n",
       "Age     0\n",
       "SES     0\n",
       "MMSE    0\n",
       "CDR     0\n",
       "eTIV    0\n",
       "nWBV    0\n",
       "ASF     0\n",
       "dtype: int64"
      ]
     },
     "execution_count": 26,
     "metadata": {},
     "output_type": "execute_result"
    }
   ],
   "source": [
    "oas1_meta.isna().sum()"
   ]
  },
  {
   "cell_type": "markdown",
   "id": "9b1153e9-f92b-4292-a317-857b6558f1e5",
   "metadata": {},
   "source": [
    "## OASIS2"
   ]
  },
  {
   "cell_type": "code",
   "execution_count": 9,
   "id": "057b54be-6cb6-4995-b9c8-cb9c8d28b286",
   "metadata": {},
   "outputs": [
    {
     "data": {
      "text/html": [
       "<div>\n",
       "<style scoped>\n",
       "    .dataframe tbody tr th:only-of-type {\n",
       "        vertical-align: middle;\n",
       "    }\n",
       "\n",
       "    .dataframe tbody tr th {\n",
       "        vertical-align: top;\n",
       "    }\n",
       "\n",
       "    .dataframe thead th {\n",
       "        text-align: right;\n",
       "    }\n",
       "</style>\n",
       "<table border=\"1\" class=\"dataframe\">\n",
       "  <thead>\n",
       "    <tr style=\"text-align: right;\">\n",
       "      <th></th>\n",
       "      <th>Subject ID</th>\n",
       "      <th>MRI ID</th>\n",
       "      <th>Group</th>\n",
       "      <th>Visit</th>\n",
       "      <th>MR Delay</th>\n",
       "      <th>M/F</th>\n",
       "      <th>Hand</th>\n",
       "      <th>Age</th>\n",
       "      <th>EDUC</th>\n",
       "      <th>SES</th>\n",
       "      <th>MMSE</th>\n",
       "      <th>CDR</th>\n",
       "      <th>eTIV</th>\n",
       "      <th>nWBV</th>\n",
       "      <th>ASF</th>\n",
       "    </tr>\n",
       "  </thead>\n",
       "  <tbody>\n",
       "    <tr>\n",
       "      <th>0</th>\n",
       "      <td>OAS2_0001</td>\n",
       "      <td>OAS2_0001_MR1</td>\n",
       "      <td>Nondemented</td>\n",
       "      <td>1</td>\n",
       "      <td>0</td>\n",
       "      <td>M</td>\n",
       "      <td>R</td>\n",
       "      <td>87</td>\n",
       "      <td>14</td>\n",
       "      <td>2.0</td>\n",
       "      <td>27.0</td>\n",
       "      <td>0.0</td>\n",
       "      <td>1986.550000</td>\n",
       "      <td>0.696106</td>\n",
       "      <td>0.883440</td>\n",
       "    </tr>\n",
       "    <tr>\n",
       "      <th>1</th>\n",
       "      <td>OAS2_0001</td>\n",
       "      <td>OAS2_0001_MR2</td>\n",
       "      <td>Nondemented</td>\n",
       "      <td>2</td>\n",
       "      <td>457</td>\n",
       "      <td>M</td>\n",
       "      <td>R</td>\n",
       "      <td>88</td>\n",
       "      <td>14</td>\n",
       "      <td>2.0</td>\n",
       "      <td>30.0</td>\n",
       "      <td>0.0</td>\n",
       "      <td>2004.479526</td>\n",
       "      <td>0.681062</td>\n",
       "      <td>0.875539</td>\n",
       "    </tr>\n",
       "    <tr>\n",
       "      <th>2</th>\n",
       "      <td>OAS2_0002</td>\n",
       "      <td>OAS2_0002_MR1</td>\n",
       "      <td>Demented</td>\n",
       "      <td>1</td>\n",
       "      <td>0</td>\n",
       "      <td>M</td>\n",
       "      <td>R</td>\n",
       "      <td>75</td>\n",
       "      <td>12</td>\n",
       "      <td>NaN</td>\n",
       "      <td>23.0</td>\n",
       "      <td>0.5</td>\n",
       "      <td>1678.290000</td>\n",
       "      <td>0.736336</td>\n",
       "      <td>1.045710</td>\n",
       "    </tr>\n",
       "    <tr>\n",
       "      <th>3</th>\n",
       "      <td>OAS2_0002</td>\n",
       "      <td>OAS2_0002_MR2</td>\n",
       "      <td>Demented</td>\n",
       "      <td>2</td>\n",
       "      <td>560</td>\n",
       "      <td>M</td>\n",
       "      <td>R</td>\n",
       "      <td>76</td>\n",
       "      <td>12</td>\n",
       "      <td>NaN</td>\n",
       "      <td>28.0</td>\n",
       "      <td>0.5</td>\n",
       "      <td>1737.620000</td>\n",
       "      <td>0.713402</td>\n",
       "      <td>1.010000</td>\n",
       "    </tr>\n",
       "    <tr>\n",
       "      <th>4</th>\n",
       "      <td>OAS2_0002</td>\n",
       "      <td>OAS2_0002_MR3</td>\n",
       "      <td>Demented</td>\n",
       "      <td>3</td>\n",
       "      <td>1895</td>\n",
       "      <td>M</td>\n",
       "      <td>R</td>\n",
       "      <td>80</td>\n",
       "      <td>12</td>\n",
       "      <td>NaN</td>\n",
       "      <td>22.0</td>\n",
       "      <td>0.5</td>\n",
       "      <td>1697.911134</td>\n",
       "      <td>0.701236</td>\n",
       "      <td>1.033623</td>\n",
       "    </tr>\n",
       "  </tbody>\n",
       "</table>\n",
       "</div>"
      ],
      "text/plain": [
       "  Subject ID         MRI ID        Group  Visit  MR Delay M/F Hand  Age  EDUC  \\\n",
       "0  OAS2_0001  OAS2_0001_MR1  Nondemented      1         0   M    R   87    14   \n",
       "1  OAS2_0001  OAS2_0001_MR2  Nondemented      2       457   M    R   88    14   \n",
       "2  OAS2_0002  OAS2_0002_MR1     Demented      1         0   M    R   75    12   \n",
       "3  OAS2_0002  OAS2_0002_MR2     Demented      2       560   M    R   76    12   \n",
       "4  OAS2_0002  OAS2_0002_MR3     Demented      3      1895   M    R   80    12   \n",
       "\n",
       "   SES  MMSE  CDR         eTIV      nWBV       ASF  \n",
       "0  2.0  27.0  0.0  1986.550000  0.696106  0.883440  \n",
       "1  2.0  30.0  0.0  2004.479526  0.681062  0.875539  \n",
       "2  NaN  23.0  0.5  1678.290000  0.736336  1.045710  \n",
       "3  NaN  28.0  0.5  1737.620000  0.713402  1.010000  \n",
       "4  NaN  22.0  0.5  1697.911134  0.701236  1.033623  "
      ]
     },
     "execution_count": 9,
     "metadata": {},
     "output_type": "execute_result"
    }
   ],
   "source": [
    "# load metadata OASIS2\n",
    "oas2_meta_file = user_path.joinpath('raw_data/OASIS2/oasis_longitudinal_demographics.xlsx')\n",
    "\n",
    "# load to pandas df, show head\n",
    "oas2_meta_df = pd.read_excel(oas2_meta_file)\n",
    "oas2_meta_df.head()"
   ]
  },
  {
   "cell_type": "code",
   "execution_count": 15,
   "id": "e38fa422-34c6-4cd7-aa12-df5846dcc7ff",
   "metadata": {},
   "outputs": [],
   "source": [
    "oas2_meta = oas2_meta_df.copy().drop(columns=['Subject ID', 'Group', 'Visit', 'MR Delay', 'Hand', 'EDUC'])"
   ]
  },
  {
   "cell_type": "code",
   "execution_count": 16,
   "id": "7f3ae65b-ebfe-43ff-abc7-ccc6e8962fb2",
   "metadata": {},
   "outputs": [
    {
     "data": {
      "text/plain": [
       "MRI ID     0\n",
       "M/F        0\n",
       "Age        0\n",
       "SES       19\n",
       "MMSE       2\n",
       "CDR        0\n",
       "eTIV       0\n",
       "nWBV       0\n",
       "ASF        0\n",
       "dtype: int64"
      ]
     },
     "execution_count": 16,
     "metadata": {},
     "output_type": "execute_result"
    }
   ],
   "source": [
    "oas2_meta.isna().sum()"
   ]
  },
  {
   "cell_type": "code",
   "execution_count": 28,
   "id": "4fde3c99-2b12-4c1d-80da-31f4ad865a2e",
   "metadata": {},
   "outputs": [],
   "source": [
    "oas2_ses = SimpleImputer(missing_values=np.nan, strategy='mean')\n",
    "oas2_meta['SES'] = oas2_ses.fit_transform(oas2_meta['SES'].values.reshape(-1, 1))\n",
    "\n",
    "oas2_mmse = SimpleImputer(missing_values=np.nan, strategy='mean')\n",
    "oas2_meta['MMSE'] = oas2_mmse.fit_transform(oas2_meta['MMSE'].values.reshape(-1, 1))"
   ]
  },
  {
   "cell_type": "code",
   "execution_count": 29,
   "id": "33e42a31-54d8-4324-8b79-c3d82b6144f1",
   "metadata": {},
   "outputs": [
    {
     "data": {
      "text/plain": [
       "MRI ID    0\n",
       "M/F       0\n",
       "Age       0\n",
       "SES       0\n",
       "MMSE      0\n",
       "CDR       0\n",
       "eTIV      0\n",
       "nWBV      0\n",
       "ASF       0\n",
       "dtype: int64"
      ]
     },
     "execution_count": 29,
     "metadata": {},
     "output_type": "execute_result"
    }
   ],
   "source": [
    "oas2_meta.isna().sum()"
   ]
  },
  {
   "cell_type": "markdown",
   "id": "6b5cd584-2139-4f36-845d-b4d91f72d2b9",
   "metadata": {},
   "source": [
    "## Merge OASIS1+2"
   ]
  },
  {
   "cell_type": "code",
   "execution_count": 40,
   "id": "133f8f55-2ed1-4ee2-9d6b-bd0a85a93d8b",
   "metadata": {
    "tags": []
   },
   "outputs": [
    {
     "data": {
      "text/plain": [
       "(235, 9)"
      ]
     },
     "execution_count": 40,
     "metadata": {},
     "output_type": "execute_result"
    }
   ],
   "source": [
    "oas1_meta.shape"
   ]
  },
  {
   "cell_type": "code",
   "execution_count": 41,
   "id": "1562cb69-3e60-44db-96cf-103efb28081e",
   "metadata": {},
   "outputs": [
    {
     "data": {
      "text/plain": [
       "(373, 9)"
      ]
     },
     "execution_count": 41,
     "metadata": {},
     "output_type": "execute_result"
    }
   ],
   "source": [
    "oas2_meta.shape"
   ]
  },
  {
   "cell_type": "code",
   "execution_count": 31,
   "id": "02b80d15-8449-4b39-baf9-b6acccda313c",
   "metadata": {},
   "outputs": [
    {
     "data": {
      "text/plain": [
       "Index(['ID', 'M/F', 'Age', 'SES', 'MMSE', 'CDR', 'eTIV', 'nWBV', 'ASF'], dtype='object')"
      ]
     },
     "execution_count": 31,
     "metadata": {},
     "output_type": "execute_result"
    }
   ],
   "source": [
    "oas1_meta.columns"
   ]
  },
  {
   "cell_type": "code",
   "execution_count": 32,
   "id": "c310f55c-6c89-4e22-907e-c9650fb3131b",
   "metadata": {},
   "outputs": [
    {
     "data": {
      "text/plain": [
       "Index(['MRI ID', 'M/F', 'Age', 'SES', 'MMSE', 'CDR', 'eTIV', 'nWBV', 'ASF'], dtype='object')"
      ]
     },
     "execution_count": 32,
     "metadata": {},
     "output_type": "execute_result"
    }
   ],
   "source": [
    "oas2_meta.columns"
   ]
  },
  {
   "cell_type": "code",
   "execution_count": 34,
   "id": "474f3015-0fcc-46c6-bf2f-1f9bc562203e",
   "metadata": {},
   "outputs": [
    {
     "data": {
      "text/plain": [
       "Index(['ID', 'M/F', 'Age', 'SES', 'MMSE', 'CDR', 'eTIV', 'nWBV', 'ASF'], dtype='object')"
      ]
     },
     "execution_count": 34,
     "metadata": {},
     "output_type": "execute_result"
    }
   ],
   "source": [
    "oas2_meta.rename(columns={\"MRI ID\": \"ID\"}, inplace=True)\n",
    "oas2_meta.columns"
   ]
  },
  {
   "cell_type": "code",
   "execution_count": 36,
   "id": "7642997f-8f5c-44b3-af9b-2ee3a1b62b55",
   "metadata": {},
   "outputs": [],
   "source": [
    "assert(oas1_meta.columns.all() == oas2_meta.columns.all())"
   ]
  },
  {
   "cell_type": "code",
   "execution_count": 43,
   "id": "17aba6a9-04fd-4257-92d5-5aca50b6b1d5",
   "metadata": {},
   "outputs": [],
   "source": [
    "oas_concat = pd.concat([oas1_meta, oas2_meta])"
   ]
  },
  {
   "cell_type": "code",
   "execution_count": 48,
   "id": "c827bf55-8334-4305-a5e6-dd7e2a120913",
   "metadata": {},
   "outputs": [],
   "source": [
    "assert (oas1_meta.shape[0] + oas2_meta.shape[0] == oas_concat.shape[0])"
   ]
  },
  {
   "cell_type": "code",
   "execution_count": 49,
   "id": "c4e0fadb-4ad7-4ae3-8034-c765c9747ebe",
   "metadata": {},
   "outputs": [
    {
     "data": {
      "text/html": [
       "<div>\n",
       "<style scoped>\n",
       "    .dataframe tbody tr th:only-of-type {\n",
       "        vertical-align: middle;\n",
       "    }\n",
       "\n",
       "    .dataframe tbody tr th {\n",
       "        vertical-align: top;\n",
       "    }\n",
       "\n",
       "    .dataframe thead th {\n",
       "        text-align: right;\n",
       "    }\n",
       "</style>\n",
       "<table border=\"1\" class=\"dataframe\">\n",
       "  <thead>\n",
       "    <tr style=\"text-align: right;\">\n",
       "      <th></th>\n",
       "      <th>ID</th>\n",
       "      <th>M/F</th>\n",
       "      <th>Age</th>\n",
       "      <th>SES</th>\n",
       "      <th>MMSE</th>\n",
       "      <th>CDR</th>\n",
       "      <th>eTIV</th>\n",
       "      <th>nWBV</th>\n",
       "      <th>ASF</th>\n",
       "    </tr>\n",
       "  </thead>\n",
       "  <tbody>\n",
       "    <tr>\n",
       "      <th>0</th>\n",
       "      <td>OAS1_0001_MR1</td>\n",
       "      <td>F</td>\n",
       "      <td>74</td>\n",
       "      <td>3.0</td>\n",
       "      <td>29.0</td>\n",
       "      <td>0.0</td>\n",
       "      <td>1344.0</td>\n",
       "      <td>0.743</td>\n",
       "      <td>1.306</td>\n",
       "    </tr>\n",
       "    <tr>\n",
       "      <th>1</th>\n",
       "      <td>OAS1_0002_MR1</td>\n",
       "      <td>F</td>\n",
       "      <td>55</td>\n",
       "      <td>1.0</td>\n",
       "      <td>29.0</td>\n",
       "      <td>0.0</td>\n",
       "      <td>1147.0</td>\n",
       "      <td>0.810</td>\n",
       "      <td>1.531</td>\n",
       "    </tr>\n",
       "    <tr>\n",
       "      <th>2</th>\n",
       "      <td>OAS1_0003_MR1</td>\n",
       "      <td>F</td>\n",
       "      <td>73</td>\n",
       "      <td>3.0</td>\n",
       "      <td>27.0</td>\n",
       "      <td>0.5</td>\n",
       "      <td>1454.0</td>\n",
       "      <td>0.708</td>\n",
       "      <td>1.207</td>\n",
       "    </tr>\n",
       "    <tr>\n",
       "      <th>8</th>\n",
       "      <td>OAS1_0010_MR1</td>\n",
       "      <td>M</td>\n",
       "      <td>74</td>\n",
       "      <td>2.0</td>\n",
       "      <td>30.0</td>\n",
       "      <td>0.0</td>\n",
       "      <td>1636.0</td>\n",
       "      <td>0.689</td>\n",
       "      <td>1.073</td>\n",
       "    </tr>\n",
       "    <tr>\n",
       "      <th>9</th>\n",
       "      <td>OAS1_0011_MR1</td>\n",
       "      <td>F</td>\n",
       "      <td>52</td>\n",
       "      <td>2.0</td>\n",
       "      <td>30.0</td>\n",
       "      <td>0.0</td>\n",
       "      <td>1321.0</td>\n",
       "      <td>0.827</td>\n",
       "      <td>1.329</td>\n",
       "    </tr>\n",
       "  </tbody>\n",
       "</table>\n",
       "</div>"
      ],
      "text/plain": [
       "              ID M/F  Age  SES  MMSE  CDR    eTIV   nWBV    ASF\n",
       "0  OAS1_0001_MR1   F   74  3.0  29.0  0.0  1344.0  0.743  1.306\n",
       "1  OAS1_0002_MR1   F   55  1.0  29.0  0.0  1147.0  0.810  1.531\n",
       "2  OAS1_0003_MR1   F   73  3.0  27.0  0.5  1454.0  0.708  1.207\n",
       "8  OAS1_0010_MR1   M   74  2.0  30.0  0.0  1636.0  0.689  1.073\n",
       "9  OAS1_0011_MR1   F   52  2.0  30.0  0.0  1321.0  0.827  1.329"
      ]
     },
     "execution_count": 49,
     "metadata": {},
     "output_type": "execute_result"
    }
   ],
   "source": [
    "oas_concat.head()"
   ]
  },
  {
   "cell_type": "markdown",
   "id": "0ba9d9b9-1b7a-4d6d-b00c-5f8964917945",
   "metadata": {},
   "source": [
    "# Preprocessing"
   ]
  },
  {
   "cell_type": "code",
   "execution_count": 55,
   "id": "93c8807b-3011-460f-a1fa-88dacde56429",
   "metadata": {},
   "outputs": [],
   "source": [
    "def binary_target(value):\n",
    "    '''convert all dementia to 1, leave no dementia to 0'''\n",
    "    if value != 0:\n",
    "        return 1\n",
    "    else:\n",
    "        return value"
   ]
  },
  {
   "cell_type": "code",
   "execution_count": 56,
   "id": "c2506e93-2760-4fdd-86c2-f533cba15a8c",
   "metadata": {},
   "outputs": [],
   "source": [
    "def binary_sex(value):\n",
    "    '''convert male to 1, female to 0'''\n",
    "    if value == 'M':\n",
    "        return 1\n",
    "    elif value == 'F':\n",
    "        return 0"
   ]
  },
  {
   "cell_type": "code",
   "execution_count": 57,
   "id": "28f804ed-09cf-4270-8909-3d558b386896",
   "metadata": {},
   "outputs": [],
   "source": [
    "oas_concat['CDR'] = oas_concat['CDR'].apply(lambda x: binary_target(x))"
   ]
  },
  {
   "cell_type": "code",
   "execution_count": 58,
   "id": "da18f820-7479-4c45-9711-1e4fd694973f",
   "metadata": {},
   "outputs": [],
   "source": [
    "oas_concat['M/F'] = oas_concat['M/F'].apply(lambda x: binary_sex(x))"
   ]
  },
  {
   "cell_type": "code",
   "execution_count": 59,
   "id": "1be0a178-dffd-4d5c-9390-9bb6da4e5d26",
   "metadata": {},
   "outputs": [
    {
     "data": {
      "text/html": [
       "<div>\n",
       "<style scoped>\n",
       "    .dataframe tbody tr th:only-of-type {\n",
       "        vertical-align: middle;\n",
       "    }\n",
       "\n",
       "    .dataframe tbody tr th {\n",
       "        vertical-align: top;\n",
       "    }\n",
       "\n",
       "    .dataframe thead th {\n",
       "        text-align: right;\n",
       "    }\n",
       "</style>\n",
       "<table border=\"1\" class=\"dataframe\">\n",
       "  <thead>\n",
       "    <tr style=\"text-align: right;\">\n",
       "      <th></th>\n",
       "      <th>ID</th>\n",
       "      <th>M/F</th>\n",
       "      <th>Age</th>\n",
       "      <th>SES</th>\n",
       "      <th>MMSE</th>\n",
       "      <th>CDR</th>\n",
       "      <th>eTIV</th>\n",
       "      <th>nWBV</th>\n",
       "      <th>ASF</th>\n",
       "    </tr>\n",
       "  </thead>\n",
       "  <tbody>\n",
       "    <tr>\n",
       "      <th>0</th>\n",
       "      <td>OAS1_0001_MR1</td>\n",
       "      <td>0</td>\n",
       "      <td>74</td>\n",
       "      <td>3.0</td>\n",
       "      <td>29.0</td>\n",
       "      <td>0.0</td>\n",
       "      <td>1344.0</td>\n",
       "      <td>0.743</td>\n",
       "      <td>1.306</td>\n",
       "    </tr>\n",
       "    <tr>\n",
       "      <th>1</th>\n",
       "      <td>OAS1_0002_MR1</td>\n",
       "      <td>0</td>\n",
       "      <td>55</td>\n",
       "      <td>1.0</td>\n",
       "      <td>29.0</td>\n",
       "      <td>0.0</td>\n",
       "      <td>1147.0</td>\n",
       "      <td>0.810</td>\n",
       "      <td>1.531</td>\n",
       "    </tr>\n",
       "    <tr>\n",
       "      <th>2</th>\n",
       "      <td>OAS1_0003_MR1</td>\n",
       "      <td>0</td>\n",
       "      <td>73</td>\n",
       "      <td>3.0</td>\n",
       "      <td>27.0</td>\n",
       "      <td>1.0</td>\n",
       "      <td>1454.0</td>\n",
       "      <td>0.708</td>\n",
       "      <td>1.207</td>\n",
       "    </tr>\n",
       "    <tr>\n",
       "      <th>8</th>\n",
       "      <td>OAS1_0010_MR1</td>\n",
       "      <td>1</td>\n",
       "      <td>74</td>\n",
       "      <td>2.0</td>\n",
       "      <td>30.0</td>\n",
       "      <td>0.0</td>\n",
       "      <td>1636.0</td>\n",
       "      <td>0.689</td>\n",
       "      <td>1.073</td>\n",
       "    </tr>\n",
       "    <tr>\n",
       "      <th>9</th>\n",
       "      <td>OAS1_0011_MR1</td>\n",
       "      <td>0</td>\n",
       "      <td>52</td>\n",
       "      <td>2.0</td>\n",
       "      <td>30.0</td>\n",
       "      <td>0.0</td>\n",
       "      <td>1321.0</td>\n",
       "      <td>0.827</td>\n",
       "      <td>1.329</td>\n",
       "    </tr>\n",
       "  </tbody>\n",
       "</table>\n",
       "</div>"
      ],
      "text/plain": [
       "              ID  M/F  Age  SES  MMSE  CDR    eTIV   nWBV    ASF\n",
       "0  OAS1_0001_MR1    0   74  3.0  29.0  0.0  1344.0  0.743  1.306\n",
       "1  OAS1_0002_MR1    0   55  1.0  29.0  0.0  1147.0  0.810  1.531\n",
       "2  OAS1_0003_MR1    0   73  3.0  27.0  1.0  1454.0  0.708  1.207\n",
       "8  OAS1_0010_MR1    1   74  2.0  30.0  0.0  1636.0  0.689  1.073\n",
       "9  OAS1_0011_MR1    0   52  2.0  30.0  0.0  1321.0  0.827  1.329"
      ]
     },
     "execution_count": 59,
     "metadata": {},
     "output_type": "execute_result"
    }
   ],
   "source": [
    "oas_concat.head()"
   ]
  },
  {
   "cell_type": "markdown",
   "id": "38924b52-3ed9-4a11-8931-acea74a49dd7",
   "metadata": {},
   "source": [
    "# RandomForest"
   ]
  },
  {
   "cell_type": "code",
   "execution_count": 61,
   "id": "938f43c1-547e-4722-9c2b-298afed67f15",
   "metadata": {},
   "outputs": [],
   "source": [
    "X_meta = oas_concat.drop(columns=['CDR', 'ID']).values\n",
    "y_meta = oas_concat['CDR'].values"
   ]
  },
  {
   "cell_type": "code",
   "execution_count": 62,
   "id": "66e77950-b254-4292-8167-7a836d54471e",
   "metadata": {},
   "outputs": [],
   "source": [
    "X_train_meta, X_test_meta, y_train_meta, y_test_meta = train_test_split(X_meta, y_meta, random_state = 42)"
   ]
  },
  {
   "cell_type": "code",
   "execution_count": 63,
   "id": "ce1be475-804d-4eaa-a4d0-d1b0f8482612",
   "metadata": {},
   "outputs": [
    {
     "name": "stdout",
     "output_type": "stream",
     "text": [
      "Training score: 83.11%\n",
      "Test score: 82.24%\n"
     ]
    }
   ],
   "source": [
    "RanFor = RandomForestClassifier(max_depth = 2, n_estimators = 15)\n",
    "\n",
    "RanFor.fit(X_train_meta, y_train_meta)\n",
    "\n",
    "print (\"Training score: \" + str(round(RanFor.score(X_train_meta, y_train_meta)*100,2)) + '%')\n",
    "print (\"Test score: \" + str(round(RanFor.score(X_test_meta, y_test_meta)*100,2)) + '%')"
   ]
  },
  {
   "cell_type": "markdown",
   "id": "9ae1c21d-9ac7-47a1-ac78-a593cc45c7c6",
   "metadata": {},
   "source": [
    "## GridSearchCV"
   ]
  },
  {
   "cell_type": "code",
   "execution_count": 66,
   "id": "c0a8652c-f91a-4047-96e5-529072a47f6a",
   "metadata": {},
   "outputs": [],
   "source": [
    "random_trees, random_depths =  random.sample(range(1,20),10), random.sample(range(1,50),25)"
   ]
  },
  {
   "cell_type": "markdown",
   "id": "a6ab3e2d-299d-4528-83d7-a6a7dc7bde01",
   "metadata": {},
   "source": [
    "### Accuracy"
   ]
  },
  {
   "cell_type": "code",
   "execution_count": 69,
   "id": "b864b2c5-f34d-46d0-b74f-40b6ad90d04e",
   "metadata": {},
   "outputs": [
    {
     "name": "stdout",
     "output_type": "stream",
     "text": [
      "Best score: 87.72% {'max_depth': 18, 'n_estimators': 18}\n"
     ]
    }
   ],
   "source": [
    "params = {\n",
    "    'n_estimators': random_trees,\n",
    "    'max_depth': random_depths\n",
    "}\n",
    "\n",
    "grid = GridSearchCV(RanFor, \n",
    "                    param_grid=params,\n",
    "                    scoring='accuracy',\n",
    "                    n_jobs=-1,\n",
    "                    cv=5)\n",
    "\n",
    "grid.fit(X_train_meta, y_train_meta)\n",
    "\n",
    "print(\"Best score: \" + str(round(grid.best_score_*100,2)) + '%', str(grid.best_params_))"
   ]
  },
  {
   "cell_type": "code",
   "execution_count": 70,
   "id": "78bfd174-97f6-410f-ab84-d26642a111d5",
   "metadata": {},
   "outputs": [
    {
     "name": "stdout",
     "output_type": "stream",
     "text": [
      "Training score: 1.0\n",
      "Test score: 0.9276315789473685\n"
     ]
    }
   ],
   "source": [
    "final_acc_model = grid.best_estimator_\n",
    "final_acc_model.fit(X_train_meta, y_train_meta)\n",
    "\n",
    "print (\"Training score: \" + str(final_acc_model.score(X_train_meta, y_train_meta)))\n",
    "print (\"Test score: \" + str(final_acc_model.score(X_test_meta, y_test_meta)))"
   ]
  },
  {
   "cell_type": "code",
   "execution_count": 87,
   "id": "277292c6-078a-43c2-984e-d344e778dfb2",
   "metadata": {},
   "outputs": [
    {
     "name": "stdout",
     "output_type": "stream",
     "text": [
      "Accuracy score:  92.76\n",
      "Recall score:  84.51\n",
      "Precision score:  100.0\n"
     ]
    }
   ],
   "source": [
    "meta_pred = final_acc_model.predict(X_test_meta)\n",
    "\n",
    "print(\"Accuracy score: \", round((accuracy_score(y_test_meta, meta_pred))*100, 2))\n",
    "print(\"Recall score: \", round((recall_score(y_test_meta, meta_pred))*100, 2))\n",
    "print(\"Precision score: \", round((precision_score(y_test_meta, meta_pred))*100, 2))"
   ]
  },
  {
   "cell_type": "markdown",
   "id": "2e9dfb5e-2e5e-4515-a6c5-c036f703d4c3",
   "metadata": {},
   "source": [
    "### Recall"
   ]
  },
  {
   "cell_type": "code",
   "execution_count": 81,
   "id": "6c72a931-9ad6-4f74-87f7-19b611194dab",
   "metadata": {},
   "outputs": [
    {
     "name": "stdout",
     "output_type": "stream",
     "text": [
      "Best score: 82.15% {'max_depth': 47, 'n_estimators': 15}\n"
     ]
    }
   ],
   "source": [
    "params = {\n",
    "    'n_estimators': random_trees,\n",
    "    'max_depth': random_depths\n",
    "}\n",
    "\n",
    "grid_recall = GridSearchCV(RanFor, \n",
    "                    param_grid=params,\n",
    "                    scoring='recall',\n",
    "                    n_jobs=-1,\n",
    "                    cv=5)\n",
    "\n",
    "grid_recall.fit(X_train_meta, y_train_meta)\n",
    "\n",
    "print(\"Best score: \" + str(round(grid_recall.best_score_*100,2)) + '%', str(grid_recall.best_params_))"
   ]
  },
  {
   "cell_type": "code",
   "execution_count": 82,
   "id": "a07fbffb-a5a4-4ccd-8bf8-3e69946a8b0b",
   "metadata": {},
   "outputs": [
    {
     "name": "stdout",
     "output_type": "stream",
     "text": [
      "Training score: 0.9978070175438597\n",
      "Test score: 0.881578947368421\n"
     ]
    }
   ],
   "source": [
    "final_rec_model = grid_recall.best_estimator_\n",
    "final_rec_model.fit(X_train_meta, y_train_meta)\n",
    "\n",
    "print (\"Training score: \" + str(final_rec_model.score(X_train_meta, y_train_meta)))\n",
    "print (\"Test score: \" + str(final_rec_model.score(X_test_meta, y_test_meta)))"
   ]
  },
  {
   "cell_type": "code",
   "execution_count": 85,
   "id": "baa76c3e-4a50-4249-bee1-1847a4d3e1c1",
   "metadata": {},
   "outputs": [
    {
     "name": "stdout",
     "output_type": "stream",
     "text": [
      "Accuracy score:  88.16\n",
      "Recall score:  78.87\n",
      "Precision score:  94.92\n"
     ]
    }
   ],
   "source": [
    "meta_rec_pred = final_rec_model.predict(X_test_meta)\n",
    "\n",
    "print(\"Accuracy score: \", round((accuracy_score(y_test_meta, meta_rec_pred))*100, 2))\n",
    "print(\"Recall score: \", round((recall_score(y_test_meta, meta_rec_pred))*100, 2))\n",
    "print(\"Precision score: \", round((precision_score(y_test_meta, meta_rec_pred))*100, 2))"
   ]
  },
  {
   "cell_type": "markdown",
   "id": "7fa3935b-e846-47de-8bde-2a6c47967dc6",
   "metadata": {
    "tags": []
   },
   "source": [
    "## Confusion Matrix"
   ]
  },
  {
   "cell_type": "code",
   "execution_count": 78,
   "id": "233e0a8b-1ef0-4b13-a85b-49edceba0fef",
   "metadata": {},
   "outputs": [],
   "source": [
    "def plot_cf_matrix(cf_matrix, model_name):\n",
    "    '''plt the confusion matrix of a model'''\n",
    "    group_names = ['True Neg','False Pos','False Neg','True Pos']\n",
    "    \n",
    "    group_counts = [\"{0:0.0f}\".format(value) for value in cf_matrix.flatten()]\n",
    "    \n",
    "    group_percentages = [\"{0:.2%}\".format(value) for value in cf_matrix.flatten()/np.sum(cf_matrix)]\n",
    "    \n",
    "    labels = [f\"{v1}\\n\\n{v2}\" for v1, v2 in zip(group_names,group_counts)]\n",
    "    \n",
    "    labels = np.asarray(labels).reshape(2,2)\n",
    "    \n",
    "    plt.title(model_name)\n",
    "    sns.heatmap(cf_matrix, annot=labels, fmt='', cmap='Blues')\n",
    "    \n",
    "    return None"
   ]
  },
  {
   "cell_type": "markdown",
   "id": "c3aa2e99-efc6-4c33-9342-a3ca56f9979a",
   "metadata": {},
   "source": [
    "### Accuracy Model"
   ]
  },
  {
   "cell_type": "code",
   "execution_count": 80,
   "id": "c6da94f6-ca80-4c3e-87b6-9a693c074c81",
   "metadata": {},
   "outputs": [
    {
     "data": {
      "image/png": "[encoded data removed]",
      "text/plain": [
       "<Figure size 432x288 with 2 Axes>"
      ]
     },
     "metadata": {
      "needs_background": "light"
     },
     "output_type": "display_data"
    }
   ],
   "source": [
    "conf_matrix_final_acc = confusion_matrix(y_true=y_test_meta, y_pred=meta_pred)\n",
    "\n",
    "plot_cf_matrix(conf_matrix_final_acc, 'conf_matrix_final_acc')"
   ]
  },
  {
   "cell_type": "markdown",
   "id": "25c10017-cbae-42ba-b20d-914facc17dea",
   "metadata": {},
   "source": [
    "### Recall Model"
   ]
  },
  {
   "cell_type": "code",
   "execution_count": 84,
   "id": "0518146f-2732-4cb6-b979-4980eabaa97d",
   "metadata": {},
   "outputs": [
    {
     "data": {
      "image/png": "[encoded data removed]",
      "text/plain": [
       "<Figure size 432x288 with 2 Axes>"
      ]
     },
     "metadata": {
      "needs_background": "light"
     },
     "output_type": "display_data"
    }
   ],
   "source": [
    "conf_matrix_final_rec = confusion_matrix(y_true=y_test_meta, y_pred=meta_rec_pred)\n",
    "\n",
    "plot_cf_matrix(conf_matrix_final_rec, 'conf_matrix_final_rec')"
   ]
  },
  {
   "cell_type": "code",
   "execution_count": null,
   "id": "908b2390-47c3-43f8-befc-6c6608948511",
   "metadata": {},
   "outputs": [],
   "source": []
  }
 ],
 "metadata": {
  "kernelspec": {
   "display_name": "Python 3 (ipykernel)",
   "language": "python",
   "name": "python3"
  },
  "language_info": {
   "codemirror_mode": {
    "name": "ipython",
    "version": 3
   },
   "file_extension": ".py",
   "mimetype": "text/x-python",
   "name": "python",
   "nbconvert_exporter": "python",
   "pygments_lexer": "ipython3",
   "version": "3.8.12"
  }
 },
 "nbformat": 4,
 "nbformat_minor": 5
}
