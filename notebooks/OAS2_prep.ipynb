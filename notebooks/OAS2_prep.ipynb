{
 "cells": [
  {
   "cell_type": "markdown",
   "id": "7b25cfef",
   "metadata": {},
   "source": [
    "### Importing the  OASIS 2 Dataset: Longitudinal Demographics"
   ]
  },
  {
   "cell_type": "code",
   "execution_count": 314,
   "id": "60f98a29",
   "metadata": {
    "scrolled": true
   },
   "outputs": [
    {
     "data": {
      "text/html": [
       "<div>\n",
       "<style scoped>\n",
       "    .dataframe tbody tr th:only-of-type {\n",
       "        vertical-align: middle;\n",
       "    }\n",
       "\n",
       "    .dataframe tbody tr th {\n",
       "        vertical-align: top;\n",
       "    }\n",
       "\n",
       "    .dataframe thead th {\n",
       "        text-align: right;\n",
       "    }\n",
       "</style>\n",
       "<table border=\"1\" class=\"dataframe\">\n",
       "  <thead>\n",
       "    <tr style=\"text-align: right;\">\n",
       "      <th></th>\n",
       "      <th>Subject ID</th>\n",
       "      <th>MRI ID</th>\n",
       "      <th>Group</th>\n",
       "      <th>Visit</th>\n",
       "      <th>MR Delay</th>\n",
       "      <th>M/F</th>\n",
       "      <th>Hand</th>\n",
       "      <th>Age</th>\n",
       "      <th>EDUC</th>\n",
       "      <th>SES</th>\n",
       "      <th>MMSE</th>\n",
       "      <th>CDR</th>\n",
       "      <th>eTIV</th>\n",
       "      <th>nWBV</th>\n",
       "      <th>ASF</th>\n",
       "    </tr>\n",
       "  </thead>\n",
       "  <tbody>\n",
       "    <tr>\n",
       "      <th>0</th>\n",
       "      <td>OAS2_0001</td>\n",
       "      <td>OAS2_0001_MR1</td>\n",
       "      <td>Nondemented</td>\n",
       "      <td>1</td>\n",
       "      <td>0</td>\n",
       "      <td>M</td>\n",
       "      <td>R</td>\n",
       "      <td>87</td>\n",
       "      <td>14</td>\n",
       "      <td>2.0</td>\n",
       "      <td>27.0</td>\n",
       "      <td>0.0</td>\n",
       "      <td>1987</td>\n",
       "      <td>0.696</td>\n",
       "      <td>0.883</td>\n",
       "    </tr>\n",
       "    <tr>\n",
       "      <th>1</th>\n",
       "      <td>OAS2_0001</td>\n",
       "      <td>OAS2_0001_MR2</td>\n",
       "      <td>Nondemented</td>\n",
       "      <td>2</td>\n",
       "      <td>457</td>\n",
       "      <td>M</td>\n",
       "      <td>R</td>\n",
       "      <td>88</td>\n",
       "      <td>14</td>\n",
       "      <td>2.0</td>\n",
       "      <td>30.0</td>\n",
       "      <td>0.0</td>\n",
       "      <td>2004</td>\n",
       "      <td>0.681</td>\n",
       "      <td>0.876</td>\n",
       "    </tr>\n",
       "    <tr>\n",
       "      <th>2</th>\n",
       "      <td>OAS2_0002</td>\n",
       "      <td>OAS2_0002_MR1</td>\n",
       "      <td>Demented</td>\n",
       "      <td>1</td>\n",
       "      <td>0</td>\n",
       "      <td>M</td>\n",
       "      <td>R</td>\n",
       "      <td>75</td>\n",
       "      <td>12</td>\n",
       "      <td>NaN</td>\n",
       "      <td>23.0</td>\n",
       "      <td>0.5</td>\n",
       "      <td>1678</td>\n",
       "      <td>0.736</td>\n",
       "      <td>1.046</td>\n",
       "    </tr>\n",
       "    <tr>\n",
       "      <th>3</th>\n",
       "      <td>OAS2_0002</td>\n",
       "      <td>OAS2_0002_MR2</td>\n",
       "      <td>Demented</td>\n",
       "      <td>2</td>\n",
       "      <td>560</td>\n",
       "      <td>M</td>\n",
       "      <td>R</td>\n",
       "      <td>76</td>\n",
       "      <td>12</td>\n",
       "      <td>NaN</td>\n",
       "      <td>28.0</td>\n",
       "      <td>0.5</td>\n",
       "      <td>1738</td>\n",
       "      <td>0.713</td>\n",
       "      <td>1.010</td>\n",
       "    </tr>\n",
       "    <tr>\n",
       "      <th>4</th>\n",
       "      <td>OAS2_0002</td>\n",
       "      <td>OAS2_0002_MR3</td>\n",
       "      <td>Demented</td>\n",
       "      <td>3</td>\n",
       "      <td>1895</td>\n",
       "      <td>M</td>\n",
       "      <td>R</td>\n",
       "      <td>80</td>\n",
       "      <td>12</td>\n",
       "      <td>NaN</td>\n",
       "      <td>22.0</td>\n",
       "      <td>0.5</td>\n",
       "      <td>1698</td>\n",
       "      <td>0.701</td>\n",
       "      <td>1.034</td>\n",
       "    </tr>\n",
       "    <tr>\n",
       "      <th>5</th>\n",
       "      <td>OAS2_0004</td>\n",
       "      <td>OAS2_0004_MR1</td>\n",
       "      <td>Nondemented</td>\n",
       "      <td>1</td>\n",
       "      <td>0</td>\n",
       "      <td>F</td>\n",
       "      <td>R</td>\n",
       "      <td>88</td>\n",
       "      <td>18</td>\n",
       "      <td>3.0</td>\n",
       "      <td>28.0</td>\n",
       "      <td>0.0</td>\n",
       "      <td>1215</td>\n",
       "      <td>0.710</td>\n",
       "      <td>1.444</td>\n",
       "    </tr>\n",
       "    <tr>\n",
       "      <th>6</th>\n",
       "      <td>OAS2_0004</td>\n",
       "      <td>OAS2_0004_MR2</td>\n",
       "      <td>Nondemented</td>\n",
       "      <td>2</td>\n",
       "      <td>538</td>\n",
       "      <td>F</td>\n",
       "      <td>R</td>\n",
       "      <td>90</td>\n",
       "      <td>18</td>\n",
       "      <td>3.0</td>\n",
       "      <td>27.0</td>\n",
       "      <td>0.0</td>\n",
       "      <td>1200</td>\n",
       "      <td>0.718</td>\n",
       "      <td>1.462</td>\n",
       "    </tr>\n",
       "    <tr>\n",
       "      <th>7</th>\n",
       "      <td>OAS2_0005</td>\n",
       "      <td>OAS2_0005_MR1</td>\n",
       "      <td>Nondemented</td>\n",
       "      <td>1</td>\n",
       "      <td>0</td>\n",
       "      <td>M</td>\n",
       "      <td>R</td>\n",
       "      <td>80</td>\n",
       "      <td>12</td>\n",
       "      <td>4.0</td>\n",
       "      <td>28.0</td>\n",
       "      <td>0.0</td>\n",
       "      <td>1689</td>\n",
       "      <td>0.712</td>\n",
       "      <td>1.039</td>\n",
       "    </tr>\n",
       "    <tr>\n",
       "      <th>8</th>\n",
       "      <td>OAS2_0005</td>\n",
       "      <td>OAS2_0005_MR2</td>\n",
       "      <td>Nondemented</td>\n",
       "      <td>2</td>\n",
       "      <td>1010</td>\n",
       "      <td>M</td>\n",
       "      <td>R</td>\n",
       "      <td>83</td>\n",
       "      <td>12</td>\n",
       "      <td>4.0</td>\n",
       "      <td>29.0</td>\n",
       "      <td>0.5</td>\n",
       "      <td>1701</td>\n",
       "      <td>0.711</td>\n",
       "      <td>1.032</td>\n",
       "    </tr>\n",
       "    <tr>\n",
       "      <th>9</th>\n",
       "      <td>OAS2_0005</td>\n",
       "      <td>OAS2_0005_MR3</td>\n",
       "      <td>Nondemented</td>\n",
       "      <td>3</td>\n",
       "      <td>1603</td>\n",
       "      <td>M</td>\n",
       "      <td>R</td>\n",
       "      <td>85</td>\n",
       "      <td>12</td>\n",
       "      <td>4.0</td>\n",
       "      <td>30.0</td>\n",
       "      <td>0.0</td>\n",
       "      <td>1699</td>\n",
       "      <td>0.705</td>\n",
       "      <td>1.033</td>\n",
       "    </tr>\n",
       "  </tbody>\n",
       "</table>\n",
       "</div>"
      ],
      "text/plain": [
       "  Subject ID         MRI ID        Group  Visit  MR Delay M/F Hand  Age  EDUC  \\\n",
       "0  OAS2_0001  OAS2_0001_MR1  Nondemented      1         0   M    R   87    14   \n",
       "1  OAS2_0001  OAS2_0001_MR2  Nondemented      2       457   M    R   88    14   \n",
       "2  OAS2_0002  OAS2_0002_MR1     Demented      1         0   M    R   75    12   \n",
       "3  OAS2_0002  OAS2_0002_MR2     Demented      2       560   M    R   76    12   \n",
       "4  OAS2_0002  OAS2_0002_MR3     Demented      3      1895   M    R   80    12   \n",
       "5  OAS2_0004  OAS2_0004_MR1  Nondemented      1         0   F    R   88    18   \n",
       "6  OAS2_0004  OAS2_0004_MR2  Nondemented      2       538   F    R   90    18   \n",
       "7  OAS2_0005  OAS2_0005_MR1  Nondemented      1         0   M    R   80    12   \n",
       "8  OAS2_0005  OAS2_0005_MR2  Nondemented      2      1010   M    R   83    12   \n",
       "9  OAS2_0005  OAS2_0005_MR3  Nondemented      3      1603   M    R   85    12   \n",
       "\n",
       "   SES  MMSE  CDR  eTIV   nWBV    ASF  \n",
       "0  2.0  27.0  0.0  1987  0.696  0.883  \n",
       "1  2.0  30.0  0.0  2004  0.681  0.876  \n",
       "2  NaN  23.0  0.5  1678  0.736  1.046  \n",
       "3  NaN  28.0  0.5  1738  0.713  1.010  \n",
       "4  NaN  22.0  0.5  1698  0.701  1.034  \n",
       "5  3.0  28.0  0.0  1215  0.710  1.444  \n",
       "6  3.0  27.0  0.0  1200  0.718  1.462  \n",
       "7  4.0  28.0  0.0  1689  0.712  1.039  \n",
       "8  4.0  29.0  0.5  1701  0.711  1.032  \n",
       "9  4.0  30.0  0.0  1699  0.705  1.033  "
      ]
     },
     "execution_count": 314,
     "metadata": {},
     "output_type": "execute_result"
    }
   ],
   "source": [
    "import pandas as pd\n",
    "\n",
    "data = pd.read_csv(\"~/code/mkvph0ch/memobrain/raw_data/OASIS2/oasis_longitudinal_demographics.csv\")\n",
    "\n",
    "data[:10]"
   ]
  },
  {
   "cell_type": "markdown",
   "id": "99db5bb4",
   "metadata": {},
   "source": [
    "### Data cleaning\n",
    "We check if there are any missing values in the dataset:"
   ]
  },
  {
   "cell_type": "code",
   "execution_count": 3,
   "id": "eb424825",
   "metadata": {},
   "outputs": [
    {
     "data": {
      "text/plain": [
       "Subject ID     0\n",
       "MRI ID         0\n",
       "Group          0\n",
       "Visit          0\n",
       "MR Delay       0\n",
       "M/F            0\n",
       "Hand           0\n",
       "Age            0\n",
       "EDUC           0\n",
       "SES           19\n",
       "MMSE           2\n",
       "CDR            0\n",
       "eTIV           0\n",
       "nWBV           0\n",
       "ASF            0\n",
       "dtype: int64"
      ]
     },
     "execution_count": 3,
     "metadata": {},
     "output_type": "execute_result"
    }
   ],
   "source": [
    "data.isnull().sum()"
   ]
  },
  {
   "cell_type": "markdown",
   "id": "0af801c7",
   "metadata": {},
   "source": [
    "We create the prep_data function, that drops unneeded columns:\n",
    "- 'MR Delay', 'Group' and 'Visit' (this information does not apply to the analysis)\n",
    "- 'Hand' (all patients are right handed)\n",
    "- 'Subject ID', 'MRI ID' (they are just identification strings)\n",
    "\n",
    "It fills empty values with the median in the case of 'SES' and 'MMSE' features. (Categorical values)\n",
    "\n",
    "It also transforms the target column 'CDR' into binary class, dividing into Demented (some level) and Non Demented."
   ]
  },
  {
   "cell_type": "code",
   "execution_count": 293,
   "id": "4ae8b7ab",
   "metadata": {},
   "outputs": [],
   "source": [
    "#def prep_data(data):\n",
    "    #data=data.drop(columns=['MR Delay', 'Subject ID', 'MRI ID', 'Group', 'Visit', 'Hand'])\n",
    "    #data['SES'].fillna(value=int(data.SES.median()), inplace=True)\n",
    "    #data['MMSE'].fillna(value=int(data.MMSE.median()), inplace=True)\n",
    "    #data[\"CDR\"]=data[\"CDR\"].apply(lambda x: 1 if x>0 else 0)\n",
    "    #data[\"M/F\"]=data[\"M/F\"].apply(lambda x: 1 if x=='M' else 0)  \n",
    "    #return data"
   ]
  },
  {
   "cell_type": "markdown",
   "id": "289aec6a",
   "metadata": {},
   "source": [
    "Then we split the data into X features and the y target."
   ]
  },
  {
   "cell_type": "code",
   "execution_count": 334,
   "id": "f5d3c235",
   "metadata": {
    "scrolled": true
   },
   "outputs": [
    {
     "data": {
      "text/html": [
       "<div>\n",
       "<style scoped>\n",
       "    .dataframe tbody tr th:only-of-type {\n",
       "        vertical-align: middle;\n",
       "    }\n",
       "\n",
       "    .dataframe tbody tr th {\n",
       "        vertical-align: top;\n",
       "    }\n",
       "\n",
       "    .dataframe thead th {\n",
       "        text-align: right;\n",
       "    }\n",
       "</style>\n",
       "<table border=\"1\" class=\"dataframe\">\n",
       "  <thead>\n",
       "    <tr style=\"text-align: right;\">\n",
       "      <th></th>\n",
       "      <th>M/F</th>\n",
       "      <th>Age</th>\n",
       "      <th>EDUC</th>\n",
       "      <th>SES</th>\n",
       "      <th>MMSE</th>\n",
       "      <th>eTIV</th>\n",
       "      <th>nWBV</th>\n",
       "      <th>ASF</th>\n",
       "    </tr>\n",
       "  </thead>\n",
       "  <tbody>\n",
       "    <tr>\n",
       "      <th>0</th>\n",
       "      <td>M</td>\n",
       "      <td>87</td>\n",
       "      <td>14</td>\n",
       "      <td>2.0</td>\n",
       "      <td>27.0</td>\n",
       "      <td>1987</td>\n",
       "      <td>0.696</td>\n",
       "      <td>0.883</td>\n",
       "    </tr>\n",
       "    <tr>\n",
       "      <th>1</th>\n",
       "      <td>M</td>\n",
       "      <td>88</td>\n",
       "      <td>14</td>\n",
       "      <td>2.0</td>\n",
       "      <td>30.0</td>\n",
       "      <td>2004</td>\n",
       "      <td>0.681</td>\n",
       "      <td>0.876</td>\n",
       "    </tr>\n",
       "    <tr>\n",
       "      <th>2</th>\n",
       "      <td>M</td>\n",
       "      <td>75</td>\n",
       "      <td>12</td>\n",
       "      <td>NaN</td>\n",
       "      <td>23.0</td>\n",
       "      <td>1678</td>\n",
       "      <td>0.736</td>\n",
       "      <td>1.046</td>\n",
       "    </tr>\n",
       "    <tr>\n",
       "      <th>3</th>\n",
       "      <td>M</td>\n",
       "      <td>76</td>\n",
       "      <td>12</td>\n",
       "      <td>NaN</td>\n",
       "      <td>28.0</td>\n",
       "      <td>1738</td>\n",
       "      <td>0.713</td>\n",
       "      <td>1.010</td>\n",
       "    </tr>\n",
       "    <tr>\n",
       "      <th>4</th>\n",
       "      <td>M</td>\n",
       "      <td>80</td>\n",
       "      <td>12</td>\n",
       "      <td>NaN</td>\n",
       "      <td>22.0</td>\n",
       "      <td>1698</td>\n",
       "      <td>0.701</td>\n",
       "      <td>1.034</td>\n",
       "    </tr>\n",
       "    <tr>\n",
       "      <th>...</th>\n",
       "      <td>...</td>\n",
       "      <td>...</td>\n",
       "      <td>...</td>\n",
       "      <td>...</td>\n",
       "      <td>...</td>\n",
       "      <td>...</td>\n",
       "      <td>...</td>\n",
       "      <td>...</td>\n",
       "    </tr>\n",
       "    <tr>\n",
       "      <th>368</th>\n",
       "      <td>M</td>\n",
       "      <td>82</td>\n",
       "      <td>16</td>\n",
       "      <td>1.0</td>\n",
       "      <td>28.0</td>\n",
       "      <td>1693</td>\n",
       "      <td>0.694</td>\n",
       "      <td>1.037</td>\n",
       "    </tr>\n",
       "    <tr>\n",
       "      <th>369</th>\n",
       "      <td>M</td>\n",
       "      <td>86</td>\n",
       "      <td>16</td>\n",
       "      <td>1.0</td>\n",
       "      <td>26.0</td>\n",
       "      <td>1688</td>\n",
       "      <td>0.675</td>\n",
       "      <td>1.040</td>\n",
       "    </tr>\n",
       "    <tr>\n",
       "      <th>370</th>\n",
       "      <td>F</td>\n",
       "      <td>61</td>\n",
       "      <td>13</td>\n",
       "      <td>2.0</td>\n",
       "      <td>30.0</td>\n",
       "      <td>1319</td>\n",
       "      <td>0.801</td>\n",
       "      <td>1.331</td>\n",
       "    </tr>\n",
       "    <tr>\n",
       "      <th>371</th>\n",
       "      <td>F</td>\n",
       "      <td>63</td>\n",
       "      <td>13</td>\n",
       "      <td>2.0</td>\n",
       "      <td>30.0</td>\n",
       "      <td>1327</td>\n",
       "      <td>0.796</td>\n",
       "      <td>1.323</td>\n",
       "    </tr>\n",
       "    <tr>\n",
       "      <th>372</th>\n",
       "      <td>F</td>\n",
       "      <td>65</td>\n",
       "      <td>13</td>\n",
       "      <td>2.0</td>\n",
       "      <td>30.0</td>\n",
       "      <td>1333</td>\n",
       "      <td>0.801</td>\n",
       "      <td>1.317</td>\n",
       "    </tr>\n",
       "  </tbody>\n",
       "</table>\n",
       "<p>373 rows × 8 columns</p>\n",
       "</div>"
      ],
      "text/plain": [
       "    M/F  Age  EDUC  SES  MMSE  eTIV   nWBV    ASF\n",
       "0     M   87    14  2.0  27.0  1987  0.696  0.883\n",
       "1     M   88    14  2.0  30.0  2004  0.681  0.876\n",
       "2     M   75    12  NaN  23.0  1678  0.736  1.046\n",
       "3     M   76    12  NaN  28.0  1738  0.713  1.010\n",
       "4     M   80    12  NaN  22.0  1698  0.701  1.034\n",
       "..   ..  ...   ...  ...   ...   ...    ...    ...\n",
       "368   M   82    16  1.0  28.0  1693  0.694  1.037\n",
       "369   M   86    16  1.0  26.0  1688  0.675  1.040\n",
       "370   F   61    13  2.0  30.0  1319  0.801  1.331\n",
       "371   F   63    13  2.0  30.0  1327  0.796  1.323\n",
       "372   F   65    13  2.0  30.0  1333  0.801  1.317\n",
       "\n",
       "[373 rows x 8 columns]"
      ]
     },
     "execution_count": 334,
     "metadata": {},
     "output_type": "execute_result"
    }
   ],
   "source": [
    "from sklearn.preprocessing import LabelEncoder\n",
    "\n",
    "X=data.drop(columns=['CDR', 'MR Delay', 'Subject ID', 'MRI ID', 'Group', 'Visit', 'Hand'])\n",
    "y=data['CDR'].apply(lambda x: 1 if x>0 else 0)\n",
    "X"
   ]
  },
  {
   "cell_type": "markdown",
   "id": "272c2192",
   "metadata": {},
   "source": [
    "EDUC: Level of Education (6 to 23)\n",
    "\n",
    "SES: Socioeconomic Status (1 to 5)\n",
    "\n",
    "MMSE: Mini-Mental State Examination (4 to 30)\n",
    "\n",
    "eTIV: Estimated total intracranial volume (mm3)\n",
    "\n",
    "nWBV: Normalized whole brain volume\n",
    "\n",
    "ASF: Atlas scaling factor"
   ]
  },
  {
   "cell_type": "code",
   "execution_count": 6,
   "id": "16c22bfa",
   "metadata": {},
   "outputs": [
    {
     "data": {
      "text/plain": [
       "<AxesSubplot:>"
      ]
     },
     "execution_count": 6,
     "metadata": {},
     "output_type": "execute_result"
    },
    {
     "data": {
      "image/png": "[encoded data removed]",
      "text/plain": [
       "<Figure size 432x288 with 2 Axes>"
      ]
     },
     "metadata": {
      "needs_background": "light"
     },
     "output_type": "display_data"
    }
   ],
   "source": [
    "import seaborn as sns\n",
    "\n",
    "corr = X.corr()\n",
    "sns.heatmap(corr, \n",
    "        xticklabels=corr.columns,\n",
    "        yticklabels=corr.columns,\n",
    "        cmap= \"YlGnBu\")"
   ]
  },
  {
   "cell_type": "markdown",
   "id": "469fffad",
   "metadata": {},
   "source": [
    "### Pipeline\n",
    "We create a pipeline with all the transformations that will be applied to the data set, including scaling and encoding."
   ]
  },
  {
   "cell_type": "code",
   "execution_count": 335,
   "id": "e9c32013",
   "metadata": {
    "scrolled": true
   },
   "outputs": [
    {
     "data": {
      "text/html": [
       "<style>#sk-412c9412-30e5-4c9b-bb87-71e4d7ee7ac1 {color: black;background-color: white;}#sk-412c9412-30e5-4c9b-bb87-71e4d7ee7ac1 pre{padding: 0;}#sk-412c9412-30e5-4c9b-bb87-71e4d7ee7ac1 div.sk-toggleable {background-color: white;}#sk-412c9412-30e5-4c9b-bb87-71e4d7ee7ac1 label.sk-toggleable__label {cursor: pointer;display: block;width: 100%;margin-bottom: 0;padding: 0.3em;box-sizing: border-box;text-align: center;}#sk-412c9412-30e5-4c9b-bb87-71e4d7ee7ac1 label.sk-toggleable__label-arrow:before {content: \"▸\";float: left;margin-right: 0.25em;color: #696969;}#sk-412c9412-30e5-4c9b-bb87-71e4d7ee7ac1 label.sk-toggleable__label-arrow:hover:before {color: black;}#sk-412c9412-30e5-4c9b-bb87-71e4d7ee7ac1 div.sk-estimator:hover label.sk-toggleable__label-arrow:before {color: black;}#sk-412c9412-30e5-4c9b-bb87-71e4d7ee7ac1 div.sk-toggleable__content {max-height: 0;max-width: 0;overflow: hidden;text-align: left;background-color: #f0f8ff;}#sk-412c9412-30e5-4c9b-bb87-71e4d7ee7ac1 div.sk-toggleable__content pre {margin: 0.2em;color: black;border-radius: 0.25em;background-color: #f0f8ff;}#sk-412c9412-30e5-4c9b-bb87-71e4d7ee7ac1 input.sk-toggleable__control:checked~div.sk-toggleable__content {max-height: 200px;max-width: 100%;overflow: auto;}#sk-412c9412-30e5-4c9b-bb87-71e4d7ee7ac1 input.sk-toggleable__control:checked~label.sk-toggleable__label-arrow:before {content: \"▾\";}#sk-412c9412-30e5-4c9b-bb87-71e4d7ee7ac1 div.sk-estimator input.sk-toggleable__control:checked~label.sk-toggleable__label {background-color: #d4ebff;}#sk-412c9412-30e5-4c9b-bb87-71e4d7ee7ac1 div.sk-label input.sk-toggleable__control:checked~label.sk-toggleable__label {background-color: #d4ebff;}#sk-412c9412-30e5-4c9b-bb87-71e4d7ee7ac1 input.sk-hidden--visually {border: 0;clip: rect(1px 1px 1px 1px);clip: rect(1px, 1px, 1px, 1px);height: 1px;margin: -1px;overflow: hidden;padding: 0;position: absolute;width: 1px;}#sk-412c9412-30e5-4c9b-bb87-71e4d7ee7ac1 div.sk-estimator {font-family: monospace;background-color: #f0f8ff;border: 1px dotted black;border-radius: 0.25em;box-sizing: border-box;margin-bottom: 0.5em;}#sk-412c9412-30e5-4c9b-bb87-71e4d7ee7ac1 div.sk-estimator:hover {background-color: #d4ebff;}#sk-412c9412-30e5-4c9b-bb87-71e4d7ee7ac1 div.sk-parallel-item::after {content: \"\";width: 100%;border-bottom: 1px solid gray;flex-grow: 1;}#sk-412c9412-30e5-4c9b-bb87-71e4d7ee7ac1 div.sk-label:hover label.sk-toggleable__label {background-color: #d4ebff;}#sk-412c9412-30e5-4c9b-bb87-71e4d7ee7ac1 div.sk-serial::before {content: \"\";position: absolute;border-left: 1px solid gray;box-sizing: border-box;top: 2em;bottom: 0;left: 50%;}#sk-412c9412-30e5-4c9b-bb87-71e4d7ee7ac1 div.sk-serial {display: flex;flex-direction: column;align-items: center;background-color: white;padding-right: 0.2em;padding-left: 0.2em;}#sk-412c9412-30e5-4c9b-bb87-71e4d7ee7ac1 div.sk-item {z-index: 1;}#sk-412c9412-30e5-4c9b-bb87-71e4d7ee7ac1 div.sk-parallel {display: flex;align-items: stretch;justify-content: center;background-color: white;}#sk-412c9412-30e5-4c9b-bb87-71e4d7ee7ac1 div.sk-parallel::before {content: \"\";position: absolute;border-left: 1px solid gray;box-sizing: border-box;top: 2em;bottom: 0;left: 50%;}#sk-412c9412-30e5-4c9b-bb87-71e4d7ee7ac1 div.sk-parallel-item {display: flex;flex-direction: column;position: relative;background-color: white;}#sk-412c9412-30e5-4c9b-bb87-71e4d7ee7ac1 div.sk-parallel-item:first-child::after {align-self: flex-end;width: 50%;}#sk-412c9412-30e5-4c9b-bb87-71e4d7ee7ac1 div.sk-parallel-item:last-child::after {align-self: flex-start;width: 50%;}#sk-412c9412-30e5-4c9b-bb87-71e4d7ee7ac1 div.sk-parallel-item:only-child::after {width: 0;}#sk-412c9412-30e5-4c9b-bb87-71e4d7ee7ac1 div.sk-dashed-wrapped {border: 1px dashed gray;margin: 0 0.4em 0.5em 0.4em;box-sizing: border-box;padding-bottom: 0.4em;background-color: white;position: relative;}#sk-412c9412-30e5-4c9b-bb87-71e4d7ee7ac1 div.sk-label label {font-family: monospace;font-weight: bold;background-color: white;display: inline-block;line-height: 1.2em;}#sk-412c9412-30e5-4c9b-bb87-71e4d7ee7ac1 div.sk-label-container {position: relative;z-index: 2;text-align: center;}#sk-412c9412-30e5-4c9b-bb87-71e4d7ee7ac1 div.sk-container {/* jupyter's `normalize.less` sets `[hidden] { display: none; }` but bootstrap.min.css set `[hidden] { display: none !important; }` so we also need the `!important` here to be able to override the default hidden behavior on the sphinx rendered scikit-learn.org. See: https://github.com/scikit-learn/scikit-learn/issues/21755 */display: inline-block !important;position: relative;}#sk-412c9412-30e5-4c9b-bb87-71e4d7ee7ac1 div.sk-text-repr-fallback {display: none;}</style><div id=\"sk-412c9412-30e5-4c9b-bb87-71e4d7ee7ac1\" class=\"sk-top-container\"><div class=\"sk-text-repr-fallback\"><pre>ColumnTransformer(remainder=&#x27;passthrough&#x27;,\n",
       "                  transformers=[(&#x27;encoder&#x27;, OneHotEncoder(drop=&#x27;if_binary&#x27;),\n",
       "                                 [&#x27;M/F&#x27;]),\n",
       "                                (&#x27;imp_scaler&#x27;,\n",
       "                                 Pipeline(steps=[(&#x27;simpleimputer&#x27;,\n",
       "                                                  SimpleImputer(strategy=&#x27;median&#x27;)),\n",
       "                                                 (&#x27;robustscaler&#x27;,\n",
       "                                                  RobustScaler())]),\n",
       "                                 [&#x27;MMSE&#x27;]),\n",
       "                                (&#x27;imputer&#x27;, SimpleImputer(strategy=&#x27;median&#x27;),\n",
       "                                 [&#x27;SES&#x27;]),\n",
       "                                (&#x27;s_scaler&#x27;, StandardScaler(), [&#x27;Age&#x27;]),\n",
       "                                (&#x27;m_scaler&#x27;, MinMaxScaler(), [&#x27;EDUC&#x27;]),\n",
       "                                (&#x27;r_scaler&#x27;, RobustScaler(), [&#x27;eTIV&#x27;])])</pre><b>Please rerun this cell to show the HTML repr or trust the notebook.</b></div><div class=\"sk-container\" hidden><div class=\"sk-item sk-dashed-wrapped\"><div class=\"sk-label-container\"><div class=\"sk-label sk-toggleable\"><input class=\"sk-toggleable__control sk-hidden--visually\" id=\"e426b385-9cf4-4106-8cf7-bd3323ede066\" type=\"checkbox\" ><label for=\"e426b385-9cf4-4106-8cf7-bd3323ede066\" class=\"sk-toggleable__label sk-toggleable__label-arrow\">ColumnTransformer</label><div class=\"sk-toggleable__content\"><pre>ColumnTransformer(remainder=&#x27;passthrough&#x27;,\n",
       "                  transformers=[(&#x27;encoder&#x27;, OneHotEncoder(drop=&#x27;if_binary&#x27;),\n",
       "                                 [&#x27;M/F&#x27;]),\n",
       "                                (&#x27;imp_scaler&#x27;,\n",
       "                                 Pipeline(steps=[(&#x27;simpleimputer&#x27;,\n",
       "                                                  SimpleImputer(strategy=&#x27;median&#x27;)),\n",
       "                                                 (&#x27;robustscaler&#x27;,\n",
       "                                                  RobustScaler())]),\n",
       "                                 [&#x27;MMSE&#x27;]),\n",
       "                                (&#x27;imputer&#x27;, SimpleImputer(strategy=&#x27;median&#x27;),\n",
       "                                 [&#x27;SES&#x27;]),\n",
       "                                (&#x27;s_scaler&#x27;, StandardScaler(), [&#x27;Age&#x27;]),\n",
       "                                (&#x27;m_scaler&#x27;, MinMaxScaler(), [&#x27;EDUC&#x27;]),\n",
       "                                (&#x27;r_scaler&#x27;, RobustScaler(), [&#x27;eTIV&#x27;])])</pre></div></div></div><div class=\"sk-parallel\"><div class=\"sk-parallel-item\"><div class=\"sk-item\"><div class=\"sk-label-container\"><div class=\"sk-label sk-toggleable\"><input class=\"sk-toggleable__control sk-hidden--visually\" id=\"2756addf-6052-429c-821b-800a3c18a3d2\" type=\"checkbox\" ><label for=\"2756addf-6052-429c-821b-800a3c18a3d2\" class=\"sk-toggleable__label sk-toggleable__label-arrow\">encoder</label><div class=\"sk-toggleable__content\"><pre>[&#x27;M/F&#x27;]</pre></div></div></div><div class=\"sk-serial\"><div class=\"sk-item\"><div class=\"sk-estimator sk-toggleable\"><input class=\"sk-toggleable__control sk-hidden--visually\" id=\"57885a51-1606-46c9-9672-a3b304535223\" type=\"checkbox\" ><label for=\"57885a51-1606-46c9-9672-a3b304535223\" class=\"sk-toggleable__label sk-toggleable__label-arrow\">OneHotEncoder</label><div class=\"sk-toggleable__content\"><pre>OneHotEncoder(drop=&#x27;if_binary&#x27;)</pre></div></div></div></div></div></div><div class=\"sk-parallel-item\"><div class=\"sk-item\"><div class=\"sk-label-container\"><div class=\"sk-label sk-toggleable\"><input class=\"sk-toggleable__control sk-hidden--visually\" id=\"826fa0c8-ff53-475b-a0a2-c1941d491c33\" type=\"checkbox\" ><label for=\"826fa0c8-ff53-475b-a0a2-c1941d491c33\" class=\"sk-toggleable__label sk-toggleable__label-arrow\">imp_scaler</label><div class=\"sk-toggleable__content\"><pre>[&#x27;MMSE&#x27;]</pre></div></div></div><div class=\"sk-serial\"><div class=\"sk-item\"><div class=\"sk-serial\"><div class=\"sk-item\"><div class=\"sk-estimator sk-toggleable\"><input class=\"sk-toggleable__control sk-hidden--visually\" id=\"f5105cb9-8bc9-49be-8737-800a23df3417\" type=\"checkbox\" ><label for=\"f5105cb9-8bc9-49be-8737-800a23df3417\" class=\"sk-toggleable__label sk-toggleable__label-arrow\">SimpleImputer</label><div class=\"sk-toggleable__content\"><pre>SimpleImputer(strategy=&#x27;median&#x27;)</pre></div></div></div><div class=\"sk-item\"><div class=\"sk-estimator sk-toggleable\"><input class=\"sk-toggleable__control sk-hidden--visually\" id=\"ac5eb0d9-41df-48cf-af19-5f0472054823\" type=\"checkbox\" ><label for=\"ac5eb0d9-41df-48cf-af19-5f0472054823\" class=\"sk-toggleable__label sk-toggleable__label-arrow\">RobustScaler</label><div class=\"sk-toggleable__content\"><pre>RobustScaler()</pre></div></div></div></div></div></div></div></div><div class=\"sk-parallel-item\"><div class=\"sk-item\"><div class=\"sk-label-container\"><div class=\"sk-label sk-toggleable\"><input class=\"sk-toggleable__control sk-hidden--visually\" id=\"bfd8a42e-52da-412e-87ff-bbb606e97cf3\" type=\"checkbox\" ><label for=\"bfd8a42e-52da-412e-87ff-bbb606e97cf3\" class=\"sk-toggleable__label sk-toggleable__label-arrow\">imputer</label><div class=\"sk-toggleable__content\"><pre>[&#x27;SES&#x27;]</pre></div></div></div><div class=\"sk-serial\"><div class=\"sk-item\"><div class=\"sk-estimator sk-toggleable\"><input class=\"sk-toggleable__control sk-hidden--visually\" id=\"da6a261c-eb1a-4dea-973e-2a378e99b497\" type=\"checkbox\" ><label for=\"da6a261c-eb1a-4dea-973e-2a378e99b497\" class=\"sk-toggleable__label sk-toggleable__label-arrow\">SimpleImputer</label><div class=\"sk-toggleable__content\"><pre>SimpleImputer(strategy=&#x27;median&#x27;)</pre></div></div></div></div></div></div><div class=\"sk-parallel-item\"><div class=\"sk-item\"><div class=\"sk-label-container\"><div class=\"sk-label sk-toggleable\"><input class=\"sk-toggleable__control sk-hidden--visually\" id=\"d5d693f7-b311-4f7f-91c9-cbba0d3627e7\" type=\"checkbox\" ><label for=\"d5d693f7-b311-4f7f-91c9-cbba0d3627e7\" class=\"sk-toggleable__label sk-toggleable__label-arrow\">s_scaler</label><div class=\"sk-toggleable__content\"><pre>[&#x27;Age&#x27;]</pre></div></div></div><div class=\"sk-serial\"><div class=\"sk-item\"><div class=\"sk-estimator sk-toggleable\"><input class=\"sk-toggleable__control sk-hidden--visually\" id=\"13e635e7-4d56-4928-add2-f7036973fc46\" type=\"checkbox\" ><label for=\"13e635e7-4d56-4928-add2-f7036973fc46\" class=\"sk-toggleable__label sk-toggleable__label-arrow\">StandardScaler</label><div class=\"sk-toggleable__content\"><pre>StandardScaler()</pre></div></div></div></div></div></div><div class=\"sk-parallel-item\"><div class=\"sk-item\"><div class=\"sk-label-container\"><div class=\"sk-label sk-toggleable\"><input class=\"sk-toggleable__control sk-hidden--visually\" id=\"708216a3-a2e9-4b4c-aeee-5966c700b457\" type=\"checkbox\" ><label for=\"708216a3-a2e9-4b4c-aeee-5966c700b457\" class=\"sk-toggleable__label sk-toggleable__label-arrow\">m_scaler</label><div class=\"sk-toggleable__content\"><pre>[&#x27;EDUC&#x27;]</pre></div></div></div><div class=\"sk-serial\"><div class=\"sk-item\"><div class=\"sk-estimator sk-toggleable\"><input class=\"sk-toggleable__control sk-hidden--visually\" id=\"aa76cc2b-56aa-48fe-9d4c-f23872e80844\" type=\"checkbox\" ><label for=\"aa76cc2b-56aa-48fe-9d4c-f23872e80844\" class=\"sk-toggleable__label sk-toggleable__label-arrow\">MinMaxScaler</label><div class=\"sk-toggleable__content\"><pre>MinMaxScaler()</pre></div></div></div></div></div></div><div class=\"sk-parallel-item\"><div class=\"sk-item\"><div class=\"sk-label-container\"><div class=\"sk-label sk-toggleable\"><input class=\"sk-toggleable__control sk-hidden--visually\" id=\"ce690a6a-63d5-4514-b9e3-4cc99f853f48\" type=\"checkbox\" ><label for=\"ce690a6a-63d5-4514-b9e3-4cc99f853f48\" class=\"sk-toggleable__label sk-toggleable__label-arrow\">r_scaler</label><div class=\"sk-toggleable__content\"><pre>[&#x27;eTIV&#x27;]</pre></div></div></div><div class=\"sk-serial\"><div class=\"sk-item\"><div class=\"sk-estimator sk-toggleable\"><input class=\"sk-toggleable__control sk-hidden--visually\" id=\"d13f950e-4b6b-4d9f-9c9f-bb2719ba72b3\" type=\"checkbox\" ><label for=\"d13f950e-4b6b-4d9f-9c9f-bb2719ba72b3\" class=\"sk-toggleable__label sk-toggleable__label-arrow\">RobustScaler</label><div class=\"sk-toggleable__content\"><pre>RobustScaler()</pre></div></div></div></div></div></div><div class=\"sk-parallel-item\"><div class=\"sk-item\"><div class=\"sk-label-container\"><div class=\"sk-label sk-toggleable\"><input class=\"sk-toggleable__control sk-hidden--visually\" id=\"671ebeed-891c-429c-b409-e54a1b738796\" type=\"checkbox\" ><label for=\"671ebeed-891c-429c-b409-e54a1b738796\" class=\"sk-toggleable__label sk-toggleable__label-arrow\">remainder</label><div class=\"sk-toggleable__content\"><pre></pre></div></div></div><div class=\"sk-serial\"><div class=\"sk-item\"><div class=\"sk-estimator sk-toggleable\"><input class=\"sk-toggleable__control sk-hidden--visually\" id=\"12ceddc6-e8f2-4172-8c02-88d14d1a41ab\" type=\"checkbox\" ><label for=\"12ceddc6-e8f2-4172-8c02-88d14d1a41ab\" class=\"sk-toggleable__label sk-toggleable__label-arrow\">passthrough</label><div class=\"sk-toggleable__content\"><pre>passthrough</pre></div></div></div></div></div></div></div></div></div></div>"
      ],
      "text/plain": [
       "ColumnTransformer(remainder='passthrough',\n",
       "                  transformers=[('encoder', OneHotEncoder(drop='if_binary'),\n",
       "                                 ['M/F']),\n",
       "                                ('imp_scaler',\n",
       "                                 Pipeline(steps=[('simpleimputer',\n",
       "                                                  SimpleImputer(strategy='median')),\n",
       "                                                 ('robustscaler',\n",
       "                                                  RobustScaler())]),\n",
       "                                 ['MMSE']),\n",
       "                                ('imputer', SimpleImputer(strategy='median'),\n",
       "                                 ['SES']),\n",
       "                                ('s_scaler', StandardScaler(), ['Age']),\n",
       "                                ('m_scaler', MinMaxScaler(), ['EDUC']),\n",
       "                                ('r_scaler', RobustScaler(), ['eTIV'])])"
      ]
     },
     "execution_count": 335,
     "metadata": {},
     "output_type": "execute_result"
    }
   ],
   "source": [
    "from sklearn import set_config; set_config(display='diagram')\n",
    "from sklearn.compose import ColumnTransformer\n",
    "from sklearn.preprocessing import StandardScaler\n",
    "from sklearn.preprocessing import MinMaxScaler\n",
    "from sklearn.preprocessing import RobustScaler\n",
    "from sklearn.pipeline import Pipeline\n",
    "from sklearn.impute import SimpleImputer\n",
    "from sklearn.pipeline import make_pipeline\n",
    "from sklearn.base import BaseEstimator, TransformerMixin\n",
    "from sklearn.preprocessing import OneHotEncoder\n",
    "\n",
    "pipe1 = make_pipeline(SimpleImputer(strategy=\"median\"), RobustScaler())\n",
    "\n",
    "preproc = ColumnTransformer([\n",
    "    ('encoder', OneHotEncoder(drop = \"if_binary\"), [\"M/F\"]),\n",
    "    ('imp_scaler', pipe1, ['MMSE']),\n",
    "    ('imputer', SimpleImputer(strategy=\"median\"), ['SES']),\n",
    "    ('s_scaler', StandardScaler(), ['Age']),\n",
    "    ('m_scaler', MinMaxScaler(), ['EDUC']),\n",
    "    ('r_scaler', RobustScaler(), ['eTIV'])],\n",
    "    remainder='passthrough')\n",
    "\n",
    "preproc"
   ]
  },
  {
   "cell_type": "markdown",
   "id": "d6c8f8aa",
   "metadata": {},
   "source": [
    "We now split the data into train and test set."
   ]
  },
  {
   "cell_type": "code",
   "execution_count": 337,
   "id": "c44c4a5a",
   "metadata": {},
   "outputs": [],
   "source": [
    "from sklearn.model_selection import train_test_split\n",
    "\n",
    "X_train, X_test, y_train, y_test = train_test_split(X, y, test_size=0.25, random_state=42)"
   ]
  },
  {
   "cell_type": "code",
   "execution_count": 338,
   "id": "9de80a5b",
   "metadata": {
    "scrolled": true
   },
   "outputs": [],
   "source": [
    "SimpleImputer.get_feature_names_out = (lambda self, names=None: self.feature_names_in_)\n",
    "X_train_piped=pd.DataFrame(preproc.fit_transform(X_train), columns = preproc.get_feature_names_out())\n",
    "X_test_pined=pd.DataFrame(preproc.transform(X_test), columns = preproc.get_feature_names_out())"
   ]
  },
  {
   "cell_type": "markdown",
   "id": "f041e156",
   "metadata": {},
   "source": [
    "\\\n",
    "Renaming the column labels that were modified while applying the pipeline."
   ]
  },
  {
   "cell_type": "code",
   "execution_count": 339,
   "id": "cdb93365",
   "metadata": {
    "scrolled": true
   },
   "outputs": [
    {
     "data": {
      "text/html": [
       "<div>\n",
       "<style scoped>\n",
       "    .dataframe tbody tr th:only-of-type {\n",
       "        vertical-align: middle;\n",
       "    }\n",
       "\n",
       "    .dataframe tbody tr th {\n",
       "        vertical-align: top;\n",
       "    }\n",
       "\n",
       "    .dataframe thead th {\n",
       "        text-align: right;\n",
       "    }\n",
       "</style>\n",
       "<table border=\"1\" class=\"dataframe\">\n",
       "  <thead>\n",
       "    <tr style=\"text-align: right;\">\n",
       "      <th></th>\n",
       "      <th>M/F</th>\n",
       "      <th>Age</th>\n",
       "      <th>Educ</th>\n",
       "      <th>SES</th>\n",
       "      <th>MMSE</th>\n",
       "      <th>eTIV</th>\n",
       "      <th>nWBV</th>\n",
       "      <th>ASF</th>\n",
       "    </tr>\n",
       "  </thead>\n",
       "  <tbody>\n",
       "    <tr>\n",
       "      <th>0</th>\n",
       "      <td>1.0</td>\n",
       "      <td>-0.746814</td>\n",
       "      <td>0.588235</td>\n",
       "      <td>1.0</td>\n",
       "      <td>-4.000000</td>\n",
       "      <td>0.350806</td>\n",
       "      <td>0.685</td>\n",
       "      <td>1.123</td>\n",
       "    </tr>\n",
       "    <tr>\n",
       "      <th>1</th>\n",
       "      <td>1.0</td>\n",
       "      <td>0.054575</td>\n",
       "      <td>0.705882</td>\n",
       "      <td>1.0</td>\n",
       "      <td>-1.333333</td>\n",
       "      <td>0.520161</td>\n",
       "      <td>0.781</td>\n",
       "      <td>1.094</td>\n",
       "    </tr>\n",
       "    <tr>\n",
       "      <th>2</th>\n",
       "      <td>1.0</td>\n",
       "      <td>-1.281072</td>\n",
       "      <td>0.352941</td>\n",
       "      <td>4.0</td>\n",
       "      <td>0.333333</td>\n",
       "      <td>-0.141129</td>\n",
       "      <td>0.727</td>\n",
       "      <td>1.219</td>\n",
       "    </tr>\n",
       "    <tr>\n",
       "      <th>3</th>\n",
       "      <td>0.0</td>\n",
       "      <td>-1.414637</td>\n",
       "      <td>0.352941</td>\n",
       "      <td>3.0</td>\n",
       "      <td>0.333333</td>\n",
       "      <td>-0.112903</td>\n",
       "      <td>0.769</td>\n",
       "      <td>1.213</td>\n",
       "    </tr>\n",
       "    <tr>\n",
       "      <th>4</th>\n",
       "      <td>0.0</td>\n",
       "      <td>-0.746814</td>\n",
       "      <td>0.470588</td>\n",
       "      <td>4.0</td>\n",
       "      <td>-1.000000</td>\n",
       "      <td>0.217742</td>\n",
       "      <td>0.788</td>\n",
       "      <td>1.147</td>\n",
       "    </tr>\n",
       "    <tr>\n",
       "      <th>...</th>\n",
       "      <td>...</td>\n",
       "      <td>...</td>\n",
       "      <td>...</td>\n",
       "      <td>...</td>\n",
       "      <td>...</td>\n",
       "      <td>...</td>\n",
       "      <td>...</td>\n",
       "      <td>...</td>\n",
       "    </tr>\n",
       "    <tr>\n",
       "      <th>274</th>\n",
       "      <td>0.0</td>\n",
       "      <td>-0.212555</td>\n",
       "      <td>0.411765</td>\n",
       "      <td>4.0</td>\n",
       "      <td>0.000000</td>\n",
       "      <td>-0.508065</td>\n",
       "      <td>0.778</td>\n",
       "      <td>1.301</td>\n",
       "    </tr>\n",
       "    <tr>\n",
       "      <th>275</th>\n",
       "      <td>1.0</td>\n",
       "      <td>-0.613249</td>\n",
       "      <td>0.352941</td>\n",
       "      <td>4.0</td>\n",
       "      <td>-4.000000</td>\n",
       "      <td>0.032258</td>\n",
       "      <td>0.695</td>\n",
       "      <td>1.184</td>\n",
       "    </tr>\n",
       "    <tr>\n",
       "      <th>276</th>\n",
       "      <td>0.0</td>\n",
       "      <td>0.722398</td>\n",
       "      <td>0.705882</td>\n",
       "      <td>1.0</td>\n",
       "      <td>0.000000</td>\n",
       "      <td>-0.133065</td>\n",
       "      <td>0.644</td>\n",
       "      <td>1.217</td>\n",
       "    </tr>\n",
       "    <tr>\n",
       "      <th>277</th>\n",
       "      <td>1.0</td>\n",
       "      <td>1.657352</td>\n",
       "      <td>0.588235</td>\n",
       "      <td>2.0</td>\n",
       "      <td>0.333333</td>\n",
       "      <td>-0.270161</td>\n",
       "      <td>0.679</td>\n",
       "      <td>1.246</td>\n",
       "    </tr>\n",
       "    <tr>\n",
       "      <th>278</th>\n",
       "      <td>0.0</td>\n",
       "      <td>-1.013943</td>\n",
       "      <td>0.588235</td>\n",
       "      <td>3.0</td>\n",
       "      <td>0.333333</td>\n",
       "      <td>0.064516</td>\n",
       "      <td>0.794</td>\n",
       "      <td>1.177</td>\n",
       "    </tr>\n",
       "  </tbody>\n",
       "</table>\n",
       "<p>279 rows × 8 columns</p>\n",
       "</div>"
      ],
      "text/plain": [
       "     M/F       Age      Educ  SES      MMSE      eTIV   nWBV    ASF\n",
       "0    1.0 -0.746814  0.588235  1.0 -4.000000  0.350806  0.685  1.123\n",
       "1    1.0  0.054575  0.705882  1.0 -1.333333  0.520161  0.781  1.094\n",
       "2    1.0 -1.281072  0.352941  4.0  0.333333 -0.141129  0.727  1.219\n",
       "3    0.0 -1.414637  0.352941  3.0  0.333333 -0.112903  0.769  1.213\n",
       "4    0.0 -0.746814  0.470588  4.0 -1.000000  0.217742  0.788  1.147\n",
       "..   ...       ...       ...  ...       ...       ...    ...    ...\n",
       "274  0.0 -0.212555  0.411765  4.0  0.000000 -0.508065  0.778  1.301\n",
       "275  1.0 -0.613249  0.352941  4.0 -4.000000  0.032258  0.695  1.184\n",
       "276  0.0  0.722398  0.705882  1.0  0.000000 -0.133065  0.644  1.217\n",
       "277  1.0  1.657352  0.588235  2.0  0.333333 -0.270161  0.679  1.246\n",
       "278  0.0 -1.013943  0.588235  3.0  0.333333  0.064516  0.794  1.177\n",
       "\n",
       "[279 rows x 8 columns]"
      ]
     },
     "execution_count": 339,
     "metadata": {},
     "output_type": "execute_result"
    }
   ],
   "source": [
    "X_train_piped = X_train_piped.rename(columns={\"s_scaler__Age\": \"Age\",\n",
    "                              \"m_scaler__EDUC\": \"Educ\",\n",
    "                              \"r_scaler__eTIV\": \"eTIV\",\n",
    "                              \"imp_scaler__MMSE\": \"MMSE\",\n",
    "                              \"encoder__M/F_M\": \"M/F\",\n",
    "                              \"imputer__SES\": \"SES\",\n",
    "                              \"remainder__nWBV\": \"nWBV\",\n",
    "                              \"remainder__ASF\": \"ASF\"})\n",
    "\n",
    "X_train_piped = X_train_piped[[\"M/F\", \"Age\", \"Educ\", \"SES\", \"MMSE\", \"eTIV\", \"nWBV\", \"ASF\"]]\n",
    "X_train_piped"
   ]
  },
  {
   "cell_type": "markdown",
   "id": "028a9b95",
   "metadata": {},
   "source": [
    "Exporting the transformed dataset to evaluate in model of Oasis1 and viceversa."
   ]
  },
  {
   "cell_type": "code",
   "execution_count": 22,
   "id": "c6aa64e8",
   "metadata": {
    "scrolled": true
   },
   "outputs": [
    {
     "data": {
      "text/html": [
       "<div>\n",
       "<style scoped>\n",
       "    .dataframe tbody tr th:only-of-type {\n",
       "        vertical-align: middle;\n",
       "    }\n",
       "\n",
       "    .dataframe tbody tr th {\n",
       "        vertical-align: top;\n",
       "    }\n",
       "\n",
       "    .dataframe thead th {\n",
       "        text-align: right;\n",
       "    }\n",
       "</style>\n",
       "<table border=\"1\" class=\"dataframe\">\n",
       "  <thead>\n",
       "    <tr style=\"text-align: right;\">\n",
       "      <th></th>\n",
       "      <th>M/F</th>\n",
       "      <th>Age</th>\n",
       "      <th>Educ</th>\n",
       "      <th>SES</th>\n",
       "      <th>MMSE</th>\n",
       "      <th>eTIV</th>\n",
       "      <th>nWBV</th>\n",
       "      <th>ASF</th>\n",
       "      <th>CDR</th>\n",
       "    </tr>\n",
       "  </thead>\n",
       "  <tbody>\n",
       "    <tr>\n",
       "      <th>0</th>\n",
       "      <td>1.0</td>\n",
       "      <td>1.308738</td>\n",
       "      <td>0.470588</td>\n",
       "      <td>2.0</td>\n",
       "      <td>-0.666667</td>\n",
       "      <td>2.154167</td>\n",
       "      <td>0.696</td>\n",
       "      <td>0.883</td>\n",
       "      <td>0</td>\n",
       "    </tr>\n",
       "    <tr>\n",
       "      <th>1</th>\n",
       "      <td>1.0</td>\n",
       "      <td>1.439787</td>\n",
       "      <td>0.470588</td>\n",
       "      <td>2.0</td>\n",
       "      <td>0.333333</td>\n",
       "      <td>2.225000</td>\n",
       "      <td>0.681</td>\n",
       "      <td>0.876</td>\n",
       "      <td>0</td>\n",
       "    </tr>\n",
       "    <tr>\n",
       "      <th>2</th>\n",
       "      <td>1.0</td>\n",
       "      <td>-0.263856</td>\n",
       "      <td>0.352941</td>\n",
       "      <td>2.0</td>\n",
       "      <td>-2.000000</td>\n",
       "      <td>0.866667</td>\n",
       "      <td>0.736</td>\n",
       "      <td>1.046</td>\n",
       "      <td>1</td>\n",
       "    </tr>\n",
       "    <tr>\n",
       "      <th>3</th>\n",
       "      <td>1.0</td>\n",
       "      <td>-0.132806</td>\n",
       "      <td>0.352941</td>\n",
       "      <td>2.0</td>\n",
       "      <td>-0.333333</td>\n",
       "      <td>1.116667</td>\n",
       "      <td>0.713</td>\n",
       "      <td>1.010</td>\n",
       "      <td>1</td>\n",
       "    </tr>\n",
       "    <tr>\n",
       "      <th>4</th>\n",
       "      <td>1.0</td>\n",
       "      <td>0.391392</td>\n",
       "      <td>0.352941</td>\n",
       "      <td>2.0</td>\n",
       "      <td>-2.333333</td>\n",
       "      <td>0.950000</td>\n",
       "      <td>0.701</td>\n",
       "      <td>1.034</td>\n",
       "      <td>1</td>\n",
       "    </tr>\n",
       "    <tr>\n",
       "      <th>...</th>\n",
       "      <td>...</td>\n",
       "      <td>...</td>\n",
       "      <td>...</td>\n",
       "      <td>...</td>\n",
       "      <td>...</td>\n",
       "      <td>...</td>\n",
       "      <td>...</td>\n",
       "      <td>...</td>\n",
       "      <td>...</td>\n",
       "    </tr>\n",
       "    <tr>\n",
       "      <th>368</th>\n",
       "      <td>1.0</td>\n",
       "      <td>0.653491</td>\n",
       "      <td>0.588235</td>\n",
       "      <td>1.0</td>\n",
       "      <td>-0.333333</td>\n",
       "      <td>0.929167</td>\n",
       "      <td>0.694</td>\n",
       "      <td>1.037</td>\n",
       "      <td>1</td>\n",
       "    </tr>\n",
       "    <tr>\n",
       "      <th>369</th>\n",
       "      <td>1.0</td>\n",
       "      <td>1.177688</td>\n",
       "      <td>0.588235</td>\n",
       "      <td>1.0</td>\n",
       "      <td>-1.000000</td>\n",
       "      <td>0.908333</td>\n",
       "      <td>0.675</td>\n",
       "      <td>1.040</td>\n",
       "      <td>1</td>\n",
       "    </tr>\n",
       "    <tr>\n",
       "      <th>370</th>\n",
       "      <td>0.0</td>\n",
       "      <td>-2.098548</td>\n",
       "      <td>0.411765</td>\n",
       "      <td>2.0</td>\n",
       "      <td>0.333333</td>\n",
       "      <td>-0.629167</td>\n",
       "      <td>0.801</td>\n",
       "      <td>1.331</td>\n",
       "      <td>0</td>\n",
       "    </tr>\n",
       "    <tr>\n",
       "      <th>371</th>\n",
       "      <td>0.0</td>\n",
       "      <td>-1.836449</td>\n",
       "      <td>0.411765</td>\n",
       "      <td>2.0</td>\n",
       "      <td>0.333333</td>\n",
       "      <td>-0.595833</td>\n",
       "      <td>0.796</td>\n",
       "      <td>1.323</td>\n",
       "      <td>0</td>\n",
       "    </tr>\n",
       "    <tr>\n",
       "      <th>372</th>\n",
       "      <td>0.0</td>\n",
       "      <td>-1.574350</td>\n",
       "      <td>0.411765</td>\n",
       "      <td>2.0</td>\n",
       "      <td>0.333333</td>\n",
       "      <td>-0.570833</td>\n",
       "      <td>0.801</td>\n",
       "      <td>1.317</td>\n",
       "      <td>0</td>\n",
       "    </tr>\n",
       "  </tbody>\n",
       "</table>\n",
       "<p>373 rows × 9 columns</p>\n",
       "</div>"
      ],
      "text/plain": [
       "     M/F       Age      Educ  SES      MMSE      eTIV   nWBV    ASF  CDR\n",
       "0    1.0  1.308738  0.470588  2.0 -0.666667  2.154167  0.696  0.883    0\n",
       "1    1.0  1.439787  0.470588  2.0  0.333333  2.225000  0.681  0.876    0\n",
       "2    1.0 -0.263856  0.352941  2.0 -2.000000  0.866667  0.736  1.046    1\n",
       "3    1.0 -0.132806  0.352941  2.0 -0.333333  1.116667  0.713  1.010    1\n",
       "4    1.0  0.391392  0.352941  2.0 -2.333333  0.950000  0.701  1.034    1\n",
       "..   ...       ...       ...  ...       ...       ...    ...    ...  ...\n",
       "368  1.0  0.653491  0.588235  1.0 -0.333333  0.929167  0.694  1.037    1\n",
       "369  1.0  1.177688  0.588235  1.0 -1.000000  0.908333  0.675  1.040    1\n",
       "370  0.0 -2.098548  0.411765  2.0  0.333333 -0.629167  0.801  1.331    0\n",
       "371  0.0 -1.836449  0.411765  2.0  0.333333 -0.595833  0.796  1.323    0\n",
       "372  0.0 -1.574350  0.411765  2.0  0.333333 -0.570833  0.801  1.317    0\n",
       "\n",
       "[373 rows x 9 columns]"
      ]
     },
     "execution_count": 22,
     "metadata": {},
     "output_type": "execute_result"
    }
   ],
   "source": [
    "frames=[oasis2_scaled, y]\n",
    "oasis2 = pd.concat(frames, axis =1)\n",
    "oasis2"
   ]
  },
  {
   "cell_type": "markdown",
   "id": "c335a805",
   "metadata": {},
   "source": [
    "### Choosing the right estimator"
   ]
  },
  {
   "cell_type": "markdown",
   "id": "4d3ff2dd",
   "metadata": {},
   "source": [
    "We will look now for the right estimator to solve this machine learning problem. Since we have a dataset size between 50 and 100k samples, and target is categorical, we will start with the Linear Support Vector Classification (SVC) estimator.\n",
    "\n",
    "\n",
    "\n",
    "We will do GridSearch to find the best parameters on each model, scoring on \"recall\". This because we want to identify all the positive samples, in this case, the patients with dementia."
   ]
  },
  {
   "cell_type": "markdown",
   "id": "ac9e0f7d",
   "metadata": {},
   "source": [
    "#### SVC"
   ]
  },
  {
   "cell_type": "markdown",
   "id": "cfdf88c3",
   "metadata": {},
   "source": [
    "##### Linear SVC "
   ]
  },
  {
   "cell_type": "code",
   "execution_count": 206,
   "id": "07f78ef0",
   "metadata": {},
   "outputs": [
    {
     "data": {
      "text/html": [
       "<style>#sk-a06c2232-37a0-48e5-829a-ebc858c18819 {color: black;background-color: white;}#sk-a06c2232-37a0-48e5-829a-ebc858c18819 pre{padding: 0;}#sk-a06c2232-37a0-48e5-829a-ebc858c18819 div.sk-toggleable {background-color: white;}#sk-a06c2232-37a0-48e5-829a-ebc858c18819 label.sk-toggleable__label {cursor: pointer;display: block;width: 100%;margin-bottom: 0;padding: 0.3em;box-sizing: border-box;text-align: center;}#sk-a06c2232-37a0-48e5-829a-ebc858c18819 label.sk-toggleable__label-arrow:before {content: \"▸\";float: left;margin-right: 0.25em;color: #696969;}#sk-a06c2232-37a0-48e5-829a-ebc858c18819 label.sk-toggleable__label-arrow:hover:before {color: black;}#sk-a06c2232-37a0-48e5-829a-ebc858c18819 div.sk-estimator:hover label.sk-toggleable__label-arrow:before {color: black;}#sk-a06c2232-37a0-48e5-829a-ebc858c18819 div.sk-toggleable__content {max-height: 0;max-width: 0;overflow: hidden;text-align: left;background-color: #f0f8ff;}#sk-a06c2232-37a0-48e5-829a-ebc858c18819 div.sk-toggleable__content pre {margin: 0.2em;color: black;border-radius: 0.25em;background-color: #f0f8ff;}#sk-a06c2232-37a0-48e5-829a-ebc858c18819 input.sk-toggleable__control:checked~div.sk-toggleable__content {max-height: 200px;max-width: 100%;overflow: auto;}#sk-a06c2232-37a0-48e5-829a-ebc858c18819 input.sk-toggleable__control:checked~label.sk-toggleable__label-arrow:before {content: \"▾\";}#sk-a06c2232-37a0-48e5-829a-ebc858c18819 div.sk-estimator input.sk-toggleable__control:checked~label.sk-toggleable__label {background-color: #d4ebff;}#sk-a06c2232-37a0-48e5-829a-ebc858c18819 div.sk-label input.sk-toggleable__control:checked~label.sk-toggleable__label {background-color: #d4ebff;}#sk-a06c2232-37a0-48e5-829a-ebc858c18819 input.sk-hidden--visually {border: 0;clip: rect(1px 1px 1px 1px);clip: rect(1px, 1px, 1px, 1px);height: 1px;margin: -1px;overflow: hidden;padding: 0;position: absolute;width: 1px;}#sk-a06c2232-37a0-48e5-829a-ebc858c18819 div.sk-estimator {font-family: monospace;background-color: #f0f8ff;border: 1px dotted black;border-radius: 0.25em;box-sizing: border-box;margin-bottom: 0.5em;}#sk-a06c2232-37a0-48e5-829a-ebc858c18819 div.sk-estimator:hover {background-color: #d4ebff;}#sk-a06c2232-37a0-48e5-829a-ebc858c18819 div.sk-parallel-item::after {content: \"\";width: 100%;border-bottom: 1px solid gray;flex-grow: 1;}#sk-a06c2232-37a0-48e5-829a-ebc858c18819 div.sk-label:hover label.sk-toggleable__label {background-color: #d4ebff;}#sk-a06c2232-37a0-48e5-829a-ebc858c18819 div.sk-serial::before {content: \"\";position: absolute;border-left: 1px solid gray;box-sizing: border-box;top: 2em;bottom: 0;left: 50%;}#sk-a06c2232-37a0-48e5-829a-ebc858c18819 div.sk-serial {display: flex;flex-direction: column;align-items: center;background-color: white;padding-right: 0.2em;padding-left: 0.2em;}#sk-a06c2232-37a0-48e5-829a-ebc858c18819 div.sk-item {z-index: 1;}#sk-a06c2232-37a0-48e5-829a-ebc858c18819 div.sk-parallel {display: flex;align-items: stretch;justify-content: center;background-color: white;}#sk-a06c2232-37a0-48e5-829a-ebc858c18819 div.sk-parallel::before {content: \"\";position: absolute;border-left: 1px solid gray;box-sizing: border-box;top: 2em;bottom: 0;left: 50%;}#sk-a06c2232-37a0-48e5-829a-ebc858c18819 div.sk-parallel-item {display: flex;flex-direction: column;position: relative;background-color: white;}#sk-a06c2232-37a0-48e5-829a-ebc858c18819 div.sk-parallel-item:first-child::after {align-self: flex-end;width: 50%;}#sk-a06c2232-37a0-48e5-829a-ebc858c18819 div.sk-parallel-item:last-child::after {align-self: flex-start;width: 50%;}#sk-a06c2232-37a0-48e5-829a-ebc858c18819 div.sk-parallel-item:only-child::after {width: 0;}#sk-a06c2232-37a0-48e5-829a-ebc858c18819 div.sk-dashed-wrapped {border: 1px dashed gray;margin: 0 0.4em 0.5em 0.4em;box-sizing: border-box;padding-bottom: 0.4em;background-color: white;position: relative;}#sk-a06c2232-37a0-48e5-829a-ebc858c18819 div.sk-label label {font-family: monospace;font-weight: bold;background-color: white;display: inline-block;line-height: 1.2em;}#sk-a06c2232-37a0-48e5-829a-ebc858c18819 div.sk-label-container {position: relative;z-index: 2;text-align: center;}#sk-a06c2232-37a0-48e5-829a-ebc858c18819 div.sk-container {/* jupyter's `normalize.less` sets `[hidden] { display: none; }` but bootstrap.min.css set `[hidden] { display: none !important; }` so we also need the `!important` here to be able to override the default hidden behavior on the sphinx rendered scikit-learn.org. See: https://github.com/scikit-learn/scikit-learn/issues/21755 */display: inline-block !important;position: relative;}#sk-a06c2232-37a0-48e5-829a-ebc858c18819 div.sk-text-repr-fallback {display: none;}</style><div id=\"sk-a06c2232-37a0-48e5-829a-ebc858c18819\" class=\"sk-top-container\"><div class=\"sk-text-repr-fallback\"><pre>GridSearchCV(cv=5, estimator=LinearSVC(max_iter=100000), n_jobs=-1,\n",
       "             param_grid={&#x27;C&#x27;: [0.1, 1, 5, 50, 100, 500]}, scoring=&#x27;recall&#x27;)</pre><b>Please rerun this cell to show the HTML repr or trust the notebook.</b></div><div class=\"sk-container\" hidden><div class=\"sk-item sk-dashed-wrapped\"><div class=\"sk-label-container\"><div class=\"sk-label sk-toggleable\"><input class=\"sk-toggleable__control sk-hidden--visually\" id=\"d1da4111-9bb8-4ac7-ac98-1ebb10e49100\" type=\"checkbox\" ><label for=\"d1da4111-9bb8-4ac7-ac98-1ebb10e49100\" class=\"sk-toggleable__label sk-toggleable__label-arrow\">GridSearchCV</label><div class=\"sk-toggleable__content\"><pre>GridSearchCV(cv=5, estimator=LinearSVC(max_iter=100000), n_jobs=-1,\n",
       "             param_grid={&#x27;C&#x27;: [0.1, 1, 5, 50, 100, 500]}, scoring=&#x27;recall&#x27;)</pre></div></div></div><div class=\"sk-parallel\"><div class=\"sk-parallel-item\"><div class=\"sk-item\"><div class=\"sk-serial\"><div class=\"sk-item\"><div class=\"sk-estimator sk-toggleable\"><input class=\"sk-toggleable__control sk-hidden--visually\" id=\"c11719d6-aca9-4c53-b357-095ba92e9d34\" type=\"checkbox\" ><label for=\"c11719d6-aca9-4c53-b357-095ba92e9d34\" class=\"sk-toggleable__label sk-toggleable__label-arrow\">LinearSVC</label><div class=\"sk-toggleable__content\"><pre>LinearSVC(max_iter=100000)</pre></div></div></div></div></div></div></div></div></div></div>"
      ],
      "text/plain": [
       "GridSearchCV(cv=5, estimator=LinearSVC(max_iter=100000), n_jobs=-1,\n",
       "             param_grid={'C': [0.1, 1, 5, 50, 100, 500]}, scoring='recall')"
      ]
     },
     "execution_count": 206,
     "metadata": {},
     "output_type": "execute_result"
    }
   ],
   "source": [
    "from sklearn.svm import LinearSVC\n",
    "from sklearn.model_selection import GridSearchCV\n",
    "\n",
    "model_svc_linear = LinearSVC(max_iter=100000)\n",
    "\n",
    "parameters = {'C': [0.1, 1, 5, 50, 100, 500]}\n",
    "\n",
    "gridsearch1 = GridSearchCV(model_svc_linear,\n",
    "                          parameters,\n",
    "                          n_jobs=-1,\n",
    "                          cv=5,\n",
    "                          scoring=\"recall\")\n",
    "\n",
    "gridsearch1.fit(X_train, y_train)"
   ]
  },
  {
   "cell_type": "code",
   "execution_count": 209,
   "id": "44e36662",
   "metadata": {},
   "outputs": [
    {
     "data": {
      "text/plain": [
       "{'C': 100}"
      ]
     },
     "execution_count": 209,
     "metadata": {},
     "output_type": "execute_result"
    }
   ],
   "source": [
    "gridsearch1.best_params_"
   ]
  },
  {
   "cell_type": "code",
   "execution_count": 210,
   "id": "15e31a4b",
   "metadata": {},
   "outputs": [
    {
     "data": {
      "text/plain": [
       "0.7070000000000001"
      ]
     },
     "execution_count": 210,
     "metadata": {},
     "output_type": "execute_result"
    }
   ],
   "source": [
    "gridsearch1.best_score_"
   ]
  },
  {
   "cell_type": "code",
   "execution_count": 211,
   "id": "59e711e9",
   "metadata": {},
   "outputs": [
    {
     "data": {
      "text/html": [
       "<style>#sk-23e20683-d2cd-4d10-8238-7d052d4b620d {color: black;background-color: white;}#sk-23e20683-d2cd-4d10-8238-7d052d4b620d pre{padding: 0;}#sk-23e20683-d2cd-4d10-8238-7d052d4b620d div.sk-toggleable {background-color: white;}#sk-23e20683-d2cd-4d10-8238-7d052d4b620d label.sk-toggleable__label {cursor: pointer;display: block;width: 100%;margin-bottom: 0;padding: 0.3em;box-sizing: border-box;text-align: center;}#sk-23e20683-d2cd-4d10-8238-7d052d4b620d label.sk-toggleable__label-arrow:before {content: \"▸\";float: left;margin-right: 0.25em;color: #696969;}#sk-23e20683-d2cd-4d10-8238-7d052d4b620d label.sk-toggleable__label-arrow:hover:before {color: black;}#sk-23e20683-d2cd-4d10-8238-7d052d4b620d div.sk-estimator:hover label.sk-toggleable__label-arrow:before {color: black;}#sk-23e20683-d2cd-4d10-8238-7d052d4b620d div.sk-toggleable__content {max-height: 0;max-width: 0;overflow: hidden;text-align: left;background-color: #f0f8ff;}#sk-23e20683-d2cd-4d10-8238-7d052d4b620d div.sk-toggleable__content pre {margin: 0.2em;color: black;border-radius: 0.25em;background-color: #f0f8ff;}#sk-23e20683-d2cd-4d10-8238-7d052d4b620d input.sk-toggleable__control:checked~div.sk-toggleable__content {max-height: 200px;max-width: 100%;overflow: auto;}#sk-23e20683-d2cd-4d10-8238-7d052d4b620d input.sk-toggleable__control:checked~label.sk-toggleable__label-arrow:before {content: \"▾\";}#sk-23e20683-d2cd-4d10-8238-7d052d4b620d div.sk-estimator input.sk-toggleable__control:checked~label.sk-toggleable__label {background-color: #d4ebff;}#sk-23e20683-d2cd-4d10-8238-7d052d4b620d div.sk-label input.sk-toggleable__control:checked~label.sk-toggleable__label {background-color: #d4ebff;}#sk-23e20683-d2cd-4d10-8238-7d052d4b620d input.sk-hidden--visually {border: 0;clip: rect(1px 1px 1px 1px);clip: rect(1px, 1px, 1px, 1px);height: 1px;margin: -1px;overflow: hidden;padding: 0;position: absolute;width: 1px;}#sk-23e20683-d2cd-4d10-8238-7d052d4b620d div.sk-estimator {font-family: monospace;background-color: #f0f8ff;border: 1px dotted black;border-radius: 0.25em;box-sizing: border-box;margin-bottom: 0.5em;}#sk-23e20683-d2cd-4d10-8238-7d052d4b620d div.sk-estimator:hover {background-color: #d4ebff;}#sk-23e20683-d2cd-4d10-8238-7d052d4b620d div.sk-parallel-item::after {content: \"\";width: 100%;border-bottom: 1px solid gray;flex-grow: 1;}#sk-23e20683-d2cd-4d10-8238-7d052d4b620d div.sk-label:hover label.sk-toggleable__label {background-color: #d4ebff;}#sk-23e20683-d2cd-4d10-8238-7d052d4b620d div.sk-serial::before {content: \"\";position: absolute;border-left: 1px solid gray;box-sizing: border-box;top: 2em;bottom: 0;left: 50%;}#sk-23e20683-d2cd-4d10-8238-7d052d4b620d div.sk-serial {display: flex;flex-direction: column;align-items: center;background-color: white;padding-right: 0.2em;padding-left: 0.2em;}#sk-23e20683-d2cd-4d10-8238-7d052d4b620d div.sk-item {z-index: 1;}#sk-23e20683-d2cd-4d10-8238-7d052d4b620d div.sk-parallel {display: flex;align-items: stretch;justify-content: center;background-color: white;}#sk-23e20683-d2cd-4d10-8238-7d052d4b620d div.sk-parallel::before {content: \"\";position: absolute;border-left: 1px solid gray;box-sizing: border-box;top: 2em;bottom: 0;left: 50%;}#sk-23e20683-d2cd-4d10-8238-7d052d4b620d div.sk-parallel-item {display: flex;flex-direction: column;position: relative;background-color: white;}#sk-23e20683-d2cd-4d10-8238-7d052d4b620d div.sk-parallel-item:first-child::after {align-self: flex-end;width: 50%;}#sk-23e20683-d2cd-4d10-8238-7d052d4b620d div.sk-parallel-item:last-child::after {align-self: flex-start;width: 50%;}#sk-23e20683-d2cd-4d10-8238-7d052d4b620d div.sk-parallel-item:only-child::after {width: 0;}#sk-23e20683-d2cd-4d10-8238-7d052d4b620d div.sk-dashed-wrapped {border: 1px dashed gray;margin: 0 0.4em 0.5em 0.4em;box-sizing: border-box;padding-bottom: 0.4em;background-color: white;position: relative;}#sk-23e20683-d2cd-4d10-8238-7d052d4b620d div.sk-label label {font-family: monospace;font-weight: bold;background-color: white;display: inline-block;line-height: 1.2em;}#sk-23e20683-d2cd-4d10-8238-7d052d4b620d div.sk-label-container {position: relative;z-index: 2;text-align: center;}#sk-23e20683-d2cd-4d10-8238-7d052d4b620d div.sk-container {/* jupyter's `normalize.less` sets `[hidden] { display: none; }` but bootstrap.min.css set `[hidden] { display: none !important; }` so we also need the `!important` here to be able to override the default hidden behavior on the sphinx rendered scikit-learn.org. See: https://github.com/scikit-learn/scikit-learn/issues/21755 */display: inline-block !important;position: relative;}#sk-23e20683-d2cd-4d10-8238-7d052d4b620d div.sk-text-repr-fallback {display: none;}</style><div id=\"sk-23e20683-d2cd-4d10-8238-7d052d4b620d\" class=\"sk-top-container\"><div class=\"sk-text-repr-fallback\"><pre>LinearSVC(C=1, max_iter=10000)</pre><b>Please rerun this cell to show the HTML repr or trust the notebook.</b></div><div class=\"sk-container\" hidden><div class=\"sk-item\"><div class=\"sk-estimator sk-toggleable\"><input class=\"sk-toggleable__control sk-hidden--visually\" id=\"203bc0a9-ab3e-4a90-b859-e17017957ff0\" type=\"checkbox\" checked><label for=\"203bc0a9-ab3e-4a90-b859-e17017957ff0\" class=\"sk-toggleable__label sk-toggleable__label-arrow\">LinearSVC</label><div class=\"sk-toggleable__content\"><pre>LinearSVC(C=1, max_iter=10000)</pre></div></div></div></div></div>"
      ],
      "text/plain": [
       "LinearSVC(C=1, max_iter=10000)"
      ]
     },
     "execution_count": 211,
     "metadata": {},
     "output_type": "execute_result"
    }
   ],
   "source": [
    "model_lsvc_best = LinearSVC(C= 1, max_iter=10000)\n",
    "model_lsvc_best.fit(X_train, y_train)"
   ]
  },
  {
   "cell_type": "markdown",
   "id": "fb010dc2",
   "metadata": {},
   "source": [
    "Now we will predict the target:"
   ]
  },
  {
   "cell_type": "code",
   "execution_count": 212,
   "id": "bf175952",
   "metadata": {},
   "outputs": [],
   "source": [
    "y_pred1 = model_lsvc_best.predict(X_test)"
   ]
  },
  {
   "cell_type": "code",
   "execution_count": 214,
   "id": "74b633ba",
   "metadata": {},
   "outputs": [
    {
     "data": {
      "text/plain": [
       "0.7727272727272727"
      ]
     },
     "execution_count": 214,
     "metadata": {},
     "output_type": "execute_result"
    }
   ],
   "source": [
    "from sklearn.metrics import recall_score\n",
    "recall_score(y_test, y_pred1)"
   ]
  },
  {
   "cell_type": "markdown",
   "id": "f5f51e9a",
   "metadata": {},
   "source": [
    "##### SVC: Poly"
   ]
  },
  {
   "cell_type": "code",
   "execution_count": 166,
   "id": "e569dcd7",
   "metadata": {},
   "outputs": [
    {
     "data": {
      "text/html": [
       "<style>#sk-a58977c8-54aa-4acd-81bd-020e8da7d15e {color: black;background-color: white;}#sk-a58977c8-54aa-4acd-81bd-020e8da7d15e pre{padding: 0;}#sk-a58977c8-54aa-4acd-81bd-020e8da7d15e div.sk-toggleable {background-color: white;}#sk-a58977c8-54aa-4acd-81bd-020e8da7d15e label.sk-toggleable__label {cursor: pointer;display: block;width: 100%;margin-bottom: 0;padding: 0.3em;box-sizing: border-box;text-align: center;}#sk-a58977c8-54aa-4acd-81bd-020e8da7d15e label.sk-toggleable__label-arrow:before {content: \"▸\";float: left;margin-right: 0.25em;color: #696969;}#sk-a58977c8-54aa-4acd-81bd-020e8da7d15e label.sk-toggleable__label-arrow:hover:before {color: black;}#sk-a58977c8-54aa-4acd-81bd-020e8da7d15e div.sk-estimator:hover label.sk-toggleable__label-arrow:before {color: black;}#sk-a58977c8-54aa-4acd-81bd-020e8da7d15e div.sk-toggleable__content {max-height: 0;max-width: 0;overflow: hidden;text-align: left;background-color: #f0f8ff;}#sk-a58977c8-54aa-4acd-81bd-020e8da7d15e div.sk-toggleable__content pre {margin: 0.2em;color: black;border-radius: 0.25em;background-color: #f0f8ff;}#sk-a58977c8-54aa-4acd-81bd-020e8da7d15e input.sk-toggleable__control:checked~div.sk-toggleable__content {max-height: 200px;max-width: 100%;overflow: auto;}#sk-a58977c8-54aa-4acd-81bd-020e8da7d15e input.sk-toggleable__control:checked~label.sk-toggleable__label-arrow:before {content: \"▾\";}#sk-a58977c8-54aa-4acd-81bd-020e8da7d15e div.sk-estimator input.sk-toggleable__control:checked~label.sk-toggleable__label {background-color: #d4ebff;}#sk-a58977c8-54aa-4acd-81bd-020e8da7d15e div.sk-label input.sk-toggleable__control:checked~label.sk-toggleable__label {background-color: #d4ebff;}#sk-a58977c8-54aa-4acd-81bd-020e8da7d15e input.sk-hidden--visually {border: 0;clip: rect(1px 1px 1px 1px);clip: rect(1px, 1px, 1px, 1px);height: 1px;margin: -1px;overflow: hidden;padding: 0;position: absolute;width: 1px;}#sk-a58977c8-54aa-4acd-81bd-020e8da7d15e div.sk-estimator {font-family: monospace;background-color: #f0f8ff;border: 1px dotted black;border-radius: 0.25em;box-sizing: border-box;margin-bottom: 0.5em;}#sk-a58977c8-54aa-4acd-81bd-020e8da7d15e div.sk-estimator:hover {background-color: #d4ebff;}#sk-a58977c8-54aa-4acd-81bd-020e8da7d15e div.sk-parallel-item::after {content: \"\";width: 100%;border-bottom: 1px solid gray;flex-grow: 1;}#sk-a58977c8-54aa-4acd-81bd-020e8da7d15e div.sk-label:hover label.sk-toggleable__label {background-color: #d4ebff;}#sk-a58977c8-54aa-4acd-81bd-020e8da7d15e div.sk-serial::before {content: \"\";position: absolute;border-left: 1px solid gray;box-sizing: border-box;top: 2em;bottom: 0;left: 50%;}#sk-a58977c8-54aa-4acd-81bd-020e8da7d15e div.sk-serial {display: flex;flex-direction: column;align-items: center;background-color: white;padding-right: 0.2em;padding-left: 0.2em;}#sk-a58977c8-54aa-4acd-81bd-020e8da7d15e div.sk-item {z-index: 1;}#sk-a58977c8-54aa-4acd-81bd-020e8da7d15e div.sk-parallel {display: flex;align-items: stretch;justify-content: center;background-color: white;}#sk-a58977c8-54aa-4acd-81bd-020e8da7d15e div.sk-parallel::before {content: \"\";position: absolute;border-left: 1px solid gray;box-sizing: border-box;top: 2em;bottom: 0;left: 50%;}#sk-a58977c8-54aa-4acd-81bd-020e8da7d15e div.sk-parallel-item {display: flex;flex-direction: column;position: relative;background-color: white;}#sk-a58977c8-54aa-4acd-81bd-020e8da7d15e div.sk-parallel-item:first-child::after {align-self: flex-end;width: 50%;}#sk-a58977c8-54aa-4acd-81bd-020e8da7d15e div.sk-parallel-item:last-child::after {align-self: flex-start;width: 50%;}#sk-a58977c8-54aa-4acd-81bd-020e8da7d15e div.sk-parallel-item:only-child::after {width: 0;}#sk-a58977c8-54aa-4acd-81bd-020e8da7d15e div.sk-dashed-wrapped {border: 1px dashed gray;margin: 0 0.4em 0.5em 0.4em;box-sizing: border-box;padding-bottom: 0.4em;background-color: white;position: relative;}#sk-a58977c8-54aa-4acd-81bd-020e8da7d15e div.sk-label label {font-family: monospace;font-weight: bold;background-color: white;display: inline-block;line-height: 1.2em;}#sk-a58977c8-54aa-4acd-81bd-020e8da7d15e div.sk-label-container {position: relative;z-index: 2;text-align: center;}#sk-a58977c8-54aa-4acd-81bd-020e8da7d15e div.sk-container {/* jupyter's `normalize.less` sets `[hidden] { display: none; }` but bootstrap.min.css set `[hidden] { display: none !important; }` so we also need the `!important` here to be able to override the default hidden behavior on the sphinx rendered scikit-learn.org. See: https://github.com/scikit-learn/scikit-learn/issues/21755 */display: inline-block !important;position: relative;}#sk-a58977c8-54aa-4acd-81bd-020e8da7d15e div.sk-text-repr-fallback {display: none;}</style><div id=\"sk-a58977c8-54aa-4acd-81bd-020e8da7d15e\" class=\"sk-top-container\"><div class=\"sk-text-repr-fallback\"><pre>GridSearchCV(cv=5, estimator=SVC(kernel=&#x27;poly&#x27;), n_jobs=-1,\n",
       "             param_grid={&#x27;C&#x27;: [1, 10, 100, 1000, 10000, 100000],\n",
       "                         &#x27;gamma&#x27;: [0.01, 0.1, 0.2, 0.5, 0.75, 1]},\n",
       "             scoring=&#x27;recall&#x27;)</pre><b>Please rerun this cell to show the HTML repr or trust the notebook.</b></div><div class=\"sk-container\" hidden><div class=\"sk-item sk-dashed-wrapped\"><div class=\"sk-label-container\"><div class=\"sk-label sk-toggleable\"><input class=\"sk-toggleable__control sk-hidden--visually\" id=\"21203b88-026c-41aa-b568-b0673545e14f\" type=\"checkbox\" ><label for=\"21203b88-026c-41aa-b568-b0673545e14f\" class=\"sk-toggleable__label sk-toggleable__label-arrow\">GridSearchCV</label><div class=\"sk-toggleable__content\"><pre>GridSearchCV(cv=5, estimator=SVC(kernel=&#x27;poly&#x27;), n_jobs=-1,\n",
       "             param_grid={&#x27;C&#x27;: [1, 10, 100, 1000, 10000, 100000],\n",
       "                         &#x27;gamma&#x27;: [0.01, 0.1, 0.2, 0.5, 0.75, 1]},\n",
       "             scoring=&#x27;recall&#x27;)</pre></div></div></div><div class=\"sk-parallel\"><div class=\"sk-parallel-item\"><div class=\"sk-item\"><div class=\"sk-serial\"><div class=\"sk-item\"><div class=\"sk-estimator sk-toggleable\"><input class=\"sk-toggleable__control sk-hidden--visually\" id=\"bfbc0728-c379-47de-93d2-3cb6c1dfb746\" type=\"checkbox\" ><label for=\"bfbc0728-c379-47de-93d2-3cb6c1dfb746\" class=\"sk-toggleable__label sk-toggleable__label-arrow\">SVC</label><div class=\"sk-toggleable__content\"><pre>SVC(kernel=&#x27;poly&#x27;)</pre></div></div></div></div></div></div></div></div></div></div>"
      ],
      "text/plain": [
       "GridSearchCV(cv=5, estimator=SVC(kernel='poly'), n_jobs=-1,\n",
       "             param_grid={'C': [1, 10, 100, 1000, 10000, 100000],\n",
       "                         'gamma': [0.01, 0.1, 0.2, 0.5, 0.75, 1]},\n",
       "             scoring='recall')"
      ]
     },
     "execution_count": 166,
     "metadata": {},
     "output_type": "execute_result"
    }
   ],
   "source": [
    "from sklearn.svm import SVC\n",
    "\n",
    "model_svc_poly = SVC(kernel=\"poly\")\n",
    "\n",
    "parameters = {'C': [1, 10, 100, 1000, 10000, 100000],\n",
    "              'gamma': [0.01, 0.1, 0.2, 0.5, 0.75, 1]}\n",
    "\n",
    "gridsearch2 = GridSearchCV(model_svc_poly,\n",
    "                          parameters,\n",
    "                          n_jobs=-1,\n",
    "                          cv=5,\n",
    "                          scoring=\"recall\")\n",
    "\n",
    "gridsearch2.fit(X_train, y_train)"
   ]
  },
  {
   "cell_type": "code",
   "execution_count": 167,
   "id": "afb44d0d",
   "metadata": {},
   "outputs": [
    {
     "data": {
      "text/plain": [
       "{'C': 1000, 'gamma': 0.5}"
      ]
     },
     "execution_count": 167,
     "metadata": {},
     "output_type": "execute_result"
    }
   ],
   "source": [
    "gridsearch2.best_params_"
   ]
  },
  {
   "cell_type": "code",
   "execution_count": 168,
   "id": "08797a71",
   "metadata": {},
   "outputs": [
    {
     "data": {
      "text/plain": [
       "0.773"
      ]
     },
     "execution_count": 168,
     "metadata": {},
     "output_type": "execute_result"
    }
   ],
   "source": [
    "gridsearch2.best_score_"
   ]
  },
  {
   "cell_type": "code",
   "execution_count": 170,
   "id": "2b4796ac",
   "metadata": {},
   "outputs": [
    {
     "data": {
      "text/html": [
       "<style>#sk-90eaa664-0eb5-4e96-9587-02c24bfe7793 {color: black;background-color: white;}#sk-90eaa664-0eb5-4e96-9587-02c24bfe7793 pre{padding: 0;}#sk-90eaa664-0eb5-4e96-9587-02c24bfe7793 div.sk-toggleable {background-color: white;}#sk-90eaa664-0eb5-4e96-9587-02c24bfe7793 label.sk-toggleable__label {cursor: pointer;display: block;width: 100%;margin-bottom: 0;padding: 0.3em;box-sizing: border-box;text-align: center;}#sk-90eaa664-0eb5-4e96-9587-02c24bfe7793 label.sk-toggleable__label-arrow:before {content: \"▸\";float: left;margin-right: 0.25em;color: #696969;}#sk-90eaa664-0eb5-4e96-9587-02c24bfe7793 label.sk-toggleable__label-arrow:hover:before {color: black;}#sk-90eaa664-0eb5-4e96-9587-02c24bfe7793 div.sk-estimator:hover label.sk-toggleable__label-arrow:before {color: black;}#sk-90eaa664-0eb5-4e96-9587-02c24bfe7793 div.sk-toggleable__content {max-height: 0;max-width: 0;overflow: hidden;text-align: left;background-color: #f0f8ff;}#sk-90eaa664-0eb5-4e96-9587-02c24bfe7793 div.sk-toggleable__content pre {margin: 0.2em;color: black;border-radius: 0.25em;background-color: #f0f8ff;}#sk-90eaa664-0eb5-4e96-9587-02c24bfe7793 input.sk-toggleable__control:checked~div.sk-toggleable__content {max-height: 200px;max-width: 100%;overflow: auto;}#sk-90eaa664-0eb5-4e96-9587-02c24bfe7793 input.sk-toggleable__control:checked~label.sk-toggleable__label-arrow:before {content: \"▾\";}#sk-90eaa664-0eb5-4e96-9587-02c24bfe7793 div.sk-estimator input.sk-toggleable__control:checked~label.sk-toggleable__label {background-color: #d4ebff;}#sk-90eaa664-0eb5-4e96-9587-02c24bfe7793 div.sk-label input.sk-toggleable__control:checked~label.sk-toggleable__label {background-color: #d4ebff;}#sk-90eaa664-0eb5-4e96-9587-02c24bfe7793 input.sk-hidden--visually {border: 0;clip: rect(1px 1px 1px 1px);clip: rect(1px, 1px, 1px, 1px);height: 1px;margin: -1px;overflow: hidden;padding: 0;position: absolute;width: 1px;}#sk-90eaa664-0eb5-4e96-9587-02c24bfe7793 div.sk-estimator {font-family: monospace;background-color: #f0f8ff;border: 1px dotted black;border-radius: 0.25em;box-sizing: border-box;margin-bottom: 0.5em;}#sk-90eaa664-0eb5-4e96-9587-02c24bfe7793 div.sk-estimator:hover {background-color: #d4ebff;}#sk-90eaa664-0eb5-4e96-9587-02c24bfe7793 div.sk-parallel-item::after {content: \"\";width: 100%;border-bottom: 1px solid gray;flex-grow: 1;}#sk-90eaa664-0eb5-4e96-9587-02c24bfe7793 div.sk-label:hover label.sk-toggleable__label {background-color: #d4ebff;}#sk-90eaa664-0eb5-4e96-9587-02c24bfe7793 div.sk-serial::before {content: \"\";position: absolute;border-left: 1px solid gray;box-sizing: border-box;top: 2em;bottom: 0;left: 50%;}#sk-90eaa664-0eb5-4e96-9587-02c24bfe7793 div.sk-serial {display: flex;flex-direction: column;align-items: center;background-color: white;padding-right: 0.2em;padding-left: 0.2em;}#sk-90eaa664-0eb5-4e96-9587-02c24bfe7793 div.sk-item {z-index: 1;}#sk-90eaa664-0eb5-4e96-9587-02c24bfe7793 div.sk-parallel {display: flex;align-items: stretch;justify-content: center;background-color: white;}#sk-90eaa664-0eb5-4e96-9587-02c24bfe7793 div.sk-parallel::before {content: \"\";position: absolute;border-left: 1px solid gray;box-sizing: border-box;top: 2em;bottom: 0;left: 50%;}#sk-90eaa664-0eb5-4e96-9587-02c24bfe7793 div.sk-parallel-item {display: flex;flex-direction: column;position: relative;background-color: white;}#sk-90eaa664-0eb5-4e96-9587-02c24bfe7793 div.sk-parallel-item:first-child::after {align-self: flex-end;width: 50%;}#sk-90eaa664-0eb5-4e96-9587-02c24bfe7793 div.sk-parallel-item:last-child::after {align-self: flex-start;width: 50%;}#sk-90eaa664-0eb5-4e96-9587-02c24bfe7793 div.sk-parallel-item:only-child::after {width: 0;}#sk-90eaa664-0eb5-4e96-9587-02c24bfe7793 div.sk-dashed-wrapped {border: 1px dashed gray;margin: 0 0.4em 0.5em 0.4em;box-sizing: border-box;padding-bottom: 0.4em;background-color: white;position: relative;}#sk-90eaa664-0eb5-4e96-9587-02c24bfe7793 div.sk-label label {font-family: monospace;font-weight: bold;background-color: white;display: inline-block;line-height: 1.2em;}#sk-90eaa664-0eb5-4e96-9587-02c24bfe7793 div.sk-label-container {position: relative;z-index: 2;text-align: center;}#sk-90eaa664-0eb5-4e96-9587-02c24bfe7793 div.sk-container {/* jupyter's `normalize.less` sets `[hidden] { display: none; }` but bootstrap.min.css set `[hidden] { display: none !important; }` so we also need the `!important` here to be able to override the default hidden behavior on the sphinx rendered scikit-learn.org. See: https://github.com/scikit-learn/scikit-learn/issues/21755 */display: inline-block !important;position: relative;}#sk-90eaa664-0eb5-4e96-9587-02c24bfe7793 div.sk-text-repr-fallback {display: none;}</style><div id=\"sk-90eaa664-0eb5-4e96-9587-02c24bfe7793\" class=\"sk-top-container\"><div class=\"sk-text-repr-fallback\"><pre>SVC(C=1000, gamma=0.5, kernel=&#x27;poly&#x27;)</pre><b>Please rerun this cell to show the HTML repr or trust the notebook.</b></div><div class=\"sk-container\" hidden><div class=\"sk-item\"><div class=\"sk-estimator sk-toggleable\"><input class=\"sk-toggleable__control sk-hidden--visually\" id=\"7dd73ab5-9026-4687-a39e-4e7c722e0d3b\" type=\"checkbox\" checked><label for=\"7dd73ab5-9026-4687-a39e-4e7c722e0d3b\" class=\"sk-toggleable__label sk-toggleable__label-arrow\">SVC</label><div class=\"sk-toggleable__content\"><pre>SVC(C=1000, gamma=0.5, kernel=&#x27;poly&#x27;)</pre></div></div></div></div></div>"
      ],
      "text/plain": [
       "SVC(C=1000, gamma=0.5, kernel='poly')"
      ]
     },
     "execution_count": 170,
     "metadata": {},
     "output_type": "execute_result"
    }
   ],
   "source": [
    "model_svc_poly_best = SVC(kernel=\"poly\", C= 1000, gamma=0.5)\n",
    "model_svc_poly_best.fit(X_train, y_train)"
   ]
  },
  {
   "cell_type": "code",
   "execution_count": 171,
   "id": "1d2e8bfe",
   "metadata": {},
   "outputs": [],
   "source": [
    "y_pred2 = model_svc_poly_best.predict(X_test)"
   ]
  },
  {
   "cell_type": "code",
   "execution_count": 172,
   "id": "7ab2300e",
   "metadata": {},
   "outputs": [
    {
     "data": {
      "text/plain": [
       "0.75"
      ]
     },
     "execution_count": 172,
     "metadata": {},
     "output_type": "execute_result"
    }
   ],
   "source": [
    "recall_score(y_test, y_pred2)"
   ]
  },
  {
   "cell_type": "markdown",
   "id": "ee9c99c1",
   "metadata": {},
   "source": [
    "##### SVC: Rbf"
   ]
  },
  {
   "cell_type": "code",
   "execution_count": 231,
   "id": "bba0802d",
   "metadata": {},
   "outputs": [
    {
     "data": {
      "text/html": [
       "<style>#sk-fed55dca-70a6-4822-9d28-d81f5d743dd8 {color: black;background-color: white;}#sk-fed55dca-70a6-4822-9d28-d81f5d743dd8 pre{padding: 0;}#sk-fed55dca-70a6-4822-9d28-d81f5d743dd8 div.sk-toggleable {background-color: white;}#sk-fed55dca-70a6-4822-9d28-d81f5d743dd8 label.sk-toggleable__label {cursor: pointer;display: block;width: 100%;margin-bottom: 0;padding: 0.3em;box-sizing: border-box;text-align: center;}#sk-fed55dca-70a6-4822-9d28-d81f5d743dd8 label.sk-toggleable__label-arrow:before {content: \"▸\";float: left;margin-right: 0.25em;color: #696969;}#sk-fed55dca-70a6-4822-9d28-d81f5d743dd8 label.sk-toggleable__label-arrow:hover:before {color: black;}#sk-fed55dca-70a6-4822-9d28-d81f5d743dd8 div.sk-estimator:hover label.sk-toggleable__label-arrow:before {color: black;}#sk-fed55dca-70a6-4822-9d28-d81f5d743dd8 div.sk-toggleable__content {max-height: 0;max-width: 0;overflow: hidden;text-align: left;background-color: #f0f8ff;}#sk-fed55dca-70a6-4822-9d28-d81f5d743dd8 div.sk-toggleable__content pre {margin: 0.2em;color: black;border-radius: 0.25em;background-color: #f0f8ff;}#sk-fed55dca-70a6-4822-9d28-d81f5d743dd8 input.sk-toggleable__control:checked~div.sk-toggleable__content {max-height: 200px;max-width: 100%;overflow: auto;}#sk-fed55dca-70a6-4822-9d28-d81f5d743dd8 input.sk-toggleable__control:checked~label.sk-toggleable__label-arrow:before {content: \"▾\";}#sk-fed55dca-70a6-4822-9d28-d81f5d743dd8 div.sk-estimator input.sk-toggleable__control:checked~label.sk-toggleable__label {background-color: #d4ebff;}#sk-fed55dca-70a6-4822-9d28-d81f5d743dd8 div.sk-label input.sk-toggleable__control:checked~label.sk-toggleable__label {background-color: #d4ebff;}#sk-fed55dca-70a6-4822-9d28-d81f5d743dd8 input.sk-hidden--visually {border: 0;clip: rect(1px 1px 1px 1px);clip: rect(1px, 1px, 1px, 1px);height: 1px;margin: -1px;overflow: hidden;padding: 0;position: absolute;width: 1px;}#sk-fed55dca-70a6-4822-9d28-d81f5d743dd8 div.sk-estimator {font-family: monospace;background-color: #f0f8ff;border: 1px dotted black;border-radius: 0.25em;box-sizing: border-box;margin-bottom: 0.5em;}#sk-fed55dca-70a6-4822-9d28-d81f5d743dd8 div.sk-estimator:hover {background-color: #d4ebff;}#sk-fed55dca-70a6-4822-9d28-d81f5d743dd8 div.sk-parallel-item::after {content: \"\";width: 100%;border-bottom: 1px solid gray;flex-grow: 1;}#sk-fed55dca-70a6-4822-9d28-d81f5d743dd8 div.sk-label:hover label.sk-toggleable__label {background-color: #d4ebff;}#sk-fed55dca-70a6-4822-9d28-d81f5d743dd8 div.sk-serial::before {content: \"\";position: absolute;border-left: 1px solid gray;box-sizing: border-box;top: 2em;bottom: 0;left: 50%;}#sk-fed55dca-70a6-4822-9d28-d81f5d743dd8 div.sk-serial {display: flex;flex-direction: column;align-items: center;background-color: white;padding-right: 0.2em;padding-left: 0.2em;}#sk-fed55dca-70a6-4822-9d28-d81f5d743dd8 div.sk-item {z-index: 1;}#sk-fed55dca-70a6-4822-9d28-d81f5d743dd8 div.sk-parallel {display: flex;align-items: stretch;justify-content: center;background-color: white;}#sk-fed55dca-70a6-4822-9d28-d81f5d743dd8 div.sk-parallel::before {content: \"\";position: absolute;border-left: 1px solid gray;box-sizing: border-box;top: 2em;bottom: 0;left: 50%;}#sk-fed55dca-70a6-4822-9d28-d81f5d743dd8 div.sk-parallel-item {display: flex;flex-direction: column;position: relative;background-color: white;}#sk-fed55dca-70a6-4822-9d28-d81f5d743dd8 div.sk-parallel-item:first-child::after {align-self: flex-end;width: 50%;}#sk-fed55dca-70a6-4822-9d28-d81f5d743dd8 div.sk-parallel-item:last-child::after {align-self: flex-start;width: 50%;}#sk-fed55dca-70a6-4822-9d28-d81f5d743dd8 div.sk-parallel-item:only-child::after {width: 0;}#sk-fed55dca-70a6-4822-9d28-d81f5d743dd8 div.sk-dashed-wrapped {border: 1px dashed gray;margin: 0 0.4em 0.5em 0.4em;box-sizing: border-box;padding-bottom: 0.4em;background-color: white;position: relative;}#sk-fed55dca-70a6-4822-9d28-d81f5d743dd8 div.sk-label label {font-family: monospace;font-weight: bold;background-color: white;display: inline-block;line-height: 1.2em;}#sk-fed55dca-70a6-4822-9d28-d81f5d743dd8 div.sk-label-container {position: relative;z-index: 2;text-align: center;}#sk-fed55dca-70a6-4822-9d28-d81f5d743dd8 div.sk-container {/* jupyter's `normalize.less` sets `[hidden] { display: none; }` but bootstrap.min.css set `[hidden] { display: none !important; }` so we also need the `!important` here to be able to override the default hidden behavior on the sphinx rendered scikit-learn.org. See: https://github.com/scikit-learn/scikit-learn/issues/21755 */display: inline-block !important;position: relative;}#sk-fed55dca-70a6-4822-9d28-d81f5d743dd8 div.sk-text-repr-fallback {display: none;}</style><div id=\"sk-fed55dca-70a6-4822-9d28-d81f5d743dd8\" class=\"sk-top-container\"><div class=\"sk-text-repr-fallback\"><pre>GridSearchCV(cv=5, estimator=SVC(), n_jobs=-1,\n",
       "             param_grid={&#x27;C&#x27;: [1, 10, 50, 100, 500, 1000, 5000],\n",
       "                         &#x27;gamma&#x27;: [0.01, 0.1, 0.2, 0.5, 0.75, 1]},\n",
       "             scoring=&#x27;recall&#x27;)</pre><b>Please rerun this cell to show the HTML repr or trust the notebook.</b></div><div class=\"sk-container\" hidden><div class=\"sk-item sk-dashed-wrapped\"><div class=\"sk-label-container\"><div class=\"sk-label sk-toggleable\"><input class=\"sk-toggleable__control sk-hidden--visually\" id=\"bc5afa4e-982e-4d16-8b0d-26b2def6af0f\" type=\"checkbox\" ><label for=\"bc5afa4e-982e-4d16-8b0d-26b2def6af0f\" class=\"sk-toggleable__label sk-toggleable__label-arrow\">GridSearchCV</label><div class=\"sk-toggleable__content\"><pre>GridSearchCV(cv=5, estimator=SVC(), n_jobs=-1,\n",
       "             param_grid={&#x27;C&#x27;: [1, 10, 50, 100, 500, 1000, 5000],\n",
       "                         &#x27;gamma&#x27;: [0.01, 0.1, 0.2, 0.5, 0.75, 1]},\n",
       "             scoring=&#x27;recall&#x27;)</pre></div></div></div><div class=\"sk-parallel\"><div class=\"sk-parallel-item\"><div class=\"sk-item\"><div class=\"sk-serial\"><div class=\"sk-item\"><div class=\"sk-estimator sk-toggleable\"><input class=\"sk-toggleable__control sk-hidden--visually\" id=\"9bd83a6c-9f77-4441-9cff-a1005a6d0c40\" type=\"checkbox\" ><label for=\"9bd83a6c-9f77-4441-9cff-a1005a6d0c40\" class=\"sk-toggleable__label sk-toggleable__label-arrow\">SVC</label><div class=\"sk-toggleable__content\"><pre>SVC()</pre></div></div></div></div></div></div></div></div></div></div>"
      ],
      "text/plain": [
       "GridSearchCV(cv=5, estimator=SVC(), n_jobs=-1,\n",
       "             param_grid={'C': [1, 10, 50, 100, 500, 1000, 5000],\n",
       "                         'gamma': [0.01, 0.1, 0.2, 0.5, 0.75, 1]},\n",
       "             scoring='recall')"
      ]
     },
     "execution_count": 231,
     "metadata": {},
     "output_type": "execute_result"
    }
   ],
   "source": [
    "from sklearn.svm import SVC\n",
    "\n",
    "model_svc_rbf = SVC(kernel= 'rbf')\n",
    "\n",
    "parameters = {'C': [1, 10, 50, 100, 500, 1000, 5000],\n",
    "              'gamma': [0.01, 0.1, 0.2, 0.5, 0.75, 1]}\n",
    "\n",
    "gridsearch3 = GridSearchCV(model_svc,\n",
    "                          parameters,\n",
    "                          n_jobs=-1,\n",
    "                          cv=5,\n",
    "                          scoring=\"recall\")\n",
    "\n",
    "gridsearch3.fit(X_train, y_train)"
   ]
  },
  {
   "cell_type": "code",
   "execution_count": 232,
   "id": "a4d844c1",
   "metadata": {
    "scrolled": true
   },
   "outputs": [
    {
     "data": {
      "text/plain": [
       "{'C': 5000, 'gamma': 0.5}"
      ]
     },
     "execution_count": 232,
     "metadata": {},
     "output_type": "execute_result"
    }
   ],
   "source": [
    "gridsearch3.best_params_"
   ]
  },
  {
   "cell_type": "code",
   "execution_count": 225,
   "id": "34bf9bed",
   "metadata": {},
   "outputs": [
    {
     "data": {
      "text/plain": [
       "0.7726666666666667"
      ]
     },
     "execution_count": 225,
     "metadata": {},
     "output_type": "execute_result"
    }
   ],
   "source": [
    "gridsearch3.best_score_"
   ]
  },
  {
   "cell_type": "code",
   "execution_count": 233,
   "id": "a7e1562b",
   "metadata": {},
   "outputs": [
    {
     "data": {
      "text/html": [
       "<style>#sk-48ec2b35-0c36-4881-8450-ed63be05450d {color: black;background-color: white;}#sk-48ec2b35-0c36-4881-8450-ed63be05450d pre{padding: 0;}#sk-48ec2b35-0c36-4881-8450-ed63be05450d div.sk-toggleable {background-color: white;}#sk-48ec2b35-0c36-4881-8450-ed63be05450d label.sk-toggleable__label {cursor: pointer;display: block;width: 100%;margin-bottom: 0;padding: 0.3em;box-sizing: border-box;text-align: center;}#sk-48ec2b35-0c36-4881-8450-ed63be05450d label.sk-toggleable__label-arrow:before {content: \"▸\";float: left;margin-right: 0.25em;color: #696969;}#sk-48ec2b35-0c36-4881-8450-ed63be05450d label.sk-toggleable__label-arrow:hover:before {color: black;}#sk-48ec2b35-0c36-4881-8450-ed63be05450d div.sk-estimator:hover label.sk-toggleable__label-arrow:before {color: black;}#sk-48ec2b35-0c36-4881-8450-ed63be05450d div.sk-toggleable__content {max-height: 0;max-width: 0;overflow: hidden;text-align: left;background-color: #f0f8ff;}#sk-48ec2b35-0c36-4881-8450-ed63be05450d div.sk-toggleable__content pre {margin: 0.2em;color: black;border-radius: 0.25em;background-color: #f0f8ff;}#sk-48ec2b35-0c36-4881-8450-ed63be05450d input.sk-toggleable__control:checked~div.sk-toggleable__content {max-height: 200px;max-width: 100%;overflow: auto;}#sk-48ec2b35-0c36-4881-8450-ed63be05450d input.sk-toggleable__control:checked~label.sk-toggleable__label-arrow:before {content: \"▾\";}#sk-48ec2b35-0c36-4881-8450-ed63be05450d div.sk-estimator input.sk-toggleable__control:checked~label.sk-toggleable__label {background-color: #d4ebff;}#sk-48ec2b35-0c36-4881-8450-ed63be05450d div.sk-label input.sk-toggleable__control:checked~label.sk-toggleable__label {background-color: #d4ebff;}#sk-48ec2b35-0c36-4881-8450-ed63be05450d input.sk-hidden--visually {border: 0;clip: rect(1px 1px 1px 1px);clip: rect(1px, 1px, 1px, 1px);height: 1px;margin: -1px;overflow: hidden;padding: 0;position: absolute;width: 1px;}#sk-48ec2b35-0c36-4881-8450-ed63be05450d div.sk-estimator {font-family: monospace;background-color: #f0f8ff;border: 1px dotted black;border-radius: 0.25em;box-sizing: border-box;margin-bottom: 0.5em;}#sk-48ec2b35-0c36-4881-8450-ed63be05450d div.sk-estimator:hover {background-color: #d4ebff;}#sk-48ec2b35-0c36-4881-8450-ed63be05450d div.sk-parallel-item::after {content: \"\";width: 100%;border-bottom: 1px solid gray;flex-grow: 1;}#sk-48ec2b35-0c36-4881-8450-ed63be05450d div.sk-label:hover label.sk-toggleable__label {background-color: #d4ebff;}#sk-48ec2b35-0c36-4881-8450-ed63be05450d div.sk-serial::before {content: \"\";position: absolute;border-left: 1px solid gray;box-sizing: border-box;top: 2em;bottom: 0;left: 50%;}#sk-48ec2b35-0c36-4881-8450-ed63be05450d div.sk-serial {display: flex;flex-direction: column;align-items: center;background-color: white;padding-right: 0.2em;padding-left: 0.2em;}#sk-48ec2b35-0c36-4881-8450-ed63be05450d div.sk-item {z-index: 1;}#sk-48ec2b35-0c36-4881-8450-ed63be05450d div.sk-parallel {display: flex;align-items: stretch;justify-content: center;background-color: white;}#sk-48ec2b35-0c36-4881-8450-ed63be05450d div.sk-parallel::before {content: \"\";position: absolute;border-left: 1px solid gray;box-sizing: border-box;top: 2em;bottom: 0;left: 50%;}#sk-48ec2b35-0c36-4881-8450-ed63be05450d div.sk-parallel-item {display: flex;flex-direction: column;position: relative;background-color: white;}#sk-48ec2b35-0c36-4881-8450-ed63be05450d div.sk-parallel-item:first-child::after {align-self: flex-end;width: 50%;}#sk-48ec2b35-0c36-4881-8450-ed63be05450d div.sk-parallel-item:last-child::after {align-self: flex-start;width: 50%;}#sk-48ec2b35-0c36-4881-8450-ed63be05450d div.sk-parallel-item:only-child::after {width: 0;}#sk-48ec2b35-0c36-4881-8450-ed63be05450d div.sk-dashed-wrapped {border: 1px dashed gray;margin: 0 0.4em 0.5em 0.4em;box-sizing: border-box;padding-bottom: 0.4em;background-color: white;position: relative;}#sk-48ec2b35-0c36-4881-8450-ed63be05450d div.sk-label label {font-family: monospace;font-weight: bold;background-color: white;display: inline-block;line-height: 1.2em;}#sk-48ec2b35-0c36-4881-8450-ed63be05450d div.sk-label-container {position: relative;z-index: 2;text-align: center;}#sk-48ec2b35-0c36-4881-8450-ed63be05450d div.sk-container {/* jupyter's `normalize.less` sets `[hidden] { display: none; }` but bootstrap.min.css set `[hidden] { display: none !important; }` so we also need the `!important` here to be able to override the default hidden behavior on the sphinx rendered scikit-learn.org. See: https://github.com/scikit-learn/scikit-learn/issues/21755 */display: inline-block !important;position: relative;}#sk-48ec2b35-0c36-4881-8450-ed63be05450d div.sk-text-repr-fallback {display: none;}</style><div id=\"sk-48ec2b35-0c36-4881-8450-ed63be05450d\" class=\"sk-top-container\"><div class=\"sk-text-repr-fallback\"><pre>SVC(C=5000, gamma=0.5)</pre><b>Please rerun this cell to show the HTML repr or trust the notebook.</b></div><div class=\"sk-container\" hidden><div class=\"sk-item\"><div class=\"sk-estimator sk-toggleable\"><input class=\"sk-toggleable__control sk-hidden--visually\" id=\"ca2b6956-36e5-4415-a447-b6018e61eaf6\" type=\"checkbox\" checked><label for=\"ca2b6956-36e5-4415-a447-b6018e61eaf6\" class=\"sk-toggleable__label sk-toggleable__label-arrow\">SVC</label><div class=\"sk-toggleable__content\"><pre>SVC(C=5000, gamma=0.5)</pre></div></div></div></div></div>"
      ],
      "text/plain": [
       "SVC(C=5000, gamma=0.5)"
      ]
     },
     "execution_count": 233,
     "metadata": {},
     "output_type": "execute_result"
    }
   ],
   "source": [
    "model_svc_rbf_best = SVC(kernel=\"rbf\", C= 5000, gamma=0.5)\n",
    "model_svc_rbf_best.fit(X_train, y_train)"
   ]
  },
  {
   "cell_type": "code",
   "execution_count": 234,
   "id": "68f7f500",
   "metadata": {},
   "outputs": [],
   "source": [
    "y_pred3 = model_svc_rbf_best.predict(X_test)"
   ]
  },
  {
   "cell_type": "code",
   "execution_count": 235,
   "id": "ae7f2541",
   "metadata": {},
   "outputs": [
    {
     "data": {
      "text/plain": [
       "0.8863636363636364"
      ]
     },
     "execution_count": 235,
     "metadata": {},
     "output_type": "execute_result"
    }
   ],
   "source": [
    "recall_score(y_test, y_pred3)"
   ]
  },
  {
   "cell_type": "markdown",
   "id": "45ef2198",
   "metadata": {},
   "source": [
    "#### KNeighbors Classifier"
   ]
  },
  {
   "cell_type": "code",
   "execution_count": 179,
   "id": "9ff9be06",
   "metadata": {},
   "outputs": [
    {
     "data": {
      "text/html": [
       "<style>#sk-db583684-f41c-41a4-9498-a1185c37eefc {color: black;background-color: white;}#sk-db583684-f41c-41a4-9498-a1185c37eefc pre{padding: 0;}#sk-db583684-f41c-41a4-9498-a1185c37eefc div.sk-toggleable {background-color: white;}#sk-db583684-f41c-41a4-9498-a1185c37eefc label.sk-toggleable__label {cursor: pointer;display: block;width: 100%;margin-bottom: 0;padding: 0.3em;box-sizing: border-box;text-align: center;}#sk-db583684-f41c-41a4-9498-a1185c37eefc label.sk-toggleable__label-arrow:before {content: \"▸\";float: left;margin-right: 0.25em;color: #696969;}#sk-db583684-f41c-41a4-9498-a1185c37eefc label.sk-toggleable__label-arrow:hover:before {color: black;}#sk-db583684-f41c-41a4-9498-a1185c37eefc div.sk-estimator:hover label.sk-toggleable__label-arrow:before {color: black;}#sk-db583684-f41c-41a4-9498-a1185c37eefc div.sk-toggleable__content {max-height: 0;max-width: 0;overflow: hidden;text-align: left;background-color: #f0f8ff;}#sk-db583684-f41c-41a4-9498-a1185c37eefc div.sk-toggleable__content pre {margin: 0.2em;color: black;border-radius: 0.25em;background-color: #f0f8ff;}#sk-db583684-f41c-41a4-9498-a1185c37eefc input.sk-toggleable__control:checked~div.sk-toggleable__content {max-height: 200px;max-width: 100%;overflow: auto;}#sk-db583684-f41c-41a4-9498-a1185c37eefc input.sk-toggleable__control:checked~label.sk-toggleable__label-arrow:before {content: \"▾\";}#sk-db583684-f41c-41a4-9498-a1185c37eefc div.sk-estimator input.sk-toggleable__control:checked~label.sk-toggleable__label {background-color: #d4ebff;}#sk-db583684-f41c-41a4-9498-a1185c37eefc div.sk-label input.sk-toggleable__control:checked~label.sk-toggleable__label {background-color: #d4ebff;}#sk-db583684-f41c-41a4-9498-a1185c37eefc input.sk-hidden--visually {border: 0;clip: rect(1px 1px 1px 1px);clip: rect(1px, 1px, 1px, 1px);height: 1px;margin: -1px;overflow: hidden;padding: 0;position: absolute;width: 1px;}#sk-db583684-f41c-41a4-9498-a1185c37eefc div.sk-estimator {font-family: monospace;background-color: #f0f8ff;border: 1px dotted black;border-radius: 0.25em;box-sizing: border-box;margin-bottom: 0.5em;}#sk-db583684-f41c-41a4-9498-a1185c37eefc div.sk-estimator:hover {background-color: #d4ebff;}#sk-db583684-f41c-41a4-9498-a1185c37eefc div.sk-parallel-item::after {content: \"\";width: 100%;border-bottom: 1px solid gray;flex-grow: 1;}#sk-db583684-f41c-41a4-9498-a1185c37eefc div.sk-label:hover label.sk-toggleable__label {background-color: #d4ebff;}#sk-db583684-f41c-41a4-9498-a1185c37eefc div.sk-serial::before {content: \"\";position: absolute;border-left: 1px solid gray;box-sizing: border-box;top: 2em;bottom: 0;left: 50%;}#sk-db583684-f41c-41a4-9498-a1185c37eefc div.sk-serial {display: flex;flex-direction: column;align-items: center;background-color: white;padding-right: 0.2em;padding-left: 0.2em;}#sk-db583684-f41c-41a4-9498-a1185c37eefc div.sk-item {z-index: 1;}#sk-db583684-f41c-41a4-9498-a1185c37eefc div.sk-parallel {display: flex;align-items: stretch;justify-content: center;background-color: white;}#sk-db583684-f41c-41a4-9498-a1185c37eefc div.sk-parallel::before {content: \"\";position: absolute;border-left: 1px solid gray;box-sizing: border-box;top: 2em;bottom: 0;left: 50%;}#sk-db583684-f41c-41a4-9498-a1185c37eefc div.sk-parallel-item {display: flex;flex-direction: column;position: relative;background-color: white;}#sk-db583684-f41c-41a4-9498-a1185c37eefc div.sk-parallel-item:first-child::after {align-self: flex-end;width: 50%;}#sk-db583684-f41c-41a4-9498-a1185c37eefc div.sk-parallel-item:last-child::after {align-self: flex-start;width: 50%;}#sk-db583684-f41c-41a4-9498-a1185c37eefc div.sk-parallel-item:only-child::after {width: 0;}#sk-db583684-f41c-41a4-9498-a1185c37eefc div.sk-dashed-wrapped {border: 1px dashed gray;margin: 0 0.4em 0.5em 0.4em;box-sizing: border-box;padding-bottom: 0.4em;background-color: white;position: relative;}#sk-db583684-f41c-41a4-9498-a1185c37eefc div.sk-label label {font-family: monospace;font-weight: bold;background-color: white;display: inline-block;line-height: 1.2em;}#sk-db583684-f41c-41a4-9498-a1185c37eefc div.sk-label-container {position: relative;z-index: 2;text-align: center;}#sk-db583684-f41c-41a4-9498-a1185c37eefc div.sk-container {/* jupyter's `normalize.less` sets `[hidden] { display: none; }` but bootstrap.min.css set `[hidden] { display: none !important; }` so we also need the `!important` here to be able to override the default hidden behavior on the sphinx rendered scikit-learn.org. See: https://github.com/scikit-learn/scikit-learn/issues/21755 */display: inline-block !important;position: relative;}#sk-db583684-f41c-41a4-9498-a1185c37eefc div.sk-text-repr-fallback {display: none;}</style><div id=\"sk-db583684-f41c-41a4-9498-a1185c37eefc\" class=\"sk-top-container\"><div class=\"sk-text-repr-fallback\"><pre>GridSearchCV(cv=5, estimator=KNeighborsClassifier(), n_jobs=-1,\n",
       "             param_grid={&#x27;n_neighbors&#x27;: range(1, 10)}, scoring=&#x27;recall&#x27;)</pre><b>Please rerun this cell to show the HTML repr or trust the notebook.</b></div><div class=\"sk-container\" hidden><div class=\"sk-item sk-dashed-wrapped\"><div class=\"sk-label-container\"><div class=\"sk-label sk-toggleable\"><input class=\"sk-toggleable__control sk-hidden--visually\" id=\"376a6869-20c6-4f1a-a736-2888ce30c9a8\" type=\"checkbox\" ><label for=\"376a6869-20c6-4f1a-a736-2888ce30c9a8\" class=\"sk-toggleable__label sk-toggleable__label-arrow\">GridSearchCV</label><div class=\"sk-toggleable__content\"><pre>GridSearchCV(cv=5, estimator=KNeighborsClassifier(), n_jobs=-1,\n",
       "             param_grid={&#x27;n_neighbors&#x27;: range(1, 10)}, scoring=&#x27;recall&#x27;)</pre></div></div></div><div class=\"sk-parallel\"><div class=\"sk-parallel-item\"><div class=\"sk-item\"><div class=\"sk-serial\"><div class=\"sk-item\"><div class=\"sk-estimator sk-toggleable\"><input class=\"sk-toggleable__control sk-hidden--visually\" id=\"d7c45d0f-09a0-4594-b16d-acc5bfaf9654\" type=\"checkbox\" ><label for=\"d7c45d0f-09a0-4594-b16d-acc5bfaf9654\" class=\"sk-toggleable__label sk-toggleable__label-arrow\">KNeighborsClassifier</label><div class=\"sk-toggleable__content\"><pre>KNeighborsClassifier()</pre></div></div></div></div></div></div></div></div></div></div>"
      ],
      "text/plain": [
       "GridSearchCV(cv=5, estimator=KNeighborsClassifier(), n_jobs=-1,\n",
       "             param_grid={'n_neighbors': range(1, 10)}, scoring='recall')"
      ]
     },
     "execution_count": 179,
     "metadata": {},
     "output_type": "execute_result"
    }
   ],
   "source": [
    "from sklearn.neighbors import KNeighborsClassifier\n",
    "\n",
    "knc = KNeighborsClassifier()\n",
    "\n",
    "parameters = {'n_neighbors': range(1,10)}\n",
    "\n",
    "gridsearch4 = GridSearchCV(knc,\n",
    "                          parameters,\n",
    "                          n_jobs=-1,\n",
    "                          cv=5,\n",
    "                          scoring=\"recall\")\n",
    "\n",
    "gridsearch4.fit(X_train, y_train)"
   ]
  },
  {
   "cell_type": "code",
   "execution_count": 180,
   "id": "73a7b417",
   "metadata": {},
   "outputs": [
    {
     "data": {
      "text/plain": [
       "{'n_neighbors': 1}"
      ]
     },
     "execution_count": 180,
     "metadata": {},
     "output_type": "execute_result"
    }
   ],
   "source": [
    "gridsearch4.best_params_"
   ]
  },
  {
   "cell_type": "code",
   "execution_count": 181,
   "id": "6e46b4a3",
   "metadata": {},
   "outputs": [
    {
     "data": {
      "text/plain": [
       "0.7556666666666667"
      ]
     },
     "execution_count": 181,
     "metadata": {},
     "output_type": "execute_result"
    }
   ],
   "source": [
    "gridsearch4.best_score_"
   ]
  },
  {
   "cell_type": "code",
   "execution_count": 182,
   "id": "8c08f9ef",
   "metadata": {},
   "outputs": [
    {
     "data": {
      "text/html": [
       "<style>#sk-7e4f1008-3258-486b-9b01-d2d9818df794 {color: black;background-color: white;}#sk-7e4f1008-3258-486b-9b01-d2d9818df794 pre{padding: 0;}#sk-7e4f1008-3258-486b-9b01-d2d9818df794 div.sk-toggleable {background-color: white;}#sk-7e4f1008-3258-486b-9b01-d2d9818df794 label.sk-toggleable__label {cursor: pointer;display: block;width: 100%;margin-bottom: 0;padding: 0.3em;box-sizing: border-box;text-align: center;}#sk-7e4f1008-3258-486b-9b01-d2d9818df794 label.sk-toggleable__label-arrow:before {content: \"▸\";float: left;margin-right: 0.25em;color: #696969;}#sk-7e4f1008-3258-486b-9b01-d2d9818df794 label.sk-toggleable__label-arrow:hover:before {color: black;}#sk-7e4f1008-3258-486b-9b01-d2d9818df794 div.sk-estimator:hover label.sk-toggleable__label-arrow:before {color: black;}#sk-7e4f1008-3258-486b-9b01-d2d9818df794 div.sk-toggleable__content {max-height: 0;max-width: 0;overflow: hidden;text-align: left;background-color: #f0f8ff;}#sk-7e4f1008-3258-486b-9b01-d2d9818df794 div.sk-toggleable__content pre {margin: 0.2em;color: black;border-radius: 0.25em;background-color: #f0f8ff;}#sk-7e4f1008-3258-486b-9b01-d2d9818df794 input.sk-toggleable__control:checked~div.sk-toggleable__content {max-height: 200px;max-width: 100%;overflow: auto;}#sk-7e4f1008-3258-486b-9b01-d2d9818df794 input.sk-toggleable__control:checked~label.sk-toggleable__label-arrow:before {content: \"▾\";}#sk-7e4f1008-3258-486b-9b01-d2d9818df794 div.sk-estimator input.sk-toggleable__control:checked~label.sk-toggleable__label {background-color: #d4ebff;}#sk-7e4f1008-3258-486b-9b01-d2d9818df794 div.sk-label input.sk-toggleable__control:checked~label.sk-toggleable__label {background-color: #d4ebff;}#sk-7e4f1008-3258-486b-9b01-d2d9818df794 input.sk-hidden--visually {border: 0;clip: rect(1px 1px 1px 1px);clip: rect(1px, 1px, 1px, 1px);height: 1px;margin: -1px;overflow: hidden;padding: 0;position: absolute;width: 1px;}#sk-7e4f1008-3258-486b-9b01-d2d9818df794 div.sk-estimator {font-family: monospace;background-color: #f0f8ff;border: 1px dotted black;border-radius: 0.25em;box-sizing: border-box;margin-bottom: 0.5em;}#sk-7e4f1008-3258-486b-9b01-d2d9818df794 div.sk-estimator:hover {background-color: #d4ebff;}#sk-7e4f1008-3258-486b-9b01-d2d9818df794 div.sk-parallel-item::after {content: \"\";width: 100%;border-bottom: 1px solid gray;flex-grow: 1;}#sk-7e4f1008-3258-486b-9b01-d2d9818df794 div.sk-label:hover label.sk-toggleable__label {background-color: #d4ebff;}#sk-7e4f1008-3258-486b-9b01-d2d9818df794 div.sk-serial::before {content: \"\";position: absolute;border-left: 1px solid gray;box-sizing: border-box;top: 2em;bottom: 0;left: 50%;}#sk-7e4f1008-3258-486b-9b01-d2d9818df794 div.sk-serial {display: flex;flex-direction: column;align-items: center;background-color: white;padding-right: 0.2em;padding-left: 0.2em;}#sk-7e4f1008-3258-486b-9b01-d2d9818df794 div.sk-item {z-index: 1;}#sk-7e4f1008-3258-486b-9b01-d2d9818df794 div.sk-parallel {display: flex;align-items: stretch;justify-content: center;background-color: white;}#sk-7e4f1008-3258-486b-9b01-d2d9818df794 div.sk-parallel::before {content: \"\";position: absolute;border-left: 1px solid gray;box-sizing: border-box;top: 2em;bottom: 0;left: 50%;}#sk-7e4f1008-3258-486b-9b01-d2d9818df794 div.sk-parallel-item {display: flex;flex-direction: column;position: relative;background-color: white;}#sk-7e4f1008-3258-486b-9b01-d2d9818df794 div.sk-parallel-item:first-child::after {align-self: flex-end;width: 50%;}#sk-7e4f1008-3258-486b-9b01-d2d9818df794 div.sk-parallel-item:last-child::after {align-self: flex-start;width: 50%;}#sk-7e4f1008-3258-486b-9b01-d2d9818df794 div.sk-parallel-item:only-child::after {width: 0;}#sk-7e4f1008-3258-486b-9b01-d2d9818df794 div.sk-dashed-wrapped {border: 1px dashed gray;margin: 0 0.4em 0.5em 0.4em;box-sizing: border-box;padding-bottom: 0.4em;background-color: white;position: relative;}#sk-7e4f1008-3258-486b-9b01-d2d9818df794 div.sk-label label {font-family: monospace;font-weight: bold;background-color: white;display: inline-block;line-height: 1.2em;}#sk-7e4f1008-3258-486b-9b01-d2d9818df794 div.sk-label-container {position: relative;z-index: 2;text-align: center;}#sk-7e4f1008-3258-486b-9b01-d2d9818df794 div.sk-container {/* jupyter's `normalize.less` sets `[hidden] { display: none; }` but bootstrap.min.css set `[hidden] { display: none !important; }` so we also need the `!important` here to be able to override the default hidden behavior on the sphinx rendered scikit-learn.org. See: https://github.com/scikit-learn/scikit-learn/issues/21755 */display: inline-block !important;position: relative;}#sk-7e4f1008-3258-486b-9b01-d2d9818df794 div.sk-text-repr-fallback {display: none;}</style><div id=\"sk-7e4f1008-3258-486b-9b01-d2d9818df794\" class=\"sk-top-container\"><div class=\"sk-text-repr-fallback\"><pre>KNeighborsClassifier(n_neighbors=1)</pre><b>Please rerun this cell to show the HTML repr or trust the notebook.</b></div><div class=\"sk-container\" hidden><div class=\"sk-item\"><div class=\"sk-estimator sk-toggleable\"><input class=\"sk-toggleable__control sk-hidden--visually\" id=\"41117b51-257f-4575-946b-8c4671859981\" type=\"checkbox\" checked><label for=\"41117b51-257f-4575-946b-8c4671859981\" class=\"sk-toggleable__label sk-toggleable__label-arrow\">KNeighborsClassifier</label><div class=\"sk-toggleable__content\"><pre>KNeighborsClassifier(n_neighbors=1)</pre></div></div></div></div></div>"
      ],
      "text/plain": [
       "KNeighborsClassifier(n_neighbors=1)"
      ]
     },
     "execution_count": 182,
     "metadata": {},
     "output_type": "execute_result"
    }
   ],
   "source": [
    "model_knc_best = KNeighborsClassifier(n_neighbors= 1)\n",
    "model_knc_best.fit(X_train, y_train)"
   ]
  },
  {
   "cell_type": "code",
   "execution_count": 183,
   "id": "c7135308",
   "metadata": {},
   "outputs": [],
   "source": [
    "y_pred4 = model_knc_best.predict(X_test)"
   ]
  },
  {
   "cell_type": "code",
   "execution_count": 184,
   "id": "614238ff",
   "metadata": {},
   "outputs": [
    {
     "data": {
      "text/plain": [
       "0.8636363636363636"
      ]
     },
     "execution_count": 184,
     "metadata": {},
     "output_type": "execute_result"
    }
   ],
   "source": [
    "recall_score(y_test, y_pred4)"
   ]
  },
  {
   "cell_type": "markdown",
   "id": "f84949a0",
   "metadata": {},
   "source": [
    "#### Decision Tree"
   ]
  },
  {
   "cell_type": "markdown",
   "id": "582a6876",
   "metadata": {},
   "source": [
    "We will create now a Decision Tree, to break down the data through binary decisions."
   ]
  },
  {
   "cell_type": "code",
   "execution_count": 215,
   "id": "14ed676b",
   "metadata": {},
   "outputs": [
    {
     "data": {
      "text/html": [
       "<style>#sk-af79ad02-411a-43ee-b59f-1c4c3c528942 {color: black;background-color: white;}#sk-af79ad02-411a-43ee-b59f-1c4c3c528942 pre{padding: 0;}#sk-af79ad02-411a-43ee-b59f-1c4c3c528942 div.sk-toggleable {background-color: white;}#sk-af79ad02-411a-43ee-b59f-1c4c3c528942 label.sk-toggleable__label {cursor: pointer;display: block;width: 100%;margin-bottom: 0;padding: 0.3em;box-sizing: border-box;text-align: center;}#sk-af79ad02-411a-43ee-b59f-1c4c3c528942 label.sk-toggleable__label-arrow:before {content: \"▸\";float: left;margin-right: 0.25em;color: #696969;}#sk-af79ad02-411a-43ee-b59f-1c4c3c528942 label.sk-toggleable__label-arrow:hover:before {color: black;}#sk-af79ad02-411a-43ee-b59f-1c4c3c528942 div.sk-estimator:hover label.sk-toggleable__label-arrow:before {color: black;}#sk-af79ad02-411a-43ee-b59f-1c4c3c528942 div.sk-toggleable__content {max-height: 0;max-width: 0;overflow: hidden;text-align: left;background-color: #f0f8ff;}#sk-af79ad02-411a-43ee-b59f-1c4c3c528942 div.sk-toggleable__content pre {margin: 0.2em;color: black;border-radius: 0.25em;background-color: #f0f8ff;}#sk-af79ad02-411a-43ee-b59f-1c4c3c528942 input.sk-toggleable__control:checked~div.sk-toggleable__content {max-height: 200px;max-width: 100%;overflow: auto;}#sk-af79ad02-411a-43ee-b59f-1c4c3c528942 input.sk-toggleable__control:checked~label.sk-toggleable__label-arrow:before {content: \"▾\";}#sk-af79ad02-411a-43ee-b59f-1c4c3c528942 div.sk-estimator input.sk-toggleable__control:checked~label.sk-toggleable__label {background-color: #d4ebff;}#sk-af79ad02-411a-43ee-b59f-1c4c3c528942 div.sk-label input.sk-toggleable__control:checked~label.sk-toggleable__label {background-color: #d4ebff;}#sk-af79ad02-411a-43ee-b59f-1c4c3c528942 input.sk-hidden--visually {border: 0;clip: rect(1px 1px 1px 1px);clip: rect(1px, 1px, 1px, 1px);height: 1px;margin: -1px;overflow: hidden;padding: 0;position: absolute;width: 1px;}#sk-af79ad02-411a-43ee-b59f-1c4c3c528942 div.sk-estimator {font-family: monospace;background-color: #f0f8ff;border: 1px dotted black;border-radius: 0.25em;box-sizing: border-box;margin-bottom: 0.5em;}#sk-af79ad02-411a-43ee-b59f-1c4c3c528942 div.sk-estimator:hover {background-color: #d4ebff;}#sk-af79ad02-411a-43ee-b59f-1c4c3c528942 div.sk-parallel-item::after {content: \"\";width: 100%;border-bottom: 1px solid gray;flex-grow: 1;}#sk-af79ad02-411a-43ee-b59f-1c4c3c528942 div.sk-label:hover label.sk-toggleable__label {background-color: #d4ebff;}#sk-af79ad02-411a-43ee-b59f-1c4c3c528942 div.sk-serial::before {content: \"\";position: absolute;border-left: 1px solid gray;box-sizing: border-box;top: 2em;bottom: 0;left: 50%;}#sk-af79ad02-411a-43ee-b59f-1c4c3c528942 div.sk-serial {display: flex;flex-direction: column;align-items: center;background-color: white;padding-right: 0.2em;padding-left: 0.2em;}#sk-af79ad02-411a-43ee-b59f-1c4c3c528942 div.sk-item {z-index: 1;}#sk-af79ad02-411a-43ee-b59f-1c4c3c528942 div.sk-parallel {display: flex;align-items: stretch;justify-content: center;background-color: white;}#sk-af79ad02-411a-43ee-b59f-1c4c3c528942 div.sk-parallel::before {content: \"\";position: absolute;border-left: 1px solid gray;box-sizing: border-box;top: 2em;bottom: 0;left: 50%;}#sk-af79ad02-411a-43ee-b59f-1c4c3c528942 div.sk-parallel-item {display: flex;flex-direction: column;position: relative;background-color: white;}#sk-af79ad02-411a-43ee-b59f-1c4c3c528942 div.sk-parallel-item:first-child::after {align-self: flex-end;width: 50%;}#sk-af79ad02-411a-43ee-b59f-1c4c3c528942 div.sk-parallel-item:last-child::after {align-self: flex-start;width: 50%;}#sk-af79ad02-411a-43ee-b59f-1c4c3c528942 div.sk-parallel-item:only-child::after {width: 0;}#sk-af79ad02-411a-43ee-b59f-1c4c3c528942 div.sk-dashed-wrapped {border: 1px dashed gray;margin: 0 0.4em 0.5em 0.4em;box-sizing: border-box;padding-bottom: 0.4em;background-color: white;position: relative;}#sk-af79ad02-411a-43ee-b59f-1c4c3c528942 div.sk-label label {font-family: monospace;font-weight: bold;background-color: white;display: inline-block;line-height: 1.2em;}#sk-af79ad02-411a-43ee-b59f-1c4c3c528942 div.sk-label-container {position: relative;z-index: 2;text-align: center;}#sk-af79ad02-411a-43ee-b59f-1c4c3c528942 div.sk-container {/* jupyter's `normalize.less` sets `[hidden] { display: none; }` but bootstrap.min.css set `[hidden] { display: none !important; }` so we also need the `!important` here to be able to override the default hidden behavior on the sphinx rendered scikit-learn.org. See: https://github.com/scikit-learn/scikit-learn/issues/21755 */display: inline-block !important;position: relative;}#sk-af79ad02-411a-43ee-b59f-1c4c3c528942 div.sk-text-repr-fallback {display: none;}</style><div id=\"sk-af79ad02-411a-43ee-b59f-1c4c3c528942\" class=\"sk-top-container\"><div class=\"sk-text-repr-fallback\"><pre>GridSearchCV(cv=5, estimator=DecisionTreeClassifier(), n_jobs=-1,\n",
       "             param_grid={&#x27;criterion&#x27;: [&#x27;gini&#x27;, &#x27;entropy&#x27;],\n",
       "                         &#x27;max_depth&#x27;: range(1, 10),\n",
       "                         &#x27;min_samples_leaf&#x27;: range(1, 10),\n",
       "                         &#x27;min_samples_split&#x27;: range(2, 10)},\n",
       "             scoring=&#x27;recall&#x27;)</pre><b>Please rerun this cell to show the HTML repr or trust the notebook.</b></div><div class=\"sk-container\" hidden><div class=\"sk-item sk-dashed-wrapped\"><div class=\"sk-label-container\"><div class=\"sk-label sk-toggleable\"><input class=\"sk-toggleable__control sk-hidden--visually\" id=\"244371b1-44e7-49a3-92ef-e13281f0bcd6\" type=\"checkbox\" ><label for=\"244371b1-44e7-49a3-92ef-e13281f0bcd6\" class=\"sk-toggleable__label sk-toggleable__label-arrow\">GridSearchCV</label><div class=\"sk-toggleable__content\"><pre>GridSearchCV(cv=5, estimator=DecisionTreeClassifier(), n_jobs=-1,\n",
       "             param_grid={&#x27;criterion&#x27;: [&#x27;gini&#x27;, &#x27;entropy&#x27;],\n",
       "                         &#x27;max_depth&#x27;: range(1, 10),\n",
       "                         &#x27;min_samples_leaf&#x27;: range(1, 10),\n",
       "                         &#x27;min_samples_split&#x27;: range(2, 10)},\n",
       "             scoring=&#x27;recall&#x27;)</pre></div></div></div><div class=\"sk-parallel\"><div class=\"sk-parallel-item\"><div class=\"sk-item\"><div class=\"sk-serial\"><div class=\"sk-item\"><div class=\"sk-estimator sk-toggleable\"><input class=\"sk-toggleable__control sk-hidden--visually\" id=\"05590b11-822e-4ecb-9522-022756b41e82\" type=\"checkbox\" ><label for=\"05590b11-822e-4ecb-9522-022756b41e82\" class=\"sk-toggleable__label sk-toggleable__label-arrow\">DecisionTreeClassifier</label><div class=\"sk-toggleable__content\"><pre>DecisionTreeClassifier()</pre></div></div></div></div></div></div></div></div></div></div>"
      ],
      "text/plain": [
       "GridSearchCV(cv=5, estimator=DecisionTreeClassifier(), n_jobs=-1,\n",
       "             param_grid={'criterion': ['gini', 'entropy'],\n",
       "                         'max_depth': range(1, 10),\n",
       "                         'min_samples_leaf': range(1, 10),\n",
       "                         'min_samples_split': range(2, 10)},\n",
       "             scoring='recall')"
      ]
     },
     "execution_count": 215,
     "metadata": {},
     "output_type": "execute_result"
    }
   ],
   "source": [
    "from sklearn.tree import DecisionTreeClassifier\n",
    "\n",
    "parameters = {'criterion': ['gini', 'entropy'],\n",
    "              'max_depth': range(1,10),\n",
    "              'min_samples_leaf': range(1,10),\n",
    "              'min_samples_split': range(2,10)}\n",
    "gridsearch4 = GridSearchCV(DecisionTreeClassifier(),\n",
    "                          parameters,\n",
    "                          n_jobs=-1,\n",
    "                          cv=5,\n",
    "                          scoring=\"recall\")\n",
    "\n",
    "gridsearch4.fit(X_train, y_train)"
   ]
  },
  {
   "cell_type": "code",
   "execution_count": 216,
   "id": "b1666158",
   "metadata": {},
   "outputs": [
    {
     "data": {
      "text/plain": [
       "{'criterion': 'entropy',\n",
       " 'max_depth': 7,\n",
       " 'min_samples_leaf': 3,\n",
       " 'min_samples_split': 7}"
      ]
     },
     "execution_count": 216,
     "metadata": {},
     "output_type": "execute_result"
    }
   ],
   "source": [
    "gridsearch4.best_params_"
   ]
  },
  {
   "cell_type": "code",
   "execution_count": 217,
   "id": "8eb721f4",
   "metadata": {},
   "outputs": [
    {
     "data": {
      "text/plain": [
       "0.7733333333333333"
      ]
     },
     "execution_count": 217,
     "metadata": {},
     "output_type": "execute_result"
    }
   ],
   "source": [
    "gridsearch4.best_score_"
   ]
  },
  {
   "cell_type": "code",
   "execution_count": 218,
   "id": "e670f2f0",
   "metadata": {},
   "outputs": [
    {
     "data": {
      "text/html": [
       "<style>#sk-1689898e-1455-4751-b7e9-90babade4365 {color: black;background-color: white;}#sk-1689898e-1455-4751-b7e9-90babade4365 pre{padding: 0;}#sk-1689898e-1455-4751-b7e9-90babade4365 div.sk-toggleable {background-color: white;}#sk-1689898e-1455-4751-b7e9-90babade4365 label.sk-toggleable__label {cursor: pointer;display: block;width: 100%;margin-bottom: 0;padding: 0.3em;box-sizing: border-box;text-align: center;}#sk-1689898e-1455-4751-b7e9-90babade4365 label.sk-toggleable__label-arrow:before {content: \"▸\";float: left;margin-right: 0.25em;color: #696969;}#sk-1689898e-1455-4751-b7e9-90babade4365 label.sk-toggleable__label-arrow:hover:before {color: black;}#sk-1689898e-1455-4751-b7e9-90babade4365 div.sk-estimator:hover label.sk-toggleable__label-arrow:before {color: black;}#sk-1689898e-1455-4751-b7e9-90babade4365 div.sk-toggleable__content {max-height: 0;max-width: 0;overflow: hidden;text-align: left;background-color: #f0f8ff;}#sk-1689898e-1455-4751-b7e9-90babade4365 div.sk-toggleable__content pre {margin: 0.2em;color: black;border-radius: 0.25em;background-color: #f0f8ff;}#sk-1689898e-1455-4751-b7e9-90babade4365 input.sk-toggleable__control:checked~div.sk-toggleable__content {max-height: 200px;max-width: 100%;overflow: auto;}#sk-1689898e-1455-4751-b7e9-90babade4365 input.sk-toggleable__control:checked~label.sk-toggleable__label-arrow:before {content: \"▾\";}#sk-1689898e-1455-4751-b7e9-90babade4365 div.sk-estimator input.sk-toggleable__control:checked~label.sk-toggleable__label {background-color: #d4ebff;}#sk-1689898e-1455-4751-b7e9-90babade4365 div.sk-label input.sk-toggleable__control:checked~label.sk-toggleable__label {background-color: #d4ebff;}#sk-1689898e-1455-4751-b7e9-90babade4365 input.sk-hidden--visually {border: 0;clip: rect(1px 1px 1px 1px);clip: rect(1px, 1px, 1px, 1px);height: 1px;margin: -1px;overflow: hidden;padding: 0;position: absolute;width: 1px;}#sk-1689898e-1455-4751-b7e9-90babade4365 div.sk-estimator {font-family: monospace;background-color: #f0f8ff;border: 1px dotted black;border-radius: 0.25em;box-sizing: border-box;margin-bottom: 0.5em;}#sk-1689898e-1455-4751-b7e9-90babade4365 div.sk-estimator:hover {background-color: #d4ebff;}#sk-1689898e-1455-4751-b7e9-90babade4365 div.sk-parallel-item::after {content: \"\";width: 100%;border-bottom: 1px solid gray;flex-grow: 1;}#sk-1689898e-1455-4751-b7e9-90babade4365 div.sk-label:hover label.sk-toggleable__label {background-color: #d4ebff;}#sk-1689898e-1455-4751-b7e9-90babade4365 div.sk-serial::before {content: \"\";position: absolute;border-left: 1px solid gray;box-sizing: border-box;top: 2em;bottom: 0;left: 50%;}#sk-1689898e-1455-4751-b7e9-90babade4365 div.sk-serial {display: flex;flex-direction: column;align-items: center;background-color: white;padding-right: 0.2em;padding-left: 0.2em;}#sk-1689898e-1455-4751-b7e9-90babade4365 div.sk-item {z-index: 1;}#sk-1689898e-1455-4751-b7e9-90babade4365 div.sk-parallel {display: flex;align-items: stretch;justify-content: center;background-color: white;}#sk-1689898e-1455-4751-b7e9-90babade4365 div.sk-parallel::before {content: \"\";position: absolute;border-left: 1px solid gray;box-sizing: border-box;top: 2em;bottom: 0;left: 50%;}#sk-1689898e-1455-4751-b7e9-90babade4365 div.sk-parallel-item {display: flex;flex-direction: column;position: relative;background-color: white;}#sk-1689898e-1455-4751-b7e9-90babade4365 div.sk-parallel-item:first-child::after {align-self: flex-end;width: 50%;}#sk-1689898e-1455-4751-b7e9-90babade4365 div.sk-parallel-item:last-child::after {align-self: flex-start;width: 50%;}#sk-1689898e-1455-4751-b7e9-90babade4365 div.sk-parallel-item:only-child::after {width: 0;}#sk-1689898e-1455-4751-b7e9-90babade4365 div.sk-dashed-wrapped {border: 1px dashed gray;margin: 0 0.4em 0.5em 0.4em;box-sizing: border-box;padding-bottom: 0.4em;background-color: white;position: relative;}#sk-1689898e-1455-4751-b7e9-90babade4365 div.sk-label label {font-family: monospace;font-weight: bold;background-color: white;display: inline-block;line-height: 1.2em;}#sk-1689898e-1455-4751-b7e9-90babade4365 div.sk-label-container {position: relative;z-index: 2;text-align: center;}#sk-1689898e-1455-4751-b7e9-90babade4365 div.sk-container {/* jupyter's `normalize.less` sets `[hidden] { display: none; }` but bootstrap.min.css set `[hidden] { display: none !important; }` so we also need the `!important` here to be able to override the default hidden behavior on the sphinx rendered scikit-learn.org. See: https://github.com/scikit-learn/scikit-learn/issues/21755 */display: inline-block !important;position: relative;}#sk-1689898e-1455-4751-b7e9-90babade4365 div.sk-text-repr-fallback {display: none;}</style><div id=\"sk-1689898e-1455-4751-b7e9-90babade4365\" class=\"sk-top-container\"><div class=\"sk-text-repr-fallback\"><pre>DecisionTreeClassifier(criterion=&#x27;entropy&#x27;, max_depth=7, min_samples_leaf=3,\n",
       "                       min_samples_split=7)</pre><b>Please rerun this cell to show the HTML repr or trust the notebook.</b></div><div class=\"sk-container\" hidden><div class=\"sk-item\"><div class=\"sk-estimator sk-toggleable\"><input class=\"sk-toggleable__control sk-hidden--visually\" id=\"f80b63f5-3692-4fe8-a11b-14159db145ce\" type=\"checkbox\" checked><label for=\"f80b63f5-3692-4fe8-a11b-14159db145ce\" class=\"sk-toggleable__label sk-toggleable__label-arrow\">DecisionTreeClassifier</label><div class=\"sk-toggleable__content\"><pre>DecisionTreeClassifier(criterion=&#x27;entropy&#x27;, max_depth=7, min_samples_leaf=3,\n",
       "                       min_samples_split=7)</pre></div></div></div></div></div>"
      ],
      "text/plain": [
       "DecisionTreeClassifier(criterion='entropy', max_depth=7, min_samples_leaf=3,\n",
       "                       min_samples_split=7)"
      ]
     },
     "execution_count": 218,
     "metadata": {},
     "output_type": "execute_result"
    }
   ],
   "source": [
    "tree_clf = DecisionTreeClassifier(criterion= 'entropy', max_depth=7, min_samples_leaf= 3, min_samples_split= 7)\n",
    "tree_clf.fit(X_train, y_train)"
   ]
  },
  {
   "cell_type": "code",
   "execution_count": 219,
   "id": "f78c0bff",
   "metadata": {},
   "outputs": [
    {
     "data": {
      "image/svg+xml": [
       "<?xml version=\"1.0\" encoding=\"UTF-8\" standalone=\"no\"?>\n",
       "<!DOCTYPE svg PUBLIC \"-//W3C//DTD SVG 1.1//EN\"\n",
       " \"http://www.w3.org/Graphics/SVG/1.1/DTD/svg11.dtd\">\n",
       "<!-- Generated by graphviz version 2.43.0 (0)\n",
       " -->\n",
       "<!-- Title: Tree Pages: 1 -->\n",
       "<svg width=\"2572pt\" height=\"909pt\"\n",
       " viewBox=\"0.00 0.00 2572.00 909.00\" xmlns=\"http://www.w3.org/2000/svg\" xmlns:xlink=\"http://www.w3.org/1999/xlink\">\n",
       "<g id=\"graph0\" class=\"graph\" transform=\"scale(1 1) rotate(0) translate(4 905)\">\n",
       "<title>Tree</title>\n",
       "<polygon fill=\"white\" stroke=\"transparent\" points=\"-4,4 -4,-905 2568,-905 2568,4 -4,4\"/>\n",
       "<!-- 0 -->\n",
       "<g id=\"node1\" class=\"node\">\n",
       "<title>0</title>\n",
       "<path fill=\"#fae4d5\" stroke=\"black\" d=\"M774,-901C774,-901 629,-901 629,-901 623,-901 617,-895 617,-889 617,-889 617,-830 617,-830 617,-824 623,-818 629,-818 629,-818 774,-818 774,-818 780,-818 786,-824 786,-830 786,-830 786,-889 786,-889 786,-895 780,-901 774,-901\"/>\n",
       "<text text-anchor=\"middle\" x=\"701.5\" y=\"-885.8\" font-family=\"Helvetica,sans-Serif\" font-size=\"14.00\">MMSE &lt;= &#45;0.5</text>\n",
       "<text text-anchor=\"middle\" x=\"701.5\" y=\"-870.8\" font-family=\"Helvetica,sans-Serif\" font-size=\"14.00\">entropy = 0.99</text>\n",
       "<text text-anchor=\"middle\" x=\"701.5\" y=\"-855.8\" font-family=\"Helvetica,sans-Serif\" font-size=\"14.00\">samples = 279</text>\n",
       "<text text-anchor=\"middle\" x=\"701.5\" y=\"-840.8\" font-family=\"Helvetica,sans-Serif\" font-size=\"14.00\">value = [156, 123]</text>\n",
       "<text text-anchor=\"middle\" x=\"701.5\" y=\"-825.8\" font-family=\"Helvetica,sans-Serif\" font-size=\"14.00\">class = nondemented</text>\n",
       "</g>\n",
       "<!-- 1 -->\n",
       "<g id=\"node2\" class=\"node\">\n",
       "<title>1</title>\n",
       "<path fill=\"#4da7e8\" stroke=\"black\" d=\"M547,-782C547,-782 428,-782 428,-782 422,-782 416,-776 416,-770 416,-770 416,-711 416,-711 416,-705 422,-699 428,-699 428,-699 547,-699 547,-699 553,-699 559,-705 559,-711 559,-711 559,-770 559,-770 559,-776 553,-782 547,-782\"/>\n",
       "<text text-anchor=\"middle\" x=\"487.5\" y=\"-766.8\" font-family=\"Helvetica,sans-Serif\" font-size=\"14.00\">nWBV &lt;= 0.718</text>\n",
       "<text text-anchor=\"middle\" x=\"487.5\" y=\"-751.8\" font-family=\"Helvetica,sans-Serif\" font-size=\"14.00\">entropy = 0.446</text>\n",
       "<text text-anchor=\"middle\" x=\"487.5\" y=\"-736.8\" font-family=\"Helvetica,sans-Serif\" font-size=\"14.00\">samples = 86</text>\n",
       "<text text-anchor=\"middle\" x=\"487.5\" y=\"-721.8\" font-family=\"Helvetica,sans-Serif\" font-size=\"14.00\">value = [8, 78]</text>\n",
       "<text text-anchor=\"middle\" x=\"487.5\" y=\"-706.8\" font-family=\"Helvetica,sans-Serif\" font-size=\"14.00\">class = demented</text>\n",
       "</g>\n",
       "<!-- 0&#45;&gt;1 -->\n",
       "<g id=\"edge1\" class=\"edge\">\n",
       "<title>0&#45;&gt;1</title>\n",
       "<path fill=\"none\" stroke=\"black\" d=\"M627.25,-817.91C608.1,-807.43 587.39,-796.11 567.93,-785.47\"/>\n",
       "<polygon fill=\"black\" stroke=\"black\" points=\"569.54,-782.37 559.09,-780.64 566.19,-788.51 569.54,-782.37\"/>\n",
       "<text text-anchor=\"middle\" x=\"566.12\" y=\"-800.93\" font-family=\"Helvetica,sans-Serif\" font-size=\"14.00\">True</text>\n",
       "</g>\n",
       "<!-- 12 -->\n",
       "<g id=\"node13\" class=\"node\">\n",
       "<title>12</title>\n",
       "<path fill=\"#eda775\" stroke=\"black\" d=\"M1081,-782C1081,-782 936,-782 936,-782 930,-782 924,-776 924,-770 924,-770 924,-711 924,-711 924,-705 930,-699 936,-699 936,-699 1081,-699 1081,-699 1087,-699 1093,-705 1093,-711 1093,-711 1093,-770 1093,-770 1093,-776 1087,-782 1081,-782\"/>\n",
       "<text text-anchor=\"middle\" x=\"1008.5\" y=\"-766.8\" font-family=\"Helvetica,sans-Serif\" font-size=\"14.00\">M/F &lt;= 0.5</text>\n",
       "<text text-anchor=\"middle\" x=\"1008.5\" y=\"-751.8\" font-family=\"Helvetica,sans-Serif\" font-size=\"14.00\">entropy = 0.783</text>\n",
       "<text text-anchor=\"middle\" x=\"1008.5\" y=\"-736.8\" font-family=\"Helvetica,sans-Serif\" font-size=\"14.00\">samples = 193</text>\n",
       "<text text-anchor=\"middle\" x=\"1008.5\" y=\"-721.8\" font-family=\"Helvetica,sans-Serif\" font-size=\"14.00\">value = [148, 45]</text>\n",
       "<text text-anchor=\"middle\" x=\"1008.5\" y=\"-706.8\" font-family=\"Helvetica,sans-Serif\" font-size=\"14.00\">class = nondemented</text>\n",
       "</g>\n",
       "<!-- 0&#45;&gt;12 -->\n",
       "<g id=\"edge12\" class=\"edge\">\n",
       "<title>0&#45;&gt;12</title>\n",
       "<path fill=\"none\" stroke=\"black\" d=\"M786.2,-826.22C825.97,-811.07 873.5,-792.95 914.38,-777.37\"/>\n",
       "<polygon fill=\"black\" stroke=\"black\" points=\"915.71,-780.61 923.81,-773.78 913.22,-774.07 915.71,-780.61\"/>\n",
       "<text text-anchor=\"middle\" x=\"913.59\" y=\"-792.89\" font-family=\"Helvetica,sans-Serif\" font-size=\"14.00\">False</text>\n",
       "</g>\n",
       "<!-- 2 -->\n",
       "<g id=\"node3\" class=\"node\">\n",
       "<title>2</title>\n",
       "<path fill=\"#399de5\" stroke=\"black\" d=\"M386,-655.5C386,-655.5 267,-655.5 267,-655.5 261,-655.5 255,-649.5 255,-643.5 255,-643.5 255,-599.5 255,-599.5 255,-593.5 261,-587.5 267,-587.5 267,-587.5 386,-587.5 386,-587.5 392,-587.5 398,-593.5 398,-599.5 398,-599.5 398,-643.5 398,-643.5 398,-649.5 392,-655.5 386,-655.5\"/>\n",
       "<text text-anchor=\"middle\" x=\"326.5\" y=\"-640.3\" font-family=\"Helvetica,sans-Serif\" font-size=\"14.00\">entropy = 0.0</text>\n",
       "<text text-anchor=\"middle\" x=\"326.5\" y=\"-625.3\" font-family=\"Helvetica,sans-Serif\" font-size=\"14.00\">samples = 53</text>\n",
       "<text text-anchor=\"middle\" x=\"326.5\" y=\"-610.3\" font-family=\"Helvetica,sans-Serif\" font-size=\"14.00\">value = [0, 53]</text>\n",
       "<text text-anchor=\"middle\" x=\"326.5\" y=\"-595.3\" font-family=\"Helvetica,sans-Serif\" font-size=\"14.00\">class = demented</text>\n",
       "</g>\n",
       "<!-- 1&#45;&gt;2 -->\n",
       "<g id=\"edge2\" class=\"edge\">\n",
       "<title>1&#45;&gt;2</title>\n",
       "<path fill=\"none\" stroke=\"black\" d=\"M431.64,-698.91C415.09,-686.88 397,-673.73 380.57,-661.79\"/>\n",
       "<polygon fill=\"black\" stroke=\"black\" points=\"382.29,-658.71 372.14,-655.67 378.17,-664.38 382.29,-658.71\"/>\n",
       "</g>\n",
       "<!-- 3 -->\n",
       "<g id=\"node4\" class=\"node\">\n",
       "<title>3</title>\n",
       "<path fill=\"#78bced\" stroke=\"black\" d=\"M547,-663C547,-663 428,-663 428,-663 422,-663 416,-657 416,-651 416,-651 416,-592 416,-592 416,-586 422,-580 428,-580 428,-580 547,-580 547,-580 553,-580 559,-586 559,-592 559,-592 559,-651 559,-651 559,-657 553,-663 547,-663\"/>\n",
       "<text text-anchor=\"middle\" x=\"487.5\" y=\"-647.8\" font-family=\"Helvetica,sans-Serif\" font-size=\"14.00\">ASF &lt;= 1.215</text>\n",
       "<text text-anchor=\"middle\" x=\"487.5\" y=\"-632.8\" font-family=\"Helvetica,sans-Serif\" font-size=\"14.00\">entropy = 0.799</text>\n",
       "<text text-anchor=\"middle\" x=\"487.5\" y=\"-617.8\" font-family=\"Helvetica,sans-Serif\" font-size=\"14.00\">samples = 33</text>\n",
       "<text text-anchor=\"middle\" x=\"487.5\" y=\"-602.8\" font-family=\"Helvetica,sans-Serif\" font-size=\"14.00\">value = [8, 25]</text>\n",
       "<text text-anchor=\"middle\" x=\"487.5\" y=\"-587.8\" font-family=\"Helvetica,sans-Serif\" font-size=\"14.00\">class = demented</text>\n",
       "</g>\n",
       "<!-- 1&#45;&gt;3 -->\n",
       "<g id=\"edge3\" class=\"edge\">\n",
       "<title>1&#45;&gt;3</title>\n",
       "<path fill=\"none\" stroke=\"black\" d=\"M487.5,-698.91C487.5,-690.65 487.5,-681.86 487.5,-673.3\"/>\n",
       "<polygon fill=\"black\" stroke=\"black\" points=\"491,-673.02 487.5,-663.02 484,-673.02 491,-673.02\"/>\n",
       "</g>\n",
       "<!-- 4 -->\n",
       "<g id=\"node5\" class=\"node\">\n",
       "<title>4</title>\n",
       "<path fill=\"#44a2e6\" stroke=\"black\" d=\"M292,-544C292,-544 173,-544 173,-544 167,-544 161,-538 161,-532 161,-532 161,-473 161,-473 161,-467 167,-461 173,-461 173,-461 292,-461 292,-461 298,-461 304,-467 304,-473 304,-473 304,-532 304,-532 304,-538 298,-544 292,-544\"/>\n",
       "<text text-anchor=\"middle\" x=\"232.5\" y=\"-528.8\" font-family=\"Helvetica,sans-Serif\" font-size=\"14.00\">Age &lt;= 0.326</text>\n",
       "<text text-anchor=\"middle\" x=\"232.5\" y=\"-513.8\" font-family=\"Helvetica,sans-Serif\" font-size=\"14.00\">entropy = 0.297</text>\n",
       "<text text-anchor=\"middle\" x=\"232.5\" y=\"-498.8\" font-family=\"Helvetica,sans-Serif\" font-size=\"14.00\">samples = 19</text>\n",
       "<text text-anchor=\"middle\" x=\"232.5\" y=\"-483.8\" font-family=\"Helvetica,sans-Serif\" font-size=\"14.00\">value = [1, 18]</text>\n",
       "<text text-anchor=\"middle\" x=\"232.5\" y=\"-468.8\" font-family=\"Helvetica,sans-Serif\" font-size=\"14.00\">class = demented</text>\n",
       "</g>\n",
       "<!-- 3&#45;&gt;4 -->\n",
       "<g id=\"edge4\" class=\"edge\">\n",
       "<title>3&#45;&gt;4</title>\n",
       "<path fill=\"none\" stroke=\"black\" d=\"M415.6,-584.32C412.53,-582.85 409.49,-581.4 406.5,-580 376.45,-565.89 343.14,-551.06 313.78,-538.24\"/>\n",
       "<polygon fill=\"black\" stroke=\"black\" points=\"314.96,-534.94 304.39,-534.16 312.17,-541.36 314.96,-534.94\"/>\n",
       "</g>\n",
       "<!-- 7 -->\n",
       "<g id=\"node8\" class=\"node\">\n",
       "<title>7</title>\n",
       "<path fill=\"#ffffff\" stroke=\"black\" d=\"M560,-544C560,-544 415,-544 415,-544 409,-544 403,-538 403,-532 403,-532 403,-473 403,-473 403,-467 409,-461 415,-461 415,-461 560,-461 560,-461 566,-461 572,-467 572,-473 572,-473 572,-532 572,-532 572,-538 566,-544 560,-544\"/>\n",
       "<text text-anchor=\"middle\" x=\"487.5\" y=\"-528.8\" font-family=\"Helvetica,sans-Serif\" font-size=\"14.00\">nWBV &lt;= 0.752</text>\n",
       "<text text-anchor=\"middle\" x=\"487.5\" y=\"-513.8\" font-family=\"Helvetica,sans-Serif\" font-size=\"14.00\">entropy = 1.0</text>\n",
       "<text text-anchor=\"middle\" x=\"487.5\" y=\"-498.8\" font-family=\"Helvetica,sans-Serif\" font-size=\"14.00\">samples = 14</text>\n",
       "<text text-anchor=\"middle\" x=\"487.5\" y=\"-483.8\" font-family=\"Helvetica,sans-Serif\" font-size=\"14.00\">value = [7, 7]</text>\n",
       "<text text-anchor=\"middle\" x=\"487.5\" y=\"-468.8\" font-family=\"Helvetica,sans-Serif\" font-size=\"14.00\">class = nondemented</text>\n",
       "</g>\n",
       "<!-- 3&#45;&gt;7 -->\n",
       "<g id=\"edge7\" class=\"edge\">\n",
       "<title>3&#45;&gt;7</title>\n",
       "<path fill=\"none\" stroke=\"black\" d=\"M487.5,-579.91C487.5,-571.65 487.5,-562.86 487.5,-554.3\"/>\n",
       "<polygon fill=\"black\" stroke=\"black\" points=\"491,-554.02 487.5,-544.02 484,-554.02 491,-554.02\"/>\n",
       "</g>\n",
       "<!-- 5 -->\n",
       "<g id=\"node6\" class=\"node\">\n",
       "<title>5</title>\n",
       "<path fill=\"#399de5\" stroke=\"black\" d=\"M131,-417.5C131,-417.5 12,-417.5 12,-417.5 6,-417.5 0,-411.5 0,-405.5 0,-405.5 0,-361.5 0,-361.5 0,-355.5 6,-349.5 12,-349.5 12,-349.5 131,-349.5 131,-349.5 137,-349.5 143,-355.5 143,-361.5 143,-361.5 143,-405.5 143,-405.5 143,-411.5 137,-417.5 131,-417.5\"/>\n",
       "<text text-anchor=\"middle\" x=\"71.5\" y=\"-402.3\" font-family=\"Helvetica,sans-Serif\" font-size=\"14.00\">entropy = 0.0</text>\n",
       "<text text-anchor=\"middle\" x=\"71.5\" y=\"-387.3\" font-family=\"Helvetica,sans-Serif\" font-size=\"14.00\">samples = 16</text>\n",
       "<text text-anchor=\"middle\" x=\"71.5\" y=\"-372.3\" font-family=\"Helvetica,sans-Serif\" font-size=\"14.00\">value = [0, 16]</text>\n",
       "<text text-anchor=\"middle\" x=\"71.5\" y=\"-357.3\" font-family=\"Helvetica,sans-Serif\" font-size=\"14.00\">class = demented</text>\n",
       "</g>\n",
       "<!-- 4&#45;&gt;5 -->\n",
       "<g id=\"edge5\" class=\"edge\">\n",
       "<title>4&#45;&gt;5</title>\n",
       "<path fill=\"none\" stroke=\"black\" d=\"M176.64,-460.91C160.09,-448.88 142,-435.73 125.57,-423.79\"/>\n",
       "<polygon fill=\"black\" stroke=\"black\" points=\"127.29,-420.71 117.14,-417.67 123.17,-426.38 127.29,-420.71\"/>\n",
       "</g>\n",
       "<!-- 6 -->\n",
       "<g id=\"node7\" class=\"node\">\n",
       "<title>6</title>\n",
       "<path fill=\"#9ccef2\" stroke=\"black\" d=\"M292,-417.5C292,-417.5 173,-417.5 173,-417.5 167,-417.5 161,-411.5 161,-405.5 161,-405.5 161,-361.5 161,-361.5 161,-355.5 167,-349.5 173,-349.5 173,-349.5 292,-349.5 292,-349.5 298,-349.5 304,-355.5 304,-361.5 304,-361.5 304,-405.5 304,-405.5 304,-411.5 298,-417.5 292,-417.5\"/>\n",
       "<text text-anchor=\"middle\" x=\"232.5\" y=\"-402.3\" font-family=\"Helvetica,sans-Serif\" font-size=\"14.00\">entropy = 0.918</text>\n",
       "<text text-anchor=\"middle\" x=\"232.5\" y=\"-387.3\" font-family=\"Helvetica,sans-Serif\" font-size=\"14.00\">samples = 3</text>\n",
       "<text text-anchor=\"middle\" x=\"232.5\" y=\"-372.3\" font-family=\"Helvetica,sans-Serif\" font-size=\"14.00\">value = [1, 2]</text>\n",
       "<text text-anchor=\"middle\" x=\"232.5\" y=\"-357.3\" font-family=\"Helvetica,sans-Serif\" font-size=\"14.00\">class = demented</text>\n",
       "</g>\n",
       "<!-- 4&#45;&gt;6 -->\n",
       "<g id=\"edge6\" class=\"edge\">\n",
       "<title>4&#45;&gt;6</title>\n",
       "<path fill=\"none\" stroke=\"black\" d=\"M232.5,-460.91C232.5,-450.2 232.5,-438.62 232.5,-427.78\"/>\n",
       "<polygon fill=\"black\" stroke=\"black\" points=\"236,-427.67 232.5,-417.67 229,-427.67 236,-427.67\"/>\n",
       "</g>\n",
       "<!-- 8 -->\n",
       "<g id=\"node9\" class=\"node\">\n",
       "<title>8</title>\n",
       "<path fill=\"#8ec7f0\" stroke=\"black\" d=\"M453,-425C453,-425 334,-425 334,-425 328,-425 322,-419 322,-413 322,-413 322,-354 322,-354 322,-348 328,-342 334,-342 334,-342 453,-342 453,-342 459,-342 465,-348 465,-354 465,-354 465,-413 465,-413 465,-419 459,-425 453,-425\"/>\n",
       "<text text-anchor=\"middle\" x=\"393.5\" y=\"-409.8\" font-family=\"Helvetica,sans-Serif\" font-size=\"14.00\">Age &lt;= &#45;0.067</text>\n",
       "<text text-anchor=\"middle\" x=\"393.5\" y=\"-394.8\" font-family=\"Helvetica,sans-Serif\" font-size=\"14.00\">entropy = 0.881</text>\n",
       "<text text-anchor=\"middle\" x=\"393.5\" y=\"-379.8\" font-family=\"Helvetica,sans-Serif\" font-size=\"14.00\">samples = 10</text>\n",
       "<text text-anchor=\"middle\" x=\"393.5\" y=\"-364.8\" font-family=\"Helvetica,sans-Serif\" font-size=\"14.00\">value = [3, 7]</text>\n",
       "<text text-anchor=\"middle\" x=\"393.5\" y=\"-349.8\" font-family=\"Helvetica,sans-Serif\" font-size=\"14.00\">class = demented</text>\n",
       "</g>\n",
       "<!-- 7&#45;&gt;8 -->\n",
       "<g id=\"edge8\" class=\"edge\">\n",
       "<title>7&#45;&gt;8</title>\n",
       "<path fill=\"none\" stroke=\"black\" d=\"M454.89,-460.91C447.67,-451.92 439.95,-442.32 432.51,-433.05\"/>\n",
       "<polygon fill=\"black\" stroke=\"black\" points=\"435.05,-430.62 426.06,-425.02 429.59,-435.01 435.05,-430.62\"/>\n",
       "</g>\n",
       "<!-- 11 -->\n",
       "<g id=\"node12\" class=\"node\">\n",
       "<title>11</title>\n",
       "<path fill=\"#e58139\" stroke=\"black\" d=\"M640,-417.5C640,-417.5 495,-417.5 495,-417.5 489,-417.5 483,-411.5 483,-405.5 483,-405.5 483,-361.5 483,-361.5 483,-355.5 489,-349.5 495,-349.5 495,-349.5 640,-349.5 640,-349.5 646,-349.5 652,-355.5 652,-361.5 652,-361.5 652,-405.5 652,-405.5 652,-411.5 646,-417.5 640,-417.5\"/>\n",
       "<text text-anchor=\"middle\" x=\"567.5\" y=\"-402.3\" font-family=\"Helvetica,sans-Serif\" font-size=\"14.00\">entropy = 0.0</text>\n",
       "<text text-anchor=\"middle\" x=\"567.5\" y=\"-387.3\" font-family=\"Helvetica,sans-Serif\" font-size=\"14.00\">samples = 4</text>\n",
       "<text text-anchor=\"middle\" x=\"567.5\" y=\"-372.3\" font-family=\"Helvetica,sans-Serif\" font-size=\"14.00\">value = [4, 0]</text>\n",
       "<text text-anchor=\"middle\" x=\"567.5\" y=\"-357.3\" font-family=\"Helvetica,sans-Serif\" font-size=\"14.00\">class = nondemented</text>\n",
       "</g>\n",
       "<!-- 7&#45;&gt;11 -->\n",
       "<g id=\"edge11\" class=\"edge\">\n",
       "<title>7&#45;&gt;11</title>\n",
       "<path fill=\"none\" stroke=\"black\" d=\"M515.26,-460.91C522.95,-449.65 531.32,-437.42 539.05,-426.11\"/>\n",
       "<polygon fill=\"black\" stroke=\"black\" points=\"542.07,-427.9 544.82,-417.67 536.29,-423.95 542.07,-427.9\"/>\n",
       "</g>\n",
       "<!-- 9 -->\n",
       "<g id=\"node10\" class=\"node\">\n",
       "<title>9</title>\n",
       "<path fill=\"#399de5\" stroke=\"black\" d=\"M366,-298.5C366,-298.5 247,-298.5 247,-298.5 241,-298.5 235,-292.5 235,-286.5 235,-286.5 235,-242.5 235,-242.5 235,-236.5 241,-230.5 247,-230.5 247,-230.5 366,-230.5 366,-230.5 372,-230.5 378,-236.5 378,-242.5 378,-242.5 378,-286.5 378,-286.5 378,-292.5 372,-298.5 366,-298.5\"/>\n",
       "<text text-anchor=\"middle\" x=\"306.5\" y=\"-283.3\" font-family=\"Helvetica,sans-Serif\" font-size=\"14.00\">entropy = 0.0</text>\n",
       "<text text-anchor=\"middle\" x=\"306.5\" y=\"-268.3\" font-family=\"Helvetica,sans-Serif\" font-size=\"14.00\">samples = 6</text>\n",
       "<text text-anchor=\"middle\" x=\"306.5\" y=\"-253.3\" font-family=\"Helvetica,sans-Serif\" font-size=\"14.00\">value = [0, 6]</text>\n",
       "<text text-anchor=\"middle\" x=\"306.5\" y=\"-238.3\" font-family=\"Helvetica,sans-Serif\" font-size=\"14.00\">class = demented</text>\n",
       "</g>\n",
       "<!-- 8&#45;&gt;9 -->\n",
       "<g id=\"edge9\" class=\"edge\">\n",
       "<title>8&#45;&gt;9</title>\n",
       "<path fill=\"none\" stroke=\"black\" d=\"M363.32,-341.91C354.86,-330.54 345.67,-318.18 337.19,-306.77\"/>\n",
       "<polygon fill=\"black\" stroke=\"black\" points=\"339.94,-304.6 331.16,-298.67 334.32,-308.78 339.94,-304.6\"/>\n",
       "</g>\n",
       "<!-- 10 -->\n",
       "<g id=\"node11\" class=\"node\">\n",
       "<title>10</title>\n",
       "<path fill=\"#eeab7b\" stroke=\"black\" d=\"M553,-298.5C553,-298.5 408,-298.5 408,-298.5 402,-298.5 396,-292.5 396,-286.5 396,-286.5 396,-242.5 396,-242.5 396,-236.5 402,-230.5 408,-230.5 408,-230.5 553,-230.5 553,-230.5 559,-230.5 565,-236.5 565,-242.5 565,-242.5 565,-286.5 565,-286.5 565,-292.5 559,-298.5 553,-298.5\"/>\n",
       "<text text-anchor=\"middle\" x=\"480.5\" y=\"-283.3\" font-family=\"Helvetica,sans-Serif\" font-size=\"14.00\">entropy = 0.811</text>\n",
       "<text text-anchor=\"middle\" x=\"480.5\" y=\"-268.3\" font-family=\"Helvetica,sans-Serif\" font-size=\"14.00\">samples = 4</text>\n",
       "<text text-anchor=\"middle\" x=\"480.5\" y=\"-253.3\" font-family=\"Helvetica,sans-Serif\" font-size=\"14.00\">value = [3, 1]</text>\n",
       "<text text-anchor=\"middle\" x=\"480.5\" y=\"-238.3\" font-family=\"Helvetica,sans-Serif\" font-size=\"14.00\">class = nondemented</text>\n",
       "</g>\n",
       "<!-- 8&#45;&gt;10 -->\n",
       "<g id=\"edge10\" class=\"edge\">\n",
       "<title>8&#45;&gt;10</title>\n",
       "<path fill=\"none\" stroke=\"black\" d=\"M423.68,-341.91C432.14,-330.54 441.33,-318.18 449.81,-306.77\"/>\n",
       "<polygon fill=\"black\" stroke=\"black\" points=\"452.68,-308.78 455.84,-298.67 447.06,-304.6 452.68,-308.78\"/>\n",
       "</g>\n",
       "<!-- 13 -->\n",
       "<g id=\"node14\" class=\"node\">\n",
       "<title>13</title>\n",
       "<path fill=\"#e99558\" stroke=\"black\" d=\"M1081,-663C1081,-663 936,-663 936,-663 930,-663 924,-657 924,-651 924,-651 924,-592 924,-592 924,-586 930,-580 936,-580 936,-580 1081,-580 1081,-580 1087,-580 1093,-586 1093,-592 1093,-592 1093,-651 1093,-651 1093,-657 1087,-663 1081,-663\"/>\n",
       "<text text-anchor=\"middle\" x=\"1008.5\" y=\"-647.8\" font-family=\"Helvetica,sans-Serif\" font-size=\"14.00\">Educ &lt;= 0.382</text>\n",
       "<text text-anchor=\"middle\" x=\"1008.5\" y=\"-632.8\" font-family=\"Helvetica,sans-Serif\" font-size=\"14.00\">entropy = 0.573</text>\n",
       "<text text-anchor=\"middle\" x=\"1008.5\" y=\"-617.8\" font-family=\"Helvetica,sans-Serif\" font-size=\"14.00\">samples = 118</text>\n",
       "<text text-anchor=\"middle\" x=\"1008.5\" y=\"-602.8\" font-family=\"Helvetica,sans-Serif\" font-size=\"14.00\">value = [102, 16]</text>\n",
       "<text text-anchor=\"middle\" x=\"1008.5\" y=\"-587.8\" font-family=\"Helvetica,sans-Serif\" font-size=\"14.00\">class = nondemented</text>\n",
       "</g>\n",
       "<!-- 12&#45;&gt;13 -->\n",
       "<g id=\"edge13\" class=\"edge\">\n",
       "<title>12&#45;&gt;13</title>\n",
       "<path fill=\"none\" stroke=\"black\" d=\"M1008.5,-698.91C1008.5,-690.65 1008.5,-681.86 1008.5,-673.3\"/>\n",
       "<polygon fill=\"black\" stroke=\"black\" points=\"1012,-673.02 1008.5,-663.02 1005,-673.02 1012,-673.02\"/>\n",
       "</g>\n",
       "<!-- 34 -->\n",
       "<g id=\"node35\" class=\"node\">\n",
       "<title>34</title>\n",
       "<path fill=\"#f5d0b6\" stroke=\"black\" d=\"M1790,-663C1790,-663 1645,-663 1645,-663 1639,-663 1633,-657 1633,-651 1633,-651 1633,-592 1633,-592 1633,-586 1639,-580 1645,-580 1645,-580 1790,-580 1790,-580 1796,-580 1802,-586 1802,-592 1802,-592 1802,-651 1802,-651 1802,-657 1796,-663 1790,-663\"/>\n",
       "<text text-anchor=\"middle\" x=\"1717.5\" y=\"-647.8\" font-family=\"Helvetica,sans-Serif\" font-size=\"14.00\">ASF &lt;= 1.287</text>\n",
       "<text text-anchor=\"middle\" x=\"1717.5\" y=\"-632.8\" font-family=\"Helvetica,sans-Serif\" font-size=\"14.00\">entropy = 0.963</text>\n",
       "<text text-anchor=\"middle\" x=\"1717.5\" y=\"-617.8\" font-family=\"Helvetica,sans-Serif\" font-size=\"14.00\">samples = 75</text>\n",
       "<text text-anchor=\"middle\" x=\"1717.5\" y=\"-602.8\" font-family=\"Helvetica,sans-Serif\" font-size=\"14.00\">value = [46, 29]</text>\n",
       "<text text-anchor=\"middle\" x=\"1717.5\" y=\"-587.8\" font-family=\"Helvetica,sans-Serif\" font-size=\"14.00\">class = nondemented</text>\n",
       "</g>\n",
       "<!-- 12&#45;&gt;34 -->\n",
       "<g id=\"edge34\" class=\"edge\">\n",
       "<title>12&#45;&gt;34</title>\n",
       "<path fill=\"none\" stroke=\"black\" d=\"M1093.32,-725.5C1226.44,-703.53 1483.57,-661.1 1622.64,-638.15\"/>\n",
       "<polygon fill=\"black\" stroke=\"black\" points=\"1623.56,-641.55 1632.86,-636.47 1622.42,-634.64 1623.56,-641.55\"/>\n",
       "</g>\n",
       "<!-- 14 -->\n",
       "<g id=\"node15\" class=\"node\">\n",
       "<title>14</title>\n",
       "<path fill=\"#f1bd98\" stroke=\"black\" d=\"M988,-544C988,-544 843,-544 843,-544 837,-544 831,-538 831,-532 831,-532 831,-473 831,-473 831,-467 837,-461 843,-461 843,-461 988,-461 988,-461 994,-461 1000,-467 1000,-473 1000,-473 1000,-532 1000,-532 1000,-538 994,-544 988,-544\"/>\n",
       "<text text-anchor=\"middle\" x=\"915.5\" y=\"-528.8\" font-family=\"Helvetica,sans-Serif\" font-size=\"14.00\">Age &lt;= &#45;1.116</text>\n",
       "<text text-anchor=\"middle\" x=\"915.5\" y=\"-513.8\" font-family=\"Helvetica,sans-Serif\" font-size=\"14.00\">entropy = 0.908</text>\n",
       "<text text-anchor=\"middle\" x=\"915.5\" y=\"-498.8\" font-family=\"Helvetica,sans-Serif\" font-size=\"14.00\">samples = 34</text>\n",
       "<text text-anchor=\"middle\" x=\"915.5\" y=\"-483.8\" font-family=\"Helvetica,sans-Serif\" font-size=\"14.00\">value = [23, 11]</text>\n",
       "<text text-anchor=\"middle\" x=\"915.5\" y=\"-468.8\" font-family=\"Helvetica,sans-Serif\" font-size=\"14.00\">class = nondemented</text>\n",
       "</g>\n",
       "<!-- 13&#45;&gt;14 -->\n",
       "<g id=\"edge14\" class=\"edge\">\n",
       "<title>13&#45;&gt;14</title>\n",
       "<path fill=\"none\" stroke=\"black\" d=\"M976.23,-579.91C969.09,-570.92 961.46,-561.32 954.09,-552.05\"/>\n",
       "<polygon fill=\"black\" stroke=\"black\" points=\"956.67,-549.67 947.71,-544.02 951.19,-554.03 956.67,-549.67\"/>\n",
       "</g>\n",
       "<!-- 25 -->\n",
       "<g id=\"node26\" class=\"node\">\n",
       "<title>25</title>\n",
       "<path fill=\"#e78946\" stroke=\"black\" d=\"M1175,-544C1175,-544 1030,-544 1030,-544 1024,-544 1018,-538 1018,-532 1018,-532 1018,-473 1018,-473 1018,-467 1024,-461 1030,-461 1030,-461 1175,-461 1175,-461 1181,-461 1187,-467 1187,-473 1187,-473 1187,-532 1187,-532 1187,-538 1181,-544 1175,-544\"/>\n",
       "<text text-anchor=\"middle\" x=\"1102.5\" y=\"-528.8\" font-family=\"Helvetica,sans-Serif\" font-size=\"14.00\">Age &lt;= &#45;0.198</text>\n",
       "<text text-anchor=\"middle\" x=\"1102.5\" y=\"-513.8\" font-family=\"Helvetica,sans-Serif\" font-size=\"14.00\">entropy = 0.326</text>\n",
       "<text text-anchor=\"middle\" x=\"1102.5\" y=\"-498.8\" font-family=\"Helvetica,sans-Serif\" font-size=\"14.00\">samples = 84</text>\n",
       "<text text-anchor=\"middle\" x=\"1102.5\" y=\"-483.8\" font-family=\"Helvetica,sans-Serif\" font-size=\"14.00\">value = [79, 5]</text>\n",
       "<text text-anchor=\"middle\" x=\"1102.5\" y=\"-468.8\" font-family=\"Helvetica,sans-Serif\" font-size=\"14.00\">class = nondemented</text>\n",
       "</g>\n",
       "<!-- 13&#45;&gt;25 -->\n",
       "<g id=\"edge25\" class=\"edge\">\n",
       "<title>13&#45;&gt;25</title>\n",
       "<path fill=\"none\" stroke=\"black\" d=\"M1041.11,-579.91C1048.33,-570.92 1056.05,-561.32 1063.49,-552.05\"/>\n",
       "<polygon fill=\"black\" stroke=\"black\" points=\"1066.41,-554.01 1069.94,-544.02 1060.95,-549.62 1066.41,-554.01\"/>\n",
       "</g>\n",
       "<!-- 15 -->\n",
       "<g id=\"node16\" class=\"node\">\n",
       "<title>15</title>\n",
       "<path fill=\"#399de5\" stroke=\"black\" d=\"M801,-417.5C801,-417.5 682,-417.5 682,-417.5 676,-417.5 670,-411.5 670,-405.5 670,-405.5 670,-361.5 670,-361.5 670,-355.5 676,-349.5 682,-349.5 682,-349.5 801,-349.5 801,-349.5 807,-349.5 813,-355.5 813,-361.5 813,-361.5 813,-405.5 813,-405.5 813,-411.5 807,-417.5 801,-417.5\"/>\n",
       "<text text-anchor=\"middle\" x=\"741.5\" y=\"-402.3\" font-family=\"Helvetica,sans-Serif\" font-size=\"14.00\">entropy = 0.0</text>\n",
       "<text text-anchor=\"middle\" x=\"741.5\" y=\"-387.3\" font-family=\"Helvetica,sans-Serif\" font-size=\"14.00\">samples = 3</text>\n",
       "<text text-anchor=\"middle\" x=\"741.5\" y=\"-372.3\" font-family=\"Helvetica,sans-Serif\" font-size=\"14.00\">value = [0, 3]</text>\n",
       "<text text-anchor=\"middle\" x=\"741.5\" y=\"-357.3\" font-family=\"Helvetica,sans-Serif\" font-size=\"14.00\">class = demented</text>\n",
       "</g>\n",
       "<!-- 14&#45;&gt;15 -->\n",
       "<g id=\"edge15\" class=\"edge\">\n",
       "<title>14&#45;&gt;15</title>\n",
       "<path fill=\"none\" stroke=\"black\" d=\"M855.13,-460.91C837.08,-448.77 817.34,-435.49 799.44,-423.46\"/>\n",
       "<polygon fill=\"black\" stroke=\"black\" points=\"801.08,-420.34 790.83,-417.67 797.17,-426.15 801.08,-420.34\"/>\n",
       "</g>\n",
       "<!-- 16 -->\n",
       "<g id=\"node17\" class=\"node\">\n",
       "<title>16</title>\n",
       "<path fill=\"#eead7e\" stroke=\"black\" d=\"M988,-425C988,-425 843,-425 843,-425 837,-425 831,-419 831,-413 831,-413 831,-354 831,-354 831,-348 837,-342 843,-342 843,-342 988,-342 988,-342 994,-342 1000,-348 1000,-354 1000,-354 1000,-413 1000,-413 1000,-419 994,-425 988,-425\"/>\n",
       "<text text-anchor=\"middle\" x=\"915.5\" y=\"-409.8\" font-family=\"Helvetica,sans-Serif\" font-size=\"14.00\">MMSE &lt;= &#45;0.167</text>\n",
       "<text text-anchor=\"middle\" x=\"915.5\" y=\"-394.8\" font-family=\"Helvetica,sans-Serif\" font-size=\"14.00\">entropy = 0.824</text>\n",
       "<text text-anchor=\"middle\" x=\"915.5\" y=\"-379.8\" font-family=\"Helvetica,sans-Serif\" font-size=\"14.00\">samples = 31</text>\n",
       "<text text-anchor=\"middle\" x=\"915.5\" y=\"-364.8\" font-family=\"Helvetica,sans-Serif\" font-size=\"14.00\">value = [23, 8]</text>\n",
       "<text text-anchor=\"middle\" x=\"915.5\" y=\"-349.8\" font-family=\"Helvetica,sans-Serif\" font-size=\"14.00\">class = nondemented</text>\n",
       "</g>\n",
       "<!-- 14&#45;&gt;16 -->\n",
       "<g id=\"edge16\" class=\"edge\">\n",
       "<title>14&#45;&gt;16</title>\n",
       "<path fill=\"none\" stroke=\"black\" d=\"M915.5,-460.91C915.5,-452.65 915.5,-443.86 915.5,-435.3\"/>\n",
       "<polygon fill=\"black\" stroke=\"black\" points=\"919,-435.02 915.5,-425.02 912,-435.02 919,-435.02\"/>\n",
       "</g>\n",
       "<!-- 17 -->\n",
       "<g id=\"node18\" class=\"node\">\n",
       "<title>17</title>\n",
       "<path fill=\"#399de5\" stroke=\"black\" d=\"M801,-298.5C801,-298.5 682,-298.5 682,-298.5 676,-298.5 670,-292.5 670,-286.5 670,-286.5 670,-242.5 670,-242.5 670,-236.5 676,-230.5 682,-230.5 682,-230.5 801,-230.5 801,-230.5 807,-230.5 813,-236.5 813,-242.5 813,-242.5 813,-286.5 813,-286.5 813,-292.5 807,-298.5 801,-298.5\"/>\n",
       "<text text-anchor=\"middle\" x=\"741.5\" y=\"-283.3\" font-family=\"Helvetica,sans-Serif\" font-size=\"14.00\">entropy = 0.0</text>\n",
       "<text text-anchor=\"middle\" x=\"741.5\" y=\"-268.3\" font-family=\"Helvetica,sans-Serif\" font-size=\"14.00\">samples = 3</text>\n",
       "<text text-anchor=\"middle\" x=\"741.5\" y=\"-253.3\" font-family=\"Helvetica,sans-Serif\" font-size=\"14.00\">value = [0, 3]</text>\n",
       "<text text-anchor=\"middle\" x=\"741.5\" y=\"-238.3\" font-family=\"Helvetica,sans-Serif\" font-size=\"14.00\">class = demented</text>\n",
       "</g>\n",
       "<!-- 16&#45;&gt;17 -->\n",
       "<g id=\"edge17\" class=\"edge\">\n",
       "<title>16&#45;&gt;17</title>\n",
       "<path fill=\"none\" stroke=\"black\" d=\"M855.13,-341.91C837.08,-329.77 817.34,-316.49 799.44,-304.46\"/>\n",
       "<polygon fill=\"black\" stroke=\"black\" points=\"801.08,-301.34 790.83,-298.67 797.17,-307.15 801.08,-301.34\"/>\n",
       "</g>\n",
       "<!-- 18 -->\n",
       "<g id=\"node19\" class=\"node\">\n",
       "<title>18</title>\n",
       "<path fill=\"#eb9c64\" stroke=\"black\" d=\"M988,-306C988,-306 843,-306 843,-306 837,-306 831,-300 831,-294 831,-294 831,-235 831,-235 831,-229 837,-223 843,-223 843,-223 988,-223 988,-223 994,-223 1000,-229 1000,-235 1000,-235 1000,-294 1000,-294 1000,-300 994,-306 988,-306\"/>\n",
       "<text text-anchor=\"middle\" x=\"915.5\" y=\"-290.8\" font-family=\"Helvetica,sans-Serif\" font-size=\"14.00\">eTIV &lt;= &#45;0.527</text>\n",
       "<text text-anchor=\"middle\" x=\"915.5\" y=\"-275.8\" font-family=\"Helvetica,sans-Serif\" font-size=\"14.00\">entropy = 0.677</text>\n",
       "<text text-anchor=\"middle\" x=\"915.5\" y=\"-260.8\" font-family=\"Helvetica,sans-Serif\" font-size=\"14.00\">samples = 28</text>\n",
       "<text text-anchor=\"middle\" x=\"915.5\" y=\"-245.8\" font-family=\"Helvetica,sans-Serif\" font-size=\"14.00\">value = [23, 5]</text>\n",
       "<text text-anchor=\"middle\" x=\"915.5\" y=\"-230.8\" font-family=\"Helvetica,sans-Serif\" font-size=\"14.00\">class = nondemented</text>\n",
       "</g>\n",
       "<!-- 16&#45;&gt;18 -->\n",
       "<g id=\"edge18\" class=\"edge\">\n",
       "<title>16&#45;&gt;18</title>\n",
       "<path fill=\"none\" stroke=\"black\" d=\"M915.5,-341.91C915.5,-333.65 915.5,-324.86 915.5,-316.3\"/>\n",
       "<polygon fill=\"black\" stroke=\"black\" points=\"919,-316.02 915.5,-306.02 912,-316.02 919,-316.02\"/>\n",
       "</g>\n",
       "<!-- 19 -->\n",
       "<g id=\"node20\" class=\"node\">\n",
       "<title>19</title>\n",
       "<path fill=\"#cee6f8\" stroke=\"black\" d=\"M614,-187C614,-187 495,-187 495,-187 489,-187 483,-181 483,-175 483,-175 483,-116 483,-116 483,-110 489,-104 495,-104 495,-104 614,-104 614,-104 620,-104 626,-110 626,-116 626,-116 626,-175 626,-175 626,-181 620,-187 614,-187\"/>\n",
       "<text text-anchor=\"middle\" x=\"554.5\" y=\"-171.8\" font-family=\"Helvetica,sans-Serif\" font-size=\"14.00\">Age &lt;= &#45;0.133</text>\n",
       "<text text-anchor=\"middle\" x=\"554.5\" y=\"-156.8\" font-family=\"Helvetica,sans-Serif\" font-size=\"14.00\">entropy = 0.985</text>\n",
       "<text text-anchor=\"middle\" x=\"554.5\" y=\"-141.8\" font-family=\"Helvetica,sans-Serif\" font-size=\"14.00\">samples = 7</text>\n",
       "<text text-anchor=\"middle\" x=\"554.5\" y=\"-126.8\" font-family=\"Helvetica,sans-Serif\" font-size=\"14.00\">value = [3, 4]</text>\n",
       "<text text-anchor=\"middle\" x=\"554.5\" y=\"-111.8\" font-family=\"Helvetica,sans-Serif\" font-size=\"14.00\">class = demented</text>\n",
       "</g>\n",
       "<!-- 18&#45;&gt;19 -->\n",
       "<g id=\"edge19\" class=\"edge\">\n",
       "<title>18&#45;&gt;19</title>\n",
       "<path fill=\"none\" stroke=\"black\" d=\"M830.79,-226.06C828,-225 825.24,-223.98 822.5,-223 760.87,-200.89 689.5,-180.78 635.92,-166.73\"/>\n",
       "<polygon fill=\"black\" stroke=\"black\" points=\"636.69,-163.32 626.13,-164.18 634.92,-170.09 636.69,-163.32\"/>\n",
       "</g>\n",
       "<!-- 22 -->\n",
       "<g id=\"node23\" class=\"node\">\n",
       "<title>22</title>\n",
       "<path fill=\"#e68743\" stroke=\"black\" d=\"M988,-187C988,-187 843,-187 843,-187 837,-187 831,-181 831,-175 831,-175 831,-116 831,-116 831,-110 837,-104 843,-104 843,-104 988,-104 988,-104 994,-104 1000,-110 1000,-116 1000,-116 1000,-175 1000,-175 1000,-181 994,-187 988,-187\"/>\n",
       "<text text-anchor=\"middle\" x=\"915.5\" y=\"-171.8\" font-family=\"Helvetica,sans-Serif\" font-size=\"14.00\">SES &lt;= 2.5</text>\n",
       "<text text-anchor=\"middle\" x=\"915.5\" y=\"-156.8\" font-family=\"Helvetica,sans-Serif\" font-size=\"14.00\">entropy = 0.276</text>\n",
       "<text text-anchor=\"middle\" x=\"915.5\" y=\"-141.8\" font-family=\"Helvetica,sans-Serif\" font-size=\"14.00\">samples = 21</text>\n",
       "<text text-anchor=\"middle\" x=\"915.5\" y=\"-126.8\" font-family=\"Helvetica,sans-Serif\" font-size=\"14.00\">value = [20, 1]</text>\n",
       "<text text-anchor=\"middle\" x=\"915.5\" y=\"-111.8\" font-family=\"Helvetica,sans-Serif\" font-size=\"14.00\">class = nondemented</text>\n",
       "</g>\n",
       "<!-- 18&#45;&gt;22 -->\n",
       "<g id=\"edge22\" class=\"edge\">\n",
       "<title>18&#45;&gt;22</title>\n",
       "<path fill=\"none\" stroke=\"black\" d=\"M915.5,-222.91C915.5,-214.65 915.5,-205.86 915.5,-197.3\"/>\n",
       "<polygon fill=\"black\" stroke=\"black\" points=\"919,-197.02 915.5,-187.02 912,-197.02 919,-197.02\"/>\n",
       "</g>\n",
       "<!-- 20 -->\n",
       "<g id=\"node21\" class=\"node\">\n",
       "<title>20</title>\n",
       "<path fill=\"#7bbeee\" stroke=\"black\" d=\"M440,-68C440,-68 321,-68 321,-68 315,-68 309,-62 309,-56 309,-56 309,-12 309,-12 309,-6 315,0 321,0 321,0 440,0 440,0 446,0 452,-6 452,-12 452,-12 452,-56 452,-56 452,-62 446,-68 440,-68\"/>\n",
       "<text text-anchor=\"middle\" x=\"380.5\" y=\"-52.8\" font-family=\"Helvetica,sans-Serif\" font-size=\"14.00\">entropy = 0.811</text>\n",
       "<text text-anchor=\"middle\" x=\"380.5\" y=\"-37.8\" font-family=\"Helvetica,sans-Serif\" font-size=\"14.00\">samples = 4</text>\n",
       "<text text-anchor=\"middle\" x=\"380.5\" y=\"-22.8\" font-family=\"Helvetica,sans-Serif\" font-size=\"14.00\">value = [1, 3]</text>\n",
       "<text text-anchor=\"middle\" x=\"380.5\" y=\"-7.8\" font-family=\"Helvetica,sans-Serif\" font-size=\"14.00\">class = demented</text>\n",
       "</g>\n",
       "<!-- 19&#45;&gt;20 -->\n",
       "<g id=\"edge20\" class=\"edge\">\n",
       "<title>19&#45;&gt;20</title>\n",
       "<path fill=\"none\" stroke=\"black\" d=\"M489.71,-103.73C473.97,-93.82 457.2,-83.27 441.64,-73.48\"/>\n",
       "<polygon fill=\"black\" stroke=\"black\" points=\"443.47,-70.49 433.14,-68.13 439.74,-76.41 443.47,-70.49\"/>\n",
       "</g>\n",
       "<!-- 21 -->\n",
       "<g id=\"node22\" class=\"node\">\n",
       "<title>21</title>\n",
       "<path fill=\"#f2c09c\" stroke=\"black\" d=\"M627,-68C627,-68 482,-68 482,-68 476,-68 470,-62 470,-56 470,-56 470,-12 470,-12 470,-6 476,0 482,0 482,0 627,0 627,0 633,0 639,-6 639,-12 639,-12 639,-56 639,-56 639,-62 633,-68 627,-68\"/>\n",
       "<text text-anchor=\"middle\" x=\"554.5\" y=\"-52.8\" font-family=\"Helvetica,sans-Serif\" font-size=\"14.00\">entropy = 0.918</text>\n",
       "<text text-anchor=\"middle\" x=\"554.5\" y=\"-37.8\" font-family=\"Helvetica,sans-Serif\" font-size=\"14.00\">samples = 3</text>\n",
       "<text text-anchor=\"middle\" x=\"554.5\" y=\"-22.8\" font-family=\"Helvetica,sans-Serif\" font-size=\"14.00\">value = [2, 1]</text>\n",
       "<text text-anchor=\"middle\" x=\"554.5\" y=\"-7.8\" font-family=\"Helvetica,sans-Serif\" font-size=\"14.00\">class = nondemented</text>\n",
       "</g>\n",
       "<!-- 19&#45;&gt;21 -->\n",
       "<g id=\"edge21\" class=\"edge\">\n",
       "<title>19&#45;&gt;21</title>\n",
       "<path fill=\"none\" stroke=\"black\" d=\"M554.5,-103.73C554.5,-95.52 554.5,-86.86 554.5,-78.56\"/>\n",
       "<polygon fill=\"black\" stroke=\"black\" points=\"558,-78.3 554.5,-68.3 551,-78.3 558,-78.3\"/>\n",
       "</g>\n",
       "<!-- 23 -->\n",
       "<g id=\"node24\" class=\"node\">\n",
       "<title>23</title>\n",
       "<path fill=\"#eeab7b\" stroke=\"black\" d=\"M814,-68C814,-68 669,-68 669,-68 663,-68 657,-62 657,-56 657,-56 657,-12 657,-12 657,-6 663,0 669,0 669,0 814,0 814,0 820,0 826,-6 826,-12 826,-12 826,-56 826,-56 826,-62 820,-68 814,-68\"/>\n",
       "<text text-anchor=\"middle\" x=\"741.5\" y=\"-52.8\" font-family=\"Helvetica,sans-Serif\" font-size=\"14.00\">entropy = 0.811</text>\n",
       "<text text-anchor=\"middle\" x=\"741.5\" y=\"-37.8\" font-family=\"Helvetica,sans-Serif\" font-size=\"14.00\">samples = 4</text>\n",
       "<text text-anchor=\"middle\" x=\"741.5\" y=\"-22.8\" font-family=\"Helvetica,sans-Serif\" font-size=\"14.00\">value = [3, 1]</text>\n",
       "<text text-anchor=\"middle\" x=\"741.5\" y=\"-7.8\" font-family=\"Helvetica,sans-Serif\" font-size=\"14.00\">class = nondemented</text>\n",
       "</g>\n",
       "<!-- 22&#45;&gt;23 -->\n",
       "<g id=\"edge23\" class=\"edge\">\n",
       "<title>22&#45;&gt;23</title>\n",
       "<path fill=\"none\" stroke=\"black\" d=\"M850.71,-103.73C834.97,-93.82 818.2,-83.27 802.64,-73.48\"/>\n",
       "<polygon fill=\"black\" stroke=\"black\" points=\"804.47,-70.49 794.14,-68.13 800.74,-76.41 804.47,-70.49\"/>\n",
       "</g>\n",
       "<!-- 24 -->\n",
       "<g id=\"node25\" class=\"node\">\n",
       "<title>24</title>\n",
       "<path fill=\"#e58139\" stroke=\"black\" d=\"M1001,-68C1001,-68 856,-68 856,-68 850,-68 844,-62 844,-56 844,-56 844,-12 844,-12 844,-6 850,0 856,0 856,0 1001,0 1001,0 1007,0 1013,-6 1013,-12 1013,-12 1013,-56 1013,-56 1013,-62 1007,-68 1001,-68\"/>\n",
       "<text text-anchor=\"middle\" x=\"928.5\" y=\"-52.8\" font-family=\"Helvetica,sans-Serif\" font-size=\"14.00\">entropy = 0.0</text>\n",
       "<text text-anchor=\"middle\" x=\"928.5\" y=\"-37.8\" font-family=\"Helvetica,sans-Serif\" font-size=\"14.00\">samples = 17</text>\n",
       "<text text-anchor=\"middle\" x=\"928.5\" y=\"-22.8\" font-family=\"Helvetica,sans-Serif\" font-size=\"14.00\">value = [17, 0]</text>\n",
       "<text text-anchor=\"middle\" x=\"928.5\" y=\"-7.8\" font-family=\"Helvetica,sans-Serif\" font-size=\"14.00\">class = nondemented</text>\n",
       "</g>\n",
       "<!-- 22&#45;&gt;24 -->\n",
       "<g id=\"edge24\" class=\"edge\">\n",
       "<title>22&#45;&gt;24</title>\n",
       "<path fill=\"none\" stroke=\"black\" d=\"M920.34,-103.73C921.33,-95.43 922.37,-86.67 923.36,-78.28\"/>\n",
       "<polygon fill=\"black\" stroke=\"black\" points=\"926.84,-78.64 924.55,-68.3 919.89,-77.82 926.84,-78.64\"/>\n",
       "</g>\n",
       "<!-- 26 -->\n",
       "<g id=\"node27\" class=\"node\">\n",
       "<title>26</title>\n",
       "<path fill=\"#e89253\" stroke=\"black\" d=\"M1175,-425C1175,-425 1030,-425 1030,-425 1024,-425 1018,-419 1018,-413 1018,-413 1018,-354 1018,-354 1018,-348 1024,-342 1030,-342 1030,-342 1175,-342 1175,-342 1181,-342 1187,-348 1187,-354 1187,-354 1187,-413 1187,-413 1187,-419 1181,-425 1175,-425\"/>\n",
       "<text text-anchor=\"middle\" x=\"1102.5\" y=\"-409.8\" font-family=\"Helvetica,sans-Serif\" font-size=\"14.00\">nWBV &lt;= 0.772</text>\n",
       "<text text-anchor=\"middle\" x=\"1102.5\" y=\"-394.8\" font-family=\"Helvetica,sans-Serif\" font-size=\"14.00\">entropy = 0.519</text>\n",
       "<text text-anchor=\"middle\" x=\"1102.5\" y=\"-379.8\" font-family=\"Helvetica,sans-Serif\" font-size=\"14.00\">samples = 43</text>\n",
       "<text text-anchor=\"middle\" x=\"1102.5\" y=\"-364.8\" font-family=\"Helvetica,sans-Serif\" font-size=\"14.00\">value = [38, 5]</text>\n",
       "<text text-anchor=\"middle\" x=\"1102.5\" y=\"-349.8\" font-family=\"Helvetica,sans-Serif\" font-size=\"14.00\">class = nondemented</text>\n",
       "</g>\n",
       "<!-- 25&#45;&gt;26 -->\n",
       "<g id=\"edge26\" class=\"edge\">\n",
       "<title>25&#45;&gt;26</title>\n",
       "<path fill=\"none\" stroke=\"black\" d=\"M1102.5,-460.91C1102.5,-452.65 1102.5,-443.86 1102.5,-435.3\"/>\n",
       "<polygon fill=\"black\" stroke=\"black\" points=\"1106,-435.02 1102.5,-425.02 1099,-435.02 1106,-435.02\"/>\n",
       "</g>\n",
       "<!-- 33 -->\n",
       "<g id=\"node34\" class=\"node\">\n",
       "<title>33</title>\n",
       "<path fill=\"#e58139\" stroke=\"black\" d=\"M1362,-417.5C1362,-417.5 1217,-417.5 1217,-417.5 1211,-417.5 1205,-411.5 1205,-405.5 1205,-405.5 1205,-361.5 1205,-361.5 1205,-355.5 1211,-349.5 1217,-349.5 1217,-349.5 1362,-349.5 1362,-349.5 1368,-349.5 1374,-355.5 1374,-361.5 1374,-361.5 1374,-405.5 1374,-405.5 1374,-411.5 1368,-417.5 1362,-417.5\"/>\n",
       "<text text-anchor=\"middle\" x=\"1289.5\" y=\"-402.3\" font-family=\"Helvetica,sans-Serif\" font-size=\"14.00\">entropy = 0.0</text>\n",
       "<text text-anchor=\"middle\" x=\"1289.5\" y=\"-387.3\" font-family=\"Helvetica,sans-Serif\" font-size=\"14.00\">samples = 41</text>\n",
       "<text text-anchor=\"middle\" x=\"1289.5\" y=\"-372.3\" font-family=\"Helvetica,sans-Serif\" font-size=\"14.00\">value = [41, 0]</text>\n",
       "<text text-anchor=\"middle\" x=\"1289.5\" y=\"-357.3\" font-family=\"Helvetica,sans-Serif\" font-size=\"14.00\">class = nondemented</text>\n",
       "</g>\n",
       "<!-- 25&#45;&gt;33 -->\n",
       "<g id=\"edge33\" class=\"edge\">\n",
       "<title>25&#45;&gt;33</title>\n",
       "<path fill=\"none\" stroke=\"black\" d=\"M1167.38,-460.91C1186.96,-448.66 1208.38,-435.25 1227.75,-423.13\"/>\n",
       "<polygon fill=\"black\" stroke=\"black\" points=\"1229.87,-425.94 1236.49,-417.67 1226.16,-420 1229.87,-425.94\"/>\n",
       "</g>\n",
       "<!-- 27 -->\n",
       "<g id=\"node28\" class=\"node\">\n",
       "<title>27</title>\n",
       "<path fill=\"#eda877\" stroke=\"black\" d=\"M1175,-306C1175,-306 1030,-306 1030,-306 1024,-306 1018,-300 1018,-294 1018,-294 1018,-235 1018,-235 1018,-229 1024,-223 1030,-223 1030,-223 1175,-223 1175,-223 1181,-223 1187,-229 1187,-235 1187,-235 1187,-294 1187,-294 1187,-300 1181,-306 1175,-306\"/>\n",
       "<text text-anchor=\"middle\" x=\"1102.5\" y=\"-290.8\" font-family=\"Helvetica,sans-Serif\" font-size=\"14.00\">MMSE &lt;= 0.167</text>\n",
       "<text text-anchor=\"middle\" x=\"1102.5\" y=\"-275.8\" font-family=\"Helvetica,sans-Serif\" font-size=\"14.00\">entropy = 0.792</text>\n",
       "<text text-anchor=\"middle\" x=\"1102.5\" y=\"-260.8\" font-family=\"Helvetica,sans-Serif\" font-size=\"14.00\">samples = 21</text>\n",
       "<text text-anchor=\"middle\" x=\"1102.5\" y=\"-245.8\" font-family=\"Helvetica,sans-Serif\" font-size=\"14.00\">value = [16, 5]</text>\n",
       "<text text-anchor=\"middle\" x=\"1102.5\" y=\"-230.8\" font-family=\"Helvetica,sans-Serif\" font-size=\"14.00\">class = nondemented</text>\n",
       "</g>\n",
       "<!-- 26&#45;&gt;27 -->\n",
       "<g id=\"edge27\" class=\"edge\">\n",
       "<title>26&#45;&gt;27</title>\n",
       "<path fill=\"none\" stroke=\"black\" d=\"M1102.5,-341.91C1102.5,-333.65 1102.5,-324.86 1102.5,-316.3\"/>\n",
       "<polygon fill=\"black\" stroke=\"black\" points=\"1106,-316.02 1102.5,-306.02 1099,-316.02 1106,-316.02\"/>\n",
       "</g>\n",
       "<!-- 32 -->\n",
       "<g id=\"node33\" class=\"node\">\n",
       "<title>32</title>\n",
       "<path fill=\"#e58139\" stroke=\"black\" d=\"M1362,-298.5C1362,-298.5 1217,-298.5 1217,-298.5 1211,-298.5 1205,-292.5 1205,-286.5 1205,-286.5 1205,-242.5 1205,-242.5 1205,-236.5 1211,-230.5 1217,-230.5 1217,-230.5 1362,-230.5 1362,-230.5 1368,-230.5 1374,-236.5 1374,-242.5 1374,-242.5 1374,-286.5 1374,-286.5 1374,-292.5 1368,-298.5 1362,-298.5\"/>\n",
       "<text text-anchor=\"middle\" x=\"1289.5\" y=\"-283.3\" font-family=\"Helvetica,sans-Serif\" font-size=\"14.00\">entropy = 0.0</text>\n",
       "<text text-anchor=\"middle\" x=\"1289.5\" y=\"-268.3\" font-family=\"Helvetica,sans-Serif\" font-size=\"14.00\">samples = 22</text>\n",
       "<text text-anchor=\"middle\" x=\"1289.5\" y=\"-253.3\" font-family=\"Helvetica,sans-Serif\" font-size=\"14.00\">value = [22, 0]</text>\n",
       "<text text-anchor=\"middle\" x=\"1289.5\" y=\"-238.3\" font-family=\"Helvetica,sans-Serif\" font-size=\"14.00\">class = nondemented</text>\n",
       "</g>\n",
       "<!-- 26&#45;&gt;32 -->\n",
       "<g id=\"edge32\" class=\"edge\">\n",
       "<title>26&#45;&gt;32</title>\n",
       "<path fill=\"none\" stroke=\"black\" d=\"M1167.38,-341.91C1186.96,-329.66 1208.38,-316.25 1227.75,-304.13\"/>\n",
       "<polygon fill=\"black\" stroke=\"black\" points=\"1229.87,-306.94 1236.49,-298.67 1226.16,-301 1229.87,-306.94\"/>\n",
       "</g>\n",
       "<!-- 28 -->\n",
       "<g id=\"node29\" class=\"node\">\n",
       "<title>28</title>\n",
       "<path fill=\"#fbeade\" stroke=\"black\" d=\"M1175,-187C1175,-187 1030,-187 1030,-187 1024,-187 1018,-181 1018,-175 1018,-175 1018,-116 1018,-116 1018,-110 1024,-104 1030,-104 1030,-104 1175,-104 1175,-104 1181,-104 1187,-110 1187,-116 1187,-116 1187,-175 1187,-175 1187,-181 1181,-187 1175,-187\"/>\n",
       "<text text-anchor=\"middle\" x=\"1102.5\" y=\"-171.8\" font-family=\"Helvetica,sans-Serif\" font-size=\"14.00\">Educ &lt;= 0.618</text>\n",
       "<text text-anchor=\"middle\" x=\"1102.5\" y=\"-156.8\" font-family=\"Helvetica,sans-Serif\" font-size=\"14.00\">entropy = 0.994</text>\n",
       "<text text-anchor=\"middle\" x=\"1102.5\" y=\"-141.8\" font-family=\"Helvetica,sans-Serif\" font-size=\"14.00\">samples = 11</text>\n",
       "<text text-anchor=\"middle\" x=\"1102.5\" y=\"-126.8\" font-family=\"Helvetica,sans-Serif\" font-size=\"14.00\">value = [6, 5]</text>\n",
       "<text text-anchor=\"middle\" x=\"1102.5\" y=\"-111.8\" font-family=\"Helvetica,sans-Serif\" font-size=\"14.00\">class = nondemented</text>\n",
       "</g>\n",
       "<!-- 27&#45;&gt;28 -->\n",
       "<g id=\"edge28\" class=\"edge\">\n",
       "<title>27&#45;&gt;28</title>\n",
       "<path fill=\"none\" stroke=\"black\" d=\"M1102.5,-222.91C1102.5,-214.65 1102.5,-205.86 1102.5,-197.3\"/>\n",
       "<polygon fill=\"black\" stroke=\"black\" points=\"1106,-197.02 1102.5,-187.02 1099,-197.02 1106,-197.02\"/>\n",
       "</g>\n",
       "<!-- 31 -->\n",
       "<g id=\"node32\" class=\"node\">\n",
       "<title>31</title>\n",
       "<path fill=\"#e58139\" stroke=\"black\" d=\"M1362,-179.5C1362,-179.5 1217,-179.5 1217,-179.5 1211,-179.5 1205,-173.5 1205,-167.5 1205,-167.5 1205,-123.5 1205,-123.5 1205,-117.5 1211,-111.5 1217,-111.5 1217,-111.5 1362,-111.5 1362,-111.5 1368,-111.5 1374,-117.5 1374,-123.5 1374,-123.5 1374,-167.5 1374,-167.5 1374,-173.5 1368,-179.5 1362,-179.5\"/>\n",
       "<text text-anchor=\"middle\" x=\"1289.5\" y=\"-164.3\" font-family=\"Helvetica,sans-Serif\" font-size=\"14.00\">entropy = 0.0</text>\n",
       "<text text-anchor=\"middle\" x=\"1289.5\" y=\"-149.3\" font-family=\"Helvetica,sans-Serif\" font-size=\"14.00\">samples = 10</text>\n",
       "<text text-anchor=\"middle\" x=\"1289.5\" y=\"-134.3\" font-family=\"Helvetica,sans-Serif\" font-size=\"14.00\">value = [10, 0]</text>\n",
       "<text text-anchor=\"middle\" x=\"1289.5\" y=\"-119.3\" font-family=\"Helvetica,sans-Serif\" font-size=\"14.00\">class = nondemented</text>\n",
       "</g>\n",
       "<!-- 27&#45;&gt;31 -->\n",
       "<g id=\"edge31\" class=\"edge\">\n",
       "<title>27&#45;&gt;31</title>\n",
       "<path fill=\"none\" stroke=\"black\" d=\"M1167.38,-222.91C1186.96,-210.66 1208.38,-197.25 1227.75,-185.13\"/>\n",
       "<polygon fill=\"black\" stroke=\"black\" points=\"1229.87,-187.94 1236.49,-179.67 1226.16,-182 1229.87,-187.94\"/>\n",
       "</g>\n",
       "<!-- 29 -->\n",
       "<g id=\"node30\" class=\"node\">\n",
       "<title>29</title>\n",
       "<path fill=\"#b0d8f5\" stroke=\"black\" d=\"M1162,-68C1162,-68 1043,-68 1043,-68 1037,-68 1031,-62 1031,-56 1031,-56 1031,-12 1031,-12 1031,-6 1037,0 1043,0 1043,0 1162,0 1162,0 1168,0 1174,-6 1174,-12 1174,-12 1174,-56 1174,-56 1174,-62 1168,-68 1162,-68\"/>\n",
       "<text text-anchor=\"middle\" x=\"1102.5\" y=\"-52.8\" font-family=\"Helvetica,sans-Serif\" font-size=\"14.00\">entropy = 0.954</text>\n",
       "<text text-anchor=\"middle\" x=\"1102.5\" y=\"-37.8\" font-family=\"Helvetica,sans-Serif\" font-size=\"14.00\">samples = 8</text>\n",
       "<text text-anchor=\"middle\" x=\"1102.5\" y=\"-22.8\" font-family=\"Helvetica,sans-Serif\" font-size=\"14.00\">value = [3, 5]</text>\n",
       "<text text-anchor=\"middle\" x=\"1102.5\" y=\"-7.8\" font-family=\"Helvetica,sans-Serif\" font-size=\"14.00\">class = demented</text>\n",
       "</g>\n",
       "<!-- 28&#45;&gt;29 -->\n",
       "<g id=\"edge29\" class=\"edge\">\n",
       "<title>28&#45;&gt;29</title>\n",
       "<path fill=\"none\" stroke=\"black\" d=\"M1102.5,-103.73C1102.5,-95.52 1102.5,-86.86 1102.5,-78.56\"/>\n",
       "<polygon fill=\"black\" stroke=\"black\" points=\"1106,-78.3 1102.5,-68.3 1099,-78.3 1106,-78.3\"/>\n",
       "</g>\n",
       "<!-- 30 -->\n",
       "<g id=\"node31\" class=\"node\">\n",
       "<title>30</title>\n",
       "<path fill=\"#e58139\" stroke=\"black\" d=\"M1349,-68C1349,-68 1204,-68 1204,-68 1198,-68 1192,-62 1192,-56 1192,-56 1192,-12 1192,-12 1192,-6 1198,0 1204,0 1204,0 1349,0 1349,0 1355,0 1361,-6 1361,-12 1361,-12 1361,-56 1361,-56 1361,-62 1355,-68 1349,-68\"/>\n",
       "<text text-anchor=\"middle\" x=\"1276.5\" y=\"-52.8\" font-family=\"Helvetica,sans-Serif\" font-size=\"14.00\">entropy = 0.0</text>\n",
       "<text text-anchor=\"middle\" x=\"1276.5\" y=\"-37.8\" font-family=\"Helvetica,sans-Serif\" font-size=\"14.00\">samples = 3</text>\n",
       "<text text-anchor=\"middle\" x=\"1276.5\" y=\"-22.8\" font-family=\"Helvetica,sans-Serif\" font-size=\"14.00\">value = [3, 0]</text>\n",
       "<text text-anchor=\"middle\" x=\"1276.5\" y=\"-7.8\" font-family=\"Helvetica,sans-Serif\" font-size=\"14.00\">class = nondemented</text>\n",
       "</g>\n",
       "<!-- 28&#45;&gt;30 -->\n",
       "<g id=\"edge30\" class=\"edge\">\n",
       "<title>28&#45;&gt;30</title>\n",
       "<path fill=\"none\" stroke=\"black\" d=\"M1167.29,-103.73C1183.03,-93.82 1199.8,-83.27 1215.36,-73.48\"/>\n",
       "<polygon fill=\"black\" stroke=\"black\" points=\"1217.26,-76.41 1223.86,-68.13 1213.53,-70.49 1217.26,-76.41\"/>\n",
       "</g>\n",
       "<!-- 35 -->\n",
       "<g id=\"node36\" class=\"node\">\n",
       "<title>35</title>\n",
       "<path fill=\"#f4c8a9\" stroke=\"black\" d=\"M1790,-544C1790,-544 1645,-544 1645,-544 1639,-544 1633,-538 1633,-532 1633,-532 1633,-473 1633,-473 1633,-467 1639,-461 1645,-461 1645,-461 1790,-461 1790,-461 1796,-461 1802,-467 1802,-473 1802,-473 1802,-532 1802,-532 1802,-538 1796,-544 1790,-544\"/>\n",
       "<text text-anchor=\"middle\" x=\"1717.5\" y=\"-528.8\" font-family=\"Helvetica,sans-Serif\" font-size=\"14.00\">nWBV &lt;= 0.721</text>\n",
       "<text text-anchor=\"middle\" x=\"1717.5\" y=\"-513.8\" font-family=\"Helvetica,sans-Serif\" font-size=\"14.00\">entropy = 0.944</text>\n",
       "<text text-anchor=\"middle\" x=\"1717.5\" y=\"-498.8\" font-family=\"Helvetica,sans-Serif\" font-size=\"14.00\">samples = 72</text>\n",
       "<text text-anchor=\"middle\" x=\"1717.5\" y=\"-483.8\" font-family=\"Helvetica,sans-Serif\" font-size=\"14.00\">value = [46, 26]</text>\n",
       "<text text-anchor=\"middle\" x=\"1717.5\" y=\"-468.8\" font-family=\"Helvetica,sans-Serif\" font-size=\"14.00\">class = nondemented</text>\n",
       "</g>\n",
       "<!-- 34&#45;&gt;35 -->\n",
       "<g id=\"edge35\" class=\"edge\">\n",
       "<title>34&#45;&gt;35</title>\n",
       "<path fill=\"none\" stroke=\"black\" d=\"M1717.5,-579.91C1717.5,-571.65 1717.5,-562.86 1717.5,-554.3\"/>\n",
       "<polygon fill=\"black\" stroke=\"black\" points=\"1721,-554.02 1717.5,-544.02 1714,-554.02 1721,-554.02\"/>\n",
       "</g>\n",
       "<!-- 52 -->\n",
       "<g id=\"node53\" class=\"node\">\n",
       "<title>52</title>\n",
       "<path fill=\"#399de5\" stroke=\"black\" d=\"M1951,-536.5C1951,-536.5 1832,-536.5 1832,-536.5 1826,-536.5 1820,-530.5 1820,-524.5 1820,-524.5 1820,-480.5 1820,-480.5 1820,-474.5 1826,-468.5 1832,-468.5 1832,-468.5 1951,-468.5 1951,-468.5 1957,-468.5 1963,-474.5 1963,-480.5 1963,-480.5 1963,-524.5 1963,-524.5 1963,-530.5 1957,-536.5 1951,-536.5\"/>\n",
       "<text text-anchor=\"middle\" x=\"1891.5\" y=\"-521.3\" font-family=\"Helvetica,sans-Serif\" font-size=\"14.00\">entropy = 0.0</text>\n",
       "<text text-anchor=\"middle\" x=\"1891.5\" y=\"-506.3\" font-family=\"Helvetica,sans-Serif\" font-size=\"14.00\">samples = 3</text>\n",
       "<text text-anchor=\"middle\" x=\"1891.5\" y=\"-491.3\" font-family=\"Helvetica,sans-Serif\" font-size=\"14.00\">value = [0, 3]</text>\n",
       "<text text-anchor=\"middle\" x=\"1891.5\" y=\"-476.3\" font-family=\"Helvetica,sans-Serif\" font-size=\"14.00\">class = demented</text>\n",
       "</g>\n",
       "<!-- 34&#45;&gt;52 -->\n",
       "<g id=\"edge52\" class=\"edge\">\n",
       "<title>34&#45;&gt;52</title>\n",
       "<path fill=\"none\" stroke=\"black\" d=\"M1777.87,-579.91C1795.92,-567.77 1815.66,-554.49 1833.56,-542.46\"/>\n",
       "<polygon fill=\"black\" stroke=\"black\" points=\"1835.83,-545.15 1842.17,-536.67 1831.92,-539.34 1835.83,-545.15\"/>\n",
       "</g>\n",
       "<!-- 36 -->\n",
       "<g id=\"node37\" class=\"node\">\n",
       "<title>36</title>\n",
       "<path fill=\"#ffffff\" stroke=\"black\" d=\"M1790,-425C1790,-425 1645,-425 1645,-425 1639,-425 1633,-419 1633,-413 1633,-413 1633,-354 1633,-354 1633,-348 1639,-342 1645,-342 1645,-342 1790,-342 1790,-342 1796,-342 1802,-348 1802,-354 1802,-354 1802,-413 1802,-413 1802,-419 1796,-425 1790,-425\"/>\n",
       "<text text-anchor=\"middle\" x=\"1717.5\" y=\"-409.8\" font-family=\"Helvetica,sans-Serif\" font-size=\"14.00\">ASF &lt;= 1.013</text>\n",
       "<text text-anchor=\"middle\" x=\"1717.5\" y=\"-394.8\" font-family=\"Helvetica,sans-Serif\" font-size=\"14.00\">entropy = 1.0</text>\n",
       "<text text-anchor=\"middle\" x=\"1717.5\" y=\"-379.8\" font-family=\"Helvetica,sans-Serif\" font-size=\"14.00\">samples = 34</text>\n",
       "<text text-anchor=\"middle\" x=\"1717.5\" y=\"-364.8\" font-family=\"Helvetica,sans-Serif\" font-size=\"14.00\">value = [17, 17]</text>\n",
       "<text text-anchor=\"middle\" x=\"1717.5\" y=\"-349.8\" font-family=\"Helvetica,sans-Serif\" font-size=\"14.00\">class = nondemented</text>\n",
       "</g>\n",
       "<!-- 35&#45;&gt;36 -->\n",
       "<g id=\"edge36\" class=\"edge\">\n",
       "<title>35&#45;&gt;36</title>\n",
       "<path fill=\"none\" stroke=\"black\" d=\"M1717.5,-460.91C1717.5,-452.65 1717.5,-443.86 1717.5,-435.3\"/>\n",
       "<polygon fill=\"black\" stroke=\"black\" points=\"1721,-435.02 1717.5,-425.02 1714,-435.02 1721,-435.02\"/>\n",
       "</g>\n",
       "<!-- 45 -->\n",
       "<g id=\"node46\" class=\"node\">\n",
       "<title>45</title>\n",
       "<path fill=\"#eda876\" stroke=\"black\" d=\"M2058,-425C2058,-425 1913,-425 1913,-425 1907,-425 1901,-419 1901,-413 1901,-413 1901,-354 1901,-354 1901,-348 1907,-342 1913,-342 1913,-342 2058,-342 2058,-342 2064,-342 2070,-348 2070,-354 2070,-354 2070,-413 2070,-413 2070,-419 2064,-425 2058,-425\"/>\n",
       "<text text-anchor=\"middle\" x=\"1985.5\" y=\"-409.8\" font-family=\"Helvetica,sans-Serif\" font-size=\"14.00\">nWBV &lt;= 0.73</text>\n",
       "<text text-anchor=\"middle\" x=\"1985.5\" y=\"-394.8\" font-family=\"Helvetica,sans-Serif\" font-size=\"14.00\">entropy = 0.79</text>\n",
       "<text text-anchor=\"middle\" x=\"1985.5\" y=\"-379.8\" font-family=\"Helvetica,sans-Serif\" font-size=\"14.00\">samples = 38</text>\n",
       "<text text-anchor=\"middle\" x=\"1985.5\" y=\"-364.8\" font-family=\"Helvetica,sans-Serif\" font-size=\"14.00\">value = [29, 9]</text>\n",
       "<text text-anchor=\"middle\" x=\"1985.5\" y=\"-349.8\" font-family=\"Helvetica,sans-Serif\" font-size=\"14.00\">class = nondemented</text>\n",
       "</g>\n",
       "<!-- 35&#45;&gt;45 -->\n",
       "<g id=\"edge45\" class=\"edge\">\n",
       "<title>35&#45;&gt;45</title>\n",
       "<path fill=\"none\" stroke=\"black\" d=\"M1802.3,-464.48C1830.66,-452.1 1862.45,-438.22 1891.48,-425.55\"/>\n",
       "<polygon fill=\"black\" stroke=\"black\" points=\"1893.03,-428.69 1900.8,-421.48 1890.23,-422.27 1893.03,-428.69\"/>\n",
       "</g>\n",
       "<!-- 37 -->\n",
       "<g id=\"node38\" class=\"node\">\n",
       "<title>37</title>\n",
       "<path fill=\"#eca572\" stroke=\"black\" d=\"M1710,-306C1710,-306 1565,-306 1565,-306 1559,-306 1553,-300 1553,-294 1553,-294 1553,-235 1553,-235 1553,-229 1559,-223 1565,-223 1565,-223 1710,-223 1710,-223 1716,-223 1722,-229 1722,-235 1722,-235 1722,-294 1722,-294 1722,-300 1716,-306 1710,-306\"/>\n",
       "<text text-anchor=\"middle\" x=\"1637.5\" y=\"-290.8\" font-family=\"Helvetica,sans-Serif\" font-size=\"14.00\">eTIV &lt;= 1.594</text>\n",
       "<text text-anchor=\"middle\" x=\"1637.5\" y=\"-275.8\" font-family=\"Helvetica,sans-Serif\" font-size=\"14.00\">entropy = 0.764</text>\n",
       "<text text-anchor=\"middle\" x=\"1637.5\" y=\"-260.8\" font-family=\"Helvetica,sans-Serif\" font-size=\"14.00\">samples = 9</text>\n",
       "<text text-anchor=\"middle\" x=\"1637.5\" y=\"-245.8\" font-family=\"Helvetica,sans-Serif\" font-size=\"14.00\">value = [7, 2]</text>\n",
       "<text text-anchor=\"middle\" x=\"1637.5\" y=\"-230.8\" font-family=\"Helvetica,sans-Serif\" font-size=\"14.00\">class = nondemented</text>\n",
       "</g>\n",
       "<!-- 36&#45;&gt;37 -->\n",
       "<g id=\"edge37\" class=\"edge\">\n",
       "<title>36&#45;&gt;37</title>\n",
       "<path fill=\"none\" stroke=\"black\" d=\"M1689.74,-341.91C1683.66,-333.01 1677.16,-323.51 1670.89,-314.33\"/>\n",
       "<polygon fill=\"black\" stroke=\"black\" points=\"1673.74,-312.3 1665.21,-306.02 1667.96,-316.25 1673.74,-312.3\"/>\n",
       "</g>\n",
       "<!-- 40 -->\n",
       "<g id=\"node41\" class=\"node\">\n",
       "<title>40</title>\n",
       "<path fill=\"#bddef6\" stroke=\"black\" d=\"M1871,-306C1871,-306 1752,-306 1752,-306 1746,-306 1740,-300 1740,-294 1740,-294 1740,-235 1740,-235 1740,-229 1746,-223 1752,-223 1752,-223 1871,-223 1871,-223 1877,-223 1883,-229 1883,-235 1883,-235 1883,-294 1883,-294 1883,-300 1877,-306 1871,-306\"/>\n",
       "<text text-anchor=\"middle\" x=\"1811.5\" y=\"-290.8\" font-family=\"Helvetica,sans-Serif\" font-size=\"14.00\">Educ &lt;= 0.559</text>\n",
       "<text text-anchor=\"middle\" x=\"1811.5\" y=\"-275.8\" font-family=\"Helvetica,sans-Serif\" font-size=\"14.00\">entropy = 0.971</text>\n",
       "<text text-anchor=\"middle\" x=\"1811.5\" y=\"-260.8\" font-family=\"Helvetica,sans-Serif\" font-size=\"14.00\">samples = 25</text>\n",
       "<text text-anchor=\"middle\" x=\"1811.5\" y=\"-245.8\" font-family=\"Helvetica,sans-Serif\" font-size=\"14.00\">value = [10, 15]</text>\n",
       "<text text-anchor=\"middle\" x=\"1811.5\" y=\"-230.8\" font-family=\"Helvetica,sans-Serif\" font-size=\"14.00\">class = demented</text>\n",
       "</g>\n",
       "<!-- 36&#45;&gt;40 -->\n",
       "<g id=\"edge40\" class=\"edge\">\n",
       "<title>36&#45;&gt;40</title>\n",
       "<path fill=\"none\" stroke=\"black\" d=\"M1750.11,-341.91C1757.33,-332.92 1765.05,-323.32 1772.49,-314.05\"/>\n",
       "<polygon fill=\"black\" stroke=\"black\" points=\"1775.41,-316.01 1778.94,-306.02 1769.95,-311.62 1775.41,-316.01\"/>\n",
       "</g>\n",
       "<!-- 38 -->\n",
       "<g id=\"node39\" class=\"node\">\n",
       "<title>38</title>\n",
       "<path fill=\"#e58139\" stroke=\"black\" d=\"M1549,-179.5C1549,-179.5 1404,-179.5 1404,-179.5 1398,-179.5 1392,-173.5 1392,-167.5 1392,-167.5 1392,-123.5 1392,-123.5 1392,-117.5 1398,-111.5 1404,-111.5 1404,-111.5 1549,-111.5 1549,-111.5 1555,-111.5 1561,-117.5 1561,-123.5 1561,-123.5 1561,-167.5 1561,-167.5 1561,-173.5 1555,-179.5 1549,-179.5\"/>\n",
       "<text text-anchor=\"middle\" x=\"1476.5\" y=\"-164.3\" font-family=\"Helvetica,sans-Serif\" font-size=\"14.00\">entropy = 0.0</text>\n",
       "<text text-anchor=\"middle\" x=\"1476.5\" y=\"-149.3\" font-family=\"Helvetica,sans-Serif\" font-size=\"14.00\">samples = 6</text>\n",
       "<text text-anchor=\"middle\" x=\"1476.5\" y=\"-134.3\" font-family=\"Helvetica,sans-Serif\" font-size=\"14.00\">value = [6, 0]</text>\n",
       "<text text-anchor=\"middle\" x=\"1476.5\" y=\"-119.3\" font-family=\"Helvetica,sans-Serif\" font-size=\"14.00\">class = nondemented</text>\n",
       "</g>\n",
       "<!-- 37&#45;&gt;38 -->\n",
       "<g id=\"edge38\" class=\"edge\">\n",
       "<title>37&#45;&gt;38</title>\n",
       "<path fill=\"none\" stroke=\"black\" d=\"M1581.64,-222.91C1565.09,-210.88 1547,-197.73 1530.57,-185.79\"/>\n",
       "<polygon fill=\"black\" stroke=\"black\" points=\"1532.29,-182.71 1522.14,-179.67 1528.17,-188.38 1532.29,-182.71\"/>\n",
       "</g>\n",
       "<!-- 39 -->\n",
       "<g id=\"node40\" class=\"node\">\n",
       "<title>39</title>\n",
       "<path fill=\"#9ccef2\" stroke=\"black\" d=\"M1710,-179.5C1710,-179.5 1591,-179.5 1591,-179.5 1585,-179.5 1579,-173.5 1579,-167.5 1579,-167.5 1579,-123.5 1579,-123.5 1579,-117.5 1585,-111.5 1591,-111.5 1591,-111.5 1710,-111.5 1710,-111.5 1716,-111.5 1722,-117.5 1722,-123.5 1722,-123.5 1722,-167.5 1722,-167.5 1722,-173.5 1716,-179.5 1710,-179.5\"/>\n",
       "<text text-anchor=\"middle\" x=\"1650.5\" y=\"-164.3\" font-family=\"Helvetica,sans-Serif\" font-size=\"14.00\">entropy = 0.918</text>\n",
       "<text text-anchor=\"middle\" x=\"1650.5\" y=\"-149.3\" font-family=\"Helvetica,sans-Serif\" font-size=\"14.00\">samples = 3</text>\n",
       "<text text-anchor=\"middle\" x=\"1650.5\" y=\"-134.3\" font-family=\"Helvetica,sans-Serif\" font-size=\"14.00\">value = [1, 2]</text>\n",
       "<text text-anchor=\"middle\" x=\"1650.5\" y=\"-119.3\" font-family=\"Helvetica,sans-Serif\" font-size=\"14.00\">class = demented</text>\n",
       "</g>\n",
       "<!-- 37&#45;&gt;39 -->\n",
       "<g id=\"edge39\" class=\"edge\">\n",
       "<title>37&#45;&gt;39</title>\n",
       "<path fill=\"none\" stroke=\"black\" d=\"M1642.01,-222.91C1643.2,-212.2 1644.49,-200.62 1645.69,-189.78\"/>\n",
       "<polygon fill=\"black\" stroke=\"black\" points=\"1649.19,-189.99 1646.81,-179.67 1642.23,-189.22 1649.19,-189.99\"/>\n",
       "</g>\n",
       "<!-- 41 -->\n",
       "<g id=\"node42\" class=\"node\">\n",
       "<title>41</title>\n",
       "<path fill=\"#399de5\" stroke=\"black\" d=\"M1871,-179.5C1871,-179.5 1752,-179.5 1752,-179.5 1746,-179.5 1740,-173.5 1740,-167.5 1740,-167.5 1740,-123.5 1740,-123.5 1740,-117.5 1746,-111.5 1752,-111.5 1752,-111.5 1871,-111.5 1871,-111.5 1877,-111.5 1883,-117.5 1883,-123.5 1883,-123.5 1883,-167.5 1883,-167.5 1883,-173.5 1877,-179.5 1871,-179.5\"/>\n",
       "<text text-anchor=\"middle\" x=\"1811.5\" y=\"-164.3\" font-family=\"Helvetica,sans-Serif\" font-size=\"14.00\">entropy = 0.0</text>\n",
       "<text text-anchor=\"middle\" x=\"1811.5\" y=\"-149.3\" font-family=\"Helvetica,sans-Serif\" font-size=\"14.00\">samples = 6</text>\n",
       "<text text-anchor=\"middle\" x=\"1811.5\" y=\"-134.3\" font-family=\"Helvetica,sans-Serif\" font-size=\"14.00\">value = [0, 6]</text>\n",
       "<text text-anchor=\"middle\" x=\"1811.5\" y=\"-119.3\" font-family=\"Helvetica,sans-Serif\" font-size=\"14.00\">class = demented</text>\n",
       "</g>\n",
       "<!-- 40&#45;&gt;41 -->\n",
       "<g id=\"edge41\" class=\"edge\">\n",
       "<title>40&#45;&gt;41</title>\n",
       "<path fill=\"none\" stroke=\"black\" d=\"M1811.5,-222.91C1811.5,-212.2 1811.5,-200.62 1811.5,-189.78\"/>\n",
       "<polygon fill=\"black\" stroke=\"black\" points=\"1815,-189.67 1811.5,-179.67 1808,-189.67 1815,-189.67\"/>\n",
       "</g>\n",
       "<!-- 42 -->\n",
       "<g id=\"node43\" class=\"node\">\n",
       "<title>42</title>\n",
       "<path fill=\"#fcf2eb\" stroke=\"black\" d=\"M2058,-187C2058,-187 1913,-187 1913,-187 1907,-187 1901,-181 1901,-175 1901,-175 1901,-116 1901,-116 1901,-110 1907,-104 1913,-104 1913,-104 2058,-104 2058,-104 2064,-104 2070,-110 2070,-116 2070,-116 2070,-175 2070,-175 2070,-181 2064,-187 2058,-187\"/>\n",
       "<text text-anchor=\"middle\" x=\"1985.5\" y=\"-171.8\" font-family=\"Helvetica,sans-Serif\" font-size=\"14.00\">Age &lt;= 0.195</text>\n",
       "<text text-anchor=\"middle\" x=\"1985.5\" y=\"-156.8\" font-family=\"Helvetica,sans-Serif\" font-size=\"14.00\">entropy = 0.998</text>\n",
       "<text text-anchor=\"middle\" x=\"1985.5\" y=\"-141.8\" font-family=\"Helvetica,sans-Serif\" font-size=\"14.00\">samples = 19</text>\n",
       "<text text-anchor=\"middle\" x=\"1985.5\" y=\"-126.8\" font-family=\"Helvetica,sans-Serif\" font-size=\"14.00\">value = [10, 9]</text>\n",
       "<text text-anchor=\"middle\" x=\"1985.5\" y=\"-111.8\" font-family=\"Helvetica,sans-Serif\" font-size=\"14.00\">class = nondemented</text>\n",
       "</g>\n",
       "<!-- 40&#45;&gt;42 -->\n",
       "<g id=\"edge42\" class=\"edge\">\n",
       "<title>40&#45;&gt;42</title>\n",
       "<path fill=\"none\" stroke=\"black\" d=\"M1871.87,-222.91C1886.31,-213.2 1901.83,-202.76 1916.63,-192.81\"/>\n",
       "<polygon fill=\"black\" stroke=\"black\" points=\"1918.89,-195.51 1925.24,-187.02 1914.99,-189.7 1918.89,-195.51\"/>\n",
       "</g>\n",
       "<!-- 43 -->\n",
       "<g id=\"node44\" class=\"node\">\n",
       "<title>43</title>\n",
       "<path fill=\"#e58139\" stroke=\"black\" d=\"M1971,-68C1971,-68 1826,-68 1826,-68 1820,-68 1814,-62 1814,-56 1814,-56 1814,-12 1814,-12 1814,-6 1820,0 1826,0 1826,0 1971,0 1971,0 1977,0 1983,-6 1983,-12 1983,-12 1983,-56 1983,-56 1983,-62 1977,-68 1971,-68\"/>\n",
       "<text text-anchor=\"middle\" x=\"1898.5\" y=\"-52.8\" font-family=\"Helvetica,sans-Serif\" font-size=\"14.00\">entropy = 0.0</text>\n",
       "<text text-anchor=\"middle\" x=\"1898.5\" y=\"-37.8\" font-family=\"Helvetica,sans-Serif\" font-size=\"14.00\">samples = 4</text>\n",
       "<text text-anchor=\"middle\" x=\"1898.5\" y=\"-22.8\" font-family=\"Helvetica,sans-Serif\" font-size=\"14.00\">value = [4, 0]</text>\n",
       "<text text-anchor=\"middle\" x=\"1898.5\" y=\"-7.8\" font-family=\"Helvetica,sans-Serif\" font-size=\"14.00\">class = nondemented</text>\n",
       "</g>\n",
       "<!-- 42&#45;&gt;43 -->\n",
       "<g id=\"edge43\" class=\"edge\">\n",
       "<title>42&#45;&gt;43</title>\n",
       "<path fill=\"none\" stroke=\"black\" d=\"M1953.1,-103.73C1946,-94.79 1938.48,-85.32 1931.36,-76.36\"/>\n",
       "<polygon fill=\"black\" stroke=\"black\" points=\"1933.92,-73.95 1924.96,-68.3 1928.44,-78.31 1933.92,-73.95\"/>\n",
       "</g>\n",
       "<!-- 44 -->\n",
       "<g id=\"node45\" class=\"node\">\n",
       "<title>44</title>\n",
       "<path fill=\"#bddef6\" stroke=\"black\" d=\"M2132,-68C2132,-68 2013,-68 2013,-68 2007,-68 2001,-62 2001,-56 2001,-56 2001,-12 2001,-12 2001,-6 2007,0 2013,0 2013,0 2132,0 2132,0 2138,0 2144,-6 2144,-12 2144,-12 2144,-56 2144,-56 2144,-62 2138,-68 2132,-68\"/>\n",
       "<text text-anchor=\"middle\" x=\"2072.5\" y=\"-52.8\" font-family=\"Helvetica,sans-Serif\" font-size=\"14.00\">entropy = 0.971</text>\n",
       "<text text-anchor=\"middle\" x=\"2072.5\" y=\"-37.8\" font-family=\"Helvetica,sans-Serif\" font-size=\"14.00\">samples = 15</text>\n",
       "<text text-anchor=\"middle\" x=\"2072.5\" y=\"-22.8\" font-family=\"Helvetica,sans-Serif\" font-size=\"14.00\">value = [6, 9]</text>\n",
       "<text text-anchor=\"middle\" x=\"2072.5\" y=\"-7.8\" font-family=\"Helvetica,sans-Serif\" font-size=\"14.00\">class = demented</text>\n",
       "</g>\n",
       "<!-- 42&#45;&gt;44 -->\n",
       "<g id=\"edge44\" class=\"edge\">\n",
       "<title>42&#45;&gt;44</title>\n",
       "<path fill=\"none\" stroke=\"black\" d=\"M2017.9,-103.73C2025,-94.79 2032.52,-85.32 2039.64,-76.36\"/>\n",
       "<polygon fill=\"black\" stroke=\"black\" points=\"2042.56,-78.31 2046.04,-68.3 2037.08,-73.95 2042.56,-78.31\"/>\n",
       "</g>\n",
       "<!-- 46 -->\n",
       "<g id=\"node47\" class=\"node\">\n",
       "<title>46</title>\n",
       "<path fill=\"#e58139\" stroke=\"black\" d=\"M2058,-298.5C2058,-298.5 1913,-298.5 1913,-298.5 1907,-298.5 1901,-292.5 1901,-286.5 1901,-286.5 1901,-242.5 1901,-242.5 1901,-236.5 1907,-230.5 1913,-230.5 1913,-230.5 2058,-230.5 2058,-230.5 2064,-230.5 2070,-236.5 2070,-242.5 2070,-242.5 2070,-286.5 2070,-286.5 2070,-292.5 2064,-298.5 2058,-298.5\"/>\n",
       "<text text-anchor=\"middle\" x=\"1985.5\" y=\"-283.3\" font-family=\"Helvetica,sans-Serif\" font-size=\"14.00\">entropy = 0.0</text>\n",
       "<text text-anchor=\"middle\" x=\"1985.5\" y=\"-268.3\" font-family=\"Helvetica,sans-Serif\" font-size=\"14.00\">samples = 9</text>\n",
       "<text text-anchor=\"middle\" x=\"1985.5\" y=\"-253.3\" font-family=\"Helvetica,sans-Serif\" font-size=\"14.00\">value = [9, 0]</text>\n",
       "<text text-anchor=\"middle\" x=\"1985.5\" y=\"-238.3\" font-family=\"Helvetica,sans-Serif\" font-size=\"14.00\">class = nondemented</text>\n",
       "</g>\n",
       "<!-- 45&#45;&gt;46 -->\n",
       "<g id=\"edge46\" class=\"edge\">\n",
       "<title>45&#45;&gt;46</title>\n",
       "<path fill=\"none\" stroke=\"black\" d=\"M1985.5,-341.91C1985.5,-331.2 1985.5,-319.62 1985.5,-308.78\"/>\n",
       "<polygon fill=\"black\" stroke=\"black\" points=\"1989,-308.67 1985.5,-298.67 1982,-308.67 1989,-308.67\"/>\n",
       "</g>\n",
       "<!-- 47 -->\n",
       "<g id=\"node48\" class=\"node\">\n",
       "<title>47</title>\n",
       "<path fill=\"#f1ba92\" stroke=\"black\" d=\"M2245,-306C2245,-306 2100,-306 2100,-306 2094,-306 2088,-300 2088,-294 2088,-294 2088,-235 2088,-235 2088,-229 2094,-223 2100,-223 2100,-223 2245,-223 2245,-223 2251,-223 2257,-229 2257,-235 2257,-235 2257,-294 2257,-294 2257,-300 2251,-306 2245,-306\"/>\n",
       "<text text-anchor=\"middle\" x=\"2172.5\" y=\"-290.8\" font-family=\"Helvetica,sans-Serif\" font-size=\"14.00\">MMSE &lt;= &#45;0.167</text>\n",
       "<text text-anchor=\"middle\" x=\"2172.5\" y=\"-275.8\" font-family=\"Helvetica,sans-Serif\" font-size=\"14.00\">entropy = 0.894</text>\n",
       "<text text-anchor=\"middle\" x=\"2172.5\" y=\"-260.8\" font-family=\"Helvetica,sans-Serif\" font-size=\"14.00\">samples = 29</text>\n",
       "<text text-anchor=\"middle\" x=\"2172.5\" y=\"-245.8\" font-family=\"Helvetica,sans-Serif\" font-size=\"14.00\">value = [20, 9]</text>\n",
       "<text text-anchor=\"middle\" x=\"2172.5\" y=\"-230.8\" font-family=\"Helvetica,sans-Serif\" font-size=\"14.00\">class = nondemented</text>\n",
       "</g>\n",
       "<!-- 45&#45;&gt;47 -->\n",
       "<g id=\"edge47\" class=\"edge\">\n",
       "<title>45&#45;&gt;47</title>\n",
       "<path fill=\"none\" stroke=\"black\" d=\"M2050.38,-341.91C2066.04,-332.11 2082.9,-321.56 2098.93,-311.53\"/>\n",
       "<polygon fill=\"black\" stroke=\"black\" points=\"2101.11,-314.29 2107.74,-306.02 2097.4,-308.36 2101.11,-314.29\"/>\n",
       "</g>\n",
       "<!-- 48 -->\n",
       "<g id=\"node49\" class=\"node\">\n",
       "<title>48</title>\n",
       "<path fill=\"#6ab6ec\" stroke=\"black\" d=\"M2225,-179.5C2225,-179.5 2106,-179.5 2106,-179.5 2100,-179.5 2094,-173.5 2094,-167.5 2094,-167.5 2094,-123.5 2094,-123.5 2094,-117.5 2100,-111.5 2106,-111.5 2106,-111.5 2225,-111.5 2225,-111.5 2231,-111.5 2237,-117.5 2237,-123.5 2237,-123.5 2237,-167.5 2237,-167.5 2237,-173.5 2231,-179.5 2225,-179.5\"/>\n",
       "<text text-anchor=\"middle\" x=\"2165.5\" y=\"-164.3\" font-family=\"Helvetica,sans-Serif\" font-size=\"14.00\">entropy = 0.722</text>\n",
       "<text text-anchor=\"middle\" x=\"2165.5\" y=\"-149.3\" font-family=\"Helvetica,sans-Serif\" font-size=\"14.00\">samples = 5</text>\n",
       "<text text-anchor=\"middle\" x=\"2165.5\" y=\"-134.3\" font-family=\"Helvetica,sans-Serif\" font-size=\"14.00\">value = [1, 4]</text>\n",
       "<text text-anchor=\"middle\" x=\"2165.5\" y=\"-119.3\" font-family=\"Helvetica,sans-Serif\" font-size=\"14.00\">class = demented</text>\n",
       "</g>\n",
       "<!-- 47&#45;&gt;48 -->\n",
       "<g id=\"edge48\" class=\"edge\">\n",
       "<title>47&#45;&gt;48</title>\n",
       "<path fill=\"none\" stroke=\"black\" d=\"M2170.07,-222.91C2169.43,-212.2 2168.74,-200.62 2168.09,-189.78\"/>\n",
       "<polygon fill=\"black\" stroke=\"black\" points=\"2171.58,-189.44 2167.48,-179.67 2164.59,-189.86 2171.58,-189.44\"/>\n",
       "</g>\n",
       "<!-- 49 -->\n",
       "<g id=\"node50\" class=\"node\">\n",
       "<title>49</title>\n",
       "<path fill=\"#eca26d\" stroke=\"black\" d=\"M2412,-187C2412,-187 2267,-187 2267,-187 2261,-187 2255,-181 2255,-175 2255,-175 2255,-116 2255,-116 2255,-110 2261,-104 2267,-104 2267,-104 2412,-104 2412,-104 2418,-104 2424,-110 2424,-116 2424,-116 2424,-175 2424,-175 2424,-181 2418,-187 2412,-187\"/>\n",
       "<text text-anchor=\"middle\" x=\"2339.5\" y=\"-171.8\" font-family=\"Helvetica,sans-Serif\" font-size=\"14.00\">Age &lt;= &#45;0.198</text>\n",
       "<text text-anchor=\"middle\" x=\"2339.5\" y=\"-156.8\" font-family=\"Helvetica,sans-Serif\" font-size=\"14.00\">entropy = 0.738</text>\n",
       "<text text-anchor=\"middle\" x=\"2339.5\" y=\"-141.8\" font-family=\"Helvetica,sans-Serif\" font-size=\"14.00\">samples = 24</text>\n",
       "<text text-anchor=\"middle\" x=\"2339.5\" y=\"-126.8\" font-family=\"Helvetica,sans-Serif\" font-size=\"14.00\">value = [19, 5]</text>\n",
       "<text text-anchor=\"middle\" x=\"2339.5\" y=\"-111.8\" font-family=\"Helvetica,sans-Serif\" font-size=\"14.00\">class = nondemented</text>\n",
       "</g>\n",
       "<!-- 47&#45;&gt;49 -->\n",
       "<g id=\"edge49\" class=\"edge\">\n",
       "<title>47&#45;&gt;49</title>\n",
       "<path fill=\"none\" stroke=\"black\" d=\"M2230.44,-222.91C2244.3,-213.2 2259.2,-202.76 2273.4,-192.81\"/>\n",
       "<polygon fill=\"black\" stroke=\"black\" points=\"2275.48,-195.63 2281.66,-187.02 2271.46,-189.89 2275.48,-195.63\"/>\n",
       "</g>\n",
       "<!-- 50 -->\n",
       "<g id=\"node51\" class=\"node\">\n",
       "<title>50</title>\n",
       "<path fill=\"#f2c09c\" stroke=\"black\" d=\"M2365,-68C2365,-68 2220,-68 2220,-68 2214,-68 2208,-62 2208,-56 2208,-56 2208,-12 2208,-12 2208,-6 2214,0 2220,0 2220,0 2365,0 2365,0 2371,0 2377,-6 2377,-12 2377,-12 2377,-56 2377,-56 2377,-62 2371,-68 2365,-68\"/>\n",
       "<text text-anchor=\"middle\" x=\"2292.5\" y=\"-52.8\" font-family=\"Helvetica,sans-Serif\" font-size=\"14.00\">entropy = 0.918</text>\n",
       "<text text-anchor=\"middle\" x=\"2292.5\" y=\"-37.8\" font-family=\"Helvetica,sans-Serif\" font-size=\"14.00\">samples = 15</text>\n",
       "<text text-anchor=\"middle\" x=\"2292.5\" y=\"-22.8\" font-family=\"Helvetica,sans-Serif\" font-size=\"14.00\">value = [10, 5]</text>\n",
       "<text text-anchor=\"middle\" x=\"2292.5\" y=\"-7.8\" font-family=\"Helvetica,sans-Serif\" font-size=\"14.00\">class = nondemented</text>\n",
       "</g>\n",
       "<!-- 49&#45;&gt;50 -->\n",
       "<g id=\"edge50\" class=\"edge\">\n",
       "<title>49&#45;&gt;50</title>\n",
       "<path fill=\"none\" stroke=\"black\" d=\"M2322,-103.73C2318.36,-95.24 2314.51,-86.28 2310.84,-77.73\"/>\n",
       "<polygon fill=\"black\" stroke=\"black\" points=\"2313.95,-76.11 2306.79,-68.3 2307.52,-78.87 2313.95,-76.11\"/>\n",
       "</g>\n",
       "<!-- 51 -->\n",
       "<g id=\"node52\" class=\"node\">\n",
       "<title>51</title>\n",
       "<path fill=\"#e58139\" stroke=\"black\" d=\"M2552,-68C2552,-68 2407,-68 2407,-68 2401,-68 2395,-62 2395,-56 2395,-56 2395,-12 2395,-12 2395,-6 2401,0 2407,0 2407,0 2552,0 2552,0 2558,0 2564,-6 2564,-12 2564,-12 2564,-56 2564,-56 2564,-62 2558,-68 2552,-68\"/>\n",
       "<text text-anchor=\"middle\" x=\"2479.5\" y=\"-52.8\" font-family=\"Helvetica,sans-Serif\" font-size=\"14.00\">entropy = 0.0</text>\n",
       "<text text-anchor=\"middle\" x=\"2479.5\" y=\"-37.8\" font-family=\"Helvetica,sans-Serif\" font-size=\"14.00\">samples = 9</text>\n",
       "<text text-anchor=\"middle\" x=\"2479.5\" y=\"-22.8\" font-family=\"Helvetica,sans-Serif\" font-size=\"14.00\">value = [9, 0]</text>\n",
       "<text text-anchor=\"middle\" x=\"2479.5\" y=\"-7.8\" font-family=\"Helvetica,sans-Serif\" font-size=\"14.00\">class = nondemented</text>\n",
       "</g>\n",
       "<!-- 49&#45;&gt;51 -->\n",
       "<g id=\"edge51\" class=\"edge\">\n",
       "<title>49&#45;&gt;51</title>\n",
       "<path fill=\"none\" stroke=\"black\" d=\"M2391.63,-103.73C2403.76,-94.24 2416.65,-84.16 2428.72,-74.72\"/>\n",
       "<polygon fill=\"black\" stroke=\"black\" points=\"2431.2,-77.22 2436.93,-68.3 2426.89,-71.7 2431.2,-77.22\"/>\n",
       "</g>\n",
       "</g>\n",
       "</svg>\n"
      ],
      "text/plain": [
       "<graphviz.sources.Source at 0x7f30d48cda00>"
      ]
     },
     "metadata": {},
     "output_type": "display_data"
    }
   ],
   "source": [
    "import graphviz\n",
    "\n",
    "from sklearn.tree import export_graphviz\n",
    "export_graphviz(tree_clf, out_file=\"dt.dot\", \n",
    "                feature_names=X_train.columns,\n",
    "                class_names=['nondemented','demented'], \n",
    "                rounded=True, filled=True)\n",
    "\n",
    "with open(\"dt.dot\") as f:\n",
    "    dot_graph = f.read()\n",
    "    display(graphviz.Source(dot_graph))"
   ]
  },
  {
   "cell_type": "code",
   "execution_count": 220,
   "id": "0f50c80f",
   "metadata": {},
   "outputs": [],
   "source": [
    "y_pred5 = tree_clf.predict(X_test)"
   ]
  },
  {
   "cell_type": "code",
   "execution_count": 221,
   "id": "85d7e232",
   "metadata": {
    "scrolled": false
   },
   "outputs": [
    {
     "data": {
      "text/plain": [
       "0.7272727272727273"
      ]
     },
     "execution_count": 221,
     "metadata": {},
     "output_type": "execute_result"
    }
   ],
   "source": [
    "recall_score(y_test, y_pred5)"
   ]
  },
  {
   "cell_type": "code",
   "execution_count": 268,
   "id": "553a488a",
   "metadata": {},
   "outputs": [
    {
     "data": {
      "text/html": [
       "<style>#sk-72f3e7a1-7e52-4811-b2b7-00bcf7b042b7 {color: black;background-color: white;}#sk-72f3e7a1-7e52-4811-b2b7-00bcf7b042b7 pre{padding: 0;}#sk-72f3e7a1-7e52-4811-b2b7-00bcf7b042b7 div.sk-toggleable {background-color: white;}#sk-72f3e7a1-7e52-4811-b2b7-00bcf7b042b7 label.sk-toggleable__label {cursor: pointer;display: block;width: 100%;margin-bottom: 0;padding: 0.3em;box-sizing: border-box;text-align: center;}#sk-72f3e7a1-7e52-4811-b2b7-00bcf7b042b7 label.sk-toggleable__label-arrow:before {content: \"▸\";float: left;margin-right: 0.25em;color: #696969;}#sk-72f3e7a1-7e52-4811-b2b7-00bcf7b042b7 label.sk-toggleable__label-arrow:hover:before {color: black;}#sk-72f3e7a1-7e52-4811-b2b7-00bcf7b042b7 div.sk-estimator:hover label.sk-toggleable__label-arrow:before {color: black;}#sk-72f3e7a1-7e52-4811-b2b7-00bcf7b042b7 div.sk-toggleable__content {max-height: 0;max-width: 0;overflow: hidden;text-align: left;background-color: #f0f8ff;}#sk-72f3e7a1-7e52-4811-b2b7-00bcf7b042b7 div.sk-toggleable__content pre {margin: 0.2em;color: black;border-radius: 0.25em;background-color: #f0f8ff;}#sk-72f3e7a1-7e52-4811-b2b7-00bcf7b042b7 input.sk-toggleable__control:checked~div.sk-toggleable__content {max-height: 200px;max-width: 100%;overflow: auto;}#sk-72f3e7a1-7e52-4811-b2b7-00bcf7b042b7 input.sk-toggleable__control:checked~label.sk-toggleable__label-arrow:before {content: \"▾\";}#sk-72f3e7a1-7e52-4811-b2b7-00bcf7b042b7 div.sk-estimator input.sk-toggleable__control:checked~label.sk-toggleable__label {background-color: #d4ebff;}#sk-72f3e7a1-7e52-4811-b2b7-00bcf7b042b7 div.sk-label input.sk-toggleable__control:checked~label.sk-toggleable__label {background-color: #d4ebff;}#sk-72f3e7a1-7e52-4811-b2b7-00bcf7b042b7 input.sk-hidden--visually {border: 0;clip: rect(1px 1px 1px 1px);clip: rect(1px, 1px, 1px, 1px);height: 1px;margin: -1px;overflow: hidden;padding: 0;position: absolute;width: 1px;}#sk-72f3e7a1-7e52-4811-b2b7-00bcf7b042b7 div.sk-estimator {font-family: monospace;background-color: #f0f8ff;border: 1px dotted black;border-radius: 0.25em;box-sizing: border-box;margin-bottom: 0.5em;}#sk-72f3e7a1-7e52-4811-b2b7-00bcf7b042b7 div.sk-estimator:hover {background-color: #d4ebff;}#sk-72f3e7a1-7e52-4811-b2b7-00bcf7b042b7 div.sk-parallel-item::after {content: \"\";width: 100%;border-bottom: 1px solid gray;flex-grow: 1;}#sk-72f3e7a1-7e52-4811-b2b7-00bcf7b042b7 div.sk-label:hover label.sk-toggleable__label {background-color: #d4ebff;}#sk-72f3e7a1-7e52-4811-b2b7-00bcf7b042b7 div.sk-serial::before {content: \"\";position: absolute;border-left: 1px solid gray;box-sizing: border-box;top: 2em;bottom: 0;left: 50%;}#sk-72f3e7a1-7e52-4811-b2b7-00bcf7b042b7 div.sk-serial {display: flex;flex-direction: column;align-items: center;background-color: white;padding-right: 0.2em;padding-left: 0.2em;}#sk-72f3e7a1-7e52-4811-b2b7-00bcf7b042b7 div.sk-item {z-index: 1;}#sk-72f3e7a1-7e52-4811-b2b7-00bcf7b042b7 div.sk-parallel {display: flex;align-items: stretch;justify-content: center;background-color: white;}#sk-72f3e7a1-7e52-4811-b2b7-00bcf7b042b7 div.sk-parallel::before {content: \"\";position: absolute;border-left: 1px solid gray;box-sizing: border-box;top: 2em;bottom: 0;left: 50%;}#sk-72f3e7a1-7e52-4811-b2b7-00bcf7b042b7 div.sk-parallel-item {display: flex;flex-direction: column;position: relative;background-color: white;}#sk-72f3e7a1-7e52-4811-b2b7-00bcf7b042b7 div.sk-parallel-item:first-child::after {align-self: flex-end;width: 50%;}#sk-72f3e7a1-7e52-4811-b2b7-00bcf7b042b7 div.sk-parallel-item:last-child::after {align-self: flex-start;width: 50%;}#sk-72f3e7a1-7e52-4811-b2b7-00bcf7b042b7 div.sk-parallel-item:only-child::after {width: 0;}#sk-72f3e7a1-7e52-4811-b2b7-00bcf7b042b7 div.sk-dashed-wrapped {border: 1px dashed gray;margin: 0 0.4em 0.5em 0.4em;box-sizing: border-box;padding-bottom: 0.4em;background-color: white;position: relative;}#sk-72f3e7a1-7e52-4811-b2b7-00bcf7b042b7 div.sk-label label {font-family: monospace;font-weight: bold;background-color: white;display: inline-block;line-height: 1.2em;}#sk-72f3e7a1-7e52-4811-b2b7-00bcf7b042b7 div.sk-label-container {position: relative;z-index: 2;text-align: center;}#sk-72f3e7a1-7e52-4811-b2b7-00bcf7b042b7 div.sk-container {/* jupyter's `normalize.less` sets `[hidden] { display: none; }` but bootstrap.min.css set `[hidden] { display: none !important; }` so we also need the `!important` here to be able to override the default hidden behavior on the sphinx rendered scikit-learn.org. See: https://github.com/scikit-learn/scikit-learn/issues/21755 */display: inline-block !important;position: relative;}#sk-72f3e7a1-7e52-4811-b2b7-00bcf7b042b7 div.sk-text-repr-fallback {display: none;}</style><div id=\"sk-72f3e7a1-7e52-4811-b2b7-00bcf7b042b7\" class=\"sk-top-container\"><div class=\"sk-text-repr-fallback\"><pre>GridSearchCV(cv=5, estimator=RandomForestClassifier(), n_jobs=-1,\n",
       "             param_grid={&#x27;criterion&#x27;: [&#x27;gini&#x27;, &#x27;entropy&#x27;],\n",
       "                         &#x27;max_depth&#x27;: [5, 6, 7, 8],\n",
       "                         &#x27;max_features&#x27;: [&#x27;auto&#x27;, &#x27;sqrt&#x27;, &#x27;log2&#x27;],\n",
       "                         &#x27;n_estimators&#x27;: [100, 200, 300]},\n",
       "             scoring=&#x27;recall&#x27;)</pre><b>Please rerun this cell to show the HTML repr or trust the notebook.</b></div><div class=\"sk-container\" hidden><div class=\"sk-item sk-dashed-wrapped\"><div class=\"sk-label-container\"><div class=\"sk-label sk-toggleable\"><input class=\"sk-toggleable__control sk-hidden--visually\" id=\"435c5060-8ab3-431f-a8a9-4402ec0cf132\" type=\"checkbox\" ><label for=\"435c5060-8ab3-431f-a8a9-4402ec0cf132\" class=\"sk-toggleable__label sk-toggleable__label-arrow\">GridSearchCV</label><div class=\"sk-toggleable__content\"><pre>GridSearchCV(cv=5, estimator=RandomForestClassifier(), n_jobs=-1,\n",
       "             param_grid={&#x27;criterion&#x27;: [&#x27;gini&#x27;, &#x27;entropy&#x27;],\n",
       "                         &#x27;max_depth&#x27;: [5, 6, 7, 8],\n",
       "                         &#x27;max_features&#x27;: [&#x27;auto&#x27;, &#x27;sqrt&#x27;, &#x27;log2&#x27;],\n",
       "                         &#x27;n_estimators&#x27;: [100, 200, 300]},\n",
       "             scoring=&#x27;recall&#x27;)</pre></div></div></div><div class=\"sk-parallel\"><div class=\"sk-parallel-item\"><div class=\"sk-item\"><div class=\"sk-serial\"><div class=\"sk-item\"><div class=\"sk-estimator sk-toggleable\"><input class=\"sk-toggleable__control sk-hidden--visually\" id=\"d54e7781-1a00-433e-8f9f-4c52d8889b0a\" type=\"checkbox\" ><label for=\"d54e7781-1a00-433e-8f9f-4c52d8889b0a\" class=\"sk-toggleable__label sk-toggleable__label-arrow\">RandomForestClassifier</label><div class=\"sk-toggleable__content\"><pre>RandomForestClassifier()</pre></div></div></div></div></div></div></div></div></div></div>"
      ],
      "text/plain": [
       "GridSearchCV(cv=5, estimator=RandomForestClassifier(), n_jobs=-1,\n",
       "             param_grid={'criterion': ['gini', 'entropy'],\n",
       "                         'max_depth': [5, 6, 7, 8],\n",
       "                         'max_features': ['auto', 'sqrt', 'log2'],\n",
       "                         'n_estimators': [100, 200, 300]},\n",
       "             scoring='recall')"
      ]
     },
     "execution_count": 268,
     "metadata": {},
     "output_type": "execute_result"
    }
   ],
   "source": [
    "from sklearn.ensemble import RandomForestClassifier\n",
    "\n",
    "rfc=RandomForestClassifier()\n",
    "\n",
    "parameters = {'n_estimators': [100, 200, 300],\n",
    "              'max_features': ['auto', 'sqrt', 'log2'],\n",
    "              'max_depth' : [5,6,7,8],\n",
    "              'criterion' :['gini', 'entropy']}\n",
    "\n",
    "gridsearch6 = GridSearchCV(rfc, parameters, cv= 5, n_jobs=-1, scoring=\"recall\")\n",
    "gridsearch6.fit(X_train, y_train)"
   ]
  },
  {
   "cell_type": "code",
   "execution_count": 269,
   "id": "02aac118",
   "metadata": {},
   "outputs": [
    {
     "data": {
      "text/plain": [
       "{'criterion': 'entropy',\n",
       " 'max_depth': 8,\n",
       " 'max_features': 'sqrt',\n",
       " 'n_estimators': 100}"
      ]
     },
     "execution_count": 269,
     "metadata": {},
     "output_type": "execute_result"
    }
   ],
   "source": [
    "gridsearch6.best_params_"
   ]
  },
  {
   "cell_type": "code",
   "execution_count": 270,
   "id": "d3f5be21",
   "metadata": {},
   "outputs": [
    {
     "data": {
      "text/plain": [
       "0.7483333333333333"
      ]
     },
     "execution_count": 270,
     "metadata": {},
     "output_type": "execute_result"
    }
   ],
   "source": [
    "gridsearch6.best_score_"
   ]
  },
  {
   "cell_type": "code",
   "execution_count": 271,
   "id": "950ffdc5",
   "metadata": {
    "scrolled": true
   },
   "outputs": [
    {
     "data": {
      "text/html": [
       "<style>#sk-b16e8b25-ac26-423a-99be-168eec257dd9 {color: black;background-color: white;}#sk-b16e8b25-ac26-423a-99be-168eec257dd9 pre{padding: 0;}#sk-b16e8b25-ac26-423a-99be-168eec257dd9 div.sk-toggleable {background-color: white;}#sk-b16e8b25-ac26-423a-99be-168eec257dd9 label.sk-toggleable__label {cursor: pointer;display: block;width: 100%;margin-bottom: 0;padding: 0.3em;box-sizing: border-box;text-align: center;}#sk-b16e8b25-ac26-423a-99be-168eec257dd9 label.sk-toggleable__label-arrow:before {content: \"▸\";float: left;margin-right: 0.25em;color: #696969;}#sk-b16e8b25-ac26-423a-99be-168eec257dd9 label.sk-toggleable__label-arrow:hover:before {color: black;}#sk-b16e8b25-ac26-423a-99be-168eec257dd9 div.sk-estimator:hover label.sk-toggleable__label-arrow:before {color: black;}#sk-b16e8b25-ac26-423a-99be-168eec257dd9 div.sk-toggleable__content {max-height: 0;max-width: 0;overflow: hidden;text-align: left;background-color: #f0f8ff;}#sk-b16e8b25-ac26-423a-99be-168eec257dd9 div.sk-toggleable__content pre {margin: 0.2em;color: black;border-radius: 0.25em;background-color: #f0f8ff;}#sk-b16e8b25-ac26-423a-99be-168eec257dd9 input.sk-toggleable__control:checked~div.sk-toggleable__content {max-height: 200px;max-width: 100%;overflow: auto;}#sk-b16e8b25-ac26-423a-99be-168eec257dd9 input.sk-toggleable__control:checked~label.sk-toggleable__label-arrow:before {content: \"▾\";}#sk-b16e8b25-ac26-423a-99be-168eec257dd9 div.sk-estimator input.sk-toggleable__control:checked~label.sk-toggleable__label {background-color: #d4ebff;}#sk-b16e8b25-ac26-423a-99be-168eec257dd9 div.sk-label input.sk-toggleable__control:checked~label.sk-toggleable__label {background-color: #d4ebff;}#sk-b16e8b25-ac26-423a-99be-168eec257dd9 input.sk-hidden--visually {border: 0;clip: rect(1px 1px 1px 1px);clip: rect(1px, 1px, 1px, 1px);height: 1px;margin: -1px;overflow: hidden;padding: 0;position: absolute;width: 1px;}#sk-b16e8b25-ac26-423a-99be-168eec257dd9 div.sk-estimator {font-family: monospace;background-color: #f0f8ff;border: 1px dotted black;border-radius: 0.25em;box-sizing: border-box;margin-bottom: 0.5em;}#sk-b16e8b25-ac26-423a-99be-168eec257dd9 div.sk-estimator:hover {background-color: #d4ebff;}#sk-b16e8b25-ac26-423a-99be-168eec257dd9 div.sk-parallel-item::after {content: \"\";width: 100%;border-bottom: 1px solid gray;flex-grow: 1;}#sk-b16e8b25-ac26-423a-99be-168eec257dd9 div.sk-label:hover label.sk-toggleable__label {background-color: #d4ebff;}#sk-b16e8b25-ac26-423a-99be-168eec257dd9 div.sk-serial::before {content: \"\";position: absolute;border-left: 1px solid gray;box-sizing: border-box;top: 2em;bottom: 0;left: 50%;}#sk-b16e8b25-ac26-423a-99be-168eec257dd9 div.sk-serial {display: flex;flex-direction: column;align-items: center;background-color: white;padding-right: 0.2em;padding-left: 0.2em;}#sk-b16e8b25-ac26-423a-99be-168eec257dd9 div.sk-item {z-index: 1;}#sk-b16e8b25-ac26-423a-99be-168eec257dd9 div.sk-parallel {display: flex;align-items: stretch;justify-content: center;background-color: white;}#sk-b16e8b25-ac26-423a-99be-168eec257dd9 div.sk-parallel::before {content: \"\";position: absolute;border-left: 1px solid gray;box-sizing: border-box;top: 2em;bottom: 0;left: 50%;}#sk-b16e8b25-ac26-423a-99be-168eec257dd9 div.sk-parallel-item {display: flex;flex-direction: column;position: relative;background-color: white;}#sk-b16e8b25-ac26-423a-99be-168eec257dd9 div.sk-parallel-item:first-child::after {align-self: flex-end;width: 50%;}#sk-b16e8b25-ac26-423a-99be-168eec257dd9 div.sk-parallel-item:last-child::after {align-self: flex-start;width: 50%;}#sk-b16e8b25-ac26-423a-99be-168eec257dd9 div.sk-parallel-item:only-child::after {width: 0;}#sk-b16e8b25-ac26-423a-99be-168eec257dd9 div.sk-dashed-wrapped {border: 1px dashed gray;margin: 0 0.4em 0.5em 0.4em;box-sizing: border-box;padding-bottom: 0.4em;background-color: white;position: relative;}#sk-b16e8b25-ac26-423a-99be-168eec257dd9 div.sk-label label {font-family: monospace;font-weight: bold;background-color: white;display: inline-block;line-height: 1.2em;}#sk-b16e8b25-ac26-423a-99be-168eec257dd9 div.sk-label-container {position: relative;z-index: 2;text-align: center;}#sk-b16e8b25-ac26-423a-99be-168eec257dd9 div.sk-container {/* jupyter's `normalize.less` sets `[hidden] { display: none; }` but bootstrap.min.css set `[hidden] { display: none !important; }` so we also need the `!important` here to be able to override the default hidden behavior on the sphinx rendered scikit-learn.org. See: https://github.com/scikit-learn/scikit-learn/issues/21755 */display: inline-block !important;position: relative;}#sk-b16e8b25-ac26-423a-99be-168eec257dd9 div.sk-text-repr-fallback {display: none;}</style><div id=\"sk-b16e8b25-ac26-423a-99be-168eec257dd9\" class=\"sk-top-container\"><div class=\"sk-text-repr-fallback\"><pre>RandomForestClassifier(criterion=&#x27;entropy&#x27;, max_depth=8, max_features=&#x27;sqrt&#x27;)</pre><b>Please rerun this cell to show the HTML repr or trust the notebook.</b></div><div class=\"sk-container\" hidden><div class=\"sk-item\"><div class=\"sk-estimator sk-toggleable\"><input class=\"sk-toggleable__control sk-hidden--visually\" id=\"c3e20d87-bba2-4880-8af9-8bb7b7062ece\" type=\"checkbox\" checked><label for=\"c3e20d87-bba2-4880-8af9-8bb7b7062ece\" class=\"sk-toggleable__label sk-toggleable__label-arrow\">RandomForestClassifier</label><div class=\"sk-toggleable__content\"><pre>RandomForestClassifier(criterion=&#x27;entropy&#x27;, max_depth=8, max_features=&#x27;sqrt&#x27;)</pre></div></div></div></div></div>"
      ],
      "text/plain": [
       "RandomForestClassifier(criterion='entropy', max_depth=8, max_features='sqrt')"
      ]
     },
     "execution_count": 271,
     "metadata": {},
     "output_type": "execute_result"
    }
   ],
   "source": [
    "rfc_best = RandomForestClassifier(n_estimators= 100, max_features= 'sqrt', max_depth= 8, criterion= 'entropy')\n",
    "rfc_best.fit(X_train, y_train)"
   ]
  },
  {
   "cell_type": "code",
   "execution_count": 274,
   "id": "fc76e919",
   "metadata": {},
   "outputs": [],
   "source": [
    "y_pred6 = rfc_best.predict(X_test)"
   ]
  },
  {
   "cell_type": "code",
   "execution_count": 275,
   "id": "4596744e",
   "metadata": {
    "scrolled": true
   },
   "outputs": [
    {
     "data": {
      "text/plain": [
       "0.7954545454545454"
      ]
     },
     "execution_count": 275,
     "metadata": {},
     "output_type": "execute_result"
    }
   ],
   "source": [
    "recall_score(y_test, y_pred6)"
   ]
  },
  {
   "cell_type": "markdown",
   "id": "3495f585",
   "metadata": {},
   "source": [
    "We have that the best estimator is the SVC with rbf kernel. We are going to evaluate our model now in the OASIS1 dataset and viceversa."
   ]
  },
  {
   "cell_type": "code",
   "execution_count": null,
   "id": "a77029a4",
   "metadata": {},
   "outputs": [],
   "source": [
    "frames=[oasis2_scaled, y]\n",
    "oasis2 = pd.concat(frames, axis =1)\n",
    "oasis2.to_csv(r'~/code/mkvph0ch/memobrain/notebooks/oasis2.csv')"
   ]
  },
  {
   "cell_type": "code",
   "execution_count": 277,
   "id": "cab09f95",
   "metadata": {
    "scrolled": true
   },
   "outputs": [
    {
     "data": {
      "text/html": [
       "<div>\n",
       "<style scoped>\n",
       "    .dataframe tbody tr th:only-of-type {\n",
       "        vertical-align: middle;\n",
       "    }\n",
       "\n",
       "    .dataframe tbody tr th {\n",
       "        vertical-align: top;\n",
       "    }\n",
       "\n",
       "    .dataframe thead th {\n",
       "        text-align: right;\n",
       "    }\n",
       "</style>\n",
       "<table border=\"1\" class=\"dataframe\">\n",
       "  <thead>\n",
       "    <tr style=\"text-align: right;\">\n",
       "      <th></th>\n",
       "      <th>M/F</th>\n",
       "      <th>Age</th>\n",
       "      <th>Educ</th>\n",
       "      <th>SES</th>\n",
       "      <th>MMSE</th>\n",
       "      <th>eTIV</th>\n",
       "      <th>nWBV</th>\n",
       "      <th>ASF</th>\n",
       "      <th>CDR</th>\n",
       "    </tr>\n",
       "  </thead>\n",
       "  <tbody>\n",
       "    <tr>\n",
       "      <th>0</th>\n",
       "      <td>0</td>\n",
       "      <td>0.137193</td>\n",
       "      <td>0.25</td>\n",
       "      <td>3</td>\n",
       "      <td>0.00</td>\n",
       "      <td>-0.515</td>\n",
       "      <td>0.743</td>\n",
       "      <td>1.306</td>\n",
       "      <td>0</td>\n",
       "    </tr>\n",
       "    <tr>\n",
       "      <th>1</th>\n",
       "      <td>0</td>\n",
       "      <td>-1.437530</td>\n",
       "      <td>0.75</td>\n",
       "      <td>1</td>\n",
       "      <td>0.00</td>\n",
       "      <td>-1.500</td>\n",
       "      <td>0.810</td>\n",
       "      <td>1.531</td>\n",
       "      <td>0</td>\n",
       "    </tr>\n",
       "    <tr>\n",
       "      <th>2</th>\n",
       "      <td>0</td>\n",
       "      <td>0.054313</td>\n",
       "      <td>0.75</td>\n",
       "      <td>3</td>\n",
       "      <td>-0.50</td>\n",
       "      <td>0.035</td>\n",
       "      <td>0.708</td>\n",
       "      <td>1.207</td>\n",
       "      <td>1</td>\n",
       "    </tr>\n",
       "    <tr>\n",
       "      <th>3</th>\n",
       "      <td>1</td>\n",
       "      <td>0.137193</td>\n",
       "      <td>1.00</td>\n",
       "      <td>2</td>\n",
       "      <td>0.25</td>\n",
       "      <td>0.945</td>\n",
       "      <td>0.689</td>\n",
       "      <td>1.073</td>\n",
       "      <td>0</td>\n",
       "    </tr>\n",
       "    <tr>\n",
       "      <th>4</th>\n",
       "      <td>0</td>\n",
       "      <td>-1.686170</td>\n",
       "      <td>0.50</td>\n",
       "      <td>2</td>\n",
       "      <td>0.25</td>\n",
       "      <td>-0.630</td>\n",
       "      <td>0.827</td>\n",
       "      <td>1.329</td>\n",
       "      <td>0</td>\n",
       "    </tr>\n",
       "    <tr>\n",
       "      <th>...</th>\n",
       "      <td>...</td>\n",
       "      <td>...</td>\n",
       "      <td>...</td>\n",
       "      <td>...</td>\n",
       "      <td>...</td>\n",
       "      <td>...</td>\n",
       "      <td>...</td>\n",
       "      <td>...</td>\n",
       "      <td>...</td>\n",
       "    </tr>\n",
       "    <tr>\n",
       "      <th>230</th>\n",
       "      <td>0</td>\n",
       "      <td>-0.194328</td>\n",
       "      <td>0.00</td>\n",
       "      <td>4</td>\n",
       "      <td>0.00</td>\n",
       "      <td>-0.760</td>\n",
       "      <td>0.748</td>\n",
       "      <td>1.355</td>\n",
       "      <td>1</td>\n",
       "    </tr>\n",
       "    <tr>\n",
       "      <th>231</th>\n",
       "      <td>0</td>\n",
       "      <td>0.054313</td>\n",
       "      <td>0.50</td>\n",
       "      <td>2</td>\n",
       "      <td>-1.50</td>\n",
       "      <td>0.445</td>\n",
       "      <td>0.730</td>\n",
       "      <td>1.142</td>\n",
       "      <td>1</td>\n",
       "    </tr>\n",
       "    <tr>\n",
       "      <th>232</th>\n",
       "      <td>0</td>\n",
       "      <td>-0.940249</td>\n",
       "      <td>0.25</td>\n",
       "      <td>4</td>\n",
       "      <td>-0.25</td>\n",
       "      <td>-0.465</td>\n",
       "      <td>0.825</td>\n",
       "      <td>1.297</td>\n",
       "      <td>0</td>\n",
       "    </tr>\n",
       "    <tr>\n",
       "      <th>233</th>\n",
       "      <td>1</td>\n",
       "      <td>-0.940249</td>\n",
       "      <td>1.00</td>\n",
       "      <td>2</td>\n",
       "      <td>0.25</td>\n",
       "      <td>0.950</td>\n",
       "      <td>0.780</td>\n",
       "      <td>1.072</td>\n",
       "      <td>0</td>\n",
       "    </tr>\n",
       "    <tr>\n",
       "      <th>234</th>\n",
       "      <td>0</td>\n",
       "      <td>-0.857369</td>\n",
       "      <td>0.50</td>\n",
       "      <td>3</td>\n",
       "      <td>-0.75</td>\n",
       "      <td>-0.375</td>\n",
       "      <td>0.766</td>\n",
       "      <td>1.279</td>\n",
       "      <td>0</td>\n",
       "    </tr>\n",
       "  </tbody>\n",
       "</table>\n",
       "<p>235 rows × 9 columns</p>\n",
       "</div>"
      ],
      "text/plain": [
       "     M/F       Age  Educ  SES  MMSE   eTIV   nWBV    ASF  CDR\n",
       "0      0  0.137193  0.25    3  0.00 -0.515  0.743  1.306    0\n",
       "1      0 -1.437530  0.75    1  0.00 -1.500  0.810  1.531    0\n",
       "2      0  0.054313  0.75    3 -0.50  0.035  0.708  1.207    1\n",
       "3      1  0.137193  1.00    2  0.25  0.945  0.689  1.073    0\n",
       "4      0 -1.686170  0.50    2  0.25 -0.630  0.827  1.329    0\n",
       "..   ...       ...   ...  ...   ...    ...    ...    ...  ...\n",
       "230    0 -0.194328  0.00    4  0.00 -0.760  0.748  1.355    1\n",
       "231    0  0.054313  0.50    2 -1.50  0.445  0.730  1.142    1\n",
       "232    0 -0.940249  0.25    4 -0.25 -0.465  0.825  1.297    0\n",
       "233    1 -0.940249  1.00    2  0.25  0.950  0.780  1.072    0\n",
       "234    0 -0.857369  0.50    3 -0.75 -0.375  0.766  1.279    0\n",
       "\n",
       "[235 rows x 9 columns]"
      ]
     },
     "execution_count": 277,
     "metadata": {},
     "output_type": "execute_result"
    }
   ],
   "source": [
    "oasis1 = pd.read_csv(\"~/code/mkvph0ch/memobrain/raw_data/OASIS1/preprocessed_oasis1.csv\")\n",
    "oasis1"
   ]
  },
  {
   "cell_type": "code",
   "execution_count": 278,
   "id": "dce4b353",
   "metadata": {},
   "outputs": [],
   "source": [
    "X1=oasis1.drop(columns=['CDR'])\n",
    "y1=oasis1['CDR']"
   ]
  },
  {
   "cell_type": "code",
   "execution_count": 279,
   "id": "6cfe9ac9",
   "metadata": {},
   "outputs": [],
   "source": [
    "X_train1, X_test1, y_train1, y_test1 = train_test_split(X1, y1, test_size=0.25, random_state=42)"
   ]
  },
  {
   "cell_type": "code",
   "execution_count": 280,
   "id": "950677af",
   "metadata": {},
   "outputs": [
    {
     "data": {
      "text/html": [
       "<style>#sk-99d85218-886a-485f-88d9-2fc82c48b70e {color: black;background-color: white;}#sk-99d85218-886a-485f-88d9-2fc82c48b70e pre{padding: 0;}#sk-99d85218-886a-485f-88d9-2fc82c48b70e div.sk-toggleable {background-color: white;}#sk-99d85218-886a-485f-88d9-2fc82c48b70e label.sk-toggleable__label {cursor: pointer;display: block;width: 100%;margin-bottom: 0;padding: 0.3em;box-sizing: border-box;text-align: center;}#sk-99d85218-886a-485f-88d9-2fc82c48b70e label.sk-toggleable__label-arrow:before {content: \"▸\";float: left;margin-right: 0.25em;color: #696969;}#sk-99d85218-886a-485f-88d9-2fc82c48b70e label.sk-toggleable__label-arrow:hover:before {color: black;}#sk-99d85218-886a-485f-88d9-2fc82c48b70e div.sk-estimator:hover label.sk-toggleable__label-arrow:before {color: black;}#sk-99d85218-886a-485f-88d9-2fc82c48b70e div.sk-toggleable__content {max-height: 0;max-width: 0;overflow: hidden;text-align: left;background-color: #f0f8ff;}#sk-99d85218-886a-485f-88d9-2fc82c48b70e div.sk-toggleable__content pre {margin: 0.2em;color: black;border-radius: 0.25em;background-color: #f0f8ff;}#sk-99d85218-886a-485f-88d9-2fc82c48b70e input.sk-toggleable__control:checked~div.sk-toggleable__content {max-height: 200px;max-width: 100%;overflow: auto;}#sk-99d85218-886a-485f-88d9-2fc82c48b70e input.sk-toggleable__control:checked~label.sk-toggleable__label-arrow:before {content: \"▾\";}#sk-99d85218-886a-485f-88d9-2fc82c48b70e div.sk-estimator input.sk-toggleable__control:checked~label.sk-toggleable__label {background-color: #d4ebff;}#sk-99d85218-886a-485f-88d9-2fc82c48b70e div.sk-label input.sk-toggleable__control:checked~label.sk-toggleable__label {background-color: #d4ebff;}#sk-99d85218-886a-485f-88d9-2fc82c48b70e input.sk-hidden--visually {border: 0;clip: rect(1px 1px 1px 1px);clip: rect(1px, 1px, 1px, 1px);height: 1px;margin: -1px;overflow: hidden;padding: 0;position: absolute;width: 1px;}#sk-99d85218-886a-485f-88d9-2fc82c48b70e div.sk-estimator {font-family: monospace;background-color: #f0f8ff;border: 1px dotted black;border-radius: 0.25em;box-sizing: border-box;margin-bottom: 0.5em;}#sk-99d85218-886a-485f-88d9-2fc82c48b70e div.sk-estimator:hover {background-color: #d4ebff;}#sk-99d85218-886a-485f-88d9-2fc82c48b70e div.sk-parallel-item::after {content: \"\";width: 100%;border-bottom: 1px solid gray;flex-grow: 1;}#sk-99d85218-886a-485f-88d9-2fc82c48b70e div.sk-label:hover label.sk-toggleable__label {background-color: #d4ebff;}#sk-99d85218-886a-485f-88d9-2fc82c48b70e div.sk-serial::before {content: \"\";position: absolute;border-left: 1px solid gray;box-sizing: border-box;top: 2em;bottom: 0;left: 50%;}#sk-99d85218-886a-485f-88d9-2fc82c48b70e div.sk-serial {display: flex;flex-direction: column;align-items: center;background-color: white;padding-right: 0.2em;padding-left: 0.2em;}#sk-99d85218-886a-485f-88d9-2fc82c48b70e div.sk-item {z-index: 1;}#sk-99d85218-886a-485f-88d9-2fc82c48b70e div.sk-parallel {display: flex;align-items: stretch;justify-content: center;background-color: white;}#sk-99d85218-886a-485f-88d9-2fc82c48b70e div.sk-parallel::before {content: \"\";position: absolute;border-left: 1px solid gray;box-sizing: border-box;top: 2em;bottom: 0;left: 50%;}#sk-99d85218-886a-485f-88d9-2fc82c48b70e div.sk-parallel-item {display: flex;flex-direction: column;position: relative;background-color: white;}#sk-99d85218-886a-485f-88d9-2fc82c48b70e div.sk-parallel-item:first-child::after {align-self: flex-end;width: 50%;}#sk-99d85218-886a-485f-88d9-2fc82c48b70e div.sk-parallel-item:last-child::after {align-self: flex-start;width: 50%;}#sk-99d85218-886a-485f-88d9-2fc82c48b70e div.sk-parallel-item:only-child::after {width: 0;}#sk-99d85218-886a-485f-88d9-2fc82c48b70e div.sk-dashed-wrapped {border: 1px dashed gray;margin: 0 0.4em 0.5em 0.4em;box-sizing: border-box;padding-bottom: 0.4em;background-color: white;position: relative;}#sk-99d85218-886a-485f-88d9-2fc82c48b70e div.sk-label label {font-family: monospace;font-weight: bold;background-color: white;display: inline-block;line-height: 1.2em;}#sk-99d85218-886a-485f-88d9-2fc82c48b70e div.sk-label-container {position: relative;z-index: 2;text-align: center;}#sk-99d85218-886a-485f-88d9-2fc82c48b70e div.sk-container {/* jupyter's `normalize.less` sets `[hidden] { display: none; }` but bootstrap.min.css set `[hidden] { display: none !important; }` so we also need the `!important` here to be able to override the default hidden behavior on the sphinx rendered scikit-learn.org. See: https://github.com/scikit-learn/scikit-learn/issues/21755 */display: inline-block !important;position: relative;}#sk-99d85218-886a-485f-88d9-2fc82c48b70e div.sk-text-repr-fallback {display: none;}</style><div id=\"sk-99d85218-886a-485f-88d9-2fc82c48b70e\" class=\"sk-top-container\"><div class=\"sk-text-repr-fallback\"><pre>SVC(C=5000, gamma=0.5)</pre><b>Please rerun this cell to show the HTML repr or trust the notebook.</b></div><div class=\"sk-container\" hidden><div class=\"sk-item\"><div class=\"sk-estimator sk-toggleable\"><input class=\"sk-toggleable__control sk-hidden--visually\" id=\"c809a146-45de-4037-b672-f80fde17908b\" type=\"checkbox\" checked><label for=\"c809a146-45de-4037-b672-f80fde17908b\" class=\"sk-toggleable__label sk-toggleable__label-arrow\">SVC</label><div class=\"sk-toggleable__content\"><pre>SVC(C=5000, gamma=0.5)</pre></div></div></div></div></div>"
      ],
      "text/plain": [
       "SVC(C=5000, gamma=0.5)"
      ]
     },
     "execution_count": 280,
     "metadata": {},
     "output_type": "execute_result"
    }
   ],
   "source": [
    "model_svc_rbf_best = SVC(kernel=\"rbf\", C= 5000, gamma=0.5)\n",
    "model_svc_rbf_best.fit(X_train, y_train)"
   ]
  },
  {
   "cell_type": "code",
   "execution_count": 281,
   "id": "21cd2921",
   "metadata": {},
   "outputs": [],
   "source": [
    "y_pred_oasis1 = model_svc_rbf_best.predict(X_test1)"
   ]
  },
  {
   "cell_type": "code",
   "execution_count": 282,
   "id": "0f023f02",
   "metadata": {},
   "outputs": [
    {
     "data": {
      "text/plain": [
       "0.7391304347826086"
      ]
     },
     "execution_count": 282,
     "metadata": {},
     "output_type": "execute_result"
    }
   ],
   "source": [
    "recall_score(y_test1, y_pred_oasis1)"
   ]
  }
 ],
 "metadata": {
  "kernelspec": {
   "display_name": "Python 3 (ipykernel)",
   "language": "python",
   "name": "python3"
  },
  "language_info": {
   "codemirror_mode": {
    "name": "ipython",
    "version": 3
   },
   "file_extension": ".py",
   "mimetype": "text/x-python",
   "name": "python",
   "nbconvert_exporter": "python",
   "pygments_lexer": "ipython3",
   "version": "3.8.12"
  },
  "toc": {
   "base_numbering": 1,
   "nav_menu": {},
   "number_sections": true,
   "sideBar": true,
   "skip_h1_title": false,
   "title_cell": "Table of Contents",
   "title_sidebar": "Contents",
   "toc_cell": false,
   "toc_position": {},
   "toc_section_display": true,
   "toc_window_display": false
  }
 },
 "nbformat": 4,
 "nbformat_minor": 5
}
