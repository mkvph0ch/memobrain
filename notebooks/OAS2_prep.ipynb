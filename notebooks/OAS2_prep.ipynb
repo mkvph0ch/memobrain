{
 "cells": [
  {
   "cell_type": "markdown",
   "id": "7b25cfef",
   "metadata": {},
   "source": [
    "### Importing the  OASIS 2 Dataset: Longitudinal Demographics"
   ]
  },
  {
   "cell_type": "code",
   "execution_count": 18,
   "id": "60f98a29",
   "metadata": {
    "scrolled": false
   },
   "outputs": [
    {
     "data": {
      "text/html": [
       "<div>\n",
       "<style scoped>\n",
       "    .dataframe tbody tr th:only-of-type {\n",
       "        vertical-align: middle;\n",
       "    }\n",
       "\n",
       "    .dataframe tbody tr th {\n",
       "        vertical-align: top;\n",
       "    }\n",
       "\n",
       "    .dataframe thead th {\n",
       "        text-align: right;\n",
       "    }\n",
       "</style>\n",
       "<table border=\"1\" class=\"dataframe\">\n",
       "  <thead>\n",
       "    <tr style=\"text-align: right;\">\n",
       "      <th></th>\n",
       "      <th>Subject ID</th>\n",
       "      <th>MRI ID</th>\n",
       "      <th>Group</th>\n",
       "      <th>Visit</th>\n",
       "      <th>MR Delay</th>\n",
       "      <th>M/F</th>\n",
       "      <th>Hand</th>\n",
       "      <th>Age</th>\n",
       "      <th>EDUC</th>\n",
       "      <th>SES</th>\n",
       "      <th>MMSE</th>\n",
       "      <th>CDR</th>\n",
       "      <th>eTIV</th>\n",
       "      <th>nWBV</th>\n",
       "      <th>ASF</th>\n",
       "    </tr>\n",
       "  </thead>\n",
       "  <tbody>\n",
       "    <tr>\n",
       "      <th>0</th>\n",
       "      <td>OAS2_0001</td>\n",
       "      <td>OAS2_0001_MR1</td>\n",
       "      <td>Nondemented</td>\n",
       "      <td>1</td>\n",
       "      <td>0</td>\n",
       "      <td>M</td>\n",
       "      <td>R</td>\n",
       "      <td>87</td>\n",
       "      <td>14</td>\n",
       "      <td>2.0</td>\n",
       "      <td>27.0</td>\n",
       "      <td>0.0</td>\n",
       "      <td>1987</td>\n",
       "      <td>0.696</td>\n",
       "      <td>0.883</td>\n",
       "    </tr>\n",
       "    <tr>\n",
       "      <th>1</th>\n",
       "      <td>OAS2_0001</td>\n",
       "      <td>OAS2_0001_MR2</td>\n",
       "      <td>Nondemented</td>\n",
       "      <td>2</td>\n",
       "      <td>457</td>\n",
       "      <td>M</td>\n",
       "      <td>R</td>\n",
       "      <td>88</td>\n",
       "      <td>14</td>\n",
       "      <td>2.0</td>\n",
       "      <td>30.0</td>\n",
       "      <td>0.0</td>\n",
       "      <td>2004</td>\n",
       "      <td>0.681</td>\n",
       "      <td>0.876</td>\n",
       "    </tr>\n",
       "    <tr>\n",
       "      <th>2</th>\n",
       "      <td>OAS2_0002</td>\n",
       "      <td>OAS2_0002_MR1</td>\n",
       "      <td>Demented</td>\n",
       "      <td>1</td>\n",
       "      <td>0</td>\n",
       "      <td>M</td>\n",
       "      <td>R</td>\n",
       "      <td>75</td>\n",
       "      <td>12</td>\n",
       "      <td>NaN</td>\n",
       "      <td>23.0</td>\n",
       "      <td>0.5</td>\n",
       "      <td>1678</td>\n",
       "      <td>0.736</td>\n",
       "      <td>1.046</td>\n",
       "    </tr>\n",
       "    <tr>\n",
       "      <th>3</th>\n",
       "      <td>OAS2_0002</td>\n",
       "      <td>OAS2_0002_MR2</td>\n",
       "      <td>Demented</td>\n",
       "      <td>2</td>\n",
       "      <td>560</td>\n",
       "      <td>M</td>\n",
       "      <td>R</td>\n",
       "      <td>76</td>\n",
       "      <td>12</td>\n",
       "      <td>NaN</td>\n",
       "      <td>28.0</td>\n",
       "      <td>0.5</td>\n",
       "      <td>1738</td>\n",
       "      <td>0.713</td>\n",
       "      <td>1.010</td>\n",
       "    </tr>\n",
       "    <tr>\n",
       "      <th>4</th>\n",
       "      <td>OAS2_0002</td>\n",
       "      <td>OAS2_0002_MR3</td>\n",
       "      <td>Demented</td>\n",
       "      <td>3</td>\n",
       "      <td>1895</td>\n",
       "      <td>M</td>\n",
       "      <td>R</td>\n",
       "      <td>80</td>\n",
       "      <td>12</td>\n",
       "      <td>NaN</td>\n",
       "      <td>22.0</td>\n",
       "      <td>0.5</td>\n",
       "      <td>1698</td>\n",
       "      <td>0.701</td>\n",
       "      <td>1.034</td>\n",
       "    </tr>\n",
       "    <tr>\n",
       "      <th>5</th>\n",
       "      <td>OAS2_0004</td>\n",
       "      <td>OAS2_0004_MR1</td>\n",
       "      <td>Nondemented</td>\n",
       "      <td>1</td>\n",
       "      <td>0</td>\n",
       "      <td>F</td>\n",
       "      <td>R</td>\n",
       "      <td>88</td>\n",
       "      <td>18</td>\n",
       "      <td>3.0</td>\n",
       "      <td>28.0</td>\n",
       "      <td>0.0</td>\n",
       "      <td>1215</td>\n",
       "      <td>0.710</td>\n",
       "      <td>1.444</td>\n",
       "    </tr>\n",
       "    <tr>\n",
       "      <th>6</th>\n",
       "      <td>OAS2_0004</td>\n",
       "      <td>OAS2_0004_MR2</td>\n",
       "      <td>Nondemented</td>\n",
       "      <td>2</td>\n",
       "      <td>538</td>\n",
       "      <td>F</td>\n",
       "      <td>R</td>\n",
       "      <td>90</td>\n",
       "      <td>18</td>\n",
       "      <td>3.0</td>\n",
       "      <td>27.0</td>\n",
       "      <td>0.0</td>\n",
       "      <td>1200</td>\n",
       "      <td>0.718</td>\n",
       "      <td>1.462</td>\n",
       "    </tr>\n",
       "    <tr>\n",
       "      <th>7</th>\n",
       "      <td>OAS2_0005</td>\n",
       "      <td>OAS2_0005_MR1</td>\n",
       "      <td>Nondemented</td>\n",
       "      <td>1</td>\n",
       "      <td>0</td>\n",
       "      <td>M</td>\n",
       "      <td>R</td>\n",
       "      <td>80</td>\n",
       "      <td>12</td>\n",
       "      <td>4.0</td>\n",
       "      <td>28.0</td>\n",
       "      <td>0.0</td>\n",
       "      <td>1689</td>\n",
       "      <td>0.712</td>\n",
       "      <td>1.039</td>\n",
       "    </tr>\n",
       "    <tr>\n",
       "      <th>8</th>\n",
       "      <td>OAS2_0005</td>\n",
       "      <td>OAS2_0005_MR2</td>\n",
       "      <td>Nondemented</td>\n",
       "      <td>2</td>\n",
       "      <td>1010</td>\n",
       "      <td>M</td>\n",
       "      <td>R</td>\n",
       "      <td>83</td>\n",
       "      <td>12</td>\n",
       "      <td>4.0</td>\n",
       "      <td>29.0</td>\n",
       "      <td>0.5</td>\n",
       "      <td>1701</td>\n",
       "      <td>0.711</td>\n",
       "      <td>1.032</td>\n",
       "    </tr>\n",
       "    <tr>\n",
       "      <th>9</th>\n",
       "      <td>OAS2_0005</td>\n",
       "      <td>OAS2_0005_MR3</td>\n",
       "      <td>Nondemented</td>\n",
       "      <td>3</td>\n",
       "      <td>1603</td>\n",
       "      <td>M</td>\n",
       "      <td>R</td>\n",
       "      <td>85</td>\n",
       "      <td>12</td>\n",
       "      <td>4.0</td>\n",
       "      <td>30.0</td>\n",
       "      <td>0.0</td>\n",
       "      <td>1699</td>\n",
       "      <td>0.705</td>\n",
       "      <td>1.033</td>\n",
       "    </tr>\n",
       "  </tbody>\n",
       "</table>\n",
       "</div>"
      ],
      "text/plain": [
       "  Subject ID         MRI ID        Group  Visit  MR Delay M/F Hand  Age  EDUC  \\\n",
       "0  OAS2_0001  OAS2_0001_MR1  Nondemented      1         0   M    R   87    14   \n",
       "1  OAS2_0001  OAS2_0001_MR2  Nondemented      2       457   M    R   88    14   \n",
       "2  OAS2_0002  OAS2_0002_MR1     Demented      1         0   M    R   75    12   \n",
       "3  OAS2_0002  OAS2_0002_MR2     Demented      2       560   M    R   76    12   \n",
       "4  OAS2_0002  OAS2_0002_MR3     Demented      3      1895   M    R   80    12   \n",
       "5  OAS2_0004  OAS2_0004_MR1  Nondemented      1         0   F    R   88    18   \n",
       "6  OAS2_0004  OAS2_0004_MR2  Nondemented      2       538   F    R   90    18   \n",
       "7  OAS2_0005  OAS2_0005_MR1  Nondemented      1         0   M    R   80    12   \n",
       "8  OAS2_0005  OAS2_0005_MR2  Nondemented      2      1010   M    R   83    12   \n",
       "9  OAS2_0005  OAS2_0005_MR3  Nondemented      3      1603   M    R   85    12   \n",
       "\n",
       "   SES  MMSE  CDR  eTIV   nWBV    ASF  \n",
       "0  2.0  27.0  0.0  1987  0.696  0.883  \n",
       "1  2.0  30.0  0.0  2004  0.681  0.876  \n",
       "2  NaN  23.0  0.5  1678  0.736  1.046  \n",
       "3  NaN  28.0  0.5  1738  0.713  1.010  \n",
       "4  NaN  22.0  0.5  1698  0.701  1.034  \n",
       "5  3.0  28.0  0.0  1215  0.710  1.444  \n",
       "6  3.0  27.0  0.0  1200  0.718  1.462  \n",
       "7  4.0  28.0  0.0  1689  0.712  1.039  \n",
       "8  4.0  29.0  0.5  1701  0.711  1.032  \n",
       "9  4.0  30.0  0.0  1699  0.705  1.033  "
      ]
     },
     "execution_count": 18,
     "metadata": {},
     "output_type": "execute_result"
    }
   ],
   "source": [
    "import pandas as pd\n",
    "\n",
    "data = pd.read_csv(\"~/code/mkvph0ch/memobrain/raw_data/OASIS2/oasis_longitudinal_demographics.csv\")\n",
    "\n",
    "data[:10]"
   ]
  },
  {
   "cell_type": "markdown",
   "id": "99db5bb4",
   "metadata": {},
   "source": [
    "### Data cleaning\n",
    "We check if there are any missing values in the dataset:"
   ]
  },
  {
   "cell_type": "code",
   "execution_count": 2,
   "id": "eb424825",
   "metadata": {},
   "outputs": [
    {
     "data": {
      "text/plain": [
       "Subject ID     0\n",
       "MRI ID         0\n",
       "Group          0\n",
       "Visit          0\n",
       "MR Delay       0\n",
       "M/F            0\n",
       "Hand           0\n",
       "Age            0\n",
       "EDUC           0\n",
       "SES           19\n",
       "MMSE           2\n",
       "CDR            0\n",
       "eTIV           0\n",
       "nWBV           0\n",
       "ASF            0\n",
       "dtype: int64"
      ]
     },
     "execution_count": 2,
     "metadata": {},
     "output_type": "execute_result"
    }
   ],
   "source": [
    "data.isnull().sum()"
   ]
  },
  {
   "cell_type": "markdown",
   "id": "0af801c7",
   "metadata": {},
   "source": [
    "We create the prep_data function, that drops unneeded columns:\n",
    "- 'MR Delay', 'Group' and 'Visit' (this information does not apply to the analysis)\n",
    "- 'Hand' (all patients are right handed)\n",
    "- 'Subject ID', 'MRI ID' (they are just identification strings)\n",
    "\n",
    "It splits the dataset into X and y. The target column 'CDR' is transformed into a binary class, giving the value of 0 to Non Demented and 1 to Demented (some level)."
   ]
  },
  {
   "cell_type": "code",
   "execution_count": 3,
   "id": "4ae8b7ab",
   "metadata": {},
   "outputs": [],
   "source": [
    "def prep_data(data):\n",
    "    X=data.drop(columns=['CDR', 'MR Delay', 'Subject ID', 'MRI ID', 'Group', 'Visit', 'Hand'])\n",
    "    y=data['CDR'].apply(lambda x: 1 if x>0 else 0)\n",
    "    X['SES'].fillna(value=X['SES'].median(), inplace=True)\n",
    "    X['MMSE'].fillna(value=X['MMSE'].median(), inplace=True)\n",
    "    return X, y"
   ]
  },
  {
   "cell_type": "code",
   "execution_count": 4,
   "id": "86ead5d2",
   "metadata": {},
   "outputs": [],
   "source": [
    "X, y= prep_data(data)"
   ]
  },
  {
   "cell_type": "code",
   "execution_count": 5,
   "id": "25dafbb7",
   "metadata": {},
   "outputs": [
    {
     "data": {
      "text/plain": [
       "M/F      object\n",
       "Age       int64\n",
       "EDUC      int64\n",
       "SES     float64\n",
       "MMSE    float64\n",
       "eTIV      int64\n",
       "nWBV    float64\n",
       "ASF     float64\n",
       "dtype: object"
      ]
     },
     "execution_count": 5,
     "metadata": {},
     "output_type": "execute_result"
    }
   ],
   "source": [
    "X.dtypes"
   ]
  },
  {
   "cell_type": "markdown",
   "id": "272c2192",
   "metadata": {},
   "source": [
    "EDUC: Level of Education (6 to 23)\n",
    "\n",
    "SES: Socioeconomic Status (1 to 5)\n",
    "\n",
    "MMSE: Mini-Mental State Examination (4 to 30)\n",
    "\n",
    "eTIV: Estimated total intracranial volume (mm3)\n",
    "\n",
    "nWBV: Normalized whole brain volume\n",
    "\n",
    "ASF: Atlas scaling factor"
   ]
  },
  {
   "cell_type": "code",
   "execution_count": 6,
   "id": "16c22bfa",
   "metadata": {
    "scrolled": true
   },
   "outputs": [
    {
     "data": {
      "text/plain": [
       "<AxesSubplot:>"
      ]
     },
     "execution_count": 6,
     "metadata": {},
     "output_type": "execute_result"
    },
    {
     "data": {
      "image/png": "[encoded data removed]",
      "text/plain": [
       "<Figure size 432x288 with 2 Axes>"
      ]
     },
     "metadata": {
      "needs_background": "light"
     },
     "output_type": "display_data"
    }
   ],
   "source": [
    "import seaborn as sns\n",
    "\n",
    "corr = X.corr()\n",
    "sns.heatmap(corr, \n",
    "        xticklabels=corr.columns,\n",
    "        yticklabels=corr.columns,\n",
    "        cmap= \"YlGnBu\")"
   ]
  },
  {
   "cell_type": "markdown",
   "id": "cc18e9d1",
   "metadata": {},
   "source": [
    "We can see that there is no important correlation in the actual features."
   ]
  },
  {
   "cell_type": "markdown",
   "id": "469fffad",
   "metadata": {},
   "source": [
    "### Pipeline\n",
    "We create a pipeline with all the transformations that will be applied to the data set, including imputing, scaling and encoding."
   ]
  },
  {
   "cell_type": "code",
   "execution_count": 7,
   "id": "b83c53e8",
   "metadata": {},
   "outputs": [],
   "source": [
    "from sklearn.compose import ColumnTransformer\n",
    "\n",
    "class CustomColumnTransformer(ColumnTransformer):\n",
    "    def transform(self, *args, **kwargs):\n",
    "        return pd.DataFrame(super().transform(*args, **kwargs), columns = self.get_feature_names_out())\n",
    "    def fit_transform(self, *args, **kwargs):\n",
    "        return pd.DataFrame(super().fit_transform(*args, **kwargs), columns = self.get_feature_names_out())"
   ]
  },
  {
   "cell_type": "code",
   "execution_count": 8,
   "id": "e9c32013",
   "metadata": {
    "scrolled": true
   },
   "outputs": [
    {
     "data": {
      "text/html": [
       "<style>#sk-1be0dae7-9b0b-4547-95c2-e02b6abdc42f {color: black;background-color: white;}#sk-1be0dae7-9b0b-4547-95c2-e02b6abdc42f pre{padding: 0;}#sk-1be0dae7-9b0b-4547-95c2-e02b6abdc42f div.sk-toggleable {background-color: white;}#sk-1be0dae7-9b0b-4547-95c2-e02b6abdc42f label.sk-toggleable__label {cursor: pointer;display: block;width: 100%;margin-bottom: 0;padding: 0.3em;box-sizing: border-box;text-align: center;}#sk-1be0dae7-9b0b-4547-95c2-e02b6abdc42f label.sk-toggleable__label-arrow:before {content: \"▸\";float: left;margin-right: 0.25em;color: #696969;}#sk-1be0dae7-9b0b-4547-95c2-e02b6abdc42f label.sk-toggleable__label-arrow:hover:before {color: black;}#sk-1be0dae7-9b0b-4547-95c2-e02b6abdc42f div.sk-estimator:hover label.sk-toggleable__label-arrow:before {color: black;}#sk-1be0dae7-9b0b-4547-95c2-e02b6abdc42f div.sk-toggleable__content {max-height: 0;max-width: 0;overflow: hidden;text-align: left;background-color: #f0f8ff;}#sk-1be0dae7-9b0b-4547-95c2-e02b6abdc42f div.sk-toggleable__content pre {margin: 0.2em;color: black;border-radius: 0.25em;background-color: #f0f8ff;}#sk-1be0dae7-9b0b-4547-95c2-e02b6abdc42f input.sk-toggleable__control:checked~div.sk-toggleable__content {max-height: 200px;max-width: 100%;overflow: auto;}#sk-1be0dae7-9b0b-4547-95c2-e02b6abdc42f input.sk-toggleable__control:checked~label.sk-toggleable__label-arrow:before {content: \"▾\";}#sk-1be0dae7-9b0b-4547-95c2-e02b6abdc42f div.sk-estimator input.sk-toggleable__control:checked~label.sk-toggleable__label {background-color: #d4ebff;}#sk-1be0dae7-9b0b-4547-95c2-e02b6abdc42f div.sk-label input.sk-toggleable__control:checked~label.sk-toggleable__label {background-color: #d4ebff;}#sk-1be0dae7-9b0b-4547-95c2-e02b6abdc42f input.sk-hidden--visually {border: 0;clip: rect(1px 1px 1px 1px);clip: rect(1px, 1px, 1px, 1px);height: 1px;margin: -1px;overflow: hidden;padding: 0;position: absolute;width: 1px;}#sk-1be0dae7-9b0b-4547-95c2-e02b6abdc42f div.sk-estimator {font-family: monospace;background-color: #f0f8ff;border: 1px dotted black;border-radius: 0.25em;box-sizing: border-box;margin-bottom: 0.5em;}#sk-1be0dae7-9b0b-4547-95c2-e02b6abdc42f div.sk-estimator:hover {background-color: #d4ebff;}#sk-1be0dae7-9b0b-4547-95c2-e02b6abdc42f div.sk-parallel-item::after {content: \"\";width: 100%;border-bottom: 1px solid gray;flex-grow: 1;}#sk-1be0dae7-9b0b-4547-95c2-e02b6abdc42f div.sk-label:hover label.sk-toggleable__label {background-color: #d4ebff;}#sk-1be0dae7-9b0b-4547-95c2-e02b6abdc42f div.sk-serial::before {content: \"\";position: absolute;border-left: 1px solid gray;box-sizing: border-box;top: 2em;bottom: 0;left: 50%;}#sk-1be0dae7-9b0b-4547-95c2-e02b6abdc42f div.sk-serial {display: flex;flex-direction: column;align-items: center;background-color: white;padding-right: 0.2em;padding-left: 0.2em;}#sk-1be0dae7-9b0b-4547-95c2-e02b6abdc42f div.sk-item {z-index: 1;}#sk-1be0dae7-9b0b-4547-95c2-e02b6abdc42f div.sk-parallel {display: flex;align-items: stretch;justify-content: center;background-color: white;}#sk-1be0dae7-9b0b-4547-95c2-e02b6abdc42f div.sk-parallel::before {content: \"\";position: absolute;border-left: 1px solid gray;box-sizing: border-box;top: 2em;bottom: 0;left: 50%;}#sk-1be0dae7-9b0b-4547-95c2-e02b6abdc42f div.sk-parallel-item {display: flex;flex-direction: column;position: relative;background-color: white;}#sk-1be0dae7-9b0b-4547-95c2-e02b6abdc42f div.sk-parallel-item:first-child::after {align-self: flex-end;width: 50%;}#sk-1be0dae7-9b0b-4547-95c2-e02b6abdc42f div.sk-parallel-item:last-child::after {align-self: flex-start;width: 50%;}#sk-1be0dae7-9b0b-4547-95c2-e02b6abdc42f div.sk-parallel-item:only-child::after {width: 0;}#sk-1be0dae7-9b0b-4547-95c2-e02b6abdc42f div.sk-dashed-wrapped {border: 1px dashed gray;margin: 0 0.4em 0.5em 0.4em;box-sizing: border-box;padding-bottom: 0.4em;background-color: white;position: relative;}#sk-1be0dae7-9b0b-4547-95c2-e02b6abdc42f div.sk-label label {font-family: monospace;font-weight: bold;background-color: white;display: inline-block;line-height: 1.2em;}#sk-1be0dae7-9b0b-4547-95c2-e02b6abdc42f div.sk-label-container {position: relative;z-index: 2;text-align: center;}#sk-1be0dae7-9b0b-4547-95c2-e02b6abdc42f div.sk-container {/* jupyter's `normalize.less` sets `[hidden] { display: none; }` but bootstrap.min.css set `[hidden] { display: none !important; }` so we also need the `!important` here to be able to override the default hidden behavior on the sphinx rendered scikit-learn.org. See: https://github.com/scikit-learn/scikit-learn/issues/21755 */display: inline-block !important;position: relative;}#sk-1be0dae7-9b0b-4547-95c2-e02b6abdc42f div.sk-text-repr-fallback {display: none;}</style><div id=\"sk-1be0dae7-9b0b-4547-95c2-e02b6abdc42f\" class=\"sk-top-container\"><div class=\"sk-text-repr-fallback\"><pre>CustomColumnTransformer(transformers=[(&#x27;num_transformer&#x27;,\n",
       "                                       CustomColumnTransformer(remainder=&#x27;passthrough&#x27;,\n",
       "                                                               transformers=[(&#x27;s_scaler&#x27;,\n",
       "                                                                              StandardScaler(),\n",
       "                                                                              [&#x27;Age&#x27;]),\n",
       "                                                                             (&#x27;m_scaler&#x27;,\n",
       "                                                                              MinMaxScaler(),\n",
       "                                                                              [&#x27;EDUC&#x27;,\n",
       "                                                                               &#x27;SES&#x27;]),\n",
       "                                                                             (&#x27;r_scaler&#x27;,\n",
       "                                                                              RobustScaler(),\n",
       "                                                                              [&#x27;eTIV&#x27;,\n",
       "                                                                               &#x27;MMSE&#x27;])]),\n",
       "                                       [&#x27;Age&#x27;, &#x27;eTIV&#x27;, &#x27;MMSE&#x27;, &#x27;EDUC&#x27;, &#x27;SES&#x27;,\n",
       "                                        &#x27;nWBV&#x27;, &#x27;ASF&#x27;]),\n",
       "                                      (&#x27;encoder&#x27;,\n",
       "                                       OneHotEncoder(drop=&#x27;if_binary&#x27;),\n",
       "                                       [&#x27;M/F&#x27;])])</pre><b>Please rerun this cell to show the HTML repr or trust the notebook.</b></div><div class=\"sk-container\" hidden><div class=\"sk-item sk-dashed-wrapped\"><div class=\"sk-label-container\"><div class=\"sk-label sk-toggleable\"><input class=\"sk-toggleable__control sk-hidden--visually\" id=\"d3e4c792-5ab5-4a6b-9d3e-f1ca4b3997da\" type=\"checkbox\" ><label for=\"d3e4c792-5ab5-4a6b-9d3e-f1ca4b3997da\" class=\"sk-toggleable__label sk-toggleable__label-arrow\">CustomColumnTransformer</label><div class=\"sk-toggleable__content\"><pre>CustomColumnTransformer(transformers=[(&#x27;num_transformer&#x27;,\n",
       "                                       CustomColumnTransformer(remainder=&#x27;passthrough&#x27;,\n",
       "                                                               transformers=[(&#x27;s_scaler&#x27;,\n",
       "                                                                              StandardScaler(),\n",
       "                                                                              [&#x27;Age&#x27;]),\n",
       "                                                                             (&#x27;m_scaler&#x27;,\n",
       "                                                                              MinMaxScaler(),\n",
       "                                                                              [&#x27;EDUC&#x27;,\n",
       "                                                                               &#x27;SES&#x27;]),\n",
       "                                                                             (&#x27;r_scaler&#x27;,\n",
       "                                                                              RobustScaler(),\n",
       "                                                                              [&#x27;eTIV&#x27;,\n",
       "                                                                               &#x27;MMSE&#x27;])]),\n",
       "                                       [&#x27;Age&#x27;, &#x27;eTIV&#x27;, &#x27;MMSE&#x27;, &#x27;EDUC&#x27;, &#x27;SES&#x27;,\n",
       "                                        &#x27;nWBV&#x27;, &#x27;ASF&#x27;]),\n",
       "                                      (&#x27;encoder&#x27;,\n",
       "                                       OneHotEncoder(drop=&#x27;if_binary&#x27;),\n",
       "                                       [&#x27;M/F&#x27;])])</pre></div></div></div><div class=\"sk-parallel\"><div class=\"sk-parallel-item\"><div class=\"sk-item\"><div class=\"sk-label-container\"><div class=\"sk-label sk-toggleable\"><input class=\"sk-toggleable__control sk-hidden--visually\" id=\"ccd1ad2e-a242-4b04-b99c-c78afa960a98\" type=\"checkbox\" ><label for=\"ccd1ad2e-a242-4b04-b99c-c78afa960a98\" class=\"sk-toggleable__label sk-toggleable__label-arrow\">num_transformer</label><div class=\"sk-toggleable__content\"><pre>[&#x27;Age&#x27;, &#x27;eTIV&#x27;, &#x27;MMSE&#x27;, &#x27;EDUC&#x27;, &#x27;SES&#x27;, &#x27;nWBV&#x27;, &#x27;ASF&#x27;]</pre></div></div></div><div class=\"sk-serial\"><div class=\"sk-item sk-dashed-wrapped\"><div class=\"sk-parallel\"><div class=\"sk-parallel-item\"><div class=\"sk-item\"><div class=\"sk-label-container\"><div class=\"sk-label sk-toggleable\"><input class=\"sk-toggleable__control sk-hidden--visually\" id=\"acef760d-38df-4403-8b6d-a0921a54c46c\" type=\"checkbox\" ><label for=\"acef760d-38df-4403-8b6d-a0921a54c46c\" class=\"sk-toggleable__label sk-toggleable__label-arrow\">s_scaler</label><div class=\"sk-toggleable__content\"><pre>[&#x27;Age&#x27;]</pre></div></div></div><div class=\"sk-serial\"><div class=\"sk-item\"><div class=\"sk-estimator sk-toggleable\"><input class=\"sk-toggleable__control sk-hidden--visually\" id=\"4e870a47-88c9-4a9a-b220-61357a6322fd\" type=\"checkbox\" ><label for=\"4e870a47-88c9-4a9a-b220-61357a6322fd\" class=\"sk-toggleable__label sk-toggleable__label-arrow\">StandardScaler</label><div class=\"sk-toggleable__content\"><pre>StandardScaler()</pre></div></div></div></div></div></div><div class=\"sk-parallel-item\"><div class=\"sk-item\"><div class=\"sk-label-container\"><div class=\"sk-label sk-toggleable\"><input class=\"sk-toggleable__control sk-hidden--visually\" id=\"fff2a205-b83a-432f-b319-7d53c273dca0\" type=\"checkbox\" ><label for=\"fff2a205-b83a-432f-b319-7d53c273dca0\" class=\"sk-toggleable__label sk-toggleable__label-arrow\">m_scaler</label><div class=\"sk-toggleable__content\"><pre>[&#x27;EDUC&#x27;, &#x27;SES&#x27;]</pre></div></div></div><div class=\"sk-serial\"><div class=\"sk-item\"><div class=\"sk-estimator sk-toggleable\"><input class=\"sk-toggleable__control sk-hidden--visually\" id=\"c253bf39-5312-46e9-b9ec-513f0c98c7ab\" type=\"checkbox\" ><label for=\"c253bf39-5312-46e9-b9ec-513f0c98c7ab\" class=\"sk-toggleable__label sk-toggleable__label-arrow\">MinMaxScaler</label><div class=\"sk-toggleable__content\"><pre>MinMaxScaler()</pre></div></div></div></div></div></div><div class=\"sk-parallel-item\"><div class=\"sk-item\"><div class=\"sk-label-container\"><div class=\"sk-label sk-toggleable\"><input class=\"sk-toggleable__control sk-hidden--visually\" id=\"f3ce7f4e-6186-40ab-94da-75d3bce5deaf\" type=\"checkbox\" ><label for=\"f3ce7f4e-6186-40ab-94da-75d3bce5deaf\" class=\"sk-toggleable__label sk-toggleable__label-arrow\">r_scaler</label><div class=\"sk-toggleable__content\"><pre>[&#x27;eTIV&#x27;, &#x27;MMSE&#x27;]</pre></div></div></div><div class=\"sk-serial\"><div class=\"sk-item\"><div class=\"sk-estimator sk-toggleable\"><input class=\"sk-toggleable__control sk-hidden--visually\" id=\"73ee50df-c388-4cb5-a96f-e272f54167b6\" type=\"checkbox\" ><label for=\"73ee50df-c388-4cb5-a96f-e272f54167b6\" class=\"sk-toggleable__label sk-toggleable__label-arrow\">RobustScaler</label><div class=\"sk-toggleable__content\"><pre>RobustScaler()</pre></div></div></div></div></div></div><div class=\"sk-parallel-item\"><div class=\"sk-item\"><div class=\"sk-label-container\"><div class=\"sk-label sk-toggleable\"><input class=\"sk-toggleable__control sk-hidden--visually\" id=\"db71d6c5-510c-4776-899b-64ebf3379de8\" type=\"checkbox\" ><label for=\"db71d6c5-510c-4776-899b-64ebf3379de8\" class=\"sk-toggleable__label sk-toggleable__label-arrow\">remainder</label><div class=\"sk-toggleable__content\"><pre></pre></div></div></div><div class=\"sk-serial\"><div class=\"sk-item\"><div class=\"sk-estimator sk-toggleable\"><input class=\"sk-toggleable__control sk-hidden--visually\" id=\"ffd53bba-5392-4e61-876f-6cb72386ee12\" type=\"checkbox\" ><label for=\"ffd53bba-5392-4e61-876f-6cb72386ee12\" class=\"sk-toggleable__label sk-toggleable__label-arrow\">passthrough</label><div class=\"sk-toggleable__content\"><pre>passthrough</pre></div></div></div></div></div></div></div></div></div></div></div><div class=\"sk-parallel-item\"><div class=\"sk-item\"><div class=\"sk-label-container\"><div class=\"sk-label sk-toggleable\"><input class=\"sk-toggleable__control sk-hidden--visually\" id=\"efc5148e-f0b4-46ee-8106-80a5f195a580\" type=\"checkbox\" ><label for=\"efc5148e-f0b4-46ee-8106-80a5f195a580\" class=\"sk-toggleable__label sk-toggleable__label-arrow\">encoder</label><div class=\"sk-toggleable__content\"><pre>[&#x27;M/F&#x27;]</pre></div></div></div><div class=\"sk-serial\"><div class=\"sk-item\"><div class=\"sk-estimator sk-toggleable\"><input class=\"sk-toggleable__control sk-hidden--visually\" id=\"666015db-0435-44d5-91d3-920bd0f90efc\" type=\"checkbox\" ><label for=\"666015db-0435-44d5-91d3-920bd0f90efc\" class=\"sk-toggleable__label sk-toggleable__label-arrow\">OneHotEncoder</label><div class=\"sk-toggleable__content\"><pre>OneHotEncoder(drop=&#x27;if_binary&#x27;)</pre></div></div></div></div></div></div></div></div></div></div>"
      ],
      "text/plain": [
       "CustomColumnTransformer(transformers=[('num_transformer',\n",
       "                                       CustomColumnTransformer(remainder='passthrough',\n",
       "                                                               transformers=[('s_scaler',\n",
       "                                                                              StandardScaler(),\n",
       "                                                                              ['Age']),\n",
       "                                                                             ('m_scaler',\n",
       "                                                                              MinMaxScaler(),\n",
       "                                                                              ['EDUC',\n",
       "                                                                               'SES']),\n",
       "                                                                             ('r_scaler',\n",
       "                                                                              RobustScaler(),\n",
       "                                                                              ['eTIV',\n",
       "                                                                               'MMSE'])]),\n",
       "                                       ['Age', 'eTIV', 'MMSE', 'EDUC', 'SES',\n",
       "                                        'nWBV', 'ASF']),\n",
       "                                      ('encoder',\n",
       "                                       OneHotEncoder(drop='if_binary'),\n",
       "                                       ['M/F'])])"
      ]
     },
     "execution_count": 8,
     "metadata": {},
     "output_type": "execute_result"
    }
   ],
   "source": [
    "from sklearn import set_config; set_config(display='diagram')\n",
    "from sklearn.preprocessing import StandardScaler\n",
    "from sklearn.preprocessing import MinMaxScaler\n",
    "from sklearn.preprocessing import RobustScaler\n",
    "from sklearn.pipeline import Pipeline\n",
    "from sklearn.preprocessing import OneHotEncoder\n",
    "\n",
    "standard_features = ['Age']\n",
    "robust_features = ['eTIV', 'MMSE']\n",
    "minmax_features = ['EDUC', 'SES']\n",
    "nothing_to_scale = ['nWBV','ASF']\n",
    "binary_cat = ['M/F']\n",
    "\n",
    "numerical_features = standard_features + robust_features + minmax_features + nothing_to_scale\n",
    "\n",
    "numerical_transformer = CustomColumnTransformer([\n",
    "    ('s_scaler', StandardScaler(), standard_features),\n",
    "    ('m_scaler', MinMaxScaler(), minmax_features),\n",
    "    ('r_scaler', RobustScaler(), robust_features)],\n",
    "    remainder='passthrough')\n",
    "\n",
    "#num_pipeline = Pipeline([('numerical_transformer', numerical_transformer)])\n",
    "\n",
    "pre_pipe = CustomColumnTransformer([\n",
    "    ('num_transformer', numerical_transformer, numerical_features),\n",
    "    #('num_transformer', num_pipeline, numerical_features),\n",
    "    ('encoder', OneHotEncoder(drop = \"if_binary\"), binary_cat)])\n",
    "    \n",
    "pre_pipe"
   ]
  },
  {
   "cell_type": "markdown",
   "id": "d6c8f8aa",
   "metadata": {},
   "source": [
    "We now split the data into train and test set."
   ]
  },
  {
   "cell_type": "code",
   "execution_count": 9,
   "id": "c44c4a5a",
   "metadata": {},
   "outputs": [],
   "source": [
    "from sklearn.model_selection import train_test_split\n",
    "\n",
    "X_train, X_test, y_train, y_test = train_test_split(X, y, test_size=0.3, random_state=42)"
   ]
  },
  {
   "cell_type": "code",
   "execution_count": 10,
   "id": "6fabe674",
   "metadata": {},
   "outputs": [],
   "source": [
    "X_train = pre_pipe.fit_transform(X_train)\n",
    "X_test = pre_pipe.transform(X_test)"
   ]
  },
  {
   "cell_type": "code",
   "execution_count": 11,
   "id": "5e8944e0",
   "metadata": {},
   "outputs": [
    {
     "ename": "NameError",
     "evalue": "name 'pipeline' is not defined",
     "output_type": "error",
     "traceback": [
      "\u001b[0;31m---------------------------------------------------------------------------\u001b[0m",
      "\u001b[0;31mNameError\u001b[0m                                 Traceback (most recent call last)",
      "Input \u001b[0;32mIn [11]\u001b[0m, in \u001b[0;36m<cell line: 1>\u001b[0;34m()\u001b[0m\n\u001b[0;32m----> 1\u001b[0m X\u001b[38;5;241m=\u001b[39m\u001b[43mpipeline\u001b[49m\u001b[38;5;241m.\u001b[39mfit_transform()\n",
      "\u001b[0;31mNameError\u001b[0m: name 'pipeline' is not defined"
     ]
    }
   ],
   "source": [
    "X=pipeline.fit_transform()"
   ]
  },
  {
   "cell_type": "code",
   "execution_count": null,
   "id": "76892b34",
   "metadata": {},
   "outputs": [],
   "source": [
    "X_train"
   ]
  },
  {
   "cell_type": "code",
   "execution_count": null,
   "id": "9de80a5b",
   "metadata": {
    "scrolled": true
   },
   "outputs": [],
   "source": [
    "#SimpleImputer.get_feature_names_out = (lambda self, names=None: self.feature_names_in_)\n",
    "#X_train=pd.DataFrame(preproc.fit_transform(X_train), columns = preproc.get_feature_names_out())\n",
    "#X_test=pd.DataFrame(preproc.transform(X_test), columns = preproc.get_feature_names_out())"
   ]
  },
  {
   "cell_type": "markdown",
   "id": "f041e156",
   "metadata": {},
   "source": [
    "\\\n",
    "Renaming the column labels that were modified while applying the pipeline."
   ]
  },
  {
   "cell_type": "code",
   "execution_count": 10,
   "id": "cdb93365",
   "metadata": {
    "scrolled": true
   },
   "outputs": [],
   "source": [
    "# X_train = X_train.rename(columns={\"s_scaler__Age\": \"Age\",\n",
    "#                               \"m_scaler__EDUC\": \"Educ\",\n",
    "#                               \"r_scaler__eTIV\": \"eTIV\",\n",
    "#                               \"imp_scaler__MMSE\": \"MMSE\",\n",
    "#                               \"encoder__M/F_M\": \"M/F\",\n",
    "#                               \"imputer__SES\": \"SES\",\n",
    "#                               \"remainder__nWBV\": \"nWBV\",\n",
    "#                               \"remainder__ASF\": \"ASF\"})\n",
    "# X_test = X_test.rename(columns={\"s_scaler__Age\": \"Age\",\n",
    "#                               \"m_scaler__EDUC\": \"Educ\",\n",
    "#                               \"r_scaler__eTIV\": \"eTIV\",\n",
    "#                               \"imp_scaler__MMSE\": \"MMSE\",\n",
    "#                               \"encoder__M/F_M\": \"M/F\",\n",
    "#                               \"imputer__SES\": \"SES\",\n",
    "#                               \"remainder__nWBV\": \"nWBV\",\n",
    "#                               \"remainder__ASF\": \"ASF\"})\n",
    "\n",
    "# X_train = X_train[[\"M/F\", \"Age\", \"Educ\", \"SES\", \"MMSE\", \"eTIV\", \"nWBV\", \"ASF\"]]\n",
    "# X_test = X_test[[\"M/F\", \"Age\", \"Educ\", \"SES\", \"MMSE\", \"eTIV\", \"nWBV\", \"ASF\"]]"
   ]
  },
  {
   "cell_type": "markdown",
   "id": "c335a805",
   "metadata": {},
   "source": [
    "### Choosing the right estimator"
   ]
  },
  {
   "cell_type": "markdown",
   "id": "4d3ff2dd",
   "metadata": {},
   "source": [
    "We will look now for the right estimator to solve this machine learning problem. Since we have a dataset size between 50 and 100k samples, and target is categorical, we will start with the Linear Support Vector Classification (SVC) estimator.\n",
    "\n",
    "\n",
    "\n",
    "We will do GridSearch to find the best parameters on each model, scoring on \"recall\". This because we want to identify all the positive samples, in this case, the patients with dementia."
   ]
  },
  {
   "cell_type": "markdown",
   "id": "ac9e0f7d",
   "metadata": {},
   "source": [
    "#### SVC"
   ]
  },
  {
   "cell_type": "markdown",
   "id": "cfdf88c3",
   "metadata": {},
   "source": [
    "##### Linear SVC "
   ]
  },
  {
   "cell_type": "code",
   "execution_count": 41,
   "id": "07f78ef0",
   "metadata": {},
   "outputs": [
    {
     "data": {
      "text/html": [
       "<style>#sk-46fd07d5-2280-4de1-b77f-05570240aff3 {color: black;background-color: white;}#sk-46fd07d5-2280-4de1-b77f-05570240aff3 pre{padding: 0;}#sk-46fd07d5-2280-4de1-b77f-05570240aff3 div.sk-toggleable {background-color: white;}#sk-46fd07d5-2280-4de1-b77f-05570240aff3 label.sk-toggleable__label {cursor: pointer;display: block;width: 100%;margin-bottom: 0;padding: 0.3em;box-sizing: border-box;text-align: center;}#sk-46fd07d5-2280-4de1-b77f-05570240aff3 label.sk-toggleable__label-arrow:before {content: \"▸\";float: left;margin-right: 0.25em;color: #696969;}#sk-46fd07d5-2280-4de1-b77f-05570240aff3 label.sk-toggleable__label-arrow:hover:before {color: black;}#sk-46fd07d5-2280-4de1-b77f-05570240aff3 div.sk-estimator:hover label.sk-toggleable__label-arrow:before {color: black;}#sk-46fd07d5-2280-4de1-b77f-05570240aff3 div.sk-toggleable__content {max-height: 0;max-width: 0;overflow: hidden;text-align: left;background-color: #f0f8ff;}#sk-46fd07d5-2280-4de1-b77f-05570240aff3 div.sk-toggleable__content pre {margin: 0.2em;color: black;border-radius: 0.25em;background-color: #f0f8ff;}#sk-46fd07d5-2280-4de1-b77f-05570240aff3 input.sk-toggleable__control:checked~div.sk-toggleable__content {max-height: 200px;max-width: 100%;overflow: auto;}#sk-46fd07d5-2280-4de1-b77f-05570240aff3 input.sk-toggleable__control:checked~label.sk-toggleable__label-arrow:before {content: \"▾\";}#sk-46fd07d5-2280-4de1-b77f-05570240aff3 div.sk-estimator input.sk-toggleable__control:checked~label.sk-toggleable__label {background-color: #d4ebff;}#sk-46fd07d5-2280-4de1-b77f-05570240aff3 div.sk-label input.sk-toggleable__control:checked~label.sk-toggleable__label {background-color: #d4ebff;}#sk-46fd07d5-2280-4de1-b77f-05570240aff3 input.sk-hidden--visually {border: 0;clip: rect(1px 1px 1px 1px);clip: rect(1px, 1px, 1px, 1px);height: 1px;margin: -1px;overflow: hidden;padding: 0;position: absolute;width: 1px;}#sk-46fd07d5-2280-4de1-b77f-05570240aff3 div.sk-estimator {font-family: monospace;background-color: #f0f8ff;border: 1px dotted black;border-radius: 0.25em;box-sizing: border-box;margin-bottom: 0.5em;}#sk-46fd07d5-2280-4de1-b77f-05570240aff3 div.sk-estimator:hover {background-color: #d4ebff;}#sk-46fd07d5-2280-4de1-b77f-05570240aff3 div.sk-parallel-item::after {content: \"\";width: 100%;border-bottom: 1px solid gray;flex-grow: 1;}#sk-46fd07d5-2280-4de1-b77f-05570240aff3 div.sk-label:hover label.sk-toggleable__label {background-color: #d4ebff;}#sk-46fd07d5-2280-4de1-b77f-05570240aff3 div.sk-serial::before {content: \"\";position: absolute;border-left: 1px solid gray;box-sizing: border-box;top: 2em;bottom: 0;left: 50%;}#sk-46fd07d5-2280-4de1-b77f-05570240aff3 div.sk-serial {display: flex;flex-direction: column;align-items: center;background-color: white;padding-right: 0.2em;padding-left: 0.2em;}#sk-46fd07d5-2280-4de1-b77f-05570240aff3 div.sk-item {z-index: 1;}#sk-46fd07d5-2280-4de1-b77f-05570240aff3 div.sk-parallel {display: flex;align-items: stretch;justify-content: center;background-color: white;}#sk-46fd07d5-2280-4de1-b77f-05570240aff3 div.sk-parallel::before {content: \"\";position: absolute;border-left: 1px solid gray;box-sizing: border-box;top: 2em;bottom: 0;left: 50%;}#sk-46fd07d5-2280-4de1-b77f-05570240aff3 div.sk-parallel-item {display: flex;flex-direction: column;position: relative;background-color: white;}#sk-46fd07d5-2280-4de1-b77f-05570240aff3 div.sk-parallel-item:first-child::after {align-self: flex-end;width: 50%;}#sk-46fd07d5-2280-4de1-b77f-05570240aff3 div.sk-parallel-item:last-child::after {align-self: flex-start;width: 50%;}#sk-46fd07d5-2280-4de1-b77f-05570240aff3 div.sk-parallel-item:only-child::after {width: 0;}#sk-46fd07d5-2280-4de1-b77f-05570240aff3 div.sk-dashed-wrapped {border: 1px dashed gray;margin: 0 0.4em 0.5em 0.4em;box-sizing: border-box;padding-bottom: 0.4em;background-color: white;position: relative;}#sk-46fd07d5-2280-4de1-b77f-05570240aff3 div.sk-label label {font-family: monospace;font-weight: bold;background-color: white;display: inline-block;line-height: 1.2em;}#sk-46fd07d5-2280-4de1-b77f-05570240aff3 div.sk-label-container {position: relative;z-index: 2;text-align: center;}#sk-46fd07d5-2280-4de1-b77f-05570240aff3 div.sk-container {/* jupyter's `normalize.less` sets `[hidden] { display: none; }` but bootstrap.min.css set `[hidden] { display: none !important; }` so we also need the `!important` here to be able to override the default hidden behavior on the sphinx rendered scikit-learn.org. See: https://github.com/scikit-learn/scikit-learn/issues/21755 */display: inline-block !important;position: relative;}#sk-46fd07d5-2280-4de1-b77f-05570240aff3 div.sk-text-repr-fallback {display: none;}</style><div id=\"sk-46fd07d5-2280-4de1-b77f-05570240aff3\" class=\"sk-top-container\"><div class=\"sk-text-repr-fallback\"><pre>GridSearchCV(cv=5, estimator=LinearSVC(max_iter=100000), n_jobs=-1,\n",
       "             param_grid={&#x27;C&#x27;: [0.1, 1, 5, 50, 100, 500]}, scoring=&#x27;recall&#x27;)</pre><b>Please rerun this cell to show the HTML repr or trust the notebook.</b></div><div class=\"sk-container\" hidden><div class=\"sk-item sk-dashed-wrapped\"><div class=\"sk-label-container\"><div class=\"sk-label sk-toggleable\"><input class=\"sk-toggleable__control sk-hidden--visually\" id=\"34bd5014-52ae-4f02-9d1c-0631c27f2aa2\" type=\"checkbox\" ><label for=\"34bd5014-52ae-4f02-9d1c-0631c27f2aa2\" class=\"sk-toggleable__label sk-toggleable__label-arrow\">GridSearchCV</label><div class=\"sk-toggleable__content\"><pre>GridSearchCV(cv=5, estimator=LinearSVC(max_iter=100000), n_jobs=-1,\n",
       "             param_grid={&#x27;C&#x27;: [0.1, 1, 5, 50, 100, 500]}, scoring=&#x27;recall&#x27;)</pre></div></div></div><div class=\"sk-parallel\"><div class=\"sk-parallel-item\"><div class=\"sk-item\"><div class=\"sk-serial\"><div class=\"sk-item\"><div class=\"sk-estimator sk-toggleable\"><input class=\"sk-toggleable__control sk-hidden--visually\" id=\"f77a0573-a81f-434f-b246-78ee6092fe29\" type=\"checkbox\" ><label for=\"f77a0573-a81f-434f-b246-78ee6092fe29\" class=\"sk-toggleable__label sk-toggleable__label-arrow\">LinearSVC</label><div class=\"sk-toggleable__content\"><pre>LinearSVC(max_iter=100000)</pre></div></div></div></div></div></div></div></div></div></div>"
      ],
      "text/plain": [
       "GridSearchCV(cv=5, estimator=LinearSVC(max_iter=100000), n_jobs=-1,\n",
       "             param_grid={'C': [0.1, 1, 5, 50, 100, 500]}, scoring='recall')"
      ]
     },
     "execution_count": 41,
     "metadata": {},
     "output_type": "execute_result"
    }
   ],
   "source": [
    "from sklearn.svm import LinearSVC\n",
    "from sklearn.model_selection import GridSearchCV\n",
    "\n",
    "model_svc_linear = LinearSVC(max_iter=100000)\n",
    "\n",
    "parameters = {'C': [0.1, 1, 5, 50, 100, 500]}\n",
    "\n",
    "gridsearch1 = GridSearchCV(model_svc_linear,\n",
    "                          parameters,\n",
    "                          n_jobs=-1,\n",
    "                          cv=5,\n",
    "                          scoring=\"recall\")\n",
    "\n",
    "gridsearch1.fit(X_train, y_train)"
   ]
  },
  {
   "cell_type": "code",
   "execution_count": 42,
   "id": "44e36662",
   "metadata": {},
   "outputs": [
    {
     "data": {
      "text/plain": [
       "{'C': 100}"
      ]
     },
     "execution_count": 42,
     "metadata": {},
     "output_type": "execute_result"
    }
   ],
   "source": [
    "gridsearch1.best_params_"
   ]
  },
  {
   "cell_type": "code",
   "execution_count": 43,
   "id": "15e31a4b",
   "metadata": {},
   "outputs": [
    {
     "data": {
      "text/plain": [
       "0.7284584980237154"
      ]
     },
     "execution_count": 43,
     "metadata": {},
     "output_type": "execute_result"
    }
   ],
   "source": [
    "gridsearch1.best_score_"
   ]
  },
  {
   "cell_type": "code",
   "execution_count": 44,
   "id": "59e711e9",
   "metadata": {},
   "outputs": [
    {
     "name": "stderr",
     "output_type": "stream",
     "text": [
      "/home/vicente/.pyenv/versions/3.8.12/envs/memobrain/lib/python3.8/site-packages/sklearn/svm/_base.py:1206: ConvergenceWarning: Liblinear failed to converge, increase the number of iterations.\n",
      "  warnings.warn(\n"
     ]
    },
    {
     "data": {
      "text/html": [
       "<style>#sk-d7fa20aa-0d6c-48ce-a0f6-5b3c7b8c36be {color: black;background-color: white;}#sk-d7fa20aa-0d6c-48ce-a0f6-5b3c7b8c36be pre{padding: 0;}#sk-d7fa20aa-0d6c-48ce-a0f6-5b3c7b8c36be div.sk-toggleable {background-color: white;}#sk-d7fa20aa-0d6c-48ce-a0f6-5b3c7b8c36be label.sk-toggleable__label {cursor: pointer;display: block;width: 100%;margin-bottom: 0;padding: 0.3em;box-sizing: border-box;text-align: center;}#sk-d7fa20aa-0d6c-48ce-a0f6-5b3c7b8c36be label.sk-toggleable__label-arrow:before {content: \"▸\";float: left;margin-right: 0.25em;color: #696969;}#sk-d7fa20aa-0d6c-48ce-a0f6-5b3c7b8c36be label.sk-toggleable__label-arrow:hover:before {color: black;}#sk-d7fa20aa-0d6c-48ce-a0f6-5b3c7b8c36be div.sk-estimator:hover label.sk-toggleable__label-arrow:before {color: black;}#sk-d7fa20aa-0d6c-48ce-a0f6-5b3c7b8c36be div.sk-toggleable__content {max-height: 0;max-width: 0;overflow: hidden;text-align: left;background-color: #f0f8ff;}#sk-d7fa20aa-0d6c-48ce-a0f6-5b3c7b8c36be div.sk-toggleable__content pre {margin: 0.2em;color: black;border-radius: 0.25em;background-color: #f0f8ff;}#sk-d7fa20aa-0d6c-48ce-a0f6-5b3c7b8c36be input.sk-toggleable__control:checked~div.sk-toggleable__content {max-height: 200px;max-width: 100%;overflow: auto;}#sk-d7fa20aa-0d6c-48ce-a0f6-5b3c7b8c36be input.sk-toggleable__control:checked~label.sk-toggleable__label-arrow:before {content: \"▾\";}#sk-d7fa20aa-0d6c-48ce-a0f6-5b3c7b8c36be div.sk-estimator input.sk-toggleable__control:checked~label.sk-toggleable__label {background-color: #d4ebff;}#sk-d7fa20aa-0d6c-48ce-a0f6-5b3c7b8c36be div.sk-label input.sk-toggleable__control:checked~label.sk-toggleable__label {background-color: #d4ebff;}#sk-d7fa20aa-0d6c-48ce-a0f6-5b3c7b8c36be input.sk-hidden--visually {border: 0;clip: rect(1px 1px 1px 1px);clip: rect(1px, 1px, 1px, 1px);height: 1px;margin: -1px;overflow: hidden;padding: 0;position: absolute;width: 1px;}#sk-d7fa20aa-0d6c-48ce-a0f6-5b3c7b8c36be div.sk-estimator {font-family: monospace;background-color: #f0f8ff;border: 1px dotted black;border-radius: 0.25em;box-sizing: border-box;margin-bottom: 0.5em;}#sk-d7fa20aa-0d6c-48ce-a0f6-5b3c7b8c36be div.sk-estimator:hover {background-color: #d4ebff;}#sk-d7fa20aa-0d6c-48ce-a0f6-5b3c7b8c36be div.sk-parallel-item::after {content: \"\";width: 100%;border-bottom: 1px solid gray;flex-grow: 1;}#sk-d7fa20aa-0d6c-48ce-a0f6-5b3c7b8c36be div.sk-label:hover label.sk-toggleable__label {background-color: #d4ebff;}#sk-d7fa20aa-0d6c-48ce-a0f6-5b3c7b8c36be div.sk-serial::before {content: \"\";position: absolute;border-left: 1px solid gray;box-sizing: border-box;top: 2em;bottom: 0;left: 50%;}#sk-d7fa20aa-0d6c-48ce-a0f6-5b3c7b8c36be div.sk-serial {display: flex;flex-direction: column;align-items: center;background-color: white;padding-right: 0.2em;padding-left: 0.2em;}#sk-d7fa20aa-0d6c-48ce-a0f6-5b3c7b8c36be div.sk-item {z-index: 1;}#sk-d7fa20aa-0d6c-48ce-a0f6-5b3c7b8c36be div.sk-parallel {display: flex;align-items: stretch;justify-content: center;background-color: white;}#sk-d7fa20aa-0d6c-48ce-a0f6-5b3c7b8c36be div.sk-parallel::before {content: \"\";position: absolute;border-left: 1px solid gray;box-sizing: border-box;top: 2em;bottom: 0;left: 50%;}#sk-d7fa20aa-0d6c-48ce-a0f6-5b3c7b8c36be div.sk-parallel-item {display: flex;flex-direction: column;position: relative;background-color: white;}#sk-d7fa20aa-0d6c-48ce-a0f6-5b3c7b8c36be div.sk-parallel-item:first-child::after {align-self: flex-end;width: 50%;}#sk-d7fa20aa-0d6c-48ce-a0f6-5b3c7b8c36be div.sk-parallel-item:last-child::after {align-self: flex-start;width: 50%;}#sk-d7fa20aa-0d6c-48ce-a0f6-5b3c7b8c36be div.sk-parallel-item:only-child::after {width: 0;}#sk-d7fa20aa-0d6c-48ce-a0f6-5b3c7b8c36be div.sk-dashed-wrapped {border: 1px dashed gray;margin: 0 0.4em 0.5em 0.4em;box-sizing: border-box;padding-bottom: 0.4em;background-color: white;position: relative;}#sk-d7fa20aa-0d6c-48ce-a0f6-5b3c7b8c36be div.sk-label label {font-family: monospace;font-weight: bold;background-color: white;display: inline-block;line-height: 1.2em;}#sk-d7fa20aa-0d6c-48ce-a0f6-5b3c7b8c36be div.sk-label-container {position: relative;z-index: 2;text-align: center;}#sk-d7fa20aa-0d6c-48ce-a0f6-5b3c7b8c36be div.sk-container {/* jupyter's `normalize.less` sets `[hidden] { display: none; }` but bootstrap.min.css set `[hidden] { display: none !important; }` so we also need the `!important` here to be able to override the default hidden behavior on the sphinx rendered scikit-learn.org. See: https://github.com/scikit-learn/scikit-learn/issues/21755 */display: inline-block !important;position: relative;}#sk-d7fa20aa-0d6c-48ce-a0f6-5b3c7b8c36be div.sk-text-repr-fallback {display: none;}</style><div id=\"sk-d7fa20aa-0d6c-48ce-a0f6-5b3c7b8c36be\" class=\"sk-top-container\"><div class=\"sk-text-repr-fallback\"><pre>LinearSVC(C=100, max_iter=10000)</pre><b>Please rerun this cell to show the HTML repr or trust the notebook.</b></div><div class=\"sk-container\" hidden><div class=\"sk-item\"><div class=\"sk-estimator sk-toggleable\"><input class=\"sk-toggleable__control sk-hidden--visually\" id=\"494092d1-e011-45cf-98c4-c85a6b26336a\" type=\"checkbox\" checked><label for=\"494092d1-e011-45cf-98c4-c85a6b26336a\" class=\"sk-toggleable__label sk-toggleable__label-arrow\">LinearSVC</label><div class=\"sk-toggleable__content\"><pre>LinearSVC(C=100, max_iter=10000)</pre></div></div></div></div></div>"
      ],
      "text/plain": [
       "LinearSVC(C=100, max_iter=10000)"
      ]
     },
     "execution_count": 44,
     "metadata": {},
     "output_type": "execute_result"
    }
   ],
   "source": [
    "model_lsvc_best = LinearSVC(C= 100, max_iter=10000)\n",
    "model_lsvc_best.fit(X_train, y_train)"
   ]
  },
  {
   "cell_type": "markdown",
   "id": "fb010dc2",
   "metadata": {},
   "source": [
    "Now we will predict the target:"
   ]
  },
  {
   "cell_type": "code",
   "execution_count": 45,
   "id": "bf175952",
   "metadata": {},
   "outputs": [],
   "source": [
    "y_pred1 = model_lsvc_best.predict(X_test)"
   ]
  },
  {
   "cell_type": "code",
   "execution_count": 46,
   "id": "74b633ba",
   "metadata": {},
   "outputs": [
    {
     "data": {
      "text/plain": [
       "(0.8214285714285714, 0.8113207547169812, 0.8113207547169812)"
      ]
     },
     "execution_count": 46,
     "metadata": {},
     "output_type": "execute_result"
    }
   ],
   "source": [
    "from sklearn.metrics import recall_score\n",
    "from sklearn.metrics import precision_score\n",
    "from sklearn.metrics import accuracy_score\n",
    "\n",
    "accuracy_score(y_test, y_pred1), recall_score(y_test, y_pred1), precision_score(y_test, y_pred1)"
   ]
  },
  {
   "cell_type": "code",
   "execution_count": 121,
   "id": "3c02ae97",
   "metadata": {},
   "outputs": [
    {
     "data": {
      "text/plain": [
       "array([[49, 10],\n",
       "       [10, 43]])"
      ]
     },
     "execution_count": 121,
     "metadata": {},
     "output_type": "execute_result"
    }
   ],
   "source": [
    "from sklearn.metrics import confusion_matrix\n",
    "\n",
    "confusion_matrix(y_test, y_pred1)"
   ]
  },
  {
   "cell_type": "code",
   "execution_count": 123,
   "id": "1ef990ab",
   "metadata": {},
   "outputs": [
    {
     "data": {
      "image/png": "[encoded data removed]",
      "text/plain": [
       "<Figure size 432x288 with 2 Axes>"
      ]
     },
     "metadata": {
      "needs_background": "light"
     },
     "output_type": "display_data"
    }
   ],
   "source": [
    "from sklearn.metrics import ConfusionMatrixDisplay\n",
    "import matplotlib.pyplot as plt\n",
    "\n",
    "cm_svc_lin = confusion_matrix(y_test, y_pred1)\n",
    "\n",
    "disp = ConfusionMatrixDisplay(confusion_matrix=cm_svc_lin,\n",
    "                             display_labels=[\"Nondemented\",\"Demented\"])\n",
    "disp.plot(cmap = 'viridis')\n",
    "plt.grid(visible = False)\n",
    "plt.show()"
   ]
  },
  {
   "cell_type": "markdown",
   "id": "f5f51e9a",
   "metadata": {},
   "source": [
    "##### SVC: Poly"
   ]
  },
  {
   "cell_type": "code",
   "execution_count": 47,
   "id": "e569dcd7",
   "metadata": {},
   "outputs": [
    {
     "data": {
      "text/html": [
       "<style>#sk-9b2f7646-46b0-4c13-b520-9d09b339fcd7 {color: black;background-color: white;}#sk-9b2f7646-46b0-4c13-b520-9d09b339fcd7 pre{padding: 0;}#sk-9b2f7646-46b0-4c13-b520-9d09b339fcd7 div.sk-toggleable {background-color: white;}#sk-9b2f7646-46b0-4c13-b520-9d09b339fcd7 label.sk-toggleable__label {cursor: pointer;display: block;width: 100%;margin-bottom: 0;padding: 0.3em;box-sizing: border-box;text-align: center;}#sk-9b2f7646-46b0-4c13-b520-9d09b339fcd7 label.sk-toggleable__label-arrow:before {content: \"▸\";float: left;margin-right: 0.25em;color: #696969;}#sk-9b2f7646-46b0-4c13-b520-9d09b339fcd7 label.sk-toggleable__label-arrow:hover:before {color: black;}#sk-9b2f7646-46b0-4c13-b520-9d09b339fcd7 div.sk-estimator:hover label.sk-toggleable__label-arrow:before {color: black;}#sk-9b2f7646-46b0-4c13-b520-9d09b339fcd7 div.sk-toggleable__content {max-height: 0;max-width: 0;overflow: hidden;text-align: left;background-color: #f0f8ff;}#sk-9b2f7646-46b0-4c13-b520-9d09b339fcd7 div.sk-toggleable__content pre {margin: 0.2em;color: black;border-radius: 0.25em;background-color: #f0f8ff;}#sk-9b2f7646-46b0-4c13-b520-9d09b339fcd7 input.sk-toggleable__control:checked~div.sk-toggleable__content {max-height: 200px;max-width: 100%;overflow: auto;}#sk-9b2f7646-46b0-4c13-b520-9d09b339fcd7 input.sk-toggleable__control:checked~label.sk-toggleable__label-arrow:before {content: \"▾\";}#sk-9b2f7646-46b0-4c13-b520-9d09b339fcd7 div.sk-estimator input.sk-toggleable__control:checked~label.sk-toggleable__label {background-color: #d4ebff;}#sk-9b2f7646-46b0-4c13-b520-9d09b339fcd7 div.sk-label input.sk-toggleable__control:checked~label.sk-toggleable__label {background-color: #d4ebff;}#sk-9b2f7646-46b0-4c13-b520-9d09b339fcd7 input.sk-hidden--visually {border: 0;clip: rect(1px 1px 1px 1px);clip: rect(1px, 1px, 1px, 1px);height: 1px;margin: -1px;overflow: hidden;padding: 0;position: absolute;width: 1px;}#sk-9b2f7646-46b0-4c13-b520-9d09b339fcd7 div.sk-estimator {font-family: monospace;background-color: #f0f8ff;border: 1px dotted black;border-radius: 0.25em;box-sizing: border-box;margin-bottom: 0.5em;}#sk-9b2f7646-46b0-4c13-b520-9d09b339fcd7 div.sk-estimator:hover {background-color: #d4ebff;}#sk-9b2f7646-46b0-4c13-b520-9d09b339fcd7 div.sk-parallel-item::after {content: \"\";width: 100%;border-bottom: 1px solid gray;flex-grow: 1;}#sk-9b2f7646-46b0-4c13-b520-9d09b339fcd7 div.sk-label:hover label.sk-toggleable__label {background-color: #d4ebff;}#sk-9b2f7646-46b0-4c13-b520-9d09b339fcd7 div.sk-serial::before {content: \"\";position: absolute;border-left: 1px solid gray;box-sizing: border-box;top: 2em;bottom: 0;left: 50%;}#sk-9b2f7646-46b0-4c13-b520-9d09b339fcd7 div.sk-serial {display: flex;flex-direction: column;align-items: center;background-color: white;padding-right: 0.2em;padding-left: 0.2em;}#sk-9b2f7646-46b0-4c13-b520-9d09b339fcd7 div.sk-item {z-index: 1;}#sk-9b2f7646-46b0-4c13-b520-9d09b339fcd7 div.sk-parallel {display: flex;align-items: stretch;justify-content: center;background-color: white;}#sk-9b2f7646-46b0-4c13-b520-9d09b339fcd7 div.sk-parallel::before {content: \"\";position: absolute;border-left: 1px solid gray;box-sizing: border-box;top: 2em;bottom: 0;left: 50%;}#sk-9b2f7646-46b0-4c13-b520-9d09b339fcd7 div.sk-parallel-item {display: flex;flex-direction: column;position: relative;background-color: white;}#sk-9b2f7646-46b0-4c13-b520-9d09b339fcd7 div.sk-parallel-item:first-child::after {align-self: flex-end;width: 50%;}#sk-9b2f7646-46b0-4c13-b520-9d09b339fcd7 div.sk-parallel-item:last-child::after {align-self: flex-start;width: 50%;}#sk-9b2f7646-46b0-4c13-b520-9d09b339fcd7 div.sk-parallel-item:only-child::after {width: 0;}#sk-9b2f7646-46b0-4c13-b520-9d09b339fcd7 div.sk-dashed-wrapped {border: 1px dashed gray;margin: 0 0.4em 0.5em 0.4em;box-sizing: border-box;padding-bottom: 0.4em;background-color: white;position: relative;}#sk-9b2f7646-46b0-4c13-b520-9d09b339fcd7 div.sk-label label {font-family: monospace;font-weight: bold;background-color: white;display: inline-block;line-height: 1.2em;}#sk-9b2f7646-46b0-4c13-b520-9d09b339fcd7 div.sk-label-container {position: relative;z-index: 2;text-align: center;}#sk-9b2f7646-46b0-4c13-b520-9d09b339fcd7 div.sk-container {/* jupyter's `normalize.less` sets `[hidden] { display: none; }` but bootstrap.min.css set `[hidden] { display: none !important; }` so we also need the `!important` here to be able to override the default hidden behavior on the sphinx rendered scikit-learn.org. See: https://github.com/scikit-learn/scikit-learn/issues/21755 */display: inline-block !important;position: relative;}#sk-9b2f7646-46b0-4c13-b520-9d09b339fcd7 div.sk-text-repr-fallback {display: none;}</style><div id=\"sk-9b2f7646-46b0-4c13-b520-9d09b339fcd7\" class=\"sk-top-container\"><div class=\"sk-text-repr-fallback\"><pre>GridSearchCV(cv=5, estimator=SVC(kernel=&#x27;poly&#x27;), n_jobs=-1,\n",
       "             param_grid={&#x27;C&#x27;: [1, 10, 100, 1000, 10000, 100000],\n",
       "                         &#x27;gamma&#x27;: [0.01, 0.1, 0.2, 0.5, 0.75, 1]},\n",
       "             scoring=&#x27;recall&#x27;)</pre><b>Please rerun this cell to show the HTML repr or trust the notebook.</b></div><div class=\"sk-container\" hidden><div class=\"sk-item sk-dashed-wrapped\"><div class=\"sk-label-container\"><div class=\"sk-label sk-toggleable\"><input class=\"sk-toggleable__control sk-hidden--visually\" id=\"2d59dbff-de85-410f-a4db-7de4a7d4a897\" type=\"checkbox\" ><label for=\"2d59dbff-de85-410f-a4db-7de4a7d4a897\" class=\"sk-toggleable__label sk-toggleable__label-arrow\">GridSearchCV</label><div class=\"sk-toggleable__content\"><pre>GridSearchCV(cv=5, estimator=SVC(kernel=&#x27;poly&#x27;), n_jobs=-1,\n",
       "             param_grid={&#x27;C&#x27;: [1, 10, 100, 1000, 10000, 100000],\n",
       "                         &#x27;gamma&#x27;: [0.01, 0.1, 0.2, 0.5, 0.75, 1]},\n",
       "             scoring=&#x27;recall&#x27;)</pre></div></div></div><div class=\"sk-parallel\"><div class=\"sk-parallel-item\"><div class=\"sk-item\"><div class=\"sk-serial\"><div class=\"sk-item\"><div class=\"sk-estimator sk-toggleable\"><input class=\"sk-toggleable__control sk-hidden--visually\" id=\"1695a479-6e83-4524-9d78-4b5021410007\" type=\"checkbox\" ><label for=\"1695a479-6e83-4524-9d78-4b5021410007\" class=\"sk-toggleable__label sk-toggleable__label-arrow\">SVC</label><div class=\"sk-toggleable__content\"><pre>SVC(kernel=&#x27;poly&#x27;)</pre></div></div></div></div></div></div></div></div></div></div>"
      ],
      "text/plain": [
       "GridSearchCV(cv=5, estimator=SVC(kernel='poly'), n_jobs=-1,\n",
       "             param_grid={'C': [1, 10, 100, 1000, 10000, 100000],\n",
       "                         'gamma': [0.01, 0.1, 0.2, 0.5, 0.75, 1]},\n",
       "             scoring='recall')"
      ]
     },
     "execution_count": 47,
     "metadata": {},
     "output_type": "execute_result"
    }
   ],
   "source": [
    "from sklearn.svm import SVC\n",
    "\n",
    "model_svc_poly = SVC(kernel=\"poly\")\n",
    "\n",
    "parameters = {'C': [1, 10, 100, 1000, 10000, 100000],\n",
    "              'gamma': [0.01, 0.1, 0.2, 0.5, 0.75, 1]}\n",
    "\n",
    "gridsearch2 = GridSearchCV(model_svc_poly,\n",
    "                          parameters,\n",
    "                          n_jobs=-1,\n",
    "                          cv=5,\n",
    "                          scoring=\"recall\")\n",
    "\n",
    "gridsearch2.fit(X_train, y_train)"
   ]
  },
  {
   "cell_type": "code",
   "execution_count": 48,
   "id": "afb44d0d",
   "metadata": {},
   "outputs": [
    {
     "data": {
      "text/plain": [
       "{'C': 10, 'gamma': 1}"
      ]
     },
     "execution_count": 48,
     "metadata": {},
     "output_type": "execute_result"
    }
   ],
   "source": [
    "gridsearch2.best_params_"
   ]
  },
  {
   "cell_type": "code",
   "execution_count": 49,
   "id": "08797a71",
   "metadata": {},
   "outputs": [
    {
     "data": {
      "text/plain": [
       "0.7462450592885375"
      ]
     },
     "execution_count": 49,
     "metadata": {},
     "output_type": "execute_result"
    }
   ],
   "source": [
    "gridsearch2.best_score_"
   ]
  },
  {
   "cell_type": "code",
   "execution_count": 51,
   "id": "2b4796ac",
   "metadata": {},
   "outputs": [
    {
     "data": {
      "text/html": [
       "<style>#sk-17b9d7e4-fff9-498e-99b7-05e459961040 {color: black;background-color: white;}#sk-17b9d7e4-fff9-498e-99b7-05e459961040 pre{padding: 0;}#sk-17b9d7e4-fff9-498e-99b7-05e459961040 div.sk-toggleable {background-color: white;}#sk-17b9d7e4-fff9-498e-99b7-05e459961040 label.sk-toggleable__label {cursor: pointer;display: block;width: 100%;margin-bottom: 0;padding: 0.3em;box-sizing: border-box;text-align: center;}#sk-17b9d7e4-fff9-498e-99b7-05e459961040 label.sk-toggleable__label-arrow:before {content: \"▸\";float: left;margin-right: 0.25em;color: #696969;}#sk-17b9d7e4-fff9-498e-99b7-05e459961040 label.sk-toggleable__label-arrow:hover:before {color: black;}#sk-17b9d7e4-fff9-498e-99b7-05e459961040 div.sk-estimator:hover label.sk-toggleable__label-arrow:before {color: black;}#sk-17b9d7e4-fff9-498e-99b7-05e459961040 div.sk-toggleable__content {max-height: 0;max-width: 0;overflow: hidden;text-align: left;background-color: #f0f8ff;}#sk-17b9d7e4-fff9-498e-99b7-05e459961040 div.sk-toggleable__content pre {margin: 0.2em;color: black;border-radius: 0.25em;background-color: #f0f8ff;}#sk-17b9d7e4-fff9-498e-99b7-05e459961040 input.sk-toggleable__control:checked~div.sk-toggleable__content {max-height: 200px;max-width: 100%;overflow: auto;}#sk-17b9d7e4-fff9-498e-99b7-05e459961040 input.sk-toggleable__control:checked~label.sk-toggleable__label-arrow:before {content: \"▾\";}#sk-17b9d7e4-fff9-498e-99b7-05e459961040 div.sk-estimator input.sk-toggleable__control:checked~label.sk-toggleable__label {background-color: #d4ebff;}#sk-17b9d7e4-fff9-498e-99b7-05e459961040 div.sk-label input.sk-toggleable__control:checked~label.sk-toggleable__label {background-color: #d4ebff;}#sk-17b9d7e4-fff9-498e-99b7-05e459961040 input.sk-hidden--visually {border: 0;clip: rect(1px 1px 1px 1px);clip: rect(1px, 1px, 1px, 1px);height: 1px;margin: -1px;overflow: hidden;padding: 0;position: absolute;width: 1px;}#sk-17b9d7e4-fff9-498e-99b7-05e459961040 div.sk-estimator {font-family: monospace;background-color: #f0f8ff;border: 1px dotted black;border-radius: 0.25em;box-sizing: border-box;margin-bottom: 0.5em;}#sk-17b9d7e4-fff9-498e-99b7-05e459961040 div.sk-estimator:hover {background-color: #d4ebff;}#sk-17b9d7e4-fff9-498e-99b7-05e459961040 div.sk-parallel-item::after {content: \"\";width: 100%;border-bottom: 1px solid gray;flex-grow: 1;}#sk-17b9d7e4-fff9-498e-99b7-05e459961040 div.sk-label:hover label.sk-toggleable__label {background-color: #d4ebff;}#sk-17b9d7e4-fff9-498e-99b7-05e459961040 div.sk-serial::before {content: \"\";position: absolute;border-left: 1px solid gray;box-sizing: border-box;top: 2em;bottom: 0;left: 50%;}#sk-17b9d7e4-fff9-498e-99b7-05e459961040 div.sk-serial {display: flex;flex-direction: column;align-items: center;background-color: white;padding-right: 0.2em;padding-left: 0.2em;}#sk-17b9d7e4-fff9-498e-99b7-05e459961040 div.sk-item {z-index: 1;}#sk-17b9d7e4-fff9-498e-99b7-05e459961040 div.sk-parallel {display: flex;align-items: stretch;justify-content: center;background-color: white;}#sk-17b9d7e4-fff9-498e-99b7-05e459961040 div.sk-parallel::before {content: \"\";position: absolute;border-left: 1px solid gray;box-sizing: border-box;top: 2em;bottom: 0;left: 50%;}#sk-17b9d7e4-fff9-498e-99b7-05e459961040 div.sk-parallel-item {display: flex;flex-direction: column;position: relative;background-color: white;}#sk-17b9d7e4-fff9-498e-99b7-05e459961040 div.sk-parallel-item:first-child::after {align-self: flex-end;width: 50%;}#sk-17b9d7e4-fff9-498e-99b7-05e459961040 div.sk-parallel-item:last-child::after {align-self: flex-start;width: 50%;}#sk-17b9d7e4-fff9-498e-99b7-05e459961040 div.sk-parallel-item:only-child::after {width: 0;}#sk-17b9d7e4-fff9-498e-99b7-05e459961040 div.sk-dashed-wrapped {border: 1px dashed gray;margin: 0 0.4em 0.5em 0.4em;box-sizing: border-box;padding-bottom: 0.4em;background-color: white;position: relative;}#sk-17b9d7e4-fff9-498e-99b7-05e459961040 div.sk-label label {font-family: monospace;font-weight: bold;background-color: white;display: inline-block;line-height: 1.2em;}#sk-17b9d7e4-fff9-498e-99b7-05e459961040 div.sk-label-container {position: relative;z-index: 2;text-align: center;}#sk-17b9d7e4-fff9-498e-99b7-05e459961040 div.sk-container {/* jupyter's `normalize.less` sets `[hidden] { display: none; }` but bootstrap.min.css set `[hidden] { display: none !important; }` so we also need the `!important` here to be able to override the default hidden behavior on the sphinx rendered scikit-learn.org. See: https://github.com/scikit-learn/scikit-learn/issues/21755 */display: inline-block !important;position: relative;}#sk-17b9d7e4-fff9-498e-99b7-05e459961040 div.sk-text-repr-fallback {display: none;}</style><div id=\"sk-17b9d7e4-fff9-498e-99b7-05e459961040\" class=\"sk-top-container\"><div class=\"sk-text-repr-fallback\"><pre>SVC(C=10, gamma=1, kernel=&#x27;poly&#x27;)</pre><b>Please rerun this cell to show the HTML repr or trust the notebook.</b></div><div class=\"sk-container\" hidden><div class=\"sk-item\"><div class=\"sk-estimator sk-toggleable\"><input class=\"sk-toggleable__control sk-hidden--visually\" id=\"faf3b722-801c-4bf3-96d9-f63c61f787a7\" type=\"checkbox\" checked><label for=\"faf3b722-801c-4bf3-96d9-f63c61f787a7\" class=\"sk-toggleable__label sk-toggleable__label-arrow\">SVC</label><div class=\"sk-toggleable__content\"><pre>SVC(C=10, gamma=1, kernel=&#x27;poly&#x27;)</pre></div></div></div></div></div>"
      ],
      "text/plain": [
       "SVC(C=10, gamma=1, kernel='poly')"
      ]
     },
     "execution_count": 51,
     "metadata": {},
     "output_type": "execute_result"
    }
   ],
   "source": [
    "model_svc_poly_best = SVC(kernel=\"poly\", C= 10, gamma=1)\n",
    "model_svc_poly_best.fit(X_train, y_train)"
   ]
  },
  {
   "cell_type": "code",
   "execution_count": 52,
   "id": "1d2e8bfe",
   "metadata": {},
   "outputs": [],
   "source": [
    "y_pred2 = model_svc_poly_best.predict(X_test)"
   ]
  },
  {
   "cell_type": "code",
   "execution_count": 53,
   "id": "7ab2300e",
   "metadata": {},
   "outputs": [
    {
     "data": {
      "text/plain": [
       "(0.7946428571428571, 0.7547169811320755, 0.8)"
      ]
     },
     "execution_count": 53,
     "metadata": {},
     "output_type": "execute_result"
    }
   ],
   "source": [
    "accuracy_score(y_test, y_pred2), recall_score(y_test, y_pred2), precision_score(y_test, y_pred2)"
   ]
  },
  {
   "cell_type": "markdown",
   "id": "ee9c99c1",
   "metadata": {},
   "source": [
    "##### SVC: Rbf"
   ]
  },
  {
   "cell_type": "code",
   "execution_count": 54,
   "id": "bba0802d",
   "metadata": {},
   "outputs": [
    {
     "data": {
      "text/html": [
       "<style>#sk-16e04134-170a-474c-b81d-e3ea127a5e6e {color: black;background-color: white;}#sk-16e04134-170a-474c-b81d-e3ea127a5e6e pre{padding: 0;}#sk-16e04134-170a-474c-b81d-e3ea127a5e6e div.sk-toggleable {background-color: white;}#sk-16e04134-170a-474c-b81d-e3ea127a5e6e label.sk-toggleable__label {cursor: pointer;display: block;width: 100%;margin-bottom: 0;padding: 0.3em;box-sizing: border-box;text-align: center;}#sk-16e04134-170a-474c-b81d-e3ea127a5e6e label.sk-toggleable__label-arrow:before {content: \"▸\";float: left;margin-right: 0.25em;color: #696969;}#sk-16e04134-170a-474c-b81d-e3ea127a5e6e label.sk-toggleable__label-arrow:hover:before {color: black;}#sk-16e04134-170a-474c-b81d-e3ea127a5e6e div.sk-estimator:hover label.sk-toggleable__label-arrow:before {color: black;}#sk-16e04134-170a-474c-b81d-e3ea127a5e6e div.sk-toggleable__content {max-height: 0;max-width: 0;overflow: hidden;text-align: left;background-color: #f0f8ff;}#sk-16e04134-170a-474c-b81d-e3ea127a5e6e div.sk-toggleable__content pre {margin: 0.2em;color: black;border-radius: 0.25em;background-color: #f0f8ff;}#sk-16e04134-170a-474c-b81d-e3ea127a5e6e input.sk-toggleable__control:checked~div.sk-toggleable__content {max-height: 200px;max-width: 100%;overflow: auto;}#sk-16e04134-170a-474c-b81d-e3ea127a5e6e input.sk-toggleable__control:checked~label.sk-toggleable__label-arrow:before {content: \"▾\";}#sk-16e04134-170a-474c-b81d-e3ea127a5e6e div.sk-estimator input.sk-toggleable__control:checked~label.sk-toggleable__label {background-color: #d4ebff;}#sk-16e04134-170a-474c-b81d-e3ea127a5e6e div.sk-label input.sk-toggleable__control:checked~label.sk-toggleable__label {background-color: #d4ebff;}#sk-16e04134-170a-474c-b81d-e3ea127a5e6e input.sk-hidden--visually {border: 0;clip: rect(1px 1px 1px 1px);clip: rect(1px, 1px, 1px, 1px);height: 1px;margin: -1px;overflow: hidden;padding: 0;position: absolute;width: 1px;}#sk-16e04134-170a-474c-b81d-e3ea127a5e6e div.sk-estimator {font-family: monospace;background-color: #f0f8ff;border: 1px dotted black;border-radius: 0.25em;box-sizing: border-box;margin-bottom: 0.5em;}#sk-16e04134-170a-474c-b81d-e3ea127a5e6e div.sk-estimator:hover {background-color: #d4ebff;}#sk-16e04134-170a-474c-b81d-e3ea127a5e6e div.sk-parallel-item::after {content: \"\";width: 100%;border-bottom: 1px solid gray;flex-grow: 1;}#sk-16e04134-170a-474c-b81d-e3ea127a5e6e div.sk-label:hover label.sk-toggleable__label {background-color: #d4ebff;}#sk-16e04134-170a-474c-b81d-e3ea127a5e6e div.sk-serial::before {content: \"\";position: absolute;border-left: 1px solid gray;box-sizing: border-box;top: 2em;bottom: 0;left: 50%;}#sk-16e04134-170a-474c-b81d-e3ea127a5e6e div.sk-serial {display: flex;flex-direction: column;align-items: center;background-color: white;padding-right: 0.2em;padding-left: 0.2em;}#sk-16e04134-170a-474c-b81d-e3ea127a5e6e div.sk-item {z-index: 1;}#sk-16e04134-170a-474c-b81d-e3ea127a5e6e div.sk-parallel {display: flex;align-items: stretch;justify-content: center;background-color: white;}#sk-16e04134-170a-474c-b81d-e3ea127a5e6e div.sk-parallel::before {content: \"\";position: absolute;border-left: 1px solid gray;box-sizing: border-box;top: 2em;bottom: 0;left: 50%;}#sk-16e04134-170a-474c-b81d-e3ea127a5e6e div.sk-parallel-item {display: flex;flex-direction: column;position: relative;background-color: white;}#sk-16e04134-170a-474c-b81d-e3ea127a5e6e div.sk-parallel-item:first-child::after {align-self: flex-end;width: 50%;}#sk-16e04134-170a-474c-b81d-e3ea127a5e6e div.sk-parallel-item:last-child::after {align-self: flex-start;width: 50%;}#sk-16e04134-170a-474c-b81d-e3ea127a5e6e div.sk-parallel-item:only-child::after {width: 0;}#sk-16e04134-170a-474c-b81d-e3ea127a5e6e div.sk-dashed-wrapped {border: 1px dashed gray;margin: 0 0.4em 0.5em 0.4em;box-sizing: border-box;padding-bottom: 0.4em;background-color: white;position: relative;}#sk-16e04134-170a-474c-b81d-e3ea127a5e6e div.sk-label label {font-family: monospace;font-weight: bold;background-color: white;display: inline-block;line-height: 1.2em;}#sk-16e04134-170a-474c-b81d-e3ea127a5e6e div.sk-label-container {position: relative;z-index: 2;text-align: center;}#sk-16e04134-170a-474c-b81d-e3ea127a5e6e div.sk-container {/* jupyter's `normalize.less` sets `[hidden] { display: none; }` but bootstrap.min.css set `[hidden] { display: none !important; }` so we also need the `!important` here to be able to override the default hidden behavior on the sphinx rendered scikit-learn.org. See: https://github.com/scikit-learn/scikit-learn/issues/21755 */display: inline-block !important;position: relative;}#sk-16e04134-170a-474c-b81d-e3ea127a5e6e div.sk-text-repr-fallback {display: none;}</style><div id=\"sk-16e04134-170a-474c-b81d-e3ea127a5e6e\" class=\"sk-top-container\"><div class=\"sk-text-repr-fallback\"><pre>GridSearchCV(cv=10, estimator=SVC(max_iter=100000), n_jobs=-1,\n",
       "             param_grid={&#x27;C&#x27;: [1, 10, 50, 100, 500, 1000],\n",
       "                         &#x27;gamma&#x27;: [0.001, 0.01, 0.1, 0.2, 0.5, 0.75, 1]},\n",
       "             scoring=&#x27;recall&#x27;)</pre><b>Please rerun this cell to show the HTML repr or trust the notebook.</b></div><div class=\"sk-container\" hidden><div class=\"sk-item sk-dashed-wrapped\"><div class=\"sk-label-container\"><div class=\"sk-label sk-toggleable\"><input class=\"sk-toggleable__control sk-hidden--visually\" id=\"f120a201-b9bd-4341-b013-6245b9682e89\" type=\"checkbox\" ><label for=\"f120a201-b9bd-4341-b013-6245b9682e89\" class=\"sk-toggleable__label sk-toggleable__label-arrow\">GridSearchCV</label><div class=\"sk-toggleable__content\"><pre>GridSearchCV(cv=10, estimator=SVC(max_iter=100000), n_jobs=-1,\n",
       "             param_grid={&#x27;C&#x27;: [1, 10, 50, 100, 500, 1000],\n",
       "                         &#x27;gamma&#x27;: [0.001, 0.01, 0.1, 0.2, 0.5, 0.75, 1]},\n",
       "             scoring=&#x27;recall&#x27;)</pre></div></div></div><div class=\"sk-parallel\"><div class=\"sk-parallel-item\"><div class=\"sk-item\"><div class=\"sk-serial\"><div class=\"sk-item\"><div class=\"sk-estimator sk-toggleable\"><input class=\"sk-toggleable__control sk-hidden--visually\" id=\"b93598bc-1e47-454f-bad9-2965e771ffd8\" type=\"checkbox\" ><label for=\"b93598bc-1e47-454f-bad9-2965e771ffd8\" class=\"sk-toggleable__label sk-toggleable__label-arrow\">SVC</label><div class=\"sk-toggleable__content\"><pre>SVC(max_iter=100000)</pre></div></div></div></div></div></div></div></div></div></div>"
      ],
      "text/plain": [
       "GridSearchCV(cv=10, estimator=SVC(max_iter=100000), n_jobs=-1,\n",
       "             param_grid={'C': [1, 10, 50, 100, 500, 1000],\n",
       "                         'gamma': [0.001, 0.01, 0.1, 0.2, 0.5, 0.75, 1]},\n",
       "             scoring='recall')"
      ]
     },
     "execution_count": 54,
     "metadata": {},
     "output_type": "execute_result"
    }
   ],
   "source": [
    "from sklearn.svm import SVC\n",
    "from sklearn.model_selection import GridSearchCV\n",
    "\n",
    "model_svc_rbf = SVC(kernel= 'rbf', max_iter=100000)\n",
    "\n",
    "parameters = {'C': [1, 10, 50, 100, 500, 1000],\n",
    "              'gamma': [0.001, 0.01, 0.1, 0.2, 0.5, 0.75, 1]}\n",
    "\n",
    "gridsearch3 = GridSearchCV(model_svc_rbf,\n",
    "                          parameters,\n",
    "                          n_jobs=-1,\n",
    "                          cv=10,\n",
    "                          scoring=\"recall\")\n",
    "\n",
    "gridsearch3.fit(X_train, y_train)"
   ]
  },
  {
   "cell_type": "code",
   "execution_count": 55,
   "id": "a4d844c1",
   "metadata": {
    "scrolled": true
   },
   "outputs": [
    {
     "data": {
      "text/plain": [
       "{'C': 10, 'gamma': 0.75}"
      ]
     },
     "execution_count": 55,
     "metadata": {},
     "output_type": "execute_result"
    }
   ],
   "source": [
    "gridsearch3.best_params_"
   ]
  },
  {
   "cell_type": "code",
   "execution_count": 56,
   "id": "34bf9bed",
   "metadata": {},
   "outputs": [
    {
     "data": {
      "text/plain": [
       "0.7583333333333334"
      ]
     },
     "execution_count": 56,
     "metadata": {},
     "output_type": "execute_result"
    }
   ],
   "source": [
    "gridsearch3.best_score_"
   ]
  },
  {
   "cell_type": "code",
   "execution_count": 57,
   "id": "a7e1562b",
   "metadata": {},
   "outputs": [
    {
     "data": {
      "text/html": [
       "<style>#sk-e5808559-d7a6-4d4e-93fb-d999824b02c9 {color: black;background-color: white;}#sk-e5808559-d7a6-4d4e-93fb-d999824b02c9 pre{padding: 0;}#sk-e5808559-d7a6-4d4e-93fb-d999824b02c9 div.sk-toggleable {background-color: white;}#sk-e5808559-d7a6-4d4e-93fb-d999824b02c9 label.sk-toggleable__label {cursor: pointer;display: block;width: 100%;margin-bottom: 0;padding: 0.3em;box-sizing: border-box;text-align: center;}#sk-e5808559-d7a6-4d4e-93fb-d999824b02c9 label.sk-toggleable__label-arrow:before {content: \"▸\";float: left;margin-right: 0.25em;color: #696969;}#sk-e5808559-d7a6-4d4e-93fb-d999824b02c9 label.sk-toggleable__label-arrow:hover:before {color: black;}#sk-e5808559-d7a6-4d4e-93fb-d999824b02c9 div.sk-estimator:hover label.sk-toggleable__label-arrow:before {color: black;}#sk-e5808559-d7a6-4d4e-93fb-d999824b02c9 div.sk-toggleable__content {max-height: 0;max-width: 0;overflow: hidden;text-align: left;background-color: #f0f8ff;}#sk-e5808559-d7a6-4d4e-93fb-d999824b02c9 div.sk-toggleable__content pre {margin: 0.2em;color: black;border-radius: 0.25em;background-color: #f0f8ff;}#sk-e5808559-d7a6-4d4e-93fb-d999824b02c9 input.sk-toggleable__control:checked~div.sk-toggleable__content {max-height: 200px;max-width: 100%;overflow: auto;}#sk-e5808559-d7a6-4d4e-93fb-d999824b02c9 input.sk-toggleable__control:checked~label.sk-toggleable__label-arrow:before {content: \"▾\";}#sk-e5808559-d7a6-4d4e-93fb-d999824b02c9 div.sk-estimator input.sk-toggleable__control:checked~label.sk-toggleable__label {background-color: #d4ebff;}#sk-e5808559-d7a6-4d4e-93fb-d999824b02c9 div.sk-label input.sk-toggleable__control:checked~label.sk-toggleable__label {background-color: #d4ebff;}#sk-e5808559-d7a6-4d4e-93fb-d999824b02c9 input.sk-hidden--visually {border: 0;clip: rect(1px 1px 1px 1px);clip: rect(1px, 1px, 1px, 1px);height: 1px;margin: -1px;overflow: hidden;padding: 0;position: absolute;width: 1px;}#sk-e5808559-d7a6-4d4e-93fb-d999824b02c9 div.sk-estimator {font-family: monospace;background-color: #f0f8ff;border: 1px dotted black;border-radius: 0.25em;box-sizing: border-box;margin-bottom: 0.5em;}#sk-e5808559-d7a6-4d4e-93fb-d999824b02c9 div.sk-estimator:hover {background-color: #d4ebff;}#sk-e5808559-d7a6-4d4e-93fb-d999824b02c9 div.sk-parallel-item::after {content: \"\";width: 100%;border-bottom: 1px solid gray;flex-grow: 1;}#sk-e5808559-d7a6-4d4e-93fb-d999824b02c9 div.sk-label:hover label.sk-toggleable__label {background-color: #d4ebff;}#sk-e5808559-d7a6-4d4e-93fb-d999824b02c9 div.sk-serial::before {content: \"\";position: absolute;border-left: 1px solid gray;box-sizing: border-box;top: 2em;bottom: 0;left: 50%;}#sk-e5808559-d7a6-4d4e-93fb-d999824b02c9 div.sk-serial {display: flex;flex-direction: column;align-items: center;background-color: white;padding-right: 0.2em;padding-left: 0.2em;}#sk-e5808559-d7a6-4d4e-93fb-d999824b02c9 div.sk-item {z-index: 1;}#sk-e5808559-d7a6-4d4e-93fb-d999824b02c9 div.sk-parallel {display: flex;align-items: stretch;justify-content: center;background-color: white;}#sk-e5808559-d7a6-4d4e-93fb-d999824b02c9 div.sk-parallel::before {content: \"\";position: absolute;border-left: 1px solid gray;box-sizing: border-box;top: 2em;bottom: 0;left: 50%;}#sk-e5808559-d7a6-4d4e-93fb-d999824b02c9 div.sk-parallel-item {display: flex;flex-direction: column;position: relative;background-color: white;}#sk-e5808559-d7a6-4d4e-93fb-d999824b02c9 div.sk-parallel-item:first-child::after {align-self: flex-end;width: 50%;}#sk-e5808559-d7a6-4d4e-93fb-d999824b02c9 div.sk-parallel-item:last-child::after {align-self: flex-start;width: 50%;}#sk-e5808559-d7a6-4d4e-93fb-d999824b02c9 div.sk-parallel-item:only-child::after {width: 0;}#sk-e5808559-d7a6-4d4e-93fb-d999824b02c9 div.sk-dashed-wrapped {border: 1px dashed gray;margin: 0 0.4em 0.5em 0.4em;box-sizing: border-box;padding-bottom: 0.4em;background-color: white;position: relative;}#sk-e5808559-d7a6-4d4e-93fb-d999824b02c9 div.sk-label label {font-family: monospace;font-weight: bold;background-color: white;display: inline-block;line-height: 1.2em;}#sk-e5808559-d7a6-4d4e-93fb-d999824b02c9 div.sk-label-container {position: relative;z-index: 2;text-align: center;}#sk-e5808559-d7a6-4d4e-93fb-d999824b02c9 div.sk-container {/* jupyter's `normalize.less` sets `[hidden] { display: none; }` but bootstrap.min.css set `[hidden] { display: none !important; }` so we also need the `!important` here to be able to override the default hidden behavior on the sphinx rendered scikit-learn.org. See: https://github.com/scikit-learn/scikit-learn/issues/21755 */display: inline-block !important;position: relative;}#sk-e5808559-d7a6-4d4e-93fb-d999824b02c9 div.sk-text-repr-fallback {display: none;}</style><div id=\"sk-e5808559-d7a6-4d4e-93fb-d999824b02c9\" class=\"sk-top-container\"><div class=\"sk-text-repr-fallback\"><pre>SVC(C=10, gamma=0.75)</pre><b>Please rerun this cell to show the HTML repr or trust the notebook.</b></div><div class=\"sk-container\" hidden><div class=\"sk-item\"><div class=\"sk-estimator sk-toggleable\"><input class=\"sk-toggleable__control sk-hidden--visually\" id=\"53f480bf-2df6-4d68-9343-fec9c6466d98\" type=\"checkbox\" checked><label for=\"53f480bf-2df6-4d68-9343-fec9c6466d98\" class=\"sk-toggleable__label sk-toggleable__label-arrow\">SVC</label><div class=\"sk-toggleable__content\"><pre>SVC(C=10, gamma=0.75)</pre></div></div></div></div></div>"
      ],
      "text/plain": [
       "SVC(C=10, gamma=0.75)"
      ]
     },
     "execution_count": 57,
     "metadata": {},
     "output_type": "execute_result"
    }
   ],
   "source": [
    "model_svc_rbf_best = SVC(kernel=\"rbf\", C= 10, gamma=0.75)\n",
    "model_svc_rbf_best.fit(X_train, y_train)"
   ]
  },
  {
   "cell_type": "code",
   "execution_count": 58,
   "id": "68f7f500",
   "metadata": {},
   "outputs": [],
   "source": [
    "y_pred3 = model_svc_rbf_best.predict(X_test)"
   ]
  },
  {
   "cell_type": "code",
   "execution_count": 59,
   "id": "ae7f2541",
   "metadata": {},
   "outputs": [
    {
     "data": {
      "text/plain": [
       "(0.8125, 0.8113207547169812, 0.7962962962962963)"
      ]
     },
     "execution_count": 59,
     "metadata": {},
     "output_type": "execute_result"
    }
   ],
   "source": [
    "accuracy_score(y_test, y_pred3), recall_score(y_test, y_pred3), precision_score(y_test, y_pred3)"
   ]
  },
  {
   "cell_type": "markdown",
   "id": "45ef2198",
   "metadata": {},
   "source": [
    "#### KNeighbors Classifier"
   ]
  },
  {
   "cell_type": "code",
   "execution_count": 60,
   "id": "9ff9be06",
   "metadata": {},
   "outputs": [
    {
     "data": {
      "text/html": [
       "<style>#sk-ddcd4511-fb0a-431d-aa3d-b293d59aff3f {color: black;background-color: white;}#sk-ddcd4511-fb0a-431d-aa3d-b293d59aff3f pre{padding: 0;}#sk-ddcd4511-fb0a-431d-aa3d-b293d59aff3f div.sk-toggleable {background-color: white;}#sk-ddcd4511-fb0a-431d-aa3d-b293d59aff3f label.sk-toggleable__label {cursor: pointer;display: block;width: 100%;margin-bottom: 0;padding: 0.3em;box-sizing: border-box;text-align: center;}#sk-ddcd4511-fb0a-431d-aa3d-b293d59aff3f label.sk-toggleable__label-arrow:before {content: \"▸\";float: left;margin-right: 0.25em;color: #696969;}#sk-ddcd4511-fb0a-431d-aa3d-b293d59aff3f label.sk-toggleable__label-arrow:hover:before {color: black;}#sk-ddcd4511-fb0a-431d-aa3d-b293d59aff3f div.sk-estimator:hover label.sk-toggleable__label-arrow:before {color: black;}#sk-ddcd4511-fb0a-431d-aa3d-b293d59aff3f div.sk-toggleable__content {max-height: 0;max-width: 0;overflow: hidden;text-align: left;background-color: #f0f8ff;}#sk-ddcd4511-fb0a-431d-aa3d-b293d59aff3f div.sk-toggleable__content pre {margin: 0.2em;color: black;border-radius: 0.25em;background-color: #f0f8ff;}#sk-ddcd4511-fb0a-431d-aa3d-b293d59aff3f input.sk-toggleable__control:checked~div.sk-toggleable__content {max-height: 200px;max-width: 100%;overflow: auto;}#sk-ddcd4511-fb0a-431d-aa3d-b293d59aff3f input.sk-toggleable__control:checked~label.sk-toggleable__label-arrow:before {content: \"▾\";}#sk-ddcd4511-fb0a-431d-aa3d-b293d59aff3f div.sk-estimator input.sk-toggleable__control:checked~label.sk-toggleable__label {background-color: #d4ebff;}#sk-ddcd4511-fb0a-431d-aa3d-b293d59aff3f div.sk-label input.sk-toggleable__control:checked~label.sk-toggleable__label {background-color: #d4ebff;}#sk-ddcd4511-fb0a-431d-aa3d-b293d59aff3f input.sk-hidden--visually {border: 0;clip: rect(1px 1px 1px 1px);clip: rect(1px, 1px, 1px, 1px);height: 1px;margin: -1px;overflow: hidden;padding: 0;position: absolute;width: 1px;}#sk-ddcd4511-fb0a-431d-aa3d-b293d59aff3f div.sk-estimator {font-family: monospace;background-color: #f0f8ff;border: 1px dotted black;border-radius: 0.25em;box-sizing: border-box;margin-bottom: 0.5em;}#sk-ddcd4511-fb0a-431d-aa3d-b293d59aff3f div.sk-estimator:hover {background-color: #d4ebff;}#sk-ddcd4511-fb0a-431d-aa3d-b293d59aff3f div.sk-parallel-item::after {content: \"\";width: 100%;border-bottom: 1px solid gray;flex-grow: 1;}#sk-ddcd4511-fb0a-431d-aa3d-b293d59aff3f div.sk-label:hover label.sk-toggleable__label {background-color: #d4ebff;}#sk-ddcd4511-fb0a-431d-aa3d-b293d59aff3f div.sk-serial::before {content: \"\";position: absolute;border-left: 1px solid gray;box-sizing: border-box;top: 2em;bottom: 0;left: 50%;}#sk-ddcd4511-fb0a-431d-aa3d-b293d59aff3f div.sk-serial {display: flex;flex-direction: column;align-items: center;background-color: white;padding-right: 0.2em;padding-left: 0.2em;}#sk-ddcd4511-fb0a-431d-aa3d-b293d59aff3f div.sk-item {z-index: 1;}#sk-ddcd4511-fb0a-431d-aa3d-b293d59aff3f div.sk-parallel {display: flex;align-items: stretch;justify-content: center;background-color: white;}#sk-ddcd4511-fb0a-431d-aa3d-b293d59aff3f div.sk-parallel::before {content: \"\";position: absolute;border-left: 1px solid gray;box-sizing: border-box;top: 2em;bottom: 0;left: 50%;}#sk-ddcd4511-fb0a-431d-aa3d-b293d59aff3f div.sk-parallel-item {display: flex;flex-direction: column;position: relative;background-color: white;}#sk-ddcd4511-fb0a-431d-aa3d-b293d59aff3f div.sk-parallel-item:first-child::after {align-self: flex-end;width: 50%;}#sk-ddcd4511-fb0a-431d-aa3d-b293d59aff3f div.sk-parallel-item:last-child::after {align-self: flex-start;width: 50%;}#sk-ddcd4511-fb0a-431d-aa3d-b293d59aff3f div.sk-parallel-item:only-child::after {width: 0;}#sk-ddcd4511-fb0a-431d-aa3d-b293d59aff3f div.sk-dashed-wrapped {border: 1px dashed gray;margin: 0 0.4em 0.5em 0.4em;box-sizing: border-box;padding-bottom: 0.4em;background-color: white;position: relative;}#sk-ddcd4511-fb0a-431d-aa3d-b293d59aff3f div.sk-label label {font-family: monospace;font-weight: bold;background-color: white;display: inline-block;line-height: 1.2em;}#sk-ddcd4511-fb0a-431d-aa3d-b293d59aff3f div.sk-label-container {position: relative;z-index: 2;text-align: center;}#sk-ddcd4511-fb0a-431d-aa3d-b293d59aff3f div.sk-container {/* jupyter's `normalize.less` sets `[hidden] { display: none; }` but bootstrap.min.css set `[hidden] { display: none !important; }` so we also need the `!important` here to be able to override the default hidden behavior on the sphinx rendered scikit-learn.org. See: https://github.com/scikit-learn/scikit-learn/issues/21755 */display: inline-block !important;position: relative;}#sk-ddcd4511-fb0a-431d-aa3d-b293d59aff3f div.sk-text-repr-fallback {display: none;}</style><div id=\"sk-ddcd4511-fb0a-431d-aa3d-b293d59aff3f\" class=\"sk-top-container\"><div class=\"sk-text-repr-fallback\"><pre>GridSearchCV(cv=5, estimator=KNeighborsClassifier(), n_jobs=-1,\n",
       "             param_grid={&#x27;n_neighbors&#x27;: range(2, 30)}, scoring=&#x27;recall&#x27;)</pre><b>Please rerun this cell to show the HTML repr or trust the notebook.</b></div><div class=\"sk-container\" hidden><div class=\"sk-item sk-dashed-wrapped\"><div class=\"sk-label-container\"><div class=\"sk-label sk-toggleable\"><input class=\"sk-toggleable__control sk-hidden--visually\" id=\"ea3e3b03-f580-44a9-83fc-17e8beb05e7d\" type=\"checkbox\" ><label for=\"ea3e3b03-f580-44a9-83fc-17e8beb05e7d\" class=\"sk-toggleable__label sk-toggleable__label-arrow\">GridSearchCV</label><div class=\"sk-toggleable__content\"><pre>GridSearchCV(cv=5, estimator=KNeighborsClassifier(), n_jobs=-1,\n",
       "             param_grid={&#x27;n_neighbors&#x27;: range(2, 30)}, scoring=&#x27;recall&#x27;)</pre></div></div></div><div class=\"sk-parallel\"><div class=\"sk-parallel-item\"><div class=\"sk-item\"><div class=\"sk-serial\"><div class=\"sk-item\"><div class=\"sk-estimator sk-toggleable\"><input class=\"sk-toggleable__control sk-hidden--visually\" id=\"8db01388-3baf-4d5b-a4eb-4e4df06226fe\" type=\"checkbox\" ><label for=\"8db01388-3baf-4d5b-a4eb-4e4df06226fe\" class=\"sk-toggleable__label sk-toggleable__label-arrow\">KNeighborsClassifier</label><div class=\"sk-toggleable__content\"><pre>KNeighborsClassifier()</pre></div></div></div></div></div></div></div></div></div></div>"
      ],
      "text/plain": [
       "GridSearchCV(cv=5, estimator=KNeighborsClassifier(), n_jobs=-1,\n",
       "             param_grid={'n_neighbors': range(2, 30)}, scoring='recall')"
      ]
     },
     "execution_count": 60,
     "metadata": {},
     "output_type": "execute_result"
    }
   ],
   "source": [
    "from sklearn.neighbors import KNeighborsClassifier\n",
    "\n",
    "knc = KNeighborsClassifier()\n",
    "\n",
    "parameters = {'n_neighbors': range(2,30)}\n",
    "\n",
    "gridsearch4 = GridSearchCV(knc,\n",
    "                          parameters,\n",
    "                          n_jobs=-1,\n",
    "                          cv=5,\n",
    "                          scoring=\"recall\")\n",
    "\n",
    "gridsearch4.fit(X_train, y_train)"
   ]
  },
  {
   "cell_type": "code",
   "execution_count": 61,
   "id": "73a7b417",
   "metadata": {},
   "outputs": [
    {
     "data": {
      "text/plain": [
       "{'n_neighbors': 5}"
      ]
     },
     "execution_count": 61,
     "metadata": {},
     "output_type": "execute_result"
    }
   ],
   "source": [
    "gridsearch4.best_params_"
   ]
  },
  {
   "cell_type": "code",
   "execution_count": 62,
   "id": "6e46b4a3",
   "metadata": {},
   "outputs": [
    {
     "data": {
      "text/plain": [
       "0.7367588932806324"
      ]
     },
     "execution_count": 62,
     "metadata": {},
     "output_type": "execute_result"
    }
   ],
   "source": [
    "gridsearch4.best_score_"
   ]
  },
  {
   "cell_type": "code",
   "execution_count": 63,
   "id": "8c08f9ef",
   "metadata": {},
   "outputs": [
    {
     "data": {
      "text/html": [
       "<style>#sk-76597be0-f487-4e06-9f2f-557164d6806f {color: black;background-color: white;}#sk-76597be0-f487-4e06-9f2f-557164d6806f pre{padding: 0;}#sk-76597be0-f487-4e06-9f2f-557164d6806f div.sk-toggleable {background-color: white;}#sk-76597be0-f487-4e06-9f2f-557164d6806f label.sk-toggleable__label {cursor: pointer;display: block;width: 100%;margin-bottom: 0;padding: 0.3em;box-sizing: border-box;text-align: center;}#sk-76597be0-f487-4e06-9f2f-557164d6806f label.sk-toggleable__label-arrow:before {content: \"▸\";float: left;margin-right: 0.25em;color: #696969;}#sk-76597be0-f487-4e06-9f2f-557164d6806f label.sk-toggleable__label-arrow:hover:before {color: black;}#sk-76597be0-f487-4e06-9f2f-557164d6806f div.sk-estimator:hover label.sk-toggleable__label-arrow:before {color: black;}#sk-76597be0-f487-4e06-9f2f-557164d6806f div.sk-toggleable__content {max-height: 0;max-width: 0;overflow: hidden;text-align: left;background-color: #f0f8ff;}#sk-76597be0-f487-4e06-9f2f-557164d6806f div.sk-toggleable__content pre {margin: 0.2em;color: black;border-radius: 0.25em;background-color: #f0f8ff;}#sk-76597be0-f487-4e06-9f2f-557164d6806f input.sk-toggleable__control:checked~div.sk-toggleable__content {max-height: 200px;max-width: 100%;overflow: auto;}#sk-76597be0-f487-4e06-9f2f-557164d6806f input.sk-toggleable__control:checked~label.sk-toggleable__label-arrow:before {content: \"▾\";}#sk-76597be0-f487-4e06-9f2f-557164d6806f div.sk-estimator input.sk-toggleable__control:checked~label.sk-toggleable__label {background-color: #d4ebff;}#sk-76597be0-f487-4e06-9f2f-557164d6806f div.sk-label input.sk-toggleable__control:checked~label.sk-toggleable__label {background-color: #d4ebff;}#sk-76597be0-f487-4e06-9f2f-557164d6806f input.sk-hidden--visually {border: 0;clip: rect(1px 1px 1px 1px);clip: rect(1px, 1px, 1px, 1px);height: 1px;margin: -1px;overflow: hidden;padding: 0;position: absolute;width: 1px;}#sk-76597be0-f487-4e06-9f2f-557164d6806f div.sk-estimator {font-family: monospace;background-color: #f0f8ff;border: 1px dotted black;border-radius: 0.25em;box-sizing: border-box;margin-bottom: 0.5em;}#sk-76597be0-f487-4e06-9f2f-557164d6806f div.sk-estimator:hover {background-color: #d4ebff;}#sk-76597be0-f487-4e06-9f2f-557164d6806f div.sk-parallel-item::after {content: \"\";width: 100%;border-bottom: 1px solid gray;flex-grow: 1;}#sk-76597be0-f487-4e06-9f2f-557164d6806f div.sk-label:hover label.sk-toggleable__label {background-color: #d4ebff;}#sk-76597be0-f487-4e06-9f2f-557164d6806f div.sk-serial::before {content: \"\";position: absolute;border-left: 1px solid gray;box-sizing: border-box;top: 2em;bottom: 0;left: 50%;}#sk-76597be0-f487-4e06-9f2f-557164d6806f div.sk-serial {display: flex;flex-direction: column;align-items: center;background-color: white;padding-right: 0.2em;padding-left: 0.2em;}#sk-76597be0-f487-4e06-9f2f-557164d6806f div.sk-item {z-index: 1;}#sk-76597be0-f487-4e06-9f2f-557164d6806f div.sk-parallel {display: flex;align-items: stretch;justify-content: center;background-color: white;}#sk-76597be0-f487-4e06-9f2f-557164d6806f div.sk-parallel::before {content: \"\";position: absolute;border-left: 1px solid gray;box-sizing: border-box;top: 2em;bottom: 0;left: 50%;}#sk-76597be0-f487-4e06-9f2f-557164d6806f div.sk-parallel-item {display: flex;flex-direction: column;position: relative;background-color: white;}#sk-76597be0-f487-4e06-9f2f-557164d6806f div.sk-parallel-item:first-child::after {align-self: flex-end;width: 50%;}#sk-76597be0-f487-4e06-9f2f-557164d6806f div.sk-parallel-item:last-child::after {align-self: flex-start;width: 50%;}#sk-76597be0-f487-4e06-9f2f-557164d6806f div.sk-parallel-item:only-child::after {width: 0;}#sk-76597be0-f487-4e06-9f2f-557164d6806f div.sk-dashed-wrapped {border: 1px dashed gray;margin: 0 0.4em 0.5em 0.4em;box-sizing: border-box;padding-bottom: 0.4em;background-color: white;position: relative;}#sk-76597be0-f487-4e06-9f2f-557164d6806f div.sk-label label {font-family: monospace;font-weight: bold;background-color: white;display: inline-block;line-height: 1.2em;}#sk-76597be0-f487-4e06-9f2f-557164d6806f div.sk-label-container {position: relative;z-index: 2;text-align: center;}#sk-76597be0-f487-4e06-9f2f-557164d6806f div.sk-container {/* jupyter's `normalize.less` sets `[hidden] { display: none; }` but bootstrap.min.css set `[hidden] { display: none !important; }` so we also need the `!important` here to be able to override the default hidden behavior on the sphinx rendered scikit-learn.org. See: https://github.com/scikit-learn/scikit-learn/issues/21755 */display: inline-block !important;position: relative;}#sk-76597be0-f487-4e06-9f2f-557164d6806f div.sk-text-repr-fallback {display: none;}</style><div id=\"sk-76597be0-f487-4e06-9f2f-557164d6806f\" class=\"sk-top-container\"><div class=\"sk-text-repr-fallback\"><pre>KNeighborsClassifier()</pre><b>Please rerun this cell to show the HTML repr or trust the notebook.</b></div><div class=\"sk-container\" hidden><div class=\"sk-item\"><div class=\"sk-estimator sk-toggleable\"><input class=\"sk-toggleable__control sk-hidden--visually\" id=\"1dd03c2d-787d-48ab-b491-ae0f328584bf\" type=\"checkbox\" checked><label for=\"1dd03c2d-787d-48ab-b491-ae0f328584bf\" class=\"sk-toggleable__label sk-toggleable__label-arrow\">KNeighborsClassifier</label><div class=\"sk-toggleable__content\"><pre>KNeighborsClassifier()</pre></div></div></div></div></div>"
      ],
      "text/plain": [
       "KNeighborsClassifier()"
      ]
     },
     "execution_count": 63,
     "metadata": {},
     "output_type": "execute_result"
    }
   ],
   "source": [
    "model_knc_best = KNeighborsClassifier(n_neighbors= 5)\n",
    "model_knc_best.fit(X_train, y_train)"
   ]
  },
  {
   "cell_type": "code",
   "execution_count": 64,
   "id": "c7135308",
   "metadata": {},
   "outputs": [],
   "source": [
    "y_pred4 = model_knc_best.predict(X_test)"
   ]
  },
  {
   "cell_type": "code",
   "execution_count": 65,
   "id": "614238ff",
   "metadata": {},
   "outputs": [
    {
     "data": {
      "text/plain": [
       "(0.8214285714285714, 0.7358490566037735, 0.8666666666666667)"
      ]
     },
     "execution_count": 65,
     "metadata": {},
     "output_type": "execute_result"
    }
   ],
   "source": [
    "accuracy_score(y_test, y_pred4), recall_score(y_test, y_pred4), precision_score(y_test, y_pred4)"
   ]
  },
  {
   "cell_type": "markdown",
   "id": "f84949a0",
   "metadata": {},
   "source": [
    "#### Decision Tree"
   ]
  },
  {
   "cell_type": "markdown",
   "id": "582a6876",
   "metadata": {},
   "source": [
    "We will create now a Decision Tree, to break down the data through binary decisions."
   ]
  },
  {
   "cell_type": "code",
   "execution_count": 66,
   "id": "14ed676b",
   "metadata": {},
   "outputs": [
    {
     "data": {
      "text/html": [
       "<style>#sk-fe2fbbb1-1ed2-4829-9e37-782c8e89a861 {color: black;background-color: white;}#sk-fe2fbbb1-1ed2-4829-9e37-782c8e89a861 pre{padding: 0;}#sk-fe2fbbb1-1ed2-4829-9e37-782c8e89a861 div.sk-toggleable {background-color: white;}#sk-fe2fbbb1-1ed2-4829-9e37-782c8e89a861 label.sk-toggleable__label {cursor: pointer;display: block;width: 100%;margin-bottom: 0;padding: 0.3em;box-sizing: border-box;text-align: center;}#sk-fe2fbbb1-1ed2-4829-9e37-782c8e89a861 label.sk-toggleable__label-arrow:before {content: \"▸\";float: left;margin-right: 0.25em;color: #696969;}#sk-fe2fbbb1-1ed2-4829-9e37-782c8e89a861 label.sk-toggleable__label-arrow:hover:before {color: black;}#sk-fe2fbbb1-1ed2-4829-9e37-782c8e89a861 div.sk-estimator:hover label.sk-toggleable__label-arrow:before {color: black;}#sk-fe2fbbb1-1ed2-4829-9e37-782c8e89a861 div.sk-toggleable__content {max-height: 0;max-width: 0;overflow: hidden;text-align: left;background-color: #f0f8ff;}#sk-fe2fbbb1-1ed2-4829-9e37-782c8e89a861 div.sk-toggleable__content pre {margin: 0.2em;color: black;border-radius: 0.25em;background-color: #f0f8ff;}#sk-fe2fbbb1-1ed2-4829-9e37-782c8e89a861 input.sk-toggleable__control:checked~div.sk-toggleable__content {max-height: 200px;max-width: 100%;overflow: auto;}#sk-fe2fbbb1-1ed2-4829-9e37-782c8e89a861 input.sk-toggleable__control:checked~label.sk-toggleable__label-arrow:before {content: \"▾\";}#sk-fe2fbbb1-1ed2-4829-9e37-782c8e89a861 div.sk-estimator input.sk-toggleable__control:checked~label.sk-toggleable__label {background-color: #d4ebff;}#sk-fe2fbbb1-1ed2-4829-9e37-782c8e89a861 div.sk-label input.sk-toggleable__control:checked~label.sk-toggleable__label {background-color: #d4ebff;}#sk-fe2fbbb1-1ed2-4829-9e37-782c8e89a861 input.sk-hidden--visually {border: 0;clip: rect(1px 1px 1px 1px);clip: rect(1px, 1px, 1px, 1px);height: 1px;margin: -1px;overflow: hidden;padding: 0;position: absolute;width: 1px;}#sk-fe2fbbb1-1ed2-4829-9e37-782c8e89a861 div.sk-estimator {font-family: monospace;background-color: #f0f8ff;border: 1px dotted black;border-radius: 0.25em;box-sizing: border-box;margin-bottom: 0.5em;}#sk-fe2fbbb1-1ed2-4829-9e37-782c8e89a861 div.sk-estimator:hover {background-color: #d4ebff;}#sk-fe2fbbb1-1ed2-4829-9e37-782c8e89a861 div.sk-parallel-item::after {content: \"\";width: 100%;border-bottom: 1px solid gray;flex-grow: 1;}#sk-fe2fbbb1-1ed2-4829-9e37-782c8e89a861 div.sk-label:hover label.sk-toggleable__label {background-color: #d4ebff;}#sk-fe2fbbb1-1ed2-4829-9e37-782c8e89a861 div.sk-serial::before {content: \"\";position: absolute;border-left: 1px solid gray;box-sizing: border-box;top: 2em;bottom: 0;left: 50%;}#sk-fe2fbbb1-1ed2-4829-9e37-782c8e89a861 div.sk-serial {display: flex;flex-direction: column;align-items: center;background-color: white;padding-right: 0.2em;padding-left: 0.2em;}#sk-fe2fbbb1-1ed2-4829-9e37-782c8e89a861 div.sk-item {z-index: 1;}#sk-fe2fbbb1-1ed2-4829-9e37-782c8e89a861 div.sk-parallel {display: flex;align-items: stretch;justify-content: center;background-color: white;}#sk-fe2fbbb1-1ed2-4829-9e37-782c8e89a861 div.sk-parallel::before {content: \"\";position: absolute;border-left: 1px solid gray;box-sizing: border-box;top: 2em;bottom: 0;left: 50%;}#sk-fe2fbbb1-1ed2-4829-9e37-782c8e89a861 div.sk-parallel-item {display: flex;flex-direction: column;position: relative;background-color: white;}#sk-fe2fbbb1-1ed2-4829-9e37-782c8e89a861 div.sk-parallel-item:first-child::after {align-self: flex-end;width: 50%;}#sk-fe2fbbb1-1ed2-4829-9e37-782c8e89a861 div.sk-parallel-item:last-child::after {align-self: flex-start;width: 50%;}#sk-fe2fbbb1-1ed2-4829-9e37-782c8e89a861 div.sk-parallel-item:only-child::after {width: 0;}#sk-fe2fbbb1-1ed2-4829-9e37-782c8e89a861 div.sk-dashed-wrapped {border: 1px dashed gray;margin: 0 0.4em 0.5em 0.4em;box-sizing: border-box;padding-bottom: 0.4em;background-color: white;position: relative;}#sk-fe2fbbb1-1ed2-4829-9e37-782c8e89a861 div.sk-label label {font-family: monospace;font-weight: bold;background-color: white;display: inline-block;line-height: 1.2em;}#sk-fe2fbbb1-1ed2-4829-9e37-782c8e89a861 div.sk-label-container {position: relative;z-index: 2;text-align: center;}#sk-fe2fbbb1-1ed2-4829-9e37-782c8e89a861 div.sk-container {/* jupyter's `normalize.less` sets `[hidden] { display: none; }` but bootstrap.min.css set `[hidden] { display: none !important; }` so we also need the `!important` here to be able to override the default hidden behavior on the sphinx rendered scikit-learn.org. See: https://github.com/scikit-learn/scikit-learn/issues/21755 */display: inline-block !important;position: relative;}#sk-fe2fbbb1-1ed2-4829-9e37-782c8e89a861 div.sk-text-repr-fallback {display: none;}</style><div id=\"sk-fe2fbbb1-1ed2-4829-9e37-782c8e89a861\" class=\"sk-top-container\"><div class=\"sk-text-repr-fallback\"><pre>GridSearchCV(cv=5, estimator=DecisionTreeClassifier(), n_jobs=-1,\n",
       "             param_grid={&#x27;criterion&#x27;: [&#x27;gini&#x27;, &#x27;entropy&#x27;],\n",
       "                         &#x27;max_depth&#x27;: range(1, 10),\n",
       "                         &#x27;min_samples_leaf&#x27;: range(1, 10),\n",
       "                         &#x27;min_samples_split&#x27;: range(2, 10)},\n",
       "             scoring=&#x27;recall&#x27;)</pre><b>Please rerun this cell to show the HTML repr or trust the notebook.</b></div><div class=\"sk-container\" hidden><div class=\"sk-item sk-dashed-wrapped\"><div class=\"sk-label-container\"><div class=\"sk-label sk-toggleable\"><input class=\"sk-toggleable__control sk-hidden--visually\" id=\"eba8056f-6959-4c95-9383-51264791e2e6\" type=\"checkbox\" ><label for=\"eba8056f-6959-4c95-9383-51264791e2e6\" class=\"sk-toggleable__label sk-toggleable__label-arrow\">GridSearchCV</label><div class=\"sk-toggleable__content\"><pre>GridSearchCV(cv=5, estimator=DecisionTreeClassifier(), n_jobs=-1,\n",
       "             param_grid={&#x27;criterion&#x27;: [&#x27;gini&#x27;, &#x27;entropy&#x27;],\n",
       "                         &#x27;max_depth&#x27;: range(1, 10),\n",
       "                         &#x27;min_samples_leaf&#x27;: range(1, 10),\n",
       "                         &#x27;min_samples_split&#x27;: range(2, 10)},\n",
       "             scoring=&#x27;recall&#x27;)</pre></div></div></div><div class=\"sk-parallel\"><div class=\"sk-parallel-item\"><div class=\"sk-item\"><div class=\"sk-serial\"><div class=\"sk-item\"><div class=\"sk-estimator sk-toggleable\"><input class=\"sk-toggleable__control sk-hidden--visually\" id=\"32618a70-5ec6-41c8-8056-a359d7015f24\" type=\"checkbox\" ><label for=\"32618a70-5ec6-41c8-8056-a359d7015f24\" class=\"sk-toggleable__label sk-toggleable__label-arrow\">DecisionTreeClassifier</label><div class=\"sk-toggleable__content\"><pre>DecisionTreeClassifier()</pre></div></div></div></div></div></div></div></div></div></div>"
      ],
      "text/plain": [
       "GridSearchCV(cv=5, estimator=DecisionTreeClassifier(), n_jobs=-1,\n",
       "             param_grid={'criterion': ['gini', 'entropy'],\n",
       "                         'max_depth': range(1, 10),\n",
       "                         'min_samples_leaf': range(1, 10),\n",
       "                         'min_samples_split': range(2, 10)},\n",
       "             scoring='recall')"
      ]
     },
     "execution_count": 66,
     "metadata": {},
     "output_type": "execute_result"
    }
   ],
   "source": [
    "from sklearn.tree import DecisionTreeClassifier\n",
    "\n",
    "parameters = {'criterion': ['gini', 'entropy'],\n",
    "              'max_depth': range(1,10),\n",
    "              'min_samples_leaf': range(1,10),\n",
    "              'min_samples_split': range(2,10)}\n",
    "gridsearch5 = GridSearchCV(DecisionTreeClassifier(),\n",
    "                          parameters,\n",
    "                          n_jobs=-1,\n",
    "                          cv=5,\n",
    "                          scoring=\"recall\")\n",
    "\n",
    "gridsearch5.fit(X_train, y_train)"
   ]
  },
  {
   "cell_type": "code",
   "execution_count": 67,
   "id": "b1666158",
   "metadata": {},
   "outputs": [
    {
     "data": {
      "text/plain": [
       "{'criterion': 'entropy',\n",
       " 'max_depth': 8,\n",
       " 'min_samples_leaf': 4,\n",
       " 'min_samples_split': 5}"
      ]
     },
     "execution_count": 67,
     "metadata": {},
     "output_type": "execute_result"
    }
   ],
   "source": [
    "gridsearch5.best_params_"
   ]
  },
  {
   "cell_type": "code",
   "execution_count": 68,
   "id": "8eb721f4",
   "metadata": {},
   "outputs": [
    {
     "data": {
      "text/plain": [
       "0.7897233201581028"
      ]
     },
     "execution_count": 68,
     "metadata": {},
     "output_type": "execute_result"
    }
   ],
   "source": [
    "gridsearch5.best_score_"
   ]
  },
  {
   "cell_type": "code",
   "execution_count": 69,
   "id": "e670f2f0",
   "metadata": {},
   "outputs": [
    {
     "data": {
      "text/html": [
       "<style>#sk-a73f21cc-c1b2-4af5-b49f-c805e1ef390b {color: black;background-color: white;}#sk-a73f21cc-c1b2-4af5-b49f-c805e1ef390b pre{padding: 0;}#sk-a73f21cc-c1b2-4af5-b49f-c805e1ef390b div.sk-toggleable {background-color: white;}#sk-a73f21cc-c1b2-4af5-b49f-c805e1ef390b label.sk-toggleable__label {cursor: pointer;display: block;width: 100%;margin-bottom: 0;padding: 0.3em;box-sizing: border-box;text-align: center;}#sk-a73f21cc-c1b2-4af5-b49f-c805e1ef390b label.sk-toggleable__label-arrow:before {content: \"▸\";float: left;margin-right: 0.25em;color: #696969;}#sk-a73f21cc-c1b2-4af5-b49f-c805e1ef390b label.sk-toggleable__label-arrow:hover:before {color: black;}#sk-a73f21cc-c1b2-4af5-b49f-c805e1ef390b div.sk-estimator:hover label.sk-toggleable__label-arrow:before {color: black;}#sk-a73f21cc-c1b2-4af5-b49f-c805e1ef390b div.sk-toggleable__content {max-height: 0;max-width: 0;overflow: hidden;text-align: left;background-color: #f0f8ff;}#sk-a73f21cc-c1b2-4af5-b49f-c805e1ef390b div.sk-toggleable__content pre {margin: 0.2em;color: black;border-radius: 0.25em;background-color: #f0f8ff;}#sk-a73f21cc-c1b2-4af5-b49f-c805e1ef390b input.sk-toggleable__control:checked~div.sk-toggleable__content {max-height: 200px;max-width: 100%;overflow: auto;}#sk-a73f21cc-c1b2-4af5-b49f-c805e1ef390b input.sk-toggleable__control:checked~label.sk-toggleable__label-arrow:before {content: \"▾\";}#sk-a73f21cc-c1b2-4af5-b49f-c805e1ef390b div.sk-estimator input.sk-toggleable__control:checked~label.sk-toggleable__label {background-color: #d4ebff;}#sk-a73f21cc-c1b2-4af5-b49f-c805e1ef390b div.sk-label input.sk-toggleable__control:checked~label.sk-toggleable__label {background-color: #d4ebff;}#sk-a73f21cc-c1b2-4af5-b49f-c805e1ef390b input.sk-hidden--visually {border: 0;clip: rect(1px 1px 1px 1px);clip: rect(1px, 1px, 1px, 1px);height: 1px;margin: -1px;overflow: hidden;padding: 0;position: absolute;width: 1px;}#sk-a73f21cc-c1b2-4af5-b49f-c805e1ef390b div.sk-estimator {font-family: monospace;background-color: #f0f8ff;border: 1px dotted black;border-radius: 0.25em;box-sizing: border-box;margin-bottom: 0.5em;}#sk-a73f21cc-c1b2-4af5-b49f-c805e1ef390b div.sk-estimator:hover {background-color: #d4ebff;}#sk-a73f21cc-c1b2-4af5-b49f-c805e1ef390b div.sk-parallel-item::after {content: \"\";width: 100%;border-bottom: 1px solid gray;flex-grow: 1;}#sk-a73f21cc-c1b2-4af5-b49f-c805e1ef390b div.sk-label:hover label.sk-toggleable__label {background-color: #d4ebff;}#sk-a73f21cc-c1b2-4af5-b49f-c805e1ef390b div.sk-serial::before {content: \"\";position: absolute;border-left: 1px solid gray;box-sizing: border-box;top: 2em;bottom: 0;left: 50%;}#sk-a73f21cc-c1b2-4af5-b49f-c805e1ef390b div.sk-serial {display: flex;flex-direction: column;align-items: center;background-color: white;padding-right: 0.2em;padding-left: 0.2em;}#sk-a73f21cc-c1b2-4af5-b49f-c805e1ef390b div.sk-item {z-index: 1;}#sk-a73f21cc-c1b2-4af5-b49f-c805e1ef390b div.sk-parallel {display: flex;align-items: stretch;justify-content: center;background-color: white;}#sk-a73f21cc-c1b2-4af5-b49f-c805e1ef390b div.sk-parallel::before {content: \"\";position: absolute;border-left: 1px solid gray;box-sizing: border-box;top: 2em;bottom: 0;left: 50%;}#sk-a73f21cc-c1b2-4af5-b49f-c805e1ef390b div.sk-parallel-item {display: flex;flex-direction: column;position: relative;background-color: white;}#sk-a73f21cc-c1b2-4af5-b49f-c805e1ef390b div.sk-parallel-item:first-child::after {align-self: flex-end;width: 50%;}#sk-a73f21cc-c1b2-4af5-b49f-c805e1ef390b div.sk-parallel-item:last-child::after {align-self: flex-start;width: 50%;}#sk-a73f21cc-c1b2-4af5-b49f-c805e1ef390b div.sk-parallel-item:only-child::after {width: 0;}#sk-a73f21cc-c1b2-4af5-b49f-c805e1ef390b div.sk-dashed-wrapped {border: 1px dashed gray;margin: 0 0.4em 0.5em 0.4em;box-sizing: border-box;padding-bottom: 0.4em;background-color: white;position: relative;}#sk-a73f21cc-c1b2-4af5-b49f-c805e1ef390b div.sk-label label {font-family: monospace;font-weight: bold;background-color: white;display: inline-block;line-height: 1.2em;}#sk-a73f21cc-c1b2-4af5-b49f-c805e1ef390b div.sk-label-container {position: relative;z-index: 2;text-align: center;}#sk-a73f21cc-c1b2-4af5-b49f-c805e1ef390b div.sk-container {/* jupyter's `normalize.less` sets `[hidden] { display: none; }` but bootstrap.min.css set `[hidden] { display: none !important; }` so we also need the `!important` here to be able to override the default hidden behavior on the sphinx rendered scikit-learn.org. See: https://github.com/scikit-learn/scikit-learn/issues/21755 */display: inline-block !important;position: relative;}#sk-a73f21cc-c1b2-4af5-b49f-c805e1ef390b div.sk-text-repr-fallback {display: none;}</style><div id=\"sk-a73f21cc-c1b2-4af5-b49f-c805e1ef390b\" class=\"sk-top-container\"><div class=\"sk-text-repr-fallback\"><pre>DecisionTreeClassifier(criterion=&#x27;entropy&#x27;, max_depth=8, min_samples_leaf=4,\n",
       "                       min_samples_split=5)</pre><b>Please rerun this cell to show the HTML repr or trust the notebook.</b></div><div class=\"sk-container\" hidden><div class=\"sk-item\"><div class=\"sk-estimator sk-toggleable\"><input class=\"sk-toggleable__control sk-hidden--visually\" id=\"65f54747-a3c2-47af-b008-80f837a1e37a\" type=\"checkbox\" checked><label for=\"65f54747-a3c2-47af-b008-80f837a1e37a\" class=\"sk-toggleable__label sk-toggleable__label-arrow\">DecisionTreeClassifier</label><div class=\"sk-toggleable__content\"><pre>DecisionTreeClassifier(criterion=&#x27;entropy&#x27;, max_depth=8, min_samples_leaf=4,\n",
       "                       min_samples_split=5)</pre></div></div></div></div></div>"
      ],
      "text/plain": [
       "DecisionTreeClassifier(criterion='entropy', max_depth=8, min_samples_leaf=4,\n",
       "                       min_samples_split=5)"
      ]
     },
     "execution_count": 69,
     "metadata": {},
     "output_type": "execute_result"
    }
   ],
   "source": [
    "tree_clf = DecisionTreeClassifier(criterion= 'entropy', max_depth=8, min_samples_leaf= 4, min_samples_split= 5)\n",
    "tree_clf.fit(X_train, y_train)"
   ]
  },
  {
   "cell_type": "code",
   "execution_count": null,
   "id": "f78c0bff",
   "metadata": {},
   "outputs": [],
   "source": [
    "import graphviz\n",
    "\n",
    "from sklearn.tree import export_graphviz\n",
    "export_graphviz(tree_clf, out_file=\"dt.dot\", \n",
    "                feature_names=X_train.columns,\n",
    "                class_names=['nondemented','demented'], \n",
    "                rounded=True, filled=True)\n",
    "\n",
    "with open(\"dt.dot\") as f:\n",
    "    dot_graph = f.read()\n",
    "    display(graphviz.Source(dot_graph))"
   ]
  },
  {
   "cell_type": "code",
   "execution_count": 70,
   "id": "0f50c80f",
   "metadata": {},
   "outputs": [],
   "source": [
    "y_pred5 = tree_clf.predict(X_test)"
   ]
  },
  {
   "cell_type": "code",
   "execution_count": 71,
   "id": "85d7e232",
   "metadata": {
    "scrolled": false
   },
   "outputs": [
    {
     "data": {
      "text/plain": [
       "(0.7589285714285714, 0.7547169811320755, 0.7407407407407407)"
      ]
     },
     "execution_count": 71,
     "metadata": {},
     "output_type": "execute_result"
    }
   ],
   "source": [
    "accuracy_score(y_test, y_pred5), recall_score(y_test, y_pred5), precision_score(y_test, y_pred5)"
   ]
  },
  {
   "cell_type": "markdown",
   "id": "be89db1f",
   "metadata": {},
   "source": [
    "#### Random Forest Classifier"
   ]
  },
  {
   "cell_type": "code",
   "execution_count": 72,
   "id": "553a488a",
   "metadata": {},
   "outputs": [
    {
     "data": {
      "text/html": [
       "<style>#sk-70913701-fcc1-4604-8ab4-2723e746cb53 {color: black;background-color: white;}#sk-70913701-fcc1-4604-8ab4-2723e746cb53 pre{padding: 0;}#sk-70913701-fcc1-4604-8ab4-2723e746cb53 div.sk-toggleable {background-color: white;}#sk-70913701-fcc1-4604-8ab4-2723e746cb53 label.sk-toggleable__label {cursor: pointer;display: block;width: 100%;margin-bottom: 0;padding: 0.3em;box-sizing: border-box;text-align: center;}#sk-70913701-fcc1-4604-8ab4-2723e746cb53 label.sk-toggleable__label-arrow:before {content: \"▸\";float: left;margin-right: 0.25em;color: #696969;}#sk-70913701-fcc1-4604-8ab4-2723e746cb53 label.sk-toggleable__label-arrow:hover:before {color: black;}#sk-70913701-fcc1-4604-8ab4-2723e746cb53 div.sk-estimator:hover label.sk-toggleable__label-arrow:before {color: black;}#sk-70913701-fcc1-4604-8ab4-2723e746cb53 div.sk-toggleable__content {max-height: 0;max-width: 0;overflow: hidden;text-align: left;background-color: #f0f8ff;}#sk-70913701-fcc1-4604-8ab4-2723e746cb53 div.sk-toggleable__content pre {margin: 0.2em;color: black;border-radius: 0.25em;background-color: #f0f8ff;}#sk-70913701-fcc1-4604-8ab4-2723e746cb53 input.sk-toggleable__control:checked~div.sk-toggleable__content {max-height: 200px;max-width: 100%;overflow: auto;}#sk-70913701-fcc1-4604-8ab4-2723e746cb53 input.sk-toggleable__control:checked~label.sk-toggleable__label-arrow:before {content: \"▾\";}#sk-70913701-fcc1-4604-8ab4-2723e746cb53 div.sk-estimator input.sk-toggleable__control:checked~label.sk-toggleable__label {background-color: #d4ebff;}#sk-70913701-fcc1-4604-8ab4-2723e746cb53 div.sk-label input.sk-toggleable__control:checked~label.sk-toggleable__label {background-color: #d4ebff;}#sk-70913701-fcc1-4604-8ab4-2723e746cb53 input.sk-hidden--visually {border: 0;clip: rect(1px 1px 1px 1px);clip: rect(1px, 1px, 1px, 1px);height: 1px;margin: -1px;overflow: hidden;padding: 0;position: absolute;width: 1px;}#sk-70913701-fcc1-4604-8ab4-2723e746cb53 div.sk-estimator {font-family: monospace;background-color: #f0f8ff;border: 1px dotted black;border-radius: 0.25em;box-sizing: border-box;margin-bottom: 0.5em;}#sk-70913701-fcc1-4604-8ab4-2723e746cb53 div.sk-estimator:hover {background-color: #d4ebff;}#sk-70913701-fcc1-4604-8ab4-2723e746cb53 div.sk-parallel-item::after {content: \"\";width: 100%;border-bottom: 1px solid gray;flex-grow: 1;}#sk-70913701-fcc1-4604-8ab4-2723e746cb53 div.sk-label:hover label.sk-toggleable__label {background-color: #d4ebff;}#sk-70913701-fcc1-4604-8ab4-2723e746cb53 div.sk-serial::before {content: \"\";position: absolute;border-left: 1px solid gray;box-sizing: border-box;top: 2em;bottom: 0;left: 50%;}#sk-70913701-fcc1-4604-8ab4-2723e746cb53 div.sk-serial {display: flex;flex-direction: column;align-items: center;background-color: white;padding-right: 0.2em;padding-left: 0.2em;}#sk-70913701-fcc1-4604-8ab4-2723e746cb53 div.sk-item {z-index: 1;}#sk-70913701-fcc1-4604-8ab4-2723e746cb53 div.sk-parallel {display: flex;align-items: stretch;justify-content: center;background-color: white;}#sk-70913701-fcc1-4604-8ab4-2723e746cb53 div.sk-parallel::before {content: \"\";position: absolute;border-left: 1px solid gray;box-sizing: border-box;top: 2em;bottom: 0;left: 50%;}#sk-70913701-fcc1-4604-8ab4-2723e746cb53 div.sk-parallel-item {display: flex;flex-direction: column;position: relative;background-color: white;}#sk-70913701-fcc1-4604-8ab4-2723e746cb53 div.sk-parallel-item:first-child::after {align-self: flex-end;width: 50%;}#sk-70913701-fcc1-4604-8ab4-2723e746cb53 div.sk-parallel-item:last-child::after {align-self: flex-start;width: 50%;}#sk-70913701-fcc1-4604-8ab4-2723e746cb53 div.sk-parallel-item:only-child::after {width: 0;}#sk-70913701-fcc1-4604-8ab4-2723e746cb53 div.sk-dashed-wrapped {border: 1px dashed gray;margin: 0 0.4em 0.5em 0.4em;box-sizing: border-box;padding-bottom: 0.4em;background-color: white;position: relative;}#sk-70913701-fcc1-4604-8ab4-2723e746cb53 div.sk-label label {font-family: monospace;font-weight: bold;background-color: white;display: inline-block;line-height: 1.2em;}#sk-70913701-fcc1-4604-8ab4-2723e746cb53 div.sk-label-container {position: relative;z-index: 2;text-align: center;}#sk-70913701-fcc1-4604-8ab4-2723e746cb53 div.sk-container {/* jupyter's `normalize.less` sets `[hidden] { display: none; }` but bootstrap.min.css set `[hidden] { display: none !important; }` so we also need the `!important` here to be able to override the default hidden behavior on the sphinx rendered scikit-learn.org. See: https://github.com/scikit-learn/scikit-learn/issues/21755 */display: inline-block !important;position: relative;}#sk-70913701-fcc1-4604-8ab4-2723e746cb53 div.sk-text-repr-fallback {display: none;}</style><div id=\"sk-70913701-fcc1-4604-8ab4-2723e746cb53\" class=\"sk-top-container\"><div class=\"sk-text-repr-fallback\"><pre>GridSearchCV(cv=5, estimator=RandomForestClassifier(), n_jobs=-1,\n",
       "             param_grid={&#x27;criterion&#x27;: [&#x27;gini&#x27;, &#x27;entropy&#x27;],\n",
       "                         &#x27;max_depth&#x27;: [6, 7, 8, 9, 10],\n",
       "                         &#x27;max_features&#x27;: [&#x27;auto&#x27;, &#x27;sqrt&#x27;, &#x27;log2&#x27;],\n",
       "                         &#x27;n_estimators&#x27;: [100, 200, 300]},\n",
       "             scoring=&#x27;recall&#x27;)</pre><b>Please rerun this cell to show the HTML repr or trust the notebook.</b></div><div class=\"sk-container\" hidden><div class=\"sk-item sk-dashed-wrapped\"><div class=\"sk-label-container\"><div class=\"sk-label sk-toggleable\"><input class=\"sk-toggleable__control sk-hidden--visually\" id=\"1f1b5782-72d7-48ed-b0bf-a8b9ea2afa90\" type=\"checkbox\" ><label for=\"1f1b5782-72d7-48ed-b0bf-a8b9ea2afa90\" class=\"sk-toggleable__label sk-toggleable__label-arrow\">GridSearchCV</label><div class=\"sk-toggleable__content\"><pre>GridSearchCV(cv=5, estimator=RandomForestClassifier(), n_jobs=-1,\n",
       "             param_grid={&#x27;criterion&#x27;: [&#x27;gini&#x27;, &#x27;entropy&#x27;],\n",
       "                         &#x27;max_depth&#x27;: [6, 7, 8, 9, 10],\n",
       "                         &#x27;max_features&#x27;: [&#x27;auto&#x27;, &#x27;sqrt&#x27;, &#x27;log2&#x27;],\n",
       "                         &#x27;n_estimators&#x27;: [100, 200, 300]},\n",
       "             scoring=&#x27;recall&#x27;)</pre></div></div></div><div class=\"sk-parallel\"><div class=\"sk-parallel-item\"><div class=\"sk-item\"><div class=\"sk-serial\"><div class=\"sk-item\"><div class=\"sk-estimator sk-toggleable\"><input class=\"sk-toggleable__control sk-hidden--visually\" id=\"078099e2-f830-4541-adc4-9832e7f4fb68\" type=\"checkbox\" ><label for=\"078099e2-f830-4541-adc4-9832e7f4fb68\" class=\"sk-toggleable__label sk-toggleable__label-arrow\">RandomForestClassifier</label><div class=\"sk-toggleable__content\"><pre>RandomForestClassifier()</pre></div></div></div></div></div></div></div></div></div></div>"
      ],
      "text/plain": [
       "GridSearchCV(cv=5, estimator=RandomForestClassifier(), n_jobs=-1,\n",
       "             param_grid={'criterion': ['gini', 'entropy'],\n",
       "                         'max_depth': [6, 7, 8, 9, 10],\n",
       "                         'max_features': ['auto', 'sqrt', 'log2'],\n",
       "                         'n_estimators': [100, 200, 300]},\n",
       "             scoring='recall')"
      ]
     },
     "execution_count": 72,
     "metadata": {},
     "output_type": "execute_result"
    }
   ],
   "source": [
    "from sklearn.ensemble import RandomForestClassifier\n",
    "\n",
    "rfc=RandomForestClassifier()\n",
    "\n",
    "parameters = {'n_estimators': [100, 200, 300],\n",
    "              'max_features': ['auto', 'sqrt', 'log2'],\n",
    "              'max_depth' : [6,7,8,9,10],\n",
    "              'criterion' :['gini', 'entropy']}\n",
    "\n",
    "gridsearch6 = GridSearchCV(rfc, parameters, cv= 5, n_jobs=-1, scoring=\"recall\")\n",
    "gridsearch6.fit(X_train, y_train)"
   ]
  },
  {
   "cell_type": "code",
   "execution_count": 73,
   "id": "02aac118",
   "metadata": {},
   "outputs": [
    {
     "data": {
      "text/plain": [
       "{'criterion': 'gini',\n",
       " 'max_depth': 8,\n",
       " 'max_features': 'auto',\n",
       " 'n_estimators': 100}"
      ]
     },
     "execution_count": 73,
     "metadata": {},
     "output_type": "execute_result"
    }
   ],
   "source": [
    "gridsearch6.best_params_"
   ]
  },
  {
   "cell_type": "code",
   "execution_count": 74,
   "id": "d3f5be21",
   "metadata": {},
   "outputs": [
    {
     "data": {
      "text/plain": [
       "0.7466403162055336"
      ]
     },
     "execution_count": 74,
     "metadata": {},
     "output_type": "execute_result"
    }
   ],
   "source": [
    "gridsearch6.best_score_"
   ]
  },
  {
   "cell_type": "code",
   "execution_count": 12,
   "id": "950ffdc5",
   "metadata": {
    "scrolled": true
   },
   "outputs": [
    {
     "data": {
      "text/html": [
       "<style>#sk-8d587a11-2021-4d75-9588-efd145336dab {color: black;background-color: white;}#sk-8d587a11-2021-4d75-9588-efd145336dab pre{padding: 0;}#sk-8d587a11-2021-4d75-9588-efd145336dab div.sk-toggleable {background-color: white;}#sk-8d587a11-2021-4d75-9588-efd145336dab label.sk-toggleable__label {cursor: pointer;display: block;width: 100%;margin-bottom: 0;padding: 0.3em;box-sizing: border-box;text-align: center;}#sk-8d587a11-2021-4d75-9588-efd145336dab label.sk-toggleable__label-arrow:before {content: \"▸\";float: left;margin-right: 0.25em;color: #696969;}#sk-8d587a11-2021-4d75-9588-efd145336dab label.sk-toggleable__label-arrow:hover:before {color: black;}#sk-8d587a11-2021-4d75-9588-efd145336dab div.sk-estimator:hover label.sk-toggleable__label-arrow:before {color: black;}#sk-8d587a11-2021-4d75-9588-efd145336dab div.sk-toggleable__content {max-height: 0;max-width: 0;overflow: hidden;text-align: left;background-color: #f0f8ff;}#sk-8d587a11-2021-4d75-9588-efd145336dab div.sk-toggleable__content pre {margin: 0.2em;color: black;border-radius: 0.25em;background-color: #f0f8ff;}#sk-8d587a11-2021-4d75-9588-efd145336dab input.sk-toggleable__control:checked~div.sk-toggleable__content {max-height: 200px;max-width: 100%;overflow: auto;}#sk-8d587a11-2021-4d75-9588-efd145336dab input.sk-toggleable__control:checked~label.sk-toggleable__label-arrow:before {content: \"▾\";}#sk-8d587a11-2021-4d75-9588-efd145336dab div.sk-estimator input.sk-toggleable__control:checked~label.sk-toggleable__label {background-color: #d4ebff;}#sk-8d587a11-2021-4d75-9588-efd145336dab div.sk-label input.sk-toggleable__control:checked~label.sk-toggleable__label {background-color: #d4ebff;}#sk-8d587a11-2021-4d75-9588-efd145336dab input.sk-hidden--visually {border: 0;clip: rect(1px 1px 1px 1px);clip: rect(1px, 1px, 1px, 1px);height: 1px;margin: -1px;overflow: hidden;padding: 0;position: absolute;width: 1px;}#sk-8d587a11-2021-4d75-9588-efd145336dab div.sk-estimator {font-family: monospace;background-color: #f0f8ff;border: 1px dotted black;border-radius: 0.25em;box-sizing: border-box;margin-bottom: 0.5em;}#sk-8d587a11-2021-4d75-9588-efd145336dab div.sk-estimator:hover {background-color: #d4ebff;}#sk-8d587a11-2021-4d75-9588-efd145336dab div.sk-parallel-item::after {content: \"\";width: 100%;border-bottom: 1px solid gray;flex-grow: 1;}#sk-8d587a11-2021-4d75-9588-efd145336dab div.sk-label:hover label.sk-toggleable__label {background-color: #d4ebff;}#sk-8d587a11-2021-4d75-9588-efd145336dab div.sk-serial::before {content: \"\";position: absolute;border-left: 1px solid gray;box-sizing: border-box;top: 2em;bottom: 0;left: 50%;}#sk-8d587a11-2021-4d75-9588-efd145336dab div.sk-serial {display: flex;flex-direction: column;align-items: center;background-color: white;padding-right: 0.2em;padding-left: 0.2em;}#sk-8d587a11-2021-4d75-9588-efd145336dab div.sk-item {z-index: 1;}#sk-8d587a11-2021-4d75-9588-efd145336dab div.sk-parallel {display: flex;align-items: stretch;justify-content: center;background-color: white;}#sk-8d587a11-2021-4d75-9588-efd145336dab div.sk-parallel::before {content: \"\";position: absolute;border-left: 1px solid gray;box-sizing: border-box;top: 2em;bottom: 0;left: 50%;}#sk-8d587a11-2021-4d75-9588-efd145336dab div.sk-parallel-item {display: flex;flex-direction: column;position: relative;background-color: white;}#sk-8d587a11-2021-4d75-9588-efd145336dab div.sk-parallel-item:first-child::after {align-self: flex-end;width: 50%;}#sk-8d587a11-2021-4d75-9588-efd145336dab div.sk-parallel-item:last-child::after {align-self: flex-start;width: 50%;}#sk-8d587a11-2021-4d75-9588-efd145336dab div.sk-parallel-item:only-child::after {width: 0;}#sk-8d587a11-2021-4d75-9588-efd145336dab div.sk-dashed-wrapped {border: 1px dashed gray;margin: 0 0.4em 0.5em 0.4em;box-sizing: border-box;padding-bottom: 0.4em;background-color: white;position: relative;}#sk-8d587a11-2021-4d75-9588-efd145336dab div.sk-label label {font-family: monospace;font-weight: bold;background-color: white;display: inline-block;line-height: 1.2em;}#sk-8d587a11-2021-4d75-9588-efd145336dab div.sk-label-container {position: relative;z-index: 2;text-align: center;}#sk-8d587a11-2021-4d75-9588-efd145336dab div.sk-container {/* jupyter's `normalize.less` sets `[hidden] { display: none; }` but bootstrap.min.css set `[hidden] { display: none !important; }` so we also need the `!important` here to be able to override the default hidden behavior on the sphinx rendered scikit-learn.org. See: https://github.com/scikit-learn/scikit-learn/issues/21755 */display: inline-block !important;position: relative;}#sk-8d587a11-2021-4d75-9588-efd145336dab div.sk-text-repr-fallback {display: none;}</style><div id=\"sk-8d587a11-2021-4d75-9588-efd145336dab\" class=\"sk-top-container\"><div class=\"sk-text-repr-fallback\"><pre>RandomForestClassifier(max_depth=8)</pre><b>Please rerun this cell to show the HTML repr or trust the notebook.</b></div><div class=\"sk-container\" hidden><div class=\"sk-item\"><div class=\"sk-estimator sk-toggleable\"><input class=\"sk-toggleable__control sk-hidden--visually\" id=\"bbd71ea2-7378-425f-aae1-af0a59f2c18d\" type=\"checkbox\" checked><label for=\"bbd71ea2-7378-425f-aae1-af0a59f2c18d\" class=\"sk-toggleable__label sk-toggleable__label-arrow\">RandomForestClassifier</label><div class=\"sk-toggleable__content\"><pre>RandomForestClassifier(max_depth=8)</pre></div></div></div></div></div>"
      ],
      "text/plain": [
       "RandomForestClassifier(max_depth=8)"
      ]
     },
     "execution_count": 12,
     "metadata": {},
     "output_type": "execute_result"
    }
   ],
   "source": [
    "from sklearn.ensemble import RandomForestClassifier\n",
    "\n",
    "rfc_best = RandomForestClassifier(n_estimators= 100, max_features= 'auto', max_depth= 8, criterion= 'gini')\n",
    "rfc_best.fit(X_train, y_train)"
   ]
  },
  {
   "cell_type": "code",
   "execution_count": 13,
   "id": "fc76e919",
   "metadata": {},
   "outputs": [],
   "source": [
    "y_pred6 = rfc_best.predict(X_test)"
   ]
  },
  {
   "cell_type": "code",
   "execution_count": 15,
   "id": "4596744e",
   "metadata": {
    "scrolled": true
   },
   "outputs": [
    {
     "data": {
      "text/plain": [
       "(0.8392857142857143, 0.8490566037735849, 0.8181818181818182)"
      ]
     },
     "execution_count": 15,
     "metadata": {},
     "output_type": "execute_result"
    }
   ],
   "source": [
    "from sklearn.metrics import recall_score\n",
    "from sklearn.metrics import precision_score\n",
    "from sklearn.metrics import accuracy_score\n",
    "\n",
    "accuracy_score(y_test, y_pred6), recall_score(y_test, y_pred6), precision_score(y_test, y_pred6)"
   ]
  },
  {
   "cell_type": "code",
   "execution_count": 16,
   "id": "d798ee8c",
   "metadata": {},
   "outputs": [
    {
     "data": {
      "image/png": "[encoded data removed]",
      "text/plain": [
       "<Figure size 432x288 with 2 Axes>"
      ]
     },
     "metadata": {
      "needs_background": "light"
     },
     "output_type": "display_data"
    }
   ],
   "source": [
    "from sklearn.metrics import ConfusionMatrixDisplay, confusion_matrix\n",
    "import matplotlib.pyplot as plt\n",
    "\n",
    "cm_rfc_best = confusion_matrix(y_test, y_pred6)\n",
    "\n",
    "disp = ConfusionMatrixDisplay(confusion_matrix=cm_rfc_best,\n",
    "                             display_labels=[\"Nondemented\",\"Demented\"])\n",
    "disp.plot(cmap = 'viridis')\n",
    "plt.grid(visible = False)\n",
    "plt.show()"
   ]
  },
  {
   "cell_type": "markdown",
   "id": "c1279860",
   "metadata": {},
   "source": [
    "#### AdaBoostClassifier"
   ]
  },
  {
   "cell_type": "code",
   "execution_count": 78,
   "id": "0e834503",
   "metadata": {},
   "outputs": [
    {
     "data": {
      "text/html": [
       "<style>#sk-f5becb10-6210-4084-b082-fd9503f91bf3 {color: black;background-color: white;}#sk-f5becb10-6210-4084-b082-fd9503f91bf3 pre{padding: 0;}#sk-f5becb10-6210-4084-b082-fd9503f91bf3 div.sk-toggleable {background-color: white;}#sk-f5becb10-6210-4084-b082-fd9503f91bf3 label.sk-toggleable__label {cursor: pointer;display: block;width: 100%;margin-bottom: 0;padding: 0.3em;box-sizing: border-box;text-align: center;}#sk-f5becb10-6210-4084-b082-fd9503f91bf3 label.sk-toggleable__label-arrow:before {content: \"▸\";float: left;margin-right: 0.25em;color: #696969;}#sk-f5becb10-6210-4084-b082-fd9503f91bf3 label.sk-toggleable__label-arrow:hover:before {color: black;}#sk-f5becb10-6210-4084-b082-fd9503f91bf3 div.sk-estimator:hover label.sk-toggleable__label-arrow:before {color: black;}#sk-f5becb10-6210-4084-b082-fd9503f91bf3 div.sk-toggleable__content {max-height: 0;max-width: 0;overflow: hidden;text-align: left;background-color: #f0f8ff;}#sk-f5becb10-6210-4084-b082-fd9503f91bf3 div.sk-toggleable__content pre {margin: 0.2em;color: black;border-radius: 0.25em;background-color: #f0f8ff;}#sk-f5becb10-6210-4084-b082-fd9503f91bf3 input.sk-toggleable__control:checked~div.sk-toggleable__content {max-height: 200px;max-width: 100%;overflow: auto;}#sk-f5becb10-6210-4084-b082-fd9503f91bf3 input.sk-toggleable__control:checked~label.sk-toggleable__label-arrow:before {content: \"▾\";}#sk-f5becb10-6210-4084-b082-fd9503f91bf3 div.sk-estimator input.sk-toggleable__control:checked~label.sk-toggleable__label {background-color: #d4ebff;}#sk-f5becb10-6210-4084-b082-fd9503f91bf3 div.sk-label input.sk-toggleable__control:checked~label.sk-toggleable__label {background-color: #d4ebff;}#sk-f5becb10-6210-4084-b082-fd9503f91bf3 input.sk-hidden--visually {border: 0;clip: rect(1px 1px 1px 1px);clip: rect(1px, 1px, 1px, 1px);height: 1px;margin: -1px;overflow: hidden;padding: 0;position: absolute;width: 1px;}#sk-f5becb10-6210-4084-b082-fd9503f91bf3 div.sk-estimator {font-family: monospace;background-color: #f0f8ff;border: 1px dotted black;border-radius: 0.25em;box-sizing: border-box;margin-bottom: 0.5em;}#sk-f5becb10-6210-4084-b082-fd9503f91bf3 div.sk-estimator:hover {background-color: #d4ebff;}#sk-f5becb10-6210-4084-b082-fd9503f91bf3 div.sk-parallel-item::after {content: \"\";width: 100%;border-bottom: 1px solid gray;flex-grow: 1;}#sk-f5becb10-6210-4084-b082-fd9503f91bf3 div.sk-label:hover label.sk-toggleable__label {background-color: #d4ebff;}#sk-f5becb10-6210-4084-b082-fd9503f91bf3 div.sk-serial::before {content: \"\";position: absolute;border-left: 1px solid gray;box-sizing: border-box;top: 2em;bottom: 0;left: 50%;}#sk-f5becb10-6210-4084-b082-fd9503f91bf3 div.sk-serial {display: flex;flex-direction: column;align-items: center;background-color: white;padding-right: 0.2em;padding-left: 0.2em;}#sk-f5becb10-6210-4084-b082-fd9503f91bf3 div.sk-item {z-index: 1;}#sk-f5becb10-6210-4084-b082-fd9503f91bf3 div.sk-parallel {display: flex;align-items: stretch;justify-content: center;background-color: white;}#sk-f5becb10-6210-4084-b082-fd9503f91bf3 div.sk-parallel::before {content: \"\";position: absolute;border-left: 1px solid gray;box-sizing: border-box;top: 2em;bottom: 0;left: 50%;}#sk-f5becb10-6210-4084-b082-fd9503f91bf3 div.sk-parallel-item {display: flex;flex-direction: column;position: relative;background-color: white;}#sk-f5becb10-6210-4084-b082-fd9503f91bf3 div.sk-parallel-item:first-child::after {align-self: flex-end;width: 50%;}#sk-f5becb10-6210-4084-b082-fd9503f91bf3 div.sk-parallel-item:last-child::after {align-self: flex-start;width: 50%;}#sk-f5becb10-6210-4084-b082-fd9503f91bf3 div.sk-parallel-item:only-child::after {width: 0;}#sk-f5becb10-6210-4084-b082-fd9503f91bf3 div.sk-dashed-wrapped {border: 1px dashed gray;margin: 0 0.4em 0.5em 0.4em;box-sizing: border-box;padding-bottom: 0.4em;background-color: white;position: relative;}#sk-f5becb10-6210-4084-b082-fd9503f91bf3 div.sk-label label {font-family: monospace;font-weight: bold;background-color: white;display: inline-block;line-height: 1.2em;}#sk-f5becb10-6210-4084-b082-fd9503f91bf3 div.sk-label-container {position: relative;z-index: 2;text-align: center;}#sk-f5becb10-6210-4084-b082-fd9503f91bf3 div.sk-container {/* jupyter's `normalize.less` sets `[hidden] { display: none; }` but bootstrap.min.css set `[hidden] { display: none !important; }` so we also need the `!important` here to be able to override the default hidden behavior on the sphinx rendered scikit-learn.org. See: https://github.com/scikit-learn/scikit-learn/issues/21755 */display: inline-block !important;position: relative;}#sk-f5becb10-6210-4084-b082-fd9503f91bf3 div.sk-text-repr-fallback {display: none;}</style><div id=\"sk-f5becb10-6210-4084-b082-fd9503f91bf3\" class=\"sk-top-container\"><div class=\"sk-text-repr-fallback\"><pre>GridSearchCV(cv=5, estimator=AdaBoostClassifier(), n_jobs=-1,\n",
       "             param_grid={&#x27;learning_rate&#x27;: [0.01, 0.5, 0.7, 0.8, 0.9, 0.95, 1],\n",
       "                         &#x27;n_estimators&#x27;: [10, 30, 50, 70, 80, 90, 100, 500]},\n",
       "             scoring=&#x27;recall&#x27;)</pre><b>Please rerun this cell to show the HTML repr or trust the notebook.</b></div><div class=\"sk-container\" hidden><div class=\"sk-item sk-dashed-wrapped\"><div class=\"sk-label-container\"><div class=\"sk-label sk-toggleable\"><input class=\"sk-toggleable__control sk-hidden--visually\" id=\"396fffc8-8e0b-436f-a6af-a8e2e5d6f364\" type=\"checkbox\" ><label for=\"396fffc8-8e0b-436f-a6af-a8e2e5d6f364\" class=\"sk-toggleable__label sk-toggleable__label-arrow\">GridSearchCV</label><div class=\"sk-toggleable__content\"><pre>GridSearchCV(cv=5, estimator=AdaBoostClassifier(), n_jobs=-1,\n",
       "             param_grid={&#x27;learning_rate&#x27;: [0.01, 0.5, 0.7, 0.8, 0.9, 0.95, 1],\n",
       "                         &#x27;n_estimators&#x27;: [10, 30, 50, 70, 80, 90, 100, 500]},\n",
       "             scoring=&#x27;recall&#x27;)</pre></div></div></div><div class=\"sk-parallel\"><div class=\"sk-parallel-item\"><div class=\"sk-item\"><div class=\"sk-serial\"><div class=\"sk-item\"><div class=\"sk-estimator sk-toggleable\"><input class=\"sk-toggleable__control sk-hidden--visually\" id=\"d04d552e-830e-4115-9f82-ee26a9f7d350\" type=\"checkbox\" ><label for=\"d04d552e-830e-4115-9f82-ee26a9f7d350\" class=\"sk-toggleable__label sk-toggleable__label-arrow\">AdaBoostClassifier</label><div class=\"sk-toggleable__content\"><pre>AdaBoostClassifier()</pre></div></div></div></div></div></div></div></div></div></div>"
      ],
      "text/plain": [
       "GridSearchCV(cv=5, estimator=AdaBoostClassifier(), n_jobs=-1,\n",
       "             param_grid={'learning_rate': [0.01, 0.5, 0.7, 0.8, 0.9, 0.95, 1],\n",
       "                         'n_estimators': [10, 30, 50, 70, 80, 90, 100, 500]},\n",
       "             scoring='recall')"
      ]
     },
     "execution_count": 78,
     "metadata": {},
     "output_type": "execute_result"
    }
   ],
   "source": [
    "from sklearn.ensemble import AdaBoostClassifier\n",
    "from sklearn.model_selection import GridSearchCV\n",
    "\n",
    "parameters = {'n_estimators':[10, 30, 50, 70, 80, 90, 100, 500],\n",
    "              'learning_rate':[0.01, 0.5, 0.7, 0.8, 0.9, 0.95, 1]}\n",
    "              #'learning_rate':[0.001, 0.01, 0.1, 0.5, 0.8, 0.9, 0.99, 1]}\n",
    "\n",
    "gridsearch7 = GridSearchCV(AdaBoostClassifier(), parameters, cv= 5, n_jobs=-1, scoring=\"recall\")\n",
    "gridsearch7.fit(X_train, y_train)"
   ]
  },
  {
   "cell_type": "code",
   "execution_count": 79,
   "id": "e3d19773",
   "metadata": {},
   "outputs": [
    {
     "data": {
      "text/plain": [
       "{'learning_rate': 0.9, 'n_estimators': 80}"
      ]
     },
     "execution_count": 79,
     "metadata": {},
     "output_type": "execute_result"
    }
   ],
   "source": [
    "gridsearch7.best_params_"
   ]
  },
  {
   "cell_type": "code",
   "execution_count": 80,
   "id": "d396dc3b",
   "metadata": {},
   "outputs": [
    {
     "data": {
      "text/plain": [
       "0.7549407114624506"
      ]
     },
     "execution_count": 80,
     "metadata": {},
     "output_type": "execute_result"
    }
   ],
   "source": [
    "gridsearch7.best_score_"
   ]
  },
  {
   "cell_type": "code",
   "execution_count": 81,
   "id": "f64a429f",
   "metadata": {},
   "outputs": [
    {
     "data": {
      "text/html": [
       "<style>#sk-d02f999b-4b86-472b-83a0-d0d462a22d57 {color: black;background-color: white;}#sk-d02f999b-4b86-472b-83a0-d0d462a22d57 pre{padding: 0;}#sk-d02f999b-4b86-472b-83a0-d0d462a22d57 div.sk-toggleable {background-color: white;}#sk-d02f999b-4b86-472b-83a0-d0d462a22d57 label.sk-toggleable__label {cursor: pointer;display: block;width: 100%;margin-bottom: 0;padding: 0.3em;box-sizing: border-box;text-align: center;}#sk-d02f999b-4b86-472b-83a0-d0d462a22d57 label.sk-toggleable__label-arrow:before {content: \"▸\";float: left;margin-right: 0.25em;color: #696969;}#sk-d02f999b-4b86-472b-83a0-d0d462a22d57 label.sk-toggleable__label-arrow:hover:before {color: black;}#sk-d02f999b-4b86-472b-83a0-d0d462a22d57 div.sk-estimator:hover label.sk-toggleable__label-arrow:before {color: black;}#sk-d02f999b-4b86-472b-83a0-d0d462a22d57 div.sk-toggleable__content {max-height: 0;max-width: 0;overflow: hidden;text-align: left;background-color: #f0f8ff;}#sk-d02f999b-4b86-472b-83a0-d0d462a22d57 div.sk-toggleable__content pre {margin: 0.2em;color: black;border-radius: 0.25em;background-color: #f0f8ff;}#sk-d02f999b-4b86-472b-83a0-d0d462a22d57 input.sk-toggleable__control:checked~div.sk-toggleable__content {max-height: 200px;max-width: 100%;overflow: auto;}#sk-d02f999b-4b86-472b-83a0-d0d462a22d57 input.sk-toggleable__control:checked~label.sk-toggleable__label-arrow:before {content: \"▾\";}#sk-d02f999b-4b86-472b-83a0-d0d462a22d57 div.sk-estimator input.sk-toggleable__control:checked~label.sk-toggleable__label {background-color: #d4ebff;}#sk-d02f999b-4b86-472b-83a0-d0d462a22d57 div.sk-label input.sk-toggleable__control:checked~label.sk-toggleable__label {background-color: #d4ebff;}#sk-d02f999b-4b86-472b-83a0-d0d462a22d57 input.sk-hidden--visually {border: 0;clip: rect(1px 1px 1px 1px);clip: rect(1px, 1px, 1px, 1px);height: 1px;margin: -1px;overflow: hidden;padding: 0;position: absolute;width: 1px;}#sk-d02f999b-4b86-472b-83a0-d0d462a22d57 div.sk-estimator {font-family: monospace;background-color: #f0f8ff;border: 1px dotted black;border-radius: 0.25em;box-sizing: border-box;margin-bottom: 0.5em;}#sk-d02f999b-4b86-472b-83a0-d0d462a22d57 div.sk-estimator:hover {background-color: #d4ebff;}#sk-d02f999b-4b86-472b-83a0-d0d462a22d57 div.sk-parallel-item::after {content: \"\";width: 100%;border-bottom: 1px solid gray;flex-grow: 1;}#sk-d02f999b-4b86-472b-83a0-d0d462a22d57 div.sk-label:hover label.sk-toggleable__label {background-color: #d4ebff;}#sk-d02f999b-4b86-472b-83a0-d0d462a22d57 div.sk-serial::before {content: \"\";position: absolute;border-left: 1px solid gray;box-sizing: border-box;top: 2em;bottom: 0;left: 50%;}#sk-d02f999b-4b86-472b-83a0-d0d462a22d57 div.sk-serial {display: flex;flex-direction: column;align-items: center;background-color: white;padding-right: 0.2em;padding-left: 0.2em;}#sk-d02f999b-4b86-472b-83a0-d0d462a22d57 div.sk-item {z-index: 1;}#sk-d02f999b-4b86-472b-83a0-d0d462a22d57 div.sk-parallel {display: flex;align-items: stretch;justify-content: center;background-color: white;}#sk-d02f999b-4b86-472b-83a0-d0d462a22d57 div.sk-parallel::before {content: \"\";position: absolute;border-left: 1px solid gray;box-sizing: border-box;top: 2em;bottom: 0;left: 50%;}#sk-d02f999b-4b86-472b-83a0-d0d462a22d57 div.sk-parallel-item {display: flex;flex-direction: column;position: relative;background-color: white;}#sk-d02f999b-4b86-472b-83a0-d0d462a22d57 div.sk-parallel-item:first-child::after {align-self: flex-end;width: 50%;}#sk-d02f999b-4b86-472b-83a0-d0d462a22d57 div.sk-parallel-item:last-child::after {align-self: flex-start;width: 50%;}#sk-d02f999b-4b86-472b-83a0-d0d462a22d57 div.sk-parallel-item:only-child::after {width: 0;}#sk-d02f999b-4b86-472b-83a0-d0d462a22d57 div.sk-dashed-wrapped {border: 1px dashed gray;margin: 0 0.4em 0.5em 0.4em;box-sizing: border-box;padding-bottom: 0.4em;background-color: white;position: relative;}#sk-d02f999b-4b86-472b-83a0-d0d462a22d57 div.sk-label label {font-family: monospace;font-weight: bold;background-color: white;display: inline-block;line-height: 1.2em;}#sk-d02f999b-4b86-472b-83a0-d0d462a22d57 div.sk-label-container {position: relative;z-index: 2;text-align: center;}#sk-d02f999b-4b86-472b-83a0-d0d462a22d57 div.sk-container {/* jupyter's `normalize.less` sets `[hidden] { display: none; }` but bootstrap.min.css set `[hidden] { display: none !important; }` so we also need the `!important` here to be able to override the default hidden behavior on the sphinx rendered scikit-learn.org. See: https://github.com/scikit-learn/scikit-learn/issues/21755 */display: inline-block !important;position: relative;}#sk-d02f999b-4b86-472b-83a0-d0d462a22d57 div.sk-text-repr-fallback {display: none;}</style><div id=\"sk-d02f999b-4b86-472b-83a0-d0d462a22d57\" class=\"sk-top-container\"><div class=\"sk-text-repr-fallback\"><pre>AdaBoostClassifier(learning_rate=0.9, n_estimators=80)</pre><b>Please rerun this cell to show the HTML repr or trust the notebook.</b></div><div class=\"sk-container\" hidden><div class=\"sk-item\"><div class=\"sk-estimator sk-toggleable\"><input class=\"sk-toggleable__control sk-hidden--visually\" id=\"161a463d-ca9d-412c-9dc1-603502a0e2b0\" type=\"checkbox\" checked><label for=\"161a463d-ca9d-412c-9dc1-603502a0e2b0\" class=\"sk-toggleable__label sk-toggleable__label-arrow\">AdaBoostClassifier</label><div class=\"sk-toggleable__content\"><pre>AdaBoostClassifier(learning_rate=0.9, n_estimators=80)</pre></div></div></div></div></div>"
      ],
      "text/plain": [
       "AdaBoostClassifier(learning_rate=0.9, n_estimators=80)"
      ]
     },
     "execution_count": 81,
     "metadata": {},
     "output_type": "execute_result"
    }
   ],
   "source": [
    "ada_best = AdaBoostClassifier(n_estimators= 80, learning_rate=0.9)\n",
    "ada_best.fit(X_train, y_train)"
   ]
  },
  {
   "cell_type": "code",
   "execution_count": 82,
   "id": "03c072cb",
   "metadata": {},
   "outputs": [],
   "source": [
    "y_pred7 = ada_best.predict(X_test)"
   ]
  },
  {
   "cell_type": "code",
   "execution_count": 83,
   "id": "fe1d6055",
   "metadata": {},
   "outputs": [
    {
     "data": {
      "text/plain": [
       "(0.7946428571428571, 0.7735849056603774, 0.7884615384615384)"
      ]
     },
     "execution_count": 83,
     "metadata": {},
     "output_type": "execute_result"
    }
   ],
   "source": [
    "from sklearn.metrics import recall_score\n",
    "from sklearn.metrics import precision_score\n",
    "from sklearn.metrics import accuracy_score\n",
    "\n",
    "accuracy_score(y_test, y_pred7), recall_score(y_test, y_pred7), precision_score(y_test, y_pred7)"
   ]
  },
  {
   "cell_type": "markdown",
   "id": "3495f585",
   "metadata": {},
   "source": [
    "We have that the best estimator is the Random Forest Classifier. So we will add this estimator to the pipeline."
   ]
  },
  {
   "cell_type": "code",
   "execution_count": 17,
   "id": "a79e4124",
   "metadata": {
    "scrolled": false
   },
   "outputs": [
    {
     "data": {
      "text/html": [
       "<style>#sk-4b171600-a194-4d63-bccf-4d46f1d46efe {color: black;background-color: white;}#sk-4b171600-a194-4d63-bccf-4d46f1d46efe pre{padding: 0;}#sk-4b171600-a194-4d63-bccf-4d46f1d46efe div.sk-toggleable {background-color: white;}#sk-4b171600-a194-4d63-bccf-4d46f1d46efe label.sk-toggleable__label {cursor: pointer;display: block;width: 100%;margin-bottom: 0;padding: 0.3em;box-sizing: border-box;text-align: center;}#sk-4b171600-a194-4d63-bccf-4d46f1d46efe label.sk-toggleable__label-arrow:before {content: \"▸\";float: left;margin-right: 0.25em;color: #696969;}#sk-4b171600-a194-4d63-bccf-4d46f1d46efe label.sk-toggleable__label-arrow:hover:before {color: black;}#sk-4b171600-a194-4d63-bccf-4d46f1d46efe div.sk-estimator:hover label.sk-toggleable__label-arrow:before {color: black;}#sk-4b171600-a194-4d63-bccf-4d46f1d46efe div.sk-toggleable__content {max-height: 0;max-width: 0;overflow: hidden;text-align: left;background-color: #f0f8ff;}#sk-4b171600-a194-4d63-bccf-4d46f1d46efe div.sk-toggleable__content pre {margin: 0.2em;color: black;border-radius: 0.25em;background-color: #f0f8ff;}#sk-4b171600-a194-4d63-bccf-4d46f1d46efe input.sk-toggleable__control:checked~div.sk-toggleable__content {max-height: 200px;max-width: 100%;overflow: auto;}#sk-4b171600-a194-4d63-bccf-4d46f1d46efe input.sk-toggleable__control:checked~label.sk-toggleable__label-arrow:before {content: \"▾\";}#sk-4b171600-a194-4d63-bccf-4d46f1d46efe div.sk-estimator input.sk-toggleable__control:checked~label.sk-toggleable__label {background-color: #d4ebff;}#sk-4b171600-a194-4d63-bccf-4d46f1d46efe div.sk-label input.sk-toggleable__control:checked~label.sk-toggleable__label {background-color: #d4ebff;}#sk-4b171600-a194-4d63-bccf-4d46f1d46efe input.sk-hidden--visually {border: 0;clip: rect(1px 1px 1px 1px);clip: rect(1px, 1px, 1px, 1px);height: 1px;margin: -1px;overflow: hidden;padding: 0;position: absolute;width: 1px;}#sk-4b171600-a194-4d63-bccf-4d46f1d46efe div.sk-estimator {font-family: monospace;background-color: #f0f8ff;border: 1px dotted black;border-radius: 0.25em;box-sizing: border-box;margin-bottom: 0.5em;}#sk-4b171600-a194-4d63-bccf-4d46f1d46efe div.sk-estimator:hover {background-color: #d4ebff;}#sk-4b171600-a194-4d63-bccf-4d46f1d46efe div.sk-parallel-item::after {content: \"\";width: 100%;border-bottom: 1px solid gray;flex-grow: 1;}#sk-4b171600-a194-4d63-bccf-4d46f1d46efe div.sk-label:hover label.sk-toggleable__label {background-color: #d4ebff;}#sk-4b171600-a194-4d63-bccf-4d46f1d46efe div.sk-serial::before {content: \"\";position: absolute;border-left: 1px solid gray;box-sizing: border-box;top: 2em;bottom: 0;left: 50%;}#sk-4b171600-a194-4d63-bccf-4d46f1d46efe div.sk-serial {display: flex;flex-direction: column;align-items: center;background-color: white;padding-right: 0.2em;padding-left: 0.2em;}#sk-4b171600-a194-4d63-bccf-4d46f1d46efe div.sk-item {z-index: 1;}#sk-4b171600-a194-4d63-bccf-4d46f1d46efe div.sk-parallel {display: flex;align-items: stretch;justify-content: center;background-color: white;}#sk-4b171600-a194-4d63-bccf-4d46f1d46efe div.sk-parallel::before {content: \"\";position: absolute;border-left: 1px solid gray;box-sizing: border-box;top: 2em;bottom: 0;left: 50%;}#sk-4b171600-a194-4d63-bccf-4d46f1d46efe div.sk-parallel-item {display: flex;flex-direction: column;position: relative;background-color: white;}#sk-4b171600-a194-4d63-bccf-4d46f1d46efe div.sk-parallel-item:first-child::after {align-self: flex-end;width: 50%;}#sk-4b171600-a194-4d63-bccf-4d46f1d46efe div.sk-parallel-item:last-child::after {align-self: flex-start;width: 50%;}#sk-4b171600-a194-4d63-bccf-4d46f1d46efe div.sk-parallel-item:only-child::after {width: 0;}#sk-4b171600-a194-4d63-bccf-4d46f1d46efe div.sk-dashed-wrapped {border: 1px dashed gray;margin: 0 0.4em 0.5em 0.4em;box-sizing: border-box;padding-bottom: 0.4em;background-color: white;position: relative;}#sk-4b171600-a194-4d63-bccf-4d46f1d46efe div.sk-label label {font-family: monospace;font-weight: bold;background-color: white;display: inline-block;line-height: 1.2em;}#sk-4b171600-a194-4d63-bccf-4d46f1d46efe div.sk-label-container {position: relative;z-index: 2;text-align: center;}#sk-4b171600-a194-4d63-bccf-4d46f1d46efe div.sk-container {/* jupyter's `normalize.less` sets `[hidden] { display: none; }` but bootstrap.min.css set `[hidden] { display: none !important; }` so we also need the `!important` here to be able to override the default hidden behavior on the sphinx rendered scikit-learn.org. See: https://github.com/scikit-learn/scikit-learn/issues/21755 */display: inline-block !important;position: relative;}#sk-4b171600-a194-4d63-bccf-4d46f1d46efe div.sk-text-repr-fallback {display: none;}</style><div id=\"sk-4b171600-a194-4d63-bccf-4d46f1d46efe\" class=\"sk-top-container\"><div class=\"sk-text-repr-fallback\"><pre>Pipeline(steps=[(&#x27;preprocessor&#x27;,\n",
       "                 CustomColumnTransformer(transformers=[(&#x27;num_transformer&#x27;,\n",
       "                                                        CustomColumnTransformer(remainder=&#x27;passthrough&#x27;,\n",
       "                                                                                transformers=[(&#x27;s_scaler&#x27;,\n",
       "                                                                                               StandardScaler(),\n",
       "                                                                                               [&#x27;Age&#x27;]),\n",
       "                                                                                              (&#x27;m_scaler&#x27;,\n",
       "                                                                                               MinMaxScaler(),\n",
       "                                                                                               [&#x27;EDUC&#x27;,\n",
       "                                                                                                &#x27;SES&#x27;]),\n",
       "                                                                                              (&#x27;r_scaler&#x27;,\n",
       "                                                                                               RobustScaler(),\n",
       "                                                                                               [&#x27;eTIV&#x27;,\n",
       "                                                                                                &#x27;MMSE&#x27;])]),\n",
       "                                                        [&#x27;Age&#x27;, &#x27;eTIV&#x27;, &#x27;MMSE&#x27;,\n",
       "                                                         &#x27;EDUC&#x27;, &#x27;SES&#x27;, &#x27;nWBV&#x27;,\n",
       "                                                         &#x27;ASF&#x27;]),\n",
       "                                                       (&#x27;encoder&#x27;,\n",
       "                                                        OneHotEncoder(drop=&#x27;if_binary&#x27;),\n",
       "                                                        [&#x27;M/F&#x27;])])),\n",
       "                (&#x27;classifier&#x27;, RandomForestClassifier(max_depth=8))])</pre><b>Please rerun this cell to show the HTML repr or trust the notebook.</b></div><div class=\"sk-container\" hidden><div class=\"sk-item sk-dashed-wrapped\"><div class=\"sk-label-container\"><div class=\"sk-label sk-toggleable\"><input class=\"sk-toggleable__control sk-hidden--visually\" id=\"b187c4d3-fb50-4067-8f0c-b429fdd4941a\" type=\"checkbox\" ><label for=\"b187c4d3-fb50-4067-8f0c-b429fdd4941a\" class=\"sk-toggleable__label sk-toggleable__label-arrow\">Pipeline</label><div class=\"sk-toggleable__content\"><pre>Pipeline(steps=[(&#x27;preprocessor&#x27;,\n",
       "                 CustomColumnTransformer(transformers=[(&#x27;num_transformer&#x27;,\n",
       "                                                        CustomColumnTransformer(remainder=&#x27;passthrough&#x27;,\n",
       "                                                                                transformers=[(&#x27;s_scaler&#x27;,\n",
       "                                                                                               StandardScaler(),\n",
       "                                                                                               [&#x27;Age&#x27;]),\n",
       "                                                                                              (&#x27;m_scaler&#x27;,\n",
       "                                                                                               MinMaxScaler(),\n",
       "                                                                                               [&#x27;EDUC&#x27;,\n",
       "                                                                                                &#x27;SES&#x27;]),\n",
       "                                                                                              (&#x27;r_scaler&#x27;,\n",
       "                                                                                               RobustScaler(),\n",
       "                                                                                               [&#x27;eTIV&#x27;,\n",
       "                                                                                                &#x27;MMSE&#x27;])]),\n",
       "                                                        [&#x27;Age&#x27;, &#x27;eTIV&#x27;, &#x27;MMSE&#x27;,\n",
       "                                                         &#x27;EDUC&#x27;, &#x27;SES&#x27;, &#x27;nWBV&#x27;,\n",
       "                                                         &#x27;ASF&#x27;]),\n",
       "                                                       (&#x27;encoder&#x27;,\n",
       "                                                        OneHotEncoder(drop=&#x27;if_binary&#x27;),\n",
       "                                                        [&#x27;M/F&#x27;])])),\n",
       "                (&#x27;classifier&#x27;, RandomForestClassifier(max_depth=8))])</pre></div></div></div><div class=\"sk-serial\"><div class=\"sk-item sk-dashed-wrapped\"><div class=\"sk-label-container\"><div class=\"sk-label sk-toggleable\"><input class=\"sk-toggleable__control sk-hidden--visually\" id=\"ba0d2ace-4c1c-4842-8cda-c2b1a3b917bb\" type=\"checkbox\" ><label for=\"ba0d2ace-4c1c-4842-8cda-c2b1a3b917bb\" class=\"sk-toggleable__label sk-toggleable__label-arrow\">preprocessor: CustomColumnTransformer</label><div class=\"sk-toggleable__content\"><pre>CustomColumnTransformer(transformers=[(&#x27;num_transformer&#x27;,\n",
       "                                       CustomColumnTransformer(remainder=&#x27;passthrough&#x27;,\n",
       "                                                               transformers=[(&#x27;s_scaler&#x27;,\n",
       "                                                                              StandardScaler(),\n",
       "                                                                              [&#x27;Age&#x27;]),\n",
       "                                                                             (&#x27;m_scaler&#x27;,\n",
       "                                                                              MinMaxScaler(),\n",
       "                                                                              [&#x27;EDUC&#x27;,\n",
       "                                                                               &#x27;SES&#x27;]),\n",
       "                                                                             (&#x27;r_scaler&#x27;,\n",
       "                                                                              RobustScaler(),\n",
       "                                                                              [&#x27;eTIV&#x27;,\n",
       "                                                                               &#x27;MMSE&#x27;])]),\n",
       "                                       [&#x27;Age&#x27;, &#x27;eTIV&#x27;, &#x27;MMSE&#x27;, &#x27;EDUC&#x27;, &#x27;SES&#x27;,\n",
       "                                        &#x27;nWBV&#x27;, &#x27;ASF&#x27;]),\n",
       "                                      (&#x27;encoder&#x27;,\n",
       "                                       OneHotEncoder(drop=&#x27;if_binary&#x27;),\n",
       "                                       [&#x27;M/F&#x27;])])</pre></div></div></div><div class=\"sk-parallel\"><div class=\"sk-parallel-item\"><div class=\"sk-item\"><div class=\"sk-label-container\"><div class=\"sk-label sk-toggleable\"><input class=\"sk-toggleable__control sk-hidden--visually\" id=\"31fd38a0-dd62-4cb0-894c-e87be5fc911a\" type=\"checkbox\" ><label for=\"31fd38a0-dd62-4cb0-894c-e87be5fc911a\" class=\"sk-toggleable__label sk-toggleable__label-arrow\">num_transformer</label><div class=\"sk-toggleable__content\"><pre>[&#x27;Age&#x27;, &#x27;eTIV&#x27;, &#x27;MMSE&#x27;, &#x27;EDUC&#x27;, &#x27;SES&#x27;, &#x27;nWBV&#x27;, &#x27;ASF&#x27;]</pre></div></div></div><div class=\"sk-serial\"><div class=\"sk-item sk-dashed-wrapped\"><div class=\"sk-parallel\"><div class=\"sk-parallel-item\"><div class=\"sk-item\"><div class=\"sk-label-container\"><div class=\"sk-label sk-toggleable\"><input class=\"sk-toggleable__control sk-hidden--visually\" id=\"af3591d3-1414-42f8-a640-22035151e293\" type=\"checkbox\" ><label for=\"af3591d3-1414-42f8-a640-22035151e293\" class=\"sk-toggleable__label sk-toggleable__label-arrow\">s_scaler</label><div class=\"sk-toggleable__content\"><pre>[&#x27;Age&#x27;]</pre></div></div></div><div class=\"sk-serial\"><div class=\"sk-item\"><div class=\"sk-estimator sk-toggleable\"><input class=\"sk-toggleable__control sk-hidden--visually\" id=\"6576ba85-de1e-4e5e-b130-c1f8ed246ba6\" type=\"checkbox\" ><label for=\"6576ba85-de1e-4e5e-b130-c1f8ed246ba6\" class=\"sk-toggleable__label sk-toggleable__label-arrow\">StandardScaler</label><div class=\"sk-toggleable__content\"><pre>StandardScaler()</pre></div></div></div></div></div></div><div class=\"sk-parallel-item\"><div class=\"sk-item\"><div class=\"sk-label-container\"><div class=\"sk-label sk-toggleable\"><input class=\"sk-toggleable__control sk-hidden--visually\" id=\"ecf4d8ba-b4ea-4d6c-911f-e4d7e60a3835\" type=\"checkbox\" ><label for=\"ecf4d8ba-b4ea-4d6c-911f-e4d7e60a3835\" class=\"sk-toggleable__label sk-toggleable__label-arrow\">m_scaler</label><div class=\"sk-toggleable__content\"><pre>[&#x27;EDUC&#x27;, &#x27;SES&#x27;]</pre></div></div></div><div class=\"sk-serial\"><div class=\"sk-item\"><div class=\"sk-estimator sk-toggleable\"><input class=\"sk-toggleable__control sk-hidden--visually\" id=\"fa1d194e-932e-4d99-a30b-dacaf1fda191\" type=\"checkbox\" ><label for=\"fa1d194e-932e-4d99-a30b-dacaf1fda191\" class=\"sk-toggleable__label sk-toggleable__label-arrow\">MinMaxScaler</label><div class=\"sk-toggleable__content\"><pre>MinMaxScaler()</pre></div></div></div></div></div></div><div class=\"sk-parallel-item\"><div class=\"sk-item\"><div class=\"sk-label-container\"><div class=\"sk-label sk-toggleable\"><input class=\"sk-toggleable__control sk-hidden--visually\" id=\"ea044cee-877d-454e-86da-c655b483dd69\" type=\"checkbox\" ><label for=\"ea044cee-877d-454e-86da-c655b483dd69\" class=\"sk-toggleable__label sk-toggleable__label-arrow\">r_scaler</label><div class=\"sk-toggleable__content\"><pre>[&#x27;eTIV&#x27;, &#x27;MMSE&#x27;]</pre></div></div></div><div class=\"sk-serial\"><div class=\"sk-item\"><div class=\"sk-estimator sk-toggleable\"><input class=\"sk-toggleable__control sk-hidden--visually\" id=\"0e47d51c-bdc4-4831-a03d-dc1004d3fb2f\" type=\"checkbox\" ><label for=\"0e47d51c-bdc4-4831-a03d-dc1004d3fb2f\" class=\"sk-toggleable__label sk-toggleable__label-arrow\">RobustScaler</label><div class=\"sk-toggleable__content\"><pre>RobustScaler()</pre></div></div></div></div></div></div><div class=\"sk-parallel-item\"><div class=\"sk-item\"><div class=\"sk-label-container\"><div class=\"sk-label sk-toggleable\"><input class=\"sk-toggleable__control sk-hidden--visually\" id=\"53ead9be-fa43-4822-8285-181136db6f6a\" type=\"checkbox\" ><label for=\"53ead9be-fa43-4822-8285-181136db6f6a\" class=\"sk-toggleable__label sk-toggleable__label-arrow\">remainder</label><div class=\"sk-toggleable__content\"><pre></pre></div></div></div><div class=\"sk-serial\"><div class=\"sk-item\"><div class=\"sk-estimator sk-toggleable\"><input class=\"sk-toggleable__control sk-hidden--visually\" id=\"b60f0d63-fe9a-4d8c-8c55-a154ca6294f0\" type=\"checkbox\" ><label for=\"b60f0d63-fe9a-4d8c-8c55-a154ca6294f0\" class=\"sk-toggleable__label sk-toggleable__label-arrow\">passthrough</label><div class=\"sk-toggleable__content\"><pre>passthrough</pre></div></div></div></div></div></div></div></div></div></div></div><div class=\"sk-parallel-item\"><div class=\"sk-item\"><div class=\"sk-label-container\"><div class=\"sk-label sk-toggleable\"><input class=\"sk-toggleable__control sk-hidden--visually\" id=\"6fc9ec96-e718-4e8d-a330-8881570e9be7\" type=\"checkbox\" ><label for=\"6fc9ec96-e718-4e8d-a330-8881570e9be7\" class=\"sk-toggleable__label sk-toggleable__label-arrow\">encoder</label><div class=\"sk-toggleable__content\"><pre>[&#x27;M/F&#x27;]</pre></div></div></div><div class=\"sk-serial\"><div class=\"sk-item\"><div class=\"sk-estimator sk-toggleable\"><input class=\"sk-toggleable__control sk-hidden--visually\" id=\"a864e15d-3b28-4a6f-8d3b-7879bec49b1f\" type=\"checkbox\" ><label for=\"a864e15d-3b28-4a6f-8d3b-7879bec49b1f\" class=\"sk-toggleable__label sk-toggleable__label-arrow\">OneHotEncoder</label><div class=\"sk-toggleable__content\"><pre>OneHotEncoder(drop=&#x27;if_binary&#x27;)</pre></div></div></div></div></div></div></div></div><div class=\"sk-item\"><div class=\"sk-estimator sk-toggleable\"><input class=\"sk-toggleable__control sk-hidden--visually\" id=\"acc84fb6-7840-49f4-9afe-84bd1afcfed6\" type=\"checkbox\" ><label for=\"acc84fb6-7840-49f4-9afe-84bd1afcfed6\" class=\"sk-toggleable__label sk-toggleable__label-arrow\">RandomForestClassifier</label><div class=\"sk-toggleable__content\"><pre>RandomForestClassifier(max_depth=8)</pre></div></div></div></div></div></div></div>"
      ],
      "text/plain": [
       "Pipeline(steps=[('preprocessor',\n",
       "                 CustomColumnTransformer(transformers=[('num_transformer',\n",
       "                                                        CustomColumnTransformer(remainder='passthrough',\n",
       "                                                                                transformers=[('s_scaler',\n",
       "                                                                                               StandardScaler(),\n",
       "                                                                                               ['Age']),\n",
       "                                                                                              ('m_scaler',\n",
       "                                                                                               MinMaxScaler(),\n",
       "                                                                                               ['EDUC',\n",
       "                                                                                                'SES']),\n",
       "                                                                                              ('r_scaler',\n",
       "                                                                                               RobustScaler(),\n",
       "                                                                                               ['eTIV',\n",
       "                                                                                                'MMSE'])]),\n",
       "                                                        ['Age', 'eTIV', 'MMSE',\n",
       "                                                         'EDUC', 'SES', 'nWBV',\n",
       "                                                         'ASF']),\n",
       "                                                       ('encoder',\n",
       "                                                        OneHotEncoder(drop='if_binary'),\n",
       "                                                        ['M/F'])])),\n",
       "                ('classifier', RandomForestClassifier(max_depth=8))])"
      ]
     },
     "execution_count": 17,
     "metadata": {},
     "output_type": "execute_result"
    }
   ],
   "source": [
    "from sklearn.neighbors import KNeighborsClassifier\n",
    "from sklearn.svm import SVC\n",
    "\n",
    "pipe = Pipeline([\n",
    "        (\"preprocessor\", pre_pipe),\n",
    "        (\"classifier\", RandomForestClassifier(n_estimators= 100, max_features= 'auto', max_depth= 8, criterion= 'gini'))])\n",
    "pipe"
   ]
  },
  {
   "cell_type": "code",
   "execution_count": null,
   "id": "100f0224",
   "metadata": {
    "scrolled": false
   },
   "outputs": [],
   "source": [
    "pipe.fit(X_train, y_train)\n",
    "#pipe.score(X_test,y_test)"
   ]
  },
  {
   "cell_type": "code",
   "execution_count": 133,
   "id": "ae5cd29f",
   "metadata": {},
   "outputs": [
    {
     "data": {
      "text/plain": [
       "array([0, 0, 1, 1, 1, 0, 0, 0, 1, 0, 1, 1, 1, 0, 0, 1, 1, 1, 1, 0, 0, 0,\n",
       "       0, 0, 0, 1, 1, 1, 1, 0, 1, 0, 0, 0, 0, 1, 0, 1, 1, 1, 1, 0, 0, 1,\n",
       "       1, 1, 1, 0, 0, 0, 0, 1, 1, 0, 0, 0, 0, 0, 0, 1, 1, 1, 0, 0, 0, 0,\n",
       "       0, 0, 0, 0, 0, 0, 1, 1, 1, 1, 1, 1, 1, 1, 1, 0, 0, 0, 0, 0, 1, 1,\n",
       "       1, 1, 1, 0, 0, 1, 1, 0, 0, 1, 1, 1, 1, 1, 0, 0, 0, 1, 1, 0, 0, 0,\n",
       "       0, 0, 0, 0, 0, 1, 0, 0, 0, 0, 0, 0, 0, 1, 1, 1, 1, 1, 0, 0, 0, 0,\n",
       "       0, 0, 0, 1, 1, 1, 1, 1, 1, 0, 0, 0, 0, 0, 0, 0, 0, 0, 0, 0, 0, 0,\n",
       "       1, 1, 0, 0, 0, 0, 0, 1, 1, 0, 0, 0, 0, 0, 0, 0, 0, 1, 1, 1, 1, 1,\n",
       "       1, 1, 1, 0, 0, 0, 0, 1, 1, 1, 1, 1, 1, 0, 0, 0, 0, 0, 0, 1, 0, 0,\n",
       "       0, 0, 0, 0, 0, 0, 0, 1, 1, 1, 1, 0, 0, 0, 0, 0, 0, 1, 1, 1, 0, 1,\n",
       "       1, 1, 1, 0, 0, 1, 1, 1, 1, 0, 0, 1, 1, 1, 1, 1, 1, 1, 1, 1, 1, 0,\n",
       "       0, 0, 0, 0, 1, 0, 0, 0, 1, 1, 0, 0, 0, 0, 1, 1, 0, 0, 0, 0, 1, 1,\n",
       "       1, 1, 0, 0, 0, 0, 0, 1, 0, 0, 1, 1, 1, 0, 0, 1, 0, 0, 0, 0, 1, 1,\n",
       "       1, 1, 0, 0, 0, 0, 0, 0, 0, 0, 1, 0, 0, 1, 1, 0, 0, 0, 0, 0, 0, 1,\n",
       "       1, 0, 0, 0, 0, 0, 0, 0, 1, 1, 0, 0, 1, 1, 1, 1, 0, 0, 0, 1, 1, 1,\n",
       "       1, 1, 1, 0, 0, 0, 0, 0, 1, 1, 0, 0, 0, 1, 1, 1, 0, 0, 1, 0, 0, 0,\n",
       "       0, 0, 1, 1, 1, 1, 1, 1, 1, 0, 0, 0, 0, 1, 1, 1, 1, 1, 0, 0, 0])"
      ]
     },
     "execution_count": 133,
     "metadata": {},
     "output_type": "execute_result"
    }
   ],
   "source": [
    "pipe.predict(X)"
   ]
  },
  {
   "cell_type": "markdown",
   "id": "6d5df550",
   "metadata": {},
   "source": [
    "We are going to evaluate now our model in the OASIS1 transformed dataset and viceversa."
   ]
  },
  {
   "cell_type": "code",
   "execution_count": 100,
   "id": "a77029a4",
   "metadata": {},
   "outputs": [],
   "source": [
    "frames=[X_piped, y]\n",
    "oasis2 = pd.concat(frames, axis =1)\n",
    "oasis2.to_csv(r'~/code/mkvph0ch/memobrain/notebooks/oasis2.csv', index_label=False)"
   ]
  },
  {
   "cell_type": "code",
   "execution_count": 23,
   "id": "cab09f95",
   "metadata": {
    "scrolled": false
   },
   "outputs": [
    {
     "data": {
      "text/html": [
       "<div>\n",
       "<style scoped>\n",
       "    .dataframe tbody tr th:only-of-type {\n",
       "        vertical-align: middle;\n",
       "    }\n",
       "\n",
       "    .dataframe tbody tr th {\n",
       "        vertical-align: top;\n",
       "    }\n",
       "\n",
       "    .dataframe thead th {\n",
       "        text-align: right;\n",
       "    }\n",
       "</style>\n",
       "<table border=\"1\" class=\"dataframe\">\n",
       "  <thead>\n",
       "    <tr style=\"text-align: right;\">\n",
       "      <th></th>\n",
       "      <th>num_transformer__s_scaler__Age</th>\n",
       "      <th>num_transformer__m_scaler__EDUC</th>\n",
       "      <th>num_transformer__m_scaler__SES</th>\n",
       "      <th>num_transformer__r_scaler__eTIV</th>\n",
       "      <th>num_transformer__r_scaler__MMSE</th>\n",
       "      <th>num_transformer__remainder__nWBV</th>\n",
       "      <th>num_transformer__remainder__ASF</th>\n",
       "      <th>encoder__M/F_M</th>\n",
       "      <th>CDR</th>\n",
       "    </tr>\n",
       "  </thead>\n",
       "  <tbody>\n",
       "    <tr>\n",
       "      <th>0</th>\n",
       "      <td>0.137193</td>\n",
       "      <td>0.25</td>\n",
       "      <td>0.50</td>\n",
       "      <td>-0.515</td>\n",
       "      <td>0.00</td>\n",
       "      <td>0.743</td>\n",
       "      <td>1.306</td>\n",
       "      <td>0</td>\n",
       "      <td>0</td>\n",
       "    </tr>\n",
       "    <tr>\n",
       "      <th>1</th>\n",
       "      <td>-1.437530</td>\n",
       "      <td>0.75</td>\n",
       "      <td>0.00</td>\n",
       "      <td>-1.500</td>\n",
       "      <td>0.00</td>\n",
       "      <td>0.810</td>\n",
       "      <td>1.531</td>\n",
       "      <td>0</td>\n",
       "      <td>0</td>\n",
       "    </tr>\n",
       "    <tr>\n",
       "      <th>2</th>\n",
       "      <td>0.054313</td>\n",
       "      <td>0.75</td>\n",
       "      <td>0.50</td>\n",
       "      <td>0.035</td>\n",
       "      <td>-0.50</td>\n",
       "      <td>0.708</td>\n",
       "      <td>1.207</td>\n",
       "      <td>0</td>\n",
       "      <td>1</td>\n",
       "    </tr>\n",
       "    <tr>\n",
       "      <th>3</th>\n",
       "      <td>0.137193</td>\n",
       "      <td>1.00</td>\n",
       "      <td>0.25</td>\n",
       "      <td>0.945</td>\n",
       "      <td>0.25</td>\n",
       "      <td>0.689</td>\n",
       "      <td>1.073</td>\n",
       "      <td>1</td>\n",
       "      <td>0</td>\n",
       "    </tr>\n",
       "    <tr>\n",
       "      <th>4</th>\n",
       "      <td>-1.686170</td>\n",
       "      <td>0.50</td>\n",
       "      <td>0.25</td>\n",
       "      <td>-0.630</td>\n",
       "      <td>0.25</td>\n",
       "      <td>0.827</td>\n",
       "      <td>1.329</td>\n",
       "      <td>0</td>\n",
       "      <td>0</td>\n",
       "    </tr>\n",
       "    <tr>\n",
       "      <th>...</th>\n",
       "      <td>...</td>\n",
       "      <td>...</td>\n",
       "      <td>...</td>\n",
       "      <td>...</td>\n",
       "      <td>...</td>\n",
       "      <td>...</td>\n",
       "      <td>...</td>\n",
       "      <td>...</td>\n",
       "      <td>...</td>\n",
       "    </tr>\n",
       "    <tr>\n",
       "      <th>230</th>\n",
       "      <td>-0.194328</td>\n",
       "      <td>0.00</td>\n",
       "      <td>0.75</td>\n",
       "      <td>-0.760</td>\n",
       "      <td>0.00</td>\n",
       "      <td>0.748</td>\n",
       "      <td>1.355</td>\n",
       "      <td>0</td>\n",
       "      <td>1</td>\n",
       "    </tr>\n",
       "    <tr>\n",
       "      <th>231</th>\n",
       "      <td>0.054313</td>\n",
       "      <td>0.50</td>\n",
       "      <td>0.25</td>\n",
       "      <td>0.445</td>\n",
       "      <td>-1.50</td>\n",
       "      <td>0.730</td>\n",
       "      <td>1.142</td>\n",
       "      <td>0</td>\n",
       "      <td>1</td>\n",
       "    </tr>\n",
       "    <tr>\n",
       "      <th>232</th>\n",
       "      <td>-0.940249</td>\n",
       "      <td>0.25</td>\n",
       "      <td>0.75</td>\n",
       "      <td>-0.465</td>\n",
       "      <td>-0.25</td>\n",
       "      <td>0.825</td>\n",
       "      <td>1.297</td>\n",
       "      <td>0</td>\n",
       "      <td>0</td>\n",
       "    </tr>\n",
       "    <tr>\n",
       "      <th>233</th>\n",
       "      <td>-0.940249</td>\n",
       "      <td>1.00</td>\n",
       "      <td>0.25</td>\n",
       "      <td>0.950</td>\n",
       "      <td>0.25</td>\n",
       "      <td>0.780</td>\n",
       "      <td>1.072</td>\n",
       "      <td>1</td>\n",
       "      <td>0</td>\n",
       "    </tr>\n",
       "    <tr>\n",
       "      <th>234</th>\n",
       "      <td>-0.857369</td>\n",
       "      <td>0.50</td>\n",
       "      <td>0.50</td>\n",
       "      <td>-0.375</td>\n",
       "      <td>-0.75</td>\n",
       "      <td>0.766</td>\n",
       "      <td>1.279</td>\n",
       "      <td>0</td>\n",
       "      <td>0</td>\n",
       "    </tr>\n",
       "  </tbody>\n",
       "</table>\n",
       "<p>235 rows × 9 columns</p>\n",
       "</div>"
      ],
      "text/plain": [
       "     num_transformer__s_scaler__Age  num_transformer__m_scaler__EDUC  \\\n",
       "0                          0.137193                             0.25   \n",
       "1                         -1.437530                             0.75   \n",
       "2                          0.054313                             0.75   \n",
       "3                          0.137193                             1.00   \n",
       "4                         -1.686170                             0.50   \n",
       "..                              ...                              ...   \n",
       "230                       -0.194328                             0.00   \n",
       "231                        0.054313                             0.50   \n",
       "232                       -0.940249                             0.25   \n",
       "233                       -0.940249                             1.00   \n",
       "234                       -0.857369                             0.50   \n",
       "\n",
       "     num_transformer__m_scaler__SES  num_transformer__r_scaler__eTIV  \\\n",
       "0                              0.50                           -0.515   \n",
       "1                              0.00                           -1.500   \n",
       "2                              0.50                            0.035   \n",
       "3                              0.25                            0.945   \n",
       "4                              0.25                           -0.630   \n",
       "..                              ...                              ...   \n",
       "230                            0.75                           -0.760   \n",
       "231                            0.25                            0.445   \n",
       "232                            0.75                           -0.465   \n",
       "233                            0.25                            0.950   \n",
       "234                            0.50                           -0.375   \n",
       "\n",
       "     num_transformer__r_scaler__MMSE  num_transformer__remainder__nWBV  \\\n",
       "0                               0.00                             0.743   \n",
       "1                               0.00                             0.810   \n",
       "2                              -0.50                             0.708   \n",
       "3                               0.25                             0.689   \n",
       "4                               0.25                             0.827   \n",
       "..                               ...                               ...   \n",
       "230                             0.00                             0.748   \n",
       "231                            -1.50                             0.730   \n",
       "232                            -0.25                             0.825   \n",
       "233                             0.25                             0.780   \n",
       "234                            -0.75                             0.766   \n",
       "\n",
       "     num_transformer__remainder__ASF  encoder__M/F_M  CDR  \n",
       "0                              1.306               0    0  \n",
       "1                              1.531               0    0  \n",
       "2                              1.207               0    1  \n",
       "3                              1.073               1    0  \n",
       "4                              1.329               0    0  \n",
       "..                               ...             ...  ...  \n",
       "230                            1.355               0    1  \n",
       "231                            1.142               0    1  \n",
       "232                            1.297               0    0  \n",
       "233                            1.072               1    0  \n",
       "234                            1.279               0    0  \n",
       "\n",
       "[235 rows x 9 columns]"
      ]
     },
     "execution_count": 23,
     "metadata": {},
     "output_type": "execute_result"
    }
   ],
   "source": [
    "oasis1 = pd.read_csv(\"~/code/mkvph0ch/memobrain/raw_data/OASIS1/preprocessed_oasis1.csv\")\n",
    "oasis1"
   ]
  },
  {
   "cell_type": "code",
   "execution_count": 26,
   "id": "d597503f",
   "metadata": {},
   "outputs": [
    {
     "data": {
      "text/plain": [
       "0.25    64\n",
       "1.00    51\n",
       "0.75    50\n",
       "0.50    47\n",
       "0.00    23\n",
       "Name: num_transformer__m_scaler__EDUC, dtype: int64"
      ]
     },
     "execution_count": 26,
     "metadata": {},
     "output_type": "execute_result"
    }
   ],
   "source": [
    "oasis1['num_transformer__m_scaler__EDUC'].value_counts()"
   ]
  },
  {
   "cell_type": "code",
   "execution_count": 114,
   "id": "dce4b353",
   "metadata": {},
   "outputs": [],
   "source": [
    "X1=oasis1.drop(columns=['CDR'])\n",
    "y1=oasis1['CDR']"
   ]
  },
  {
   "cell_type": "code",
   "execution_count": 115,
   "id": "950677af",
   "metadata": {},
   "outputs": [
    {
     "data": {
      "text/html": [
       "<style>#sk-23f59636-6aad-4bc0-92f6-06e2e455a5ca {color: black;background-color: white;}#sk-23f59636-6aad-4bc0-92f6-06e2e455a5ca pre{padding: 0;}#sk-23f59636-6aad-4bc0-92f6-06e2e455a5ca div.sk-toggleable {background-color: white;}#sk-23f59636-6aad-4bc0-92f6-06e2e455a5ca label.sk-toggleable__label {cursor: pointer;display: block;width: 100%;margin-bottom: 0;padding: 0.3em;box-sizing: border-box;text-align: center;}#sk-23f59636-6aad-4bc0-92f6-06e2e455a5ca label.sk-toggleable__label-arrow:before {content: \"▸\";float: left;margin-right: 0.25em;color: #696969;}#sk-23f59636-6aad-4bc0-92f6-06e2e455a5ca label.sk-toggleable__label-arrow:hover:before {color: black;}#sk-23f59636-6aad-4bc0-92f6-06e2e455a5ca div.sk-estimator:hover label.sk-toggleable__label-arrow:before {color: black;}#sk-23f59636-6aad-4bc0-92f6-06e2e455a5ca div.sk-toggleable__content {max-height: 0;max-width: 0;overflow: hidden;text-align: left;background-color: #f0f8ff;}#sk-23f59636-6aad-4bc0-92f6-06e2e455a5ca div.sk-toggleable__content pre {margin: 0.2em;color: black;border-radius: 0.25em;background-color: #f0f8ff;}#sk-23f59636-6aad-4bc0-92f6-06e2e455a5ca input.sk-toggleable__control:checked~div.sk-toggleable__content {max-height: 200px;max-width: 100%;overflow: auto;}#sk-23f59636-6aad-4bc0-92f6-06e2e455a5ca input.sk-toggleable__control:checked~label.sk-toggleable__label-arrow:before {content: \"▾\";}#sk-23f59636-6aad-4bc0-92f6-06e2e455a5ca div.sk-estimator input.sk-toggleable__control:checked~label.sk-toggleable__label {background-color: #d4ebff;}#sk-23f59636-6aad-4bc0-92f6-06e2e455a5ca div.sk-label input.sk-toggleable__control:checked~label.sk-toggleable__label {background-color: #d4ebff;}#sk-23f59636-6aad-4bc0-92f6-06e2e455a5ca input.sk-hidden--visually {border: 0;clip: rect(1px 1px 1px 1px);clip: rect(1px, 1px, 1px, 1px);height: 1px;margin: -1px;overflow: hidden;padding: 0;position: absolute;width: 1px;}#sk-23f59636-6aad-4bc0-92f6-06e2e455a5ca div.sk-estimator {font-family: monospace;background-color: #f0f8ff;border: 1px dotted black;border-radius: 0.25em;box-sizing: border-box;margin-bottom: 0.5em;}#sk-23f59636-6aad-4bc0-92f6-06e2e455a5ca div.sk-estimator:hover {background-color: #d4ebff;}#sk-23f59636-6aad-4bc0-92f6-06e2e455a5ca div.sk-parallel-item::after {content: \"\";width: 100%;border-bottom: 1px solid gray;flex-grow: 1;}#sk-23f59636-6aad-4bc0-92f6-06e2e455a5ca div.sk-label:hover label.sk-toggleable__label {background-color: #d4ebff;}#sk-23f59636-6aad-4bc0-92f6-06e2e455a5ca div.sk-serial::before {content: \"\";position: absolute;border-left: 1px solid gray;box-sizing: border-box;top: 2em;bottom: 0;left: 50%;}#sk-23f59636-6aad-4bc0-92f6-06e2e455a5ca div.sk-serial {display: flex;flex-direction: column;align-items: center;background-color: white;padding-right: 0.2em;padding-left: 0.2em;}#sk-23f59636-6aad-4bc0-92f6-06e2e455a5ca div.sk-item {z-index: 1;}#sk-23f59636-6aad-4bc0-92f6-06e2e455a5ca div.sk-parallel {display: flex;align-items: stretch;justify-content: center;background-color: white;}#sk-23f59636-6aad-4bc0-92f6-06e2e455a5ca div.sk-parallel::before {content: \"\";position: absolute;border-left: 1px solid gray;box-sizing: border-box;top: 2em;bottom: 0;left: 50%;}#sk-23f59636-6aad-4bc0-92f6-06e2e455a5ca div.sk-parallel-item {display: flex;flex-direction: column;position: relative;background-color: white;}#sk-23f59636-6aad-4bc0-92f6-06e2e455a5ca div.sk-parallel-item:first-child::after {align-self: flex-end;width: 50%;}#sk-23f59636-6aad-4bc0-92f6-06e2e455a5ca div.sk-parallel-item:last-child::after {align-self: flex-start;width: 50%;}#sk-23f59636-6aad-4bc0-92f6-06e2e455a5ca div.sk-parallel-item:only-child::after {width: 0;}#sk-23f59636-6aad-4bc0-92f6-06e2e455a5ca div.sk-dashed-wrapped {border: 1px dashed gray;margin: 0 0.4em 0.5em 0.4em;box-sizing: border-box;padding-bottom: 0.4em;background-color: white;position: relative;}#sk-23f59636-6aad-4bc0-92f6-06e2e455a5ca div.sk-label label {font-family: monospace;font-weight: bold;background-color: white;display: inline-block;line-height: 1.2em;}#sk-23f59636-6aad-4bc0-92f6-06e2e455a5ca div.sk-label-container {position: relative;z-index: 2;text-align: center;}#sk-23f59636-6aad-4bc0-92f6-06e2e455a5ca div.sk-container {/* jupyter's `normalize.less` sets `[hidden] { display: none; }` but bootstrap.min.css set `[hidden] { display: none !important; }` so we also need the `!important` here to be able to override the default hidden behavior on the sphinx rendered scikit-learn.org. See: https://github.com/scikit-learn/scikit-learn/issues/21755 */display: inline-block !important;position: relative;}#sk-23f59636-6aad-4bc0-92f6-06e2e455a5ca div.sk-text-repr-fallback {display: none;}</style><div id=\"sk-23f59636-6aad-4bc0-92f6-06e2e455a5ca\" class=\"sk-top-container\"><div class=\"sk-text-repr-fallback\"><pre>RandomForestClassifier(max_depth=8)</pre><b>Please rerun this cell to show the HTML repr or trust the notebook.</b></div><div class=\"sk-container\" hidden><div class=\"sk-item\"><div class=\"sk-estimator sk-toggleable\"><input class=\"sk-toggleable__control sk-hidden--visually\" id=\"2805f175-ee2d-42bc-a851-30c902415534\" type=\"checkbox\" checked><label for=\"2805f175-ee2d-42bc-a851-30c902415534\" class=\"sk-toggleable__label sk-toggleable__label-arrow\">RandomForestClassifier</label><div class=\"sk-toggleable__content\"><pre>RandomForestClassifier(max_depth=8)</pre></div></div></div></div></div>"
      ],
      "text/plain": [
       "RandomForestClassifier(max_depth=8)"
      ]
     },
     "execution_count": 115,
     "metadata": {},
     "output_type": "execute_result"
    }
   ],
   "source": [
    "best_model = RandomForestClassifier(n_estimators= 100, max_features= 'auto', max_depth= 8, criterion= 'gini')\n",
    "best_model.fit(X_train, y_train)"
   ]
  },
  {
   "cell_type": "code",
   "execution_count": 117,
   "id": "21cd2921",
   "metadata": {},
   "outputs": [],
   "source": [
    "y_pred_oasis1 = best_model.predict(X1)"
   ]
  },
  {
   "cell_type": "code",
   "execution_count": 119,
   "id": "b3e3faf1",
   "metadata": {},
   "outputs": [
    {
     "data": {
      "text/plain": [
       "(0.8638297872340426, 0.76, 0.9047619047619048)"
      ]
     },
     "execution_count": 119,
     "metadata": {},
     "output_type": "execute_result"
    }
   ],
   "source": [
    "accuracy_score(y1, y_pred_oasis1), recall_score(y1, y_pred_oasis1), precision_score(y1, y_pred_oasis1)"
   ]
  }
 ],
 "metadata": {
  "kernelspec": {
   "display_name": "Python 3 (ipykernel)",
   "language": "python",
   "name": "python3"
  },
  "language_info": {
   "codemirror_mode": {
    "name": "ipython",
    "version": 3
   },
   "file_extension": ".py",
   "mimetype": "text/x-python",
   "name": "python",
   "nbconvert_exporter": "python",
   "pygments_lexer": "ipython3",
   "version": "3.8.12"
  },
  "toc": {
   "base_numbering": 1,
   "nav_menu": {},
   "number_sections": true,
   "sideBar": true,
   "skip_h1_title": false,
   "title_cell": "Table of Contents",
   "title_sidebar": "Contents",
   "toc_cell": false,
   "toc_position": {},
   "toc_section_display": true,
   "toc_window_display": false
  }
 },
 "nbformat": 4,
 "nbformat_minor": 5
}
