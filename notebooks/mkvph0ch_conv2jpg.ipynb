{
 "cells": [
  {
   "cell_type": "markdown",
   "id": "4df6183e-d357-4972-875a-aefb1efa1d53",
   "metadata": {},
   "source": [
    "# Import packages"
   ]
  },
  {
   "cell_type": "code",
   "execution_count": 1,
   "id": "6a226362-6b8f-402e-b54d-b7d22bdef81c",
   "metadata": {},
   "outputs": [],
   "source": [
    "from PIL import Image\n",
    "import os\n",
    "import glob\n",
    "from pathlib import Path"
   ]
  },
  {
   "cell_type": "markdown",
   "id": "48d3bca7-cebd-4c95-a0a9-9ad3ddb41e1b",
   "metadata": {},
   "source": [
    "# Paths "
   ]
  },
  {
   "cell_type": "code",
   "execution_count": 75,
   "id": "43de6a22-e67d-4be7-a330-9c4b488526e6",
   "metadata": {},
   "outputs": [],
   "source": [
    "user_path = Path('/Users/mkv/code/mkvph0ch/memobrain/')\n",
    "\n",
    "local_path = user_path.joinpath('raw_data/OASIS1/OAS1_RAW/')\n",
    "\n",
    "gcp_path = 'gs://memobrain/raw_data/OASIS1/OAS1_RAW/'"
   ]
  },
  {
   "cell_type": "markdown",
   "id": "c15cdc80-d656-4594-a779-fa8f5fc92e97",
   "metadata": {},
   "source": [
    "# Convert images"
   ]
  },
  {
   "cell_type": "code",
   "execution_count": 81,
   "id": "5be7cb73-d2e9-4293-a9af-3e2806f12f90",
   "metadata": {},
   "outputs": [],
   "source": [
    "def find_files(file_ext, cpath='.'):\n",
    "    '''find all files with {file_ext} in {cpath}\n",
    "    file_ext: str\n",
    "    cpath: str\n",
    "    '''\n",
    "    all_paths = []\n",
    "    for file_path in Path(cpath).rglob(f\"*.{file_ext}\"):\n",
    "        all_paths.append(file_path)\n",
    "\n",
    "    return all_paths"
   ]
  },
  {
   "cell_type": "code",
   "execution_count": 69,
   "id": "40d58da5-6eb8-4781-9ff8-cc458ffeae73",
   "metadata": {},
   "outputs": [],
   "source": [
    "def convert_images(image_paths, file_ext='gif'):\n",
    "    '''convert all images with suffix {file_ext} in {image_paths}\n",
    "    image_paths: list (str or path objects)\n",
    "    '''\n",
    "    for image_path in image_paths:\n",
    "        if image_path.suffix == f\".{file_ext}\":\n",
    "            im = Image.open(image_path)\n",
    "            im_jpg = image_path.parent.joinpath(f\"{image_path.stem}.jpg\")\n",
    "            im.save(im_jpg)"
   ]
  },
  {
   "cell_type": "code",
   "execution_count": 82,
   "id": "ca012c20-e4f1-4626-bfd5-423c87a65125",
   "metadata": {},
   "outputs": [
    {
     "data": {
      "text/plain": [
       "4304"
      ]
     },
     "execution_count": 82,
     "metadata": {},
     "output_type": "execute_result"
    }
   ],
   "source": [
    "oasis1_gif_paths = find_files('gif', cpath=str(local_path))\n",
    "len(oasis1_gif_paths)"
   ]
  },
  {
   "cell_type": "code",
   "execution_count": 37,
   "id": "d4c05bd5-0090-470a-92e1-b9ab2ed579fb",
   "metadata": {},
   "outputs": [
    {
     "data": {
      "text/plain": [
       "PosixPath('/Users/mkv/code/mkvph0ch/memobrain/raw_data/OASIS1/OAS1_RAW/OAS1_0303_MR1/FSL_SEG/OAS1_0303_MR1_mpr_n4_anon_111_t88_masked_gfc_fseg_tra_90.gif')"
      ]
     },
     "execution_count": 37,
     "metadata": {},
     "output_type": "execute_result"
    }
   ],
   "source": [
    "oasis1_gif_paths[0]"
   ]
  },
  {
   "cell_type": "code",
   "execution_count": 38,
   "id": "67cdeaa2-5d25-4e97-b660-9066836b38aa",
   "metadata": {},
   "outputs": [
    {
     "data": {
      "text/plain": [
       "PosixPath('/Users/mkv/code/mkvph0ch/memobrain/raw_data/OASIS1/OAS1_RAW/OAS1_0303_MR1/FSL_SEG')"
      ]
     },
     "execution_count": 38,
     "metadata": {},
     "output_type": "execute_result"
    }
   ],
   "source": [
    "oasis1_gif_paths[0].parent"
   ]
  },
  {
   "cell_type": "code",
   "execution_count": 34,
   "id": "dd34471b-58e7-4d9a-ac05-585dea37ab99",
   "metadata": {},
   "outputs": [
    {
     "data": {
      "text/plain": [
       "'OAS1_0303_MR1_mpr_n4_anon_111_t88_masked_gfc_fseg_tra_90'"
      ]
     },
     "execution_count": 34,
     "metadata": {},
     "output_type": "execute_result"
    }
   ],
   "source": [
    "oasis1_gif_paths[0].stem"
   ]
  },
  {
   "cell_type": "code",
   "execution_count": 56,
   "id": "efbe879b-37a3-4ca2-9781-d6e2a52d282a",
   "metadata": {},
   "outputs": [
    {
     "data": {
      "text/plain": [
       "'.gif'"
      ]
     },
     "execution_count": 56,
     "metadata": {},
     "output_type": "execute_result"
    }
   ],
   "source": [
    "oasis1_gif_paths[0].suffix"
   ]
  },
  {
   "cell_type": "code",
   "execution_count": 39,
   "id": "67af2b6e-10a0-497c-8e75-435ce7d85474",
   "metadata": {},
   "outputs": [
    {
     "data": {
      "text/plain": [
       "PosixPath('/Users/mkv/code/mkvph0ch/memobrain/raw_data/OASIS1/OAS1_RAW/OAS1_0303_MR1/FSL_SEG/OAS1_0303_MR1_mpr_n4_anon_111_t88_masked_gfc_fseg_tra_90.jpg')"
      ]
     },
     "execution_count": 39,
     "metadata": {},
     "output_type": "execute_result"
    }
   ],
   "source": [
    "oasis1_gif_paths[0].parent.joinpath(f\"{oasis1_gif_paths[0].stem}.jpg\")"
   ]
  },
  {
   "cell_type": "code",
   "execution_count": 67,
   "id": "c89d6fde-fc0b-4c72-8306-25f66fe716ee",
   "metadata": {},
   "outputs": [],
   "source": [
    "convert_images(oasis1_gif_paths)"
   ]
  },
  {
   "cell_type": "code",
   "execution_count": 68,
   "id": "6d68e89f-549b-45ce-bfa7-37e501031ce2",
   "metadata": {},
   "outputs": [
    {
     "data": {
      "text/plain": [
       "4304"
      ]
     },
     "execution_count": 68,
     "metadata": {},
     "output_type": "execute_result"
    }
   ],
   "source": [
    "oasis1_jpg_paths = find_files('jpg', cpath=local_path)\n",
    "len(oasis1_gif_paths)"
   ]
  },
  {
   "cell_type": "code",
   "execution_count": null,
   "id": "71219119-9f71-4219-9a39-4c79d582b980",
   "metadata": {},
   "outputs": [],
   "source": []
  }
 ],
 "metadata": {
  "kernelspec": {
   "display_name": "Python 3 (ipykernel)",
   "language": "python",
   "name": "python3"
  },
  "language_info": {
   "codemirror_mode": {
    "name": "ipython",
    "version": 3
   },
   "file_extension": ".py",
   "mimetype": "text/x-python",
   "name": "python",
   "nbconvert_exporter": "python",
   "pygments_lexer": "ipython3",
   "version": "3.8.12"
  }
 },
 "nbformat": 4,
 "nbformat_minor": 5
}
