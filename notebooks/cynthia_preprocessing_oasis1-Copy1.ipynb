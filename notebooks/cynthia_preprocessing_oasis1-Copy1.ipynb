{
 "cells": [
  {
   "cell_type": "markdown",
   "id": "268b002b",
   "metadata": {},
   "source": [
    "# Preprocessing OASIS1"
   ]
  },
  {
   "cell_type": "code",
   "execution_count": 1,
   "id": "c1b2a9f2",
   "metadata": {},
   "outputs": [
    {
     "name": "stderr",
     "output_type": "stream",
     "text": [
      "/home/cynthias13w/.pyenv/versions/3.8.12/envs/memobrain/lib/python3.8/site-packages/xgboost/compat.py:36: FutureWarning: pandas.Int64Index is deprecated and will be removed from pandas in a future version. Use pandas.Index with the appropriate dtype instead.\n",
      "  from pandas import MultiIndex, Int64Index\n"
     ]
    }
   ],
   "source": [
    "# IMPORTS\n",
    "# DATA MANIPULATION\n",
    "import pandas as pd\n",
    "import numpy as np\n",
    "\n",
    "# DATA VISUALISATION\n",
    "import matplotlib.pyplot as plt\n",
    "import seaborn as sns\n",
    "sns.set()\n",
    "from sklearn import set_config; set_config(display='diagram') # Visualize pipelines in HTML\n",
    "import graphviz\n",
    "from sklearn.tree import export_graphviz\n",
    "from sklearn import tree\n",
    "\n",
    "# MACHINE LEARNING\n",
    "from sklearn.preprocessing import StandardScaler, RobustScaler, MinMaxScaler\n",
    "from sklearn.preprocessing import OneHotEncoder, LabelEncoder, FunctionTransformer\n",
    "from sklearn.pipeline import Pipeline\n",
    "from sklearn.compose import ColumnTransformer\n",
    "from sklearn.model_selection import train_test_split, GridSearchCV, RandomizedSearchCV\n",
    "from sklearn.tree import DecisionTreeRegressor, DecisionTreeClassifier\n",
    "from sklearn.ensemble import RandomForestClassifier\n",
    "from sklearn.neighbors import KNeighborsClassifier\n",
    "from sklearn.metrics import recall_score, confusion_matrix, ConfusionMatrixDisplay\n",
    "from sklearn.svm import SVC\n",
    "from sklearn.impute import SimpleImputer\n",
    "from sklearn.base import BaseEstimator, TransformerMixin\n",
    "import xgboost as xgb"
   ]
  },
  {
   "cell_type": "code",
   "execution_count": 2,
   "id": "3c4d731d",
   "metadata": {},
   "outputs": [],
   "source": [
    "# Importing Data\n",
    "oasis1_cs_path = '../raw_data/OASIS1/oasis_cross-sectional.csv'\n",
    "oasis1 = pd.read_csv(oasis1_cs_path)"
   ]
  },
  {
   "cell_type": "code",
   "execution_count": 3,
   "id": "3a526545",
   "metadata": {},
   "outputs": [
    {
     "data": {
      "text/plain": [
       "(436, 12)"
      ]
     },
     "execution_count": 3,
     "metadata": {},
     "output_type": "execute_result"
    }
   ],
   "source": [
    "# Checking shape\n",
    "oasis1.shape"
   ]
  },
  {
   "cell_type": "markdown",
   "id": "9eabf809",
   "metadata": {},
   "source": [
    "📜 <big> Note: </big>\n",
    "\n",
    "\n",
    "* **`CDR`**  Clinical Dementia Rating \n",
    "    * 0= nondemented;\n",
    "    * 0.5 – very mild dementia;\n",
    "    * 1 = mild dementia;\n",
    "    * 2 = moderate dementia\n",
    "\n",
    "* **`eTIV`** Estimated total intracranial volume (eTIV)\n",
    "\n",
    "* **`nWBV`** Normalized whole brain volume\n",
    "\n",
    "* **`ASF`** Atlas scaling factor"
   ]
  },
  {
   "cell_type": "code",
   "execution_count": 4,
   "id": "c1cc74a3",
   "metadata": {},
   "outputs": [
    {
     "data": {
      "text/html": [
       "<div>\n",
       "<style scoped>\n",
       "    .dataframe tbody tr th:only-of-type {\n",
       "        vertical-align: middle;\n",
       "    }\n",
       "\n",
       "    .dataframe tbody tr th {\n",
       "        vertical-align: top;\n",
       "    }\n",
       "\n",
       "    .dataframe thead th {\n",
       "        text-align: right;\n",
       "    }\n",
       "</style>\n",
       "<table border=\"1\" class=\"dataframe\">\n",
       "  <thead>\n",
       "    <tr style=\"text-align: right;\">\n",
       "      <th></th>\n",
       "      <th>ID</th>\n",
       "      <th>M/F</th>\n",
       "      <th>Hand</th>\n",
       "      <th>Age</th>\n",
       "      <th>Educ</th>\n",
       "      <th>SES</th>\n",
       "      <th>MMSE</th>\n",
       "      <th>CDR</th>\n",
       "      <th>eTIV</th>\n",
       "      <th>nWBV</th>\n",
       "      <th>ASF</th>\n",
       "      <th>Delay</th>\n",
       "    </tr>\n",
       "  </thead>\n",
       "  <tbody>\n",
       "    <tr>\n",
       "      <th>391</th>\n",
       "      <td>OAS1_0432_MR1</td>\n",
       "      <td>F</td>\n",
       "      <td>R</td>\n",
       "      <td>72</td>\n",
       "      <td>2.0</td>\n",
       "      <td>4.0</td>\n",
       "      <td>26.0</td>\n",
       "      <td>0.5</td>\n",
       "      <td>1453</td>\n",
       "      <td>0.773</td>\n",
       "      <td>1.208</td>\n",
       "      <td>NaN</td>\n",
       "    </tr>\n",
       "    <tr>\n",
       "      <th>65</th>\n",
       "      <td>OAS1_0070_MR1</td>\n",
       "      <td>F</td>\n",
       "      <td>R</td>\n",
       "      <td>63</td>\n",
       "      <td>3.0</td>\n",
       "      <td>2.0</td>\n",
       "      <td>30.0</td>\n",
       "      <td>0.0</td>\n",
       "      <td>1327</td>\n",
       "      <td>0.801</td>\n",
       "      <td>1.323</td>\n",
       "      <td>NaN</td>\n",
       "    </tr>\n",
       "    <tr>\n",
       "      <th>98</th>\n",
       "      <td>OAS1_0106_MR1</td>\n",
       "      <td>F</td>\n",
       "      <td>R</td>\n",
       "      <td>81</td>\n",
       "      <td>2.0</td>\n",
       "      <td>4.0</td>\n",
       "      <td>30.0</td>\n",
       "      <td>0.0</td>\n",
       "      <td>1230</td>\n",
       "      <td>0.717</td>\n",
       "      <td>1.427</td>\n",
       "      <td>NaN</td>\n",
       "    </tr>\n",
       "    <tr>\n",
       "      <th>299</th>\n",
       "      <td>OAS1_0331_MR1</td>\n",
       "      <td>F</td>\n",
       "      <td>R</td>\n",
       "      <td>54</td>\n",
       "      <td>NaN</td>\n",
       "      <td>NaN</td>\n",
       "      <td>NaN</td>\n",
       "      <td>NaN</td>\n",
       "      <td>1467</td>\n",
       "      <td>0.821</td>\n",
       "      <td>1.196</td>\n",
       "      <td>NaN</td>\n",
       "    </tr>\n",
       "    <tr>\n",
       "      <th>153</th>\n",
       "      <td>OAS1_0165_MR1</td>\n",
       "      <td>F</td>\n",
       "      <td>R</td>\n",
       "      <td>74</td>\n",
       "      <td>2.0</td>\n",
       "      <td>3.0</td>\n",
       "      <td>29.0</td>\n",
       "      <td>0.0</td>\n",
       "      <td>1395</td>\n",
       "      <td>0.787</td>\n",
       "      <td>1.258</td>\n",
       "      <td>NaN</td>\n",
       "    </tr>\n",
       "    <tr>\n",
       "      <th>417</th>\n",
       "      <td>OAS1_0080_MR2</td>\n",
       "      <td>F</td>\n",
       "      <td>R</td>\n",
       "      <td>25</td>\n",
       "      <td>NaN</td>\n",
       "      <td>NaN</td>\n",
       "      <td>NaN</td>\n",
       "      <td>NaN</td>\n",
       "      <td>1605</td>\n",
       "      <td>0.841</td>\n",
       "      <td>1.093</td>\n",
       "      <td>20.0</td>\n",
       "    </tr>\n",
       "    <tr>\n",
       "      <th>125</th>\n",
       "      <td>OAS1_0135_MR1</td>\n",
       "      <td>M</td>\n",
       "      <td>R</td>\n",
       "      <td>64</td>\n",
       "      <td>2.0</td>\n",
       "      <td>4.0</td>\n",
       "      <td>29.0</td>\n",
       "      <td>0.0</td>\n",
       "      <td>1561</td>\n",
       "      <td>0.801</td>\n",
       "      <td>1.124</td>\n",
       "      <td>NaN</td>\n",
       "    </tr>\n",
       "    <tr>\n",
       "      <th>380</th>\n",
       "      <td>OAS1_0420_MR1</td>\n",
       "      <td>F</td>\n",
       "      <td>R</td>\n",
       "      <td>22</td>\n",
       "      <td>NaN</td>\n",
       "      <td>NaN</td>\n",
       "      <td>NaN</td>\n",
       "      <td>NaN</td>\n",
       "      <td>1732</td>\n",
       "      <td>0.848</td>\n",
       "      <td>1.013</td>\n",
       "      <td>NaN</td>\n",
       "    </tr>\n",
       "    <tr>\n",
       "      <th>10</th>\n",
       "      <td>OAS1_0012_MR1</td>\n",
       "      <td>M</td>\n",
       "      <td>R</td>\n",
       "      <td>30</td>\n",
       "      <td>NaN</td>\n",
       "      <td>NaN</td>\n",
       "      <td>NaN</td>\n",
       "      <td>NaN</td>\n",
       "      <td>1574</td>\n",
       "      <td>0.842</td>\n",
       "      <td>1.115</td>\n",
       "      <td>NaN</td>\n",
       "    </tr>\n",
       "    <tr>\n",
       "      <th>219</th>\n",
       "      <td>OAS1_0240_MR1</td>\n",
       "      <td>F</td>\n",
       "      <td>R</td>\n",
       "      <td>74</td>\n",
       "      <td>2.0</td>\n",
       "      <td>NaN</td>\n",
       "      <td>26.0</td>\n",
       "      <td>0.5</td>\n",
       "      <td>1171</td>\n",
       "      <td>0.736</td>\n",
       "      <td>1.499</td>\n",
       "      <td>NaN</td>\n",
       "    </tr>\n",
       "    <tr>\n",
       "      <th>377</th>\n",
       "      <td>OAS1_0417_MR1</td>\n",
       "      <td>F</td>\n",
       "      <td>R</td>\n",
       "      <td>30</td>\n",
       "      <td>NaN</td>\n",
       "      <td>NaN</td>\n",
       "      <td>NaN</td>\n",
       "      <td>NaN</td>\n",
       "      <td>1551</td>\n",
       "      <td>0.855</td>\n",
       "      <td>1.132</td>\n",
       "      <td>NaN</td>\n",
       "    </tr>\n",
       "    <tr>\n",
       "      <th>352</th>\n",
       "      <td>OAS1_0388_MR1</td>\n",
       "      <td>F</td>\n",
       "      <td>R</td>\n",
       "      <td>77</td>\n",
       "      <td>2.0</td>\n",
       "      <td>4.0</td>\n",
       "      <td>22.0</td>\n",
       "      <td>1.0</td>\n",
       "      <td>1350</td>\n",
       "      <td>0.736</td>\n",
       "      <td>1.300</td>\n",
       "      <td>NaN</td>\n",
       "    </tr>\n",
       "    <tr>\n",
       "      <th>135</th>\n",
       "      <td>OAS1_0145_MR1</td>\n",
       "      <td>M</td>\n",
       "      <td>R</td>\n",
       "      <td>34</td>\n",
       "      <td>NaN</td>\n",
       "      <td>NaN</td>\n",
       "      <td>NaN</td>\n",
       "      <td>NaN</td>\n",
       "      <td>1653</td>\n",
       "      <td>0.831</td>\n",
       "      <td>1.062</td>\n",
       "      <td>NaN</td>\n",
       "    </tr>\n",
       "    <tr>\n",
       "      <th>203</th>\n",
       "      <td>OAS1_0223_MR1</td>\n",
       "      <td>M</td>\n",
       "      <td>R</td>\n",
       "      <td>84</td>\n",
       "      <td>2.0</td>\n",
       "      <td>NaN</td>\n",
       "      <td>20.0</td>\n",
       "      <td>1.0</td>\n",
       "      <td>1641</td>\n",
       "      <td>0.703</td>\n",
       "      <td>1.070</td>\n",
       "      <td>NaN</td>\n",
       "    </tr>\n",
       "    <tr>\n",
       "      <th>408</th>\n",
       "      <td>OAS1_0450_MR1</td>\n",
       "      <td>M</td>\n",
       "      <td>R</td>\n",
       "      <td>19</td>\n",
       "      <td>NaN</td>\n",
       "      <td>NaN</td>\n",
       "      <td>NaN</td>\n",
       "      <td>NaN</td>\n",
       "      <td>1478</td>\n",
       "      <td>0.880</td>\n",
       "      <td>1.188</td>\n",
       "      <td>NaN</td>\n",
       "    </tr>\n",
       "    <tr>\n",
       "      <th>316</th>\n",
       "      <td>OAS1_0350_MR1</td>\n",
       "      <td>M</td>\n",
       "      <td>R</td>\n",
       "      <td>21</td>\n",
       "      <td>NaN</td>\n",
       "      <td>NaN</td>\n",
       "      <td>NaN</td>\n",
       "      <td>NaN</td>\n",
       "      <td>1577</td>\n",
       "      <td>0.869</td>\n",
       "      <td>1.113</td>\n",
       "      <td>NaN</td>\n",
       "    </tr>\n",
       "    <tr>\n",
       "      <th>56</th>\n",
       "      <td>OAS1_0061_MR1</td>\n",
       "      <td>F</td>\n",
       "      <td>R</td>\n",
       "      <td>20</td>\n",
       "      <td>NaN</td>\n",
       "      <td>NaN</td>\n",
       "      <td>NaN</td>\n",
       "      <td>NaN</td>\n",
       "      <td>1749</td>\n",
       "      <td>0.840</td>\n",
       "      <td>1.441</td>\n",
       "      <td>NaN</td>\n",
       "    </tr>\n",
       "    <tr>\n",
       "      <th>249</th>\n",
       "      <td>OAS1_0277_MR1</td>\n",
       "      <td>M</td>\n",
       "      <td>R</td>\n",
       "      <td>22</td>\n",
       "      <td>NaN</td>\n",
       "      <td>NaN</td>\n",
       "      <td>NaN</td>\n",
       "      <td>NaN</td>\n",
       "      <td>1913</td>\n",
       "      <td>0.841</td>\n",
       "      <td>0.917</td>\n",
       "      <td>NaN</td>\n",
       "    </tr>\n",
       "    <tr>\n",
       "      <th>37</th>\n",
       "      <td>OAS1_0041_MR1</td>\n",
       "      <td>F</td>\n",
       "      <td>R</td>\n",
       "      <td>62</td>\n",
       "      <td>2.0</td>\n",
       "      <td>NaN</td>\n",
       "      <td>28.0</td>\n",
       "      <td>0.5</td>\n",
       "      <td>1350</td>\n",
       "      <td>0.758</td>\n",
       "      <td>1.300</td>\n",
       "      <td>NaN</td>\n",
       "    </tr>\n",
       "    <tr>\n",
       "      <th>2</th>\n",
       "      <td>OAS1_0003_MR1</td>\n",
       "      <td>F</td>\n",
       "      <td>R</td>\n",
       "      <td>73</td>\n",
       "      <td>4.0</td>\n",
       "      <td>3.0</td>\n",
       "      <td>27.0</td>\n",
       "      <td>0.5</td>\n",
       "      <td>1454</td>\n",
       "      <td>0.708</td>\n",
       "      <td>1.207</td>\n",
       "      <td>NaN</td>\n",
       "    </tr>\n",
       "  </tbody>\n",
       "</table>\n",
       "</div>"
      ],
      "text/plain": [
       "                ID M/F Hand  Age  Educ  SES  MMSE  CDR  eTIV   nWBV    ASF  \\\n",
       "391  OAS1_0432_MR1   F    R   72   2.0  4.0  26.0  0.5  1453  0.773  1.208   \n",
       "65   OAS1_0070_MR1   F    R   63   3.0  2.0  30.0  0.0  1327  0.801  1.323   \n",
       "98   OAS1_0106_MR1   F    R   81   2.0  4.0  30.0  0.0  1230  0.717  1.427   \n",
       "299  OAS1_0331_MR1   F    R   54   NaN  NaN   NaN  NaN  1467  0.821  1.196   \n",
       "153  OAS1_0165_MR1   F    R   74   2.0  3.0  29.0  0.0  1395  0.787  1.258   \n",
       "417  OAS1_0080_MR2   F    R   25   NaN  NaN   NaN  NaN  1605  0.841  1.093   \n",
       "125  OAS1_0135_MR1   M    R   64   2.0  4.0  29.0  0.0  1561  0.801  1.124   \n",
       "380  OAS1_0420_MR1   F    R   22   NaN  NaN   NaN  NaN  1732  0.848  1.013   \n",
       "10   OAS1_0012_MR1   M    R   30   NaN  NaN   NaN  NaN  1574  0.842  1.115   \n",
       "219  OAS1_0240_MR1   F    R   74   2.0  NaN  26.0  0.5  1171  0.736  1.499   \n",
       "377  OAS1_0417_MR1   F    R   30   NaN  NaN   NaN  NaN  1551  0.855  1.132   \n",
       "352  OAS1_0388_MR1   F    R   77   2.0  4.0  22.0  1.0  1350  0.736  1.300   \n",
       "135  OAS1_0145_MR1   M    R   34   NaN  NaN   NaN  NaN  1653  0.831  1.062   \n",
       "203  OAS1_0223_MR1   M    R   84   2.0  NaN  20.0  1.0  1641  0.703  1.070   \n",
       "408  OAS1_0450_MR1   M    R   19   NaN  NaN   NaN  NaN  1478  0.880  1.188   \n",
       "316  OAS1_0350_MR1   M    R   21   NaN  NaN   NaN  NaN  1577  0.869  1.113   \n",
       "56   OAS1_0061_MR1   F    R   20   NaN  NaN   NaN  NaN  1749  0.840  1.441   \n",
       "249  OAS1_0277_MR1   M    R   22   NaN  NaN   NaN  NaN  1913  0.841  0.917   \n",
       "37   OAS1_0041_MR1   F    R   62   2.0  NaN  28.0  0.5  1350  0.758  1.300   \n",
       "2    OAS1_0003_MR1   F    R   73   4.0  3.0  27.0  0.5  1454  0.708  1.207   \n",
       "\n",
       "     Delay  \n",
       "391    NaN  \n",
       "65     NaN  \n",
       "98     NaN  \n",
       "299    NaN  \n",
       "153    NaN  \n",
       "417   20.0  \n",
       "125    NaN  \n",
       "380    NaN  \n",
       "10     NaN  \n",
       "219    NaN  \n",
       "377    NaN  \n",
       "352    NaN  \n",
       "135    NaN  \n",
       "203    NaN  \n",
       "408    NaN  \n",
       "316    NaN  \n",
       "56     NaN  \n",
       "249    NaN  \n",
       "37     NaN  \n",
       "2      NaN  "
      ]
     },
     "execution_count": 4,
     "metadata": {},
     "output_type": "execute_result"
    }
   ],
   "source": [
    "oasis1.sample(20)"
   ]
  },
  {
   "cell_type": "code",
   "execution_count": 5,
   "id": "895ea66f",
   "metadata": {},
   "outputs": [
    {
     "data": {
      "text/plain": [
       "ID         0\n",
       "M/F        0\n",
       "Hand       0\n",
       "Age        0\n",
       "Educ     201\n",
       "SES      220\n",
       "MMSE     201\n",
       "CDR      201\n",
       "eTIV       0\n",
       "nWBV       0\n",
       "ASF        0\n",
       "Delay    416\n",
       "dtype: int64"
      ]
     },
     "execution_count": 5,
     "metadata": {},
     "output_type": "execute_result"
    }
   ],
   "source": [
    "oasis1.isnull().sum()"
   ]
  },
  {
   "cell_type": "markdown",
   "id": "c5227931",
   "metadata": {},
   "source": [
    "## Data Cleaning"
   ]
  },
  {
   "cell_type": "markdown",
   "id": "6f5222a1",
   "metadata": {},
   "source": [
    "**We want to define a function that:**\n",
    "\n",
    "1. Drops rows that have no values for CDR (prediction)\n",
    "2. Fills empty values for socioeconomic status with a value\n",
    "3. Replaces Male with 1 and Female with 0\n",
    "4. Converts CDR from 4 unique values to 2 unique values so that we now have a binary classification problem\n",
    "5. Drops columns Delay and Handedness"
   ]
  },
  {
   "cell_type": "code",
   "execution_count": 6,
   "id": "1b518097",
   "metadata": {},
   "outputs": [],
   "source": [
    "def clean_data(df):\n",
    "    \"\"\"This function removes CDR rows containing NANs, \n",
    "    fills SES missing values with status 3,\n",
    "    and drops columns ID, Delay and Hand.\"\"\"\n",
    "    \n",
    "    # Imputing with the median value \n",
    "    df['SES'].fillna(value=3, inplace=True) \n",
    "    \n",
    "    # DROPPING ROWS WITHOUT TARGET\n",
    "    df.dropna(subset = [\"CDR\"], inplace = True)\n",
    "    \n",
    "    \n",
    "    # TARGET\n",
    "    df[\"CDR\"] = df[\"CDR\"].map({0:0, \n",
    "                               0.5:1, \n",
    "                               1:1, \n",
    "                               2:1})\n",
    "    \n",
    "    # DROPPING USELESS FEATURES\n",
    "    df.drop(['Delay', 'Hand', 'ID'], inplace = True, axis=1)\n",
    "\n",
    "    return df.reset_index(drop = True)"
   ]
  },
  {
   "cell_type": "code",
   "execution_count": 7,
   "id": "8ecaae80",
   "metadata": {},
   "outputs": [
    {
     "data": {
      "text/html": [
       "<div>\n",
       "<style scoped>\n",
       "    .dataframe tbody tr th:only-of-type {\n",
       "        vertical-align: middle;\n",
       "    }\n",
       "\n",
       "    .dataframe tbody tr th {\n",
       "        vertical-align: top;\n",
       "    }\n",
       "\n",
       "    .dataframe thead th {\n",
       "        text-align: right;\n",
       "    }\n",
       "</style>\n",
       "<table border=\"1\" class=\"dataframe\">\n",
       "  <thead>\n",
       "    <tr style=\"text-align: right;\">\n",
       "      <th></th>\n",
       "      <th>M/F</th>\n",
       "      <th>Age</th>\n",
       "      <th>Educ</th>\n",
       "      <th>SES</th>\n",
       "      <th>MMSE</th>\n",
       "      <th>CDR</th>\n",
       "      <th>eTIV</th>\n",
       "      <th>nWBV</th>\n",
       "      <th>ASF</th>\n",
       "    </tr>\n",
       "  </thead>\n",
       "  <tbody>\n",
       "    <tr>\n",
       "      <th>0</th>\n",
       "      <td>F</td>\n",
       "      <td>74</td>\n",
       "      <td>2.0</td>\n",
       "      <td>3.0</td>\n",
       "      <td>29.0</td>\n",
       "      <td>0</td>\n",
       "      <td>1344</td>\n",
       "      <td>0.743</td>\n",
       "      <td>1.306</td>\n",
       "    </tr>\n",
       "    <tr>\n",
       "      <th>1</th>\n",
       "      <td>F</td>\n",
       "      <td>55</td>\n",
       "      <td>4.0</td>\n",
       "      <td>1.0</td>\n",
       "      <td>29.0</td>\n",
       "      <td>0</td>\n",
       "      <td>1147</td>\n",
       "      <td>0.810</td>\n",
       "      <td>1.531</td>\n",
       "    </tr>\n",
       "    <tr>\n",
       "      <th>2</th>\n",
       "      <td>F</td>\n",
       "      <td>73</td>\n",
       "      <td>4.0</td>\n",
       "      <td>3.0</td>\n",
       "      <td>27.0</td>\n",
       "      <td>1</td>\n",
       "      <td>1454</td>\n",
       "      <td>0.708</td>\n",
       "      <td>1.207</td>\n",
       "    </tr>\n",
       "    <tr>\n",
       "      <th>3</th>\n",
       "      <td>M</td>\n",
       "      <td>74</td>\n",
       "      <td>5.0</td>\n",
       "      <td>2.0</td>\n",
       "      <td>30.0</td>\n",
       "      <td>0</td>\n",
       "      <td>1636</td>\n",
       "      <td>0.689</td>\n",
       "      <td>1.073</td>\n",
       "    </tr>\n",
       "    <tr>\n",
       "      <th>4</th>\n",
       "      <td>F</td>\n",
       "      <td>52</td>\n",
       "      <td>3.0</td>\n",
       "      <td>2.0</td>\n",
       "      <td>30.0</td>\n",
       "      <td>0</td>\n",
       "      <td>1321</td>\n",
       "      <td>0.827</td>\n",
       "      <td>1.329</td>\n",
       "    </tr>\n",
       "    <tr>\n",
       "      <th>...</th>\n",
       "      <td>...</td>\n",
       "      <td>...</td>\n",
       "      <td>...</td>\n",
       "      <td>...</td>\n",
       "      <td>...</td>\n",
       "      <td>...</td>\n",
       "      <td>...</td>\n",
       "      <td>...</td>\n",
       "      <td>...</td>\n",
       "    </tr>\n",
       "    <tr>\n",
       "      <th>230</th>\n",
       "      <td>F</td>\n",
       "      <td>70</td>\n",
       "      <td>1.0</td>\n",
       "      <td>4.0</td>\n",
       "      <td>29.0</td>\n",
       "      <td>1</td>\n",
       "      <td>1295</td>\n",
       "      <td>0.748</td>\n",
       "      <td>1.355</td>\n",
       "    </tr>\n",
       "    <tr>\n",
       "      <th>231</th>\n",
       "      <td>F</td>\n",
       "      <td>73</td>\n",
       "      <td>3.0</td>\n",
       "      <td>2.0</td>\n",
       "      <td>23.0</td>\n",
       "      <td>1</td>\n",
       "      <td>1536</td>\n",
       "      <td>0.730</td>\n",
       "      <td>1.142</td>\n",
       "    </tr>\n",
       "    <tr>\n",
       "      <th>232</th>\n",
       "      <td>F</td>\n",
       "      <td>61</td>\n",
       "      <td>2.0</td>\n",
       "      <td>4.0</td>\n",
       "      <td>28.0</td>\n",
       "      <td>0</td>\n",
       "      <td>1354</td>\n",
       "      <td>0.825</td>\n",
       "      <td>1.297</td>\n",
       "    </tr>\n",
       "    <tr>\n",
       "      <th>233</th>\n",
       "      <td>M</td>\n",
       "      <td>61</td>\n",
       "      <td>5.0</td>\n",
       "      <td>2.0</td>\n",
       "      <td>30.0</td>\n",
       "      <td>0</td>\n",
       "      <td>1637</td>\n",
       "      <td>0.780</td>\n",
       "      <td>1.072</td>\n",
       "    </tr>\n",
       "    <tr>\n",
       "      <th>234</th>\n",
       "      <td>F</td>\n",
       "      <td>62</td>\n",
       "      <td>3.0</td>\n",
       "      <td>3.0</td>\n",
       "      <td>26.0</td>\n",
       "      <td>0</td>\n",
       "      <td>1372</td>\n",
       "      <td>0.766</td>\n",
       "      <td>1.279</td>\n",
       "    </tr>\n",
       "  </tbody>\n",
       "</table>\n",
       "<p>235 rows × 9 columns</p>\n",
       "</div>"
      ],
      "text/plain": [
       "    M/F  Age  Educ  SES  MMSE  CDR  eTIV   nWBV    ASF\n",
       "0     F   74   2.0  3.0  29.0    0  1344  0.743  1.306\n",
       "1     F   55   4.0  1.0  29.0    0  1147  0.810  1.531\n",
       "2     F   73   4.0  3.0  27.0    1  1454  0.708  1.207\n",
       "3     M   74   5.0  2.0  30.0    0  1636  0.689  1.073\n",
       "4     F   52   3.0  2.0  30.0    0  1321  0.827  1.329\n",
       "..   ..  ...   ...  ...   ...  ...   ...    ...    ...\n",
       "230   F   70   1.0  4.0  29.0    1  1295  0.748  1.355\n",
       "231   F   73   3.0  2.0  23.0    1  1536  0.730  1.142\n",
       "232   F   61   2.0  4.0  28.0    0  1354  0.825  1.297\n",
       "233   M   61   5.0  2.0  30.0    0  1637  0.780  1.072\n",
       "234   F   62   3.0  3.0  26.0    0  1372  0.766  1.279\n",
       "\n",
       "[235 rows x 9 columns]"
      ]
     },
     "execution_count": 7,
     "metadata": {},
     "output_type": "execute_result"
    }
   ],
   "source": [
    "oasis1 = clean_data(oasis1)\n",
    "oasis1"
   ]
  },
  {
   "cell_type": "markdown",
   "id": "4e5ff483",
   "metadata": {
    "heading_collapsed": true
   },
   "source": [
    "### Testing my code"
   ]
  },
  {
   "cell_type": "code",
   "execution_count": 8,
   "id": "75430f7d",
   "metadata": {
    "hidden": true
   },
   "outputs": [
    {
     "data": {
      "text/plain": [
       "(235, 9)"
      ]
     },
     "execution_count": 8,
     "metadata": {},
     "output_type": "execute_result"
    }
   ],
   "source": [
    "# Check shape again\n",
    "oasis1.shape"
   ]
  },
  {
   "cell_type": "code",
   "execution_count": 9,
   "id": "3a833c5c",
   "metadata": {
    "hidden": true
   },
   "outputs": [
    {
     "data": {
      "image/png": "[encoded data removed]",
      "text/plain": [
       "<Figure size 432x288 with 1 Axes>"
      ]
     },
     "metadata": {},
     "output_type": "display_data"
    }
   ],
   "source": [
    "# Education is not normally distrbuted\n",
    "sns.histplot(oasis1.Educ,kde = True, color = 'c');"
   ]
  },
  {
   "cell_type": "code",
   "execution_count": 10,
   "id": "80da22fa",
   "metadata": {
    "hidden": true
   },
   "outputs": [
    {
     "data": {
      "image/png": "[encoded data removed]",
      "text/plain": [
       "<Figure size 432x288 with 1 Axes>"
      ]
     },
     "metadata": {},
     "output_type": "display_data"
    }
   ],
   "source": [
    "sns.histplot(oasis1.SES, kde = True, color = 'c');"
   ]
  },
  {
   "cell_type": "code",
   "execution_count": 11,
   "id": "9299937d",
   "metadata": {
    "hidden": true
   },
   "outputs": [
    {
     "data": {
      "text/plain": [
       "array([0, 1])"
      ]
     },
     "execution_count": 11,
     "metadata": {},
     "output_type": "execute_result"
    }
   ],
   "source": [
    "# Check whether NANs are still here\n",
    "oasis1.CDR.unique()"
   ]
  },
  {
   "cell_type": "code",
   "execution_count": 12,
   "id": "cf163c5a",
   "metadata": {
    "hidden": true
   },
   "outputs": [
    {
     "data": {
      "text/plain": [
       "array([3., 1., 2., 4., 5.])"
      ]
     },
     "execution_count": 12,
     "metadata": {},
     "output_type": "execute_result"
    }
   ],
   "source": [
    "# Check SES column\n",
    "oasis1.SES.unique()"
   ]
  },
  {
   "cell_type": "code",
   "execution_count": 13,
   "id": "26487502",
   "metadata": {
    "hidden": true
   },
   "outputs": [
    {
     "data": {
      "text/plain": [
       "0      F\n",
       "1      F\n",
       "2      F\n",
       "3      M\n",
       "4      F\n",
       "      ..\n",
       "230    F\n",
       "231    F\n",
       "232    F\n",
       "233    M\n",
       "234    F\n",
       "Name: M/F, Length: 235, dtype: object"
      ]
     },
     "execution_count": 13,
     "metadata": {},
     "output_type": "execute_result"
    }
   ],
   "source": [
    "# Check M/F column\n",
    "oasis1['M/F']"
   ]
  },
  {
   "cell_type": "markdown",
   "id": "2ce64475",
   "metadata": {},
   "source": [
    "## Defining variables"
   ]
  },
  {
   "cell_type": "code",
   "execution_count": 14,
   "id": "ae794d60",
   "metadata": {},
   "outputs": [],
   "source": [
    "# Defining variables\n",
    "X = oasis1.drop(columns = ['CDR'])\n",
    "y = oasis1['CDR']"
   ]
  },
  {
   "cell_type": "code",
   "execution_count": 15,
   "id": "fa39c761",
   "metadata": {},
   "outputs": [
    {
     "data": {
      "text/html": [
       "<div>\n",
       "<style scoped>\n",
       "    .dataframe tbody tr th:only-of-type {\n",
       "        vertical-align: middle;\n",
       "    }\n",
       "\n",
       "    .dataframe tbody tr th {\n",
       "        vertical-align: top;\n",
       "    }\n",
       "\n",
       "    .dataframe thead th {\n",
       "        text-align: right;\n",
       "    }\n",
       "</style>\n",
       "<table border=\"1\" class=\"dataframe\">\n",
       "  <thead>\n",
       "    <tr style=\"text-align: right;\">\n",
       "      <th></th>\n",
       "      <th>M/F</th>\n",
       "      <th>Age</th>\n",
       "      <th>Educ</th>\n",
       "      <th>SES</th>\n",
       "      <th>MMSE</th>\n",
       "      <th>eTIV</th>\n",
       "      <th>nWBV</th>\n",
       "      <th>ASF</th>\n",
       "    </tr>\n",
       "  </thead>\n",
       "  <tbody>\n",
       "    <tr>\n",
       "      <th>0</th>\n",
       "      <td>F</td>\n",
       "      <td>74</td>\n",
       "      <td>2.0</td>\n",
       "      <td>3.0</td>\n",
       "      <td>29.0</td>\n",
       "      <td>1344</td>\n",
       "      <td>0.743</td>\n",
       "      <td>1.306</td>\n",
       "    </tr>\n",
       "    <tr>\n",
       "      <th>1</th>\n",
       "      <td>F</td>\n",
       "      <td>55</td>\n",
       "      <td>4.0</td>\n",
       "      <td>1.0</td>\n",
       "      <td>29.0</td>\n",
       "      <td>1147</td>\n",
       "      <td>0.810</td>\n",
       "      <td>1.531</td>\n",
       "    </tr>\n",
       "    <tr>\n",
       "      <th>2</th>\n",
       "      <td>F</td>\n",
       "      <td>73</td>\n",
       "      <td>4.0</td>\n",
       "      <td>3.0</td>\n",
       "      <td>27.0</td>\n",
       "      <td>1454</td>\n",
       "      <td>0.708</td>\n",
       "      <td>1.207</td>\n",
       "    </tr>\n",
       "    <tr>\n",
       "      <th>3</th>\n",
       "      <td>M</td>\n",
       "      <td>74</td>\n",
       "      <td>5.0</td>\n",
       "      <td>2.0</td>\n",
       "      <td>30.0</td>\n",
       "      <td>1636</td>\n",
       "      <td>0.689</td>\n",
       "      <td>1.073</td>\n",
       "    </tr>\n",
       "    <tr>\n",
       "      <th>4</th>\n",
       "      <td>F</td>\n",
       "      <td>52</td>\n",
       "      <td>3.0</td>\n",
       "      <td>2.0</td>\n",
       "      <td>30.0</td>\n",
       "      <td>1321</td>\n",
       "      <td>0.827</td>\n",
       "      <td>1.329</td>\n",
       "    </tr>\n",
       "    <tr>\n",
       "      <th>...</th>\n",
       "      <td>...</td>\n",
       "      <td>...</td>\n",
       "      <td>...</td>\n",
       "      <td>...</td>\n",
       "      <td>...</td>\n",
       "      <td>...</td>\n",
       "      <td>...</td>\n",
       "      <td>...</td>\n",
       "    </tr>\n",
       "    <tr>\n",
       "      <th>230</th>\n",
       "      <td>F</td>\n",
       "      <td>70</td>\n",
       "      <td>1.0</td>\n",
       "      <td>4.0</td>\n",
       "      <td>29.0</td>\n",
       "      <td>1295</td>\n",
       "      <td>0.748</td>\n",
       "      <td>1.355</td>\n",
       "    </tr>\n",
       "    <tr>\n",
       "      <th>231</th>\n",
       "      <td>F</td>\n",
       "      <td>73</td>\n",
       "      <td>3.0</td>\n",
       "      <td>2.0</td>\n",
       "      <td>23.0</td>\n",
       "      <td>1536</td>\n",
       "      <td>0.730</td>\n",
       "      <td>1.142</td>\n",
       "    </tr>\n",
       "    <tr>\n",
       "      <th>232</th>\n",
       "      <td>F</td>\n",
       "      <td>61</td>\n",
       "      <td>2.0</td>\n",
       "      <td>4.0</td>\n",
       "      <td>28.0</td>\n",
       "      <td>1354</td>\n",
       "      <td>0.825</td>\n",
       "      <td>1.297</td>\n",
       "    </tr>\n",
       "    <tr>\n",
       "      <th>233</th>\n",
       "      <td>M</td>\n",
       "      <td>61</td>\n",
       "      <td>5.0</td>\n",
       "      <td>2.0</td>\n",
       "      <td>30.0</td>\n",
       "      <td>1637</td>\n",
       "      <td>0.780</td>\n",
       "      <td>1.072</td>\n",
       "    </tr>\n",
       "    <tr>\n",
       "      <th>234</th>\n",
       "      <td>F</td>\n",
       "      <td>62</td>\n",
       "      <td>3.0</td>\n",
       "      <td>3.0</td>\n",
       "      <td>26.0</td>\n",
       "      <td>1372</td>\n",
       "      <td>0.766</td>\n",
       "      <td>1.279</td>\n",
       "    </tr>\n",
       "  </tbody>\n",
       "</table>\n",
       "<p>235 rows × 8 columns</p>\n",
       "</div>"
      ],
      "text/plain": [
       "    M/F  Age  Educ  SES  MMSE  eTIV   nWBV    ASF\n",
       "0     F   74   2.0  3.0  29.0  1344  0.743  1.306\n",
       "1     F   55   4.0  1.0  29.0  1147  0.810  1.531\n",
       "2     F   73   4.0  3.0  27.0  1454  0.708  1.207\n",
       "3     M   74   5.0  2.0  30.0  1636  0.689  1.073\n",
       "4     F   52   3.0  2.0  30.0  1321  0.827  1.329\n",
       "..   ..  ...   ...  ...   ...   ...    ...    ...\n",
       "230   F   70   1.0  4.0  29.0  1295  0.748  1.355\n",
       "231   F   73   3.0  2.0  23.0  1536  0.730  1.142\n",
       "232   F   61   2.0  4.0  28.0  1354  0.825  1.297\n",
       "233   M   61   5.0  2.0  30.0  1637  0.780  1.072\n",
       "234   F   62   3.0  3.0  26.0  1372  0.766  1.279\n",
       "\n",
       "[235 rows x 8 columns]"
      ]
     },
     "execution_count": 15,
     "metadata": {},
     "output_type": "execute_result"
    }
   ],
   "source": [
    "X"
   ]
  },
  {
   "cell_type": "code",
   "execution_count": 16,
   "id": "96c655f1",
   "metadata": {},
   "outputs": [],
   "source": [
    "# Holdout\n",
    "X_train, X_test, y_train, y_test = train_test_split(X, y, test_size=0.30, random_state = 42)"
   ]
  },
  {
   "cell_type": "code",
   "execution_count": 17,
   "id": "3fe0f81d",
   "metadata": {},
   "outputs": [
    {
     "data": {
      "text/html": [
       "<div>\n",
       "<style scoped>\n",
       "    .dataframe tbody tr th:only-of-type {\n",
       "        vertical-align: middle;\n",
       "    }\n",
       "\n",
       "    .dataframe tbody tr th {\n",
       "        vertical-align: top;\n",
       "    }\n",
       "\n",
       "    .dataframe thead th {\n",
       "        text-align: right;\n",
       "    }\n",
       "</style>\n",
       "<table border=\"1\" class=\"dataframe\">\n",
       "  <thead>\n",
       "    <tr style=\"text-align: right;\">\n",
       "      <th></th>\n",
       "      <th>M/F</th>\n",
       "      <th>Age</th>\n",
       "      <th>Educ</th>\n",
       "      <th>SES</th>\n",
       "      <th>MMSE</th>\n",
       "      <th>eTIV</th>\n",
       "      <th>nWBV</th>\n",
       "      <th>ASF</th>\n",
       "    </tr>\n",
       "  </thead>\n",
       "  <tbody>\n",
       "    <tr>\n",
       "      <th>126</th>\n",
       "      <td>M</td>\n",
       "      <td>70</td>\n",
       "      <td>5.0</td>\n",
       "      <td>1.0</td>\n",
       "      <td>30.0</td>\n",
       "      <td>1660</td>\n",
       "      <td>0.739</td>\n",
       "      <td>1.057</td>\n",
       "    </tr>\n",
       "    <tr>\n",
       "      <th>79</th>\n",
       "      <td>F</td>\n",
       "      <td>84</td>\n",
       "      <td>2.0</td>\n",
       "      <td>2.0</td>\n",
       "      <td>27.0</td>\n",
       "      <td>1390</td>\n",
       "      <td>0.727</td>\n",
       "      <td>1.263</td>\n",
       "    </tr>\n",
       "    <tr>\n",
       "      <th>5</th>\n",
       "      <td>F</td>\n",
       "      <td>81</td>\n",
       "      <td>5.0</td>\n",
       "      <td>2.0</td>\n",
       "      <td>30.0</td>\n",
       "      <td>1664</td>\n",
       "      <td>0.679</td>\n",
       "      <td>1.055</td>\n",
       "    </tr>\n",
       "    <tr>\n",
       "      <th>56</th>\n",
       "      <td>M</td>\n",
       "      <td>84</td>\n",
       "      <td>3.0</td>\n",
       "      <td>4.0</td>\n",
       "      <td>28.0</td>\n",
       "      <td>1483</td>\n",
       "      <td>0.697</td>\n",
       "      <td>1.183</td>\n",
       "    </tr>\n",
       "    <tr>\n",
       "      <th>120</th>\n",
       "      <td>F</td>\n",
       "      <td>74</td>\n",
       "      <td>5.0</td>\n",
       "      <td>2.0</td>\n",
       "      <td>30.0</td>\n",
       "      <td>1400</td>\n",
       "      <td>0.754</td>\n",
       "      <td>1.254</td>\n",
       "    </tr>\n",
       "    <tr>\n",
       "      <th>...</th>\n",
       "      <td>...</td>\n",
       "      <td>...</td>\n",
       "      <td>...</td>\n",
       "      <td>...</td>\n",
       "      <td>...</td>\n",
       "      <td>...</td>\n",
       "      <td>...</td>\n",
       "      <td>...</td>\n",
       "    </tr>\n",
       "    <tr>\n",
       "      <th>106</th>\n",
       "      <td>F</td>\n",
       "      <td>74</td>\n",
       "      <td>3.0</td>\n",
       "      <td>3.0</td>\n",
       "      <td>28.0</td>\n",
       "      <td>1614</td>\n",
       "      <td>0.697</td>\n",
       "      <td>1.087</td>\n",
       "    </tr>\n",
       "    <tr>\n",
       "      <th>14</th>\n",
       "      <td>F</td>\n",
       "      <td>58</td>\n",
       "      <td>5.0</td>\n",
       "      <td>1.0</td>\n",
       "      <td>30.0</td>\n",
       "      <td>1235</td>\n",
       "      <td>0.820</td>\n",
       "      <td>1.421</td>\n",
       "    </tr>\n",
       "    <tr>\n",
       "      <th>92</th>\n",
       "      <td>M</td>\n",
       "      <td>84</td>\n",
       "      <td>5.0</td>\n",
       "      <td>1.0</td>\n",
       "      <td>29.0</td>\n",
       "      <td>1707</td>\n",
       "      <td>0.731</td>\n",
       "      <td>1.028</td>\n",
       "    </tr>\n",
       "    <tr>\n",
       "      <th>179</th>\n",
       "      <td>M</td>\n",
       "      <td>86</td>\n",
       "      <td>1.0</td>\n",
       "      <td>4.0</td>\n",
       "      <td>15.0</td>\n",
       "      <td>1512</td>\n",
       "      <td>0.665</td>\n",
       "      <td>1.161</td>\n",
       "    </tr>\n",
       "    <tr>\n",
       "      <th>102</th>\n",
       "      <td>F</td>\n",
       "      <td>78</td>\n",
       "      <td>5.0</td>\n",
       "      <td>1.0</td>\n",
       "      <td>30.0</td>\n",
       "      <td>1243</td>\n",
       "      <td>0.747</td>\n",
       "      <td>1.412</td>\n",
       "    </tr>\n",
       "  </tbody>\n",
       "</table>\n",
       "<p>164 rows × 8 columns</p>\n",
       "</div>"
      ],
      "text/plain": [
       "    M/F  Age  Educ  SES  MMSE  eTIV   nWBV    ASF\n",
       "126   M   70   5.0  1.0  30.0  1660  0.739  1.057\n",
       "79    F   84   2.0  2.0  27.0  1390  0.727  1.263\n",
       "5     F   81   5.0  2.0  30.0  1664  0.679  1.055\n",
       "56    M   84   3.0  4.0  28.0  1483  0.697  1.183\n",
       "120   F   74   5.0  2.0  30.0  1400  0.754  1.254\n",
       "..   ..  ...   ...  ...   ...   ...    ...    ...\n",
       "106   F   74   3.0  3.0  28.0  1614  0.697  1.087\n",
       "14    F   58   5.0  1.0  30.0  1235  0.820  1.421\n",
       "92    M   84   5.0  1.0  29.0  1707  0.731  1.028\n",
       "179   M   86   1.0  4.0  15.0  1512  0.665  1.161\n",
       "102   F   78   5.0  1.0  30.0  1243  0.747  1.412\n",
       "\n",
       "[164 rows x 8 columns]"
      ]
     },
     "execution_count": 17,
     "metadata": {},
     "output_type": "execute_result"
    }
   ],
   "source": [
    "X_train"
   ]
  },
  {
   "cell_type": "code",
   "execution_count": 18,
   "id": "05bc84fc",
   "metadata": {},
   "outputs": [
    {
     "data": {
      "text/plain": [
       "M/F     0\n",
       "Age     0\n",
       "Educ    0\n",
       "SES     0\n",
       "MMSE    0\n",
       "CDR     0\n",
       "eTIV    0\n",
       "nWBV    0\n",
       "ASF     0\n",
       "dtype: int64"
      ]
     },
     "execution_count": 18,
     "metadata": {},
     "output_type": "execute_result"
    }
   ],
   "source": [
    "oasis1.isnull().sum()"
   ]
  },
  {
   "cell_type": "markdown",
   "id": "929025e4",
   "metadata": {},
   "source": [
    "## Preprocessing pipeline"
   ]
  },
  {
   "cell_type": "markdown",
   "id": "091f5cda",
   "metadata": {},
   "source": [
    "📜 Note: columns **nWBV and ASF** already normalized\n",
    " \n",
    " According to visualizations in file 'Demographic_visual.ipynb', we decided to scale as follows:\n",
    " \n",
    "**Columns to scale:**\n",
    "\n",
    "Standard Scale: age\n",
    "\n",
    "Robust Scale: eTIV, MMSE\n",
    "\n",
    "MinMax Scale: Educ"
   ]
  },
  {
   "cell_type": "code",
   "execution_count": 19,
   "id": "387af631",
   "metadata": {},
   "outputs": [],
   "source": [
    "standard_features = ['Age']\n",
    "robust_features = ['eTIV', 'MMSE']\n",
    "minmax_features = ['Educ', 'SES']\n",
    "nothing_to_scale = ['nWBV','ASF']\n",
    "binary_categorical_features = ['M/F']\n",
    "\n",
    "numerical_features = standard_features + robust_features + minmax_features + nothing_to_scale"
   ]
  },
  {
   "cell_type": "code",
   "execution_count": 20,
   "id": "647a35ac",
   "metadata": {},
   "outputs": [],
   "source": [
    "class CustomColumnTransformer(ColumnTransformer):\n",
    "    def transform(self, *args, **kwargs):\n",
    "        return pd.DataFrame(super().transform(*args, **kwargs), columns=self.get_feature_names_out())\n",
    "    def fit_transform(self, *args, **kwargs):\n",
    "        return pd.DataFrame(super().fit_transform(*args, **kwargs), columns=self.get_feature_names_out())"
   ]
  },
  {
   "cell_type": "code",
   "execution_count": 21,
   "id": "2ad36d87",
   "metadata": {},
   "outputs": [],
   "source": [
    "class ColumnNameExtractorAfterImputer(BaseEstimator, TransformerMixin):\n",
    "    def __init__(self, columns):\n",
    "        self.columns = columns\n",
    "        \n",
    "    def fit(self, *_):\n",
    "        return self\n",
    "\n",
    "    def transform(self, X, *_):\n",
    "        return pd.DataFrame(X, columns=self.columns)"
   ]
  },
  {
   "cell_type": "code",
   "execution_count": 22,
   "id": "8cb646c8",
   "metadata": {},
   "outputs": [
    {
     "data": {
      "text/html": [
       "<style>#sk-02f3cab3-e188-47b1-be95-c5d588e96a2f {color: black;background-color: white;}#sk-02f3cab3-e188-47b1-be95-c5d588e96a2f pre{padding: 0;}#sk-02f3cab3-e188-47b1-be95-c5d588e96a2f div.sk-toggleable {background-color: white;}#sk-02f3cab3-e188-47b1-be95-c5d588e96a2f label.sk-toggleable__label {cursor: pointer;display: block;width: 100%;margin-bottom: 0;padding: 0.3em;box-sizing: border-box;text-align: center;}#sk-02f3cab3-e188-47b1-be95-c5d588e96a2f label.sk-toggleable__label-arrow:before {content: \"▸\";float: left;margin-right: 0.25em;color: #696969;}#sk-02f3cab3-e188-47b1-be95-c5d588e96a2f label.sk-toggleable__label-arrow:hover:before {color: black;}#sk-02f3cab3-e188-47b1-be95-c5d588e96a2f div.sk-estimator:hover label.sk-toggleable__label-arrow:before {color: black;}#sk-02f3cab3-e188-47b1-be95-c5d588e96a2f div.sk-toggleable__content {max-height: 0;max-width: 0;overflow: hidden;text-align: left;background-color: #f0f8ff;}#sk-02f3cab3-e188-47b1-be95-c5d588e96a2f div.sk-toggleable__content pre {margin: 0.2em;color: black;border-radius: 0.25em;background-color: #f0f8ff;}#sk-02f3cab3-e188-47b1-be95-c5d588e96a2f input.sk-toggleable__control:checked~div.sk-toggleable__content {max-height: 200px;max-width: 100%;overflow: auto;}#sk-02f3cab3-e188-47b1-be95-c5d588e96a2f input.sk-toggleable__control:checked~label.sk-toggleable__label-arrow:before {content: \"▾\";}#sk-02f3cab3-e188-47b1-be95-c5d588e96a2f div.sk-estimator input.sk-toggleable__control:checked~label.sk-toggleable__label {background-color: #d4ebff;}#sk-02f3cab3-e188-47b1-be95-c5d588e96a2f div.sk-label input.sk-toggleable__control:checked~label.sk-toggleable__label {background-color: #d4ebff;}#sk-02f3cab3-e188-47b1-be95-c5d588e96a2f input.sk-hidden--visually {border: 0;clip: rect(1px 1px 1px 1px);clip: rect(1px, 1px, 1px, 1px);height: 1px;margin: -1px;overflow: hidden;padding: 0;position: absolute;width: 1px;}#sk-02f3cab3-e188-47b1-be95-c5d588e96a2f div.sk-estimator {font-family: monospace;background-color: #f0f8ff;border: 1px dotted black;border-radius: 0.25em;box-sizing: border-box;margin-bottom: 0.5em;}#sk-02f3cab3-e188-47b1-be95-c5d588e96a2f div.sk-estimator:hover {background-color: #d4ebff;}#sk-02f3cab3-e188-47b1-be95-c5d588e96a2f div.sk-parallel-item::after {content: \"\";width: 100%;border-bottom: 1px solid gray;flex-grow: 1;}#sk-02f3cab3-e188-47b1-be95-c5d588e96a2f div.sk-label:hover label.sk-toggleable__label {background-color: #d4ebff;}#sk-02f3cab3-e188-47b1-be95-c5d588e96a2f div.sk-serial::before {content: \"\";position: absolute;border-left: 1px solid gray;box-sizing: border-box;top: 2em;bottom: 0;left: 50%;}#sk-02f3cab3-e188-47b1-be95-c5d588e96a2f div.sk-serial {display: flex;flex-direction: column;align-items: center;background-color: white;padding-right: 0.2em;padding-left: 0.2em;}#sk-02f3cab3-e188-47b1-be95-c5d588e96a2f div.sk-item {z-index: 1;}#sk-02f3cab3-e188-47b1-be95-c5d588e96a2f div.sk-parallel {display: flex;align-items: stretch;justify-content: center;background-color: white;}#sk-02f3cab3-e188-47b1-be95-c5d588e96a2f div.sk-parallel::before {content: \"\";position: absolute;border-left: 1px solid gray;box-sizing: border-box;top: 2em;bottom: 0;left: 50%;}#sk-02f3cab3-e188-47b1-be95-c5d588e96a2f div.sk-parallel-item {display: flex;flex-direction: column;position: relative;background-color: white;}#sk-02f3cab3-e188-47b1-be95-c5d588e96a2f div.sk-parallel-item:first-child::after {align-self: flex-end;width: 50%;}#sk-02f3cab3-e188-47b1-be95-c5d588e96a2f div.sk-parallel-item:last-child::after {align-self: flex-start;width: 50%;}#sk-02f3cab3-e188-47b1-be95-c5d588e96a2f div.sk-parallel-item:only-child::after {width: 0;}#sk-02f3cab3-e188-47b1-be95-c5d588e96a2f div.sk-dashed-wrapped {border: 1px dashed gray;margin: 0 0.4em 0.5em 0.4em;box-sizing: border-box;padding-bottom: 0.4em;background-color: white;position: relative;}#sk-02f3cab3-e188-47b1-be95-c5d588e96a2f div.sk-label label {font-family: monospace;font-weight: bold;background-color: white;display: inline-block;line-height: 1.2em;}#sk-02f3cab3-e188-47b1-be95-c5d588e96a2f div.sk-label-container {position: relative;z-index: 2;text-align: center;}#sk-02f3cab3-e188-47b1-be95-c5d588e96a2f div.sk-container {/* jupyter's `normalize.less` sets `[hidden] { display: none; }` but bootstrap.min.css set `[hidden] { display: none !important; }` so we also need the `!important` here to be able to override the default hidden behavior on the sphinx rendered scikit-learn.org. See: https://github.com/scikit-learn/scikit-learn/issues/21755 */display: inline-block !important;position: relative;}#sk-02f3cab3-e188-47b1-be95-c5d588e96a2f div.sk-text-repr-fallback {display: none;}</style><div id=\"sk-02f3cab3-e188-47b1-be95-c5d588e96a2f\" class=\"sk-top-container\"><div class=\"sk-text-repr-fallback\"><pre>Pipeline(steps=[(&#x27;numerical_transformer&#x27;,\n",
       "                 CustomColumnTransformer(remainder=&#x27;passthrough&#x27;,\n",
       "                                         transformers=[(&#x27;standard_scaler&#x27;,\n",
       "                                                        StandardScaler(),\n",
       "                                                        [&#x27;Age&#x27;]),\n",
       "                                                       (&#x27;robust_scaler&#x27;,\n",
       "                                                        RobustScaler(),\n",
       "                                                        [&#x27;eTIV&#x27;, &#x27;MMSE&#x27;]),\n",
       "                                                       (&#x27;minmax_scaler&#x27;,\n",
       "                                                        MinMaxScaler(),\n",
       "                                                        [&#x27;Educ&#x27;, &#x27;SES&#x27;])]))])</pre><b>Please rerun this cell to show the HTML repr or trust the notebook.</b></div><div class=\"sk-container\" hidden><div class=\"sk-item sk-dashed-wrapped\"><div class=\"sk-label-container\"><div class=\"sk-label sk-toggleable\"><input class=\"sk-toggleable__control sk-hidden--visually\" id=\"83dc4e35-e8f0-44b5-8976-b5e7b42d5065\" type=\"checkbox\" ><label for=\"83dc4e35-e8f0-44b5-8976-b5e7b42d5065\" class=\"sk-toggleable__label sk-toggleable__label-arrow\">Pipeline</label><div class=\"sk-toggleable__content\"><pre>Pipeline(steps=[(&#x27;numerical_transformer&#x27;,\n",
       "                 CustomColumnTransformer(remainder=&#x27;passthrough&#x27;,\n",
       "                                         transformers=[(&#x27;standard_scaler&#x27;,\n",
       "                                                        StandardScaler(),\n",
       "                                                        [&#x27;Age&#x27;]),\n",
       "                                                       (&#x27;robust_scaler&#x27;,\n",
       "                                                        RobustScaler(),\n",
       "                                                        [&#x27;eTIV&#x27;, &#x27;MMSE&#x27;]),\n",
       "                                                       (&#x27;minmax_scaler&#x27;,\n",
       "                                                        MinMaxScaler(),\n",
       "                                                        [&#x27;Educ&#x27;, &#x27;SES&#x27;])]))])</pre></div></div></div><div class=\"sk-serial\"><div class=\"sk-item sk-dashed-wrapped\"><div class=\"sk-label-container\"><div class=\"sk-label sk-toggleable\"><input class=\"sk-toggleable__control sk-hidden--visually\" id=\"50056d0f-8cbf-4e75-8d29-2e7eadd34338\" type=\"checkbox\" ><label for=\"50056d0f-8cbf-4e75-8d29-2e7eadd34338\" class=\"sk-toggleable__label sk-toggleable__label-arrow\">numerical_transformer: CustomColumnTransformer</label><div class=\"sk-toggleable__content\"><pre>CustomColumnTransformer(remainder=&#x27;passthrough&#x27;,\n",
       "                        transformers=[(&#x27;standard_scaler&#x27;, StandardScaler(),\n",
       "                                       [&#x27;Age&#x27;]),\n",
       "                                      (&#x27;robust_scaler&#x27;, RobustScaler(),\n",
       "                                       [&#x27;eTIV&#x27;, &#x27;MMSE&#x27;]),\n",
       "                                      (&#x27;minmax_scaler&#x27;, MinMaxScaler(),\n",
       "                                       [&#x27;Educ&#x27;, &#x27;SES&#x27;])])</pre></div></div></div><div class=\"sk-parallel\"><div class=\"sk-parallel-item\"><div class=\"sk-item\"><div class=\"sk-label-container\"><div class=\"sk-label sk-toggleable\"><input class=\"sk-toggleable__control sk-hidden--visually\" id=\"fd767452-19bc-4639-bb70-772028ec3027\" type=\"checkbox\" ><label for=\"fd767452-19bc-4639-bb70-772028ec3027\" class=\"sk-toggleable__label sk-toggleable__label-arrow\">standard_scaler</label><div class=\"sk-toggleable__content\"><pre>[&#x27;Age&#x27;]</pre></div></div></div><div class=\"sk-serial\"><div class=\"sk-item\"><div class=\"sk-estimator sk-toggleable\"><input class=\"sk-toggleable__control sk-hidden--visually\" id=\"f8d5c7a3-374f-4478-8752-e9f3087bedd2\" type=\"checkbox\" ><label for=\"f8d5c7a3-374f-4478-8752-e9f3087bedd2\" class=\"sk-toggleable__label sk-toggleable__label-arrow\">StandardScaler</label><div class=\"sk-toggleable__content\"><pre>StandardScaler()</pre></div></div></div></div></div></div><div class=\"sk-parallel-item\"><div class=\"sk-item\"><div class=\"sk-label-container\"><div class=\"sk-label sk-toggleable\"><input class=\"sk-toggleable__control sk-hidden--visually\" id=\"4a0e6e36-266b-49a4-86fc-8c7ae654f07f\" type=\"checkbox\" ><label for=\"4a0e6e36-266b-49a4-86fc-8c7ae654f07f\" class=\"sk-toggleable__label sk-toggleable__label-arrow\">robust_scaler</label><div class=\"sk-toggleable__content\"><pre>[&#x27;eTIV&#x27;, &#x27;MMSE&#x27;]</pre></div></div></div><div class=\"sk-serial\"><div class=\"sk-item\"><div class=\"sk-estimator sk-toggleable\"><input class=\"sk-toggleable__control sk-hidden--visually\" id=\"8ae8a5d8-efaf-47ef-b4b0-03f7155ed41b\" type=\"checkbox\" ><label for=\"8ae8a5d8-efaf-47ef-b4b0-03f7155ed41b\" class=\"sk-toggleable__label sk-toggleable__label-arrow\">RobustScaler</label><div class=\"sk-toggleable__content\"><pre>RobustScaler()</pre></div></div></div></div></div></div><div class=\"sk-parallel-item\"><div class=\"sk-item\"><div class=\"sk-label-container\"><div class=\"sk-label sk-toggleable\"><input class=\"sk-toggleable__control sk-hidden--visually\" id=\"fadb7dd1-ab27-4d32-b2f2-54646650b32b\" type=\"checkbox\" ><label for=\"fadb7dd1-ab27-4d32-b2f2-54646650b32b\" class=\"sk-toggleable__label sk-toggleable__label-arrow\">minmax_scaler</label><div class=\"sk-toggleable__content\"><pre>[&#x27;Educ&#x27;, &#x27;SES&#x27;]</pre></div></div></div><div class=\"sk-serial\"><div class=\"sk-item\"><div class=\"sk-estimator sk-toggleable\"><input class=\"sk-toggleable__control sk-hidden--visually\" id=\"c567f910-c8d6-4116-9555-26fb63a2cf36\" type=\"checkbox\" ><label for=\"c567f910-c8d6-4116-9555-26fb63a2cf36\" class=\"sk-toggleable__label sk-toggleable__label-arrow\">MinMaxScaler</label><div class=\"sk-toggleable__content\"><pre>MinMaxScaler()</pre></div></div></div></div></div></div><div class=\"sk-parallel-item\"><div class=\"sk-item\"><div class=\"sk-label-container\"><div class=\"sk-label sk-toggleable\"><input class=\"sk-toggleable__control sk-hidden--visually\" id=\"adfe2412-ec07-4c49-9a02-79c303904831\" type=\"checkbox\" ><label for=\"adfe2412-ec07-4c49-9a02-79c303904831\" class=\"sk-toggleable__label sk-toggleable__label-arrow\">remainder</label><div class=\"sk-toggleable__content\"><pre></pre></div></div></div><div class=\"sk-serial\"><div class=\"sk-item\"><div class=\"sk-estimator sk-toggleable\"><input class=\"sk-toggleable__control sk-hidden--visually\" id=\"0e47c256-c120-41cc-b41d-e6e315c54da6\" type=\"checkbox\" ><label for=\"0e47c256-c120-41cc-b41d-e6e315c54da6\" class=\"sk-toggleable__label sk-toggleable__label-arrow\">passthrough</label><div class=\"sk-toggleable__content\"><pre>passthrough</pre></div></div></div></div></div></div></div></div></div></div></div></div>"
      ],
      "text/plain": [
       "Pipeline(steps=[('numerical_transformer',\n",
       "                 CustomColumnTransformer(remainder='passthrough',\n",
       "                                         transformers=[('standard_scaler',\n",
       "                                                        StandardScaler(),\n",
       "                                                        ['Age']),\n",
       "                                                       ('robust_scaler',\n",
       "                                                        RobustScaler(),\n",
       "                                                        ['eTIV', 'MMSE']),\n",
       "                                                       ('minmax_scaler',\n",
       "                                                        MinMaxScaler(),\n",
       "                                                        ['Educ', 'SES'])]))])"
      ]
     },
     "execution_count": 22,
     "metadata": {},
     "output_type": "execute_result"
    }
   ],
   "source": [
    "# Transformer for numerical features\n",
    "\n",
    "def numerical_pipeline():\n",
    "    \"\"\"This function transforms all numerical features according to their respective scalers\n",
    "    \"\"\"\n",
    "    \n",
    "    # Simple Imputer\n",
    "    # simple_imputer_frequent = SimpleImputer(strategy = \"most_frequent\")\n",
    "    \n",
    "    # Scalers\n",
    "    standard_features = ['Age']\n",
    "    robust_features = ['eTIV', 'MMSE']\n",
    "    minmax_features = ['Educ', 'SES']\n",
    "    nothing_to_scale = ['nWBV','ASF']\n",
    "    \n",
    "    features_in_this_order = standard_features + robust_features + minmax_features + nothing_to_scale\n",
    "    \n",
    "    numerical_transformer = CustomColumnTransformer([\n",
    "        ('standard_scaler', StandardScaler(), standard_features),\n",
    "        ('robust_scaler', RobustScaler(), robust_features),\n",
    "        ('minmax_scaler', MinMaxScaler(), minmax_features),\n",
    "         ], remainder = 'passthrough')\n",
    "    \n",
    "    \n",
    "    # Pipeline\n",
    "    numerical_pipeline = Pipeline([\n",
    "        #(\"simple_imputer_most_frequent\", simple_imputer_frequent),\n",
    "        #(\"keeping_column_names\", ColumnNameExtractorAfterImputer(features_in_this_order)),\n",
    "        (\"numerical_transformer\", numerical_transformer)\n",
    "    ])\n",
    "    \n",
    "    return numerical_pipeline\n",
    "\n",
    "numerical_pipeline = numerical_pipeline()\n",
    "numerical_pipeline"
   ]
  },
  {
   "cell_type": "code",
   "execution_count": 23,
   "id": "11d3920a",
   "metadata": {},
   "outputs": [
    {
     "data": {
      "text/html": [
       "<style>#sk-d733c856-5191-4ba3-91ce-d58af34b4650 {color: black;background-color: white;}#sk-d733c856-5191-4ba3-91ce-d58af34b4650 pre{padding: 0;}#sk-d733c856-5191-4ba3-91ce-d58af34b4650 div.sk-toggleable {background-color: white;}#sk-d733c856-5191-4ba3-91ce-d58af34b4650 label.sk-toggleable__label {cursor: pointer;display: block;width: 100%;margin-bottom: 0;padding: 0.3em;box-sizing: border-box;text-align: center;}#sk-d733c856-5191-4ba3-91ce-d58af34b4650 label.sk-toggleable__label-arrow:before {content: \"▸\";float: left;margin-right: 0.25em;color: #696969;}#sk-d733c856-5191-4ba3-91ce-d58af34b4650 label.sk-toggleable__label-arrow:hover:before {color: black;}#sk-d733c856-5191-4ba3-91ce-d58af34b4650 div.sk-estimator:hover label.sk-toggleable__label-arrow:before {color: black;}#sk-d733c856-5191-4ba3-91ce-d58af34b4650 div.sk-toggleable__content {max-height: 0;max-width: 0;overflow: hidden;text-align: left;background-color: #f0f8ff;}#sk-d733c856-5191-4ba3-91ce-d58af34b4650 div.sk-toggleable__content pre {margin: 0.2em;color: black;border-radius: 0.25em;background-color: #f0f8ff;}#sk-d733c856-5191-4ba3-91ce-d58af34b4650 input.sk-toggleable__control:checked~div.sk-toggleable__content {max-height: 200px;max-width: 100%;overflow: auto;}#sk-d733c856-5191-4ba3-91ce-d58af34b4650 input.sk-toggleable__control:checked~label.sk-toggleable__label-arrow:before {content: \"▾\";}#sk-d733c856-5191-4ba3-91ce-d58af34b4650 div.sk-estimator input.sk-toggleable__control:checked~label.sk-toggleable__label {background-color: #d4ebff;}#sk-d733c856-5191-4ba3-91ce-d58af34b4650 div.sk-label input.sk-toggleable__control:checked~label.sk-toggleable__label {background-color: #d4ebff;}#sk-d733c856-5191-4ba3-91ce-d58af34b4650 input.sk-hidden--visually {border: 0;clip: rect(1px 1px 1px 1px);clip: rect(1px, 1px, 1px, 1px);height: 1px;margin: -1px;overflow: hidden;padding: 0;position: absolute;width: 1px;}#sk-d733c856-5191-4ba3-91ce-d58af34b4650 div.sk-estimator {font-family: monospace;background-color: #f0f8ff;border: 1px dotted black;border-radius: 0.25em;box-sizing: border-box;margin-bottom: 0.5em;}#sk-d733c856-5191-4ba3-91ce-d58af34b4650 div.sk-estimator:hover {background-color: #d4ebff;}#sk-d733c856-5191-4ba3-91ce-d58af34b4650 div.sk-parallel-item::after {content: \"\";width: 100%;border-bottom: 1px solid gray;flex-grow: 1;}#sk-d733c856-5191-4ba3-91ce-d58af34b4650 div.sk-label:hover label.sk-toggleable__label {background-color: #d4ebff;}#sk-d733c856-5191-4ba3-91ce-d58af34b4650 div.sk-serial::before {content: \"\";position: absolute;border-left: 1px solid gray;box-sizing: border-box;top: 2em;bottom: 0;left: 50%;}#sk-d733c856-5191-4ba3-91ce-d58af34b4650 div.sk-serial {display: flex;flex-direction: column;align-items: center;background-color: white;padding-right: 0.2em;padding-left: 0.2em;}#sk-d733c856-5191-4ba3-91ce-d58af34b4650 div.sk-item {z-index: 1;}#sk-d733c856-5191-4ba3-91ce-d58af34b4650 div.sk-parallel {display: flex;align-items: stretch;justify-content: center;background-color: white;}#sk-d733c856-5191-4ba3-91ce-d58af34b4650 div.sk-parallel::before {content: \"\";position: absolute;border-left: 1px solid gray;box-sizing: border-box;top: 2em;bottom: 0;left: 50%;}#sk-d733c856-5191-4ba3-91ce-d58af34b4650 div.sk-parallel-item {display: flex;flex-direction: column;position: relative;background-color: white;}#sk-d733c856-5191-4ba3-91ce-d58af34b4650 div.sk-parallel-item:first-child::after {align-self: flex-end;width: 50%;}#sk-d733c856-5191-4ba3-91ce-d58af34b4650 div.sk-parallel-item:last-child::after {align-self: flex-start;width: 50%;}#sk-d733c856-5191-4ba3-91ce-d58af34b4650 div.sk-parallel-item:only-child::after {width: 0;}#sk-d733c856-5191-4ba3-91ce-d58af34b4650 div.sk-dashed-wrapped {border: 1px dashed gray;margin: 0 0.4em 0.5em 0.4em;box-sizing: border-box;padding-bottom: 0.4em;background-color: white;position: relative;}#sk-d733c856-5191-4ba3-91ce-d58af34b4650 div.sk-label label {font-family: monospace;font-weight: bold;background-color: white;display: inline-block;line-height: 1.2em;}#sk-d733c856-5191-4ba3-91ce-d58af34b4650 div.sk-label-container {position: relative;z-index: 2;text-align: center;}#sk-d733c856-5191-4ba3-91ce-d58af34b4650 div.sk-container {/* jupyter's `normalize.less` sets `[hidden] { display: none; }` but bootstrap.min.css set `[hidden] { display: none !important; }` so we also need the `!important` here to be able to override the default hidden behavior on the sphinx rendered scikit-learn.org. See: https://github.com/scikit-learn/scikit-learn/issues/21755 */display: inline-block !important;position: relative;}#sk-d733c856-5191-4ba3-91ce-d58af34b4650 div.sk-text-repr-fallback {display: none;}</style><div id=\"sk-d733c856-5191-4ba3-91ce-d58af34b4650\" class=\"sk-top-container\"><div class=\"sk-text-repr-fallback\"><pre>CustomColumnTransformer(transformers=[(&#x27;ohe_binary&#x27;,\n",
       "                                       OneHotEncoder(drop=&#x27;if_binary&#x27;,\n",
       "                                                     sparse=False),\n",
       "                                       [&#x27;M/F&#x27;])])</pre><b>Please rerun this cell to show the HTML repr or trust the notebook.</b></div><div class=\"sk-container\" hidden><div class=\"sk-item sk-dashed-wrapped\"><div class=\"sk-label-container\"><div class=\"sk-label sk-toggleable\"><input class=\"sk-toggleable__control sk-hidden--visually\" id=\"e9a26ebc-f842-4890-95df-ea5933086431\" type=\"checkbox\" ><label for=\"e9a26ebc-f842-4890-95df-ea5933086431\" class=\"sk-toggleable__label sk-toggleable__label-arrow\">CustomColumnTransformer</label><div class=\"sk-toggleable__content\"><pre>CustomColumnTransformer(transformers=[(&#x27;ohe_binary&#x27;,\n",
       "                                       OneHotEncoder(drop=&#x27;if_binary&#x27;,\n",
       "                                                     sparse=False),\n",
       "                                       [&#x27;M/F&#x27;])])</pre></div></div></div><div class=\"sk-parallel\"><div class=\"sk-parallel-item\"><div class=\"sk-item\"><div class=\"sk-label-container\"><div class=\"sk-label sk-toggleable\"><input class=\"sk-toggleable__control sk-hidden--visually\" id=\"a38238f2-3298-4fef-a00e-6b3f8360f7dd\" type=\"checkbox\" ><label for=\"a38238f2-3298-4fef-a00e-6b3f8360f7dd\" class=\"sk-toggleable__label sk-toggleable__label-arrow\">ohe_binary</label><div class=\"sk-toggleable__content\"><pre>[&#x27;M/F&#x27;]</pre></div></div></div><div class=\"sk-serial\"><div class=\"sk-item\"><div class=\"sk-estimator sk-toggleable\"><input class=\"sk-toggleable__control sk-hidden--visually\" id=\"a65c81dc-824c-47ac-bc6f-1faf0d477bd8\" type=\"checkbox\" ><label for=\"a65c81dc-824c-47ac-bc6f-1faf0d477bd8\" class=\"sk-toggleable__label sk-toggleable__label-arrow\">OneHotEncoder</label><div class=\"sk-toggleable__content\"><pre>OneHotEncoder(drop=&#x27;if_binary&#x27;, sparse=False)</pre></div></div></div></div></div></div></div></div></div></div>"
      ],
      "text/plain": [
       "CustomColumnTransformer(transformers=[('ohe_binary',\n",
       "                                       OneHotEncoder(drop='if_binary',\n",
       "                                                     sparse=False),\n",
       "                                       ['M/F'])])"
      ]
     },
     "execution_count": 23,
     "metadata": {},
     "output_type": "execute_result"
    }
   ],
   "source": [
    "# Transformer for categorical features\n",
    "\n",
    "def binary_categorical_transformer():\n",
    "    \"\"\"This function encodes all categorical features according to their respective encoder.\n",
    "    \"\"\"\n",
    "    categorical_transformer = CustomColumnTransformer([\n",
    "       (\"ohe_binary\", \n",
    "         OneHotEncoder(sparse = False,\n",
    "                       drop = \"if_binary\", \n",
    "                       handle_unknown = \"error\"), \n",
    "         binary_categorical_features)\n",
    "    ])\n",
    "    return categorical_transformer\n",
    "\n",
    "binary_category_transformer = binary_categorical_transformer()\n",
    "binary_category_transformer"
   ]
  },
  {
   "cell_type": "markdown",
   "id": "4b657f90",
   "metadata": {},
   "source": [
    "## Parellel Transformation: Numerical + Categorical"
   ]
  },
  {
   "cell_type": "code",
   "execution_count": 24,
   "id": "8b433ba4",
   "metadata": {},
   "outputs": [
    {
     "data": {
      "text/html": [
       "<style>#sk-0b35c2f6-d975-4a5c-bece-5cb99c0d2be5 {color: black;background-color: white;}#sk-0b35c2f6-d975-4a5c-bece-5cb99c0d2be5 pre{padding: 0;}#sk-0b35c2f6-d975-4a5c-bece-5cb99c0d2be5 div.sk-toggleable {background-color: white;}#sk-0b35c2f6-d975-4a5c-bece-5cb99c0d2be5 label.sk-toggleable__label {cursor: pointer;display: block;width: 100%;margin-bottom: 0;padding: 0.3em;box-sizing: border-box;text-align: center;}#sk-0b35c2f6-d975-4a5c-bece-5cb99c0d2be5 label.sk-toggleable__label-arrow:before {content: \"▸\";float: left;margin-right: 0.25em;color: #696969;}#sk-0b35c2f6-d975-4a5c-bece-5cb99c0d2be5 label.sk-toggleable__label-arrow:hover:before {color: black;}#sk-0b35c2f6-d975-4a5c-bece-5cb99c0d2be5 div.sk-estimator:hover label.sk-toggleable__label-arrow:before {color: black;}#sk-0b35c2f6-d975-4a5c-bece-5cb99c0d2be5 div.sk-toggleable__content {max-height: 0;max-width: 0;overflow: hidden;text-align: left;background-color: #f0f8ff;}#sk-0b35c2f6-d975-4a5c-bece-5cb99c0d2be5 div.sk-toggleable__content pre {margin: 0.2em;color: black;border-radius: 0.25em;background-color: #f0f8ff;}#sk-0b35c2f6-d975-4a5c-bece-5cb99c0d2be5 input.sk-toggleable__control:checked~div.sk-toggleable__content {max-height: 200px;max-width: 100%;overflow: auto;}#sk-0b35c2f6-d975-4a5c-bece-5cb99c0d2be5 input.sk-toggleable__control:checked~label.sk-toggleable__label-arrow:before {content: \"▾\";}#sk-0b35c2f6-d975-4a5c-bece-5cb99c0d2be5 div.sk-estimator input.sk-toggleable__control:checked~label.sk-toggleable__label {background-color: #d4ebff;}#sk-0b35c2f6-d975-4a5c-bece-5cb99c0d2be5 div.sk-label input.sk-toggleable__control:checked~label.sk-toggleable__label {background-color: #d4ebff;}#sk-0b35c2f6-d975-4a5c-bece-5cb99c0d2be5 input.sk-hidden--visually {border: 0;clip: rect(1px 1px 1px 1px);clip: rect(1px, 1px, 1px, 1px);height: 1px;margin: -1px;overflow: hidden;padding: 0;position: absolute;width: 1px;}#sk-0b35c2f6-d975-4a5c-bece-5cb99c0d2be5 div.sk-estimator {font-family: monospace;background-color: #f0f8ff;border: 1px dotted black;border-radius: 0.25em;box-sizing: border-box;margin-bottom: 0.5em;}#sk-0b35c2f6-d975-4a5c-bece-5cb99c0d2be5 div.sk-estimator:hover {background-color: #d4ebff;}#sk-0b35c2f6-d975-4a5c-bece-5cb99c0d2be5 div.sk-parallel-item::after {content: \"\";width: 100%;border-bottom: 1px solid gray;flex-grow: 1;}#sk-0b35c2f6-d975-4a5c-bece-5cb99c0d2be5 div.sk-label:hover label.sk-toggleable__label {background-color: #d4ebff;}#sk-0b35c2f6-d975-4a5c-bece-5cb99c0d2be5 div.sk-serial::before {content: \"\";position: absolute;border-left: 1px solid gray;box-sizing: border-box;top: 2em;bottom: 0;left: 50%;}#sk-0b35c2f6-d975-4a5c-bece-5cb99c0d2be5 div.sk-serial {display: flex;flex-direction: column;align-items: center;background-color: white;padding-right: 0.2em;padding-left: 0.2em;}#sk-0b35c2f6-d975-4a5c-bece-5cb99c0d2be5 div.sk-item {z-index: 1;}#sk-0b35c2f6-d975-4a5c-bece-5cb99c0d2be5 div.sk-parallel {display: flex;align-items: stretch;justify-content: center;background-color: white;}#sk-0b35c2f6-d975-4a5c-bece-5cb99c0d2be5 div.sk-parallel::before {content: \"\";position: absolute;border-left: 1px solid gray;box-sizing: border-box;top: 2em;bottom: 0;left: 50%;}#sk-0b35c2f6-d975-4a5c-bece-5cb99c0d2be5 div.sk-parallel-item {display: flex;flex-direction: column;position: relative;background-color: white;}#sk-0b35c2f6-d975-4a5c-bece-5cb99c0d2be5 div.sk-parallel-item:first-child::after {align-self: flex-end;width: 50%;}#sk-0b35c2f6-d975-4a5c-bece-5cb99c0d2be5 div.sk-parallel-item:last-child::after {align-self: flex-start;width: 50%;}#sk-0b35c2f6-d975-4a5c-bece-5cb99c0d2be5 div.sk-parallel-item:only-child::after {width: 0;}#sk-0b35c2f6-d975-4a5c-bece-5cb99c0d2be5 div.sk-dashed-wrapped {border: 1px dashed gray;margin: 0 0.4em 0.5em 0.4em;box-sizing: border-box;padding-bottom: 0.4em;background-color: white;position: relative;}#sk-0b35c2f6-d975-4a5c-bece-5cb99c0d2be5 div.sk-label label {font-family: monospace;font-weight: bold;background-color: white;display: inline-block;line-height: 1.2em;}#sk-0b35c2f6-d975-4a5c-bece-5cb99c0d2be5 div.sk-label-container {position: relative;z-index: 2;text-align: center;}#sk-0b35c2f6-d975-4a5c-bece-5cb99c0d2be5 div.sk-container {/* jupyter's `normalize.less` sets `[hidden] { display: none; }` but bootstrap.min.css set `[hidden] { display: none !important; }` so we also need the `!important` here to be able to override the default hidden behavior on the sphinx rendered scikit-learn.org. See: https://github.com/scikit-learn/scikit-learn/issues/21755 */display: inline-block !important;position: relative;}#sk-0b35c2f6-d975-4a5c-bece-5cb99c0d2be5 div.sk-text-repr-fallback {display: none;}</style><div id=\"sk-0b35c2f6-d975-4a5c-bece-5cb99c0d2be5\" class=\"sk-top-container\"><div class=\"sk-text-repr-fallback\"><pre>CustomColumnTransformer(transformers=[(&#x27;num_transformer&#x27;,\n",
       "                                       Pipeline(steps=[(&#x27;numerical_transformer&#x27;,\n",
       "                                                        CustomColumnTransformer(remainder=&#x27;passthrough&#x27;,\n",
       "                                                                                transformers=[(&#x27;standard_scaler&#x27;,\n",
       "                                                                                               StandardScaler(),\n",
       "                                                                                               [&#x27;Age&#x27;]),\n",
       "                                                                                              (&#x27;robust_scaler&#x27;,\n",
       "                                                                                               RobustScaler(),\n",
       "                                                                                               [&#x27;eTIV&#x27;,\n",
       "                                                                                                &#x27;MMSE&#x27;]),\n",
       "                                                                                              (&#x27;minmax_scaler&#x27;,\n",
       "                                                                                               MinMaxScaler(),\n",
       "                                                                                               [&#x27;Educ&#x27;,\n",
       "                                                                                                &#x27;SES&#x27;])]))]),\n",
       "                                       [&#x27;Age&#x27;, &#x27;eTIV&#x27;, &#x27;MMSE&#x27;, &#x27;Educ&#x27;, &#x27;SES&#x27;,\n",
       "                                        &#x27;nWBV&#x27;, &#x27;ASF&#x27;]),\n",
       "                                      (&#x27;cat_transformer&#x27;,\n",
       "                                       CustomColumnTransformer(transformers=[(&#x27;ohe_binary&#x27;,\n",
       "                                                                              OneHotEncoder(drop=&#x27;if_binary&#x27;,\n",
       "                                                                                            sparse=False),\n",
       "                                                                              [&#x27;M/F&#x27;])]),\n",
       "                                       [&#x27;M/F&#x27;])])</pre><b>Please rerun this cell to show the HTML repr or trust the notebook.</b></div><div class=\"sk-container\" hidden><div class=\"sk-item sk-dashed-wrapped\"><div class=\"sk-label-container\"><div class=\"sk-label sk-toggleable\"><input class=\"sk-toggleable__control sk-hidden--visually\" id=\"0db693aa-2f11-409a-ae57-f36764b383f0\" type=\"checkbox\" ><label for=\"0db693aa-2f11-409a-ae57-f36764b383f0\" class=\"sk-toggleable__label sk-toggleable__label-arrow\">CustomColumnTransformer</label><div class=\"sk-toggleable__content\"><pre>CustomColumnTransformer(transformers=[(&#x27;num_transformer&#x27;,\n",
       "                                       Pipeline(steps=[(&#x27;numerical_transformer&#x27;,\n",
       "                                                        CustomColumnTransformer(remainder=&#x27;passthrough&#x27;,\n",
       "                                                                                transformers=[(&#x27;standard_scaler&#x27;,\n",
       "                                                                                               StandardScaler(),\n",
       "                                                                                               [&#x27;Age&#x27;]),\n",
       "                                                                                              (&#x27;robust_scaler&#x27;,\n",
       "                                                                                               RobustScaler(),\n",
       "                                                                                               [&#x27;eTIV&#x27;,\n",
       "                                                                                                &#x27;MMSE&#x27;]),\n",
       "                                                                                              (&#x27;minmax_scaler&#x27;,\n",
       "                                                                                               MinMaxScaler(),\n",
       "                                                                                               [&#x27;Educ&#x27;,\n",
       "                                                                                                &#x27;SES&#x27;])]))]),\n",
       "                                       [&#x27;Age&#x27;, &#x27;eTIV&#x27;, &#x27;MMSE&#x27;, &#x27;Educ&#x27;, &#x27;SES&#x27;,\n",
       "                                        &#x27;nWBV&#x27;, &#x27;ASF&#x27;]),\n",
       "                                      (&#x27;cat_transformer&#x27;,\n",
       "                                       CustomColumnTransformer(transformers=[(&#x27;ohe_binary&#x27;,\n",
       "                                                                              OneHotEncoder(drop=&#x27;if_binary&#x27;,\n",
       "                                                                                            sparse=False),\n",
       "                                                                              [&#x27;M/F&#x27;])]),\n",
       "                                       [&#x27;M/F&#x27;])])</pre></div></div></div><div class=\"sk-parallel\"><div class=\"sk-parallel-item\"><div class=\"sk-item\"><div class=\"sk-label-container\"><div class=\"sk-label sk-toggleable\"><input class=\"sk-toggleable__control sk-hidden--visually\" id=\"448e9f23-8a71-4fc3-99ec-200d1e3d1115\" type=\"checkbox\" ><label for=\"448e9f23-8a71-4fc3-99ec-200d1e3d1115\" class=\"sk-toggleable__label sk-toggleable__label-arrow\">num_transformer</label><div class=\"sk-toggleable__content\"><pre>[&#x27;Age&#x27;, &#x27;eTIV&#x27;, &#x27;MMSE&#x27;, &#x27;Educ&#x27;, &#x27;SES&#x27;, &#x27;nWBV&#x27;, &#x27;ASF&#x27;]</pre></div></div></div><div class=\"sk-serial\"><div class=\"sk-item\"><div class=\"sk-serial\"><div class=\"sk-item sk-dashed-wrapped\"><div class=\"sk-label-container\"><div class=\"sk-label sk-toggleable\"><input class=\"sk-toggleable__control sk-hidden--visually\" id=\"76ae8cb2-f561-4aa3-be40-f997ae7e9697\" type=\"checkbox\" ><label for=\"76ae8cb2-f561-4aa3-be40-f997ae7e9697\" class=\"sk-toggleable__label sk-toggleable__label-arrow\">numerical_transformer: CustomColumnTransformer</label><div class=\"sk-toggleable__content\"><pre>CustomColumnTransformer(remainder=&#x27;passthrough&#x27;,\n",
       "                        transformers=[(&#x27;standard_scaler&#x27;, StandardScaler(),\n",
       "                                       [&#x27;Age&#x27;]),\n",
       "                                      (&#x27;robust_scaler&#x27;, RobustScaler(),\n",
       "                                       [&#x27;eTIV&#x27;, &#x27;MMSE&#x27;]),\n",
       "                                      (&#x27;minmax_scaler&#x27;, MinMaxScaler(),\n",
       "                                       [&#x27;Educ&#x27;, &#x27;SES&#x27;])])</pre></div></div></div><div class=\"sk-parallel\"><div class=\"sk-parallel-item\"><div class=\"sk-item\"><div class=\"sk-label-container\"><div class=\"sk-label sk-toggleable\"><input class=\"sk-toggleable__control sk-hidden--visually\" id=\"f94f6fd3-b2c9-4a18-b290-d3ca95a53e98\" type=\"checkbox\" ><label for=\"f94f6fd3-b2c9-4a18-b290-d3ca95a53e98\" class=\"sk-toggleable__label sk-toggleable__label-arrow\">standard_scaler</label><div class=\"sk-toggleable__content\"><pre>[&#x27;Age&#x27;]</pre></div></div></div><div class=\"sk-serial\"><div class=\"sk-item\"><div class=\"sk-estimator sk-toggleable\"><input class=\"sk-toggleable__control sk-hidden--visually\" id=\"d89543a9-72bf-4baf-a8be-3f41f121b4e5\" type=\"checkbox\" ><label for=\"d89543a9-72bf-4baf-a8be-3f41f121b4e5\" class=\"sk-toggleable__label sk-toggleable__label-arrow\">StandardScaler</label><div class=\"sk-toggleable__content\"><pre>StandardScaler()</pre></div></div></div></div></div></div><div class=\"sk-parallel-item\"><div class=\"sk-item\"><div class=\"sk-label-container\"><div class=\"sk-label sk-toggleable\"><input class=\"sk-toggleable__control sk-hidden--visually\" id=\"bb1d5b0e-8f58-4e20-b202-416ccfde8449\" type=\"checkbox\" ><label for=\"bb1d5b0e-8f58-4e20-b202-416ccfde8449\" class=\"sk-toggleable__label sk-toggleable__label-arrow\">robust_scaler</label><div class=\"sk-toggleable__content\"><pre>[&#x27;eTIV&#x27;, &#x27;MMSE&#x27;]</pre></div></div></div><div class=\"sk-serial\"><div class=\"sk-item\"><div class=\"sk-estimator sk-toggleable\"><input class=\"sk-toggleable__control sk-hidden--visually\" id=\"80fb16d4-1402-42fb-96e2-e334947786cd\" type=\"checkbox\" ><label for=\"80fb16d4-1402-42fb-96e2-e334947786cd\" class=\"sk-toggleable__label sk-toggleable__label-arrow\">RobustScaler</label><div class=\"sk-toggleable__content\"><pre>RobustScaler()</pre></div></div></div></div></div></div><div class=\"sk-parallel-item\"><div class=\"sk-item\"><div class=\"sk-label-container\"><div class=\"sk-label sk-toggleable\"><input class=\"sk-toggleable__control sk-hidden--visually\" id=\"f9024d99-8920-4ada-b71e-1d9296bc7188\" type=\"checkbox\" ><label for=\"f9024d99-8920-4ada-b71e-1d9296bc7188\" class=\"sk-toggleable__label sk-toggleable__label-arrow\">minmax_scaler</label><div class=\"sk-toggleable__content\"><pre>[&#x27;Educ&#x27;, &#x27;SES&#x27;]</pre></div></div></div><div class=\"sk-serial\"><div class=\"sk-item\"><div class=\"sk-estimator sk-toggleable\"><input class=\"sk-toggleable__control sk-hidden--visually\" id=\"ec0365af-dfd4-4b48-a919-3bfb7349f794\" type=\"checkbox\" ><label for=\"ec0365af-dfd4-4b48-a919-3bfb7349f794\" class=\"sk-toggleable__label sk-toggleable__label-arrow\">MinMaxScaler</label><div class=\"sk-toggleable__content\"><pre>MinMaxScaler()</pre></div></div></div></div></div></div><div class=\"sk-parallel-item\"><div class=\"sk-item\"><div class=\"sk-label-container\"><div class=\"sk-label sk-toggleable\"><input class=\"sk-toggleable__control sk-hidden--visually\" id=\"7168efd5-fcb0-4ce6-92ff-dcaf78ce901b\" type=\"checkbox\" ><label for=\"7168efd5-fcb0-4ce6-92ff-dcaf78ce901b\" class=\"sk-toggleable__label sk-toggleable__label-arrow\">remainder</label><div class=\"sk-toggleable__content\"><pre></pre></div></div></div><div class=\"sk-serial\"><div class=\"sk-item\"><div class=\"sk-estimator sk-toggleable\"><input class=\"sk-toggleable__control sk-hidden--visually\" id=\"64f8f0d0-992b-41d2-bdfe-4b37a1d69d37\" type=\"checkbox\" ><label for=\"64f8f0d0-992b-41d2-bdfe-4b37a1d69d37\" class=\"sk-toggleable__label sk-toggleable__label-arrow\">passthrough</label><div class=\"sk-toggleable__content\"><pre>passthrough</pre></div></div></div></div></div></div></div></div></div></div></div></div></div><div class=\"sk-parallel-item\"><div class=\"sk-item\"><div class=\"sk-label-container\"><div class=\"sk-label sk-toggleable\"><input class=\"sk-toggleable__control sk-hidden--visually\" id=\"95224acf-0583-44de-9fba-fd6ee06fbe75\" type=\"checkbox\" ><label for=\"95224acf-0583-44de-9fba-fd6ee06fbe75\" class=\"sk-toggleable__label sk-toggleable__label-arrow\">cat_transformer</label><div class=\"sk-toggleable__content\"><pre>[&#x27;M/F&#x27;]</pre></div></div></div><div class=\"sk-serial\"><div class=\"sk-item sk-dashed-wrapped\"><div class=\"sk-parallel\"><div class=\"sk-parallel-item\"><div class=\"sk-item\"><div class=\"sk-label-container\"><div class=\"sk-label sk-toggleable\"><input class=\"sk-toggleable__control sk-hidden--visually\" id=\"05f2f3b9-54be-453f-9a9d-876d867c4f3c\" type=\"checkbox\" ><label for=\"05f2f3b9-54be-453f-9a9d-876d867c4f3c\" class=\"sk-toggleable__label sk-toggleable__label-arrow\">ohe_binary</label><div class=\"sk-toggleable__content\"><pre>[&#x27;M/F&#x27;]</pre></div></div></div><div class=\"sk-serial\"><div class=\"sk-item\"><div class=\"sk-estimator sk-toggleable\"><input class=\"sk-toggleable__control sk-hidden--visually\" id=\"b27f3bf1-7a62-4784-ac7e-5df9e8301d18\" type=\"checkbox\" ><label for=\"b27f3bf1-7a62-4784-ac7e-5df9e8301d18\" class=\"sk-toggleable__label sk-toggleable__label-arrow\">OneHotEncoder</label><div class=\"sk-toggleable__content\"><pre>OneHotEncoder(drop=&#x27;if_binary&#x27;, sparse=False)</pre></div></div></div></div></div></div></div></div></div></div></div></div></div></div></div>"
      ],
      "text/plain": [
       "CustomColumnTransformer(transformers=[('num_transformer',\n",
       "                                       Pipeline(steps=[('numerical_transformer',\n",
       "                                                        CustomColumnTransformer(remainder='passthrough',\n",
       "                                                                                transformers=[('standard_scaler',\n",
       "                                                                                               StandardScaler(),\n",
       "                                                                                               ['Age']),\n",
       "                                                                                              ('robust_scaler',\n",
       "                                                                                               RobustScaler(),\n",
       "                                                                                               ['eTIV',\n",
       "                                                                                                'MMSE']),\n",
       "                                                                                              ('minmax_scaler',\n",
       "                                                                                               MinMaxScaler(),\n",
       "                                                                                               ['Educ',\n",
       "                                                                                                'SES'])]))]),\n",
       "                                       ['Age', 'eTIV', 'MMSE', 'Educ', 'SES',\n",
       "                                        'nWBV', 'ASF']),\n",
       "                                      ('cat_transformer',\n",
       "                                       CustomColumnTransformer(transformers=[('ohe_binary',\n",
       "                                                                              OneHotEncoder(drop='if_binary',\n",
       "                                                                                            sparse=False),\n",
       "                                                                              ['M/F'])]),\n",
       "                                       ['M/F'])])"
      ]
     },
     "execution_count": 24,
     "metadata": {},
     "output_type": "execute_result"
    }
   ],
   "source": [
    "preprocessor = CustomColumnTransformer([\n",
    "            (\"num_transformer\", numerical_pipeline, numerical_features ),\n",
    "            (\"cat_transformer\", binary_category_transformer, binary_categorical_features)\n",
    "            ])\n",
    "\n",
    "preprocessor"
   ]
  },
  {
   "cell_type": "code",
   "execution_count": 25,
   "id": "23c2668b",
   "metadata": {},
   "outputs": [
    {
     "data": {
      "text/html": [
       "<div>\n",
       "<style scoped>\n",
       "    .dataframe tbody tr th:only-of-type {\n",
       "        vertical-align: middle;\n",
       "    }\n",
       "\n",
       "    .dataframe tbody tr th {\n",
       "        vertical-align: top;\n",
       "    }\n",
       "\n",
       "    .dataframe thead th {\n",
       "        text-align: right;\n",
       "    }\n",
       "</style>\n",
       "<table border=\"1\" class=\"dataframe\">\n",
       "  <thead>\n",
       "    <tr style=\"text-align: right;\">\n",
       "      <th></th>\n",
       "      <th>num_transformer__standard_scaler__Age</th>\n",
       "      <th>num_transformer__robust_scaler__eTIV</th>\n",
       "      <th>num_transformer__robust_scaler__MMSE</th>\n",
       "      <th>num_transformer__minmax_scaler__Educ</th>\n",
       "      <th>num_transformer__minmax_scaler__SES</th>\n",
       "      <th>num_transformer__remainder__nWBV</th>\n",
       "      <th>num_transformer__remainder__ASF</th>\n",
       "      <th>cat_transformer__ohe_binary__M/F_M</th>\n",
       "    </tr>\n",
       "  </thead>\n",
       "  <tbody>\n",
       "    <tr>\n",
       "      <th>0</th>\n",
       "      <td>-0.224264</td>\n",
       "      <td>1.082592</td>\n",
       "      <td>0.25</td>\n",
       "      <td>1.00</td>\n",
       "      <td>0.00</td>\n",
       "      <td>0.739</td>\n",
       "      <td>1.057</td>\n",
       "      <td>1.0</td>\n",
       "    </tr>\n",
       "    <tr>\n",
       "      <th>1</th>\n",
       "      <td>0.959437</td>\n",
       "      <td>-0.289708</td>\n",
       "      <td>-0.50</td>\n",
       "      <td>0.25</td>\n",
       "      <td>0.25</td>\n",
       "      <td>0.727</td>\n",
       "      <td>1.263</td>\n",
       "      <td>0.0</td>\n",
       "    </tr>\n",
       "    <tr>\n",
       "      <th>2</th>\n",
       "      <td>0.705787</td>\n",
       "      <td>1.102922</td>\n",
       "      <td>0.25</td>\n",
       "      <td>1.00</td>\n",
       "      <td>0.25</td>\n",
       "      <td>0.679</td>\n",
       "      <td>1.055</td>\n",
       "      <td>0.0</td>\n",
       "    </tr>\n",
       "    <tr>\n",
       "      <th>3</th>\n",
       "      <td>0.959437</td>\n",
       "      <td>0.182973</td>\n",
       "      <td>-0.25</td>\n",
       "      <td>0.50</td>\n",
       "      <td>0.75</td>\n",
       "      <td>0.697</td>\n",
       "      <td>1.183</td>\n",
       "      <td>1.0</td>\n",
       "    </tr>\n",
       "    <tr>\n",
       "      <th>4</th>\n",
       "      <td>0.113936</td>\n",
       "      <td>-0.238882</td>\n",
       "      <td>0.25</td>\n",
       "      <td>1.00</td>\n",
       "      <td>0.25</td>\n",
       "      <td>0.754</td>\n",
       "      <td>1.254</td>\n",
       "      <td>0.0</td>\n",
       "    </tr>\n",
       "    <tr>\n",
       "      <th>...</th>\n",
       "      <td>...</td>\n",
       "      <td>...</td>\n",
       "      <td>...</td>\n",
       "      <td>...</td>\n",
       "      <td>...</td>\n",
       "      <td>...</td>\n",
       "      <td>...</td>\n",
       "      <td>...</td>\n",
       "    </tr>\n",
       "    <tr>\n",
       "      <th>159</th>\n",
       "      <td>0.113936</td>\n",
       "      <td>0.848793</td>\n",
       "      <td>-0.25</td>\n",
       "      <td>0.50</td>\n",
       "      <td>0.50</td>\n",
       "      <td>0.697</td>\n",
       "      <td>1.087</td>\n",
       "      <td>0.0</td>\n",
       "    </tr>\n",
       "    <tr>\n",
       "      <th>160</th>\n",
       "      <td>-1.238865</td>\n",
       "      <td>-1.077510</td>\n",
       "      <td>0.25</td>\n",
       "      <td>1.00</td>\n",
       "      <td>0.00</td>\n",
       "      <td>0.820</td>\n",
       "      <td>1.421</td>\n",
       "      <td>0.0</td>\n",
       "    </tr>\n",
       "    <tr>\n",
       "      <th>161</th>\n",
       "      <td>0.959437</td>\n",
       "      <td>1.321474</td>\n",
       "      <td>0.00</td>\n",
       "      <td>1.00</td>\n",
       "      <td>0.00</td>\n",
       "      <td>0.731</td>\n",
       "      <td>1.028</td>\n",
       "      <td>1.0</td>\n",
       "    </tr>\n",
       "    <tr>\n",
       "      <th>162</th>\n",
       "      <td>1.128537</td>\n",
       "      <td>0.330368</td>\n",
       "      <td>-3.50</td>\n",
       "      <td>0.00</td>\n",
       "      <td>0.75</td>\n",
       "      <td>0.665</td>\n",
       "      <td>1.161</td>\n",
       "      <td>1.0</td>\n",
       "    </tr>\n",
       "    <tr>\n",
       "      <th>163</th>\n",
       "      <td>0.452137</td>\n",
       "      <td>-1.036849</td>\n",
       "      <td>0.25</td>\n",
       "      <td>1.00</td>\n",
       "      <td>0.00</td>\n",
       "      <td>0.747</td>\n",
       "      <td>1.412</td>\n",
       "      <td>0.0</td>\n",
       "    </tr>\n",
       "  </tbody>\n",
       "</table>\n",
       "<p>164 rows × 8 columns</p>\n",
       "</div>"
      ],
      "text/plain": [
       "     num_transformer__standard_scaler__Age  \\\n",
       "0                                -0.224264   \n",
       "1                                 0.959437   \n",
       "2                                 0.705787   \n",
       "3                                 0.959437   \n",
       "4                                 0.113936   \n",
       "..                                     ...   \n",
       "159                               0.113936   \n",
       "160                              -1.238865   \n",
       "161                               0.959437   \n",
       "162                               1.128537   \n",
       "163                               0.452137   \n",
       "\n",
       "     num_transformer__robust_scaler__eTIV  \\\n",
       "0                                1.082592   \n",
       "1                               -0.289708   \n",
       "2                                1.102922   \n",
       "3                                0.182973   \n",
       "4                               -0.238882   \n",
       "..                                    ...   \n",
       "159                              0.848793   \n",
       "160                             -1.077510   \n",
       "161                              1.321474   \n",
       "162                              0.330368   \n",
       "163                             -1.036849   \n",
       "\n",
       "     num_transformer__robust_scaler__MMSE  \\\n",
       "0                                    0.25   \n",
       "1                                   -0.50   \n",
       "2                                    0.25   \n",
       "3                                   -0.25   \n",
       "4                                    0.25   \n",
       "..                                    ...   \n",
       "159                                 -0.25   \n",
       "160                                  0.25   \n",
       "161                                  0.00   \n",
       "162                                 -3.50   \n",
       "163                                  0.25   \n",
       "\n",
       "     num_transformer__minmax_scaler__Educ  \\\n",
       "0                                    1.00   \n",
       "1                                    0.25   \n",
       "2                                    1.00   \n",
       "3                                    0.50   \n",
       "4                                    1.00   \n",
       "..                                    ...   \n",
       "159                                  0.50   \n",
       "160                                  1.00   \n",
       "161                                  1.00   \n",
       "162                                  0.00   \n",
       "163                                  1.00   \n",
       "\n",
       "     num_transformer__minmax_scaler__SES  num_transformer__remainder__nWBV  \\\n",
       "0                                   0.00                             0.739   \n",
       "1                                   0.25                             0.727   \n",
       "2                                   0.25                             0.679   \n",
       "3                                   0.75                             0.697   \n",
       "4                                   0.25                             0.754   \n",
       "..                                   ...                               ...   \n",
       "159                                 0.50                             0.697   \n",
       "160                                 0.00                             0.820   \n",
       "161                                 0.00                             0.731   \n",
       "162                                 0.75                             0.665   \n",
       "163                                 0.00                             0.747   \n",
       "\n",
       "     num_transformer__remainder__ASF  cat_transformer__ohe_binary__M/F_M  \n",
       "0                              1.057                                 1.0  \n",
       "1                              1.263                                 0.0  \n",
       "2                              1.055                                 0.0  \n",
       "3                              1.183                                 1.0  \n",
       "4                              1.254                                 0.0  \n",
       "..                               ...                                 ...  \n",
       "159                            1.087                                 0.0  \n",
       "160                            1.421                                 0.0  \n",
       "161                            1.028                                 1.0  \n",
       "162                            1.161                                 1.0  \n",
       "163                            1.412                                 0.0  \n",
       "\n",
       "[164 rows x 8 columns]"
      ]
     },
     "execution_count": 25,
     "metadata": {},
     "output_type": "execute_result"
    }
   ],
   "source": [
    "X_train = preprocessor.fit_transform(X_train)\n",
    "X_train"
   ]
  },
  {
   "cell_type": "code",
   "execution_count": 26,
   "id": "92a71d50",
   "metadata": {},
   "outputs": [
    {
     "data": {
      "text/html": [
       "<div>\n",
       "<style scoped>\n",
       "    .dataframe tbody tr th:only-of-type {\n",
       "        vertical-align: middle;\n",
       "    }\n",
       "\n",
       "    .dataframe tbody tr th {\n",
       "        vertical-align: top;\n",
       "    }\n",
       "\n",
       "    .dataframe thead th {\n",
       "        text-align: right;\n",
       "    }\n",
       "</style>\n",
       "<table border=\"1\" class=\"dataframe\">\n",
       "  <thead>\n",
       "    <tr style=\"text-align: right;\">\n",
       "      <th></th>\n",
       "      <th>num_transformer__standard_scaler__Age</th>\n",
       "      <th>num_transformer__robust_scaler__eTIV</th>\n",
       "      <th>num_transformer__robust_scaler__MMSE</th>\n",
       "      <th>num_transformer__minmax_scaler__Educ</th>\n",
       "      <th>num_transformer__minmax_scaler__SES</th>\n",
       "      <th>num_transformer__remainder__nWBV</th>\n",
       "      <th>num_transformer__remainder__ASF</th>\n",
       "      <th>cat_transformer__ohe_binary__M/F_M</th>\n",
       "    </tr>\n",
       "  </thead>\n",
       "  <tbody>\n",
       "    <tr>\n",
       "      <th>0</th>\n",
       "      <td>-0.731564</td>\n",
       "      <td>0.579416</td>\n",
       "      <td>0.00</td>\n",
       "      <td>0.25</td>\n",
       "      <td>0.75</td>\n",
       "      <td>0.801</td>\n",
       "      <td>1.124</td>\n",
       "      <td>1.0</td>\n",
       "    </tr>\n",
       "    <tr>\n",
       "      <th>1</th>\n",
       "      <td>0.029386</td>\n",
       "      <td>0.091487</td>\n",
       "      <td>0.00</td>\n",
       "      <td>0.25</td>\n",
       "      <td>0.25</td>\n",
       "      <td>0.776</td>\n",
       "      <td>1.198</td>\n",
       "      <td>0.0</td>\n",
       "    </tr>\n",
       "    <tr>\n",
       "      <th>2</th>\n",
       "      <td>0.705787</td>\n",
       "      <td>-1.387548</td>\n",
       "      <td>-0.75</td>\n",
       "      <td>1.00</td>\n",
       "      <td>0.25</td>\n",
       "      <td>0.743</td>\n",
       "      <td>1.495</td>\n",
       "      <td>0.0</td>\n",
       "    </tr>\n",
       "    <tr>\n",
       "      <th>3</th>\n",
       "      <td>1.382187</td>\n",
       "      <td>0.452351</td>\n",
       "      <td>0.25</td>\n",
       "      <td>1.00</td>\n",
       "      <td>0.00</td>\n",
       "      <td>0.715</td>\n",
       "      <td>1.142</td>\n",
       "      <td>0.0</td>\n",
       "    </tr>\n",
       "    <tr>\n",
       "      <th>4</th>\n",
       "      <td>0.452137</td>\n",
       "      <td>-0.574333</td>\n",
       "      <td>0.00</td>\n",
       "      <td>0.50</td>\n",
       "      <td>0.25</td>\n",
       "      <td>0.773</td>\n",
       "      <td>1.316</td>\n",
       "      <td>0.0</td>\n",
       "    </tr>\n",
       "    <tr>\n",
       "      <th>...</th>\n",
       "      <td>...</td>\n",
       "      <td>...</td>\n",
       "      <td>...</td>\n",
       "      <td>...</td>\n",
       "      <td>...</td>\n",
       "      <td>...</td>\n",
       "      <td>...</td>\n",
       "      <td>...</td>\n",
       "    </tr>\n",
       "    <tr>\n",
       "      <th>66</th>\n",
       "      <td>0.705787</td>\n",
       "      <td>0.198221</td>\n",
       "      <td>-0.25</td>\n",
       "      <td>0.50</td>\n",
       "      <td>0.25</td>\n",
       "      <td>0.759</td>\n",
       "      <td>1.181</td>\n",
       "      <td>0.0</td>\n",
       "    </tr>\n",
       "    <tr>\n",
       "      <th>67</th>\n",
       "      <td>0.621237</td>\n",
       "      <td>0.238882</td>\n",
       "      <td>-2.25</td>\n",
       "      <td>0.25</td>\n",
       "      <td>0.75</td>\n",
       "      <td>0.665</td>\n",
       "      <td>1.175</td>\n",
       "      <td>1.0</td>\n",
       "    </tr>\n",
       "    <tr>\n",
       "      <th>68</th>\n",
       "      <td>0.790337</td>\n",
       "      <td>0.335451</td>\n",
       "      <td>-0.25</td>\n",
       "      <td>1.00</td>\n",
       "      <td>0.00</td>\n",
       "      <td>0.742</td>\n",
       "      <td>1.160</td>\n",
       "      <td>0.0</td>\n",
       "    </tr>\n",
       "    <tr>\n",
       "      <th>69</th>\n",
       "      <td>-0.055164</td>\n",
       "      <td>-0.625159</td>\n",
       "      <td>-3.50</td>\n",
       "      <td>0.50</td>\n",
       "      <td>0.50</td>\n",
       "      <td>0.668</td>\n",
       "      <td>1.325</td>\n",
       "      <td>0.0</td>\n",
       "    </tr>\n",
       "    <tr>\n",
       "      <th>70</th>\n",
       "      <td>-1.492515</td>\n",
       "      <td>-0.609911</td>\n",
       "      <td>0.25</td>\n",
       "      <td>0.50</td>\n",
       "      <td>0.50</td>\n",
       "      <td>0.832</td>\n",
       "      <td>1.323</td>\n",
       "      <td>0.0</td>\n",
       "    </tr>\n",
       "  </tbody>\n",
       "</table>\n",
       "<p>71 rows × 8 columns</p>\n",
       "</div>"
      ],
      "text/plain": [
       "    num_transformer__standard_scaler__Age  \\\n",
       "0                               -0.731564   \n",
       "1                                0.029386   \n",
       "2                                0.705787   \n",
       "3                                1.382187   \n",
       "4                                0.452137   \n",
       "..                                    ...   \n",
       "66                               0.705787   \n",
       "67                               0.621237   \n",
       "68                               0.790337   \n",
       "69                              -0.055164   \n",
       "70                              -1.492515   \n",
       "\n",
       "    num_transformer__robust_scaler__eTIV  \\\n",
       "0                               0.579416   \n",
       "1                               0.091487   \n",
       "2                              -1.387548   \n",
       "3                               0.452351   \n",
       "4                              -0.574333   \n",
       "..                                   ...   \n",
       "66                              0.198221   \n",
       "67                              0.238882   \n",
       "68                              0.335451   \n",
       "69                             -0.625159   \n",
       "70                             -0.609911   \n",
       "\n",
       "    num_transformer__robust_scaler__MMSE  \\\n",
       "0                                   0.00   \n",
       "1                                   0.00   \n",
       "2                                  -0.75   \n",
       "3                                   0.25   \n",
       "4                                   0.00   \n",
       "..                                   ...   \n",
       "66                                 -0.25   \n",
       "67                                 -2.25   \n",
       "68                                 -0.25   \n",
       "69                                 -3.50   \n",
       "70                                  0.25   \n",
       "\n",
       "    num_transformer__minmax_scaler__Educ  num_transformer__minmax_scaler__SES  \\\n",
       "0                                   0.25                                 0.75   \n",
       "1                                   0.25                                 0.25   \n",
       "2                                   1.00                                 0.25   \n",
       "3                                   1.00                                 0.00   \n",
       "4                                   0.50                                 0.25   \n",
       "..                                   ...                                  ...   \n",
       "66                                  0.50                                 0.25   \n",
       "67                                  0.25                                 0.75   \n",
       "68                                  1.00                                 0.00   \n",
       "69                                  0.50                                 0.50   \n",
       "70                                  0.50                                 0.50   \n",
       "\n",
       "    num_transformer__remainder__nWBV  num_transformer__remainder__ASF  \\\n",
       "0                              0.801                            1.124   \n",
       "1                              0.776                            1.198   \n",
       "2                              0.743                            1.495   \n",
       "3                              0.715                            1.142   \n",
       "4                              0.773                            1.316   \n",
       "..                               ...                              ...   \n",
       "66                             0.759                            1.181   \n",
       "67                             0.665                            1.175   \n",
       "68                             0.742                            1.160   \n",
       "69                             0.668                            1.325   \n",
       "70                             0.832                            1.323   \n",
       "\n",
       "    cat_transformer__ohe_binary__M/F_M  \n",
       "0                                  1.0  \n",
       "1                                  0.0  \n",
       "2                                  0.0  \n",
       "3                                  0.0  \n",
       "4                                  0.0  \n",
       "..                                 ...  \n",
       "66                                 0.0  \n",
       "67                                 1.0  \n",
       "68                                 0.0  \n",
       "69                                 0.0  \n",
       "70                                 0.0  \n",
       "\n",
       "[71 rows x 8 columns]"
      ]
     },
     "execution_count": 26,
     "metadata": {},
     "output_type": "execute_result"
    }
   ],
   "source": [
    "X_test = preprocessor.transform(X_test)\n",
    "X_test"
   ]
  },
  {
   "cell_type": "code",
   "execution_count": 27,
   "id": "be04f2db",
   "metadata": {},
   "outputs": [
    {
     "data": {
      "text/plain": [
       "71"
      ]
     },
     "execution_count": 27,
     "metadata": {},
     "output_type": "execute_result"
    }
   ],
   "source": [
    "# Length of y_test = 59\n",
    "np.unique(y_test, return_counts = True)\n",
    "\n",
    "# Length of X_test = 59\n",
    "len(X_test)"
   ]
  },
  {
   "cell_type": "code",
   "execution_count": 28,
   "id": "04b2e8e9",
   "metadata": {},
   "outputs": [
    {
     "data": {
      "text/html": [
       "<div>\n",
       "<style scoped>\n",
       "    .dataframe tbody tr th:only-of-type {\n",
       "        vertical-align: middle;\n",
       "    }\n",
       "\n",
       "    .dataframe tbody tr th {\n",
       "        vertical-align: top;\n",
       "    }\n",
       "\n",
       "    .dataframe thead th {\n",
       "        text-align: right;\n",
       "    }\n",
       "</style>\n",
       "<table border=\"1\" class=\"dataframe\">\n",
       "  <thead>\n",
       "    <tr style=\"text-align: right;\">\n",
       "      <th></th>\n",
       "      <th>num_transformer__standard_scaler__Age</th>\n",
       "      <th>num_transformer__robust_scaler__eTIV</th>\n",
       "      <th>num_transformer__robust_scaler__MMSE</th>\n",
       "      <th>num_transformer__minmax_scaler__Educ</th>\n",
       "      <th>num_transformer__minmax_scaler__SES</th>\n",
       "      <th>num_transformer__remainder__nWBV</th>\n",
       "      <th>num_transformer__remainder__ASF</th>\n",
       "      <th>cat_transformer__ohe_binary__M/F_M</th>\n",
       "    </tr>\n",
       "  </thead>\n",
       "  <tbody>\n",
       "    <tr>\n",
       "      <th>0</th>\n",
       "      <td>-0.224264</td>\n",
       "      <td>1.082592</td>\n",
       "      <td>0.25</td>\n",
       "      <td>1.00</td>\n",
       "      <td>0.00</td>\n",
       "      <td>0.739</td>\n",
       "      <td>1.057</td>\n",
       "      <td>1.0</td>\n",
       "    </tr>\n",
       "    <tr>\n",
       "      <th>1</th>\n",
       "      <td>0.959437</td>\n",
       "      <td>-0.289708</td>\n",
       "      <td>-0.50</td>\n",
       "      <td>0.25</td>\n",
       "      <td>0.25</td>\n",
       "      <td>0.727</td>\n",
       "      <td>1.263</td>\n",
       "      <td>0.0</td>\n",
       "    </tr>\n",
       "    <tr>\n",
       "      <th>2</th>\n",
       "      <td>0.705787</td>\n",
       "      <td>1.102922</td>\n",
       "      <td>0.25</td>\n",
       "      <td>1.00</td>\n",
       "      <td>0.25</td>\n",
       "      <td>0.679</td>\n",
       "      <td>1.055</td>\n",
       "      <td>0.0</td>\n",
       "    </tr>\n",
       "    <tr>\n",
       "      <th>3</th>\n",
       "      <td>0.959437</td>\n",
       "      <td>0.182973</td>\n",
       "      <td>-0.25</td>\n",
       "      <td>0.50</td>\n",
       "      <td>0.75</td>\n",
       "      <td>0.697</td>\n",
       "      <td>1.183</td>\n",
       "      <td>1.0</td>\n",
       "    </tr>\n",
       "    <tr>\n",
       "      <th>4</th>\n",
       "      <td>0.113936</td>\n",
       "      <td>-0.238882</td>\n",
       "      <td>0.25</td>\n",
       "      <td>1.00</td>\n",
       "      <td>0.25</td>\n",
       "      <td>0.754</td>\n",
       "      <td>1.254</td>\n",
       "      <td>0.0</td>\n",
       "    </tr>\n",
       "    <tr>\n",
       "      <th>...</th>\n",
       "      <td>...</td>\n",
       "      <td>...</td>\n",
       "      <td>...</td>\n",
       "      <td>...</td>\n",
       "      <td>...</td>\n",
       "      <td>...</td>\n",
       "      <td>...</td>\n",
       "      <td>...</td>\n",
       "    </tr>\n",
       "    <tr>\n",
       "      <th>159</th>\n",
       "      <td>0.113936</td>\n",
       "      <td>0.848793</td>\n",
       "      <td>-0.25</td>\n",
       "      <td>0.50</td>\n",
       "      <td>0.50</td>\n",
       "      <td>0.697</td>\n",
       "      <td>1.087</td>\n",
       "      <td>0.0</td>\n",
       "    </tr>\n",
       "    <tr>\n",
       "      <th>160</th>\n",
       "      <td>-1.238865</td>\n",
       "      <td>-1.077510</td>\n",
       "      <td>0.25</td>\n",
       "      <td>1.00</td>\n",
       "      <td>0.00</td>\n",
       "      <td>0.820</td>\n",
       "      <td>1.421</td>\n",
       "      <td>0.0</td>\n",
       "    </tr>\n",
       "    <tr>\n",
       "      <th>161</th>\n",
       "      <td>0.959437</td>\n",
       "      <td>1.321474</td>\n",
       "      <td>0.00</td>\n",
       "      <td>1.00</td>\n",
       "      <td>0.00</td>\n",
       "      <td>0.731</td>\n",
       "      <td>1.028</td>\n",
       "      <td>1.0</td>\n",
       "    </tr>\n",
       "    <tr>\n",
       "      <th>162</th>\n",
       "      <td>1.128537</td>\n",
       "      <td>0.330368</td>\n",
       "      <td>-3.50</td>\n",
       "      <td>0.00</td>\n",
       "      <td>0.75</td>\n",
       "      <td>0.665</td>\n",
       "      <td>1.161</td>\n",
       "      <td>1.0</td>\n",
       "    </tr>\n",
       "    <tr>\n",
       "      <th>163</th>\n",
       "      <td>0.452137</td>\n",
       "      <td>-1.036849</td>\n",
       "      <td>0.25</td>\n",
       "      <td>1.00</td>\n",
       "      <td>0.00</td>\n",
       "      <td>0.747</td>\n",
       "      <td>1.412</td>\n",
       "      <td>0.0</td>\n",
       "    </tr>\n",
       "  </tbody>\n",
       "</table>\n",
       "<p>164 rows × 8 columns</p>\n",
       "</div>"
      ],
      "text/plain": [
       "     num_transformer__standard_scaler__Age  \\\n",
       "0                                -0.224264   \n",
       "1                                 0.959437   \n",
       "2                                 0.705787   \n",
       "3                                 0.959437   \n",
       "4                                 0.113936   \n",
       "..                                     ...   \n",
       "159                               0.113936   \n",
       "160                              -1.238865   \n",
       "161                               0.959437   \n",
       "162                               1.128537   \n",
       "163                               0.452137   \n",
       "\n",
       "     num_transformer__robust_scaler__eTIV  \\\n",
       "0                                1.082592   \n",
       "1                               -0.289708   \n",
       "2                                1.102922   \n",
       "3                                0.182973   \n",
       "4                               -0.238882   \n",
       "..                                    ...   \n",
       "159                              0.848793   \n",
       "160                             -1.077510   \n",
       "161                              1.321474   \n",
       "162                              0.330368   \n",
       "163                             -1.036849   \n",
       "\n",
       "     num_transformer__robust_scaler__MMSE  \\\n",
       "0                                    0.25   \n",
       "1                                   -0.50   \n",
       "2                                    0.25   \n",
       "3                                   -0.25   \n",
       "4                                    0.25   \n",
       "..                                    ...   \n",
       "159                                 -0.25   \n",
       "160                                  0.25   \n",
       "161                                  0.00   \n",
       "162                                 -3.50   \n",
       "163                                  0.25   \n",
       "\n",
       "     num_transformer__minmax_scaler__Educ  \\\n",
       "0                                    1.00   \n",
       "1                                    0.25   \n",
       "2                                    1.00   \n",
       "3                                    0.50   \n",
       "4                                    1.00   \n",
       "..                                    ...   \n",
       "159                                  0.50   \n",
       "160                                  1.00   \n",
       "161                                  1.00   \n",
       "162                                  0.00   \n",
       "163                                  1.00   \n",
       "\n",
       "     num_transformer__minmax_scaler__SES  num_transformer__remainder__nWBV  \\\n",
       "0                                   0.00                             0.739   \n",
       "1                                   0.25                             0.727   \n",
       "2                                   0.25                             0.679   \n",
       "3                                   0.75                             0.697   \n",
       "4                                   0.25                             0.754   \n",
       "..                                   ...                               ...   \n",
       "159                                 0.50                             0.697   \n",
       "160                                 0.00                             0.820   \n",
       "161                                 0.00                             0.731   \n",
       "162                                 0.75                             0.665   \n",
       "163                                 0.00                             0.747   \n",
       "\n",
       "     num_transformer__remainder__ASF  cat_transformer__ohe_binary__M/F_M  \n",
       "0                              1.057                                 1.0  \n",
       "1                              1.263                                 0.0  \n",
       "2                              1.055                                 0.0  \n",
       "3                              1.183                                 1.0  \n",
       "4                              1.254                                 0.0  \n",
       "..                               ...                                 ...  \n",
       "159                            1.087                                 0.0  \n",
       "160                            1.421                                 0.0  \n",
       "161                            1.028                                 1.0  \n",
       "162                            1.161                                 1.0  \n",
       "163                            1.412                                 0.0  \n",
       "\n",
       "[164 rows x 8 columns]"
      ]
     },
     "execution_count": 28,
     "metadata": {},
     "output_type": "execute_result"
    }
   ],
   "source": [
    "# Making a copy of X_scaled\n",
    "X_train_trial = X_train.copy()\n",
    "X_train_trial"
   ]
  },
  {
   "cell_type": "markdown",
   "id": "5a423d24",
   "metadata": {},
   "source": [
    "# 🎰SVC"
   ]
  },
  {
   "cell_type": "markdown",
   "id": "e48f7336",
   "metadata": {},
   "source": [
    "## SVC Linear"
   ]
  },
  {
   "cell_type": "markdown",
   "id": "9293f4db",
   "metadata": {},
   "source": [
    "### Just a trial"
   ]
  },
  {
   "cell_type": "code",
   "execution_count": 29,
   "id": "2f08767d",
   "metadata": {},
   "outputs": [],
   "source": [
    "# Instantiating linear support vector classifier\n",
    "model_svc = SVC(kernel = 'linear')"
   ]
  },
  {
   "cell_type": "code",
   "execution_count": 30,
   "id": "39acc01c",
   "metadata": {},
   "outputs": [
    {
     "data": {
      "text/html": [
       "<style>#sk-eb53f314-1bc9-40e9-899b-716390850180 {color: black;background-color: white;}#sk-eb53f314-1bc9-40e9-899b-716390850180 pre{padding: 0;}#sk-eb53f314-1bc9-40e9-899b-716390850180 div.sk-toggleable {background-color: white;}#sk-eb53f314-1bc9-40e9-899b-716390850180 label.sk-toggleable__label {cursor: pointer;display: block;width: 100%;margin-bottom: 0;padding: 0.3em;box-sizing: border-box;text-align: center;}#sk-eb53f314-1bc9-40e9-899b-716390850180 label.sk-toggleable__label-arrow:before {content: \"▸\";float: left;margin-right: 0.25em;color: #696969;}#sk-eb53f314-1bc9-40e9-899b-716390850180 label.sk-toggleable__label-arrow:hover:before {color: black;}#sk-eb53f314-1bc9-40e9-899b-716390850180 div.sk-estimator:hover label.sk-toggleable__label-arrow:before {color: black;}#sk-eb53f314-1bc9-40e9-899b-716390850180 div.sk-toggleable__content {max-height: 0;max-width: 0;overflow: hidden;text-align: left;background-color: #f0f8ff;}#sk-eb53f314-1bc9-40e9-899b-716390850180 div.sk-toggleable__content pre {margin: 0.2em;color: black;border-radius: 0.25em;background-color: #f0f8ff;}#sk-eb53f314-1bc9-40e9-899b-716390850180 input.sk-toggleable__control:checked~div.sk-toggleable__content {max-height: 200px;max-width: 100%;overflow: auto;}#sk-eb53f314-1bc9-40e9-899b-716390850180 input.sk-toggleable__control:checked~label.sk-toggleable__label-arrow:before {content: \"▾\";}#sk-eb53f314-1bc9-40e9-899b-716390850180 div.sk-estimator input.sk-toggleable__control:checked~label.sk-toggleable__label {background-color: #d4ebff;}#sk-eb53f314-1bc9-40e9-899b-716390850180 div.sk-label input.sk-toggleable__control:checked~label.sk-toggleable__label {background-color: #d4ebff;}#sk-eb53f314-1bc9-40e9-899b-716390850180 input.sk-hidden--visually {border: 0;clip: rect(1px 1px 1px 1px);clip: rect(1px, 1px, 1px, 1px);height: 1px;margin: -1px;overflow: hidden;padding: 0;position: absolute;width: 1px;}#sk-eb53f314-1bc9-40e9-899b-716390850180 div.sk-estimator {font-family: monospace;background-color: #f0f8ff;border: 1px dotted black;border-radius: 0.25em;box-sizing: border-box;margin-bottom: 0.5em;}#sk-eb53f314-1bc9-40e9-899b-716390850180 div.sk-estimator:hover {background-color: #d4ebff;}#sk-eb53f314-1bc9-40e9-899b-716390850180 div.sk-parallel-item::after {content: \"\";width: 100%;border-bottom: 1px solid gray;flex-grow: 1;}#sk-eb53f314-1bc9-40e9-899b-716390850180 div.sk-label:hover label.sk-toggleable__label {background-color: #d4ebff;}#sk-eb53f314-1bc9-40e9-899b-716390850180 div.sk-serial::before {content: \"\";position: absolute;border-left: 1px solid gray;box-sizing: border-box;top: 2em;bottom: 0;left: 50%;}#sk-eb53f314-1bc9-40e9-899b-716390850180 div.sk-serial {display: flex;flex-direction: column;align-items: center;background-color: white;padding-right: 0.2em;padding-left: 0.2em;}#sk-eb53f314-1bc9-40e9-899b-716390850180 div.sk-item {z-index: 1;}#sk-eb53f314-1bc9-40e9-899b-716390850180 div.sk-parallel {display: flex;align-items: stretch;justify-content: center;background-color: white;}#sk-eb53f314-1bc9-40e9-899b-716390850180 div.sk-parallel::before {content: \"\";position: absolute;border-left: 1px solid gray;box-sizing: border-box;top: 2em;bottom: 0;left: 50%;}#sk-eb53f314-1bc9-40e9-899b-716390850180 div.sk-parallel-item {display: flex;flex-direction: column;position: relative;background-color: white;}#sk-eb53f314-1bc9-40e9-899b-716390850180 div.sk-parallel-item:first-child::after {align-self: flex-end;width: 50%;}#sk-eb53f314-1bc9-40e9-899b-716390850180 div.sk-parallel-item:last-child::after {align-self: flex-start;width: 50%;}#sk-eb53f314-1bc9-40e9-899b-716390850180 div.sk-parallel-item:only-child::after {width: 0;}#sk-eb53f314-1bc9-40e9-899b-716390850180 div.sk-dashed-wrapped {border: 1px dashed gray;margin: 0 0.4em 0.5em 0.4em;box-sizing: border-box;padding-bottom: 0.4em;background-color: white;position: relative;}#sk-eb53f314-1bc9-40e9-899b-716390850180 div.sk-label label {font-family: monospace;font-weight: bold;background-color: white;display: inline-block;line-height: 1.2em;}#sk-eb53f314-1bc9-40e9-899b-716390850180 div.sk-label-container {position: relative;z-index: 2;text-align: center;}#sk-eb53f314-1bc9-40e9-899b-716390850180 div.sk-container {/* jupyter's `normalize.less` sets `[hidden] { display: none; }` but bootstrap.min.css set `[hidden] { display: none !important; }` so we also need the `!important` here to be able to override the default hidden behavior on the sphinx rendered scikit-learn.org. See: https://github.com/scikit-learn/scikit-learn/issues/21755 */display: inline-block !important;position: relative;}#sk-eb53f314-1bc9-40e9-899b-716390850180 div.sk-text-repr-fallback {display: none;}</style><div id=\"sk-eb53f314-1bc9-40e9-899b-716390850180\" class=\"sk-top-container\"><div class=\"sk-text-repr-fallback\"><pre>SVC(kernel=&#x27;linear&#x27;)</pre><b>Please rerun this cell to show the HTML repr or trust the notebook.</b></div><div class=\"sk-container\" hidden><div class=\"sk-item\"><div class=\"sk-estimator sk-toggleable\"><input class=\"sk-toggleable__control sk-hidden--visually\" id=\"9aeeb477-db5a-4b93-8465-5cc504d781ed\" type=\"checkbox\" checked><label for=\"9aeeb477-db5a-4b93-8465-5cc504d781ed\" class=\"sk-toggleable__label sk-toggleable__label-arrow\">SVC</label><div class=\"sk-toggleable__content\"><pre>SVC(kernel=&#x27;linear&#x27;)</pre></div></div></div></div></div>"
      ],
      "text/plain": [
       "SVC(kernel='linear')"
      ]
     },
     "execution_count": 30,
     "metadata": {},
     "output_type": "execute_result"
    }
   ],
   "source": [
    "# Fitting LinearSVC\n",
    "model_svc.fit(X_train, y_train)"
   ]
  },
  {
   "cell_type": "code",
   "execution_count": 31,
   "id": "1142e921",
   "metadata": {},
   "outputs": [],
   "source": [
    "# Prediction on X_test\n",
    "y_pred_SVC = model_svc.predict(X_test)"
   ]
  },
  {
   "cell_type": "code",
   "execution_count": 32,
   "id": "c9e72293",
   "metadata": {},
   "outputs": [
    {
     "data": {
      "text/plain": [
       "array([[39,  3],\n",
       "       [ 9, 20]])"
      ]
     },
     "execution_count": 32,
     "metadata": {},
     "output_type": "execute_result"
    }
   ],
   "source": [
    "cm_svc = confusion_matrix(y_test, y_pred_SVC)\n",
    "cm_svc"
   ]
  },
  {
   "cell_type": "code",
   "execution_count": 33,
   "id": "b2a556f5",
   "metadata": {},
   "outputs": [
    {
     "data": {
      "text/plain": [
       "0.6896551724137931"
      ]
     },
     "execution_count": 33,
     "metadata": {},
     "output_type": "execute_result"
    }
   ],
   "source": [
    "baseline_recall_svc = recall_score(y_test, y_pred_SVC)\n",
    "baseline_recall_svc"
   ]
  },
  {
   "cell_type": "markdown",
   "id": "ff3d68a6",
   "metadata": {},
   "source": [
    "###   🤖  Grid Searching"
   ]
  },
  {
   "cell_type": "code",
   "execution_count": 34,
   "id": "44c8dfc0",
   "metadata": {},
   "outputs": [
    {
     "data": {
      "text/html": [
       "<style>#sk-89cfcb72-3a72-4bf4-9771-61705c21f99b {color: black;background-color: white;}#sk-89cfcb72-3a72-4bf4-9771-61705c21f99b pre{padding: 0;}#sk-89cfcb72-3a72-4bf4-9771-61705c21f99b div.sk-toggleable {background-color: white;}#sk-89cfcb72-3a72-4bf4-9771-61705c21f99b label.sk-toggleable__label {cursor: pointer;display: block;width: 100%;margin-bottom: 0;padding: 0.3em;box-sizing: border-box;text-align: center;}#sk-89cfcb72-3a72-4bf4-9771-61705c21f99b label.sk-toggleable__label-arrow:before {content: \"▸\";float: left;margin-right: 0.25em;color: #696969;}#sk-89cfcb72-3a72-4bf4-9771-61705c21f99b label.sk-toggleable__label-arrow:hover:before {color: black;}#sk-89cfcb72-3a72-4bf4-9771-61705c21f99b div.sk-estimator:hover label.sk-toggleable__label-arrow:before {color: black;}#sk-89cfcb72-3a72-4bf4-9771-61705c21f99b div.sk-toggleable__content {max-height: 0;max-width: 0;overflow: hidden;text-align: left;background-color: #f0f8ff;}#sk-89cfcb72-3a72-4bf4-9771-61705c21f99b div.sk-toggleable__content pre {margin: 0.2em;color: black;border-radius: 0.25em;background-color: #f0f8ff;}#sk-89cfcb72-3a72-4bf4-9771-61705c21f99b input.sk-toggleable__control:checked~div.sk-toggleable__content {max-height: 200px;max-width: 100%;overflow: auto;}#sk-89cfcb72-3a72-4bf4-9771-61705c21f99b input.sk-toggleable__control:checked~label.sk-toggleable__label-arrow:before {content: \"▾\";}#sk-89cfcb72-3a72-4bf4-9771-61705c21f99b div.sk-estimator input.sk-toggleable__control:checked~label.sk-toggleable__label {background-color: #d4ebff;}#sk-89cfcb72-3a72-4bf4-9771-61705c21f99b div.sk-label input.sk-toggleable__control:checked~label.sk-toggleable__label {background-color: #d4ebff;}#sk-89cfcb72-3a72-4bf4-9771-61705c21f99b input.sk-hidden--visually {border: 0;clip: rect(1px 1px 1px 1px);clip: rect(1px, 1px, 1px, 1px);height: 1px;margin: -1px;overflow: hidden;padding: 0;position: absolute;width: 1px;}#sk-89cfcb72-3a72-4bf4-9771-61705c21f99b div.sk-estimator {font-family: monospace;background-color: #f0f8ff;border: 1px dotted black;border-radius: 0.25em;box-sizing: border-box;margin-bottom: 0.5em;}#sk-89cfcb72-3a72-4bf4-9771-61705c21f99b div.sk-estimator:hover {background-color: #d4ebff;}#sk-89cfcb72-3a72-4bf4-9771-61705c21f99b div.sk-parallel-item::after {content: \"\";width: 100%;border-bottom: 1px solid gray;flex-grow: 1;}#sk-89cfcb72-3a72-4bf4-9771-61705c21f99b div.sk-label:hover label.sk-toggleable__label {background-color: #d4ebff;}#sk-89cfcb72-3a72-4bf4-9771-61705c21f99b div.sk-serial::before {content: \"\";position: absolute;border-left: 1px solid gray;box-sizing: border-box;top: 2em;bottom: 0;left: 50%;}#sk-89cfcb72-3a72-4bf4-9771-61705c21f99b div.sk-serial {display: flex;flex-direction: column;align-items: center;background-color: white;padding-right: 0.2em;padding-left: 0.2em;}#sk-89cfcb72-3a72-4bf4-9771-61705c21f99b div.sk-item {z-index: 1;}#sk-89cfcb72-3a72-4bf4-9771-61705c21f99b div.sk-parallel {display: flex;align-items: stretch;justify-content: center;background-color: white;}#sk-89cfcb72-3a72-4bf4-9771-61705c21f99b div.sk-parallel::before {content: \"\";position: absolute;border-left: 1px solid gray;box-sizing: border-box;top: 2em;bottom: 0;left: 50%;}#sk-89cfcb72-3a72-4bf4-9771-61705c21f99b div.sk-parallel-item {display: flex;flex-direction: column;position: relative;background-color: white;}#sk-89cfcb72-3a72-4bf4-9771-61705c21f99b div.sk-parallel-item:first-child::after {align-self: flex-end;width: 50%;}#sk-89cfcb72-3a72-4bf4-9771-61705c21f99b div.sk-parallel-item:last-child::after {align-self: flex-start;width: 50%;}#sk-89cfcb72-3a72-4bf4-9771-61705c21f99b div.sk-parallel-item:only-child::after {width: 0;}#sk-89cfcb72-3a72-4bf4-9771-61705c21f99b div.sk-dashed-wrapped {border: 1px dashed gray;margin: 0 0.4em 0.5em 0.4em;box-sizing: border-box;padding-bottom: 0.4em;background-color: white;position: relative;}#sk-89cfcb72-3a72-4bf4-9771-61705c21f99b div.sk-label label {font-family: monospace;font-weight: bold;background-color: white;display: inline-block;line-height: 1.2em;}#sk-89cfcb72-3a72-4bf4-9771-61705c21f99b div.sk-label-container {position: relative;z-index: 2;text-align: center;}#sk-89cfcb72-3a72-4bf4-9771-61705c21f99b div.sk-container {/* jupyter's `normalize.less` sets `[hidden] { display: none; }` but bootstrap.min.css set `[hidden] { display: none !important; }` so we also need the `!important` here to be able to override the default hidden behavior on the sphinx rendered scikit-learn.org. See: https://github.com/scikit-learn/scikit-learn/issues/21755 */display: inline-block !important;position: relative;}#sk-89cfcb72-3a72-4bf4-9771-61705c21f99b div.sk-text-repr-fallback {display: none;}</style><div id=\"sk-89cfcb72-3a72-4bf4-9771-61705c21f99b\" class=\"sk-top-container\"><div class=\"sk-text-repr-fallback\"><pre>GridSearchCV(cv=5, estimator=SVC(kernel=&#x27;linear&#x27;), n_jobs=-1,\n",
       "             param_grid={&#x27;C&#x27;: array([700, 701, 702, 703, 704, 705, 706, 707, 708, 709, 710, 711, 712,\n",
       "       713, 714, 715, 716, 717, 718, 719, 720, 721, 722, 723, 724, 725,\n",
       "       726, 727, 728, 729, 730, 731, 732, 733, 734, 735, 736, 737, 738,\n",
       "       739, 740, 741, 742, 743, 744, 745, 746, 747, 748, 749]),\n",
       "                         &#x27;gamma&#x27;: [1, 0.1, 0.001, 0.0001]},\n",
       "             scoring=&#x27;recall&#x27;)</pre><b>Please rerun this cell to show the HTML repr or trust the notebook.</b></div><div class=\"sk-container\" hidden><div class=\"sk-item sk-dashed-wrapped\"><div class=\"sk-label-container\"><div class=\"sk-label sk-toggleable\"><input class=\"sk-toggleable__control sk-hidden--visually\" id=\"e6168277-bfba-485a-bcab-14dfa2a8c553\" type=\"checkbox\" ><label for=\"e6168277-bfba-485a-bcab-14dfa2a8c553\" class=\"sk-toggleable__label sk-toggleable__label-arrow\">GridSearchCV</label><div class=\"sk-toggleable__content\"><pre>GridSearchCV(cv=5, estimator=SVC(kernel=&#x27;linear&#x27;), n_jobs=-1,\n",
       "             param_grid={&#x27;C&#x27;: array([700, 701, 702, 703, 704, 705, 706, 707, 708, 709, 710, 711, 712,\n",
       "       713, 714, 715, 716, 717, 718, 719, 720, 721, 722, 723, 724, 725,\n",
       "       726, 727, 728, 729, 730, 731, 732, 733, 734, 735, 736, 737, 738,\n",
       "       739, 740, 741, 742, 743, 744, 745, 746, 747, 748, 749]),\n",
       "                         &#x27;gamma&#x27;: [1, 0.1, 0.001, 0.0001]},\n",
       "             scoring=&#x27;recall&#x27;)</pre></div></div></div><div class=\"sk-parallel\"><div class=\"sk-parallel-item\"><div class=\"sk-item\"><div class=\"sk-serial\"><div class=\"sk-item\"><div class=\"sk-estimator sk-toggleable\"><input class=\"sk-toggleable__control sk-hidden--visually\" id=\"aa22366a-432e-4d90-a1d1-c127e5521d28\" type=\"checkbox\" ><label for=\"aa22366a-432e-4d90-a1d1-c127e5521d28\" class=\"sk-toggleable__label sk-toggleable__label-arrow\">SVC</label><div class=\"sk-toggleable__content\"><pre>SVC(kernel=&#x27;linear&#x27;)</pre></div></div></div></div></div></div></div></div></div></div>"
      ],
      "text/plain": [
       "GridSearchCV(cv=5, estimator=SVC(kernel='linear'), n_jobs=-1,\n",
       "             param_grid={'C': array([700, 701, 702, 703, 704, 705, 706, 707, 708, 709, 710, 711, 712,\n",
       "       713, 714, 715, 716, 717, 718, 719, 720, 721, 722, 723, 724, 725,\n",
       "       726, 727, 728, 729, 730, 731, 732, 733, 734, 735, 736, 737, 738,\n",
       "       739, 740, 741, 742, 743, 744, 745, 746, 747, 748, 749]),\n",
       "                         'gamma': [1, 0.1, 0.001, 0.0001]},\n",
       "             scoring='recall')"
      ]
     },
     "execution_count": 34,
     "metadata": {},
     "output_type": "execute_result"
    }
   ],
   "source": [
    "# Creating a parameter grid: map the parameter names to the values that should be searched in a dictionary\n",
    "param_grid = {'C':np.arange(700,750,1),\n",
    "              'gamma':[1,0.1,0.001,0.0001]}\n",
    "\n",
    "# GridSearching\n",
    "gridsearch_svc = GridSearchCV(model_svc, \n",
    "                          param_grid, n_jobs = -1, \n",
    "                          scoring = 'recall', cv = 5)\n",
    "\n",
    "# Fitting gridsearch on X and y\n",
    "gridsearch_svc.fit(X_train, y_train)"
   ]
  },
  {
   "cell_type": "code",
   "execution_count": 35,
   "id": "d0ff2695",
   "metadata": {},
   "outputs": [
    {
     "data": {
      "text/html": [
       "<style>#sk-052f351f-2d05-481e-af9f-0ad24546ed33 {color: black;background-color: white;}#sk-052f351f-2d05-481e-af9f-0ad24546ed33 pre{padding: 0;}#sk-052f351f-2d05-481e-af9f-0ad24546ed33 div.sk-toggleable {background-color: white;}#sk-052f351f-2d05-481e-af9f-0ad24546ed33 label.sk-toggleable__label {cursor: pointer;display: block;width: 100%;margin-bottom: 0;padding: 0.3em;box-sizing: border-box;text-align: center;}#sk-052f351f-2d05-481e-af9f-0ad24546ed33 label.sk-toggleable__label-arrow:before {content: \"▸\";float: left;margin-right: 0.25em;color: #696969;}#sk-052f351f-2d05-481e-af9f-0ad24546ed33 label.sk-toggleable__label-arrow:hover:before {color: black;}#sk-052f351f-2d05-481e-af9f-0ad24546ed33 div.sk-estimator:hover label.sk-toggleable__label-arrow:before {color: black;}#sk-052f351f-2d05-481e-af9f-0ad24546ed33 div.sk-toggleable__content {max-height: 0;max-width: 0;overflow: hidden;text-align: left;background-color: #f0f8ff;}#sk-052f351f-2d05-481e-af9f-0ad24546ed33 div.sk-toggleable__content pre {margin: 0.2em;color: black;border-radius: 0.25em;background-color: #f0f8ff;}#sk-052f351f-2d05-481e-af9f-0ad24546ed33 input.sk-toggleable__control:checked~div.sk-toggleable__content {max-height: 200px;max-width: 100%;overflow: auto;}#sk-052f351f-2d05-481e-af9f-0ad24546ed33 input.sk-toggleable__control:checked~label.sk-toggleable__label-arrow:before {content: \"▾\";}#sk-052f351f-2d05-481e-af9f-0ad24546ed33 div.sk-estimator input.sk-toggleable__control:checked~label.sk-toggleable__label {background-color: #d4ebff;}#sk-052f351f-2d05-481e-af9f-0ad24546ed33 div.sk-label input.sk-toggleable__control:checked~label.sk-toggleable__label {background-color: #d4ebff;}#sk-052f351f-2d05-481e-af9f-0ad24546ed33 input.sk-hidden--visually {border: 0;clip: rect(1px 1px 1px 1px);clip: rect(1px, 1px, 1px, 1px);height: 1px;margin: -1px;overflow: hidden;padding: 0;position: absolute;width: 1px;}#sk-052f351f-2d05-481e-af9f-0ad24546ed33 div.sk-estimator {font-family: monospace;background-color: #f0f8ff;border: 1px dotted black;border-radius: 0.25em;box-sizing: border-box;margin-bottom: 0.5em;}#sk-052f351f-2d05-481e-af9f-0ad24546ed33 div.sk-estimator:hover {background-color: #d4ebff;}#sk-052f351f-2d05-481e-af9f-0ad24546ed33 div.sk-parallel-item::after {content: \"\";width: 100%;border-bottom: 1px solid gray;flex-grow: 1;}#sk-052f351f-2d05-481e-af9f-0ad24546ed33 div.sk-label:hover label.sk-toggleable__label {background-color: #d4ebff;}#sk-052f351f-2d05-481e-af9f-0ad24546ed33 div.sk-serial::before {content: \"\";position: absolute;border-left: 1px solid gray;box-sizing: border-box;top: 2em;bottom: 0;left: 50%;}#sk-052f351f-2d05-481e-af9f-0ad24546ed33 div.sk-serial {display: flex;flex-direction: column;align-items: center;background-color: white;padding-right: 0.2em;padding-left: 0.2em;}#sk-052f351f-2d05-481e-af9f-0ad24546ed33 div.sk-item {z-index: 1;}#sk-052f351f-2d05-481e-af9f-0ad24546ed33 div.sk-parallel {display: flex;align-items: stretch;justify-content: center;background-color: white;}#sk-052f351f-2d05-481e-af9f-0ad24546ed33 div.sk-parallel::before {content: \"\";position: absolute;border-left: 1px solid gray;box-sizing: border-box;top: 2em;bottom: 0;left: 50%;}#sk-052f351f-2d05-481e-af9f-0ad24546ed33 div.sk-parallel-item {display: flex;flex-direction: column;position: relative;background-color: white;}#sk-052f351f-2d05-481e-af9f-0ad24546ed33 div.sk-parallel-item:first-child::after {align-self: flex-end;width: 50%;}#sk-052f351f-2d05-481e-af9f-0ad24546ed33 div.sk-parallel-item:last-child::after {align-self: flex-start;width: 50%;}#sk-052f351f-2d05-481e-af9f-0ad24546ed33 div.sk-parallel-item:only-child::after {width: 0;}#sk-052f351f-2d05-481e-af9f-0ad24546ed33 div.sk-dashed-wrapped {border: 1px dashed gray;margin: 0 0.4em 0.5em 0.4em;box-sizing: border-box;padding-bottom: 0.4em;background-color: white;position: relative;}#sk-052f351f-2d05-481e-af9f-0ad24546ed33 div.sk-label label {font-family: monospace;font-weight: bold;background-color: white;display: inline-block;line-height: 1.2em;}#sk-052f351f-2d05-481e-af9f-0ad24546ed33 div.sk-label-container {position: relative;z-index: 2;text-align: center;}#sk-052f351f-2d05-481e-af9f-0ad24546ed33 div.sk-container {/* jupyter's `normalize.less` sets `[hidden] { display: none; }` but bootstrap.min.css set `[hidden] { display: none !important; }` so we also need the `!important` here to be able to override the default hidden behavior on the sphinx rendered scikit-learn.org. See: https://github.com/scikit-learn/scikit-learn/issues/21755 */display: inline-block !important;position: relative;}#sk-052f351f-2d05-481e-af9f-0ad24546ed33 div.sk-text-repr-fallback {display: none;}</style><div id=\"sk-052f351f-2d05-481e-af9f-0ad24546ed33\" class=\"sk-top-container\"><div class=\"sk-text-repr-fallback\"><pre>SVC(C=700, gamma=1, kernel=&#x27;linear&#x27;)</pre><b>Please rerun this cell to show the HTML repr or trust the notebook.</b></div><div class=\"sk-container\" hidden><div class=\"sk-item\"><div class=\"sk-estimator sk-toggleable\"><input class=\"sk-toggleable__control sk-hidden--visually\" id=\"cc058c24-7abf-440a-80ec-890aab326149\" type=\"checkbox\" checked><label for=\"cc058c24-7abf-440a-80ec-890aab326149\" class=\"sk-toggleable__label sk-toggleable__label-arrow\">SVC</label><div class=\"sk-toggleable__content\"><pre>SVC(C=700, gamma=1, kernel=&#x27;linear&#x27;)</pre></div></div></div></div></div>"
      ],
      "text/plain": [
       "SVC(C=700, gamma=1, kernel='linear')"
      ]
     },
     "execution_count": 35,
     "metadata": {},
     "output_type": "execute_result"
    }
   ],
   "source": [
    "# Best estimator obtained from grid searching\n",
    "best_linear_svc = gridsearch_svc.best_estimator_\n",
    "best_linear_svc"
   ]
  },
  {
   "cell_type": "markdown",
   "id": "99e01787",
   "metadata": {},
   "source": [
    "### Best SVC linear"
   ]
  },
  {
   "cell_type": "code",
   "execution_count": 36,
   "id": "592b6ddf",
   "metadata": {},
   "outputs": [
    {
     "data": {
      "text/html": [
       "<style>#sk-21dd1dc0-936a-4175-b970-41dcf1b146d5 {color: black;background-color: white;}#sk-21dd1dc0-936a-4175-b970-41dcf1b146d5 pre{padding: 0;}#sk-21dd1dc0-936a-4175-b970-41dcf1b146d5 div.sk-toggleable {background-color: white;}#sk-21dd1dc0-936a-4175-b970-41dcf1b146d5 label.sk-toggleable__label {cursor: pointer;display: block;width: 100%;margin-bottom: 0;padding: 0.3em;box-sizing: border-box;text-align: center;}#sk-21dd1dc0-936a-4175-b970-41dcf1b146d5 label.sk-toggleable__label-arrow:before {content: \"▸\";float: left;margin-right: 0.25em;color: #696969;}#sk-21dd1dc0-936a-4175-b970-41dcf1b146d5 label.sk-toggleable__label-arrow:hover:before {color: black;}#sk-21dd1dc0-936a-4175-b970-41dcf1b146d5 div.sk-estimator:hover label.sk-toggleable__label-arrow:before {color: black;}#sk-21dd1dc0-936a-4175-b970-41dcf1b146d5 div.sk-toggleable__content {max-height: 0;max-width: 0;overflow: hidden;text-align: left;background-color: #f0f8ff;}#sk-21dd1dc0-936a-4175-b970-41dcf1b146d5 div.sk-toggleable__content pre {margin: 0.2em;color: black;border-radius: 0.25em;background-color: #f0f8ff;}#sk-21dd1dc0-936a-4175-b970-41dcf1b146d5 input.sk-toggleable__control:checked~div.sk-toggleable__content {max-height: 200px;max-width: 100%;overflow: auto;}#sk-21dd1dc0-936a-4175-b970-41dcf1b146d5 input.sk-toggleable__control:checked~label.sk-toggleable__label-arrow:before {content: \"▾\";}#sk-21dd1dc0-936a-4175-b970-41dcf1b146d5 div.sk-estimator input.sk-toggleable__control:checked~label.sk-toggleable__label {background-color: #d4ebff;}#sk-21dd1dc0-936a-4175-b970-41dcf1b146d5 div.sk-label input.sk-toggleable__control:checked~label.sk-toggleable__label {background-color: #d4ebff;}#sk-21dd1dc0-936a-4175-b970-41dcf1b146d5 input.sk-hidden--visually {border: 0;clip: rect(1px 1px 1px 1px);clip: rect(1px, 1px, 1px, 1px);height: 1px;margin: -1px;overflow: hidden;padding: 0;position: absolute;width: 1px;}#sk-21dd1dc0-936a-4175-b970-41dcf1b146d5 div.sk-estimator {font-family: monospace;background-color: #f0f8ff;border: 1px dotted black;border-radius: 0.25em;box-sizing: border-box;margin-bottom: 0.5em;}#sk-21dd1dc0-936a-4175-b970-41dcf1b146d5 div.sk-estimator:hover {background-color: #d4ebff;}#sk-21dd1dc0-936a-4175-b970-41dcf1b146d5 div.sk-parallel-item::after {content: \"\";width: 100%;border-bottom: 1px solid gray;flex-grow: 1;}#sk-21dd1dc0-936a-4175-b970-41dcf1b146d5 div.sk-label:hover label.sk-toggleable__label {background-color: #d4ebff;}#sk-21dd1dc0-936a-4175-b970-41dcf1b146d5 div.sk-serial::before {content: \"\";position: absolute;border-left: 1px solid gray;box-sizing: border-box;top: 2em;bottom: 0;left: 50%;}#sk-21dd1dc0-936a-4175-b970-41dcf1b146d5 div.sk-serial {display: flex;flex-direction: column;align-items: center;background-color: white;padding-right: 0.2em;padding-left: 0.2em;}#sk-21dd1dc0-936a-4175-b970-41dcf1b146d5 div.sk-item {z-index: 1;}#sk-21dd1dc0-936a-4175-b970-41dcf1b146d5 div.sk-parallel {display: flex;align-items: stretch;justify-content: center;background-color: white;}#sk-21dd1dc0-936a-4175-b970-41dcf1b146d5 div.sk-parallel::before {content: \"\";position: absolute;border-left: 1px solid gray;box-sizing: border-box;top: 2em;bottom: 0;left: 50%;}#sk-21dd1dc0-936a-4175-b970-41dcf1b146d5 div.sk-parallel-item {display: flex;flex-direction: column;position: relative;background-color: white;}#sk-21dd1dc0-936a-4175-b970-41dcf1b146d5 div.sk-parallel-item:first-child::after {align-self: flex-end;width: 50%;}#sk-21dd1dc0-936a-4175-b970-41dcf1b146d5 div.sk-parallel-item:last-child::after {align-self: flex-start;width: 50%;}#sk-21dd1dc0-936a-4175-b970-41dcf1b146d5 div.sk-parallel-item:only-child::after {width: 0;}#sk-21dd1dc0-936a-4175-b970-41dcf1b146d5 div.sk-dashed-wrapped {border: 1px dashed gray;margin: 0 0.4em 0.5em 0.4em;box-sizing: border-box;padding-bottom: 0.4em;background-color: white;position: relative;}#sk-21dd1dc0-936a-4175-b970-41dcf1b146d5 div.sk-label label {font-family: monospace;font-weight: bold;background-color: white;display: inline-block;line-height: 1.2em;}#sk-21dd1dc0-936a-4175-b970-41dcf1b146d5 div.sk-label-container {position: relative;z-index: 2;text-align: center;}#sk-21dd1dc0-936a-4175-b970-41dcf1b146d5 div.sk-container {/* jupyter's `normalize.less` sets `[hidden] { display: none; }` but bootstrap.min.css set `[hidden] { display: none !important; }` so we also need the `!important` here to be able to override the default hidden behavior on the sphinx rendered scikit-learn.org. See: https://github.com/scikit-learn/scikit-learn/issues/21755 */display: inline-block !important;position: relative;}#sk-21dd1dc0-936a-4175-b970-41dcf1b146d5 div.sk-text-repr-fallback {display: none;}</style><div id=\"sk-21dd1dc0-936a-4175-b970-41dcf1b146d5\" class=\"sk-top-container\"><div class=\"sk-text-repr-fallback\"><pre>SVC(C=700, gamma=1, kernel=&#x27;linear&#x27;)</pre><b>Please rerun this cell to show the HTML repr or trust the notebook.</b></div><div class=\"sk-container\" hidden><div class=\"sk-item\"><div class=\"sk-estimator sk-toggleable\"><input class=\"sk-toggleable__control sk-hidden--visually\" id=\"dbcd6086-7859-4e5d-bad6-8cf60207486d\" type=\"checkbox\" checked><label for=\"dbcd6086-7859-4e5d-bad6-8cf60207486d\" class=\"sk-toggleable__label sk-toggleable__label-arrow\">SVC</label><div class=\"sk-toggleable__content\"><pre>SVC(C=700, gamma=1, kernel=&#x27;linear&#x27;)</pre></div></div></div></div></div>"
      ],
      "text/plain": [
       "SVC(C=700, gamma=1, kernel='linear')"
      ]
     },
     "execution_count": 36,
     "metadata": {},
     "output_type": "execute_result"
    }
   ],
   "source": [
    "# Fitting the best estimator onto the train set\n",
    "best_linear_svc.fit(X_train, y_train)"
   ]
  },
  {
   "cell_type": "code",
   "execution_count": 37,
   "id": "bd8cb926",
   "metadata": {},
   "outputs": [],
   "source": [
    "# Predicting X_test\n",
    "best_svc_pred = best_linear_svc.predict(X_test)"
   ]
  },
  {
   "cell_type": "code",
   "execution_count": 38,
   "id": "b584394a",
   "metadata": {},
   "outputs": [
    {
     "data": {
      "image/png": "[encoded data removed]",
      "text/plain": [
       "<Figure size 432x288 with 2 Axes>"
      ]
     },
     "metadata": {},
     "output_type": "display_data"
    }
   ],
   "source": [
    "# Confusion matrix\n",
    "cm_svc = confusion_matrix(y_test, best_svc_pred)\n",
    "cm_svc\n",
    "\n",
    "disp = ConfusionMatrixDisplay(confusion_matrix=cm_svc,\n",
    "                             display_labels=[\"Nondemented\",\"Demented\"])\n",
    "disp.plot(cmap = 'viridis')\n",
    "plt.grid(visible = None)\n",
    "plt.show()"
   ]
  },
  {
   "cell_type": "code",
   "execution_count": 39,
   "id": "ea7229bc",
   "metadata": {},
   "outputs": [
    {
     "data": {
      "text/plain": [
       "0.7586206896551724"
      ]
     },
     "execution_count": 39,
     "metadata": {},
     "output_type": "execute_result"
    }
   ],
   "source": [
    "# Recall score\n",
    "recall_score(y_test, best_svc_pred)"
   ]
  },
  {
   "cell_type": "markdown",
   "id": "722e6a51",
   "metadata": {},
   "source": [
    "## SVC Poly"
   ]
  },
  {
   "cell_type": "markdown",
   "id": "739bc003",
   "metadata": {},
   "source": [
    "###  🤖 Grid Searching"
   ]
  },
  {
   "cell_type": "code",
   "execution_count": 40,
   "id": "0e1752c7",
   "metadata": {},
   "outputs": [
    {
     "data": {
      "text/html": [
       "<style>#sk-6d797d1a-3be9-40fe-a841-e7c83c876745 {color: black;background-color: white;}#sk-6d797d1a-3be9-40fe-a841-e7c83c876745 pre{padding: 0;}#sk-6d797d1a-3be9-40fe-a841-e7c83c876745 div.sk-toggleable {background-color: white;}#sk-6d797d1a-3be9-40fe-a841-e7c83c876745 label.sk-toggleable__label {cursor: pointer;display: block;width: 100%;margin-bottom: 0;padding: 0.3em;box-sizing: border-box;text-align: center;}#sk-6d797d1a-3be9-40fe-a841-e7c83c876745 label.sk-toggleable__label-arrow:before {content: \"▸\";float: left;margin-right: 0.25em;color: #696969;}#sk-6d797d1a-3be9-40fe-a841-e7c83c876745 label.sk-toggleable__label-arrow:hover:before {color: black;}#sk-6d797d1a-3be9-40fe-a841-e7c83c876745 div.sk-estimator:hover label.sk-toggleable__label-arrow:before {color: black;}#sk-6d797d1a-3be9-40fe-a841-e7c83c876745 div.sk-toggleable__content {max-height: 0;max-width: 0;overflow: hidden;text-align: left;background-color: #f0f8ff;}#sk-6d797d1a-3be9-40fe-a841-e7c83c876745 div.sk-toggleable__content pre {margin: 0.2em;color: black;border-radius: 0.25em;background-color: #f0f8ff;}#sk-6d797d1a-3be9-40fe-a841-e7c83c876745 input.sk-toggleable__control:checked~div.sk-toggleable__content {max-height: 200px;max-width: 100%;overflow: auto;}#sk-6d797d1a-3be9-40fe-a841-e7c83c876745 input.sk-toggleable__control:checked~label.sk-toggleable__label-arrow:before {content: \"▾\";}#sk-6d797d1a-3be9-40fe-a841-e7c83c876745 div.sk-estimator input.sk-toggleable__control:checked~label.sk-toggleable__label {background-color: #d4ebff;}#sk-6d797d1a-3be9-40fe-a841-e7c83c876745 div.sk-label input.sk-toggleable__control:checked~label.sk-toggleable__label {background-color: #d4ebff;}#sk-6d797d1a-3be9-40fe-a841-e7c83c876745 input.sk-hidden--visually {border: 0;clip: rect(1px 1px 1px 1px);clip: rect(1px, 1px, 1px, 1px);height: 1px;margin: -1px;overflow: hidden;padding: 0;position: absolute;width: 1px;}#sk-6d797d1a-3be9-40fe-a841-e7c83c876745 div.sk-estimator {font-family: monospace;background-color: #f0f8ff;border: 1px dotted black;border-radius: 0.25em;box-sizing: border-box;margin-bottom: 0.5em;}#sk-6d797d1a-3be9-40fe-a841-e7c83c876745 div.sk-estimator:hover {background-color: #d4ebff;}#sk-6d797d1a-3be9-40fe-a841-e7c83c876745 div.sk-parallel-item::after {content: \"\";width: 100%;border-bottom: 1px solid gray;flex-grow: 1;}#sk-6d797d1a-3be9-40fe-a841-e7c83c876745 div.sk-label:hover label.sk-toggleable__label {background-color: #d4ebff;}#sk-6d797d1a-3be9-40fe-a841-e7c83c876745 div.sk-serial::before {content: \"\";position: absolute;border-left: 1px solid gray;box-sizing: border-box;top: 2em;bottom: 0;left: 50%;}#sk-6d797d1a-3be9-40fe-a841-e7c83c876745 div.sk-serial {display: flex;flex-direction: column;align-items: center;background-color: white;padding-right: 0.2em;padding-left: 0.2em;}#sk-6d797d1a-3be9-40fe-a841-e7c83c876745 div.sk-item {z-index: 1;}#sk-6d797d1a-3be9-40fe-a841-e7c83c876745 div.sk-parallel {display: flex;align-items: stretch;justify-content: center;background-color: white;}#sk-6d797d1a-3be9-40fe-a841-e7c83c876745 div.sk-parallel::before {content: \"\";position: absolute;border-left: 1px solid gray;box-sizing: border-box;top: 2em;bottom: 0;left: 50%;}#sk-6d797d1a-3be9-40fe-a841-e7c83c876745 div.sk-parallel-item {display: flex;flex-direction: column;position: relative;background-color: white;}#sk-6d797d1a-3be9-40fe-a841-e7c83c876745 div.sk-parallel-item:first-child::after {align-self: flex-end;width: 50%;}#sk-6d797d1a-3be9-40fe-a841-e7c83c876745 div.sk-parallel-item:last-child::after {align-self: flex-start;width: 50%;}#sk-6d797d1a-3be9-40fe-a841-e7c83c876745 div.sk-parallel-item:only-child::after {width: 0;}#sk-6d797d1a-3be9-40fe-a841-e7c83c876745 div.sk-dashed-wrapped {border: 1px dashed gray;margin: 0 0.4em 0.5em 0.4em;box-sizing: border-box;padding-bottom: 0.4em;background-color: white;position: relative;}#sk-6d797d1a-3be9-40fe-a841-e7c83c876745 div.sk-label label {font-family: monospace;font-weight: bold;background-color: white;display: inline-block;line-height: 1.2em;}#sk-6d797d1a-3be9-40fe-a841-e7c83c876745 div.sk-label-container {position: relative;z-index: 2;text-align: center;}#sk-6d797d1a-3be9-40fe-a841-e7c83c876745 div.sk-container {/* jupyter's `normalize.less` sets `[hidden] { display: none; }` but bootstrap.min.css set `[hidden] { display: none !important; }` so we also need the `!important` here to be able to override the default hidden behavior on the sphinx rendered scikit-learn.org. See: https://github.com/scikit-learn/scikit-learn/issues/21755 */display: inline-block !important;position: relative;}#sk-6d797d1a-3be9-40fe-a841-e7c83c876745 div.sk-text-repr-fallback {display: none;}</style><div id=\"sk-6d797d1a-3be9-40fe-a841-e7c83c876745\" class=\"sk-top-container\"><div class=\"sk-text-repr-fallback\"><pre>GridSearchCV(cv=5, estimator=SVC(kernel=&#x27;poly&#x27;), n_jobs=-1,\n",
       "             param_grid={&#x27;C&#x27;: array([ 1,  2,  3,  4,  5,  6,  7,  8,  9, 10, 11, 12, 13, 14, 15, 16, 17,\n",
       "       18, 19, 20, 21, 22, 23, 24, 25, 26, 27, 28, 29, 30, 31, 32, 33, 34,\n",
       "       35, 36, 37, 38, 39, 40, 41, 42, 43, 44, 45, 46, 47, 48, 49]),\n",
       "                         &#x27;degree&#x27;: array([1, 2, 3, 4, 5, 6, 7, 8, 9]),\n",
       "                         &#x27;gamma&#x27;: [1, 0.1, 0.001, 0.0001]},\n",
       "             scoring=&#x27;recall&#x27;)</pre><b>Please rerun this cell to show the HTML repr or trust the notebook.</b></div><div class=\"sk-container\" hidden><div class=\"sk-item sk-dashed-wrapped\"><div class=\"sk-label-container\"><div class=\"sk-label sk-toggleable\"><input class=\"sk-toggleable__control sk-hidden--visually\" id=\"7addf537-4a3d-4d4b-96a3-2e624dc525b9\" type=\"checkbox\" ><label for=\"7addf537-4a3d-4d4b-96a3-2e624dc525b9\" class=\"sk-toggleable__label sk-toggleable__label-arrow\">GridSearchCV</label><div class=\"sk-toggleable__content\"><pre>GridSearchCV(cv=5, estimator=SVC(kernel=&#x27;poly&#x27;), n_jobs=-1,\n",
       "             param_grid={&#x27;C&#x27;: array([ 1,  2,  3,  4,  5,  6,  7,  8,  9, 10, 11, 12, 13, 14, 15, 16, 17,\n",
       "       18, 19, 20, 21, 22, 23, 24, 25, 26, 27, 28, 29, 30, 31, 32, 33, 34,\n",
       "       35, 36, 37, 38, 39, 40, 41, 42, 43, 44, 45, 46, 47, 48, 49]),\n",
       "                         &#x27;degree&#x27;: array([1, 2, 3, 4, 5, 6, 7, 8, 9]),\n",
       "                         &#x27;gamma&#x27;: [1, 0.1, 0.001, 0.0001]},\n",
       "             scoring=&#x27;recall&#x27;)</pre></div></div></div><div class=\"sk-parallel\"><div class=\"sk-parallel-item\"><div class=\"sk-item\"><div class=\"sk-serial\"><div class=\"sk-item\"><div class=\"sk-estimator sk-toggleable\"><input class=\"sk-toggleable__control sk-hidden--visually\" id=\"4654049d-5d9d-435c-b81a-242a9644a0ec\" type=\"checkbox\" ><label for=\"4654049d-5d9d-435c-b81a-242a9644a0ec\" class=\"sk-toggleable__label sk-toggleable__label-arrow\">SVC</label><div class=\"sk-toggleable__content\"><pre>SVC(kernel=&#x27;poly&#x27;)</pre></div></div></div></div></div></div></div></div></div></div>"
      ],
      "text/plain": [
       "GridSearchCV(cv=5, estimator=SVC(kernel='poly'), n_jobs=-1,\n",
       "             param_grid={'C': array([ 1,  2,  3,  4,  5,  6,  7,  8,  9, 10, 11, 12, 13, 14, 15, 16, 17,\n",
       "       18, 19, 20, 21, 22, 23, 24, 25, 26, 27, 28, 29, 30, 31, 32, 33, 34,\n",
       "       35, 36, 37, 38, 39, 40, 41, 42, 43, 44, 45, 46, 47, 48, 49]),\n",
       "                         'degree': array([1, 2, 3, 4, 5, 6, 7, 8, 9]),\n",
       "                         'gamma': [1, 0.1, 0.001, 0.0001]},\n",
       "             scoring='recall')"
      ]
     },
     "execution_count": 40,
     "metadata": {},
     "output_type": "execute_result"
    }
   ],
   "source": [
    "# Creating a parameter grid: map the parameter names to the values that should be searched in a dictionary\n",
    "param_grid = {'C':np.arange(1,50,1),\n",
    "              'gamma':[1,0.1,0.001,0.0001],\n",
    "             'degree': np.arange(1,10,1)}\n",
    "\n",
    "# GridSearching\n",
    "gridsearch_svc = GridSearchCV(SVC(kernel = 'poly'), \n",
    "                          param_grid, n_jobs = -1, \n",
    "                          scoring = 'recall', cv = 5)\n",
    "\n",
    "# Fitting gridsearch on X and y\n",
    "gridsearch_svc.fit(X_train, y_train)"
   ]
  },
  {
   "cell_type": "code",
   "execution_count": 41,
   "id": "fd1e8c5a",
   "metadata": {},
   "outputs": [
    {
     "data": {
      "text/html": [
       "<style>#sk-81fb6f9a-ef48-46f9-b960-2655ef4cc568 {color: black;background-color: white;}#sk-81fb6f9a-ef48-46f9-b960-2655ef4cc568 pre{padding: 0;}#sk-81fb6f9a-ef48-46f9-b960-2655ef4cc568 div.sk-toggleable {background-color: white;}#sk-81fb6f9a-ef48-46f9-b960-2655ef4cc568 label.sk-toggleable__label {cursor: pointer;display: block;width: 100%;margin-bottom: 0;padding: 0.3em;box-sizing: border-box;text-align: center;}#sk-81fb6f9a-ef48-46f9-b960-2655ef4cc568 label.sk-toggleable__label-arrow:before {content: \"▸\";float: left;margin-right: 0.25em;color: #696969;}#sk-81fb6f9a-ef48-46f9-b960-2655ef4cc568 label.sk-toggleable__label-arrow:hover:before {color: black;}#sk-81fb6f9a-ef48-46f9-b960-2655ef4cc568 div.sk-estimator:hover label.sk-toggleable__label-arrow:before {color: black;}#sk-81fb6f9a-ef48-46f9-b960-2655ef4cc568 div.sk-toggleable__content {max-height: 0;max-width: 0;overflow: hidden;text-align: left;background-color: #f0f8ff;}#sk-81fb6f9a-ef48-46f9-b960-2655ef4cc568 div.sk-toggleable__content pre {margin: 0.2em;color: black;border-radius: 0.25em;background-color: #f0f8ff;}#sk-81fb6f9a-ef48-46f9-b960-2655ef4cc568 input.sk-toggleable__control:checked~div.sk-toggleable__content {max-height: 200px;max-width: 100%;overflow: auto;}#sk-81fb6f9a-ef48-46f9-b960-2655ef4cc568 input.sk-toggleable__control:checked~label.sk-toggleable__label-arrow:before {content: \"▾\";}#sk-81fb6f9a-ef48-46f9-b960-2655ef4cc568 div.sk-estimator input.sk-toggleable__control:checked~label.sk-toggleable__label {background-color: #d4ebff;}#sk-81fb6f9a-ef48-46f9-b960-2655ef4cc568 div.sk-label input.sk-toggleable__control:checked~label.sk-toggleable__label {background-color: #d4ebff;}#sk-81fb6f9a-ef48-46f9-b960-2655ef4cc568 input.sk-hidden--visually {border: 0;clip: rect(1px 1px 1px 1px);clip: rect(1px, 1px, 1px, 1px);height: 1px;margin: -1px;overflow: hidden;padding: 0;position: absolute;width: 1px;}#sk-81fb6f9a-ef48-46f9-b960-2655ef4cc568 div.sk-estimator {font-family: monospace;background-color: #f0f8ff;border: 1px dotted black;border-radius: 0.25em;box-sizing: border-box;margin-bottom: 0.5em;}#sk-81fb6f9a-ef48-46f9-b960-2655ef4cc568 div.sk-estimator:hover {background-color: #d4ebff;}#sk-81fb6f9a-ef48-46f9-b960-2655ef4cc568 div.sk-parallel-item::after {content: \"\";width: 100%;border-bottom: 1px solid gray;flex-grow: 1;}#sk-81fb6f9a-ef48-46f9-b960-2655ef4cc568 div.sk-label:hover label.sk-toggleable__label {background-color: #d4ebff;}#sk-81fb6f9a-ef48-46f9-b960-2655ef4cc568 div.sk-serial::before {content: \"\";position: absolute;border-left: 1px solid gray;box-sizing: border-box;top: 2em;bottom: 0;left: 50%;}#sk-81fb6f9a-ef48-46f9-b960-2655ef4cc568 div.sk-serial {display: flex;flex-direction: column;align-items: center;background-color: white;padding-right: 0.2em;padding-left: 0.2em;}#sk-81fb6f9a-ef48-46f9-b960-2655ef4cc568 div.sk-item {z-index: 1;}#sk-81fb6f9a-ef48-46f9-b960-2655ef4cc568 div.sk-parallel {display: flex;align-items: stretch;justify-content: center;background-color: white;}#sk-81fb6f9a-ef48-46f9-b960-2655ef4cc568 div.sk-parallel::before {content: \"\";position: absolute;border-left: 1px solid gray;box-sizing: border-box;top: 2em;bottom: 0;left: 50%;}#sk-81fb6f9a-ef48-46f9-b960-2655ef4cc568 div.sk-parallel-item {display: flex;flex-direction: column;position: relative;background-color: white;}#sk-81fb6f9a-ef48-46f9-b960-2655ef4cc568 div.sk-parallel-item:first-child::after {align-self: flex-end;width: 50%;}#sk-81fb6f9a-ef48-46f9-b960-2655ef4cc568 div.sk-parallel-item:last-child::after {align-self: flex-start;width: 50%;}#sk-81fb6f9a-ef48-46f9-b960-2655ef4cc568 div.sk-parallel-item:only-child::after {width: 0;}#sk-81fb6f9a-ef48-46f9-b960-2655ef4cc568 div.sk-dashed-wrapped {border: 1px dashed gray;margin: 0 0.4em 0.5em 0.4em;box-sizing: border-box;padding-bottom: 0.4em;background-color: white;position: relative;}#sk-81fb6f9a-ef48-46f9-b960-2655ef4cc568 div.sk-label label {font-family: monospace;font-weight: bold;background-color: white;display: inline-block;line-height: 1.2em;}#sk-81fb6f9a-ef48-46f9-b960-2655ef4cc568 div.sk-label-container {position: relative;z-index: 2;text-align: center;}#sk-81fb6f9a-ef48-46f9-b960-2655ef4cc568 div.sk-container {/* jupyter's `normalize.less` sets `[hidden] { display: none; }` but bootstrap.min.css set `[hidden] { display: none !important; }` so we also need the `!important` here to be able to override the default hidden behavior on the sphinx rendered scikit-learn.org. See: https://github.com/scikit-learn/scikit-learn/issues/21755 */display: inline-block !important;position: relative;}#sk-81fb6f9a-ef48-46f9-b960-2655ef4cc568 div.sk-text-repr-fallback {display: none;}</style><div id=\"sk-81fb6f9a-ef48-46f9-b960-2655ef4cc568\" class=\"sk-top-container\"><div class=\"sk-text-repr-fallback\"><pre>SVC(C=7, degree=2, gamma=1, kernel=&#x27;poly&#x27;)</pre><b>Please rerun this cell to show the HTML repr or trust the notebook.</b></div><div class=\"sk-container\" hidden><div class=\"sk-item\"><div class=\"sk-estimator sk-toggleable\"><input class=\"sk-toggleable__control sk-hidden--visually\" id=\"ece072fb-4ea8-4d25-99d2-d3611dbfb525\" type=\"checkbox\" checked><label for=\"ece072fb-4ea8-4d25-99d2-d3611dbfb525\" class=\"sk-toggleable__label sk-toggleable__label-arrow\">SVC</label><div class=\"sk-toggleable__content\"><pre>SVC(C=7, degree=2, gamma=1, kernel=&#x27;poly&#x27;)</pre></div></div></div></div></div>"
      ],
      "text/plain": [
       "SVC(C=7, degree=2, gamma=1, kernel='poly')"
      ]
     },
     "execution_count": 41,
     "metadata": {},
     "output_type": "execute_result"
    }
   ],
   "source": [
    "# Best estimator obtained from grid searching\n",
    "best_poly_svc = gridsearch_svc.best_estimator_\n",
    "best_poly_svc"
   ]
  },
  {
   "cell_type": "markdown",
   "id": "ec5b12a9",
   "metadata": {},
   "source": [
    "### Best SVC Poly"
   ]
  },
  {
   "cell_type": "code",
   "execution_count": 42,
   "id": "c9ccf2be",
   "metadata": {},
   "outputs": [],
   "source": [
    "# Predicting X_test\n",
    "best_poly_pred = best_poly_svc.predict(X_test)"
   ]
  },
  {
   "cell_type": "code",
   "execution_count": 43,
   "id": "79603691",
   "metadata": {},
   "outputs": [
    {
     "data": {
      "image/png": "[encoded data removed]",
      "text/plain": [
       "<Figure size 432x288 with 2 Axes>"
      ]
     },
     "metadata": {},
     "output_type": "display_data"
    }
   ],
   "source": [
    "# Confusion matrix\n",
    "cm_poly_svc = confusion_matrix(y_test, best_poly_pred)\n",
    "\n",
    "disp = ConfusionMatrixDisplay(confusion_matrix=cm_poly_svc,\n",
    "                             display_labels=['Demented','Nondemented'])\n",
    "disp.plot(cmap = 'viridis')\n",
    "plt.grid(visible = None)\n",
    "plt.show()"
   ]
  },
  {
   "cell_type": "code",
   "execution_count": 44,
   "id": "151995ef",
   "metadata": {},
   "outputs": [
    {
     "data": {
      "text/plain": [
       "0.7241379310344828"
      ]
     },
     "execution_count": 44,
     "metadata": {},
     "output_type": "execute_result"
    }
   ],
   "source": [
    "# Recall score\n",
    "recall_score(y_test, best_poly_pred)"
   ]
  },
  {
   "cell_type": "markdown",
   "id": "a1b3ec78",
   "metadata": {},
   "source": [
    "## SVC Rbf"
   ]
  },
  {
   "cell_type": "markdown",
   "id": "436edc34",
   "metadata": {},
   "source": [
    "### Grid Searching"
   ]
  },
  {
   "cell_type": "code",
   "execution_count": 45,
   "id": "ea66cf4b",
   "metadata": {},
   "outputs": [
    {
     "data": {
      "text/html": [
       "<style>#sk-ba19efe4-5f14-44cb-8088-4ab0456df5f8 {color: black;background-color: white;}#sk-ba19efe4-5f14-44cb-8088-4ab0456df5f8 pre{padding: 0;}#sk-ba19efe4-5f14-44cb-8088-4ab0456df5f8 div.sk-toggleable {background-color: white;}#sk-ba19efe4-5f14-44cb-8088-4ab0456df5f8 label.sk-toggleable__label {cursor: pointer;display: block;width: 100%;margin-bottom: 0;padding: 0.3em;box-sizing: border-box;text-align: center;}#sk-ba19efe4-5f14-44cb-8088-4ab0456df5f8 label.sk-toggleable__label-arrow:before {content: \"▸\";float: left;margin-right: 0.25em;color: #696969;}#sk-ba19efe4-5f14-44cb-8088-4ab0456df5f8 label.sk-toggleable__label-arrow:hover:before {color: black;}#sk-ba19efe4-5f14-44cb-8088-4ab0456df5f8 div.sk-estimator:hover label.sk-toggleable__label-arrow:before {color: black;}#sk-ba19efe4-5f14-44cb-8088-4ab0456df5f8 div.sk-toggleable__content {max-height: 0;max-width: 0;overflow: hidden;text-align: left;background-color: #f0f8ff;}#sk-ba19efe4-5f14-44cb-8088-4ab0456df5f8 div.sk-toggleable__content pre {margin: 0.2em;color: black;border-radius: 0.25em;background-color: #f0f8ff;}#sk-ba19efe4-5f14-44cb-8088-4ab0456df5f8 input.sk-toggleable__control:checked~div.sk-toggleable__content {max-height: 200px;max-width: 100%;overflow: auto;}#sk-ba19efe4-5f14-44cb-8088-4ab0456df5f8 input.sk-toggleable__control:checked~label.sk-toggleable__label-arrow:before {content: \"▾\";}#sk-ba19efe4-5f14-44cb-8088-4ab0456df5f8 div.sk-estimator input.sk-toggleable__control:checked~label.sk-toggleable__label {background-color: #d4ebff;}#sk-ba19efe4-5f14-44cb-8088-4ab0456df5f8 div.sk-label input.sk-toggleable__control:checked~label.sk-toggleable__label {background-color: #d4ebff;}#sk-ba19efe4-5f14-44cb-8088-4ab0456df5f8 input.sk-hidden--visually {border: 0;clip: rect(1px 1px 1px 1px);clip: rect(1px, 1px, 1px, 1px);height: 1px;margin: -1px;overflow: hidden;padding: 0;position: absolute;width: 1px;}#sk-ba19efe4-5f14-44cb-8088-4ab0456df5f8 div.sk-estimator {font-family: monospace;background-color: #f0f8ff;border: 1px dotted black;border-radius: 0.25em;box-sizing: border-box;margin-bottom: 0.5em;}#sk-ba19efe4-5f14-44cb-8088-4ab0456df5f8 div.sk-estimator:hover {background-color: #d4ebff;}#sk-ba19efe4-5f14-44cb-8088-4ab0456df5f8 div.sk-parallel-item::after {content: \"\";width: 100%;border-bottom: 1px solid gray;flex-grow: 1;}#sk-ba19efe4-5f14-44cb-8088-4ab0456df5f8 div.sk-label:hover label.sk-toggleable__label {background-color: #d4ebff;}#sk-ba19efe4-5f14-44cb-8088-4ab0456df5f8 div.sk-serial::before {content: \"\";position: absolute;border-left: 1px solid gray;box-sizing: border-box;top: 2em;bottom: 0;left: 50%;}#sk-ba19efe4-5f14-44cb-8088-4ab0456df5f8 div.sk-serial {display: flex;flex-direction: column;align-items: center;background-color: white;padding-right: 0.2em;padding-left: 0.2em;}#sk-ba19efe4-5f14-44cb-8088-4ab0456df5f8 div.sk-item {z-index: 1;}#sk-ba19efe4-5f14-44cb-8088-4ab0456df5f8 div.sk-parallel {display: flex;align-items: stretch;justify-content: center;background-color: white;}#sk-ba19efe4-5f14-44cb-8088-4ab0456df5f8 div.sk-parallel::before {content: \"\";position: absolute;border-left: 1px solid gray;box-sizing: border-box;top: 2em;bottom: 0;left: 50%;}#sk-ba19efe4-5f14-44cb-8088-4ab0456df5f8 div.sk-parallel-item {display: flex;flex-direction: column;position: relative;background-color: white;}#sk-ba19efe4-5f14-44cb-8088-4ab0456df5f8 div.sk-parallel-item:first-child::after {align-self: flex-end;width: 50%;}#sk-ba19efe4-5f14-44cb-8088-4ab0456df5f8 div.sk-parallel-item:last-child::after {align-self: flex-start;width: 50%;}#sk-ba19efe4-5f14-44cb-8088-4ab0456df5f8 div.sk-parallel-item:only-child::after {width: 0;}#sk-ba19efe4-5f14-44cb-8088-4ab0456df5f8 div.sk-dashed-wrapped {border: 1px dashed gray;margin: 0 0.4em 0.5em 0.4em;box-sizing: border-box;padding-bottom: 0.4em;background-color: white;position: relative;}#sk-ba19efe4-5f14-44cb-8088-4ab0456df5f8 div.sk-label label {font-family: monospace;font-weight: bold;background-color: white;display: inline-block;line-height: 1.2em;}#sk-ba19efe4-5f14-44cb-8088-4ab0456df5f8 div.sk-label-container {position: relative;z-index: 2;text-align: center;}#sk-ba19efe4-5f14-44cb-8088-4ab0456df5f8 div.sk-container {/* jupyter's `normalize.less` sets `[hidden] { display: none; }` but bootstrap.min.css set `[hidden] { display: none !important; }` so we also need the `!important` here to be able to override the default hidden behavior on the sphinx rendered scikit-learn.org. See: https://github.com/scikit-learn/scikit-learn/issues/21755 */display: inline-block !important;position: relative;}#sk-ba19efe4-5f14-44cb-8088-4ab0456df5f8 div.sk-text-repr-fallback {display: none;}</style><div id=\"sk-ba19efe4-5f14-44cb-8088-4ab0456df5f8\" class=\"sk-top-container\"><div class=\"sk-text-repr-fallback\"><pre>GridSearchCV(cv=5, estimator=SVC(), n_jobs=-1,\n",
       "             param_grid={&#x27;C&#x27;: array([  1,   2,   3,   4,   5,   6,   7,   8,   9,  10,  11,  12,  13,\n",
       "        14,  15,  16,  17,  18,  19,  20,  21,  22,  23,  24,  25,  26,\n",
       "        27,  28,  29,  30,  31,  32,  33,  34,  35,  36,  37,  38,  39,\n",
       "        40,  41,  42,  43,  44,  45,  46,  47,  48,  49,  50,  51,  52,\n",
       "        53,  54,  55,  56,  57,  58,  59,  60,  61,  62,  63,  64,  65,\n",
       "        66,  67,  68,  69,  70,  71,  72,  73,  74,  75,  76,  77,  78,\n",
       "        79,  80,  81,  82,  83,  84,  85,  86,  87,  88,  89,  90,  91,\n",
       "        92,  93,  94,  95,  96,  97,  9...\n",
       "       118, 119, 120, 121, 122, 123, 124, 125, 126, 127, 128, 129, 130,\n",
       "       131, 132, 133, 134, 135, 136, 137, 138, 139, 140, 141, 142, 143,\n",
       "       144, 145, 146, 147, 148, 149, 150, 151, 152, 153, 154, 155, 156,\n",
       "       157, 158, 159, 160, 161, 162, 163, 164, 165, 166, 167, 168, 169,\n",
       "       170, 171, 172, 173, 174, 175, 176, 177, 178, 179, 180, 181, 182,\n",
       "       183, 184, 185, 186, 187, 188, 189, 190, 191, 192, 193, 194, 195,\n",
       "       196, 197, 198, 199]),\n",
       "                         &#x27;gamma&#x27;: [1, 0.1, 0.001, 0.0001]},\n",
       "             scoring=&#x27;recall&#x27;)</pre><b>Please rerun this cell to show the HTML repr or trust the notebook.</b></div><div class=\"sk-container\" hidden><div class=\"sk-item sk-dashed-wrapped\"><div class=\"sk-label-container\"><div class=\"sk-label sk-toggleable\"><input class=\"sk-toggleable__control sk-hidden--visually\" id=\"bf721de0-05e3-4037-aa20-ffb8fb42ef5f\" type=\"checkbox\" ><label for=\"bf721de0-05e3-4037-aa20-ffb8fb42ef5f\" class=\"sk-toggleable__label sk-toggleable__label-arrow\">GridSearchCV</label><div class=\"sk-toggleable__content\"><pre>GridSearchCV(cv=5, estimator=SVC(), n_jobs=-1,\n",
       "             param_grid={&#x27;C&#x27;: array([  1,   2,   3,   4,   5,   6,   7,   8,   9,  10,  11,  12,  13,\n",
       "        14,  15,  16,  17,  18,  19,  20,  21,  22,  23,  24,  25,  26,\n",
       "        27,  28,  29,  30,  31,  32,  33,  34,  35,  36,  37,  38,  39,\n",
       "        40,  41,  42,  43,  44,  45,  46,  47,  48,  49,  50,  51,  52,\n",
       "        53,  54,  55,  56,  57,  58,  59,  60,  61,  62,  63,  64,  65,\n",
       "        66,  67,  68,  69,  70,  71,  72,  73,  74,  75,  76,  77,  78,\n",
       "        79,  80,  81,  82,  83,  84,  85,  86,  87,  88,  89,  90,  91,\n",
       "        92,  93,  94,  95,  96,  97,  9...\n",
       "       118, 119, 120, 121, 122, 123, 124, 125, 126, 127, 128, 129, 130,\n",
       "       131, 132, 133, 134, 135, 136, 137, 138, 139, 140, 141, 142, 143,\n",
       "       144, 145, 146, 147, 148, 149, 150, 151, 152, 153, 154, 155, 156,\n",
       "       157, 158, 159, 160, 161, 162, 163, 164, 165, 166, 167, 168, 169,\n",
       "       170, 171, 172, 173, 174, 175, 176, 177, 178, 179, 180, 181, 182,\n",
       "       183, 184, 185, 186, 187, 188, 189, 190, 191, 192, 193, 194, 195,\n",
       "       196, 197, 198, 199]),\n",
       "                         &#x27;gamma&#x27;: [1, 0.1, 0.001, 0.0001]},\n",
       "             scoring=&#x27;recall&#x27;)</pre></div></div></div><div class=\"sk-parallel\"><div class=\"sk-parallel-item\"><div class=\"sk-item\"><div class=\"sk-serial\"><div class=\"sk-item\"><div class=\"sk-estimator sk-toggleable\"><input class=\"sk-toggleable__control sk-hidden--visually\" id=\"8a333b0d-860c-4353-9c5a-63abd07d84f7\" type=\"checkbox\" ><label for=\"8a333b0d-860c-4353-9c5a-63abd07d84f7\" class=\"sk-toggleable__label sk-toggleable__label-arrow\">SVC</label><div class=\"sk-toggleable__content\"><pre>SVC()</pre></div></div></div></div></div></div></div></div></div></div>"
      ],
      "text/plain": [
       "GridSearchCV(cv=5, estimator=SVC(), n_jobs=-1,\n",
       "             param_grid={'C': array([  1,   2,   3,   4,   5,   6,   7,   8,   9,  10,  11,  12,  13,\n",
       "        14,  15,  16,  17,  18,  19,  20,  21,  22,  23,  24,  25,  26,\n",
       "        27,  28,  29,  30,  31,  32,  33,  34,  35,  36,  37,  38,  39,\n",
       "        40,  41,  42,  43,  44,  45,  46,  47,  48,  49,  50,  51,  52,\n",
       "        53,  54,  55,  56,  57,  58,  59,  60,  61,  62,  63,  64,  65,\n",
       "        66,  67,  68,  69,  70,  71,  72,  73,  74,  75,  76,  77,  78,\n",
       "        79,  80,  81,  82,  83,  84,  85,  86,  87,  88,  89,  90,  91,\n",
       "        92,  93,  94,  95,  96,  97,  9...\n",
       "       118, 119, 120, 121, 122, 123, 124, 125, 126, 127, 128, 129, 130,\n",
       "       131, 132, 133, 134, 135, 136, 137, 138, 139, 140, 141, 142, 143,\n",
       "       144, 145, 146, 147, 148, 149, 150, 151, 152, 153, 154, 155, 156,\n",
       "       157, 158, 159, 160, 161, 162, 163, 164, 165, 166, 167, 168, 169,\n",
       "       170, 171, 172, 173, 174, 175, 176, 177, 178, 179, 180, 181, 182,\n",
       "       183, 184, 185, 186, 187, 188, 189, 190, 191, 192, 193, 194, 195,\n",
       "       196, 197, 198, 199]),\n",
       "                         'gamma': [1, 0.1, 0.001, 0.0001]},\n",
       "             scoring='recall')"
      ]
     },
     "execution_count": 45,
     "metadata": {},
     "output_type": "execute_result"
    }
   ],
   "source": [
    "# Creating a parameter grid: map the parameter names to the values that should be searched in a dictionary\n",
    "param_grid = {'C':np.arange(1,200,1),\n",
    "              'gamma':[1,0.1,0.001,0.0001]}\n",
    "\n",
    "# GridSearching\n",
    "gridsearch_svc = GridSearchCV(SVC(kernel = 'rbf'), \n",
    "                          param_grid, n_jobs = -1, \n",
    "                          scoring = 'recall', cv = 5)\n",
    "\n",
    "# Fitting gridsearch on X and y\n",
    "gridsearch_svc.fit(X_train, y_train)"
   ]
  },
  {
   "cell_type": "code",
   "execution_count": 46,
   "id": "ad1054a3",
   "metadata": {},
   "outputs": [
    {
     "data": {
      "text/html": [
       "<style>#sk-7d7ef47d-6e51-4b19-a06f-df5db5ff8675 {color: black;background-color: white;}#sk-7d7ef47d-6e51-4b19-a06f-df5db5ff8675 pre{padding: 0;}#sk-7d7ef47d-6e51-4b19-a06f-df5db5ff8675 div.sk-toggleable {background-color: white;}#sk-7d7ef47d-6e51-4b19-a06f-df5db5ff8675 label.sk-toggleable__label {cursor: pointer;display: block;width: 100%;margin-bottom: 0;padding: 0.3em;box-sizing: border-box;text-align: center;}#sk-7d7ef47d-6e51-4b19-a06f-df5db5ff8675 label.sk-toggleable__label-arrow:before {content: \"▸\";float: left;margin-right: 0.25em;color: #696969;}#sk-7d7ef47d-6e51-4b19-a06f-df5db5ff8675 label.sk-toggleable__label-arrow:hover:before {color: black;}#sk-7d7ef47d-6e51-4b19-a06f-df5db5ff8675 div.sk-estimator:hover label.sk-toggleable__label-arrow:before {color: black;}#sk-7d7ef47d-6e51-4b19-a06f-df5db5ff8675 div.sk-toggleable__content {max-height: 0;max-width: 0;overflow: hidden;text-align: left;background-color: #f0f8ff;}#sk-7d7ef47d-6e51-4b19-a06f-df5db5ff8675 div.sk-toggleable__content pre {margin: 0.2em;color: black;border-radius: 0.25em;background-color: #f0f8ff;}#sk-7d7ef47d-6e51-4b19-a06f-df5db5ff8675 input.sk-toggleable__control:checked~div.sk-toggleable__content {max-height: 200px;max-width: 100%;overflow: auto;}#sk-7d7ef47d-6e51-4b19-a06f-df5db5ff8675 input.sk-toggleable__control:checked~label.sk-toggleable__label-arrow:before {content: \"▾\";}#sk-7d7ef47d-6e51-4b19-a06f-df5db5ff8675 div.sk-estimator input.sk-toggleable__control:checked~label.sk-toggleable__label {background-color: #d4ebff;}#sk-7d7ef47d-6e51-4b19-a06f-df5db5ff8675 div.sk-label input.sk-toggleable__control:checked~label.sk-toggleable__label {background-color: #d4ebff;}#sk-7d7ef47d-6e51-4b19-a06f-df5db5ff8675 input.sk-hidden--visually {border: 0;clip: rect(1px 1px 1px 1px);clip: rect(1px, 1px, 1px, 1px);height: 1px;margin: -1px;overflow: hidden;padding: 0;position: absolute;width: 1px;}#sk-7d7ef47d-6e51-4b19-a06f-df5db5ff8675 div.sk-estimator {font-family: monospace;background-color: #f0f8ff;border: 1px dotted black;border-radius: 0.25em;box-sizing: border-box;margin-bottom: 0.5em;}#sk-7d7ef47d-6e51-4b19-a06f-df5db5ff8675 div.sk-estimator:hover {background-color: #d4ebff;}#sk-7d7ef47d-6e51-4b19-a06f-df5db5ff8675 div.sk-parallel-item::after {content: \"\";width: 100%;border-bottom: 1px solid gray;flex-grow: 1;}#sk-7d7ef47d-6e51-4b19-a06f-df5db5ff8675 div.sk-label:hover label.sk-toggleable__label {background-color: #d4ebff;}#sk-7d7ef47d-6e51-4b19-a06f-df5db5ff8675 div.sk-serial::before {content: \"\";position: absolute;border-left: 1px solid gray;box-sizing: border-box;top: 2em;bottom: 0;left: 50%;}#sk-7d7ef47d-6e51-4b19-a06f-df5db5ff8675 div.sk-serial {display: flex;flex-direction: column;align-items: center;background-color: white;padding-right: 0.2em;padding-left: 0.2em;}#sk-7d7ef47d-6e51-4b19-a06f-df5db5ff8675 div.sk-item {z-index: 1;}#sk-7d7ef47d-6e51-4b19-a06f-df5db5ff8675 div.sk-parallel {display: flex;align-items: stretch;justify-content: center;background-color: white;}#sk-7d7ef47d-6e51-4b19-a06f-df5db5ff8675 div.sk-parallel::before {content: \"\";position: absolute;border-left: 1px solid gray;box-sizing: border-box;top: 2em;bottom: 0;left: 50%;}#sk-7d7ef47d-6e51-4b19-a06f-df5db5ff8675 div.sk-parallel-item {display: flex;flex-direction: column;position: relative;background-color: white;}#sk-7d7ef47d-6e51-4b19-a06f-df5db5ff8675 div.sk-parallel-item:first-child::after {align-self: flex-end;width: 50%;}#sk-7d7ef47d-6e51-4b19-a06f-df5db5ff8675 div.sk-parallel-item:last-child::after {align-self: flex-start;width: 50%;}#sk-7d7ef47d-6e51-4b19-a06f-df5db5ff8675 div.sk-parallel-item:only-child::after {width: 0;}#sk-7d7ef47d-6e51-4b19-a06f-df5db5ff8675 div.sk-dashed-wrapped {border: 1px dashed gray;margin: 0 0.4em 0.5em 0.4em;box-sizing: border-box;padding-bottom: 0.4em;background-color: white;position: relative;}#sk-7d7ef47d-6e51-4b19-a06f-df5db5ff8675 div.sk-label label {font-family: monospace;font-weight: bold;background-color: white;display: inline-block;line-height: 1.2em;}#sk-7d7ef47d-6e51-4b19-a06f-df5db5ff8675 div.sk-label-container {position: relative;z-index: 2;text-align: center;}#sk-7d7ef47d-6e51-4b19-a06f-df5db5ff8675 div.sk-container {/* jupyter's `normalize.less` sets `[hidden] { display: none; }` but bootstrap.min.css set `[hidden] { display: none !important; }` so we also need the `!important` here to be able to override the default hidden behavior on the sphinx rendered scikit-learn.org. See: https://github.com/scikit-learn/scikit-learn/issues/21755 */display: inline-block !important;position: relative;}#sk-7d7ef47d-6e51-4b19-a06f-df5db5ff8675 div.sk-text-repr-fallback {display: none;}</style><div id=\"sk-7d7ef47d-6e51-4b19-a06f-df5db5ff8675\" class=\"sk-top-container\"><div class=\"sk-text-repr-fallback\"><pre>SVC(C=128, gamma=0.1)</pre><b>Please rerun this cell to show the HTML repr or trust the notebook.</b></div><div class=\"sk-container\" hidden><div class=\"sk-item\"><div class=\"sk-estimator sk-toggleable\"><input class=\"sk-toggleable__control sk-hidden--visually\" id=\"7c302e0e-ea12-4e73-a51d-e05808c196ad\" type=\"checkbox\" checked><label for=\"7c302e0e-ea12-4e73-a51d-e05808c196ad\" class=\"sk-toggleable__label sk-toggleable__label-arrow\">SVC</label><div class=\"sk-toggleable__content\"><pre>SVC(C=128, gamma=0.1)</pre></div></div></div></div></div>"
      ],
      "text/plain": [
       "SVC(C=128, gamma=0.1)"
      ]
     },
     "execution_count": 46,
     "metadata": {},
     "output_type": "execute_result"
    }
   ],
   "source": [
    "# Best estimator obtained from grid searching\n",
    "best_rbf_svc = gridsearch_svc.best_estimator_\n",
    "best_rbf_svc"
   ]
  },
  {
   "cell_type": "markdown",
   "id": "3562381d",
   "metadata": {},
   "source": [
    "### Best SVC Rbf"
   ]
  },
  {
   "cell_type": "code",
   "execution_count": 47,
   "id": "791a767a",
   "metadata": {},
   "outputs": [],
   "source": [
    "# Predicting X_test\n",
    "best_rbf_pred = best_rbf_svc.predict(X_test)"
   ]
  },
  {
   "cell_type": "code",
   "execution_count": 48,
   "id": "5f2c914c",
   "metadata": {},
   "outputs": [
    {
     "data": {
      "image/png": "[encoded data removed]",
      "text/plain": [
       "<Figure size 432x288 with 2 Axes>"
      ]
     },
     "metadata": {},
     "output_type": "display_data"
    }
   ],
   "source": [
    "# Confusion matrix\n",
    "cm_rbf_svc = confusion_matrix(y_test, best_rbf_pred)\n",
    "\n",
    "disp = ConfusionMatrixDisplay(confusion_matrix=cm_rbf_svc,\n",
    "                             display_labels=['Demented','Nondemented'])\n",
    "disp.plot(cmap = 'viridis')\n",
    "plt.grid(visible = None)\n",
    "plt.show()"
   ]
  },
  {
   "cell_type": "code",
   "execution_count": 49,
   "id": "35a8f649",
   "metadata": {},
   "outputs": [
    {
     "data": {
      "text/plain": [
       "0.7241379310344828"
      ]
     },
     "execution_count": 49,
     "metadata": {},
     "output_type": "execute_result"
    }
   ],
   "source": [
    "# Recall score\n",
    "recall_score(y_test, best_rbf_pred)"
   ]
  },
  {
   "cell_type": "markdown",
   "id": "725ceb5e",
   "metadata": {},
   "source": [
    "#  🤹 K Neighbors Classifier"
   ]
  },
  {
   "cell_type": "markdown",
   "id": "aa096b19",
   "metadata": {},
   "source": [
    "ELBOW METHOD"
   ]
  },
  {
   "cell_type": "code",
   "execution_count": 50,
   "id": "86c69a07",
   "metadata": {},
   "outputs": [],
   "source": [
    "# Instantiating KNeighborsClassifier\n",
    "neigh = KNeighborsClassifier()"
   ]
  },
  {
   "cell_type": "markdown",
   "id": "585b8eef",
   "metadata": {},
   "source": [
    "###  🤖 Grid Searching"
   ]
  },
  {
   "cell_type": "code",
   "execution_count": 51,
   "id": "c65ab898",
   "metadata": {},
   "outputs": [],
   "source": [
    "# Defining the parameter values that should be searched\n",
    "k_range = list(range(1, 31))\n",
    "\n",
    "# Creating a parameter grid: map the parameter names to the values that should be searched\n",
    "param_grid = dict(n_neighbors=k_range)"
   ]
  },
  {
   "cell_type": "code",
   "execution_count": 52,
   "id": "f96404da",
   "metadata": {},
   "outputs": [],
   "source": [
    "# Performing a grid search\n",
    "grid = GridSearchCV(neigh, \n",
    "                    param_grid, \n",
    "                    cv=10, \n",
    "                    scoring='recall')"
   ]
  },
  {
   "cell_type": "code",
   "execution_count": 53,
   "id": "a858fc7e",
   "metadata": {},
   "outputs": [
    {
     "data": {
      "text/html": [
       "<style>#sk-0790d10f-68b5-490b-86d6-53e122dcb0fd {color: black;background-color: white;}#sk-0790d10f-68b5-490b-86d6-53e122dcb0fd pre{padding: 0;}#sk-0790d10f-68b5-490b-86d6-53e122dcb0fd div.sk-toggleable {background-color: white;}#sk-0790d10f-68b5-490b-86d6-53e122dcb0fd label.sk-toggleable__label {cursor: pointer;display: block;width: 100%;margin-bottom: 0;padding: 0.3em;box-sizing: border-box;text-align: center;}#sk-0790d10f-68b5-490b-86d6-53e122dcb0fd label.sk-toggleable__label-arrow:before {content: \"▸\";float: left;margin-right: 0.25em;color: #696969;}#sk-0790d10f-68b5-490b-86d6-53e122dcb0fd label.sk-toggleable__label-arrow:hover:before {color: black;}#sk-0790d10f-68b5-490b-86d6-53e122dcb0fd div.sk-estimator:hover label.sk-toggleable__label-arrow:before {color: black;}#sk-0790d10f-68b5-490b-86d6-53e122dcb0fd div.sk-toggleable__content {max-height: 0;max-width: 0;overflow: hidden;text-align: left;background-color: #f0f8ff;}#sk-0790d10f-68b5-490b-86d6-53e122dcb0fd div.sk-toggleable__content pre {margin: 0.2em;color: black;border-radius: 0.25em;background-color: #f0f8ff;}#sk-0790d10f-68b5-490b-86d6-53e122dcb0fd input.sk-toggleable__control:checked~div.sk-toggleable__content {max-height: 200px;max-width: 100%;overflow: auto;}#sk-0790d10f-68b5-490b-86d6-53e122dcb0fd input.sk-toggleable__control:checked~label.sk-toggleable__label-arrow:before {content: \"▾\";}#sk-0790d10f-68b5-490b-86d6-53e122dcb0fd div.sk-estimator input.sk-toggleable__control:checked~label.sk-toggleable__label {background-color: #d4ebff;}#sk-0790d10f-68b5-490b-86d6-53e122dcb0fd div.sk-label input.sk-toggleable__control:checked~label.sk-toggleable__label {background-color: #d4ebff;}#sk-0790d10f-68b5-490b-86d6-53e122dcb0fd input.sk-hidden--visually {border: 0;clip: rect(1px 1px 1px 1px);clip: rect(1px, 1px, 1px, 1px);height: 1px;margin: -1px;overflow: hidden;padding: 0;position: absolute;width: 1px;}#sk-0790d10f-68b5-490b-86d6-53e122dcb0fd div.sk-estimator {font-family: monospace;background-color: #f0f8ff;border: 1px dotted black;border-radius: 0.25em;box-sizing: border-box;margin-bottom: 0.5em;}#sk-0790d10f-68b5-490b-86d6-53e122dcb0fd div.sk-estimator:hover {background-color: #d4ebff;}#sk-0790d10f-68b5-490b-86d6-53e122dcb0fd div.sk-parallel-item::after {content: \"\";width: 100%;border-bottom: 1px solid gray;flex-grow: 1;}#sk-0790d10f-68b5-490b-86d6-53e122dcb0fd div.sk-label:hover label.sk-toggleable__label {background-color: #d4ebff;}#sk-0790d10f-68b5-490b-86d6-53e122dcb0fd div.sk-serial::before {content: \"\";position: absolute;border-left: 1px solid gray;box-sizing: border-box;top: 2em;bottom: 0;left: 50%;}#sk-0790d10f-68b5-490b-86d6-53e122dcb0fd div.sk-serial {display: flex;flex-direction: column;align-items: center;background-color: white;padding-right: 0.2em;padding-left: 0.2em;}#sk-0790d10f-68b5-490b-86d6-53e122dcb0fd div.sk-item {z-index: 1;}#sk-0790d10f-68b5-490b-86d6-53e122dcb0fd div.sk-parallel {display: flex;align-items: stretch;justify-content: center;background-color: white;}#sk-0790d10f-68b5-490b-86d6-53e122dcb0fd div.sk-parallel::before {content: \"\";position: absolute;border-left: 1px solid gray;box-sizing: border-box;top: 2em;bottom: 0;left: 50%;}#sk-0790d10f-68b5-490b-86d6-53e122dcb0fd div.sk-parallel-item {display: flex;flex-direction: column;position: relative;background-color: white;}#sk-0790d10f-68b5-490b-86d6-53e122dcb0fd div.sk-parallel-item:first-child::after {align-self: flex-end;width: 50%;}#sk-0790d10f-68b5-490b-86d6-53e122dcb0fd div.sk-parallel-item:last-child::after {align-self: flex-start;width: 50%;}#sk-0790d10f-68b5-490b-86d6-53e122dcb0fd div.sk-parallel-item:only-child::after {width: 0;}#sk-0790d10f-68b5-490b-86d6-53e122dcb0fd div.sk-dashed-wrapped {border: 1px dashed gray;margin: 0 0.4em 0.5em 0.4em;box-sizing: border-box;padding-bottom: 0.4em;background-color: white;position: relative;}#sk-0790d10f-68b5-490b-86d6-53e122dcb0fd div.sk-label label {font-family: monospace;font-weight: bold;background-color: white;display: inline-block;line-height: 1.2em;}#sk-0790d10f-68b5-490b-86d6-53e122dcb0fd div.sk-label-container {position: relative;z-index: 2;text-align: center;}#sk-0790d10f-68b5-490b-86d6-53e122dcb0fd div.sk-container {/* jupyter's `normalize.less` sets `[hidden] { display: none; }` but bootstrap.min.css set `[hidden] { display: none !important; }` so we also need the `!important` here to be able to override the default hidden behavior on the sphinx rendered scikit-learn.org. See: https://github.com/scikit-learn/scikit-learn/issues/21755 */display: inline-block !important;position: relative;}#sk-0790d10f-68b5-490b-86d6-53e122dcb0fd div.sk-text-repr-fallback {display: none;}</style><div id=\"sk-0790d10f-68b5-490b-86d6-53e122dcb0fd\" class=\"sk-top-container\"><div class=\"sk-text-repr-fallback\"><pre>GridSearchCV(cv=10, estimator=KNeighborsClassifier(),\n",
       "             param_grid={&#x27;n_neighbors&#x27;: [1, 2, 3, 4, 5, 6, 7, 8, 9, 10, 11, 12,\n",
       "                                         13, 14, 15, 16, 17, 18, 19, 20, 21, 22,\n",
       "                                         23, 24, 25, 26, 27, 28, 29, 30]},\n",
       "             scoring=&#x27;recall&#x27;)</pre><b>Please rerun this cell to show the HTML repr or trust the notebook.</b></div><div class=\"sk-container\" hidden><div class=\"sk-item sk-dashed-wrapped\"><div class=\"sk-label-container\"><div class=\"sk-label sk-toggleable\"><input class=\"sk-toggleable__control sk-hidden--visually\" id=\"e3b0ae98-39dc-483b-a7b1-d58a4739af93\" type=\"checkbox\" ><label for=\"e3b0ae98-39dc-483b-a7b1-d58a4739af93\" class=\"sk-toggleable__label sk-toggleable__label-arrow\">GridSearchCV</label><div class=\"sk-toggleable__content\"><pre>GridSearchCV(cv=10, estimator=KNeighborsClassifier(),\n",
       "             param_grid={&#x27;n_neighbors&#x27;: [1, 2, 3, 4, 5, 6, 7, 8, 9, 10, 11, 12,\n",
       "                                         13, 14, 15, 16, 17, 18, 19, 20, 21, 22,\n",
       "                                         23, 24, 25, 26, 27, 28, 29, 30]},\n",
       "             scoring=&#x27;recall&#x27;)</pre></div></div></div><div class=\"sk-parallel\"><div class=\"sk-parallel-item\"><div class=\"sk-item\"><div class=\"sk-serial\"><div class=\"sk-item\"><div class=\"sk-estimator sk-toggleable\"><input class=\"sk-toggleable__control sk-hidden--visually\" id=\"971e39ab-2c52-40c1-9ca1-3e803c3d5c5b\" type=\"checkbox\" ><label for=\"971e39ab-2c52-40c1-9ca1-3e803c3d5c5b\" class=\"sk-toggleable__label sk-toggleable__label-arrow\">KNeighborsClassifier</label><div class=\"sk-toggleable__content\"><pre>KNeighborsClassifier()</pre></div></div></div></div></div></div></div></div></div></div>"
      ],
      "text/plain": [
       "GridSearchCV(cv=10, estimator=KNeighborsClassifier(),\n",
       "             param_grid={'n_neighbors': [1, 2, 3, 4, 5, 6, 7, 8, 9, 10, 11, 12,\n",
       "                                         13, 14, 15, 16, 17, 18, 19, 20, 21, 22,\n",
       "                                         23, 24, 25, 26, 27, 28, 29, 30]},\n",
       "             scoring='recall')"
      ]
     },
     "execution_count": 53,
     "metadata": {},
     "output_type": "execute_result"
    }
   ],
   "source": [
    "# Fitting grid on train set\n",
    "grid.fit(X_train, y_train)"
   ]
  },
  {
   "cell_type": "code",
   "execution_count": 54,
   "id": "0911ee02",
   "metadata": {},
   "outputs": [],
   "source": [
    "best_neigh = grid.best_estimator_"
   ]
  },
  {
   "cell_type": "markdown",
   "id": "0a1bc81f",
   "metadata": {},
   "source": [
    "### Best Neigh model"
   ]
  },
  {
   "cell_type": "code",
   "execution_count": 55,
   "id": "e0d9adc4",
   "metadata": {},
   "outputs": [
    {
     "data": {
      "text/html": [
       "<style>#sk-98ad075a-975c-495f-9d04-1f161cdd1c18 {color: black;background-color: white;}#sk-98ad075a-975c-495f-9d04-1f161cdd1c18 pre{padding: 0;}#sk-98ad075a-975c-495f-9d04-1f161cdd1c18 div.sk-toggleable {background-color: white;}#sk-98ad075a-975c-495f-9d04-1f161cdd1c18 label.sk-toggleable__label {cursor: pointer;display: block;width: 100%;margin-bottom: 0;padding: 0.3em;box-sizing: border-box;text-align: center;}#sk-98ad075a-975c-495f-9d04-1f161cdd1c18 label.sk-toggleable__label-arrow:before {content: \"▸\";float: left;margin-right: 0.25em;color: #696969;}#sk-98ad075a-975c-495f-9d04-1f161cdd1c18 label.sk-toggleable__label-arrow:hover:before {color: black;}#sk-98ad075a-975c-495f-9d04-1f161cdd1c18 div.sk-estimator:hover label.sk-toggleable__label-arrow:before {color: black;}#sk-98ad075a-975c-495f-9d04-1f161cdd1c18 div.sk-toggleable__content {max-height: 0;max-width: 0;overflow: hidden;text-align: left;background-color: #f0f8ff;}#sk-98ad075a-975c-495f-9d04-1f161cdd1c18 div.sk-toggleable__content pre {margin: 0.2em;color: black;border-radius: 0.25em;background-color: #f0f8ff;}#sk-98ad075a-975c-495f-9d04-1f161cdd1c18 input.sk-toggleable__control:checked~div.sk-toggleable__content {max-height: 200px;max-width: 100%;overflow: auto;}#sk-98ad075a-975c-495f-9d04-1f161cdd1c18 input.sk-toggleable__control:checked~label.sk-toggleable__label-arrow:before {content: \"▾\";}#sk-98ad075a-975c-495f-9d04-1f161cdd1c18 div.sk-estimator input.sk-toggleable__control:checked~label.sk-toggleable__label {background-color: #d4ebff;}#sk-98ad075a-975c-495f-9d04-1f161cdd1c18 div.sk-label input.sk-toggleable__control:checked~label.sk-toggleable__label {background-color: #d4ebff;}#sk-98ad075a-975c-495f-9d04-1f161cdd1c18 input.sk-hidden--visually {border: 0;clip: rect(1px 1px 1px 1px);clip: rect(1px, 1px, 1px, 1px);height: 1px;margin: -1px;overflow: hidden;padding: 0;position: absolute;width: 1px;}#sk-98ad075a-975c-495f-9d04-1f161cdd1c18 div.sk-estimator {font-family: monospace;background-color: #f0f8ff;border: 1px dotted black;border-radius: 0.25em;box-sizing: border-box;margin-bottom: 0.5em;}#sk-98ad075a-975c-495f-9d04-1f161cdd1c18 div.sk-estimator:hover {background-color: #d4ebff;}#sk-98ad075a-975c-495f-9d04-1f161cdd1c18 div.sk-parallel-item::after {content: \"\";width: 100%;border-bottom: 1px solid gray;flex-grow: 1;}#sk-98ad075a-975c-495f-9d04-1f161cdd1c18 div.sk-label:hover label.sk-toggleable__label {background-color: #d4ebff;}#sk-98ad075a-975c-495f-9d04-1f161cdd1c18 div.sk-serial::before {content: \"\";position: absolute;border-left: 1px solid gray;box-sizing: border-box;top: 2em;bottom: 0;left: 50%;}#sk-98ad075a-975c-495f-9d04-1f161cdd1c18 div.sk-serial {display: flex;flex-direction: column;align-items: center;background-color: white;padding-right: 0.2em;padding-left: 0.2em;}#sk-98ad075a-975c-495f-9d04-1f161cdd1c18 div.sk-item {z-index: 1;}#sk-98ad075a-975c-495f-9d04-1f161cdd1c18 div.sk-parallel {display: flex;align-items: stretch;justify-content: center;background-color: white;}#sk-98ad075a-975c-495f-9d04-1f161cdd1c18 div.sk-parallel::before {content: \"\";position: absolute;border-left: 1px solid gray;box-sizing: border-box;top: 2em;bottom: 0;left: 50%;}#sk-98ad075a-975c-495f-9d04-1f161cdd1c18 div.sk-parallel-item {display: flex;flex-direction: column;position: relative;background-color: white;}#sk-98ad075a-975c-495f-9d04-1f161cdd1c18 div.sk-parallel-item:first-child::after {align-self: flex-end;width: 50%;}#sk-98ad075a-975c-495f-9d04-1f161cdd1c18 div.sk-parallel-item:last-child::after {align-self: flex-start;width: 50%;}#sk-98ad075a-975c-495f-9d04-1f161cdd1c18 div.sk-parallel-item:only-child::after {width: 0;}#sk-98ad075a-975c-495f-9d04-1f161cdd1c18 div.sk-dashed-wrapped {border: 1px dashed gray;margin: 0 0.4em 0.5em 0.4em;box-sizing: border-box;padding-bottom: 0.4em;background-color: white;position: relative;}#sk-98ad075a-975c-495f-9d04-1f161cdd1c18 div.sk-label label {font-family: monospace;font-weight: bold;background-color: white;display: inline-block;line-height: 1.2em;}#sk-98ad075a-975c-495f-9d04-1f161cdd1c18 div.sk-label-container {position: relative;z-index: 2;text-align: center;}#sk-98ad075a-975c-495f-9d04-1f161cdd1c18 div.sk-container {/* jupyter's `normalize.less` sets `[hidden] { display: none; }` but bootstrap.min.css set `[hidden] { display: none !important; }` so we also need the `!important` here to be able to override the default hidden behavior on the sphinx rendered scikit-learn.org. See: https://github.com/scikit-learn/scikit-learn/issues/21755 */display: inline-block !important;position: relative;}#sk-98ad075a-975c-495f-9d04-1f161cdd1c18 div.sk-text-repr-fallback {display: none;}</style><div id=\"sk-98ad075a-975c-495f-9d04-1f161cdd1c18\" class=\"sk-top-container\"><div class=\"sk-text-repr-fallback\"><pre>KNeighborsClassifier(n_neighbors=3)</pre><b>Please rerun this cell to show the HTML repr or trust the notebook.</b></div><div class=\"sk-container\" hidden><div class=\"sk-item\"><div class=\"sk-estimator sk-toggleable\"><input class=\"sk-toggleable__control sk-hidden--visually\" id=\"2f758792-dfd1-48f4-a7ce-5c5950730b40\" type=\"checkbox\" checked><label for=\"2f758792-dfd1-48f4-a7ce-5c5950730b40\" class=\"sk-toggleable__label sk-toggleable__label-arrow\">KNeighborsClassifier</label><div class=\"sk-toggleable__content\"><pre>KNeighborsClassifier(n_neighbors=3)</pre></div></div></div></div></div>"
      ],
      "text/plain": [
       "KNeighborsClassifier(n_neighbors=3)"
      ]
     },
     "execution_count": 55,
     "metadata": {},
     "output_type": "execute_result"
    }
   ],
   "source": [
    "# Fitting KNeighborsClassifier\n",
    "best_neigh.fit(X_train, y_train)"
   ]
  },
  {
   "cell_type": "code",
   "execution_count": 56,
   "id": "b5b02609",
   "metadata": {},
   "outputs": [],
   "source": [
    "best_neigh_pred = best_neigh.predict(X_test)"
   ]
  },
  {
   "cell_type": "code",
   "execution_count": 57,
   "id": "120091ea",
   "metadata": {},
   "outputs": [
    {
     "data": {
      "image/png": "[encoded data removed]",
      "text/plain": [
       "<Figure size 432x288 with 2 Axes>"
      ]
     },
     "metadata": {},
     "output_type": "display_data"
    }
   ],
   "source": [
    "# Confusion matrix\n",
    "cm_neigh = confusion_matrix(y_test, best_neigh_pred)\n",
    "\n",
    "disp = ConfusionMatrixDisplay(confusion_matrix=cm_neigh,\n",
    "                             display_labels=['Demented','Nondemented'])\n",
    "disp.plot(cmap = 'viridis')\n",
    "plt.grid(visible = None)\n",
    "plt.show()"
   ]
  },
  {
   "cell_type": "code",
   "execution_count": 58,
   "id": "afc1a9c5",
   "metadata": {},
   "outputs": [
    {
     "data": {
      "text/plain": [
       "0.7241379310344828"
      ]
     },
     "execution_count": 58,
     "metadata": {},
     "output_type": "execute_result"
    }
   ],
   "source": [
    "recall_score(y_test, best_neigh_pred)"
   ]
  },
  {
   "cell_type": "markdown",
   "id": "7fb88f81",
   "metadata": {},
   "source": [
    "# Ensemble"
   ]
  },
  {
   "cell_type": "markdown",
   "id": "36da8315",
   "metadata": {},
   "source": [
    "## 🌳Decision Tree"
   ]
  },
  {
   "cell_type": "markdown",
   "id": "baa89e11",
   "metadata": {
    "heading_collapsed": true
   },
   "source": [
    "### Trial (just to practice)"
   ]
  },
  {
   "cell_type": "code",
   "execution_count": 59,
   "id": "712b3483",
   "metadata": {
    "hidden": true
   },
   "outputs": [
    {
     "data": {
      "text/plain": [
       "(array([0, 1]), array([93, 71]))"
      ]
     },
     "execution_count": 59,
     "metadata": {},
     "output_type": "execute_result"
    }
   ],
   "source": [
    "np.unique(y_train, return_counts = True)"
   ]
  },
  {
   "cell_type": "code",
   "execution_count": 60,
   "id": "cc88c292",
   "metadata": {
    "hidden": true
   },
   "outputs": [],
   "source": [
    "# Instantiating Decision Tree\n",
    "tree_clf = DecisionTreeClassifier(max_depth = 5)"
   ]
  },
  {
   "cell_type": "code",
   "execution_count": 61,
   "id": "6677aa45",
   "metadata": {
    "hidden": true
   },
   "outputs": [
    {
     "data": {
      "text/html": [
       "<style>#sk-f8e7f100-57c1-477b-8e25-95d2eba5c7c8 {color: black;background-color: white;}#sk-f8e7f100-57c1-477b-8e25-95d2eba5c7c8 pre{padding: 0;}#sk-f8e7f100-57c1-477b-8e25-95d2eba5c7c8 div.sk-toggleable {background-color: white;}#sk-f8e7f100-57c1-477b-8e25-95d2eba5c7c8 label.sk-toggleable__label {cursor: pointer;display: block;width: 100%;margin-bottom: 0;padding: 0.3em;box-sizing: border-box;text-align: center;}#sk-f8e7f100-57c1-477b-8e25-95d2eba5c7c8 label.sk-toggleable__label-arrow:before {content: \"▸\";float: left;margin-right: 0.25em;color: #696969;}#sk-f8e7f100-57c1-477b-8e25-95d2eba5c7c8 label.sk-toggleable__label-arrow:hover:before {color: black;}#sk-f8e7f100-57c1-477b-8e25-95d2eba5c7c8 div.sk-estimator:hover label.sk-toggleable__label-arrow:before {color: black;}#sk-f8e7f100-57c1-477b-8e25-95d2eba5c7c8 div.sk-toggleable__content {max-height: 0;max-width: 0;overflow: hidden;text-align: left;background-color: #f0f8ff;}#sk-f8e7f100-57c1-477b-8e25-95d2eba5c7c8 div.sk-toggleable__content pre {margin: 0.2em;color: black;border-radius: 0.25em;background-color: #f0f8ff;}#sk-f8e7f100-57c1-477b-8e25-95d2eba5c7c8 input.sk-toggleable__control:checked~div.sk-toggleable__content {max-height: 200px;max-width: 100%;overflow: auto;}#sk-f8e7f100-57c1-477b-8e25-95d2eba5c7c8 input.sk-toggleable__control:checked~label.sk-toggleable__label-arrow:before {content: \"▾\";}#sk-f8e7f100-57c1-477b-8e25-95d2eba5c7c8 div.sk-estimator input.sk-toggleable__control:checked~label.sk-toggleable__label {background-color: #d4ebff;}#sk-f8e7f100-57c1-477b-8e25-95d2eba5c7c8 div.sk-label input.sk-toggleable__control:checked~label.sk-toggleable__label {background-color: #d4ebff;}#sk-f8e7f100-57c1-477b-8e25-95d2eba5c7c8 input.sk-hidden--visually {border: 0;clip: rect(1px 1px 1px 1px);clip: rect(1px, 1px, 1px, 1px);height: 1px;margin: -1px;overflow: hidden;padding: 0;position: absolute;width: 1px;}#sk-f8e7f100-57c1-477b-8e25-95d2eba5c7c8 div.sk-estimator {font-family: monospace;background-color: #f0f8ff;border: 1px dotted black;border-radius: 0.25em;box-sizing: border-box;margin-bottom: 0.5em;}#sk-f8e7f100-57c1-477b-8e25-95d2eba5c7c8 div.sk-estimator:hover {background-color: #d4ebff;}#sk-f8e7f100-57c1-477b-8e25-95d2eba5c7c8 div.sk-parallel-item::after {content: \"\";width: 100%;border-bottom: 1px solid gray;flex-grow: 1;}#sk-f8e7f100-57c1-477b-8e25-95d2eba5c7c8 div.sk-label:hover label.sk-toggleable__label {background-color: #d4ebff;}#sk-f8e7f100-57c1-477b-8e25-95d2eba5c7c8 div.sk-serial::before {content: \"\";position: absolute;border-left: 1px solid gray;box-sizing: border-box;top: 2em;bottom: 0;left: 50%;}#sk-f8e7f100-57c1-477b-8e25-95d2eba5c7c8 div.sk-serial {display: flex;flex-direction: column;align-items: center;background-color: white;padding-right: 0.2em;padding-left: 0.2em;}#sk-f8e7f100-57c1-477b-8e25-95d2eba5c7c8 div.sk-item {z-index: 1;}#sk-f8e7f100-57c1-477b-8e25-95d2eba5c7c8 div.sk-parallel {display: flex;align-items: stretch;justify-content: center;background-color: white;}#sk-f8e7f100-57c1-477b-8e25-95d2eba5c7c8 div.sk-parallel::before {content: \"\";position: absolute;border-left: 1px solid gray;box-sizing: border-box;top: 2em;bottom: 0;left: 50%;}#sk-f8e7f100-57c1-477b-8e25-95d2eba5c7c8 div.sk-parallel-item {display: flex;flex-direction: column;position: relative;background-color: white;}#sk-f8e7f100-57c1-477b-8e25-95d2eba5c7c8 div.sk-parallel-item:first-child::after {align-self: flex-end;width: 50%;}#sk-f8e7f100-57c1-477b-8e25-95d2eba5c7c8 div.sk-parallel-item:last-child::after {align-self: flex-start;width: 50%;}#sk-f8e7f100-57c1-477b-8e25-95d2eba5c7c8 div.sk-parallel-item:only-child::after {width: 0;}#sk-f8e7f100-57c1-477b-8e25-95d2eba5c7c8 div.sk-dashed-wrapped {border: 1px dashed gray;margin: 0 0.4em 0.5em 0.4em;box-sizing: border-box;padding-bottom: 0.4em;background-color: white;position: relative;}#sk-f8e7f100-57c1-477b-8e25-95d2eba5c7c8 div.sk-label label {font-family: monospace;font-weight: bold;background-color: white;display: inline-block;line-height: 1.2em;}#sk-f8e7f100-57c1-477b-8e25-95d2eba5c7c8 div.sk-label-container {position: relative;z-index: 2;text-align: center;}#sk-f8e7f100-57c1-477b-8e25-95d2eba5c7c8 div.sk-container {/* jupyter's `normalize.less` sets `[hidden] { display: none; }` but bootstrap.min.css set `[hidden] { display: none !important; }` so we also need the `!important` here to be able to override the default hidden behavior on the sphinx rendered scikit-learn.org. See: https://github.com/scikit-learn/scikit-learn/issues/21755 */display: inline-block !important;position: relative;}#sk-f8e7f100-57c1-477b-8e25-95d2eba5c7c8 div.sk-text-repr-fallback {display: none;}</style><div id=\"sk-f8e7f100-57c1-477b-8e25-95d2eba5c7c8\" class=\"sk-top-container\"><div class=\"sk-text-repr-fallback\"><pre>DecisionTreeClassifier(max_depth=5)</pre><b>Please rerun this cell to show the HTML repr or trust the notebook.</b></div><div class=\"sk-container\" hidden><div class=\"sk-item\"><div class=\"sk-estimator sk-toggleable\"><input class=\"sk-toggleable__control sk-hidden--visually\" id=\"3380fda2-0964-49f7-8057-95848867fdd6\" type=\"checkbox\" checked><label for=\"3380fda2-0964-49f7-8057-95848867fdd6\" class=\"sk-toggleable__label sk-toggleable__label-arrow\">DecisionTreeClassifier</label><div class=\"sk-toggleable__content\"><pre>DecisionTreeClassifier(max_depth=5)</pre></div></div></div></div></div>"
      ],
      "text/plain": [
       "DecisionTreeClassifier(max_depth=5)"
      ]
     },
     "execution_count": 61,
     "metadata": {},
     "output_type": "execute_result"
    }
   ],
   "source": [
    "# Fitting decision tree\n",
    "tree_clf.fit(X_train_trial,y_train)"
   ]
  },
  {
   "cell_type": "code",
   "execution_count": 62,
   "id": "813591ad",
   "metadata": {
    "hidden": true
   },
   "outputs": [
    {
     "data": {
      "text/plain": [
       "array([0, 0, 1, 0, 0, 0, 0, 0, 0, 1, 0, 0, 1, 0, 1, 1, 0, 1, 1, 1, 0, 0,\n",
       "       0, 1, 0, 0, 0, 0, 1, 1, 1, 0, 0, 0, 0, 1, 1, 0, 0, 1, 0, 1, 0, 1,\n",
       "       1, 0, 0, 0, 0, 1, 1, 1, 0, 0, 1, 0, 0, 1, 0, 0, 1, 1, 1, 0, 0, 0,\n",
       "       1, 1, 1, 1, 0])"
      ]
     },
     "execution_count": 62,
     "metadata": {},
     "output_type": "execute_result"
    }
   ],
   "source": [
    "# Predicting X_test\n",
    "prediction = tree_clf.predict(X_test)\n",
    "prediction"
   ]
  },
  {
   "cell_type": "code",
   "execution_count": 63,
   "id": "c2ade7aa",
   "metadata": {
    "hidden": true
   },
   "outputs": [
    {
     "data": {
      "text/plain": [
       "0.6896551724137931"
      ]
     },
     "execution_count": 63,
     "metadata": {},
     "output_type": "execute_result"
    }
   ],
   "source": [
    "# Accuracy\n",
    "recall_score(y_test, prediction)"
   ]
  },
  {
   "cell_type": "code",
   "execution_count": 64,
   "id": "221fca1b",
   "metadata": {
    "hidden": true
   },
   "outputs": [
    {
     "data": {
      "image/svg+xml": [
       "<?xml version=\"1.0\" encoding=\"UTF-8\" standalone=\"no\"?>\n",
       "<!DOCTYPE svg PUBLIC \"-//W3C//DTD SVG 1.1//EN\"\n",
       " \"http://www.w3.org/Graphics/SVG/1.1/DTD/svg11.dtd\">\n",
       "<!-- Generated by graphviz version 2.43.0 (0)\n",
       " -->\n",
       "<!-- Title: Tree Pages: 1 -->\n",
       "<svg width=\"2242pt\" height=\"1030pt\"\n",
       " viewBox=\"0.00 0.00 2242.00 1030.00\" xmlns=\"http://www.w3.org/2000/svg\" xmlns:xlink=\"http://www.w3.org/1999/xlink\">\n",
       "<g id=\"graph0\" class=\"graph\" transform=\"scale(1 1) rotate(0) translate(4 1026)\">\n",
       "<title>Tree</title>\n",
       "<polygon fill=\"white\" stroke=\"transparent\" points=\"-4,4 -4,-1026 2238,-1026 2238,4 -4,4\"/>\n",
       "<!-- 0 -->\n",
       "<g id=\"node1\" class=\"node\">\n",
       "<title>0</title>\n",
       "<path fill=\"#f9e1d0\" stroke=\"black\" d=\"M365,-520.5C365,-520.5 12,-520.5 12,-520.5 6,-520.5 0,-514.5 0,-508.5 0,-508.5 0,-449.5 0,-449.5 0,-443.5 6,-437.5 12,-437.5 12,-437.5 365,-437.5 365,-437.5 371,-437.5 377,-443.5 377,-449.5 377,-449.5 377,-508.5 377,-508.5 377,-514.5 371,-520.5 365,-520.5\"/>\n",
       "<text text-anchor=\"middle\" x=\"188.5\" y=\"-505.3\" font-family=\"futura\" font-size=\"14.00\">num_transformer__robust_scaler__MMSE &lt;= &#45;0.125</text>\n",
       "<text text-anchor=\"middle\" x=\"188.5\" y=\"-490.3\" font-family=\"futura\" font-size=\"14.00\">gini = 0.491</text>\n",
       "<text text-anchor=\"middle\" x=\"188.5\" y=\"-475.3\" font-family=\"futura\" font-size=\"14.00\">samples = 164</text>\n",
       "<text text-anchor=\"middle\" x=\"188.5\" y=\"-460.3\" font-family=\"futura\" font-size=\"14.00\">value = [93, 71]</text>\n",
       "<text text-anchor=\"middle\" x=\"188.5\" y=\"-445.3\" font-family=\"futura\" font-size=\"14.00\">class = nondemented</text>\n",
       "</g>\n",
       "<!-- 1 -->\n",
       "<g id=\"node2\" class=\"node\">\n",
       "<title>1</title>\n",
       "<path fill=\"#78bced\" stroke=\"black\" d=\"M778,-660.5C778,-660.5 425,-660.5 425,-660.5 419,-660.5 413,-654.5 413,-648.5 413,-648.5 413,-589.5 413,-589.5 413,-583.5 419,-577.5 425,-577.5 425,-577.5 778,-577.5 778,-577.5 784,-577.5 790,-583.5 790,-589.5 790,-589.5 790,-648.5 790,-648.5 790,-654.5 784,-660.5 778,-660.5\"/>\n",
       "<text text-anchor=\"middle\" x=\"601.5\" y=\"-645.3\" font-family=\"futura\" font-size=\"14.00\">num_transformer__robust_scaler__MMSE &lt;= &#45;1.125</text>\n",
       "<text text-anchor=\"middle\" x=\"601.5\" y=\"-630.3\" font-family=\"futura\" font-size=\"14.00\">gini = 0.365</text>\n",
       "<text text-anchor=\"middle\" x=\"601.5\" y=\"-615.3\" font-family=\"futura\" font-size=\"14.00\">samples = 79</text>\n",
       "<text text-anchor=\"middle\" x=\"601.5\" y=\"-600.3\" font-family=\"futura\" font-size=\"14.00\">value = [19, 60]</text>\n",
       "<text text-anchor=\"middle\" x=\"601.5\" y=\"-585.3\" font-family=\"futura\" font-size=\"14.00\">class = demented</text>\n",
       "</g>\n",
       "<!-- 0&#45;&gt;1 -->\n",
       "<g id=\"edge1\" class=\"edge\">\n",
       "<title>0&#45;&gt;1</title>\n",
       "<path fill=\"none\" stroke=\"black\" d=\"M311.42,-520.53C361,-537.42 418.41,-556.97 468.93,-574.18\"/>\n",
       "<polygon fill=\"black\" stroke=\"black\" points=\"468.02,-577.57 478.61,-577.48 470.28,-570.94 468.02,-577.57\"/>\n",
       "<text text-anchor=\"middle\" x=\"456.18\" y=\"-584.81\" font-family=\"futura\" font-size=\"14.00\">True</text>\n",
       "</g>\n",
       "<!-- 16 -->\n",
       "<g id=\"node17\" class=\"node\">\n",
       "<title>16</title>\n",
       "<path fill=\"#e99456\" stroke=\"black\" d=\"M754,-403.5C754,-403.5 449,-403.5 449,-403.5 443,-403.5 437,-397.5 437,-391.5 437,-391.5 437,-332.5 437,-332.5 437,-326.5 443,-320.5 449,-320.5 449,-320.5 754,-320.5 754,-320.5 760,-320.5 766,-326.5 766,-332.5 766,-332.5 766,-391.5 766,-391.5 766,-397.5 760,-403.5 754,-403.5\"/>\n",
       "<text text-anchor=\"middle\" x=\"601.5\" y=\"-388.3\" font-family=\"futura\" font-size=\"14.00\">cat_transformer__ohe_binary__M/F_M &lt;= 0.5</text>\n",
       "<text text-anchor=\"middle\" x=\"601.5\" y=\"-373.3\" font-family=\"futura\" font-size=\"14.00\">gini = 0.225</text>\n",
       "<text text-anchor=\"middle\" x=\"601.5\" y=\"-358.3\" font-family=\"futura\" font-size=\"14.00\">samples = 85</text>\n",
       "<text text-anchor=\"middle\" x=\"601.5\" y=\"-343.3\" font-family=\"futura\" font-size=\"14.00\">value = [74, 11]</text>\n",
       "<text text-anchor=\"middle\" x=\"601.5\" y=\"-328.3\" font-family=\"futura\" font-size=\"14.00\">class = nondemented</text>\n",
       "</g>\n",
       "<!-- 0&#45;&gt;16 -->\n",
       "<g id=\"edge16\" class=\"edge\">\n",
       "<title>0&#45;&gt;16</title>\n",
       "<path fill=\"none\" stroke=\"black\" d=\"M335.56,-437.42C370.89,-427.36 408.78,-416.58 444.54,-406.4\"/>\n",
       "<polygon fill=\"black\" stroke=\"black\" points=\"445.9,-409.65 454.56,-403.54 443.99,-402.92 445.9,-409.65\"/>\n",
       "<text text-anchor=\"middle\" x=\"432.72\" y=\"-387.68\" font-family=\"futura\" font-size=\"14.00\">False</text>\n",
       "</g>\n",
       "<!-- 2 -->\n",
       "<g id=\"node3\" class=\"node\">\n",
       "<title>2</title>\n",
       "<path fill=\"#399de5\" stroke=\"black\" d=\"M1075.5,-747C1075.5,-747 956.5,-747 956.5,-747 950.5,-747 944.5,-741 944.5,-735 944.5,-735 944.5,-691 944.5,-691 944.5,-685 950.5,-679 956.5,-679 956.5,-679 1075.5,-679 1075.5,-679 1081.5,-679 1087.5,-685 1087.5,-691 1087.5,-691 1087.5,-735 1087.5,-735 1087.5,-741 1081.5,-747 1075.5,-747\"/>\n",
       "<text text-anchor=\"middle\" x=\"1016\" y=\"-731.8\" font-family=\"futura\" font-size=\"14.00\">gini = 0.0</text>\n",
       "<text text-anchor=\"middle\" x=\"1016\" y=\"-716.8\" font-family=\"futura\" font-size=\"14.00\">samples = 37</text>\n",
       "<text text-anchor=\"middle\" x=\"1016\" y=\"-701.8\" font-family=\"futura\" font-size=\"14.00\">value = [0, 37]</text>\n",
       "<text text-anchor=\"middle\" x=\"1016\" y=\"-686.8\" font-family=\"futura\" font-size=\"14.00\">class = demented</text>\n",
       "</g>\n",
       "<!-- 1&#45;&gt;2 -->\n",
       "<g id=\"edge2\" class=\"edge\">\n",
       "<title>1&#45;&gt;2</title>\n",
       "<path fill=\"none\" stroke=\"black\" d=\"M784.55,-660.55C798.57,-663.75 812.52,-666.93 826,-670 861.38,-678.06 900.5,-686.96 933.92,-694.56\"/>\n",
       "<polygon fill=\"black\" stroke=\"black\" points=\"933.57,-698.07 944.1,-696.88 935.12,-691.25 933.57,-698.07\"/>\n",
       "</g>\n",
       "<!-- 3 -->\n",
       "<g id=\"node4\" class=\"node\">\n",
       "<title>3</title>\n",
       "<path fill=\"#ddeefa\" stroke=\"black\" d=\"M1179,-660.5C1179,-660.5 853,-660.5 853,-660.5 847,-660.5 841,-654.5 841,-648.5 841,-648.5 841,-589.5 841,-589.5 841,-583.5 847,-577.5 853,-577.5 853,-577.5 1179,-577.5 1179,-577.5 1185,-577.5 1191,-583.5 1191,-589.5 1191,-589.5 1191,-648.5 1191,-648.5 1191,-654.5 1185,-660.5 1179,-660.5\"/>\n",
       "<text text-anchor=\"middle\" x=\"1016\" y=\"-645.3\" font-family=\"futura\" font-size=\"14.00\">num_transformer__remainder__nWBV &lt;= 0.748</text>\n",
       "<text text-anchor=\"middle\" x=\"1016\" y=\"-630.3\" font-family=\"futura\" font-size=\"14.00\">gini = 0.495</text>\n",
       "<text text-anchor=\"middle\" x=\"1016\" y=\"-615.3\" font-family=\"futura\" font-size=\"14.00\">samples = 42</text>\n",
       "<text text-anchor=\"middle\" x=\"1016\" y=\"-600.3\" font-family=\"futura\" font-size=\"14.00\">value = [19, 23]</text>\n",
       "<text text-anchor=\"middle\" x=\"1016\" y=\"-585.3\" font-family=\"futura\" font-size=\"14.00\">class = demented</text>\n",
       "</g>\n",
       "<!-- 1&#45;&gt;3 -->\n",
       "<g id=\"edge3\" class=\"edge\">\n",
       "<title>1&#45;&gt;3</title>\n",
       "<path fill=\"none\" stroke=\"black\" d=\"M790.04,-619C803.52,-619 817.11,-619 830.58,-619\"/>\n",
       "<polygon fill=\"black\" stroke=\"black\" points=\"830.85,-622.5 840.85,-619 830.85,-615.5 830.85,-622.5\"/>\n",
       "</g>\n",
       "<!-- 4 -->\n",
       "<g id=\"node5\" class=\"node\">\n",
       "<title>4</title>\n",
       "<path fill=\"#7bbeee\" stroke=\"black\" d=\"M1601.5,-815.5C1601.5,-815.5 1259.5,-815.5 1259.5,-815.5 1253.5,-815.5 1247.5,-809.5 1247.5,-803.5 1247.5,-803.5 1247.5,-744.5 1247.5,-744.5 1247.5,-738.5 1253.5,-732.5 1259.5,-732.5 1259.5,-732.5 1601.5,-732.5 1601.5,-732.5 1607.5,-732.5 1613.5,-738.5 1613.5,-744.5 1613.5,-744.5 1613.5,-803.5 1613.5,-803.5 1613.5,-809.5 1607.5,-815.5 1601.5,-815.5\"/>\n",
       "<text text-anchor=\"middle\" x=\"1430.5\" y=\"-800.3\" font-family=\"futura\" font-size=\"14.00\">num_transformer__robust_scaler__eTIV &lt;= &#45;0.534</text>\n",
       "<text text-anchor=\"middle\" x=\"1430.5\" y=\"-785.3\" font-family=\"futura\" font-size=\"14.00\">gini = 0.375</text>\n",
       "<text text-anchor=\"middle\" x=\"1430.5\" y=\"-770.3\" font-family=\"futura\" font-size=\"14.00\">samples = 24</text>\n",
       "<text text-anchor=\"middle\" x=\"1430.5\" y=\"-755.3\" font-family=\"futura\" font-size=\"14.00\">value = [6, 18]</text>\n",
       "<text text-anchor=\"middle\" x=\"1430.5\" y=\"-740.3\" font-family=\"futura\" font-size=\"14.00\">class = demented</text>\n",
       "</g>\n",
       "<!-- 3&#45;&gt;4 -->\n",
       "<g id=\"edge4\" class=\"edge\">\n",
       "<title>3&#45;&gt;4</title>\n",
       "<path fill=\"none\" stroke=\"black\" d=\"M1178.44,-660.55C1187.81,-663.58 1197.06,-666.74 1206,-670 1251.14,-686.45 1299.67,-708.48 1339.93,-728.02\"/>\n",
       "<polygon fill=\"black\" stroke=\"black\" points=\"1338.4,-731.16 1348.92,-732.41 1341.47,-724.87 1338.4,-731.16\"/>\n",
       "</g>\n",
       "<!-- 11 -->\n",
       "<g id=\"node12\" class=\"node\">\n",
       "<title>11</title>\n",
       "<path fill=\"#efb185\" stroke=\"black\" d=\"M1607,-660.5C1607,-660.5 1254,-660.5 1254,-660.5 1248,-660.5 1242,-654.5 1242,-648.5 1242,-648.5 1242,-589.5 1242,-589.5 1242,-583.5 1248,-577.5 1254,-577.5 1254,-577.5 1607,-577.5 1607,-577.5 1613,-577.5 1619,-583.5 1619,-589.5 1619,-589.5 1619,-648.5 1619,-648.5 1619,-654.5 1613,-660.5 1607,-660.5\"/>\n",
       "<text text-anchor=\"middle\" x=\"1430.5\" y=\"-645.3\" font-family=\"futura\" font-size=\"14.00\">num_transformer__robust_scaler__MMSE &lt;= &#45;0.375</text>\n",
       "<text text-anchor=\"middle\" x=\"1430.5\" y=\"-630.3\" font-family=\"futura\" font-size=\"14.00\">gini = 0.401</text>\n",
       "<text text-anchor=\"middle\" x=\"1430.5\" y=\"-615.3\" font-family=\"futura\" font-size=\"14.00\">samples = 18</text>\n",
       "<text text-anchor=\"middle\" x=\"1430.5\" y=\"-600.3\" font-family=\"futura\" font-size=\"14.00\">value = [13, 5]</text>\n",
       "<text text-anchor=\"middle\" x=\"1430.5\" y=\"-585.3\" font-family=\"futura\" font-size=\"14.00\">class = nondemented</text>\n",
       "</g>\n",
       "<!-- 3&#45;&gt;11 -->\n",
       "<g id=\"edge11\" class=\"edge\">\n",
       "<title>3&#45;&gt;11</title>\n",
       "<path fill=\"none\" stroke=\"black\" d=\"M1191.04,-619C1204.45,-619 1218.05,-619 1231.61,-619\"/>\n",
       "<polygon fill=\"black\" stroke=\"black\" points=\"1231.96,-622.5 1241.95,-619 1231.95,-615.5 1231.96,-622.5\"/>\n",
       "</g>\n",
       "<!-- 5 -->\n",
       "<g id=\"node6\" class=\"node\">\n",
       "<title>5</title>\n",
       "<path fill=\"#eeab7b\" stroke=\"black\" d=\"M2017,-943.5C2017,-943.5 1667,-943.5 1667,-943.5 1661,-943.5 1655,-937.5 1655,-931.5 1655,-931.5 1655,-872.5 1655,-872.5 1655,-866.5 1661,-860.5 1667,-860.5 1667,-860.5 2017,-860.5 2017,-860.5 2023,-860.5 2029,-866.5 2029,-872.5 2029,-872.5 2029,-931.5 2029,-931.5 2029,-937.5 2023,-943.5 2017,-943.5\"/>\n",
       "<text text-anchor=\"middle\" x=\"1842\" y=\"-928.3\" font-family=\"futura\" font-size=\"14.00\">num_transformer__standard_scaler__Age &lt;= 0.748</text>\n",
       "<text text-anchor=\"middle\" x=\"1842\" y=\"-913.3\" font-family=\"futura\" font-size=\"14.00\">gini = 0.375</text>\n",
       "<text text-anchor=\"middle\" x=\"1842\" y=\"-898.3\" font-family=\"futura\" font-size=\"14.00\">samples = 4</text>\n",
       "<text text-anchor=\"middle\" x=\"1842\" y=\"-883.3\" font-family=\"futura\" font-size=\"14.00\">value = [3, 1]</text>\n",
       "<text text-anchor=\"middle\" x=\"1842\" y=\"-868.3\" font-family=\"futura\" font-size=\"14.00\">class = nondemented</text>\n",
       "</g>\n",
       "<!-- 4&#45;&gt;5 -->\n",
       "<g id=\"edge5\" class=\"edge\">\n",
       "<title>4&#45;&gt;5</title>\n",
       "<path fill=\"none\" stroke=\"black\" d=\"M1564.45,-815.56C1607.22,-828.93 1654.78,-843.79 1698.23,-857.37\"/>\n",
       "<polygon fill=\"black\" stroke=\"black\" points=\"1697.43,-860.79 1708.01,-860.43 1699.51,-854.11 1697.43,-860.79\"/>\n",
       "</g>\n",
       "<!-- 8 -->\n",
       "<g id=\"node9\" class=\"node\">\n",
       "<title>8</title>\n",
       "<path fill=\"#5caeea\" stroke=\"black\" d=\"M2005,-815.5C2005,-815.5 1679,-815.5 1679,-815.5 1673,-815.5 1667,-809.5 1667,-803.5 1667,-803.5 1667,-744.5 1667,-744.5 1667,-738.5 1673,-732.5 1679,-732.5 1679,-732.5 2005,-732.5 2005,-732.5 2011,-732.5 2017,-738.5 2017,-744.5 2017,-744.5 2017,-803.5 2017,-803.5 2017,-809.5 2011,-815.5 2005,-815.5\"/>\n",
       "<text text-anchor=\"middle\" x=\"1842\" y=\"-800.3\" font-family=\"futura\" font-size=\"14.00\">num_transformer__remainder__nWBV &lt;= 0.707</text>\n",
       "<text text-anchor=\"middle\" x=\"1842\" y=\"-785.3\" font-family=\"futura\" font-size=\"14.00\">gini = 0.255</text>\n",
       "<text text-anchor=\"middle\" x=\"1842\" y=\"-770.3\" font-family=\"futura\" font-size=\"14.00\">samples = 20</text>\n",
       "<text text-anchor=\"middle\" x=\"1842\" y=\"-755.3\" font-family=\"futura\" font-size=\"14.00\">value = [3, 17]</text>\n",
       "<text text-anchor=\"middle\" x=\"1842\" y=\"-740.3\" font-family=\"futura\" font-size=\"14.00\">class = demented</text>\n",
       "</g>\n",
       "<!-- 4&#45;&gt;8 -->\n",
       "<g id=\"edge8\" class=\"edge\">\n",
       "<title>4&#45;&gt;8</title>\n",
       "<path fill=\"none\" stroke=\"black\" d=\"M1613.8,-774C1627.97,-774 1642.28,-774 1656.47,-774\"/>\n",
       "<polygon fill=\"black\" stroke=\"black\" points=\"1656.77,-777.5 1666.77,-774 1656.77,-770.5 1656.77,-777.5\"/>\n",
       "</g>\n",
       "<!-- 6 -->\n",
       "<g id=\"node7\" class=\"node\">\n",
       "<title>6</title>\n",
       "<path fill=\"#399de5\" stroke=\"black\" d=\"M2209,-1022C2209,-1022 2090,-1022 2090,-1022 2084,-1022 2078,-1016 2078,-1010 2078,-1010 2078,-966 2078,-966 2078,-960 2084,-954 2090,-954 2090,-954 2209,-954 2209,-954 2215,-954 2221,-960 2221,-966 2221,-966 2221,-1010 2221,-1010 2221,-1016 2215,-1022 2209,-1022\"/>\n",
       "<text text-anchor=\"middle\" x=\"2149.5\" y=\"-1006.8\" font-family=\"futura\" font-size=\"14.00\">gini = 0.0</text>\n",
       "<text text-anchor=\"middle\" x=\"2149.5\" y=\"-991.8\" font-family=\"futura\" font-size=\"14.00\">samples = 1</text>\n",
       "<text text-anchor=\"middle\" x=\"2149.5\" y=\"-976.8\" font-family=\"futura\" font-size=\"14.00\">value = [0, 1]</text>\n",
       "<text text-anchor=\"middle\" x=\"2149.5\" y=\"-961.8\" font-family=\"futura\" font-size=\"14.00\">class = demented</text>\n",
       "</g>\n",
       "<!-- 5&#45;&gt;6 -->\n",
       "<g id=\"edge6\" class=\"edge\">\n",
       "<title>5&#45;&gt;6</title>\n",
       "<path fill=\"none\" stroke=\"black\" d=\"M1990.83,-943.61C2017.47,-951.11 2044.3,-958.67 2068.1,-965.37\"/>\n",
       "<polygon fill=\"black\" stroke=\"black\" points=\"2067.18,-968.74 2077.75,-968.08 2069.07,-962 2067.18,-968.74\"/>\n",
       "</g>\n",
       "<!-- 7 -->\n",
       "<g id=\"node8\" class=\"node\">\n",
       "<title>7</title>\n",
       "<path fill=\"#e58139\" stroke=\"black\" d=\"M2222,-936C2222,-936 2077,-936 2077,-936 2071,-936 2065,-930 2065,-924 2065,-924 2065,-880 2065,-880 2065,-874 2071,-868 2077,-868 2077,-868 2222,-868 2222,-868 2228,-868 2234,-874 2234,-880 2234,-880 2234,-924 2234,-924 2234,-930 2228,-936 2222,-936\"/>\n",
       "<text text-anchor=\"middle\" x=\"2149.5\" y=\"-920.8\" font-family=\"futura\" font-size=\"14.00\">gini = 0.0</text>\n",
       "<text text-anchor=\"middle\" x=\"2149.5\" y=\"-905.8\" font-family=\"futura\" font-size=\"14.00\">samples = 3</text>\n",
       "<text text-anchor=\"middle\" x=\"2149.5\" y=\"-890.8\" font-family=\"futura\" font-size=\"14.00\">value = [3, 0]</text>\n",
       "<text text-anchor=\"middle\" x=\"2149.5\" y=\"-875.8\" font-family=\"futura\" font-size=\"14.00\">class = nondemented</text>\n",
       "</g>\n",
       "<!-- 5&#45;&gt;7 -->\n",
       "<g id=\"edge7\" class=\"edge\">\n",
       "<title>5&#45;&gt;7</title>\n",
       "<path fill=\"none\" stroke=\"black\" d=\"M2029.07,-902C2037.84,-902 2046.46,-902 2054.79,-902\"/>\n",
       "<polygon fill=\"black\" stroke=\"black\" points=\"2054.82,-905.5 2064.82,-902 2054.82,-898.5 2054.82,-905.5\"/>\n",
       "</g>\n",
       "<!-- 9 -->\n",
       "<g id=\"node10\" class=\"node\">\n",
       "<title>9</title>\n",
       "<path fill=\"#9ccef2\" stroke=\"black\" d=\"M2209,-850C2209,-850 2090,-850 2090,-850 2084,-850 2078,-844 2078,-838 2078,-838 2078,-794 2078,-794 2078,-788 2084,-782 2090,-782 2090,-782 2209,-782 2209,-782 2215,-782 2221,-788 2221,-794 2221,-794 2221,-838 2221,-838 2221,-844 2215,-850 2209,-850\"/>\n",
       "<text text-anchor=\"middle\" x=\"2149.5\" y=\"-834.8\" font-family=\"futura\" font-size=\"14.00\">gini = 0.444</text>\n",
       "<text text-anchor=\"middle\" x=\"2149.5\" y=\"-819.8\" font-family=\"futura\" font-size=\"14.00\">samples = 9</text>\n",
       "<text text-anchor=\"middle\" x=\"2149.5\" y=\"-804.8\" font-family=\"futura\" font-size=\"14.00\">value = [3, 6]</text>\n",
       "<text text-anchor=\"middle\" x=\"2149.5\" y=\"-789.8\" font-family=\"futura\" font-size=\"14.00\">class = demented</text>\n",
       "</g>\n",
       "<!-- 8&#45;&gt;9 -->\n",
       "<g id=\"edge9\" class=\"edge\">\n",
       "<title>8&#45;&gt;9</title>\n",
       "<path fill=\"none\" stroke=\"black\" d=\"M2017.17,-797.94C2034.64,-800.35 2051.74,-802.7 2067.51,-804.87\"/>\n",
       "<polygon fill=\"black\" stroke=\"black\" points=\"2067.3,-808.37 2077.68,-806.26 2068.25,-801.43 2067.3,-808.37\"/>\n",
       "</g>\n",
       "<!-- 10 -->\n",
       "<g id=\"node11\" class=\"node\">\n",
       "<title>10</title>\n",
       "<path fill=\"#399de5\" stroke=\"black\" d=\"M2209,-764C2209,-764 2090,-764 2090,-764 2084,-764 2078,-758 2078,-752 2078,-752 2078,-708 2078,-708 2078,-702 2084,-696 2090,-696 2090,-696 2209,-696 2209,-696 2215,-696 2221,-702 2221,-708 2221,-708 2221,-752 2221,-752 2221,-758 2215,-764 2209,-764\"/>\n",
       "<text text-anchor=\"middle\" x=\"2149.5\" y=\"-748.8\" font-family=\"futura\" font-size=\"14.00\">gini = 0.0</text>\n",
       "<text text-anchor=\"middle\" x=\"2149.5\" y=\"-733.8\" font-family=\"futura\" font-size=\"14.00\">samples = 11</text>\n",
       "<text text-anchor=\"middle\" x=\"2149.5\" y=\"-718.8\" font-family=\"futura\" font-size=\"14.00\">value = [0, 11]</text>\n",
       "<text text-anchor=\"middle\" x=\"2149.5\" y=\"-703.8\" font-family=\"futura\" font-size=\"14.00\">class = demented</text>\n",
       "</g>\n",
       "<!-- 8&#45;&gt;10 -->\n",
       "<g id=\"edge10\" class=\"edge\">\n",
       "<title>8&#45;&gt;10</title>\n",
       "<path fill=\"none\" stroke=\"black\" d=\"M2017.17,-748.92C2034.64,-746.4 2051.74,-743.94 2067.51,-741.66\"/>\n",
       "<polygon fill=\"black\" stroke=\"black\" points=\"2068.28,-745.09 2077.68,-740.2 2067.28,-738.16 2068.28,-745.09\"/>\n",
       "</g>\n",
       "<!-- 12 -->\n",
       "<g id=\"node13\" class=\"node\">\n",
       "<title>12</title>\n",
       "<path fill=\"#e58139\" stroke=\"black\" d=\"M1914.5,-700C1914.5,-700 1769.5,-700 1769.5,-700 1763.5,-700 1757.5,-694 1757.5,-688 1757.5,-688 1757.5,-644 1757.5,-644 1757.5,-638 1763.5,-632 1769.5,-632 1769.5,-632 1914.5,-632 1914.5,-632 1920.5,-632 1926.5,-638 1926.5,-644 1926.5,-644 1926.5,-688 1926.5,-688 1926.5,-694 1920.5,-700 1914.5,-700\"/>\n",
       "<text text-anchor=\"middle\" x=\"1842\" y=\"-684.8\" font-family=\"futura\" font-size=\"14.00\">gini = 0.0</text>\n",
       "<text text-anchor=\"middle\" x=\"1842\" y=\"-669.8\" font-family=\"futura\" font-size=\"14.00\">samples = 5</text>\n",
       "<text text-anchor=\"middle\" x=\"1842\" y=\"-654.8\" font-family=\"futura\" font-size=\"14.00\">value = [5, 0]</text>\n",
       "<text text-anchor=\"middle\" x=\"1842\" y=\"-639.8\" font-family=\"futura\" font-size=\"14.00\">class = nondemented</text>\n",
       "</g>\n",
       "<!-- 11&#45;&gt;12 -->\n",
       "<g id=\"edge12\" class=\"edge\">\n",
       "<title>11&#45;&gt;12</title>\n",
       "<path fill=\"none\" stroke=\"black\" d=\"M1619.17,-640.54C1663.6,-645.64 1709.11,-650.86 1747.25,-655.24\"/>\n",
       "<polygon fill=\"black\" stroke=\"black\" points=\"1746.96,-658.73 1757.29,-656.39 1747.76,-651.78 1746.96,-658.73\"/>\n",
       "</g>\n",
       "<!-- 13 -->\n",
       "<g id=\"node14\" class=\"node\">\n",
       "<title>13</title>\n",
       "<path fill=\"#f5d0b5\" stroke=\"black\" d=\"M1998,-613.5C1998,-613.5 1686,-613.5 1686,-613.5 1680,-613.5 1674,-607.5 1674,-601.5 1674,-601.5 1674,-542.5 1674,-542.5 1674,-536.5 1680,-530.5 1686,-530.5 1686,-530.5 1998,-530.5 1998,-530.5 2004,-530.5 2010,-536.5 2010,-542.5 2010,-542.5 2010,-601.5 2010,-601.5 2010,-607.5 2004,-613.5 1998,-613.5\"/>\n",
       "<text text-anchor=\"middle\" x=\"1842\" y=\"-598.3\" font-family=\"futura\" font-size=\"14.00\">num_transformer__remainder__ASF &lt;= 1.176</text>\n",
       "<text text-anchor=\"middle\" x=\"1842\" y=\"-583.3\" font-family=\"futura\" font-size=\"14.00\">gini = 0.473</text>\n",
       "<text text-anchor=\"middle\" x=\"1842\" y=\"-568.3\" font-family=\"futura\" font-size=\"14.00\">samples = 13</text>\n",
       "<text text-anchor=\"middle\" x=\"1842\" y=\"-553.3\" font-family=\"futura\" font-size=\"14.00\">value = [8, 5]</text>\n",
       "<text text-anchor=\"middle\" x=\"1842\" y=\"-538.3\" font-family=\"futura\" font-size=\"14.00\">class = nondemented</text>\n",
       "</g>\n",
       "<!-- 11&#45;&gt;13 -->\n",
       "<g id=\"edge13\" class=\"edge\">\n",
       "<title>11&#45;&gt;13</title>\n",
       "<path fill=\"none\" stroke=\"black\" d=\"M1619.17,-597.46C1633.96,-595.76 1648.87,-594.05 1663.59,-592.36\"/>\n",
       "<polygon fill=\"black\" stroke=\"black\" points=\"1664.21,-595.81 1673.74,-591.2 1663.41,-588.86 1664.21,-595.81\"/>\n",
       "</g>\n",
       "<!-- 14 -->\n",
       "<g id=\"node15\" class=\"node\">\n",
       "<title>14</title>\n",
       "<path fill=\"#e58139\" stroke=\"black\" d=\"M2222,-678C2222,-678 2077,-678 2077,-678 2071,-678 2065,-672 2065,-666 2065,-666 2065,-622 2065,-622 2065,-616 2071,-610 2077,-610 2077,-610 2222,-610 2222,-610 2228,-610 2234,-616 2234,-622 2234,-622 2234,-666 2234,-666 2234,-672 2228,-678 2222,-678\"/>\n",
       "<text text-anchor=\"middle\" x=\"2149.5\" y=\"-662.8\" font-family=\"futura\" font-size=\"14.00\">gini = 0.0</text>\n",
       "<text text-anchor=\"middle\" x=\"2149.5\" y=\"-647.8\" font-family=\"futura\" font-size=\"14.00\">samples = 4</text>\n",
       "<text text-anchor=\"middle\" x=\"2149.5\" y=\"-632.8\" font-family=\"futura\" font-size=\"14.00\">value = [4, 0]</text>\n",
       "<text text-anchor=\"middle\" x=\"2149.5\" y=\"-617.8\" font-family=\"futura\" font-size=\"14.00\">class = nondemented</text>\n",
       "</g>\n",
       "<!-- 13&#45;&gt;14 -->\n",
       "<g id=\"edge14\" class=\"edge\">\n",
       "<title>13&#45;&gt;14</title>\n",
       "<path fill=\"none\" stroke=\"black\" d=\"M2010.05,-611.37C2025.44,-615 2040.64,-618.58 2055.01,-621.97\"/>\n",
       "<polygon fill=\"black\" stroke=\"black\" points=\"2054.28,-625.39 2064.82,-624.28 2055.89,-618.58 2054.28,-625.39\"/>\n",
       "</g>\n",
       "<!-- 15 -->\n",
       "<g id=\"node16\" class=\"node\">\n",
       "<title>15</title>\n",
       "<path fill=\"#d7ebfa\" stroke=\"black\" d=\"M2209,-592C2209,-592 2090,-592 2090,-592 2084,-592 2078,-586 2078,-580 2078,-580 2078,-536 2078,-536 2078,-530 2084,-524 2090,-524 2090,-524 2209,-524 2209,-524 2215,-524 2221,-530 2221,-536 2221,-536 2221,-580 2221,-580 2221,-586 2215,-592 2209,-592\"/>\n",
       "<text text-anchor=\"middle\" x=\"2149.5\" y=\"-576.8\" font-family=\"futura\" font-size=\"14.00\">gini = 0.494</text>\n",
       "<text text-anchor=\"middle\" x=\"2149.5\" y=\"-561.8\" font-family=\"futura\" font-size=\"14.00\">samples = 9</text>\n",
       "<text text-anchor=\"middle\" x=\"2149.5\" y=\"-546.8\" font-family=\"futura\" font-size=\"14.00\">value = [4, 5]</text>\n",
       "<text text-anchor=\"middle\" x=\"2149.5\" y=\"-531.8\" font-family=\"futura\" font-size=\"14.00\">class = demented</text>\n",
       "</g>\n",
       "<!-- 13&#45;&gt;15 -->\n",
       "<g id=\"edge15\" class=\"edge\">\n",
       "<title>13&#45;&gt;15</title>\n",
       "<path fill=\"none\" stroke=\"black\" d=\"M2010.05,-564.34C2030.06,-563.43 2049.73,-562.53 2067.69,-561.7\"/>\n",
       "<polygon fill=\"black\" stroke=\"black\" points=\"2067.94,-565.2 2077.76,-561.24 2067.61,-558.2 2067.94,-565.2\"/>\n",
       "</g>\n",
       "<!-- 17 -->\n",
       "<g id=\"node18\" class=\"node\">\n",
       "<title>17</title>\n",
       "<path fill=\"#e68844\" stroke=\"black\" d=\"M1192.5,-403.5C1192.5,-403.5 839.5,-403.5 839.5,-403.5 833.5,-403.5 827.5,-397.5 827.5,-391.5 827.5,-391.5 827.5,-332.5 827.5,-332.5 827.5,-326.5 833.5,-320.5 839.5,-320.5 839.5,-320.5 1192.5,-320.5 1192.5,-320.5 1198.5,-320.5 1204.5,-326.5 1204.5,-332.5 1204.5,-332.5 1204.5,-391.5 1204.5,-391.5 1204.5,-397.5 1198.5,-403.5 1192.5,-403.5\"/>\n",
       "<text text-anchor=\"middle\" x=\"1016\" y=\"-388.3\" font-family=\"futura\" font-size=\"14.00\">num_transformer__minmax_scaler__Educ &lt;= 0.625</text>\n",
       "<text text-anchor=\"middle\" x=\"1016\" y=\"-373.3\" font-family=\"futura\" font-size=\"14.00\">gini = 0.101</text>\n",
       "<text text-anchor=\"middle\" x=\"1016\" y=\"-358.3\" font-family=\"futura\" font-size=\"14.00\">samples = 56</text>\n",
       "<text text-anchor=\"middle\" x=\"1016\" y=\"-343.3\" font-family=\"futura\" font-size=\"14.00\">value = [53, 3]</text>\n",
       "<text text-anchor=\"middle\" x=\"1016\" y=\"-328.3\" font-family=\"futura\" font-size=\"14.00\">class = nondemented</text>\n",
       "</g>\n",
       "<!-- 16&#45;&gt;17 -->\n",
       "<g id=\"edge17\" class=\"edge\">\n",
       "<title>16&#45;&gt;17</title>\n",
       "<path fill=\"none\" stroke=\"black\" d=\"M766.12,-362C782.95,-362 800.18,-362 817.32,-362\"/>\n",
       "<polygon fill=\"black\" stroke=\"black\" points=\"817.41,-365.5 827.41,-362 817.41,-358.5 817.41,-365.5\"/>\n",
       "</g>\n",
       "<!-- 26 -->\n",
       "<g id=\"node27\" class=\"node\">\n",
       "<title>26</title>\n",
       "<path fill=\"#efb184\" stroke=\"black\" d=\"M1194,-263.5C1194,-263.5 838,-263.5 838,-263.5 832,-263.5 826,-257.5 826,-251.5 826,-251.5 826,-192.5 826,-192.5 826,-186.5 832,-180.5 838,-180.5 838,-180.5 1194,-180.5 1194,-180.5 1200,-180.5 1206,-186.5 1206,-192.5 1206,-192.5 1206,-251.5 1206,-251.5 1206,-257.5 1200,-263.5 1194,-263.5\"/>\n",
       "<text text-anchor=\"middle\" x=\"1016\" y=\"-248.3\" font-family=\"futura\" font-size=\"14.00\">num_transformer__standard_scaler__Age &lt;= &#45;0.605</text>\n",
       "<text text-anchor=\"middle\" x=\"1016\" y=\"-233.3\" font-family=\"futura\" font-size=\"14.00\">gini = 0.4</text>\n",
       "<text text-anchor=\"middle\" x=\"1016\" y=\"-218.3\" font-family=\"futura\" font-size=\"14.00\">samples = 29</text>\n",
       "<text text-anchor=\"middle\" x=\"1016\" y=\"-203.3\" font-family=\"futura\" font-size=\"14.00\">value = [21, 8]</text>\n",
       "<text text-anchor=\"middle\" x=\"1016\" y=\"-188.3\" font-family=\"futura\" font-size=\"14.00\">class = nondemented</text>\n",
       "</g>\n",
       "<!-- 16&#45;&gt;26 -->\n",
       "<g id=\"edge26\" class=\"edge\">\n",
       "<title>16&#45;&gt;26</title>\n",
       "<path fill=\"none\" stroke=\"black\" d=\"M724.87,-320.47C774.63,-303.58 832.24,-284.03 882.95,-266.82\"/>\n",
       "<polygon fill=\"black\" stroke=\"black\" points=\"884.32,-270.05 892.67,-263.52 882.07,-263.42 884.32,-270.05\"/>\n",
       "</g>\n",
       "<!-- 18 -->\n",
       "<g id=\"node19\" class=\"node\">\n",
       "<title>18</title>\n",
       "<path fill=\"#e89152\" stroke=\"black\" d=\"M1601.5,-443.5C1601.5,-443.5 1259.5,-443.5 1259.5,-443.5 1253.5,-443.5 1247.5,-437.5 1247.5,-431.5 1247.5,-431.5 1247.5,-372.5 1247.5,-372.5 1247.5,-366.5 1253.5,-360.5 1259.5,-360.5 1259.5,-360.5 1601.5,-360.5 1601.5,-360.5 1607.5,-360.5 1613.5,-366.5 1613.5,-372.5 1613.5,-372.5 1613.5,-431.5 1613.5,-431.5 1613.5,-437.5 1607.5,-443.5 1601.5,-443.5\"/>\n",
       "<text text-anchor=\"middle\" x=\"1430.5\" y=\"-428.3\" font-family=\"futura\" font-size=\"14.00\">num_transformer__robust_scaler__eTIV &lt;= &#45;0.996</text>\n",
       "<text text-anchor=\"middle\" x=\"1430.5\" y=\"-413.3\" font-family=\"futura\" font-size=\"14.00\">gini = 0.198</text>\n",
       "<text text-anchor=\"middle\" x=\"1430.5\" y=\"-398.3\" font-family=\"futura\" font-size=\"14.00\">samples = 27</text>\n",
       "<text text-anchor=\"middle\" x=\"1430.5\" y=\"-383.3\" font-family=\"futura\" font-size=\"14.00\">value = [24, 3]</text>\n",
       "<text text-anchor=\"middle\" x=\"1430.5\" y=\"-368.3\" font-family=\"futura\" font-size=\"14.00\">class = nondemented</text>\n",
       "</g>\n",
       "<!-- 17&#45;&gt;18 -->\n",
       "<g id=\"edge18\" class=\"edge\">\n",
       "<title>17&#45;&gt;18</title>\n",
       "<path fill=\"none\" stroke=\"black\" d=\"M1204.54,-380.19C1215.46,-381.24 1226.45,-382.31 1237.38,-383.37\"/>\n",
       "<polygon fill=\"black\" stroke=\"black\" points=\"1237.11,-386.86 1247.4,-384.34 1237.79,-379.89 1237.11,-386.86\"/>\n",
       "</g>\n",
       "<!-- 25 -->\n",
       "<g id=\"node26\" class=\"node\">\n",
       "<title>25</title>\n",
       "<path fill=\"#e58139\" stroke=\"black\" d=\"M1503,-342C1503,-342 1358,-342 1358,-342 1352,-342 1346,-336 1346,-330 1346,-330 1346,-286 1346,-286 1346,-280 1352,-274 1358,-274 1358,-274 1503,-274 1503,-274 1509,-274 1515,-280 1515,-286 1515,-286 1515,-330 1515,-330 1515,-336 1509,-342 1503,-342\"/>\n",
       "<text text-anchor=\"middle\" x=\"1430.5\" y=\"-326.8\" font-family=\"futura\" font-size=\"14.00\">gini = 0.0</text>\n",
       "<text text-anchor=\"middle\" x=\"1430.5\" y=\"-311.8\" font-family=\"futura\" font-size=\"14.00\">samples = 29</text>\n",
       "<text text-anchor=\"middle\" x=\"1430.5\" y=\"-296.8\" font-family=\"futura\" font-size=\"14.00\">value = [29, 0]</text>\n",
       "<text text-anchor=\"middle\" x=\"1430.5\" y=\"-281.8\" font-family=\"futura\" font-size=\"14.00\">class = nondemented</text>\n",
       "</g>\n",
       "<!-- 17&#45;&gt;25 -->\n",
       "<g id=\"edge25\" class=\"edge\">\n",
       "<title>17&#45;&gt;25</title>\n",
       "<path fill=\"none\" stroke=\"black\" d=\"M1204.54,-337.45C1249.96,-331.5 1296.61,-325.4 1335.56,-320.3\"/>\n",
       "<polygon fill=\"black\" stroke=\"black\" points=\"1336.35,-323.72 1345.81,-318.96 1335.44,-316.78 1336.35,-323.72\"/>\n",
       "</g>\n",
       "<!-- 19 -->\n",
       "<g id=\"node20\" class=\"node\">\n",
       "<title>19</title>\n",
       "<path fill=\"#ffffff\" stroke=\"black\" d=\"M1998,-443.5C1998,-443.5 1686,-443.5 1686,-443.5 1680,-443.5 1674,-437.5 1674,-431.5 1674,-431.5 1674,-372.5 1674,-372.5 1674,-366.5 1680,-360.5 1686,-360.5 1686,-360.5 1998,-360.5 1998,-360.5 2004,-360.5 2010,-366.5 2010,-372.5 2010,-372.5 2010,-431.5 2010,-431.5 2010,-437.5 2004,-443.5 1998,-443.5\"/>\n",
       "<text text-anchor=\"middle\" x=\"1842\" y=\"-428.3\" font-family=\"futura\" font-size=\"14.00\">num_transformer__remainder__ASF &lt;= 1.423</text>\n",
       "<text text-anchor=\"middle\" x=\"1842\" y=\"-413.3\" font-family=\"futura\" font-size=\"14.00\">gini = 0.5</text>\n",
       "<text text-anchor=\"middle\" x=\"1842\" y=\"-398.3\" font-family=\"futura\" font-size=\"14.00\">samples = 2</text>\n",
       "<text text-anchor=\"middle\" x=\"1842\" y=\"-383.3\" font-family=\"futura\" font-size=\"14.00\">value = [1, 1]</text>\n",
       "<text text-anchor=\"middle\" x=\"1842\" y=\"-368.3\" font-family=\"futura\" font-size=\"14.00\">class = nondemented</text>\n",
       "</g>\n",
       "<!-- 18&#45;&gt;19 -->\n",
       "<g id=\"edge19\" class=\"edge\">\n",
       "<title>18&#45;&gt;19</title>\n",
       "<path fill=\"none\" stroke=\"black\" d=\"M1613.8,-402C1630.32,-402 1647.05,-402 1663.53,-402\"/>\n",
       "<polygon fill=\"black\" stroke=\"black\" points=\"1663.76,-405.5 1673.76,-402 1663.76,-398.5 1663.76,-405.5\"/>\n",
       "</g>\n",
       "<!-- 22 -->\n",
       "<g id=\"node23\" class=\"node\">\n",
       "<title>22</title>\n",
       "<path fill=\"#e78c4a\" stroke=\"black\" d=\"M2016,-341.5C2016,-341.5 1668,-341.5 1668,-341.5 1662,-341.5 1656,-335.5 1656,-329.5 1656,-329.5 1656,-270.5 1656,-270.5 1656,-264.5 1662,-258.5 1668,-258.5 1668,-258.5 2016,-258.5 2016,-258.5 2022,-258.5 2028,-264.5 2028,-270.5 2028,-270.5 2028,-329.5 2028,-329.5 2028,-335.5 2022,-341.5 2016,-341.5\"/>\n",
       "<text text-anchor=\"middle\" x=\"1842\" y=\"-326.3\" font-family=\"futura\" font-size=\"14.00\">num_transformer__robust_scaler__MMSE &lt;= 0.125</text>\n",
       "<text text-anchor=\"middle\" x=\"1842\" y=\"-311.3\" font-family=\"futura\" font-size=\"14.00\">gini = 0.147</text>\n",
       "<text text-anchor=\"middle\" x=\"1842\" y=\"-296.3\" font-family=\"futura\" font-size=\"14.00\">samples = 25</text>\n",
       "<text text-anchor=\"middle\" x=\"1842\" y=\"-281.3\" font-family=\"futura\" font-size=\"14.00\">value = [23, 2]</text>\n",
       "<text text-anchor=\"middle\" x=\"1842\" y=\"-266.3\" font-family=\"futura\" font-size=\"14.00\">class = nondemented</text>\n",
       "</g>\n",
       "<!-- 18&#45;&gt;22 -->\n",
       "<g id=\"edge22\" class=\"edge\">\n",
       "<title>18&#45;&gt;22</title>\n",
       "<path fill=\"none\" stroke=\"black\" d=\"M1598.35,-360.44C1620.14,-355.01 1642.51,-349.44 1664.45,-343.98\"/>\n",
       "<polygon fill=\"black\" stroke=\"black\" points=\"1665.3,-347.37 1674.15,-341.56 1663.6,-340.58 1665.3,-347.37\"/>\n",
       "</g>\n",
       "<!-- 20 -->\n",
       "<g id=\"node21\" class=\"node\">\n",
       "<title>20</title>\n",
       "<path fill=\"#399de5\" stroke=\"black\" d=\"M2209,-506C2209,-506 2090,-506 2090,-506 2084,-506 2078,-500 2078,-494 2078,-494 2078,-450 2078,-450 2078,-444 2084,-438 2090,-438 2090,-438 2209,-438 2209,-438 2215,-438 2221,-444 2221,-450 2221,-450 2221,-494 2221,-494 2221,-500 2215,-506 2209,-506\"/>\n",
       "<text text-anchor=\"middle\" x=\"2149.5\" y=\"-490.8\" font-family=\"futura\" font-size=\"14.00\">gini = 0.0</text>\n",
       "<text text-anchor=\"middle\" x=\"2149.5\" y=\"-475.8\" font-family=\"futura\" font-size=\"14.00\">samples = 1</text>\n",
       "<text text-anchor=\"middle\" x=\"2149.5\" y=\"-460.8\" font-family=\"futura\" font-size=\"14.00\">value = [0, 1]</text>\n",
       "<text text-anchor=\"middle\" x=\"2149.5\" y=\"-445.8\" font-family=\"futura\" font-size=\"14.00\">class = demented</text>\n",
       "</g>\n",
       "<!-- 19&#45;&gt;20 -->\n",
       "<g id=\"edge20\" class=\"edge\">\n",
       "<title>19&#45;&gt;20</title>\n",
       "<path fill=\"none\" stroke=\"black\" d=\"M2010.05,-440.28C2030.15,-444.88 2049.92,-449.41 2067.94,-453.54\"/>\n",
       "<polygon fill=\"black\" stroke=\"black\" points=\"2067.24,-456.97 2077.76,-455.79 2068.8,-450.15 2067.24,-456.97\"/>\n",
       "</g>\n",
       "<!-- 21 -->\n",
       "<g id=\"node22\" class=\"node\">\n",
       "<title>21</title>\n",
       "<path fill=\"#e58139\" stroke=\"black\" d=\"M2222,-420C2222,-420 2077,-420 2077,-420 2071,-420 2065,-414 2065,-408 2065,-408 2065,-364 2065,-364 2065,-358 2071,-352 2077,-352 2077,-352 2222,-352 2222,-352 2228,-352 2234,-358 2234,-364 2234,-364 2234,-408 2234,-408 2234,-414 2228,-420 2222,-420\"/>\n",
       "<text text-anchor=\"middle\" x=\"2149.5\" y=\"-404.8\" font-family=\"futura\" font-size=\"14.00\">gini = 0.0</text>\n",
       "<text text-anchor=\"middle\" x=\"2149.5\" y=\"-389.8\" font-family=\"futura\" font-size=\"14.00\">samples = 1</text>\n",
       "<text text-anchor=\"middle\" x=\"2149.5\" y=\"-374.8\" font-family=\"futura\" font-size=\"14.00\">value = [1, 0]</text>\n",
       "<text text-anchor=\"middle\" x=\"2149.5\" y=\"-359.8\" font-family=\"futura\" font-size=\"14.00\">class = nondemented</text>\n",
       "</g>\n",
       "<!-- 19&#45;&gt;21 -->\n",
       "<g id=\"edge21\" class=\"edge\">\n",
       "<title>19&#45;&gt;21</title>\n",
       "<path fill=\"none\" stroke=\"black\" d=\"M2010.05,-393.25C2025.3,-392.45 2040.35,-391.66 2054.6,-390.92\"/>\n",
       "<polygon fill=\"black\" stroke=\"black\" points=\"2055.02,-394.4 2064.82,-390.38 2054.65,-387.41 2055.02,-394.4\"/>\n",
       "</g>\n",
       "<!-- 23 -->\n",
       "<g id=\"node24\" class=\"node\">\n",
       "<title>23</title>\n",
       "<path fill=\"#e58139\" stroke=\"black\" d=\"M2222,-334C2222,-334 2077,-334 2077,-334 2071,-334 2065,-328 2065,-322 2065,-322 2065,-278 2065,-278 2065,-272 2071,-266 2077,-266 2077,-266 2222,-266 2222,-266 2228,-266 2234,-272 2234,-278 2234,-278 2234,-322 2234,-322 2234,-328 2228,-334 2222,-334\"/>\n",
       "<text text-anchor=\"middle\" x=\"2149.5\" y=\"-318.8\" font-family=\"futura\" font-size=\"14.00\">gini = 0.0</text>\n",
       "<text text-anchor=\"middle\" x=\"2149.5\" y=\"-303.8\" font-family=\"futura\" font-size=\"14.00\">samples = 11</text>\n",
       "<text text-anchor=\"middle\" x=\"2149.5\" y=\"-288.8\" font-family=\"futura\" font-size=\"14.00\">value = [11, 0]</text>\n",
       "<text text-anchor=\"middle\" x=\"2149.5\" y=\"-273.8\" font-family=\"futura\" font-size=\"14.00\">class = nondemented</text>\n",
       "</g>\n",
       "<!-- 22&#45;&gt;23 -->\n",
       "<g id=\"edge23\" class=\"edge\">\n",
       "<title>22&#45;&gt;23</title>\n",
       "<path fill=\"none\" stroke=\"black\" d=\"M2028.2,-300C2037.19,-300 2046.03,-300 2054.58,-300\"/>\n",
       "<polygon fill=\"black\" stroke=\"black\" points=\"2054.86,-303.5 2064.86,-300 2054.86,-296.5 2054.86,-303.5\"/>\n",
       "</g>\n",
       "<!-- 24 -->\n",
       "<g id=\"node25\" class=\"node\">\n",
       "<title>24</title>\n",
       "<path fill=\"#e9965a\" stroke=\"black\" d=\"M2222,-248C2222,-248 2077,-248 2077,-248 2071,-248 2065,-242 2065,-236 2065,-236 2065,-192 2065,-192 2065,-186 2071,-180 2077,-180 2077,-180 2222,-180 2222,-180 2228,-180 2234,-186 2234,-192 2234,-192 2234,-236 2234,-236 2234,-242 2228,-248 2222,-248\"/>\n",
       "<text text-anchor=\"middle\" x=\"2149.5\" y=\"-232.8\" font-family=\"futura\" font-size=\"14.00\">gini = 0.245</text>\n",
       "<text text-anchor=\"middle\" x=\"2149.5\" y=\"-217.8\" font-family=\"futura\" font-size=\"14.00\">samples = 14</text>\n",
       "<text text-anchor=\"middle\" x=\"2149.5\" y=\"-202.8\" font-family=\"futura\" font-size=\"14.00\">value = [12, 2]</text>\n",
       "<text text-anchor=\"middle\" x=\"2149.5\" y=\"-187.8\" font-family=\"futura\" font-size=\"14.00\">class = nondemented</text>\n",
       "</g>\n",
       "<!-- 22&#45;&gt;24 -->\n",
       "<g id=\"edge24\" class=\"edge\">\n",
       "<title>22&#45;&gt;24</title>\n",
       "<path fill=\"none\" stroke=\"black\" d=\"M1990.83,-258.39C2012.69,-252.23 2034.68,-246.04 2055.01,-240.32\"/>\n",
       "<polygon fill=\"black\" stroke=\"black\" points=\"2056.18,-243.63 2064.85,-237.55 2054.28,-236.89 2056.18,-243.63\"/>\n",
       "</g>\n",
       "<!-- 27 -->\n",
       "<g id=\"node28\" class=\"node\">\n",
       "<title>27</title>\n",
       "<path fill=\"#e58139\" stroke=\"black\" d=\"M1503,-256C1503,-256 1358,-256 1358,-256 1352,-256 1346,-250 1346,-244 1346,-244 1346,-200 1346,-200 1346,-194 1352,-188 1358,-188 1358,-188 1503,-188 1503,-188 1509,-188 1515,-194 1515,-200 1515,-200 1515,-244 1515,-244 1515,-250 1509,-256 1503,-256\"/>\n",
       "<text text-anchor=\"middle\" x=\"1430.5\" y=\"-240.8\" font-family=\"futura\" font-size=\"14.00\">gini = 0.0</text>\n",
       "<text text-anchor=\"middle\" x=\"1430.5\" y=\"-225.8\" font-family=\"futura\" font-size=\"14.00\">samples = 11</text>\n",
       "<text text-anchor=\"middle\" x=\"1430.5\" y=\"-210.8\" font-family=\"futura\" font-size=\"14.00\">value = [11, 0]</text>\n",
       "<text text-anchor=\"middle\" x=\"1430.5\" y=\"-195.8\" font-family=\"futura\" font-size=\"14.00\">class = nondemented</text>\n",
       "</g>\n",
       "<!-- 26&#45;&gt;27 -->\n",
       "<g id=\"edge27\" class=\"edge\">\n",
       "<title>26&#45;&gt;27</title>\n",
       "<path fill=\"none\" stroke=\"black\" d=\"M1206.05,-222C1251.09,-222 1297.24,-222 1335.81,-222\"/>\n",
       "<polygon fill=\"black\" stroke=\"black\" points=\"1335.97,-225.5 1345.97,-222 1335.97,-218.5 1335.97,-225.5\"/>\n",
       "</g>\n",
       "<!-- 28 -->\n",
       "<g id=\"node29\" class=\"node\">\n",
       "<title>28</title>\n",
       "<path fill=\"#fae6d7\" stroke=\"black\" d=\"M1607,-169.5C1607,-169.5 1254,-169.5 1254,-169.5 1248,-169.5 1242,-163.5 1242,-157.5 1242,-157.5 1242,-98.5 1242,-98.5 1242,-92.5 1248,-86.5 1254,-86.5 1254,-86.5 1607,-86.5 1607,-86.5 1613,-86.5 1619,-92.5 1619,-98.5 1619,-98.5 1619,-157.5 1619,-157.5 1619,-163.5 1613,-169.5 1607,-169.5\"/>\n",
       "<text text-anchor=\"middle\" x=\"1430.5\" y=\"-154.3\" font-family=\"futura\" font-size=\"14.00\">num_transformer__minmax_scaler__Educ &lt;= 0.875</text>\n",
       "<text text-anchor=\"middle\" x=\"1430.5\" y=\"-139.3\" font-family=\"futura\" font-size=\"14.00\">gini = 0.494</text>\n",
       "<text text-anchor=\"middle\" x=\"1430.5\" y=\"-124.3\" font-family=\"futura\" font-size=\"14.00\">samples = 18</text>\n",
       "<text text-anchor=\"middle\" x=\"1430.5\" y=\"-109.3\" font-family=\"futura\" font-size=\"14.00\">value = [10, 8]</text>\n",
       "<text text-anchor=\"middle\" x=\"1430.5\" y=\"-94.3\" font-family=\"futura\" font-size=\"14.00\">class = nondemented</text>\n",
       "</g>\n",
       "<!-- 26&#45;&gt;28 -->\n",
       "<g id=\"edge28\" class=\"edge\">\n",
       "<title>26&#45;&gt;28</title>\n",
       "<path fill=\"none\" stroke=\"black\" d=\"M1199.13,-180.5C1211.86,-177.6 1224.71,-174.67 1237.49,-171.76\"/>\n",
       "<polygon fill=\"black\" stroke=\"black\" points=\"1238.27,-175.17 1247.24,-169.53 1236.71,-168.34 1238.27,-175.17\"/>\n",
       "</g>\n",
       "<!-- 29 -->\n",
       "<g id=\"node30\" class=\"node\">\n",
       "<title>29</title>\n",
       "<path fill=\"#83c2ef\" stroke=\"black\" d=\"M2017,-169.5C2017,-169.5 1667,-169.5 1667,-169.5 1661,-169.5 1655,-163.5 1655,-157.5 1655,-157.5 1655,-98.5 1655,-98.5 1655,-92.5 1661,-86.5 1667,-86.5 1667,-86.5 2017,-86.5 2017,-86.5 2023,-86.5 2029,-92.5 2029,-98.5 2029,-98.5 2029,-157.5 2029,-157.5 2029,-163.5 2023,-169.5 2017,-169.5\"/>\n",
       "<text text-anchor=\"middle\" x=\"1842\" y=\"-154.3\" font-family=\"futura\" font-size=\"14.00\">num_transformer__standard_scaler__Age &lt;= 1.086</text>\n",
       "<text text-anchor=\"middle\" x=\"1842\" y=\"-139.3\" font-family=\"futura\" font-size=\"14.00\">gini = 0.397</text>\n",
       "<text text-anchor=\"middle\" x=\"1842\" y=\"-124.3\" font-family=\"futura\" font-size=\"14.00\">samples = 11</text>\n",
       "<text text-anchor=\"middle\" x=\"1842\" y=\"-109.3\" font-family=\"futura\" font-size=\"14.00\">value = [3, 8]</text>\n",
       "<text text-anchor=\"middle\" x=\"1842\" y=\"-94.3\" font-family=\"futura\" font-size=\"14.00\">class = demented</text>\n",
       "</g>\n",
       "<!-- 28&#45;&gt;29 -->\n",
       "<g id=\"edge29\" class=\"edge\">\n",
       "<title>28&#45;&gt;29</title>\n",
       "<path fill=\"none\" stroke=\"black\" d=\"M1619.17,-128C1627.72,-128 1636.3,-128 1644.87,-128\"/>\n",
       "<polygon fill=\"black\" stroke=\"black\" points=\"1644.91,-131.5 1654.91,-128 1644.91,-124.5 1644.91,-131.5\"/>\n",
       "</g>\n",
       "<!-- 32 -->\n",
       "<g id=\"node33\" class=\"node\">\n",
       "<title>32</title>\n",
       "<path fill=\"#e58139\" stroke=\"black\" d=\"M1914.5,-68C1914.5,-68 1769.5,-68 1769.5,-68 1763.5,-68 1757.5,-62 1757.5,-56 1757.5,-56 1757.5,-12 1757.5,-12 1757.5,-6 1763.5,0 1769.5,0 1769.5,0 1914.5,0 1914.5,0 1920.5,0 1926.5,-6 1926.5,-12 1926.5,-12 1926.5,-56 1926.5,-56 1926.5,-62 1920.5,-68 1914.5,-68\"/>\n",
       "<text text-anchor=\"middle\" x=\"1842\" y=\"-52.8\" font-family=\"futura\" font-size=\"14.00\">gini = 0.0</text>\n",
       "<text text-anchor=\"middle\" x=\"1842\" y=\"-37.8\" font-family=\"futura\" font-size=\"14.00\">samples = 7</text>\n",
       "<text text-anchor=\"middle\" x=\"1842\" y=\"-22.8\" font-family=\"futura\" font-size=\"14.00\">value = [7, 0]</text>\n",
       "<text text-anchor=\"middle\" x=\"1842\" y=\"-7.8\" font-family=\"futura\" font-size=\"14.00\">class = nondemented</text>\n",
       "</g>\n",
       "<!-- 28&#45;&gt;32 -->\n",
       "<g id=\"edge32\" class=\"edge\">\n",
       "<title>28&#45;&gt;32</title>\n",
       "<path fill=\"none\" stroke=\"black\" d=\"M1612.3,-86.5C1659.02,-75.77 1707.42,-64.66 1747.59,-55.44\"/>\n",
       "<polygon fill=\"black\" stroke=\"black\" points=\"1748.4,-58.85 1757.36,-53.2 1746.83,-52.03 1748.4,-58.85\"/>\n",
       "</g>\n",
       "<!-- 30 -->\n",
       "<g id=\"node31\" class=\"node\">\n",
       "<title>30</title>\n",
       "<path fill=\"#52a9e8\" stroke=\"black\" d=\"M2209,-162C2209,-162 2090,-162 2090,-162 2084,-162 2078,-156 2078,-150 2078,-150 2078,-106 2078,-106 2078,-100 2084,-94 2090,-94 2090,-94 2209,-94 2209,-94 2215,-94 2221,-100 2221,-106 2221,-106 2221,-150 2221,-150 2221,-156 2215,-162 2209,-162\"/>\n",
       "<text text-anchor=\"middle\" x=\"2149.5\" y=\"-146.8\" font-family=\"futura\" font-size=\"14.00\">gini = 0.198</text>\n",
       "<text text-anchor=\"middle\" x=\"2149.5\" y=\"-131.8\" font-family=\"futura\" font-size=\"14.00\">samples = 9</text>\n",
       "<text text-anchor=\"middle\" x=\"2149.5\" y=\"-116.8\" font-family=\"futura\" font-size=\"14.00\">value = [1, 8]</text>\n",
       "<text text-anchor=\"middle\" x=\"2149.5\" y=\"-101.8\" font-family=\"futura\" font-size=\"14.00\">class = demented</text>\n",
       "</g>\n",
       "<!-- 29&#45;&gt;30 -->\n",
       "<g id=\"edge30\" class=\"edge\">\n",
       "<title>29&#45;&gt;30</title>\n",
       "<path fill=\"none\" stroke=\"black\" d=\"M2029.07,-128C2042.51,-128 2055.58,-128 2067.84,-128\"/>\n",
       "<polygon fill=\"black\" stroke=\"black\" points=\"2067.95,-131.5 2077.95,-128 2067.95,-124.5 2067.95,-131.5\"/>\n",
       "</g>\n",
       "<!-- 31 -->\n",
       "<g id=\"node32\" class=\"node\">\n",
       "<title>31</title>\n",
       "<path fill=\"#e58139\" stroke=\"black\" d=\"M2222,-76C2222,-76 2077,-76 2077,-76 2071,-76 2065,-70 2065,-64 2065,-64 2065,-20 2065,-20 2065,-14 2071,-8 2077,-8 2077,-8 2222,-8 2222,-8 2228,-8 2234,-14 2234,-20 2234,-20 2234,-64 2234,-64 2234,-70 2228,-76 2222,-76\"/>\n",
       "<text text-anchor=\"middle\" x=\"2149.5\" y=\"-60.8\" font-family=\"futura\" font-size=\"14.00\">gini = 0.0</text>\n",
       "<text text-anchor=\"middle\" x=\"2149.5\" y=\"-45.8\" font-family=\"futura\" font-size=\"14.00\">samples = 2</text>\n",
       "<text text-anchor=\"middle\" x=\"2149.5\" y=\"-30.8\" font-family=\"futura\" font-size=\"14.00\">value = [2, 0]</text>\n",
       "<text text-anchor=\"middle\" x=\"2149.5\" y=\"-15.8\" font-family=\"futura\" font-size=\"14.00\">class = nondemented</text>\n",
       "</g>\n",
       "<!-- 29&#45;&gt;31 -->\n",
       "<g id=\"edge31\" class=\"edge\">\n",
       "<title>29&#45;&gt;31</title>\n",
       "<path fill=\"none\" stroke=\"black\" d=\"M1995.32,-86.47C2006.72,-83.29 2018.05,-80.11 2029,-77 2037.55,-74.57 2046.44,-72.03 2055.34,-69.46\"/>\n",
       "<polygon fill=\"black\" stroke=\"black\" points=\"2056.35,-72.81 2064.98,-66.66 2054.4,-66.08 2056.35,-72.81\"/>\n",
       "</g>\n",
       "</g>\n",
       "</svg>\n"
      ],
      "text/plain": [
       "<graphviz.sources.Source at 0x7f7a4e900ca0>"
      ]
     },
     "metadata": {},
     "output_type": "display_data"
    }
   ],
   "source": [
    "# Export model graph\n",
    "export_graphviz(tree_clf, out_file=\"oasis1_tree.dot\", \n",
    "                feature_names=X_train_trial.columns,\n",
    "                class_names=['nondemented', 'demented'], \n",
    "                rounded=True,\n",
    "                filled=True,\n",
    "                rotate = True,\n",
    "                fontname = 'futura')\n",
    "\n",
    "# Import model graph\n",
    "with open(\"oasis1_tree.dot\") as f:\n",
    "    dot_graph = f.read()\n",
    "    display(graphviz.Source(dot_graph))"
   ]
  },
  {
   "cell_type": "markdown",
   "id": "d9c14311",
   "metadata": {},
   "source": [
    "### 🤖 Grid Searching "
   ]
  },
  {
   "cell_type": "code",
   "execution_count": 65,
   "id": "928d7d05",
   "metadata": {},
   "outputs": [],
   "source": [
    "# Parameters to grid search\n",
    "parameters = {'criterion': ['gini', 'entropy'],\n",
    "              'max_depth': range(1,10),\n",
    "              'min_samples_split': range(2,10),\n",
    "              'min_samples_leaf': range(2,10)\n",
    "             #'max_features': range(0,len(X_train.columns),\n",
    "              }"
   ]
  },
  {
   "cell_type": "code",
   "execution_count": 66,
   "id": "6cb5b770",
   "metadata": {},
   "outputs": [
    {
     "data": {
      "text/html": [
       "<style>#sk-6e5476ae-41d3-4a9e-bbc6-a8ae53e0ed63 {color: black;background-color: white;}#sk-6e5476ae-41d3-4a9e-bbc6-a8ae53e0ed63 pre{padding: 0;}#sk-6e5476ae-41d3-4a9e-bbc6-a8ae53e0ed63 div.sk-toggleable {background-color: white;}#sk-6e5476ae-41d3-4a9e-bbc6-a8ae53e0ed63 label.sk-toggleable__label {cursor: pointer;display: block;width: 100%;margin-bottom: 0;padding: 0.3em;box-sizing: border-box;text-align: center;}#sk-6e5476ae-41d3-4a9e-bbc6-a8ae53e0ed63 label.sk-toggleable__label-arrow:before {content: \"▸\";float: left;margin-right: 0.25em;color: #696969;}#sk-6e5476ae-41d3-4a9e-bbc6-a8ae53e0ed63 label.sk-toggleable__label-arrow:hover:before {color: black;}#sk-6e5476ae-41d3-4a9e-bbc6-a8ae53e0ed63 div.sk-estimator:hover label.sk-toggleable__label-arrow:before {color: black;}#sk-6e5476ae-41d3-4a9e-bbc6-a8ae53e0ed63 div.sk-toggleable__content {max-height: 0;max-width: 0;overflow: hidden;text-align: left;background-color: #f0f8ff;}#sk-6e5476ae-41d3-4a9e-bbc6-a8ae53e0ed63 div.sk-toggleable__content pre {margin: 0.2em;color: black;border-radius: 0.25em;background-color: #f0f8ff;}#sk-6e5476ae-41d3-4a9e-bbc6-a8ae53e0ed63 input.sk-toggleable__control:checked~div.sk-toggleable__content {max-height: 200px;max-width: 100%;overflow: auto;}#sk-6e5476ae-41d3-4a9e-bbc6-a8ae53e0ed63 input.sk-toggleable__control:checked~label.sk-toggleable__label-arrow:before {content: \"▾\";}#sk-6e5476ae-41d3-4a9e-bbc6-a8ae53e0ed63 div.sk-estimator input.sk-toggleable__control:checked~label.sk-toggleable__label {background-color: #d4ebff;}#sk-6e5476ae-41d3-4a9e-bbc6-a8ae53e0ed63 div.sk-label input.sk-toggleable__control:checked~label.sk-toggleable__label {background-color: #d4ebff;}#sk-6e5476ae-41d3-4a9e-bbc6-a8ae53e0ed63 input.sk-hidden--visually {border: 0;clip: rect(1px 1px 1px 1px);clip: rect(1px, 1px, 1px, 1px);height: 1px;margin: -1px;overflow: hidden;padding: 0;position: absolute;width: 1px;}#sk-6e5476ae-41d3-4a9e-bbc6-a8ae53e0ed63 div.sk-estimator {font-family: monospace;background-color: #f0f8ff;border: 1px dotted black;border-radius: 0.25em;box-sizing: border-box;margin-bottom: 0.5em;}#sk-6e5476ae-41d3-4a9e-bbc6-a8ae53e0ed63 div.sk-estimator:hover {background-color: #d4ebff;}#sk-6e5476ae-41d3-4a9e-bbc6-a8ae53e0ed63 div.sk-parallel-item::after {content: \"\";width: 100%;border-bottom: 1px solid gray;flex-grow: 1;}#sk-6e5476ae-41d3-4a9e-bbc6-a8ae53e0ed63 div.sk-label:hover label.sk-toggleable__label {background-color: #d4ebff;}#sk-6e5476ae-41d3-4a9e-bbc6-a8ae53e0ed63 div.sk-serial::before {content: \"\";position: absolute;border-left: 1px solid gray;box-sizing: border-box;top: 2em;bottom: 0;left: 50%;}#sk-6e5476ae-41d3-4a9e-bbc6-a8ae53e0ed63 div.sk-serial {display: flex;flex-direction: column;align-items: center;background-color: white;padding-right: 0.2em;padding-left: 0.2em;}#sk-6e5476ae-41d3-4a9e-bbc6-a8ae53e0ed63 div.sk-item {z-index: 1;}#sk-6e5476ae-41d3-4a9e-bbc6-a8ae53e0ed63 div.sk-parallel {display: flex;align-items: stretch;justify-content: center;background-color: white;}#sk-6e5476ae-41d3-4a9e-bbc6-a8ae53e0ed63 div.sk-parallel::before {content: \"\";position: absolute;border-left: 1px solid gray;box-sizing: border-box;top: 2em;bottom: 0;left: 50%;}#sk-6e5476ae-41d3-4a9e-bbc6-a8ae53e0ed63 div.sk-parallel-item {display: flex;flex-direction: column;position: relative;background-color: white;}#sk-6e5476ae-41d3-4a9e-bbc6-a8ae53e0ed63 div.sk-parallel-item:first-child::after {align-self: flex-end;width: 50%;}#sk-6e5476ae-41d3-4a9e-bbc6-a8ae53e0ed63 div.sk-parallel-item:last-child::after {align-self: flex-start;width: 50%;}#sk-6e5476ae-41d3-4a9e-bbc6-a8ae53e0ed63 div.sk-parallel-item:only-child::after {width: 0;}#sk-6e5476ae-41d3-4a9e-bbc6-a8ae53e0ed63 div.sk-dashed-wrapped {border: 1px dashed gray;margin: 0 0.4em 0.5em 0.4em;box-sizing: border-box;padding-bottom: 0.4em;background-color: white;position: relative;}#sk-6e5476ae-41d3-4a9e-bbc6-a8ae53e0ed63 div.sk-label label {font-family: monospace;font-weight: bold;background-color: white;display: inline-block;line-height: 1.2em;}#sk-6e5476ae-41d3-4a9e-bbc6-a8ae53e0ed63 div.sk-label-container {position: relative;z-index: 2;text-align: center;}#sk-6e5476ae-41d3-4a9e-bbc6-a8ae53e0ed63 div.sk-container {/* jupyter's `normalize.less` sets `[hidden] { display: none; }` but bootstrap.min.css set `[hidden] { display: none !important; }` so we also need the `!important` here to be able to override the default hidden behavior on the sphinx rendered scikit-learn.org. See: https://github.com/scikit-learn/scikit-learn/issues/21755 */display: inline-block !important;position: relative;}#sk-6e5476ae-41d3-4a9e-bbc6-a8ae53e0ed63 div.sk-text-repr-fallback {display: none;}</style><div id=\"sk-6e5476ae-41d3-4a9e-bbc6-a8ae53e0ed63\" class=\"sk-top-container\"><div class=\"sk-text-repr-fallback\"><pre>GridSearchCV(cv=5, estimator=DecisionTreeClassifier(), n_jobs=-1,\n",
       "             param_grid={&#x27;criterion&#x27;: [&#x27;gini&#x27;, &#x27;entropy&#x27;],\n",
       "                         &#x27;max_depth&#x27;: range(1, 10),\n",
       "                         &#x27;min_samples_leaf&#x27;: range(2, 10),\n",
       "                         &#x27;min_samples_split&#x27;: range(2, 10)},\n",
       "             scoring=&#x27;recall&#x27;)</pre><b>Please rerun this cell to show the HTML repr or trust the notebook.</b></div><div class=\"sk-container\" hidden><div class=\"sk-item sk-dashed-wrapped\"><div class=\"sk-label-container\"><div class=\"sk-label sk-toggleable\"><input class=\"sk-toggleable__control sk-hidden--visually\" id=\"7de464e4-b229-4265-a45e-9208414504df\" type=\"checkbox\" ><label for=\"7de464e4-b229-4265-a45e-9208414504df\" class=\"sk-toggleable__label sk-toggleable__label-arrow\">GridSearchCV</label><div class=\"sk-toggleable__content\"><pre>GridSearchCV(cv=5, estimator=DecisionTreeClassifier(), n_jobs=-1,\n",
       "             param_grid={&#x27;criterion&#x27;: [&#x27;gini&#x27;, &#x27;entropy&#x27;],\n",
       "                         &#x27;max_depth&#x27;: range(1, 10),\n",
       "                         &#x27;min_samples_leaf&#x27;: range(2, 10),\n",
       "                         &#x27;min_samples_split&#x27;: range(2, 10)},\n",
       "             scoring=&#x27;recall&#x27;)</pre></div></div></div><div class=\"sk-parallel\"><div class=\"sk-parallel-item\"><div class=\"sk-item\"><div class=\"sk-serial\"><div class=\"sk-item\"><div class=\"sk-estimator sk-toggleable\"><input class=\"sk-toggleable__control sk-hidden--visually\" id=\"d2e1c47f-2686-4413-99c9-b76f27e6df17\" type=\"checkbox\" ><label for=\"d2e1c47f-2686-4413-99c9-b76f27e6df17\" class=\"sk-toggleable__label sk-toggleable__label-arrow\">DecisionTreeClassifier</label><div class=\"sk-toggleable__content\"><pre>DecisionTreeClassifier()</pre></div></div></div></div></div></div></div></div></div></div>"
      ],
      "text/plain": [
       "GridSearchCV(cv=5, estimator=DecisionTreeClassifier(), n_jobs=-1,\n",
       "             param_grid={'criterion': ['gini', 'entropy'],\n",
       "                         'max_depth': range(1, 10),\n",
       "                         'min_samples_leaf': range(2, 10),\n",
       "                         'min_samples_split': range(2, 10)},\n",
       "             scoring='recall')"
      ]
     },
     "execution_count": 66,
     "metadata": {},
     "output_type": "execute_result"
    }
   ],
   "source": [
    "# GridSearching\n",
    "gridsearch = GridSearchCV(DecisionTreeClassifier(), \n",
    "                          parameters, n_jobs = -1, \n",
    "                          scoring = 'recall', cv = 5)\n",
    "\n",
    "# Fitting gridsearch on X and y\n",
    "gridsearch.fit(X_train, y_train)"
   ]
  },
  {
   "cell_type": "code",
   "execution_count": 67,
   "id": "e3d08de1",
   "metadata": {},
   "outputs": [
    {
     "data": {
      "text/plain": [
       "0.8295238095238094"
      ]
     },
     "execution_count": 67,
     "metadata": {},
     "output_type": "execute_result"
    }
   ],
   "source": [
    "# Best score according to gridsearch\n",
    "gridsearch.best_score_"
   ]
  },
  {
   "cell_type": "code",
   "execution_count": 68,
   "id": "e9ee485f",
   "metadata": {},
   "outputs": [
    {
     "data": {
      "text/plain": [
       "{'criterion': 'entropy',\n",
       " 'max_depth': 7,\n",
       " 'min_samples_leaf': 3,\n",
       " 'min_samples_split': 4}"
      ]
     },
     "execution_count": 68,
     "metadata": {},
     "output_type": "execute_result"
    }
   ],
   "source": [
    "# Best parameters\n",
    "gridsearch.best_params_"
   ]
  },
  {
   "cell_type": "markdown",
   "id": "79e2471c",
   "metadata": {},
   "source": [
    "### 🌲 Best Tree"
   ]
  },
  {
   "cell_type": "code",
   "execution_count": 69,
   "id": "10db7a40",
   "metadata": {},
   "outputs": [
    {
     "data": {
      "text/html": [
       "<style>#sk-45859319-3dbd-4253-8514-e1737587dac0 {color: black;background-color: white;}#sk-45859319-3dbd-4253-8514-e1737587dac0 pre{padding: 0;}#sk-45859319-3dbd-4253-8514-e1737587dac0 div.sk-toggleable {background-color: white;}#sk-45859319-3dbd-4253-8514-e1737587dac0 label.sk-toggleable__label {cursor: pointer;display: block;width: 100%;margin-bottom: 0;padding: 0.3em;box-sizing: border-box;text-align: center;}#sk-45859319-3dbd-4253-8514-e1737587dac0 label.sk-toggleable__label-arrow:before {content: \"▸\";float: left;margin-right: 0.25em;color: #696969;}#sk-45859319-3dbd-4253-8514-e1737587dac0 label.sk-toggleable__label-arrow:hover:before {color: black;}#sk-45859319-3dbd-4253-8514-e1737587dac0 div.sk-estimator:hover label.sk-toggleable__label-arrow:before {color: black;}#sk-45859319-3dbd-4253-8514-e1737587dac0 div.sk-toggleable__content {max-height: 0;max-width: 0;overflow: hidden;text-align: left;background-color: #f0f8ff;}#sk-45859319-3dbd-4253-8514-e1737587dac0 div.sk-toggleable__content pre {margin: 0.2em;color: black;border-radius: 0.25em;background-color: #f0f8ff;}#sk-45859319-3dbd-4253-8514-e1737587dac0 input.sk-toggleable__control:checked~div.sk-toggleable__content {max-height: 200px;max-width: 100%;overflow: auto;}#sk-45859319-3dbd-4253-8514-e1737587dac0 input.sk-toggleable__control:checked~label.sk-toggleable__label-arrow:before {content: \"▾\";}#sk-45859319-3dbd-4253-8514-e1737587dac0 div.sk-estimator input.sk-toggleable__control:checked~label.sk-toggleable__label {background-color: #d4ebff;}#sk-45859319-3dbd-4253-8514-e1737587dac0 div.sk-label input.sk-toggleable__control:checked~label.sk-toggleable__label {background-color: #d4ebff;}#sk-45859319-3dbd-4253-8514-e1737587dac0 input.sk-hidden--visually {border: 0;clip: rect(1px 1px 1px 1px);clip: rect(1px, 1px, 1px, 1px);height: 1px;margin: -1px;overflow: hidden;padding: 0;position: absolute;width: 1px;}#sk-45859319-3dbd-4253-8514-e1737587dac0 div.sk-estimator {font-family: monospace;background-color: #f0f8ff;border: 1px dotted black;border-radius: 0.25em;box-sizing: border-box;margin-bottom: 0.5em;}#sk-45859319-3dbd-4253-8514-e1737587dac0 div.sk-estimator:hover {background-color: #d4ebff;}#sk-45859319-3dbd-4253-8514-e1737587dac0 div.sk-parallel-item::after {content: \"\";width: 100%;border-bottom: 1px solid gray;flex-grow: 1;}#sk-45859319-3dbd-4253-8514-e1737587dac0 div.sk-label:hover label.sk-toggleable__label {background-color: #d4ebff;}#sk-45859319-3dbd-4253-8514-e1737587dac0 div.sk-serial::before {content: \"\";position: absolute;border-left: 1px solid gray;box-sizing: border-box;top: 2em;bottom: 0;left: 50%;}#sk-45859319-3dbd-4253-8514-e1737587dac0 div.sk-serial {display: flex;flex-direction: column;align-items: center;background-color: white;padding-right: 0.2em;padding-left: 0.2em;}#sk-45859319-3dbd-4253-8514-e1737587dac0 div.sk-item {z-index: 1;}#sk-45859319-3dbd-4253-8514-e1737587dac0 div.sk-parallel {display: flex;align-items: stretch;justify-content: center;background-color: white;}#sk-45859319-3dbd-4253-8514-e1737587dac0 div.sk-parallel::before {content: \"\";position: absolute;border-left: 1px solid gray;box-sizing: border-box;top: 2em;bottom: 0;left: 50%;}#sk-45859319-3dbd-4253-8514-e1737587dac0 div.sk-parallel-item {display: flex;flex-direction: column;position: relative;background-color: white;}#sk-45859319-3dbd-4253-8514-e1737587dac0 div.sk-parallel-item:first-child::after {align-self: flex-end;width: 50%;}#sk-45859319-3dbd-4253-8514-e1737587dac0 div.sk-parallel-item:last-child::after {align-self: flex-start;width: 50%;}#sk-45859319-3dbd-4253-8514-e1737587dac0 div.sk-parallel-item:only-child::after {width: 0;}#sk-45859319-3dbd-4253-8514-e1737587dac0 div.sk-dashed-wrapped {border: 1px dashed gray;margin: 0 0.4em 0.5em 0.4em;box-sizing: border-box;padding-bottom: 0.4em;background-color: white;position: relative;}#sk-45859319-3dbd-4253-8514-e1737587dac0 div.sk-label label {font-family: monospace;font-weight: bold;background-color: white;display: inline-block;line-height: 1.2em;}#sk-45859319-3dbd-4253-8514-e1737587dac0 div.sk-label-container {position: relative;z-index: 2;text-align: center;}#sk-45859319-3dbd-4253-8514-e1737587dac0 div.sk-container {/* jupyter's `normalize.less` sets `[hidden] { display: none; }` but bootstrap.min.css set `[hidden] { display: none !important; }` so we also need the `!important` here to be able to override the default hidden behavior on the sphinx rendered scikit-learn.org. See: https://github.com/scikit-learn/scikit-learn/issues/21755 */display: inline-block !important;position: relative;}#sk-45859319-3dbd-4253-8514-e1737587dac0 div.sk-text-repr-fallback {display: none;}</style><div id=\"sk-45859319-3dbd-4253-8514-e1737587dac0\" class=\"sk-top-container\"><div class=\"sk-text-repr-fallback\"><pre>DecisionTreeClassifier(criterion=&#x27;entropy&#x27;, max_depth=7, min_samples_leaf=3,\n",
       "                       min_samples_split=4)</pre><b>Please rerun this cell to show the HTML repr or trust the notebook.</b></div><div class=\"sk-container\" hidden><div class=\"sk-item\"><div class=\"sk-estimator sk-toggleable\"><input class=\"sk-toggleable__control sk-hidden--visually\" id=\"a8904504-431e-4e6f-8173-1bcec4853ece\" type=\"checkbox\" checked><label for=\"a8904504-431e-4e6f-8173-1bcec4853ece\" class=\"sk-toggleable__label sk-toggleable__label-arrow\">DecisionTreeClassifier</label><div class=\"sk-toggleable__content\"><pre>DecisionTreeClassifier(criterion=&#x27;entropy&#x27;, max_depth=7, min_samples_leaf=3,\n",
       "                       min_samples_split=4)</pre></div></div></div></div></div>"
      ],
      "text/plain": [
       "DecisionTreeClassifier(criterion='entropy', max_depth=7, min_samples_leaf=3,\n",
       "                       min_samples_split=4)"
      ]
     },
     "execution_count": 69,
     "metadata": {},
     "output_type": "execute_result"
    }
   ],
   "source": [
    "# Instantiating best tree\n",
    "best_tree = gridsearch.best_estimator_\n",
    "\n",
    "# Fitting best tree\n",
    "best_tree.fit(X_train, y_train)"
   ]
  },
  {
   "cell_type": "code",
   "execution_count": 70,
   "id": "16bc3e0b",
   "metadata": {},
   "outputs": [
    {
     "data": {
      "text/plain": [
       "array([0, 0, 1, 0, 0, 0, 0, 0, 0, 1, 0, 0, 1, 0, 1, 1, 0, 1, 1, 0, 0, 0,\n",
       "       0, 1, 1, 0, 0, 0, 1, 1, 1, 0, 0, 0, 0, 0, 1, 0, 0, 0, 0, 1, 0, 1,\n",
       "       1, 0, 0, 0, 0, 1, 1, 0, 0, 0, 0, 0, 0, 1, 0, 0, 0, 0, 1, 0, 0, 0,\n",
       "       0, 1, 1, 1, 0])"
      ]
     },
     "execution_count": 70,
     "metadata": {},
     "output_type": "execute_result"
    }
   ],
   "source": [
    "# Predictions\n",
    "y_pred = best_tree.predict(X_test)\n",
    "y_pred"
   ]
  },
  {
   "cell_type": "code",
   "execution_count": 71,
   "id": "e579bf60",
   "metadata": {},
   "outputs": [
    {
     "data": {
      "text/plain": [
       "0.6206896551724138"
      ]
     },
     "execution_count": 71,
     "metadata": {},
     "output_type": "execute_result"
    }
   ],
   "source": [
    "# Recall score\n",
    "recall_score(y_test, y_pred)"
   ]
  },
  {
   "cell_type": "code",
   "execution_count": 72,
   "id": "bb3c4eca",
   "metadata": {},
   "outputs": [
    {
     "data": {
      "text/plain": [
       "array([0, 0, 1, 0, 0, 0, 0, 0, 0, 1, 0, 0, 1, 0, 1, 1, 0, 1, 1, 0, 0, 0,\n",
       "       0, 1, 1, 0, 0, 0, 1, 1, 1, 0, 0, 0, 0, 0, 1, 0, 0, 0, 0, 1, 0, 1,\n",
       "       1, 0, 0, 0, 0, 1, 1, 0, 0, 0, 0, 0, 0, 1, 0, 0, 0, 0, 1, 0, 0, 0,\n",
       "       0, 1, 1, 1, 0])"
      ]
     },
     "execution_count": 72,
     "metadata": {},
     "output_type": "execute_result"
    }
   ],
   "source": [
    "# Predictions on the test set\n",
    "y_tree_pred = best_tree.predict(X_test)\n",
    "y_tree_pred"
   ]
  },
  {
   "cell_type": "code",
   "execution_count": 73,
   "id": "38b0f321",
   "metadata": {},
   "outputs": [],
   "source": [
    "# Confusion Matrix\n",
    "tree_cm = confusion_matrix(y_test, y_tree_pred)"
   ]
  },
  {
   "cell_type": "code",
   "execution_count": 74,
   "id": "07a24457",
   "metadata": {},
   "outputs": [
    {
     "data": {
      "image/png": "[encoded data removed]",
      "text/plain": [
       "<Figure size 432x288 with 2 Axes>"
      ]
     },
     "metadata": {},
     "output_type": "display_data"
    }
   ],
   "source": [
    "disp = ConfusionMatrixDisplay(confusion_matrix=tree_cm,\n",
    "                             display_labels=[\"nondemented\",\"demented\"])\n",
    "disp.plot(cmap = 'plasma')\n",
    "\n",
    "plt.grid(visible = False)\n",
    "plt.show()"
   ]
  },
  {
   "cell_type": "code",
   "execution_count": 75,
   "id": "19087335",
   "metadata": {},
   "outputs": [
    {
     "data": {
      "text/plain": [
       "0    93\n",
       "1    71\n",
       "Name: CDR, dtype: int64"
      ]
     },
     "execution_count": 75,
     "metadata": {},
     "output_type": "execute_result"
    }
   ],
   "source": [
    "y_train.value_counts()"
   ]
  },
  {
   "cell_type": "code",
   "execution_count": 76,
   "id": "7debd9e1",
   "metadata": {},
   "outputs": [
    {
     "data": {
      "text/plain": [
       "0    42\n",
       "1    29\n",
       "Name: CDR, dtype: int64"
      ]
     },
     "execution_count": 76,
     "metadata": {},
     "output_type": "execute_result"
    }
   ],
   "source": [
    "y_test.value_counts()\n",
    "# We want to capture all 23 people with dementia"
   ]
  },
  {
   "cell_type": "code",
   "execution_count": 77,
   "id": "effc7f6d",
   "metadata": {},
   "outputs": [
    {
     "data": {
      "image/svg+xml": [
       "<?xml version=\"1.0\" encoding=\"UTF-8\" standalone=\"no\"?>\n",
       "<!DOCTYPE svg PUBLIC \"-//W3C//DTD SVG 1.1//EN\"\n",
       " \"http://www.w3.org/Graphics/SVG/1.1/DTD/svg11.dtd\">\n",
       "<!-- Generated by graphviz version 2.43.0 (0)\n",
       " -->\n",
       "<!-- Title: Tree Pages: 1 -->\n",
       "<svg width=\"3036pt\" height=\"816pt\"\n",
       " viewBox=\"0.00 0.00 3036.00 816.00\" xmlns=\"http://www.w3.org/2000/svg\" xmlns:xlink=\"http://www.w3.org/1999/xlink\">\n",
       "<g id=\"graph0\" class=\"graph\" transform=\"scale(1 1) rotate(0) translate(4 812)\">\n",
       "<title>Tree</title>\n",
       "<polygon fill=\"white\" stroke=\"transparent\" points=\"-4,4 -4,-812 3032,-812 3032,4 -4,4\"/>\n",
       "<!-- 0 -->\n",
       "<g id=\"node1\" class=\"node\">\n",
       "<title>0</title>\n",
       "<path fill=\"#f9e1d0\" stroke=\"black\" d=\"M365,-443.5C365,-443.5 12,-443.5 12,-443.5 6,-443.5 0,-437.5 0,-431.5 0,-431.5 0,-372.5 0,-372.5 0,-366.5 6,-360.5 12,-360.5 12,-360.5 365,-360.5 365,-360.5 371,-360.5 377,-366.5 377,-372.5 377,-372.5 377,-431.5 377,-431.5 377,-437.5 371,-443.5 365,-443.5\"/>\n",
       "<text text-anchor=\"middle\" x=\"188.5\" y=\"-428.3\" font-family=\"futura\" font-size=\"14.00\">num_transformer__robust_scaler__MMSE &lt;= &#45;1.125</text>\n",
       "<text text-anchor=\"middle\" x=\"188.5\" y=\"-413.3\" font-family=\"futura\" font-size=\"14.00\">entropy = 0.987</text>\n",
       "<text text-anchor=\"middle\" x=\"188.5\" y=\"-398.3\" font-family=\"futura\" font-size=\"14.00\">samples = 164</text>\n",
       "<text text-anchor=\"middle\" x=\"188.5\" y=\"-383.3\" font-family=\"futura\" font-size=\"14.00\">value = [93, 71]</text>\n",
       "<text text-anchor=\"middle\" x=\"188.5\" y=\"-368.3\" font-family=\"futura\" font-size=\"14.00\">class = nondemented</text>\n",
       "</g>\n",
       "<!-- 1 -->\n",
       "<g id=\"node2\" class=\"node\">\n",
       "<title>1</title>\n",
       "<path fill=\"#399de5\" stroke=\"black\" d=\"M647.5,-483C647.5,-483 528.5,-483 528.5,-483 522.5,-483 516.5,-477 516.5,-471 516.5,-471 516.5,-427 516.5,-427 516.5,-421 522.5,-415 528.5,-415 528.5,-415 647.5,-415 647.5,-415 653.5,-415 659.5,-421 659.5,-427 659.5,-427 659.5,-471 659.5,-471 659.5,-477 653.5,-483 647.5,-483\"/>\n",
       "<text text-anchor=\"middle\" x=\"588\" y=\"-467.8\" font-family=\"futura\" font-size=\"14.00\">entropy = 0.0</text>\n",
       "<text text-anchor=\"middle\" x=\"588\" y=\"-452.8\" font-family=\"futura\" font-size=\"14.00\">samples = 37</text>\n",
       "<text text-anchor=\"middle\" x=\"588\" y=\"-437.8\" font-family=\"futura\" font-size=\"14.00\">value = [0, 37]</text>\n",
       "<text text-anchor=\"middle\" x=\"588\" y=\"-422.8\" font-family=\"futura\" font-size=\"14.00\">class = demented</text>\n",
       "</g>\n",
       "<!-- 0&#45;&gt;1 -->\n",
       "<g id=\"edge1\" class=\"edge\">\n",
       "<title>0&#45;&gt;1</title>\n",
       "<path fill=\"none\" stroke=\"black\" d=\"M377.19,-424.19C422.58,-429.56 468.73,-435.02 506.15,-439.44\"/>\n",
       "<polygon fill=\"black\" stroke=\"black\" points=\"506.13,-442.96 516.47,-440.66 506.95,-436.01 506.13,-442.96\"/>\n",
       "<text text-anchor=\"middle\" x=\"496.84\" y=\"-452.44\" font-family=\"futura\" font-size=\"14.00\">True</text>\n",
       "</g>\n",
       "<!-- 2 -->\n",
       "<g id=\"node3\" class=\"node\">\n",
       "<title>2</title>\n",
       "<path fill=\"#efaf81\" stroke=\"black\" d=\"M751,-396.5C751,-396.5 425,-396.5 425,-396.5 419,-396.5 413,-390.5 413,-384.5 413,-384.5 413,-325.5 413,-325.5 413,-319.5 419,-313.5 425,-313.5 425,-313.5 751,-313.5 751,-313.5 757,-313.5 763,-319.5 763,-325.5 763,-325.5 763,-384.5 763,-384.5 763,-390.5 757,-396.5 751,-396.5\"/>\n",
       "<text text-anchor=\"middle\" x=\"588\" y=\"-381.3\" font-family=\"futura\" font-size=\"14.00\">num_transformer__remainder__nWBV &lt;= 0.787</text>\n",
       "<text text-anchor=\"middle\" x=\"588\" y=\"-366.3\" font-family=\"futura\" font-size=\"14.00\">entropy = 0.838</text>\n",
       "<text text-anchor=\"middle\" x=\"588\" y=\"-351.3\" font-family=\"futura\" font-size=\"14.00\">samples = 127</text>\n",
       "<text text-anchor=\"middle\" x=\"588\" y=\"-336.3\" font-family=\"futura\" font-size=\"14.00\">value = [93, 34]</text>\n",
       "<text text-anchor=\"middle\" x=\"588\" y=\"-321.3\" font-family=\"futura\" font-size=\"14.00\">class = nondemented</text>\n",
       "</g>\n",
       "<!-- 0&#45;&gt;2 -->\n",
       "<g id=\"edge2\" class=\"edge\">\n",
       "<title>0&#45;&gt;2</title>\n",
       "<path fill=\"none\" stroke=\"black\" d=\"M377.19,-379.81C385.72,-378.8 394.27,-377.79 402.78,-376.78\"/>\n",
       "<polygon fill=\"black\" stroke=\"black\" points=\"403.24,-380.25 412.76,-375.6 402.42,-373.3 403.24,-380.25\"/>\n",
       "<text text-anchor=\"middle\" x=\"393.13\" y=\"-356.42\" font-family=\"futura\" font-size=\"14.00\">False</text>\n",
       "</g>\n",
       "<!-- 3 -->\n",
       "<g id=\"node4\" class=\"node\">\n",
       "<title>3</title>\n",
       "<path fill=\"#f4caab\" stroke=\"black\" d=\"M1164,-443.5C1164,-443.5 811,-443.5 811,-443.5 805,-443.5 799,-437.5 799,-431.5 799,-431.5 799,-372.5 799,-372.5 799,-366.5 805,-360.5 811,-360.5 811,-360.5 1164,-360.5 1164,-360.5 1170,-360.5 1176,-366.5 1176,-372.5 1176,-372.5 1176,-431.5 1176,-431.5 1176,-437.5 1170,-443.5 1164,-443.5\"/>\n",
       "<text text-anchor=\"middle\" x=\"987.5\" y=\"-428.3\" font-family=\"futura\" font-size=\"14.00\">num_transformer__robust_scaler__MMSE &lt;= &#45;0.125</text>\n",
       "<text text-anchor=\"middle\" x=\"987.5\" y=\"-413.3\" font-family=\"futura\" font-size=\"14.00\">entropy = 0.947</text>\n",
       "<text text-anchor=\"middle\" x=\"987.5\" y=\"-398.3\" font-family=\"futura\" font-size=\"14.00\">samples = 93</text>\n",
       "<text text-anchor=\"middle\" x=\"987.5\" y=\"-383.3\" font-family=\"futura\" font-size=\"14.00\">value = [59, 34]</text>\n",
       "<text text-anchor=\"middle\" x=\"987.5\" y=\"-368.3\" font-family=\"futura\" font-size=\"14.00\">class = nondemented</text>\n",
       "</g>\n",
       "<!-- 2&#45;&gt;3 -->\n",
       "<g id=\"edge3\" class=\"edge\">\n",
       "<title>2&#45;&gt;3</title>\n",
       "<path fill=\"none\" stroke=\"black\" d=\"M763.06,-375.58C771.61,-376.59 780.23,-377.61 788.84,-378.63\"/>\n",
       "<polygon fill=\"black\" stroke=\"black\" points=\"788.6,-382.12 798.94,-379.82 789.42,-375.17 788.6,-382.12\"/>\n",
       "</g>\n",
       "<!-- 32 -->\n",
       "<g id=\"node33\" class=\"node\">\n",
       "<title>32</title>\n",
       "<path fill=\"#e58139\" stroke=\"black\" d=\"M1060,-342C1060,-342 915,-342 915,-342 909,-342 903,-336 903,-330 903,-330 903,-286 903,-286 903,-280 909,-274 915,-274 915,-274 1060,-274 1060,-274 1066,-274 1072,-280 1072,-286 1072,-286 1072,-330 1072,-330 1072,-336 1066,-342 1060,-342\"/>\n",
       "<text text-anchor=\"middle\" x=\"987.5\" y=\"-326.8\" font-family=\"futura\" font-size=\"14.00\">entropy = 0.0</text>\n",
       "<text text-anchor=\"middle\" x=\"987.5\" y=\"-311.8\" font-family=\"futura\" font-size=\"14.00\">samples = 34</text>\n",
       "<text text-anchor=\"middle\" x=\"987.5\" y=\"-296.8\" font-family=\"futura\" font-size=\"14.00\">value = [34, 0]</text>\n",
       "<text text-anchor=\"middle\" x=\"987.5\" y=\"-281.8\" font-family=\"futura\" font-size=\"14.00\">class = nondemented</text>\n",
       "</g>\n",
       "<!-- 2&#45;&gt;32 -->\n",
       "<g id=\"edge32\" class=\"edge\">\n",
       "<title>2&#45;&gt;32</title>\n",
       "<path fill=\"none\" stroke=\"black\" d=\"M763.06,-334.42C807.61,-329.15 853.85,-323.68 892.62,-319.1\"/>\n",
       "<polygon fill=\"black\" stroke=\"black\" points=\"893.31,-322.54 902.83,-317.89 892.49,-315.59 893.31,-322.54\"/>\n",
       "</g>\n",
       "<!-- 4 -->\n",
       "<g id=\"node5\" class=\"node\">\n",
       "<title>4</title>\n",
       "<path fill=\"#cbe5f8\" stroke=\"black\" d=\"M1563.5,-514.5C1563.5,-514.5 1237.5,-514.5 1237.5,-514.5 1231.5,-514.5 1225.5,-508.5 1225.5,-502.5 1225.5,-502.5 1225.5,-443.5 1225.5,-443.5 1225.5,-437.5 1231.5,-431.5 1237.5,-431.5 1237.5,-431.5 1563.5,-431.5 1563.5,-431.5 1569.5,-431.5 1575.5,-437.5 1575.5,-443.5 1575.5,-443.5 1575.5,-502.5 1575.5,-502.5 1575.5,-508.5 1569.5,-514.5 1563.5,-514.5\"/>\n",
       "<text text-anchor=\"middle\" x=\"1400.5\" y=\"-499.3\" font-family=\"futura\" font-size=\"14.00\">num_transformer__remainder__nWBV &lt;= 0.748</text>\n",
       "<text text-anchor=\"middle\" x=\"1400.5\" y=\"-484.3\" font-family=\"futura\" font-size=\"14.00\">entropy = 0.984</text>\n",
       "<text text-anchor=\"middle\" x=\"1400.5\" y=\"-469.3\" font-family=\"futura\" font-size=\"14.00\">samples = 40</text>\n",
       "<text text-anchor=\"middle\" x=\"1400.5\" y=\"-454.3\" font-family=\"futura\" font-size=\"14.00\">value = [17, 23]</text>\n",
       "<text text-anchor=\"middle\" x=\"1400.5\" y=\"-439.3\" font-family=\"futura\" font-size=\"14.00\">class = demented</text>\n",
       "</g>\n",
       "<!-- 3&#45;&gt;4 -->\n",
       "<g id=\"edge4\" class=\"edge\">\n",
       "<title>3&#45;&gt;4</title>\n",
       "<path fill=\"none\" stroke=\"black\" d=\"M1176.26,-434.44C1189.32,-436.69 1202.48,-438.97 1215.53,-441.22\"/>\n",
       "<polygon fill=\"black\" stroke=\"black\" points=\"1215.03,-444.68 1225.48,-442.94 1216.22,-437.79 1215.03,-444.68\"/>\n",
       "</g>\n",
       "<!-- 19 -->\n",
       "<g id=\"node20\" class=\"node\">\n",
       "<title>19</title>\n",
       "<path fill=\"#eca26d\" stroke=\"black\" d=\"M1577,-373.5C1577,-373.5 1224,-373.5 1224,-373.5 1218,-373.5 1212,-367.5 1212,-361.5 1212,-361.5 1212,-302.5 1212,-302.5 1212,-296.5 1218,-290.5 1224,-290.5 1224,-290.5 1577,-290.5 1577,-290.5 1583,-290.5 1589,-296.5 1589,-302.5 1589,-302.5 1589,-361.5 1589,-361.5 1589,-367.5 1583,-373.5 1577,-373.5\"/>\n",
       "<text text-anchor=\"middle\" x=\"1400.5\" y=\"-358.3\" font-family=\"futura\" font-size=\"14.00\">num_transformer__minmax_scaler__Educ &lt;= 0.875</text>\n",
       "<text text-anchor=\"middle\" x=\"1400.5\" y=\"-343.3\" font-family=\"futura\" font-size=\"14.00\">entropy = 0.737</text>\n",
       "<text text-anchor=\"middle\" x=\"1400.5\" y=\"-328.3\" font-family=\"futura\" font-size=\"14.00\">samples = 53</text>\n",
       "<text text-anchor=\"middle\" x=\"1400.5\" y=\"-313.3\" font-family=\"futura\" font-size=\"14.00\">value = [42, 11]</text>\n",
       "<text text-anchor=\"middle\" x=\"1400.5\" y=\"-298.3\" font-family=\"futura\" font-size=\"14.00\">class = nondemented</text>\n",
       "</g>\n",
       "<!-- 3&#45;&gt;19 -->\n",
       "<g id=\"edge19\" class=\"edge\">\n",
       "<title>3&#45;&gt;19</title>\n",
       "<path fill=\"none\" stroke=\"black\" d=\"M1176.26,-370.02C1184.77,-368.57 1193.33,-367.11 1201.87,-365.66\"/>\n",
       "<polygon fill=\"black\" stroke=\"black\" points=\"1202.61,-369.08 1211.88,-363.96 1201.43,-362.18 1202.61,-369.08\"/>\n",
       "</g>\n",
       "<!-- 5 -->\n",
       "<g id=\"node6\" class=\"node\">\n",
       "<title>5</title>\n",
       "<path fill=\"#7bbeee\" stroke=\"black\" d=\"M1986,-682.5C1986,-682.5 1641,-682.5 1641,-682.5 1635,-682.5 1629,-676.5 1629,-670.5 1629,-670.5 1629,-611.5 1629,-611.5 1629,-605.5 1635,-599.5 1641,-599.5 1641,-599.5 1986,-599.5 1986,-599.5 1992,-599.5 1998,-605.5 1998,-611.5 1998,-611.5 1998,-670.5 1998,-670.5 1998,-676.5 1992,-682.5 1986,-682.5\"/>\n",
       "<text text-anchor=\"middle\" x=\"1813.5\" y=\"-667.3\" font-family=\"futura\" font-size=\"14.00\">num_transformer__minmax_scaler__SES &lt;= 0.375</text>\n",
       "<text text-anchor=\"middle\" x=\"1813.5\" y=\"-652.3\" font-family=\"futura\" font-size=\"14.00\">entropy = 0.811</text>\n",
       "<text text-anchor=\"middle\" x=\"1813.5\" y=\"-637.3\" font-family=\"futura\" font-size=\"14.00\">samples = 24</text>\n",
       "<text text-anchor=\"middle\" x=\"1813.5\" y=\"-622.3\" font-family=\"futura\" font-size=\"14.00\">value = [6, 18]</text>\n",
       "<text text-anchor=\"middle\" x=\"1813.5\" y=\"-607.3\" font-family=\"futura\" font-size=\"14.00\">class = demented</text>\n",
       "</g>\n",
       "<!-- 4&#45;&gt;5 -->\n",
       "<g id=\"edge5\" class=\"edge\">\n",
       "<title>4&#45;&gt;5</title>\n",
       "<path fill=\"none\" stroke=\"black\" d=\"M1503.1,-514.53C1563.24,-539.11 1639.5,-570.28 1701.26,-595.53\"/>\n",
       "<polygon fill=\"black\" stroke=\"black\" points=\"1700.07,-598.82 1710.65,-599.37 1702.72,-592.34 1700.07,-598.82\"/>\n",
       "</g>\n",
       "<!-- 12 -->\n",
       "<g id=\"node13\" class=\"node\">\n",
       "<title>12</title>\n",
       "<path fill=\"#f1ba93\" stroke=\"black\" d=\"M1990,-514.5C1990,-514.5 1637,-514.5 1637,-514.5 1631,-514.5 1625,-508.5 1625,-502.5 1625,-502.5 1625,-443.5 1625,-443.5 1625,-437.5 1631,-431.5 1637,-431.5 1637,-431.5 1990,-431.5 1990,-431.5 1996,-431.5 2002,-437.5 2002,-443.5 2002,-443.5 2002,-502.5 2002,-502.5 2002,-508.5 1996,-514.5 1990,-514.5\"/>\n",
       "<text text-anchor=\"middle\" x=\"1813.5\" y=\"-499.3\" font-family=\"futura\" font-size=\"14.00\">num_transformer__robust_scaler__MMSE &lt;= &#45;0.375</text>\n",
       "<text text-anchor=\"middle\" x=\"1813.5\" y=\"-484.3\" font-family=\"futura\" font-size=\"14.00\">entropy = 0.896</text>\n",
       "<text text-anchor=\"middle\" x=\"1813.5\" y=\"-469.3\" font-family=\"futura\" font-size=\"14.00\">samples = 16</text>\n",
       "<text text-anchor=\"middle\" x=\"1813.5\" y=\"-454.3\" font-family=\"futura\" font-size=\"14.00\">value = [11, 5]</text>\n",
       "<text text-anchor=\"middle\" x=\"1813.5\" y=\"-439.3\" font-family=\"futura\" font-size=\"14.00\">class = nondemented</text>\n",
       "</g>\n",
       "<!-- 4&#45;&gt;12 -->\n",
       "<g id=\"edge12\" class=\"edge\">\n",
       "<title>4&#45;&gt;12</title>\n",
       "<path fill=\"none\" stroke=\"black\" d=\"M1575.5,-473C1588.5,-473 1601.67,-473 1614.8,-473\"/>\n",
       "<polygon fill=\"black\" stroke=\"black\" points=\"1614.82,-476.5 1624.82,-473 1614.82,-469.5 1614.82,-476.5\"/>\n",
       "</g>\n",
       "<!-- 6 -->\n",
       "<g id=\"node7\" class=\"node\">\n",
       "<title>6</title>\n",
       "<path fill=\"#399de5\" stroke=\"black\" d=\"M2287.5,-769C2287.5,-769 2168.5,-769 2168.5,-769 2162.5,-769 2156.5,-763 2156.5,-757 2156.5,-757 2156.5,-713 2156.5,-713 2156.5,-707 2162.5,-701 2168.5,-701 2168.5,-701 2287.5,-701 2287.5,-701 2293.5,-701 2299.5,-707 2299.5,-713 2299.5,-713 2299.5,-757 2299.5,-757 2299.5,-763 2293.5,-769 2287.5,-769\"/>\n",
       "<text text-anchor=\"middle\" x=\"2228\" y=\"-753.8\" font-family=\"futura\" font-size=\"14.00\">entropy = 0.0</text>\n",
       "<text text-anchor=\"middle\" x=\"2228\" y=\"-738.8\" font-family=\"futura\" font-size=\"14.00\">samples = 9</text>\n",
       "<text text-anchor=\"middle\" x=\"2228\" y=\"-723.8\" font-family=\"futura\" font-size=\"14.00\">value = [0, 9]</text>\n",
       "<text text-anchor=\"middle\" x=\"2228\" y=\"-708.8\" font-family=\"futura\" font-size=\"14.00\">class = demented</text>\n",
       "</g>\n",
       "<!-- 5&#45;&gt;6 -->\n",
       "<g id=\"edge6\" class=\"edge\">\n",
       "<title>5&#45;&gt;6</title>\n",
       "<path fill=\"none\" stroke=\"black\" d=\"M1996.55,-682.55C2010.57,-685.75 2024.52,-688.93 2038,-692 2073.38,-700.06 2112.5,-708.96 2145.92,-716.56\"/>\n",
       "<polygon fill=\"black\" stroke=\"black\" points=\"2145.57,-720.07 2156.1,-718.88 2147.12,-713.25 2145.57,-720.07\"/>\n",
       "</g>\n",
       "<!-- 7 -->\n",
       "<g id=\"node8\" class=\"node\">\n",
       "<title>7</title>\n",
       "<path fill=\"#bddef6\" stroke=\"black\" d=\"M2398.5,-682.5C2398.5,-682.5 2057.5,-682.5 2057.5,-682.5 2051.5,-682.5 2045.5,-676.5 2045.5,-670.5 2045.5,-670.5 2045.5,-611.5 2045.5,-611.5 2045.5,-605.5 2051.5,-599.5 2057.5,-599.5 2057.5,-599.5 2398.5,-599.5 2398.5,-599.5 2404.5,-599.5 2410.5,-605.5 2410.5,-611.5 2410.5,-611.5 2410.5,-670.5 2410.5,-670.5 2410.5,-676.5 2404.5,-682.5 2398.5,-682.5\"/>\n",
       "<text text-anchor=\"middle\" x=\"2228\" y=\"-667.3\" font-family=\"futura\" font-size=\"14.00\">num_transformer__standard_scaler__Age &lt;= 1.34</text>\n",
       "<text text-anchor=\"middle\" x=\"2228\" y=\"-652.3\" font-family=\"futura\" font-size=\"14.00\">entropy = 0.971</text>\n",
       "<text text-anchor=\"middle\" x=\"2228\" y=\"-637.3\" font-family=\"futura\" font-size=\"14.00\">samples = 15</text>\n",
       "<text text-anchor=\"middle\" x=\"2228\" y=\"-622.3\" font-family=\"futura\" font-size=\"14.00\">value = [6, 9]</text>\n",
       "<text text-anchor=\"middle\" x=\"2228\" y=\"-607.3\" font-family=\"futura\" font-size=\"14.00\">class = demented</text>\n",
       "</g>\n",
       "<!-- 5&#45;&gt;7 -->\n",
       "<g id=\"edge7\" class=\"edge\">\n",
       "<title>5&#45;&gt;7</title>\n",
       "<path fill=\"none\" stroke=\"black\" d=\"M1998.13,-641C2010.39,-641 2022.76,-641 2035.07,-641\"/>\n",
       "<polygon fill=\"black\" stroke=\"black\" points=\"2035.38,-644.5 2045.38,-641 2035.38,-637.5 2035.38,-644.5\"/>\n",
       "</g>\n",
       "<!-- 8 -->\n",
       "<g id=\"node9\" class=\"node\">\n",
       "<title>8</title>\n",
       "<path fill=\"#7bbeee\" stroke=\"black\" d=\"M2801.5,-772.5C2801.5,-772.5 2475.5,-772.5 2475.5,-772.5 2469.5,-772.5 2463.5,-766.5 2463.5,-760.5 2463.5,-760.5 2463.5,-701.5 2463.5,-701.5 2463.5,-695.5 2469.5,-689.5 2475.5,-689.5 2475.5,-689.5 2801.5,-689.5 2801.5,-689.5 2807.5,-689.5 2813.5,-695.5 2813.5,-701.5 2813.5,-701.5 2813.5,-760.5 2813.5,-760.5 2813.5,-766.5 2807.5,-772.5 2801.5,-772.5\"/>\n",
       "<text text-anchor=\"middle\" x=\"2638.5\" y=\"-757.3\" font-family=\"futura\" font-size=\"14.00\">num_transformer__remainder__nWBV &lt;= 0.707</text>\n",
       "<text text-anchor=\"middle\" x=\"2638.5\" y=\"-742.3\" font-family=\"futura\" font-size=\"14.00\">entropy = 0.811</text>\n",
       "<text text-anchor=\"middle\" x=\"2638.5\" y=\"-727.3\" font-family=\"futura\" font-size=\"14.00\">samples = 12</text>\n",
       "<text text-anchor=\"middle\" x=\"2638.5\" y=\"-712.3\" font-family=\"futura\" font-size=\"14.00\">value = [3, 9]</text>\n",
       "<text text-anchor=\"middle\" x=\"2638.5\" y=\"-697.3\" font-family=\"futura\" font-size=\"14.00\">class = demented</text>\n",
       "</g>\n",
       "<!-- 7&#45;&gt;8 -->\n",
       "<g id=\"edge8\" class=\"edge\">\n",
       "<title>7&#45;&gt;8</title>\n",
       "<path fill=\"none\" stroke=\"black\" d=\"M2410.55,-681C2424.84,-684.15 2439.27,-687.33 2453.57,-690.48\"/>\n",
       "<polygon fill=\"black\" stroke=\"black\" points=\"2452.92,-693.92 2463.44,-692.65 2454.43,-687.08 2452.92,-693.92\"/>\n",
       "</g>\n",
       "<!-- 11 -->\n",
       "<g id=\"node12\" class=\"node\">\n",
       "<title>11</title>\n",
       "<path fill=\"#e58139\" stroke=\"black\" d=\"M2711,-671C2711,-671 2566,-671 2566,-671 2560,-671 2554,-665 2554,-659 2554,-659 2554,-615 2554,-615 2554,-609 2560,-603 2566,-603 2566,-603 2711,-603 2711,-603 2717,-603 2723,-609 2723,-615 2723,-615 2723,-659 2723,-659 2723,-665 2717,-671 2711,-671\"/>\n",
       "<text text-anchor=\"middle\" x=\"2638.5\" y=\"-655.8\" font-family=\"futura\" font-size=\"14.00\">entropy = 0.0</text>\n",
       "<text text-anchor=\"middle\" x=\"2638.5\" y=\"-640.8\" font-family=\"futura\" font-size=\"14.00\">samples = 3</text>\n",
       "<text text-anchor=\"middle\" x=\"2638.5\" y=\"-625.8\" font-family=\"futura\" font-size=\"14.00\">value = [3, 0]</text>\n",
       "<text text-anchor=\"middle\" x=\"2638.5\" y=\"-610.8\" font-family=\"futura\" font-size=\"14.00\">class = nondemented</text>\n",
       "</g>\n",
       "<!-- 7&#45;&gt;11 -->\n",
       "<g id=\"edge11\" class=\"edge\">\n",
       "<title>7&#45;&gt;11</title>\n",
       "<path fill=\"none\" stroke=\"black\" d=\"M2410.55,-639.22C2456.52,-638.77 2504.04,-638.31 2543.64,-637.92\"/>\n",
       "<polygon fill=\"black\" stroke=\"black\" points=\"2543.84,-641.42 2553.8,-637.82 2543.77,-634.42 2543.84,-641.42\"/>\n",
       "</g>\n",
       "<!-- 9 -->\n",
       "<g id=\"node10\" class=\"node\">\n",
       "<title>9</title>\n",
       "<path fill=\"#f6d5bd\" stroke=\"black\" d=\"M3016,-808C3016,-808 2871,-808 2871,-808 2865,-808 2859,-802 2859,-796 2859,-796 2859,-752 2859,-752 2859,-746 2865,-740 2871,-740 2871,-740 3016,-740 3016,-740 3022,-740 3028,-746 3028,-752 3028,-752 3028,-796 3028,-796 3028,-802 3022,-808 3016,-808\"/>\n",
       "<text text-anchor=\"middle\" x=\"2943.5\" y=\"-792.8\" font-family=\"futura\" font-size=\"14.00\">entropy = 0.971</text>\n",
       "<text text-anchor=\"middle\" x=\"2943.5\" y=\"-777.8\" font-family=\"futura\" font-size=\"14.00\">samples = 5</text>\n",
       "<text text-anchor=\"middle\" x=\"2943.5\" y=\"-762.8\" font-family=\"futura\" font-size=\"14.00\">value = [3, 2]</text>\n",
       "<text text-anchor=\"middle\" x=\"2943.5\" y=\"-747.8\" font-family=\"futura\" font-size=\"14.00\">class = nondemented</text>\n",
       "</g>\n",
       "<!-- 8&#45;&gt;9 -->\n",
       "<g id=\"edge9\" class=\"edge\">\n",
       "<title>8&#45;&gt;9</title>\n",
       "<path fill=\"none\" stroke=\"black\" d=\"M2813.56,-755.7C2825.58,-757.41 2837.4,-759.08 2848.72,-760.69\"/>\n",
       "<polygon fill=\"black\" stroke=\"black\" points=\"2848.57,-764.2 2858.96,-762.14 2849.55,-757.27 2848.57,-764.2\"/>\n",
       "</g>\n",
       "<!-- 10 -->\n",
       "<g id=\"node11\" class=\"node\">\n",
       "<title>10</title>\n",
       "<path fill=\"#399de5\" stroke=\"black\" d=\"M3003,-722C3003,-722 2884,-722 2884,-722 2878,-722 2872,-716 2872,-710 2872,-710 2872,-666 2872,-666 2872,-660 2878,-654 2884,-654 2884,-654 3003,-654 3003,-654 3009,-654 3015,-660 3015,-666 3015,-666 3015,-710 3015,-710 3015,-716 3009,-722 3003,-722\"/>\n",
       "<text text-anchor=\"middle\" x=\"2943.5\" y=\"-706.8\" font-family=\"futura\" font-size=\"14.00\">entropy = 0.0</text>\n",
       "<text text-anchor=\"middle\" x=\"2943.5\" y=\"-691.8\" font-family=\"futura\" font-size=\"14.00\">samples = 7</text>\n",
       "<text text-anchor=\"middle\" x=\"2943.5\" y=\"-676.8\" font-family=\"futura\" font-size=\"14.00\">value = [0, 7]</text>\n",
       "<text text-anchor=\"middle\" x=\"2943.5\" y=\"-661.8\" font-family=\"futura\" font-size=\"14.00\">class = demented</text>\n",
       "</g>\n",
       "<!-- 8&#45;&gt;10 -->\n",
       "<g id=\"edge10\" class=\"edge\">\n",
       "<title>8&#45;&gt;10</title>\n",
       "<path fill=\"none\" stroke=\"black\" d=\"M2813.56,-706.3C2830.17,-703.94 2846.41,-701.64 2861.46,-699.5\"/>\n",
       "<polygon fill=\"black\" stroke=\"black\" points=\"2862.27,-702.92 2871.67,-698.05 2861.28,-695.99 2862.27,-702.92\"/>\n",
       "</g>\n",
       "<!-- 13 -->\n",
       "<g id=\"node14\" class=\"node\">\n",
       "<title>13</title>\n",
       "<path fill=\"#e58139\" stroke=\"black\" d=\"M2300.5,-581C2300.5,-581 2155.5,-581 2155.5,-581 2149.5,-581 2143.5,-575 2143.5,-569 2143.5,-569 2143.5,-525 2143.5,-525 2143.5,-519 2149.5,-513 2155.5,-513 2155.5,-513 2300.5,-513 2300.5,-513 2306.5,-513 2312.5,-519 2312.5,-525 2312.5,-525 2312.5,-569 2312.5,-569 2312.5,-575 2306.5,-581 2300.5,-581\"/>\n",
       "<text text-anchor=\"middle\" x=\"2228\" y=\"-565.8\" font-family=\"futura\" font-size=\"14.00\">entropy = 0.0</text>\n",
       "<text text-anchor=\"middle\" x=\"2228\" y=\"-550.8\" font-family=\"futura\" font-size=\"14.00\">samples = 5</text>\n",
       "<text text-anchor=\"middle\" x=\"2228\" y=\"-535.8\" font-family=\"futura\" font-size=\"14.00\">value = [5, 0]</text>\n",
       "<text text-anchor=\"middle\" x=\"2228\" y=\"-520.8\" font-family=\"futura\" font-size=\"14.00\">class = nondemented</text>\n",
       "</g>\n",
       "<!-- 12&#45;&gt;13 -->\n",
       "<g id=\"edge13\" class=\"edge\">\n",
       "<title>12&#45;&gt;13</title>\n",
       "<path fill=\"none\" stroke=\"black\" d=\"M2002.04,-506.64C2047.46,-514.79 2094.11,-523.16 2133.06,-530.15\"/>\n",
       "<polygon fill=\"black\" stroke=\"black\" points=\"2132.85,-533.67 2143.31,-531.99 2134.09,-526.78 2132.85,-533.67\"/>\n",
       "</g>\n",
       "<!-- 14 -->\n",
       "<g id=\"node15\" class=\"node\">\n",
       "<title>14</title>\n",
       "<path fill=\"#fbeade\" stroke=\"black\" d=\"M2406,-494.5C2406,-494.5 2050,-494.5 2050,-494.5 2044,-494.5 2038,-488.5 2038,-482.5 2038,-482.5 2038,-423.5 2038,-423.5 2038,-417.5 2044,-411.5 2050,-411.5 2050,-411.5 2406,-411.5 2406,-411.5 2412,-411.5 2418,-417.5 2418,-423.5 2418,-423.5 2418,-482.5 2418,-482.5 2418,-488.5 2412,-494.5 2406,-494.5\"/>\n",
       "<text text-anchor=\"middle\" x=\"2228\" y=\"-479.3\" font-family=\"futura\" font-size=\"14.00\">num_transformer__standard_scaler__Age &lt;= &#45;0.097</text>\n",
       "<text text-anchor=\"middle\" x=\"2228\" y=\"-464.3\" font-family=\"futura\" font-size=\"14.00\">entropy = 0.994</text>\n",
       "<text text-anchor=\"middle\" x=\"2228\" y=\"-449.3\" font-family=\"futura\" font-size=\"14.00\">samples = 11</text>\n",
       "<text text-anchor=\"middle\" x=\"2228\" y=\"-434.3\" font-family=\"futura\" font-size=\"14.00\">value = [6, 5]</text>\n",
       "<text text-anchor=\"middle\" x=\"2228\" y=\"-419.3\" font-family=\"futura\" font-size=\"14.00\">class = nondemented</text>\n",
       "</g>\n",
       "<!-- 12&#45;&gt;14 -->\n",
       "<g id=\"edge14\" class=\"edge\">\n",
       "<title>12&#45;&gt;14</title>\n",
       "<path fill=\"none\" stroke=\"black\" d=\"M2002.04,-463.91C2010.61,-463.49 2019.22,-463.07 2027.81,-462.66\"/>\n",
       "<polygon fill=\"black\" stroke=\"black\" points=\"2028.07,-466.15 2037.89,-462.17 2027.73,-459.16 2028.07,-466.15\"/>\n",
       "</g>\n",
       "<!-- 15 -->\n",
       "<g id=\"node16\" class=\"node\">\n",
       "<title>15</title>\n",
       "<path fill=\"#399de5\" stroke=\"black\" d=\"M2698,-581C2698,-581 2579,-581 2579,-581 2573,-581 2567,-575 2567,-569 2567,-569 2567,-525 2567,-525 2567,-519 2573,-513 2579,-513 2579,-513 2698,-513 2698,-513 2704,-513 2710,-519 2710,-525 2710,-525 2710,-569 2710,-569 2710,-575 2704,-581 2698,-581\"/>\n",
       "<text text-anchor=\"middle\" x=\"2638.5\" y=\"-565.8\" font-family=\"futura\" font-size=\"14.00\">entropy = 0.0</text>\n",
       "<text text-anchor=\"middle\" x=\"2638.5\" y=\"-550.8\" font-family=\"futura\" font-size=\"14.00\">samples = 3</text>\n",
       "<text text-anchor=\"middle\" x=\"2638.5\" y=\"-535.8\" font-family=\"futura\" font-size=\"14.00\">value = [0, 3]</text>\n",
       "<text text-anchor=\"middle\" x=\"2638.5\" y=\"-520.8\" font-family=\"futura\" font-size=\"14.00\">class = demented</text>\n",
       "</g>\n",
       "<!-- 14&#45;&gt;15 -->\n",
       "<g id=\"edge15\" class=\"edge\">\n",
       "<title>14&#45;&gt;15</title>\n",
       "<path fill=\"none\" stroke=\"black\" d=\"M2409.36,-494.5C2461.01,-506.39 2514.72,-518.75 2557.04,-528.49\"/>\n",
       "<polygon fill=\"black\" stroke=\"black\" points=\"2556.46,-531.94 2566.99,-530.78 2558.03,-525.12 2556.46,-531.94\"/>\n",
       "</g>\n",
       "<!-- 16 -->\n",
       "<g id=\"node17\" class=\"node\">\n",
       "<title>16</title>\n",
       "<path fill=\"#eeab7b\" stroke=\"black\" d=\"M2801.5,-494.5C2801.5,-494.5 2475.5,-494.5 2475.5,-494.5 2469.5,-494.5 2463.5,-488.5 2463.5,-482.5 2463.5,-482.5 2463.5,-423.5 2463.5,-423.5 2463.5,-417.5 2469.5,-411.5 2475.5,-411.5 2475.5,-411.5 2801.5,-411.5 2801.5,-411.5 2807.5,-411.5 2813.5,-417.5 2813.5,-423.5 2813.5,-423.5 2813.5,-482.5 2813.5,-482.5 2813.5,-488.5 2807.5,-494.5 2801.5,-494.5\"/>\n",
       "<text text-anchor=\"middle\" x=\"2638.5\" y=\"-479.3\" font-family=\"futura\" font-size=\"14.00\">num_transformer__remainder__nWBV &lt;= 0.774</text>\n",
       "<text text-anchor=\"middle\" x=\"2638.5\" y=\"-464.3\" font-family=\"futura\" font-size=\"14.00\">entropy = 0.811</text>\n",
       "<text text-anchor=\"middle\" x=\"2638.5\" y=\"-449.3\" font-family=\"futura\" font-size=\"14.00\">samples = 8</text>\n",
       "<text text-anchor=\"middle\" x=\"2638.5\" y=\"-434.3\" font-family=\"futura\" font-size=\"14.00\">value = [6, 2]</text>\n",
       "<text text-anchor=\"middle\" x=\"2638.5\" y=\"-419.3\" font-family=\"futura\" font-size=\"14.00\">class = nondemented</text>\n",
       "</g>\n",
       "<!-- 14&#45;&gt;16 -->\n",
       "<g id=\"edge16\" class=\"edge\">\n",
       "<title>14&#45;&gt;16</title>\n",
       "<path fill=\"none\" stroke=\"black\" d=\"M2418,-453C2429.72,-453 2441.5,-453 2453.19,-453\"/>\n",
       "<polygon fill=\"black\" stroke=\"black\" points=\"2453.44,-456.5 2463.44,-453 2453.44,-449.5 2453.44,-456.5\"/>\n",
       "</g>\n",
       "<!-- 17 -->\n",
       "<g id=\"node18\" class=\"node\">\n",
       "<title>17</title>\n",
       "<path fill=\"#e58139\" stroke=\"black\" d=\"M3016,-551C3016,-551 2871,-551 2871,-551 2865,-551 2859,-545 2859,-539 2859,-539 2859,-495 2859,-495 2859,-489 2865,-483 2871,-483 2871,-483 3016,-483 3016,-483 3022,-483 3028,-489 3028,-495 3028,-495 3028,-539 3028,-539 3028,-545 3022,-551 3016,-551\"/>\n",
       "<text text-anchor=\"middle\" x=\"2943.5\" y=\"-535.8\" font-family=\"futura\" font-size=\"14.00\">entropy = 0.0</text>\n",
       "<text text-anchor=\"middle\" x=\"2943.5\" y=\"-520.8\" font-family=\"futura\" font-size=\"14.00\">samples = 5</text>\n",
       "<text text-anchor=\"middle\" x=\"2943.5\" y=\"-505.8\" font-family=\"futura\" font-size=\"14.00\">value = [5, 0]</text>\n",
       "<text text-anchor=\"middle\" x=\"2943.5\" y=\"-490.8\" font-family=\"futura\" font-size=\"14.00\">class = nondemented</text>\n",
       "</g>\n",
       "<!-- 16&#45;&gt;17 -->\n",
       "<g id=\"edge17\" class=\"edge\">\n",
       "<title>16&#45;&gt;17</title>\n",
       "<path fill=\"none\" stroke=\"black\" d=\"M2813.56,-489.77C2825.7,-492.33 2837.64,-494.85 2849.06,-497.26\"/>\n",
       "<polygon fill=\"black\" stroke=\"black\" points=\"2848.45,-500.71 2858.96,-499.35 2849.9,-493.86 2848.45,-500.71\"/>\n",
       "</g>\n",
       "<!-- 18 -->\n",
       "<g id=\"node19\" class=\"node\">\n",
       "<title>18</title>\n",
       "<path fill=\"#9ccef2\" stroke=\"black\" d=\"M3003,-465C3003,-465 2884,-465 2884,-465 2878,-465 2872,-459 2872,-453 2872,-453 2872,-409 2872,-409 2872,-403 2878,-397 2884,-397 2884,-397 3003,-397 3003,-397 3009,-397 3015,-403 3015,-409 3015,-409 3015,-453 3015,-453 3015,-459 3009,-465 3003,-465\"/>\n",
       "<text text-anchor=\"middle\" x=\"2943.5\" y=\"-449.8\" font-family=\"futura\" font-size=\"14.00\">entropy = 0.918</text>\n",
       "<text text-anchor=\"middle\" x=\"2943.5\" y=\"-434.8\" font-family=\"futura\" font-size=\"14.00\">samples = 3</text>\n",
       "<text text-anchor=\"middle\" x=\"2943.5\" y=\"-419.8\" font-family=\"futura\" font-size=\"14.00\">value = [1, 2]</text>\n",
       "<text text-anchor=\"middle\" x=\"2943.5\" y=\"-404.8\" font-family=\"futura\" font-size=\"14.00\">class = demented</text>\n",
       "</g>\n",
       "<!-- 16&#45;&gt;18 -->\n",
       "<g id=\"edge18\" class=\"edge\">\n",
       "<title>16&#45;&gt;18</title>\n",
       "<path fill=\"none\" stroke=\"black\" d=\"M2813.56,-440.36C2830.17,-439.16 2846.41,-437.98 2861.46,-436.88\"/>\n",
       "<polygon fill=\"black\" stroke=\"black\" points=\"2861.95,-440.36 2871.67,-436.14 2861.45,-433.38 2861.95,-440.36\"/>\n",
       "</g>\n",
       "<!-- 20 -->\n",
       "<g id=\"node21\" class=\"node\">\n",
       "<title>20</title>\n",
       "<path fill=\"#f0b68d\" stroke=\"black\" d=\"M1966,-373.5C1966,-373.5 1661,-373.5 1661,-373.5 1655,-373.5 1649,-367.5 1649,-361.5 1649,-361.5 1649,-302.5 1649,-302.5 1649,-296.5 1655,-290.5 1661,-290.5 1661,-290.5 1966,-290.5 1966,-290.5 1972,-290.5 1978,-296.5 1978,-302.5 1978,-302.5 1978,-361.5 1978,-361.5 1978,-367.5 1972,-373.5 1966,-373.5\"/>\n",
       "<text text-anchor=\"middle\" x=\"1813.5\" y=\"-358.3\" font-family=\"futura\" font-size=\"14.00\">cat_transformer__ohe_binary__M/F_M &lt;= 0.5</text>\n",
       "<text text-anchor=\"middle\" x=\"1813.5\" y=\"-343.3\" font-family=\"futura\" font-size=\"14.00\">entropy = 0.878</text>\n",
       "<text text-anchor=\"middle\" x=\"1813.5\" y=\"-328.3\" font-family=\"futura\" font-size=\"14.00\">samples = 37</text>\n",
       "<text text-anchor=\"middle\" x=\"1813.5\" y=\"-313.3\" font-family=\"futura\" font-size=\"14.00\">value = [26, 11]</text>\n",
       "<text text-anchor=\"middle\" x=\"1813.5\" y=\"-298.3\" font-family=\"futura\" font-size=\"14.00\">class = nondemented</text>\n",
       "</g>\n",
       "<!-- 19&#45;&gt;20 -->\n",
       "<g id=\"edge20\" class=\"edge\">\n",
       "<title>19&#45;&gt;20</title>\n",
       "<path fill=\"none\" stroke=\"black\" d=\"M1589.26,-332C1605.73,-332 1622.35,-332 1638.69,-332\"/>\n",
       "<polygon fill=\"black\" stroke=\"black\" points=\"1638.83,-335.5 1648.83,-332 1638.83,-328.5 1638.83,-335.5\"/>\n",
       "</g>\n",
       "<!-- 31 -->\n",
       "<g id=\"node32\" class=\"node\">\n",
       "<title>31</title>\n",
       "<path fill=\"#e58139\" stroke=\"black\" d=\"M1886,-272C1886,-272 1741,-272 1741,-272 1735,-272 1729,-266 1729,-260 1729,-260 1729,-216 1729,-216 1729,-210 1735,-204 1741,-204 1741,-204 1886,-204 1886,-204 1892,-204 1898,-210 1898,-216 1898,-216 1898,-260 1898,-260 1898,-266 1892,-272 1886,-272\"/>\n",
       "<text text-anchor=\"middle\" x=\"1813.5\" y=\"-256.8\" font-family=\"futura\" font-size=\"14.00\">entropy = 0.0</text>\n",
       "<text text-anchor=\"middle\" x=\"1813.5\" y=\"-241.8\" font-family=\"futura\" font-size=\"14.00\">samples = 16</text>\n",
       "<text text-anchor=\"middle\" x=\"1813.5\" y=\"-226.8\" font-family=\"futura\" font-size=\"14.00\">value = [16, 0]</text>\n",
       "<text text-anchor=\"middle\" x=\"1813.5\" y=\"-211.8\" font-family=\"futura\" font-size=\"14.00\">class = nondemented</text>\n",
       "</g>\n",
       "<!-- 19&#45;&gt;31 -->\n",
       "<g id=\"edge31\" class=\"edge\">\n",
       "<title>19&#45;&gt;31</title>\n",
       "<path fill=\"none\" stroke=\"black\" d=\"M1582.97,-290.5C1629.95,-279.75 1678.63,-268.62 1719.01,-259.38\"/>\n",
       "<polygon fill=\"black\" stroke=\"black\" points=\"1719.85,-262.78 1728.82,-257.14 1718.29,-255.96 1719.85,-262.78\"/>\n",
       "</g>\n",
       "<!-- 21 -->\n",
       "<g id=\"node22\" class=\"node\">\n",
       "<title>21</title>\n",
       "<path fill=\"#e99254\" stroke=\"black\" d=\"M2391,-373.5C2391,-373.5 2065,-373.5 2065,-373.5 2059,-373.5 2053,-367.5 2053,-361.5 2053,-361.5 2053,-302.5 2053,-302.5 2053,-296.5 2059,-290.5 2065,-290.5 2065,-290.5 2391,-290.5 2391,-290.5 2397,-290.5 2403,-296.5 2403,-302.5 2403,-302.5 2403,-361.5 2403,-361.5 2403,-367.5 2397,-373.5 2391,-373.5\"/>\n",
       "<text text-anchor=\"middle\" x=\"2228\" y=\"-358.3\" font-family=\"futura\" font-size=\"14.00\">num_transformer__remainder__nWBV &lt;= 0.758</text>\n",
       "<text text-anchor=\"middle\" x=\"2228\" y=\"-343.3\" font-family=\"futura\" font-size=\"14.00\">entropy = 0.529</text>\n",
       "<text text-anchor=\"middle\" x=\"2228\" y=\"-328.3\" font-family=\"futura\" font-size=\"14.00\">samples = 25</text>\n",
       "<text text-anchor=\"middle\" x=\"2228\" y=\"-313.3\" font-family=\"futura\" font-size=\"14.00\">value = [22, 3]</text>\n",
       "<text text-anchor=\"middle\" x=\"2228\" y=\"-298.3\" font-family=\"futura\" font-size=\"14.00\">class = nondemented</text>\n",
       "</g>\n",
       "<!-- 20&#45;&gt;21 -->\n",
       "<g id=\"edge21\" class=\"edge\">\n",
       "<title>20&#45;&gt;21</title>\n",
       "<path fill=\"none\" stroke=\"black\" d=\"M1978.12,-332C1999.29,-332 2021.08,-332 2042.56,-332\"/>\n",
       "<polygon fill=\"black\" stroke=\"black\" points=\"2042.73,-335.5 2052.73,-332 2042.73,-328.5 2042.73,-335.5\"/>\n",
       "</g>\n",
       "<!-- 26 -->\n",
       "<g id=\"node27\" class=\"node\">\n",
       "<title>26</title>\n",
       "<path fill=\"#9ccef2\" stroke=\"black\" d=\"M2384,-212.5C2384,-212.5 2072,-212.5 2072,-212.5 2066,-212.5 2060,-206.5 2060,-200.5 2060,-200.5 2060,-141.5 2060,-141.5 2060,-135.5 2066,-129.5 2072,-129.5 2072,-129.5 2384,-129.5 2384,-129.5 2390,-129.5 2396,-135.5 2396,-141.5 2396,-141.5 2396,-200.5 2396,-200.5 2396,-206.5 2390,-212.5 2384,-212.5\"/>\n",
       "<text text-anchor=\"middle\" x=\"2228\" y=\"-197.3\" font-family=\"futura\" font-size=\"14.00\">num_transformer__remainder__ASF &lt;= 1.106</text>\n",
       "<text text-anchor=\"middle\" x=\"2228\" y=\"-182.3\" font-family=\"futura\" font-size=\"14.00\">entropy = 0.918</text>\n",
       "<text text-anchor=\"middle\" x=\"2228\" y=\"-167.3\" font-family=\"futura\" font-size=\"14.00\">samples = 12</text>\n",
       "<text text-anchor=\"middle\" x=\"2228\" y=\"-152.3\" font-family=\"futura\" font-size=\"14.00\">value = [4, 8]</text>\n",
       "<text text-anchor=\"middle\" x=\"2228\" y=\"-137.3\" font-family=\"futura\" font-size=\"14.00\">class = demented</text>\n",
       "</g>\n",
       "<!-- 20&#45;&gt;26 -->\n",
       "<g id=\"edge26\" class=\"edge\">\n",
       "<title>20&#45;&gt;26</title>\n",
       "<path fill=\"none\" stroke=\"black\" d=\"M1975.22,-290.45C1984.34,-287.42 1993.32,-284.27 2002,-281 2049.58,-263.08 2100.63,-238.59 2142.06,-217.26\"/>\n",
       "<polygon fill=\"black\" stroke=\"black\" points=\"2143.75,-220.33 2151.02,-212.62 2140.53,-214.11 2143.75,-220.33\"/>\n",
       "</g>\n",
       "<!-- 22 -->\n",
       "<g id=\"node23\" class=\"node\">\n",
       "<title>22</title>\n",
       "<path fill=\"#e58139\" stroke=\"black\" d=\"M2711,-393C2711,-393 2566,-393 2566,-393 2560,-393 2554,-387 2554,-381 2554,-381 2554,-337 2554,-337 2554,-331 2560,-325 2566,-325 2566,-325 2711,-325 2711,-325 2717,-325 2723,-331 2723,-337 2723,-337 2723,-381 2723,-381 2723,-387 2717,-393 2711,-393\"/>\n",
       "<text text-anchor=\"middle\" x=\"2638.5\" y=\"-377.8\" font-family=\"futura\" font-size=\"14.00\">entropy = 0.0</text>\n",
       "<text text-anchor=\"middle\" x=\"2638.5\" y=\"-362.8\" font-family=\"futura\" font-size=\"14.00\">samples = 14</text>\n",
       "<text text-anchor=\"middle\" x=\"2638.5\" y=\"-347.8\" font-family=\"futura\" font-size=\"14.00\">value = [14, 0]</text>\n",
       "<text text-anchor=\"middle\" x=\"2638.5\" y=\"-332.8\" font-family=\"futura\" font-size=\"14.00\">class = nondemented</text>\n",
       "</g>\n",
       "<!-- 21&#45;&gt;22 -->\n",
       "<g id=\"edge22\" class=\"edge\">\n",
       "<title>21&#45;&gt;22</title>\n",
       "<path fill=\"none\" stroke=\"black\" d=\"M2403.13,-343.51C2451.44,-346.7 2502.06,-350.05 2543.83,-352.81\"/>\n",
       "<polygon fill=\"black\" stroke=\"black\" points=\"2543.77,-356.31 2553.98,-353.48 2544.23,-349.33 2543.77,-356.31\"/>\n",
       "</g>\n",
       "<!-- 23 -->\n",
       "<g id=\"node24\" class=\"node\">\n",
       "<title>23</title>\n",
       "<path fill=\"#efb083\" stroke=\"black\" d=\"M2811,-306.5C2811,-306.5 2466,-306.5 2466,-306.5 2460,-306.5 2454,-300.5 2454,-294.5 2454,-294.5 2454,-235.5 2454,-235.5 2454,-229.5 2460,-223.5 2466,-223.5 2466,-223.5 2811,-223.5 2811,-223.5 2817,-223.5 2823,-229.5 2823,-235.5 2823,-235.5 2823,-294.5 2823,-294.5 2823,-300.5 2817,-306.5 2811,-306.5\"/>\n",
       "<text text-anchor=\"middle\" x=\"2638.5\" y=\"-291.3\" font-family=\"futura\" font-size=\"14.00\">num_transformer__minmax_scaler__SES &lt;= 0.625</text>\n",
       "<text text-anchor=\"middle\" x=\"2638.5\" y=\"-276.3\" font-family=\"futura\" font-size=\"14.00\">entropy = 0.845</text>\n",
       "<text text-anchor=\"middle\" x=\"2638.5\" y=\"-261.3\" font-family=\"futura\" font-size=\"14.00\">samples = 11</text>\n",
       "<text text-anchor=\"middle\" x=\"2638.5\" y=\"-246.3\" font-family=\"futura\" font-size=\"14.00\">value = [8, 3]</text>\n",
       "<text text-anchor=\"middle\" x=\"2638.5\" y=\"-231.3\" font-family=\"futura\" font-size=\"14.00\">class = nondemented</text>\n",
       "</g>\n",
       "<!-- 21&#45;&gt;23 -->\n",
       "<g id=\"edge23\" class=\"edge\">\n",
       "<title>21&#45;&gt;23</title>\n",
       "<path fill=\"none\" stroke=\"black\" d=\"M2403.13,-303.44C2416.66,-301.22 2430.38,-298.97 2444.03,-296.73\"/>\n",
       "<polygon fill=\"black\" stroke=\"black\" points=\"2444.65,-300.18 2453.95,-295.11 2443.51,-293.27 2444.65,-300.18\"/>\n",
       "</g>\n",
       "<!-- 24 -->\n",
       "<g id=\"node25\" class=\"node\">\n",
       "<title>24</title>\n",
       "<path fill=\"#f8e0ce\" stroke=\"black\" d=\"M3016,-356C3016,-356 2871,-356 2871,-356 2865,-356 2859,-350 2859,-344 2859,-344 2859,-300 2859,-300 2859,-294 2865,-288 2871,-288 2871,-288 3016,-288 3016,-288 3022,-288 3028,-294 3028,-300 3028,-300 3028,-344 3028,-344 3028,-350 3022,-356 3016,-356\"/>\n",
       "<text text-anchor=\"middle\" x=\"2943.5\" y=\"-340.8\" font-family=\"futura\" font-size=\"14.00\">entropy = 0.985</text>\n",
       "<text text-anchor=\"middle\" x=\"2943.5\" y=\"-325.8\" font-family=\"futura\" font-size=\"14.00\">samples = 7</text>\n",
       "<text text-anchor=\"middle\" x=\"2943.5\" y=\"-310.8\" font-family=\"futura\" font-size=\"14.00\">value = [4, 3]</text>\n",
       "<text text-anchor=\"middle\" x=\"2943.5\" y=\"-295.8\" font-family=\"futura\" font-size=\"14.00\">class = nondemented</text>\n",
       "</g>\n",
       "<!-- 23&#45;&gt;24 -->\n",
       "<g id=\"edge24\" class=\"edge\">\n",
       "<title>23&#45;&gt;24</title>\n",
       "<path fill=\"none\" stroke=\"black\" d=\"M2823.18,-299.55C2831.93,-301.2 2840.53,-302.82 2848.85,-304.38\"/>\n",
       "<polygon fill=\"black\" stroke=\"black\" points=\"2848.38,-307.86 2858.86,-306.26 2849.68,-300.98 2848.38,-307.86\"/>\n",
       "</g>\n",
       "<!-- 25 -->\n",
       "<g id=\"node26\" class=\"node\">\n",
       "<title>25</title>\n",
       "<path fill=\"#e58139\" stroke=\"black\" d=\"M3016,-270C3016,-270 2871,-270 2871,-270 2865,-270 2859,-264 2859,-258 2859,-258 2859,-214 2859,-214 2859,-208 2865,-202 2871,-202 2871,-202 3016,-202 3016,-202 3022,-202 3028,-208 3028,-214 3028,-214 3028,-258 3028,-258 3028,-264 3022,-270 3016,-270\"/>\n",
       "<text text-anchor=\"middle\" x=\"2943.5\" y=\"-254.8\" font-family=\"futura\" font-size=\"14.00\">entropy = 0.0</text>\n",
       "<text text-anchor=\"middle\" x=\"2943.5\" y=\"-239.8\" font-family=\"futura\" font-size=\"14.00\">samples = 4</text>\n",
       "<text text-anchor=\"middle\" x=\"2943.5\" y=\"-224.8\" font-family=\"futura\" font-size=\"14.00\">value = [4, 0]</text>\n",
       "<text text-anchor=\"middle\" x=\"2943.5\" y=\"-209.8\" font-family=\"futura\" font-size=\"14.00\">class = nondemented</text>\n",
       "</g>\n",
       "<!-- 23&#45;&gt;25 -->\n",
       "<g id=\"edge25\" class=\"edge\">\n",
       "<title>23&#45;&gt;25</title>\n",
       "<path fill=\"none\" stroke=\"black\" d=\"M2823.18,-247.42C2831.93,-246.58 2840.53,-245.76 2848.85,-244.96\"/>\n",
       "<polygon fill=\"black\" stroke=\"black\" points=\"2849.23,-248.44 2858.86,-244.01 2848.57,-241.47 2849.23,-248.44\"/>\n",
       "</g>\n",
       "<!-- 27 -->\n",
       "<g id=\"node28\" class=\"node\">\n",
       "<title>27</title>\n",
       "<path fill=\"#f6d5bd\" stroke=\"black\" d=\"M2711,-205C2711,-205 2566,-205 2566,-205 2560,-205 2554,-199 2554,-193 2554,-193 2554,-149 2554,-149 2554,-143 2560,-137 2566,-137 2566,-137 2711,-137 2711,-137 2717,-137 2723,-143 2723,-149 2723,-149 2723,-193 2723,-193 2723,-199 2717,-205 2711,-205\"/>\n",
       "<text text-anchor=\"middle\" x=\"2638.5\" y=\"-189.8\" font-family=\"futura\" font-size=\"14.00\">entropy = 0.971</text>\n",
       "<text text-anchor=\"middle\" x=\"2638.5\" y=\"-174.8\" font-family=\"futura\" font-size=\"14.00\">samples = 5</text>\n",
       "<text text-anchor=\"middle\" x=\"2638.5\" y=\"-159.8\" font-family=\"futura\" font-size=\"14.00\">value = [3, 2]</text>\n",
       "<text text-anchor=\"middle\" x=\"2638.5\" y=\"-144.8\" font-family=\"futura\" font-size=\"14.00\">class = nondemented</text>\n",
       "</g>\n",
       "<!-- 26&#45;&gt;27 -->\n",
       "<g id=\"edge27\" class=\"edge\">\n",
       "<title>26&#45;&gt;27</title>\n",
       "<path fill=\"none\" stroke=\"black\" d=\"M2396.04,-171C2446.46,-171 2500.01,-171 2543.83,-171\"/>\n",
       "<polygon fill=\"black\" stroke=\"black\" points=\"2543.89,-174.5 2553.89,-171 2543.89,-167.5 2543.89,-174.5\"/>\n",
       "</g>\n",
       "<!-- 28 -->\n",
       "<g id=\"node29\" class=\"node\">\n",
       "<title>28</title>\n",
       "<path fill=\"#5aade9\" stroke=\"black\" d=\"M2807,-118.5C2807,-118.5 2470,-118.5 2470,-118.5 2464,-118.5 2458,-112.5 2458,-106.5 2458,-106.5 2458,-47.5 2458,-47.5 2458,-41.5 2464,-35.5 2470,-35.5 2470,-35.5 2807,-35.5 2807,-35.5 2813,-35.5 2819,-41.5 2819,-47.5 2819,-47.5 2819,-106.5 2819,-106.5 2819,-112.5 2813,-118.5 2807,-118.5\"/>\n",
       "<text text-anchor=\"middle\" x=\"2638.5\" y=\"-103.3\" font-family=\"futura\" font-size=\"14.00\">num_transformer__robust_scaler__eTIV &lt;= 0.168</text>\n",
       "<text text-anchor=\"middle\" x=\"2638.5\" y=\"-88.3\" font-family=\"futura\" font-size=\"14.00\">entropy = 0.592</text>\n",
       "<text text-anchor=\"middle\" x=\"2638.5\" y=\"-73.3\" font-family=\"futura\" font-size=\"14.00\">samples = 7</text>\n",
       "<text text-anchor=\"middle\" x=\"2638.5\" y=\"-58.3\" font-family=\"futura\" font-size=\"14.00\">value = [1, 6]</text>\n",
       "<text text-anchor=\"middle\" x=\"2638.5\" y=\"-43.3\" font-family=\"futura\" font-size=\"14.00\">class = demented</text>\n",
       "</g>\n",
       "<!-- 26&#45;&gt;28 -->\n",
       "<g id=\"edge28\" class=\"edge\">\n",
       "<title>26&#45;&gt;28</title>\n",
       "<path fill=\"none\" stroke=\"black\" d=\"M2396.04,-132.56C2413.08,-128.64 2430.49,-124.63 2447.76,-120.66\"/>\n",
       "<polygon fill=\"black\" stroke=\"black\" points=\"2448.94,-123.98 2457.9,-118.33 2447.37,-117.16 2448.94,-123.98\"/>\n",
       "</g>\n",
       "<!-- 29 -->\n",
       "<g id=\"node30\" class=\"node\">\n",
       "<title>29</title>\n",
       "<path fill=\"#9ccef2\" stroke=\"black\" d=\"M3003,-154C3003,-154 2884,-154 2884,-154 2878,-154 2872,-148 2872,-142 2872,-142 2872,-98 2872,-98 2872,-92 2878,-86 2884,-86 2884,-86 3003,-86 3003,-86 3009,-86 3015,-92 3015,-98 3015,-98 3015,-142 3015,-142 3015,-148 3009,-154 3003,-154\"/>\n",
       "<text text-anchor=\"middle\" x=\"2943.5\" y=\"-138.8\" font-family=\"futura\" font-size=\"14.00\">entropy = 0.918</text>\n",
       "<text text-anchor=\"middle\" x=\"2943.5\" y=\"-123.8\" font-family=\"futura\" font-size=\"14.00\">samples = 3</text>\n",
       "<text text-anchor=\"middle\" x=\"2943.5\" y=\"-108.8\" font-family=\"futura\" font-size=\"14.00\">value = [1, 2]</text>\n",
       "<text text-anchor=\"middle\" x=\"2943.5\" y=\"-93.8\" font-family=\"futura\" font-size=\"14.00\">class = demented</text>\n",
       "</g>\n",
       "<!-- 28&#45;&gt;29 -->\n",
       "<g id=\"edge29\" class=\"edge\">\n",
       "<title>28&#45;&gt;29</title>\n",
       "<path fill=\"none\" stroke=\"black\" d=\"M2819.26,-102.51C2833.98,-104.6 2848.34,-106.64 2861.74,-108.54\"/>\n",
       "<polygon fill=\"black\" stroke=\"black\" points=\"2861.4,-112.03 2871.79,-109.97 2862.39,-105.1 2861.4,-112.03\"/>\n",
       "</g>\n",
       "<!-- 30 -->\n",
       "<g id=\"node31\" class=\"node\">\n",
       "<title>30</title>\n",
       "<path fill=\"#399de5\" stroke=\"black\" d=\"M3003,-68C3003,-68 2884,-68 2884,-68 2878,-68 2872,-62 2872,-56 2872,-56 2872,-12 2872,-12 2872,-6 2878,0 2884,0 2884,0 3003,0 3003,0 3009,0 3015,-6 3015,-12 3015,-12 3015,-56 3015,-56 3015,-62 3009,-68 3003,-68\"/>\n",
       "<text text-anchor=\"middle\" x=\"2943.5\" y=\"-52.8\" font-family=\"futura\" font-size=\"14.00\">entropy = 0.0</text>\n",
       "<text text-anchor=\"middle\" x=\"2943.5\" y=\"-37.8\" font-family=\"futura\" font-size=\"14.00\">samples = 4</text>\n",
       "<text text-anchor=\"middle\" x=\"2943.5\" y=\"-22.8\" font-family=\"futura\" font-size=\"14.00\">value = [0, 4]</text>\n",
       "<text text-anchor=\"middle\" x=\"2943.5\" y=\"-7.8\" font-family=\"futura\" font-size=\"14.00\">class = demented</text>\n",
       "</g>\n",
       "<!-- 28&#45;&gt;30 -->\n",
       "<g id=\"edge30\" class=\"edge\">\n",
       "<title>28&#45;&gt;30</title>\n",
       "<path fill=\"none\" stroke=\"black\" d=\"M2819.26,-51.49C2833.98,-49.4 2848.34,-47.36 2861.74,-45.46\"/>\n",
       "<polygon fill=\"black\" stroke=\"black\" points=\"2862.39,-48.9 2871.79,-44.03 2861.4,-41.97 2862.39,-48.9\"/>\n",
       "</g>\n",
       "</g>\n",
       "</svg>\n"
      ],
      "text/plain": [
       "<graphviz.sources.Source at 0x7f79fd912d90>"
      ]
     },
     "metadata": {},
     "output_type": "display_data"
    }
   ],
   "source": [
    "# Export model graph\n",
    "export_graphviz(best_tree, out_file=\"best_tree.dot\", \n",
    "                feature_names=X_train_trial.columns,\n",
    "                class_names=['nondemented', 'demented'], \n",
    "                rounded=True,\n",
    "                filled=True,\n",
    "                rotate = True,\n",
    "                fontname = 'futura')\n",
    "\n",
    "# Import model graph\n",
    "with open(\"best_tree.dot\") as f:\n",
    "    dot_graph = f.read()\n",
    "    display(graphviz.Source(dot_graph))"
   ]
  },
  {
   "cell_type": "markdown",
   "id": "c17f8869",
   "metadata": {},
   "source": [
    "<big> Conclusion: </big>\n",
    "\n",
    "y_train = 76 demented, 100 nondemented\n",
    "\n",
    "y_pred = 61 demented, 115 nondemented"
   ]
  },
  {
   "cell_type": "markdown",
   "id": "b3cf05df",
   "metadata": {},
   "source": [
    "## Random Forest"
   ]
  },
  {
   "cell_type": "markdown",
   "id": "eaea8058",
   "metadata": {},
   "source": [
    "### Grid Searching"
   ]
  },
  {
   "cell_type": "code",
   "execution_count": 78,
   "id": "b8a05ea9",
   "metadata": {},
   "outputs": [],
   "source": [
    "# CREATING  RANDOM GRID\n",
    "# Number of trees in random forest\n",
    "n_estimators = [int(x) for x in np.linspace(start = 200, stop = 2000, num = 10)]\n",
    "# Number of features to consider at every split\n",
    "max_features = ['auto', 'sqrt']\n",
    "# Maximum number of levels in tree\n",
    "max_depth = [int(x) for x in np.linspace(10, 110, num = 11)]\n",
    "max_depth.append(None)\n",
    "# Minimum number of samples required to split a node\n",
    "min_samples_split = [2, 5, 10]\n",
    "# Minimum number of samples required at each leaf node\n",
    "min_samples_leaf = [1, 2, 4]\n",
    "# Method of selecting samples for training each tree\n",
    "bootstrap = [True, False]\n",
    "\n",
    "random_grid = {'n_estimators': n_estimators,\n",
    "               'max_features': max_features,\n",
    "               'max_depth': max_depth,\n",
    "               'min_samples_split': min_samples_split,\n",
    "               'min_samples_leaf': min_samples_leaf,\n",
    "               'bootstrap': bootstrap}"
   ]
  },
  {
   "cell_type": "code",
   "execution_count": 79,
   "id": "86fda036",
   "metadata": {},
   "outputs": [
    {
     "name": "stdout",
     "output_type": "stream",
     "text": [
      "Fitting 5 folds for each of 20 candidates, totalling 100 fits\n"
     ]
    },
    {
     "data": {
      "text/html": [
       "<style>#sk-ef600355-23ed-48f4-aee3-cf2f6ee1f7d3 {color: black;background-color: white;}#sk-ef600355-23ed-48f4-aee3-cf2f6ee1f7d3 pre{padding: 0;}#sk-ef600355-23ed-48f4-aee3-cf2f6ee1f7d3 div.sk-toggleable {background-color: white;}#sk-ef600355-23ed-48f4-aee3-cf2f6ee1f7d3 label.sk-toggleable__label {cursor: pointer;display: block;width: 100%;margin-bottom: 0;padding: 0.3em;box-sizing: border-box;text-align: center;}#sk-ef600355-23ed-48f4-aee3-cf2f6ee1f7d3 label.sk-toggleable__label-arrow:before {content: \"▸\";float: left;margin-right: 0.25em;color: #696969;}#sk-ef600355-23ed-48f4-aee3-cf2f6ee1f7d3 label.sk-toggleable__label-arrow:hover:before {color: black;}#sk-ef600355-23ed-48f4-aee3-cf2f6ee1f7d3 div.sk-estimator:hover label.sk-toggleable__label-arrow:before {color: black;}#sk-ef600355-23ed-48f4-aee3-cf2f6ee1f7d3 div.sk-toggleable__content {max-height: 0;max-width: 0;overflow: hidden;text-align: left;background-color: #f0f8ff;}#sk-ef600355-23ed-48f4-aee3-cf2f6ee1f7d3 div.sk-toggleable__content pre {margin: 0.2em;color: black;border-radius: 0.25em;background-color: #f0f8ff;}#sk-ef600355-23ed-48f4-aee3-cf2f6ee1f7d3 input.sk-toggleable__control:checked~div.sk-toggleable__content {max-height: 200px;max-width: 100%;overflow: auto;}#sk-ef600355-23ed-48f4-aee3-cf2f6ee1f7d3 input.sk-toggleable__control:checked~label.sk-toggleable__label-arrow:before {content: \"▾\";}#sk-ef600355-23ed-48f4-aee3-cf2f6ee1f7d3 div.sk-estimator input.sk-toggleable__control:checked~label.sk-toggleable__label {background-color: #d4ebff;}#sk-ef600355-23ed-48f4-aee3-cf2f6ee1f7d3 div.sk-label input.sk-toggleable__control:checked~label.sk-toggleable__label {background-color: #d4ebff;}#sk-ef600355-23ed-48f4-aee3-cf2f6ee1f7d3 input.sk-hidden--visually {border: 0;clip: rect(1px 1px 1px 1px);clip: rect(1px, 1px, 1px, 1px);height: 1px;margin: -1px;overflow: hidden;padding: 0;position: absolute;width: 1px;}#sk-ef600355-23ed-48f4-aee3-cf2f6ee1f7d3 div.sk-estimator {font-family: monospace;background-color: #f0f8ff;border: 1px dotted black;border-radius: 0.25em;box-sizing: border-box;margin-bottom: 0.5em;}#sk-ef600355-23ed-48f4-aee3-cf2f6ee1f7d3 div.sk-estimator:hover {background-color: #d4ebff;}#sk-ef600355-23ed-48f4-aee3-cf2f6ee1f7d3 div.sk-parallel-item::after {content: \"\";width: 100%;border-bottom: 1px solid gray;flex-grow: 1;}#sk-ef600355-23ed-48f4-aee3-cf2f6ee1f7d3 div.sk-label:hover label.sk-toggleable__label {background-color: #d4ebff;}#sk-ef600355-23ed-48f4-aee3-cf2f6ee1f7d3 div.sk-serial::before {content: \"\";position: absolute;border-left: 1px solid gray;box-sizing: border-box;top: 2em;bottom: 0;left: 50%;}#sk-ef600355-23ed-48f4-aee3-cf2f6ee1f7d3 div.sk-serial {display: flex;flex-direction: column;align-items: center;background-color: white;padding-right: 0.2em;padding-left: 0.2em;}#sk-ef600355-23ed-48f4-aee3-cf2f6ee1f7d3 div.sk-item {z-index: 1;}#sk-ef600355-23ed-48f4-aee3-cf2f6ee1f7d3 div.sk-parallel {display: flex;align-items: stretch;justify-content: center;background-color: white;}#sk-ef600355-23ed-48f4-aee3-cf2f6ee1f7d3 div.sk-parallel::before {content: \"\";position: absolute;border-left: 1px solid gray;box-sizing: border-box;top: 2em;bottom: 0;left: 50%;}#sk-ef600355-23ed-48f4-aee3-cf2f6ee1f7d3 div.sk-parallel-item {display: flex;flex-direction: column;position: relative;background-color: white;}#sk-ef600355-23ed-48f4-aee3-cf2f6ee1f7d3 div.sk-parallel-item:first-child::after {align-self: flex-end;width: 50%;}#sk-ef600355-23ed-48f4-aee3-cf2f6ee1f7d3 div.sk-parallel-item:last-child::after {align-self: flex-start;width: 50%;}#sk-ef600355-23ed-48f4-aee3-cf2f6ee1f7d3 div.sk-parallel-item:only-child::after {width: 0;}#sk-ef600355-23ed-48f4-aee3-cf2f6ee1f7d3 div.sk-dashed-wrapped {border: 1px dashed gray;margin: 0 0.4em 0.5em 0.4em;box-sizing: border-box;padding-bottom: 0.4em;background-color: white;position: relative;}#sk-ef600355-23ed-48f4-aee3-cf2f6ee1f7d3 div.sk-label label {font-family: monospace;font-weight: bold;background-color: white;display: inline-block;line-height: 1.2em;}#sk-ef600355-23ed-48f4-aee3-cf2f6ee1f7d3 div.sk-label-container {position: relative;z-index: 2;text-align: center;}#sk-ef600355-23ed-48f4-aee3-cf2f6ee1f7d3 div.sk-container {/* jupyter's `normalize.less` sets `[hidden] { display: none; }` but bootstrap.min.css set `[hidden] { display: none !important; }` so we also need the `!important` here to be able to override the default hidden behavior on the sphinx rendered scikit-learn.org. See: https://github.com/scikit-learn/scikit-learn/issues/21755 */display: inline-block !important;position: relative;}#sk-ef600355-23ed-48f4-aee3-cf2f6ee1f7d3 div.sk-text-repr-fallback {display: none;}</style><div id=\"sk-ef600355-23ed-48f4-aee3-cf2f6ee1f7d3\" class=\"sk-top-container\"><div class=\"sk-text-repr-fallback\"><pre>RandomizedSearchCV(cv=5, estimator=RandomForestClassifier(), n_iter=20,\n",
       "                   n_jobs=-1,\n",
       "                   param_distributions={&#x27;bootstrap&#x27;: [True, False],\n",
       "                                        &#x27;max_depth&#x27;: [10, 20, 30, 40, 50, 60,\n",
       "                                                      70, 80, 90, 100, 110,\n",
       "                                                      None],\n",
       "                                        &#x27;max_features&#x27;: [&#x27;auto&#x27;, &#x27;sqrt&#x27;],\n",
       "                                        &#x27;min_samples_leaf&#x27;: [1, 2, 4],\n",
       "                                        &#x27;min_samples_split&#x27;: [2, 5, 10],\n",
       "                                        &#x27;n_estimators&#x27;: [200, 400, 600, 800,\n",
       "                                                         1000, 1200, 1400, 1600,\n",
       "                                                         1800, 2000]},\n",
       "                   random_state=42, verbose=2)</pre><b>Please rerun this cell to show the HTML repr or trust the notebook.</b></div><div class=\"sk-container\" hidden><div class=\"sk-item sk-dashed-wrapped\"><div class=\"sk-label-container\"><div class=\"sk-label sk-toggleable\"><input class=\"sk-toggleable__control sk-hidden--visually\" id=\"e116d441-8d4b-4e1a-8424-b0e2c989f395\" type=\"checkbox\" ><label for=\"e116d441-8d4b-4e1a-8424-b0e2c989f395\" class=\"sk-toggleable__label sk-toggleable__label-arrow\">RandomizedSearchCV</label><div class=\"sk-toggleable__content\"><pre>RandomizedSearchCV(cv=5, estimator=RandomForestClassifier(), n_iter=20,\n",
       "                   n_jobs=-1,\n",
       "                   param_distributions={&#x27;bootstrap&#x27;: [True, False],\n",
       "                                        &#x27;max_depth&#x27;: [10, 20, 30, 40, 50, 60,\n",
       "                                                      70, 80, 90, 100, 110,\n",
       "                                                      None],\n",
       "                                        &#x27;max_features&#x27;: [&#x27;auto&#x27;, &#x27;sqrt&#x27;],\n",
       "                                        &#x27;min_samples_leaf&#x27;: [1, 2, 4],\n",
       "                                        &#x27;min_samples_split&#x27;: [2, 5, 10],\n",
       "                                        &#x27;n_estimators&#x27;: [200, 400, 600, 800,\n",
       "                                                         1000, 1200, 1400, 1600,\n",
       "                                                         1800, 2000]},\n",
       "                   random_state=42, verbose=2)</pre></div></div></div><div class=\"sk-parallel\"><div class=\"sk-parallel-item\"><div class=\"sk-item\"><div class=\"sk-serial\"><div class=\"sk-item\"><div class=\"sk-estimator sk-toggleable\"><input class=\"sk-toggleable__control sk-hidden--visually\" id=\"677400c3-16ae-4635-b437-ba9368c5648b\" type=\"checkbox\" ><label for=\"677400c3-16ae-4635-b437-ba9368c5648b\" class=\"sk-toggleable__label sk-toggleable__label-arrow\">RandomForestClassifier</label><div class=\"sk-toggleable__content\"><pre>RandomForestClassifier()</pre></div></div></div></div></div></div></div></div></div></div>"
      ],
      "text/plain": [
       "RandomizedSearchCV(cv=5, estimator=RandomForestClassifier(), n_iter=20,\n",
       "                   n_jobs=-1,\n",
       "                   param_distributions={'bootstrap': [True, False],\n",
       "                                        'max_depth': [10, 20, 30, 40, 50, 60,\n",
       "                                                      70, 80, 90, 100, 110,\n",
       "                                                      None],\n",
       "                                        'max_features': ['auto', 'sqrt'],\n",
       "                                        'min_samples_leaf': [1, 2, 4],\n",
       "                                        'min_samples_split': [2, 5, 10],\n",
       "                                        'n_estimators': [200, 400, 600, 800,\n",
       "                                                         1000, 1200, 1400, 1600,\n",
       "                                                         1800, 2000]},\n",
       "                   random_state=42, verbose=2)"
      ]
     },
     "execution_count": 79,
     "metadata": {},
     "output_type": "execute_result"
    }
   ],
   "source": [
    "rf = RandomForestClassifier()\n",
    "rf_random = RandomizedSearchCV(estimator = rf, \n",
    "                               param_distributions = random_grid, \n",
    "                               n_iter = 20, \n",
    "                               cv = 5, \n",
    "                               verbose=2, \n",
    "                               random_state=42, \n",
    "                               n_jobs = -1)\n",
    "rf_random.fit(X_train, y_train)"
   ]
  },
  {
   "cell_type": "markdown",
   "id": "5ff03707",
   "metadata": {},
   "source": [
    "### Best Forest"
   ]
  },
  {
   "cell_type": "code",
   "execution_count": 80,
   "id": "60049088",
   "metadata": {},
   "outputs": [
    {
     "data": {
      "text/html": [
       "<style>#sk-21f4b2df-9267-4998-972d-1f13c525ce18 {color: black;background-color: white;}#sk-21f4b2df-9267-4998-972d-1f13c525ce18 pre{padding: 0;}#sk-21f4b2df-9267-4998-972d-1f13c525ce18 div.sk-toggleable {background-color: white;}#sk-21f4b2df-9267-4998-972d-1f13c525ce18 label.sk-toggleable__label {cursor: pointer;display: block;width: 100%;margin-bottom: 0;padding: 0.3em;box-sizing: border-box;text-align: center;}#sk-21f4b2df-9267-4998-972d-1f13c525ce18 label.sk-toggleable__label-arrow:before {content: \"▸\";float: left;margin-right: 0.25em;color: #696969;}#sk-21f4b2df-9267-4998-972d-1f13c525ce18 label.sk-toggleable__label-arrow:hover:before {color: black;}#sk-21f4b2df-9267-4998-972d-1f13c525ce18 div.sk-estimator:hover label.sk-toggleable__label-arrow:before {color: black;}#sk-21f4b2df-9267-4998-972d-1f13c525ce18 div.sk-toggleable__content {max-height: 0;max-width: 0;overflow: hidden;text-align: left;background-color: #f0f8ff;}#sk-21f4b2df-9267-4998-972d-1f13c525ce18 div.sk-toggleable__content pre {margin: 0.2em;color: black;border-radius: 0.25em;background-color: #f0f8ff;}#sk-21f4b2df-9267-4998-972d-1f13c525ce18 input.sk-toggleable__control:checked~div.sk-toggleable__content {max-height: 200px;max-width: 100%;overflow: auto;}#sk-21f4b2df-9267-4998-972d-1f13c525ce18 input.sk-toggleable__control:checked~label.sk-toggleable__label-arrow:before {content: \"▾\";}#sk-21f4b2df-9267-4998-972d-1f13c525ce18 div.sk-estimator input.sk-toggleable__control:checked~label.sk-toggleable__label {background-color: #d4ebff;}#sk-21f4b2df-9267-4998-972d-1f13c525ce18 div.sk-label input.sk-toggleable__control:checked~label.sk-toggleable__label {background-color: #d4ebff;}#sk-21f4b2df-9267-4998-972d-1f13c525ce18 input.sk-hidden--visually {border: 0;clip: rect(1px 1px 1px 1px);clip: rect(1px, 1px, 1px, 1px);height: 1px;margin: -1px;overflow: hidden;padding: 0;position: absolute;width: 1px;}#sk-21f4b2df-9267-4998-972d-1f13c525ce18 div.sk-estimator {font-family: monospace;background-color: #f0f8ff;border: 1px dotted black;border-radius: 0.25em;box-sizing: border-box;margin-bottom: 0.5em;}#sk-21f4b2df-9267-4998-972d-1f13c525ce18 div.sk-estimator:hover {background-color: #d4ebff;}#sk-21f4b2df-9267-4998-972d-1f13c525ce18 div.sk-parallel-item::after {content: \"\";width: 100%;border-bottom: 1px solid gray;flex-grow: 1;}#sk-21f4b2df-9267-4998-972d-1f13c525ce18 div.sk-label:hover label.sk-toggleable__label {background-color: #d4ebff;}#sk-21f4b2df-9267-4998-972d-1f13c525ce18 div.sk-serial::before {content: \"\";position: absolute;border-left: 1px solid gray;box-sizing: border-box;top: 2em;bottom: 0;left: 50%;}#sk-21f4b2df-9267-4998-972d-1f13c525ce18 div.sk-serial {display: flex;flex-direction: column;align-items: center;background-color: white;padding-right: 0.2em;padding-left: 0.2em;}#sk-21f4b2df-9267-4998-972d-1f13c525ce18 div.sk-item {z-index: 1;}#sk-21f4b2df-9267-4998-972d-1f13c525ce18 div.sk-parallel {display: flex;align-items: stretch;justify-content: center;background-color: white;}#sk-21f4b2df-9267-4998-972d-1f13c525ce18 div.sk-parallel::before {content: \"\";position: absolute;border-left: 1px solid gray;box-sizing: border-box;top: 2em;bottom: 0;left: 50%;}#sk-21f4b2df-9267-4998-972d-1f13c525ce18 div.sk-parallel-item {display: flex;flex-direction: column;position: relative;background-color: white;}#sk-21f4b2df-9267-4998-972d-1f13c525ce18 div.sk-parallel-item:first-child::after {align-self: flex-end;width: 50%;}#sk-21f4b2df-9267-4998-972d-1f13c525ce18 div.sk-parallel-item:last-child::after {align-self: flex-start;width: 50%;}#sk-21f4b2df-9267-4998-972d-1f13c525ce18 div.sk-parallel-item:only-child::after {width: 0;}#sk-21f4b2df-9267-4998-972d-1f13c525ce18 div.sk-dashed-wrapped {border: 1px dashed gray;margin: 0 0.4em 0.5em 0.4em;box-sizing: border-box;padding-bottom: 0.4em;background-color: white;position: relative;}#sk-21f4b2df-9267-4998-972d-1f13c525ce18 div.sk-label label {font-family: monospace;font-weight: bold;background-color: white;display: inline-block;line-height: 1.2em;}#sk-21f4b2df-9267-4998-972d-1f13c525ce18 div.sk-label-container {position: relative;z-index: 2;text-align: center;}#sk-21f4b2df-9267-4998-972d-1f13c525ce18 div.sk-container {/* jupyter's `normalize.less` sets `[hidden] { display: none; }` but bootstrap.min.css set `[hidden] { display: none !important; }` so we also need the `!important` here to be able to override the default hidden behavior on the sphinx rendered scikit-learn.org. See: https://github.com/scikit-learn/scikit-learn/issues/21755 */display: inline-block !important;position: relative;}#sk-21f4b2df-9267-4998-972d-1f13c525ce18 div.sk-text-repr-fallback {display: none;}</style><div id=\"sk-21f4b2df-9267-4998-972d-1f13c525ce18\" class=\"sk-top-container\"><div class=\"sk-text-repr-fallback\"><pre>RandomForestClassifier(bootstrap=False, max_depth=80, min_samples_split=10,\n",
       "                       n_estimators=1000)</pre><b>Please rerun this cell to show the HTML repr or trust the notebook.</b></div><div class=\"sk-container\" hidden><div class=\"sk-item\"><div class=\"sk-estimator sk-toggleable\"><input class=\"sk-toggleable__control sk-hidden--visually\" id=\"80175cad-47b0-4fb9-b894-3f4cfdd28d81\" type=\"checkbox\" checked><label for=\"80175cad-47b0-4fb9-b894-3f4cfdd28d81\" class=\"sk-toggleable__label sk-toggleable__label-arrow\">RandomForestClassifier</label><div class=\"sk-toggleable__content\"><pre>RandomForestClassifier(bootstrap=False, max_depth=80, min_samples_split=10,\n",
       "                       n_estimators=1000)</pre></div></div></div></div></div>"
      ],
      "text/plain": [
       "RandomForestClassifier(bootstrap=False, max_depth=80, min_samples_split=10,\n",
       "                       n_estimators=1000)"
      ]
     },
     "execution_count": 80,
     "metadata": {},
     "output_type": "execute_result"
    }
   ],
   "source": [
    "# Defining best estimator for random forest\n",
    "best_rf = rf_random.best_estimator_\n",
    "\n",
    "# Fitting best random forest\n",
    "best_rf.fit(X_train, y_train)"
   ]
  },
  {
   "cell_type": "markdown",
   "id": "5d1ed483",
   "metadata": {},
   "source": [
    "# XGBoost\n",
    "\n",
    "- Sequential method\n",
    "- Reduce bias\n",
    "- Best weak learners given more weight"
   ]
  },
  {
   "cell_type": "code",
   "execution_count": 81,
   "id": "5d03fbb9",
   "metadata": {},
   "outputs": [
    {
     "name": "stderr",
     "output_type": "stream",
     "text": [
      "/home/cynthias13w/.pyenv/versions/3.8.12/envs/memobrain/lib/python3.8/site-packages/xgboost/sklearn.py:1224: UserWarning: The use of label encoder in XGBClassifier is deprecated and will be removed in a future release. To remove this warning, do the following: 1) Pass option use_label_encoder=False when constructing XGBClassifier object; and 2) Encode your labels (y) as integers starting with 0, i.e. 0, 1, 2, ..., [num_class - 1].\n",
      "  warnings.warn(label_encoder_deprecation_msg, UserWarning)\n",
      "/home/cynthias13w/.pyenv/versions/3.8.12/envs/memobrain/lib/python3.8/site-packages/xgboost/data.py:262: FutureWarning: pandas.Int64Index is deprecated and will be removed from pandas in a future version. Use pandas.Index with the appropriate dtype instead.\n",
      "  elif isinstance(data.columns, (pd.Int64Index, pd.RangeIndex)):\n"
     ]
    },
    {
     "name": "stdout",
     "output_type": "stream",
     "text": [
      "[09:24:44] WARNING: ../src/learner.cc:1115: Starting in XGBoost 1.3.0, the default evaluation metric used with the objective 'binary:logistic' was changed from 'error' to 'logloss'. Explicitly set eval_metric if you'd like to restore the old behavior.\n"
     ]
    },
    {
     "data": {
      "text/plain": [
       "0.7241379310344828"
      ]
     },
     "execution_count": 81,
     "metadata": {},
     "output_type": "execute_result"
    }
   ],
   "source": [
    "# Instantiating classifier\n",
    "xgb_cl = xgb.XGBClassifier(objective=\"binary:logistic\")\n",
    "\n",
    "# Fit\n",
    "xgb_cl.fit(X_train, y_train)\n",
    "\n",
    "# Predict\n",
    "preds = xgb_cl.predict(X_test)\n",
    "\n",
    "# Score\n",
    "recall_score(y_test, preds)"
   ]
  },
  {
   "cell_type": "markdown",
   "id": "31b5245f",
   "metadata": {},
   "source": [
    "### Grid Searching"
   ]
  },
  {
   "cell_type": "code",
   "execution_count": 82,
   "id": "5a84f4f1",
   "metadata": {},
   "outputs": [],
   "source": [
    "param_grid = {\n",
    "    \"max_depth\": [3, 4, 5, 7],\n",
    "    \"learning_rate\": [0.1, 0.01, 0.05],\n",
    "    \"gamma\": [0, 0.25, 1],\n",
    "    \"reg_lambda\": [0, 1, 10],\n",
    "    \"scale_pos_weight\": [1, 3, 5],\n",
    "    \"subsample\": [0.8],\n",
    "    \"colsample_bytree\": [0.5],\n",
    "}"
   ]
  },
  {
   "cell_type": "code",
   "execution_count": 83,
   "id": "d1b2476e",
   "metadata": {},
   "outputs": [],
   "source": [
    "grid_cv = GridSearchCV(xgb_cl, \n",
    "                       param_grid, \n",
    "                       n_jobs=-1, \n",
    "                       cv=3, \n",
    "                       scoring=\"recall\")"
   ]
  },
  {
   "cell_type": "code",
   "execution_count": 84,
   "id": "420565de",
   "metadata": {},
   "outputs": [
    {
     "ename": "AttributeError",
     "evalue": "'GridSearchCV' object has no attribute 'best_estimator_'",
     "output_type": "error",
     "traceback": [
      "\u001b[0;31m---------------------------------------------------------------------------\u001b[0m",
      "\u001b[0;31mAttributeError\u001b[0m                            Traceback (most recent call last)",
      "Input \u001b[0;32mIn [84]\u001b[0m, in \u001b[0;36m<cell line: 1>\u001b[0;34m()\u001b[0m\n\u001b[0;32m----> 1\u001b[0m best_xgb \u001b[38;5;241m=\u001b[39m \u001b[43mgrid_cv\u001b[49m\u001b[38;5;241;43m.\u001b[39;49m\u001b[43mbest_estimator_\u001b[49m\n",
      "\u001b[0;31mAttributeError\u001b[0m: 'GridSearchCV' object has no attribute 'best_estimator_'"
     ]
    }
   ],
   "source": [
    "best_xgb = grid_cv.best_estimator_"
   ]
  },
  {
   "cell_type": "code",
   "execution_count": null,
   "id": "d0432580",
   "metadata": {},
   "outputs": [],
   "source": [
    "best_xgb.fit(X_train, y_train)"
   ]
  },
  {
   "cell_type": "code",
   "execution_count": null,
   "id": "85c9a2e9",
   "metadata": {},
   "outputs": [],
   "source": [
    "# Predict\n",
    "best_xgb_pred = best_xgb.predict(X_test)\n",
    "\n",
    "# Score\n",
    "recall_score(y_test, best_xgb_pred)"
   ]
  },
  {
   "cell_type": "markdown",
   "id": "c03028a9",
   "metadata": {},
   "source": [
    "# Exporting Data"
   ]
  },
  {
   "cell_type": "code",
   "execution_count": null,
   "id": "c3ac7ebf",
   "metadata": {},
   "outputs": [],
   "source": [
    "frames=[X_scaled, y]\n",
    "frames"
   ]
  },
  {
   "cell_type": "code",
   "execution_count": null,
   "id": "c3b2d0d3",
   "metadata": {},
   "outputs": [],
   "source": [
    "preprocessed_oasis1 = pd.concat(frames, axis =1)"
   ]
  },
  {
   "cell_type": "code",
   "execution_count": null,
   "id": "765293d6",
   "metadata": {},
   "outputs": [],
   "source": [
    "#preprocessed_oasis1.to_csv(r'~/code/mkvph0ch/memobrain/notebooks/preprocessed_oasis1.csv')"
   ]
  },
  {
   "cell_type": "markdown",
   "id": "afeac347",
   "metadata": {},
   "source": [
    "# Recall Scores"
   ]
  },
  {
   "cell_type": "markdown",
   "id": "a36d41ea",
   "metadata": {},
   "source": [
    "<big> <b> Model names </b> </big>\n",
    "\n",
    "<big> <font color = 'steelblue'> SVC </color> </big>\n",
    "\n",
    "Linear: best_linear_svc - 78.2\n",
    "\n",
    "\n",
    "Polynomial: best_poly_svc - 69.6 \n",
    "    \n",
    "\n",
    "Rbf: best_rbf_svc - 82.6  \n",
    "\n",
    "\n",
    "<big> <font color = 'steelblue'> K Neighbors Classifier </color> <big>\n",
    "\n",
    "best_neigh - 65.0\n",
    "\n",
    "<big> <font color = 'steelblue'> Decision Tree </color> </big>\n",
    "    \n",
    "best_tree - 78.3\n"
   ]
  },
  {
   "cell_type": "markdown",
   "id": "aca04f15",
   "metadata": {},
   "source": [
    "# Evaluating OASIS2"
   ]
  },
  {
   "cell_type": "markdown",
   "id": "bf5b9c02",
   "metadata": {},
   "source": [
    "## Importing Data"
   ]
  },
  {
   "cell_type": "code",
   "execution_count": null,
   "id": "8866a6b8",
   "metadata": {},
   "outputs": [],
   "source": [
    "oasis2_cs_path = '../raw_data/OASIS2/preprocessed_oasis2.csv'\n",
    "oasis2 = pd.read_csv(oasis2_cs_path)"
   ]
  },
  {
   "cell_type": "code",
   "execution_count": null,
   "id": "109c2fc8",
   "metadata": {},
   "outputs": [],
   "source": [
    "oasis2"
   ]
  },
  {
   "cell_type": "code",
   "execution_count": null,
   "id": "11570d3f",
   "metadata": {},
   "outputs": [],
   "source": [
    "X2 = oasis2.drop(columns = 'CDR')\n",
    "y2 = oasis2['CDR']"
   ]
  },
  {
   "cell_type": "code",
   "execution_count": null,
   "id": "c5bf4678",
   "metadata": {},
   "outputs": [
    {
     "name": "stdout",
     "output_type": "stream",
     "text": [
      "[CV] END bootstrap=False, max_depth=90, max_features=sqrt, min_samples_leaf=4, min_samples_split=10, n_estimators=600; total time=   1.2s\n",
      "[CV] END bootstrap=False, max_depth=60, max_features=auto, min_samples_leaf=2, min_samples_split=2, n_estimators=600; total time=   1.2s\n",
      "[CV] END bootstrap=False, max_depth=80, max_features=auto, min_samples_leaf=1, min_samples_split=10, n_estimators=1000; total time=   2.1s\n",
      "[CV] END bootstrap=False, max_depth=80, max_features=auto, min_samples_leaf=1, min_samples_split=10, n_estimators=1000; total time=   2.0s\n",
      "[CV] END bootstrap=True, max_depth=10, max_features=sqrt, min_samples_leaf=2, min_samples_split=5, n_estimators=200; total time=   0.6s\n",
      "[CV] END bootstrap=True, max_depth=100, max_features=auto, min_samples_leaf=4, min_samples_split=2, n_estimators=1200; total time=   3.1s\n",
      "[CV] END bootstrap=True, max_depth=50, max_features=auto, min_samples_leaf=2, min_samples_split=5, n_estimators=2000; total time=   5.4s\n",
      "[CV] END bootstrap=True, max_depth=70, max_features=sqrt, min_samples_leaf=1, min_samples_split=5, n_estimators=1000; total time=   2.9s\n",
      "[CV] END bootstrap=False, max_depth=70, max_features=sqrt, min_samples_leaf=2, min_samples_split=10, n_estimators=1200; total time=   2.6s\n",
      "[CV] END bootstrap=False, max_depth=50, max_features=auto, min_samples_leaf=1, min_samples_split=10, n_estimators=1000; total time=   2.3s\n",
      "[CV] END bootstrap=True, max_depth=30, max_features=sqrt, min_samples_leaf=1, min_samples_split=10, n_estimators=1000; total time=   2.7s\n",
      "[CV] END bootstrap=False, max_depth=30, max_features=auto, min_samples_leaf=2, min_samples_split=2, n_estimators=1800; total time=   3.9s\n",
      "[CV] END bootstrap=True, max_depth=50, max_features=sqrt, min_samples_leaf=2, min_samples_split=10, n_estimators=200; total time=   0.6s\n",
      "[CV] END bootstrap=False, max_depth=60, max_features=auto, min_samples_leaf=2, min_samples_split=2, n_estimators=600; total time=   1.2s\n",
      "[CV] END bootstrap=True, max_depth=30, max_features=sqrt, min_samples_leaf=1, min_samples_split=5, n_estimators=1400; total time=   3.7s\n",
      "[CV] END bootstrap=False, max_depth=50, max_features=auto, min_samples_leaf=2, min_samples_split=2, n_estimators=2000; total time=   4.3s\n",
      "[CV] END bootstrap=True, max_depth=100, max_features=auto, min_samples_leaf=4, min_samples_split=2, n_estimators=1200; total time=   3.2s\n",
      "[CV] END bootstrap=False, max_depth=20, max_features=auto, min_samples_leaf=2, min_samples_split=10, n_estimators=400; total time=   0.8s\n",
      "[CV] END bootstrap=False, max_depth=20, max_features=sqrt, min_samples_leaf=1, min_samples_split=2, n_estimators=800; total time=   1.9s\n",
      "[CV] END bootstrap=True, max_depth=70, max_features=sqrt, min_samples_leaf=1, min_samples_split=5, n_estimators=1000; total time=   3.2s\n",
      "[CV] END bootstrap=False, max_depth=110, max_features=sqrt, min_samples_leaf=4, min_samples_split=2, n_estimators=1600; total time=   4.1s\n",
      "[CV] END bootstrap=True, max_depth=30, max_features=sqrt, min_samples_leaf=1, min_samples_split=10, n_estimators=1000; total time=   3.1s\n",
      "[CV] END bootstrap=False, max_depth=30, max_features=auto, min_samples_leaf=2, min_samples_split=2, n_estimators=1800; total time=   4.2s\n",
      "[CV] END bootstrap=False, max_depth=90, max_features=sqrt, min_samples_leaf=4, min_samples_split=10, n_estimators=600; total time=   1.3s\n",
      "[CV] END bootstrap=False, max_depth=60, max_features=auto, min_samples_leaf=2, min_samples_split=2, n_estimators=600; total time=   1.2s\n",
      "[CV] END bootstrap=False, max_depth=80, max_features=auto, min_samples_leaf=1, min_samples_split=10, n_estimators=1000; total time=   2.1s\n",
      "[CV] END bootstrap=False, max_depth=60, max_features=sqrt, min_samples_leaf=1, min_samples_split=10, n_estimators=400; total time=   0.8s\n",
      "[CV] END bootstrap=False, max_depth=60, max_features=sqrt, min_samples_leaf=1, min_samples_split=10, n_estimators=400; total time=   0.8s\n",
      "[CV] END bootstrap=True, max_depth=10, max_features=sqrt, min_samples_leaf=2, min_samples_split=5, n_estimators=200; total time=   0.5s\n",
      "[CV] END bootstrap=True, max_depth=10, max_features=sqrt, min_samples_leaf=2, min_samples_split=5, n_estimators=200; total time=   0.6s\n",
      "[CV] END bootstrap=True, max_depth=100, max_features=auto, min_samples_leaf=4, min_samples_split=2, n_estimators=1200; total time=   3.1s\n",
      "[CV] END bootstrap=True, max_depth=50, max_features=auto, min_samples_leaf=2, min_samples_split=5, n_estimators=2000; total time=   5.5s\n",
      "[CV] END bootstrap=True, max_depth=70, max_features=sqrt, min_samples_leaf=1, min_samples_split=5, n_estimators=1000; total time=   3.0s\n",
      "[CV] END bootstrap=False, max_depth=110, max_features=sqrt, min_samples_leaf=4, min_samples_split=2, n_estimators=1600; total time=   3.7s\n",
      "[CV] END bootstrap=False, max_depth=50, max_features=auto, min_samples_leaf=1, min_samples_split=10, n_estimators=1000; total time=   2.2s\n",
      "[CV] END bootstrap=True, max_depth=70, max_features=auto, min_samples_leaf=1, min_samples_split=2, n_estimators=600; total time=   1.7s\n",
      "[CV] END bootstrap=False, max_depth=30, max_features=auto, min_samples_leaf=2, min_samples_split=2, n_estimators=1800; total time=   3.9s\n",
      "[CV] END bootstrap=True, max_depth=50, max_features=sqrt, min_samples_leaf=2, min_samples_split=10, n_estimators=200; total time=   0.7s\n",
      "[CV] END bootstrap=False, max_depth=60, max_features=auto, min_samples_leaf=2, min_samples_split=2, n_estimators=600; total time=   1.3s\n",
      "[CV] END bootstrap=False, max_depth=80, max_features=auto, min_samples_leaf=1, min_samples_split=10, n_estimators=1000; total time=   2.1s\n",
      "[CV] END bootstrap=False, max_depth=80, max_features=auto, min_samples_leaf=1, min_samples_split=10, n_estimators=1000; total time=   2.1s\n",
      "[CV] END bootstrap=False, max_depth=50, max_features=auto, min_samples_leaf=2, min_samples_split=2, n_estimators=2000; total time=   4.4s\n",
      "[CV] END bootstrap=True, max_depth=50, max_features=auto, min_samples_leaf=2, min_samples_split=5, n_estimators=2000; total time=   6.0s\n",
      "[CV] END bootstrap=False, max_depth=70, max_features=sqrt, min_samples_leaf=2, min_samples_split=10, n_estimators=1200; total time=   2.7s\n",
      "[CV] END bootstrap=False, max_depth=110, max_features=sqrt, min_samples_leaf=4, min_samples_split=2, n_estimators=1600; total time=   3.8s\n",
      "[CV] END bootstrap=False, max_depth=50, max_features=auto, min_samples_leaf=1, min_samples_split=10, n_estimators=1000; total time=   2.3s\n",
      "[CV] END bootstrap=True, max_depth=70, max_features=auto, min_samples_leaf=1, min_samples_split=2, n_estimators=600; total time=   1.8s\n",
      "[CV] END bootstrap=True, max_depth=None, max_features=auto, min_samples_leaf=4, min_samples_split=2, n_estimators=1600; total time=   4.6s\n",
      "[CV] END bootstrap=True, max_depth=50, max_features=sqrt, min_samples_leaf=2, min_samples_split=10, n_estimators=200; total time=   0.6s\n",
      "[CV] END bootstrap=False, max_depth=90, max_features=sqrt, min_samples_leaf=4, min_samples_split=10, n_estimators=600; total time=   1.2s\n",
      "[CV] END bootstrap=True, max_depth=30, max_features=sqrt, min_samples_leaf=1, min_samples_split=5, n_estimators=1400; total time=   3.7s\n",
      "[CV] END bootstrap=False, max_depth=60, max_features=sqrt, min_samples_leaf=1, min_samples_split=10, n_estimators=400; total time=   0.8s\n",
      "[CV] END bootstrap=True, max_depth=10, max_features=sqrt, min_samples_leaf=2, min_samples_split=5, n_estimators=200; total time=   0.5s\n",
      "[CV] END bootstrap=True, max_depth=10, max_features=sqrt, min_samples_leaf=2, min_samples_split=5, n_estimators=200; total time=   0.7s\n",
      "[CV] END bootstrap=True, max_depth=100, max_features=auto, min_samples_leaf=4, min_samples_split=2, n_estimators=1200; total time=   3.1s\n",
      "[CV] END bootstrap=False, max_depth=20, max_features=auto, min_samples_leaf=2, min_samples_split=10, n_estimators=400; total time=   0.9s\n",
      "[CV] END bootstrap=False, max_depth=20, max_features=auto, min_samples_leaf=2, min_samples_split=10, n_estimators=400; total time=   0.8s\n",
      "[CV] END bootstrap=False, max_depth=20, max_features=auto, min_samples_leaf=2, min_samples_split=10, n_estimators=400; total time=   0.8s\n",
      "[CV] END bootstrap=False, max_depth=20, max_features=sqrt, min_samples_leaf=1, min_samples_split=2, n_estimators=800; total time=   1.7s\n",
      "[CV] END bootstrap=False, max_depth=20, max_features=sqrt, min_samples_leaf=1, min_samples_split=2, n_estimators=800; total time=   2.1s\n",
      "[CV] END bootstrap=False, max_depth=70, max_features=sqrt, min_samples_leaf=2, min_samples_split=10, n_estimators=1200; total time=   2.8s\n",
      "[CV] END bootstrap=False, max_depth=110, max_features=sqrt, min_samples_leaf=4, min_samples_split=2, n_estimators=1600; total time=   4.1s\n",
      "[CV] END bootstrap=True, max_depth=70, max_features=auto, min_samples_leaf=1, min_samples_split=2, n_estimators=600; total time=   1.8s\n",
      "[CV] END bootstrap=True, max_depth=70, max_features=auto, min_samples_leaf=1, min_samples_split=2, n_estimators=600; total time=   1.8s\n",
      "[CV] END bootstrap=True, max_depth=None, max_features=auto, min_samples_leaf=4, min_samples_split=2, n_estimators=1600; total time=   4.4s\n",
      "[CV] END bootstrap=False, max_depth=90, max_features=sqrt, min_samples_leaf=4, min_samples_split=10, n_estimators=600; total time=   1.3s\n",
      "[CV] END bootstrap=True, max_depth=30, max_features=sqrt, min_samples_leaf=1, min_samples_split=5, n_estimators=1400; total time=   3.7s\n",
      "[CV] END bootstrap=False, max_depth=60, max_features=sqrt, min_samples_leaf=1, min_samples_split=10, n_estimators=400; total time=   0.8s\n",
      "[CV] END bootstrap=False, max_depth=50, max_features=auto, min_samples_leaf=2, min_samples_split=2, n_estimators=2000; total time=   4.3s\n",
      "[CV] END bootstrap=True, max_depth=50, max_features=auto, min_samples_leaf=2, min_samples_split=5, n_estimators=2000; total time=   5.5s\n",
      "[CV] END bootstrap=False, max_depth=20, max_features=sqrt, min_samples_leaf=1, min_samples_split=2, n_estimators=800; total time=   2.1s\n",
      "[CV] END bootstrap=False, max_depth=70, max_features=sqrt, min_samples_leaf=2, min_samples_split=10, n_estimators=1200; total time=   2.7s\n",
      "[CV] END bootstrap=False, max_depth=50, max_features=auto, min_samples_leaf=1, min_samples_split=10, n_estimators=1000; total time=   2.5s\n",
      "[CV] END bootstrap=True, max_depth=30, max_features=sqrt, min_samples_leaf=1, min_samples_split=10, n_estimators=1000; total time=   3.0s\n",
      "[CV] END bootstrap=True, max_depth=70, max_features=auto, min_samples_leaf=1, min_samples_split=2, n_estimators=600; total time=   1.8s\n",
      "[CV] END bootstrap=True, max_depth=None, max_features=auto, min_samples_leaf=4, min_samples_split=2, n_estimators=1600; total time=   4.3s\n"
     ]
    },
    {
     "name": "stdout",
     "output_type": "stream",
     "text": [
      "[CV] END bootstrap=True, max_depth=50, max_features=sqrt, min_samples_leaf=2, min_samples_split=10, n_estimators=200; total time=   0.5s\n",
      "[CV] END bootstrap=False, max_depth=90, max_features=sqrt, min_samples_leaf=4, min_samples_split=10, n_estimators=600; total time=   1.2s\n",
      "[CV] END bootstrap=True, max_depth=30, max_features=sqrt, min_samples_leaf=1, min_samples_split=5, n_estimators=1400; total time=   3.6s\n",
      "[CV] END bootstrap=False, max_depth=60, max_features=sqrt, min_samples_leaf=1, min_samples_split=10, n_estimators=400; total time=   0.8s\n",
      "[CV] END bootstrap=False, max_depth=50, max_features=auto, min_samples_leaf=2, min_samples_split=2, n_estimators=2000; total time=   4.2s\n",
      "[CV] END bootstrap=True, max_depth=50, max_features=auto, min_samples_leaf=2, min_samples_split=5, n_estimators=2000; total time=   5.4s\n",
      "[CV] END bootstrap=True, max_depth=70, max_features=sqrt, min_samples_leaf=1, min_samples_split=5, n_estimators=1000; total time=   2.9s\n",
      "[CV] END bootstrap=False, max_depth=70, max_features=sqrt, min_samples_leaf=2, min_samples_split=10, n_estimators=1200; total time=   2.6s\n",
      "[CV] END bootstrap=False, max_depth=50, max_features=auto, min_samples_leaf=1, min_samples_split=10, n_estimators=1000; total time=   2.3s\n",
      "[CV] END bootstrap=True, max_depth=30, max_features=sqrt, min_samples_leaf=1, min_samples_split=10, n_estimators=1000; total time=   2.7s\n",
      "[CV] END bootstrap=False, max_depth=30, max_features=auto, min_samples_leaf=2, min_samples_split=2, n_estimators=1800; total time=   3.8s\n",
      "[CV] END bootstrap=True, max_depth=None, max_features=auto, min_samples_leaf=4, min_samples_split=2, n_estimators=1600; total time=   3.2s\n",
      "[CV] END bootstrap=True, max_depth=50, max_features=sqrt, min_samples_leaf=2, min_samples_split=10, n_estimators=200; total time=   0.6s\n",
      "[CV] END bootstrap=False, max_depth=60, max_features=auto, min_samples_leaf=2, min_samples_split=2, n_estimators=600; total time=   1.2s\n",
      "[CV] END bootstrap=True, max_depth=30, max_features=sqrt, min_samples_leaf=1, min_samples_split=5, n_estimators=1400; total time=   3.7s\n",
      "[CV] END bootstrap=False, max_depth=50, max_features=auto, min_samples_leaf=2, min_samples_split=2, n_estimators=2000; total time=   4.3s\n",
      "[CV] END bootstrap=True, max_depth=100, max_features=auto, min_samples_leaf=4, min_samples_split=2, n_estimators=1200; total time=   3.2s\n",
      "[CV] END bootstrap=False, max_depth=20, max_features=auto, min_samples_leaf=2, min_samples_split=10, n_estimators=400; total time=   0.8s\n",
      "[CV] END bootstrap=False, max_depth=20, max_features=sqrt, min_samples_leaf=1, min_samples_split=2, n_estimators=800; total time=   1.9s\n",
      "[CV] END bootstrap=True, max_depth=70, max_features=sqrt, min_samples_leaf=1, min_samples_split=5, n_estimators=1000; total time=   3.1s\n",
      "[CV] END bootstrap=False, max_depth=110, max_features=sqrt, min_samples_leaf=4, min_samples_split=2, n_estimators=1600; total time=   4.0s\n",
      "[CV] END bootstrap=True, max_depth=30, max_features=sqrt, min_samples_leaf=1, min_samples_split=10, n_estimators=1000; total time=   3.1s\n",
      "[CV] END bootstrap=False, max_depth=30, max_features=auto, min_samples_leaf=2, min_samples_split=2, n_estimators=1800; total time=   4.1s\n",
      "[CV] END bootstrap=True, max_depth=None, max_features=auto, min_samples_leaf=4, min_samples_split=2, n_estimators=1600; total time=   3.2s\n"
     ]
    }
   ],
   "source": [
    "X_train2, X_test2, ytrain2, y_test2 = train_test_split(X2, y2, test_size=0.30, random_state=42)"
   ]
  },
  {
   "cell_type": "markdown",
   "id": "53cefcf2",
   "metadata": {},
   "source": [
    "## Evaluating"
   ]
  },
  {
   "cell_type": "code",
   "execution_count": null,
   "id": "103e7cf4",
   "metadata": {},
   "outputs": [],
   "source": []
  },
  {
   "cell_type": "code",
   "execution_count": null,
   "id": "2fcfe320",
   "metadata": {},
   "outputs": [],
   "source": []
  }
 ],
 "metadata": {
  "kernelspec": {
   "display_name": "Python 3 (ipykernel)",
   "language": "python",
   "name": "python3"
  },
  "language_info": {
   "codemirror_mode": {
    "name": "ipython",
    "version": 3
   },
   "file_extension": ".py",
   "mimetype": "text/x-python",
   "name": "python",
   "nbconvert_exporter": "python",
   "pygments_lexer": "ipython3",
   "version": "3.8.12"
  },
  "toc": {
   "base_numbering": 1,
   "nav_menu": {},
   "number_sections": true,
   "sideBar": true,
   "skip_h1_title": false,
   "title_cell": "Table of Contents",
   "title_sidebar": "Contents",
   "toc_cell": false,
   "toc_position": {
    "height": "calc(100% - 180px)",
    "left": "10px",
    "top": "150px",
    "width": "286.319px"
   },
   "toc_section_display": true,
   "toc_window_display": true
  }
 },
 "nbformat": 4,
 "nbformat_minor": 5
}
