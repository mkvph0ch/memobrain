{
 "cells": [
  {
   "cell_type": "markdown",
   "id": "268b002b",
   "metadata": {},
   "source": [
    "# Preprocessing OASIS1"
   ]
  },
  {
   "cell_type": "code",
   "execution_count": 1,
   "id": "c1b2a9f2",
   "metadata": {},
   "outputs": [
    {
     "name": "stderr",
     "output_type": "stream",
     "text": [
      "/home/cynthias13w/.pyenv/versions/3.8.12/envs/memobrain/lib/python3.8/site-packages/xgboost/compat.py:36: FutureWarning: pandas.Int64Index is deprecated and will be removed from pandas in a future version. Use pandas.Index with the appropriate dtype instead.\n",
      "  from pandas import MultiIndex, Int64Index\n"
     ]
    }
   ],
   "source": [
    "# IMPORTS\n",
    "# DATA MANIPULATION\n",
    "import pandas as pd\n",
    "import numpy as np\n",
    "\n",
    "# DATA VISUALISATION\n",
    "import matplotlib.pyplot as plt\n",
    "import seaborn as sns\n",
    "sns.set()\n",
    "from sklearn import set_config; set_config(display='diagram') # Visualize pipelines in HTML\n",
    "import graphviz\n",
    "from sklearn.tree import export_graphviz\n",
    "from sklearn import tree\n",
    "\n",
    "# MACHINE LEARNING\n",
    "from sklearn.preprocessing import StandardScaler, RobustScaler, MinMaxScaler\n",
    "from sklearn.preprocessing import OneHotEncoder, LabelEncoder, FunctionTransformer\n",
    "from sklearn.pipeline import Pipeline\n",
    "from sklearn.compose import ColumnTransformer\n",
    "from sklearn.model_selection import train_test_split, GridSearchCV, RandomizedSearchCV\n",
    "from sklearn.tree import DecisionTreeRegressor, DecisionTreeClassifier\n",
    "from sklearn.neighbors import KNeighborsClassifier\n",
    "from sklearn.metrics import recall_score, confusion_matrix, ConfusionMatrixDisplay\n",
    "from sklearn.svm import SVC\n",
    "from sklearn.impute import SimpleImputer\n",
    "from sklearn.base import BaseEstimator, TransformerMixin\n",
    "import xgboost as xgb"
   ]
  },
  {
   "cell_type": "code",
   "execution_count": 2,
   "id": "3c4d731d",
   "metadata": {},
   "outputs": [],
   "source": [
    "# Importing Data\n",
    "oasis1_cs_path = '../raw_data/OASIS1/oasis_cross-sectional.csv'\n",
    "oasis1 = pd.read_csv(oasis1_cs_path)"
   ]
  },
  {
   "cell_type": "code",
   "execution_count": 3,
   "id": "3a526545",
   "metadata": {},
   "outputs": [
    {
     "data": {
      "text/plain": [
       "(436, 12)"
      ]
     },
     "execution_count": 3,
     "metadata": {},
     "output_type": "execute_result"
    }
   ],
   "source": [
    "# Checking shape\n",
    "oasis1.shape"
   ]
  },
  {
   "cell_type": "markdown",
   "id": "9eabf809",
   "metadata": {},
   "source": [
    "📜 <big> Note: </big>\n",
    "\n",
    "\n",
    "**CDR;** Clinical Dementia Rating \n",
    "\n",
    "0= nondemented; 0.5 – very mild dementia; 1 = mild dementia; 2 = moderate dementia\n",
    "\n",
    "\n",
    "**eTIV;** Estimated total intracranial volume (eTIV)\n",
    "\n",
    "**nWBV** Normalized whole brain volume\n",
    "\n",
    "**ASF;** Atlas scaling factor"
   ]
  },
  {
   "cell_type": "code",
   "execution_count": 4,
   "id": "c1cc74a3",
   "metadata": {},
   "outputs": [
    {
     "data": {
      "text/html": [
       "<div>\n",
       "<style scoped>\n",
       "    .dataframe tbody tr th:only-of-type {\n",
       "        vertical-align: middle;\n",
       "    }\n",
       "\n",
       "    .dataframe tbody tr th {\n",
       "        vertical-align: top;\n",
       "    }\n",
       "\n",
       "    .dataframe thead th {\n",
       "        text-align: right;\n",
       "    }\n",
       "</style>\n",
       "<table border=\"1\" class=\"dataframe\">\n",
       "  <thead>\n",
       "    <tr style=\"text-align: right;\">\n",
       "      <th></th>\n",
       "      <th>ID</th>\n",
       "      <th>M/F</th>\n",
       "      <th>Hand</th>\n",
       "      <th>Age</th>\n",
       "      <th>Educ</th>\n",
       "      <th>SES</th>\n",
       "      <th>MMSE</th>\n",
       "      <th>CDR</th>\n",
       "      <th>eTIV</th>\n",
       "      <th>nWBV</th>\n",
       "      <th>ASF</th>\n",
       "      <th>Delay</th>\n",
       "    </tr>\n",
       "  </thead>\n",
       "  <tbody>\n",
       "    <tr>\n",
       "      <th>316</th>\n",
       "      <td>OAS1_0350_MR1</td>\n",
       "      <td>M</td>\n",
       "      <td>R</td>\n",
       "      <td>21</td>\n",
       "      <td>NaN</td>\n",
       "      <td>NaN</td>\n",
       "      <td>NaN</td>\n",
       "      <td>NaN</td>\n",
       "      <td>1577</td>\n",
       "      <td>0.869</td>\n",
       "      <td>1.113</td>\n",
       "      <td>NaN</td>\n",
       "    </tr>\n",
       "    <tr>\n",
       "      <th>372</th>\n",
       "      <td>OAS1_0410_MR1</td>\n",
       "      <td>F</td>\n",
       "      <td>R</td>\n",
       "      <td>23</td>\n",
       "      <td>NaN</td>\n",
       "      <td>NaN</td>\n",
       "      <td>NaN</td>\n",
       "      <td>NaN</td>\n",
       "      <td>1507</td>\n",
       "      <td>0.870</td>\n",
       "      <td>1.165</td>\n",
       "      <td>NaN</td>\n",
       "    </tr>\n",
       "    <tr>\n",
       "      <th>109</th>\n",
       "      <td>OAS1_0117_MR1</td>\n",
       "      <td>M</td>\n",
       "      <td>R</td>\n",
       "      <td>25</td>\n",
       "      <td>NaN</td>\n",
       "      <td>NaN</td>\n",
       "      <td>NaN</td>\n",
       "      <td>NaN</td>\n",
       "      <td>1759</td>\n",
       "      <td>0.783</td>\n",
       "      <td>0.998</td>\n",
       "      <td>NaN</td>\n",
       "    </tr>\n",
       "    <tr>\n",
       "      <th>432</th>\n",
       "      <td>OAS1_0353_MR2</td>\n",
       "      <td>M</td>\n",
       "      <td>R</td>\n",
       "      <td>22</td>\n",
       "      <td>NaN</td>\n",
       "      <td>NaN</td>\n",
       "      <td>NaN</td>\n",
       "      <td>NaN</td>\n",
       "      <td>1684</td>\n",
       "      <td>0.790</td>\n",
       "      <td>1.042</td>\n",
       "      <td>40.0</td>\n",
       "    </tr>\n",
       "    <tr>\n",
       "      <th>98</th>\n",
       "      <td>OAS1_0106_MR1</td>\n",
       "      <td>F</td>\n",
       "      <td>R</td>\n",
       "      <td>81</td>\n",
       "      <td>2.0</td>\n",
       "      <td>4.0</td>\n",
       "      <td>30.0</td>\n",
       "      <td>0.0</td>\n",
       "      <td>1230</td>\n",
       "      <td>0.717</td>\n",
       "      <td>1.427</td>\n",
       "      <td>NaN</td>\n",
       "    </tr>\n",
       "    <tr>\n",
       "      <th>414</th>\n",
       "      <td>OAS1_0456_MR1</td>\n",
       "      <td>M</td>\n",
       "      <td>R</td>\n",
       "      <td>61</td>\n",
       "      <td>5.0</td>\n",
       "      <td>2.0</td>\n",
       "      <td>30.0</td>\n",
       "      <td>0.0</td>\n",
       "      <td>1637</td>\n",
       "      <td>0.780</td>\n",
       "      <td>1.072</td>\n",
       "      <td>NaN</td>\n",
       "    </tr>\n",
       "    <tr>\n",
       "      <th>49</th>\n",
       "      <td>OAS1_0054_MR1</td>\n",
       "      <td>F</td>\n",
       "      <td>R</td>\n",
       "      <td>21</td>\n",
       "      <td>NaN</td>\n",
       "      <td>NaN</td>\n",
       "      <td>NaN</td>\n",
       "      <td>NaN</td>\n",
       "      <td>1567</td>\n",
       "      <td>0.848</td>\n",
       "      <td>1.120</td>\n",
       "      <td>NaN</td>\n",
       "    </tr>\n",
       "    <tr>\n",
       "      <th>93</th>\n",
       "      <td>OAS1_0101_MR1</td>\n",
       "      <td>M</td>\n",
       "      <td>R</td>\n",
       "      <td>29</td>\n",
       "      <td>NaN</td>\n",
       "      <td>NaN</td>\n",
       "      <td>NaN</td>\n",
       "      <td>NaN</td>\n",
       "      <td>1486</td>\n",
       "      <td>0.840</td>\n",
       "      <td>1.181</td>\n",
       "      <td>NaN</td>\n",
       "    </tr>\n",
       "    <tr>\n",
       "      <th>276</th>\n",
       "      <td>OAS1_0305_MR1</td>\n",
       "      <td>M</td>\n",
       "      <td>R</td>\n",
       "      <td>48</td>\n",
       "      <td>NaN</td>\n",
       "      <td>NaN</td>\n",
       "      <td>NaN</td>\n",
       "      <td>NaN</td>\n",
       "      <td>1454</td>\n",
       "      <td>0.850</td>\n",
       "      <td>1.207</td>\n",
       "      <td>NaN</td>\n",
       "    </tr>\n",
       "    <tr>\n",
       "      <th>68</th>\n",
       "      <td>OAS1_0073_MR1</td>\n",
       "      <td>F</td>\n",
       "      <td>R</td>\n",
       "      <td>69</td>\n",
       "      <td>2.0</td>\n",
       "      <td>4.0</td>\n",
       "      <td>21.0</td>\n",
       "      <td>1.0</td>\n",
       "      <td>1495</td>\n",
       "      <td>0.655</td>\n",
       "      <td>1.174</td>\n",
       "      <td>NaN</td>\n",
       "    </tr>\n",
       "    <tr>\n",
       "      <th>122</th>\n",
       "      <td>OAS1_0132_MR1</td>\n",
       "      <td>M</td>\n",
       "      <td>R</td>\n",
       "      <td>22</td>\n",
       "      <td>NaN</td>\n",
       "      <td>NaN</td>\n",
       "      <td>NaN</td>\n",
       "      <td>NaN</td>\n",
       "      <td>1596</td>\n",
       "      <td>0.850</td>\n",
       "      <td>1.099</td>\n",
       "      <td>NaN</td>\n",
       "    </tr>\n",
       "    <tr>\n",
       "      <th>167</th>\n",
       "      <td>OAS1_0182_MR1</td>\n",
       "      <td>M</td>\n",
       "      <td>R</td>\n",
       "      <td>48</td>\n",
       "      <td>NaN</td>\n",
       "      <td>NaN</td>\n",
       "      <td>NaN</td>\n",
       "      <td>NaN</td>\n",
       "      <td>1561</td>\n",
       "      <td>0.816</td>\n",
       "      <td>1.124</td>\n",
       "      <td>NaN</td>\n",
       "    </tr>\n",
       "    <tr>\n",
       "      <th>36</th>\n",
       "      <td>OAS1_0040_MR1</td>\n",
       "      <td>F</td>\n",
       "      <td>R</td>\n",
       "      <td>38</td>\n",
       "      <td>NaN</td>\n",
       "      <td>NaN</td>\n",
       "      <td>NaN</td>\n",
       "      <td>NaN</td>\n",
       "      <td>1244</td>\n",
       "      <td>0.824</td>\n",
       "      <td>1.411</td>\n",
       "      <td>NaN</td>\n",
       "    </tr>\n",
       "    <tr>\n",
       "      <th>415</th>\n",
       "      <td>OAS1_0457_MR1</td>\n",
       "      <td>F</td>\n",
       "      <td>R</td>\n",
       "      <td>62</td>\n",
       "      <td>3.0</td>\n",
       "      <td>3.0</td>\n",
       "      <td>26.0</td>\n",
       "      <td>0.0</td>\n",
       "      <td>1372</td>\n",
       "      <td>0.766</td>\n",
       "      <td>1.279</td>\n",
       "      <td>NaN</td>\n",
       "    </tr>\n",
       "    <tr>\n",
       "      <th>165</th>\n",
       "      <td>OAS1_0180_MR1</td>\n",
       "      <td>F</td>\n",
       "      <td>R</td>\n",
       "      <td>80</td>\n",
       "      <td>4.0</td>\n",
       "      <td>2.0</td>\n",
       "      <td>30.0</td>\n",
       "      <td>0.0</td>\n",
       "      <td>1496</td>\n",
       "      <td>0.745</td>\n",
       "      <td>1.173</td>\n",
       "      <td>NaN</td>\n",
       "    </tr>\n",
       "    <tr>\n",
       "      <th>249</th>\n",
       "      <td>OAS1_0277_MR1</td>\n",
       "      <td>M</td>\n",
       "      <td>R</td>\n",
       "      <td>22</td>\n",
       "      <td>NaN</td>\n",
       "      <td>NaN</td>\n",
       "      <td>NaN</td>\n",
       "      <td>NaN</td>\n",
       "      <td>1913</td>\n",
       "      <td>0.841</td>\n",
       "      <td>0.917</td>\n",
       "      <td>NaN</td>\n",
       "    </tr>\n",
       "    <tr>\n",
       "      <th>277</th>\n",
       "      <td>OAS1_0307_MR1</td>\n",
       "      <td>M</td>\n",
       "      <td>R</td>\n",
       "      <td>67</td>\n",
       "      <td>4.0</td>\n",
       "      <td>2.0</td>\n",
       "      <td>23.0</td>\n",
       "      <td>0.5</td>\n",
       "      <td>1399</td>\n",
       "      <td>0.735</td>\n",
       "      <td>1.255</td>\n",
       "      <td>NaN</td>\n",
       "    </tr>\n",
       "    <tr>\n",
       "      <th>85</th>\n",
       "      <td>OAS1_0091_MR1</td>\n",
       "      <td>F</td>\n",
       "      <td>R</td>\n",
       "      <td>18</td>\n",
       "      <td>NaN</td>\n",
       "      <td>NaN</td>\n",
       "      <td>NaN</td>\n",
       "      <td>NaN</td>\n",
       "      <td>1701</td>\n",
       "      <td>0.834</td>\n",
       "      <td>1.032</td>\n",
       "      <td>NaN</td>\n",
       "    </tr>\n",
       "    <tr>\n",
       "      <th>269</th>\n",
       "      <td>OAS1_0298_MR1</td>\n",
       "      <td>F</td>\n",
       "      <td>R</td>\n",
       "      <td>72</td>\n",
       "      <td>4.0</td>\n",
       "      <td>3.0</td>\n",
       "      <td>24.0</td>\n",
       "      <td>0.5</td>\n",
       "      <td>1354</td>\n",
       "      <td>0.738</td>\n",
       "      <td>1.296</td>\n",
       "      <td>NaN</td>\n",
       "    </tr>\n",
       "    <tr>\n",
       "      <th>344</th>\n",
       "      <td>OAS1_0380_MR1</td>\n",
       "      <td>F</td>\n",
       "      <td>R</td>\n",
       "      <td>83</td>\n",
       "      <td>1.0</td>\n",
       "      <td>5.0</td>\n",
       "      <td>18.0</td>\n",
       "      <td>0.5</td>\n",
       "      <td>1313</td>\n",
       "      <td>0.705</td>\n",
       "      <td>1.337</td>\n",
       "      <td>NaN</td>\n",
       "    </tr>\n",
       "  </tbody>\n",
       "</table>\n",
       "</div>"
      ],
      "text/plain": [
       "                ID M/F Hand  Age  Educ  SES  MMSE  CDR  eTIV   nWBV    ASF  \\\n",
       "316  OAS1_0350_MR1   M    R   21   NaN  NaN   NaN  NaN  1577  0.869  1.113   \n",
       "372  OAS1_0410_MR1   F    R   23   NaN  NaN   NaN  NaN  1507  0.870  1.165   \n",
       "109  OAS1_0117_MR1   M    R   25   NaN  NaN   NaN  NaN  1759  0.783  0.998   \n",
       "432  OAS1_0353_MR2   M    R   22   NaN  NaN   NaN  NaN  1684  0.790  1.042   \n",
       "98   OAS1_0106_MR1   F    R   81   2.0  4.0  30.0  0.0  1230  0.717  1.427   \n",
       "414  OAS1_0456_MR1   M    R   61   5.0  2.0  30.0  0.0  1637  0.780  1.072   \n",
       "49   OAS1_0054_MR1   F    R   21   NaN  NaN   NaN  NaN  1567  0.848  1.120   \n",
       "93   OAS1_0101_MR1   M    R   29   NaN  NaN   NaN  NaN  1486  0.840  1.181   \n",
       "276  OAS1_0305_MR1   M    R   48   NaN  NaN   NaN  NaN  1454  0.850  1.207   \n",
       "68   OAS1_0073_MR1   F    R   69   2.0  4.0  21.0  1.0  1495  0.655  1.174   \n",
       "122  OAS1_0132_MR1   M    R   22   NaN  NaN   NaN  NaN  1596  0.850  1.099   \n",
       "167  OAS1_0182_MR1   M    R   48   NaN  NaN   NaN  NaN  1561  0.816  1.124   \n",
       "36   OAS1_0040_MR1   F    R   38   NaN  NaN   NaN  NaN  1244  0.824  1.411   \n",
       "415  OAS1_0457_MR1   F    R   62   3.0  3.0  26.0  0.0  1372  0.766  1.279   \n",
       "165  OAS1_0180_MR1   F    R   80   4.0  2.0  30.0  0.0  1496  0.745  1.173   \n",
       "249  OAS1_0277_MR1   M    R   22   NaN  NaN   NaN  NaN  1913  0.841  0.917   \n",
       "277  OAS1_0307_MR1   M    R   67   4.0  2.0  23.0  0.5  1399  0.735  1.255   \n",
       "85   OAS1_0091_MR1   F    R   18   NaN  NaN   NaN  NaN  1701  0.834  1.032   \n",
       "269  OAS1_0298_MR1   F    R   72   4.0  3.0  24.0  0.5  1354  0.738  1.296   \n",
       "344  OAS1_0380_MR1   F    R   83   1.0  5.0  18.0  0.5  1313  0.705  1.337   \n",
       "\n",
       "     Delay  \n",
       "316    NaN  \n",
       "372    NaN  \n",
       "109    NaN  \n",
       "432   40.0  \n",
       "98     NaN  \n",
       "414    NaN  \n",
       "49     NaN  \n",
       "93     NaN  \n",
       "276    NaN  \n",
       "68     NaN  \n",
       "122    NaN  \n",
       "167    NaN  \n",
       "36     NaN  \n",
       "415    NaN  \n",
       "165    NaN  \n",
       "249    NaN  \n",
       "277    NaN  \n",
       "85     NaN  \n",
       "269    NaN  \n",
       "344    NaN  "
      ]
     },
     "execution_count": 4,
     "metadata": {},
     "output_type": "execute_result"
    }
   ],
   "source": [
    "oasis1.sample(20)"
   ]
  },
  {
   "cell_type": "code",
   "execution_count": 5,
   "id": "895ea66f",
   "metadata": {},
   "outputs": [
    {
     "data": {
      "text/plain": [
       "ID         0\n",
       "M/F        0\n",
       "Hand       0\n",
       "Age        0\n",
       "Educ     201\n",
       "SES      220\n",
       "MMSE     201\n",
       "CDR      201\n",
       "eTIV       0\n",
       "nWBV       0\n",
       "ASF        0\n",
       "Delay    416\n",
       "dtype: int64"
      ]
     },
     "execution_count": 5,
     "metadata": {},
     "output_type": "execute_result"
    }
   ],
   "source": [
    "oasis1.isnull().sum()"
   ]
  },
  {
   "cell_type": "markdown",
   "id": "c5227931",
   "metadata": {},
   "source": [
    "## Data Cleaning"
   ]
  },
  {
   "cell_type": "markdown",
   "id": "6f5222a1",
   "metadata": {},
   "source": [
    "**We want to define a function that:**\n",
    "\n",
    "1. Drops rows that have no values for CDR (prediction)\n",
    "2. Fills empty values for socioeconomic status with a value\n",
    "3. Replaces Male with 1 and Female with 0\n",
    "4. Converts CDR from 4 unique values to 2 unique values so that we now have a binary classification problem\n",
    "5. Drops columns Delay and Handedness"
   ]
  },
  {
   "cell_type": "code",
   "execution_count": 6,
   "id": "1b518097",
   "metadata": {},
   "outputs": [],
   "source": [
    "def clean_data(oasis1):\n",
    "    \"\"\"This function removes CDR rows containing NANs, \n",
    "    fills SES missing values with status 3,\n",
    "    encodes Male/Female M/F to 1 and 0,\n",
    "    and drops columns Delay and Hand.\"\"\"\n",
    "    \n",
    "    oasis1.dropna(subset = [\"CDR\"], inplace=True) # removing the target\n",
    "    oasis1['SES'].fillna(value=3, inplace=True) # Socioeconomic status 3 means that participants went to 'some college'\n",
    "    # oasis1['M/F'].replace({'F':0, 'M':1}, inplace = True) # Replaces M with 1 and Female with 0\n",
    "    oasis1.drop('Delay', inplace=True, axis=1)\n",
    "    oasis1.drop('Hand', inplace=True, axis=1)\n",
    "    \n",
    "    return oasis1"
   ]
  },
  {
   "cell_type": "code",
   "execution_count": 7,
   "id": "8ecaae80",
   "metadata": {},
   "outputs": [
    {
     "data": {
      "text/html": [
       "<div>\n",
       "<style scoped>\n",
       "    .dataframe tbody tr th:only-of-type {\n",
       "        vertical-align: middle;\n",
       "    }\n",
       "\n",
       "    .dataframe tbody tr th {\n",
       "        vertical-align: top;\n",
       "    }\n",
       "\n",
       "    .dataframe thead th {\n",
       "        text-align: right;\n",
       "    }\n",
       "</style>\n",
       "<table border=\"1\" class=\"dataframe\">\n",
       "  <thead>\n",
       "    <tr style=\"text-align: right;\">\n",
       "      <th></th>\n",
       "      <th>ID</th>\n",
       "      <th>M/F</th>\n",
       "      <th>Age</th>\n",
       "      <th>Educ</th>\n",
       "      <th>SES</th>\n",
       "      <th>MMSE</th>\n",
       "      <th>CDR</th>\n",
       "      <th>eTIV</th>\n",
       "      <th>nWBV</th>\n",
       "      <th>ASF</th>\n",
       "    </tr>\n",
       "  </thead>\n",
       "  <tbody>\n",
       "    <tr>\n",
       "      <th>0</th>\n",
       "      <td>OAS1_0001_MR1</td>\n",
       "      <td>F</td>\n",
       "      <td>74</td>\n",
       "      <td>2.0</td>\n",
       "      <td>3.0</td>\n",
       "      <td>29.0</td>\n",
       "      <td>0.0</td>\n",
       "      <td>1344</td>\n",
       "      <td>0.743</td>\n",
       "      <td>1.306</td>\n",
       "    </tr>\n",
       "    <tr>\n",
       "      <th>1</th>\n",
       "      <td>OAS1_0002_MR1</td>\n",
       "      <td>F</td>\n",
       "      <td>55</td>\n",
       "      <td>4.0</td>\n",
       "      <td>1.0</td>\n",
       "      <td>29.0</td>\n",
       "      <td>0.0</td>\n",
       "      <td>1147</td>\n",
       "      <td>0.810</td>\n",
       "      <td>1.531</td>\n",
       "    </tr>\n",
       "    <tr>\n",
       "      <th>2</th>\n",
       "      <td>OAS1_0003_MR1</td>\n",
       "      <td>F</td>\n",
       "      <td>73</td>\n",
       "      <td>4.0</td>\n",
       "      <td>3.0</td>\n",
       "      <td>27.0</td>\n",
       "      <td>0.5</td>\n",
       "      <td>1454</td>\n",
       "      <td>0.708</td>\n",
       "      <td>1.207</td>\n",
       "    </tr>\n",
       "    <tr>\n",
       "      <th>8</th>\n",
       "      <td>OAS1_0010_MR1</td>\n",
       "      <td>M</td>\n",
       "      <td>74</td>\n",
       "      <td>5.0</td>\n",
       "      <td>2.0</td>\n",
       "      <td>30.0</td>\n",
       "      <td>0.0</td>\n",
       "      <td>1636</td>\n",
       "      <td>0.689</td>\n",
       "      <td>1.073</td>\n",
       "    </tr>\n",
       "    <tr>\n",
       "      <th>9</th>\n",
       "      <td>OAS1_0011_MR1</td>\n",
       "      <td>F</td>\n",
       "      <td>52</td>\n",
       "      <td>3.0</td>\n",
       "      <td>2.0</td>\n",
       "      <td>30.0</td>\n",
       "      <td>0.0</td>\n",
       "      <td>1321</td>\n",
       "      <td>0.827</td>\n",
       "      <td>1.329</td>\n",
       "    </tr>\n",
       "    <tr>\n",
       "      <th>...</th>\n",
       "      <td>...</td>\n",
       "      <td>...</td>\n",
       "      <td>...</td>\n",
       "      <td>...</td>\n",
       "      <td>...</td>\n",
       "      <td>...</td>\n",
       "      <td>...</td>\n",
       "      <td>...</td>\n",
       "      <td>...</td>\n",
       "      <td>...</td>\n",
       "    </tr>\n",
       "    <tr>\n",
       "      <th>411</th>\n",
       "      <td>OAS1_0453_MR1</td>\n",
       "      <td>F</td>\n",
       "      <td>70</td>\n",
       "      <td>1.0</td>\n",
       "      <td>4.0</td>\n",
       "      <td>29.0</td>\n",
       "      <td>0.5</td>\n",
       "      <td>1295</td>\n",
       "      <td>0.748</td>\n",
       "      <td>1.355</td>\n",
       "    </tr>\n",
       "    <tr>\n",
       "      <th>412</th>\n",
       "      <td>OAS1_0454_MR1</td>\n",
       "      <td>F</td>\n",
       "      <td>73</td>\n",
       "      <td>3.0</td>\n",
       "      <td>2.0</td>\n",
       "      <td>23.0</td>\n",
       "      <td>0.5</td>\n",
       "      <td>1536</td>\n",
       "      <td>0.730</td>\n",
       "      <td>1.142</td>\n",
       "    </tr>\n",
       "    <tr>\n",
       "      <th>413</th>\n",
       "      <td>OAS1_0455_MR1</td>\n",
       "      <td>F</td>\n",
       "      <td>61</td>\n",
       "      <td>2.0</td>\n",
       "      <td>4.0</td>\n",
       "      <td>28.0</td>\n",
       "      <td>0.0</td>\n",
       "      <td>1354</td>\n",
       "      <td>0.825</td>\n",
       "      <td>1.297</td>\n",
       "    </tr>\n",
       "    <tr>\n",
       "      <th>414</th>\n",
       "      <td>OAS1_0456_MR1</td>\n",
       "      <td>M</td>\n",
       "      <td>61</td>\n",
       "      <td>5.0</td>\n",
       "      <td>2.0</td>\n",
       "      <td>30.0</td>\n",
       "      <td>0.0</td>\n",
       "      <td>1637</td>\n",
       "      <td>0.780</td>\n",
       "      <td>1.072</td>\n",
       "    </tr>\n",
       "    <tr>\n",
       "      <th>415</th>\n",
       "      <td>OAS1_0457_MR1</td>\n",
       "      <td>F</td>\n",
       "      <td>62</td>\n",
       "      <td>3.0</td>\n",
       "      <td>3.0</td>\n",
       "      <td>26.0</td>\n",
       "      <td>0.0</td>\n",
       "      <td>1372</td>\n",
       "      <td>0.766</td>\n",
       "      <td>1.279</td>\n",
       "    </tr>\n",
       "  </tbody>\n",
       "</table>\n",
       "<p>235 rows × 10 columns</p>\n",
       "</div>"
      ],
      "text/plain": [
       "                ID M/F  Age  Educ  SES  MMSE  CDR  eTIV   nWBV    ASF\n",
       "0    OAS1_0001_MR1   F   74   2.0  3.0  29.0  0.0  1344  0.743  1.306\n",
       "1    OAS1_0002_MR1   F   55   4.0  1.0  29.0  0.0  1147  0.810  1.531\n",
       "2    OAS1_0003_MR1   F   73   4.0  3.0  27.0  0.5  1454  0.708  1.207\n",
       "8    OAS1_0010_MR1   M   74   5.0  2.0  30.0  0.0  1636  0.689  1.073\n",
       "9    OAS1_0011_MR1   F   52   3.0  2.0  30.0  0.0  1321  0.827  1.329\n",
       "..             ...  ..  ...   ...  ...   ...  ...   ...    ...    ...\n",
       "411  OAS1_0453_MR1   F   70   1.0  4.0  29.0  0.5  1295  0.748  1.355\n",
       "412  OAS1_0454_MR1   F   73   3.0  2.0  23.0  0.5  1536  0.730  1.142\n",
       "413  OAS1_0455_MR1   F   61   2.0  4.0  28.0  0.0  1354  0.825  1.297\n",
       "414  OAS1_0456_MR1   M   61   5.0  2.0  30.0  0.0  1637  0.780  1.072\n",
       "415  OAS1_0457_MR1   F   62   3.0  3.0  26.0  0.0  1372  0.766  1.279\n",
       "\n",
       "[235 rows x 10 columns]"
      ]
     },
     "execution_count": 7,
     "metadata": {},
     "output_type": "execute_result"
    }
   ],
   "source": [
    "clean_oasis1 = clean_data(oasis1)\n",
    "clean_oasis1"
   ]
  },
  {
   "cell_type": "markdown",
   "id": "4e5ff483",
   "metadata": {
    "heading_collapsed": true
   },
   "source": [
    "### Testing my code"
   ]
  },
  {
   "cell_type": "code",
   "execution_count": 8,
   "id": "75430f7d",
   "metadata": {
    "hidden": true
   },
   "outputs": [
    {
     "data": {
      "text/plain": [
       "(235, 10)"
      ]
     },
     "execution_count": 8,
     "metadata": {},
     "output_type": "execute_result"
    }
   ],
   "source": [
    "# Check shape again\n",
    "oasis1.shape"
   ]
  },
  {
   "cell_type": "code",
   "execution_count": 9,
   "id": "3a833c5c",
   "metadata": {
    "hidden": true
   },
   "outputs": [
    {
     "data": {
      "image/png": "[encoded data removed]",
      "text/plain": [
       "<Figure size 432x288 with 1 Axes>"
      ]
     },
     "metadata": {},
     "output_type": "display_data"
    }
   ],
   "source": [
    "# Education is not normally distrbuted\n",
    "sns.histplot(oasis1.Educ,kde = True, color = 'c');"
   ]
  },
  {
   "cell_type": "code",
   "execution_count": 10,
   "id": "80da22fa",
   "metadata": {
    "hidden": true
   },
   "outputs": [
    {
     "data": {
      "image/png": "[encoded data removed]",
      "text/plain": [
       "<Figure size 432x288 with 1 Axes>"
      ]
     },
     "metadata": {},
     "output_type": "display_data"
    }
   ],
   "source": [
    "sns.histplot(oasis1.SES, kde = True, color = 'c');"
   ]
  },
  {
   "cell_type": "code",
   "execution_count": 11,
   "id": "9299937d",
   "metadata": {
    "hidden": true
   },
   "outputs": [
    {
     "data": {
      "text/plain": [
       "array([0. , 0.5, 1. , 2. ])"
      ]
     },
     "execution_count": 11,
     "metadata": {},
     "output_type": "execute_result"
    }
   ],
   "source": [
    "# Check whether NANs are still here\n",
    "oasis1.CDR.unique()"
   ]
  },
  {
   "cell_type": "code",
   "execution_count": 12,
   "id": "cf163c5a",
   "metadata": {
    "hidden": true
   },
   "outputs": [
    {
     "data": {
      "text/plain": [
       "array([3., 1., 2., 4., 5.])"
      ]
     },
     "execution_count": 12,
     "metadata": {},
     "output_type": "execute_result"
    }
   ],
   "source": [
    "# Check SES column\n",
    "oasis1.SES.unique()"
   ]
  },
  {
   "cell_type": "code",
   "execution_count": 13,
   "id": "26487502",
   "metadata": {
    "hidden": true
   },
   "outputs": [
    {
     "data": {
      "text/plain": [
       "0      F\n",
       "1      F\n",
       "2      F\n",
       "8      M\n",
       "9      F\n",
       "      ..\n",
       "411    F\n",
       "412    F\n",
       "413    F\n",
       "414    M\n",
       "415    F\n",
       "Name: M/F, Length: 235, dtype: object"
      ]
     },
     "execution_count": 13,
     "metadata": {},
     "output_type": "execute_result"
    }
   ],
   "source": [
    "# Check M/F column\n",
    "oasis1['M/F']"
   ]
  },
  {
   "cell_type": "code",
   "execution_count": 14,
   "id": "25c5d781",
   "metadata": {
    "hidden": true
   },
   "outputs": [],
   "source": [
    "# def gender_encoding(i):\n",
    "#     \"\"\"This function returns 0 for F and 1 for M\"\"\"\n",
    "#     return i.map({'F':0, 'M':1})"
   ]
  },
  {
   "cell_type": "markdown",
   "id": "2ce64475",
   "metadata": {},
   "source": [
    "## Defining variables"
   ]
  },
  {
   "cell_type": "code",
   "execution_count": 15,
   "id": "ae794d60",
   "metadata": {},
   "outputs": [],
   "source": [
    "X = clean_oasis1.drop(columns = ['ID','CDR']).reset_index(drop = True)\n",
    "y = clean_oasis1['CDR'].reset_index(drop = True)"
   ]
  },
  {
   "cell_type": "code",
   "execution_count": 16,
   "id": "fa39c761",
   "metadata": {},
   "outputs": [
    {
     "data": {
      "text/html": [
       "<div>\n",
       "<style scoped>\n",
       "    .dataframe tbody tr th:only-of-type {\n",
       "        vertical-align: middle;\n",
       "    }\n",
       "\n",
       "    .dataframe tbody tr th {\n",
       "        vertical-align: top;\n",
       "    }\n",
       "\n",
       "    .dataframe thead th {\n",
       "        text-align: right;\n",
       "    }\n",
       "</style>\n",
       "<table border=\"1\" class=\"dataframe\">\n",
       "  <thead>\n",
       "    <tr style=\"text-align: right;\">\n",
       "      <th></th>\n",
       "      <th>M/F</th>\n",
       "      <th>Age</th>\n",
       "      <th>Educ</th>\n",
       "      <th>SES</th>\n",
       "      <th>MMSE</th>\n",
       "      <th>eTIV</th>\n",
       "      <th>nWBV</th>\n",
       "      <th>ASF</th>\n",
       "    </tr>\n",
       "  </thead>\n",
       "  <tbody>\n",
       "    <tr>\n",
       "      <th>0</th>\n",
       "      <td>F</td>\n",
       "      <td>74</td>\n",
       "      <td>2.0</td>\n",
       "      <td>3.0</td>\n",
       "      <td>29.0</td>\n",
       "      <td>1344</td>\n",
       "      <td>0.743</td>\n",
       "      <td>1.306</td>\n",
       "    </tr>\n",
       "    <tr>\n",
       "      <th>1</th>\n",
       "      <td>F</td>\n",
       "      <td>55</td>\n",
       "      <td>4.0</td>\n",
       "      <td>1.0</td>\n",
       "      <td>29.0</td>\n",
       "      <td>1147</td>\n",
       "      <td>0.810</td>\n",
       "      <td>1.531</td>\n",
       "    </tr>\n",
       "    <tr>\n",
       "      <th>2</th>\n",
       "      <td>F</td>\n",
       "      <td>73</td>\n",
       "      <td>4.0</td>\n",
       "      <td>3.0</td>\n",
       "      <td>27.0</td>\n",
       "      <td>1454</td>\n",
       "      <td>0.708</td>\n",
       "      <td>1.207</td>\n",
       "    </tr>\n",
       "    <tr>\n",
       "      <th>3</th>\n",
       "      <td>M</td>\n",
       "      <td>74</td>\n",
       "      <td>5.0</td>\n",
       "      <td>2.0</td>\n",
       "      <td>30.0</td>\n",
       "      <td>1636</td>\n",
       "      <td>0.689</td>\n",
       "      <td>1.073</td>\n",
       "    </tr>\n",
       "    <tr>\n",
       "      <th>4</th>\n",
       "      <td>F</td>\n",
       "      <td>52</td>\n",
       "      <td>3.0</td>\n",
       "      <td>2.0</td>\n",
       "      <td>30.0</td>\n",
       "      <td>1321</td>\n",
       "      <td>0.827</td>\n",
       "      <td>1.329</td>\n",
       "    </tr>\n",
       "    <tr>\n",
       "      <th>...</th>\n",
       "      <td>...</td>\n",
       "      <td>...</td>\n",
       "      <td>...</td>\n",
       "      <td>...</td>\n",
       "      <td>...</td>\n",
       "      <td>...</td>\n",
       "      <td>...</td>\n",
       "      <td>...</td>\n",
       "    </tr>\n",
       "    <tr>\n",
       "      <th>230</th>\n",
       "      <td>F</td>\n",
       "      <td>70</td>\n",
       "      <td>1.0</td>\n",
       "      <td>4.0</td>\n",
       "      <td>29.0</td>\n",
       "      <td>1295</td>\n",
       "      <td>0.748</td>\n",
       "      <td>1.355</td>\n",
       "    </tr>\n",
       "    <tr>\n",
       "      <th>231</th>\n",
       "      <td>F</td>\n",
       "      <td>73</td>\n",
       "      <td>3.0</td>\n",
       "      <td>2.0</td>\n",
       "      <td>23.0</td>\n",
       "      <td>1536</td>\n",
       "      <td>0.730</td>\n",
       "      <td>1.142</td>\n",
       "    </tr>\n",
       "    <tr>\n",
       "      <th>232</th>\n",
       "      <td>F</td>\n",
       "      <td>61</td>\n",
       "      <td>2.0</td>\n",
       "      <td>4.0</td>\n",
       "      <td>28.0</td>\n",
       "      <td>1354</td>\n",
       "      <td>0.825</td>\n",
       "      <td>1.297</td>\n",
       "    </tr>\n",
       "    <tr>\n",
       "      <th>233</th>\n",
       "      <td>M</td>\n",
       "      <td>61</td>\n",
       "      <td>5.0</td>\n",
       "      <td>2.0</td>\n",
       "      <td>30.0</td>\n",
       "      <td>1637</td>\n",
       "      <td>0.780</td>\n",
       "      <td>1.072</td>\n",
       "    </tr>\n",
       "    <tr>\n",
       "      <th>234</th>\n",
       "      <td>F</td>\n",
       "      <td>62</td>\n",
       "      <td>3.0</td>\n",
       "      <td>3.0</td>\n",
       "      <td>26.0</td>\n",
       "      <td>1372</td>\n",
       "      <td>0.766</td>\n",
       "      <td>1.279</td>\n",
       "    </tr>\n",
       "  </tbody>\n",
       "</table>\n",
       "<p>235 rows × 8 columns</p>\n",
       "</div>"
      ],
      "text/plain": [
       "    M/F  Age  Educ  SES  MMSE  eTIV   nWBV    ASF\n",
       "0     F   74   2.0  3.0  29.0  1344  0.743  1.306\n",
       "1     F   55   4.0  1.0  29.0  1147  0.810  1.531\n",
       "2     F   73   4.0  3.0  27.0  1454  0.708  1.207\n",
       "3     M   74   5.0  2.0  30.0  1636  0.689  1.073\n",
       "4     F   52   3.0  2.0  30.0  1321  0.827  1.329\n",
       "..   ..  ...   ...  ...   ...   ...    ...    ...\n",
       "230   F   70   1.0  4.0  29.0  1295  0.748  1.355\n",
       "231   F   73   3.0  2.0  23.0  1536  0.730  1.142\n",
       "232   F   61   2.0  4.0  28.0  1354  0.825  1.297\n",
       "233   M   61   5.0  2.0  30.0  1637  0.780  1.072\n",
       "234   F   62   3.0  3.0  26.0  1372  0.766  1.279\n",
       "\n",
       "[235 rows x 8 columns]"
      ]
     },
     "execution_count": 16,
     "metadata": {},
     "output_type": "execute_result"
    }
   ],
   "source": [
    "X"
   ]
  },
  {
   "cell_type": "code",
   "execution_count": 17,
   "id": "96c655f1",
   "metadata": {},
   "outputs": [],
   "source": [
    "# Holdout\n",
    "X_train, X_test, y_train, y_test = train_test_split(X, y, test_size=0.30, random_state = 42)"
   ]
  },
  {
   "cell_type": "code",
   "execution_count": 18,
   "id": "3fe0f81d",
   "metadata": {},
   "outputs": [
    {
     "data": {
      "text/html": [
       "<div>\n",
       "<style scoped>\n",
       "    .dataframe tbody tr th:only-of-type {\n",
       "        vertical-align: middle;\n",
       "    }\n",
       "\n",
       "    .dataframe tbody tr th {\n",
       "        vertical-align: top;\n",
       "    }\n",
       "\n",
       "    .dataframe thead th {\n",
       "        text-align: right;\n",
       "    }\n",
       "</style>\n",
       "<table border=\"1\" class=\"dataframe\">\n",
       "  <thead>\n",
       "    <tr style=\"text-align: right;\">\n",
       "      <th></th>\n",
       "      <th>M/F</th>\n",
       "      <th>Age</th>\n",
       "      <th>Educ</th>\n",
       "      <th>SES</th>\n",
       "      <th>MMSE</th>\n",
       "      <th>eTIV</th>\n",
       "      <th>nWBV</th>\n",
       "      <th>ASF</th>\n",
       "    </tr>\n",
       "  </thead>\n",
       "  <tbody>\n",
       "    <tr>\n",
       "      <th>126</th>\n",
       "      <td>M</td>\n",
       "      <td>70</td>\n",
       "      <td>5.0</td>\n",
       "      <td>1.0</td>\n",
       "      <td>30.0</td>\n",
       "      <td>1660</td>\n",
       "      <td>0.739</td>\n",
       "      <td>1.057</td>\n",
       "    </tr>\n",
       "    <tr>\n",
       "      <th>79</th>\n",
       "      <td>F</td>\n",
       "      <td>84</td>\n",
       "      <td>2.0</td>\n",
       "      <td>2.0</td>\n",
       "      <td>27.0</td>\n",
       "      <td>1390</td>\n",
       "      <td>0.727</td>\n",
       "      <td>1.263</td>\n",
       "    </tr>\n",
       "    <tr>\n",
       "      <th>5</th>\n",
       "      <td>F</td>\n",
       "      <td>81</td>\n",
       "      <td>5.0</td>\n",
       "      <td>2.0</td>\n",
       "      <td>30.0</td>\n",
       "      <td>1664</td>\n",
       "      <td>0.679</td>\n",
       "      <td>1.055</td>\n",
       "    </tr>\n",
       "    <tr>\n",
       "      <th>56</th>\n",
       "      <td>M</td>\n",
       "      <td>84</td>\n",
       "      <td>3.0</td>\n",
       "      <td>4.0</td>\n",
       "      <td>28.0</td>\n",
       "      <td>1483</td>\n",
       "      <td>0.697</td>\n",
       "      <td>1.183</td>\n",
       "    </tr>\n",
       "    <tr>\n",
       "      <th>120</th>\n",
       "      <td>F</td>\n",
       "      <td>74</td>\n",
       "      <td>5.0</td>\n",
       "      <td>2.0</td>\n",
       "      <td>30.0</td>\n",
       "      <td>1400</td>\n",
       "      <td>0.754</td>\n",
       "      <td>1.254</td>\n",
       "    </tr>\n",
       "    <tr>\n",
       "      <th>...</th>\n",
       "      <td>...</td>\n",
       "      <td>...</td>\n",
       "      <td>...</td>\n",
       "      <td>...</td>\n",
       "      <td>...</td>\n",
       "      <td>...</td>\n",
       "      <td>...</td>\n",
       "      <td>...</td>\n",
       "    </tr>\n",
       "    <tr>\n",
       "      <th>106</th>\n",
       "      <td>F</td>\n",
       "      <td>74</td>\n",
       "      <td>3.0</td>\n",
       "      <td>3.0</td>\n",
       "      <td>28.0</td>\n",
       "      <td>1614</td>\n",
       "      <td>0.697</td>\n",
       "      <td>1.087</td>\n",
       "    </tr>\n",
       "    <tr>\n",
       "      <th>14</th>\n",
       "      <td>F</td>\n",
       "      <td>58</td>\n",
       "      <td>5.0</td>\n",
       "      <td>1.0</td>\n",
       "      <td>30.0</td>\n",
       "      <td>1235</td>\n",
       "      <td>0.820</td>\n",
       "      <td>1.421</td>\n",
       "    </tr>\n",
       "    <tr>\n",
       "      <th>92</th>\n",
       "      <td>M</td>\n",
       "      <td>84</td>\n",
       "      <td>5.0</td>\n",
       "      <td>1.0</td>\n",
       "      <td>29.0</td>\n",
       "      <td>1707</td>\n",
       "      <td>0.731</td>\n",
       "      <td>1.028</td>\n",
       "    </tr>\n",
       "    <tr>\n",
       "      <th>179</th>\n",
       "      <td>M</td>\n",
       "      <td>86</td>\n",
       "      <td>1.0</td>\n",
       "      <td>4.0</td>\n",
       "      <td>15.0</td>\n",
       "      <td>1512</td>\n",
       "      <td>0.665</td>\n",
       "      <td>1.161</td>\n",
       "    </tr>\n",
       "    <tr>\n",
       "      <th>102</th>\n",
       "      <td>F</td>\n",
       "      <td>78</td>\n",
       "      <td>5.0</td>\n",
       "      <td>1.0</td>\n",
       "      <td>30.0</td>\n",
       "      <td>1243</td>\n",
       "      <td>0.747</td>\n",
       "      <td>1.412</td>\n",
       "    </tr>\n",
       "  </tbody>\n",
       "</table>\n",
       "<p>164 rows × 8 columns</p>\n",
       "</div>"
      ],
      "text/plain": [
       "    M/F  Age  Educ  SES  MMSE  eTIV   nWBV    ASF\n",
       "126   M   70   5.0  1.0  30.0  1660  0.739  1.057\n",
       "79    F   84   2.0  2.0  27.0  1390  0.727  1.263\n",
       "5     F   81   5.0  2.0  30.0  1664  0.679  1.055\n",
       "56    M   84   3.0  4.0  28.0  1483  0.697  1.183\n",
       "120   F   74   5.0  2.0  30.0  1400  0.754  1.254\n",
       "..   ..  ...   ...  ...   ...   ...    ...    ...\n",
       "106   F   74   3.0  3.0  28.0  1614  0.697  1.087\n",
       "14    F   58   5.0  1.0  30.0  1235  0.820  1.421\n",
       "92    M   84   5.0  1.0  29.0  1707  0.731  1.028\n",
       "179   M   86   1.0  4.0  15.0  1512  0.665  1.161\n",
       "102   F   78   5.0  1.0  30.0  1243  0.747  1.412\n",
       "\n",
       "[164 rows x 8 columns]"
      ]
     },
     "execution_count": 18,
     "metadata": {},
     "output_type": "execute_result"
    }
   ],
   "source": [
    "X_train"
   ]
  },
  {
   "cell_type": "code",
   "execution_count": 19,
   "id": "05bc84fc",
   "metadata": {},
   "outputs": [
    {
     "data": {
      "text/plain": [
       "ID      0\n",
       "M/F     0\n",
       "Age     0\n",
       "Educ    0\n",
       "SES     0\n",
       "MMSE    0\n",
       "CDR     0\n",
       "eTIV    0\n",
       "nWBV    0\n",
       "ASF     0\n",
       "dtype: int64"
      ]
     },
     "execution_count": 19,
     "metadata": {},
     "output_type": "execute_result"
    }
   ],
   "source": [
    "clean_oasis1.isnull().sum()"
   ]
  },
  {
   "cell_type": "markdown",
   "id": "929025e4",
   "metadata": {},
   "source": [
    "## Preprocessing pipeline"
   ]
  },
  {
   "cell_type": "markdown",
   "id": "091f5cda",
   "metadata": {},
   "source": [
    "📜 Note: columns **nWBV and ASF** already normalized\n",
    " \n",
    " According to visualizations in file 'Demographic_visual.ipynb', we decided to scale as follows:\n",
    " \n",
    "**Columns to scale:**\n",
    "\n",
    "Standard Scale: age\n",
    "\n",
    "Robust Scale: eTIV, MMSE\n",
    "\n",
    "MinMax Scale: Educ"
   ]
  },
  {
   "cell_type": "code",
   "execution_count": 20,
   "id": "647a35ac",
   "metadata": {},
   "outputs": [],
   "source": [
    "class CustomColumnTransformer(ColumnTransformer):\n",
    "    def transform(self, *args, **kwargs):\n",
    "        return pd.DataFrame(super().transform(*args, **kwargs), columns=self.get_feature_names_out())\n",
    "    def fit_transform(self, *args, **kwargs):\n",
    "        return pd.DataFrame(super().fit_transform(*args, **kwargs), columns=self.get_feature_names_out())"
   ]
  },
  {
   "cell_type": "code",
   "execution_count": 21,
   "id": "2ad36d87",
   "metadata": {},
   "outputs": [],
   "source": [
    "class ColumnNameExtractorAfterImputer(BaseEstimator, TransformerMixin):\n",
    "    def __init__(self, columns):\n",
    "        self.columns = columns\n",
    "        \n",
    "    def fit(self, *_):\n",
    "        return self\n",
    "\n",
    "    def transform(self, X, *_):\n",
    "        return pd.DataFrame(X, columns=self.columns)"
   ]
  },
  {
   "cell_type": "code",
   "execution_count": 22,
   "id": "8cb646c8",
   "metadata": {},
   "outputs": [
    {
     "data": {
      "text/html": [
       "<style>#sk-d2823628-47a7-4861-92af-ff5fad94c3cb {color: black;background-color: white;}#sk-d2823628-47a7-4861-92af-ff5fad94c3cb pre{padding: 0;}#sk-d2823628-47a7-4861-92af-ff5fad94c3cb div.sk-toggleable {background-color: white;}#sk-d2823628-47a7-4861-92af-ff5fad94c3cb label.sk-toggleable__label {cursor: pointer;display: block;width: 100%;margin-bottom: 0;padding: 0.3em;box-sizing: border-box;text-align: center;}#sk-d2823628-47a7-4861-92af-ff5fad94c3cb label.sk-toggleable__label-arrow:before {content: \"▸\";float: left;margin-right: 0.25em;color: #696969;}#sk-d2823628-47a7-4861-92af-ff5fad94c3cb label.sk-toggleable__label-arrow:hover:before {color: black;}#sk-d2823628-47a7-4861-92af-ff5fad94c3cb div.sk-estimator:hover label.sk-toggleable__label-arrow:before {color: black;}#sk-d2823628-47a7-4861-92af-ff5fad94c3cb div.sk-toggleable__content {max-height: 0;max-width: 0;overflow: hidden;text-align: left;background-color: #f0f8ff;}#sk-d2823628-47a7-4861-92af-ff5fad94c3cb div.sk-toggleable__content pre {margin: 0.2em;color: black;border-radius: 0.25em;background-color: #f0f8ff;}#sk-d2823628-47a7-4861-92af-ff5fad94c3cb input.sk-toggleable__control:checked~div.sk-toggleable__content {max-height: 200px;max-width: 100%;overflow: auto;}#sk-d2823628-47a7-4861-92af-ff5fad94c3cb input.sk-toggleable__control:checked~label.sk-toggleable__label-arrow:before {content: \"▾\";}#sk-d2823628-47a7-4861-92af-ff5fad94c3cb div.sk-estimator input.sk-toggleable__control:checked~label.sk-toggleable__label {background-color: #d4ebff;}#sk-d2823628-47a7-4861-92af-ff5fad94c3cb div.sk-label input.sk-toggleable__control:checked~label.sk-toggleable__label {background-color: #d4ebff;}#sk-d2823628-47a7-4861-92af-ff5fad94c3cb input.sk-hidden--visually {border: 0;clip: rect(1px 1px 1px 1px);clip: rect(1px, 1px, 1px, 1px);height: 1px;margin: -1px;overflow: hidden;padding: 0;position: absolute;width: 1px;}#sk-d2823628-47a7-4861-92af-ff5fad94c3cb div.sk-estimator {font-family: monospace;background-color: #f0f8ff;border: 1px dotted black;border-radius: 0.25em;box-sizing: border-box;margin-bottom: 0.5em;}#sk-d2823628-47a7-4861-92af-ff5fad94c3cb div.sk-estimator:hover {background-color: #d4ebff;}#sk-d2823628-47a7-4861-92af-ff5fad94c3cb div.sk-parallel-item::after {content: \"\";width: 100%;border-bottom: 1px solid gray;flex-grow: 1;}#sk-d2823628-47a7-4861-92af-ff5fad94c3cb div.sk-label:hover label.sk-toggleable__label {background-color: #d4ebff;}#sk-d2823628-47a7-4861-92af-ff5fad94c3cb div.sk-serial::before {content: \"\";position: absolute;border-left: 1px solid gray;box-sizing: border-box;top: 2em;bottom: 0;left: 50%;}#sk-d2823628-47a7-4861-92af-ff5fad94c3cb div.sk-serial {display: flex;flex-direction: column;align-items: center;background-color: white;padding-right: 0.2em;padding-left: 0.2em;}#sk-d2823628-47a7-4861-92af-ff5fad94c3cb div.sk-item {z-index: 1;}#sk-d2823628-47a7-4861-92af-ff5fad94c3cb div.sk-parallel {display: flex;align-items: stretch;justify-content: center;background-color: white;}#sk-d2823628-47a7-4861-92af-ff5fad94c3cb div.sk-parallel::before {content: \"\";position: absolute;border-left: 1px solid gray;box-sizing: border-box;top: 2em;bottom: 0;left: 50%;}#sk-d2823628-47a7-4861-92af-ff5fad94c3cb div.sk-parallel-item {display: flex;flex-direction: column;position: relative;background-color: white;}#sk-d2823628-47a7-4861-92af-ff5fad94c3cb div.sk-parallel-item:first-child::after {align-self: flex-end;width: 50%;}#sk-d2823628-47a7-4861-92af-ff5fad94c3cb div.sk-parallel-item:last-child::after {align-self: flex-start;width: 50%;}#sk-d2823628-47a7-4861-92af-ff5fad94c3cb div.sk-parallel-item:only-child::after {width: 0;}#sk-d2823628-47a7-4861-92af-ff5fad94c3cb div.sk-dashed-wrapped {border: 1px dashed gray;margin: 0 0.4em 0.5em 0.4em;box-sizing: border-box;padding-bottom: 0.4em;background-color: white;position: relative;}#sk-d2823628-47a7-4861-92af-ff5fad94c3cb div.sk-label label {font-family: monospace;font-weight: bold;background-color: white;display: inline-block;line-height: 1.2em;}#sk-d2823628-47a7-4861-92af-ff5fad94c3cb div.sk-label-container {position: relative;z-index: 2;text-align: center;}#sk-d2823628-47a7-4861-92af-ff5fad94c3cb div.sk-container {/* jupyter's `normalize.less` sets `[hidden] { display: none; }` but bootstrap.min.css set `[hidden] { display: none !important; }` so we also need the `!important` here to be able to override the default hidden behavior on the sphinx rendered scikit-learn.org. See: https://github.com/scikit-learn/scikit-learn/issues/21755 */display: inline-block !important;position: relative;}#sk-d2823628-47a7-4861-92af-ff5fad94c3cb div.sk-text-repr-fallback {display: none;}</style><div id=\"sk-d2823628-47a7-4861-92af-ff5fad94c3cb\" class=\"sk-top-container\"><div class=\"sk-text-repr-fallback\"><pre>CustomColumnTransformer(remainder=&#x27;passthrough&#x27;,\n",
       "                        transformers=[(&#x27;standard_scaler&#x27;, StandardScaler(),\n",
       "                                       [&#x27;Age&#x27;]),\n",
       "                                      (&#x27;robust_scaler&#x27;, RobustScaler(),\n",
       "                                       [&#x27;eTIV&#x27;, &#x27;MMSE&#x27;]),\n",
       "                                      (&#x27;minmax_scaler&#x27;, MinMaxScaler(),\n",
       "                                       [&#x27;Educ&#x27;])])</pre><b>Please rerun this cell to show the HTML repr or trust the notebook.</b></div><div class=\"sk-container\" hidden><div class=\"sk-item sk-dashed-wrapped\"><div class=\"sk-label-container\"><div class=\"sk-label sk-toggleable\"><input class=\"sk-toggleable__control sk-hidden--visually\" id=\"ad52f6c1-33c3-4902-9795-fac2456de4c8\" type=\"checkbox\" ><label for=\"ad52f6c1-33c3-4902-9795-fac2456de4c8\" class=\"sk-toggleable__label sk-toggleable__label-arrow\">CustomColumnTransformer</label><div class=\"sk-toggleable__content\"><pre>CustomColumnTransformer(remainder=&#x27;passthrough&#x27;,\n",
       "                        transformers=[(&#x27;standard_scaler&#x27;, StandardScaler(),\n",
       "                                       [&#x27;Age&#x27;]),\n",
       "                                      (&#x27;robust_scaler&#x27;, RobustScaler(),\n",
       "                                       [&#x27;eTIV&#x27;, &#x27;MMSE&#x27;]),\n",
       "                                      (&#x27;minmax_scaler&#x27;, MinMaxScaler(),\n",
       "                                       [&#x27;Educ&#x27;])])</pre></div></div></div><div class=\"sk-parallel\"><div class=\"sk-parallel-item\"><div class=\"sk-item\"><div class=\"sk-label-container\"><div class=\"sk-label sk-toggleable\"><input class=\"sk-toggleable__control sk-hidden--visually\" id=\"d54ccb44-7ec6-48c9-8f8d-a03556ddb073\" type=\"checkbox\" ><label for=\"d54ccb44-7ec6-48c9-8f8d-a03556ddb073\" class=\"sk-toggleable__label sk-toggleable__label-arrow\">standard_scaler</label><div class=\"sk-toggleable__content\"><pre>[&#x27;Age&#x27;]</pre></div></div></div><div class=\"sk-serial\"><div class=\"sk-item\"><div class=\"sk-estimator sk-toggleable\"><input class=\"sk-toggleable__control sk-hidden--visually\" id=\"d6296d26-6c96-44e8-9443-3af139af014b\" type=\"checkbox\" ><label for=\"d6296d26-6c96-44e8-9443-3af139af014b\" class=\"sk-toggleable__label sk-toggleable__label-arrow\">StandardScaler</label><div class=\"sk-toggleable__content\"><pre>StandardScaler()</pre></div></div></div></div></div></div><div class=\"sk-parallel-item\"><div class=\"sk-item\"><div class=\"sk-label-container\"><div class=\"sk-label sk-toggleable\"><input class=\"sk-toggleable__control sk-hidden--visually\" id=\"c03564fc-a973-477c-91b7-dcc156935fdb\" type=\"checkbox\" ><label for=\"c03564fc-a973-477c-91b7-dcc156935fdb\" class=\"sk-toggleable__label sk-toggleable__label-arrow\">robust_scaler</label><div class=\"sk-toggleable__content\"><pre>[&#x27;eTIV&#x27;, &#x27;MMSE&#x27;]</pre></div></div></div><div class=\"sk-serial\"><div class=\"sk-item\"><div class=\"sk-estimator sk-toggleable\"><input class=\"sk-toggleable__control sk-hidden--visually\" id=\"e2c991b8-267e-4a22-99ce-62336316ae72\" type=\"checkbox\" ><label for=\"e2c991b8-267e-4a22-99ce-62336316ae72\" class=\"sk-toggleable__label sk-toggleable__label-arrow\">RobustScaler</label><div class=\"sk-toggleable__content\"><pre>RobustScaler()</pre></div></div></div></div></div></div><div class=\"sk-parallel-item\"><div class=\"sk-item\"><div class=\"sk-label-container\"><div class=\"sk-label sk-toggleable\"><input class=\"sk-toggleable__control sk-hidden--visually\" id=\"71c773c3-965b-4ae5-9f2b-e602e2f41c7b\" type=\"checkbox\" ><label for=\"71c773c3-965b-4ae5-9f2b-e602e2f41c7b\" class=\"sk-toggleable__label sk-toggleable__label-arrow\">minmax_scaler</label><div class=\"sk-toggleable__content\"><pre>[&#x27;Educ&#x27;]</pre></div></div></div><div class=\"sk-serial\"><div class=\"sk-item\"><div class=\"sk-estimator sk-toggleable\"><input class=\"sk-toggleable__control sk-hidden--visually\" id=\"0cceaa50-4db3-411b-a297-c6f204b78af6\" type=\"checkbox\" ><label for=\"0cceaa50-4db3-411b-a297-c6f204b78af6\" class=\"sk-toggleable__label sk-toggleable__label-arrow\">MinMaxScaler</label><div class=\"sk-toggleable__content\"><pre>MinMaxScaler()</pre></div></div></div></div></div></div><div class=\"sk-parallel-item\"><div class=\"sk-item\"><div class=\"sk-label-container\"><div class=\"sk-label sk-toggleable\"><input class=\"sk-toggleable__control sk-hidden--visually\" id=\"4d35126e-7312-42e4-9593-7f635332539e\" type=\"checkbox\" ><label for=\"4d35126e-7312-42e4-9593-7f635332539e\" class=\"sk-toggleable__label sk-toggleable__label-arrow\">remainder</label><div class=\"sk-toggleable__content\"><pre></pre></div></div></div><div class=\"sk-serial\"><div class=\"sk-item\"><div class=\"sk-estimator sk-toggleable\"><input class=\"sk-toggleable__control sk-hidden--visually\" id=\"e0ce592b-5e5d-4413-8c2b-78082b2d2adb\" type=\"checkbox\" ><label for=\"e0ce592b-5e5d-4413-8c2b-78082b2d2adb\" class=\"sk-toggleable__label sk-toggleable__label-arrow\">passthrough</label><div class=\"sk-toggleable__content\"><pre>passthrough</pre></div></div></div></div></div></div></div></div></div></div>"
      ],
      "text/plain": [
       "CustomColumnTransformer(remainder='passthrough',\n",
       "                        transformers=[('standard_scaler', StandardScaler(),\n",
       "                                       ['Age']),\n",
       "                                      ('robust_scaler', RobustScaler(),\n",
       "                                       ['eTIV', 'MMSE']),\n",
       "                                      ('minmax_scaler', MinMaxScaler(),\n",
       "                                       ['Educ'])])"
      ]
     },
     "execution_count": 22,
     "metadata": {},
     "output_type": "execute_result"
    }
   ],
   "source": [
    "# Transformer for numerical features\n",
    "\n",
    "def numerical_transformer():\n",
    "    \"\"\"This function transforms all numerical features according to their respective scalers\n",
    "    \"\"\"\n",
    "    standard_features = ['Age']\n",
    "    robust_features = ['eTIV', 'MMSE']\n",
    "    minmax_features = ['Educ']\n",
    "    \n",
    "    numeric_transformer = CustomColumnTransformer([\n",
    "        ('standard_scaler', StandardScaler(), standard_features),\n",
    "        ('robust_scaler', RobustScaler(), robust_features),\n",
    "        ('minmax_scaler', MinMaxScaler(), minmax_features),\n",
    "         ], remainder = 'passthrough')\n",
    "    \n",
    "    return numeric_transformer\n",
    "numeric_transformer = numerical_transformer()\n",
    "numeric_transformer"
   ]
  },
  {
   "cell_type": "code",
   "execution_count": 23,
   "id": "50a63811",
   "metadata": {},
   "outputs": [],
   "source": [
    "standard_features = ['Age']\n",
    "robust_features = ['eTIV', 'MMSE']\n",
    "minmax_features = ['Educ']\n",
    "nothing_to_scale = ['nWBV','ASF', 'SES']"
   ]
  },
  {
   "cell_type": "code",
   "execution_count": 24,
   "id": "e58e9936",
   "metadata": {},
   "outputs": [
    {
     "data": {
      "text/plain": [
       "['Age', 'eTIV', 'MMSE', 'Educ', 'nWBV', 'ASF', 'SES']"
      ]
     },
     "execution_count": 24,
     "metadata": {},
     "output_type": "execute_result"
    }
   ],
   "source": [
    "numerical_features = standard_features + robust_features + minmax_features + nothing_to_scale\n",
    "numerical_features"
   ]
  },
  {
   "cell_type": "code",
   "execution_count": 25,
   "id": "bc60a8d2",
   "metadata": {},
   "outputs": [],
   "source": [
    "def num_transformer():\n",
    "    ses = ['SES']\n",
    "    pipeline = Pipeline([\n",
    "                    (\"imputer\", SimpleImputer(strategy = \"median\")),\n",
    "                    (\"column_name_extractor_after_imputer\", ColumnNameExtractorAfterImputer(ses)),\n",
    "                    (\"scalers\", numeric_transformer)\n",
    "                ])\n",
    "    return pipeline\n",
    "\n",
    "num_transformer = num_transformer()"
   ]
  },
  {
   "cell_type": "code",
   "execution_count": 26,
   "id": "11d3920a",
   "metadata": {},
   "outputs": [
    {
     "data": {
      "text/html": [
       "<style>#sk-9c66650d-ac45-4c3b-ba63-6f5e45ef16ae {color: black;background-color: white;}#sk-9c66650d-ac45-4c3b-ba63-6f5e45ef16ae pre{padding: 0;}#sk-9c66650d-ac45-4c3b-ba63-6f5e45ef16ae div.sk-toggleable {background-color: white;}#sk-9c66650d-ac45-4c3b-ba63-6f5e45ef16ae label.sk-toggleable__label {cursor: pointer;display: block;width: 100%;margin-bottom: 0;padding: 0.3em;box-sizing: border-box;text-align: center;}#sk-9c66650d-ac45-4c3b-ba63-6f5e45ef16ae label.sk-toggleable__label-arrow:before {content: \"▸\";float: left;margin-right: 0.25em;color: #696969;}#sk-9c66650d-ac45-4c3b-ba63-6f5e45ef16ae label.sk-toggleable__label-arrow:hover:before {color: black;}#sk-9c66650d-ac45-4c3b-ba63-6f5e45ef16ae div.sk-estimator:hover label.sk-toggleable__label-arrow:before {color: black;}#sk-9c66650d-ac45-4c3b-ba63-6f5e45ef16ae div.sk-toggleable__content {max-height: 0;max-width: 0;overflow: hidden;text-align: left;background-color: #f0f8ff;}#sk-9c66650d-ac45-4c3b-ba63-6f5e45ef16ae div.sk-toggleable__content pre {margin: 0.2em;color: black;border-radius: 0.25em;background-color: #f0f8ff;}#sk-9c66650d-ac45-4c3b-ba63-6f5e45ef16ae input.sk-toggleable__control:checked~div.sk-toggleable__content {max-height: 200px;max-width: 100%;overflow: auto;}#sk-9c66650d-ac45-4c3b-ba63-6f5e45ef16ae input.sk-toggleable__control:checked~label.sk-toggleable__label-arrow:before {content: \"▾\";}#sk-9c66650d-ac45-4c3b-ba63-6f5e45ef16ae div.sk-estimator input.sk-toggleable__control:checked~label.sk-toggleable__label {background-color: #d4ebff;}#sk-9c66650d-ac45-4c3b-ba63-6f5e45ef16ae div.sk-label input.sk-toggleable__control:checked~label.sk-toggleable__label {background-color: #d4ebff;}#sk-9c66650d-ac45-4c3b-ba63-6f5e45ef16ae input.sk-hidden--visually {border: 0;clip: rect(1px 1px 1px 1px);clip: rect(1px, 1px, 1px, 1px);height: 1px;margin: -1px;overflow: hidden;padding: 0;position: absolute;width: 1px;}#sk-9c66650d-ac45-4c3b-ba63-6f5e45ef16ae div.sk-estimator {font-family: monospace;background-color: #f0f8ff;border: 1px dotted black;border-radius: 0.25em;box-sizing: border-box;margin-bottom: 0.5em;}#sk-9c66650d-ac45-4c3b-ba63-6f5e45ef16ae div.sk-estimator:hover {background-color: #d4ebff;}#sk-9c66650d-ac45-4c3b-ba63-6f5e45ef16ae div.sk-parallel-item::after {content: \"\";width: 100%;border-bottom: 1px solid gray;flex-grow: 1;}#sk-9c66650d-ac45-4c3b-ba63-6f5e45ef16ae div.sk-label:hover label.sk-toggleable__label {background-color: #d4ebff;}#sk-9c66650d-ac45-4c3b-ba63-6f5e45ef16ae div.sk-serial::before {content: \"\";position: absolute;border-left: 1px solid gray;box-sizing: border-box;top: 2em;bottom: 0;left: 50%;}#sk-9c66650d-ac45-4c3b-ba63-6f5e45ef16ae div.sk-serial {display: flex;flex-direction: column;align-items: center;background-color: white;padding-right: 0.2em;padding-left: 0.2em;}#sk-9c66650d-ac45-4c3b-ba63-6f5e45ef16ae div.sk-item {z-index: 1;}#sk-9c66650d-ac45-4c3b-ba63-6f5e45ef16ae div.sk-parallel {display: flex;align-items: stretch;justify-content: center;background-color: white;}#sk-9c66650d-ac45-4c3b-ba63-6f5e45ef16ae div.sk-parallel::before {content: \"\";position: absolute;border-left: 1px solid gray;box-sizing: border-box;top: 2em;bottom: 0;left: 50%;}#sk-9c66650d-ac45-4c3b-ba63-6f5e45ef16ae div.sk-parallel-item {display: flex;flex-direction: column;position: relative;background-color: white;}#sk-9c66650d-ac45-4c3b-ba63-6f5e45ef16ae div.sk-parallel-item:first-child::after {align-self: flex-end;width: 50%;}#sk-9c66650d-ac45-4c3b-ba63-6f5e45ef16ae div.sk-parallel-item:last-child::after {align-self: flex-start;width: 50%;}#sk-9c66650d-ac45-4c3b-ba63-6f5e45ef16ae div.sk-parallel-item:only-child::after {width: 0;}#sk-9c66650d-ac45-4c3b-ba63-6f5e45ef16ae div.sk-dashed-wrapped {border: 1px dashed gray;margin: 0 0.4em 0.5em 0.4em;box-sizing: border-box;padding-bottom: 0.4em;background-color: white;position: relative;}#sk-9c66650d-ac45-4c3b-ba63-6f5e45ef16ae div.sk-label label {font-family: monospace;font-weight: bold;background-color: white;display: inline-block;line-height: 1.2em;}#sk-9c66650d-ac45-4c3b-ba63-6f5e45ef16ae div.sk-label-container {position: relative;z-index: 2;text-align: center;}#sk-9c66650d-ac45-4c3b-ba63-6f5e45ef16ae div.sk-container {/* jupyter's `normalize.less` sets `[hidden] { display: none; }` but bootstrap.min.css set `[hidden] { display: none !important; }` so we also need the `!important` here to be able to override the default hidden behavior on the sphinx rendered scikit-learn.org. See: https://github.com/scikit-learn/scikit-learn/issues/21755 */display: inline-block !important;position: relative;}#sk-9c66650d-ac45-4c3b-ba63-6f5e45ef16ae div.sk-text-repr-fallback {display: none;}</style><div id=\"sk-9c66650d-ac45-4c3b-ba63-6f5e45ef16ae\" class=\"sk-top-container\"><div class=\"sk-text-repr-fallback\"><pre>CustomColumnTransformer(transformers=[(&#x27;ohe_binary&#x27;,\n",
       "                                       OneHotEncoder(drop=&#x27;if_binary&#x27;,\n",
       "                                                     sparse=False),\n",
       "                                       [&#x27;M/F&#x27;])])</pre><b>Please rerun this cell to show the HTML repr or trust the notebook.</b></div><div class=\"sk-container\" hidden><div class=\"sk-item sk-dashed-wrapped\"><div class=\"sk-label-container\"><div class=\"sk-label sk-toggleable\"><input class=\"sk-toggleable__control sk-hidden--visually\" id=\"c6fd5fd3-2cfc-4783-b749-e83cc2bb7ec7\" type=\"checkbox\" ><label for=\"c6fd5fd3-2cfc-4783-b749-e83cc2bb7ec7\" class=\"sk-toggleable__label sk-toggleable__label-arrow\">CustomColumnTransformer</label><div class=\"sk-toggleable__content\"><pre>CustomColumnTransformer(transformers=[(&#x27;ohe_binary&#x27;,\n",
       "                                       OneHotEncoder(drop=&#x27;if_binary&#x27;,\n",
       "                                                     sparse=False),\n",
       "                                       [&#x27;M/F&#x27;])])</pre></div></div></div><div class=\"sk-parallel\"><div class=\"sk-parallel-item\"><div class=\"sk-item\"><div class=\"sk-label-container\"><div class=\"sk-label sk-toggleable\"><input class=\"sk-toggleable__control sk-hidden--visually\" id=\"667766ed-4263-4042-8a25-e5490cfd3d57\" type=\"checkbox\" ><label for=\"667766ed-4263-4042-8a25-e5490cfd3d57\" class=\"sk-toggleable__label sk-toggleable__label-arrow\">ohe_binary</label><div class=\"sk-toggleable__content\"><pre>[&#x27;M/F&#x27;]</pre></div></div></div><div class=\"sk-serial\"><div class=\"sk-item\"><div class=\"sk-estimator sk-toggleable\"><input class=\"sk-toggleable__control sk-hidden--visually\" id=\"d5cb85c8-13e4-4a03-b554-bf054922a2f4\" type=\"checkbox\" ><label for=\"d5cb85c8-13e4-4a03-b554-bf054922a2f4\" class=\"sk-toggleable__label sk-toggleable__label-arrow\">OneHotEncoder</label><div class=\"sk-toggleable__content\"><pre>OneHotEncoder(drop=&#x27;if_binary&#x27;, sparse=False)</pre></div></div></div></div></div></div></div></div></div></div>"
      ],
      "text/plain": [
       "CustomColumnTransformer(transformers=[('ohe_binary',\n",
       "                                       OneHotEncoder(drop='if_binary',\n",
       "                                                     sparse=False),\n",
       "                                       ['M/F'])])"
      ]
     },
     "execution_count": 26,
     "metadata": {},
     "output_type": "execute_result"
    }
   ],
   "source": [
    "# Transformer for categorical features\n",
    "\n",
    "binary_categorical_features = ['M/F']\n",
    "def binary_categorical_transformer():\n",
    "    \"\"\"This function encodes all categorical features according to their respective encoder.\n",
    "    \"\"\"\n",
    "    categorical_transformer = CustomColumnTransformer([\n",
    "       (\"ohe_binary\", \n",
    "         OneHotEncoder(sparse = False,\n",
    "                       drop = \"if_binary\", \n",
    "                       handle_unknown = \"error\"), \n",
    "         binary_categorical_features)\n",
    "    ])\n",
    "    return categorical_transformer\n",
    "binary_category_transformer = binary_categorical_transformer()\n",
    "binary_category_transformer"
   ]
  },
  {
   "cell_type": "markdown",
   "id": "4b657f90",
   "metadata": {},
   "source": [
    "## Parellel Transformation: Numerical + Categorical"
   ]
  },
  {
   "cell_type": "code",
   "execution_count": 27,
   "id": "8b433ba4",
   "metadata": {},
   "outputs": [
    {
     "data": {
      "text/html": [
       "<style>#sk-7928da8a-2e34-494a-b547-ba32fdf401db {color: black;background-color: white;}#sk-7928da8a-2e34-494a-b547-ba32fdf401db pre{padding: 0;}#sk-7928da8a-2e34-494a-b547-ba32fdf401db div.sk-toggleable {background-color: white;}#sk-7928da8a-2e34-494a-b547-ba32fdf401db label.sk-toggleable__label {cursor: pointer;display: block;width: 100%;margin-bottom: 0;padding: 0.3em;box-sizing: border-box;text-align: center;}#sk-7928da8a-2e34-494a-b547-ba32fdf401db label.sk-toggleable__label-arrow:before {content: \"▸\";float: left;margin-right: 0.25em;color: #696969;}#sk-7928da8a-2e34-494a-b547-ba32fdf401db label.sk-toggleable__label-arrow:hover:before {color: black;}#sk-7928da8a-2e34-494a-b547-ba32fdf401db div.sk-estimator:hover label.sk-toggleable__label-arrow:before {color: black;}#sk-7928da8a-2e34-494a-b547-ba32fdf401db div.sk-toggleable__content {max-height: 0;max-width: 0;overflow: hidden;text-align: left;background-color: #f0f8ff;}#sk-7928da8a-2e34-494a-b547-ba32fdf401db div.sk-toggleable__content pre {margin: 0.2em;color: black;border-radius: 0.25em;background-color: #f0f8ff;}#sk-7928da8a-2e34-494a-b547-ba32fdf401db input.sk-toggleable__control:checked~div.sk-toggleable__content {max-height: 200px;max-width: 100%;overflow: auto;}#sk-7928da8a-2e34-494a-b547-ba32fdf401db input.sk-toggleable__control:checked~label.sk-toggleable__label-arrow:before {content: \"▾\";}#sk-7928da8a-2e34-494a-b547-ba32fdf401db div.sk-estimator input.sk-toggleable__control:checked~label.sk-toggleable__label {background-color: #d4ebff;}#sk-7928da8a-2e34-494a-b547-ba32fdf401db div.sk-label input.sk-toggleable__control:checked~label.sk-toggleable__label {background-color: #d4ebff;}#sk-7928da8a-2e34-494a-b547-ba32fdf401db input.sk-hidden--visually {border: 0;clip: rect(1px 1px 1px 1px);clip: rect(1px, 1px, 1px, 1px);height: 1px;margin: -1px;overflow: hidden;padding: 0;position: absolute;width: 1px;}#sk-7928da8a-2e34-494a-b547-ba32fdf401db div.sk-estimator {font-family: monospace;background-color: #f0f8ff;border: 1px dotted black;border-radius: 0.25em;box-sizing: border-box;margin-bottom: 0.5em;}#sk-7928da8a-2e34-494a-b547-ba32fdf401db div.sk-estimator:hover {background-color: #d4ebff;}#sk-7928da8a-2e34-494a-b547-ba32fdf401db div.sk-parallel-item::after {content: \"\";width: 100%;border-bottom: 1px solid gray;flex-grow: 1;}#sk-7928da8a-2e34-494a-b547-ba32fdf401db div.sk-label:hover label.sk-toggleable__label {background-color: #d4ebff;}#sk-7928da8a-2e34-494a-b547-ba32fdf401db div.sk-serial::before {content: \"\";position: absolute;border-left: 1px solid gray;box-sizing: border-box;top: 2em;bottom: 0;left: 50%;}#sk-7928da8a-2e34-494a-b547-ba32fdf401db div.sk-serial {display: flex;flex-direction: column;align-items: center;background-color: white;padding-right: 0.2em;padding-left: 0.2em;}#sk-7928da8a-2e34-494a-b547-ba32fdf401db div.sk-item {z-index: 1;}#sk-7928da8a-2e34-494a-b547-ba32fdf401db div.sk-parallel {display: flex;align-items: stretch;justify-content: center;background-color: white;}#sk-7928da8a-2e34-494a-b547-ba32fdf401db div.sk-parallel::before {content: \"\";position: absolute;border-left: 1px solid gray;box-sizing: border-box;top: 2em;bottom: 0;left: 50%;}#sk-7928da8a-2e34-494a-b547-ba32fdf401db div.sk-parallel-item {display: flex;flex-direction: column;position: relative;background-color: white;}#sk-7928da8a-2e34-494a-b547-ba32fdf401db div.sk-parallel-item:first-child::after {align-self: flex-end;width: 50%;}#sk-7928da8a-2e34-494a-b547-ba32fdf401db div.sk-parallel-item:last-child::after {align-self: flex-start;width: 50%;}#sk-7928da8a-2e34-494a-b547-ba32fdf401db div.sk-parallel-item:only-child::after {width: 0;}#sk-7928da8a-2e34-494a-b547-ba32fdf401db div.sk-dashed-wrapped {border: 1px dashed gray;margin: 0 0.4em 0.5em 0.4em;box-sizing: border-box;padding-bottom: 0.4em;background-color: white;position: relative;}#sk-7928da8a-2e34-494a-b547-ba32fdf401db div.sk-label label {font-family: monospace;font-weight: bold;background-color: white;display: inline-block;line-height: 1.2em;}#sk-7928da8a-2e34-494a-b547-ba32fdf401db div.sk-label-container {position: relative;z-index: 2;text-align: center;}#sk-7928da8a-2e34-494a-b547-ba32fdf401db div.sk-container {/* jupyter's `normalize.less` sets `[hidden] { display: none; }` but bootstrap.min.css set `[hidden] { display: none !important; }` so we also need the `!important` here to be able to override the default hidden behavior on the sphinx rendered scikit-learn.org. See: https://github.com/scikit-learn/scikit-learn/issues/21755 */display: inline-block !important;position: relative;}#sk-7928da8a-2e34-494a-b547-ba32fdf401db div.sk-text-repr-fallback {display: none;}</style><div id=\"sk-7928da8a-2e34-494a-b547-ba32fdf401db\" class=\"sk-top-container\"><div class=\"sk-text-repr-fallback\"><pre>CustomColumnTransformer(remainder=&#x27;passthrough&#x27;,\n",
       "                        transformers=[(&#x27;num_transformer&#x27;,\n",
       "                                       Pipeline(steps=[(&#x27;imputer&#x27;,\n",
       "                                                        SimpleImputer(strategy=&#x27;median&#x27;)),\n",
       "                                                       (&#x27;column_name_extractor_after_imputer&#x27;,\n",
       "                                                        ColumnNameExtractorAfterImputer(columns=[&#x27;SES&#x27;])),\n",
       "                                                       (&#x27;scalers&#x27;,\n",
       "                                                        CustomColumnTransformer(remainder=&#x27;passthrough&#x27;,\n",
       "                                                                                transformers=[(&#x27;standard_scaler&#x27;,\n",
       "                                                                                               StandardScaler(),\n",
       "                                                                                               [&#x27;Age&#x27;]),\n",
       "                                                                                              (&#x27;robust_scaler&#x27;,\n",
       "                                                                                               RobustScaler(),\n",
       "                                                                                               [&#x27;eTIV&#x27;,\n",
       "                                                                                                &#x27;MMSE&#x27;]),\n",
       "                                                                                              (&#x27;minmax_scaler&#x27;,\n",
       "                                                                                               MinMaxScaler(),\n",
       "                                                                                               [&#x27;Educ&#x27;])]))]),\n",
       "                                       [&#x27;Age&#x27;, &#x27;eTIV&#x27;, &#x27;MMSE&#x27;, &#x27;Educ&#x27;, &#x27;nWBV&#x27;,\n",
       "                                        &#x27;ASF&#x27;, &#x27;SES&#x27;]),\n",
       "                                      (&#x27;cat_transformer&#x27;,\n",
       "                                       CustomColumnTransformer(transformers=[(&#x27;ohe_binary&#x27;,\n",
       "                                                                              OneHotEncoder(drop=&#x27;if_binary&#x27;,\n",
       "                                                                                            sparse=False),\n",
       "                                                                              [&#x27;M/F&#x27;])]),\n",
       "                                       [&#x27;M/F&#x27;])])</pre><b>Please rerun this cell to show the HTML repr or trust the notebook.</b></div><div class=\"sk-container\" hidden><div class=\"sk-item sk-dashed-wrapped\"><div class=\"sk-label-container\"><div class=\"sk-label sk-toggleable\"><input class=\"sk-toggleable__control sk-hidden--visually\" id=\"db9d1367-b582-48f8-9e8d-032b99b55a6c\" type=\"checkbox\" ><label for=\"db9d1367-b582-48f8-9e8d-032b99b55a6c\" class=\"sk-toggleable__label sk-toggleable__label-arrow\">CustomColumnTransformer</label><div class=\"sk-toggleable__content\"><pre>CustomColumnTransformer(remainder=&#x27;passthrough&#x27;,\n",
       "                        transformers=[(&#x27;num_transformer&#x27;,\n",
       "                                       Pipeline(steps=[(&#x27;imputer&#x27;,\n",
       "                                                        SimpleImputer(strategy=&#x27;median&#x27;)),\n",
       "                                                       (&#x27;column_name_extractor_after_imputer&#x27;,\n",
       "                                                        ColumnNameExtractorAfterImputer(columns=[&#x27;SES&#x27;])),\n",
       "                                                       (&#x27;scalers&#x27;,\n",
       "                                                        CustomColumnTransformer(remainder=&#x27;passthrough&#x27;,\n",
       "                                                                                transformers=[(&#x27;standard_scaler&#x27;,\n",
       "                                                                                               StandardScaler(),\n",
       "                                                                                               [&#x27;Age&#x27;]),\n",
       "                                                                                              (&#x27;robust_scaler&#x27;,\n",
       "                                                                                               RobustScaler(),\n",
       "                                                                                               [&#x27;eTIV&#x27;,\n",
       "                                                                                                &#x27;MMSE&#x27;]),\n",
       "                                                                                              (&#x27;minmax_scaler&#x27;,\n",
       "                                                                                               MinMaxScaler(),\n",
       "                                                                                               [&#x27;Educ&#x27;])]))]),\n",
       "                                       [&#x27;Age&#x27;, &#x27;eTIV&#x27;, &#x27;MMSE&#x27;, &#x27;Educ&#x27;, &#x27;nWBV&#x27;,\n",
       "                                        &#x27;ASF&#x27;, &#x27;SES&#x27;]),\n",
       "                                      (&#x27;cat_transformer&#x27;,\n",
       "                                       CustomColumnTransformer(transformers=[(&#x27;ohe_binary&#x27;,\n",
       "                                                                              OneHotEncoder(drop=&#x27;if_binary&#x27;,\n",
       "                                                                                            sparse=False),\n",
       "                                                                              [&#x27;M/F&#x27;])]),\n",
       "                                       [&#x27;M/F&#x27;])])</pre></div></div></div><div class=\"sk-parallel\"><div class=\"sk-parallel-item\"><div class=\"sk-item\"><div class=\"sk-label-container\"><div class=\"sk-label sk-toggleable\"><input class=\"sk-toggleable__control sk-hidden--visually\" id=\"fe52c585-0a04-4ac2-8b1c-a9e81aee45d4\" type=\"checkbox\" ><label for=\"fe52c585-0a04-4ac2-8b1c-a9e81aee45d4\" class=\"sk-toggleable__label sk-toggleable__label-arrow\">num_transformer</label><div class=\"sk-toggleable__content\"><pre>[&#x27;Age&#x27;, &#x27;eTIV&#x27;, &#x27;MMSE&#x27;, &#x27;Educ&#x27;, &#x27;nWBV&#x27;, &#x27;ASF&#x27;, &#x27;SES&#x27;]</pre></div></div></div><div class=\"sk-serial\"><div class=\"sk-item\"><div class=\"sk-serial\"><div class=\"sk-item\"><div class=\"sk-estimator sk-toggleable\"><input class=\"sk-toggleable__control sk-hidden--visually\" id=\"6bf426eb-55d9-4625-8441-062da3bc6146\" type=\"checkbox\" ><label for=\"6bf426eb-55d9-4625-8441-062da3bc6146\" class=\"sk-toggleable__label sk-toggleable__label-arrow\">SimpleImputer</label><div class=\"sk-toggleable__content\"><pre>SimpleImputer(strategy=&#x27;median&#x27;)</pre></div></div></div><div class=\"sk-item\"><div class=\"sk-estimator sk-toggleable\"><input class=\"sk-toggleable__control sk-hidden--visually\" id=\"ef11292e-9ecd-46ed-94a4-0a8dc5ecdc84\" type=\"checkbox\" ><label for=\"ef11292e-9ecd-46ed-94a4-0a8dc5ecdc84\" class=\"sk-toggleable__label sk-toggleable__label-arrow\">ColumnNameExtractorAfterImputer</label><div class=\"sk-toggleable__content\"><pre>ColumnNameExtractorAfterImputer(columns=[&#x27;SES&#x27;])</pre></div></div></div><div class=\"sk-item sk-dashed-wrapped\"><div class=\"sk-label-container\"><div class=\"sk-label sk-toggleable\"><input class=\"sk-toggleable__control sk-hidden--visually\" id=\"4f12b062-5a83-4d4d-9455-ea0b4fed9741\" type=\"checkbox\" ><label for=\"4f12b062-5a83-4d4d-9455-ea0b4fed9741\" class=\"sk-toggleable__label sk-toggleable__label-arrow\">scalers: CustomColumnTransformer</label><div class=\"sk-toggleable__content\"><pre>CustomColumnTransformer(remainder=&#x27;passthrough&#x27;,\n",
       "                        transformers=[(&#x27;standard_scaler&#x27;, StandardScaler(),\n",
       "                                       [&#x27;Age&#x27;]),\n",
       "                                      (&#x27;robust_scaler&#x27;, RobustScaler(),\n",
       "                                       [&#x27;eTIV&#x27;, &#x27;MMSE&#x27;]),\n",
       "                                      (&#x27;minmax_scaler&#x27;, MinMaxScaler(),\n",
       "                                       [&#x27;Educ&#x27;])])</pre></div></div></div><div class=\"sk-parallel\"><div class=\"sk-parallel-item\"><div class=\"sk-item\"><div class=\"sk-label-container\"><div class=\"sk-label sk-toggleable\"><input class=\"sk-toggleable__control sk-hidden--visually\" id=\"f96cc056-5f05-41bc-87fe-1faadbbba0dd\" type=\"checkbox\" ><label for=\"f96cc056-5f05-41bc-87fe-1faadbbba0dd\" class=\"sk-toggleable__label sk-toggleable__label-arrow\">standard_scaler</label><div class=\"sk-toggleable__content\"><pre>[&#x27;Age&#x27;]</pre></div></div></div><div class=\"sk-serial\"><div class=\"sk-item\"><div class=\"sk-estimator sk-toggleable\"><input class=\"sk-toggleable__control sk-hidden--visually\" id=\"000bc221-0d5f-4e5a-acb3-feab29ec81eb\" type=\"checkbox\" ><label for=\"000bc221-0d5f-4e5a-acb3-feab29ec81eb\" class=\"sk-toggleable__label sk-toggleable__label-arrow\">StandardScaler</label><div class=\"sk-toggleable__content\"><pre>StandardScaler()</pre></div></div></div></div></div></div><div class=\"sk-parallel-item\"><div class=\"sk-item\"><div class=\"sk-label-container\"><div class=\"sk-label sk-toggleable\"><input class=\"sk-toggleable__control sk-hidden--visually\" id=\"bd62103c-a686-4c11-8077-814cd3b263e7\" type=\"checkbox\" ><label for=\"bd62103c-a686-4c11-8077-814cd3b263e7\" class=\"sk-toggleable__label sk-toggleable__label-arrow\">robust_scaler</label><div class=\"sk-toggleable__content\"><pre>[&#x27;eTIV&#x27;, &#x27;MMSE&#x27;]</pre></div></div></div><div class=\"sk-serial\"><div class=\"sk-item\"><div class=\"sk-estimator sk-toggleable\"><input class=\"sk-toggleable__control sk-hidden--visually\" id=\"e8c28a78-aba4-4119-8ba5-0eba39213bce\" type=\"checkbox\" ><label for=\"e8c28a78-aba4-4119-8ba5-0eba39213bce\" class=\"sk-toggleable__label sk-toggleable__label-arrow\">RobustScaler</label><div class=\"sk-toggleable__content\"><pre>RobustScaler()</pre></div></div></div></div></div></div><div class=\"sk-parallel-item\"><div class=\"sk-item\"><div class=\"sk-label-container\"><div class=\"sk-label sk-toggleable\"><input class=\"sk-toggleable__control sk-hidden--visually\" id=\"744b1c41-6797-462b-990c-ee1b8ef12390\" type=\"checkbox\" ><label for=\"744b1c41-6797-462b-990c-ee1b8ef12390\" class=\"sk-toggleable__label sk-toggleable__label-arrow\">minmax_scaler</label><div class=\"sk-toggleable__content\"><pre>[&#x27;Educ&#x27;]</pre></div></div></div><div class=\"sk-serial\"><div class=\"sk-item\"><div class=\"sk-estimator sk-toggleable\"><input class=\"sk-toggleable__control sk-hidden--visually\" id=\"34c3e935-0dfd-4f50-9292-b0a7c54243eb\" type=\"checkbox\" ><label for=\"34c3e935-0dfd-4f50-9292-b0a7c54243eb\" class=\"sk-toggleable__label sk-toggleable__label-arrow\">MinMaxScaler</label><div class=\"sk-toggleable__content\"><pre>MinMaxScaler()</pre></div></div></div></div></div></div><div class=\"sk-parallel-item\"><div class=\"sk-item\"><div class=\"sk-label-container\"><div class=\"sk-label sk-toggleable\"><input class=\"sk-toggleable__control sk-hidden--visually\" id=\"844ae086-85de-4778-ac16-3ed5b940e9a9\" type=\"checkbox\" ><label for=\"844ae086-85de-4778-ac16-3ed5b940e9a9\" class=\"sk-toggleable__label sk-toggleable__label-arrow\">remainder</label><div class=\"sk-toggleable__content\"><pre></pre></div></div></div><div class=\"sk-serial\"><div class=\"sk-item\"><div class=\"sk-estimator sk-toggleable\"><input class=\"sk-toggleable__control sk-hidden--visually\" id=\"1122f78e-6f47-4755-84ab-f7fc9cf10623\" type=\"checkbox\" ><label for=\"1122f78e-6f47-4755-84ab-f7fc9cf10623\" class=\"sk-toggleable__label sk-toggleable__label-arrow\">passthrough</label><div class=\"sk-toggleable__content\"><pre>passthrough</pre></div></div></div></div></div></div></div></div></div></div></div></div></div><div class=\"sk-parallel-item\"><div class=\"sk-item\"><div class=\"sk-label-container\"><div class=\"sk-label sk-toggleable\"><input class=\"sk-toggleable__control sk-hidden--visually\" id=\"5e66d6e0-6743-4f91-9fc1-684204feaed1\" type=\"checkbox\" ><label for=\"5e66d6e0-6743-4f91-9fc1-684204feaed1\" class=\"sk-toggleable__label sk-toggleable__label-arrow\">cat_transformer</label><div class=\"sk-toggleable__content\"><pre>[&#x27;M/F&#x27;]</pre></div></div></div><div class=\"sk-serial\"><div class=\"sk-item sk-dashed-wrapped\"><div class=\"sk-parallel\"><div class=\"sk-parallel-item\"><div class=\"sk-item\"><div class=\"sk-label-container\"><div class=\"sk-label sk-toggleable\"><input class=\"sk-toggleable__control sk-hidden--visually\" id=\"a42b61f1-8092-43be-9937-31859ba40c30\" type=\"checkbox\" ><label for=\"a42b61f1-8092-43be-9937-31859ba40c30\" class=\"sk-toggleable__label sk-toggleable__label-arrow\">ohe_binary</label><div class=\"sk-toggleable__content\"><pre>[&#x27;M/F&#x27;]</pre></div></div></div><div class=\"sk-serial\"><div class=\"sk-item\"><div class=\"sk-estimator sk-toggleable\"><input class=\"sk-toggleable__control sk-hidden--visually\" id=\"6c73954a-9dc6-4f6d-b69a-7e947f6d0de4\" type=\"checkbox\" ><label for=\"6c73954a-9dc6-4f6d-b69a-7e947f6d0de4\" class=\"sk-toggleable__label sk-toggleable__label-arrow\">OneHotEncoder</label><div class=\"sk-toggleable__content\"><pre>OneHotEncoder(drop=&#x27;if_binary&#x27;, sparse=False)</pre></div></div></div></div></div></div></div></div></div></div></div><div class=\"sk-parallel-item\"><div class=\"sk-item\"><div class=\"sk-label-container\"><div class=\"sk-label sk-toggleable\"><input class=\"sk-toggleable__control sk-hidden--visually\" id=\"33464fa6-e3d1-467c-bf97-ff696fd92d4d\" type=\"checkbox\" ><label for=\"33464fa6-e3d1-467c-bf97-ff696fd92d4d\" class=\"sk-toggleable__label sk-toggleable__label-arrow\">remainder</label><div class=\"sk-toggleable__content\"><pre></pre></div></div></div><div class=\"sk-serial\"><div class=\"sk-item\"><div class=\"sk-estimator sk-toggleable\"><input class=\"sk-toggleable__control sk-hidden--visually\" id=\"75924248-0e8b-46cb-bdeb-97c1b1bb6e3e\" type=\"checkbox\" ><label for=\"75924248-0e8b-46cb-bdeb-97c1b1bb6e3e\" class=\"sk-toggleable__label sk-toggleable__label-arrow\">passthrough</label><div class=\"sk-toggleable__content\"><pre>passthrough</pre></div></div></div></div></div></div></div></div></div></div>"
      ],
      "text/plain": [
       "CustomColumnTransformer(remainder='passthrough',\n",
       "                        transformers=[('num_transformer',\n",
       "                                       Pipeline(steps=[('imputer',\n",
       "                                                        SimpleImputer(strategy='median')),\n",
       "                                                       ('column_name_extractor_after_imputer',\n",
       "                                                        ColumnNameExtractorAfterImputer(columns=['SES'])),\n",
       "                                                       ('scalers',\n",
       "                                                        CustomColumnTransformer(remainder='passthrough',\n",
       "                                                                                transformers=[('standard_scaler',\n",
       "                                                                                               StandardScaler(),\n",
       "                                                                                               ['Age']),\n",
       "                                                                                              ('robust_scaler',\n",
       "                                                                                               RobustScaler(),\n",
       "                                                                                               ['eTIV',\n",
       "                                                                                                'MMSE']),\n",
       "                                                                                              ('minmax_scaler',\n",
       "                                                                                               MinMaxScaler(),\n",
       "                                                                                               ['Educ'])]))]),\n",
       "                                       ['Age', 'eTIV', 'MMSE', 'Educ', 'nWBV',\n",
       "                                        'ASF', 'SES']),\n",
       "                                      ('cat_transformer',\n",
       "                                       CustomColumnTransformer(transformers=[('ohe_binary',\n",
       "                                                                              OneHotEncoder(drop='if_binary',\n",
       "                                                                                            sparse=False),\n",
       "                                                                              ['M/F'])]),\n",
       "                                       ['M/F'])])"
      ]
     },
     "execution_count": 27,
     "metadata": {},
     "output_type": "execute_result"
    }
   ],
   "source": [
    "def preprocessing():\n",
    "    ses = ['SES']\n",
    "    preprocessor = CustomColumnTransformer([\n",
    "            (\"num_transformer\", num_transformer, numerical_features),\n",
    "            (\"cat_transformer\", binary_category_transformer, binary_categorical_features)\n",
    "            ], remainder = 'passthrough')\n",
    "    return preprocessor\n",
    "\n",
    "preprocessor = preprocessing()\n",
    "preprocessor"
   ]
  },
  {
   "cell_type": "code",
   "execution_count": 28,
   "id": "e96f1273",
   "metadata": {},
   "outputs": [],
   "source": [
    "# def fit_pipeline(X_train):\n",
    "#     '''This function fits the pipeline to the input data\n",
    "#     '''\n",
    "#     pipeline = set_pipeline()\n",
    "#     return pipeline.fit(X_train)\n",
    "\n",
    "# fit_pipeline(X_train)"
   ]
  },
  {
   "cell_type": "code",
   "execution_count": 29,
   "id": "7974e749",
   "metadata": {},
   "outputs": [
    {
     "data": {
      "text/html": [
       "<div>\n",
       "<style scoped>\n",
       "    .dataframe tbody tr th:only-of-type {\n",
       "        vertical-align: middle;\n",
       "    }\n",
       "\n",
       "    .dataframe tbody tr th {\n",
       "        vertical-align: top;\n",
       "    }\n",
       "\n",
       "    .dataframe thead th {\n",
       "        text-align: right;\n",
       "    }\n",
       "</style>\n",
       "<table border=\"1\" class=\"dataframe\">\n",
       "  <thead>\n",
       "    <tr style=\"text-align: right;\">\n",
       "      <th></th>\n",
       "      <th>M/F</th>\n",
       "      <th>Age</th>\n",
       "      <th>Educ</th>\n",
       "      <th>SES</th>\n",
       "      <th>MMSE</th>\n",
       "      <th>eTIV</th>\n",
       "      <th>nWBV</th>\n",
       "      <th>ASF</th>\n",
       "    </tr>\n",
       "  </thead>\n",
       "  <tbody>\n",
       "    <tr>\n",
       "      <th>126</th>\n",
       "      <td>M</td>\n",
       "      <td>70</td>\n",
       "      <td>5.0</td>\n",
       "      <td>1.0</td>\n",
       "      <td>30.0</td>\n",
       "      <td>1660</td>\n",
       "      <td>0.739</td>\n",
       "      <td>1.057</td>\n",
       "    </tr>\n",
       "    <tr>\n",
       "      <th>79</th>\n",
       "      <td>F</td>\n",
       "      <td>84</td>\n",
       "      <td>2.0</td>\n",
       "      <td>2.0</td>\n",
       "      <td>27.0</td>\n",
       "      <td>1390</td>\n",
       "      <td>0.727</td>\n",
       "      <td>1.263</td>\n",
       "    </tr>\n",
       "    <tr>\n",
       "      <th>5</th>\n",
       "      <td>F</td>\n",
       "      <td>81</td>\n",
       "      <td>5.0</td>\n",
       "      <td>2.0</td>\n",
       "      <td>30.0</td>\n",
       "      <td>1664</td>\n",
       "      <td>0.679</td>\n",
       "      <td>1.055</td>\n",
       "    </tr>\n",
       "    <tr>\n",
       "      <th>56</th>\n",
       "      <td>M</td>\n",
       "      <td>84</td>\n",
       "      <td>3.0</td>\n",
       "      <td>4.0</td>\n",
       "      <td>28.0</td>\n",
       "      <td>1483</td>\n",
       "      <td>0.697</td>\n",
       "      <td>1.183</td>\n",
       "    </tr>\n",
       "    <tr>\n",
       "      <th>120</th>\n",
       "      <td>F</td>\n",
       "      <td>74</td>\n",
       "      <td>5.0</td>\n",
       "      <td>2.0</td>\n",
       "      <td>30.0</td>\n",
       "      <td>1400</td>\n",
       "      <td>0.754</td>\n",
       "      <td>1.254</td>\n",
       "    </tr>\n",
       "    <tr>\n",
       "      <th>...</th>\n",
       "      <td>...</td>\n",
       "      <td>...</td>\n",
       "      <td>...</td>\n",
       "      <td>...</td>\n",
       "      <td>...</td>\n",
       "      <td>...</td>\n",
       "      <td>...</td>\n",
       "      <td>...</td>\n",
       "    </tr>\n",
       "    <tr>\n",
       "      <th>106</th>\n",
       "      <td>F</td>\n",
       "      <td>74</td>\n",
       "      <td>3.0</td>\n",
       "      <td>3.0</td>\n",
       "      <td>28.0</td>\n",
       "      <td>1614</td>\n",
       "      <td>0.697</td>\n",
       "      <td>1.087</td>\n",
       "    </tr>\n",
       "    <tr>\n",
       "      <th>14</th>\n",
       "      <td>F</td>\n",
       "      <td>58</td>\n",
       "      <td>5.0</td>\n",
       "      <td>1.0</td>\n",
       "      <td>30.0</td>\n",
       "      <td>1235</td>\n",
       "      <td>0.820</td>\n",
       "      <td>1.421</td>\n",
       "    </tr>\n",
       "    <tr>\n",
       "      <th>92</th>\n",
       "      <td>M</td>\n",
       "      <td>84</td>\n",
       "      <td>5.0</td>\n",
       "      <td>1.0</td>\n",
       "      <td>29.0</td>\n",
       "      <td>1707</td>\n",
       "      <td>0.731</td>\n",
       "      <td>1.028</td>\n",
       "    </tr>\n",
       "    <tr>\n",
       "      <th>179</th>\n",
       "      <td>M</td>\n",
       "      <td>86</td>\n",
       "      <td>1.0</td>\n",
       "      <td>4.0</td>\n",
       "      <td>15.0</td>\n",
       "      <td>1512</td>\n",
       "      <td>0.665</td>\n",
       "      <td>1.161</td>\n",
       "    </tr>\n",
       "    <tr>\n",
       "      <th>102</th>\n",
       "      <td>F</td>\n",
       "      <td>78</td>\n",
       "      <td>5.0</td>\n",
       "      <td>1.0</td>\n",
       "      <td>30.0</td>\n",
       "      <td>1243</td>\n",
       "      <td>0.747</td>\n",
       "      <td>1.412</td>\n",
       "    </tr>\n",
       "  </tbody>\n",
       "</table>\n",
       "<p>164 rows × 8 columns</p>\n",
       "</div>"
      ],
      "text/plain": [
       "    M/F  Age  Educ  SES  MMSE  eTIV   nWBV    ASF\n",
       "126   M   70   5.0  1.0  30.0  1660  0.739  1.057\n",
       "79    F   84   2.0  2.0  27.0  1390  0.727  1.263\n",
       "5     F   81   5.0  2.0  30.0  1664  0.679  1.055\n",
       "56    M   84   3.0  4.0  28.0  1483  0.697  1.183\n",
       "120   F   74   5.0  2.0  30.0  1400  0.754  1.254\n",
       "..   ..  ...   ...  ...   ...   ...    ...    ...\n",
       "106   F   74   3.0  3.0  28.0  1614  0.697  1.087\n",
       "14    F   58   5.0  1.0  30.0  1235  0.820  1.421\n",
       "92    M   84   5.0  1.0  29.0  1707  0.731  1.028\n",
       "179   M   86   1.0  4.0  15.0  1512  0.665  1.161\n",
       "102   F   78   5.0  1.0  30.0  1243  0.747  1.412\n",
       "\n",
       "[164 rows x 8 columns]"
      ]
     },
     "execution_count": 29,
     "metadata": {},
     "output_type": "execute_result"
    }
   ],
   "source": [
    "X_train"
   ]
  },
  {
   "cell_type": "code",
   "execution_count": 30,
   "id": "e538920c",
   "metadata": {},
   "outputs": [
    {
     "ename": "ValueError",
     "evalue": "Shape of passed values is (164, 7), indices imply (164, 1)",
     "output_type": "error",
     "traceback": [
      "\u001b[0;31m---------------------------------------------------------------------------\u001b[0m",
      "\u001b[0;31mValueError\u001b[0m                                Traceback (most recent call last)",
      "Input \u001b[0;32mIn [30]\u001b[0m, in \u001b[0;36m<cell line: 1>\u001b[0;34m()\u001b[0m\n\u001b[0;32m----> 1\u001b[0m \u001b[43mpreprocessor\u001b[49m\u001b[38;5;241;43m.\u001b[39;49m\u001b[43mfit_transform\u001b[49m\u001b[43m(\u001b[49m\u001b[43mX_train\u001b[49m\u001b[43m)\u001b[49m\n",
      "Input \u001b[0;32mIn [20]\u001b[0m, in \u001b[0;36mCustomColumnTransformer.fit_transform\u001b[0;34m(self, *args, **kwargs)\u001b[0m\n\u001b[1;32m      4\u001b[0m \u001b[38;5;28;01mdef\u001b[39;00m \u001b[38;5;21mfit_transform\u001b[39m(\u001b[38;5;28mself\u001b[39m, \u001b[38;5;241m*\u001b[39margs, \u001b[38;5;241m*\u001b[39m\u001b[38;5;241m*\u001b[39mkwargs):\n\u001b[0;32m----> 5\u001b[0m     \u001b[38;5;28;01mreturn\u001b[39;00m pd\u001b[38;5;241m.\u001b[39mDataFrame(\u001b[38;5;28;43msuper\u001b[39;49m\u001b[43m(\u001b[49m\u001b[43m)\u001b[49m\u001b[38;5;241;43m.\u001b[39;49m\u001b[43mfit_transform\u001b[49m\u001b[43m(\u001b[49m\u001b[38;5;241;43m*\u001b[39;49m\u001b[43margs\u001b[49m\u001b[43m,\u001b[49m\u001b[43m \u001b[49m\u001b[38;5;241;43m*\u001b[39;49m\u001b[38;5;241;43m*\u001b[39;49m\u001b[43mkwargs\u001b[49m\u001b[43m)\u001b[49m, columns\u001b[38;5;241m=\u001b[39m\u001b[38;5;28mself\u001b[39m\u001b[38;5;241m.\u001b[39mget_feature_names_out())\n",
      "File \u001b[0;32m~/.pyenv/versions/3.8.12/envs/memobrain/lib/python3.8/site-packages/sklearn/compose/_column_transformer.py:675\u001b[0m, in \u001b[0;36mColumnTransformer.fit_transform\u001b[0;34m(self, X, y)\u001b[0m\n\u001b[1;32m    672\u001b[0m \u001b[38;5;28mself\u001b[39m\u001b[38;5;241m.\u001b[39m_validate_column_callables(X)\n\u001b[1;32m    673\u001b[0m \u001b[38;5;28mself\u001b[39m\u001b[38;5;241m.\u001b[39m_validate_remainder(X)\n\u001b[0;32m--> 675\u001b[0m result \u001b[38;5;241m=\u001b[39m \u001b[38;5;28;43mself\u001b[39;49m\u001b[38;5;241;43m.\u001b[39;49m\u001b[43m_fit_transform\u001b[49m\u001b[43m(\u001b[49m\u001b[43mX\u001b[49m\u001b[43m,\u001b[49m\u001b[43m \u001b[49m\u001b[43my\u001b[49m\u001b[43m,\u001b[49m\u001b[43m \u001b[49m\u001b[43m_fit_transform_one\u001b[49m\u001b[43m)\u001b[49m\n\u001b[1;32m    677\u001b[0m \u001b[38;5;28;01mif\u001b[39;00m \u001b[38;5;129;01mnot\u001b[39;00m result:\n\u001b[1;32m    678\u001b[0m     \u001b[38;5;28mself\u001b[39m\u001b[38;5;241m.\u001b[39m_update_fitted_transformers([])\n",
      "File \u001b[0;32m~/.pyenv/versions/3.8.12/envs/memobrain/lib/python3.8/site-packages/sklearn/compose/_column_transformer.py:606\u001b[0m, in \u001b[0;36mColumnTransformer._fit_transform\u001b[0;34m(self, X, y, func, fitted, column_as_strings)\u001b[0m\n\u001b[1;32m    600\u001b[0m transformers \u001b[38;5;241m=\u001b[39m \u001b[38;5;28mlist\u001b[39m(\n\u001b[1;32m    601\u001b[0m     \u001b[38;5;28mself\u001b[39m\u001b[38;5;241m.\u001b[39m_iter(\n\u001b[1;32m    602\u001b[0m         fitted\u001b[38;5;241m=\u001b[39mfitted, replace_strings\u001b[38;5;241m=\u001b[39m\u001b[38;5;28;01mTrue\u001b[39;00m, column_as_strings\u001b[38;5;241m=\u001b[39mcolumn_as_strings\n\u001b[1;32m    603\u001b[0m     )\n\u001b[1;32m    604\u001b[0m )\n\u001b[1;32m    605\u001b[0m \u001b[38;5;28;01mtry\u001b[39;00m:\n\u001b[0;32m--> 606\u001b[0m     \u001b[38;5;28;01mreturn\u001b[39;00m \u001b[43mParallel\u001b[49m\u001b[43m(\u001b[49m\u001b[43mn_jobs\u001b[49m\u001b[38;5;241;43m=\u001b[39;49m\u001b[38;5;28;43mself\u001b[39;49m\u001b[38;5;241;43m.\u001b[39;49m\u001b[43mn_jobs\u001b[49m\u001b[43m)\u001b[49m\u001b[43m(\u001b[49m\n\u001b[1;32m    607\u001b[0m \u001b[43m        \u001b[49m\u001b[43mdelayed\u001b[49m\u001b[43m(\u001b[49m\u001b[43mfunc\u001b[49m\u001b[43m)\u001b[49m\u001b[43m(\u001b[49m\n\u001b[1;32m    608\u001b[0m \u001b[43m            \u001b[49m\u001b[43mtransformer\u001b[49m\u001b[38;5;241;43m=\u001b[39;49m\u001b[43mclone\u001b[49m\u001b[43m(\u001b[49m\u001b[43mtrans\u001b[49m\u001b[43m)\u001b[49m\u001b[43m \u001b[49m\u001b[38;5;28;43;01mif\u001b[39;49;00m\u001b[43m \u001b[49m\u001b[38;5;129;43;01mnot\u001b[39;49;00m\u001b[43m \u001b[49m\u001b[43mfitted\u001b[49m\u001b[43m \u001b[49m\u001b[38;5;28;43;01melse\u001b[39;49;00m\u001b[43m \u001b[49m\u001b[43mtrans\u001b[49m\u001b[43m,\u001b[49m\n\u001b[1;32m    609\u001b[0m \u001b[43m            \u001b[49m\u001b[43mX\u001b[49m\u001b[38;5;241;43m=\u001b[39;49m\u001b[43m_safe_indexing\u001b[49m\u001b[43m(\u001b[49m\u001b[43mX\u001b[49m\u001b[43m,\u001b[49m\u001b[43m \u001b[49m\u001b[43mcolumn\u001b[49m\u001b[43m,\u001b[49m\u001b[43m \u001b[49m\u001b[43maxis\u001b[49m\u001b[38;5;241;43m=\u001b[39;49m\u001b[38;5;241;43m1\u001b[39;49m\u001b[43m)\u001b[49m\u001b[43m,\u001b[49m\n\u001b[1;32m    610\u001b[0m \u001b[43m            \u001b[49m\u001b[43my\u001b[49m\u001b[38;5;241;43m=\u001b[39;49m\u001b[43my\u001b[49m\u001b[43m,\u001b[49m\n\u001b[1;32m    611\u001b[0m \u001b[43m            \u001b[49m\u001b[43mweight\u001b[49m\u001b[38;5;241;43m=\u001b[39;49m\u001b[43mweight\u001b[49m\u001b[43m,\u001b[49m\n\u001b[1;32m    612\u001b[0m \u001b[43m            \u001b[49m\u001b[43mmessage_clsname\u001b[49m\u001b[38;5;241;43m=\u001b[39;49m\u001b[38;5;124;43m\"\u001b[39;49m\u001b[38;5;124;43mColumnTransformer\u001b[39;49m\u001b[38;5;124;43m\"\u001b[39;49m\u001b[43m,\u001b[49m\n\u001b[1;32m    613\u001b[0m \u001b[43m            \u001b[49m\u001b[43mmessage\u001b[49m\u001b[38;5;241;43m=\u001b[39;49m\u001b[38;5;28;43mself\u001b[39;49m\u001b[38;5;241;43m.\u001b[39;49m\u001b[43m_log_message\u001b[49m\u001b[43m(\u001b[49m\u001b[43mname\u001b[49m\u001b[43m,\u001b[49m\u001b[43m \u001b[49m\u001b[43midx\u001b[49m\u001b[43m,\u001b[49m\u001b[43m \u001b[49m\u001b[38;5;28;43mlen\u001b[39;49m\u001b[43m(\u001b[49m\u001b[43mtransformers\u001b[49m\u001b[43m)\u001b[49m\u001b[43m)\u001b[49m\u001b[43m,\u001b[49m\n\u001b[1;32m    614\u001b[0m \u001b[43m        \u001b[49m\u001b[43m)\u001b[49m\n\u001b[1;32m    615\u001b[0m \u001b[43m        \u001b[49m\u001b[38;5;28;43;01mfor\u001b[39;49;00m\u001b[43m \u001b[49m\u001b[43midx\u001b[49m\u001b[43m,\u001b[49m\u001b[43m \u001b[49m\u001b[43m(\u001b[49m\u001b[43mname\u001b[49m\u001b[43m,\u001b[49m\u001b[43m \u001b[49m\u001b[43mtrans\u001b[49m\u001b[43m,\u001b[49m\u001b[43m \u001b[49m\u001b[43mcolumn\u001b[49m\u001b[43m,\u001b[49m\u001b[43m \u001b[49m\u001b[43mweight\u001b[49m\u001b[43m)\u001b[49m\u001b[43m \u001b[49m\u001b[38;5;129;43;01min\u001b[39;49;00m\u001b[43m \u001b[49m\u001b[38;5;28;43menumerate\u001b[39;49m\u001b[43m(\u001b[49m\u001b[43mtransformers\u001b[49m\u001b[43m,\u001b[49m\u001b[43m \u001b[49m\u001b[38;5;241;43m1\u001b[39;49m\u001b[43m)\u001b[49m\n\u001b[1;32m    616\u001b[0m \u001b[43m    \u001b[49m\u001b[43m)\u001b[49m\n\u001b[1;32m    617\u001b[0m \u001b[38;5;28;01mexcept\u001b[39;00m \u001b[38;5;167;01mValueError\u001b[39;00m \u001b[38;5;28;01mas\u001b[39;00m e:\n\u001b[1;32m    618\u001b[0m     \u001b[38;5;28;01mif\u001b[39;00m \u001b[38;5;124m\"\u001b[39m\u001b[38;5;124mExpected 2D array, got 1D array instead\u001b[39m\u001b[38;5;124m\"\u001b[39m \u001b[38;5;129;01min\u001b[39;00m \u001b[38;5;28mstr\u001b[39m(e):\n",
      "File \u001b[0;32m~/.pyenv/versions/3.8.12/envs/memobrain/lib/python3.8/site-packages/joblib/parallel.py:1043\u001b[0m, in \u001b[0;36mParallel.__call__\u001b[0;34m(self, iterable)\u001b[0m\n\u001b[1;32m   1034\u001b[0m \u001b[38;5;28;01mtry\u001b[39;00m:\n\u001b[1;32m   1035\u001b[0m     \u001b[38;5;66;03m# Only set self._iterating to True if at least a batch\u001b[39;00m\n\u001b[1;32m   1036\u001b[0m     \u001b[38;5;66;03m# was dispatched. In particular this covers the edge\u001b[39;00m\n\u001b[0;32m   (...)\u001b[0m\n\u001b[1;32m   1040\u001b[0m     \u001b[38;5;66;03m# was very quick and its callback already dispatched all the\u001b[39;00m\n\u001b[1;32m   1041\u001b[0m     \u001b[38;5;66;03m# remaining jobs.\u001b[39;00m\n\u001b[1;32m   1042\u001b[0m     \u001b[38;5;28mself\u001b[39m\u001b[38;5;241m.\u001b[39m_iterating \u001b[38;5;241m=\u001b[39m \u001b[38;5;28;01mFalse\u001b[39;00m\n\u001b[0;32m-> 1043\u001b[0m     \u001b[38;5;28;01mif\u001b[39;00m \u001b[38;5;28;43mself\u001b[39;49m\u001b[38;5;241;43m.\u001b[39;49m\u001b[43mdispatch_one_batch\u001b[49m\u001b[43m(\u001b[49m\u001b[43miterator\u001b[49m\u001b[43m)\u001b[49m:\n\u001b[1;32m   1044\u001b[0m         \u001b[38;5;28mself\u001b[39m\u001b[38;5;241m.\u001b[39m_iterating \u001b[38;5;241m=\u001b[39m \u001b[38;5;28mself\u001b[39m\u001b[38;5;241m.\u001b[39m_original_iterator \u001b[38;5;129;01mis\u001b[39;00m \u001b[38;5;129;01mnot\u001b[39;00m \u001b[38;5;28;01mNone\u001b[39;00m\n\u001b[1;32m   1046\u001b[0m     \u001b[38;5;28;01mwhile\u001b[39;00m \u001b[38;5;28mself\u001b[39m\u001b[38;5;241m.\u001b[39mdispatch_one_batch(iterator):\n",
      "File \u001b[0;32m~/.pyenv/versions/3.8.12/envs/memobrain/lib/python3.8/site-packages/joblib/parallel.py:861\u001b[0m, in \u001b[0;36mParallel.dispatch_one_batch\u001b[0;34m(self, iterator)\u001b[0m\n\u001b[1;32m    859\u001b[0m     \u001b[38;5;28;01mreturn\u001b[39;00m \u001b[38;5;28;01mFalse\u001b[39;00m\n\u001b[1;32m    860\u001b[0m \u001b[38;5;28;01melse\u001b[39;00m:\n\u001b[0;32m--> 861\u001b[0m     \u001b[38;5;28;43mself\u001b[39;49m\u001b[38;5;241;43m.\u001b[39;49m\u001b[43m_dispatch\u001b[49m\u001b[43m(\u001b[49m\u001b[43mtasks\u001b[49m\u001b[43m)\u001b[49m\n\u001b[1;32m    862\u001b[0m     \u001b[38;5;28;01mreturn\u001b[39;00m \u001b[38;5;28;01mTrue\u001b[39;00m\n",
      "File \u001b[0;32m~/.pyenv/versions/3.8.12/envs/memobrain/lib/python3.8/site-packages/joblib/parallel.py:779\u001b[0m, in \u001b[0;36mParallel._dispatch\u001b[0;34m(self, batch)\u001b[0m\n\u001b[1;32m    777\u001b[0m \u001b[38;5;28;01mwith\u001b[39;00m \u001b[38;5;28mself\u001b[39m\u001b[38;5;241m.\u001b[39m_lock:\n\u001b[1;32m    778\u001b[0m     job_idx \u001b[38;5;241m=\u001b[39m \u001b[38;5;28mlen\u001b[39m(\u001b[38;5;28mself\u001b[39m\u001b[38;5;241m.\u001b[39m_jobs)\n\u001b[0;32m--> 779\u001b[0m     job \u001b[38;5;241m=\u001b[39m \u001b[38;5;28;43mself\u001b[39;49m\u001b[38;5;241;43m.\u001b[39;49m\u001b[43m_backend\u001b[49m\u001b[38;5;241;43m.\u001b[39;49m\u001b[43mapply_async\u001b[49m\u001b[43m(\u001b[49m\u001b[43mbatch\u001b[49m\u001b[43m,\u001b[49m\u001b[43m \u001b[49m\u001b[43mcallback\u001b[49m\u001b[38;5;241;43m=\u001b[39;49m\u001b[43mcb\u001b[49m\u001b[43m)\u001b[49m\n\u001b[1;32m    780\u001b[0m     \u001b[38;5;66;03m# A job can complete so quickly than its callback is\u001b[39;00m\n\u001b[1;32m    781\u001b[0m     \u001b[38;5;66;03m# called before we get here, causing self._jobs to\u001b[39;00m\n\u001b[1;32m    782\u001b[0m     \u001b[38;5;66;03m# grow. To ensure correct results ordering, .insert is\u001b[39;00m\n\u001b[1;32m    783\u001b[0m     \u001b[38;5;66;03m# used (rather than .append) in the following line\u001b[39;00m\n\u001b[1;32m    784\u001b[0m     \u001b[38;5;28mself\u001b[39m\u001b[38;5;241m.\u001b[39m_jobs\u001b[38;5;241m.\u001b[39minsert(job_idx, job)\n",
      "File \u001b[0;32m~/.pyenv/versions/3.8.12/envs/memobrain/lib/python3.8/site-packages/joblib/_parallel_backends.py:208\u001b[0m, in \u001b[0;36mSequentialBackend.apply_async\u001b[0;34m(self, func, callback)\u001b[0m\n\u001b[1;32m    206\u001b[0m \u001b[38;5;28;01mdef\u001b[39;00m \u001b[38;5;21mapply_async\u001b[39m(\u001b[38;5;28mself\u001b[39m, func, callback\u001b[38;5;241m=\u001b[39m\u001b[38;5;28;01mNone\u001b[39;00m):\n\u001b[1;32m    207\u001b[0m     \u001b[38;5;124;03m\"\"\"Schedule a func to be run\"\"\"\u001b[39;00m\n\u001b[0;32m--> 208\u001b[0m     result \u001b[38;5;241m=\u001b[39m \u001b[43mImmediateResult\u001b[49m\u001b[43m(\u001b[49m\u001b[43mfunc\u001b[49m\u001b[43m)\u001b[49m\n\u001b[1;32m    209\u001b[0m     \u001b[38;5;28;01mif\u001b[39;00m callback:\n\u001b[1;32m    210\u001b[0m         callback(result)\n",
      "File \u001b[0;32m~/.pyenv/versions/3.8.12/envs/memobrain/lib/python3.8/site-packages/joblib/_parallel_backends.py:572\u001b[0m, in \u001b[0;36mImmediateResult.__init__\u001b[0;34m(self, batch)\u001b[0m\n\u001b[1;32m    569\u001b[0m \u001b[38;5;28;01mdef\u001b[39;00m \u001b[38;5;21m__init__\u001b[39m(\u001b[38;5;28mself\u001b[39m, batch):\n\u001b[1;32m    570\u001b[0m     \u001b[38;5;66;03m# Don't delay the application, to avoid keeping the input\u001b[39;00m\n\u001b[1;32m    571\u001b[0m     \u001b[38;5;66;03m# arguments in memory\u001b[39;00m\n\u001b[0;32m--> 572\u001b[0m     \u001b[38;5;28mself\u001b[39m\u001b[38;5;241m.\u001b[39mresults \u001b[38;5;241m=\u001b[39m \u001b[43mbatch\u001b[49m\u001b[43m(\u001b[49m\u001b[43m)\u001b[49m\n",
      "File \u001b[0;32m~/.pyenv/versions/3.8.12/envs/memobrain/lib/python3.8/site-packages/joblib/parallel.py:262\u001b[0m, in \u001b[0;36mBatchedCalls.__call__\u001b[0;34m(self)\u001b[0m\n\u001b[1;32m    258\u001b[0m \u001b[38;5;28;01mdef\u001b[39;00m \u001b[38;5;21m__call__\u001b[39m(\u001b[38;5;28mself\u001b[39m):\n\u001b[1;32m    259\u001b[0m     \u001b[38;5;66;03m# Set the default nested backend to self._backend but do not set the\u001b[39;00m\n\u001b[1;32m    260\u001b[0m     \u001b[38;5;66;03m# change the default number of processes to -1\u001b[39;00m\n\u001b[1;32m    261\u001b[0m     \u001b[38;5;28;01mwith\u001b[39;00m parallel_backend(\u001b[38;5;28mself\u001b[39m\u001b[38;5;241m.\u001b[39m_backend, n_jobs\u001b[38;5;241m=\u001b[39m\u001b[38;5;28mself\u001b[39m\u001b[38;5;241m.\u001b[39m_n_jobs):\n\u001b[0;32m--> 262\u001b[0m         \u001b[38;5;28;01mreturn\u001b[39;00m [func(\u001b[38;5;241m*\u001b[39margs, \u001b[38;5;241m*\u001b[39m\u001b[38;5;241m*\u001b[39mkwargs)\n\u001b[1;32m    263\u001b[0m                 \u001b[38;5;28;01mfor\u001b[39;00m func, args, kwargs \u001b[38;5;129;01min\u001b[39;00m \u001b[38;5;28mself\u001b[39m\u001b[38;5;241m.\u001b[39mitems]\n",
      "File \u001b[0;32m~/.pyenv/versions/3.8.12/envs/memobrain/lib/python3.8/site-packages/joblib/parallel.py:262\u001b[0m, in \u001b[0;36m<listcomp>\u001b[0;34m(.0)\u001b[0m\n\u001b[1;32m    258\u001b[0m \u001b[38;5;28;01mdef\u001b[39;00m \u001b[38;5;21m__call__\u001b[39m(\u001b[38;5;28mself\u001b[39m):\n\u001b[1;32m    259\u001b[0m     \u001b[38;5;66;03m# Set the default nested backend to self._backend but do not set the\u001b[39;00m\n\u001b[1;32m    260\u001b[0m     \u001b[38;5;66;03m# change the default number of processes to -1\u001b[39;00m\n\u001b[1;32m    261\u001b[0m     \u001b[38;5;28;01mwith\u001b[39;00m parallel_backend(\u001b[38;5;28mself\u001b[39m\u001b[38;5;241m.\u001b[39m_backend, n_jobs\u001b[38;5;241m=\u001b[39m\u001b[38;5;28mself\u001b[39m\u001b[38;5;241m.\u001b[39m_n_jobs):\n\u001b[0;32m--> 262\u001b[0m         \u001b[38;5;28;01mreturn\u001b[39;00m [\u001b[43mfunc\u001b[49m\u001b[43m(\u001b[49m\u001b[38;5;241;43m*\u001b[39;49m\u001b[43margs\u001b[49m\u001b[43m,\u001b[49m\u001b[43m \u001b[49m\u001b[38;5;241;43m*\u001b[39;49m\u001b[38;5;241;43m*\u001b[39;49m\u001b[43mkwargs\u001b[49m\u001b[43m)\u001b[49m\n\u001b[1;32m    263\u001b[0m                 \u001b[38;5;28;01mfor\u001b[39;00m func, args, kwargs \u001b[38;5;129;01min\u001b[39;00m \u001b[38;5;28mself\u001b[39m\u001b[38;5;241m.\u001b[39mitems]\n",
      "File \u001b[0;32m~/.pyenv/versions/3.8.12/envs/memobrain/lib/python3.8/site-packages/sklearn/utils/fixes.py:216\u001b[0m, in \u001b[0;36m_FuncWrapper.__call__\u001b[0;34m(self, *args, **kwargs)\u001b[0m\n\u001b[1;32m    214\u001b[0m \u001b[38;5;28;01mdef\u001b[39;00m \u001b[38;5;21m__call__\u001b[39m(\u001b[38;5;28mself\u001b[39m, \u001b[38;5;241m*\u001b[39margs, \u001b[38;5;241m*\u001b[39m\u001b[38;5;241m*\u001b[39mkwargs):\n\u001b[1;32m    215\u001b[0m     \u001b[38;5;28;01mwith\u001b[39;00m config_context(\u001b[38;5;241m*\u001b[39m\u001b[38;5;241m*\u001b[39m\u001b[38;5;28mself\u001b[39m\u001b[38;5;241m.\u001b[39mconfig):\n\u001b[0;32m--> 216\u001b[0m         \u001b[38;5;28;01mreturn\u001b[39;00m \u001b[38;5;28;43mself\u001b[39;49m\u001b[38;5;241;43m.\u001b[39;49m\u001b[43mfunction\u001b[49m\u001b[43m(\u001b[49m\u001b[38;5;241;43m*\u001b[39;49m\u001b[43margs\u001b[49m\u001b[43m,\u001b[49m\u001b[43m \u001b[49m\u001b[38;5;241;43m*\u001b[39;49m\u001b[38;5;241;43m*\u001b[39;49m\u001b[43mkwargs\u001b[49m\u001b[43m)\u001b[49m\n",
      "File \u001b[0;32m~/.pyenv/versions/3.8.12/envs/memobrain/lib/python3.8/site-packages/sklearn/pipeline.py:893\u001b[0m, in \u001b[0;36m_fit_transform_one\u001b[0;34m(transformer, X, y, weight, message_clsname, message, **fit_params)\u001b[0m\n\u001b[1;32m    891\u001b[0m \u001b[38;5;28;01mwith\u001b[39;00m _print_elapsed_time(message_clsname, message):\n\u001b[1;32m    892\u001b[0m     \u001b[38;5;28;01mif\u001b[39;00m \u001b[38;5;28mhasattr\u001b[39m(transformer, \u001b[38;5;124m\"\u001b[39m\u001b[38;5;124mfit_transform\u001b[39m\u001b[38;5;124m\"\u001b[39m):\n\u001b[0;32m--> 893\u001b[0m         res \u001b[38;5;241m=\u001b[39m \u001b[43mtransformer\u001b[49m\u001b[38;5;241;43m.\u001b[39;49m\u001b[43mfit_transform\u001b[49m\u001b[43m(\u001b[49m\u001b[43mX\u001b[49m\u001b[43m,\u001b[49m\u001b[43m \u001b[49m\u001b[43my\u001b[49m\u001b[43m,\u001b[49m\u001b[43m \u001b[49m\u001b[38;5;241;43m*\u001b[39;49m\u001b[38;5;241;43m*\u001b[39;49m\u001b[43mfit_params\u001b[49m\u001b[43m)\u001b[49m\n\u001b[1;32m    894\u001b[0m     \u001b[38;5;28;01melse\u001b[39;00m:\n\u001b[1;32m    895\u001b[0m         res \u001b[38;5;241m=\u001b[39m transformer\u001b[38;5;241m.\u001b[39mfit(X, y, \u001b[38;5;241m*\u001b[39m\u001b[38;5;241m*\u001b[39mfit_params)\u001b[38;5;241m.\u001b[39mtransform(X)\n",
      "File \u001b[0;32m~/.pyenv/versions/3.8.12/envs/memobrain/lib/python3.8/site-packages/sklearn/pipeline.py:426\u001b[0m, in \u001b[0;36mPipeline.fit_transform\u001b[0;34m(self, X, y, **fit_params)\u001b[0m\n\u001b[1;32m    399\u001b[0m \u001b[38;5;124;03m\"\"\"Fit the model and transform with the final estimator.\u001b[39;00m\n\u001b[1;32m    400\u001b[0m \n\u001b[1;32m    401\u001b[0m \u001b[38;5;124;03mFits all the transformers one after the other and transform the\u001b[39;00m\n\u001b[0;32m   (...)\u001b[0m\n\u001b[1;32m    423\u001b[0m \u001b[38;5;124;03m    Transformed samples.\u001b[39;00m\n\u001b[1;32m    424\u001b[0m \u001b[38;5;124;03m\"\"\"\u001b[39;00m\n\u001b[1;32m    425\u001b[0m fit_params_steps \u001b[38;5;241m=\u001b[39m \u001b[38;5;28mself\u001b[39m\u001b[38;5;241m.\u001b[39m_check_fit_params(\u001b[38;5;241m*\u001b[39m\u001b[38;5;241m*\u001b[39mfit_params)\n\u001b[0;32m--> 426\u001b[0m Xt \u001b[38;5;241m=\u001b[39m \u001b[38;5;28;43mself\u001b[39;49m\u001b[38;5;241;43m.\u001b[39;49m\u001b[43m_fit\u001b[49m\u001b[43m(\u001b[49m\u001b[43mX\u001b[49m\u001b[43m,\u001b[49m\u001b[43m \u001b[49m\u001b[43my\u001b[49m\u001b[43m,\u001b[49m\u001b[43m \u001b[49m\u001b[38;5;241;43m*\u001b[39;49m\u001b[38;5;241;43m*\u001b[39;49m\u001b[43mfit_params_steps\u001b[49m\u001b[43m)\u001b[49m\n\u001b[1;32m    428\u001b[0m last_step \u001b[38;5;241m=\u001b[39m \u001b[38;5;28mself\u001b[39m\u001b[38;5;241m.\u001b[39m_final_estimator\n\u001b[1;32m    429\u001b[0m \u001b[38;5;28;01mwith\u001b[39;00m _print_elapsed_time(\u001b[38;5;124m\"\u001b[39m\u001b[38;5;124mPipeline\u001b[39m\u001b[38;5;124m\"\u001b[39m, \u001b[38;5;28mself\u001b[39m\u001b[38;5;241m.\u001b[39m_log_message(\u001b[38;5;28mlen\u001b[39m(\u001b[38;5;28mself\u001b[39m\u001b[38;5;241m.\u001b[39msteps) \u001b[38;5;241m-\u001b[39m \u001b[38;5;241m1\u001b[39m)):\n",
      "File \u001b[0;32m~/.pyenv/versions/3.8.12/envs/memobrain/lib/python3.8/site-packages/sklearn/pipeline.py:348\u001b[0m, in \u001b[0;36mPipeline._fit\u001b[0;34m(self, X, y, **fit_params_steps)\u001b[0m\n\u001b[1;32m    346\u001b[0m     cloned_transformer \u001b[38;5;241m=\u001b[39m clone(transformer)\n\u001b[1;32m    347\u001b[0m \u001b[38;5;66;03m# Fit or load from cache the current transformer\u001b[39;00m\n\u001b[0;32m--> 348\u001b[0m X, fitted_transformer \u001b[38;5;241m=\u001b[39m \u001b[43mfit_transform_one_cached\u001b[49m\u001b[43m(\u001b[49m\n\u001b[1;32m    349\u001b[0m \u001b[43m    \u001b[49m\u001b[43mcloned_transformer\u001b[49m\u001b[43m,\u001b[49m\n\u001b[1;32m    350\u001b[0m \u001b[43m    \u001b[49m\u001b[43mX\u001b[49m\u001b[43m,\u001b[49m\n\u001b[1;32m    351\u001b[0m \u001b[43m    \u001b[49m\u001b[43my\u001b[49m\u001b[43m,\u001b[49m\n\u001b[1;32m    352\u001b[0m \u001b[43m    \u001b[49m\u001b[38;5;28;43;01mNone\u001b[39;49;00m\u001b[43m,\u001b[49m\n\u001b[1;32m    353\u001b[0m \u001b[43m    \u001b[49m\u001b[43mmessage_clsname\u001b[49m\u001b[38;5;241;43m=\u001b[39;49m\u001b[38;5;124;43m\"\u001b[39;49m\u001b[38;5;124;43mPipeline\u001b[39;49m\u001b[38;5;124;43m\"\u001b[39;49m\u001b[43m,\u001b[49m\n\u001b[1;32m    354\u001b[0m \u001b[43m    \u001b[49m\u001b[43mmessage\u001b[49m\u001b[38;5;241;43m=\u001b[39;49m\u001b[38;5;28;43mself\u001b[39;49m\u001b[38;5;241;43m.\u001b[39;49m\u001b[43m_log_message\u001b[49m\u001b[43m(\u001b[49m\u001b[43mstep_idx\u001b[49m\u001b[43m)\u001b[49m\u001b[43m,\u001b[49m\n\u001b[1;32m    355\u001b[0m \u001b[43m    \u001b[49m\u001b[38;5;241;43m*\u001b[39;49m\u001b[38;5;241;43m*\u001b[39;49m\u001b[43mfit_params_steps\u001b[49m\u001b[43m[\u001b[49m\u001b[43mname\u001b[49m\u001b[43m]\u001b[49m\u001b[43m,\u001b[49m\n\u001b[1;32m    356\u001b[0m \u001b[43m\u001b[49m\u001b[43m)\u001b[49m\n\u001b[1;32m    357\u001b[0m \u001b[38;5;66;03m# Replace the transformer of the step with the fitted\u001b[39;00m\n\u001b[1;32m    358\u001b[0m \u001b[38;5;66;03m# transformer. This is necessary when loading the transformer\u001b[39;00m\n\u001b[1;32m    359\u001b[0m \u001b[38;5;66;03m# from the cache.\u001b[39;00m\n\u001b[1;32m    360\u001b[0m \u001b[38;5;28mself\u001b[39m\u001b[38;5;241m.\u001b[39msteps[step_idx] \u001b[38;5;241m=\u001b[39m (name, fitted_transformer)\n",
      "File \u001b[0;32m~/.pyenv/versions/3.8.12/envs/memobrain/lib/python3.8/site-packages/joblib/memory.py:349\u001b[0m, in \u001b[0;36mNotMemorizedFunc.__call__\u001b[0;34m(self, *args, **kwargs)\u001b[0m\n\u001b[1;32m    348\u001b[0m \u001b[38;5;28;01mdef\u001b[39;00m \u001b[38;5;21m__call__\u001b[39m(\u001b[38;5;28mself\u001b[39m, \u001b[38;5;241m*\u001b[39margs, \u001b[38;5;241m*\u001b[39m\u001b[38;5;241m*\u001b[39mkwargs):\n\u001b[0;32m--> 349\u001b[0m     \u001b[38;5;28;01mreturn\u001b[39;00m \u001b[38;5;28;43mself\u001b[39;49m\u001b[38;5;241;43m.\u001b[39;49m\u001b[43mfunc\u001b[49m\u001b[43m(\u001b[49m\u001b[38;5;241;43m*\u001b[39;49m\u001b[43margs\u001b[49m\u001b[43m,\u001b[49m\u001b[43m \u001b[49m\u001b[38;5;241;43m*\u001b[39;49m\u001b[38;5;241;43m*\u001b[39;49m\u001b[43mkwargs\u001b[49m\u001b[43m)\u001b[49m\n",
      "File \u001b[0;32m~/.pyenv/versions/3.8.12/envs/memobrain/lib/python3.8/site-packages/sklearn/pipeline.py:893\u001b[0m, in \u001b[0;36m_fit_transform_one\u001b[0;34m(transformer, X, y, weight, message_clsname, message, **fit_params)\u001b[0m\n\u001b[1;32m    891\u001b[0m \u001b[38;5;28;01mwith\u001b[39;00m _print_elapsed_time(message_clsname, message):\n\u001b[1;32m    892\u001b[0m     \u001b[38;5;28;01mif\u001b[39;00m \u001b[38;5;28mhasattr\u001b[39m(transformer, \u001b[38;5;124m\"\u001b[39m\u001b[38;5;124mfit_transform\u001b[39m\u001b[38;5;124m\"\u001b[39m):\n\u001b[0;32m--> 893\u001b[0m         res \u001b[38;5;241m=\u001b[39m \u001b[43mtransformer\u001b[49m\u001b[38;5;241;43m.\u001b[39;49m\u001b[43mfit_transform\u001b[49m\u001b[43m(\u001b[49m\u001b[43mX\u001b[49m\u001b[43m,\u001b[49m\u001b[43m \u001b[49m\u001b[43my\u001b[49m\u001b[43m,\u001b[49m\u001b[43m \u001b[49m\u001b[38;5;241;43m*\u001b[39;49m\u001b[38;5;241;43m*\u001b[39;49m\u001b[43mfit_params\u001b[49m\u001b[43m)\u001b[49m\n\u001b[1;32m    894\u001b[0m     \u001b[38;5;28;01melse\u001b[39;00m:\n\u001b[1;32m    895\u001b[0m         res \u001b[38;5;241m=\u001b[39m transformer\u001b[38;5;241m.\u001b[39mfit(X, y, \u001b[38;5;241m*\u001b[39m\u001b[38;5;241m*\u001b[39mfit_params)\u001b[38;5;241m.\u001b[39mtransform(X)\n",
      "File \u001b[0;32m~/.pyenv/versions/3.8.12/envs/memobrain/lib/python3.8/site-packages/sklearn/base.py:852\u001b[0m, in \u001b[0;36mTransformerMixin.fit_transform\u001b[0;34m(self, X, y, **fit_params)\u001b[0m\n\u001b[1;32m    848\u001b[0m \u001b[38;5;66;03m# non-optimized default implementation; override when a better\u001b[39;00m\n\u001b[1;32m    849\u001b[0m \u001b[38;5;66;03m# method is possible for a given clustering algorithm\u001b[39;00m\n\u001b[1;32m    850\u001b[0m \u001b[38;5;28;01mif\u001b[39;00m y \u001b[38;5;129;01mis\u001b[39;00m \u001b[38;5;28;01mNone\u001b[39;00m:\n\u001b[1;32m    851\u001b[0m     \u001b[38;5;66;03m# fit method of arity 1 (unsupervised transformation)\u001b[39;00m\n\u001b[0;32m--> 852\u001b[0m     \u001b[38;5;28;01mreturn\u001b[39;00m \u001b[38;5;28;43mself\u001b[39;49m\u001b[38;5;241;43m.\u001b[39;49m\u001b[43mfit\u001b[49m\u001b[43m(\u001b[49m\u001b[43mX\u001b[49m\u001b[43m,\u001b[49m\u001b[43m \u001b[49m\u001b[38;5;241;43m*\u001b[39;49m\u001b[38;5;241;43m*\u001b[39;49m\u001b[43mfit_params\u001b[49m\u001b[43m)\u001b[49m\u001b[38;5;241;43m.\u001b[39;49m\u001b[43mtransform\u001b[49m\u001b[43m(\u001b[49m\u001b[43mX\u001b[49m\u001b[43m)\u001b[49m\n\u001b[1;32m    853\u001b[0m \u001b[38;5;28;01melse\u001b[39;00m:\n\u001b[1;32m    854\u001b[0m     \u001b[38;5;66;03m# fit method of arity 2 (supervised transformation)\u001b[39;00m\n\u001b[1;32m    855\u001b[0m     \u001b[38;5;28;01mreturn\u001b[39;00m \u001b[38;5;28mself\u001b[39m\u001b[38;5;241m.\u001b[39mfit(X, y, \u001b[38;5;241m*\u001b[39m\u001b[38;5;241m*\u001b[39mfit_params)\u001b[38;5;241m.\u001b[39mtransform(X)\n",
      "Input \u001b[0;32mIn [21]\u001b[0m, in \u001b[0;36mColumnNameExtractorAfterImputer.transform\u001b[0;34m(self, X, *_)\u001b[0m\n\u001b[1;32m      8\u001b[0m \u001b[38;5;28;01mdef\u001b[39;00m \u001b[38;5;21mtransform\u001b[39m(\u001b[38;5;28mself\u001b[39m, X, \u001b[38;5;241m*\u001b[39m_):\n\u001b[0;32m----> 9\u001b[0m     \u001b[38;5;28;01mreturn\u001b[39;00m \u001b[43mpd\u001b[49m\u001b[38;5;241;43m.\u001b[39;49m\u001b[43mDataFrame\u001b[49m\u001b[43m(\u001b[49m\u001b[43mX\u001b[49m\u001b[43m,\u001b[49m\u001b[43m \u001b[49m\u001b[43mcolumns\u001b[49m\u001b[38;5;241;43m=\u001b[39;49m\u001b[38;5;28;43mself\u001b[39;49m\u001b[38;5;241;43m.\u001b[39;49m\u001b[43mcolumns\u001b[49m\u001b[43m)\u001b[49m\n",
      "File \u001b[0;32m~/.pyenv/versions/3.8.12/envs/memobrain/lib/python3.8/site-packages/pandas/core/frame.py:694\u001b[0m, in \u001b[0;36mDataFrame.__init__\u001b[0;34m(self, data, index, columns, dtype, copy)\u001b[0m\n\u001b[1;32m    684\u001b[0m         mgr \u001b[38;5;241m=\u001b[39m dict_to_mgr(\n\u001b[1;32m    685\u001b[0m             \u001b[38;5;66;03m# error: Item \"ndarray\" of \"Union[ndarray, Series, Index]\" has no\u001b[39;00m\n\u001b[1;32m    686\u001b[0m             \u001b[38;5;66;03m# attribute \"name\"\u001b[39;00m\n\u001b[0;32m   (...)\u001b[0m\n\u001b[1;32m    691\u001b[0m             typ\u001b[38;5;241m=\u001b[39mmanager,\n\u001b[1;32m    692\u001b[0m         )\n\u001b[1;32m    693\u001b[0m     \u001b[38;5;28;01melse\u001b[39;00m:\n\u001b[0;32m--> 694\u001b[0m         mgr \u001b[38;5;241m=\u001b[39m \u001b[43mndarray_to_mgr\u001b[49m\u001b[43m(\u001b[49m\n\u001b[1;32m    695\u001b[0m \u001b[43m            \u001b[49m\u001b[43mdata\u001b[49m\u001b[43m,\u001b[49m\n\u001b[1;32m    696\u001b[0m \u001b[43m            \u001b[49m\u001b[43mindex\u001b[49m\u001b[43m,\u001b[49m\n\u001b[1;32m    697\u001b[0m \u001b[43m            \u001b[49m\u001b[43mcolumns\u001b[49m\u001b[43m,\u001b[49m\n\u001b[1;32m    698\u001b[0m \u001b[43m            \u001b[49m\u001b[43mdtype\u001b[49m\u001b[38;5;241;43m=\u001b[39;49m\u001b[43mdtype\u001b[49m\u001b[43m,\u001b[49m\n\u001b[1;32m    699\u001b[0m \u001b[43m            \u001b[49m\u001b[43mcopy\u001b[49m\u001b[38;5;241;43m=\u001b[39;49m\u001b[43mcopy\u001b[49m\u001b[43m,\u001b[49m\n\u001b[1;32m    700\u001b[0m \u001b[43m            \u001b[49m\u001b[43mtyp\u001b[49m\u001b[38;5;241;43m=\u001b[39;49m\u001b[43mmanager\u001b[49m\u001b[43m,\u001b[49m\n\u001b[1;32m    701\u001b[0m \u001b[43m        \u001b[49m\u001b[43m)\u001b[49m\n\u001b[1;32m    703\u001b[0m \u001b[38;5;66;03m# For data is list-like, or Iterable (will consume into list)\u001b[39;00m\n\u001b[1;32m    704\u001b[0m \u001b[38;5;28;01melif\u001b[39;00m is_list_like(data):\n",
      "File \u001b[0;32m~/.pyenv/versions/3.8.12/envs/memobrain/lib/python3.8/site-packages/pandas/core/internals/construction.py:351\u001b[0m, in \u001b[0;36mndarray_to_mgr\u001b[0;34m(values, index, columns, dtype, copy, typ)\u001b[0m\n\u001b[1;32m    346\u001b[0m \u001b[38;5;66;03m# _prep_ndarray ensures that values.ndim == 2 at this point\u001b[39;00m\n\u001b[1;32m    347\u001b[0m index, columns \u001b[38;5;241m=\u001b[39m _get_axes(\n\u001b[1;32m    348\u001b[0m     values\u001b[38;5;241m.\u001b[39mshape[\u001b[38;5;241m0\u001b[39m], values\u001b[38;5;241m.\u001b[39mshape[\u001b[38;5;241m1\u001b[39m], index\u001b[38;5;241m=\u001b[39mindex, columns\u001b[38;5;241m=\u001b[39mcolumns\n\u001b[1;32m    349\u001b[0m )\n\u001b[0;32m--> 351\u001b[0m \u001b[43m_check_values_indices_shape_match\u001b[49m\u001b[43m(\u001b[49m\u001b[43mvalues\u001b[49m\u001b[43m,\u001b[49m\u001b[43m \u001b[49m\u001b[43mindex\u001b[49m\u001b[43m,\u001b[49m\u001b[43m \u001b[49m\u001b[43mcolumns\u001b[49m\u001b[43m)\u001b[49m\n\u001b[1;32m    353\u001b[0m \u001b[38;5;28;01mif\u001b[39;00m typ \u001b[38;5;241m==\u001b[39m \u001b[38;5;124m\"\u001b[39m\u001b[38;5;124marray\u001b[39m\u001b[38;5;124m\"\u001b[39m:\n\u001b[1;32m    355\u001b[0m     \u001b[38;5;28;01mif\u001b[39;00m \u001b[38;5;28missubclass\u001b[39m(values\u001b[38;5;241m.\u001b[39mdtype\u001b[38;5;241m.\u001b[39mtype, \u001b[38;5;28mstr\u001b[39m):\n",
      "File \u001b[0;32m~/.pyenv/versions/3.8.12/envs/memobrain/lib/python3.8/site-packages/pandas/core/internals/construction.py:422\u001b[0m, in \u001b[0;36m_check_values_indices_shape_match\u001b[0;34m(values, index, columns)\u001b[0m\n\u001b[1;32m    420\u001b[0m passed \u001b[38;5;241m=\u001b[39m values\u001b[38;5;241m.\u001b[39mshape\n\u001b[1;32m    421\u001b[0m implied \u001b[38;5;241m=\u001b[39m (\u001b[38;5;28mlen\u001b[39m(index), \u001b[38;5;28mlen\u001b[39m(columns))\n\u001b[0;32m--> 422\u001b[0m \u001b[38;5;28;01mraise\u001b[39;00m \u001b[38;5;167;01mValueError\u001b[39;00m(\u001b[38;5;124mf\u001b[39m\u001b[38;5;124m\"\u001b[39m\u001b[38;5;124mShape of passed values is \u001b[39m\u001b[38;5;132;01m{\u001b[39;00mpassed\u001b[38;5;132;01m}\u001b[39;00m\u001b[38;5;124m, indices imply \u001b[39m\u001b[38;5;132;01m{\u001b[39;00mimplied\u001b[38;5;132;01m}\u001b[39;00m\u001b[38;5;124m\"\u001b[39m)\n",
      "\u001b[0;31mValueError\u001b[0m: Shape of passed values is (164, 7), indices imply (164, 1)"
     ]
    }
   ],
   "source": [
    "preprocessor.fit_transform(X_train)"
   ]
  },
  {
   "cell_type": "code",
   "execution_count": null,
   "id": "11e0bb8e",
   "metadata": {},
   "outputs": [],
   "source": [
    "def preproc_df():\n",
    "    X_scaled = pd.DataFrame(preprocessor.fit_transform(X_train))\n",
    "    return X_scaled\n",
    "preproc_df()"
   ]
  },
  {
   "cell_type": "code",
   "execution_count": null,
   "id": "f0b0e222",
   "metadata": {},
   "outputs": [],
   "source": [
    "def preproc_df(X_train):\n",
    "    \"\"\"This function returns a scaled dataframe ready for processing\n",
    "    \"\"\"\n",
    "    X_scaled = pd.DataFrame(preprocessor.fit_transform(X_train), columns = preprocessor.get_feature_names_out())\n",
    "#     X_scaled.rename(columns={\n",
    "#                                  '__M/F': 'M/F',\n",
    "#                                  'remainder__SES': 'SES',\n",
    "#                                  'remainder__nWBV': 'nWBV',\n",
    "#                                  'remainder__ASF': 'ASF',\n",
    "#                                  'standard_scaler__Age': 'Age',\n",
    "#                                  'robust_scaler__eTIV': 'eTIV',\n",
    "#                                  'robust_scaler__MMSE': 'MMSE',\n",
    "#                                  'minmax_scaler__Educ': 'Educ'\n",
    "    \n",
    "#     }, inplace=True)\n",
    "    \n",
    "#     X_scaled = X_scaled[[\"M/F\", \"Age\", \"Educ\", \"SES\", \"MMSE\", \"eTIV\", \"nWBV\", \"ASF\"]]\n",
    "    return X_scaled\n",
    "X_scaled\n",
    "# X_train = preproc_df(X_train)\n",
    "# X_test = preproc_df(X_test)"
   ]
  },
  {
   "cell_type": "code",
   "execution_count": null,
   "id": "5e60f5b1",
   "metadata": {},
   "outputs": [],
   "source": [
    "X_test_scaled = pd.DataFrame(pipeline.transform(X_test), columns = set_pipeline().get_feature_names_out())"
   ]
  },
  {
   "cell_type": "code",
   "execution_count": null,
   "id": "be04f2db",
   "metadata": {},
   "outputs": [],
   "source": [
    "# Length of y_test = 59\n",
    "np.unique(y_test, return_counts = True)\n",
    "\n",
    "# Length of X_test = 59\n",
    "len(X_test)"
   ]
  },
  {
   "cell_type": "code",
   "execution_count": null,
   "id": "04b2e8e9",
   "metadata": {},
   "outputs": [],
   "source": [
    "# Making a copy of X_scaled\n",
    "X_train_trial = X_train.copy()\n",
    "X_train_trial"
   ]
  },
  {
   "cell_type": "markdown",
   "id": "5a423d24",
   "metadata": {},
   "source": [
    "# 🎰SVC"
   ]
  },
  {
   "cell_type": "markdown",
   "id": "e48f7336",
   "metadata": {},
   "source": [
    "## SVC Linear"
   ]
  },
  {
   "cell_type": "markdown",
   "id": "9293f4db",
   "metadata": {},
   "source": [
    "### Just a trial"
   ]
  },
  {
   "cell_type": "code",
   "execution_count": null,
   "id": "2f08767d",
   "metadata": {},
   "outputs": [],
   "source": [
    "# Instantiating linear support vector classifier\n",
    "model_svc = SVC(kernel = 'linear')"
   ]
  },
  {
   "cell_type": "code",
   "execution_count": null,
   "id": "39acc01c",
   "metadata": {},
   "outputs": [],
   "source": [
    "# Fitting LinearSVC\n",
    "model_svc.fit(X_train, y_train)"
   ]
  },
  {
   "cell_type": "code",
   "execution_count": null,
   "id": "1142e921",
   "metadata": {},
   "outputs": [],
   "source": [
    "# Prediction on X_test\n",
    "y_pred_SVC = model_svc.predict(X_test)"
   ]
  },
  {
   "cell_type": "code",
   "execution_count": null,
   "id": "c9e72293",
   "metadata": {},
   "outputs": [],
   "source": [
    "cm_svc = confusion_matrix(y_test, y_pred_SVC)\n",
    "cm_svc"
   ]
  },
  {
   "cell_type": "code",
   "execution_count": null,
   "id": "b2a556f5",
   "metadata": {},
   "outputs": [],
   "source": [
    "baseline_recall_svc = recall_score(y_test, y_pred_SVC)\n",
    "baseline_recall_svc"
   ]
  },
  {
   "cell_type": "markdown",
   "id": "ff3d68a6",
   "metadata": {},
   "source": [
    "###   🤖  Grid Searching"
   ]
  },
  {
   "cell_type": "code",
   "execution_count": null,
   "id": "44c8dfc0",
   "metadata": {},
   "outputs": [],
   "source": [
    "# Creating a parameter grid: map the parameter names to the values that should be searched in a dictionary\n",
    "param_grid = {'C':np.arange(700,750,1),\n",
    "              'gamma':[1,0.1,0.001,0.0001]}\n",
    "\n",
    "# GridSearching\n",
    "gridsearch_svc = GridSearchCV(model_svc, \n",
    "                          param_grid, n_jobs = -1, \n",
    "                          scoring = 'recall', cv = 5)\n",
    "\n",
    "# Fitting gridsearch on X and y\n",
    "gridsearch_svc.fit(X_train, y_train)"
   ]
  },
  {
   "cell_type": "code",
   "execution_count": null,
   "id": "d0ff2695",
   "metadata": {},
   "outputs": [],
   "source": [
    "# Best estimator obtained from grid searching\n",
    "best_linear_svc = gridsearch_svc.best_estimator_\n",
    "best_linear_svc"
   ]
  },
  {
   "cell_type": "markdown",
   "id": "99e01787",
   "metadata": {},
   "source": [
    "### Best SVC linear"
   ]
  },
  {
   "cell_type": "code",
   "execution_count": null,
   "id": "592b6ddf",
   "metadata": {},
   "outputs": [],
   "source": [
    "# Fitting the best estimator onto the train set\n",
    "best_linear_svc.fit(X_train, y_train)"
   ]
  },
  {
   "cell_type": "code",
   "execution_count": null,
   "id": "bd8cb926",
   "metadata": {},
   "outputs": [],
   "source": [
    "# Predicting X_test\n",
    "best_svc_pred = best_linear_svc.predict(X_test)"
   ]
  },
  {
   "cell_type": "code",
   "execution_count": null,
   "id": "b584394a",
   "metadata": {},
   "outputs": [],
   "source": [
    "# Confusion matrix\n",
    "cm_svc = confusion_matrix(y_test, best_svc_pred)\n",
    "cm_svc\n",
    "\n",
    "disp = ConfusionMatrixDisplay(confusion_matrix=cm_svc,\n",
    "                             display_labels=[\"Nondemented\",\"Demented\"])\n",
    "disp.plot(cmap = 'viridis')\n",
    "plt.grid(visible = None)\n",
    "plt.show()"
   ]
  },
  {
   "cell_type": "code",
   "execution_count": null,
   "id": "ea7229bc",
   "metadata": {},
   "outputs": [],
   "source": [
    "# Recall score\n",
    "recall_score(y_test, best_svc_pred)"
   ]
  },
  {
   "cell_type": "markdown",
   "id": "722e6a51",
   "metadata": {},
   "source": [
    "## SVC Poly"
   ]
  },
  {
   "cell_type": "markdown",
   "id": "739bc003",
   "metadata": {},
   "source": [
    "###  🤖 Grid Searching"
   ]
  },
  {
   "cell_type": "code",
   "execution_count": null,
   "id": "0e1752c7",
   "metadata": {},
   "outputs": [],
   "source": [
    "# Creating a parameter grid: map the parameter names to the values that should be searched in a dictionary\n",
    "param_grid = {'C':np.arange(1,50,1),\n",
    "              'gamma':[1,0.1,0.001,0.0001],\n",
    "             'degree': np.arange(1,10,1)}\n",
    "\n",
    "# GridSearching\n",
    "gridsearch_svc = GridSearchCV(SVC(kernel = 'poly'), \n",
    "                          param_grid, n_jobs = -1, \n",
    "                          scoring = 'recall', cv = 5)\n",
    "\n",
    "# Fitting gridsearch on X and y\n",
    "gridsearch_svc.fit(X_train, y_train)"
   ]
  },
  {
   "cell_type": "code",
   "execution_count": null,
   "id": "fd1e8c5a",
   "metadata": {},
   "outputs": [],
   "source": [
    "# Best estimator obtained from grid searching\n",
    "best_poly_svc = gridsearch_svc.best_estimator_\n",
    "best_poly_svc"
   ]
  },
  {
   "cell_type": "markdown",
   "id": "ec5b12a9",
   "metadata": {},
   "source": [
    "### Best SVC Poly"
   ]
  },
  {
   "cell_type": "code",
   "execution_count": null,
   "id": "c9ccf2be",
   "metadata": {},
   "outputs": [],
   "source": [
    "# Predicting X_test\n",
    "best_poly_pred = best_poly_svc.predict(X_test)"
   ]
  },
  {
   "cell_type": "code",
   "execution_count": null,
   "id": "79603691",
   "metadata": {},
   "outputs": [],
   "source": [
    "# Confusion matrix\n",
    "cm_poly_svc = confusion_matrix(y_test, best_poly_pred)\n",
    "\n",
    "disp = ConfusionMatrixDisplay(confusion_matrix=cm_poly_svc,\n",
    "                             display_labels=['Demented','Nondemented'])\n",
    "disp.plot(cmap = 'viridis')\n",
    "plt.grid(visible = None)\n",
    "plt.show()"
   ]
  },
  {
   "cell_type": "code",
   "execution_count": null,
   "id": "151995ef",
   "metadata": {},
   "outputs": [],
   "source": [
    "# Recall score\n",
    "recall_score(y_test, best_poly_pred)"
   ]
  },
  {
   "cell_type": "markdown",
   "id": "a1b3ec78",
   "metadata": {},
   "source": [
    "## SVC Rbf"
   ]
  },
  {
   "cell_type": "markdown",
   "id": "436edc34",
   "metadata": {},
   "source": [
    "### Grid Searching"
   ]
  },
  {
   "cell_type": "code",
   "execution_count": null,
   "id": "ea66cf4b",
   "metadata": {},
   "outputs": [],
   "source": [
    "# Creating a parameter grid: map the parameter names to the values that should be searched in a dictionary\n",
    "param_grid = {'C':np.arange(1,200,1),\n",
    "              'gamma':[1,0.1,0.001,0.0001]}\n",
    "\n",
    "# GridSearching\n",
    "gridsearch_svc = GridSearchCV(SVC(kernel = 'rbf'), \n",
    "                          param_grid, n_jobs = -1, \n",
    "                          scoring = 'recall', cv = 5)\n",
    "\n",
    "# Fitting gridsearch on X and y\n",
    "gridsearch_svc.fit(X_train, y_train)"
   ]
  },
  {
   "cell_type": "code",
   "execution_count": null,
   "id": "ad1054a3",
   "metadata": {},
   "outputs": [],
   "source": [
    "# Best estimator obtained from grid searching\n",
    "best_rbf_svc = gridsearch_svc.best_estimator_\n",
    "best_rbf_svc"
   ]
  },
  {
   "cell_type": "markdown",
   "id": "3562381d",
   "metadata": {},
   "source": [
    "### Best SVC Rbf"
   ]
  },
  {
   "cell_type": "code",
   "execution_count": null,
   "id": "791a767a",
   "metadata": {},
   "outputs": [],
   "source": [
    "# Predicting X_test\n",
    "best_rbf_pred = best_rbf_svc.predict(X_test)"
   ]
  },
  {
   "cell_type": "code",
   "execution_count": null,
   "id": "5f2c914c",
   "metadata": {},
   "outputs": [],
   "source": [
    "# Confusion matrix\n",
    "cm_rbf_svc = confusion_matrix(y_test, best_rbf_pred)\n",
    "\n",
    "disp = ConfusionMatrixDisplay(confusion_matrix=cm_rbf_svc,\n",
    "                             display_labels=['Demented','Nondemented'])\n",
    "disp.plot(cmap = 'viridis')\n",
    "plt.grid(visible = None)\n",
    "plt.show()"
   ]
  },
  {
   "cell_type": "code",
   "execution_count": null,
   "id": "35a8f649",
   "metadata": {},
   "outputs": [],
   "source": [
    "# Recall score\n",
    "recall_score(y_test, best_rbf_pred)"
   ]
  },
  {
   "cell_type": "markdown",
   "id": "725ceb5e",
   "metadata": {},
   "source": [
    "#  🤹 K Neighbors Classifier"
   ]
  },
  {
   "cell_type": "markdown",
   "id": "aa096b19",
   "metadata": {},
   "source": [
    "ELBOW METHOD"
   ]
  },
  {
   "cell_type": "code",
   "execution_count": null,
   "id": "86c69a07",
   "metadata": {},
   "outputs": [],
   "source": [
    "# Instantiating KNeighborsClassifier\n",
    "neigh = KNeighborsClassifier()"
   ]
  },
  {
   "cell_type": "markdown",
   "id": "585b8eef",
   "metadata": {},
   "source": [
    "###  🤖 Grid Searching"
   ]
  },
  {
   "cell_type": "code",
   "execution_count": null,
   "id": "c65ab898",
   "metadata": {},
   "outputs": [],
   "source": [
    "# Defining the parameter values that should be searched\n",
    "k_range = list(range(1, 31))\n",
    "\n",
    "# Creating a parameter grid: map the parameter names to the values that should be searched\n",
    "param_grid = dict(n_neighbors=k_range)"
   ]
  },
  {
   "cell_type": "code",
   "execution_count": null,
   "id": "f96404da",
   "metadata": {},
   "outputs": [],
   "source": [
    "# Performing a grid search\n",
    "grid = GridSearchCV(neigh, \n",
    "                    param_grid, \n",
    "                    cv=10, \n",
    "                    scoring='recall')"
   ]
  },
  {
   "cell_type": "code",
   "execution_count": null,
   "id": "a858fc7e",
   "metadata": {},
   "outputs": [],
   "source": [
    "# Fitting grid on train set\n",
    "grid.fit(X_train, y_train)"
   ]
  },
  {
   "cell_type": "code",
   "execution_count": null,
   "id": "0911ee02",
   "metadata": {},
   "outputs": [],
   "source": [
    "best_neigh = grid.best_estimator_"
   ]
  },
  {
   "cell_type": "markdown",
   "id": "0a1bc81f",
   "metadata": {},
   "source": [
    "### Best Neigh model"
   ]
  },
  {
   "cell_type": "code",
   "execution_count": null,
   "id": "e0d9adc4",
   "metadata": {},
   "outputs": [],
   "source": [
    "# Fitting KNeighborsClassifier\n",
    "best_neigh.fit(X_train, y_train)"
   ]
  },
  {
   "cell_type": "code",
   "execution_count": null,
   "id": "b5b02609",
   "metadata": {},
   "outputs": [],
   "source": [
    "best_neigh_pred = best_neigh.predict(X_test)"
   ]
  },
  {
   "cell_type": "code",
   "execution_count": null,
   "id": "120091ea",
   "metadata": {},
   "outputs": [],
   "source": [
    "# Confusion matrix\n",
    "cm_neigh = confusion_matrix(y_test, best_neigh_pred)\n",
    "\n",
    "disp = ConfusionMatrixDisplay(confusion_matrix=cm_neigh,\n",
    "                             display_labels=['Demented','Nondemented'])\n",
    "disp.plot(cmap = 'viridis')\n",
    "plt.grid(visible = None)\n",
    "plt.show()"
   ]
  },
  {
   "cell_type": "code",
   "execution_count": null,
   "id": "afc1a9c5",
   "metadata": {},
   "outputs": [],
   "source": [
    "recall_score(y_test, best_neigh_pred)"
   ]
  },
  {
   "cell_type": "markdown",
   "id": "7fb88f81",
   "metadata": {},
   "source": [
    "# Ensemble"
   ]
  },
  {
   "cell_type": "markdown",
   "id": "36da8315",
   "metadata": {},
   "source": [
    "## 🌳Decision Tree"
   ]
  },
  {
   "cell_type": "markdown",
   "id": "baa89e11",
   "metadata": {
    "heading_collapsed": true
   },
   "source": [
    "### Trial (just to practice)"
   ]
  },
  {
   "cell_type": "code",
   "execution_count": null,
   "id": "712b3483",
   "metadata": {
    "hidden": true
   },
   "outputs": [],
   "source": [
    "np.unique(y_train, return_counts = True)"
   ]
  },
  {
   "cell_type": "code",
   "execution_count": null,
   "id": "cc88c292",
   "metadata": {
    "hidden": true
   },
   "outputs": [],
   "source": [
    "# Instantiating Decision Tree\n",
    "tree_clf = DecisionTreeClassifier(max_depth = 5)"
   ]
  },
  {
   "cell_type": "code",
   "execution_count": null,
   "id": "6677aa45",
   "metadata": {
    "hidden": true
   },
   "outputs": [],
   "source": [
    "# Fitting decision tree\n",
    "tree_clf.fit(X_train_trial,y_train)"
   ]
  },
  {
   "cell_type": "code",
   "execution_count": null,
   "id": "813591ad",
   "metadata": {
    "hidden": true
   },
   "outputs": [],
   "source": [
    "# Predicting X_test\n",
    "prediction = tree_clf.predict(X_test)\n",
    "prediction"
   ]
  },
  {
   "cell_type": "code",
   "execution_count": null,
   "id": "c2ade7aa",
   "metadata": {
    "hidden": true
   },
   "outputs": [],
   "source": [
    "# Accuracy\n",
    "recall_score(y_test, prediction)"
   ]
  },
  {
   "cell_type": "code",
   "execution_count": null,
   "id": "221fca1b",
   "metadata": {
    "hidden": true
   },
   "outputs": [],
   "source": [
    "# Export model graph\n",
    "export_graphviz(tree_clf, out_file=\"oasis1_tree.dot\", \n",
    "                feature_names=X_train_trial.columns,\n",
    "                class_names=['nondemented', 'demented'], \n",
    "                rounded=True,\n",
    "                filled=True,\n",
    "                rotate = True,\n",
    "                fontname = 'futura')\n",
    "\n",
    "# Import model graph\n",
    "with open(\"oasis1_tree.dot\") as f:\n",
    "    dot_graph = f.read()\n",
    "    display(graphviz.Source(dot_graph))"
   ]
  },
  {
   "cell_type": "markdown",
   "id": "d9c14311",
   "metadata": {},
   "source": [
    "### 🤖 Grid Searching "
   ]
  },
  {
   "cell_type": "code",
   "execution_count": null,
   "id": "928d7d05",
   "metadata": {},
   "outputs": [],
   "source": [
    "# Parameters to grid search\n",
    "parameters = {'criterion': ['gini', 'entropy'],\n",
    "              'max_depth': range(1,10),\n",
    "              'min_samples_split': range(2,10),\n",
    "              'min_samples_leaf': range(2,10)\n",
    "             #'max_features': range(0,len(X_train.columns),\n",
    "              }"
   ]
  },
  {
   "cell_type": "code",
   "execution_count": null,
   "id": "6cb5b770",
   "metadata": {},
   "outputs": [],
   "source": [
    "# GridSearching\n",
    "gridsearch = GridSearchCV(DecisionTreeClassifier(), \n",
    "                          parameters, n_jobs = -1, \n",
    "                          scoring = 'recall', cv = 5)\n",
    "\n",
    "# Fitting gridsearch on X and y\n",
    "gridsearch.fit(X_train, y_train)"
   ]
  },
  {
   "cell_type": "code",
   "execution_count": null,
   "id": "e3d08de1",
   "metadata": {},
   "outputs": [],
   "source": [
    "# Best score according to gridsearch\n",
    "gridsearch.best_score_"
   ]
  },
  {
   "cell_type": "code",
   "execution_count": null,
   "id": "e9ee485f",
   "metadata": {},
   "outputs": [],
   "source": [
    "# Best parameters\n",
    "gridsearch.best_params_"
   ]
  },
  {
   "cell_type": "markdown",
   "id": "79e2471c",
   "metadata": {},
   "source": [
    "### 🌲 Best Tree"
   ]
  },
  {
   "cell_type": "code",
   "execution_count": null,
   "id": "10db7a40",
   "metadata": {},
   "outputs": [],
   "source": [
    "# Instantiating best tree\n",
    "best_tree = gridsearch.best_estimator_\n",
    "\n",
    "# Fitting best tree\n",
    "best_tree.fit(X_train, y_train)"
   ]
  },
  {
   "cell_type": "code",
   "execution_count": null,
   "id": "16bc3e0b",
   "metadata": {},
   "outputs": [],
   "source": [
    "# Predictions\n",
    "y_pred = best_tree.predict(X_test)\n",
    "y_pred"
   ]
  },
  {
   "cell_type": "code",
   "execution_count": null,
   "id": "e579bf60",
   "metadata": {},
   "outputs": [],
   "source": [
    "# Recall score\n",
    "recall_score(y_test, y_pred)"
   ]
  },
  {
   "cell_type": "code",
   "execution_count": null,
   "id": "bb3c4eca",
   "metadata": {},
   "outputs": [],
   "source": [
    "# Predictions on the test set\n",
    "y_tree_pred = best_tree.predict(X_test)\n",
    "y_tree_pred"
   ]
  },
  {
   "cell_type": "code",
   "execution_count": null,
   "id": "38b0f321",
   "metadata": {},
   "outputs": [],
   "source": [
    "# Confusion Matrix\n",
    "tree_cm = confusion_matrix(y_test, y_tree_pred)"
   ]
  },
  {
   "cell_type": "code",
   "execution_count": null,
   "id": "07a24457",
   "metadata": {},
   "outputs": [],
   "source": [
    "disp = ConfusionMatrixDisplay(confusion_matrix=tree_cm,\n",
    "                             display_labels=[\"nondemented\",\"demented\"])\n",
    "disp.plot(cmap = 'plasma')\n",
    "\n",
    "plt.grid(visible = False)\n",
    "plt.show()"
   ]
  },
  {
   "cell_type": "code",
   "execution_count": null,
   "id": "19087335",
   "metadata": {},
   "outputs": [],
   "source": [
    "y_train.value_counts()"
   ]
  },
  {
   "cell_type": "code",
   "execution_count": null,
   "id": "7debd9e1",
   "metadata": {},
   "outputs": [],
   "source": [
    "y_test.value_counts()\n",
    "# We want to capture all 23 people with dementia"
   ]
  },
  {
   "cell_type": "code",
   "execution_count": null,
   "id": "effc7f6d",
   "metadata": {},
   "outputs": [],
   "source": [
    "# Export model graph\n",
    "export_graphviz(best_tree, out_file=\"best_tree.dot\", \n",
    "                feature_names=X_train_trial.columns,\n",
    "                class_names=['nondemented', 'demented'], \n",
    "                rounded=True,\n",
    "                filled=True,\n",
    "                rotate = True,\n",
    "                fontname = 'futura')\n",
    "\n",
    "# Import model graph\n",
    "with open(\"best_tree.dot\") as f:\n",
    "    dot_graph = f.read()\n",
    "    display(graphviz.Source(dot_graph))"
   ]
  },
  {
   "cell_type": "markdown",
   "id": "c17f8869",
   "metadata": {},
   "source": [
    "<big> Conclusion: </big>\n",
    "\n",
    "y_train = 76 demented, 100 nondemented\n",
    "\n",
    "y_pred = 61 demented, 115 nondemented"
   ]
  },
  {
   "cell_type": "markdown",
   "id": "b3cf05df",
   "metadata": {},
   "source": [
    "## Random Forest"
   ]
  },
  {
   "cell_type": "markdown",
   "id": "eaea8058",
   "metadata": {},
   "source": [
    "### Grid Searching"
   ]
  },
  {
   "cell_type": "code",
   "execution_count": null,
   "id": "b8a05ea9",
   "metadata": {},
   "outputs": [],
   "source": [
    "random_grid = {'n_estimators': n_estimators,\n",
    "               'max_features': max_features,\n",
    "               'max_depth': max_depth,\n",
    "               'min_samples_split': min_samples_split,\n",
    "               'min_samples_leaf': min_samples_leaf,\n",
    "               'bootstrap': bootstrap}"
   ]
  },
  {
   "cell_type": "code",
   "execution_count": null,
   "id": "86fda036",
   "metadata": {},
   "outputs": [],
   "source": [
    "rf_random = RandomizedSearchCV(estimator = rf, \n",
    "                               param_distributions = random_grid, \n",
    "                               n_iter = 100, \n",
    "                               cv = 5, \n",
    "                               verbose=2, \n",
    "                               random_state=42, \n",
    "                               n_jobs = -1)"
   ]
  },
  {
   "cell_type": "markdown",
   "id": "5ff03707",
   "metadata": {},
   "source": [
    "### Best Forest"
   ]
  },
  {
   "cell_type": "code",
   "execution_count": null,
   "id": "60049088",
   "metadata": {},
   "outputs": [],
   "source": [
    "# Defining best estimator for random forest\n",
    "best_rf = rf_random.best_estimator_\n",
    "\n",
    "# Fitting best random forest\n",
    "best_rf.fit(X_train, y_train)"
   ]
  },
  {
   "cell_type": "markdown",
   "id": "5d1ed483",
   "metadata": {},
   "source": [
    "# XGBoost\n",
    "\n",
    "- Sequential method\n",
    "- Reduce bias\n",
    "- Best weak learners given more weight"
   ]
  },
  {
   "cell_type": "code",
   "execution_count": null,
   "id": "5d03fbb9",
   "metadata": {},
   "outputs": [],
   "source": [
    "# Instantiating classifier\n",
    "xgb_cl = xgb.XGBClassifier(objective=\"binary:logistic\")\n",
    "\n",
    "# Fit\n",
    "xgb_cl.fit(X_train, y_train)\n",
    "\n",
    "# Predict\n",
    "preds = xgb_cl.predict(X_test)\n",
    "\n",
    "# Score\n",
    "recall_score(y_test, preds)"
   ]
  },
  {
   "cell_type": "markdown",
   "id": "31b5245f",
   "metadata": {},
   "source": [
    "### Grid Searching"
   ]
  },
  {
   "cell_type": "code",
   "execution_count": null,
   "id": "5a84f4f1",
   "metadata": {},
   "outputs": [],
   "source": [
    "param_grid = {\n",
    "    \"max_depth\": [3, 4, 5, 7],\n",
    "    \"learning_rate\": [0.1, 0.01, 0.05],\n",
    "    \"gamma\": [0, 0.25, 1],\n",
    "    \"reg_lambda\": [0, 1, 10],\n",
    "    \"scale_pos_weight\": [1, 3, 5],\n",
    "    \"subsample\": [0.8],\n",
    "    \"colsample_bytree\": [0.5],\n",
    "}"
   ]
  },
  {
   "cell_type": "code",
   "execution_count": null,
   "id": "d1b2476e",
   "metadata": {},
   "outputs": [],
   "source": [
    "grid_cv = GridSearchCV(xgb_cl, \n",
    "                       param_grid, \n",
    "                       n_jobs=-1, \n",
    "                       cv=3, \n",
    "                       scoring=\"recall\")"
   ]
  },
  {
   "cell_type": "code",
   "execution_count": null,
   "id": "420565de",
   "metadata": {},
   "outputs": [],
   "source": [
    "best_xgb = grid_cv.best_estimator_"
   ]
  },
  {
   "cell_type": "code",
   "execution_count": null,
   "id": "d0432580",
   "metadata": {},
   "outputs": [],
   "source": [
    "best_xgb.fit(X_train, y_train)"
   ]
  },
  {
   "cell_type": "code",
   "execution_count": null,
   "id": "85c9a2e9",
   "metadata": {},
   "outputs": [],
   "source": [
    "# Predict\n",
    "best_xgb_pred = best_xgb.predict(X_test)\n",
    "\n",
    "# Score\n",
    "recall_score(y_test, best_xgb_pred)"
   ]
  },
  {
   "cell_type": "markdown",
   "id": "c03028a9",
   "metadata": {},
   "source": [
    "# Exporting Data"
   ]
  },
  {
   "cell_type": "code",
   "execution_count": null,
   "id": "c3ac7ebf",
   "metadata": {},
   "outputs": [],
   "source": [
    "frames=[X_scaled, y]\n",
    "frames"
   ]
  },
  {
   "cell_type": "code",
   "execution_count": null,
   "id": "c3b2d0d3",
   "metadata": {},
   "outputs": [],
   "source": [
    "preprocessed_oasis1 = pd.concat(frames, axis =1)"
   ]
  },
  {
   "cell_type": "code",
   "execution_count": null,
   "id": "765293d6",
   "metadata": {},
   "outputs": [],
   "source": [
    "preprocessed_oasis1.to_csv(r'~/code/mkvph0ch/memobrain/notebooks/preprocessed_oasis1.csv')"
   ]
  },
  {
   "cell_type": "markdown",
   "id": "afeac347",
   "metadata": {},
   "source": [
    "# Recall Scores"
   ]
  },
  {
   "cell_type": "markdown",
   "id": "a36d41ea",
   "metadata": {},
   "source": [
    "<big> <b> Model names </b> </big>\n",
    "\n",
    "<big> <font color = 'steelblue'> SVC </color> </big>\n",
    "\n",
    "Linear: best_linear_svc - 78.2\n",
    "\n",
    "\n",
    "Polynomial: best_poly_svc - 69.6 \n",
    "    \n",
    "\n",
    "Rbf: best_rbf_svc - 82.6  \n",
    "\n",
    "\n",
    "<big> <font color = 'steelblue'> K Neighbors Classifier </color> <big>\n",
    "\n",
    "best_neigh - 65.0\n",
    "\n",
    "<big> <font color = 'steelblue'> Decision Tree </color> </big>\n",
    "    \n",
    "best_tree - 78.3\n"
   ]
  },
  {
   "cell_type": "markdown",
   "id": "aca04f15",
   "metadata": {},
   "source": [
    "# Evaluating OASIS2"
   ]
  },
  {
   "cell_type": "markdown",
   "id": "bf5b9c02",
   "metadata": {},
   "source": [
    "## Importing Data"
   ]
  },
  {
   "cell_type": "code",
   "execution_count": null,
   "id": "8866a6b8",
   "metadata": {},
   "outputs": [],
   "source": [
    "oasis2_cs_path = '../raw_data/OASIS2/preprocessed_oasis2.csv'\n",
    "oasis2 = pd.read_csv(oasis2_cs_path)"
   ]
  },
  {
   "cell_type": "code",
   "execution_count": null,
   "id": "109c2fc8",
   "metadata": {},
   "outputs": [],
   "source": [
    "oasis2"
   ]
  },
  {
   "cell_type": "code",
   "execution_count": null,
   "id": "11570d3f",
   "metadata": {},
   "outputs": [],
   "source": [
    "X2 = oasis2.drop(columns = 'CDR')\n",
    "y2 = oasis2['CDR']"
   ]
  },
  {
   "cell_type": "code",
   "execution_count": null,
   "id": "c5bf4678",
   "metadata": {},
   "outputs": [],
   "source": [
    "X_train2, X_test2, ytrain2, y_test2 = train_test_split(X2, y2, test_size=0.30, random_state=42)"
   ]
  },
  {
   "cell_type": "markdown",
   "id": "53cefcf2",
   "metadata": {},
   "source": [
    "## Evaluating"
   ]
  },
  {
   "cell_type": "code",
   "execution_count": null,
   "id": "103e7cf4",
   "metadata": {},
   "outputs": [],
   "source": []
  },
  {
   "cell_type": "code",
   "execution_count": null,
   "id": "2fcfe320",
   "metadata": {},
   "outputs": [],
   "source": []
  }
 ],
 "metadata": {
  "kernelspec": {
   "display_name": "Python 3 (ipykernel)",
   "language": "python",
   "name": "python3"
  },
  "language_info": {
   "codemirror_mode": {
    "name": "ipython",
    "version": 3
   },
   "file_extension": ".py",
   "mimetype": "text/x-python",
   "name": "python",
   "nbconvert_exporter": "python",
   "pygments_lexer": "ipython3",
   "version": "3.8.12"
  },
  "toc": {
   "base_numbering": 1,
   "nav_menu": {},
   "number_sections": true,
   "sideBar": true,
   "skip_h1_title": false,
   "title_cell": "Table of Contents",
   "title_sidebar": "Contents",
   "toc_cell": false,
   "toc_position": {
    "height": "calc(100% - 180px)",
    "left": "10px",
    "top": "150px",
    "width": "286.319px"
   },
   "toc_section_display": true,
   "toc_window_display": true
  }
 },
 "nbformat": 4,
 "nbformat_minor": 5
}
